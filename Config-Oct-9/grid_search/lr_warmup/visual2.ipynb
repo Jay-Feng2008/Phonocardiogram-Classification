{
 "cells": [
  {
   "cell_type": "code",
   "execution_count": 7,
   "id": "9e5ece31",
   "metadata": {},
   "outputs": [],
   "source": [
    "import numpy as np\n",
    "import matplotlib.pyplot as plt"
   ]
  },
  {
   "cell_type": "code",
   "execution_count": 15,
   "id": "ec69ae12",
   "metadata": {},
   "outputs": [],
   "source": [
    "logs = np.load(\"history2.npy\", allow_pickle=True)"
   ]
  },
  {
   "cell_type": "code",
   "execution_count": 16,
   "id": "998bf2f7",
   "metadata": {},
   "outputs": [
    {
     "data": {
      "text/plain": [
       "<matplotlib.image.AxesImage at 0x1266ba2c0>"
      ]
     },
     "execution_count": 16,
     "metadata": {},
     "output_type": "execute_result"
    },
    {
     "data": {
      "image/png": "[encoded data removed]",
      "text/plain": [
       "<Figure size 640x480 with 1 Axes>"
      ]
     },
     "metadata": {},
     "output_type": "display_data"
    }
   ],
   "source": [
    "testing_loss = np.zeros((3, 10))\n",
    "\n",
    "x_counter = 0\n",
    "y_counter = 0\n",
    "for i in range(len(logs)):\n",
    "    testing_loss[y_counter][x_counter % 10] = logs[i]['logs']['testing_loss']\n",
    "    x_counter += 1\n",
    "    if x_counter % 10 == 0:\n",
    "        y_counter += 1\n",
    "        \n",
    "plt.imshow(testing_loss)"
   ]
  },
  {
   "cell_type": "code",
   "execution_count": 17,
   "id": "3e49b2f5",
   "metadata": {},
   "outputs": [
    {
     "data": {
      "text/plain": [
       "<matplotlib.image.AxesImage at 0x1264c9b10>"
      ]
     },
     "execution_count": 17,
     "metadata": {},
     "output_type": "execute_result"
    },
    {
     "data": {
      "image/png": "[encoded data removed]",
      "text/plain": [
       "<Figure size 640x480 with 1 Axes>"
      ]
     },
     "metadata": {},
     "output_type": "display_data"
    }
   ],
   "source": [
    "testing_acc = np.zeros((3, 10))\n",
    "\n",
    "x_counter = 0\n",
    "y_counter = 0\n",
    "for i in range(len(logs)):\n",
    "    testing_acc[y_counter][x_counter % 10] = logs[i]['logs']['testing_acc']\n",
    "    x_counter += 1\n",
    "    if x_counter % 10 == 0:\n",
    "        y_counter += 1\n",
    "        \n",
    "plt.imshow(testing_acc)"
   ]
  },
  {
   "cell_type": "code",
   "execution_count": 18,
   "id": "586a569e",
   "metadata": {},
   "outputs": [
    {
     "data": {
      "text/plain": [
       "<matplotlib.image.AxesImage at 0x126579b40>"
      ]
     },
     "execution_count": 18,
     "metadata": {},
     "output_type": "execute_result"
    },
    {
     "data": {
      "image/png": "[encoded data removed]",
      "text/plain": [
       "<Figure size 640x480 with 1 Axes>"
      ]
     },
     "metadata": {},
     "output_type": "display_data"
    }
   ],
   "source": [
    "training_loss = np.zeros((3, 10))\n",
    "\n",
    "x_counter = 0\n",
    "y_counter = 0\n",
    "for i in range(len(logs)):\n",
    "    training_loss[y_counter][x_counter % 10] = logs[i]['logs']['training_loss']\n",
    "    x_counter += 1\n",
    "    if x_counter % 10 == 0:\n",
    "        y_counter += 1\n",
    "        \n",
    "plt.imshow(training_loss)"
   ]
  },
  {
   "cell_type": "code",
   "execution_count": 19,
   "id": "33820f01",
   "metadata": {},
   "outputs": [
    {
     "data": {
      "text/plain": [
       "<matplotlib.image.AxesImage at 0x1279a9540>"
      ]
     },
     "execution_count": 19,
     "metadata": {},
     "output_type": "execute_result"
    },
    {
     "data": {
      "image/png": "[encoded data removed]",
      "text/plain": [
       "<Figure size 640x480 with 1 Axes>"
      ]
     },
     "metadata": {},
     "output_type": "display_data"
    }
   ],
   "source": [
    "training_acc = np.zeros((3, 10))\n",
    "\n",
    "x_counter = 0\n",
    "y_counter = 0\n",
    "for i in range(len(logs)):\n",
    "    training_acc[y_counter][x_counter % 10] = logs[i]['logs']['training_acc']\n",
    "    x_counter += 1\n",
    "    if x_counter % 10 == 0:\n",
    "        y_counter += 1\n",
    "        \n",
    "plt.imshow(training_acc)"
   ]
  },
  {
   "cell_type": "markdown",
   "id": "53ab2719",
   "metadata": {},
   "source": [
    "From the plots above, we can see that the optimal lr are in [0.125, 0.1166, 0.1083, 0.1,], the optimal warmup steps are in [4000, 6000, 8000]."
   ]
  }
 ],
 "metadata": {
  "kernelspec": {
   "display_name": "Python 3.10 (tensorflow)",
   "language": "python",
   "name": "tensorflow"
  },
  "language_info": {
   "codemirror_mode": {
    "name": "ipython",
    "version": 3
   },
   "file_extension": ".py",
   "mimetype": "text/x-python",
   "name": "python",
   "nbconvert_exporter": "python",
   "pygments_lexer": "ipython3",
   "version": "3.10.10"
  }
 },
 "nbformat": 4,
 "nbformat_minor": 5
}
