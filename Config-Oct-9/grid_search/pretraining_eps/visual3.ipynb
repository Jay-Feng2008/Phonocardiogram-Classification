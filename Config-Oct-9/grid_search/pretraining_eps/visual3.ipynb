{
 "cells": [
  {
   "cell_type": "code",
   "execution_count": 1,
   "id": "9e5ece31",
   "metadata": {},
   "outputs": [],
   "source": [
    "import numpy as np\n",
    "import matplotlib.pyplot as plt"
   ]
  },
  {
   "cell_type": "code",
   "execution_count": 2,
   "id": "ec69ae12",
   "metadata": {},
   "outputs": [],
   "source": [
    "logs = np.load(\"history3.npy\", allow_pickle=True)"
   ]
  },
  {
   "cell_type": "code",
   "execution_count": 4,
   "id": "998bf2f7",
   "metadata": {},
   "outputs": [
    {
     "data": {
      "text/plain": [
       "<matplotlib.image.AxesImage at 0x11e85e050>"
      ]
     },
     "execution_count": 4,
     "metadata": {},
     "output_type": "execute_result"
    },
    {
     "data": {
      "image/png": "[encoded data removed]",
      "text/plain": [
       "<Figure size 640x480 with 1 Axes>"
      ]
     },
     "metadata": {},
     "output_type": "display_data"
    }
   ],
   "source": [
    "testing_loss = np.zeros((1, 21))\n",
    "\n",
    "x_counter = 0\n",
    "y_counter = 0\n",
    "for i in range(len(logs)):\n",
    "    testing_loss[y_counter][x_counter % 21] = logs[i]['logs']['testing_loss']\n",
    "    x_counter += 1\n",
    "    if x_counter % 21 == 0:\n",
    "        y_counter += 1\n",
    "        \n",
    "plt.imshow(testing_loss)"
   ]
  },
  {
   "cell_type": "code",
   "execution_count": 5,
   "id": "3e49b2f5",
   "metadata": {},
   "outputs": [
    {
     "data": {
      "text/plain": [
       "<matplotlib.image.AxesImage at 0x11e749960>"
      ]
     },
     "execution_count": 5,
     "metadata": {},
     "output_type": "execute_result"
    },
    {
     "data": {
      "image/png": "[encoded data removed]",
      "text/plain": [
       "<Figure size 640x480 with 1 Axes>"
      ]
     },
     "metadata": {},
     "output_type": "display_data"
    }
   ],
   "source": [
    "testing_acc = np.zeros((1, 21))\n",
    "\n",
    "x_counter = 0\n",
    "y_counter = 0\n",
    "for i in range(len(logs)):\n",
    "    testing_acc[y_counter][x_counter % 21] = logs[i]['logs']['testing_acc']\n",
    "    x_counter += 1\n",
    "    if x_counter % 21 == 0:\n",
    "        y_counter += 1\n",
    "        \n",
    "plt.imshow(testing_acc)"
   ]
  },
  {
   "cell_type": "code",
   "execution_count": 6,
   "id": "586a569e",
   "metadata": {},
   "outputs": [
    {
     "data": {
      "text/plain": [
       "<matplotlib.image.AxesImage at 0x11e759f30>"
      ]
     },
     "execution_count": 6,
     "metadata": {},
     "output_type": "execute_result"
    },
    {
     "data": {
      "image/png": "[encoded data removed]",
      "text/plain": [
       "<Figure size 640x480 with 1 Axes>"
      ]
     },
     "metadata": {},
     "output_type": "display_data"
    }
   ],
   "source": [
    "training_loss = np.zeros((1, 21))\n",
    "\n",
    "x_counter = 0\n",
    "y_counter = 0\n",
    "for i in range(len(logs)):\n",
    "    training_loss[y_counter][x_counter % 21] = logs[i]['logs']['training_loss']\n",
    "    x_counter += 1\n",
    "    if x_counter % 21 == 0:\n",
    "        y_counter += 1\n",
    "        \n",
    "plt.imshow(training_loss)"
   ]
  },
  {
   "cell_type": "code",
   "execution_count": 7,
   "id": "33820f01",
   "metadata": {},
   "outputs": [
    {
     "data": {
      "text/plain": [
       "<matplotlib.image.AxesImage at 0x11ebbc6d0>"
      ]
     },
     "execution_count": 7,
     "metadata": {},
     "output_type": "execute_result"
    },
    {
     "data": {
      "image/png": "[encoded data removed]",
      "text/plain": [
       "<Figure size 640x480 with 1 Axes>"
      ]
     },
     "metadata": {},
     "output_type": "display_data"
    }
   ],
   "source": [
    "training_acc = np.zeros((1, 21))\n",
    "\n",
    "x_counter = 0\n",
    "y_counter = 0\n",
    "for i in range(len(logs)):\n",
    "    training_acc[y_counter][x_counter % 21] = logs[i]['logs']['training_acc']\n",
    "    x_counter += 1\n",
    "    if x_counter % 21 == 0:\n",
    "        y_counter += 1\n",
    "        \n",
    "plt.imshow(training_acc)"
   ]
  },
  {
   "cell_type": "markdown",
   "id": "53ab2719",
   "metadata": {},
   "source": [
    "From the plots above, we can see that the optimal pretraining_steps is 2, eps is 26"
   ]
  }
 ],
 "metadata": {
  "kernelspec": {
   "display_name": "tensorflow",
   "language": "python",
   "name": "python3"
  },
  "language_info": {
   "codemirror_mode": {
    "name": "ipython",
    "version": 3
   },
   "file_extension": ".py",
   "mimetype": "text/x-python",
   "name": "python",
   "nbconvert_exporter": "python",
   "pygments_lexer": "ipython3",
   "version": "3.10.10"
  }
 },
 "nbformat": 4,
 "nbformat_minor": 5
}
