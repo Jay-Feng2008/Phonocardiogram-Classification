{
 "cells": [
  {
   "cell_type": "code",
   "execution_count": 1,
   "id": "d4f23630",
   "metadata": {},
   "outputs": [],
   "source": [
    "import numpy as np"
   ]
  },
  {
   "cell_type": "code",
   "execution_count": 2,
   "id": "6fb240b2",
   "metadata": {},
   "outputs": [],
   "source": [
    "rand = list(np.random.rand(1000))"
   ]
  },
  {
   "cell_type": "code",
   "execution_count": 3,
   "id": "c9fc1225",
   "metadata": {},
   "outputs": [],
   "source": [
    "rand_sorted = rand.copy()\n",
    "rand_sorted.sort()\n",
    "\n",
    "rand_index = []\n",
    "for x in rand_sorted:\n",
    "    rand_index.insert(0,rand.index(x))"
   ]
  },
  {
   "cell_type": "code",
   "execution_count": 4,
   "id": "7d60874c",
   "metadata": {},
   "outputs": [],
   "source": [
    "data = np.load(\"data.npz\")\n",
    "X = data['X']\n",
    "Y = data['Y']\n",
    "\n"
   ]
  },
  {
   "cell_type": "code",
   "execution_count": 6,
   "id": "01cbaedd",
   "metadata": {},
   "outputs": [],
   "source": [
    "X_new = np.ones((1,2000))\n",
    "Y_new = np.ones(1)\n",
    "for i in range(200):\n",
    "    X_tmp = np.array([X[i], X[200+i], X[400+i], X[600+i], X[800+i]], dtype=np.float32)\n",
    "    Y_tmp = np.array([Y[i], Y[200+i], Y[400+i], Y[600+i], Y[800+i]], dtype=int)\n",
    "    X_new = np.concatenate((X_new, X_tmp))\n",
    "    Y_new = np.concatenate((Y_new, Y_tmp))\n",
    "    \n",
    "X_new = np.array(X_new[1:], dtype=np.float32)\n",
    "Y_new = np.array(Y_new[1:], dtype=int)"
   ]
  },
  {
   "cell_type": "code",
   "execution_count": 7,
   "id": "2cd813e9",
   "metadata": {},
   "outputs": [],
   "source": [
    "np.savez(\"data_shuffled.npz\", X=X_new, Y=Y_new)"
   ]
  }
 ],
 "metadata": {
  "kernelspec": {
   "display_name": "Python 3.10 (tensorflow)",
   "language": "python",
   "name": "tensorflow"
  },
  "language_info": {
   "codemirror_mode": {
    "name": "ipython",
    "version": 3
   },
   "file_extension": ".py",
   "mimetype": "text/x-python",
   "name": "python",
   "nbconvert_exporter": "python",
   "pygments_lexer": "ipython3",
   "version": "3.10.10"
  }
 },
 "nbformat": 4,
 "nbformat_minor": 5
}
