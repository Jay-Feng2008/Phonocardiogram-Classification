{
 "cells": [
  {
   "cell_type": "code",
   "execution_count": 1,
   "metadata": {
    "id": "5a92ca08"
   },
   "outputs": [
    {
     "name": "stderr",
     "output_type": "stream",
     "text": [
      "2023-07-08 10:25:15.157841: I tensorflow/core/platform/cpu_feature_guard.cc:182] This TensorFlow binary is optimized to use available CPU instructions in performance-critical operations.\n",
      "To enable the following instructions: AVX2 AVX512F FMA, in other operations, rebuild TensorFlow with the appropriate compiler flags.\n"
     ]
    }
   ],
   "source": [
    "import tensorflow as tf\n",
    "from tensorflow import keras\n",
    "import numpy as np\n",
    "import pandas as pd\n",
    "import matplotlib.pyplot as plt\n",
    "from tqdm import tqdm\n",
    "from keras import layers\n",
    "import sys\n",
    "sys.path.insert(1, \"Informer-Tensorflow/models\")\n",
    "sys.path.insert(1, \"Informer-Tensorflow\")"
   ]
  },
  {
   "cell_type": "code",
   "execution_count": 2,
   "metadata": {
    "id": "96af8478"
   },
   "outputs": [],
   "source": [
    "from attn import ProbAttention, AttentionLayer"
   ]
  },
  {
   "cell_type": "code",
   "execution_count": 3,
   "metadata": {
    "id": "cdd4a815"
   },
   "outputs": [],
   "source": [
    "class MultiHeadProbAttention(tf.keras.layers.Layer):\n",
    "    def __init__(self, d_model, num_heads):\n",
    "        super(MultiHeadProbAttention, self).__init__()\n",
    "        self.d_model = d_model\n",
    "        self.num_heads = num_heads\n",
    "        self.attn = AttentionLayer(ProbAttention(False), self.d_model, self.num_heads)\n",
    "    def call(self, inputs):\n",
    "        query = inputs\n",
    "        key = inputs\n",
    "        value = inputs\n",
    "        x = self.attn([query, key, value])\n",
    "        return x\n"
   ]
  },
  {
   "cell_type": "code",
   "execution_count": 4,
   "metadata": {
    "id": "038dd8c1"
   },
   "outputs": [],
   "source": [
    "def positional_encoding(length, depth):\n",
    "    depth = depth/2\n",
    "\n",
    "    positions = np.arange(length)[:, np.newaxis]     # (seq, 1)\n",
    "    depths = np.arange(depth)[np.newaxis, :]/depth   # (1, depth)\n",
    "\n",
    "    angle_rates = 1 / (10000**depths)         # (1, depth)\n",
    "    angle_rads = positions * angle_rates      # (pos, depth)\n",
    "\n",
    "    pos_encoding = np.concatenate(\n",
    "        [np.sin(angle_rads), np.cos(angle_rads)],\n",
    "        axis=-1)\n",
    "\n",
    "    return tf.cast(pos_encoding, dtype=tf.float32)\n",
    "\n",
    "class PositionalEmbedding(tf.keras.layers.Layer):\n",
    "    def __init__(self, d_model):\n",
    "        super().__init__()\n",
    "        self.d_model = d_model\n",
    "        # self.embedding = tf.keras.layers.Embedding(vocab_size, d_model, mask_zero=True)\n",
    "        self.pos_encoding = positional_encoding(length=2048, depth=d_model)\n",
    "\n",
    "    # def compute_mask(self, *args, **kwargs):\n",
    "    #     return self.embedding.compute_mask(*args, **kwargs)\n",
    "\n",
    "    def call(self, x):\n",
    "        length = tf.shape(x)[1]\n",
    "        # x = self.embedding(x)\n",
    "        # This factor sets the relative scale of the embedding and positonal_encoding.\n",
    "        x *= tf.math.sqrt(tf.cast(self.d_model, tf.float32))\n",
    "        x = x + self.pos_encoding[tf.newaxis, :length, :]\n",
    "        return x"
   ]
  },
  {
   "cell_type": "code",
   "execution_count": 5,
   "metadata": {
    "id": "c2b896e1"
   },
   "outputs": [],
   "source": [
    "class ConvLayer(keras.layers.Layer):\n",
    "    def __init__(self, c_in):\n",
    "        super(ConvLayer, self).__init__()\n",
    "        self.downConv = tf.keras.layers.Conv1D(\n",
    "                                  filters=c_in,\n",
    "                                  kernel_size=3,\n",
    "                                  padding='causal')\n",
    "        self.norm = tf.keras.layers.BatchNormalization()\n",
    "        self.activation = tf.keras.layers.ELU()\n",
    "        self.maxPool = tf.keras.layers.MaxPool1D(pool_size=3)#, strides=2)\n",
    "\n",
    "    def call(self, x, **kargs):\n",
    "        x = self.downConv(x)\n",
    "        x = self.norm(x)\n",
    "        x = self.activation(x)\n",
    "        x = self.maxPool(x)\n",
    "        return x"
   ]
  },
  {
   "cell_type": "code",
   "execution_count": 6,
   "metadata": {
    "id": "74a7087c"
   },
   "outputs": [],
   "source": [
    "BATCH_SIZE = 2\n",
    "def models():\n",
    "    inputs = keras.layers.Input(shape=(2000,1), batch_size=BATCH_SIZE)\n",
    "    # x = keras.layers.Dense(32, activation=\"tanh\")(inputs)\n",
    "    x = keras.layers.Conv1D(32, 1, activation='tanh')(inputs)\n",
    "    x = PositionalEmbedding(32)(x)\n",
    "    x = MultiHeadProbAttention(128, 32)(x)\n",
    "    x = ConvLayer(64)(x)\n",
    "    x = MultiHeadProbAttention(64, 32)(x)\n",
    "    x = ConvLayer(32)(x)\n",
    "    x = keras.layers.LayerNormalization()(x)\n",
    "    x = keras.layers.GlobalAveragePooling1D(data_format='channels_first')(x)\n",
    "    x = keras.layers.Dense(5, activation='softmax')(x)\n",
    "    return keras.Model(inputs, x)"
   ]
  },
  {
   "cell_type": "code",
   "execution_count": 7,
   "metadata": {
    "colab": {
     "base_uri": "https://localhost:8080/"
    },
    "id": "a47c96b0",
    "outputId": "ad367de1-3cc6-4093-d9b7-0c225fcf9ca9"
   },
   "outputs": [
    {
     "name": "stderr",
     "output_type": "stream",
     "text": [
      "2023-07-08 10:25:18.805740: I tensorflow/core/common_runtime/gpu/gpu_device.cc:1635] Created device /job:localhost/replica:0/task:0/device:GPU:0 with 22250 MB memory:  -> device: 0, name: NVIDIA GeForce RTX 3090, pci bus id: 0000:1d:00.0, compute capability: 8.6\n"
     ]
    },
    {
     "name": "stdout",
     "output_type": "stream",
     "text": [
      "[TensorShape([2, 2000, 32]), TensorShape([2, 2000, 32]), TensorShape([2, 2000, 32])]\n",
      "[TensorShape([2, 666, 64]), TensorShape([2, 666, 64]), TensorShape([2, 666, 64])]\n",
      "Model: \"model\"\n",
      "_________________________________________________________________\n",
      " Layer (type)                Output Shape              Param #   \n",
      "=================================================================\n",
      " input_1 (InputLayer)        [(2, 2000, 1)]            0         \n",
      "                                                                 \n",
      " conv1d (Conv1D)             (2, 2000, 32)             64        \n",
      "                                                                 \n",
      " positional_embedding (Posit  (2, 2000, 32)            0         \n",
      " ionalEmbedding)                                                 \n",
      "                                                                 \n",
      " multi_head_prob_attention (  (2, 2000, 128)           29184     \n",
      " MultiHeadProbAttention)                                         \n",
      "                                                                 \n",
      " conv_layer (ConvLayer)      (2, 666, 64)              24896     \n",
      "                                                                 \n",
      " multi_head_prob_attention_1  (2, 666, 64)             16640     \n",
      "  (MultiHeadProbAttention)                                       \n",
      "                                                                 \n",
      " conv_layer_1 (ConvLayer)    (2, 222, 32)              6304      \n",
      "                                                                 \n",
      " layer_normalization (LayerN  (2, 222, 32)             64        \n",
      " ormalization)                                                   \n",
      "                                                                 \n",
      " global_average_pooling1d (G  (2, 222)                 0         \n",
      " lobalAveragePooling1D)                                          \n",
      "                                                                 \n",
      " dense_8 (Dense)             (2, 5)                    1115      \n",
      "                                                                 \n",
      "=================================================================\n",
      "Total params: 78,267\n",
      "Trainable params: 78,075\n",
      "Non-trainable params: 192\n",
      "_________________________________________________________________\n"
     ]
    }
   ],
   "source": [
    "model = models()\n",
    "model.summary()\n",
    "# del model"
   ]
  },
  {
   "cell_type": "code",
   "execution_count": 8,
   "metadata": {
    "colab": {
     "base_uri": "https://localhost:8080/"
    },
    "id": "efe164a9",
    "outputId": "37693cda-48ae-4865-d853-c25ab55690af"
   },
   "outputs": [
    {
     "name": "stderr",
     "output_type": "stream",
     "text": [
      "2023-07-08 10:25:21.250572: I tensorflow/compiler/xla/stream_executor/cuda/cuda_blas.cc:637] TensorFloat-32 will be used for the matrix multiplication. This will only be logged once.\n",
      "2023-07-08 10:25:21.496814: I tensorflow/compiler/xla/stream_executor/cuda/cuda_dnn.cc:424] Loaded cuDNN version 8800\n"
     ]
    },
    {
     "data": {
      "text/plain": [
       "<tf.Tensor: shape=(2, 5), dtype=float32, numpy=\n",
       "array([[0.19999997, 0.19999997, 0.2       , 0.2       , 0.2       ],\n",
       "       [0.2       , 0.19999997, 0.19999997, 0.2       , 0.2       ]],\n",
       "      dtype=float32)>"
      ]
     },
     "execution_count": 8,
     "metadata": {},
     "output_type": "execute_result"
    }
   ],
   "source": [
    "x = tf.random.normal((BATCH_SIZE, 2000, 1))\n",
    "model(x)"
   ]
  },
  {
   "cell_type": "code",
   "execution_count": 9,
   "metadata": {
    "id": "Pqxls7OdFuBa"
   },
   "outputs": [],
   "source": [
    "data = np.load(\"data_shuffled.npz\")\n",
    "X = data[\"X\"]\n",
    "Y = data[\"Y\"]\n",
    "\n",
    "x_train = tf.reshape(X[0:850], (-1, 2000, 1))\n",
    "y_train = Y[0:850]\n",
    "x_test = tf.reshape(X[850:], (-1, 2000, 1))\n",
    "y_test = Y[850:]"
   ]
  },
  {
   "cell_type": "code",
   "execution_count": 10,
   "metadata": {
    "id": "Z2IpMQoDGE8P"
   },
   "outputs": [],
   "source": [
    "train_dataset = tf.data.Dataset.from_tensor_slices((x_train, y_train))\n",
    "train_dataset = train_dataset.shuffle(buffer_size=100000).batch(BATCH_SIZE)\n",
    "\n",
    "val_dataset = tf.data.Dataset.from_tensor_slices((x_test, y_test))\n",
    "val_dataset = val_dataset.batch(BATCH_SIZE)"
   ]
  },
  {
   "cell_type": "code",
   "execution_count": 11,
   "metadata": {
    "id": "mHS5ftloF9hF"
   },
   "outputs": [],
   "source": [
    "x = x_train[0:BATCH_SIZE]\n",
    "x_rank = tf.rank(x).numpy()\n",
    "x_norm_resize_shape = [BATCH_SIZE] + list(tf.ones(tf.rank(x), dtype=tf.int32).numpy())[1:]"
   ]
  },
  {
   "cell_type": "code",
   "execution_count": 12,
   "metadata": {
    "id": "3YkUbzm0GZF1"
   },
   "outputs": [],
   "source": [
    "def perturbation_loss(x, y, from_logits=False):\n",
    "    return keras.losses.CategoricalCrossentropy(from_logits=from_logits)(x, y)\n",
    "\n",
    "loss_fn = keras.losses.SparseCategoricalCrossentropy(from_logits=False)\n",
    "optimizer = keras.optimizers.Adam(learning_rate=1e-3)\n",
    "\n",
    "train_acc_metric = keras.metrics.SparseCategoricalAccuracy()\n",
    "val_acc_metric = keras.metrics.SparseCategoricalAccuracy()"
   ]
  },
  {
   "cell_type": "code",
   "execution_count": 13,
   "metadata": {
    "id": "z8vyGiiAGgt8"
   },
   "outputs": [],
   "source": [
    "eps = 8.     # the perturbation parameter\n",
    "sig = 1e-5   # initial perturbation StdDev\n",
    "zeta = 1e-6  # differentiation constant\n",
    "lamd = 1     # regularization parameter\n",
    "\n",
    "@tf.function\n",
    "def training_step(x, label):\n",
    "    x_p = tf.random.normal((BATCH_SIZE,2000, 1), stddev=sig)\n",
    "    x_norm = x_p\n",
    "    for i in range(x_rank-1, 0, -1):\n",
    "        x_norm = tf.norm(x_norm, ord=2, axis=int(i))\n",
    "    x_p /= tf.reshape(x_norm, (BATCH_SIZE, 1, 1))\n",
    "    x_p *= zeta\n",
    "\n",
    "\n",
    "    with tf.GradientTape() as model_tape, tf.GradientTape() as perturbation_tape:\n",
    "        perturbation_tape.watch(x_p)\n",
    "        y_p = model(x + x_p, training=True)\n",
    "        y = model(x, training=True)\n",
    "        l = perturbation_loss(y, y_p)\n",
    "        g = perturbation_tape.gradient(l, x_p)\n",
    "\n",
    "        g_norm = g\n",
    "        for i in range(x_rank-1, 0, -1):\n",
    "            g_norm = tf.norm(g_norm, ord=2, axis=int(i))\n",
    "\n",
    "        x_p = eps * g / tf.reshape(g_norm, x_norm_resize_shape)\n",
    "\n",
    "        logits = model(x, training=True)\n",
    "        loss = loss_fn(label, logits) + lamd * l / BATCH_SIZE\n",
    "        grads = model_tape.gradient(loss, model.trainable_weights)\n",
    "        optimizer.apply_gradients(zip(grads, model.trainable_weights))\n",
    "\n",
    "    train_acc_metric.update_state(label, logits)\n",
    "    return loss, train_acc_metric.result(), l, x_p, g"
   ]
  },
  {
   "cell_type": "code",
   "execution_count": 23,
   "metadata": {
    "colab": {
     "base_uri": "https://localhost:8080/",
     "height": 1000
    },
    "id": "_cymWSORGwww",
    "outputId": "9add03b9-cd1f-471f-878a-3cef95e8f86f"
   },
   "outputs": [
    {
     "name": "stderr",
     "output_type": "stream",
     "text": [
      "\r\n",
      "  0%|          | 0/100 [00:00<?, ?it/s]"
     ]
    },
    {
     "name": "stdout",
     "output_type": "stream",
     "text": [
      "\n",
      "Start of epoch 0\n",
      "Training loss: 2.0629\n",
      "Training metric: 0.4036\n",
      "perturbation loss: 1.3665\n"
     ]
    },
    {
     "name": "stderr",
     "output_type": "stream",
     "text": [
      "\r\n",
      "  1%|          | 1/100 [00:50<1:24:03, 50.94s/it]"
     ]
    },
    {
     "name": "stdout",
     "output_type": "stream",
     "text": [
      "Validation acc: 0.4200\n",
      "\n",
      "Start of epoch 1\n",
      "Training loss: 1.7958\n",
      "Training metric: 0.4100\n",
      "perturbation loss: 1.2980\n"
     ]
    },
    {
     "name": "stderr",
     "output_type": "stream",
     "text": [
      "\r\n",
      "  2%|▏         | 2/100 [01:41<1:22:45, 50.67s/it]"
     ]
    },
    {
     "name": "stdout",
     "output_type": "stream",
     "text": [
      "Validation acc: 0.5000\n",
      "\n",
      "Start of epoch 2\n",
      "Training loss: 2.1917\n",
      "Training metric: 0.4188\n",
      "perturbation loss: 1.3711\n"
     ]
    },
    {
     "name": "stderr",
     "output_type": "stream",
     "text": [
      "\r\n",
      "  3%|▎         | 3/100 [02:32<1:21:52, 50.64s/it]"
     ]
    },
    {
     "name": "stdout",
     "output_type": "stream",
     "text": [
      "Validation acc: 0.5467\n",
      "\n",
      "Start of epoch 3\n",
      "Training loss: 1.1277\n",
      "Training metric: 0.4321\n",
      "perturbation loss: 0.5946\n"
     ]
    },
    {
     "name": "stderr",
     "output_type": "stream",
     "text": [
      "\r\n",
      "  4%|▍         | 4/100 [03:23<1:21:20, 50.84s/it]"
     ]
    },
    {
     "name": "stdout",
     "output_type": "stream",
     "text": [
      "Validation acc: 0.6667\n",
      "\n",
      "Start of epoch 4\n",
      "Training loss: 3.5761\n",
      "Training metric: 0.4463\n",
      "perturbation loss: 0.9072\n"
     ]
    },
    {
     "name": "stderr",
     "output_type": "stream",
     "text": [
      "\r\n",
      "  5%|▌         | 5/100 [04:14<1:20:40, 50.95s/it]"
     ]
    },
    {
     "name": "stdout",
     "output_type": "stream",
     "text": [
      "Validation acc: 0.6067\n",
      "\n",
      "Start of epoch 5\n",
      "Training loss: 0.1929\n",
      "Training metric: 0.4623\n",
      "perturbation loss: 0.2918\n"
     ]
    },
    {
     "name": "stderr",
     "output_type": "stream",
     "text": [
      "\r\n",
      "  6%|▌         | 6/100 [05:05<1:19:53, 50.99s/it]"
     ]
    },
    {
     "name": "stdout",
     "output_type": "stream",
     "text": [
      "Validation acc: 0.7800\n",
      "\n",
      "Start of epoch 6\n",
      "Training loss: 0.4920\n",
      "Training metric: 0.4788\n",
      "perturbation loss: 0.7111\n"
     ]
    },
    {
     "name": "stderr",
     "output_type": "stream",
     "text": [
      "\r\n",
      "  7%|▋         | 7/100 [05:56<1:19:18, 51.17s/it]"
     ]
    },
    {
     "name": "stdout",
     "output_type": "stream",
     "text": [
      "Validation acc: 0.8133\n",
      "\n",
      "Start of epoch 7\n",
      "Training loss: 1.9503\n",
      "Training metric: 0.4945\n",
      "perturbation loss: 0.9822\n"
     ]
    },
    {
     "name": "stderr",
     "output_type": "stream",
     "text": [
      "\r\n",
      "  8%|▊         | 8/100 [06:48<1:18:36, 51.27s/it]"
     ]
    },
    {
     "name": "stdout",
     "output_type": "stream",
     "text": [
      "Validation acc: 0.8333\n",
      "\n",
      "Start of epoch 8\n",
      "Training loss: 0.5296\n",
      "Training metric: 0.5101\n",
      "perturbation loss: 0.6879\n"
     ]
    },
    {
     "name": "stderr",
     "output_type": "stream",
     "text": [
      "\r\n",
      "  9%|▉         | 9/100 [07:40<1:17:56, 51.39s/it]"
     ]
    },
    {
     "name": "stdout",
     "output_type": "stream",
     "text": [
      "Validation acc: 0.8467\n",
      "\n",
      "Start of epoch 9\n",
      "Training loss: 1.8476\n",
      "Training metric: 0.5254\n",
      "perturbation loss: 0.5715\n"
     ]
    },
    {
     "name": "stderr",
     "output_type": "stream",
     "text": [
      "\r\n",
      " 10%|█         | 10/100 [08:31<1:16:54, 51.27s/it]"
     ]
    },
    {
     "name": "stdout",
     "output_type": "stream",
     "text": [
      "Validation acc: 0.8067\n",
      "\n",
      "Start of epoch 10\n",
      "Training loss: 0.3771\n",
      "Training metric: 0.5394\n",
      "perturbation loss: 0.5090\n"
     ]
    },
    {
     "name": "stderr",
     "output_type": "stream",
     "text": [
      "\r\n",
      " 11%|█         | 11/100 [09:22<1:16:13, 51.39s/it]"
     ]
    },
    {
     "name": "stdout",
     "output_type": "stream",
     "text": [
      "Validation acc: 0.8133\n",
      "\n",
      "Start of epoch 11\n",
      "Training loss: 2.3393\n",
      "Training metric: 0.5524\n",
      "perturbation loss: 0.2160\n"
     ]
    },
    {
     "name": "stderr",
     "output_type": "stream",
     "text": [
      "\r\n",
      " 12%|█▏        | 12/100 [10:13<1:15:12, 51.28s/it]"
     ]
    },
    {
     "name": "stdout",
     "output_type": "stream",
     "text": [
      "Validation acc: 0.8467\n",
      "\n",
      "Start of epoch 12\n",
      "Training loss: 0.0001\n",
      "Training metric: 0.5648\n",
      "perturbation loss: 0.0002\n"
     ]
    },
    {
     "name": "stderr",
     "output_type": "stream",
     "text": [
      "\r\n",
      " 13%|█▎        | 13/100 [11:04<1:14:11, 51.17s/it]"
     ]
    },
    {
     "name": "stdout",
     "output_type": "stream",
     "text": [
      "Validation acc: 0.8600\n",
      "\n",
      "Start of epoch 13\n",
      "Training loss: 0.0037\n",
      "Training metric: 0.5760\n",
      "perturbation loss: 0.0017\n"
     ]
    },
    {
     "name": "stderr",
     "output_type": "stream",
     "text": [
      "\r\n",
      " 14%|█▍        | 14/100 [11:56<1:13:35, 51.34s/it]"
     ]
    },
    {
     "name": "stdout",
     "output_type": "stream",
     "text": [
      "Validation acc: 0.7933\n",
      "\n",
      "Start of epoch 14\n",
      "Training loss: 1.0590\n",
      "Training metric: 0.5866\n",
      "perturbation loss: 0.7999\n"
     ]
    },
    {
     "name": "stderr",
     "output_type": "stream",
     "text": [
      "\r\n",
      " 15%|█▌        | 15/100 [12:48<1:12:51, 51.43s/it]"
     ]
    },
    {
     "name": "stdout",
     "output_type": "stream",
     "text": [
      "Validation acc: 0.8533\n",
      "\n",
      "Start of epoch 15\n",
      "Training loss: 1.0855\n",
      "Training metric: 0.5966\n",
      "perturbation loss: 0.7140\n"
     ]
    },
    {
     "name": "stderr",
     "output_type": "stream",
     "text": [
      "\r\n",
      " 16%|█▌        | 16/100 [13:39<1:11:57, 51.39s/it]"
     ]
    },
    {
     "name": "stdout",
     "output_type": "stream",
     "text": [
      "Validation acc: 0.8533\n",
      "\n",
      "Start of epoch 16\n",
      "Training loss: 0.5434\n",
      "Training metric: 0.6060\n",
      "perturbation loss: 0.5162\n"
     ]
    },
    {
     "name": "stderr",
     "output_type": "stream",
     "text": [
      "\r\n",
      " 17%|█▋        | 17/100 [14:30<1:10:54, 51.26s/it]"
     ]
    },
    {
     "name": "stdout",
     "output_type": "stream",
     "text": [
      "Validation acc: 0.7867\n",
      "\n",
      "Start of epoch 17\n",
      "Training loss: 0.1822\n",
      "Training metric: 0.6150\n",
      "perturbation loss: 0.2798\n"
     ]
    },
    {
     "name": "stderr",
     "output_type": "stream",
     "text": [
      "\r\n",
      " 18%|█▊        | 18/100 [15:20<1:09:45, 51.04s/it]"
     ]
    },
    {
     "name": "stdout",
     "output_type": "stream",
     "text": [
      "Validation acc: 0.7267\n",
      "\n",
      "Start of epoch 18\n",
      "Training loss: 2.5414\n",
      "Training metric: 0.6235\n",
      "perturbation loss: 0.9881\n"
     ]
    },
    {
     "name": "stderr",
     "output_type": "stream",
     "text": [
      "\r\n",
      " 19%|█▉        | 19/100 [16:12<1:09:03, 51.15s/it]"
     ]
    },
    {
     "name": "stdout",
     "output_type": "stream",
     "text": [
      "Validation acc: 0.8400\n",
      "\n",
      "Start of epoch 19\n",
      "Training loss: 0.1275\n",
      "Training metric: 0.6318\n",
      "perturbation loss: 0.2491\n"
     ]
    },
    {
     "name": "stderr",
     "output_type": "stream",
     "text": [
      "\r\n",
      " 20%|██        | 20/100 [17:03<1:08:15, 51.19s/it]"
     ]
    },
    {
     "name": "stdout",
     "output_type": "stream",
     "text": [
      "Validation acc: 0.8000\n",
      "\n",
      "Start of epoch 20\n",
      "Training loss: 0.3814\n",
      "Training metric: 0.6392\n",
      "perturbation loss: 0.7355\n"
     ]
    },
    {
     "name": "stderr",
     "output_type": "stream",
     "text": [
      "\r\n",
      " 21%|██        | 21/100 [17:54<1:07:22, 51.17s/it]"
     ]
    },
    {
     "name": "stdout",
     "output_type": "stream",
     "text": [
      "Validation acc: 0.8333\n",
      "\n",
      "Start of epoch 21\n",
      "Training loss: 4.6833\n",
      "Training metric: 0.6464\n",
      "perturbation loss: 0.1325\n"
     ]
    },
    {
     "name": "stderr",
     "output_type": "stream",
     "text": [
      "\r\n",
      " 22%|██▏       | 22/100 [18:45<1:06:27, 51.12s/it]"
     ]
    },
    {
     "name": "stdout",
     "output_type": "stream",
     "text": [
      "Validation acc: 0.8933\n",
      "\n",
      "Start of epoch 22\n",
      "Training loss: 0.8589\n",
      "Training metric: 0.6529\n",
      "perturbation loss: 0.6042\n"
     ]
    },
    {
     "name": "stderr",
     "output_type": "stream",
     "text": [
      "\r\n",
      " 23%|██▎       | 23/100 [19:36<1:05:27, 51.01s/it]"
     ]
    },
    {
     "name": "stdout",
     "output_type": "stream",
     "text": [
      "Validation acc: 0.5533\n",
      "\n",
      "Start of epoch 23\n",
      "Training loss: 0.1292\n",
      "Training metric: 0.6595\n",
      "perturbation loss: 0.1785\n"
     ]
    },
    {
     "name": "stderr",
     "output_type": "stream",
     "text": [
      "\r\n",
      " 24%|██▍       | 24/100 [20:27<1:04:38, 51.03s/it]"
     ]
    },
    {
     "name": "stdout",
     "output_type": "stream",
     "text": [
      "Validation acc: 0.7667\n",
      "\n",
      "Start of epoch 24\n",
      "Training loss: 0.1404\n",
      "Training metric: 0.6657\n",
      "perturbation loss: 0.2660\n"
     ]
    },
    {
     "name": "stderr",
     "output_type": "stream",
     "text": [
      "\r\n",
      " 25%|██▌       | 25/100 [21:19<1:03:58, 51.18s/it]"
     ]
    },
    {
     "name": "stdout",
     "output_type": "stream",
     "text": [
      "Validation acc: 0.8400\n",
      "\n",
      "Start of epoch 25\n",
      "Training loss: 0.1428\n",
      "Training metric: 0.6717\n",
      "perturbation loss: 0.1794\n"
     ]
    },
    {
     "name": "stderr",
     "output_type": "stream",
     "text": [
      "\r\n",
      " 26%|██▌       | 26/100 [22:10<1:03:21, 51.37s/it]"
     ]
    },
    {
     "name": "stdout",
     "output_type": "stream",
     "text": [
      "Validation acc: 0.8533\n",
      "\n",
      "Start of epoch 26\n",
      "Training loss: 2.7149\n",
      "Training metric: 0.6775\n",
      "perturbation loss: 0.5713\n"
     ]
    },
    {
     "name": "stderr",
     "output_type": "stream",
     "text": [
      "\r\n",
      " 27%|██▋       | 27/100 [23:01<1:02:19, 51.22s/it]"
     ]
    },
    {
     "name": "stdout",
     "output_type": "stream",
     "text": [
      "Validation acc: 0.6067\n",
      "\n",
      "Start of epoch 27\n",
      "Training loss: 0.2905\n",
      "Training metric: 0.6830\n",
      "perturbation loss: 0.3905\n"
     ]
    },
    {
     "name": "stderr",
     "output_type": "stream",
     "text": [
      "\r\n",
      " 28%|██▊       | 28/100 [23:52<1:01:23, 51.16s/it]"
     ]
    },
    {
     "name": "stdout",
     "output_type": "stream",
     "text": [
      "Validation acc: 0.8533\n",
      "\n",
      "Start of epoch 28\n",
      "Training loss: 0.0000\n",
      "Training metric: 0.6884\n",
      "perturbation loss: 0.0000\n"
     ]
    },
    {
     "name": "stderr",
     "output_type": "stream",
     "text": [
      "\r\n",
      " 29%|██▉       | 29/100 [24:43<1:00:31, 51.15s/it]"
     ]
    },
    {
     "name": "stdout",
     "output_type": "stream",
     "text": [
      "Validation acc: 0.8133\n",
      "\n",
      "Start of epoch 29\n",
      "Training loss: 0.3996\n",
      "Training metric: 0.6937\n",
      "perturbation loss: 0.5707\n"
     ]
    },
    {
     "name": "stderr",
     "output_type": "stream",
     "text": [
      "\r\n",
      " 30%|███       | 30/100 [25:34<59:38, 51.12s/it]  "
     ]
    },
    {
     "name": "stdout",
     "output_type": "stream",
     "text": [
      "Validation acc: 0.8267\n",
      "\n",
      "Start of epoch 30\n",
      "Training loss: 0.0563\n",
      "Training metric: 0.6985\n",
      "perturbation loss: 0.0923\n"
     ]
    },
    {
     "name": "stderr",
     "output_type": "stream",
     "text": [
      "\r\n",
      " 31%|███       | 31/100 [26:25<58:35, 50.95s/it]"
     ]
    },
    {
     "name": "stdout",
     "output_type": "stream",
     "text": [
      "Validation acc: 0.7000\n",
      "\n",
      "Start of epoch 31\n",
      "Training loss: 0.5156\n",
      "Training metric: 0.7034\n",
      "perturbation loss: 0.5188\n"
     ]
    },
    {
     "name": "stderr",
     "output_type": "stream",
     "text": [
      "\r\n",
      " 32%|███▏      | 32/100 [27:16<57:37, 50.85s/it]"
     ]
    },
    {
     "name": "stdout",
     "output_type": "stream",
     "text": [
      "Validation acc: 0.8667\n",
      "\n",
      "Start of epoch 32\n",
      "Training loss: 0.3932\n",
      "Training metric: 0.7080\n",
      "perturbation loss: 0.4674\n"
     ]
    },
    {
     "name": "stderr",
     "output_type": "stream",
     "text": [
      "\r\n",
      " 33%|███▎      | 33/100 [28:07<56:59, 51.03s/it]"
     ]
    },
    {
     "name": "stdout",
     "output_type": "stream",
     "text": [
      "Validation acc: 0.8867\n",
      "\n",
      "Start of epoch 33\n",
      "Training loss: 0.4358\n",
      "Training metric: 0.7123\n",
      "perturbation loss: 0.3413\n"
     ]
    },
    {
     "name": "stderr",
     "output_type": "stream",
     "text": [
      "\r\n",
      " 34%|███▍      | 34/100 [28:59<56:18, 51.19s/it]"
     ]
    },
    {
     "name": "stdout",
     "output_type": "stream",
     "text": [
      "Validation acc: 0.8933\n",
      "\n",
      "Start of epoch 34\n",
      "Training loss: 0.0554\n",
      "Training metric: 0.7167\n",
      "perturbation loss: 0.0951\n"
     ]
    },
    {
     "name": "stderr",
     "output_type": "stream",
     "text": [
      "\r\n",
      " 35%|███▌      | 35/100 [29:49<55:19, 51.07s/it]"
     ]
    },
    {
     "name": "stdout",
     "output_type": "stream",
     "text": [
      "Validation acc: 0.8667\n",
      "\n",
      "Start of epoch 35\n",
      "Training loss: 0.0234\n",
      "Training metric: 0.7208\n",
      "perturbation loss: 0.0457\n"
     ]
    },
    {
     "name": "stderr",
     "output_type": "stream",
     "text": [
      "\r\n",
      " 36%|███▌      | 36/100 [30:40<54:24, 51.01s/it]"
     ]
    },
    {
     "name": "stdout",
     "output_type": "stream",
     "text": [
      "Validation acc: 0.6200\n",
      "\n",
      "Start of epoch 36\n",
      "Training loss: 0.0980\n",
      "Training metric: 0.7249\n",
      "perturbation loss: 0.1600\n"
     ]
    },
    {
     "name": "stderr",
     "output_type": "stream",
     "text": [
      "\r\n",
      " 37%|███▋      | 37/100 [31:31<53:33, 51.01s/it]"
     ]
    },
    {
     "name": "stdout",
     "output_type": "stream",
     "text": [
      "Validation acc: 0.7933\n",
      "\n",
      "Start of epoch 37\n",
      "Training loss: 0.0118\n",
      "Training metric: 0.7287\n",
      "perturbation loss: 0.0191\n"
     ]
    },
    {
     "name": "stderr",
     "output_type": "stream",
     "text": [
      "\r\n",
      " 38%|███▊      | 38/100 [32:22<52:45, 51.05s/it]"
     ]
    },
    {
     "name": "stdout",
     "output_type": "stream",
     "text": [
      "Validation acc: 0.8733\n",
      "\n",
      "Start of epoch 38\n",
      "Training loss: 0.0005\n",
      "Training metric: 0.7327\n",
      "perturbation loss: 0.0007\n"
     ]
    },
    {
     "name": "stderr",
     "output_type": "stream",
     "text": [
      "\r\n",
      " 39%|███▉      | 39/100 [33:14<52:00, 51.15s/it]"
     ]
    },
    {
     "name": "stdout",
     "output_type": "stream",
     "text": [
      "Validation acc: 0.8733\n",
      "\n",
      "Start of epoch 39\n",
      "Training loss: 0.0338\n",
      "Training metric: 0.7365\n",
      "perturbation loss: 0.0570\n"
     ]
    },
    {
     "name": "stderr",
     "output_type": "stream",
     "text": [
      "\r\n",
      " 40%|████      | 40/100 [34:05<51:04, 51.08s/it]"
     ]
    },
    {
     "name": "stdout",
     "output_type": "stream",
     "text": [
      "Validation acc: 0.9000\n",
      "\n",
      "Start of epoch 40\n",
      "Training loss: 0.0223\n",
      "Training metric: 0.7401\n",
      "perturbation loss: 0.0371\n"
     ]
    },
    {
     "name": "stderr",
     "output_type": "stream",
     "text": [
      "\r\n",
      " 41%|████      | 41/100 [34:56<50:18, 51.17s/it]"
     ]
    },
    {
     "name": "stdout",
     "output_type": "stream",
     "text": [
      "Validation acc: 0.8667\n",
      "\n",
      "Start of epoch 41\n",
      "Training loss: 0.0426\n",
      "Training metric: 0.7436\n",
      "perturbation loss: 0.0678\n"
     ]
    },
    {
     "name": "stderr",
     "output_type": "stream",
     "text": [
      "\r\n",
      " 42%|████▏     | 42/100 [35:47<49:30, 51.22s/it]"
     ]
    },
    {
     "name": "stdout",
     "output_type": "stream",
     "text": [
      "Validation acc: 0.8600\n",
      "\n",
      "Start of epoch 42\n",
      "Training loss: 0.0000\n",
      "Training metric: 0.7470\n",
      "perturbation loss: 0.0000\n"
     ]
    },
    {
     "name": "stderr",
     "output_type": "stream",
     "text": [
      "\r\n",
      " 43%|████▎     | 43/100 [36:39<48:42, 51.27s/it]"
     ]
    },
    {
     "name": "stdout",
     "output_type": "stream",
     "text": [
      "Validation acc: 0.8400\n",
      "\n",
      "Start of epoch 43\n",
      "Training loss: 0.5022\n",
      "Training metric: 0.7503\n",
      "perturbation loss: 0.7202\n"
     ]
    },
    {
     "name": "stderr",
     "output_type": "stream",
     "text": [
      "\r\n",
      " 44%|████▍     | 44/100 [37:30<47:41, 51.10s/it]"
     ]
    },
    {
     "name": "stdout",
     "output_type": "stream",
     "text": [
      "Validation acc: 0.6333\n",
      "\n",
      "Start of epoch 44\n",
      "Training loss: 0.0444\n",
      "Training metric: 0.7537\n",
      "perturbation loss: 0.0845\n"
     ]
    },
    {
     "name": "stderr",
     "output_type": "stream",
     "text": [
      "\r\n",
      " 45%|████▌     | 45/100 [38:21<46:51, 51.12s/it]"
     ]
    },
    {
     "name": "stdout",
     "output_type": "stream",
     "text": [
      "Validation acc: 0.8867\n",
      "\n",
      "Start of epoch 45\n",
      "Training loss: 0.0754\n",
      "Training metric: 0.7566\n",
      "perturbation loss: 0.1368\n"
     ]
    },
    {
     "name": "stderr",
     "output_type": "stream",
     "text": [
      "\r\n",
      " 46%|████▌     | 46/100 [39:12<46:00, 51.12s/it]"
     ]
    },
    {
     "name": "stdout",
     "output_type": "stream",
     "text": [
      "Validation acc: 0.4933\n",
      "\n",
      "Start of epoch 46\n",
      "Training loss: 0.1196\n",
      "Training metric: 0.7597\n",
      "perturbation loss: 0.2141\n"
     ]
    },
    {
     "name": "stderr",
     "output_type": "stream",
     "text": [
      "\r\n",
      " 47%|████▋     | 47/100 [40:03<45:15, 51.23s/it]"
     ]
    },
    {
     "name": "stdout",
     "output_type": "stream",
     "text": [
      "Validation acc: 0.8667\n",
      "\n",
      "Start of epoch 47\n",
      "Training loss: 0.0297\n",
      "Training metric: 0.7626\n",
      "perturbation loss: 0.0584\n"
     ]
    },
    {
     "name": "stderr",
     "output_type": "stream",
     "text": [
      "\r\n",
      " 48%|████▊     | 48/100 [40:54<44:19, 51.13s/it]"
     ]
    },
    {
     "name": "stdout",
     "output_type": "stream",
     "text": [
      "Validation acc: 0.8333\n",
      "\n",
      "Start of epoch 48\n",
      "Training loss: 0.3318\n",
      "Training metric: 0.7656\n",
      "perturbation loss: 0.4332\n"
     ]
    },
    {
     "name": "stderr",
     "output_type": "stream",
     "text": [
      "\r\n",
      " 49%|████▉     | 49/100 [41:45<43:28, 51.14s/it]"
     ]
    },
    {
     "name": "stdout",
     "output_type": "stream",
     "text": [
      "Validation acc: 0.8133\n",
      "\n",
      "Start of epoch 49\n",
      "Training loss: 0.0197\n",
      "Training metric: 0.7685\n",
      "perturbation loss: 0.0100\n"
     ]
    },
    {
     "name": "stderr",
     "output_type": "stream",
     "text": [
      "\r\n",
      " 50%|█████     | 50/100 [42:37<42:41, 51.22s/it]"
     ]
    },
    {
     "name": "stdout",
     "output_type": "stream",
     "text": [
      "Validation acc: 0.9000\n",
      "\n",
      "Start of epoch 50\n",
      "Training loss: 0.2103\n",
      "Training metric: 0.7713\n",
      "perturbation loss: 0.3345\n"
     ]
    },
    {
     "name": "stderr",
     "output_type": "stream",
     "text": [
      "\r\n",
      " 51%|█████     | 51/100 [43:28<41:52, 51.27s/it]"
     ]
    },
    {
     "name": "stdout",
     "output_type": "stream",
     "text": [
      "Validation acc: 0.8733\n",
      "\n",
      "Start of epoch 51\n",
      "Training loss: 0.0318\n",
      "Training metric: 0.7738\n",
      "perturbation loss: 0.0305\n"
     ]
    },
    {
     "name": "stderr",
     "output_type": "stream",
     "text": [
      "\r\n",
      " 52%|█████▏    | 52/100 [44:19<40:54, 51.14s/it]"
     ]
    },
    {
     "name": "stdout",
     "output_type": "stream",
     "text": [
      "Validation acc: 0.7933\n",
      "\n",
      "Start of epoch 52\n",
      "Training loss: 0.2879\n",
      "Training metric: 0.7763\n",
      "perturbation loss: 0.3042\n"
     ]
    },
    {
     "name": "stderr",
     "output_type": "stream",
     "text": [
      "\r\n",
      " 53%|█████▎    | 53/100 [45:10<39:58, 51.03s/it]"
     ]
    },
    {
     "name": "stdout",
     "output_type": "stream",
     "text": [
      "Validation acc: 0.8467\n",
      "\n",
      "Start of epoch 53\n",
      "Training loss: 0.1286\n",
      "Training metric: 0.7789\n",
      "perturbation loss: 0.1239\n"
     ]
    },
    {
     "name": "stderr",
     "output_type": "stream",
     "text": [
      "\r\n",
      " 54%|█████▍    | 54/100 [46:01<39:12, 51.13s/it]"
     ]
    },
    {
     "name": "stdout",
     "output_type": "stream",
     "text": [
      "Validation acc: 0.9000\n",
      "\n",
      "Start of epoch 54\n",
      "Training loss: 0.0000\n",
      "Training metric: 0.7813\n",
      "perturbation loss: 0.0000\n"
     ]
    },
    {
     "name": "stderr",
     "output_type": "stream",
     "text": [
      "\r\n",
      " 55%|█████▌    | 55/100 [46:53<38:25, 51.24s/it]"
     ]
    },
    {
     "name": "stdout",
     "output_type": "stream",
     "text": [
      "Validation acc: 0.8933\n",
      "\n",
      "Start of epoch 55\n",
      "Training loss: 0.1291\n",
      "Training metric: 0.7835\n",
      "perturbation loss: 0.2532\n"
     ]
    },
    {
     "name": "stderr",
     "output_type": "stream",
     "text": [
      "\r\n",
      " 56%|█████▌    | 56/100 [47:44<37:32, 51.18s/it]"
     ]
    },
    {
     "name": "stdout",
     "output_type": "stream",
     "text": [
      "Validation acc: 0.9000\n",
      "\n",
      "Start of epoch 56\n",
      "Training loss: 0.0510\n",
      "Training metric: 0.7860\n",
      "perturbation loss: 0.0383\n"
     ]
    },
    {
     "name": "stderr",
     "output_type": "stream",
     "text": [
      "\r\n",
      " 57%|█████▋    | 57/100 [48:34<36:30, 50.94s/it]"
     ]
    },
    {
     "name": "stdout",
     "output_type": "stream",
     "text": [
      "Validation acc: 0.8067\n",
      "\n",
      "Start of epoch 57\n",
      "Training loss: 1.1374\n",
      "Training metric: 0.7884\n",
      "perturbation loss: 0.6868\n"
     ]
    },
    {
     "name": "stderr",
     "output_type": "stream",
     "text": [
      "\r\n",
      " 58%|█████▊    | 58/100 [49:25<35:42, 51.01s/it]"
     ]
    },
    {
     "name": "stdout",
     "output_type": "stream",
     "text": [
      "Validation acc: 0.8467\n",
      "\n",
      "Start of epoch 58\n",
      "Training loss: 0.0047\n",
      "Training metric: 0.7907\n",
      "perturbation loss: 0.0021\n"
     ]
    },
    {
     "name": "stderr",
     "output_type": "stream",
     "text": [
      "\r\n",
      " 59%|█████▉    | 59/100 [50:17<34:56, 51.15s/it]"
     ]
    },
    {
     "name": "stdout",
     "output_type": "stream",
     "text": [
      "Validation acc: 0.8600\n",
      "\n",
      "Start of epoch 59\n",
      "Training loss: 0.0080\n",
      "Training metric: 0.7928\n",
      "perturbation loss: 0.0153\n"
     ]
    },
    {
     "name": "stderr",
     "output_type": "stream",
     "text": [
      "\r\n",
      " 60%|██████    | 60/100 [51:08<34:10, 51.26s/it]"
     ]
    },
    {
     "name": "stdout",
     "output_type": "stream",
     "text": [
      "Validation acc: 0.8067\n",
      "\n",
      "Start of epoch 60\n",
      "Training loss: 0.0000\n",
      "Training metric: 0.7949\n",
      "perturbation loss: 0.0000\n"
     ]
    },
    {
     "name": "stderr",
     "output_type": "stream",
     "text": [
      "\r\n",
      " 61%|██████    | 61/100 [51:59<33:16, 51.18s/it]"
     ]
    },
    {
     "name": "stdout",
     "output_type": "stream",
     "text": [
      "Validation acc: 0.9067\n",
      "\n",
      "Start of epoch 61\n",
      "Training loss: 0.0295\n",
      "Training metric: 0.7970\n",
      "perturbation loss: 0.0550\n"
     ]
    },
    {
     "name": "stderr",
     "output_type": "stream",
     "text": [
      "\r\n",
      " 62%|██████▏   | 62/100 [52:51<32:29, 51.31s/it]"
     ]
    },
    {
     "name": "stdout",
     "output_type": "stream",
     "text": [
      "Validation acc: 0.9067\n",
      "\n",
      "Start of epoch 62\n",
      "Training loss: 0.0845\n",
      "Training metric: 0.7991\n",
      "perturbation loss: 0.1519\n"
     ]
    },
    {
     "name": "stderr",
     "output_type": "stream",
     "text": [
      "\r\n",
      " 63%|██████▎   | 63/100 [53:42<31:40, 51.35s/it]"
     ]
    },
    {
     "name": "stdout",
     "output_type": "stream",
     "text": [
      "Validation acc: 0.8667\n",
      "\n",
      "Start of epoch 63\n",
      "Training loss: 0.0000\n",
      "Training metric: 0.8012\n",
      "perturbation loss: 0.0000\n"
     ]
    },
    {
     "name": "stderr",
     "output_type": "stream",
     "text": [
      "\r\n",
      " 64%|██████▍   | 64/100 [54:33<30:41, 51.15s/it]"
     ]
    },
    {
     "name": "stdout",
     "output_type": "stream",
     "text": [
      "Validation acc: 0.8000\n",
      "\n",
      "Start of epoch 64\n",
      "Training loss: 0.0233\n",
      "Training metric: 0.8033\n",
      "perturbation loss: 0.0460\n"
     ]
    },
    {
     "name": "stderr",
     "output_type": "stream",
     "text": [
      "\r\n",
      " 65%|██████▌   | 65/100 [55:24<29:47, 51.08s/it]"
     ]
    },
    {
     "name": "stdout",
     "output_type": "stream",
     "text": [
      "Validation acc: 0.7200\n",
      "\n",
      "Start of epoch 65\n",
      "Training loss: 2.0778\n",
      "Training metric: 0.8052\n",
      "perturbation loss: 4.1536\n"
     ]
    },
    {
     "name": "stderr",
     "output_type": "stream",
     "text": [
      "\r\n",
      " 66%|██████▌   | 66/100 [56:13<28:35, 50.46s/it]"
     ]
    },
    {
     "name": "stdout",
     "output_type": "stream",
     "text": [
      "Validation acc: 0.7533\n",
      "\n",
      "Start of epoch 66\n",
      "Training loss: 1.6656\n",
      "Training metric: 0.8070\n",
      "perturbation loss: 2.9100\n"
     ]
    },
    {
     "name": "stderr",
     "output_type": "stream",
     "text": [
      "\r\n",
      " 67%|██████▋   | 67/100 [57:04<27:51, 50.65s/it]"
     ]
    },
    {
     "name": "stdout",
     "output_type": "stream",
     "text": [
      "Validation acc: 0.8867\n",
      "\n",
      "Start of epoch 67\n",
      "Training loss: 0.0131\n",
      "Training metric: 0.8089\n",
      "perturbation loss: 0.0204\n"
     ]
    },
    {
     "name": "stderr",
     "output_type": "stream",
     "text": [
      "\r\n",
      " 68%|██████▊   | 68/100 [57:55<27:06, 50.84s/it]"
     ]
    },
    {
     "name": "stdout",
     "output_type": "stream",
     "text": [
      "Validation acc: 0.9267\n",
      "\n",
      "Start of epoch 68\n",
      "Training loss: 0.4238\n",
      "Training metric: 0.8107\n",
      "perturbation loss: 0.4232\n"
     ]
    },
    {
     "name": "stderr",
     "output_type": "stream",
     "text": [
      "\r\n",
      " 69%|██████▉   | 69/100 [58:46<26:13, 50.75s/it]"
     ]
    },
    {
     "name": "stdout",
     "output_type": "stream",
     "text": [
      "Validation acc: 0.7133\n",
      "\n",
      "Start of epoch 69\n",
      "Training loss: 0.0365\n",
      "Training metric: 0.8125\n",
      "perturbation loss: 0.0409\n"
     ]
    },
    {
     "name": "stderr",
     "output_type": "stream",
     "text": [
      "\r\n",
      " 70%|███████   | 70/100 [59:37<25:25, 50.83s/it]"
     ]
    },
    {
     "name": "stdout",
     "output_type": "stream",
     "text": [
      "Validation acc: 0.8667\n",
      "\n",
      "Start of epoch 70\n",
      "Training loss: 0.0655\n",
      "Training metric: 0.8142\n",
      "perturbation loss: 0.1199\n"
     ]
    },
    {
     "name": "stderr",
     "output_type": "stream",
     "text": [
      "\r\n",
      " 71%|███████   | 71/100 [1:00:28<24:39, 51.01s/it]"
     ]
    },
    {
     "name": "stdout",
     "output_type": "stream",
     "text": [
      "Validation acc: 0.7200\n",
      "\n",
      "Start of epoch 71\n",
      "Training loss: 0.0517\n",
      "Training metric: 0.8159\n",
      "perturbation loss: 0.0360\n"
     ]
    },
    {
     "name": "stderr",
     "output_type": "stream",
     "text": [
      "\r\n",
      " 72%|███████▏  | 72/100 [1:01:19<23:49, 51.06s/it]"
     ]
    },
    {
     "name": "stdout",
     "output_type": "stream",
     "text": [
      "Validation acc: 0.8733\n",
      "\n",
      "Start of epoch 72\n",
      "Training loss: 0.0797\n",
      "Training metric: 0.8176\n",
      "perturbation loss: 0.1272\n"
     ]
    },
    {
     "name": "stderr",
     "output_type": "stream",
     "text": [
      "\r\n",
      " 73%|███████▎  | 73/100 [1:02:11<23:02, 51.21s/it]"
     ]
    },
    {
     "name": "stdout",
     "output_type": "stream",
     "text": [
      "Validation acc: 0.9067\n",
      "\n",
      "Start of epoch 73\n",
      "Training loss: 0.0034\n",
      "Training metric: 0.8192\n",
      "perturbation loss: 0.0060\n"
     ]
    },
    {
     "name": "stderr",
     "output_type": "stream",
     "text": [
      "\r\n",
      " 74%|███████▍  | 74/100 [1:03:02<22:06, 51.01s/it]"
     ]
    },
    {
     "name": "stdout",
     "output_type": "stream",
     "text": [
      "Validation acc: 0.9133\n",
      "\n",
      "Start of epoch 74\n",
      "Training loss: 0.0019\n",
      "Training metric: 0.8209\n",
      "perturbation loss: 0.0034\n"
     ]
    },
    {
     "name": "stderr",
     "output_type": "stream",
     "text": [
      "\r\n",
      " 75%|███████▌  | 75/100 [1:03:53<21:18, 51.15s/it]"
     ]
    },
    {
     "name": "stdout",
     "output_type": "stream",
     "text": [
      "Validation acc: 0.8933\n",
      "\n",
      "Start of epoch 75\n",
      "Training loss: 0.0531\n",
      "Training metric: 0.8225\n",
      "perturbation loss: 0.0841\n"
     ]
    },
    {
     "name": "stderr",
     "output_type": "stream",
     "text": [
      "\r\n",
      " 76%|███████▌  | 76/100 [1:04:45<20:30, 51.28s/it]"
     ]
    },
    {
     "name": "stdout",
     "output_type": "stream",
     "text": [
      "Validation acc: 0.8000\n",
      "\n",
      "Start of epoch 76\n",
      "Training loss: 0.3181\n",
      "Training metric: 0.8240\n",
      "perturbation loss: 0.3601\n"
     ]
    },
    {
     "name": "stderr",
     "output_type": "stream",
     "text": [
      "\r\n",
      " 77%|███████▋  | 77/100 [1:05:36<19:39, 51.27s/it]"
     ]
    },
    {
     "name": "stdout",
     "output_type": "stream",
     "text": [
      "Validation acc: 0.8933\n",
      "\n",
      "Start of epoch 77\n",
      "Training loss: 0.0193\n",
      "Training metric: 0.8256\n",
      "perturbation loss: 0.0298\n"
     ]
    },
    {
     "name": "stderr",
     "output_type": "stream",
     "text": [
      "\r\n",
      " 78%|███████▊  | 78/100 [1:06:26<18:43, 51.08s/it]"
     ]
    },
    {
     "name": "stdout",
     "output_type": "stream",
     "text": [
      "Validation acc: 0.9067\n",
      "\n",
      "Start of epoch 78\n",
      "Training loss: 0.0036\n",
      "Training metric: 0.8271\n",
      "perturbation loss: 0.0057\n"
     ]
    },
    {
     "name": "stderr",
     "output_type": "stream",
     "text": [
      "\r\n",
      " 79%|███████▉  | 79/100 [1:07:18<17:54, 51.16s/it]"
     ]
    },
    {
     "name": "stdout",
     "output_type": "stream",
     "text": [
      "Validation acc: 0.8933\n",
      "\n",
      "Start of epoch 79\n",
      "Training loss: 0.0131\n",
      "Training metric: 0.8286\n",
      "perturbation loss: 0.0245\n"
     ]
    },
    {
     "name": "stderr",
     "output_type": "stream",
     "text": [
      "\r\n",
      " 80%|████████  | 80/100 [1:08:09<17:04, 51.23s/it]"
     ]
    },
    {
     "name": "stdout",
     "output_type": "stream",
     "text": [
      "Validation acc: 0.9067\n",
      "\n",
      "Start of epoch 80\n",
      "Training loss: 0.0374\n",
      "Training metric: 0.8301\n",
      "perturbation loss: 0.0475\n"
     ]
    },
    {
     "name": "stderr",
     "output_type": "stream",
     "text": [
      "\r\n",
      " 81%|████████  | 81/100 [1:09:01<16:16, 51.40s/it]"
     ]
    },
    {
     "name": "stdout",
     "output_type": "stream",
     "text": [
      "Validation acc: 0.8667\n",
      "\n",
      "Start of epoch 81\n",
      "Training loss: 0.6395\n",
      "Training metric: 0.8316\n",
      "perturbation loss: 0.8321\n"
     ]
    },
    {
     "name": "stderr",
     "output_type": "stream",
     "text": [
      "\r\n",
      " 82%|████████▏ | 82/100 [1:09:52<15:22, 51.27s/it]"
     ]
    },
    {
     "name": "stdout",
     "output_type": "stream",
     "text": [
      "Validation acc: 0.9067\n",
      "\n",
      "Start of epoch 82\n",
      "Training loss: 0.0071\n",
      "Training metric: 0.8331\n",
      "perturbation loss: 0.0129\n"
     ]
    },
    {
     "name": "stderr",
     "output_type": "stream",
     "text": [
      "\r\n",
      " 83%|████████▎ | 83/100 [1:10:43<14:30, 51.22s/it]"
     ]
    },
    {
     "name": "stdout",
     "output_type": "stream",
     "text": [
      "Validation acc: 0.8933\n",
      "\n",
      "Start of epoch 83\n",
      "Training loss: 0.7865\n",
      "Training metric: 0.8346\n",
      "perturbation loss: 0.8211\n"
     ]
    },
    {
     "name": "stderr",
     "output_type": "stream",
     "text": [
      "\r\n",
      " 84%|████████▍ | 84/100 [1:11:35<13:41, 51.32s/it]"
     ]
    },
    {
     "name": "stdout",
     "output_type": "stream",
     "text": [
      "Validation acc: 0.9067\n",
      "\n",
      "Start of epoch 84\n",
      "Training loss: 0.0005\n",
      "Training metric: 0.8360\n",
      "perturbation loss: 0.0009\n"
     ]
    },
    {
     "name": "stderr",
     "output_type": "stream",
     "text": [
      "\r\n",
      " 85%|████████▌ | 85/100 [1:12:26<12:50, 51.36s/it]"
     ]
    },
    {
     "name": "stdout",
     "output_type": "stream",
     "text": [
      "Validation acc: 0.8800\n",
      "\n",
      "Start of epoch 85\n",
      "Training loss: 0.0000\n",
      "Training metric: 0.8373\n",
      "perturbation loss: 0.0000\n"
     ]
    },
    {
     "name": "stderr",
     "output_type": "stream",
     "text": [
      "\r\n",
      " 86%|████████▌ | 86/100 [1:13:17<11:59, 51.36s/it]"
     ]
    },
    {
     "name": "stdout",
     "output_type": "stream",
     "text": [
      "Validation acc: 0.8667\n",
      "\n",
      "Start of epoch 86\n",
      "Training loss: 0.0200\n",
      "Training metric: 0.8387\n",
      "perturbation loss: 0.0326\n"
     ]
    },
    {
     "name": "stderr",
     "output_type": "stream",
     "text": [
      "\r\n",
      " 87%|████████▋ | 87/100 [1:14:09<11:06, 51.28s/it]"
     ]
    },
    {
     "name": "stdout",
     "output_type": "stream",
     "text": [
      "Validation acc: 0.8267\n",
      "\n",
      "Start of epoch 87\n",
      "Training loss: 0.0051\n",
      "Training metric: 0.8401\n",
      "perturbation loss: 0.0080\n"
     ]
    },
    {
     "name": "stderr",
     "output_type": "stream",
     "text": [
      "\r\n",
      " 88%|████████▊ | 88/100 [1:15:00<10:15, 51.28s/it]"
     ]
    },
    {
     "name": "stdout",
     "output_type": "stream",
     "text": [
      "Validation acc: 0.9333\n",
      "\n",
      "Start of epoch 88\n",
      "Training loss: 0.0029\n",
      "Training metric: 0.8414\n",
      "perturbation loss: 0.0011\n"
     ]
    },
    {
     "name": "stderr",
     "output_type": "stream",
     "text": [
      "\r\n",
      " 89%|████████▉ | 89/100 [1:15:51<09:22, 51.14s/it]"
     ]
    },
    {
     "name": "stdout",
     "output_type": "stream",
     "text": [
      "Validation acc: 0.8867\n",
      "\n",
      "Start of epoch 89\n",
      "Training loss: 0.2330\n",
      "Training metric: 0.8426\n",
      "perturbation loss: 0.1639\n"
     ]
    },
    {
     "name": "stderr",
     "output_type": "stream",
     "text": [
      "\r\n",
      " 90%|█████████ | 90/100 [1:16:42<08:32, 51.22s/it]"
     ]
    },
    {
     "name": "stdout",
     "output_type": "stream",
     "text": [
      "Validation acc: 0.8800\n",
      "\n",
      "Start of epoch 90\n",
      "Training loss: 0.0521\n",
      "Training metric: 0.8439\n",
      "perturbation loss: 0.0674\n"
     ]
    },
    {
     "name": "stderr",
     "output_type": "stream",
     "text": [
      "\r\n",
      " 91%|█████████ | 91/100 [1:17:33<07:39, 51.11s/it]"
     ]
    },
    {
     "name": "stdout",
     "output_type": "stream",
     "text": [
      "Validation acc: 0.8600\n",
      "\n",
      "Start of epoch 91\n",
      "Training loss: 0.0006\n",
      "Training metric: 0.8452\n",
      "perturbation loss: 0.0005\n"
     ]
    },
    {
     "name": "stderr",
     "output_type": "stream",
     "text": [
      "\r\n",
      " 92%|█████████▏| 92/100 [1:18:24<06:49, 51.14s/it]"
     ]
    },
    {
     "name": "stdout",
     "output_type": "stream",
     "text": [
      "Validation acc: 0.8933\n",
      "\n",
      "Start of epoch 92\n",
      "Training loss: 0.3950\n",
      "Training metric: 0.8464\n",
      "perturbation loss: 0.6855\n"
     ]
    },
    {
     "name": "stderr",
     "output_type": "stream",
     "text": [
      "\r\n",
      " 93%|█████████▎| 93/100 [1:19:15<05:57, 51.08s/it]"
     ]
    },
    {
     "name": "stdout",
     "output_type": "stream",
     "text": [
      "Validation acc: 0.9067\n",
      "\n",
      "Start of epoch 93\n",
      "Training loss: 0.1455\n",
      "Training metric: 0.8477\n",
      "perturbation loss: 0.2348\n"
     ]
    },
    {
     "name": "stderr",
     "output_type": "stream",
     "text": [
      "\r\n",
      " 94%|█████████▍| 94/100 [1:20:06<05:06, 51.12s/it]"
     ]
    },
    {
     "name": "stdout",
     "output_type": "stream",
     "text": [
      "Validation acc: 0.9067\n",
      "\n",
      "Start of epoch 94\n",
      "Training loss: 0.0115\n",
      "Training metric: 0.8489\n",
      "perturbation loss: 0.0129\n"
     ]
    },
    {
     "name": "stderr",
     "output_type": "stream",
     "text": [
      "\r\n",
      " 95%|█████████▌| 95/100 [1:20:57<04:15, 51.09s/it]"
     ]
    },
    {
     "name": "stdout",
     "output_type": "stream",
     "text": [
      "Validation acc: 0.8600\n",
      "\n",
      "Start of epoch 95\n",
      "Training loss: 0.0001\n",
      "Training metric: 0.8501\n",
      "perturbation loss: 0.0001\n"
     ]
    },
    {
     "name": "stderr",
     "output_type": "stream",
     "text": [
      "\r\n",
      " 96%|█████████▌| 96/100 [1:21:48<03:23, 50.96s/it]"
     ]
    },
    {
     "name": "stdout",
     "output_type": "stream",
     "text": [
      "Validation acc: 0.8800\n",
      "\n",
      "Start of epoch 96\n",
      "Training loss: 0.0059\n",
      "Training metric: 0.8513\n",
      "perturbation loss: 0.0113\n"
     ]
    },
    {
     "name": "stderr",
     "output_type": "stream",
     "text": [
      "\r\n",
      " 97%|█████████▋| 97/100 [1:22:39<02:32, 50.89s/it]"
     ]
    },
    {
     "name": "stdout",
     "output_type": "stream",
     "text": [
      "Validation acc: 0.8933\n",
      "\n",
      "Start of epoch 97\n",
      "Training loss: 0.0007\n",
      "Training metric: 0.8524\n",
      "perturbation loss: 0.0002\n"
     ]
    },
    {
     "name": "stderr",
     "output_type": "stream",
     "text": [
      "\r\n",
      " 98%|█████████▊| 98/100 [1:23:30<01:42, 51.04s/it]"
     ]
    },
    {
     "name": "stdout",
     "output_type": "stream",
     "text": [
      "Validation acc: 0.9000\n",
      "\n",
      "Start of epoch 98\n",
      "Training loss: 0.1896\n",
      "Training metric: 0.8535\n",
      "perturbation loss: 0.3646\n"
     ]
    },
    {
     "name": "stderr",
     "output_type": "stream",
     "text": [
      "\r\n",
      " 99%|█████████▉| 99/100 [1:24:21<00:51, 51.05s/it]"
     ]
    },
    {
     "name": "stdout",
     "output_type": "stream",
     "text": [
      "Validation acc: 0.8933\n",
      "\n",
      "Start of epoch 99\n",
      "Training loss: 0.0002\n",
      "Training metric: 0.8546\n",
      "perturbation loss: 0.0004\n"
     ]
    },
    {
     "name": "stderr",
     "output_type": "stream",
     "text": [
      "100%|██████████| 100/100 [1:25:12<00:00, 51.12s/it]"
     ]
    },
    {
     "name": "stdout",
     "output_type": "stream",
     "text": [
      "Validation acc: 0.9000\n"
     ]
    },
    {
     "name": "stderr",
     "output_type": "stream",
     "text": [
      "\n"
     ]
    }
   ],
   "source": [
    "train_loss = []\n",
    "train_metric = []\n",
    "val_metric = []\n",
    "p_loss = []\n",
    "for epoch in tqdm(range(100)):\n",
    "    print(\"\\nStart of epoch %d\" % (epoch,))\n",
    "    for step, (x, label) in enumerate(train_dataset):\n",
    "        loss, train_acc, l, x_p, g = training_step(x, label)\n",
    "\n",
    "    print(\n",
    "        \"Training loss: %.4f\\nTraining metric: %.4f\"\n",
    "        % (float(loss), float(train_acc))\n",
    "    )\n",
    "    print(\"perturbation loss: %.4f\" % float(l))\n",
    "\n",
    "    for x_batch_val, y_batch_val in val_dataset:\n",
    "        val_logits = model(x_batch_val, training=False)\n",
    "        # Update val metrics\n",
    "        val_acc_metric.update_state(y_batch_val, val_logits)\n",
    "    val_acc = val_acc_metric.result()\n",
    "    val_acc_metric.reset_states()\n",
    "    print(\"Validation acc: %.4f\" % (float(val_acc)))\n",
    "\n",
    "    train_loss.append(loss)\n",
    "    train_metric.append(train_acc)\n",
    "    val_metric.append(val_acc)\n",
    "    p_loss.append(l)\n",
    "    \n",
    "    tl = np.array(train_loss)\n",
    "    tm = np.array(train_metric)\n",
    "    vm = np.array(val_metric)\n",
    "    pl = np.array(p_loss)\n",
    "    \n",
    "    np.savez(\"logs.npz\", train_loss=tl, train_acc=tm, val_acc=vm, p_loss=pl)"
   ]
  },
  {
   "cell_type": "code",
   "execution_count": 26,
   "metadata": {},
   "outputs": [
    {
     "data": {
      "text/plain": [
       "[<matplotlib.lines.Line2D at 0x7f274c451e20>]"
      ]
     },
     "execution_count": 26,
     "metadata": {},
     "output_type": "execute_result"
    },
    {
     "data": {
      "image/png": "[encoded data removed]",
      "text/plain": [
       "<Figure size 640x480 with 1 Axes>"
      ]
     },
     "metadata": {},
     "output_type": "display_data"
    }
   ],
   "source": [
    "plt.plot(x_p[1])"
   ]
  },
  {
   "cell_type": "code",
   "execution_count": 27,
   "metadata": {},
   "outputs": [
    {
     "data": {
      "text/plain": [
       "[<matplotlib.lines.Line2D at 0x7f274c3e2ac0>]"
      ]
     },
     "execution_count": 27,
     "metadata": {},
     "output_type": "execute_result"
    },
    {
     "data": {
      "image/png": "[encoded data removed]",
      "text/plain": [
       "<Figure size 640x480 with 1 Axes>"
      ]
     },
     "metadata": {},
     "output_type": "display_data"
    }
   ],
   "source": [
    "plt.plot(x[1])"
   ]
  },
  {
   "cell_type": "code",
   "execution_count": 29,
   "metadata": {},
   "outputs": [
    {
     "data": {
      "text/plain": [
       "[<matplotlib.lines.Line2D at 0x7f274c2e69a0>]"
      ]
     },
     "execution_count": 29,
     "metadata": {},
     "output_type": "execute_result"
    },
    {
     "data": {
      "image/png": "[encoded data removed]",
      "text/plain": [
       "<Figure size 640x480 with 1 Axes>"
      ]
     },
     "metadata": {},
     "output_type": "display_data"
    }
   ],
   "source": [
    "plt.plot(x[1]+x_p[1])"
   ]
  }
 ],
 "metadata": {
  "accelerator": "GPU",
  "colab": {
   "gpuType": "V100",
   "provenance": []
  },
  "kernelspec": {
   "display_name": "tf",
   "language": "python",
   "name": "tf"
  },
  "language_info": {
   "codemirror_mode": {
    "name": "ipython",
    "version": 3
   },
   "file_extension": ".py",
   "mimetype": "text/x-python",
   "name": "python",
   "nbconvert_exporter": "python",
   "pygments_lexer": "ipython3",
   "version": "3.9.17"
  }
 },
 "nbformat": 4,
 "nbformat_minor": 5
}
