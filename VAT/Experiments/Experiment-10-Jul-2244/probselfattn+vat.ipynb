{
  "cells": [
    {
      "cell_type": "code",
      "source": [
        "from google.colab import drive\n",
        "drive.mount('/content/drive')"
      ],
      "metadata": {
        "colab": {
          "base_uri": "https://localhost:8080/"
        },
        "id": "kixbsqSzkgN_",
        "outputId": "11bb9f71-7284-499c-a825-716fd66ccc67"
      },
      "id": "kixbsqSzkgN_",
      "execution_count": 1,
      "outputs": [
        {
          "output_type": "stream",
          "name": "stdout",
          "text": [
            "Mounted at /content/drive\n"
          ]
        }
      ]
    },
    {
      "cell_type": "code",
      "execution_count": 1,
      "metadata": {
        "id": "5a92ca08"
      },
      "outputs": [],
      "source": [
        "import tensorflow as tf\n",
        "from tensorflow import keras\n",
        "import numpy as np\n",
        "import pandas as pd\n",
        "import matplotlib.pyplot as plt\n",
        "from tqdm import tqdm\n",
        "from keras import layers\n",
        "import sys\n",
        "sys.path.insert(1, \"drive/MyDrive/Informer-Tensorflow/models\")\n",
        "sys.path.insert(1, \"drive/MyDrive/Informer-Tensorflow\")"
      ],
      "id": "5a92ca08"
    },
    {
      "cell_type": "code",
      "execution_count": 2,
      "metadata": {
        "id": "96af8478"
      },
      "outputs": [],
      "source": [
        "from attn import ProbAttention, AttentionLayer"
      ],
      "id": "96af8478"
    },
    {
      "cell_type": "code",
      "execution_count": 31,
      "metadata": {
        "id": "cdd4a815"
      },
      "outputs": [],
      "source": [
        "class MultiHeadProbAttention(tf.keras.layers.Layer):\n",
        "    def __init__(self, d_model, num_heads):\n",
        "        super(MultiHeadProbAttention, self).__init__()\n",
        "        self.d_model = d_model\n",
        "        self.num_heads = num_heads\n",
        "        self.attn = AttentionLayer(ProbAttention(False), self.d_model, self.num_heads)\n",
        "    def call(self, inputs):\n",
        "        query = inputs\n",
        "        key = inputs\n",
        "        value = inputs\n",
        "        x = self.attn([query, key, value])\n",
        "        return x\n"
      ],
      "id": "cdd4a815"
    },
    {
      "cell_type": "code",
      "execution_count": 32,
      "metadata": {
        "id": "038dd8c1"
      },
      "outputs": [],
      "source": [
        "def positional_encoding(length, depth):\n",
        "    depth = depth/2\n",
        "\n",
        "    positions = np.arange(length)[:, np.newaxis]     # (seq, 1)\n",
        "    depths = np.arange(depth)[np.newaxis, :]/depth   # (1, depth)\n",
        "\n",
        "    angle_rates = 1 / (10000**depths)         # (1, depth)\n",
        "    angle_rads = positions * angle_rates      # (pos, depth)\n",
        "\n",
        "    pos_encoding = np.concatenate(\n",
        "        [np.sin(angle_rads), np.cos(angle_rads)],\n",
        "        axis=-1)\n",
        "\n",
        "    return tf.cast(pos_encoding, dtype=tf.float32)\n",
        "\n",
        "class PositionalEmbedding(tf.keras.layers.Layer):\n",
        "    def __init__(self, d_model):\n",
        "        super().__init__()\n",
        "        self.d_model = d_model\n",
        "        # self.embedding = tf.keras.layers.Embedding(vocab_size, d_model, mask_zero=True)\n",
        "        self.pos_encoding = positional_encoding(length=2048, depth=d_model)\n",
        "\n",
        "    # def compute_mask(self, *args, **kwargs):\n",
        "    #     return self.embedding.compute_mask(*args, **kwargs)\n",
        "\n",
        "    def call(self, x):\n",
        "        length = tf.shape(x)[1]\n",
        "        # x = self.embedding(x)\n",
        "        # This factor sets the relative scale of the embedding and positonal_encoding.\n",
        "        x *= tf.math.sqrt(tf.cast(self.d_model, tf.float32))\n",
        "        x = x + self.pos_encoding[tf.newaxis, :length, :]\n",
        "        return x"
      ],
      "id": "038dd8c1"
    },
    {
      "cell_type": "code",
      "execution_count": 33,
      "metadata": {
        "id": "c2b896e1"
      },
      "outputs": [],
      "source": [
        "class ConvLayer(keras.layers.Layer):\n",
        "    def __init__(self, c_in):\n",
        "        super(ConvLayer, self).__init__()\n",
        "        self.downConv = tf.keras.layers.Conv1D(\n",
        "                                  filters=c_in,\n",
        "                                  kernel_size=3,\n",
        "                                  padding='causal')\n",
        "        self.norm = tf.keras.layers.BatchNormalization()\n",
        "        self.activation = tf.keras.layers.ELU()\n",
        "        self.maxPool = tf.keras.layers.MaxPool1D(pool_size=3)#, strides=2)\n",
        "\n",
        "    def call(self, x, **kargs):\n",
        "        x = self.downConv(x)\n",
        "        x = self.norm(x)\n",
        "        x = self.activation(x)\n",
        "        x = self.maxPool(x)\n",
        "        return x"
      ],
      "id": "c2b896e1"
    },
    {
      "cell_type": "code",
      "execution_count": 34,
      "metadata": {
        "id": "74a7087c"
      },
      "outputs": [],
      "source": [
        "BATCH_SIZE = 32\n",
        "def models():\n",
        "    inputs = keras.layers.Input(shape=(127,15), batch_size=BATCH_SIZE)\n",
        "    # x = keras.layers.Dense(32, activation=\"tanh\")(inputs)\n",
        "    x = keras.layers.Conv1D(32, 1, activation='tanh')(inputs)\n",
        "    x = PositionalEmbedding(32)(x)\n",
        "    x = MultiHeadProbAttention(128, 32)(x)\n",
        "    x = ConvLayer(64)(x)\n",
        "    x = MultiHeadProbAttention(64, 32)(x)\n",
        "    x = ConvLayer(32)(x)\n",
        "    x = keras.layers.LayerNormalization()(x)\n",
        "    x = keras.layers.GlobalAveragePooling1D(data_format='channels_first')(x)\n",
        "    x = keras.layers.Dense(5, activation='softmax')(x)\n",
        "    return keras.Model(inputs, x)"
      ],
      "id": "74a7087c"
    },
    {
      "cell_type": "code",
      "execution_count": 35,
      "metadata": {
        "colab": {
          "base_uri": "https://localhost:8080/"
        },
        "id": "a47c96b0",
        "outputId": "596992f7-f401-4fc3-b9ed-5abd87c47bac"
      },
      "outputs": [
        {
          "output_type": "stream",
          "name": "stdout",
          "text": [
            "[TensorShape([32, 127, 32]), TensorShape([32, 127, 32]), TensorShape([32, 127, 32])]\n",
            "[TensorShape([32, 42, 64]), TensorShape([32, 42, 64]), TensorShape([32, 42, 64])]\n",
            "Model: \"model_3\"\n",
            "_________________________________________________________________\n",
            " Layer (type)                Output Shape              Param #   \n",
            "=================================================================\n",
            " input_4 (InputLayer)        [(32, 127, 15)]           0         \n",
            "                                                                 \n",
            " conv1d_9 (Conv1D)           (32, 127, 32)             512       \n",
            "                                                                 \n",
            " positional_embedding_3 (Pos  (32, 127, 32)            0         \n",
            " itionalEmbedding)                                               \n",
            "                                                                 \n",
            " multi_head_prob_attention_6  (32, 127, 128)           29184     \n",
            "  (MultiHeadProbAttention)                                       \n",
            "                                                                 \n",
            " conv_layer_6 (ConvLayer)    (32, 42, 64)              24896     \n",
            "                                                                 \n",
            " multi_head_prob_attention_7  (32, 42, 64)             16640     \n",
            "  (MultiHeadProbAttention)                                       \n",
            "                                                                 \n",
            " conv_layer_7 (ConvLayer)    (32, 14, 32)              6304      \n",
            "                                                                 \n",
            " layer_normalization_3 (Laye  (32, 14, 32)             64        \n",
            " rNormalization)                                                 \n",
            "                                                                 \n",
            " global_average_pooling1d_3   (32, 14)                 0         \n",
            " (GlobalAveragePooling1D)                                        \n",
            "                                                                 \n",
            " dense_35 (Dense)            (32, 5)                   75        \n",
            "                                                                 \n",
            "=================================================================\n",
            "Total params: 77,675\n",
            "Trainable params: 77,483\n",
            "Non-trainable params: 192\n",
            "_________________________________________________________________\n"
          ]
        }
      ],
      "source": [
        "model = models()\n",
        "model.summary()\n",
        "# del model"
      ],
      "id": "a47c96b0"
    },
    {
      "cell_type": "code",
      "execution_count": 8,
      "metadata": {
        "colab": {
          "base_uri": "https://localhost:8080/"
        },
        "id": "efe164a9",
        "outputId": "9ba6294f-0125-4086-d6b3-65a6ee1f1795"
      },
      "outputs": [
        {
          "output_type": "execute_result",
          "data": {
            "text/plain": [
              "<tf.Tensor: shape=(32, 5), dtype=float32, numpy=\n",
              "array([[0.2       , 0.2       , 0.19999997, 0.2       , 0.2       ],\n",
              "       [0.2       , 0.2       , 0.19999997, 0.2       , 0.2       ],\n",
              "       [0.20000002, 0.20000002, 0.19999997, 0.20000002, 0.19999999],\n",
              "       [0.2       , 0.2       , 0.2       , 0.2       , 0.2       ],\n",
              "       [0.2       , 0.2       , 0.2       , 0.2       , 0.2       ],\n",
              "       [0.19999999, 0.20000002, 0.19999999, 0.19999999, 0.20000002],\n",
              "       [0.2       , 0.19999997, 0.2       , 0.2       , 0.2       ],\n",
              "       [0.2       , 0.2       , 0.2       , 0.2       , 0.19999997],\n",
              "       [0.20000002, 0.19999999, 0.19999999, 0.20000002, 0.19999999],\n",
              "       [0.20000002, 0.19999997, 0.19999997, 0.20000002, 0.19999999],\n",
              "       [0.19999997, 0.20000002, 0.20000002, 0.19999997, 0.20000002],\n",
              "       [0.19999997, 0.2       , 0.2       , 0.2       , 0.2       ],\n",
              "       [0.19999997, 0.2       , 0.2       , 0.2       , 0.2       ],\n",
              "       [0.2       , 0.2       , 0.19999997, 0.19999997, 0.2       ],\n",
              "       [0.20000003, 0.19999999, 0.20000002, 0.20000003, 0.19999999],\n",
              "       [0.19999997, 0.2       , 0.2       , 0.2       , 0.2       ],\n",
              "       [0.2       , 0.19999997, 0.2       , 0.19999997, 0.2       ],\n",
              "       [0.2       , 0.2       , 0.2       , 0.19999997, 0.2       ],\n",
              "       [0.2       , 0.2       , 0.2       , 0.2       , 0.2       ],\n",
              "       [0.2       , 0.2       , 0.2       , 0.2       , 0.2       ],\n",
              "       [0.19999999, 0.20000002, 0.20000002, 0.19999999, 0.19999999],\n",
              "       [0.20000002, 0.20000002, 0.19999997, 0.19999999, 0.19999999],\n",
              "       [0.20000003, 0.20000002, 0.19999999, 0.20000003, 0.19999999],\n",
              "       [0.2       , 0.2       , 0.2       , 0.19999997, 0.2       ],\n",
              "       [0.2       , 0.19999997, 0.19999997, 0.2       , 0.2       ],\n",
              "       [0.19999999, 0.20000002, 0.20000002, 0.19999997, 0.20000002],\n",
              "       [0.19999997, 0.2       , 0.2       , 0.2       , 0.19999997],\n",
              "       [0.2       , 0.19999997, 0.19999997, 0.2       , 0.2       ],\n",
              "       [0.2       , 0.2       , 0.2       , 0.19999997, 0.2       ],\n",
              "       [0.19999999, 0.19999999, 0.19999999, 0.20000002, 0.19999999],\n",
              "       [0.2       , 0.2       , 0.2       , 0.2       , 0.2       ],\n",
              "       [0.19999999, 0.20000002, 0.19999999, 0.19999999, 0.19999999]],\n",
              "      dtype=float32)>"
            ]
          },
          "metadata": {},
          "execution_count": 8
        }
      ],
      "source": [
        "x = tf.random.normal((BATCH_SIZE, 127, 15))\n",
        "model(x)"
      ],
      "id": "efe164a9"
    },
    {
      "cell_type": "code",
      "execution_count": 36,
      "metadata": {
        "id": "Pqxls7OdFuBa"
      },
      "outputs": [],
      "source": [
        "data = np.load(\"mfcc.npz\")\n",
        "X = data[\"X\"]\n",
        "X_mask = data[\"X_mask\"]\n",
        "Y = data[\"Y\"]\n",
        "\n",
        "x_train = X[0:832]\n",
        "x_mask_train = X_mask[0:832]\n",
        "y_train = Y[0:832]\n",
        "x_test = X[872:]\n",
        "y_test = Y[872:]"
      ],
      "id": "Pqxls7OdFuBa"
    },
    {
      "cell_type": "code",
      "execution_count": 37,
      "metadata": {
        "id": "Z2IpMQoDGE8P"
      },
      "outputs": [],
      "source": [
        "train_dataset = tf.data.Dataset.from_tensor_slices((x_train, y_train, x_mask_train))\n",
        "train_dataset = train_dataset.shuffle(buffer_size=10000).batch(BATCH_SIZE)\n",
        "\n",
        "val_dataset = tf.data.Dataset.from_tensor_slices((x_test, y_test))\n",
        "val_dataset = val_dataset.shuffle(buffer_size=1000).batch(BATCH_SIZE)"
      ],
      "id": "Z2IpMQoDGE8P"
    },
    {
      "cell_type": "code",
      "execution_count": 38,
      "metadata": {
        "id": "mHS5ftloF9hF"
      },
      "outputs": [],
      "source": [
        "x = x_train[0:BATCH_SIZE]\n",
        "x_rank = tf.rank(x).numpy()\n",
        "x_norm_resize_shape = [BATCH_SIZE] + list(tf.ones(tf.rank(x), dtype=tf.int32).numpy())[1:]"
      ],
      "id": "mHS5ftloF9hF"
    },
    {
      "cell_type": "code",
      "execution_count": 39,
      "metadata": {
        "id": "Acy81xYrkYCD"
      },
      "outputs": [],
      "source": [
        "class CustomSchedule(tf.keras.optimizers.schedules.LearningRateSchedule):\n",
        "    def __init__(self, d_model, warmup_steps=4000):\n",
        "        super().__init__()\n",
        "\n",
        "        self.d_model = d_model\n",
        "        self.d_model = tf.cast(self.d_model, tf.float32)\n",
        "\n",
        "        self.warmup_steps = warmup_steps\n",
        "\n",
        "    def __call__(self, step):\n",
        "        step = tf.cast(step, dtype=tf.float32)\n",
        "        arg1 = tf.math.rsqrt(step)\n",
        "        arg2 = step * (self.warmup_steps ** -1.5)\n",
        "\n",
        "        return tf.math.rsqrt(self.d_model) * tf.math.minimum(arg1, arg2)"
      ],
      "id": "Acy81xYrkYCD"
    },
    {
      "cell_type": "code",
      "execution_count": 40,
      "metadata": {
        "id": "3YkUbzm0GZF1"
      },
      "outputs": [],
      "source": [
        "def perturbation_loss(x, y, from_logits=False):\n",
        "    return keras.losses.CategoricalCrossentropy(from_logits=from_logits)(x, y)\n",
        "\n",
        "loss_fn = keras.losses.SparseCategoricalCrossentropy(from_logits=False)\n",
        "learning_rate = CustomSchedule(32)\n",
        "optimizer = keras.optimizers.experimental.AdamW(learning_rate=learning_rate, beta_1=0.9, beta_2=0.98,\n",
        "                                     epsilon=1e-9)\n",
        "\n",
        "train_acc_metric = keras.metrics.SparseCategoricalAccuracy()\n",
        "val_acc_metric = keras.metrics.SparseCategoricalAccuracy()"
      ],
      "id": "3YkUbzm0GZF1"
    },
    {
      "cell_type": "code",
      "execution_count": 41,
      "metadata": {
        "id": "z8vyGiiAGgt8"
      },
      "outputs": [],
      "source": [
        "eps = 8.     # the perturbation parameter\n",
        "sig = 1e-5   # initial perturbation StdDev\n",
        "zeta = 1e-6  # differentiation constant\n",
        "lamd = 1     # regularization parameter\n",
        "\n",
        "@tf.function\n",
        "def training_step(x, label, x_mask):\n",
        "    x_p = tf.random.normal(x.shape, stddev=sig)\n",
        "    x_norm = x_p\n",
        "    for i in range(x_rank-1, 0, -1):\n",
        "        x_norm = tf.norm(x_norm, ord=2, axis=int(i))\n",
        "    x_p /= tf.reshape(x_norm, (BATCH_SIZE, 1, 1))\n",
        "    x_p *= zeta\n",
        "\n",
        "\n",
        "    with tf.GradientTape() as adversarial_tape:\n",
        "        adversarial_tape.watch(x_p)\n",
        "        y_p = model(x + x_p, training=True)\n",
        "        y = model(x, training=True)\n",
        "        l = perturbation_loss(y, y_p)\n",
        "    g = adversarial_tape.gradient(l, x_p)\n",
        "    print(g[0])\n",
        "\n",
        "    g_norm = g\n",
        "    for i in range(x_rank-1, 0, -1):\n",
        "        g_norm = tf.norm(g_norm, ord=2, axis=int(i))\n",
        "\n",
        "    x_p = eps * g / tf.reshape(g_norm, x_norm_resize_shape)\n",
        "    x_p *= x_mask\n",
        "\n",
        "    with tf.GradientTape() as model_tape:\n",
        "        y_p = model(x + x_p, training=True)\n",
        "        y = model(x, training=True)\n",
        "        l = perturbation_loss(y, y_p)    # Recalculate regularization\n",
        "\n",
        "        logits = model(x, training=True)\n",
        "        loss = loss_fn(label, logits) + lamd * l / BATCH_SIZE\n",
        "    grads = model_tape.gradient(loss, model.trainable_weights)\n",
        "    optimizer.apply_gradients(zip(grads, model.trainable_weights))\n",
        "\n",
        "    train_acc_metric.update_state(label, logits)\n",
        "    return loss, train_acc_metric.result(), l, x_p, g"
      ],
      "id": "z8vyGiiAGgt8"
    },
    {
      "cell_type": "code",
      "execution_count": 42,
      "metadata": {
        "colab": {
          "base_uri": "https://localhost:8080/"
        },
        "id": "_cymWSORGwww",
        "outputId": "6c3a3fb4-bdd1-4437-a912-be180d3e7799"
      },
      "outputs": [
        {
          "output_type": "stream",
          "name": "stderr",
          "text": [
            "\r  0%|          | 0/1000 [00:00<?, ?it/s]"
          ]
        },
        {
          "output_type": "stream",
          "name": "stdout",
          "text": [
            "\n",
            "Start of epoch 0\n",
            "Tensor(\"strided_slice:0\", shape=(127, 15), dtype=float32)\n",
            "Tensor(\"strided_slice:0\", shape=(127, 15), dtype=float32)\n",
            "Training loss: 1.6596\n",
            "Training metric: 0.2993\n",
            "perturbation loss: 1.6094\n"
          ]
        },
        {
          "output_type": "stream",
          "name": "stderr",
          "text": [
            "\r  0%|          | 1/1000 [00:16<4:32:45, 16.38s/it]"
          ]
        },
        {
          "output_type": "stream",
          "name": "stdout",
          "text": [
            "Validation acc: 0.3203\n",
            "\n",
            "Start of epoch 1\n",
            "Training loss: 1.6593\n",
            "Training metric: 0.3864\n",
            "perturbation loss: 1.6094\n"
          ]
        },
        {
          "output_type": "stream",
          "name": "stderr",
          "text": [
            "\r  0%|          | 2/1000 [00:18<2:12:02,  7.94s/it]"
          ]
        },
        {
          "output_type": "stream",
          "name": "stdout",
          "text": [
            "Validation acc: 0.3438\n",
            "\n",
            "Start of epoch 2\n",
            "Training loss: 1.6574\n",
            "Training metric: 0.4115\n",
            "perturbation loss: 1.6094\n"
          ]
        },
        {
          "output_type": "stream",
          "name": "stderr",
          "text": [
            "\r  0%|          | 3/1000 [00:20<1:28:33,  5.33s/it]"
          ]
        },
        {
          "output_type": "stream",
          "name": "stdout",
          "text": [
            "Validation acc: 0.3281\n",
            "\n",
            "Start of epoch 3\n",
            "Training loss: 1.6563\n",
            "Training metric: 0.4282\n",
            "perturbation loss: 1.6094\n"
          ]
        },
        {
          "output_type": "stream",
          "name": "stderr",
          "text": [
            "\r  0%|          | 4/1000 [00:22<1:03:22,  3.82s/it]"
          ]
        },
        {
          "output_type": "stream",
          "name": "stdout",
          "text": [
            "Validation acc: 0.3359\n",
            "\n",
            "Start of epoch 4\n",
            "Training loss: 1.6489\n",
            "Training metric: 0.4351\n",
            "perturbation loss: 1.6094\n"
          ]
        },
        {
          "output_type": "stream",
          "name": "stderr",
          "text": [
            "\r  0%|          | 5/1000 [00:23<49:09,  2.96s/it]  "
          ]
        },
        {
          "output_type": "stream",
          "name": "stdout",
          "text": [
            "Validation acc: 0.3672\n",
            "\n",
            "Start of epoch 5\n",
            "Training loss: 1.6485\n",
            "Training metric: 0.4377\n",
            "perturbation loss: 1.6093\n"
          ]
        },
        {
          "output_type": "stream",
          "name": "stderr",
          "text": [
            "\r  1%|          | 6/1000 [00:25<40:33,  2.45s/it]"
          ]
        },
        {
          "output_type": "stream",
          "name": "stdout",
          "text": [
            "Validation acc: 0.3906\n",
            "\n",
            "Start of epoch 6\n",
            "Training loss: 1.6403\n",
            "Training metric: 0.4464\n",
            "perturbation loss: 1.6092\n"
          ]
        },
        {
          "output_type": "stream",
          "name": "stderr",
          "text": [
            "\r  1%|          | 7/1000 [00:26<35:02,  2.12s/it]"
          ]
        },
        {
          "output_type": "stream",
          "name": "stdout",
          "text": [
            "Validation acc: 0.3125\n",
            "\n",
            "Start of epoch 7\n",
            "Training loss: 1.6390\n",
            "Training metric: 0.4539\n",
            "perturbation loss: 1.6091\n"
          ]
        },
        {
          "output_type": "stream",
          "name": "stderr",
          "text": [
            "\r  1%|          | 8/1000 [00:27<31:20,  1.90s/it]"
          ]
        },
        {
          "output_type": "stream",
          "name": "stdout",
          "text": [
            "Validation acc: 0.4297\n",
            "\n",
            "Start of epoch 8\n",
            "Training loss: 1.6282\n",
            "Training metric: 0.4654\n",
            "perturbation loss: 1.6088\n"
          ]
        },
        {
          "output_type": "stream",
          "name": "stderr",
          "text": [
            "\r  1%|          | 9/1000 [00:29<28:56,  1.75s/it]"
          ]
        },
        {
          "output_type": "stream",
          "name": "stdout",
          "text": [
            "Validation acc: 0.4141\n",
            "\n",
            "Start of epoch 9\n",
            "Training loss: 1.6127\n",
            "Training metric: 0.4756\n",
            "perturbation loss: 1.6082\n"
          ]
        },
        {
          "output_type": "stream",
          "name": "stderr",
          "text": [
            "\r  1%|          | 10/1000 [00:31<29:13,  1.77s/it]"
          ]
        },
        {
          "output_type": "stream",
          "name": "stdout",
          "text": [
            "Validation acc: 0.3984\n",
            "\n",
            "Start of epoch 10\n",
            "Training loss: 1.5835\n",
            "Training metric: 0.4892\n",
            "perturbation loss: 1.6078\n"
          ]
        },
        {
          "output_type": "stream",
          "name": "stderr",
          "text": [
            "\r  1%|          | 11/1000 [00:32<29:38,  1.80s/it]"
          ]
        },
        {
          "output_type": "stream",
          "name": "stdout",
          "text": [
            "Validation acc: 0.5391\n",
            "\n",
            "Start of epoch 11\n",
            "Training loss: 1.5857\n",
            "Training metric: 0.5025\n",
            "perturbation loss: 1.6072\n"
          ]
        },
        {
          "output_type": "stream",
          "name": "stderr",
          "text": [
            "\r  1%|          | 12/1000 [00:34<29:32,  1.79s/it]"
          ]
        },
        {
          "output_type": "stream",
          "name": "stdout",
          "text": [
            "Validation acc: 0.4531\n",
            "\n",
            "Start of epoch 12\n",
            "Training loss: 1.5799\n",
            "Training metric: 0.5161\n",
            "perturbation loss: 1.6063\n"
          ]
        },
        {
          "output_type": "stream",
          "name": "stderr",
          "text": [
            "\r  1%|▏         | 13/1000 [00:36<27:38,  1.68s/it]"
          ]
        },
        {
          "output_type": "stream",
          "name": "stdout",
          "text": [
            "Validation acc: 0.4844\n",
            "\n",
            "Start of epoch 13\n",
            "Training loss: 1.5602\n",
            "Training metric: 0.5255\n",
            "perturbation loss: 1.6051\n"
          ]
        },
        {
          "output_type": "stream",
          "name": "stderr",
          "text": [
            "\r  1%|▏         | 14/1000 [00:37<26:25,  1.61s/it]"
          ]
        },
        {
          "output_type": "stream",
          "name": "stdout",
          "text": [
            "Validation acc: 0.4297\n",
            "\n",
            "Start of epoch 14\n",
            "Training loss: 1.5424\n",
            "Training metric: 0.5346\n",
            "perturbation loss: 1.6032\n"
          ]
        },
        {
          "output_type": "stream",
          "name": "stderr",
          "text": [
            "\r  2%|▏         | 15/1000 [00:39<25:26,  1.55s/it]"
          ]
        },
        {
          "output_type": "stream",
          "name": "stdout",
          "text": [
            "Validation acc: 0.5078\n",
            "\n",
            "Start of epoch 15\n",
            "Training loss: 1.5383\n",
            "Training metric: 0.5424\n",
            "perturbation loss: 1.6011\n"
          ]
        },
        {
          "output_type": "stream",
          "name": "stderr",
          "text": [
            "\r  2%|▏         | 16/1000 [00:40<24:46,  1.51s/it]"
          ]
        },
        {
          "output_type": "stream",
          "name": "stdout",
          "text": [
            "Validation acc: 0.5312\n",
            "\n",
            "Start of epoch 16\n",
            "Training loss: 1.4949\n",
            "Training metric: 0.5525\n",
            "perturbation loss: 1.5991\n"
          ]
        },
        {
          "output_type": "stream",
          "name": "stderr",
          "text": [
            "\r  2%|▏         | 17/1000 [00:41<24:23,  1.49s/it]"
          ]
        },
        {
          "output_type": "stream",
          "name": "stdout",
          "text": [
            "Validation acc: 0.5000\n",
            "\n",
            "Start of epoch 17\n",
            "Training loss: 1.4517\n",
            "Training metric: 0.5614\n",
            "perturbation loss: 1.5946\n"
          ]
        },
        {
          "output_type": "stream",
          "name": "stderr",
          "text": [
            "\r  2%|▏         | 18/1000 [00:43<24:28,  1.49s/it]"
          ]
        },
        {
          "output_type": "stream",
          "name": "stdout",
          "text": [
            "Validation acc: 0.5938\n",
            "\n",
            "Start of epoch 18\n",
            "Training loss: 1.4807\n",
            "Training metric: 0.5691\n",
            "perturbation loss: 1.5928\n"
          ]
        },
        {
          "output_type": "stream",
          "name": "stderr",
          "text": [
            "\r  2%|▏         | 19/1000 [00:44<24:41,  1.51s/it]"
          ]
        },
        {
          "output_type": "stream",
          "name": "stdout",
          "text": [
            "Validation acc: 0.5312\n",
            "\n",
            "Start of epoch 19\n",
            "Training loss: 1.4475\n",
            "Training metric: 0.5759\n",
            "perturbation loss: 1.5856\n"
          ]
        },
        {
          "output_type": "stream",
          "name": "stderr",
          "text": [
            "\r  2%|▏         | 20/1000 [00:47<27:53,  1.71s/it]"
          ]
        },
        {
          "output_type": "stream",
          "name": "stdout",
          "text": [
            "Validation acc: 0.5312\n",
            "\n",
            "Start of epoch 20\n",
            "Training loss: 1.3780\n",
            "Training metric: 0.5829\n",
            "perturbation loss: 1.5754\n"
          ]
        },
        {
          "output_type": "stream",
          "name": "stderr",
          "text": [
            "\r  2%|▏         | 21/1000 [00:48<28:03,  1.72s/it]"
          ]
        },
        {
          "output_type": "stream",
          "name": "stdout",
          "text": [
            "Validation acc: 0.6094\n",
            "\n",
            "Start of epoch 21\n",
            "Training loss: 1.3364\n",
            "Training metric: 0.5898\n",
            "perturbation loss: 1.5650\n"
          ]
        },
        {
          "output_type": "stream",
          "name": "stderr",
          "text": [
            "\r  2%|▏         | 22/1000 [00:50<26:21,  1.62s/it]"
          ]
        },
        {
          "output_type": "stream",
          "name": "stdout",
          "text": [
            "Validation acc: 0.5625\n",
            "\n",
            "Start of epoch 22\n",
            "Training loss: 1.3510\n",
            "Training metric: 0.5952\n",
            "perturbation loss: 1.5586\n"
          ]
        },
        {
          "output_type": "stream",
          "name": "stderr",
          "text": [
            "\r  2%|▏         | 23/1000 [00:51<25:29,  1.57s/it]"
          ]
        },
        {
          "output_type": "stream",
          "name": "stdout",
          "text": [
            "Validation acc: 0.4453\n",
            "\n",
            "Start of epoch 23\n",
            "Training loss: 1.3277\n",
            "Training metric: 0.6014\n",
            "perturbation loss: 1.5541\n"
          ]
        },
        {
          "output_type": "stream",
          "name": "stderr",
          "text": [
            "\r  2%|▏         | 24/1000 [00:53<24:58,  1.54s/it]"
          ]
        },
        {
          "output_type": "stream",
          "name": "stdout",
          "text": [
            "Validation acc: 0.5703\n",
            "\n",
            "Start of epoch 24\n",
            "Training loss: 1.2328\n",
            "Training metric: 0.6072\n",
            "perturbation loss: 1.5320\n"
          ]
        },
        {
          "output_type": "stream",
          "name": "stderr",
          "text": [
            "\r  2%|▎         | 25/1000 [00:54<24:40,  1.52s/it]"
          ]
        },
        {
          "output_type": "stream",
          "name": "stdout",
          "text": [
            "Validation acc: 0.5234\n",
            "\n",
            "Start of epoch 25\n",
            "Training loss: 1.2686\n",
            "Training metric: 0.6127\n",
            "perturbation loss: 1.5220\n"
          ]
        },
        {
          "output_type": "stream",
          "name": "stderr",
          "text": [
            "\r  3%|▎         | 26/1000 [00:56<24:12,  1.49s/it]"
          ]
        },
        {
          "output_type": "stream",
          "name": "stdout",
          "text": [
            "Validation acc: 0.5391\n",
            "\n",
            "Start of epoch 26\n",
            "Training loss: 1.1218\n",
            "Training metric: 0.6185\n",
            "perturbation loss: 1.5099\n"
          ]
        },
        {
          "output_type": "stream",
          "name": "stderr",
          "text": [
            "\r  3%|▎         | 27/1000 [00:57<23:52,  1.47s/it]"
          ]
        },
        {
          "output_type": "stream",
          "name": "stdout",
          "text": [
            "Validation acc: 0.6484\n",
            "\n",
            "Start of epoch 27\n",
            "Training loss: 1.1457\n",
            "Training metric: 0.6233\n",
            "perturbation loss: 1.4738\n"
          ]
        },
        {
          "output_type": "stream",
          "name": "stderr",
          "text": [
            "\r  3%|▎         | 28/1000 [00:59<24:47,  1.53s/it]"
          ]
        },
        {
          "output_type": "stream",
          "name": "stdout",
          "text": [
            "Validation acc: 0.6250\n",
            "\n",
            "Start of epoch 28\n",
            "Training loss: 1.1166\n",
            "Training metric: 0.6283\n",
            "perturbation loss: 1.4691\n"
          ]
        },
        {
          "output_type": "stream",
          "name": "stderr",
          "text": [
            "\r  3%|▎         | 29/1000 [01:01<26:44,  1.65s/it]"
          ]
        },
        {
          "output_type": "stream",
          "name": "stdout",
          "text": [
            "Validation acc: 0.4766\n",
            "\n",
            "Start of epoch 29\n",
            "Training loss: 1.0415\n",
            "Training metric: 0.6331\n",
            "perturbation loss: 1.4397\n"
          ]
        },
        {
          "output_type": "stream",
          "name": "stderr",
          "text": [
            "\r  3%|▎         | 30/1000 [01:02<27:11,  1.68s/it]"
          ]
        },
        {
          "output_type": "stream",
          "name": "stdout",
          "text": [
            "Validation acc: 0.5703\n",
            "\n",
            "Start of epoch 30\n",
            "Training loss: 1.0088\n",
            "Training metric: 0.6374\n",
            "perturbation loss: 1.4256\n"
          ]
        },
        {
          "output_type": "stream",
          "name": "stderr",
          "text": [
            "\r  3%|▎         | 31/1000 [01:04<26:07,  1.62s/it]"
          ]
        },
        {
          "output_type": "stream",
          "name": "stdout",
          "text": [
            "Validation acc: 0.5859\n",
            "\n",
            "Start of epoch 31\n",
            "Training loss: 0.9685\n",
            "Training metric: 0.6426\n",
            "perturbation loss: 1.3525\n"
          ]
        },
        {
          "output_type": "stream",
          "name": "stderr",
          "text": [
            "\r  3%|▎         | 32/1000 [01:05<25:19,  1.57s/it]"
          ]
        },
        {
          "output_type": "stream",
          "name": "stdout",
          "text": [
            "Validation acc: 0.6406\n",
            "\n",
            "Start of epoch 32\n",
            "Training loss: 0.8673\n",
            "Training metric: 0.6475\n",
            "perturbation loss: 1.3411\n"
          ]
        },
        {
          "output_type": "stream",
          "name": "stderr",
          "text": [
            "\r  3%|▎         | 33/1000 [01:07<24:39,  1.53s/it]"
          ]
        },
        {
          "output_type": "stream",
          "name": "stdout",
          "text": [
            "Validation acc: 0.4688\n",
            "\n",
            "Start of epoch 33\n",
            "Training loss: 0.8733\n",
            "Training metric: 0.6526\n",
            "perturbation loss: 1.3007\n"
          ]
        },
        {
          "output_type": "stream",
          "name": "stderr",
          "text": [
            "\r  3%|▎         | 34/1000 [01:08<24:14,  1.51s/it]"
          ]
        },
        {
          "output_type": "stream",
          "name": "stdout",
          "text": [
            "Validation acc: 0.2891\n",
            "\n",
            "Start of epoch 34\n",
            "Training loss: 0.8854\n",
            "Training metric: 0.6581\n",
            "perturbation loss: 1.3588\n"
          ]
        },
        {
          "output_type": "stream",
          "name": "stderr",
          "text": [
            "\r  4%|▎         | 35/1000 [01:10<23:57,  1.49s/it]"
          ]
        },
        {
          "output_type": "stream",
          "name": "stdout",
          "text": [
            "Validation acc: 0.7109\n",
            "\n",
            "Start of epoch 35\n",
            "Training loss: 0.7771\n",
            "Training metric: 0.6630\n",
            "perturbation loss: 1.2573\n"
          ]
        },
        {
          "output_type": "stream",
          "name": "stderr",
          "text": [
            "\r  4%|▎         | 36/1000 [01:11<23:46,  1.48s/it]"
          ]
        },
        {
          "output_type": "stream",
          "name": "stdout",
          "text": [
            "Validation acc: 0.6406\n",
            "\n",
            "Start of epoch 36\n",
            "Training loss: 0.5743\n",
            "Training metric: 0.6680\n",
            "perturbation loss: 1.0902\n"
          ]
        },
        {
          "output_type": "stream",
          "name": "stderr",
          "text": [
            "\r  4%|▎         | 37/1000 [01:14<30:18,  1.89s/it]"
          ]
        },
        {
          "output_type": "stream",
          "name": "stdout",
          "text": [
            "Validation acc: 0.7266\n",
            "\n",
            "Start of epoch 37\n",
            "Training loss: 0.7319\n",
            "Training metric: 0.6735\n",
            "perturbation loss: 1.1292\n"
          ]
        },
        {
          "output_type": "stream",
          "name": "stderr",
          "text": [
            "\r  4%|▍         | 38/1000 [01:17<36:43,  2.29s/it]"
          ]
        },
        {
          "output_type": "stream",
          "name": "stdout",
          "text": [
            "Validation acc: 0.7266\n",
            "\n",
            "Start of epoch 38\n",
            "Training loss: 0.4636\n",
            "Training metric: 0.6785\n",
            "perturbation loss: 0.9886\n"
          ]
        },
        {
          "output_type": "stream",
          "name": "stderr",
          "text": [
            "\r  4%|▍         | 39/1000 [01:19<32:44,  2.04s/it]"
          ]
        },
        {
          "output_type": "stream",
          "name": "stdout",
          "text": [
            "Validation acc: 0.7422\n",
            "\n",
            "Start of epoch 39\n",
            "Training loss: 0.6721\n",
            "Training metric: 0.6837\n",
            "perturbation loss: 1.0769\n"
          ]
        },
        {
          "output_type": "stream",
          "name": "stderr",
          "text": [
            "\r  4%|▍         | 40/1000 [01:20<29:51,  1.87s/it]"
          ]
        },
        {
          "output_type": "stream",
          "name": "stdout",
          "text": [
            "Validation acc: 0.7812\n",
            "\n",
            "Start of epoch 40\n",
            "Training loss: 0.4806\n",
            "Training metric: 0.6888\n",
            "perturbation loss: 0.9015\n"
          ]
        },
        {
          "output_type": "stream",
          "name": "stderr",
          "text": [
            "\r  4%|▍         | 41/1000 [01:22<27:54,  1.75s/it]"
          ]
        },
        {
          "output_type": "stream",
          "name": "stdout",
          "text": [
            "Validation acc: 0.8125\n",
            "\n",
            "Start of epoch 41\n",
            "Training loss: 0.7618\n",
            "Training metric: 0.6936\n",
            "perturbation loss: 1.0546\n"
          ]
        },
        {
          "output_type": "stream",
          "name": "stderr",
          "text": [
            "\r  4%|▍         | 42/1000 [01:23<26:31,  1.66s/it]"
          ]
        },
        {
          "output_type": "stream",
          "name": "stdout",
          "text": [
            "Validation acc: 0.7969\n",
            "\n",
            "Start of epoch 42\n",
            "Training loss: 0.4252\n",
            "Training metric: 0.6976\n",
            "perturbation loss: 0.8084\n"
          ]
        },
        {
          "output_type": "stream",
          "name": "stderr",
          "text": [
            "\r  4%|▍         | 43/1000 [01:24<25:32,  1.60s/it]"
          ]
        },
        {
          "output_type": "stream",
          "name": "stdout",
          "text": [
            "Validation acc: 0.7031\n",
            "\n",
            "Start of epoch 43\n",
            "Training loss: 0.4292\n",
            "Training metric: 0.7020\n",
            "perturbation loss: 0.8108\n"
          ]
        },
        {
          "output_type": "stream",
          "name": "stderr",
          "text": [
            "\r  4%|▍         | 44/1000 [01:26<24:49,  1.56s/it]"
          ]
        },
        {
          "output_type": "stream",
          "name": "stdout",
          "text": [
            "Validation acc: 0.6328\n",
            "\n",
            "Start of epoch 44\n",
            "Training loss: 0.5187\n",
            "Training metric: 0.7057\n",
            "perturbation loss: 0.8096\n"
          ]
        },
        {
          "output_type": "stream",
          "name": "stderr",
          "text": [
            "\r  4%|▍         | 45/1000 [01:28<27:16,  1.71s/it]"
          ]
        },
        {
          "output_type": "stream",
          "name": "stdout",
          "text": [
            "Validation acc: 0.7656\n",
            "\n",
            "Start of epoch 45\n",
            "Training loss: 0.2772\n",
            "Training metric: 0.7096\n",
            "perturbation loss: 0.6767\n"
          ]
        },
        {
          "output_type": "stream",
          "name": "stderr",
          "text": [
            "\r  5%|▍         | 46/1000 [01:30<28:27,  1.79s/it]"
          ]
        },
        {
          "output_type": "stream",
          "name": "stdout",
          "text": [
            "Validation acc: 0.8359\n",
            "\n",
            "Start of epoch 46\n",
            "Training loss: 0.3897\n",
            "Training metric: 0.7139\n",
            "perturbation loss: 0.6539\n"
          ]
        },
        {
          "output_type": "stream",
          "name": "stderr",
          "text": [
            "\r  5%|▍         | 47/1000 [01:31<27:05,  1.71s/it]"
          ]
        },
        {
          "output_type": "stream",
          "name": "stdout",
          "text": [
            "Validation acc: 0.8047\n",
            "\n",
            "Start of epoch 47\n",
            "Training loss: 0.2856\n",
            "Training metric: 0.7180\n",
            "perturbation loss: 0.6145\n"
          ]
        },
        {
          "output_type": "stream",
          "name": "stderr",
          "text": [
            "\r  5%|▍         | 48/1000 [01:33<25:54,  1.63s/it]"
          ]
        },
        {
          "output_type": "stream",
          "name": "stdout",
          "text": [
            "Validation acc: 0.8203\n",
            "\n",
            "Start of epoch 48\n",
            "Training loss: 0.2829\n",
            "Training metric: 0.7220\n",
            "perturbation loss: 0.5462\n"
          ]
        },
        {
          "output_type": "stream",
          "name": "stderr",
          "text": [
            "\r  5%|▍         | 49/1000 [01:34<25:13,  1.59s/it]"
          ]
        },
        {
          "output_type": "stream",
          "name": "stdout",
          "text": [
            "Validation acc: 0.7422\n",
            "\n",
            "Start of epoch 49\n",
            "Training loss: 0.2984\n",
            "Training metric: 0.7261\n",
            "perturbation loss: 0.5206\n"
          ]
        },
        {
          "output_type": "stream",
          "name": "stderr",
          "text": [
            "\r  5%|▌         | 50/1000 [01:36<24:47,  1.57s/it]"
          ]
        },
        {
          "output_type": "stream",
          "name": "stdout",
          "text": [
            "Validation acc: 0.6953\n",
            "\n",
            "Start of epoch 50\n",
            "Training loss: 0.5332\n",
            "Training metric: 0.7297\n",
            "perturbation loss: 0.6460\n"
          ]
        },
        {
          "output_type": "stream",
          "name": "stderr",
          "text": [
            "\r  5%|▌         | 51/1000 [01:37<24:19,  1.54s/it]"
          ]
        },
        {
          "output_type": "stream",
          "name": "stdout",
          "text": [
            "Validation acc: 0.3281\n",
            "\n",
            "Start of epoch 51\n",
            "Training loss: 0.2122\n",
            "Training metric: 0.7332\n",
            "perturbation loss: 0.3901\n"
          ]
        },
        {
          "output_type": "stream",
          "name": "stderr",
          "text": [
            "\r  5%|▌         | 52/1000 [01:39<24:13,  1.53s/it]"
          ]
        },
        {
          "output_type": "stream",
          "name": "stdout",
          "text": [
            "Validation acc: 0.8672\n",
            "\n",
            "Start of epoch 52\n",
            "Training loss: 0.3664\n",
            "Training metric: 0.7367\n",
            "perturbation loss: 0.5534\n"
          ]
        },
        {
          "output_type": "stream",
          "name": "stderr",
          "text": [
            "\r  5%|▌         | 53/1000 [01:41<25:39,  1.63s/it]"
          ]
        },
        {
          "output_type": "stream",
          "name": "stdout",
          "text": [
            "Validation acc: 0.7500\n",
            "\n",
            "Start of epoch 53\n",
            "Training loss: 0.2265\n",
            "Training metric: 0.7404\n",
            "perturbation loss: 0.4868\n"
          ]
        },
        {
          "output_type": "stream",
          "name": "stderr",
          "text": [
            "\r  5%|▌         | 54/1000 [01:43<28:36,  1.81s/it]"
          ]
        },
        {
          "output_type": "stream",
          "name": "stdout",
          "text": [
            "Validation acc: 0.7344\n",
            "\n",
            "Start of epoch 54\n",
            "Training loss: 0.1606\n",
            "Training metric: 0.7442\n",
            "perturbation loss: 0.4217\n"
          ]
        },
        {
          "output_type": "stream",
          "name": "stderr",
          "text": [
            "\r  6%|▌         | 55/1000 [01:45<27:55,  1.77s/it]"
          ]
        },
        {
          "output_type": "stream",
          "name": "stdout",
          "text": [
            "Validation acc: 0.7734\n",
            "\n",
            "Start of epoch 55\n",
            "Training loss: 0.1810\n",
            "Training metric: 0.7476\n",
            "perturbation loss: 0.4571\n"
          ]
        },
        {
          "output_type": "stream",
          "name": "stderr",
          "text": [
            "\r  6%|▌         | 56/1000 [01:46<26:36,  1.69s/it]"
          ]
        },
        {
          "output_type": "stream",
          "name": "stdout",
          "text": [
            "Validation acc: 0.8516\n",
            "\n",
            "Start of epoch 56\n",
            "Training loss: 0.1108\n",
            "Training metric: 0.7511\n",
            "perturbation loss: 0.3541\n"
          ]
        },
        {
          "output_type": "stream",
          "name": "stderr",
          "text": [
            "\r  6%|▌         | 57/1000 [01:48<25:41,  1.63s/it]"
          ]
        },
        {
          "output_type": "stream",
          "name": "stdout",
          "text": [
            "Validation acc: 0.8047\n",
            "\n",
            "Start of epoch 57\n",
            "Training loss: 0.4465\n",
            "Training metric: 0.7542\n",
            "perturbation loss: 0.4982\n"
          ]
        },
        {
          "output_type": "stream",
          "name": "stderr",
          "text": [
            "\r  6%|▌         | 58/1000 [01:49<24:57,  1.59s/it]"
          ]
        },
        {
          "output_type": "stream",
          "name": "stdout",
          "text": [
            "Validation acc: 0.8281\n",
            "\n",
            "Start of epoch 58\n",
            "Training loss: 0.1986\n",
            "Training metric: 0.7574\n",
            "perturbation loss: 0.3088\n"
          ]
        },
        {
          "output_type": "stream",
          "name": "stderr",
          "text": [
            "\r  6%|▌         | 59/1000 [01:51<24:26,  1.56s/it]"
          ]
        },
        {
          "output_type": "stream",
          "name": "stdout",
          "text": [
            "Validation acc: 0.7656\n",
            "\n",
            "Start of epoch 59\n",
            "Training loss: 0.0913\n",
            "Training metric: 0.7605\n",
            "perturbation loss: 0.2306\n"
          ]
        },
        {
          "output_type": "stream",
          "name": "stderr",
          "text": [
            "\r  6%|▌         | 60/1000 [01:52<24:06,  1.54s/it]"
          ]
        },
        {
          "output_type": "stream",
          "name": "stdout",
          "text": [
            "Validation acc: 0.8984\n",
            "\n",
            "Start of epoch 60\n",
            "Training loss: 0.0808\n",
            "Training metric: 0.7636\n",
            "perturbation loss: 0.2533\n"
          ]
        },
        {
          "output_type": "stream",
          "name": "stderr",
          "text": [
            "\r  6%|▌         | 61/1000 [01:54<23:50,  1.52s/it]"
          ]
        },
        {
          "output_type": "stream",
          "name": "stdout",
          "text": [
            "Validation acc: 0.7734\n",
            "\n",
            "Start of epoch 61\n",
            "Training loss: 0.0891\n",
            "Training metric: 0.7665\n",
            "perturbation loss: 0.2516\n"
          ]
        },
        {
          "output_type": "stream",
          "name": "stderr",
          "text": [
            "\r  6%|▌         | 62/1000 [01:56<26:47,  1.71s/it]"
          ]
        },
        {
          "output_type": "stream",
          "name": "stdout",
          "text": [
            "Validation acc: 0.8672\n",
            "\n",
            "Start of epoch 62\n",
            "Training loss: 0.1755\n",
            "Training metric: 0.7694\n",
            "perturbation loss: 0.3583\n"
          ]
        },
        {
          "output_type": "stream",
          "name": "stderr",
          "text": [
            "\r  6%|▋         | 63/1000 [01:59<32:00,  2.05s/it]"
          ]
        },
        {
          "output_type": "stream",
          "name": "stdout",
          "text": [
            "Validation acc: 0.8281\n",
            "\n",
            "Start of epoch 63\n",
            "Training loss: 0.1183\n",
            "Training metric: 0.7723\n",
            "perturbation loss: 0.2343\n"
          ]
        },
        {
          "output_type": "stream",
          "name": "stderr",
          "text": [
            "\r  6%|▋         | 64/1000 [02:00<29:18,  1.88s/it]"
          ]
        },
        {
          "output_type": "stream",
          "name": "stdout",
          "text": [
            "Validation acc: 0.9062\n",
            "\n",
            "Start of epoch 64\n",
            "Training loss: 0.1144\n",
            "Training metric: 0.7751\n",
            "perturbation loss: 0.2590\n"
          ]
        },
        {
          "output_type": "stream",
          "name": "stderr",
          "text": [
            "\r  6%|▋         | 65/1000 [02:02<27:21,  1.76s/it]"
          ]
        },
        {
          "output_type": "stream",
          "name": "stdout",
          "text": [
            "Validation acc: 0.7500\n",
            "\n",
            "Start of epoch 65\n",
            "Training loss: 0.2564\n",
            "Training metric: 0.7779\n",
            "perturbation loss: 0.3162\n"
          ]
        },
        {
          "output_type": "stream",
          "name": "stderr",
          "text": [
            "\r  7%|▋         | 66/1000 [02:03<25:57,  1.67s/it]"
          ]
        },
        {
          "output_type": "stream",
          "name": "stdout",
          "text": [
            "Validation acc: 0.5078\n",
            "\n",
            "Start of epoch 66\n",
            "Training loss: 0.0561\n",
            "Training metric: 0.7804\n",
            "perturbation loss: 0.1544\n"
          ]
        },
        {
          "output_type": "stream",
          "name": "stderr",
          "text": [
            "\r  7%|▋         | 67/1000 [02:05<25:00,  1.61s/it]"
          ]
        },
        {
          "output_type": "stream",
          "name": "stdout",
          "text": [
            "Validation acc: 0.7422\n",
            "\n",
            "Start of epoch 67\n",
            "Training loss: 0.1893\n",
            "Training metric: 0.7831\n",
            "perturbation loss: 0.2535\n"
          ]
        },
        {
          "output_type": "stream",
          "name": "stderr",
          "text": [
            "\r  7%|▋         | 68/1000 [02:06<24:16,  1.56s/it]"
          ]
        },
        {
          "output_type": "stream",
          "name": "stdout",
          "text": [
            "Validation acc: 0.8125\n",
            "\n",
            "Start of epoch 68\n",
            "Training loss: 0.3068\n",
            "Training metric: 0.7854\n",
            "perturbation loss: 0.2367\n"
          ]
        },
        {
          "output_type": "stream",
          "name": "stderr",
          "text": [
            "\r  7%|▋         | 69/1000 [02:07<23:46,  1.53s/it]"
          ]
        },
        {
          "output_type": "stream",
          "name": "stdout",
          "text": [
            "Validation acc: 0.8281\n",
            "\n",
            "Start of epoch 69\n",
            "Training loss: 0.1301\n",
            "Training metric: 0.7876\n",
            "perturbation loss: 0.2332\n"
          ]
        },
        {
          "output_type": "stream",
          "name": "stderr",
          "text": [
            "\r  7%|▋         | 70/1000 [02:09<25:26,  1.64s/it]"
          ]
        },
        {
          "output_type": "stream",
          "name": "stdout",
          "text": [
            "Validation acc: 0.8750\n",
            "\n",
            "Start of epoch 70\n",
            "Training loss: 0.0741\n",
            "Training metric: 0.7899\n",
            "perturbation loss: 0.1833\n"
          ]
        },
        {
          "output_type": "stream",
          "name": "stderr",
          "text": [
            "\r  7%|▋         | 71/1000 [02:11<26:57,  1.74s/it]"
          ]
        },
        {
          "output_type": "stream",
          "name": "stdout",
          "text": [
            "Validation acc: 0.8281\n",
            "\n",
            "Start of epoch 71\n",
            "Training loss: 0.1193\n",
            "Training metric: 0.7922\n",
            "perturbation loss: 0.1644\n"
          ]
        },
        {
          "output_type": "stream",
          "name": "stderr",
          "text": [
            "\r  7%|▋         | 72/1000 [02:13<25:52,  1.67s/it]"
          ]
        },
        {
          "output_type": "stream",
          "name": "stdout",
          "text": [
            "Validation acc: 0.9141\n",
            "\n",
            "Start of epoch 72\n",
            "Training loss: 0.0889\n",
            "Training metric: 0.7946\n",
            "perturbation loss: 0.1852\n"
          ]
        },
        {
          "output_type": "stream",
          "name": "stderr",
          "text": [
            "\r  7%|▋         | 73/1000 [02:14<25:12,  1.63s/it]"
          ]
        },
        {
          "output_type": "stream",
          "name": "stdout",
          "text": [
            "Validation acc: 0.7891\n",
            "\n",
            "Start of epoch 73\n",
            "Training loss: 0.1786\n",
            "Training metric: 0.7971\n",
            "perturbation loss: 0.2572\n"
          ]
        },
        {
          "output_type": "stream",
          "name": "stderr",
          "text": [
            "\r  7%|▋         | 74/1000 [02:16<24:21,  1.58s/it]"
          ]
        },
        {
          "output_type": "stream",
          "name": "stdout",
          "text": [
            "Validation acc: 0.8125\n",
            "\n",
            "Start of epoch 74\n",
            "Training loss: 0.0905\n",
            "Training metric: 0.7995\n",
            "perturbation loss: 0.2105\n"
          ]
        },
        {
          "output_type": "stream",
          "name": "stderr",
          "text": [
            "\r  8%|▊         | 75/1000 [02:17<23:53,  1.55s/it]"
          ]
        },
        {
          "output_type": "stream",
          "name": "stdout",
          "text": [
            "Validation acc: 0.7500\n",
            "\n",
            "Start of epoch 75\n",
            "Training loss: 0.0597\n",
            "Training metric: 0.8018\n",
            "perturbation loss: 0.2406\n"
          ]
        },
        {
          "output_type": "stream",
          "name": "stderr",
          "text": [
            "\r  8%|▊         | 76/1000 [02:19<23:30,  1.53s/it]"
          ]
        },
        {
          "output_type": "stream",
          "name": "stdout",
          "text": [
            "Validation acc: 0.8359\n",
            "\n",
            "Start of epoch 76\n",
            "Training loss: 0.0644\n",
            "Training metric: 0.8039\n",
            "perturbation loss: 0.1448\n"
          ]
        },
        {
          "output_type": "stream",
          "name": "stderr",
          "text": [
            "\r  8%|▊         | 77/1000 [02:20<23:21,  1.52s/it]"
          ]
        },
        {
          "output_type": "stream",
          "name": "stdout",
          "text": [
            "Validation acc: 0.8516\n",
            "\n",
            "Start of epoch 77\n",
            "Training loss: 0.0954\n",
            "Training metric: 0.8060\n",
            "perturbation loss: 0.1687\n"
          ]
        },
        {
          "output_type": "stream",
          "name": "stderr",
          "text": [
            "\r  8%|▊         | 78/1000 [02:22<23:16,  1.52s/it]"
          ]
        },
        {
          "output_type": "stream",
          "name": "stdout",
          "text": [
            "Validation acc: 0.8281\n",
            "\n",
            "Start of epoch 78\n",
            "Training loss: 0.1033\n",
            "Training metric: 0.8081\n",
            "perturbation loss: 0.2235\n"
          ]
        },
        {
          "output_type": "stream",
          "name": "stderr",
          "text": [
            "\r  8%|▊         | 79/1000 [02:24<25:13,  1.64s/it]"
          ]
        },
        {
          "output_type": "stream",
          "name": "stdout",
          "text": [
            "Validation acc: 0.9141\n",
            "\n",
            "Start of epoch 79\n",
            "Training loss: 0.1999\n",
            "Training metric: 0.8101\n",
            "perturbation loss: 0.1954\n"
          ]
        },
        {
          "output_type": "stream",
          "name": "stderr",
          "text": [
            "\r  8%|▊         | 80/1000 [02:26<26:23,  1.72s/it]"
          ]
        },
        {
          "output_type": "stream",
          "name": "stdout",
          "text": [
            "Validation acc: 0.7891\n",
            "\n",
            "Start of epoch 80\n",
            "Training loss: 0.0505\n",
            "Training metric: 0.8120\n",
            "perturbation loss: 0.2678\n"
          ]
        },
        {
          "output_type": "stream",
          "name": "stderr",
          "text": [
            "\r  8%|▊         | 81/1000 [02:27<25:11,  1.64s/it]"
          ]
        },
        {
          "output_type": "stream",
          "name": "stdout",
          "text": [
            "Validation acc: 0.8047\n",
            "\n",
            "Start of epoch 81\n",
            "Training loss: 0.0820\n",
            "Training metric: 0.8140\n",
            "perturbation loss: 0.2448\n"
          ]
        },
        {
          "output_type": "stream",
          "name": "stderr",
          "text": [
            "\r  8%|▊         | 82/1000 [02:29<24:26,  1.60s/it]"
          ]
        },
        {
          "output_type": "stream",
          "name": "stdout",
          "text": [
            "Validation acc: 0.7812\n",
            "\n",
            "Start of epoch 82\n",
            "Training loss: 0.0357\n",
            "Training metric: 0.8157\n",
            "perturbation loss: 0.1420\n"
          ]
        },
        {
          "output_type": "stream",
          "name": "stderr",
          "text": [
            "\r  8%|▊         | 83/1000 [02:30<23:53,  1.56s/it]"
          ]
        },
        {
          "output_type": "stream",
          "name": "stdout",
          "text": [
            "Validation acc: 0.7422\n",
            "\n",
            "Start of epoch 83\n",
            "Training loss: 0.1607\n",
            "Training metric: 0.8174\n",
            "perturbation loss: 0.2283\n"
          ]
        },
        {
          "output_type": "stream",
          "name": "stderr",
          "text": [
            "\r  8%|▊         | 84/1000 [02:32<23:23,  1.53s/it]"
          ]
        },
        {
          "output_type": "stream",
          "name": "stdout",
          "text": [
            "Validation acc: 0.7266\n",
            "\n",
            "Start of epoch 84\n",
            "Training loss: 0.0682\n",
            "Training metric: 0.8191\n",
            "perturbation loss: 0.2184\n"
          ]
        },
        {
          "output_type": "stream",
          "name": "stderr",
          "text": [
            "\r  8%|▊         | 85/1000 [02:33<23:00,  1.51s/it]"
          ]
        },
        {
          "output_type": "stream",
          "name": "stdout",
          "text": [
            "Validation acc: 0.7891\n",
            "\n",
            "Start of epoch 85\n",
            "Training loss: 0.1789\n",
            "Training metric: 0.8210\n",
            "perturbation loss: 0.2441\n"
          ]
        },
        {
          "output_type": "stream",
          "name": "stderr",
          "text": [
            "\r  9%|▊         | 86/1000 [02:34<22:57,  1.51s/it]"
          ]
        },
        {
          "output_type": "stream",
          "name": "stdout",
          "text": [
            "Validation acc: 0.8594\n",
            "\n",
            "Start of epoch 86\n",
            "Training loss: 0.0381\n",
            "Training metric: 0.8228\n",
            "perturbation loss: 0.0622\n"
          ]
        },
        {
          "output_type": "stream",
          "name": "stderr",
          "text": [
            "\r  9%|▊         | 87/1000 [02:37<29:15,  1.92s/it]"
          ]
        },
        {
          "output_type": "stream",
          "name": "stdout",
          "text": [
            "Validation acc: 0.8203\n",
            "\n",
            "Start of epoch 87\n",
            "Training loss: 0.1338\n",
            "Training metric: 0.8245\n",
            "perturbation loss: 0.3286\n"
          ]
        },
        {
          "output_type": "stream",
          "name": "stderr",
          "text": [
            "\r  9%|▉         | 88/1000 [02:39<28:41,  1.89s/it]"
          ]
        },
        {
          "output_type": "stream",
          "name": "stdout",
          "text": [
            "Validation acc: 0.8125\n",
            "\n",
            "Start of epoch 88\n",
            "Training loss: 0.1425\n",
            "Training metric: 0.8263\n",
            "perturbation loss: 0.2249\n"
          ]
        },
        {
          "output_type": "stream",
          "name": "stderr",
          "text": [
            "\r  9%|▉         | 89/1000 [02:41<26:42,  1.76s/it]"
          ]
        },
        {
          "output_type": "stream",
          "name": "stdout",
          "text": [
            "Validation acc: 0.7891\n",
            "\n",
            "Start of epoch 89\n",
            "Training loss: 0.2295\n",
            "Training metric: 0.8278\n",
            "perturbation loss: 0.1768\n"
          ]
        },
        {
          "output_type": "stream",
          "name": "stderr",
          "text": [
            "\r  9%|▉         | 90/1000 [02:42<25:21,  1.67s/it]"
          ]
        },
        {
          "output_type": "stream",
          "name": "stdout",
          "text": [
            "Validation acc: 0.7109\n",
            "\n",
            "Start of epoch 90\n",
            "Training loss: 0.0987\n",
            "Training metric: 0.8293\n",
            "perturbation loss: 0.1910\n"
          ]
        },
        {
          "output_type": "stream",
          "name": "stderr",
          "text": [
            "\r  9%|▉         | 91/1000 [02:44<24:18,  1.60s/it]"
          ]
        },
        {
          "output_type": "stream",
          "name": "stdout",
          "text": [
            "Validation acc: 0.9219\n",
            "\n",
            "Start of epoch 91\n",
            "Training loss: 0.0763\n",
            "Training metric: 0.8309\n",
            "perturbation loss: 0.1004\n"
          ]
        },
        {
          "output_type": "stream",
          "name": "stderr",
          "text": [
            "\r  9%|▉         | 92/1000 [02:45<23:42,  1.57s/it]"
          ]
        },
        {
          "output_type": "stream",
          "name": "stdout",
          "text": [
            "Validation acc: 0.8984\n",
            "\n",
            "Start of epoch 92\n",
            "Training loss: 0.0084\n",
            "Training metric: 0.8326\n",
            "perturbation loss: 0.0388\n"
          ]
        },
        {
          "output_type": "stream",
          "name": "stderr",
          "text": [
            "\r  9%|▉         | 93/1000 [02:47<23:15,  1.54s/it]"
          ]
        },
        {
          "output_type": "stream",
          "name": "stdout",
          "text": [
            "Validation acc: 0.9297\n",
            "\n",
            "Start of epoch 93\n",
            "Training loss: 0.0077\n",
            "Training metric: 0.8342\n",
            "perturbation loss: 0.0297\n"
          ]
        },
        {
          "output_type": "stream",
          "name": "stderr",
          "text": [
            "\r  9%|▉         | 94/1000 [02:48<22:55,  1.52s/it]"
          ]
        },
        {
          "output_type": "stream",
          "name": "stdout",
          "text": [
            "Validation acc: 0.8516\n",
            "\n",
            "Start of epoch 94\n",
            "Training loss: 0.1979\n",
            "Training metric: 0.8357\n",
            "perturbation loss: 0.2779\n"
          ]
        },
        {
          "output_type": "stream",
          "name": "stderr",
          "text": [
            "\r 10%|▉         | 95/1000 [02:50<24:57,  1.65s/it]"
          ]
        },
        {
          "output_type": "stream",
          "name": "stdout",
          "text": [
            "Validation acc: 0.8594\n",
            "\n",
            "Start of epoch 95\n",
            "Training loss: 0.2059\n",
            "Training metric: 0.8371\n",
            "perturbation loss: 0.3756\n"
          ]
        },
        {
          "output_type": "stream",
          "name": "stderr",
          "text": [
            "\r 10%|▉         | 96/1000 [02:52<26:21,  1.75s/it]"
          ]
        },
        {
          "output_type": "stream",
          "name": "stdout",
          "text": [
            "Validation acc: 0.8125\n",
            "\n",
            "Start of epoch 96\n",
            "Training loss: 0.1901\n",
            "Training metric: 0.8385\n",
            "perturbation loss: 0.1019\n"
          ]
        },
        {
          "output_type": "stream",
          "name": "stderr",
          "text": [
            "\r 10%|▉         | 97/1000 [02:54<26:03,  1.73s/it]"
          ]
        },
        {
          "output_type": "stream",
          "name": "stdout",
          "text": [
            "Validation acc: 0.9297\n",
            "\n",
            "Start of epoch 97\n",
            "Training loss: 0.0496\n",
            "Training metric: 0.8399\n",
            "perturbation loss: 0.1081\n"
          ]
        },
        {
          "output_type": "stream",
          "name": "stderr",
          "text": [
            "\r 10%|▉         | 98/1000 [02:55<24:50,  1.65s/it]"
          ]
        },
        {
          "output_type": "stream",
          "name": "stdout",
          "text": [
            "Validation acc: 0.8438\n",
            "\n",
            "Start of epoch 98\n",
            "Training loss: 0.1540\n",
            "Training metric: 0.8412\n",
            "perturbation loss: 0.1488\n"
          ]
        },
        {
          "output_type": "stream",
          "name": "stderr",
          "text": [
            "\r 10%|▉         | 99/1000 [02:57<24:00,  1.60s/it]"
          ]
        },
        {
          "output_type": "stream",
          "name": "stdout",
          "text": [
            "Validation acc: 0.4844\n",
            "\n",
            "Start of epoch 99\n",
            "Training loss: 0.0378\n",
            "Training metric: 0.8425\n",
            "perturbation loss: 0.1637\n"
          ]
        },
        {
          "output_type": "stream",
          "name": "stderr",
          "text": [
            "\r 10%|█         | 100/1000 [02:58<23:18,  1.55s/it]"
          ]
        },
        {
          "output_type": "stream",
          "name": "stdout",
          "text": [
            "Validation acc: 0.9453\n",
            "\n",
            "Start of epoch 100\n",
            "Training loss: 0.0330\n",
            "Training metric: 0.8440\n",
            "perturbation loss: 0.0998\n"
          ]
        },
        {
          "output_type": "stream",
          "name": "stderr",
          "text": [
            "\r 10%|█         | 101/1000 [02:59<23:00,  1.54s/it]"
          ]
        },
        {
          "output_type": "stream",
          "name": "stdout",
          "text": [
            "Validation acc: 0.9297\n",
            "\n",
            "Start of epoch 101\n",
            "Training loss: 0.1300\n",
            "Training metric: 0.8452\n",
            "perturbation loss: 0.1520\n"
          ]
        },
        {
          "output_type": "stream",
          "name": "stderr",
          "text": [
            "\r 10%|█         | 102/1000 [03:01<22:40,  1.51s/it]"
          ]
        },
        {
          "output_type": "stream",
          "name": "stdout",
          "text": [
            "Validation acc: 0.8828\n",
            "\n",
            "Start of epoch 102\n",
            "Training loss: 0.1127\n",
            "Training metric: 0.8465\n",
            "perturbation loss: 0.2642\n"
          ]
        },
        {
          "output_type": "stream",
          "name": "stderr",
          "text": [
            "\r 10%|█         | 103/1000 [03:02<22:32,  1.51s/it]"
          ]
        },
        {
          "output_type": "stream",
          "name": "stdout",
          "text": [
            "Validation acc: 0.7969\n",
            "\n",
            "Start of epoch 103\n",
            "Training loss: 0.0428\n",
            "Training metric: 0.8478\n",
            "perturbation loss: 0.1091\n"
          ]
        },
        {
          "output_type": "stream",
          "name": "stderr",
          "text": [
            "\r 10%|█         | 104/1000 [03:05<25:21,  1.70s/it]"
          ]
        },
        {
          "output_type": "stream",
          "name": "stdout",
          "text": [
            "Validation acc: 0.8984\n",
            "\n",
            "Start of epoch 104\n",
            "Training loss: 0.0061\n",
            "Training metric: 0.8492\n",
            "perturbation loss: 0.0329\n"
          ]
        },
        {
          "output_type": "stream",
          "name": "stderr",
          "text": [
            "\r 10%|█         | 105/1000 [03:07<27:40,  1.85s/it]"
          ]
        },
        {
          "output_type": "stream",
          "name": "stdout",
          "text": [
            "Validation acc: 0.8516\n",
            "\n",
            "Start of epoch 105\n",
            "Training loss: 0.0042\n",
            "Training metric: 0.8505\n",
            "perturbation loss: 0.0457\n"
          ]
        },
        {
          "output_type": "stream",
          "name": "stderr",
          "text": [
            "\r 11%|█         | 106/1000 [03:08<25:58,  1.74s/it]"
          ]
        },
        {
          "output_type": "stream",
          "name": "stdout",
          "text": [
            "Validation acc: 0.7969\n",
            "\n",
            "Start of epoch 106\n",
            "Training loss: 0.0254\n",
            "Training metric: 0.8517\n",
            "perturbation loss: 0.0709\n"
          ]
        },
        {
          "output_type": "stream",
          "name": "stderr",
          "text": [
            "\r 11%|█         | 107/1000 [03:10<24:44,  1.66s/it]"
          ]
        },
        {
          "output_type": "stream",
          "name": "stdout",
          "text": [
            "Validation acc: 0.8750\n",
            "\n",
            "Start of epoch 107\n",
            "Training loss: 0.0314\n",
            "Training metric: 0.8529\n",
            "perturbation loss: 0.0982\n"
          ]
        },
        {
          "output_type": "stream",
          "name": "stderr",
          "text": [
            "\r 11%|█         | 108/1000 [03:11<23:57,  1.61s/it]"
          ]
        },
        {
          "output_type": "stream",
          "name": "stdout",
          "text": [
            "Validation acc: 0.9453\n",
            "\n",
            "Start of epoch 108\n",
            "Training loss: 0.0238\n",
            "Training metric: 0.8541\n",
            "perturbation loss: 0.1566\n"
          ]
        },
        {
          "output_type": "stream",
          "name": "stderr",
          "text": [
            "\r 11%|█         | 109/1000 [03:13<23:23,  1.58s/it]"
          ]
        },
        {
          "output_type": "stream",
          "name": "stdout",
          "text": [
            "Validation acc: 0.8984\n",
            "\n",
            "Start of epoch 109\n",
            "Training loss: 0.0728\n",
            "Training metric: 0.8552\n",
            "perturbation loss: 0.1393\n"
          ]
        },
        {
          "output_type": "stream",
          "name": "stderr",
          "text": [
            "\r 11%|█         | 110/1000 [03:14<22:46,  1.54s/it]"
          ]
        },
        {
          "output_type": "stream",
          "name": "stdout",
          "text": [
            "Validation acc: 0.7734\n",
            "\n",
            "Start of epoch 110\n",
            "Training loss: 0.3238\n",
            "Training metric: 0.8563\n",
            "perturbation loss: 0.1581\n"
          ]
        },
        {
          "output_type": "stream",
          "name": "stderr",
          "text": [
            "\r 11%|█         | 111/1000 [03:16<22:21,  1.51s/it]"
          ]
        },
        {
          "output_type": "stream",
          "name": "stdout",
          "text": [
            "Validation acc: 0.7500\n",
            "\n",
            "Start of epoch 111\n",
            "Training loss: 0.1234\n",
            "Training metric: 0.8574\n",
            "perturbation loss: 0.2213\n"
          ]
        },
        {
          "output_type": "stream",
          "name": "stderr",
          "text": [
            "\r 11%|█         | 112/1000 [03:17<22:54,  1.55s/it]"
          ]
        },
        {
          "output_type": "stream",
          "name": "stdout",
          "text": [
            "Validation acc: 0.8594\n",
            "\n",
            "Start of epoch 112\n",
            "Training loss: 0.0841\n",
            "Training metric: 0.8584\n",
            "perturbation loss: 0.1809\n"
          ]
        },
        {
          "output_type": "stream",
          "name": "stderr",
          "text": [
            "\r 11%|█▏        | 113/1000 [03:20<26:01,  1.76s/it]"
          ]
        },
        {
          "output_type": "stream",
          "name": "stdout",
          "text": [
            "Validation acc: 0.9062\n",
            "\n",
            "Start of epoch 113\n",
            "Training loss: 0.0097\n",
            "Training metric: 0.8596\n",
            "perturbation loss: 0.0397\n"
          ]
        },
        {
          "output_type": "stream",
          "name": "stderr",
          "text": [
            "\r 11%|█▏        | 114/1000 [03:21<25:46,  1.75s/it]"
          ]
        },
        {
          "output_type": "stream",
          "name": "stdout",
          "text": [
            "Validation acc: 0.8438\n",
            "\n",
            "Start of epoch 114\n",
            "Training loss: 0.0309\n",
            "Training metric: 0.8606\n",
            "perturbation loss: 0.1098\n"
          ]
        },
        {
          "output_type": "stream",
          "name": "stderr",
          "text": [
            "\r 12%|█▏        | 115/1000 [03:23<24:30,  1.66s/it]"
          ]
        },
        {
          "output_type": "stream",
          "name": "stdout",
          "text": [
            "Validation acc: 0.8750\n",
            "\n",
            "Start of epoch 115\n",
            "Training loss: 0.0102\n",
            "Training metric: 0.8617\n",
            "perturbation loss: 0.0868\n"
          ]
        },
        {
          "output_type": "stream",
          "name": "stderr",
          "text": [
            "\r 12%|█▏        | 116/1000 [03:24<23:39,  1.61s/it]"
          ]
        },
        {
          "output_type": "stream",
          "name": "stdout",
          "text": [
            "Validation acc: 0.9141\n",
            "\n",
            "Start of epoch 116\n",
            "Training loss: 0.0331\n",
            "Training metric: 0.8628\n",
            "perturbation loss: 0.1491\n"
          ]
        },
        {
          "output_type": "stream",
          "name": "stderr",
          "text": [
            "\r 12%|█▏        | 117/1000 [03:26<22:55,  1.56s/it]"
          ]
        },
        {
          "output_type": "stream",
          "name": "stdout",
          "text": [
            "Validation acc: 0.9141\n",
            "\n",
            "Start of epoch 117\n",
            "Training loss: 0.0489\n",
            "Training metric: 0.8638\n",
            "perturbation loss: 0.0984\n"
          ]
        },
        {
          "output_type": "stream",
          "name": "stderr",
          "text": [
            "\r 12%|█▏        | 118/1000 [03:27<22:35,  1.54s/it]"
          ]
        },
        {
          "output_type": "stream",
          "name": "stdout",
          "text": [
            "Validation acc: 0.9062\n",
            "\n",
            "Start of epoch 118\n",
            "Training loss: 0.0423\n",
            "Training metric: 0.8647\n",
            "perturbation loss: 0.1487\n"
          ]
        },
        {
          "output_type": "stream",
          "name": "stderr",
          "text": [
            "\r 12%|█▏        | 119/1000 [03:29<22:25,  1.53s/it]"
          ]
        },
        {
          "output_type": "stream",
          "name": "stdout",
          "text": [
            "Validation acc: 0.6641\n",
            "\n",
            "Start of epoch 119\n",
            "Training loss: 0.0674\n",
            "Training metric: 0.8657\n",
            "perturbation loss: 0.1254\n"
          ]
        },
        {
          "output_type": "stream",
          "name": "stderr",
          "text": [
            "\r 12%|█▏        | 120/1000 [03:30<22:11,  1.51s/it]"
          ]
        },
        {
          "output_type": "stream",
          "name": "stdout",
          "text": [
            "Validation acc: 0.6094\n",
            "\n",
            "Start of epoch 120\n",
            "Training loss: 0.0240\n",
            "Training metric: 0.8666\n",
            "perturbation loss: 0.1517\n"
          ]
        },
        {
          "output_type": "stream",
          "name": "stderr",
          "text": [
            "\r 12%|█▏        | 121/1000 [03:32<23:49,  1.63s/it]"
          ]
        },
        {
          "output_type": "stream",
          "name": "stdout",
          "text": [
            "Validation acc: 0.8203\n",
            "\n",
            "Start of epoch 121\n",
            "Training loss: 0.0165\n",
            "Training metric: 0.8676\n",
            "perturbation loss: 0.0535\n"
          ]
        },
        {
          "output_type": "stream",
          "name": "stderr",
          "text": [
            "\r 12%|█▏        | 122/1000 [03:34<25:15,  1.73s/it]"
          ]
        },
        {
          "output_type": "stream",
          "name": "stdout",
          "text": [
            "Validation acc: 0.9375\n",
            "\n",
            "Start of epoch 122\n",
            "Training loss: 0.0302\n",
            "Training metric: 0.8686\n",
            "perturbation loss: 0.0790\n"
          ]
        },
        {
          "output_type": "stream",
          "name": "stderr",
          "text": [
            "\r 12%|█▏        | 123/1000 [03:36<24:47,  1.70s/it]"
          ]
        },
        {
          "output_type": "stream",
          "name": "stdout",
          "text": [
            "Validation acc: 0.8516\n",
            "\n",
            "Start of epoch 123\n",
            "Training loss: 0.0394\n",
            "Training metric: 0.8695\n",
            "perturbation loss: 0.1067\n"
          ]
        },
        {
          "output_type": "stream",
          "name": "stderr",
          "text": [
            "\r 12%|█▏        | 124/1000 [03:37<23:40,  1.62s/it]"
          ]
        },
        {
          "output_type": "stream",
          "name": "stdout",
          "text": [
            "Validation acc: 0.9141\n",
            "\n",
            "Start of epoch 124\n",
            "Training loss: 0.0264\n",
            "Training metric: 0.8704\n",
            "perturbation loss: 0.0847\n"
          ]
        },
        {
          "output_type": "stream",
          "name": "stderr",
          "text": [
            "\r 12%|█▎        | 125/1000 [03:39<23:01,  1.58s/it]"
          ]
        },
        {
          "output_type": "stream",
          "name": "stdout",
          "text": [
            "Validation acc: 0.7969\n",
            "\n",
            "Start of epoch 125\n",
            "Training loss: 0.0144\n",
            "Training metric: 0.8713\n",
            "perturbation loss: 0.1113\n"
          ]
        },
        {
          "output_type": "stream",
          "name": "stderr",
          "text": [
            "\r 13%|█▎        | 126/1000 [03:40<22:28,  1.54s/it]"
          ]
        },
        {
          "output_type": "stream",
          "name": "stdout",
          "text": [
            "Validation acc: 0.9531\n",
            "\n",
            "Start of epoch 126\n",
            "Training loss: 0.0148\n",
            "Training metric: 0.8722\n",
            "perturbation loss: 0.0795\n"
          ]
        },
        {
          "output_type": "stream",
          "name": "stderr",
          "text": [
            "\r 13%|█▎        | 127/1000 [03:41<22:10,  1.52s/it]"
          ]
        },
        {
          "output_type": "stream",
          "name": "stdout",
          "text": [
            "Validation acc: 0.6562\n",
            "\n",
            "Start of epoch 127\n",
            "Training loss: 0.1176\n",
            "Training metric: 0.8732\n",
            "perturbation loss: 0.2082\n"
          ]
        },
        {
          "output_type": "stream",
          "name": "stderr",
          "text": [
            "\r 13%|█▎        | 128/1000 [03:43<22:07,  1.52s/it]"
          ]
        },
        {
          "output_type": "stream",
          "name": "stdout",
          "text": [
            "Validation acc: 0.9062\n",
            "\n",
            "Start of epoch 128\n",
            "Training loss: 0.0181\n",
            "Training metric: 0.8740\n",
            "perturbation loss: 0.1054\n"
          ]
        },
        {
          "output_type": "stream",
          "name": "stderr",
          "text": [
            "\r 13%|█▎        | 129/1000 [03:44<22:00,  1.52s/it]"
          ]
        },
        {
          "output_type": "stream",
          "name": "stdout",
          "text": [
            "Validation acc: 0.3828\n",
            "\n",
            "Start of epoch 129\n",
            "Training loss: 0.0646\n",
            "Training metric: 0.8748\n",
            "perturbation loss: 0.1968\n"
          ]
        },
        {
          "output_type": "stream",
          "name": "stderr",
          "text": [
            "\r 13%|█▎        | 130/1000 [03:47<25:11,  1.74s/it]"
          ]
        },
        {
          "output_type": "stream",
          "name": "stdout",
          "text": [
            "Validation acc: 0.8672\n",
            "\n",
            "Start of epoch 130\n",
            "Training loss: 0.0345\n",
            "Training metric: 0.8757\n",
            "perturbation loss: 0.1063\n"
          ]
        },
        {
          "output_type": "stream",
          "name": "stderr",
          "text": [
            "\r 13%|█▎        | 131/1000 [03:49<25:50,  1.78s/it]"
          ]
        },
        {
          "output_type": "stream",
          "name": "stdout",
          "text": [
            "Validation acc: 0.8359\n",
            "\n",
            "Start of epoch 131\n",
            "Training loss: 0.0873\n",
            "Training metric: 0.8764\n",
            "perturbation loss: 0.1670\n"
          ]
        },
        {
          "output_type": "stream",
          "name": "stderr",
          "text": [
            "\r 13%|█▎        | 132/1000 [03:50<24:33,  1.70s/it]"
          ]
        },
        {
          "output_type": "stream",
          "name": "stdout",
          "text": [
            "Validation acc: 0.7188\n",
            "\n",
            "Start of epoch 132\n",
            "Training loss: 0.0421\n",
            "Training metric: 0.8771\n",
            "perturbation loss: 0.0495\n"
          ]
        },
        {
          "output_type": "stream",
          "name": "stderr",
          "text": [
            "\r 13%|█▎        | 133/1000 [03:52<23:25,  1.62s/it]"
          ]
        },
        {
          "output_type": "stream",
          "name": "stdout",
          "text": [
            "Validation acc: 0.7812\n",
            "\n",
            "Start of epoch 133\n",
            "Training loss: 0.0120\n",
            "Training metric: 0.8779\n",
            "perturbation loss: 0.0397\n"
          ]
        },
        {
          "output_type": "stream",
          "name": "stderr",
          "text": [
            "\r 13%|█▎        | 134/1000 [03:53<22:53,  1.59s/it]"
          ]
        },
        {
          "output_type": "stream",
          "name": "stdout",
          "text": [
            "Validation acc: 0.8828\n",
            "\n",
            "Start of epoch 134\n",
            "Training loss: 0.0191\n",
            "Training metric: 0.8787\n",
            "perturbation loss: 0.1079\n"
          ]
        },
        {
          "output_type": "stream",
          "name": "stderr",
          "text": [
            "\r 14%|█▎        | 135/1000 [03:55<22:17,  1.55s/it]"
          ]
        },
        {
          "output_type": "stream",
          "name": "stdout",
          "text": [
            "Validation acc: 0.9609\n",
            "\n",
            "Start of epoch 135\n",
            "Training loss: 0.0059\n",
            "Training metric: 0.8795\n",
            "perturbation loss: 0.0418\n"
          ]
        },
        {
          "output_type": "stream",
          "name": "stderr",
          "text": [
            "\r 14%|█▎        | 136/1000 [03:56<21:56,  1.52s/it]"
          ]
        },
        {
          "output_type": "stream",
          "name": "stdout",
          "text": [
            "Validation acc: 0.9453\n",
            "\n",
            "Start of epoch 136\n",
            "Training loss: 0.0199\n",
            "Training metric: 0.8802\n",
            "perturbation loss: 0.0788\n"
          ]
        },
        {
          "output_type": "stream",
          "name": "stderr",
          "text": [
            "\r 14%|█▎        | 137/1000 [03:57<21:38,  1.50s/it]"
          ]
        },
        {
          "output_type": "stream",
          "name": "stdout",
          "text": [
            "Validation acc: 0.9141\n",
            "\n",
            "Start of epoch 137\n",
            "Training loss: 0.0283\n",
            "Training metric: 0.8809\n",
            "perturbation loss: 0.1631\n"
          ]
        },
        {
          "output_type": "stream",
          "name": "stderr",
          "text": [
            "\r 14%|█▍        | 138/1000 [03:59<22:26,  1.56s/it]"
          ]
        },
        {
          "output_type": "stream",
          "name": "stdout",
          "text": [
            "Validation acc: 0.9062\n",
            "\n",
            "Start of epoch 138\n",
            "Training loss: 0.0052\n",
            "Training metric: 0.8817\n",
            "perturbation loss: 0.0407\n"
          ]
        },
        {
          "output_type": "stream",
          "name": "stderr",
          "text": [
            "\r 14%|█▍        | 139/1000 [04:01<25:23,  1.77s/it]"
          ]
        },
        {
          "output_type": "stream",
          "name": "stdout",
          "text": [
            "Validation acc: 0.8984\n",
            "\n",
            "Start of epoch 139\n",
            "Training loss: 0.0050\n",
            "Training metric: 0.8825\n",
            "perturbation loss: 0.0228\n"
          ]
        },
        {
          "output_type": "stream",
          "name": "stderr",
          "text": [
            "\r 14%|█▍        | 140/1000 [04:03<24:58,  1.74s/it]"
          ]
        },
        {
          "output_type": "stream",
          "name": "stdout",
          "text": [
            "Validation acc: 0.9609\n",
            "\n",
            "Start of epoch 140\n",
            "Training loss: 0.0065\n",
            "Training metric: 0.8833\n",
            "perturbation loss: 0.0278\n"
          ]
        },
        {
          "output_type": "stream",
          "name": "stderr",
          "text": [
            "\r 14%|█▍        | 141/1000 [04:05<23:55,  1.67s/it]"
          ]
        },
        {
          "output_type": "stream",
          "name": "stdout",
          "text": [
            "Validation acc: 0.9609\n",
            "\n",
            "Start of epoch 141\n",
            "Training loss: 0.0033\n",
            "Training metric: 0.8842\n",
            "perturbation loss: 0.0124\n"
          ]
        },
        {
          "output_type": "stream",
          "name": "stderr",
          "text": [
            "\r 14%|█▍        | 142/1000 [04:06<23:01,  1.61s/it]"
          ]
        },
        {
          "output_type": "stream",
          "name": "stdout",
          "text": [
            "Validation acc: 0.9531\n",
            "\n",
            "Start of epoch 142\n",
            "Training loss: 0.2118\n",
            "Training metric: 0.8849\n",
            "perturbation loss: 0.0984\n"
          ]
        },
        {
          "output_type": "stream",
          "name": "stderr",
          "text": [
            "\r 14%|█▍        | 143/1000 [04:08<22:25,  1.57s/it]"
          ]
        },
        {
          "output_type": "stream",
          "name": "stdout",
          "text": [
            "Validation acc: 0.9062\n",
            "\n",
            "Start of epoch 143\n",
            "Training loss: 0.3070\n",
            "Training metric: 0.8855\n",
            "perturbation loss: 0.3406\n"
          ]
        },
        {
          "output_type": "stream",
          "name": "stderr",
          "text": [
            "\r 14%|█▍        | 144/1000 [04:09<21:55,  1.54s/it]"
          ]
        },
        {
          "output_type": "stream",
          "name": "stdout",
          "text": [
            "Validation acc: 0.7422\n",
            "\n",
            "Start of epoch 144\n",
            "Training loss: 0.1499\n",
            "Training metric: 0.8860\n",
            "perturbation loss: 0.1158\n"
          ]
        },
        {
          "output_type": "stream",
          "name": "stderr",
          "text": [
            "\r 14%|█▍        | 145/1000 [04:10<21:36,  1.52s/it]"
          ]
        },
        {
          "output_type": "stream",
          "name": "stdout",
          "text": [
            "Validation acc: 0.9453\n",
            "\n",
            "Start of epoch 145\n",
            "Training loss: 0.0041\n",
            "Training metric: 0.8867\n",
            "perturbation loss: 0.0242\n"
          ]
        },
        {
          "output_type": "stream",
          "name": "stderr",
          "text": [
            "\r 15%|█▍        | 146/1000 [04:12<21:24,  1.50s/it]"
          ]
        },
        {
          "output_type": "stream",
          "name": "stdout",
          "text": [
            "Validation acc: 0.9062\n",
            "\n",
            "Start of epoch 146\n",
            "Training loss: 0.0828\n",
            "Training metric: 0.8874\n",
            "perturbation loss: 0.1135\n"
          ]
        },
        {
          "output_type": "stream",
          "name": "stderr",
          "text": [
            "\r 15%|█▍        | 147/1000 [04:14<24:00,  1.69s/it]"
          ]
        },
        {
          "output_type": "stream",
          "name": "stdout",
          "text": [
            "Validation acc: 0.9141\n",
            "\n",
            "Start of epoch 147\n",
            "Training loss: 0.0756\n",
            "Training metric: 0.8881\n",
            "perturbation loss: 0.1468\n"
          ]
        },
        {
          "output_type": "stream",
          "name": "stderr",
          "text": [
            "\r 15%|█▍        | 148/1000 [04:16<26:24,  1.86s/it]"
          ]
        },
        {
          "output_type": "stream",
          "name": "stdout",
          "text": [
            "Validation acc: 0.9219\n",
            "\n",
            "Start of epoch 148\n",
            "Training loss: 0.0140\n",
            "Training metric: 0.8888\n",
            "perturbation loss: 0.0339\n"
          ]
        },
        {
          "output_type": "stream",
          "name": "stderr",
          "text": [
            "\r 15%|█▍        | 149/1000 [04:18<24:49,  1.75s/it]"
          ]
        },
        {
          "output_type": "stream",
          "name": "stdout",
          "text": [
            "Validation acc: 0.9062\n",
            "\n",
            "Start of epoch 149\n",
            "Training loss: 0.0067\n",
            "Training metric: 0.8896\n",
            "perturbation loss: 0.0482\n"
          ]
        },
        {
          "output_type": "stream",
          "name": "stderr",
          "text": [
            "\r 15%|█▌        | 150/1000 [04:19<23:35,  1.66s/it]"
          ]
        },
        {
          "output_type": "stream",
          "name": "stdout",
          "text": [
            "Validation acc: 0.8516\n",
            "\n",
            "Start of epoch 150\n",
            "Training loss: 0.0329\n",
            "Training metric: 0.8901\n",
            "perturbation loss: 0.1020\n"
          ]
        },
        {
          "output_type": "stream",
          "name": "stderr",
          "text": [
            "\r 15%|█▌        | 151/1000 [04:21<22:48,  1.61s/it]"
          ]
        },
        {
          "output_type": "stream",
          "name": "stdout",
          "text": [
            "Validation acc: 0.9141\n",
            "\n",
            "Start of epoch 151\n",
            "Training loss: 0.0186\n",
            "Training metric: 0.8907\n",
            "perturbation loss: 0.0501\n"
          ]
        },
        {
          "output_type": "stream",
          "name": "stderr",
          "text": [
            "\r 15%|█▌        | 152/1000 [04:22<22:08,  1.57s/it]"
          ]
        },
        {
          "output_type": "stream",
          "name": "stdout",
          "text": [
            "Validation acc: 0.7969\n",
            "\n",
            "Start of epoch 152\n",
            "Training loss: 0.0781\n",
            "Training metric: 0.8913\n",
            "perturbation loss: 0.0932\n"
          ]
        },
        {
          "output_type": "stream",
          "name": "stderr",
          "text": [
            "\r 15%|█▌        | 153/1000 [04:24<21:43,  1.54s/it]"
          ]
        },
        {
          "output_type": "stream",
          "name": "stdout",
          "text": [
            "Validation acc: 0.8984\n",
            "\n",
            "Start of epoch 153\n",
            "Training loss: 0.0663\n",
            "Training metric: 0.8920\n",
            "perturbation loss: 0.0700\n"
          ]
        },
        {
          "output_type": "stream",
          "name": "stderr",
          "text": [
            "\r 15%|█▌        | 154/1000 [04:25<21:23,  1.52s/it]"
          ]
        },
        {
          "output_type": "stream",
          "name": "stdout",
          "text": [
            "Validation acc: 0.8281\n",
            "\n",
            "Start of epoch 154\n",
            "Training loss: 0.0101\n",
            "Training metric: 0.8926\n",
            "perturbation loss: 0.0512\n"
          ]
        },
        {
          "output_type": "stream",
          "name": "stderr",
          "text": [
            "\r 16%|█▌        | 155/1000 [04:27<21:23,  1.52s/it]"
          ]
        },
        {
          "output_type": "stream",
          "name": "stdout",
          "text": [
            "Validation acc: 0.8984\n",
            "\n",
            "Start of epoch 155\n",
            "Training loss: 0.0082\n",
            "Training metric: 0.8933\n",
            "perturbation loss: 0.0660\n"
          ]
        },
        {
          "output_type": "stream",
          "name": "stderr",
          "text": [
            "\r 16%|█▌        | 156/1000 [04:29<22:42,  1.61s/it]"
          ]
        },
        {
          "output_type": "stream",
          "name": "stdout",
          "text": [
            "Validation acc: 0.9375\n",
            "\n",
            "Start of epoch 156\n",
            "Training loss: 0.1404\n",
            "Training metric: 0.8939\n",
            "perturbation loss: 0.1469\n"
          ]
        },
        {
          "output_type": "stream",
          "name": "stderr",
          "text": [
            "\r 16%|█▌        | 157/1000 [04:30<23:09,  1.65s/it]"
          ]
        },
        {
          "output_type": "stream",
          "name": "stdout",
          "text": [
            "Validation acc: 0.8828\n",
            "\n",
            "Start of epoch 157\n",
            "Training loss: 0.0368\n",
            "Training metric: 0.8945\n",
            "perturbation loss: 0.0862\n"
          ]
        },
        {
          "output_type": "stream",
          "name": "stderr",
          "text": [
            "\r 16%|█▌        | 158/1000 [04:32<22:05,  1.57s/it]"
          ]
        },
        {
          "output_type": "stream",
          "name": "stdout",
          "text": [
            "Validation acc: 0.9219\n",
            "\n",
            "Start of epoch 158\n",
            "Training loss: 0.0810\n",
            "Training metric: 0.8951\n",
            "perturbation loss: 0.1063\n"
          ]
        },
        {
          "output_type": "stream",
          "name": "stderr",
          "text": [
            "\r 16%|█▌        | 159/1000 [04:33<21:17,  1.52s/it]"
          ]
        },
        {
          "output_type": "stream",
          "name": "stdout",
          "text": [
            "Validation acc: 0.9531\n",
            "\n",
            "Start of epoch 159\n",
            "Training loss: 0.0143\n",
            "Training metric: 0.8957\n",
            "perturbation loss: 0.0722\n"
          ]
        },
        {
          "output_type": "stream",
          "name": "stderr",
          "text": [
            "\r 16%|█▌        | 160/1000 [04:34<20:54,  1.49s/it]"
          ]
        },
        {
          "output_type": "stream",
          "name": "stdout",
          "text": [
            "Validation acc: 0.9453\n",
            "\n",
            "Start of epoch 160\n",
            "Training loss: 0.0257\n",
            "Training metric: 0.8963\n",
            "perturbation loss: 0.0198\n"
          ]
        },
        {
          "output_type": "stream",
          "name": "stderr",
          "text": [
            "\r 16%|█▌        | 161/1000 [04:36<20:42,  1.48s/it]"
          ]
        },
        {
          "output_type": "stream",
          "name": "stdout",
          "text": [
            "Validation acc: 0.9609\n",
            "\n",
            "Start of epoch 161\n",
            "Training loss: 0.0084\n",
            "Training metric: 0.8969\n",
            "perturbation loss: 0.1205\n"
          ]
        },
        {
          "output_type": "stream",
          "name": "stderr",
          "text": [
            "\r 16%|█▌        | 162/1000 [04:37<20:36,  1.48s/it]"
          ]
        },
        {
          "output_type": "stream",
          "name": "stdout",
          "text": [
            "Validation acc: 0.8828\n",
            "\n",
            "Start of epoch 162\n",
            "Training loss: 0.0017\n",
            "Training metric: 0.8975\n",
            "perturbation loss: 0.0172\n"
          ]
        },
        {
          "output_type": "stream",
          "name": "stderr",
          "text": [
            "\r 16%|█▋        | 163/1000 [04:39<20:34,  1.47s/it]"
          ]
        },
        {
          "output_type": "stream",
          "name": "stdout",
          "text": [
            "Validation acc: 0.9062\n",
            "\n",
            "Start of epoch 163\n",
            "Training loss: 0.0021\n",
            "Training metric: 0.8981\n",
            "perturbation loss: 0.0334\n"
          ]
        },
        {
          "output_type": "stream",
          "name": "stderr",
          "text": [
            "\r 16%|█▋        | 164/1000 [04:40<21:08,  1.52s/it]"
          ]
        },
        {
          "output_type": "stream",
          "name": "stdout",
          "text": [
            "Validation acc: 0.9297\n",
            "\n",
            "Start of epoch 164\n",
            "Training loss: 0.2243\n",
            "Training metric: 0.8986\n",
            "perturbation loss: 0.0823\n"
          ]
        },
        {
          "output_type": "stream",
          "name": "stderr",
          "text": [
            "\r 16%|█▋        | 165/1000 [04:42<22:41,  1.63s/it]"
          ]
        },
        {
          "output_type": "stream",
          "name": "stdout",
          "text": [
            "Validation acc: 0.8672\n",
            "\n",
            "Start of epoch 165\n",
            "Training loss: 0.1063\n",
            "Training metric: 0.8991\n",
            "perturbation loss: 0.1465\n"
          ]
        },
        {
          "output_type": "stream",
          "name": "stderr",
          "text": [
            "\r 17%|█▋        | 166/1000 [04:44<23:25,  1.68s/it]"
          ]
        },
        {
          "output_type": "stream",
          "name": "stdout",
          "text": [
            "Validation acc: 0.9375\n",
            "\n",
            "Start of epoch 166\n",
            "Training loss: 0.0221\n",
            "Training metric: 0.8996\n",
            "perturbation loss: 0.0262\n"
          ]
        },
        {
          "output_type": "stream",
          "name": "stderr",
          "text": [
            "\r 17%|█▋        | 167/1000 [04:46<22:26,  1.62s/it]"
          ]
        },
        {
          "output_type": "stream",
          "name": "stdout",
          "text": [
            "Validation acc: 0.9609\n",
            "\n",
            "Start of epoch 167\n",
            "Training loss: 0.0448\n",
            "Training metric: 0.9001\n",
            "perturbation loss: 0.1417\n"
          ]
        },
        {
          "output_type": "stream",
          "name": "stderr",
          "text": [
            "\r 17%|█▋        | 168/1000 [04:47<21:45,  1.57s/it]"
          ]
        },
        {
          "output_type": "stream",
          "name": "stdout",
          "text": [
            "Validation acc: 0.9531\n",
            "\n",
            "Start of epoch 168\n",
            "Training loss: 0.0067\n",
            "Training metric: 0.9006\n",
            "perturbation loss: 0.0526\n"
          ]
        },
        {
          "output_type": "stream",
          "name": "stderr",
          "text": [
            "\r 17%|█▋        | 169/1000 [04:49<21:13,  1.53s/it]"
          ]
        },
        {
          "output_type": "stream",
          "name": "stdout",
          "text": [
            "Validation acc: 0.8906\n",
            "\n",
            "Start of epoch 169\n",
            "Training loss: 0.0423\n",
            "Training metric: 0.9012\n",
            "perturbation loss: 0.0917\n"
          ]
        },
        {
          "output_type": "stream",
          "name": "stderr",
          "text": [
            "\r 17%|█▋        | 170/1000 [04:50<20:48,  1.50s/it]"
          ]
        },
        {
          "output_type": "stream",
          "name": "stdout",
          "text": [
            "Validation acc: 0.9375\n",
            "\n",
            "Start of epoch 170\n",
            "Training loss: 0.0962\n",
            "Training metric: 0.9017\n",
            "perturbation loss: 0.0553\n"
          ]
        },
        {
          "output_type": "stream",
          "name": "stderr",
          "text": [
            "\r 17%|█▋        | 171/1000 [04:51<20:27,  1.48s/it]"
          ]
        },
        {
          "output_type": "stream",
          "name": "stdout",
          "text": [
            "Validation acc: 0.9688\n",
            "\n",
            "Start of epoch 171\n",
            "Training loss: 0.0092\n",
            "Training metric: 0.9022\n",
            "perturbation loss: 0.0235\n"
          ]
        },
        {
          "output_type": "stream",
          "name": "stderr",
          "text": [
            "\r 17%|█▋        | 172/1000 [04:53<20:13,  1.47s/it]"
          ]
        },
        {
          "output_type": "stream",
          "name": "stdout",
          "text": [
            "Validation acc: 0.9453\n",
            "\n",
            "Start of epoch 172\n",
            "Training loss: 0.0090\n",
            "Training metric: 0.9028\n",
            "perturbation loss: 0.0430\n"
          ]
        },
        {
          "output_type": "stream",
          "name": "stderr",
          "text": [
            "\r 17%|█▋        | 173/1000 [04:54<20:41,  1.50s/it]"
          ]
        },
        {
          "output_type": "stream",
          "name": "stdout",
          "text": [
            "Validation acc: 0.9766\n",
            "\n",
            "Start of epoch 173\n",
            "Training loss: 0.0060\n",
            "Training metric: 0.9033\n",
            "perturbation loss: 0.0466\n"
          ]
        },
        {
          "output_type": "stream",
          "name": "stderr",
          "text": [
            "\r 17%|█▋        | 174/1000 [04:57<23:47,  1.73s/it]"
          ]
        },
        {
          "output_type": "stream",
          "name": "stdout",
          "text": [
            "Validation acc: 0.8984\n",
            "\n",
            "Start of epoch 174\n",
            "Training loss: 0.0268\n",
            "Training metric: 0.9038\n",
            "perturbation loss: 0.0952\n"
          ]
        },
        {
          "output_type": "stream",
          "name": "stderr",
          "text": [
            "\r 18%|█▊        | 175/1000 [04:58<23:56,  1.74s/it]"
          ]
        },
        {
          "output_type": "stream",
          "name": "stdout",
          "text": [
            "Validation acc: 0.9688\n",
            "\n",
            "Start of epoch 175\n",
            "Training loss: 0.1848\n",
            "Training metric: 0.9043\n",
            "perturbation loss: 0.1540\n"
          ]
        },
        {
          "output_type": "stream",
          "name": "stderr",
          "text": [
            "\r 18%|█▊        | 176/1000 [05:00<22:55,  1.67s/it]"
          ]
        },
        {
          "output_type": "stream",
          "name": "stdout",
          "text": [
            "Validation acc: 0.8750\n",
            "\n",
            "Start of epoch 176\n",
            "Training loss: 0.0254\n",
            "Training metric: 0.9047\n",
            "perturbation loss: 0.1138\n"
          ]
        },
        {
          "output_type": "stream",
          "name": "stderr",
          "text": [
            "\r 18%|█▊        | 177/1000 [05:01<22:04,  1.61s/it]"
          ]
        },
        {
          "output_type": "stream",
          "name": "stdout",
          "text": [
            "Validation acc: 0.8984\n",
            "\n",
            "Start of epoch 177\n",
            "Training loss: 0.0108\n",
            "Training metric: 0.9052\n",
            "perturbation loss: 0.0695\n"
          ]
        },
        {
          "output_type": "stream",
          "name": "stderr",
          "text": [
            "\r 18%|█▊        | 178/1000 [05:03<21:22,  1.56s/it]"
          ]
        },
        {
          "output_type": "stream",
          "name": "stdout",
          "text": [
            "Validation acc: 0.9609\n",
            "\n",
            "Start of epoch 178\n",
            "Training loss: 0.0308\n",
            "Training metric: 0.9056\n",
            "perturbation loss: 0.0315\n"
          ]
        },
        {
          "output_type": "stream",
          "name": "stderr",
          "text": [
            "\r 18%|█▊        | 179/1000 [05:04<20:56,  1.53s/it]"
          ]
        },
        {
          "output_type": "stream",
          "name": "stdout",
          "text": [
            "Validation acc: 0.9609\n",
            "\n",
            "Start of epoch 179\n",
            "Training loss: 0.0043\n",
            "Training metric: 0.9061\n",
            "perturbation loss: 0.0339\n"
          ]
        },
        {
          "output_type": "stream",
          "name": "stderr",
          "text": [
            "\r 18%|█▊        | 180/1000 [05:06<20:31,  1.50s/it]"
          ]
        },
        {
          "output_type": "stream",
          "name": "stdout",
          "text": [
            "Validation acc: 0.9375\n",
            "\n",
            "Start of epoch 180\n",
            "Training loss: 0.0016\n",
            "Training metric: 0.9067\n",
            "perturbation loss: 0.0089\n"
          ]
        },
        {
          "output_type": "stream",
          "name": "stderr",
          "text": [
            "\r 18%|█▊        | 181/1000 [05:07<20:21,  1.49s/it]"
          ]
        },
        {
          "output_type": "stream",
          "name": "stdout",
          "text": [
            "Validation acc: 0.9609\n",
            "\n",
            "Start of epoch 181\n",
            "Training loss: 0.0134\n",
            "Training metric: 0.9072\n",
            "perturbation loss: 0.1103\n"
          ]
        },
        {
          "output_type": "stream",
          "name": "stderr",
          "text": [
            "\r 18%|█▊        | 182/1000 [05:09<22:28,  1.65s/it]"
          ]
        },
        {
          "output_type": "stream",
          "name": "stdout",
          "text": [
            "Validation acc: 0.9531\n",
            "\n",
            "Start of epoch 182\n",
            "Training loss: 0.0932\n",
            "Training metric: 0.9077\n",
            "perturbation loss: 0.0391\n"
          ]
        },
        {
          "output_type": "stream",
          "name": "stderr",
          "text": [
            "\r 18%|█▊        | 183/1000 [05:11<23:28,  1.72s/it]"
          ]
        },
        {
          "output_type": "stream",
          "name": "stdout",
          "text": [
            "Validation acc: 0.9688\n",
            "\n",
            "Start of epoch 183\n",
            "Training loss: 0.0036\n",
            "Training metric: 0.9081\n",
            "perturbation loss: 0.0494\n"
          ]
        },
        {
          "output_type": "stream",
          "name": "stderr",
          "text": [
            "\r 18%|█▊        | 184/1000 [05:13<22:40,  1.67s/it]"
          ]
        },
        {
          "output_type": "stream",
          "name": "stdout",
          "text": [
            "Validation acc: 0.9531\n",
            "\n",
            "Start of epoch 184\n",
            "Training loss: 0.0048\n",
            "Training metric: 0.9086\n",
            "perturbation loss: 0.0159\n"
          ]
        },
        {
          "output_type": "stream",
          "name": "stderr",
          "text": [
            "\r 18%|█▊        | 185/1000 [05:14<21:42,  1.60s/it]"
          ]
        },
        {
          "output_type": "stream",
          "name": "stdout",
          "text": [
            "Validation acc: 0.8594\n",
            "\n",
            "Start of epoch 185\n",
            "Training loss: 0.0124\n",
            "Training metric: 0.9091\n",
            "perturbation loss: 0.0453\n"
          ]
        },
        {
          "output_type": "stream",
          "name": "stderr",
          "text": [
            "\r 19%|█▊        | 186/1000 [05:16<21:04,  1.55s/it]"
          ]
        },
        {
          "output_type": "stream",
          "name": "stdout",
          "text": [
            "Validation acc: 0.9062\n",
            "\n",
            "Start of epoch 186\n",
            "Training loss: 0.0012\n",
            "Training metric: 0.9096\n",
            "perturbation loss: 0.0098\n"
          ]
        },
        {
          "output_type": "stream",
          "name": "stderr",
          "text": [
            "\r 19%|█▊        | 187/1000 [05:17<20:38,  1.52s/it]"
          ]
        },
        {
          "output_type": "stream",
          "name": "stdout",
          "text": [
            "Validation acc: 0.9453\n",
            "\n",
            "Start of epoch 187\n",
            "Training loss: 0.0017\n",
            "Training metric: 0.9100\n",
            "perturbation loss: 0.0415\n"
          ]
        },
        {
          "output_type": "stream",
          "name": "stderr",
          "text": [
            "\r 19%|█▉        | 188/1000 [05:18<20:24,  1.51s/it]"
          ]
        },
        {
          "output_type": "stream",
          "name": "stdout",
          "text": [
            "Validation acc: 0.9766\n",
            "\n",
            "Start of epoch 188\n",
            "Training loss: 0.0036\n",
            "Training metric: 0.9105\n",
            "perturbation loss: 0.0199\n"
          ]
        },
        {
          "output_type": "stream",
          "name": "stderr",
          "text": [
            "\r 19%|█▉        | 189/1000 [05:20<20:06,  1.49s/it]"
          ]
        },
        {
          "output_type": "stream",
          "name": "stdout",
          "text": [
            "Validation acc: 0.9375\n",
            "\n",
            "Start of epoch 189\n",
            "Training loss: 0.0242\n",
            "Training metric: 0.9109\n",
            "perturbation loss: 0.0276\n"
          ]
        },
        {
          "output_type": "stream",
          "name": "stderr",
          "text": [
            "\r 19%|█▉        | 190/1000 [05:21<19:55,  1.48s/it]"
          ]
        },
        {
          "output_type": "stream",
          "name": "stdout",
          "text": [
            "Validation acc: 0.7500\n",
            "\n",
            "Start of epoch 190\n",
            "Training loss: 0.0099\n",
            "Training metric: 0.9113\n",
            "perturbation loss: 0.0435\n"
          ]
        },
        {
          "output_type": "stream",
          "name": "stderr",
          "text": [
            "\r 19%|█▉        | 191/1000 [05:23<21:41,  1.61s/it]"
          ]
        },
        {
          "output_type": "stream",
          "name": "stdout",
          "text": [
            "Validation acc: 0.8906\n",
            "\n",
            "Start of epoch 191\n",
            "Training loss: 0.0026\n",
            "Training metric: 0.9117\n",
            "perturbation loss: 0.0278\n"
          ]
        },
        {
          "output_type": "stream",
          "name": "stderr",
          "text": [
            "\r 19%|█▉        | 192/1000 [05:26<24:05,  1.79s/it]"
          ]
        },
        {
          "output_type": "stream",
          "name": "stdout",
          "text": [
            "Validation acc: 0.6641\n",
            "\n",
            "Start of epoch 192\n",
            "Training loss: 0.0081\n",
            "Training metric: 0.9121\n",
            "perturbation loss: 0.0990\n"
          ]
        },
        {
          "output_type": "stream",
          "name": "stderr",
          "text": [
            "\r 19%|█▉        | 193/1000 [05:27<22:41,  1.69s/it]"
          ]
        },
        {
          "output_type": "stream",
          "name": "stdout",
          "text": [
            "Validation acc: 0.9219\n",
            "\n",
            "Start of epoch 193\n",
            "Training loss: 0.0036\n",
            "Training metric: 0.9125\n",
            "perturbation loss: 0.0109\n"
          ]
        },
        {
          "output_type": "stream",
          "name": "stderr",
          "text": [
            "\r 19%|█▉        | 194/1000 [05:28<21:48,  1.62s/it]"
          ]
        },
        {
          "output_type": "stream",
          "name": "stdout",
          "text": [
            "Validation acc: 0.9609\n",
            "\n",
            "Start of epoch 194\n",
            "Training loss: 0.0032\n",
            "Training metric: 0.9130\n",
            "perturbation loss: 0.0406\n"
          ]
        },
        {
          "output_type": "stream",
          "name": "stderr",
          "text": [
            "\r 20%|█▉        | 195/1000 [05:30<21:05,  1.57s/it]"
          ]
        },
        {
          "output_type": "stream",
          "name": "stdout",
          "text": [
            "Validation acc: 0.9375\n",
            "\n",
            "Start of epoch 195\n",
            "Training loss: 0.0021\n",
            "Training metric: 0.9134\n",
            "perturbation loss: 0.0338\n"
          ]
        },
        {
          "output_type": "stream",
          "name": "stderr",
          "text": [
            "\r 20%|█▉        | 196/1000 [05:31<20:38,  1.54s/it]"
          ]
        },
        {
          "output_type": "stream",
          "name": "stdout",
          "text": [
            "Validation acc: 0.9453\n",
            "\n",
            "Start of epoch 196\n",
            "Training loss: 0.0052\n",
            "Training metric: 0.9138\n",
            "perturbation loss: 0.0533\n"
          ]
        },
        {
          "output_type": "stream",
          "name": "stderr",
          "text": [
            "\r 20%|█▉        | 197/1000 [05:33<20:12,  1.51s/it]"
          ]
        },
        {
          "output_type": "stream",
          "name": "stdout",
          "text": [
            "Validation acc: 0.9141\n",
            "\n",
            "Start of epoch 197\n",
            "Training loss: 0.0077\n",
            "Training metric: 0.9143\n",
            "perturbation loss: 0.0095\n"
          ]
        },
        {
          "output_type": "stream",
          "name": "stderr",
          "text": [
            "\r 20%|█▉        | 198/1000 [05:34<19:59,  1.50s/it]"
          ]
        },
        {
          "output_type": "stream",
          "name": "stdout",
          "text": [
            "Validation acc: 0.9844\n",
            "\n",
            "Start of epoch 198\n",
            "Training loss: 0.0013\n",
            "Training metric: 0.9147\n",
            "perturbation loss: 0.0041\n"
          ]
        },
        {
          "output_type": "stream",
          "name": "stderr",
          "text": [
            "\r 20%|█▉        | 199/1000 [05:36<21:16,  1.59s/it]"
          ]
        },
        {
          "output_type": "stream",
          "name": "stdout",
          "text": [
            "Validation acc: 0.9766\n",
            "\n",
            "Start of epoch 199\n",
            "Training loss: 0.1012\n",
            "Training metric: 0.9151\n",
            "perturbation loss: 0.0759\n"
          ]
        },
        {
          "output_type": "stream",
          "name": "stderr",
          "text": [
            "\r 20%|██        | 200/1000 [05:38<22:31,  1.69s/it]"
          ]
        },
        {
          "output_type": "stream",
          "name": "stdout",
          "text": [
            "Validation acc: 0.7812\n",
            "\n",
            "Start of epoch 200\n",
            "Training loss: 0.0115\n",
            "Training metric: 0.9155\n",
            "perturbation loss: 0.0636\n"
          ]
        },
        {
          "output_type": "stream",
          "name": "stderr",
          "text": [
            "\r 20%|██        | 201/1000 [05:40<22:48,  1.71s/it]"
          ]
        },
        {
          "output_type": "stream",
          "name": "stdout",
          "text": [
            "Validation acc: 0.8750\n",
            "\n",
            "Start of epoch 201\n",
            "Training loss: 0.0085\n",
            "Training metric: 0.9159\n",
            "perturbation loss: 0.0589\n"
          ]
        },
        {
          "output_type": "stream",
          "name": "stderr",
          "text": [
            "\r 20%|██        | 202/1000 [05:41<21:37,  1.63s/it]"
          ]
        },
        {
          "output_type": "stream",
          "name": "stdout",
          "text": [
            "Validation acc: 0.9531\n",
            "\n",
            "Start of epoch 202\n",
            "Training loss: 0.0049\n",
            "Training metric: 0.9163\n",
            "perturbation loss: 0.0123\n"
          ]
        },
        {
          "output_type": "stream",
          "name": "stderr",
          "text": [
            "\r 20%|██        | 203/1000 [05:43<20:49,  1.57s/it]"
          ]
        },
        {
          "output_type": "stream",
          "name": "stdout",
          "text": [
            "Validation acc: 0.9062\n",
            "\n",
            "Start of epoch 203\n",
            "Training loss: 0.0123\n",
            "Training metric: 0.9166\n",
            "perturbation loss: 0.0437\n"
          ]
        },
        {
          "output_type": "stream",
          "name": "stderr",
          "text": [
            "\r 20%|██        | 204/1000 [05:44<20:12,  1.52s/it]"
          ]
        },
        {
          "output_type": "stream",
          "name": "stdout",
          "text": [
            "Validation acc: 0.9453\n",
            "\n",
            "Start of epoch 204\n",
            "Training loss: 0.0217\n",
            "Training metric: 0.9170\n",
            "perturbation loss: 0.0618\n"
          ]
        },
        {
          "output_type": "stream",
          "name": "stderr",
          "text": [
            "\r 20%|██        | 205/1000 [05:45<19:52,  1.50s/it]"
          ]
        },
        {
          "output_type": "stream",
          "name": "stdout",
          "text": [
            "Validation acc: 0.9141\n",
            "\n",
            "Start of epoch 205\n",
            "Training loss: 0.0224\n",
            "Training metric: 0.9174\n",
            "perturbation loss: 0.1267\n"
          ]
        },
        {
          "output_type": "stream",
          "name": "stderr",
          "text": [
            "\r 21%|██        | 206/1000 [05:47<19:41,  1.49s/it]"
          ]
        },
        {
          "output_type": "stream",
          "name": "stdout",
          "text": [
            "Validation acc: 0.9609\n",
            "\n",
            "Start of epoch 206\n",
            "Training loss: 0.0110\n",
            "Training metric: 0.9178\n",
            "perturbation loss: 0.0528\n"
          ]
        },
        {
          "output_type": "stream",
          "name": "stderr",
          "text": [
            "\r 21%|██        | 207/1000 [05:48<19:29,  1.48s/it]"
          ]
        },
        {
          "output_type": "stream",
          "name": "stdout",
          "text": [
            "Validation acc: 0.9453\n",
            "\n",
            "Start of epoch 207\n",
            "Training loss: 0.0013\n",
            "Training metric: 0.9181\n",
            "perturbation loss: 0.0074\n"
          ]
        },
        {
          "output_type": "stream",
          "name": "stderr",
          "text": [
            "\r 21%|██        | 208/1000 [05:50<20:07,  1.52s/it]"
          ]
        },
        {
          "output_type": "stream",
          "name": "stdout",
          "text": [
            "Validation acc: 0.9375\n",
            "\n",
            "Start of epoch 208\n",
            "Training loss: 0.0049\n",
            "Training metric: 0.9185\n",
            "perturbation loss: 0.0708\n"
          ]
        },
        {
          "output_type": "stream",
          "name": "stderr",
          "text": [
            "\r 21%|██        | 209/1000 [05:52<22:44,  1.72s/it]"
          ]
        },
        {
          "output_type": "stream",
          "name": "stdout",
          "text": [
            "Validation acc: 0.9297\n",
            "\n",
            "Start of epoch 209\n",
            "Training loss: 0.0106\n",
            "Training metric: 0.9189\n",
            "perturbation loss: 0.0633\n"
          ]
        },
        {
          "output_type": "stream",
          "name": "stderr",
          "text": [
            "\r 21%|██        | 210/1000 [05:54<22:21,  1.70s/it]"
          ]
        },
        {
          "output_type": "stream",
          "name": "stdout",
          "text": [
            "Validation acc: 0.9375\n",
            "\n",
            "Start of epoch 210\n",
            "Training loss: 0.0794\n",
            "Training metric: 0.9192\n",
            "perturbation loss: 0.0508\n"
          ]
        },
        {
          "output_type": "stream",
          "name": "stderr",
          "text": [
            "\r 21%|██        | 211/1000 [05:55<21:20,  1.62s/it]"
          ]
        },
        {
          "output_type": "stream",
          "name": "stdout",
          "text": [
            "Validation acc: 0.8984\n",
            "\n",
            "Start of epoch 211\n",
            "Training loss: 0.0252\n",
            "Training metric: 0.9195\n",
            "perturbation loss: 0.0946\n"
          ]
        },
        {
          "output_type": "stream",
          "name": "stderr",
          "text": [
            "\r 21%|██        | 212/1000 [05:57<20:32,  1.56s/it]"
          ]
        },
        {
          "output_type": "stream",
          "name": "stdout",
          "text": [
            "Validation acc: 0.9609\n",
            "\n",
            "Start of epoch 212\n",
            "Training loss: 0.0486\n",
            "Training metric: 0.9199\n",
            "perturbation loss: 0.1212\n"
          ]
        },
        {
          "output_type": "stream",
          "name": "stderr",
          "text": [
            "\r 21%|██▏       | 213/1000 [05:58<19:57,  1.52s/it]"
          ]
        },
        {
          "output_type": "stream",
          "name": "stdout",
          "text": [
            "Validation acc: 0.9531\n",
            "\n",
            "Start of epoch 213\n",
            "Training loss: 0.0145\n",
            "Training metric: 0.9202\n",
            "perturbation loss: 0.0553\n"
          ]
        },
        {
          "output_type": "stream",
          "name": "stderr",
          "text": [
            "\r 21%|██▏       | 214/1000 [06:00<19:46,  1.51s/it]"
          ]
        },
        {
          "output_type": "stream",
          "name": "stdout",
          "text": [
            "Validation acc: 0.9688\n",
            "\n",
            "Start of epoch 214\n",
            "Training loss: 0.0021\n",
            "Training metric: 0.9206\n",
            "perturbation loss: 0.0315\n"
          ]
        },
        {
          "output_type": "stream",
          "name": "stderr",
          "text": [
            "\r 22%|██▏       | 215/1000 [06:01<19:26,  1.49s/it]"
          ]
        },
        {
          "output_type": "stream",
          "name": "stdout",
          "text": [
            "Validation acc: 0.9531\n",
            "\n",
            "Start of epoch 215\n",
            "Training loss: 0.0014\n",
            "Training metric: 0.9210\n",
            "perturbation loss: 0.0109\n"
          ]
        },
        {
          "output_type": "stream",
          "name": "stderr",
          "text": [
            "\r 22%|██▏       | 216/1000 [06:02<19:13,  1.47s/it]"
          ]
        },
        {
          "output_type": "stream",
          "name": "stdout",
          "text": [
            "Validation acc: 0.9766\n",
            "\n",
            "Start of epoch 216\n",
            "Training loss: 0.0008\n",
            "Training metric: 0.9213\n",
            "perturbation loss: 0.0042\n"
          ]
        },
        {
          "output_type": "stream",
          "name": "stderr",
          "text": [
            "\r 22%|██▏       | 217/1000 [06:05<21:31,  1.65s/it]"
          ]
        },
        {
          "output_type": "stream",
          "name": "stdout",
          "text": [
            "Validation acc: 0.9609\n",
            "\n",
            "Start of epoch 217\n",
            "Training loss: 0.0008\n",
            "Training metric: 0.9217\n",
            "perturbation loss: 0.0033\n"
          ]
        },
        {
          "output_type": "stream",
          "name": "stderr",
          "text": [
            "\r 22%|██▏       | 218/1000 [06:07<23:01,  1.77s/it]"
          ]
        },
        {
          "output_type": "stream",
          "name": "stdout",
          "text": [
            "Validation acc: 0.9375\n",
            "\n",
            "Start of epoch 218\n",
            "Training loss: 0.0003\n",
            "Training metric: 0.9221\n",
            "perturbation loss: 0.0021\n"
          ]
        },
        {
          "output_type": "stream",
          "name": "stderr",
          "text": [
            "\r 22%|██▏       | 219/1000 [06:08<22:12,  1.71s/it]"
          ]
        },
        {
          "output_type": "stream",
          "name": "stdout",
          "text": [
            "Validation acc: 0.9688\n",
            "\n",
            "Start of epoch 219\n",
            "Training loss: 0.0011\n",
            "Training metric: 0.9224\n",
            "perturbation loss: 0.0033\n"
          ]
        },
        {
          "output_type": "stream",
          "name": "stderr",
          "text": [
            "\r 22%|██▏       | 220/1000 [06:10<21:22,  1.64s/it]"
          ]
        },
        {
          "output_type": "stream",
          "name": "stdout",
          "text": [
            "Validation acc: 0.9609\n",
            "\n",
            "Start of epoch 220\n",
            "Training loss: 0.0001\n",
            "Training metric: 0.9228\n",
            "perturbation loss: 0.0005\n"
          ]
        },
        {
          "output_type": "stream",
          "name": "stderr",
          "text": [
            "\r 22%|██▏       | 221/1000 [06:11<20:50,  1.60s/it]"
          ]
        },
        {
          "output_type": "stream",
          "name": "stdout",
          "text": [
            "Validation acc: 0.9688\n",
            "\n",
            "Start of epoch 221\n",
            "Training loss: 0.0139\n",
            "Training metric: 0.9231\n",
            "perturbation loss: 0.0118\n"
          ]
        },
        {
          "output_type": "stream",
          "name": "stderr",
          "text": [
            "\r 22%|██▏       | 222/1000 [06:13<20:23,  1.57s/it]"
          ]
        },
        {
          "output_type": "stream",
          "name": "stdout",
          "text": [
            "Validation acc: 0.9453\n",
            "\n",
            "Start of epoch 222\n",
            "Training loss: 0.0005\n",
            "Training metric: 0.9235\n",
            "perturbation loss: 0.0022\n"
          ]
        },
        {
          "output_type": "stream",
          "name": "stderr",
          "text": [
            "\r 22%|██▏       | 223/1000 [06:14<20:07,  1.55s/it]"
          ]
        },
        {
          "output_type": "stream",
          "name": "stdout",
          "text": [
            "Validation acc: 0.9453\n",
            "\n",
            "Start of epoch 223\n",
            "Training loss: 0.0312\n",
            "Training metric: 0.9238\n",
            "perturbation loss: 0.1262\n"
          ]
        },
        {
          "output_type": "stream",
          "name": "stderr",
          "text": [
            "\r 22%|██▏       | 224/1000 [06:16<19:54,  1.54s/it]"
          ]
        },
        {
          "output_type": "stream",
          "name": "stdout",
          "text": [
            "Validation acc: 0.9375\n",
            "\n",
            "Start of epoch 224\n",
            "Training loss: 0.0387\n",
            "Training metric: 0.9241\n",
            "perturbation loss: 0.1424\n"
          ]
        },
        {
          "output_type": "stream",
          "name": "stderr",
          "text": [
            "\r 22%|██▎       | 225/1000 [06:17<20:21,  1.58s/it]"
          ]
        },
        {
          "output_type": "stream",
          "name": "stdout",
          "text": [
            "Validation acc: 0.9141\n",
            "\n",
            "Start of epoch 225\n",
            "Training loss: 0.0032\n",
            "Training metric: 0.9244\n",
            "perturbation loss: 0.0244\n"
          ]
        },
        {
          "output_type": "stream",
          "name": "stderr",
          "text": [
            "\r 23%|██▎       | 226/1000 [06:20<23:02,  1.79s/it]"
          ]
        },
        {
          "output_type": "stream",
          "name": "stdout",
          "text": [
            "Validation acc: 0.8906\n",
            "\n",
            "Start of epoch 226\n",
            "Training loss: 0.0012\n",
            "Training metric: 0.9247\n",
            "perturbation loss: 0.0035\n"
          ]
        },
        {
          "output_type": "stream",
          "name": "stderr",
          "text": [
            "\r 23%|██▎       | 227/1000 [06:21<23:02,  1.79s/it]"
          ]
        },
        {
          "output_type": "stream",
          "name": "stdout",
          "text": [
            "Validation acc: 0.9375\n",
            "\n",
            "Start of epoch 227\n",
            "Training loss: 0.0122\n",
            "Training metric: 0.9250\n",
            "perturbation loss: 0.0308\n"
          ]
        },
        {
          "output_type": "stream",
          "name": "stderr",
          "text": [
            "\r 23%|██▎       | 228/1000 [06:23<22:02,  1.71s/it]"
          ]
        },
        {
          "output_type": "stream",
          "name": "stdout",
          "text": [
            "Validation acc: 0.9375\n",
            "\n",
            "Start of epoch 228\n",
            "Training loss: 0.0195\n",
            "Training metric: 0.9253\n",
            "perturbation loss: 0.1130\n"
          ]
        },
        {
          "output_type": "stream",
          "name": "stderr",
          "text": [
            "\r 23%|██▎       | 229/1000 [06:24<21:18,  1.66s/it]"
          ]
        },
        {
          "output_type": "stream",
          "name": "stdout",
          "text": [
            "Validation acc: 0.9531\n",
            "\n",
            "Start of epoch 229\n",
            "Training loss: 0.0410\n",
            "Training metric: 0.9256\n",
            "perturbation loss: 0.0652\n"
          ]
        },
        {
          "output_type": "stream",
          "name": "stderr",
          "text": [
            "\r 23%|██▎       | 230/1000 [06:26<20:41,  1.61s/it]"
          ]
        },
        {
          "output_type": "stream",
          "name": "stdout",
          "text": [
            "Validation acc: 0.9609\n",
            "\n",
            "Start of epoch 230\n",
            "Training loss: 0.0015\n",
            "Training metric: 0.9259\n",
            "perturbation loss: 0.0064\n"
          ]
        },
        {
          "output_type": "stream",
          "name": "stderr",
          "text": [
            "\r 23%|██▎       | 231/1000 [06:27<20:09,  1.57s/it]"
          ]
        },
        {
          "output_type": "stream",
          "name": "stdout",
          "text": [
            "Validation acc: 0.9531\n",
            "\n",
            "Start of epoch 231\n",
            "Training loss: 0.0051\n",
            "Training metric: 0.9262\n",
            "perturbation loss: 0.0462\n"
          ]
        },
        {
          "output_type": "stream",
          "name": "stderr",
          "text": [
            "\r 23%|██▎       | 232/1000 [06:29<19:53,  1.55s/it]"
          ]
        },
        {
          "output_type": "stream",
          "name": "stdout",
          "text": [
            "Validation acc: 0.9766\n",
            "\n",
            "Start of epoch 232\n",
            "Training loss: 0.0002\n",
            "Training metric: 0.9266\n",
            "perturbation loss: 0.0017\n"
          ]
        },
        {
          "output_type": "stream",
          "name": "stderr",
          "text": [
            "\r 23%|██▎       | 233/1000 [06:31<19:44,  1.54s/it]"
          ]
        },
        {
          "output_type": "stream",
          "name": "stdout",
          "text": [
            "Validation acc: 0.9297\n",
            "\n",
            "Start of epoch 233\n",
            "Training loss: 0.0010\n",
            "Training metric: 0.9269\n",
            "perturbation loss: 0.0070\n"
          ]
        },
        {
          "output_type": "stream",
          "name": "stderr",
          "text": [
            "\r 23%|██▎       | 234/1000 [06:32<21:09,  1.66s/it]"
          ]
        },
        {
          "output_type": "stream",
          "name": "stdout",
          "text": [
            "Validation acc: 0.9375\n",
            "\n",
            "Start of epoch 234\n",
            "Training loss: 0.3295\n",
            "Training metric: 0.9271\n",
            "perturbation loss: 0.2568\n"
          ]
        },
        {
          "output_type": "stream",
          "name": "stderr",
          "text": [
            "\r 24%|██▎       | 235/1000 [06:35<23:29,  1.84s/it]"
          ]
        },
        {
          "output_type": "stream",
          "name": "stdout",
          "text": [
            "Validation acc: 0.9297\n",
            "\n",
            "Start of epoch 235\n",
            "Training loss: 0.0026\n",
            "Training metric: 0.9274\n",
            "perturbation loss: 0.0173\n"
          ]
        },
        {
          "output_type": "stream",
          "name": "stderr",
          "text": [
            "\r 24%|██▎       | 236/1000 [06:36<22:16,  1.75s/it]"
          ]
        },
        {
          "output_type": "stream",
          "name": "stdout",
          "text": [
            "Validation acc: 0.9141\n",
            "\n",
            "Start of epoch 236\n",
            "Training loss: 0.0011\n",
            "Training metric: 0.9277\n",
            "perturbation loss: 0.0087\n"
          ]
        },
        {
          "output_type": "stream",
          "name": "stderr",
          "text": [
            "\r 24%|██▎       | 237/1000 [06:38<21:20,  1.68s/it]"
          ]
        },
        {
          "output_type": "stream",
          "name": "stdout",
          "text": [
            "Validation acc: 0.9531\n",
            "\n",
            "Start of epoch 237\n",
            "Training loss: 0.0103\n",
            "Training metric: 0.9279\n",
            "perturbation loss: 0.0670\n"
          ]
        },
        {
          "output_type": "stream",
          "name": "stderr",
          "text": [
            "\r 24%|██▍       | 238/1000 [06:39<20:40,  1.63s/it]"
          ]
        },
        {
          "output_type": "stream",
          "name": "stdout",
          "text": [
            "Validation acc: 0.8906\n",
            "\n",
            "Start of epoch 238\n",
            "Training loss: 0.0007\n",
            "Training metric: 0.9282\n",
            "perturbation loss: 0.0054\n"
          ]
        },
        {
          "output_type": "stream",
          "name": "stderr",
          "text": [
            "\r 24%|██▍       | 239/1000 [06:41<20:15,  1.60s/it]"
          ]
        },
        {
          "output_type": "stream",
          "name": "stdout",
          "text": [
            "Validation acc: 0.9297\n",
            "\n",
            "Start of epoch 239\n",
            "Training loss: 0.0005\n",
            "Training metric: 0.9285\n",
            "perturbation loss: 0.0018\n"
          ]
        },
        {
          "output_type": "stream",
          "name": "stderr",
          "text": [
            "\r 24%|██▍       | 240/1000 [06:42<19:54,  1.57s/it]"
          ]
        },
        {
          "output_type": "stream",
          "name": "stdout",
          "text": [
            "Validation acc: 0.9531\n",
            "\n",
            "Start of epoch 240\n",
            "Training loss: 0.0010\n",
            "Training metric: 0.9288\n",
            "perturbation loss: 0.0027\n"
          ]
        },
        {
          "output_type": "stream",
          "name": "stderr",
          "text": [
            "\r 24%|██▍       | 241/1000 [06:44<19:38,  1.55s/it]"
          ]
        },
        {
          "output_type": "stream",
          "name": "stdout",
          "text": [
            "Validation acc: 0.9609\n",
            "\n",
            "Start of epoch 241\n",
            "Training loss: 0.0008\n",
            "Training metric: 0.9291\n",
            "perturbation loss: 0.0046\n"
          ]
        },
        {
          "output_type": "stream",
          "name": "stderr",
          "text": [
            "\r 24%|██▍       | 242/1000 [06:46<21:13,  1.68s/it]"
          ]
        },
        {
          "output_type": "stream",
          "name": "stdout",
          "text": [
            "Validation acc: 0.9219\n",
            "\n",
            "Start of epoch 242\n",
            "Training loss: 0.0005\n",
            "Training metric: 0.9294\n",
            "perturbation loss: 0.0030\n"
          ]
        },
        {
          "output_type": "stream",
          "name": "stderr",
          "text": [
            "\r 24%|██▍       | 243/1000 [06:48<22:33,  1.79s/it]"
          ]
        },
        {
          "output_type": "stream",
          "name": "stdout",
          "text": [
            "Validation acc: 0.9453\n",
            "\n",
            "Start of epoch 243\n",
            "Training loss: 0.0020\n",
            "Training metric: 0.9297\n",
            "perturbation loss: 0.0339\n"
          ]
        },
        {
          "output_type": "stream",
          "name": "stderr",
          "text": [
            "\r 24%|██▍       | 244/1000 [06:50<22:32,  1.79s/it]"
          ]
        },
        {
          "output_type": "stream",
          "name": "stdout",
          "text": [
            "Validation acc: 0.9453\n",
            "\n",
            "Start of epoch 244\n",
            "Training loss: 0.0062\n",
            "Training metric: 0.9300\n",
            "perturbation loss: 0.0435\n"
          ]
        },
        {
          "output_type": "stream",
          "name": "stderr",
          "text": [
            "\r 24%|██▍       | 245/1000 [06:51<21:23,  1.70s/it]"
          ]
        },
        {
          "output_type": "stream",
          "name": "stdout",
          "text": [
            "Validation acc: 0.9297\n",
            "\n",
            "Start of epoch 245\n",
            "Training loss: 0.0067\n",
            "Training metric: 0.9302\n",
            "perturbation loss: 0.0191\n"
          ]
        },
        {
          "output_type": "stream",
          "name": "stderr",
          "text": [
            "\r 25%|██▍       | 246/1000 [06:53<20:52,  1.66s/it]"
          ]
        },
        {
          "output_type": "stream",
          "name": "stdout",
          "text": [
            "Validation acc: 0.8750\n",
            "\n",
            "Start of epoch 246\n",
            "Training loss: 0.0057\n",
            "Training metric: 0.9305\n",
            "perturbation loss: 0.0419\n"
          ]
        },
        {
          "output_type": "stream",
          "name": "stderr",
          "text": [
            "\r 25%|██▍       | 247/1000 [06:54<20:18,  1.62s/it]"
          ]
        },
        {
          "output_type": "stream",
          "name": "stdout",
          "text": [
            "Validation acc: 0.9141\n",
            "\n",
            "Start of epoch 247\n",
            "Training loss: 0.0188\n",
            "Training metric: 0.9307\n",
            "perturbation loss: 0.1763\n"
          ]
        },
        {
          "output_type": "stream",
          "name": "stderr",
          "text": [
            "\r 25%|██▍       | 248/1000 [06:56<19:58,  1.59s/it]"
          ]
        },
        {
          "output_type": "stream",
          "name": "stdout",
          "text": [
            "Validation acc: 0.9766\n",
            "\n",
            "Start of epoch 248\n",
            "Training loss: 0.0169\n",
            "Training metric: 0.9310\n",
            "perturbation loss: 0.0316\n"
          ]
        },
        {
          "output_type": "stream",
          "name": "stderr",
          "text": [
            "\r 25%|██▍       | 249/1000 [06:57<19:42,  1.57s/it]"
          ]
        },
        {
          "output_type": "stream",
          "name": "stdout",
          "text": [
            "Validation acc: 0.9531\n",
            "\n",
            "Start of epoch 249\n",
            "Training loss: 0.0145\n",
            "Training metric: 0.9312\n",
            "perturbation loss: 0.0887\n"
          ]
        },
        {
          "output_type": "stream",
          "name": "stderr",
          "text": [
            "\r 25%|██▌       | 250/1000 [06:59<19:30,  1.56s/it]"
          ]
        },
        {
          "output_type": "stream",
          "name": "stdout",
          "text": [
            "Validation acc: 0.9688\n",
            "\n",
            "Start of epoch 250\n",
            "Training loss: 0.0019\n",
            "Training metric: 0.9315\n",
            "perturbation loss: 0.0098\n"
          ]
        },
        {
          "output_type": "stream",
          "name": "stderr",
          "text": [
            "\r 25%|██▌       | 251/1000 [07:01<22:07,  1.77s/it]"
          ]
        },
        {
          "output_type": "stream",
          "name": "stdout",
          "text": [
            "Validation acc: 0.9766\n",
            "\n",
            "Start of epoch 251\n",
            "Training loss: 0.0072\n",
            "Training metric: 0.9318\n",
            "perturbation loss: 0.0126\n"
          ]
        },
        {
          "output_type": "stream",
          "name": "stderr",
          "text": [
            "\r 25%|██▌       | 252/1000 [07:03<22:47,  1.83s/it]"
          ]
        },
        {
          "output_type": "stream",
          "name": "stdout",
          "text": [
            "Validation acc: 0.9844\n",
            "\n",
            "Start of epoch 252\n",
            "Training loss: 0.0006\n",
            "Training metric: 0.9320\n",
            "perturbation loss: 0.0061\n"
          ]
        },
        {
          "output_type": "stream",
          "name": "stderr",
          "text": [
            "\r 25%|██▌       | 253/1000 [07:05<21:36,  1.74s/it]"
          ]
        },
        {
          "output_type": "stream",
          "name": "stdout",
          "text": [
            "Validation acc: 0.9844\n",
            "\n",
            "Start of epoch 253\n",
            "Training loss: 0.0023\n",
            "Training metric: 0.9323\n",
            "perturbation loss: 0.0227\n"
          ]
        },
        {
          "output_type": "stream",
          "name": "stderr",
          "text": [
            "\r 25%|██▌       | 254/1000 [07:06<20:48,  1.67s/it]"
          ]
        },
        {
          "output_type": "stream",
          "name": "stdout",
          "text": [
            "Validation acc: 0.9922\n",
            "\n",
            "Start of epoch 254\n",
            "Training loss: 0.0003\n",
            "Training metric: 0.9326\n",
            "perturbation loss: 0.0040\n"
          ]
        },
        {
          "output_type": "stream",
          "name": "stderr",
          "text": [
            "\r 26%|██▌       | 255/1000 [07:08<20:11,  1.63s/it]"
          ]
        },
        {
          "output_type": "stream",
          "name": "stdout",
          "text": [
            "Validation acc: 0.9609\n",
            "\n",
            "Start of epoch 255\n",
            "Training loss: 0.0607\n",
            "Training metric: 0.9328\n",
            "perturbation loss: 0.0437\n"
          ]
        },
        {
          "output_type": "stream",
          "name": "stderr",
          "text": [
            "\r 26%|██▌       | 256/1000 [07:09<19:44,  1.59s/it]"
          ]
        },
        {
          "output_type": "stream",
          "name": "stdout",
          "text": [
            "Validation acc: 0.9375\n",
            "\n",
            "Start of epoch 256\n",
            "Training loss: 0.0026\n",
            "Training metric: 0.9331\n",
            "perturbation loss: 0.0256\n"
          ]
        },
        {
          "output_type": "stream",
          "name": "stderr",
          "text": [
            "\r 26%|██▌       | 257/1000 [07:11<19:21,  1.56s/it]"
          ]
        },
        {
          "output_type": "stream",
          "name": "stdout",
          "text": [
            "Validation acc: 0.9453\n",
            "\n",
            "Start of epoch 257\n",
            "Training loss: 0.0069\n",
            "Training metric: 0.9333\n",
            "perturbation loss: 0.0223\n"
          ]
        },
        {
          "output_type": "stream",
          "name": "stderr",
          "text": [
            "\r 26%|██▌       | 258/1000 [07:12<19:07,  1.55s/it]"
          ]
        },
        {
          "output_type": "stream",
          "name": "stdout",
          "text": [
            "Validation acc: 0.9297\n",
            "\n",
            "Start of epoch 258\n",
            "Training loss: 0.0019\n",
            "Training metric: 0.9336\n",
            "perturbation loss: 0.0174\n"
          ]
        },
        {
          "output_type": "stream",
          "name": "stderr",
          "text": [
            "\r 26%|██▌       | 259/1000 [07:14<19:46,  1.60s/it]"
          ]
        },
        {
          "output_type": "stream",
          "name": "stdout",
          "text": [
            "Validation acc: 0.9375\n",
            "\n",
            "Start of epoch 259\n",
            "Training loss: 0.0003\n",
            "Training metric: 0.9338\n",
            "perturbation loss: 0.0023\n"
          ]
        },
        {
          "output_type": "stream",
          "name": "stderr",
          "text": [
            "\r 26%|██▌       | 260/1000 [07:16<21:17,  1.73s/it]"
          ]
        },
        {
          "output_type": "stream",
          "name": "stdout",
          "text": [
            "Validation acc: 0.9688\n",
            "\n",
            "Start of epoch 260\n",
            "Training loss: 0.0005\n",
            "Training metric: 0.9341\n",
            "perturbation loss: 0.0016\n"
          ]
        },
        {
          "output_type": "stream",
          "name": "stderr",
          "text": [
            "\r 26%|██▌       | 261/1000 [07:18<21:31,  1.75s/it]"
          ]
        },
        {
          "output_type": "stream",
          "name": "stdout",
          "text": [
            "Validation acc: 0.9609\n",
            "\n",
            "Start of epoch 261\n",
            "Training loss: 0.0001\n",
            "Training metric: 0.9343\n",
            "perturbation loss: 0.0009\n"
          ]
        },
        {
          "output_type": "stream",
          "name": "stderr",
          "text": [
            "\r 26%|██▌       | 262/1000 [07:19<20:43,  1.69s/it]"
          ]
        },
        {
          "output_type": "stream",
          "name": "stdout",
          "text": [
            "Validation acc: 0.9688\n",
            "\n",
            "Start of epoch 262\n",
            "Training loss: 0.0000\n",
            "Training metric: 0.9346\n",
            "perturbation loss: 0.0008\n"
          ]
        },
        {
          "output_type": "stream",
          "name": "stderr",
          "text": [
            "\r 26%|██▋       | 263/1000 [07:21<20:01,  1.63s/it]"
          ]
        },
        {
          "output_type": "stream",
          "name": "stdout",
          "text": [
            "Validation acc: 0.9609\n",
            "\n",
            "Start of epoch 263\n",
            "Training loss: 0.0003\n",
            "Training metric: 0.9348\n",
            "perturbation loss: 0.0014\n"
          ]
        },
        {
          "output_type": "stream",
          "name": "stderr",
          "text": [
            "\r 26%|██▋       | 264/1000 [07:22<19:32,  1.59s/it]"
          ]
        },
        {
          "output_type": "stream",
          "name": "stdout",
          "text": [
            "Validation acc: 0.9609\n",
            "\n",
            "Start of epoch 264\n",
            "Training loss: 0.0066\n",
            "Training metric: 0.9351\n",
            "perturbation loss: 0.0148\n"
          ]
        },
        {
          "output_type": "stream",
          "name": "stderr",
          "text": [
            "\r 26%|██▋       | 265/1000 [07:24<19:09,  1.56s/it]"
          ]
        },
        {
          "output_type": "stream",
          "name": "stdout",
          "text": [
            "Validation acc: 0.9375\n",
            "\n",
            "Start of epoch 265\n",
            "Training loss: 0.0010\n",
            "Training metric: 0.9353\n",
            "perturbation loss: 0.0226\n"
          ]
        },
        {
          "output_type": "stream",
          "name": "stderr",
          "text": [
            "\r 27%|██▋       | 266/1000 [07:25<18:55,  1.55s/it]"
          ]
        },
        {
          "output_type": "stream",
          "name": "stdout",
          "text": [
            "Validation acc: 0.9609\n",
            "\n",
            "Start of epoch 266\n",
            "Training loss: 0.0104\n",
            "Training metric: 0.9355\n",
            "perturbation loss: 0.0661\n"
          ]
        },
        {
          "output_type": "stream",
          "name": "stderr",
          "text": [
            "\r 27%|██▋       | 267/1000 [07:27<18:48,  1.54s/it]"
          ]
        },
        {
          "output_type": "stream",
          "name": "stdout",
          "text": [
            "Validation acc: 0.9531\n",
            "\n",
            "Start of epoch 267\n",
            "Training loss: 0.0110\n",
            "Training metric: 0.9358\n",
            "perturbation loss: 0.0785\n"
          ]
        },
        {
          "output_type": "stream",
          "name": "stderr",
          "text": [
            "\r 27%|██▋       | 268/1000 [07:29<20:19,  1.67s/it]"
          ]
        },
        {
          "output_type": "stream",
          "name": "stdout",
          "text": [
            "Validation acc: 0.9609\n",
            "\n",
            "Start of epoch 268\n",
            "Training loss: 0.0008\n",
            "Training metric: 0.9360\n",
            "perturbation loss: 0.0029\n"
          ]
        },
        {
          "output_type": "stream",
          "name": "stderr",
          "text": [
            "\r 27%|██▋       | 269/1000 [07:31<22:27,  1.84s/it]"
          ]
        },
        {
          "output_type": "stream",
          "name": "stdout",
          "text": [
            "Validation acc: 0.9609\n",
            "\n",
            "Start of epoch 269\n",
            "Training loss: 0.0006\n",
            "Training metric: 0.9362\n",
            "perturbation loss: 0.0046\n"
          ]
        },
        {
          "output_type": "stream",
          "name": "stderr",
          "text": [
            "\r 27%|██▋       | 270/1000 [07:32<21:07,  1.74s/it]"
          ]
        },
        {
          "output_type": "stream",
          "name": "stdout",
          "text": [
            "Validation acc: 0.9609\n",
            "\n",
            "Start of epoch 270\n",
            "Training loss: 0.0002\n",
            "Training metric: 0.9365\n",
            "perturbation loss: 0.0008\n"
          ]
        },
        {
          "output_type": "stream",
          "name": "stderr",
          "text": [
            "\r 27%|██▋       | 271/1000 [07:34<20:32,  1.69s/it]"
          ]
        },
        {
          "output_type": "stream",
          "name": "stdout",
          "text": [
            "Validation acc: 0.9688\n",
            "\n",
            "Start of epoch 271\n",
            "Training loss: 0.0001\n",
            "Training metric: 0.9367\n",
            "perturbation loss: 0.0010\n"
          ]
        },
        {
          "output_type": "stream",
          "name": "stderr",
          "text": [
            "\r 27%|██▋       | 272/1000 [07:36<19:51,  1.64s/it]"
          ]
        },
        {
          "output_type": "stream",
          "name": "stdout",
          "text": [
            "Validation acc: 0.9531\n",
            "\n",
            "Start of epoch 272\n",
            "Training loss: 0.0255\n",
            "Training metric: 0.9369\n",
            "perturbation loss: 0.0662\n"
          ]
        },
        {
          "output_type": "stream",
          "name": "stderr",
          "text": [
            "\r 27%|██▋       | 273/1000 [07:37<19:23,  1.60s/it]"
          ]
        },
        {
          "output_type": "stream",
          "name": "stdout",
          "text": [
            "Validation acc: 0.9531\n",
            "\n",
            "Start of epoch 273\n",
            "Training loss: 0.0020\n",
            "Training metric: 0.9371\n",
            "perturbation loss: 0.0116\n"
          ]
        },
        {
          "output_type": "stream",
          "name": "stderr",
          "text": [
            "\r 27%|██▋       | 274/1000 [07:39<19:00,  1.57s/it]"
          ]
        },
        {
          "output_type": "stream",
          "name": "stdout",
          "text": [
            "Validation acc: 0.9062\n",
            "\n",
            "Start of epoch 274\n",
            "Training loss: 0.0002\n",
            "Training metric: 0.9374\n",
            "perturbation loss: 0.0016\n"
          ]
        },
        {
          "output_type": "stream",
          "name": "stderr",
          "text": [
            "\r 28%|██▊       | 275/1000 [07:40<18:42,  1.55s/it]"
          ]
        },
        {
          "output_type": "stream",
          "name": "stdout",
          "text": [
            "Validation acc: 0.9609\n",
            "\n",
            "Start of epoch 275\n",
            "Training loss: 0.0016\n",
            "Training metric: 0.9376\n",
            "perturbation loss: 0.0312\n"
          ]
        },
        {
          "output_type": "stream",
          "name": "stderr",
          "text": [
            "\r 28%|██▊       | 276/1000 [07:42<20:16,  1.68s/it]"
          ]
        },
        {
          "output_type": "stream",
          "name": "stdout",
          "text": [
            "Validation acc: 0.9609\n",
            "\n",
            "Start of epoch 276\n",
            "Training loss: 0.0089\n",
            "Training metric: 0.9378\n",
            "perturbation loss: 0.0129\n"
          ]
        },
        {
          "output_type": "stream",
          "name": "stderr",
          "text": [
            "\r 28%|██▊       | 277/1000 [07:44<21:28,  1.78s/it]"
          ]
        },
        {
          "output_type": "stream",
          "name": "stdout",
          "text": [
            "Validation acc: 0.9766\n",
            "\n",
            "Start of epoch 277\n",
            "Training loss: 0.0171\n",
            "Training metric: 0.9380\n",
            "perturbation loss: 0.0801\n"
          ]
        },
        {
          "output_type": "stream",
          "name": "stderr",
          "text": [
            "\r 28%|██▊       | 278/1000 [07:46<21:20,  1.77s/it]"
          ]
        },
        {
          "output_type": "stream",
          "name": "stdout",
          "text": [
            "Validation acc: 0.9609\n",
            "\n",
            "Start of epoch 278\n",
            "Training loss: 0.0570\n",
            "Training metric: 0.9382\n",
            "perturbation loss: 0.0420\n"
          ]
        },
        {
          "output_type": "stream",
          "name": "stderr",
          "text": [
            "\r 28%|██▊       | 279/1000 [07:47<20:31,  1.71s/it]"
          ]
        },
        {
          "output_type": "stream",
          "name": "stdout",
          "text": [
            "Validation acc: 0.9609\n",
            "\n",
            "Start of epoch 279\n",
            "Training loss: 0.0079\n",
            "Training metric: 0.9384\n",
            "perturbation loss: 0.0319\n"
          ]
        },
        {
          "output_type": "stream",
          "name": "stderr",
          "text": [
            "\r 28%|██▊       | 280/1000 [07:49<19:44,  1.64s/it]"
          ]
        },
        {
          "output_type": "stream",
          "name": "stdout",
          "text": [
            "Validation acc: 0.9922\n",
            "\n",
            "Start of epoch 280\n",
            "Training loss: 0.0013\n",
            "Training metric: 0.9386\n",
            "perturbation loss: 0.0110\n"
          ]
        },
        {
          "output_type": "stream",
          "name": "stderr",
          "text": [
            "\r 28%|██▊       | 281/1000 [07:50<19:11,  1.60s/it]"
          ]
        },
        {
          "output_type": "stream",
          "name": "stdout",
          "text": [
            "Validation acc: 0.9609\n",
            "\n",
            "Start of epoch 281\n",
            "Training loss: 0.0029\n",
            "Training metric: 0.9388\n",
            "perturbation loss: 0.0162\n"
          ]
        },
        {
          "output_type": "stream",
          "name": "stderr",
          "text": [
            "\r 28%|██▊       | 282/1000 [07:52<18:54,  1.58s/it]"
          ]
        },
        {
          "output_type": "stream",
          "name": "stdout",
          "text": [
            "Validation acc: 0.9609\n",
            "\n",
            "Start of epoch 282\n",
            "Training loss: 0.0001\n",
            "Training metric: 0.9391\n",
            "perturbation loss: 0.0003\n"
          ]
        },
        {
          "output_type": "stream",
          "name": "stderr",
          "text": [
            "\r 28%|██▊       | 283/1000 [07:53<18:37,  1.56s/it]"
          ]
        },
        {
          "output_type": "stream",
          "name": "stdout",
          "text": [
            "Validation acc: 0.9688\n",
            "\n",
            "Start of epoch 283\n",
            "Training loss: 0.0045\n",
            "Training metric: 0.9393\n",
            "perturbation loss: 0.0031\n"
          ]
        },
        {
          "output_type": "stream",
          "name": "stderr",
          "text": [
            "\r 28%|██▊       | 284/1000 [07:55<18:36,  1.56s/it]"
          ]
        },
        {
          "output_type": "stream",
          "name": "stdout",
          "text": [
            "Validation acc: 0.9688\n",
            "\n",
            "Start of epoch 284\n",
            "Training loss: 0.0001\n",
            "Training metric: 0.9395\n",
            "perturbation loss: 0.0004\n"
          ]
        },
        {
          "output_type": "stream",
          "name": "stderr",
          "text": [
            "\r 28%|██▊       | 285/1000 [07:57<21:05,  1.77s/it]"
          ]
        },
        {
          "output_type": "stream",
          "name": "stdout",
          "text": [
            "Validation acc: 0.9609\n",
            "\n",
            "Start of epoch 285\n",
            "Training loss: 0.0000\n",
            "Training metric: 0.9397\n",
            "perturbation loss: 0.0005\n"
          ]
        },
        {
          "output_type": "stream",
          "name": "stderr",
          "text": [
            "\r 29%|██▊       | 286/1000 [07:59<21:46,  1.83s/it]"
          ]
        },
        {
          "output_type": "stream",
          "name": "stdout",
          "text": [
            "Validation acc: 0.9609\n",
            "\n",
            "Start of epoch 286\n",
            "Training loss: 0.0002\n",
            "Training metric: 0.9399\n",
            "perturbation loss: 0.0013\n"
          ]
        },
        {
          "output_type": "stream",
          "name": "stderr",
          "text": [
            "\r 29%|██▊       | 287/1000 [08:01<20:40,  1.74s/it]"
          ]
        },
        {
          "output_type": "stream",
          "name": "stdout",
          "text": [
            "Validation acc: 0.9531\n",
            "\n",
            "Start of epoch 287\n",
            "Training loss: 0.0002\n",
            "Training metric: 0.9401\n",
            "perturbation loss: 0.0014\n"
          ]
        },
        {
          "output_type": "stream",
          "name": "stderr",
          "text": [
            "\r 29%|██▉       | 288/1000 [08:02<19:50,  1.67s/it]"
          ]
        },
        {
          "output_type": "stream",
          "name": "stdout",
          "text": [
            "Validation acc: 0.9766\n",
            "\n",
            "Start of epoch 288\n",
            "Training loss: 0.0407\n",
            "Training metric: 0.9403\n",
            "perturbation loss: 0.0170\n"
          ]
        },
        {
          "output_type": "stream",
          "name": "stderr",
          "text": [
            "\r 29%|██▉       | 289/1000 [08:04<19:17,  1.63s/it]"
          ]
        },
        {
          "output_type": "stream",
          "name": "stdout",
          "text": [
            "Validation acc: 0.9453\n",
            "\n",
            "Start of epoch 289\n",
            "Training loss: 0.0059\n",
            "Training metric: 0.9405\n",
            "perturbation loss: 0.1117\n"
          ]
        },
        {
          "output_type": "stream",
          "name": "stderr",
          "text": [
            "\r 29%|██▉       | 290/1000 [08:05<18:54,  1.60s/it]"
          ]
        },
        {
          "output_type": "stream",
          "name": "stdout",
          "text": [
            "Validation acc: 0.9062\n",
            "\n",
            "Start of epoch 290\n",
            "Training loss: 0.0036\n",
            "Training metric: 0.9407\n",
            "perturbation loss: 0.0277\n"
          ]
        },
        {
          "output_type": "stream",
          "name": "stderr",
          "text": [
            "\r 29%|██▉       | 291/1000 [08:07<18:34,  1.57s/it]"
          ]
        },
        {
          "output_type": "stream",
          "name": "stdout",
          "text": [
            "Validation acc: 0.9219\n",
            "\n",
            "Start of epoch 291\n",
            "Training loss: 0.0454\n",
            "Training metric: 0.9408\n",
            "perturbation loss: 0.0234\n"
          ]
        },
        {
          "output_type": "stream",
          "name": "stderr",
          "text": [
            "\r 29%|██▉       | 292/1000 [08:08<18:18,  1.55s/it]"
          ]
        },
        {
          "output_type": "stream",
          "name": "stdout",
          "text": [
            "Validation acc: 0.9141\n",
            "\n",
            "Start of epoch 292\n",
            "Training loss: 0.0006\n",
            "Training metric: 0.9410\n",
            "perturbation loss: 0.0027\n"
          ]
        },
        {
          "output_type": "stream",
          "name": "stderr",
          "text": [
            "\r 29%|██▉       | 293/1000 [08:10<19:09,  1.63s/it]"
          ]
        },
        {
          "output_type": "stream",
          "name": "stdout",
          "text": [
            "Validation acc: 0.9453\n",
            "\n",
            "Start of epoch 293\n",
            "Training loss: 0.0007\n",
            "Training metric: 0.9412\n",
            "perturbation loss: 0.0009\n"
          ]
        },
        {
          "output_type": "stream",
          "name": "stderr",
          "text": [
            "\r 29%|██▉       | 294/1000 [08:12<21:27,  1.82s/it]"
          ]
        },
        {
          "output_type": "stream",
          "name": "stdout",
          "text": [
            "Validation acc: 0.9453\n",
            "\n",
            "Start of epoch 294\n",
            "Training loss: 0.0016\n",
            "Training metric: 0.9414\n",
            "perturbation loss: 0.0170\n"
          ]
        },
        {
          "output_type": "stream",
          "name": "stderr",
          "text": [
            "\r 30%|██▉       | 295/1000 [08:14<20:53,  1.78s/it]"
          ]
        },
        {
          "output_type": "stream",
          "name": "stdout",
          "text": [
            "Validation acc: 0.9531\n",
            "\n",
            "Start of epoch 295\n",
            "Training loss: 0.0003\n",
            "Training metric: 0.9416\n",
            "perturbation loss: 0.0025\n"
          ]
        },
        {
          "output_type": "stream",
          "name": "stderr",
          "text": [
            "\r 30%|██▉       | 296/1000 [08:16<19:59,  1.70s/it]"
          ]
        },
        {
          "output_type": "stream",
          "name": "stdout",
          "text": [
            "Validation acc: 0.9688\n",
            "\n",
            "Start of epoch 296\n",
            "Training loss: 0.0000\n",
            "Training metric: 0.9418\n",
            "perturbation loss: 0.0001\n"
          ]
        },
        {
          "output_type": "stream",
          "name": "stderr",
          "text": [
            "\r 30%|██▉       | 297/1000 [08:17<19:15,  1.64s/it]"
          ]
        },
        {
          "output_type": "stream",
          "name": "stdout",
          "text": [
            "Validation acc: 0.9531\n",
            "\n",
            "Start of epoch 297\n",
            "Training loss: 0.0006\n",
            "Training metric: 0.9420\n",
            "perturbation loss: 0.0010\n"
          ]
        },
        {
          "output_type": "stream",
          "name": "stderr",
          "text": [
            "\r 30%|██▉       | 298/1000 [08:19<18:51,  1.61s/it]"
          ]
        },
        {
          "output_type": "stream",
          "name": "stdout",
          "text": [
            "Validation acc: 0.9609\n",
            "\n",
            "Start of epoch 298\n",
            "Training loss: 0.0001\n",
            "Training metric: 0.9422\n",
            "perturbation loss: 0.0006\n"
          ]
        },
        {
          "output_type": "stream",
          "name": "stderr",
          "text": [
            "\r 30%|██▉       | 299/1000 [08:20<18:29,  1.58s/it]"
          ]
        },
        {
          "output_type": "stream",
          "name": "stdout",
          "text": [
            "Validation acc: 0.9531\n",
            "\n",
            "Start of epoch 299\n",
            "Training loss: 0.0000\n",
            "Training metric: 0.9424\n",
            "perturbation loss: 0.0003\n"
          ]
        },
        {
          "output_type": "stream",
          "name": "stderr",
          "text": [
            "\r 30%|███       | 300/1000 [08:22<18:12,  1.56s/it]"
          ]
        },
        {
          "output_type": "stream",
          "name": "stdout",
          "text": [
            "Validation acc: 0.9531\n",
            "\n",
            "Start of epoch 300\n",
            "Training loss: 0.0003\n",
            "Training metric: 0.9426\n",
            "perturbation loss: 0.0007\n"
          ]
        },
        {
          "output_type": "stream",
          "name": "stderr",
          "text": [
            "\r 30%|███       | 301/1000 [08:24<19:16,  1.65s/it]"
          ]
        },
        {
          "output_type": "stream",
          "name": "stdout",
          "text": [
            "Validation acc: 0.9609\n",
            "\n",
            "Start of epoch 301\n",
            "Training loss: 0.0006\n",
            "Training metric: 0.9428\n",
            "perturbation loss: 0.0126\n"
          ]
        },
        {
          "output_type": "stream",
          "name": "stderr",
          "text": [
            "\r 30%|███       | 302/1000 [08:26<20:41,  1.78s/it]"
          ]
        },
        {
          "output_type": "stream",
          "name": "stdout",
          "text": [
            "Validation acc: 0.9531\n",
            "\n",
            "Start of epoch 302\n",
            "Training loss: 0.0003\n",
            "Training metric: 0.9430\n",
            "perturbation loss: 0.0021\n"
          ]
        },
        {
          "output_type": "stream",
          "name": "stderr",
          "text": [
            "\r 30%|███       | 303/1000 [08:27<20:54,  1.80s/it]"
          ]
        },
        {
          "output_type": "stream",
          "name": "stdout",
          "text": [
            "Validation acc: 0.9609\n",
            "\n",
            "Start of epoch 303\n",
            "Training loss: 0.0001\n",
            "Training metric: 0.9432\n",
            "perturbation loss: 0.0026\n"
          ]
        },
        {
          "output_type": "stream",
          "name": "stderr",
          "text": [
            "\r 30%|███       | 304/1000 [08:29<19:48,  1.71s/it]"
          ]
        },
        {
          "output_type": "stream",
          "name": "stdout",
          "text": [
            "Validation acc: 0.9609\n",
            "\n",
            "Start of epoch 304\n",
            "Training loss: 0.0014\n",
            "Training metric: 0.9433\n",
            "perturbation loss: 0.0059\n"
          ]
        },
        {
          "output_type": "stream",
          "name": "stderr",
          "text": [
            "\r 30%|███       | 305/1000 [08:30<19:10,  1.65s/it]"
          ]
        },
        {
          "output_type": "stream",
          "name": "stdout",
          "text": [
            "Validation acc: 0.9609\n",
            "\n",
            "Start of epoch 305\n",
            "Training loss: 0.0005\n",
            "Training metric: 0.9435\n",
            "perturbation loss: 0.0043\n"
          ]
        },
        {
          "output_type": "stream",
          "name": "stderr",
          "text": [
            "\r 31%|███       | 306/1000 [08:32<18:37,  1.61s/it]"
          ]
        },
        {
          "output_type": "stream",
          "name": "stdout",
          "text": [
            "Validation acc: 0.9453\n",
            "\n",
            "Start of epoch 306\n",
            "Training loss: 0.0012\n",
            "Training metric: 0.9437\n",
            "perturbation loss: 0.0065\n"
          ]
        },
        {
          "output_type": "stream",
          "name": "stderr",
          "text": [
            "\r 31%|███       | 307/1000 [08:33<18:14,  1.58s/it]"
          ]
        },
        {
          "output_type": "stream",
          "name": "stdout",
          "text": [
            "Validation acc: 0.9219\n",
            "\n",
            "Start of epoch 307\n",
            "Training loss: 0.0265\n",
            "Training metric: 0.9439\n",
            "perturbation loss: 0.0264\n"
          ]
        },
        {
          "output_type": "stream",
          "name": "stderr",
          "text": [
            "\r 31%|███       | 308/1000 [08:35<17:58,  1.56s/it]"
          ]
        },
        {
          "output_type": "stream",
          "name": "stdout",
          "text": [
            "Validation acc: 0.9609\n",
            "\n",
            "Start of epoch 308\n",
            "Training loss: 0.0028\n",
            "Training metric: 0.9441\n",
            "perturbation loss: 0.0287\n"
          ]
        },
        {
          "output_type": "stream",
          "name": "stderr",
          "text": [
            "\r 31%|███       | 309/1000 [08:37<17:59,  1.56s/it]"
          ]
        },
        {
          "output_type": "stream",
          "name": "stdout",
          "text": [
            "Validation acc: 0.8516\n",
            "\n",
            "Start of epoch 309\n",
            "Training loss: 0.0025\n",
            "Training metric: 0.9442\n",
            "perturbation loss: 0.0152\n"
          ]
        },
        {
          "output_type": "stream",
          "name": "stderr",
          "text": [
            "\r 31%|███       | 310/1000 [08:38<19:11,  1.67s/it]"
          ]
        },
        {
          "output_type": "stream",
          "name": "stdout",
          "text": [
            "Validation acc: 0.9609\n",
            "\n",
            "Start of epoch 310\n",
            "Training loss: 0.0009\n",
            "Training metric: 0.9444\n",
            "perturbation loss: 0.0066\n"
          ]
        },
        {
          "output_type": "stream",
          "name": "stderr",
          "text": [
            "\r 31%|███       | 311/1000 [08:41<21:19,  1.86s/it]"
          ]
        },
        {
          "output_type": "stream",
          "name": "stdout",
          "text": [
            "Validation acc: 0.9453\n",
            "\n",
            "Start of epoch 311\n",
            "Training loss: 0.0012\n",
            "Training metric: 0.9446\n",
            "perturbation loss: 0.0146\n"
          ]
        },
        {
          "output_type": "stream",
          "name": "stderr",
          "text": [
            "\r 31%|███       | 312/1000 [08:42<20:10,  1.76s/it]"
          ]
        },
        {
          "output_type": "stream",
          "name": "stdout",
          "text": [
            "Validation acc: 0.9141\n",
            "\n",
            "Start of epoch 312\n",
            "Training loss: 0.0007\n",
            "Training metric: 0.9447\n",
            "perturbation loss: 0.0063\n"
          ]
        },
        {
          "output_type": "stream",
          "name": "stderr",
          "text": [
            "\r 31%|███▏      | 313/1000 [08:44<19:20,  1.69s/it]"
          ]
        },
        {
          "output_type": "stream",
          "name": "stdout",
          "text": [
            "Validation acc: 0.9688\n",
            "\n",
            "Start of epoch 313\n",
            "Training loss: 0.0062\n",
            "Training metric: 0.9449\n",
            "perturbation loss: 0.0308\n"
          ]
        },
        {
          "output_type": "stream",
          "name": "stderr",
          "text": [
            "\r 31%|███▏      | 314/1000 [08:45<18:46,  1.64s/it]"
          ]
        },
        {
          "output_type": "stream",
          "name": "stdout",
          "text": [
            "Validation acc: 0.9531\n",
            "\n",
            "Start of epoch 314\n",
            "Training loss: 0.0004\n",
            "Training metric: 0.9451\n",
            "perturbation loss: 0.0026\n"
          ]
        },
        {
          "output_type": "stream",
          "name": "stderr",
          "text": [
            "\r 32%|███▏      | 315/1000 [08:47<18:19,  1.61s/it]"
          ]
        },
        {
          "output_type": "stream",
          "name": "stdout",
          "text": [
            "Validation acc: 0.9453\n",
            "\n",
            "Start of epoch 315\n",
            "Training loss: 0.0008\n",
            "Training metric: 0.9453\n",
            "perturbation loss: 0.0125\n"
          ]
        },
        {
          "output_type": "stream",
          "name": "stderr",
          "text": [
            "\r 32%|███▏      | 316/1000 [08:48<18:00,  1.58s/it]"
          ]
        },
        {
          "output_type": "stream",
          "name": "stdout",
          "text": [
            "Validation acc: 0.9766\n",
            "\n",
            "Start of epoch 316\n",
            "Training loss: 0.0001\n",
            "Training metric: 0.9454\n",
            "perturbation loss: 0.0005\n"
          ]
        },
        {
          "output_type": "stream",
          "name": "stderr",
          "text": [
            "\r 32%|███▏      | 317/1000 [08:50<17:46,  1.56s/it]"
          ]
        },
        {
          "output_type": "stream",
          "name": "stdout",
          "text": [
            "Validation acc: 0.9609\n",
            "\n",
            "Start of epoch 317\n",
            "Training loss: 0.0022\n",
            "Training metric: 0.9456\n",
            "perturbation loss: 0.0423\n"
          ]
        },
        {
          "output_type": "stream",
          "name": "stderr",
          "text": [
            "\r 32%|███▏      | 318/1000 [08:52<19:23,  1.71s/it]"
          ]
        },
        {
          "output_type": "stream",
          "name": "stdout",
          "text": [
            "Validation acc: 0.9609\n",
            "\n",
            "Start of epoch 318\n",
            "Training loss: 0.0001\n",
            "Training metric: 0.9458\n",
            "perturbation loss: 0.0016\n"
          ]
        },
        {
          "output_type": "stream",
          "name": "stderr",
          "text": [
            "\r 32%|███▏      | 319/1000 [08:54<20:35,  1.81s/it]"
          ]
        },
        {
          "output_type": "stream",
          "name": "stdout",
          "text": [
            "Validation acc: 0.9531\n",
            "\n",
            "Start of epoch 319\n",
            "Training loss: 0.0001\n",
            "Training metric: 0.9459\n",
            "perturbation loss: 0.0017\n"
          ]
        },
        {
          "output_type": "stream",
          "name": "stderr",
          "text": [
            "\r 32%|███▏      | 320/1000 [08:56<20:09,  1.78s/it]"
          ]
        },
        {
          "output_type": "stream",
          "name": "stdout",
          "text": [
            "Validation acc: 0.9531\n",
            "\n",
            "Start of epoch 320\n",
            "Training loss: 0.0001\n",
            "Training metric: 0.9461\n",
            "perturbation loss: 0.0005\n"
          ]
        },
        {
          "output_type": "stream",
          "name": "stderr",
          "text": [
            "\r 32%|███▏      | 321/1000 [08:57<19:18,  1.71s/it]"
          ]
        },
        {
          "output_type": "stream",
          "name": "stdout",
          "text": [
            "Validation acc: 0.9609\n",
            "\n",
            "Start of epoch 321\n",
            "Training loss: 0.0000\n",
            "Training metric: 0.9463\n",
            "perturbation loss: 0.0008\n"
          ]
        },
        {
          "output_type": "stream",
          "name": "stderr",
          "text": [
            "\r 32%|███▏      | 322/1000 [08:59<18:35,  1.64s/it]"
          ]
        },
        {
          "output_type": "stream",
          "name": "stdout",
          "text": [
            "Validation acc: 0.9609\n",
            "\n",
            "Start of epoch 322\n",
            "Training loss: 0.0000\n",
            "Training metric: 0.9464\n",
            "perturbation loss: 0.0002\n"
          ]
        },
        {
          "output_type": "stream",
          "name": "stderr",
          "text": [
            "\r 32%|███▏      | 323/1000 [09:00<18:15,  1.62s/it]"
          ]
        },
        {
          "output_type": "stream",
          "name": "stdout",
          "text": [
            "Validation acc: 0.9609\n",
            "\n",
            "Start of epoch 323\n",
            "Training loss: 0.0000\n",
            "Training metric: 0.9466\n",
            "perturbation loss: 0.0003\n"
          ]
        },
        {
          "output_type": "stream",
          "name": "stderr",
          "text": [
            "\r 32%|███▏      | 324/1000 [09:02<17:51,  1.58s/it]"
          ]
        },
        {
          "output_type": "stream",
          "name": "stdout",
          "text": [
            "Validation acc: 0.9609\n",
            "\n",
            "Start of epoch 324\n",
            "Training loss: 0.0001\n",
            "Training metric: 0.9468\n",
            "perturbation loss: 0.0013\n"
          ]
        },
        {
          "output_type": "stream",
          "name": "stderr",
          "text": [
            "\r 32%|███▎      | 325/1000 [09:03<17:42,  1.57s/it]"
          ]
        },
        {
          "output_type": "stream",
          "name": "stdout",
          "text": [
            "Validation acc: 0.9609\n",
            "\n",
            "Start of epoch 325\n",
            "Training loss: 0.0003\n",
            "Training metric: 0.9469\n",
            "perturbation loss: 0.0004\n"
          ]
        },
        {
          "output_type": "stream",
          "name": "stderr",
          "text": [
            "\r 33%|███▎      | 326/1000 [09:05<18:40,  1.66s/it]"
          ]
        },
        {
          "output_type": "stream",
          "name": "stdout",
          "text": [
            "Validation acc: 0.9531\n",
            "\n",
            "Start of epoch 326\n",
            "Training loss: 0.0001\n",
            "Training metric: 0.9471\n",
            "perturbation loss: 0.0004\n"
          ]
        },
        {
          "output_type": "stream",
          "name": "stderr",
          "text": [
            "\r 33%|███▎      | 327/1000 [09:07<19:46,  1.76s/it]"
          ]
        },
        {
          "output_type": "stream",
          "name": "stdout",
          "text": [
            "Validation acc: 0.9609\n",
            "\n",
            "Start of epoch 327\n",
            "Training loss: 0.0001\n",
            "Training metric: 0.9473\n",
            "perturbation loss: 0.0010\n"
          ]
        },
        {
          "output_type": "stream",
          "name": "stderr",
          "text": [
            "\r 33%|███▎      | 328/1000 [09:09<20:00,  1.79s/it]"
          ]
        },
        {
          "output_type": "stream",
          "name": "stdout",
          "text": [
            "Validation acc: 0.9375\n",
            "\n",
            "Start of epoch 328\n",
            "Training loss: 0.0007\n",
            "Training metric: 0.9474\n",
            "perturbation loss: 0.0029\n"
          ]
        },
        {
          "output_type": "stream",
          "name": "stderr",
          "text": [
            "\r 33%|███▎      | 329/1000 [09:10<18:45,  1.68s/it]"
          ]
        },
        {
          "output_type": "stream",
          "name": "stdout",
          "text": [
            "Validation acc: 0.9141\n",
            "\n",
            "Start of epoch 329\n",
            "Training loss: 0.0008\n",
            "Training metric: 0.9476\n",
            "perturbation loss: 0.0090\n"
          ]
        },
        {
          "output_type": "stream",
          "name": "stderr",
          "text": [
            "\r 33%|███▎      | 330/1000 [09:12<18:05,  1.62s/it]"
          ]
        },
        {
          "output_type": "stream",
          "name": "stdout",
          "text": [
            "Validation acc: 0.9609\n",
            "\n",
            "Start of epoch 330\n",
            "Training loss: 0.0585\n",
            "Training metric: 0.9477\n",
            "perturbation loss: 0.0252\n"
          ]
        },
        {
          "output_type": "stream",
          "name": "stderr",
          "text": [
            "\r 33%|███▎      | 331/1000 [09:13<17:27,  1.57s/it]"
          ]
        },
        {
          "output_type": "stream",
          "name": "stdout",
          "text": [
            "Validation acc: 0.9141\n",
            "\n",
            "Start of epoch 331\n",
            "Training loss: 0.0002\n",
            "Training metric: 0.9478\n",
            "perturbation loss: 0.0028\n"
          ]
        },
        {
          "output_type": "stream",
          "name": "stderr",
          "text": [
            "\r 33%|███▎      | 332/1000 [09:15<17:03,  1.53s/it]"
          ]
        },
        {
          "output_type": "stream",
          "name": "stdout",
          "text": [
            "Validation acc: 0.9375\n",
            "\n",
            "Start of epoch 332\n",
            "Training loss: 0.0008\n",
            "Training metric: 0.9480\n",
            "perturbation loss: 0.0051\n"
          ]
        },
        {
          "output_type": "stream",
          "name": "stderr",
          "text": [
            "\r 33%|███▎      | 333/1000 [09:16<16:38,  1.50s/it]"
          ]
        },
        {
          "output_type": "stream",
          "name": "stdout",
          "text": [
            "Validation acc: 0.9375\n",
            "\n",
            "Start of epoch 333\n",
            "Training loss: 0.0001\n",
            "Training metric: 0.9482\n",
            "perturbation loss: 0.0006\n"
          ]
        },
        {
          "output_type": "stream",
          "name": "stderr",
          "text": [
            "\r 33%|███▎      | 334/1000 [09:18<16:33,  1.49s/it]"
          ]
        },
        {
          "output_type": "stream",
          "name": "stdout",
          "text": [
            "Validation acc: 0.9375\n",
            "\n",
            "Start of epoch 334\n",
            "Training loss: 0.0008\n",
            "Training metric: 0.9483\n",
            "perturbation loss: 0.0073\n"
          ]
        },
        {
          "output_type": "stream",
          "name": "stderr",
          "text": [
            "\r 34%|███▎      | 335/1000 [09:20<17:48,  1.61s/it]"
          ]
        },
        {
          "output_type": "stream",
          "name": "stdout",
          "text": [
            "Validation acc: 0.9531\n",
            "\n",
            "Start of epoch 335\n",
            "Training loss: 0.0001\n",
            "Training metric: 0.9485\n",
            "perturbation loss: 0.0005\n"
          ]
        },
        {
          "output_type": "stream",
          "name": "stderr",
          "text": [
            "\r 34%|███▎      | 336/1000 [09:22<18:49,  1.70s/it]"
          ]
        },
        {
          "output_type": "stream",
          "name": "stdout",
          "text": [
            "Validation acc: 0.9453\n",
            "\n",
            "Start of epoch 336\n",
            "Training loss: 0.0002\n",
            "Training metric: 0.9486\n",
            "perturbation loss: 0.0013\n"
          ]
        },
        {
          "output_type": "stream",
          "name": "stderr",
          "text": [
            "\r 34%|███▎      | 337/1000 [09:23<18:47,  1.70s/it]"
          ]
        },
        {
          "output_type": "stream",
          "name": "stdout",
          "text": [
            "Validation acc: 0.9453\n",
            "\n",
            "Start of epoch 337\n",
            "Training loss: 0.0000\n",
            "Training metric: 0.9488\n",
            "perturbation loss: 0.0001\n"
          ]
        },
        {
          "output_type": "stream",
          "name": "stderr",
          "text": [
            "\r 34%|███▍      | 338/1000 [09:25<17:49,  1.62s/it]"
          ]
        },
        {
          "output_type": "stream",
          "name": "stdout",
          "text": [
            "Validation acc: 0.9531\n",
            "\n",
            "Start of epoch 338\n",
            "Training loss: 0.0002\n",
            "Training metric: 0.9489\n",
            "perturbation loss: 0.0003\n"
          ]
        },
        {
          "output_type": "stream",
          "name": "stderr",
          "text": [
            "\r 34%|███▍      | 339/1000 [09:26<17:13,  1.56s/it]"
          ]
        },
        {
          "output_type": "stream",
          "name": "stdout",
          "text": [
            "Validation acc: 0.9531\n",
            "\n",
            "Start of epoch 339\n",
            "Training loss: 0.0000\n",
            "Training metric: 0.9491\n",
            "perturbation loss: 0.0002\n"
          ]
        },
        {
          "output_type": "stream",
          "name": "stderr",
          "text": [
            "\r 34%|███▍      | 340/1000 [09:28<16:43,  1.52s/it]"
          ]
        },
        {
          "output_type": "stream",
          "name": "stdout",
          "text": [
            "Validation acc: 0.9531\n",
            "\n",
            "Start of epoch 340\n",
            "Training loss: 0.0002\n",
            "Training metric: 0.9492\n",
            "perturbation loss: 0.0029\n"
          ]
        },
        {
          "output_type": "stream",
          "name": "stderr",
          "text": [
            "\r 34%|███▍      | 341/1000 [09:29<16:30,  1.50s/it]"
          ]
        },
        {
          "output_type": "stream",
          "name": "stdout",
          "text": [
            "Validation acc: 0.9453\n",
            "\n",
            "Start of epoch 341\n",
            "Training loss: 0.0000\n",
            "Training metric: 0.9494\n",
            "perturbation loss: 0.0002\n"
          ]
        },
        {
          "output_type": "stream",
          "name": "stderr",
          "text": [
            "\r 34%|███▍      | 342/1000 [09:30<16:21,  1.49s/it]"
          ]
        },
        {
          "output_type": "stream",
          "name": "stdout",
          "text": [
            "Validation acc: 0.9531\n",
            "\n",
            "Start of epoch 342\n",
            "Training loss: 0.0000\n",
            "Training metric: 0.9495\n",
            "perturbation loss: 0.0007\n"
          ]
        },
        {
          "output_type": "stream",
          "name": "stderr",
          "text": [
            "\r 34%|███▍      | 343/1000 [09:32<16:09,  1.48s/it]"
          ]
        },
        {
          "output_type": "stream",
          "name": "stdout",
          "text": [
            "Validation acc: 0.9531\n",
            "\n",
            "Start of epoch 343\n",
            "Training loss: 0.0000\n",
            "Training metric: 0.9497\n",
            "perturbation loss: 0.0002\n"
          ]
        },
        {
          "output_type": "stream",
          "name": "stderr",
          "text": [
            "\r 34%|███▍      | 344/1000 [09:34<16:51,  1.54s/it]"
          ]
        },
        {
          "output_type": "stream",
          "name": "stdout",
          "text": [
            "Validation acc: 0.9453\n",
            "\n",
            "Start of epoch 344\n",
            "Training loss: 0.0000\n",
            "Training metric: 0.9498\n",
            "perturbation loss: 0.0003\n"
          ]
        },
        {
          "output_type": "stream",
          "name": "stderr",
          "text": [
            "\r 34%|███▍      | 345/1000 [09:36<19:02,  1.75s/it]"
          ]
        },
        {
          "output_type": "stream",
          "name": "stdout",
          "text": [
            "Validation acc: 0.9531\n",
            "\n",
            "Start of epoch 345\n",
            "Training loss: 0.0001\n",
            "Training metric: 0.9499\n",
            "perturbation loss: 0.0006\n"
          ]
        },
        {
          "output_type": "stream",
          "name": "stderr",
          "text": [
            "\r 35%|███▍      | 346/1000 [09:37<18:32,  1.70s/it]"
          ]
        },
        {
          "output_type": "stream",
          "name": "stdout",
          "text": [
            "Validation acc: 0.9453\n",
            "\n",
            "Start of epoch 346\n",
            "Training loss: 0.0001\n",
            "Training metric: 0.9501\n",
            "perturbation loss: 0.0005\n"
          ]
        },
        {
          "output_type": "stream",
          "name": "stderr",
          "text": [
            "\r 35%|███▍      | 347/1000 [09:39<17:48,  1.64s/it]"
          ]
        },
        {
          "output_type": "stream",
          "name": "stdout",
          "text": [
            "Validation acc: 0.9531\n",
            "\n",
            "Start of epoch 347\n",
            "Training loss: 0.0000\n",
            "Training metric: 0.9502\n",
            "perturbation loss: 0.0001\n"
          ]
        },
        {
          "output_type": "stream",
          "name": "stderr",
          "text": [
            "\r 35%|███▍      | 348/1000 [09:40<17:11,  1.58s/it]"
          ]
        },
        {
          "output_type": "stream",
          "name": "stdout",
          "text": [
            "Validation acc: 0.9531\n",
            "\n",
            "Start of epoch 348\n",
            "Training loss: 0.0001\n",
            "Training metric: 0.9504\n",
            "perturbation loss: 0.0024\n"
          ]
        },
        {
          "output_type": "stream",
          "name": "stderr",
          "text": [
            "\r 35%|███▍      | 349/1000 [09:42<16:52,  1.56s/it]"
          ]
        },
        {
          "output_type": "stream",
          "name": "stdout",
          "text": [
            "Validation acc: 0.9609\n",
            "\n",
            "Start of epoch 349\n",
            "Training loss: 0.0013\n",
            "Training metric: 0.9505\n",
            "perturbation loss: 0.0227\n"
          ]
        },
        {
          "output_type": "stream",
          "name": "stderr",
          "text": [
            "\r 35%|███▌      | 350/1000 [09:43<16:33,  1.53s/it]"
          ]
        },
        {
          "output_type": "stream",
          "name": "stdout",
          "text": [
            "Validation acc: 0.9375\n",
            "\n",
            "Start of epoch 350\n",
            "Training loss: 0.0034\n",
            "Training metric: 0.9506\n",
            "perturbation loss: 0.0302\n"
          ]
        },
        {
          "output_type": "stream",
          "name": "stderr",
          "text": [
            "\r 35%|███▌      | 351/1000 [09:45<16:21,  1.51s/it]"
          ]
        },
        {
          "output_type": "stream",
          "name": "stdout",
          "text": [
            "Validation acc: 0.9062\n",
            "\n",
            "Start of epoch 351\n",
            "Training loss: 0.0008\n",
            "Training metric: 0.9508\n",
            "perturbation loss: 0.0082\n"
          ]
        },
        {
          "output_type": "stream",
          "name": "stderr",
          "text": [
            "\r 35%|███▌      | 352/1000 [09:46<16:15,  1.51s/it]"
          ]
        },
        {
          "output_type": "stream",
          "name": "stdout",
          "text": [
            "Validation acc: 0.9453\n",
            "\n",
            "Start of epoch 352\n",
            "Training loss: 0.0020\n",
            "Training metric: 0.9509\n",
            "perturbation loss: 0.0436\n"
          ]
        },
        {
          "output_type": "stream",
          "name": "stderr",
          "text": [
            "\r 35%|███▌      | 353/1000 [09:48<17:35,  1.63s/it]"
          ]
        },
        {
          "output_type": "stream",
          "name": "stdout",
          "text": [
            "Validation acc: 0.9531\n",
            "\n",
            "Start of epoch 353\n",
            "Training loss: 0.0086\n",
            "Training metric: 0.9510\n",
            "perturbation loss: 0.0203\n"
          ]
        },
        {
          "output_type": "stream",
          "name": "stderr",
          "text": [
            "\r 35%|███▌      | 354/1000 [09:50<19:29,  1.81s/it]"
          ]
        },
        {
          "output_type": "stream",
          "name": "stdout",
          "text": [
            "Validation acc: 0.9531\n",
            "\n",
            "Start of epoch 354\n",
            "Training loss: 0.0005\n",
            "Training metric: 0.9512\n",
            "perturbation loss: 0.0087\n"
          ]
        },
        {
          "output_type": "stream",
          "name": "stderr",
          "text": [
            "\r 36%|███▌      | 355/1000 [09:52<18:18,  1.70s/it]"
          ]
        },
        {
          "output_type": "stream",
          "name": "stdout",
          "text": [
            "Validation acc: 0.9766\n",
            "\n",
            "Start of epoch 355\n",
            "Training loss: 0.0015\n",
            "Training metric: 0.9513\n",
            "perturbation loss: 0.0133\n"
          ]
        },
        {
          "output_type": "stream",
          "name": "stderr",
          "text": [
            "\r 36%|███▌      | 356/1000 [09:53<17:24,  1.62s/it]"
          ]
        },
        {
          "output_type": "stream",
          "name": "stdout",
          "text": [
            "Validation acc: 0.9844\n",
            "\n",
            "Start of epoch 356\n",
            "Training loss: 0.0007\n",
            "Training metric: 0.9514\n",
            "perturbation loss: 0.0025\n"
          ]
        },
        {
          "output_type": "stream",
          "name": "stderr",
          "text": [
            "\r 36%|███▌      | 357/1000 [09:55<16:53,  1.58s/it]"
          ]
        },
        {
          "output_type": "stream",
          "name": "stdout",
          "text": [
            "Validation acc: 0.9922\n",
            "\n",
            "Start of epoch 357\n",
            "Training loss: 0.0010\n",
            "Training metric: 0.9516\n",
            "perturbation loss: 0.0184\n"
          ]
        },
        {
          "output_type": "stream",
          "name": "stderr",
          "text": [
            "\r 36%|███▌      | 358/1000 [09:56<16:30,  1.54s/it]"
          ]
        },
        {
          "output_type": "stream",
          "name": "stdout",
          "text": [
            "Validation acc: 0.9844\n",
            "\n",
            "Start of epoch 358\n",
            "Training loss: 0.0002\n",
            "Training metric: 0.9517\n",
            "perturbation loss: 0.0019\n"
          ]
        },
        {
          "output_type": "stream",
          "name": "stderr",
          "text": [
            "\r 36%|███▌      | 359/1000 [09:58<16:15,  1.52s/it]"
          ]
        },
        {
          "output_type": "stream",
          "name": "stdout",
          "text": [
            "Validation acc: 0.9844\n",
            "\n",
            "Start of epoch 359\n",
            "Training loss: 0.0053\n",
            "Training metric: 0.9518\n",
            "perturbation loss: 0.0161\n"
          ]
        },
        {
          "output_type": "stream",
          "name": "stderr",
          "text": [
            "\r 36%|███▌      | 360/1000 [09:59<16:07,  1.51s/it]"
          ]
        },
        {
          "output_type": "stream",
          "name": "stdout",
          "text": [
            "Validation acc: 0.9844\n",
            "\n",
            "Start of epoch 360\n",
            "Training loss: 0.0000\n",
            "Training metric: 0.9520\n",
            "perturbation loss: 0.0008\n"
          ]
        },
        {
          "output_type": "stream",
          "name": "stderr",
          "text": [
            "\r 36%|███▌      | 361/1000 [10:01<17:15,  1.62s/it]"
          ]
        },
        {
          "output_type": "stream",
          "name": "stdout",
          "text": [
            "Validation acc: 0.9844\n",
            "\n",
            "Start of epoch 361\n",
            "Training loss: 0.0032\n",
            "Training metric: 0.9521\n",
            "perturbation loss: 0.0105\n"
          ]
        },
        {
          "output_type": "stream",
          "name": "stderr",
          "text": [
            "\r 36%|███▌      | 362/1000 [10:03<18:17,  1.72s/it]"
          ]
        },
        {
          "output_type": "stream",
          "name": "stdout",
          "text": [
            "Validation acc: 0.9766\n",
            "\n",
            "Start of epoch 362\n",
            "Training loss: 0.0001\n",
            "Training metric: 0.9522\n",
            "perturbation loss: 0.0027\n"
          ]
        },
        {
          "output_type": "stream",
          "name": "stderr",
          "text": [
            "\r 36%|███▋      | 363/1000 [10:05<18:17,  1.72s/it]"
          ]
        },
        {
          "output_type": "stream",
          "name": "stdout",
          "text": [
            "Validation acc: 0.9688\n",
            "\n",
            "Start of epoch 363\n",
            "Training loss: 0.0000\n",
            "Training metric: 0.9524\n",
            "perturbation loss: 0.0002\n"
          ]
        },
        {
          "output_type": "stream",
          "name": "stderr",
          "text": [
            "\r 36%|███▋      | 364/1000 [10:06<17:21,  1.64s/it]"
          ]
        },
        {
          "output_type": "stream",
          "name": "stdout",
          "text": [
            "Validation acc: 0.9844\n",
            "\n",
            "Start of epoch 364\n",
            "Training loss: 0.0003\n",
            "Training metric: 0.9525\n",
            "perturbation loss: 0.0051\n"
          ]
        },
        {
          "output_type": "stream",
          "name": "stderr",
          "text": [
            "\r 36%|███▋      | 365/1000 [10:08<16:43,  1.58s/it]"
          ]
        },
        {
          "output_type": "stream",
          "name": "stdout",
          "text": [
            "Validation acc: 0.9844\n",
            "\n",
            "Start of epoch 365\n",
            "Training loss: 0.0004\n",
            "Training metric: 0.9526\n",
            "perturbation loss: 0.0053\n"
          ]
        },
        {
          "output_type": "stream",
          "name": "stderr",
          "text": [
            "\r 37%|███▋      | 366/1000 [10:09<16:15,  1.54s/it]"
          ]
        },
        {
          "output_type": "stream",
          "name": "stdout",
          "text": [
            "Validation acc: 0.9688\n",
            "\n",
            "Start of epoch 366\n",
            "Training loss: 0.0000\n",
            "Training metric: 0.9528\n",
            "perturbation loss: 0.0004\n"
          ]
        },
        {
          "output_type": "stream",
          "name": "stderr",
          "text": [
            "\r 37%|███▋      | 367/1000 [10:11<16:05,  1.53s/it]"
          ]
        },
        {
          "output_type": "stream",
          "name": "stdout",
          "text": [
            "Validation acc: 0.9922\n",
            "\n",
            "Start of epoch 367\n",
            "Training loss: 0.0001\n",
            "Training metric: 0.9529\n",
            "perturbation loss: 0.0012\n"
          ]
        },
        {
          "output_type": "stream",
          "name": "stderr",
          "text": [
            "\r 37%|███▋      | 368/1000 [10:12<15:52,  1.51s/it]"
          ]
        },
        {
          "output_type": "stream",
          "name": "stdout",
          "text": [
            "Validation acc: 0.9531\n",
            "\n",
            "Start of epoch 368\n",
            "Training loss: 0.0002\n",
            "Training metric: 0.9530\n",
            "perturbation loss: 0.0032\n"
          ]
        },
        {
          "output_type": "stream",
          "name": "stderr",
          "text": [
            "\r 37%|███▋      | 369/1000 [10:14<15:42,  1.49s/it]"
          ]
        },
        {
          "output_type": "stream",
          "name": "stdout",
          "text": [
            "Validation acc: 0.9766\n",
            "\n",
            "Start of epoch 369\n",
            "Training loss: 0.0001\n",
            "Training metric: 0.9531\n",
            "perturbation loss: 0.0005\n"
          ]
        },
        {
          "output_type": "stream",
          "name": "stderr",
          "text": [
            "\r 37%|███▋      | 370/1000 [10:15<16:20,  1.56s/it]"
          ]
        },
        {
          "output_type": "stream",
          "name": "stdout",
          "text": [
            "Validation acc: 0.9844\n",
            "\n",
            "Start of epoch 370\n",
            "Training loss: 0.0001\n",
            "Training metric: 0.9533\n",
            "perturbation loss: 0.0003\n"
          ]
        },
        {
          "output_type": "stream",
          "name": "stderr",
          "text": [
            "\r 37%|███▋      | 371/1000 [10:17<17:24,  1.66s/it]"
          ]
        },
        {
          "output_type": "stream",
          "name": "stdout",
          "text": [
            "Validation acc: 0.9531\n",
            "\n",
            "Start of epoch 371\n",
            "Training loss: 0.0126\n",
            "Training metric: 0.9534\n",
            "perturbation loss: 0.0367\n"
          ]
        },
        {
          "output_type": "stream",
          "name": "stderr",
          "text": [
            "\r 37%|███▋      | 372/1000 [10:19<17:35,  1.68s/it]"
          ]
        },
        {
          "output_type": "stream",
          "name": "stdout",
          "text": [
            "Validation acc: 0.9688\n",
            "\n",
            "Start of epoch 372\n",
            "Training loss: 0.0009\n",
            "Training metric: 0.9535\n",
            "perturbation loss: 0.0237\n"
          ]
        },
        {
          "output_type": "stream",
          "name": "stderr",
          "text": [
            "\r 37%|███▋      | 373/1000 [10:20<16:49,  1.61s/it]"
          ]
        },
        {
          "output_type": "stream",
          "name": "stdout",
          "text": [
            "Validation acc: 0.9297\n",
            "\n",
            "Start of epoch 373\n",
            "Training loss: 0.0000\n",
            "Training metric: 0.9536\n",
            "perturbation loss: 0.0005\n"
          ]
        },
        {
          "output_type": "stream",
          "name": "stderr",
          "text": [
            "\r 37%|███▋      | 374/1000 [10:22<16:32,  1.58s/it]"
          ]
        },
        {
          "output_type": "stream",
          "name": "stdout",
          "text": [
            "Validation acc: 0.9453\n",
            "\n",
            "Start of epoch 374\n",
            "Training loss: 0.0003\n",
            "Training metric: 0.9538\n",
            "perturbation loss: 0.0010\n"
          ]
        },
        {
          "output_type": "stream",
          "name": "stderr",
          "text": [
            "\r 38%|███▊      | 375/1000 [10:23<16:11,  1.55s/it]"
          ]
        },
        {
          "output_type": "stream",
          "name": "stdout",
          "text": [
            "Validation acc: 0.9688\n",
            "\n",
            "Start of epoch 375\n",
            "Training loss: 0.0001\n",
            "Training metric: 0.9539\n",
            "perturbation loss: 0.0007\n"
          ]
        },
        {
          "output_type": "stream",
          "name": "stderr",
          "text": [
            "\r 38%|███▊      | 376/1000 [10:25<15:46,  1.52s/it]"
          ]
        },
        {
          "output_type": "stream",
          "name": "stdout",
          "text": [
            "Validation acc: 0.9609\n",
            "\n",
            "Start of epoch 376\n",
            "Training loss: 0.0002\n",
            "Training metric: 0.9540\n",
            "perturbation loss: 0.0054\n"
          ]
        },
        {
          "output_type": "stream",
          "name": "stderr",
          "text": [
            "\r 38%|███▊      | 377/1000 [10:26<15:32,  1.50s/it]"
          ]
        },
        {
          "output_type": "stream",
          "name": "stdout",
          "text": [
            "Validation acc: 0.9219\n",
            "\n",
            "Start of epoch 377\n",
            "Training loss: 0.0000\n",
            "Training metric: 0.9541\n",
            "perturbation loss: 0.0003\n"
          ]
        },
        {
          "output_type": "stream",
          "name": "stderr",
          "text": [
            "\r 38%|███▊      | 378/1000 [10:28<15:31,  1.50s/it]"
          ]
        },
        {
          "output_type": "stream",
          "name": "stdout",
          "text": [
            "Validation acc: 0.9531\n",
            "\n",
            "Start of epoch 378\n",
            "Training loss: 0.0000\n",
            "Training metric: 0.9542\n",
            "perturbation loss: 0.0001\n"
          ]
        },
        {
          "output_type": "stream",
          "name": "stderr",
          "text": [
            "\r 38%|███▊      | 379/1000 [10:29<16:18,  1.58s/it]"
          ]
        },
        {
          "output_type": "stream",
          "name": "stdout",
          "text": [
            "Validation acc: 0.9609\n",
            "\n",
            "Start of epoch 379\n",
            "Training loss: 0.0009\n",
            "Training metric: 0.9544\n",
            "perturbation loss: 0.0209\n"
          ]
        },
        {
          "output_type": "stream",
          "name": "stderr",
          "text": [
            "\r 38%|███▊      | 380/1000 [10:31<17:28,  1.69s/it]"
          ]
        },
        {
          "output_type": "stream",
          "name": "stdout",
          "text": [
            "Validation acc: 0.9453\n",
            "\n",
            "Start of epoch 380\n",
            "Training loss: 0.0041\n",
            "Training metric: 0.9545\n",
            "perturbation loss: 0.0110\n"
          ]
        },
        {
          "output_type": "stream",
          "name": "stderr",
          "text": [
            "\r 38%|███▊      | 381/1000 [10:33<17:11,  1.67s/it]"
          ]
        },
        {
          "output_type": "stream",
          "name": "stdout",
          "text": [
            "Validation acc: 0.9609\n",
            "\n",
            "Start of epoch 381\n",
            "Training loss: 0.0005\n",
            "Training metric: 0.9546\n",
            "perturbation loss: 0.0023\n"
          ]
        },
        {
          "output_type": "stream",
          "name": "stderr",
          "text": [
            "\r 38%|███▊      | 382/1000 [10:34<16:30,  1.60s/it]"
          ]
        },
        {
          "output_type": "stream",
          "name": "stdout",
          "text": [
            "Validation acc: 0.9531\n",
            "\n",
            "Start of epoch 382\n",
            "Training loss: 0.0039\n",
            "Training metric: 0.9547\n",
            "perturbation loss: 0.0478\n"
          ]
        },
        {
          "output_type": "stream",
          "name": "stderr",
          "text": [
            "\r 38%|███▊      | 383/1000 [10:36<15:59,  1.55s/it]"
          ]
        },
        {
          "output_type": "stream",
          "name": "stdout",
          "text": [
            "Validation acc: 0.9609\n",
            "\n",
            "Start of epoch 383\n",
            "Training loss: 0.0007\n",
            "Training metric: 0.9548\n",
            "perturbation loss: 0.0125\n"
          ]
        },
        {
          "output_type": "stream",
          "name": "stderr",
          "text": [
            "\r 38%|███▊      | 384/1000 [10:37<15:37,  1.52s/it]"
          ]
        },
        {
          "output_type": "stream",
          "name": "stdout",
          "text": [
            "Validation acc: 0.9688\n",
            "\n",
            "Start of epoch 384\n",
            "Training loss: 0.0002\n",
            "Training metric: 0.9550\n",
            "perturbation loss: 0.0004\n"
          ]
        },
        {
          "output_type": "stream",
          "name": "stderr",
          "text": [
            "\r 38%|███▊      | 385/1000 [10:39<15:24,  1.50s/it]"
          ]
        },
        {
          "output_type": "stream",
          "name": "stdout",
          "text": [
            "Validation acc: 0.9453\n",
            "\n",
            "Start of epoch 385\n",
            "Training loss: 0.0007\n",
            "Training metric: 0.9551\n",
            "perturbation loss: 0.0020\n"
          ]
        },
        {
          "output_type": "stream",
          "name": "stderr",
          "text": [
            "\r 39%|███▊      | 386/1000 [10:40<15:18,  1.50s/it]"
          ]
        },
        {
          "output_type": "stream",
          "name": "stdout",
          "text": [
            "Validation acc: 0.9531\n",
            "\n",
            "Start of epoch 386\n",
            "Training loss: 0.0001\n",
            "Training metric: 0.9552\n",
            "perturbation loss: 0.0004\n"
          ]
        },
        {
          "output_type": "stream",
          "name": "stderr",
          "text": [
            "\r 39%|███▊      | 387/1000 [10:42<15:08,  1.48s/it]"
          ]
        },
        {
          "output_type": "stream",
          "name": "stdout",
          "text": [
            "Validation acc: 0.9688\n",
            "\n",
            "Start of epoch 387\n",
            "Training loss: 0.0001\n",
            "Training metric: 0.9553\n",
            "perturbation loss: 0.0007\n"
          ]
        },
        {
          "output_type": "stream",
          "name": "stderr",
          "text": [
            "\r 39%|███▉      | 388/1000 [10:44<16:05,  1.58s/it]"
          ]
        },
        {
          "output_type": "stream",
          "name": "stdout",
          "text": [
            "Validation acc: 0.9609\n",
            "\n",
            "Start of epoch 388\n",
            "Training loss: 0.0000\n",
            "Training metric: 0.9554\n",
            "perturbation loss: 0.0005\n"
          ]
        },
        {
          "output_type": "stream",
          "name": "stderr",
          "text": [
            "\r 39%|███▉      | 389/1000 [10:46<17:59,  1.77s/it]"
          ]
        },
        {
          "output_type": "stream",
          "name": "stdout",
          "text": [
            "Validation acc: 0.9531\n",
            "\n",
            "Start of epoch 389\n",
            "Training loss: 0.0000\n",
            "Training metric: 0.9555\n",
            "perturbation loss: 0.0008\n"
          ]
        },
        {
          "output_type": "stream",
          "name": "stderr",
          "text": [
            "\r 39%|███▉      | 390/1000 [10:47<17:09,  1.69s/it]"
          ]
        },
        {
          "output_type": "stream",
          "name": "stdout",
          "text": [
            "Validation acc: 0.9609\n",
            "\n",
            "Start of epoch 390\n",
            "Training loss: 0.0000\n",
            "Training metric: 0.9556\n",
            "perturbation loss: 0.0000\n"
          ]
        },
        {
          "output_type": "stream",
          "name": "stderr",
          "text": [
            "\r 39%|███▉      | 391/1000 [10:49<16:25,  1.62s/it]"
          ]
        },
        {
          "output_type": "stream",
          "name": "stdout",
          "text": [
            "Validation acc: 0.9688\n",
            "\n",
            "Start of epoch 391\n",
            "Training loss: 0.0000\n",
            "Training metric: 0.9558\n",
            "perturbation loss: 0.0000\n"
          ]
        },
        {
          "output_type": "stream",
          "name": "stderr",
          "text": [
            "\r 39%|███▉      | 392/1000 [10:50<15:49,  1.56s/it]"
          ]
        },
        {
          "output_type": "stream",
          "name": "stdout",
          "text": [
            "Validation acc: 0.9688\n",
            "\n",
            "Start of epoch 392\n",
            "Training loss: 0.0004\n",
            "Training metric: 0.9559\n",
            "perturbation loss: 0.0011\n"
          ]
        },
        {
          "output_type": "stream",
          "name": "stderr",
          "text": [
            "\r 39%|███▉      | 393/1000 [10:52<15:26,  1.53s/it]"
          ]
        },
        {
          "output_type": "stream",
          "name": "stdout",
          "text": [
            "Validation acc: 0.9688\n",
            "\n",
            "Start of epoch 393\n",
            "Training loss: 0.0002\n",
            "Training metric: 0.9560\n",
            "perturbation loss: 0.0006\n"
          ]
        },
        {
          "output_type": "stream",
          "name": "stderr",
          "text": [
            "\r 39%|███▉      | 394/1000 [10:53<15:10,  1.50s/it]"
          ]
        },
        {
          "output_type": "stream",
          "name": "stdout",
          "text": [
            "Validation acc: 0.9531\n",
            "\n",
            "Start of epoch 394\n",
            "Training loss: 0.0000\n",
            "Training metric: 0.9561\n",
            "perturbation loss: 0.0001\n"
          ]
        },
        {
          "output_type": "stream",
          "name": "stderr",
          "text": [
            "\r 40%|███▉      | 395/1000 [10:54<14:59,  1.49s/it]"
          ]
        },
        {
          "output_type": "stream",
          "name": "stdout",
          "text": [
            "Validation acc: 0.9609\n",
            "\n",
            "Start of epoch 395\n",
            "Training loss: 0.0000\n",
            "Training metric: 0.9562\n",
            "perturbation loss: 0.0001\n"
          ]
        },
        {
          "output_type": "stream",
          "name": "stderr",
          "text": [
            "\r 40%|███▉      | 396/1000 [10:56<14:51,  1.48s/it]"
          ]
        },
        {
          "output_type": "stream",
          "name": "stdout",
          "text": [
            "Validation acc: 0.9766\n",
            "\n",
            "Start of epoch 396\n",
            "Training loss: 0.0001\n",
            "Training metric: 0.9563\n",
            "perturbation loss: 0.0013\n"
          ]
        },
        {
          "output_type": "stream",
          "name": "stderr",
          "text": [
            "\r 40%|███▉      | 397/1000 [10:58<17:04,  1.70s/it]"
          ]
        },
        {
          "output_type": "stream",
          "name": "stdout",
          "text": [
            "Validation acc: 0.9219\n",
            "\n",
            "Start of epoch 397\n",
            "Training loss: 0.0016\n",
            "Training metric: 0.9564\n",
            "perturbation loss: 0.0317\n"
          ]
        },
        {
          "output_type": "stream",
          "name": "stderr",
          "text": [
            "\r 40%|███▉      | 398/1000 [11:00<17:35,  1.75s/it]"
          ]
        },
        {
          "output_type": "stream",
          "name": "stdout",
          "text": [
            "Validation acc: 0.9297\n",
            "\n",
            "Start of epoch 398\n",
            "Training loss: 0.0013\n",
            "Training metric: 0.9565\n",
            "perturbation loss: 0.0020\n"
          ]
        },
        {
          "output_type": "stream",
          "name": "stderr",
          "text": [
            "\r 40%|███▉      | 399/1000 [11:01<16:39,  1.66s/it]"
          ]
        },
        {
          "output_type": "stream",
          "name": "stdout",
          "text": [
            "Validation acc: 0.9609\n",
            "\n",
            "Start of epoch 399\n",
            "Training loss: 0.0019\n",
            "Training metric: 0.9566\n",
            "perturbation loss: 0.0595\n"
          ]
        },
        {
          "output_type": "stream",
          "name": "stderr",
          "text": [
            "\r 40%|████      | 400/1000 [11:03<16:11,  1.62s/it]"
          ]
        },
        {
          "output_type": "stream",
          "name": "stdout",
          "text": [
            "Validation acc: 0.9531\n",
            "\n",
            "Start of epoch 400\n",
            "Training loss: 0.0000\n",
            "Training metric: 0.9567\n",
            "perturbation loss: 0.0001\n"
          ]
        },
        {
          "output_type": "stream",
          "name": "stderr",
          "text": [
            "\r 40%|████      | 401/1000 [11:04<15:38,  1.57s/it]"
          ]
        },
        {
          "output_type": "stream",
          "name": "stdout",
          "text": [
            "Validation acc: 0.9609\n",
            "\n",
            "Start of epoch 401\n",
            "Training loss: 0.0001\n",
            "Training metric: 0.9569\n",
            "perturbation loss: 0.0021\n"
          ]
        },
        {
          "output_type": "stream",
          "name": "stderr",
          "text": [
            "\r 40%|████      | 402/1000 [11:06<15:14,  1.53s/it]"
          ]
        },
        {
          "output_type": "stream",
          "name": "stdout",
          "text": [
            "Validation acc: 0.9609\n",
            "\n",
            "Start of epoch 402\n",
            "Training loss: 0.0014\n",
            "Training metric: 0.9570\n",
            "perturbation loss: 0.0002\n"
          ]
        },
        {
          "output_type": "stream",
          "name": "stderr",
          "text": [
            "\r 40%|████      | 403/1000 [11:07<15:00,  1.51s/it]"
          ]
        },
        {
          "output_type": "stream",
          "name": "stdout",
          "text": [
            "Validation acc: 0.9609\n",
            "\n",
            "Start of epoch 403\n",
            "Training loss: 0.0001\n",
            "Training metric: 0.9571\n",
            "perturbation loss: 0.0011\n"
          ]
        },
        {
          "output_type": "stream",
          "name": "stderr",
          "text": [
            "\r 40%|████      | 404/1000 [11:09<14:44,  1.48s/it]"
          ]
        },
        {
          "output_type": "stream",
          "name": "stdout",
          "text": [
            "Validation acc: 0.9609\n",
            "\n",
            "Start of epoch 404\n",
            "Training loss: 0.0001\n",
            "Training metric: 0.9572\n",
            "perturbation loss: 0.0019\n"
          ]
        },
        {
          "output_type": "stream",
          "name": "stderr",
          "text": [
            "\r 40%|████      | 405/1000 [11:10<14:59,  1.51s/it]"
          ]
        },
        {
          "output_type": "stream",
          "name": "stdout",
          "text": [
            "Validation acc: 0.9609\n",
            "\n",
            "Start of epoch 405\n",
            "Training loss: 0.0009\n",
            "Training metric: 0.9573\n",
            "perturbation loss: 0.0195\n"
          ]
        },
        {
          "output_type": "stream",
          "name": "stderr",
          "text": [
            "\r 41%|████      | 406/1000 [11:13<16:54,  1.71s/it]"
          ]
        },
        {
          "output_type": "stream",
          "name": "stdout",
          "text": [
            "Validation acc: 0.9531\n",
            "\n",
            "Start of epoch 406\n",
            "Training loss: 0.0003\n",
            "Training metric: 0.9574\n",
            "perturbation loss: 0.0021\n"
          ]
        },
        {
          "output_type": "stream",
          "name": "stderr",
          "text": [
            "\r 41%|████      | 407/1000 [11:14<16:51,  1.71s/it]"
          ]
        },
        {
          "output_type": "stream",
          "name": "stdout",
          "text": [
            "Validation acc: 0.9375\n",
            "\n",
            "Start of epoch 407\n",
            "Training loss: 0.0000\n",
            "Training metric: 0.9575\n",
            "perturbation loss: 0.0001\n"
          ]
        },
        {
          "output_type": "stream",
          "name": "stderr",
          "text": [
            "\r 41%|████      | 408/1000 [11:16<16:02,  1.63s/it]"
          ]
        },
        {
          "output_type": "stream",
          "name": "stdout",
          "text": [
            "Validation acc: 0.9688\n",
            "\n",
            "Start of epoch 408\n",
            "Training loss: 0.0004\n",
            "Training metric: 0.9576\n",
            "perturbation loss: 0.0094\n"
          ]
        },
        {
          "output_type": "stream",
          "name": "stderr",
          "text": [
            "\r 41%|████      | 409/1000 [11:17<15:24,  1.56s/it]"
          ]
        },
        {
          "output_type": "stream",
          "name": "stdout",
          "text": [
            "Validation acc: 0.9453\n",
            "\n",
            "Start of epoch 409\n",
            "Training loss: 0.0003\n",
            "Training metric: 0.9577\n",
            "perturbation loss: 0.0030\n"
          ]
        },
        {
          "output_type": "stream",
          "name": "stderr",
          "text": [
            "\r 41%|████      | 410/1000 [11:19<15:05,  1.53s/it]"
          ]
        },
        {
          "output_type": "stream",
          "name": "stdout",
          "text": [
            "Validation acc: 0.9609\n",
            "\n",
            "Start of epoch 410\n",
            "Training loss: 0.2315\n",
            "Training metric: 0.9578\n",
            "perturbation loss: 0.0009\n"
          ]
        },
        {
          "output_type": "stream",
          "name": "stderr",
          "text": [
            "\r 41%|████      | 411/1000 [11:20<14:44,  1.50s/it]"
          ]
        },
        {
          "output_type": "stream",
          "name": "stdout",
          "text": [
            "Validation acc: 0.9453\n",
            "\n",
            "Start of epoch 411\n",
            "Training loss: 0.0070\n",
            "Training metric: 0.9579\n",
            "perturbation loss: 0.1337\n"
          ]
        },
        {
          "output_type": "stream",
          "name": "stderr",
          "text": [
            "\r 41%|████      | 412/1000 [11:21<14:31,  1.48s/it]"
          ]
        },
        {
          "output_type": "stream",
          "name": "stdout",
          "text": [
            "Validation acc: 0.9688\n",
            "\n",
            "Start of epoch 412\n",
            "Training loss: 0.0000\n",
            "Training metric: 0.9580\n",
            "perturbation loss: 0.0004\n"
          ]
        },
        {
          "output_type": "stream",
          "name": "stderr",
          "text": [
            "\r 41%|████▏     | 413/1000 [11:23<14:23,  1.47s/it]"
          ]
        },
        {
          "output_type": "stream",
          "name": "stdout",
          "text": [
            "Validation acc: 0.9688\n",
            "\n",
            "Start of epoch 413\n",
            "Training loss: 0.0002\n",
            "Training metric: 0.9581\n",
            "perturbation loss: 0.0033\n"
          ]
        },
        {
          "output_type": "stream",
          "name": "stderr",
          "text": [
            "\r 41%|████▏     | 414/1000 [11:25<15:47,  1.62s/it]"
          ]
        },
        {
          "output_type": "stream",
          "name": "stdout",
          "text": [
            "Validation acc: 0.9844\n",
            "\n",
            "Start of epoch 414\n",
            "Training loss: 0.0002\n",
            "Training metric: 0.9582\n",
            "perturbation loss: 0.0016\n"
          ]
        },
        {
          "output_type": "stream",
          "name": "stderr",
          "text": [
            "\r 42%|████▏     | 415/1000 [11:27<16:34,  1.70s/it]"
          ]
        },
        {
          "output_type": "stream",
          "name": "stdout",
          "text": [
            "Validation acc: 0.9688\n",
            "\n",
            "Start of epoch 415\n",
            "Training loss: 0.0001\n",
            "Training metric: 0.9583\n",
            "perturbation loss: 0.0011\n"
          ]
        },
        {
          "output_type": "stream",
          "name": "stderr",
          "text": [
            "\r 42%|████▏     | 416/1000 [11:28<16:24,  1.69s/it]"
          ]
        },
        {
          "output_type": "stream",
          "name": "stdout",
          "text": [
            "Validation acc: 0.9766\n",
            "\n",
            "Start of epoch 416\n",
            "Training loss: 0.0000\n",
            "Training metric: 0.9584\n",
            "perturbation loss: 0.0001\n"
          ]
        },
        {
          "output_type": "stream",
          "name": "stderr",
          "text": [
            "\r 42%|████▏     | 417/1000 [11:30<15:38,  1.61s/it]"
          ]
        },
        {
          "output_type": "stream",
          "name": "stdout",
          "text": [
            "Validation acc: 0.9609\n",
            "\n",
            "Start of epoch 417\n",
            "Training loss: 0.0000\n",
            "Training metric: 0.9585\n",
            "perturbation loss: 0.0005\n"
          ]
        },
        {
          "output_type": "stream",
          "name": "stderr",
          "text": [
            "\r 42%|████▏     | 418/1000 [11:31<15:05,  1.56s/it]"
          ]
        },
        {
          "output_type": "stream",
          "name": "stdout",
          "text": [
            "Validation acc: 0.9531\n",
            "\n",
            "Start of epoch 418\n",
            "Training loss: 0.0000\n",
            "Training metric: 0.9586\n",
            "perturbation loss: 0.0000\n"
          ]
        },
        {
          "output_type": "stream",
          "name": "stderr",
          "text": [
            "\r 42%|████▏     | 419/1000 [11:33<14:45,  1.52s/it]"
          ]
        },
        {
          "output_type": "stream",
          "name": "stdout",
          "text": [
            "Validation acc: 0.9609\n",
            "\n",
            "Start of epoch 419\n",
            "Training loss: 0.0000\n",
            "Training metric: 0.9587\n",
            "perturbation loss: 0.0003\n"
          ]
        },
        {
          "output_type": "stream",
          "name": "stderr",
          "text": [
            "\r 42%|████▏     | 420/1000 [11:34<14:26,  1.49s/it]"
          ]
        },
        {
          "output_type": "stream",
          "name": "stdout",
          "text": [
            "Validation acc: 0.9531\n",
            "\n",
            "Start of epoch 420\n",
            "Training loss: 0.0000\n",
            "Training metric: 0.9588\n",
            "perturbation loss: 0.0002\n"
          ]
        },
        {
          "output_type": "stream",
          "name": "stderr",
          "text": [
            "\r 42%|████▏     | 421/1000 [11:36<14:17,  1.48s/it]"
          ]
        },
        {
          "output_type": "stream",
          "name": "stdout",
          "text": [
            "Validation acc: 0.9688\n",
            "\n",
            "Start of epoch 421\n",
            "Training loss: 0.0003\n",
            "Training metric: 0.9589\n",
            "perturbation loss: 0.0031\n"
          ]
        },
        {
          "output_type": "stream",
          "name": "stderr",
          "text": [
            "\r 42%|████▏     | 422/1000 [11:37<14:07,  1.47s/it]"
          ]
        },
        {
          "output_type": "stream",
          "name": "stdout",
          "text": [
            "Validation acc: 0.9688\n",
            "\n",
            "Start of epoch 422\n",
            "Training loss: 0.0002\n",
            "Training metric: 0.9590\n",
            "perturbation loss: 0.0001\n"
          ]
        },
        {
          "output_type": "stream",
          "name": "stderr",
          "text": [
            "\r 42%|████▏     | 423/1000 [11:39<15:48,  1.64s/it]"
          ]
        },
        {
          "output_type": "stream",
          "name": "stdout",
          "text": [
            "Validation acc: 0.9531\n",
            "\n",
            "Start of epoch 423\n",
            "Training loss: 0.0000\n",
            "Training metric: 0.9591\n",
            "perturbation loss: 0.0000\n"
          ]
        },
        {
          "output_type": "stream",
          "name": "stderr",
          "text": [
            "\r 42%|████▏     | 424/1000 [11:41<17:23,  1.81s/it]"
          ]
        },
        {
          "output_type": "stream",
          "name": "stdout",
          "text": [
            "Validation acc: 0.9688\n",
            "\n",
            "Start of epoch 424\n",
            "Training loss: 0.0000\n",
            "Training metric: 0.9591\n",
            "perturbation loss: 0.0003\n"
          ]
        },
        {
          "output_type": "stream",
          "name": "stderr",
          "text": [
            "\r 42%|████▎     | 425/1000 [11:43<16:17,  1.70s/it]"
          ]
        },
        {
          "output_type": "stream",
          "name": "stdout",
          "text": [
            "Validation acc: 0.9688\n",
            "\n",
            "Start of epoch 425\n",
            "Training loss: 0.0004\n",
            "Training metric: 0.9592\n",
            "perturbation loss: 0.0062\n"
          ]
        },
        {
          "output_type": "stream",
          "name": "stderr",
          "text": [
            "\r 43%|████▎     | 426/1000 [11:44<15:27,  1.62s/it]"
          ]
        },
        {
          "output_type": "stream",
          "name": "stdout",
          "text": [
            "Validation acc: 0.9766\n",
            "\n",
            "Start of epoch 426\n",
            "Training loss: 0.0001\n",
            "Training metric: 0.9593\n",
            "perturbation loss: 0.0004\n"
          ]
        },
        {
          "output_type": "stream",
          "name": "stderr",
          "text": [
            "\r 43%|████▎     | 427/1000 [11:46<14:58,  1.57s/it]"
          ]
        },
        {
          "output_type": "stream",
          "name": "stdout",
          "text": [
            "Validation acc: 0.9688\n",
            "\n",
            "Start of epoch 427\n",
            "Training loss: 0.0001\n",
            "Training metric: 0.9594\n",
            "perturbation loss: 0.0003\n"
          ]
        },
        {
          "output_type": "stream",
          "name": "stderr",
          "text": [
            "\r 43%|████▎     | 428/1000 [11:47<14:35,  1.53s/it]"
          ]
        },
        {
          "output_type": "stream",
          "name": "stdout",
          "text": [
            "Validation acc: 0.9688\n",
            "\n",
            "Start of epoch 428\n",
            "Training loss: 0.0003\n",
            "Training metric: 0.9595\n",
            "perturbation loss: 0.0032\n"
          ]
        },
        {
          "output_type": "stream",
          "name": "stderr",
          "text": [
            "\r 43%|████▎     | 429/1000 [11:49<14:35,  1.53s/it]"
          ]
        },
        {
          "output_type": "stream",
          "name": "stdout",
          "text": [
            "Validation acc: 0.9766\n",
            "\n",
            "Start of epoch 429\n",
            "Training loss: 0.0379\n",
            "Training metric: 0.9596\n",
            "perturbation loss: 0.0854\n"
          ]
        },
        {
          "output_type": "stream",
          "name": "stderr",
          "text": [
            "\r 43%|████▎     | 430/1000 [11:50<14:21,  1.51s/it]"
          ]
        },
        {
          "output_type": "stream",
          "name": "stdout",
          "text": [
            "Validation acc: 0.9531\n",
            "\n",
            "Start of epoch 430\n",
            "Training loss: 0.0009\n",
            "Training metric: 0.9597\n",
            "perturbation loss: 0.0140\n"
          ]
        },
        {
          "output_type": "stream",
          "name": "stderr",
          "text": [
            "\r 43%|████▎     | 431/1000 [11:52<14:31,  1.53s/it]"
          ]
        },
        {
          "output_type": "stream",
          "name": "stdout",
          "text": [
            "Validation acc: 0.9609\n",
            "\n",
            "Start of epoch 431\n",
            "Training loss: 0.0001\n",
            "Training metric: 0.9598\n",
            "perturbation loss: 0.0004\n"
          ]
        },
        {
          "output_type": "stream",
          "name": "stderr",
          "text": [
            "\r 43%|████▎     | 432/1000 [11:53<15:35,  1.65s/it]"
          ]
        },
        {
          "output_type": "stream",
          "name": "stdout",
          "text": [
            "Validation acc: 0.9688\n",
            "\n",
            "Start of epoch 432\n",
            "Training loss: 0.0002\n",
            "Training metric: 0.9599\n",
            "perturbation loss: 0.0011\n"
          ]
        },
        {
          "output_type": "stream",
          "name": "stderr",
          "text": [
            "\r 43%|████▎     | 433/1000 [11:55<16:06,  1.70s/it]"
          ]
        },
        {
          "output_type": "stream",
          "name": "stdout",
          "text": [
            "Validation acc: 0.9688\n",
            "\n",
            "Start of epoch 433\n",
            "Training loss: 0.0007\n",
            "Training metric: 0.9600\n",
            "perturbation loss: 0.0092\n"
          ]
        },
        {
          "output_type": "stream",
          "name": "stderr",
          "text": [
            "\r 43%|████▎     | 434/1000 [11:57<15:21,  1.63s/it]"
          ]
        },
        {
          "output_type": "stream",
          "name": "stdout",
          "text": [
            "Validation acc: 0.9688\n",
            "\n",
            "Start of epoch 434\n",
            "Training loss: 0.0001\n",
            "Training metric: 0.9601\n",
            "perturbation loss: 0.0017\n"
          ]
        },
        {
          "output_type": "stream",
          "name": "stderr",
          "text": [
            "\r 44%|████▎     | 435/1000 [11:58<14:51,  1.58s/it]"
          ]
        },
        {
          "output_type": "stream",
          "name": "stdout",
          "text": [
            "Validation acc: 0.9609\n",
            "\n",
            "Start of epoch 435\n",
            "Training loss: 0.0002\n",
            "Training metric: 0.9601\n",
            "perturbation loss: 0.0008\n"
          ]
        },
        {
          "output_type": "stream",
          "name": "stderr",
          "text": [
            "\r 44%|████▎     | 436/1000 [12:00<14:28,  1.54s/it]"
          ]
        },
        {
          "output_type": "stream",
          "name": "stdout",
          "text": [
            "Validation acc: 0.9609\n",
            "\n",
            "Start of epoch 436\n",
            "Training loss: 0.0000\n",
            "Training metric: 0.9602\n",
            "perturbation loss: 0.0004\n"
          ]
        },
        {
          "output_type": "stream",
          "name": "stderr",
          "text": [
            "\r 44%|████▎     | 437/1000 [12:01<14:13,  1.52s/it]"
          ]
        },
        {
          "output_type": "stream",
          "name": "stdout",
          "text": [
            "Validation acc: 0.9609\n",
            "\n",
            "Start of epoch 437\n",
            "Training loss: 0.0001\n",
            "Training metric: 0.9603\n",
            "perturbation loss: 0.0002\n"
          ]
        },
        {
          "output_type": "stream",
          "name": "stderr",
          "text": [
            "\r 44%|████▍     | 438/1000 [12:03<14:05,  1.50s/it]"
          ]
        },
        {
          "output_type": "stream",
          "name": "stdout",
          "text": [
            "Validation acc: 0.9609\n",
            "\n",
            "Start of epoch 438\n",
            "Training loss: 0.0007\n",
            "Training metric: 0.9604\n",
            "perturbation loss: 0.0006\n"
          ]
        },
        {
          "output_type": "stream",
          "name": "stderr",
          "text": [
            "\r 44%|████▍     | 439/1000 [12:04<13:54,  1.49s/it]"
          ]
        },
        {
          "output_type": "stream",
          "name": "stdout",
          "text": [
            "Validation acc: 0.9453\n",
            "\n",
            "Start of epoch 439\n",
            "Training loss: 0.0000\n",
            "Training metric: 0.9605\n",
            "perturbation loss: 0.0004\n"
          ]
        },
        {
          "output_type": "stream",
          "name": "stderr",
          "text": [
            "\r 44%|████▍     | 440/1000 [12:06<14:09,  1.52s/it]"
          ]
        },
        {
          "output_type": "stream",
          "name": "stdout",
          "text": [
            "Validation acc: 0.9609\n",
            "\n",
            "Start of epoch 440\n",
            "Training loss: 0.0000\n",
            "Training metric: 0.9606\n",
            "perturbation loss: 0.0001\n"
          ]
        },
        {
          "output_type": "stream",
          "name": "stderr",
          "text": [
            "\r 44%|████▍     | 441/1000 [12:08<16:03,  1.72s/it]"
          ]
        },
        {
          "output_type": "stream",
          "name": "stdout",
          "text": [
            "Validation acc: 0.9609\n",
            "\n",
            "Start of epoch 441\n",
            "Training loss: 0.0000\n",
            "Training metric: 0.9607\n",
            "perturbation loss: 0.0000\n"
          ]
        },
        {
          "output_type": "stream",
          "name": "stderr",
          "text": [
            "\r 44%|████▍     | 442/1000 [12:10<15:56,  1.71s/it]"
          ]
        },
        {
          "output_type": "stream",
          "name": "stdout",
          "text": [
            "Validation acc: 0.9609\n",
            "\n",
            "Start of epoch 442\n",
            "Training loss: 0.0003\n",
            "Training metric: 0.9608\n",
            "perturbation loss: 0.0042\n"
          ]
        },
        {
          "output_type": "stream",
          "name": "stderr",
          "text": [
            "\r 44%|████▍     | 443/1000 [12:11<15:12,  1.64s/it]"
          ]
        },
        {
          "output_type": "stream",
          "name": "stdout",
          "text": [
            "Validation acc: 0.9531\n",
            "\n",
            "Start of epoch 443\n",
            "Training loss: 0.0000\n",
            "Training metric: 0.9609\n",
            "perturbation loss: 0.0001\n"
          ]
        },
        {
          "output_type": "stream",
          "name": "stderr",
          "text": [
            "\r 44%|████▍     | 444/1000 [12:12<14:39,  1.58s/it]"
          ]
        },
        {
          "output_type": "stream",
          "name": "stdout",
          "text": [
            "Validation acc: 0.9609\n",
            "\n",
            "Start of epoch 444\n",
            "Training loss: 0.0000\n",
            "Training metric: 0.9610\n",
            "perturbation loss: 0.0001\n"
          ]
        },
        {
          "output_type": "stream",
          "name": "stderr",
          "text": [
            "\r 44%|████▍     | 445/1000 [12:14<14:22,  1.55s/it]"
          ]
        },
        {
          "output_type": "stream",
          "name": "stdout",
          "text": [
            "Validation acc: 0.9609\n",
            "\n",
            "Start of epoch 445\n",
            "Training loss: 0.0000\n",
            "Training metric: 0.9610\n",
            "perturbation loss: 0.0005\n"
          ]
        },
        {
          "output_type": "stream",
          "name": "stderr",
          "text": [
            "\r 45%|████▍     | 446/1000 [12:15<14:13,  1.54s/it]"
          ]
        },
        {
          "output_type": "stream",
          "name": "stdout",
          "text": [
            "Validation acc: 0.9531\n",
            "\n",
            "Start of epoch 446\n",
            "Training loss: 0.0000\n",
            "Training metric: 0.9611\n",
            "perturbation loss: 0.0009\n"
          ]
        },
        {
          "output_type": "stream",
          "name": "stderr",
          "text": [
            "\r 45%|████▍     | 447/1000 [12:17<14:04,  1.53s/it]"
          ]
        },
        {
          "output_type": "stream",
          "name": "stdout",
          "text": [
            "Validation acc: 0.9531\n",
            "\n",
            "Start of epoch 447\n",
            "Training loss: 0.0001\n",
            "Training metric: 0.9612\n",
            "perturbation loss: 0.0002\n"
          ]
        },
        {
          "output_type": "stream",
          "name": "stderr",
          "text": [
            "\r 45%|████▍     | 448/1000 [12:18<13:55,  1.51s/it]"
          ]
        },
        {
          "output_type": "stream",
          "name": "stdout",
          "text": [
            "Validation acc: 0.9531\n",
            "\n",
            "Start of epoch 448\n",
            "Training loss: 0.0006\n",
            "Training metric: 0.9613\n",
            "perturbation loss: 0.0054\n"
          ]
        },
        {
          "output_type": "stream",
          "name": "stderr",
          "text": [
            "\r 45%|████▍     | 449/1000 [12:21<15:29,  1.69s/it]"
          ]
        },
        {
          "output_type": "stream",
          "name": "stdout",
          "text": [
            "Validation acc: 0.9453\n",
            "\n",
            "Start of epoch 449\n",
            "Training loss: 0.0059\n",
            "Training metric: 0.9614\n",
            "perturbation loss: 0.0468\n"
          ]
        },
        {
          "output_type": "stream",
          "name": "stderr",
          "text": [
            "\r 45%|████▌     | 450/1000 [12:23<16:12,  1.77s/it]"
          ]
        },
        {
          "output_type": "stream",
          "name": "stdout",
          "text": [
            "Validation acc: 0.9453\n",
            "\n",
            "Start of epoch 450\n",
            "Training loss: 0.0048\n",
            "Training metric: 0.9615\n",
            "perturbation loss: 0.0959\n"
          ]
        },
        {
          "output_type": "stream",
          "name": "stderr",
          "text": [
            "\r 45%|████▌     | 451/1000 [12:24<15:26,  1.69s/it]"
          ]
        },
        {
          "output_type": "stream",
          "name": "stdout",
          "text": [
            "Validation acc: 0.9141\n",
            "\n",
            "Start of epoch 451\n",
            "Training loss: 0.0100\n",
            "Training metric: 0.9615\n",
            "perturbation loss: 0.0320\n"
          ]
        },
        {
          "output_type": "stream",
          "name": "stderr",
          "text": [
            "\r 45%|████▌     | 452/1000 [12:25<14:46,  1.62s/it]"
          ]
        },
        {
          "output_type": "stream",
          "name": "stdout",
          "text": [
            "Validation acc: 0.9688\n",
            "\n",
            "Start of epoch 452\n",
            "Training loss: 0.0004\n",
            "Training metric: 0.9616\n",
            "perturbation loss: 0.0024\n"
          ]
        },
        {
          "output_type": "stream",
          "name": "stderr",
          "text": [
            "\r 45%|████▌     | 453/1000 [12:27<14:19,  1.57s/it]"
          ]
        },
        {
          "output_type": "stream",
          "name": "stdout",
          "text": [
            "Validation acc: 0.9609\n",
            "\n",
            "Start of epoch 453\n",
            "Training loss: 0.0004\n",
            "Training metric: 0.9617\n",
            "perturbation loss: 0.0074\n"
          ]
        },
        {
          "output_type": "stream",
          "name": "stderr",
          "text": [
            "\r 45%|████▌     | 454/1000 [12:28<13:55,  1.53s/it]"
          ]
        },
        {
          "output_type": "stream",
          "name": "stdout",
          "text": [
            "Validation acc: 0.9766\n",
            "\n",
            "Start of epoch 454\n",
            "Training loss: 0.0001\n",
            "Training metric: 0.9618\n",
            "perturbation loss: 0.0004\n"
          ]
        },
        {
          "output_type": "stream",
          "name": "stderr",
          "text": [
            "\r 46%|████▌     | 455/1000 [12:30<13:44,  1.51s/it]"
          ]
        },
        {
          "output_type": "stream",
          "name": "stdout",
          "text": [
            "Validation acc: 0.9609\n",
            "\n",
            "Start of epoch 455\n",
            "Training loss: 0.0002\n",
            "Training metric: 0.9619\n",
            "perturbation loss: 0.0045\n"
          ]
        },
        {
          "output_type": "stream",
          "name": "stderr",
          "text": [
            "\r 46%|████▌     | 456/1000 [12:31<13:30,  1.49s/it]"
          ]
        },
        {
          "output_type": "stream",
          "name": "stdout",
          "text": [
            "Validation acc: 0.9688\n",
            "\n",
            "Start of epoch 456\n",
            "Training loss: 0.0001\n",
            "Training metric: 0.9619\n",
            "perturbation loss: 0.0014\n"
          ]
        },
        {
          "output_type": "stream",
          "name": "stderr",
          "text": [
            "\r 46%|████▌     | 457/1000 [12:33<13:32,  1.50s/it]"
          ]
        },
        {
          "output_type": "stream",
          "name": "stdout",
          "text": [
            "Validation acc: 0.9766\n",
            "\n",
            "Start of epoch 457\n",
            "Training loss: 0.0002\n",
            "Training metric: 0.9620\n",
            "perturbation loss: 0.0011\n"
          ]
        },
        {
          "output_type": "stream",
          "name": "stderr",
          "text": [
            "\r 46%|████▌     | 458/1000 [12:35<15:29,  1.71s/it]"
          ]
        },
        {
          "output_type": "stream",
          "name": "stdout",
          "text": [
            "Validation acc: 0.9766\n",
            "\n",
            "Start of epoch 458\n",
            "Training loss: 0.0000\n",
            "Training metric: 0.9621\n",
            "perturbation loss: 0.0001\n"
          ]
        },
        {
          "output_type": "stream",
          "name": "stderr",
          "text": [
            "\r 46%|████▌     | 459/1000 [12:37<15:45,  1.75s/it]"
          ]
        },
        {
          "output_type": "stream",
          "name": "stdout",
          "text": [
            "Validation acc: 0.9609\n",
            "\n",
            "Start of epoch 459\n",
            "Training loss: 0.0001\n",
            "Training metric: 0.9622\n",
            "perturbation loss: 0.0005\n"
          ]
        },
        {
          "output_type": "stream",
          "name": "stderr",
          "text": [
            "\r 46%|████▌     | 460/1000 [12:38<14:57,  1.66s/it]"
          ]
        },
        {
          "output_type": "stream",
          "name": "stdout",
          "text": [
            "Validation acc: 0.9688\n",
            "\n",
            "Start of epoch 460\n",
            "Training loss: 0.0000\n",
            "Training metric: 0.9623\n",
            "perturbation loss: 0.0005\n"
          ]
        },
        {
          "output_type": "stream",
          "name": "stderr",
          "text": [
            "\r 46%|████▌     | 461/1000 [12:40<14:30,  1.61s/it]"
          ]
        },
        {
          "output_type": "stream",
          "name": "stdout",
          "text": [
            "Validation acc: 0.9688\n",
            "\n",
            "Start of epoch 461\n",
            "Training loss: 0.0001\n",
            "Training metric: 0.9624\n",
            "perturbation loss: 0.0023\n"
          ]
        },
        {
          "output_type": "stream",
          "name": "stderr",
          "text": [
            "\r 46%|████▌     | 462/1000 [12:41<14:00,  1.56s/it]"
          ]
        },
        {
          "output_type": "stream",
          "name": "stdout",
          "text": [
            "Validation acc: 0.9688\n",
            "\n",
            "Start of epoch 462\n",
            "Training loss: 0.0000\n",
            "Training metric: 0.9624\n",
            "perturbation loss: 0.0002\n"
          ]
        },
        {
          "output_type": "stream",
          "name": "stderr",
          "text": [
            "\r 46%|████▋     | 463/1000 [12:43<13:43,  1.53s/it]"
          ]
        },
        {
          "output_type": "stream",
          "name": "stdout",
          "text": [
            "Validation acc: 0.9688\n",
            "\n",
            "Start of epoch 463\n",
            "Training loss: 0.0000\n",
            "Training metric: 0.9625\n",
            "perturbation loss: 0.0002\n"
          ]
        },
        {
          "output_type": "stream",
          "name": "stderr",
          "text": [
            "\r 46%|████▋     | 464/1000 [12:44<13:26,  1.51s/it]"
          ]
        },
        {
          "output_type": "stream",
          "name": "stdout",
          "text": [
            "Validation acc: 0.9766\n",
            "\n",
            "Start of epoch 464\n",
            "Training loss: 0.0000\n",
            "Training metric: 0.9626\n",
            "perturbation loss: 0.0002\n"
          ]
        },
        {
          "output_type": "stream",
          "name": "stderr",
          "text": [
            "\r 46%|████▋     | 465/1000 [12:46<13:16,  1.49s/it]"
          ]
        },
        {
          "output_type": "stream",
          "name": "stdout",
          "text": [
            "Validation acc: 0.9609\n",
            "\n",
            "Start of epoch 465\n",
            "Training loss: 0.0071\n",
            "Training metric: 0.9627\n",
            "perturbation loss: 0.0044\n"
          ]
        },
        {
          "output_type": "stream",
          "name": "stderr",
          "text": [
            "\r 47%|████▋     | 466/1000 [12:48<14:25,  1.62s/it]"
          ]
        },
        {
          "output_type": "stream",
          "name": "stdout",
          "text": [
            "Validation acc: 0.9609\n",
            "\n",
            "Start of epoch 466\n",
            "Training loss: 0.0023\n",
            "Training metric: 0.9628\n",
            "perturbation loss: 0.0226\n"
          ]
        },
        {
          "output_type": "stream",
          "name": "stderr",
          "text": [
            "\r 47%|████▋     | 467/1000 [12:50<16:03,  1.81s/it]"
          ]
        },
        {
          "output_type": "stream",
          "name": "stdout",
          "text": [
            "Validation acc: 0.9688\n",
            "\n",
            "Start of epoch 467\n",
            "Training loss: 0.0002\n",
            "Training metric: 0.9628\n",
            "perturbation loss: 0.0021\n"
          ]
        },
        {
          "output_type": "stream",
          "name": "stderr",
          "text": [
            "\r 47%|████▋     | 468/1000 [12:51<15:22,  1.73s/it]"
          ]
        },
        {
          "output_type": "stream",
          "name": "stdout",
          "text": [
            "Validation acc: 0.9609\n",
            "\n",
            "Start of epoch 468\n",
            "Training loss: 0.0012\n",
            "Training metric: 0.9629\n",
            "perturbation loss: 0.0124\n"
          ]
        },
        {
          "output_type": "stream",
          "name": "stderr",
          "text": [
            "\r 47%|████▋     | 469/1000 [12:53<14:37,  1.65s/it]"
          ]
        },
        {
          "output_type": "stream",
          "name": "stdout",
          "text": [
            "Validation acc: 0.9609\n",
            "\n",
            "Start of epoch 469\n",
            "Training loss: 0.0016\n",
            "Training metric: 0.9630\n",
            "perturbation loss: 0.0079\n"
          ]
        },
        {
          "output_type": "stream",
          "name": "stderr",
          "text": [
            "\r 47%|████▋     | 470/1000 [12:54<14:08,  1.60s/it]"
          ]
        },
        {
          "output_type": "stream",
          "name": "stdout",
          "text": [
            "Validation acc: 0.9688\n",
            "\n",
            "Start of epoch 470\n",
            "Training loss: 0.0001\n",
            "Training metric: 0.9631\n",
            "perturbation loss: 0.0009\n"
          ]
        },
        {
          "output_type": "stream",
          "name": "stderr",
          "text": [
            "\r 47%|████▋     | 471/1000 [12:56<13:39,  1.55s/it]"
          ]
        },
        {
          "output_type": "stream",
          "name": "stdout",
          "text": [
            "Validation acc: 0.9609\n",
            "\n",
            "Start of epoch 471\n",
            "Training loss: 0.0000\n",
            "Training metric: 0.9631\n",
            "perturbation loss: 0.0004\n"
          ]
        },
        {
          "output_type": "stream",
          "name": "stderr",
          "text": [
            "\r 47%|████▋     | 472/1000 [12:57<13:23,  1.52s/it]"
          ]
        },
        {
          "output_type": "stream",
          "name": "stdout",
          "text": [
            "Validation acc: 0.9688\n",
            "\n",
            "Start of epoch 472\n",
            "Training loss: 0.0001\n",
            "Training metric: 0.9632\n",
            "perturbation loss: 0.0001\n"
          ]
        },
        {
          "output_type": "stream",
          "name": "stderr",
          "text": [
            "\r 47%|████▋     | 473/1000 [12:59<13:06,  1.49s/it]"
          ]
        },
        {
          "output_type": "stream",
          "name": "stdout",
          "text": [
            "Validation acc: 0.9688\n",
            "\n",
            "Start of epoch 473\n",
            "Training loss: 0.0002\n",
            "Training metric: 0.9633\n",
            "perturbation loss: 0.0026\n"
          ]
        },
        {
          "output_type": "stream",
          "name": "stderr",
          "text": [
            "\r 47%|████▋     | 474/1000 [13:00<12:57,  1.48s/it]"
          ]
        },
        {
          "output_type": "stream",
          "name": "stdout",
          "text": [
            "Validation acc: 0.9688\n",
            "\n",
            "Start of epoch 474\n",
            "Training loss: 0.0003\n",
            "Training metric: 0.9634\n",
            "perturbation loss: 0.0013\n"
          ]
        },
        {
          "output_type": "stream",
          "name": "stderr",
          "text": [
            "\r 48%|████▊     | 475/1000 [13:02<14:37,  1.67s/it]"
          ]
        },
        {
          "output_type": "stream",
          "name": "stdout",
          "text": [
            "Validation acc: 0.9609\n",
            "\n",
            "Start of epoch 475\n",
            "Training loss: 0.0000\n",
            "Training metric: 0.9634\n",
            "perturbation loss: 0.0001\n"
          ]
        },
        {
          "output_type": "stream",
          "name": "stderr",
          "text": [
            "\r 48%|████▊     | 476/1000 [13:04<16:03,  1.84s/it]"
          ]
        },
        {
          "output_type": "stream",
          "name": "stdout",
          "text": [
            "Validation acc: 0.9688\n",
            "\n",
            "Start of epoch 476\n",
            "Training loss: 0.0024\n",
            "Training metric: 0.9635\n",
            "perturbation loss: 0.0049\n"
          ]
        },
        {
          "output_type": "stream",
          "name": "stderr",
          "text": [
            "\r 48%|████▊     | 477/1000 [13:06<14:59,  1.72s/it]"
          ]
        },
        {
          "output_type": "stream",
          "name": "stdout",
          "text": [
            "Validation acc: 0.9688\n",
            "\n",
            "Start of epoch 477\n",
            "Training loss: 0.0005\n",
            "Training metric: 0.9636\n",
            "perturbation loss: 0.0064\n"
          ]
        },
        {
          "output_type": "stream",
          "name": "stderr",
          "text": [
            "\r 48%|████▊     | 478/1000 [13:07<14:17,  1.64s/it]"
          ]
        },
        {
          "output_type": "stream",
          "name": "stdout",
          "text": [
            "Validation acc: 0.9609\n",
            "\n",
            "Start of epoch 478\n",
            "Training loss: 0.0005\n",
            "Training metric: 0.9637\n",
            "perturbation loss: 0.0038\n"
          ]
        },
        {
          "output_type": "stream",
          "name": "stderr",
          "text": [
            "\r 48%|████▊     | 479/1000 [13:09<13:46,  1.59s/it]"
          ]
        },
        {
          "output_type": "stream",
          "name": "stdout",
          "text": [
            "Validation acc: 0.9609\n",
            "\n",
            "Start of epoch 479\n",
            "Training loss: 0.0004\n",
            "Training metric: 0.9638\n",
            "perturbation loss: 0.0119\n"
          ]
        },
        {
          "output_type": "stream",
          "name": "stderr",
          "text": [
            "\r 48%|████▊     | 480/1000 [13:10<13:29,  1.56s/it]"
          ]
        },
        {
          "output_type": "stream",
          "name": "stdout",
          "text": [
            "Validation acc: 0.9688\n",
            "\n",
            "Start of epoch 480\n",
            "Training loss: 0.0000\n",
            "Training metric: 0.9638\n",
            "perturbation loss: 0.0001\n"
          ]
        },
        {
          "output_type": "stream",
          "name": "stderr",
          "text": [
            "\r 48%|████▊     | 481/1000 [13:12<13:09,  1.52s/it]"
          ]
        },
        {
          "output_type": "stream",
          "name": "stdout",
          "text": [
            "Validation acc: 0.9609\n",
            "\n",
            "Start of epoch 481\n",
            "Training loss: 0.0000\n",
            "Training metric: 0.9639\n",
            "perturbation loss: 0.0000\n"
          ]
        },
        {
          "output_type": "stream",
          "name": "stderr",
          "text": [
            "\r 48%|████▊     | 482/1000 [13:13<12:55,  1.50s/it]"
          ]
        },
        {
          "output_type": "stream",
          "name": "stdout",
          "text": [
            "Validation acc: 0.9688\n",
            "\n",
            "Start of epoch 482\n",
            "Training loss: 0.0000\n",
            "Training metric: 0.9640\n",
            "perturbation loss: 0.0001\n"
          ]
        },
        {
          "output_type": "stream",
          "name": "stderr",
          "text": [
            "\r 48%|████▊     | 483/1000 [13:15<13:09,  1.53s/it]"
          ]
        },
        {
          "output_type": "stream",
          "name": "stdout",
          "text": [
            "Validation acc: 0.9688\n",
            "\n",
            "Start of epoch 483\n",
            "Training loss: 0.0000\n",
            "Training metric: 0.9641\n",
            "perturbation loss: 0.0002\n"
          ]
        },
        {
          "output_type": "stream",
          "name": "stderr",
          "text": [
            "\r 48%|████▊     | 484/1000 [13:17<14:56,  1.74s/it]"
          ]
        },
        {
          "output_type": "stream",
          "name": "stdout",
          "text": [
            "Validation acc: 0.9688\n",
            "\n",
            "Start of epoch 484\n",
            "Training loss: 0.0000\n",
            "Training metric: 0.9641\n",
            "perturbation loss: 0.0000\n"
          ]
        },
        {
          "output_type": "stream",
          "name": "stderr",
          "text": [
            "\r 48%|████▊     | 485/1000 [13:19<14:51,  1.73s/it]"
          ]
        },
        {
          "output_type": "stream",
          "name": "stdout",
          "text": [
            "Validation acc: 0.9688\n",
            "\n",
            "Start of epoch 485\n",
            "Training loss: 0.0000\n",
            "Training metric: 0.9642\n",
            "perturbation loss: 0.0000\n"
          ]
        },
        {
          "output_type": "stream",
          "name": "stderr",
          "text": [
            "\r 49%|████▊     | 486/1000 [13:20<14:10,  1.65s/it]"
          ]
        },
        {
          "output_type": "stream",
          "name": "stdout",
          "text": [
            "Validation acc: 0.9688\n",
            "\n",
            "Start of epoch 486\n",
            "Training loss: 0.0000\n",
            "Training metric: 0.9643\n",
            "perturbation loss: 0.0004\n"
          ]
        },
        {
          "output_type": "stream",
          "name": "stderr",
          "text": [
            "\r 49%|████▊     | 487/1000 [13:22<13:35,  1.59s/it]"
          ]
        },
        {
          "output_type": "stream",
          "name": "stdout",
          "text": [
            "Validation acc: 0.9688\n",
            "\n",
            "Start of epoch 487\n",
            "Training loss: 0.0000\n",
            "Training metric: 0.9643\n",
            "perturbation loss: 0.0001\n"
          ]
        },
        {
          "output_type": "stream",
          "name": "stderr",
          "text": [
            "\r 49%|████▉     | 488/1000 [13:23<13:12,  1.55s/it]"
          ]
        },
        {
          "output_type": "stream",
          "name": "stdout",
          "text": [
            "Validation acc: 0.9688\n",
            "\n",
            "Start of epoch 488\n",
            "Training loss: 0.0000\n",
            "Training metric: 0.9644\n",
            "perturbation loss: 0.0000\n"
          ]
        },
        {
          "output_type": "stream",
          "name": "stderr",
          "text": [
            "\r 49%|████▉     | 489/1000 [13:24<12:54,  1.52s/it]"
          ]
        },
        {
          "output_type": "stream",
          "name": "stdout",
          "text": [
            "Validation acc: 0.9688\n",
            "\n",
            "Start of epoch 489\n",
            "Training loss: 0.0000\n",
            "Training metric: 0.9645\n",
            "perturbation loss: 0.0000\n"
          ]
        },
        {
          "output_type": "stream",
          "name": "stderr",
          "text": [
            "\r 49%|████▉     | 490/1000 [13:26<12:46,  1.50s/it]"
          ]
        },
        {
          "output_type": "stream",
          "name": "stdout",
          "text": [
            "Validation acc: 0.9609\n",
            "\n",
            "Start of epoch 490\n",
            "Training loss: 0.0000\n",
            "Training metric: 0.9646\n",
            "perturbation loss: 0.0001\n"
          ]
        },
        {
          "output_type": "stream",
          "name": "stderr",
          "text": [
            "\r 49%|████▉     | 491/1000 [13:27<12:36,  1.49s/it]"
          ]
        },
        {
          "output_type": "stream",
          "name": "stdout",
          "text": [
            "Validation acc: 0.9609\n",
            "\n",
            "Start of epoch 491\n",
            "Training loss: 0.0000\n",
            "Training metric: 0.9646\n",
            "perturbation loss: 0.0001\n"
          ]
        },
        {
          "output_type": "stream",
          "name": "stderr",
          "text": [
            "\r 49%|████▉     | 492/1000 [13:29<14:00,  1.65s/it]"
          ]
        },
        {
          "output_type": "stream",
          "name": "stdout",
          "text": [
            "Validation acc: 0.9688\n",
            "\n",
            "Start of epoch 492\n",
            "Training loss: 0.0001\n",
            "Training metric: 0.9647\n",
            "perturbation loss: 0.0002\n"
          ]
        },
        {
          "output_type": "stream",
          "name": "stderr",
          "text": [
            "\r 49%|████▉     | 493/1000 [13:32<15:22,  1.82s/it]"
          ]
        },
        {
          "output_type": "stream",
          "name": "stdout",
          "text": [
            "Validation acc: 0.9766\n",
            "\n",
            "Start of epoch 493\n",
            "Training loss: 0.0002\n",
            "Training metric: 0.9648\n",
            "perturbation loss: 0.0011\n"
          ]
        },
        {
          "output_type": "stream",
          "name": "stderr",
          "text": [
            "\r 49%|████▉     | 494/1000 [13:33<14:23,  1.71s/it]"
          ]
        },
        {
          "output_type": "stream",
          "name": "stdout",
          "text": [
            "Validation acc: 0.8750\n",
            "\n",
            "Start of epoch 494\n",
            "Training loss: 0.0005\n",
            "Training metric: 0.9648\n",
            "perturbation loss: 0.0054\n"
          ]
        },
        {
          "output_type": "stream",
          "name": "stderr",
          "text": [
            "\r 50%|████▉     | 495/1000 [13:35<13:44,  1.63s/it]"
          ]
        },
        {
          "output_type": "stream",
          "name": "stdout",
          "text": [
            "Validation acc: 0.9766\n",
            "\n",
            "Start of epoch 495\n",
            "Training loss: 0.0008\n",
            "Training metric: 0.9649\n",
            "perturbation loss: 0.0137\n"
          ]
        },
        {
          "output_type": "stream",
          "name": "stderr",
          "text": [
            "\r 50%|████▉     | 496/1000 [13:36<13:14,  1.58s/it]"
          ]
        },
        {
          "output_type": "stream",
          "name": "stdout",
          "text": [
            "Validation acc: 0.9766\n",
            "\n",
            "Start of epoch 496\n",
            "Training loss: 0.0013\n",
            "Training metric: 0.9650\n",
            "perturbation loss: 0.0153\n"
          ]
        },
        {
          "output_type": "stream",
          "name": "stderr",
          "text": [
            "\r 50%|████▉     | 497/1000 [13:37<12:56,  1.54s/it]"
          ]
        },
        {
          "output_type": "stream",
          "name": "stdout",
          "text": [
            "Validation acc: 0.9453\n",
            "\n",
            "Start of epoch 497\n",
            "Training loss: 0.0286\n",
            "Training metric: 0.9651\n",
            "perturbation loss: 0.0460\n"
          ]
        },
        {
          "output_type": "stream",
          "name": "stderr",
          "text": [
            "\r 50%|████▉     | 498/1000 [13:39<12:39,  1.51s/it]"
          ]
        },
        {
          "output_type": "stream",
          "name": "stdout",
          "text": [
            "Validation acc: 0.9609\n",
            "\n",
            "Start of epoch 498\n",
            "Training loss: 0.0000\n",
            "Training metric: 0.9651\n",
            "perturbation loss: 0.0005\n"
          ]
        },
        {
          "output_type": "stream",
          "name": "stderr",
          "text": [
            "\r 50%|████▉     | 499/1000 [13:40<12:28,  1.49s/it]"
          ]
        },
        {
          "output_type": "stream",
          "name": "stdout",
          "text": [
            "Validation acc: 0.9453\n",
            "\n",
            "Start of epoch 499\n",
            "Training loss: 0.0000\n",
            "Training metric: 0.9652\n",
            "perturbation loss: 0.0001\n"
          ]
        },
        {
          "output_type": "stream",
          "name": "stderr",
          "text": [
            "\r 50%|█████     | 500/1000 [13:42<13:23,  1.61s/it]"
          ]
        },
        {
          "output_type": "stream",
          "name": "stdout",
          "text": [
            "Validation acc: 0.9531\n",
            "\n",
            "Start of epoch 500\n",
            "Training loss: 0.0007\n",
            "Training metric: 0.9653\n",
            "perturbation loss: 0.0004\n"
          ]
        },
        {
          "output_type": "stream",
          "name": "stderr",
          "text": [
            "\r 50%|█████     | 501/1000 [13:44<14:08,  1.70s/it]"
          ]
        },
        {
          "output_type": "stream",
          "name": "stdout",
          "text": [
            "Validation acc: 0.9531\n",
            "\n",
            "Start of epoch 501\n",
            "Training loss: 0.0000\n",
            "Training metric: 0.9653\n",
            "perturbation loss: 0.0004\n"
          ]
        },
        {
          "output_type": "stream",
          "name": "stderr",
          "text": [
            "\r 50%|█████     | 502/1000 [13:46<14:22,  1.73s/it]"
          ]
        },
        {
          "output_type": "stream",
          "name": "stdout",
          "text": [
            "Validation acc: 0.9453\n",
            "\n",
            "Start of epoch 502\n",
            "Training loss: 0.0000\n",
            "Training metric: 0.9654\n",
            "perturbation loss: 0.0002\n"
          ]
        },
        {
          "output_type": "stream",
          "name": "stderr",
          "text": [
            "\r 50%|█████     | 503/1000 [13:47<13:38,  1.65s/it]"
          ]
        },
        {
          "output_type": "stream",
          "name": "stdout",
          "text": [
            "Validation acc: 0.9297\n",
            "\n",
            "Start of epoch 503\n",
            "Training loss: 0.0000\n",
            "Training metric: 0.9655\n",
            "perturbation loss: 0.0000\n"
          ]
        },
        {
          "output_type": "stream",
          "name": "stderr",
          "text": [
            "\r 50%|█████     | 504/1000 [13:49<13:13,  1.60s/it]"
          ]
        },
        {
          "output_type": "stream",
          "name": "stdout",
          "text": [
            "Validation acc: 0.9375\n",
            "\n",
            "Start of epoch 504\n",
            "Training loss: 0.0000\n",
            "Training metric: 0.9655\n",
            "perturbation loss: 0.0005\n"
          ]
        },
        {
          "output_type": "stream",
          "name": "stderr",
          "text": [
            "\r 50%|█████     | 505/1000 [13:50<12:52,  1.56s/it]"
          ]
        },
        {
          "output_type": "stream",
          "name": "stdout",
          "text": [
            "Validation acc: 0.9531\n",
            "\n",
            "Start of epoch 505\n",
            "Training loss: 0.0000\n",
            "Training metric: 0.9656\n",
            "perturbation loss: 0.0001\n"
          ]
        },
        {
          "output_type": "stream",
          "name": "stderr",
          "text": [
            "\r 51%|█████     | 506/1000 [13:52<12:38,  1.53s/it]"
          ]
        },
        {
          "output_type": "stream",
          "name": "stdout",
          "text": [
            "Validation acc: 0.9609\n",
            "\n",
            "Start of epoch 506\n",
            "Training loss: 0.0000\n",
            "Training metric: 0.9657\n",
            "perturbation loss: 0.0002\n"
          ]
        },
        {
          "output_type": "stream",
          "name": "stderr",
          "text": [
            "\r 51%|█████     | 507/1000 [13:53<12:27,  1.52s/it]"
          ]
        },
        {
          "output_type": "stream",
          "name": "stdout",
          "text": [
            "Validation acc: 0.9453\n",
            "\n",
            "Start of epoch 507\n",
            "Training loss: 0.0000\n",
            "Training metric: 0.9657\n",
            "perturbation loss: 0.0001\n"
          ]
        },
        {
          "output_type": "stream",
          "name": "stderr",
          "text": [
            "\r 51%|█████     | 508/1000 [13:55<12:17,  1.50s/it]"
          ]
        },
        {
          "output_type": "stream",
          "name": "stdout",
          "text": [
            "Validation acc: 0.9531\n",
            "\n",
            "Start of epoch 508\n",
            "Training loss: 0.0000\n",
            "Training metric: 0.9658\n",
            "perturbation loss: 0.0002\n"
          ]
        },
        {
          "output_type": "stream",
          "name": "stderr",
          "text": [
            "\r 51%|█████     | 509/1000 [13:56<12:40,  1.55s/it]"
          ]
        },
        {
          "output_type": "stream",
          "name": "stdout",
          "text": [
            "Validation acc: 0.9531\n",
            "\n",
            "Start of epoch 509\n",
            "Training loss: 0.0004\n",
            "Training metric: 0.9659\n",
            "perturbation loss: 0.0079\n"
          ]
        },
        {
          "output_type": "stream",
          "name": "stderr",
          "text": [
            "\r 51%|█████     | 510/1000 [13:59<14:12,  1.74s/it]"
          ]
        },
        {
          "output_type": "stream",
          "name": "stdout",
          "text": [
            "Validation acc: 0.9531\n",
            "\n",
            "Start of epoch 510\n",
            "Training loss: 0.0015\n",
            "Training metric: 0.9659\n",
            "perturbation loss: 0.0099\n"
          ]
        },
        {
          "output_type": "stream",
          "name": "stderr",
          "text": [
            "\r 51%|█████     | 511/1000 [14:00<13:51,  1.70s/it]"
          ]
        },
        {
          "output_type": "stream",
          "name": "stdout",
          "text": [
            "Validation acc: 0.9453\n",
            "\n",
            "Start of epoch 511\n",
            "Training loss: 0.0046\n",
            "Training metric: 0.9660\n",
            "perturbation loss: 0.0291\n"
          ]
        },
        {
          "output_type": "stream",
          "name": "stderr",
          "text": [
            "\r 51%|█████     | 512/1000 [14:02<13:11,  1.62s/it]"
          ]
        },
        {
          "output_type": "stream",
          "name": "stdout",
          "text": [
            "Validation acc: 0.9766\n",
            "\n",
            "Start of epoch 512\n",
            "Training loss: 0.0033\n",
            "Training metric: 0.9661\n",
            "perturbation loss: 0.0123\n"
          ]
        },
        {
          "output_type": "stream",
          "name": "stderr",
          "text": [
            "\r 51%|█████▏    | 513/1000 [14:03<12:45,  1.57s/it]"
          ]
        },
        {
          "output_type": "stream",
          "name": "stdout",
          "text": [
            "Validation acc: 0.9531\n",
            "\n",
            "Start of epoch 513\n",
            "Training loss: 0.0003\n",
            "Training metric: 0.9661\n",
            "perturbation loss: 0.0016\n"
          ]
        },
        {
          "output_type": "stream",
          "name": "stderr",
          "text": [
            "\r 51%|█████▏    | 514/1000 [14:05<12:27,  1.54s/it]"
          ]
        },
        {
          "output_type": "stream",
          "name": "stdout",
          "text": [
            "Validation acc: 0.9688\n",
            "\n",
            "Start of epoch 514\n",
            "Training loss: 0.0001\n",
            "Training metric: 0.9662\n",
            "perturbation loss: 0.0005\n"
          ]
        },
        {
          "output_type": "stream",
          "name": "stderr",
          "text": [
            "\r 52%|█████▏    | 515/1000 [14:06<12:11,  1.51s/it]"
          ]
        },
        {
          "output_type": "stream",
          "name": "stdout",
          "text": [
            "Validation acc: 0.9531\n",
            "\n",
            "Start of epoch 515\n",
            "Training loss: 0.0003\n",
            "Training metric: 0.9663\n",
            "perturbation loss: 0.0049\n"
          ]
        },
        {
          "output_type": "stream",
          "name": "stderr",
          "text": [
            "\r 52%|█████▏    | 516/1000 [14:07<12:00,  1.49s/it]"
          ]
        },
        {
          "output_type": "stream",
          "name": "stdout",
          "text": [
            "Validation acc: 0.9375\n",
            "\n",
            "Start of epoch 516\n",
            "Training loss: 0.0000\n",
            "Training metric: 0.9663\n",
            "perturbation loss: 0.0003\n"
          ]
        },
        {
          "output_type": "stream",
          "name": "stderr",
          "text": [
            "\r 52%|█████▏    | 517/1000 [14:09<11:51,  1.47s/it]"
          ]
        },
        {
          "output_type": "stream",
          "name": "stdout",
          "text": [
            "Validation acc: 0.9453\n",
            "\n",
            "Start of epoch 517\n",
            "Training loss: 0.0001\n",
            "Training metric: 0.9664\n",
            "perturbation loss: 0.0006\n"
          ]
        },
        {
          "output_type": "stream",
          "name": "stderr",
          "text": [
            "\r 52%|█████▏    | 518/1000 [14:11<13:18,  1.66s/it]"
          ]
        },
        {
          "output_type": "stream",
          "name": "stdout",
          "text": [
            "Validation acc: 0.9609\n",
            "\n",
            "Start of epoch 518\n",
            "Training loss: 0.0001\n",
            "Training metric: 0.9665\n",
            "perturbation loss: 0.0025\n"
          ]
        },
        {
          "output_type": "stream",
          "name": "stderr",
          "text": [
            "\r 52%|█████▏    | 519/1000 [14:13<13:59,  1.75s/it]"
          ]
        },
        {
          "output_type": "stream",
          "name": "stdout",
          "text": [
            "Validation acc: 0.9688\n",
            "\n",
            "Start of epoch 519\n",
            "Training loss: 0.0001\n",
            "Training metric: 0.9665\n",
            "perturbation loss: 0.0027\n"
          ]
        },
        {
          "output_type": "stream",
          "name": "stderr",
          "text": [
            "\r 52%|█████▏    | 520/1000 [14:14<13:20,  1.67s/it]"
          ]
        },
        {
          "output_type": "stream",
          "name": "stdout",
          "text": [
            "Validation acc: 0.9688\n",
            "\n",
            "Start of epoch 520\n",
            "Training loss: 0.0000\n",
            "Training metric: 0.9666\n",
            "perturbation loss: 0.0000\n"
          ]
        },
        {
          "output_type": "stream",
          "name": "stderr",
          "text": [
            "\r 52%|█████▏    | 521/1000 [14:16<12:48,  1.60s/it]"
          ]
        },
        {
          "output_type": "stream",
          "name": "stdout",
          "text": [
            "Validation acc: 0.9688\n",
            "\n",
            "Start of epoch 521\n",
            "Training loss: 0.0000\n",
            "Training metric: 0.9666\n",
            "perturbation loss: 0.0002\n"
          ]
        },
        {
          "output_type": "stream",
          "name": "stderr",
          "text": [
            "\r 52%|█████▏    | 522/1000 [14:17<12:25,  1.56s/it]"
          ]
        },
        {
          "output_type": "stream",
          "name": "stdout",
          "text": [
            "Validation acc: 0.9688\n",
            "\n",
            "Start of epoch 522\n",
            "Training loss: 0.0000\n",
            "Training metric: 0.9667\n",
            "perturbation loss: 0.0005\n"
          ]
        },
        {
          "output_type": "stream",
          "name": "stderr",
          "text": [
            "\r 52%|█████▏    | 523/1000 [14:19<12:13,  1.54s/it]"
          ]
        },
        {
          "output_type": "stream",
          "name": "stdout",
          "text": [
            "Validation acc: 0.9688\n",
            "\n",
            "Start of epoch 523\n",
            "Training loss: 0.0000\n",
            "Training metric: 0.9668\n",
            "perturbation loss: 0.0000\n"
          ]
        },
        {
          "output_type": "stream",
          "name": "stderr",
          "text": [
            "\r 52%|█████▏    | 524/1000 [14:20<11:59,  1.51s/it]"
          ]
        },
        {
          "output_type": "stream",
          "name": "stdout",
          "text": [
            "Validation acc: 0.9609\n",
            "\n",
            "Start of epoch 524\n",
            "Training loss: 0.0000\n",
            "Training metric: 0.9668\n",
            "perturbation loss: 0.0004\n"
          ]
        },
        {
          "output_type": "stream",
          "name": "stderr",
          "text": [
            "\r 52%|█████▎    | 525/1000 [14:22<11:50,  1.50s/it]"
          ]
        },
        {
          "output_type": "stream",
          "name": "stdout",
          "text": [
            "Validation acc: 0.9609\n",
            "\n",
            "Start of epoch 525\n",
            "Training loss: 0.0007\n",
            "Training metric: 0.9669\n",
            "perturbation loss: 0.0006\n"
          ]
        },
        {
          "output_type": "stream",
          "name": "stderr",
          "text": [
            "\r 53%|█████▎    | 526/1000 [14:23<11:53,  1.50s/it]"
          ]
        },
        {
          "output_type": "stream",
          "name": "stdout",
          "text": [
            "Validation acc: 0.9531\n",
            "\n",
            "Start of epoch 526\n",
            "Training loss: 0.0005\n",
            "Training metric: 0.9670\n",
            "perturbation loss: 0.0028\n"
          ]
        },
        {
          "output_type": "stream",
          "name": "stderr",
          "text": [
            "\r 53%|█████▎    | 527/1000 [14:25<12:48,  1.63s/it]"
          ]
        },
        {
          "output_type": "stream",
          "name": "stdout",
          "text": [
            "Validation acc: 0.9531\n",
            "\n",
            "Start of epoch 527\n",
            "Training loss: 0.0000\n",
            "Training metric: 0.9670\n",
            "perturbation loss: 0.0003\n"
          ]
        },
        {
          "output_type": "stream",
          "name": "stderr",
          "text": [
            "\r 53%|█████▎    | 528/1000 [14:27<13:29,  1.72s/it]"
          ]
        },
        {
          "output_type": "stream",
          "name": "stdout",
          "text": [
            "Validation acc: 0.9297\n",
            "\n",
            "Start of epoch 528\n",
            "Training loss: 0.0001\n",
            "Training metric: 0.9671\n",
            "perturbation loss: 0.0012\n"
          ]
        },
        {
          "output_type": "stream",
          "name": "stderr",
          "text": [
            "\r 53%|█████▎    | 529/1000 [14:28<12:48,  1.63s/it]"
          ]
        },
        {
          "output_type": "stream",
          "name": "stdout",
          "text": [
            "Validation acc: 0.9531\n",
            "\n",
            "Start of epoch 529\n",
            "Training loss: 0.0000\n",
            "Training metric: 0.9672\n",
            "perturbation loss: 0.0001\n"
          ]
        },
        {
          "output_type": "stream",
          "name": "stderr",
          "text": [
            "\r 53%|█████▎    | 530/1000 [14:30<12:22,  1.58s/it]"
          ]
        },
        {
          "output_type": "stream",
          "name": "stdout",
          "text": [
            "Validation acc: 0.9609\n",
            "\n",
            "Start of epoch 530\n",
            "Training loss: 0.0004\n",
            "Training metric: 0.9672\n",
            "perturbation loss: 0.0065\n"
          ]
        },
        {
          "output_type": "stream",
          "name": "stderr",
          "text": [
            "\r 53%|█████▎    | 531/1000 [14:31<12:11,  1.56s/it]"
          ]
        },
        {
          "output_type": "stream",
          "name": "stdout",
          "text": [
            "Validation acc: 0.9766\n",
            "\n",
            "Start of epoch 531\n",
            "Training loss: 0.0024\n",
            "Training metric: 0.9673\n",
            "perturbation loss: 0.0248\n"
          ]
        },
        {
          "output_type": "stream",
          "name": "stderr",
          "text": [
            "\r 53%|█████▎    | 532/1000 [14:33<11:54,  1.53s/it]"
          ]
        },
        {
          "output_type": "stream",
          "name": "stdout",
          "text": [
            "Validation acc: 0.9609\n",
            "\n",
            "Start of epoch 532\n",
            "Training loss: 0.0014\n",
            "Training metric: 0.9673\n",
            "perturbation loss: 0.0069\n"
          ]
        },
        {
          "output_type": "stream",
          "name": "stderr",
          "text": [
            "\r 53%|█████▎    | 533/1000 [14:34<11:45,  1.51s/it]"
          ]
        },
        {
          "output_type": "stream",
          "name": "stdout",
          "text": [
            "Validation acc: 0.9609\n",
            "\n",
            "Start of epoch 533\n",
            "Training loss: 0.0001\n",
            "Training metric: 0.9674\n",
            "perturbation loss: 0.0019\n"
          ]
        },
        {
          "output_type": "stream",
          "name": "stderr",
          "text": [
            "\r 53%|█████▎    | 534/1000 [14:36<11:33,  1.49s/it]"
          ]
        },
        {
          "output_type": "stream",
          "name": "stdout",
          "text": [
            "Validation acc: 0.9922\n",
            "\n",
            "Start of epoch 534\n",
            "Training loss: 0.0001\n",
            "Training metric: 0.9674\n",
            "perturbation loss: 0.0007\n"
          ]
        },
        {
          "output_type": "stream",
          "name": "stderr",
          "text": [
            "\r 54%|█████▎    | 535/1000 [14:38<12:19,  1.59s/it]"
          ]
        },
        {
          "output_type": "stream",
          "name": "stdout",
          "text": [
            "Validation acc: 0.9766\n",
            "\n",
            "Start of epoch 535\n",
            "Training loss: 0.0021\n",
            "Training metric: 0.9675\n",
            "perturbation loss: 0.0589\n"
          ]
        },
        {
          "output_type": "stream",
          "name": "stderr",
          "text": [
            "\r 54%|█████▎    | 536/1000 [14:40<13:44,  1.78s/it]"
          ]
        },
        {
          "output_type": "stream",
          "name": "stdout",
          "text": [
            "Validation acc: 0.9766\n",
            "\n",
            "Start of epoch 536\n",
            "Training loss: 0.0001\n",
            "Training metric: 0.9676\n",
            "perturbation loss: 0.0005\n"
          ]
        },
        {
          "output_type": "stream",
          "name": "stderr",
          "text": [
            "\r 54%|█████▎    | 537/1000 [14:41<13:21,  1.73s/it]"
          ]
        },
        {
          "output_type": "stream",
          "name": "stdout",
          "text": [
            "Validation acc: 0.9609\n",
            "\n",
            "Start of epoch 537\n",
            "Training loss: 0.0001\n",
            "Training metric: 0.9676\n",
            "perturbation loss: 0.0024\n"
          ]
        },
        {
          "output_type": "stream",
          "name": "stderr",
          "text": [
            "\r 54%|█████▍    | 538/1000 [14:43<12:35,  1.64s/it]"
          ]
        },
        {
          "output_type": "stream",
          "name": "stdout",
          "text": [
            "Validation acc: 0.9531\n",
            "\n",
            "Start of epoch 538\n",
            "Training loss: 0.0001\n",
            "Training metric: 0.9677\n",
            "perturbation loss: 0.0004\n"
          ]
        },
        {
          "output_type": "stream",
          "name": "stderr",
          "text": [
            "\r 54%|█████▍    | 539/1000 [14:44<12:11,  1.59s/it]"
          ]
        },
        {
          "output_type": "stream",
          "name": "stdout",
          "text": [
            "Validation acc: 0.9609\n",
            "\n",
            "Start of epoch 539\n",
            "Training loss: 0.0001\n",
            "Training metric: 0.9677\n",
            "perturbation loss: 0.0004\n"
          ]
        },
        {
          "output_type": "stream",
          "name": "stderr",
          "text": [
            "\r 54%|█████▍    | 540/1000 [14:46<11:48,  1.54s/it]"
          ]
        },
        {
          "output_type": "stream",
          "name": "stdout",
          "text": [
            "Validation acc: 0.9766\n",
            "\n",
            "Start of epoch 540\n",
            "Training loss: 0.0000\n",
            "Training metric: 0.9678\n",
            "perturbation loss: 0.0006\n"
          ]
        },
        {
          "output_type": "stream",
          "name": "stderr",
          "text": [
            "\r 54%|█████▍    | 541/1000 [14:47<11:33,  1.51s/it]"
          ]
        },
        {
          "output_type": "stream",
          "name": "stdout",
          "text": [
            "Validation acc: 0.9688\n",
            "\n",
            "Start of epoch 541\n",
            "Training loss: 0.0000\n",
            "Training metric: 0.9679\n",
            "perturbation loss: 0.0002\n"
          ]
        },
        {
          "output_type": "stream",
          "name": "stderr",
          "text": [
            "\r 54%|█████▍    | 542/1000 [14:49<11:24,  1.49s/it]"
          ]
        },
        {
          "output_type": "stream",
          "name": "stdout",
          "text": [
            "Validation acc: 0.9688\n",
            "\n",
            "Start of epoch 542\n",
            "Training loss: 0.0000\n",
            "Training metric: 0.9679\n",
            "perturbation loss: 0.0001\n"
          ]
        },
        {
          "output_type": "stream",
          "name": "stderr",
          "text": [
            "\r 54%|█████▍    | 543/1000 [14:50<11:21,  1.49s/it]"
          ]
        },
        {
          "output_type": "stream",
          "name": "stdout",
          "text": [
            "Validation acc: 0.9609\n",
            "\n",
            "Start of epoch 543\n",
            "Training loss: 0.0000\n",
            "Training metric: 0.9680\n",
            "perturbation loss: 0.0000\n"
          ]
        },
        {
          "output_type": "stream",
          "name": "stderr",
          "text": [
            "\r 54%|█████▍    | 544/1000 [14:52<11:57,  1.57s/it]"
          ]
        },
        {
          "output_type": "stream",
          "name": "stdout",
          "text": [
            "Validation acc: 0.9609\n",
            "\n",
            "Start of epoch 544\n",
            "Training loss: 0.0008\n",
            "Training metric: 0.9680\n",
            "perturbation loss: 0.0231\n"
          ]
        },
        {
          "output_type": "stream",
          "name": "stderr",
          "text": [
            "\r 55%|█████▍    | 545/1000 [14:54<13:26,  1.77s/it]"
          ]
        },
        {
          "output_type": "stream",
          "name": "stdout",
          "text": [
            "Validation acc: 0.9531\n",
            "\n",
            "Start of epoch 545\n",
            "Training loss: 0.0001\n",
            "Training metric: 0.9681\n",
            "perturbation loss: 0.0001\n"
          ]
        },
        {
          "output_type": "stream",
          "name": "stderr",
          "text": [
            "\r 55%|█████▍    | 546/1000 [14:56<12:49,  1.69s/it]"
          ]
        },
        {
          "output_type": "stream",
          "name": "stdout",
          "text": [
            "Validation acc: 0.9609\n",
            "\n",
            "Start of epoch 546\n",
            "Training loss: 0.0000\n",
            "Training metric: 0.9682\n",
            "perturbation loss: 0.0002\n"
          ]
        },
        {
          "output_type": "stream",
          "name": "stderr",
          "text": [
            "\r 55%|█████▍    | 547/1000 [14:57<12:12,  1.62s/it]"
          ]
        },
        {
          "output_type": "stream",
          "name": "stdout",
          "text": [
            "Validation acc: 0.9688\n",
            "\n",
            "Start of epoch 547\n",
            "Training loss: 0.0007\n",
            "Training metric: 0.9682\n",
            "perturbation loss: 0.0068\n"
          ]
        },
        {
          "output_type": "stream",
          "name": "stderr",
          "text": [
            "\r 55%|█████▍    | 548/1000 [14:59<11:48,  1.57s/it]"
          ]
        },
        {
          "output_type": "stream",
          "name": "stdout",
          "text": [
            "Validation acc: 0.9688\n",
            "\n",
            "Start of epoch 548\n",
            "Training loss: 0.0125\n",
            "Training metric: 0.9683\n",
            "perturbation loss: 0.0707\n"
          ]
        },
        {
          "output_type": "stream",
          "name": "stderr",
          "text": [
            "\r 55%|█████▍    | 549/1000 [15:00<11:32,  1.53s/it]"
          ]
        },
        {
          "output_type": "stream",
          "name": "stdout",
          "text": [
            "Validation acc: 0.9062\n",
            "\n",
            "Start of epoch 549\n",
            "Training loss: 0.0004\n",
            "Training metric: 0.9683\n",
            "perturbation loss: 0.0018\n"
          ]
        },
        {
          "output_type": "stream",
          "name": "stderr",
          "text": [
            "\r 55%|█████▌    | 550/1000 [15:01<11:19,  1.51s/it]"
          ]
        },
        {
          "output_type": "stream",
          "name": "stdout",
          "text": [
            "Validation acc: 0.9141\n",
            "\n",
            "Start of epoch 550\n",
            "Training loss: 0.0003\n",
            "Training metric: 0.9684\n",
            "perturbation loss: 0.0004\n"
          ]
        },
        {
          "output_type": "stream",
          "name": "stderr",
          "text": [
            "\r 55%|█████▌    | 551/1000 [15:03<11:12,  1.50s/it]"
          ]
        },
        {
          "output_type": "stream",
          "name": "stdout",
          "text": [
            "Validation acc: 0.9609\n",
            "\n",
            "Start of epoch 551\n",
            "Training loss: 0.0001\n",
            "Training metric: 0.9684\n",
            "perturbation loss: 0.0006\n"
          ]
        },
        {
          "output_type": "stream",
          "name": "stderr",
          "text": [
            "\r 55%|█████▌    | 552/1000 [15:04<11:04,  1.48s/it]"
          ]
        },
        {
          "output_type": "stream",
          "name": "stdout",
          "text": [
            "Validation acc: 0.9609\n",
            "\n",
            "Start of epoch 552\n",
            "Training loss: 0.0001\n",
            "Training metric: 0.9685\n",
            "perturbation loss: 0.0010\n"
          ]
        },
        {
          "output_type": "stream",
          "name": "stderr",
          "text": [
            "\r 55%|█████▌    | 553/1000 [15:07<12:41,  1.70s/it]"
          ]
        },
        {
          "output_type": "stream",
          "name": "stdout",
          "text": [
            "Validation acc: 0.9688\n",
            "\n",
            "Start of epoch 553\n",
            "Training loss: 0.0001\n",
            "Training metric: 0.9685\n",
            "perturbation loss: 0.0003\n"
          ]
        },
        {
          "output_type": "stream",
          "name": "stderr",
          "text": [
            "\r 55%|█████▌    | 554/1000 [15:08<12:57,  1.74s/it]"
          ]
        },
        {
          "output_type": "stream",
          "name": "stdout",
          "text": [
            "Validation acc: 0.9688\n",
            "\n",
            "Start of epoch 554\n",
            "Training loss: 0.0003\n",
            "Training metric: 0.9686\n",
            "perturbation loss: 0.0012\n"
          ]
        },
        {
          "output_type": "stream",
          "name": "stderr",
          "text": [
            "\r 56%|█████▌    | 555/1000 [15:10<12:13,  1.65s/it]"
          ]
        },
        {
          "output_type": "stream",
          "name": "stdout",
          "text": [
            "Validation acc: 0.9766\n",
            "\n",
            "Start of epoch 555\n",
            "Training loss: 0.0001\n",
            "Training metric: 0.9686\n",
            "perturbation loss: 0.0010\n"
          ]
        },
        {
          "output_type": "stream",
          "name": "stderr",
          "text": [
            "\r 56%|█████▌    | 556/1000 [15:11<11:49,  1.60s/it]"
          ]
        },
        {
          "output_type": "stream",
          "name": "stdout",
          "text": [
            "Validation acc: 0.9688\n",
            "\n",
            "Start of epoch 556\n",
            "Training loss: 0.0001\n",
            "Training metric: 0.9687\n",
            "perturbation loss: 0.0002\n"
          ]
        },
        {
          "output_type": "stream",
          "name": "stderr",
          "text": [
            "\r 56%|█████▌    | 557/1000 [15:13<11:25,  1.55s/it]"
          ]
        },
        {
          "output_type": "stream",
          "name": "stdout",
          "text": [
            "Validation acc: 0.9531\n",
            "\n",
            "Start of epoch 557\n",
            "Training loss: 0.0001\n",
            "Training metric: 0.9688\n",
            "perturbation loss: 0.0006\n"
          ]
        },
        {
          "output_type": "stream",
          "name": "stderr",
          "text": [
            "\r 56%|█████▌    | 558/1000 [15:14<11:14,  1.53s/it]"
          ]
        },
        {
          "output_type": "stream",
          "name": "stdout",
          "text": [
            "Validation acc: 0.9688\n",
            "\n",
            "Start of epoch 558\n",
            "Training loss: 0.0000\n",
            "Training metric: 0.9688\n",
            "perturbation loss: 0.0001\n"
          ]
        },
        {
          "output_type": "stream",
          "name": "stderr",
          "text": [
            "\r 56%|█████▌    | 559/1000 [15:16<11:04,  1.51s/it]"
          ]
        },
        {
          "output_type": "stream",
          "name": "stdout",
          "text": [
            "Validation acc: 0.9609\n",
            "\n",
            "Start of epoch 559\n",
            "Training loss: 0.0000\n",
            "Training metric: 0.9689\n",
            "perturbation loss: 0.0001\n"
          ]
        },
        {
          "output_type": "stream",
          "name": "stderr",
          "text": [
            "\r 56%|█████▌    | 560/1000 [15:17<10:57,  1.49s/it]"
          ]
        },
        {
          "output_type": "stream",
          "name": "stdout",
          "text": [
            "Validation acc: 0.9609\n",
            "\n",
            "Start of epoch 560\n",
            "Training loss: 0.0000\n",
            "Training metric: 0.9689\n",
            "perturbation loss: 0.0001\n"
          ]
        },
        {
          "output_type": "stream",
          "name": "stderr",
          "text": [
            "\r 56%|█████▌    | 561/1000 [15:19<11:07,  1.52s/it]"
          ]
        },
        {
          "output_type": "stream",
          "name": "stdout",
          "text": [
            "Validation acc: 0.9688\n",
            "\n",
            "Start of epoch 561\n",
            "Training loss: 0.0000\n",
            "Training metric: 0.9690\n",
            "perturbation loss: 0.0001\n"
          ]
        },
        {
          "output_type": "stream",
          "name": "stderr",
          "text": [
            "\r 56%|█████▌    | 562/1000 [15:21<12:41,  1.74s/it]"
          ]
        },
        {
          "output_type": "stream",
          "name": "stdout",
          "text": [
            "Validation acc: 0.9609\n",
            "\n",
            "Start of epoch 562\n",
            "Training loss: 0.0000\n",
            "Training metric: 0.9690\n",
            "perturbation loss: 0.0002\n"
          ]
        },
        {
          "output_type": "stream",
          "name": "stderr",
          "text": [
            "\r 56%|█████▋    | 563/1000 [15:23<12:37,  1.73s/it]"
          ]
        },
        {
          "output_type": "stream",
          "name": "stdout",
          "text": [
            "Validation acc: 0.9688\n",
            "\n",
            "Start of epoch 563\n",
            "Training loss: 0.0000\n",
            "Training metric: 0.9691\n",
            "perturbation loss: 0.0001\n"
          ]
        },
        {
          "output_type": "stream",
          "name": "stderr",
          "text": [
            "\r 56%|█████▋    | 564/1000 [15:24<11:57,  1.64s/it]"
          ]
        },
        {
          "output_type": "stream",
          "name": "stdout",
          "text": [
            "Validation acc: 0.9688\n",
            "\n",
            "Start of epoch 564\n",
            "Training loss: 0.0001\n",
            "Training metric: 0.9691\n",
            "perturbation loss: 0.0001\n"
          ]
        },
        {
          "output_type": "stream",
          "name": "stderr",
          "text": [
            "\r 56%|█████▋    | 565/1000 [15:26<11:30,  1.59s/it]"
          ]
        },
        {
          "output_type": "stream",
          "name": "stdout",
          "text": [
            "Validation acc: 0.9688\n",
            "\n",
            "Start of epoch 565\n",
            "Training loss: 0.0000\n",
            "Training metric: 0.9692\n",
            "perturbation loss: 0.0000\n"
          ]
        },
        {
          "output_type": "stream",
          "name": "stderr",
          "text": [
            "\r 57%|█████▋    | 566/1000 [15:27<11:13,  1.55s/it]"
          ]
        },
        {
          "output_type": "stream",
          "name": "stdout",
          "text": [
            "Validation acc: 0.9688\n",
            "\n",
            "Start of epoch 566\n",
            "Training loss: 0.0000\n",
            "Training metric: 0.9693\n",
            "perturbation loss: 0.0000\n"
          ]
        },
        {
          "output_type": "stream",
          "name": "stderr",
          "text": [
            "\r 57%|█████▋    | 567/1000 [15:29<11:01,  1.53s/it]"
          ]
        },
        {
          "output_type": "stream",
          "name": "stdout",
          "text": [
            "Validation acc: 0.9609\n",
            "\n",
            "Start of epoch 567\n",
            "Training loss: 0.0000\n",
            "Training metric: 0.9693\n",
            "perturbation loss: 0.0001\n"
          ]
        },
        {
          "output_type": "stream",
          "name": "stderr",
          "text": [
            "\r 57%|█████▋    | 568/1000 [15:30<10:51,  1.51s/it]"
          ]
        },
        {
          "output_type": "stream",
          "name": "stdout",
          "text": [
            "Validation acc: 0.9688\n",
            "\n",
            "Start of epoch 568\n",
            "Training loss: 0.0001\n",
            "Training metric: 0.9694\n",
            "perturbation loss: 0.0012\n"
          ]
        },
        {
          "output_type": "stream",
          "name": "stderr",
          "text": [
            "\r 57%|█████▋    | 569/1000 [15:32<10:47,  1.50s/it]"
          ]
        },
        {
          "output_type": "stream",
          "name": "stdout",
          "text": [
            "Validation acc: 0.9688\n",
            "\n",
            "Start of epoch 569\n",
            "Training loss: 0.0000\n",
            "Training metric: 0.9694\n",
            "perturbation loss: 0.0000\n"
          ]
        },
        {
          "output_type": "stream",
          "name": "stderr",
          "text": [
            "\r 57%|█████▋    | 570/1000 [15:34<11:51,  1.65s/it]"
          ]
        },
        {
          "output_type": "stream",
          "name": "stdout",
          "text": [
            "Validation acc: 0.9609\n",
            "\n",
            "Start of epoch 570\n",
            "Training loss: 0.0000\n",
            "Training metric: 0.9695\n",
            "perturbation loss: 0.0001\n"
          ]
        },
        {
          "output_type": "stream",
          "name": "stderr",
          "text": [
            "\r 57%|█████▋    | 571/1000 [15:36<13:03,  1.83s/it]"
          ]
        },
        {
          "output_type": "stream",
          "name": "stdout",
          "text": [
            "Validation acc: 0.9688\n",
            "\n",
            "Start of epoch 571\n",
            "Training loss: 0.0000\n",
            "Training metric: 0.9695\n",
            "perturbation loss: 0.0000\n"
          ]
        },
        {
          "output_type": "stream",
          "name": "stderr",
          "text": [
            "\r 57%|█████▋    | 572/1000 [15:37<12:15,  1.72s/it]"
          ]
        },
        {
          "output_type": "stream",
          "name": "stdout",
          "text": [
            "Validation acc: 0.9609\n",
            "\n",
            "Start of epoch 572\n",
            "Training loss: 0.0000\n",
            "Training metric: 0.9696\n",
            "perturbation loss: 0.0000\n"
          ]
        },
        {
          "output_type": "stream",
          "name": "stderr",
          "text": [
            "\r 57%|█████▋    | 573/1000 [15:39<11:37,  1.63s/it]"
          ]
        },
        {
          "output_type": "stream",
          "name": "stdout",
          "text": [
            "Validation acc: 0.9609\n",
            "\n",
            "Start of epoch 573\n",
            "Training loss: 0.0000\n",
            "Training metric: 0.9696\n",
            "perturbation loss: 0.0000\n"
          ]
        },
        {
          "output_type": "stream",
          "name": "stderr",
          "text": [
            "\r 57%|█████▋    | 574/1000 [15:40<11:13,  1.58s/it]"
          ]
        },
        {
          "output_type": "stream",
          "name": "stdout",
          "text": [
            "Validation acc: 0.9609\n",
            "\n",
            "Start of epoch 574\n",
            "Training loss: 0.0001\n",
            "Training metric: 0.9697\n",
            "perturbation loss: 0.0008\n"
          ]
        },
        {
          "output_type": "stream",
          "name": "stderr",
          "text": [
            "\r 57%|█████▊    | 575/1000 [15:42<10:54,  1.54s/it]"
          ]
        },
        {
          "output_type": "stream",
          "name": "stdout",
          "text": [
            "Validation acc: 0.9531\n",
            "\n",
            "Start of epoch 575\n",
            "Training loss: 0.0000\n",
            "Training metric: 0.9697\n",
            "perturbation loss: 0.0003\n"
          ]
        },
        {
          "output_type": "stream",
          "name": "stderr",
          "text": [
            "\r 58%|█████▊    | 576/1000 [15:43<10:44,  1.52s/it]"
          ]
        },
        {
          "output_type": "stream",
          "name": "stdout",
          "text": [
            "Validation acc: 0.9766\n",
            "\n",
            "Start of epoch 576\n",
            "Training loss: 0.0000\n",
            "Training metric: 0.9698\n",
            "perturbation loss: 0.0000\n"
          ]
        },
        {
          "output_type": "stream",
          "name": "stderr",
          "text": [
            "\r 58%|█████▊    | 577/1000 [15:45<10:40,  1.51s/it]"
          ]
        },
        {
          "output_type": "stream",
          "name": "stdout",
          "text": [
            "Validation acc: 0.9531\n",
            "\n",
            "Start of epoch 577\n",
            "Training loss: 0.0000\n",
            "Training metric: 0.9698\n",
            "perturbation loss: 0.0010\n"
          ]
        },
        {
          "output_type": "stream",
          "name": "stderr",
          "text": [
            "\r 58%|█████▊    | 578/1000 [15:46<10:48,  1.54s/it]"
          ]
        },
        {
          "output_type": "stream",
          "name": "stdout",
          "text": [
            "Validation acc: 0.9688\n",
            "\n",
            "Start of epoch 578\n",
            "Training loss: 0.0000\n",
            "Training metric: 0.9699\n",
            "perturbation loss: 0.0001\n"
          ]
        },
        {
          "output_type": "stream",
          "name": "stderr",
          "text": [
            "\r 58%|█████▊    | 579/1000 [15:48<12:20,  1.76s/it]"
          ]
        },
        {
          "output_type": "stream",
          "name": "stdout",
          "text": [
            "Validation acc: 0.9766\n",
            "\n",
            "Start of epoch 579\n",
            "Training loss: 0.0013\n",
            "Training metric: 0.9699\n",
            "perturbation loss: 0.0144\n"
          ]
        },
        {
          "output_type": "stream",
          "name": "stderr",
          "text": [
            "\r 58%|█████▊    | 580/1000 [15:50<12:19,  1.76s/it]"
          ]
        },
        {
          "output_type": "stream",
          "name": "stdout",
          "text": [
            "Validation acc: 0.9766\n",
            "\n",
            "Start of epoch 580\n",
            "Training loss: 0.0000\n",
            "Training metric: 0.9700\n",
            "perturbation loss: 0.0001\n"
          ]
        },
        {
          "output_type": "stream",
          "name": "stderr",
          "text": [
            "\r 58%|█████▊    | 581/1000 [15:52<11:37,  1.67s/it]"
          ]
        },
        {
          "output_type": "stream",
          "name": "stdout",
          "text": [
            "Validation acc: 0.9844\n",
            "\n",
            "Start of epoch 581\n",
            "Training loss: 0.0000\n",
            "Training metric: 0.9700\n",
            "perturbation loss: 0.0000\n"
          ]
        },
        {
          "output_type": "stream",
          "name": "stderr",
          "text": [
            "\r 58%|█████▊    | 582/1000 [15:53<11:08,  1.60s/it]"
          ]
        },
        {
          "output_type": "stream",
          "name": "stdout",
          "text": [
            "Validation acc: 0.9688\n",
            "\n",
            "Start of epoch 582\n",
            "Training loss: 0.0001\n",
            "Training metric: 0.9701\n",
            "perturbation loss: 0.0015\n"
          ]
        },
        {
          "output_type": "stream",
          "name": "stderr",
          "text": [
            "\r 58%|█████▊    | 583/1000 [15:55<11:00,  1.58s/it]"
          ]
        },
        {
          "output_type": "stream",
          "name": "stdout",
          "text": [
            "Validation acc: 0.9688\n",
            "\n",
            "Start of epoch 583\n",
            "Training loss: 0.0000\n",
            "Training metric: 0.9701\n",
            "perturbation loss: 0.0000\n"
          ]
        },
        {
          "output_type": "stream",
          "name": "stderr",
          "text": [
            "\r 58%|█████▊    | 584/1000 [15:56<10:43,  1.55s/it]"
          ]
        },
        {
          "output_type": "stream",
          "name": "stdout",
          "text": [
            "Validation acc: 0.9688\n",
            "\n",
            "Start of epoch 584\n",
            "Training loss: 0.0000\n",
            "Training metric: 0.9702\n",
            "perturbation loss: 0.0005\n"
          ]
        },
        {
          "output_type": "stream",
          "name": "stderr",
          "text": [
            "\r 58%|█████▊    | 585/1000 [15:58<10:29,  1.52s/it]"
          ]
        },
        {
          "output_type": "stream",
          "name": "stdout",
          "text": [
            "Validation acc: 0.9766\n",
            "\n",
            "Start of epoch 585\n",
            "Training loss: 0.0000\n",
            "Training metric: 0.9702\n",
            "perturbation loss: 0.0002\n"
          ]
        },
        {
          "output_type": "stream",
          "name": "stderr",
          "text": [
            "\r 59%|█████▊    | 586/1000 [15:59<10:18,  1.49s/it]"
          ]
        },
        {
          "output_type": "stream",
          "name": "stdout",
          "text": [
            "Validation acc: 0.9688\n",
            "\n",
            "Start of epoch 586\n",
            "Training loss: 0.0000\n",
            "Training metric: 0.9703\n",
            "perturbation loss: 0.0000\n"
          ]
        },
        {
          "output_type": "stream",
          "name": "stderr",
          "text": [
            "\r 59%|█████▊    | 587/1000 [16:01<11:17,  1.64s/it]"
          ]
        },
        {
          "output_type": "stream",
          "name": "stdout",
          "text": [
            "Validation acc: 0.9766\n",
            "\n",
            "Start of epoch 587\n",
            "Training loss: 0.0000\n",
            "Training metric: 0.9703\n",
            "perturbation loss: 0.0000\n"
          ]
        },
        {
          "output_type": "stream",
          "name": "stderr",
          "text": [
            "\r 59%|█████▉    | 588/1000 [16:03<11:51,  1.73s/it]"
          ]
        },
        {
          "output_type": "stream",
          "name": "stdout",
          "text": [
            "Validation acc: 0.9609\n",
            "\n",
            "Start of epoch 588\n",
            "Training loss: 0.0000\n",
            "Training metric: 0.9704\n",
            "perturbation loss: 0.0001\n"
          ]
        },
        {
          "output_type": "stream",
          "name": "stderr",
          "text": [
            "\r 59%|█████▉    | 589/1000 [16:04<11:31,  1.68s/it]"
          ]
        },
        {
          "output_type": "stream",
          "name": "stdout",
          "text": [
            "Validation acc: 0.9688\n",
            "\n",
            "Start of epoch 589\n",
            "Training loss: 0.0000\n",
            "Training metric: 0.9704\n",
            "perturbation loss: 0.0000\n"
          ]
        },
        {
          "output_type": "stream",
          "name": "stderr",
          "text": [
            "\r 59%|█████▉    | 590/1000 [16:06<11:04,  1.62s/it]"
          ]
        },
        {
          "output_type": "stream",
          "name": "stdout",
          "text": [
            "Validation acc: 0.9688\n",
            "\n",
            "Start of epoch 590\n",
            "Training loss: 0.0000\n",
            "Training metric: 0.9705\n",
            "perturbation loss: 0.0001\n"
          ]
        },
        {
          "output_type": "stream",
          "name": "stderr",
          "text": [
            "\r 59%|█████▉    | 591/1000 [16:07<10:48,  1.59s/it]"
          ]
        },
        {
          "output_type": "stream",
          "name": "stdout",
          "text": [
            "Validation acc: 0.9688\n",
            "\n",
            "Start of epoch 591\n",
            "Training loss: 0.0000\n",
            "Training metric: 0.9705\n",
            "perturbation loss: 0.0004\n"
          ]
        },
        {
          "output_type": "stream",
          "name": "stderr",
          "text": [
            "\r 59%|█████▉    | 592/1000 [16:09<10:32,  1.55s/it]"
          ]
        },
        {
          "output_type": "stream",
          "name": "stdout",
          "text": [
            "Validation acc: 0.9844\n",
            "\n",
            "Start of epoch 592\n",
            "Training loss: 0.0001\n",
            "Training metric: 0.9706\n",
            "perturbation loss: 0.0001\n"
          ]
        },
        {
          "output_type": "stream",
          "name": "stderr",
          "text": [
            "\r 59%|█████▉    | 593/1000 [16:10<10:19,  1.52s/it]"
          ]
        },
        {
          "output_type": "stream",
          "name": "stdout",
          "text": [
            "Validation acc: 0.9766\n",
            "\n",
            "Start of epoch 593\n",
            "Training loss: 0.0001\n",
            "Training metric: 0.9706\n",
            "perturbation loss: 0.0015\n"
          ]
        },
        {
          "output_type": "stream",
          "name": "stderr",
          "text": [
            "\r 59%|█████▉    | 594/1000 [16:12<10:07,  1.50s/it]"
          ]
        },
        {
          "output_type": "stream",
          "name": "stdout",
          "text": [
            "Validation acc: 0.9766\n",
            "\n",
            "Start of epoch 594\n",
            "Training loss: 0.0016\n",
            "Training metric: 0.9707\n",
            "perturbation loss: 0.0092\n"
          ]
        },
        {
          "output_type": "stream",
          "name": "stderr",
          "text": [
            "\r 60%|█████▉    | 595/1000 [16:13<10:01,  1.49s/it]"
          ]
        },
        {
          "output_type": "stream",
          "name": "stdout",
          "text": [
            "Validation acc: 0.9375\n",
            "\n",
            "Start of epoch 595\n",
            "Training loss: 0.0001\n",
            "Training metric: 0.9707\n",
            "perturbation loss: 0.0008\n"
          ]
        },
        {
          "output_type": "stream",
          "name": "stderr",
          "text": [
            "\r 60%|█████▉    | 596/1000 [16:15<10:45,  1.60s/it]"
          ]
        },
        {
          "output_type": "stream",
          "name": "stdout",
          "text": [
            "Validation acc: 0.9453\n",
            "\n",
            "Start of epoch 596\n",
            "Training loss: 0.0012\n",
            "Training metric: 0.9708\n",
            "perturbation loss: 0.0024\n"
          ]
        },
        {
          "output_type": "stream",
          "name": "stderr",
          "text": [
            "\r 60%|█████▉    | 597/1000 [16:17<11:25,  1.70s/it]"
          ]
        },
        {
          "output_type": "stream",
          "name": "stdout",
          "text": [
            "Validation acc: 0.9531\n",
            "\n",
            "Start of epoch 597\n",
            "Training loss: 0.0000\n",
            "Training metric: 0.9708\n",
            "perturbation loss: 0.0004\n"
          ]
        },
        {
          "output_type": "stream",
          "name": "stderr",
          "text": [
            "\r 60%|█████▉    | 598/1000 [16:19<11:11,  1.67s/it]"
          ]
        },
        {
          "output_type": "stream",
          "name": "stdout",
          "text": [
            "Validation acc: 0.9688\n",
            "\n",
            "Start of epoch 598\n",
            "Training loss: 0.0002\n",
            "Training metric: 0.9709\n",
            "perturbation loss: 0.0021\n"
          ]
        },
        {
          "output_type": "stream",
          "name": "stderr",
          "text": [
            "\r 60%|█████▉    | 599/1000 [16:20<10:44,  1.61s/it]"
          ]
        },
        {
          "output_type": "stream",
          "name": "stdout",
          "text": [
            "Validation acc: 0.9531\n",
            "\n",
            "Start of epoch 599\n",
            "Training loss: 0.0000\n",
            "Training metric: 0.9709\n",
            "perturbation loss: 0.0001\n"
          ]
        },
        {
          "output_type": "stream",
          "name": "stderr",
          "text": [
            "\r 60%|██████    | 600/1000 [16:22<10:24,  1.56s/it]"
          ]
        },
        {
          "output_type": "stream",
          "name": "stdout",
          "text": [
            "Validation acc: 0.9531\n",
            "\n",
            "Start of epoch 600\n",
            "Training loss: 0.0004\n",
            "Training metric: 0.9710\n",
            "perturbation loss: 0.0077\n"
          ]
        },
        {
          "output_type": "stream",
          "name": "stderr",
          "text": [
            "\r 60%|██████    | 601/1000 [16:23<10:10,  1.53s/it]"
          ]
        },
        {
          "output_type": "stream",
          "name": "stdout",
          "text": [
            "Validation acc: 0.9531\n",
            "\n",
            "Start of epoch 601\n",
            "Training loss: 0.0000\n",
            "Training metric: 0.9710\n",
            "perturbation loss: 0.0002\n"
          ]
        },
        {
          "output_type": "stream",
          "name": "stderr",
          "text": [
            "\r 60%|██████    | 602/1000 [16:24<10:00,  1.51s/it]"
          ]
        },
        {
          "output_type": "stream",
          "name": "stdout",
          "text": [
            "Validation acc: 0.9531\n",
            "\n",
            "Start of epoch 602\n",
            "Training loss: 0.0000\n",
            "Training metric: 0.9711\n",
            "perturbation loss: 0.0001\n"
          ]
        },
        {
          "output_type": "stream",
          "name": "stderr",
          "text": [
            "\r 60%|██████    | 603/1000 [16:26<09:51,  1.49s/it]"
          ]
        },
        {
          "output_type": "stream",
          "name": "stdout",
          "text": [
            "Validation acc: 0.9609\n",
            "\n",
            "Start of epoch 603\n",
            "Training loss: 0.0000\n",
            "Training metric: 0.9711\n",
            "perturbation loss: 0.0001\n"
          ]
        },
        {
          "output_type": "stream",
          "name": "stderr",
          "text": [
            "\r 60%|██████    | 604/1000 [16:27<09:46,  1.48s/it]"
          ]
        },
        {
          "output_type": "stream",
          "name": "stdout",
          "text": [
            "Validation acc: 0.9688\n",
            "\n",
            "Start of epoch 604\n",
            "Training loss: 0.0000\n",
            "Training metric: 0.9712\n",
            "perturbation loss: 0.0001\n"
          ]
        },
        {
          "output_type": "stream",
          "name": "stderr",
          "text": [
            "\r 60%|██████    | 605/1000 [16:30<11:07,  1.69s/it]"
          ]
        },
        {
          "output_type": "stream",
          "name": "stdout",
          "text": [
            "Validation acc: 0.9766\n",
            "\n",
            "Start of epoch 605\n",
            "Training loss: 0.0000\n",
            "Training metric: 0.9712\n",
            "perturbation loss: 0.0003\n"
          ]
        },
        {
          "output_type": "stream",
          "name": "stderr",
          "text": [
            "\r 61%|██████    | 606/1000 [16:31<11:27,  1.75s/it]"
          ]
        },
        {
          "output_type": "stream",
          "name": "stdout",
          "text": [
            "Validation acc: 0.9609\n",
            "\n",
            "Start of epoch 606\n",
            "Training loss: 0.0000\n",
            "Training metric: 0.9713\n",
            "perturbation loss: 0.0001\n"
          ]
        },
        {
          "output_type": "stream",
          "name": "stderr",
          "text": [
            "\r 61%|██████    | 607/1000 [16:33<10:51,  1.66s/it]"
          ]
        },
        {
          "output_type": "stream",
          "name": "stdout",
          "text": [
            "Validation acc: 0.9688\n",
            "\n",
            "Start of epoch 607\n",
            "Training loss: 0.0000\n",
            "Training metric: 0.9713\n",
            "perturbation loss: 0.0001\n"
          ]
        },
        {
          "output_type": "stream",
          "name": "stderr",
          "text": [
            "\r 61%|██████    | 608/1000 [16:34<10:24,  1.59s/it]"
          ]
        },
        {
          "output_type": "stream",
          "name": "stdout",
          "text": [
            "Validation acc: 0.9531\n",
            "\n",
            "Start of epoch 608\n",
            "Training loss: 0.0000\n",
            "Training metric: 0.9714\n",
            "perturbation loss: 0.0000\n"
          ]
        },
        {
          "output_type": "stream",
          "name": "stderr",
          "text": [
            "\r 61%|██████    | 609/1000 [16:36<10:04,  1.55s/it]"
          ]
        },
        {
          "output_type": "stream",
          "name": "stdout",
          "text": [
            "Validation acc: 0.9688\n",
            "\n",
            "Start of epoch 609\n",
            "Training loss: 0.0000\n",
            "Training metric: 0.9714\n",
            "perturbation loss: 0.0002\n"
          ]
        },
        {
          "output_type": "stream",
          "name": "stderr",
          "text": [
            "\r 61%|██████    | 610/1000 [16:37<09:50,  1.51s/it]"
          ]
        },
        {
          "output_type": "stream",
          "name": "stdout",
          "text": [
            "Validation acc: 0.9609\n",
            "\n",
            "Start of epoch 610\n",
            "Training loss: 0.0000\n",
            "Training metric: 0.9715\n",
            "perturbation loss: 0.0000\n"
          ]
        },
        {
          "output_type": "stream",
          "name": "stderr",
          "text": [
            "\r 61%|██████    | 611/1000 [16:39<09:39,  1.49s/it]"
          ]
        },
        {
          "output_type": "stream",
          "name": "stdout",
          "text": [
            "Validation acc: 0.9688\n",
            "\n",
            "Start of epoch 611\n",
            "Training loss: 0.0000\n",
            "Training metric: 0.9715\n",
            "perturbation loss: 0.0000\n"
          ]
        },
        {
          "output_type": "stream",
          "name": "stderr",
          "text": [
            "\r 61%|██████    | 612/1000 [16:40<09:34,  1.48s/it]"
          ]
        },
        {
          "output_type": "stream",
          "name": "stdout",
          "text": [
            "Validation acc: 0.9531\n",
            "\n",
            "Start of epoch 612\n",
            "Training loss: 0.0000\n",
            "Training metric: 0.9715\n",
            "perturbation loss: 0.0000\n"
          ]
        },
        {
          "output_type": "stream",
          "name": "stderr",
          "text": [
            "\r 61%|██████▏   | 613/1000 [16:42<09:37,  1.49s/it]"
          ]
        },
        {
          "output_type": "stream",
          "name": "stdout",
          "text": [
            "Validation acc: 0.9609\n",
            "\n",
            "Start of epoch 613\n",
            "Training loss: 0.0000\n",
            "Training metric: 0.9716\n",
            "perturbation loss: 0.0000\n"
          ]
        },
        {
          "output_type": "stream",
          "name": "stderr",
          "text": [
            "\r 61%|██████▏   | 614/1000 [16:44<10:24,  1.62s/it]"
          ]
        },
        {
          "output_type": "stream",
          "name": "stdout",
          "text": [
            "Validation acc: 0.9531\n",
            "\n",
            "Start of epoch 614\n",
            "Training loss: 0.0000\n",
            "Training metric: 0.9716\n",
            "perturbation loss: 0.0001\n"
          ]
        },
        {
          "output_type": "stream",
          "name": "stderr",
          "text": [
            "\r 62%|██████▏   | 615/1000 [16:46<11:29,  1.79s/it]"
          ]
        },
        {
          "output_type": "stream",
          "name": "stdout",
          "text": [
            "Validation acc: 0.9688\n",
            "\n",
            "Start of epoch 615\n",
            "Training loss: 0.0000\n",
            "Training metric: 0.9717\n",
            "perturbation loss: 0.0001\n"
          ]
        },
        {
          "output_type": "stream",
          "name": "stderr",
          "text": [
            "\r 62%|██████▏   | 616/1000 [16:47<10:48,  1.69s/it]"
          ]
        },
        {
          "output_type": "stream",
          "name": "stdout",
          "text": [
            "Validation acc: 0.9766\n",
            "\n",
            "Start of epoch 616\n",
            "Training loss: 0.0000\n",
            "Training metric: 0.9717\n",
            "perturbation loss: 0.0000\n"
          ]
        },
        {
          "output_type": "stream",
          "name": "stderr",
          "text": [
            "\r 62%|██████▏   | 617/1000 [16:49<10:18,  1.62s/it]"
          ]
        },
        {
          "output_type": "stream",
          "name": "stdout",
          "text": [
            "Validation acc: 0.9688\n",
            "\n",
            "Start of epoch 617\n",
            "Training loss: 0.0001\n",
            "Training metric: 0.9718\n",
            "perturbation loss: 0.0001\n"
          ]
        },
        {
          "output_type": "stream",
          "name": "stderr",
          "text": [
            "\r 62%|██████▏   | 618/1000 [16:50<10:05,  1.58s/it]"
          ]
        },
        {
          "output_type": "stream",
          "name": "stdout",
          "text": [
            "Validation acc: 0.9688\n",
            "\n",
            "Start of epoch 618\n",
            "Training loss: 0.0001\n",
            "Training metric: 0.9718\n",
            "perturbation loss: 0.0019\n"
          ]
        },
        {
          "output_type": "stream",
          "name": "stderr",
          "text": [
            "\r 62%|██████▏   | 619/1000 [16:52<09:50,  1.55s/it]"
          ]
        },
        {
          "output_type": "stream",
          "name": "stdout",
          "text": [
            "Validation acc: 0.9688\n",
            "\n",
            "Start of epoch 619\n",
            "Training loss: 0.0002\n",
            "Training metric: 0.9719\n",
            "perturbation loss: 0.0049\n"
          ]
        },
        {
          "output_type": "stream",
          "name": "stderr",
          "text": [
            "\r 62%|██████▏   | 620/1000 [16:53<09:39,  1.53s/it]"
          ]
        },
        {
          "output_type": "stream",
          "name": "stdout",
          "text": [
            "Validation acc: 0.9531\n",
            "\n",
            "Start of epoch 620\n",
            "Training loss: 0.0003\n",
            "Training metric: 0.9719\n",
            "perturbation loss: 0.0006\n"
          ]
        },
        {
          "output_type": "stream",
          "name": "stderr",
          "text": [
            "\r 62%|██████▏   | 621/1000 [16:55<09:29,  1.50s/it]"
          ]
        },
        {
          "output_type": "stream",
          "name": "stdout",
          "text": [
            "Validation acc: 0.9609\n",
            "\n",
            "Start of epoch 621\n",
            "Training loss: 0.0001\n",
            "Training metric: 0.9720\n",
            "perturbation loss: 0.0012\n"
          ]
        },
        {
          "output_type": "stream",
          "name": "stderr",
          "text": [
            "\r 62%|██████▏   | 622/1000 [16:57<10:23,  1.65s/it]"
          ]
        },
        {
          "output_type": "stream",
          "name": "stdout",
          "text": [
            "Validation acc: 0.9609\n",
            "\n",
            "Start of epoch 622\n",
            "Training loss: 0.0000\n",
            "Training metric: 0.9720\n",
            "perturbation loss: 0.0002\n"
          ]
        },
        {
          "output_type": "stream",
          "name": "stderr",
          "text": [
            "\r 62%|██████▏   | 623/1000 [16:58<10:53,  1.73s/it]"
          ]
        },
        {
          "output_type": "stream",
          "name": "stdout",
          "text": [
            "Validation acc: 0.9609\n",
            "\n",
            "Start of epoch 623\n",
            "Training loss: 0.0001\n",
            "Training metric: 0.9720\n",
            "perturbation loss: 0.0003\n"
          ]
        },
        {
          "output_type": "stream",
          "name": "stderr",
          "text": [
            "\r 62%|██████▏   | 624/1000 [17:00<10:39,  1.70s/it]"
          ]
        },
        {
          "output_type": "stream",
          "name": "stdout",
          "text": [
            "Validation acc: 0.9609\n",
            "\n",
            "Start of epoch 624\n",
            "Training loss: 0.0000\n",
            "Training metric: 0.9721\n",
            "perturbation loss: 0.0001\n"
          ]
        },
        {
          "output_type": "stream",
          "name": "stderr",
          "text": [
            "\r 62%|██████▎   | 625/1000 [17:02<10:10,  1.63s/it]"
          ]
        },
        {
          "output_type": "stream",
          "name": "stdout",
          "text": [
            "Validation acc: 0.9609\n",
            "\n",
            "Start of epoch 625\n",
            "Training loss: 0.0000\n",
            "Training metric: 0.9721\n",
            "perturbation loss: 0.0001\n"
          ]
        },
        {
          "output_type": "stream",
          "name": "stderr",
          "text": [
            "\r 63%|██████▎   | 626/1000 [17:03<09:48,  1.57s/it]"
          ]
        },
        {
          "output_type": "stream",
          "name": "stdout",
          "text": [
            "Validation acc: 0.9688\n",
            "\n",
            "Start of epoch 626\n",
            "Training loss: 0.0001\n",
            "Training metric: 0.9722\n",
            "perturbation loss: 0.0012\n"
          ]
        },
        {
          "output_type": "stream",
          "name": "stderr",
          "text": [
            "\r 63%|██████▎   | 627/1000 [17:04<09:33,  1.54s/it]"
          ]
        },
        {
          "output_type": "stream",
          "name": "stdout",
          "text": [
            "Validation acc: 0.9688\n",
            "\n",
            "Start of epoch 627\n",
            "Training loss: 0.0000\n",
            "Training metric: 0.9722\n",
            "perturbation loss: 0.0007\n"
          ]
        },
        {
          "output_type": "stream",
          "name": "stderr",
          "text": [
            "\r 63%|██████▎   | 628/1000 [17:06<09:22,  1.51s/it]"
          ]
        },
        {
          "output_type": "stream",
          "name": "stdout",
          "text": [
            "Validation acc: 0.9688\n",
            "\n",
            "Start of epoch 628\n",
            "Training loss: 0.0000\n",
            "Training metric: 0.9723\n",
            "perturbation loss: 0.0002\n"
          ]
        },
        {
          "output_type": "stream",
          "name": "stderr",
          "text": [
            "\r 63%|██████▎   | 629/1000 [17:07<09:11,  1.49s/it]"
          ]
        },
        {
          "output_type": "stream",
          "name": "stdout",
          "text": [
            "Validation acc: 0.9688\n",
            "\n",
            "Start of epoch 629\n",
            "Training loss: 0.0000\n",
            "Training metric: 0.9723\n",
            "perturbation loss: 0.0001\n"
          ]
        },
        {
          "output_type": "stream",
          "name": "stderr",
          "text": [
            "\r 63%|██████▎   | 630/1000 [17:09<09:08,  1.48s/it]"
          ]
        },
        {
          "output_type": "stream",
          "name": "stdout",
          "text": [
            "Validation acc: 0.9844\n",
            "\n",
            "Start of epoch 630\n",
            "Training loss: 0.0000\n",
            "Training metric: 0.9724\n",
            "perturbation loss: 0.0000\n"
          ]
        },
        {
          "output_type": "stream",
          "name": "stderr",
          "text": [
            "\r 63%|██████▎   | 631/1000 [17:11<09:42,  1.58s/it]"
          ]
        },
        {
          "output_type": "stream",
          "name": "stdout",
          "text": [
            "Validation acc: 0.9688\n",
            "\n",
            "Start of epoch 631\n",
            "Training loss: 0.0000\n",
            "Training metric: 0.9724\n",
            "perturbation loss: 0.0000\n"
          ]
        },
        {
          "output_type": "stream",
          "name": "stderr",
          "text": [
            "\r 63%|██████▎   | 632/1000 [17:13<10:16,  1.68s/it]"
          ]
        },
        {
          "output_type": "stream",
          "name": "stdout",
          "text": [
            "Validation acc: 0.9609\n",
            "\n",
            "Start of epoch 632\n",
            "Training loss: 0.0000\n",
            "Training metric: 0.9724\n",
            "perturbation loss: 0.0002\n"
          ]
        },
        {
          "output_type": "stream",
          "name": "stderr",
          "text": [
            "\r 63%|██████▎   | 633/1000 [17:14<10:09,  1.66s/it]"
          ]
        },
        {
          "output_type": "stream",
          "name": "stdout",
          "text": [
            "Validation acc: 0.9688\n",
            "\n",
            "Start of epoch 633\n",
            "Training loss: 0.0001\n",
            "Training metric: 0.9725\n",
            "perturbation loss: 0.0030\n"
          ]
        },
        {
          "output_type": "stream",
          "name": "stderr",
          "text": [
            "\r 63%|██████▎   | 634/1000 [17:16<09:46,  1.60s/it]"
          ]
        },
        {
          "output_type": "stream",
          "name": "stdout",
          "text": [
            "Validation acc: 0.9297\n",
            "\n",
            "Start of epoch 634\n",
            "Training loss: 0.0021\n",
            "Training metric: 0.9725\n",
            "perturbation loss: 0.0104\n"
          ]
        },
        {
          "output_type": "stream",
          "name": "stderr",
          "text": [
            "\r 64%|██████▎   | 635/1000 [17:17<09:30,  1.56s/it]"
          ]
        },
        {
          "output_type": "stream",
          "name": "stdout",
          "text": [
            "Validation acc: 0.9219\n",
            "\n",
            "Start of epoch 635\n",
            "Training loss: 0.0001\n",
            "Training metric: 0.9726\n",
            "perturbation loss: 0.0017\n"
          ]
        },
        {
          "output_type": "stream",
          "name": "stderr",
          "text": [
            "\r 64%|██████▎   | 636/1000 [17:19<09:16,  1.53s/it]"
          ]
        },
        {
          "output_type": "stream",
          "name": "stdout",
          "text": [
            "Validation acc: 0.9609\n",
            "\n",
            "Start of epoch 636\n",
            "Training loss: 0.0001\n",
            "Training metric: 0.9726\n",
            "perturbation loss: 0.0012\n"
          ]
        },
        {
          "output_type": "stream",
          "name": "stderr",
          "text": [
            "\r 64%|██████▎   | 637/1000 [17:20<09:10,  1.52s/it]"
          ]
        },
        {
          "output_type": "stream",
          "name": "stdout",
          "text": [
            "Validation acc: 0.9688\n",
            "\n",
            "Start of epoch 637\n",
            "Training loss: 0.0003\n",
            "Training metric: 0.9727\n",
            "perturbation loss: 0.0053\n"
          ]
        },
        {
          "output_type": "stream",
          "name": "stderr",
          "text": [
            "\r 64%|██████▍   | 638/1000 [17:21<08:59,  1.49s/it]"
          ]
        },
        {
          "output_type": "stream",
          "name": "stdout",
          "text": [
            "Validation acc: 0.9609\n",
            "\n",
            "Start of epoch 638\n",
            "Training loss: 0.0008\n",
            "Training metric: 0.9727\n",
            "perturbation loss: 0.0016\n"
          ]
        },
        {
          "output_type": "stream",
          "name": "stderr",
          "text": [
            "\r 64%|██████▍   | 639/1000 [17:23<08:53,  1.48s/it]"
          ]
        },
        {
          "output_type": "stream",
          "name": "stdout",
          "text": [
            "Validation acc: 0.9609\n",
            "\n",
            "Start of epoch 639\n",
            "Training loss: 0.0014\n",
            "Training metric: 0.9727\n",
            "perturbation loss: 0.0416\n"
          ]
        },
        {
          "output_type": "stream",
          "name": "stderr",
          "text": [
            "\r 64%|██████▍   | 640/1000 [17:25<09:57,  1.66s/it]"
          ]
        },
        {
          "output_type": "stream",
          "name": "stdout",
          "text": [
            "Validation acc: 0.9375\n",
            "\n",
            "Start of epoch 640\n",
            "Training loss: 0.0003\n",
            "Training metric: 0.9728\n",
            "perturbation loss: 0.0087\n"
          ]
        },
        {
          "output_type": "stream",
          "name": "stderr",
          "text": [
            "\r 64%|██████▍   | 641/1000 [17:27<10:58,  1.83s/it]"
          ]
        },
        {
          "output_type": "stream",
          "name": "stdout",
          "text": [
            "Validation acc: 0.9609\n",
            "\n",
            "Start of epoch 641\n",
            "Training loss: 0.0064\n",
            "Training metric: 0.9728\n",
            "perturbation loss: 0.0077\n"
          ]
        },
        {
          "output_type": "stream",
          "name": "stderr",
          "text": [
            "\r 64%|██████▍   | 642/1000 [17:29<10:18,  1.73s/it]"
          ]
        },
        {
          "output_type": "stream",
          "name": "stdout",
          "text": [
            "Validation acc: 0.9453\n",
            "\n",
            "Start of epoch 642\n",
            "Training loss: 0.0000\n",
            "Training metric: 0.9729\n",
            "perturbation loss: 0.0010\n"
          ]
        },
        {
          "output_type": "stream",
          "name": "stderr",
          "text": [
            "\r 64%|██████▍   | 643/1000 [17:30<09:51,  1.66s/it]"
          ]
        },
        {
          "output_type": "stream",
          "name": "stdout",
          "text": [
            "Validation acc: 0.9609\n",
            "\n",
            "Start of epoch 643\n",
            "Training loss: 0.0000\n",
            "Training metric: 0.9729\n",
            "perturbation loss: 0.0000\n"
          ]
        },
        {
          "output_type": "stream",
          "name": "stderr",
          "text": [
            "\r 64%|██████▍   | 644/1000 [17:32<09:26,  1.59s/it]"
          ]
        },
        {
          "output_type": "stream",
          "name": "stdout",
          "text": [
            "Validation acc: 0.9531\n",
            "\n",
            "Start of epoch 644\n",
            "Training loss: 0.0000\n",
            "Training metric: 0.9730\n",
            "perturbation loss: 0.0003\n"
          ]
        },
        {
          "output_type": "stream",
          "name": "stderr",
          "text": [
            "\r 64%|██████▍   | 645/1000 [17:33<09:14,  1.56s/it]"
          ]
        },
        {
          "output_type": "stream",
          "name": "stdout",
          "text": [
            "Validation acc: 0.9609\n",
            "\n",
            "Start of epoch 645\n",
            "Training loss: 0.0000\n",
            "Training metric: 0.9730\n",
            "perturbation loss: 0.0001\n"
          ]
        },
        {
          "output_type": "stream",
          "name": "stderr",
          "text": [
            "\r 65%|██████▍   | 646/1000 [17:35<09:05,  1.54s/it]"
          ]
        },
        {
          "output_type": "stream",
          "name": "stdout",
          "text": [
            "Validation acc: 0.9609\n",
            "\n",
            "Start of epoch 646\n",
            "Training loss: 0.0000\n",
            "Training metric: 0.9730\n",
            "perturbation loss: 0.0001\n"
          ]
        },
        {
          "output_type": "stream",
          "name": "stderr",
          "text": [
            "\r 65%|██████▍   | 647/1000 [17:36<08:56,  1.52s/it]"
          ]
        },
        {
          "output_type": "stream",
          "name": "stdout",
          "text": [
            "Validation acc: 0.9766\n",
            "\n",
            "Start of epoch 647\n",
            "Training loss: 0.0002\n",
            "Training metric: 0.9731\n",
            "perturbation loss: 0.0027\n"
          ]
        },
        {
          "output_type": "stream",
          "name": "stderr",
          "text": [
            "\r 65%|██████▍   | 648/1000 [17:38<09:11,  1.57s/it]"
          ]
        },
        {
          "output_type": "stream",
          "name": "stdout",
          "text": [
            "Validation acc: 0.9688\n",
            "\n",
            "Start of epoch 648\n",
            "Training loss: 0.0000\n",
            "Training metric: 0.9731\n",
            "perturbation loss: 0.0000\n"
          ]
        },
        {
          "output_type": "stream",
          "name": "stderr",
          "text": [
            "\r 65%|██████▍   | 649/1000 [17:40<10:24,  1.78s/it]"
          ]
        },
        {
          "output_type": "stream",
          "name": "stdout",
          "text": [
            "Validation acc: 0.9766\n",
            "\n",
            "Start of epoch 649\n",
            "Training loss: 0.0001\n",
            "Training metric: 0.9732\n",
            "perturbation loss: 0.0011\n"
          ]
        },
        {
          "output_type": "stream",
          "name": "stderr",
          "text": [
            "\r 65%|██████▌   | 650/1000 [17:42<10:12,  1.75s/it]"
          ]
        },
        {
          "output_type": "stream",
          "name": "stdout",
          "text": [
            "Validation acc: 0.9609\n",
            "\n",
            "Start of epoch 650\n",
            "Training loss: 0.0002\n",
            "Training metric: 0.9732\n",
            "perturbation loss: 0.0062\n"
          ]
        },
        {
          "output_type": "stream",
          "name": "stderr",
          "text": [
            "\r 65%|██████▌   | 651/1000 [17:43<09:45,  1.68s/it]"
          ]
        },
        {
          "output_type": "stream",
          "name": "stdout",
          "text": [
            "Validation acc: 0.9688\n",
            "\n",
            "Start of epoch 651\n",
            "Training loss: 0.0000\n",
            "Training metric: 0.9732\n",
            "perturbation loss: 0.0003\n"
          ]
        },
        {
          "output_type": "stream",
          "name": "stderr",
          "text": [
            "\r 65%|██████▌   | 652/1000 [17:45<09:20,  1.61s/it]"
          ]
        },
        {
          "output_type": "stream",
          "name": "stdout",
          "text": [
            "Validation acc: 0.9688\n",
            "\n",
            "Start of epoch 652\n",
            "Training loss: 0.0000\n",
            "Training metric: 0.9733\n",
            "perturbation loss: 0.0000\n"
          ]
        },
        {
          "output_type": "stream",
          "name": "stderr",
          "text": [
            "\r 65%|██████▌   | 653/1000 [17:46<09:03,  1.57s/it]"
          ]
        },
        {
          "output_type": "stream",
          "name": "stdout",
          "text": [
            "Validation acc: 0.9531\n",
            "\n",
            "Start of epoch 653\n",
            "Training loss: 0.0000\n",
            "Training metric: 0.9733\n",
            "perturbation loss: 0.0003\n"
          ]
        },
        {
          "output_type": "stream",
          "name": "stderr",
          "text": [
            "\r 65%|██████▌   | 654/1000 [17:48<08:51,  1.54s/it]"
          ]
        },
        {
          "output_type": "stream",
          "name": "stdout",
          "text": [
            "Validation acc: 0.9766\n",
            "\n",
            "Start of epoch 654\n",
            "Training loss: 0.0000\n",
            "Training metric: 0.9734\n",
            "perturbation loss: 0.0000\n"
          ]
        },
        {
          "output_type": "stream",
          "name": "stderr",
          "text": [
            "\r 66%|██████▌   | 655/1000 [17:49<08:49,  1.54s/it]"
          ]
        },
        {
          "output_type": "stream",
          "name": "stdout",
          "text": [
            "Validation acc: 0.9609\n",
            "\n",
            "Start of epoch 655\n",
            "Training loss: 0.0000\n",
            "Training metric: 0.9734\n",
            "perturbation loss: 0.0000\n"
          ]
        },
        {
          "output_type": "stream",
          "name": "stderr",
          "text": [
            "\r 66%|██████▌   | 656/1000 [17:51<08:46,  1.53s/it]"
          ]
        },
        {
          "output_type": "stream",
          "name": "stdout",
          "text": [
            "Validation acc: 0.9688\n",
            "\n",
            "Start of epoch 656\n",
            "Training loss: 0.0000\n",
            "Training metric: 0.9734\n",
            "perturbation loss: 0.0000\n"
          ]
        },
        {
          "output_type": "stream",
          "name": "stderr",
          "text": [
            "\r 66%|██████▌   | 657/1000 [17:53<09:48,  1.72s/it]"
          ]
        },
        {
          "output_type": "stream",
          "name": "stdout",
          "text": [
            "Validation acc: 0.9531\n",
            "\n",
            "Start of epoch 657\n",
            "Training loss: 0.0000\n",
            "Training metric: 0.9735\n",
            "perturbation loss: 0.0001\n"
          ]
        },
        {
          "output_type": "stream",
          "name": "stderr",
          "text": [
            "\r 66%|██████▌   | 658/1000 [17:55<10:12,  1.79s/it]"
          ]
        },
        {
          "output_type": "stream",
          "name": "stdout",
          "text": [
            "Validation acc: 0.9688\n",
            "\n",
            "Start of epoch 658\n",
            "Training loss: 0.0000\n",
            "Training metric: 0.9735\n",
            "perturbation loss: 0.0004\n"
          ]
        },
        {
          "output_type": "stream",
          "name": "stderr",
          "text": [
            "\r 66%|██████▌   | 659/1000 [17:56<09:43,  1.71s/it]"
          ]
        },
        {
          "output_type": "stream",
          "name": "stdout",
          "text": [
            "Validation acc: 0.9609\n",
            "\n",
            "Start of epoch 659\n",
            "Training loss: 0.0000\n",
            "Training metric: 0.9736\n",
            "perturbation loss: 0.0000\n"
          ]
        },
        {
          "output_type": "stream",
          "name": "stderr",
          "text": [
            "\r 66%|██████▌   | 660/1000 [17:58<09:15,  1.63s/it]"
          ]
        },
        {
          "output_type": "stream",
          "name": "stdout",
          "text": [
            "Validation acc: 0.9609\n",
            "\n",
            "Start of epoch 660\n",
            "Training loss: 0.0000\n",
            "Training metric: 0.9736\n",
            "perturbation loss: 0.0001\n"
          ]
        },
        {
          "output_type": "stream",
          "name": "stderr",
          "text": [
            "\r 66%|██████▌   | 661/1000 [17:59<08:59,  1.59s/it]"
          ]
        },
        {
          "output_type": "stream",
          "name": "stdout",
          "text": [
            "Validation acc: 0.9688\n",
            "\n",
            "Start of epoch 661\n",
            "Training loss: 0.0000\n",
            "Training metric: 0.9736\n",
            "perturbation loss: 0.0000\n"
          ]
        },
        {
          "output_type": "stream",
          "name": "stderr",
          "text": [
            "\r 66%|██████▌   | 662/1000 [18:01<08:45,  1.55s/it]"
          ]
        },
        {
          "output_type": "stream",
          "name": "stdout",
          "text": [
            "Validation acc: 0.9453\n",
            "\n",
            "Start of epoch 662\n",
            "Training loss: 0.0000\n",
            "Training metric: 0.9737\n",
            "perturbation loss: 0.0000\n"
          ]
        },
        {
          "output_type": "stream",
          "name": "stderr",
          "text": [
            "\r 66%|██████▋   | 663/1000 [18:02<08:35,  1.53s/it]"
          ]
        },
        {
          "output_type": "stream",
          "name": "stdout",
          "text": [
            "Validation acc: 0.9609\n",
            "\n",
            "Start of epoch 663\n",
            "Training loss: 0.0000\n",
            "Training metric: 0.9737\n",
            "perturbation loss: 0.0000\n"
          ]
        },
        {
          "output_type": "stream",
          "name": "stderr",
          "text": [
            "\r 66%|██████▋   | 664/1000 [18:04<08:30,  1.52s/it]"
          ]
        },
        {
          "output_type": "stream",
          "name": "stdout",
          "text": [
            "Validation acc: 0.9688\n",
            "\n",
            "Start of epoch 664\n",
            "Training loss: 0.0000\n",
            "Training metric: 0.9738\n",
            "perturbation loss: 0.0002\n"
          ]
        },
        {
          "output_type": "stream",
          "name": "stderr",
          "text": [
            "\r 66%|██████▋   | 665/1000 [18:06<09:06,  1.63s/it]"
          ]
        },
        {
          "output_type": "stream",
          "name": "stdout",
          "text": [
            "Validation acc: 0.9688\n",
            "\n",
            "Start of epoch 665\n",
            "Training loss: 0.0000\n",
            "Training metric: 0.9738\n",
            "perturbation loss: 0.0001\n"
          ]
        },
        {
          "output_type": "stream",
          "name": "stderr",
          "text": [
            "\r 67%|██████▋   | 666/1000 [18:08<09:41,  1.74s/it]"
          ]
        },
        {
          "output_type": "stream",
          "name": "stdout",
          "text": [
            "Validation acc: 0.9688\n",
            "\n",
            "Start of epoch 666\n",
            "Training loss: 0.0000\n",
            "Training metric: 0.9738\n",
            "perturbation loss: 0.0000\n"
          ]
        },
        {
          "output_type": "stream",
          "name": "stderr",
          "text": [
            "\r 67%|██████▋   | 667/1000 [18:09<09:36,  1.73s/it]"
          ]
        },
        {
          "output_type": "stream",
          "name": "stdout",
          "text": [
            "Validation acc: 0.9688\n",
            "\n",
            "Start of epoch 667\n",
            "Training loss: 0.0000\n",
            "Training metric: 0.9739\n",
            "perturbation loss: 0.0000\n"
          ]
        },
        {
          "output_type": "stream",
          "name": "stderr",
          "text": [
            "\r 67%|██████▋   | 668/1000 [18:11<09:09,  1.66s/it]"
          ]
        },
        {
          "output_type": "stream",
          "name": "stdout",
          "text": [
            "Validation acc: 0.9609\n",
            "\n",
            "Start of epoch 668\n",
            "Training loss: 0.0000\n",
            "Training metric: 0.9739\n",
            "perturbation loss: 0.0000\n"
          ]
        },
        {
          "output_type": "stream",
          "name": "stderr",
          "text": [
            "\r 67%|██████▋   | 669/1000 [18:12<08:54,  1.62s/it]"
          ]
        },
        {
          "output_type": "stream",
          "name": "stdout",
          "text": [
            "Validation acc: 0.9609\n",
            "\n",
            "Start of epoch 669\n",
            "Training loss: 0.0000\n",
            "Training metric: 0.9740\n",
            "perturbation loss: 0.0000\n"
          ]
        },
        {
          "output_type": "stream",
          "name": "stderr",
          "text": [
            "\r 67%|██████▋   | 670/1000 [18:14<08:39,  1.58s/it]"
          ]
        },
        {
          "output_type": "stream",
          "name": "stdout",
          "text": [
            "Validation acc: 0.9609\n",
            "\n",
            "Start of epoch 670\n",
            "Training loss: 0.0005\n",
            "Training metric: 0.9740\n",
            "perturbation loss: 0.0001\n"
          ]
        },
        {
          "output_type": "stream",
          "name": "stderr",
          "text": [
            "\r 67%|██████▋   | 671/1000 [18:15<08:33,  1.56s/it]"
          ]
        },
        {
          "output_type": "stream",
          "name": "stdout",
          "text": [
            "Validation acc: 0.9531\n",
            "\n",
            "Start of epoch 671\n",
            "Training loss: 0.0012\n",
            "Training metric: 0.9740\n",
            "perturbation loss: 0.0092\n"
          ]
        },
        {
          "output_type": "stream",
          "name": "stderr",
          "text": [
            "\r 67%|██████▋   | 672/1000 [18:17<08:23,  1.53s/it]"
          ]
        },
        {
          "output_type": "stream",
          "name": "stdout",
          "text": [
            "Validation acc: 0.9609\n",
            "\n",
            "Start of epoch 672\n",
            "Training loss: 0.0003\n",
            "Training metric: 0.9741\n",
            "perturbation loss: 0.0012\n"
          ]
        },
        {
          "output_type": "stream",
          "name": "stderr",
          "text": [
            "\r 67%|██████▋   | 673/1000 [18:18<08:16,  1.52s/it]"
          ]
        },
        {
          "output_type": "stream",
          "name": "stdout",
          "text": [
            "Validation acc: 0.9531\n",
            "\n",
            "Start of epoch 673\n",
            "Training loss: 0.0000\n",
            "Training metric: 0.9741\n",
            "perturbation loss: 0.0001\n"
          ]
        },
        {
          "output_type": "stream",
          "name": "stderr",
          "text": [
            "\r 67%|██████▋   | 674/1000 [18:20<08:54,  1.64s/it]"
          ]
        },
        {
          "output_type": "stream",
          "name": "stdout",
          "text": [
            "Validation acc: 0.9609\n",
            "\n",
            "Start of epoch 674\n",
            "Training loss: 0.0000\n",
            "Training metric: 0.9741\n",
            "perturbation loss: 0.0000\n"
          ]
        },
        {
          "output_type": "stream",
          "name": "stderr",
          "text": [
            "\r 68%|██████▊   | 675/1000 [18:22<09:27,  1.75s/it]"
          ]
        },
        {
          "output_type": "stream",
          "name": "stdout",
          "text": [
            "Validation acc: 0.9688\n",
            "\n",
            "Start of epoch 675\n",
            "Training loss: 0.0000\n",
            "Training metric: 0.9742\n",
            "perturbation loss: 0.0000\n"
          ]
        },
        {
          "output_type": "stream",
          "name": "stderr",
          "text": [
            "\r 68%|██████▊   | 676/1000 [18:24<09:10,  1.70s/it]"
          ]
        },
        {
          "output_type": "stream",
          "name": "stdout",
          "text": [
            "Validation acc: 0.9688\n",
            "\n",
            "Start of epoch 676\n",
            "Training loss: 0.0000\n",
            "Training metric: 0.9742\n",
            "perturbation loss: 0.0006\n"
          ]
        },
        {
          "output_type": "stream",
          "name": "stderr",
          "text": [
            "\r 68%|██████▊   | 677/1000 [18:25<08:47,  1.63s/it]"
          ]
        },
        {
          "output_type": "stream",
          "name": "stdout",
          "text": [
            "Validation acc: 0.9688\n",
            "\n",
            "Start of epoch 677\n",
            "Training loss: 0.0000\n",
            "Training metric: 0.9743\n",
            "perturbation loss: 0.0000\n"
          ]
        },
        {
          "output_type": "stream",
          "name": "stderr",
          "text": [
            "\r 68%|██████▊   | 678/1000 [18:27<08:28,  1.58s/it]"
          ]
        },
        {
          "output_type": "stream",
          "name": "stdout",
          "text": [
            "Validation acc: 0.9609\n",
            "\n",
            "Start of epoch 678\n",
            "Training loss: 0.0000\n",
            "Training metric: 0.9743\n",
            "perturbation loss: 0.0000\n"
          ]
        },
        {
          "output_type": "stream",
          "name": "stderr",
          "text": [
            "\r 68%|██████▊   | 679/1000 [18:28<08:21,  1.56s/it]"
          ]
        },
        {
          "output_type": "stream",
          "name": "stdout",
          "text": [
            "Validation acc: 0.9609\n",
            "\n",
            "Start of epoch 679\n",
            "Training loss: 0.0000\n",
            "Training metric: 0.9743\n",
            "perturbation loss: 0.0000\n"
          ]
        },
        {
          "output_type": "stream",
          "name": "stderr",
          "text": [
            "\r 68%|██████▊   | 680/1000 [18:30<08:12,  1.54s/it]"
          ]
        },
        {
          "output_type": "stream",
          "name": "stdout",
          "text": [
            "Validation acc: 0.9609\n",
            "\n",
            "Start of epoch 680\n",
            "Training loss: 0.0000\n",
            "Training metric: 0.9744\n",
            "perturbation loss: 0.0000\n"
          ]
        },
        {
          "output_type": "stream",
          "name": "stderr",
          "text": [
            "\r 68%|██████▊   | 681/1000 [18:31<08:07,  1.53s/it]"
          ]
        },
        {
          "output_type": "stream",
          "name": "stdout",
          "text": [
            "Validation acc: 0.9609\n",
            "\n",
            "Start of epoch 681\n",
            "Training loss: 0.0000\n",
            "Training metric: 0.9744\n",
            "perturbation loss: 0.0000\n"
          ]
        },
        {
          "output_type": "stream",
          "name": "stderr",
          "text": [
            "\r 68%|██████▊   | 682/1000 [18:33<08:07,  1.53s/it]"
          ]
        },
        {
          "output_type": "stream",
          "name": "stdout",
          "text": [
            "Validation acc: 0.9609\n",
            "\n",
            "Start of epoch 682\n",
            "Training loss: 0.0001\n",
            "Training metric: 0.9744\n",
            "perturbation loss: 0.0002\n"
          ]
        },
        {
          "output_type": "stream",
          "name": "stderr",
          "text": [
            "\r 68%|██████▊   | 683/1000 [18:35<09:18,  1.76s/it]"
          ]
        },
        {
          "output_type": "stream",
          "name": "stdout",
          "text": [
            "Validation acc: 0.9688\n",
            "\n",
            "Start of epoch 683\n",
            "Training loss: 0.0000\n",
            "Training metric: 0.9745\n",
            "perturbation loss: 0.0000\n"
          ]
        },
        {
          "output_type": "stream",
          "name": "stderr",
          "text": [
            "\r 68%|██████▊   | 684/1000 [18:37<09:24,  1.79s/it]"
          ]
        },
        {
          "output_type": "stream",
          "name": "stdout",
          "text": [
            "Validation acc: 0.9688\n",
            "\n",
            "Start of epoch 684\n",
            "Training loss: 0.0000\n",
            "Training metric: 0.9745\n",
            "perturbation loss: 0.0000\n"
          ]
        },
        {
          "output_type": "stream",
          "name": "stderr",
          "text": [
            "\r 68%|██████▊   | 685/1000 [18:38<08:53,  1.69s/it]"
          ]
        },
        {
          "output_type": "stream",
          "name": "stdout",
          "text": [
            "Validation acc: 0.9531\n",
            "\n",
            "Start of epoch 685\n",
            "Training loss: 0.0000\n",
            "Training metric: 0.9746\n",
            "perturbation loss: 0.0000\n"
          ]
        },
        {
          "output_type": "stream",
          "name": "stderr",
          "text": [
            "\r 69%|██████▊   | 686/1000 [18:40<08:31,  1.63s/it]"
          ]
        },
        {
          "output_type": "stream",
          "name": "stdout",
          "text": [
            "Validation acc: 0.9609\n",
            "\n",
            "Start of epoch 686\n",
            "Training loss: 0.0001\n",
            "Training metric: 0.9746\n",
            "perturbation loss: 0.0000\n"
          ]
        },
        {
          "output_type": "stream",
          "name": "stderr",
          "text": [
            "\r 69%|██████▊   | 687/1000 [18:41<08:16,  1.59s/it]"
          ]
        },
        {
          "output_type": "stream",
          "name": "stdout",
          "text": [
            "Validation acc: 0.9609\n",
            "\n",
            "Start of epoch 687\n",
            "Training loss: 0.0000\n",
            "Training metric: 0.9746\n",
            "perturbation loss: 0.0000\n"
          ]
        },
        {
          "output_type": "stream",
          "name": "stderr",
          "text": [
            "\r 69%|██████▉   | 688/1000 [18:43<08:03,  1.55s/it]"
          ]
        },
        {
          "output_type": "stream",
          "name": "stdout",
          "text": [
            "Validation acc: 0.9531\n",
            "\n",
            "Start of epoch 688\n",
            "Training loss: 0.0000\n",
            "Training metric: 0.9747\n",
            "perturbation loss: 0.0000\n"
          ]
        },
        {
          "output_type": "stream",
          "name": "stderr",
          "text": [
            "\r 69%|██████▉   | 689/1000 [18:44<07:54,  1.52s/it]"
          ]
        },
        {
          "output_type": "stream",
          "name": "stdout",
          "text": [
            "Validation acc: 0.9609\n",
            "\n",
            "Start of epoch 689\n",
            "Training loss: 0.0000\n",
            "Training metric: 0.9747\n",
            "perturbation loss: 0.0000\n"
          ]
        },
        {
          "output_type": "stream",
          "name": "stderr",
          "text": [
            "\r 69%|██████▉   | 690/1000 [18:46<07:46,  1.50s/it]"
          ]
        },
        {
          "output_type": "stream",
          "name": "stdout",
          "text": [
            "Validation acc: 0.9531\n",
            "\n",
            "Start of epoch 690\n",
            "Training loss: 0.0000\n",
            "Training metric: 0.9747\n",
            "perturbation loss: 0.0002\n"
          ]
        },
        {
          "output_type": "stream",
          "name": "stderr",
          "text": [
            "\r 69%|██████▉   | 691/1000 [18:49<09:55,  1.93s/it]"
          ]
        },
        {
          "output_type": "stream",
          "name": "stdout",
          "text": [
            "Validation acc: 0.9609\n",
            "\n",
            "Start of epoch 691\n",
            "Training loss: 0.0000\n",
            "Training metric: 0.9748\n",
            "perturbation loss: 0.0000\n"
          ]
        },
        {
          "output_type": "stream",
          "name": "stderr",
          "text": [
            "\r 69%|██████▉   | 692/1000 [18:50<09:45,  1.90s/it]"
          ]
        },
        {
          "output_type": "stream",
          "name": "stdout",
          "text": [
            "Validation acc: 0.9609\n",
            "\n",
            "Start of epoch 692\n",
            "Training loss: 0.0000\n",
            "Training metric: 0.9748\n",
            "perturbation loss: 0.0000\n"
          ]
        },
        {
          "output_type": "stream",
          "name": "stderr",
          "text": [
            "\r 69%|██████▉   | 693/1000 [18:52<09:09,  1.79s/it]"
          ]
        },
        {
          "output_type": "stream",
          "name": "stdout",
          "text": [
            "Validation acc: 0.9609\n",
            "\n",
            "Start of epoch 693\n",
            "Training loss: 0.0000\n",
            "Training metric: 0.9748\n",
            "perturbation loss: 0.0000\n"
          ]
        },
        {
          "output_type": "stream",
          "name": "stderr",
          "text": [
            "\r 69%|██████▉   | 694/1000 [18:53<08:39,  1.70s/it]"
          ]
        },
        {
          "output_type": "stream",
          "name": "stdout",
          "text": [
            "Validation acc: 0.9453\n",
            "\n",
            "Start of epoch 694\n",
            "Training loss: 0.0000\n",
            "Training metric: 0.9749\n",
            "perturbation loss: 0.0000\n"
          ]
        },
        {
          "output_type": "stream",
          "name": "stderr",
          "text": [
            "\r 70%|██████▉   | 695/1000 [18:55<08:19,  1.64s/it]"
          ]
        },
        {
          "output_type": "stream",
          "name": "stdout",
          "text": [
            "Validation acc: 0.9531\n",
            "\n",
            "Start of epoch 695\n",
            "Training loss: 0.0000\n",
            "Training metric: 0.9749\n",
            "perturbation loss: 0.0000\n"
          ]
        },
        {
          "output_type": "stream",
          "name": "stderr",
          "text": [
            "\r 70%|██████▉   | 696/1000 [18:56<08:06,  1.60s/it]"
          ]
        },
        {
          "output_type": "stream",
          "name": "stdout",
          "text": [
            "Validation acc: 0.9688\n",
            "\n",
            "Start of epoch 696\n",
            "Training loss: 0.0000\n",
            "Training metric: 0.9750\n",
            "perturbation loss: 0.0000\n"
          ]
        },
        {
          "output_type": "stream",
          "name": "stderr",
          "text": [
            "\r 70%|██████▉   | 697/1000 [18:58<07:55,  1.57s/it]"
          ]
        },
        {
          "output_type": "stream",
          "name": "stdout",
          "text": [
            "Validation acc: 0.9609\n",
            "\n",
            "Start of epoch 697\n",
            "Training loss: 0.0000\n",
            "Training metric: 0.9750\n",
            "perturbation loss: 0.0000\n"
          ]
        },
        {
          "output_type": "stream",
          "name": "stderr",
          "text": [
            "\r 70%|██████▉   | 698/1000 [18:59<07:46,  1.54s/it]"
          ]
        },
        {
          "output_type": "stream",
          "name": "stdout",
          "text": [
            "Validation acc: 0.9375\n",
            "\n",
            "Start of epoch 698\n",
            "Training loss: 0.0000\n",
            "Training metric: 0.9750\n",
            "perturbation loss: 0.0000\n"
          ]
        },
        {
          "output_type": "stream",
          "name": "stderr",
          "text": [
            "\r 70%|██████▉   | 699/1000 [19:01<08:07,  1.62s/it]"
          ]
        },
        {
          "output_type": "stream",
          "name": "stdout",
          "text": [
            "Validation acc: 0.9766\n",
            "\n",
            "Start of epoch 699\n",
            "Training loss: 0.0000\n",
            "Training metric: 0.9751\n",
            "perturbation loss: 0.0000\n",
            "Validation acc: 0.9688\n"
          ]
        },
        {
          "output_type": "stream",
          "name": "stderr",
          "text": [
            "\r 70%|███████   | 700/1000 [19:04<09:15,  1.85s/it]"
          ]
        },
        {
          "output_type": "stream",
          "name": "stdout",
          "text": [
            "\n",
            "Start of epoch 700\n",
            "Training loss: 0.0000\n",
            "Training metric: 0.9751\n",
            "perturbation loss: 0.0005\n"
          ]
        },
        {
          "output_type": "stream",
          "name": "stderr",
          "text": [
            "\r 70%|███████   | 701/1000 [19:05<08:44,  1.76s/it]"
          ]
        },
        {
          "output_type": "stream",
          "name": "stdout",
          "text": [
            "Validation acc: 0.9766\n",
            "\n",
            "Start of epoch 701\n",
            "Training loss: 0.0000\n",
            "Training metric: 0.9751\n",
            "perturbation loss: 0.0011\n"
          ]
        },
        {
          "output_type": "stream",
          "name": "stderr",
          "text": [
            "\r 70%|███████   | 702/1000 [19:07<08:18,  1.67s/it]"
          ]
        },
        {
          "output_type": "stream",
          "name": "stdout",
          "text": [
            "Validation acc: 0.9922\n",
            "\n",
            "Start of epoch 702\n",
            "Training loss: 0.0008\n",
            "Training metric: 0.9752\n",
            "perturbation loss: 0.0018\n"
          ]
        },
        {
          "output_type": "stream",
          "name": "stderr",
          "text": [
            "\r 70%|███████   | 703/1000 [19:08<08:01,  1.62s/it]"
          ]
        },
        {
          "output_type": "stream",
          "name": "stdout",
          "text": [
            "Validation acc: 0.9688\n",
            "\n",
            "Start of epoch 703\n",
            "Training loss: 0.0005\n",
            "Training metric: 0.9752\n",
            "perturbation loss: 0.0163\n"
          ]
        },
        {
          "output_type": "stream",
          "name": "stderr",
          "text": [
            "\r 70%|███████   | 704/1000 [19:10<07:51,  1.59s/it]"
          ]
        },
        {
          "output_type": "stream",
          "name": "stdout",
          "text": [
            "Validation acc: 0.9688\n",
            "\n",
            "Start of epoch 704\n",
            "Training loss: 0.0000\n",
            "Training metric: 0.9752\n",
            "perturbation loss: 0.0001\n"
          ]
        },
        {
          "output_type": "stream",
          "name": "stderr",
          "text": [
            "\r 70%|███████   | 705/1000 [19:11<07:40,  1.56s/it]"
          ]
        },
        {
          "output_type": "stream",
          "name": "stdout",
          "text": [
            "Validation acc: 0.9688\n",
            "\n",
            "Start of epoch 705\n",
            "Training loss: 0.0002\n",
            "Training metric: 0.9753\n",
            "perturbation loss: 0.0014\n"
          ]
        },
        {
          "output_type": "stream",
          "name": "stderr",
          "text": [
            "\r 71%|███████   | 706/1000 [19:13<07:30,  1.53s/it]"
          ]
        },
        {
          "output_type": "stream",
          "name": "stdout",
          "text": [
            "Validation acc: 0.9688\n",
            "\n",
            "Start of epoch 706\n",
            "Training loss: 0.0001\n",
            "Training metric: 0.9753\n",
            "perturbation loss: 0.0036\n"
          ]
        },
        {
          "output_type": "stream",
          "name": "stderr",
          "text": [
            "\r 71%|███████   | 707/1000 [19:14<07:31,  1.54s/it]"
          ]
        },
        {
          "output_type": "stream",
          "name": "stdout",
          "text": [
            "Validation acc: 0.9688\n",
            "\n",
            "Start of epoch 707\n",
            "Training loss: 0.0000\n",
            "Training metric: 0.9753\n",
            "perturbation loss: 0.0000\n"
          ]
        },
        {
          "output_type": "stream",
          "name": "stderr",
          "text": [
            "\r 71%|███████   | 708/1000 [19:16<08:31,  1.75s/it]"
          ]
        },
        {
          "output_type": "stream",
          "name": "stdout",
          "text": [
            "Validation acc: 0.9688\n",
            "\n",
            "Start of epoch 708\n",
            "Training loss: 0.0001\n",
            "Training metric: 0.9754\n",
            "perturbation loss: 0.0009\n"
          ]
        },
        {
          "output_type": "stream",
          "name": "stderr",
          "text": [
            "\r 71%|███████   | 709/1000 [19:18<08:38,  1.78s/it]"
          ]
        },
        {
          "output_type": "stream",
          "name": "stdout",
          "text": [
            "Validation acc: 0.9688\n",
            "\n",
            "Start of epoch 709\n",
            "Training loss: 0.0000\n",
            "Training metric: 0.9754\n",
            "perturbation loss: 0.0001\n"
          ]
        },
        {
          "output_type": "stream",
          "name": "stderr",
          "text": [
            "\r 71%|███████   | 710/1000 [19:20<08:10,  1.69s/it]"
          ]
        },
        {
          "output_type": "stream",
          "name": "stdout",
          "text": [
            "Validation acc: 0.9688\n",
            "\n",
            "Start of epoch 710\n",
            "Training loss: 0.0000\n",
            "Training metric: 0.9754\n",
            "perturbation loss: 0.0000\n"
          ]
        },
        {
          "output_type": "stream",
          "name": "stderr",
          "text": [
            "\r 71%|███████   | 711/1000 [19:21<07:48,  1.62s/it]"
          ]
        },
        {
          "output_type": "stream",
          "name": "stdout",
          "text": [
            "Validation acc: 0.9688\n",
            "\n",
            "Start of epoch 711\n",
            "Training loss: 0.0000\n",
            "Training metric: 0.9755\n",
            "perturbation loss: 0.0001\n"
          ]
        },
        {
          "output_type": "stream",
          "name": "stderr",
          "text": [
            "\r 71%|███████   | 712/1000 [19:23<07:33,  1.57s/it]"
          ]
        },
        {
          "output_type": "stream",
          "name": "stdout",
          "text": [
            "Validation acc: 0.9766\n",
            "\n",
            "Start of epoch 712\n",
            "Training loss: 0.0000\n",
            "Training metric: 0.9755\n",
            "perturbation loss: 0.0001\n"
          ]
        },
        {
          "output_type": "stream",
          "name": "stderr",
          "text": [
            "\r 71%|███████▏  | 713/1000 [19:24<07:25,  1.55s/it]"
          ]
        },
        {
          "output_type": "stream",
          "name": "stdout",
          "text": [
            "Validation acc: 0.9688\n",
            "\n",
            "Start of epoch 713\n",
            "Training loss: 0.0000\n",
            "Training metric: 0.9755\n",
            "perturbation loss: 0.0000\n"
          ]
        },
        {
          "output_type": "stream",
          "name": "stderr",
          "text": [
            "\r 71%|███████▏  | 714/1000 [19:26<07:15,  1.52s/it]"
          ]
        },
        {
          "output_type": "stream",
          "name": "stdout",
          "text": [
            "Validation acc: 0.9844\n",
            "\n",
            "Start of epoch 714\n",
            "Training loss: 0.0001\n",
            "Training metric: 0.9756\n",
            "perturbation loss: 0.0004\n"
          ]
        },
        {
          "output_type": "stream",
          "name": "stderr",
          "text": [
            "\r 72%|███████▏  | 715/1000 [19:27<07:09,  1.51s/it]"
          ]
        },
        {
          "output_type": "stream",
          "name": "stdout",
          "text": [
            "Validation acc: 0.9766\n",
            "\n",
            "Start of epoch 715\n",
            "Training loss: 0.0000\n",
            "Training metric: 0.9756\n",
            "perturbation loss: 0.0000\n"
          ]
        },
        {
          "output_type": "stream",
          "name": "stderr",
          "text": [
            "\r 72%|███████▏  | 716/1000 [19:29<07:25,  1.57s/it]"
          ]
        },
        {
          "output_type": "stream",
          "name": "stdout",
          "text": [
            "Validation acc: 0.9688\n",
            "\n",
            "Start of epoch 716\n",
            "Training loss: 0.0000\n",
            "Training metric: 0.9756\n",
            "perturbation loss: 0.0006\n"
          ]
        },
        {
          "output_type": "stream",
          "name": "stderr",
          "text": [
            "\r 72%|███████▏  | 717/1000 [19:31<07:57,  1.69s/it]"
          ]
        },
        {
          "output_type": "stream",
          "name": "stdout",
          "text": [
            "Validation acc: 0.9688\n",
            "\n",
            "Start of epoch 717\n",
            "Training loss: 0.0000\n",
            "Training metric: 0.9757\n",
            "perturbation loss: 0.0000\n"
          ]
        },
        {
          "output_type": "stream",
          "name": "stderr",
          "text": [
            "\r 72%|███████▏  | 718/1000 [19:33<08:00,  1.70s/it]"
          ]
        },
        {
          "output_type": "stream",
          "name": "stdout",
          "text": [
            "Validation acc: 0.9688\n",
            "\n",
            "Start of epoch 718\n",
            "Training loss: 0.0000\n",
            "Training metric: 0.9757\n",
            "perturbation loss: 0.0000\n"
          ]
        },
        {
          "output_type": "stream",
          "name": "stderr",
          "text": [
            "\r 72%|███████▏  | 719/1000 [19:34<07:41,  1.64s/it]"
          ]
        },
        {
          "output_type": "stream",
          "name": "stdout",
          "text": [
            "Validation acc: 0.9766\n",
            "\n",
            "Start of epoch 719\n",
            "Training loss: 0.0000\n",
            "Training metric: 0.9758\n",
            "perturbation loss: 0.0001\n"
          ]
        },
        {
          "output_type": "stream",
          "name": "stderr",
          "text": [
            "\r 72%|███████▏  | 720/1000 [19:36<07:26,  1.59s/it]"
          ]
        },
        {
          "output_type": "stream",
          "name": "stdout",
          "text": [
            "Validation acc: 0.9609\n",
            "\n",
            "Start of epoch 720\n",
            "Training loss: 0.0000\n",
            "Training metric: 0.9758\n",
            "perturbation loss: 0.0000\n"
          ]
        },
        {
          "output_type": "stream",
          "name": "stderr",
          "text": [
            "\r 72%|███████▏  | 721/1000 [19:37<07:18,  1.57s/it]"
          ]
        },
        {
          "output_type": "stream",
          "name": "stdout",
          "text": [
            "Validation acc: 0.9609\n",
            "\n",
            "Start of epoch 721\n",
            "Training loss: 0.0000\n",
            "Training metric: 0.9758\n",
            "perturbation loss: 0.0000\n"
          ]
        },
        {
          "output_type": "stream",
          "name": "stderr",
          "text": [
            "\r 72%|███████▏  | 722/1000 [19:39<07:09,  1.55s/it]"
          ]
        },
        {
          "output_type": "stream",
          "name": "stdout",
          "text": [
            "Validation acc: 0.9609\n",
            "\n",
            "Start of epoch 722\n",
            "Training loss: 0.0000\n",
            "Training metric: 0.9759\n",
            "perturbation loss: 0.0000\n"
          ]
        },
        {
          "output_type": "stream",
          "name": "stderr",
          "text": [
            "\r 72%|███████▏  | 723/1000 [19:40<07:03,  1.53s/it]"
          ]
        },
        {
          "output_type": "stream",
          "name": "stdout",
          "text": [
            "Validation acc: 0.9688\n",
            "\n",
            "Start of epoch 723\n",
            "Training loss: 0.0000\n",
            "Training metric: 0.9759\n",
            "perturbation loss: 0.0001\n"
          ]
        },
        {
          "output_type": "stream",
          "name": "stderr",
          "text": [
            "\r 72%|███████▏  | 724/1000 [19:42<07:00,  1.52s/it]"
          ]
        },
        {
          "output_type": "stream",
          "name": "stdout",
          "text": [
            "Validation acc: 0.9609\n",
            "\n",
            "Start of epoch 724\n",
            "Training loss: 0.0000\n",
            "Training metric: 0.9759\n",
            "perturbation loss: 0.0010\n"
          ]
        },
        {
          "output_type": "stream",
          "name": "stderr",
          "text": [
            "\r 72%|███████▎  | 725/1000 [19:44<07:51,  1.71s/it]"
          ]
        },
        {
          "output_type": "stream",
          "name": "stdout",
          "text": [
            "Validation acc: 0.9766\n",
            "\n",
            "Start of epoch 725\n",
            "Training loss: 0.0000\n",
            "Training metric: 0.9759\n",
            "perturbation loss: 0.0000\n"
          ]
        },
        {
          "output_type": "stream",
          "name": "stderr",
          "text": [
            "\r 73%|███████▎  | 726/1000 [19:46<08:10,  1.79s/it]"
          ]
        },
        {
          "output_type": "stream",
          "name": "stdout",
          "text": [
            "Validation acc: 0.9375\n",
            "\n",
            "Start of epoch 726\n",
            "Training loss: 0.0000\n",
            "Training metric: 0.9760\n",
            "perturbation loss: 0.0001\n"
          ]
        },
        {
          "output_type": "stream",
          "name": "stderr",
          "text": [
            "\r 73%|███████▎  | 727/1000 [19:47<07:47,  1.71s/it]"
          ]
        },
        {
          "output_type": "stream",
          "name": "stdout",
          "text": [
            "Validation acc: 0.9609\n",
            "\n",
            "Start of epoch 727\n",
            "Training loss: 0.0011\n",
            "Training metric: 0.9760\n",
            "perturbation loss: 0.0004\n"
          ]
        },
        {
          "output_type": "stream",
          "name": "stderr",
          "text": [
            "\r 73%|███████▎  | 728/1000 [19:49<07:27,  1.65s/it]"
          ]
        },
        {
          "output_type": "stream",
          "name": "stdout",
          "text": [
            "Validation acc: 0.9609\n",
            "\n",
            "Start of epoch 728\n",
            "Training loss: 0.0004\n",
            "Training metric: 0.9760\n",
            "perturbation loss: 0.0002\n"
          ]
        },
        {
          "output_type": "stream",
          "name": "stderr",
          "text": [
            "\r 73%|███████▎  | 729/1000 [19:50<07:16,  1.61s/it]"
          ]
        },
        {
          "output_type": "stream",
          "name": "stdout",
          "text": [
            "Validation acc: 0.9766\n",
            "\n",
            "Start of epoch 729\n",
            "Training loss: 0.0002\n",
            "Training metric: 0.9761\n",
            "perturbation loss: 0.0013\n"
          ]
        },
        {
          "output_type": "stream",
          "name": "stderr",
          "text": [
            "\r 73%|███████▎  | 730/1000 [19:52<07:03,  1.57s/it]"
          ]
        },
        {
          "output_type": "stream",
          "name": "stdout",
          "text": [
            "Validation acc: 0.9844\n",
            "\n",
            "Start of epoch 730\n",
            "Training loss: 0.0002\n",
            "Training metric: 0.9761\n",
            "perturbation loss: 0.0041\n"
          ]
        },
        {
          "output_type": "stream",
          "name": "stderr",
          "text": [
            "\r 73%|███████▎  | 731/1000 [19:53<06:56,  1.55s/it]"
          ]
        },
        {
          "output_type": "stream",
          "name": "stdout",
          "text": [
            "Validation acc: 0.9766\n",
            "\n",
            "Start of epoch 731\n",
            "Training loss: 0.0000\n",
            "Training metric: 0.9761\n",
            "perturbation loss: 0.0001\n"
          ]
        },
        {
          "output_type": "stream",
          "name": "stderr",
          "text": [
            "\r 73%|███████▎  | 732/1000 [19:55<06:50,  1.53s/it]"
          ]
        },
        {
          "output_type": "stream",
          "name": "stdout",
          "text": [
            "Validation acc: 0.9766\n",
            "\n",
            "Start of epoch 732\n",
            "Training loss: 0.0000\n",
            "Training metric: 0.9762\n",
            "perturbation loss: 0.0001\n"
          ]
        },
        {
          "output_type": "stream",
          "name": "stderr",
          "text": [
            "\r 73%|███████▎  | 733/1000 [19:56<06:58,  1.57s/it]"
          ]
        },
        {
          "output_type": "stream",
          "name": "stdout",
          "text": [
            "Validation acc: 0.9609\n",
            "\n",
            "Start of epoch 733\n",
            "Training loss: 0.0001\n",
            "Training metric: 0.9762\n",
            "perturbation loss: 0.0005\n"
          ]
        },
        {
          "output_type": "stream",
          "name": "stderr",
          "text": [
            "\r 73%|███████▎  | 734/1000 [19:58<07:29,  1.69s/it]"
          ]
        },
        {
          "output_type": "stream",
          "name": "stdout",
          "text": [
            "Validation acc: 0.9609\n",
            "\n",
            "Start of epoch 734\n",
            "Training loss: 0.0000\n",
            "Training metric: 0.9762\n",
            "perturbation loss: 0.0000\n"
          ]
        },
        {
          "output_type": "stream",
          "name": "stderr",
          "text": [
            "\r 74%|███████▎  | 735/1000 [20:00<07:47,  1.76s/it]"
          ]
        },
        {
          "output_type": "stream",
          "name": "stdout",
          "text": [
            "Validation acc: 0.9609\n",
            "\n",
            "Start of epoch 735\n",
            "Training loss: 0.0000\n",
            "Training metric: 0.9763\n",
            "perturbation loss: 0.0000\n"
          ]
        },
        {
          "output_type": "stream",
          "name": "stderr",
          "text": [
            "\r 74%|███████▎  | 736/1000 [20:02<07:28,  1.70s/it]"
          ]
        },
        {
          "output_type": "stream",
          "name": "stdout",
          "text": [
            "Validation acc: 0.9609\n",
            "\n",
            "Start of epoch 736\n",
            "Training loss: 0.0000\n",
            "Training metric: 0.9763\n",
            "perturbation loss: 0.0000\n"
          ]
        },
        {
          "output_type": "stream",
          "name": "stderr",
          "text": [
            "\r 74%|███████▎  | 737/1000 [20:03<07:11,  1.64s/it]"
          ]
        },
        {
          "output_type": "stream",
          "name": "stdout",
          "text": [
            "Validation acc: 0.9688\n",
            "\n",
            "Start of epoch 737\n",
            "Training loss: 0.0000\n",
            "Training metric: 0.9763\n",
            "perturbation loss: 0.0006\n"
          ]
        },
        {
          "output_type": "stream",
          "name": "stderr",
          "text": [
            "\r 74%|███████▍  | 738/1000 [20:05<07:00,  1.60s/it]"
          ]
        },
        {
          "output_type": "stream",
          "name": "stdout",
          "text": [
            "Validation acc: 0.9766\n",
            "\n",
            "Start of epoch 738\n",
            "Training loss: 0.0000\n",
            "Training metric: 0.9764\n",
            "perturbation loss: 0.0000\n"
          ]
        },
        {
          "output_type": "stream",
          "name": "stderr",
          "text": [
            "\r 74%|███████▍  | 739/1000 [20:06<06:50,  1.57s/it]"
          ]
        },
        {
          "output_type": "stream",
          "name": "stdout",
          "text": [
            "Validation acc: 0.9688\n",
            "\n",
            "Start of epoch 739\n",
            "Training loss: 0.0000\n",
            "Training metric: 0.9764\n",
            "perturbation loss: 0.0000\n"
          ]
        },
        {
          "output_type": "stream",
          "name": "stderr",
          "text": [
            "\r 74%|███████▍  | 740/1000 [20:08<06:39,  1.54s/it]"
          ]
        },
        {
          "output_type": "stream",
          "name": "stdout",
          "text": [
            "Validation acc: 0.9531\n",
            "\n",
            "Start of epoch 740\n",
            "Training loss: 0.0000\n",
            "Training metric: 0.9764\n",
            "perturbation loss: 0.0000\n"
          ]
        },
        {
          "output_type": "stream",
          "name": "stderr",
          "text": [
            "\r 74%|███████▍  | 741/1000 [20:09<06:32,  1.51s/it]"
          ]
        },
        {
          "output_type": "stream",
          "name": "stdout",
          "text": [
            "Validation acc: 0.9766\n",
            "\n",
            "Start of epoch 741\n",
            "Training loss: 0.0000\n",
            "Training metric: 0.9765\n",
            "perturbation loss: 0.0000\n"
          ]
        },
        {
          "output_type": "stream",
          "name": "stderr",
          "text": [
            "\r 74%|███████▍  | 742/1000 [20:11<07:09,  1.66s/it]"
          ]
        },
        {
          "output_type": "stream",
          "name": "stdout",
          "text": [
            "Validation acc: 0.9766\n",
            "\n",
            "Start of epoch 742\n",
            "Training loss: 0.0000\n",
            "Training metric: 0.9765\n",
            "perturbation loss: 0.0000\n"
          ]
        },
        {
          "output_type": "stream",
          "name": "stderr",
          "text": [
            "\r 74%|███████▍  | 743/1000 [20:13<07:27,  1.74s/it]"
          ]
        },
        {
          "output_type": "stream",
          "name": "stdout",
          "text": [
            "Validation acc: 0.9688\n",
            "\n",
            "Start of epoch 743\n",
            "Training loss: 0.0000\n",
            "Training metric: 0.9765\n",
            "perturbation loss: 0.0000\n"
          ]
        },
        {
          "output_type": "stream",
          "name": "stderr",
          "text": [
            "\r 74%|███████▍  | 744/1000 [20:15<07:18,  1.71s/it]"
          ]
        },
        {
          "output_type": "stream",
          "name": "stdout",
          "text": [
            "Validation acc: 0.9766\n",
            "\n",
            "Start of epoch 744\n",
            "Training loss: 0.0000\n",
            "Training metric: 0.9766\n",
            "perturbation loss: 0.0000\n"
          ]
        },
        {
          "output_type": "stream",
          "name": "stderr",
          "text": [
            "\r 74%|███████▍  | 745/1000 [20:16<07:00,  1.65s/it]"
          ]
        },
        {
          "output_type": "stream",
          "name": "stdout",
          "text": [
            "Validation acc: 0.9531\n",
            "\n",
            "Start of epoch 745\n",
            "Training loss: 0.0000\n",
            "Training metric: 0.9766\n",
            "perturbation loss: 0.0000\n"
          ]
        },
        {
          "output_type": "stream",
          "name": "stderr",
          "text": [
            "\r 75%|███████▍  | 746/1000 [20:18<06:45,  1.60s/it]"
          ]
        },
        {
          "output_type": "stream",
          "name": "stdout",
          "text": [
            "Validation acc: 0.9375\n",
            "\n",
            "Start of epoch 746\n",
            "Training loss: 0.0048\n",
            "Training metric: 0.9766\n",
            "perturbation loss: 0.0000\n"
          ]
        },
        {
          "output_type": "stream",
          "name": "stderr",
          "text": [
            "\r 75%|███████▍  | 747/1000 [20:19<06:36,  1.57s/it]"
          ]
        },
        {
          "output_type": "stream",
          "name": "stdout",
          "text": [
            "Validation acc: 0.9766\n",
            "\n",
            "Start of epoch 747\n",
            "Training loss: 0.0000\n",
            "Training metric: 0.9766\n",
            "perturbation loss: 0.0004\n"
          ]
        },
        {
          "output_type": "stream",
          "name": "stderr",
          "text": [
            "\r 75%|███████▍  | 748/1000 [20:21<06:30,  1.55s/it]"
          ]
        },
        {
          "output_type": "stream",
          "name": "stdout",
          "text": [
            "Validation acc: 0.9531\n",
            "\n",
            "Start of epoch 748\n",
            "Training loss: 0.0001\n",
            "Training metric: 0.9767\n",
            "perturbation loss: 0.0003\n"
          ]
        },
        {
          "output_type": "stream",
          "name": "stderr",
          "text": [
            "\r 75%|███████▍  | 749/1000 [20:22<06:25,  1.54s/it]"
          ]
        },
        {
          "output_type": "stream",
          "name": "stdout",
          "text": [
            "Validation acc: 0.9531\n",
            "\n",
            "Start of epoch 749\n",
            "Training loss: 0.0006\n",
            "Training metric: 0.9767\n",
            "perturbation loss: 0.0083\n"
          ]
        },
        {
          "output_type": "stream",
          "name": "stderr",
          "text": [
            "\r 75%|███████▌  | 750/1000 [20:24<06:18,  1.51s/it]"
          ]
        },
        {
          "output_type": "stream",
          "name": "stdout",
          "text": [
            "Validation acc: 0.9297\n",
            "\n",
            "Start of epoch 750\n",
            "Training loss: 0.0000\n",
            "Training metric: 0.9767\n",
            "perturbation loss: 0.0007\n"
          ]
        },
        {
          "output_type": "stream",
          "name": "stderr",
          "text": [
            "\r 75%|███████▌  | 751/1000 [20:26<07:05,  1.71s/it]"
          ]
        },
        {
          "output_type": "stream",
          "name": "stdout",
          "text": [
            "Validation acc: 0.9297\n",
            "\n",
            "Start of epoch 751\n",
            "Training loss: 0.0000\n",
            "Training metric: 0.9768\n",
            "perturbation loss: 0.0000\n"
          ]
        },
        {
          "output_type": "stream",
          "name": "stderr",
          "text": [
            "\r 75%|███████▌  | 752/1000 [20:28<07:19,  1.77s/it]"
          ]
        },
        {
          "output_type": "stream",
          "name": "stdout",
          "text": [
            "Validation acc: 0.9844\n",
            "\n",
            "Start of epoch 752\n",
            "Training loss: 0.0001\n",
            "Training metric: 0.9768\n",
            "perturbation loss: 0.0010\n"
          ]
        },
        {
          "output_type": "stream",
          "name": "stderr",
          "text": [
            "\r 75%|███████▌  | 753/1000 [20:29<06:56,  1.69s/it]"
          ]
        },
        {
          "output_type": "stream",
          "name": "stdout",
          "text": [
            "Validation acc: 0.9688\n",
            "\n",
            "Start of epoch 753\n",
            "Training loss: 0.0000\n",
            "Training metric: 0.9768\n",
            "perturbation loss: 0.0000\n"
          ]
        },
        {
          "output_type": "stream",
          "name": "stderr",
          "text": [
            "\r 75%|███████▌  | 754/1000 [20:31<06:37,  1.62s/it]"
          ]
        },
        {
          "output_type": "stream",
          "name": "stdout",
          "text": [
            "Validation acc: 0.9766\n",
            "\n",
            "Start of epoch 754\n",
            "Training loss: 0.0000\n",
            "Training metric: 0.9769\n",
            "perturbation loss: 0.0000\n"
          ]
        },
        {
          "output_type": "stream",
          "name": "stderr",
          "text": [
            "\r 76%|███████▌  | 755/1000 [20:32<06:25,  1.57s/it]"
          ]
        },
        {
          "output_type": "stream",
          "name": "stdout",
          "text": [
            "Validation acc: 0.9688\n",
            "\n",
            "Start of epoch 755\n",
            "Training loss: 0.0000\n",
            "Training metric: 0.9769\n",
            "perturbation loss: 0.0001\n"
          ]
        },
        {
          "output_type": "stream",
          "name": "stderr",
          "text": [
            "\r 76%|███████▌  | 756/1000 [20:34<06:17,  1.55s/it]"
          ]
        },
        {
          "output_type": "stream",
          "name": "stdout",
          "text": [
            "Validation acc: 0.9531\n",
            "\n",
            "Start of epoch 756\n",
            "Training loss: 0.0000\n",
            "Training metric: 0.9769\n",
            "perturbation loss: 0.0006\n"
          ]
        },
        {
          "output_type": "stream",
          "name": "stderr",
          "text": [
            "\r 76%|███████▌  | 757/1000 [20:35<06:10,  1.53s/it]"
          ]
        },
        {
          "output_type": "stream",
          "name": "stdout",
          "text": [
            "Validation acc: 0.9609\n",
            "\n",
            "Start of epoch 757\n",
            "Training loss: 0.0000\n",
            "Training metric: 0.9769\n",
            "perturbation loss: 0.0001\n"
          ]
        },
        {
          "output_type": "stream",
          "name": "stderr",
          "text": [
            "\r 76%|███████▌  | 758/1000 [20:37<06:05,  1.51s/it]"
          ]
        },
        {
          "output_type": "stream",
          "name": "stdout",
          "text": [
            "Validation acc: 0.9609\n",
            "\n",
            "Start of epoch 758\n",
            "Training loss: 0.0000\n",
            "Training metric: 0.9770\n",
            "perturbation loss: 0.0001\n"
          ]
        },
        {
          "output_type": "stream",
          "name": "stderr",
          "text": [
            "\r 76%|███████▌  | 759/1000 [20:38<06:10,  1.54s/it]"
          ]
        },
        {
          "output_type": "stream",
          "name": "stdout",
          "text": [
            "Validation acc: 0.9688\n",
            "\n",
            "Start of epoch 759\n",
            "Training loss: 0.0000\n",
            "Training metric: 0.9770\n",
            "perturbation loss: 0.0004\n"
          ]
        },
        {
          "output_type": "stream",
          "name": "stderr",
          "text": [
            "\r 76%|███████▌  | 760/1000 [20:40<06:58,  1.74s/it]"
          ]
        },
        {
          "output_type": "stream",
          "name": "stdout",
          "text": [
            "Validation acc: 0.9609\n",
            "\n",
            "Start of epoch 760\n",
            "Training loss: 0.0000\n",
            "Training metric: 0.9770\n",
            "perturbation loss: 0.0000\n"
          ]
        },
        {
          "output_type": "stream",
          "name": "stderr",
          "text": [
            "\r 76%|███████▌  | 761/1000 [20:42<06:56,  1.74s/it]"
          ]
        },
        {
          "output_type": "stream",
          "name": "stdout",
          "text": [
            "Validation acc: 0.9688\n",
            "\n",
            "Start of epoch 761\n",
            "Training loss: 0.0000\n",
            "Training metric: 0.9771\n",
            "perturbation loss: 0.0000\n"
          ]
        },
        {
          "output_type": "stream",
          "name": "stderr",
          "text": [
            "\r 76%|███████▌  | 762/1000 [20:44<06:34,  1.66s/it]"
          ]
        },
        {
          "output_type": "stream",
          "name": "stdout",
          "text": [
            "Validation acc: 0.9688\n",
            "\n",
            "Start of epoch 762\n",
            "Training loss: 0.0000\n",
            "Training metric: 0.9771\n",
            "perturbation loss: 0.0000\n"
          ]
        },
        {
          "output_type": "stream",
          "name": "stderr",
          "text": [
            "\r 76%|███████▋  | 763/1000 [20:45<06:20,  1.60s/it]"
          ]
        },
        {
          "output_type": "stream",
          "name": "stdout",
          "text": [
            "Validation acc: 0.9609\n",
            "\n",
            "Start of epoch 763\n",
            "Training loss: 0.0000\n",
            "Training metric: 0.9771\n",
            "perturbation loss: 0.0000\n"
          ]
        },
        {
          "output_type": "stream",
          "name": "stderr",
          "text": [
            "\r 76%|███████▋  | 764/1000 [20:47<06:08,  1.56s/it]"
          ]
        },
        {
          "output_type": "stream",
          "name": "stdout",
          "text": [
            "Validation acc: 0.9688\n",
            "\n",
            "Start of epoch 764\n",
            "Training loss: 0.0001\n",
            "Training metric: 0.9772\n",
            "perturbation loss: 0.0038\n"
          ]
        },
        {
          "output_type": "stream",
          "name": "stderr",
          "text": [
            "\r 76%|███████▋  | 765/1000 [20:48<06:02,  1.54s/it]"
          ]
        },
        {
          "output_type": "stream",
          "name": "stdout",
          "text": [
            "Validation acc: 0.9688\n",
            "\n",
            "Start of epoch 765\n",
            "Training loss: 0.0000\n",
            "Training metric: 0.9772\n",
            "perturbation loss: 0.0000\n"
          ]
        },
        {
          "output_type": "stream",
          "name": "stderr",
          "text": [
            "\r 77%|███████▋  | 766/1000 [20:50<05:58,  1.53s/it]"
          ]
        },
        {
          "output_type": "stream",
          "name": "stdout",
          "text": [
            "Validation acc: 0.9609\n",
            "\n",
            "Start of epoch 766\n",
            "Training loss: 0.0000\n",
            "Training metric: 0.9772\n",
            "perturbation loss: 0.0000\n"
          ]
        },
        {
          "output_type": "stream",
          "name": "stderr",
          "text": [
            "\r 77%|███████▋  | 767/1000 [20:51<05:56,  1.53s/it]"
          ]
        },
        {
          "output_type": "stream",
          "name": "stdout",
          "text": [
            "Validation acc: 0.9609\n",
            "\n",
            "Start of epoch 767\n",
            "Training loss: 0.0000\n",
            "Training metric: 0.9772\n",
            "perturbation loss: 0.0000\n"
          ]
        },
        {
          "output_type": "stream",
          "name": "stderr",
          "text": [
            "\r 77%|███████▋  | 768/1000 [20:53<06:34,  1.70s/it]"
          ]
        },
        {
          "output_type": "stream",
          "name": "stdout",
          "text": [
            "Validation acc: 0.9688\n",
            "\n",
            "Start of epoch 768\n",
            "Training loss: 0.0000\n",
            "Training metric: 0.9773\n",
            "perturbation loss: 0.0002\n"
          ]
        },
        {
          "output_type": "stream",
          "name": "stderr",
          "text": [
            "\r 77%|███████▋  | 769/1000 [20:56<07:12,  1.87s/it]"
          ]
        },
        {
          "output_type": "stream",
          "name": "stdout",
          "text": [
            "Validation acc: 0.9531\n",
            "\n",
            "Start of epoch 769\n",
            "Training loss: 0.0000\n",
            "Training metric: 0.9773\n",
            "perturbation loss: 0.0001\n"
          ]
        },
        {
          "output_type": "stream",
          "name": "stderr",
          "text": [
            "\r 77%|███████▋  | 770/1000 [20:57<06:39,  1.74s/it]"
          ]
        },
        {
          "output_type": "stream",
          "name": "stdout",
          "text": [
            "Validation acc: 0.9688\n",
            "\n",
            "Start of epoch 770\n",
            "Training loss: 0.0000\n",
            "Training metric: 0.9773\n",
            "perturbation loss: 0.0000\n"
          ]
        },
        {
          "output_type": "stream",
          "name": "stderr",
          "text": [
            "\r 77%|███████▋  | 771/1000 [20:58<06:15,  1.64s/it]"
          ]
        },
        {
          "output_type": "stream",
          "name": "stdout",
          "text": [
            "Validation acc: 0.9688\n",
            "\n",
            "Start of epoch 771\n",
            "Training loss: 0.0000\n",
            "Training metric: 0.9774\n",
            "perturbation loss: 0.0000\n"
          ]
        },
        {
          "output_type": "stream",
          "name": "stderr",
          "text": [
            "\r 77%|███████▋  | 772/1000 [21:00<05:57,  1.57s/it]"
          ]
        },
        {
          "output_type": "stream",
          "name": "stdout",
          "text": [
            "Validation acc: 0.9609\n",
            "\n",
            "Start of epoch 772\n",
            "Training loss: 0.0000\n",
            "Training metric: 0.9774\n",
            "perturbation loss: 0.0000\n"
          ]
        },
        {
          "output_type": "stream",
          "name": "stderr",
          "text": [
            "\r 77%|███████▋  | 773/1000 [21:01<05:44,  1.52s/it]"
          ]
        },
        {
          "output_type": "stream",
          "name": "stdout",
          "text": [
            "Validation acc: 0.9453\n",
            "\n",
            "Start of epoch 773\n",
            "Training loss: 0.0000\n",
            "Training metric: 0.9774\n",
            "perturbation loss: 0.0000\n"
          ]
        },
        {
          "output_type": "stream",
          "name": "stderr",
          "text": [
            "\r 77%|███████▋  | 774/1000 [21:03<05:36,  1.49s/it]"
          ]
        },
        {
          "output_type": "stream",
          "name": "stdout",
          "text": [
            "Validation acc: 0.9688\n",
            "\n",
            "Start of epoch 774\n",
            "Training loss: 0.0000\n",
            "Training metric: 0.9774\n",
            "perturbation loss: 0.0000\n"
          ]
        },
        {
          "output_type": "stream",
          "name": "stderr",
          "text": [
            "\r 78%|███████▊  | 775/1000 [21:04<05:30,  1.47s/it]"
          ]
        },
        {
          "output_type": "stream",
          "name": "stdout",
          "text": [
            "Validation acc: 0.9609\n",
            "\n",
            "Start of epoch 775\n",
            "Training loss: 0.0000\n",
            "Training metric: 0.9775\n",
            "perturbation loss: 0.0000\n"
          ]
        },
        {
          "output_type": "stream",
          "name": "stderr",
          "text": [
            "\r 78%|███████▊  | 776/1000 [21:06<05:30,  1.48s/it]"
          ]
        },
        {
          "output_type": "stream",
          "name": "stdout",
          "text": [
            "Validation acc: 0.9609\n",
            "\n",
            "Start of epoch 776\n",
            "Training loss: 0.0000\n",
            "Training metric: 0.9775\n",
            "perturbation loss: 0.0000\n"
          ]
        },
        {
          "output_type": "stream",
          "name": "stderr",
          "text": [
            "\r 78%|███████▊  | 777/1000 [21:08<06:14,  1.68s/it]"
          ]
        },
        {
          "output_type": "stream",
          "name": "stdout",
          "text": [
            "Validation acc: 0.9531\n",
            "\n",
            "Start of epoch 777\n",
            "Training loss: 0.0000\n",
            "Training metric: 0.9775\n",
            "perturbation loss: 0.0000\n"
          ]
        },
        {
          "output_type": "stream",
          "name": "stderr",
          "text": [
            "\r 78%|███████▊  | 778/1000 [21:10<06:24,  1.73s/it]"
          ]
        },
        {
          "output_type": "stream",
          "name": "stdout",
          "text": [
            "Validation acc: 0.9766\n",
            "\n",
            "Start of epoch 778\n",
            "Training loss: 0.0000\n",
            "Training metric: 0.9776\n",
            "perturbation loss: 0.0000\n"
          ]
        },
        {
          "output_type": "stream",
          "name": "stderr",
          "text": [
            "\r 78%|███████▊  | 779/1000 [21:11<06:05,  1.65s/it]"
          ]
        },
        {
          "output_type": "stream",
          "name": "stdout",
          "text": [
            "Validation acc: 0.9688\n",
            "\n",
            "Start of epoch 779\n",
            "Training loss: 0.0000\n",
            "Training metric: 0.9776\n",
            "perturbation loss: 0.0000\n"
          ]
        },
        {
          "output_type": "stream",
          "name": "stderr",
          "text": [
            "\r 78%|███████▊  | 780/1000 [21:12<05:51,  1.60s/it]"
          ]
        },
        {
          "output_type": "stream",
          "name": "stdout",
          "text": [
            "Validation acc: 0.9609\n",
            "\n",
            "Start of epoch 780\n",
            "Training loss: 0.0000\n",
            "Training metric: 0.9776\n",
            "perturbation loss: 0.0000\n"
          ]
        },
        {
          "output_type": "stream",
          "name": "stderr",
          "text": [
            "\r 78%|███████▊  | 781/1000 [21:14<05:43,  1.57s/it]"
          ]
        },
        {
          "output_type": "stream",
          "name": "stdout",
          "text": [
            "Validation acc: 0.9609\n",
            "\n",
            "Start of epoch 781\n",
            "Training loss: 0.0000\n",
            "Training metric: 0.9777\n",
            "perturbation loss: 0.0000\n"
          ]
        },
        {
          "output_type": "stream",
          "name": "stderr",
          "text": [
            "\r 78%|███████▊  | 782/1000 [21:15<05:37,  1.55s/it]"
          ]
        },
        {
          "output_type": "stream",
          "name": "stdout",
          "text": [
            "Validation acc: 0.9688\n",
            "\n",
            "Start of epoch 782\n",
            "Training loss: 0.0000\n",
            "Training metric: 0.9777\n",
            "perturbation loss: 0.0000\n"
          ]
        },
        {
          "output_type": "stream",
          "name": "stderr",
          "text": [
            "\r 78%|███████▊  | 783/1000 [21:17<05:31,  1.53s/it]"
          ]
        },
        {
          "output_type": "stream",
          "name": "stdout",
          "text": [
            "Validation acc: 0.9531\n",
            "\n",
            "Start of epoch 783\n",
            "Training loss: 0.0000\n",
            "Training metric: 0.9777\n",
            "perturbation loss: 0.0001\n"
          ]
        },
        {
          "output_type": "stream",
          "name": "stderr",
          "text": [
            "\r 78%|███████▊  | 784/1000 [21:18<05:26,  1.51s/it]"
          ]
        },
        {
          "output_type": "stream",
          "name": "stdout",
          "text": [
            "Validation acc: 0.9844\n",
            "\n",
            "Start of epoch 784\n",
            "Training loss: 0.0000\n",
            "Training metric: 0.9777\n",
            "perturbation loss: 0.0004\n"
          ]
        },
        {
          "output_type": "stream",
          "name": "stderr",
          "text": [
            "\r 78%|███████▊  | 785/1000 [21:20<05:41,  1.59s/it]"
          ]
        },
        {
          "output_type": "stream",
          "name": "stdout",
          "text": [
            "Validation acc: 0.9609\n",
            "\n",
            "Start of epoch 785\n",
            "Training loss: 0.0001\n",
            "Training metric: 0.9778\n",
            "perturbation loss: 0.0006\n"
          ]
        },
        {
          "output_type": "stream",
          "name": "stderr",
          "text": [
            "\r 79%|███████▊  | 786/1000 [21:22<06:03,  1.70s/it]"
          ]
        },
        {
          "output_type": "stream",
          "name": "stdout",
          "text": [
            "Validation acc: 0.9609\n",
            "\n",
            "Start of epoch 786\n",
            "Training loss: 0.0000\n",
            "Training metric: 0.9778\n",
            "perturbation loss: 0.0000\n"
          ]
        },
        {
          "output_type": "stream",
          "name": "stderr",
          "text": [
            "\r 79%|███████▊  | 787/1000 [21:24<06:05,  1.72s/it]"
          ]
        },
        {
          "output_type": "stream",
          "name": "stdout",
          "text": [
            "Validation acc: 0.9531\n",
            "\n",
            "Start of epoch 787\n",
            "Training loss: 0.0014\n",
            "Training metric: 0.9778\n",
            "perturbation loss: 0.0001\n"
          ]
        },
        {
          "output_type": "stream",
          "name": "stderr",
          "text": [
            "\r 79%|███████▉  | 788/1000 [21:25<05:46,  1.63s/it]"
          ]
        },
        {
          "output_type": "stream",
          "name": "stdout",
          "text": [
            "Validation acc: 0.9531\n",
            "\n",
            "Start of epoch 788\n",
            "Training loss: 0.0000\n",
            "Training metric: 0.9778\n",
            "perturbation loss: 0.0000\n"
          ]
        },
        {
          "output_type": "stream",
          "name": "stderr",
          "text": [
            "\r 79%|███████▉  | 789/1000 [21:27<05:33,  1.58s/it]"
          ]
        },
        {
          "output_type": "stream",
          "name": "stdout",
          "text": [
            "Validation acc: 0.9688\n",
            "\n",
            "Start of epoch 789\n",
            "Training loss: 0.0000\n",
            "Training metric: 0.9779\n",
            "perturbation loss: 0.0008\n"
          ]
        },
        {
          "output_type": "stream",
          "name": "stderr",
          "text": [
            "\r 79%|███████▉  | 790/1000 [21:28<05:23,  1.54s/it]"
          ]
        },
        {
          "output_type": "stream",
          "name": "stdout",
          "text": [
            "Validation acc: 0.9766\n",
            "\n",
            "Start of epoch 790\n",
            "Training loss: 0.0000\n",
            "Training metric: 0.9779\n",
            "perturbation loss: 0.0001\n"
          ]
        },
        {
          "output_type": "stream",
          "name": "stderr",
          "text": [
            "\r 79%|███████▉  | 791/1000 [21:30<05:16,  1.52s/it]"
          ]
        },
        {
          "output_type": "stream",
          "name": "stdout",
          "text": [
            "Validation acc: 0.9766\n",
            "\n",
            "Start of epoch 791\n",
            "Training loss: 0.0001\n",
            "Training metric: 0.9779\n",
            "perturbation loss: 0.0000\n"
          ]
        },
        {
          "output_type": "stream",
          "name": "stderr",
          "text": [
            "\r 79%|███████▉  | 792/1000 [21:31<05:15,  1.51s/it]"
          ]
        },
        {
          "output_type": "stream",
          "name": "stdout",
          "text": [
            "Validation acc: 0.9766\n",
            "\n",
            "Start of epoch 792\n",
            "Training loss: 0.0000\n",
            "Training metric: 0.9780\n",
            "perturbation loss: 0.0000\n"
          ]
        },
        {
          "output_type": "stream",
          "name": "stderr",
          "text": [
            "\r 79%|███████▉  | 793/1000 [21:33<05:10,  1.50s/it]"
          ]
        },
        {
          "output_type": "stream",
          "name": "stdout",
          "text": [
            "Validation acc: 0.9688\n",
            "\n",
            "Start of epoch 793\n",
            "Training loss: 0.0000\n",
            "Training metric: 0.9780\n",
            "perturbation loss: 0.0001\n"
          ]
        },
        {
          "output_type": "stream",
          "name": "stderr",
          "text": [
            "\r 79%|███████▉  | 794/1000 [21:35<05:40,  1.65s/it]"
          ]
        },
        {
          "output_type": "stream",
          "name": "stdout",
          "text": [
            "Validation acc: 0.9766\n",
            "\n",
            "Start of epoch 794\n",
            "Training loss: 0.0000\n",
            "Training metric: 0.9780\n",
            "perturbation loss: 0.0001\n"
          ]
        },
        {
          "output_type": "stream",
          "name": "stderr",
          "text": [
            "\r 80%|███████▉  | 795/1000 [21:37<06:13,  1.82s/it]"
          ]
        },
        {
          "output_type": "stream",
          "name": "stdout",
          "text": [
            "Validation acc: 0.9688\n",
            "\n",
            "Start of epoch 795\n",
            "Training loss: 0.0000\n",
            "Training metric: 0.9780\n",
            "perturbation loss: 0.0000\n"
          ]
        },
        {
          "output_type": "stream",
          "name": "stderr",
          "text": [
            "\r 80%|███████▉  | 796/1000 [21:38<05:53,  1.73s/it]"
          ]
        },
        {
          "output_type": "stream",
          "name": "stdout",
          "text": [
            "Validation acc: 0.9766\n",
            "\n",
            "Start of epoch 796\n",
            "Training loss: 0.0000\n",
            "Training metric: 0.9781\n",
            "perturbation loss: 0.0001\n"
          ]
        },
        {
          "output_type": "stream",
          "name": "stderr",
          "text": [
            "\r 80%|███████▉  | 797/1000 [21:40<05:35,  1.65s/it]"
          ]
        },
        {
          "output_type": "stream",
          "name": "stdout",
          "text": [
            "Validation acc: 0.9688\n",
            "\n",
            "Start of epoch 797\n",
            "Training loss: 0.0000\n",
            "Training metric: 0.9781\n",
            "perturbation loss: 0.0000\n"
          ]
        },
        {
          "output_type": "stream",
          "name": "stderr",
          "text": [
            "\r 80%|███████▉  | 798/1000 [21:41<05:23,  1.60s/it]"
          ]
        },
        {
          "output_type": "stream",
          "name": "stdout",
          "text": [
            "Validation acc: 0.9688\n",
            "\n",
            "Start of epoch 798\n",
            "Training loss: 0.0000\n",
            "Training metric: 0.9781\n",
            "perturbation loss: 0.0000\n"
          ]
        },
        {
          "output_type": "stream",
          "name": "stderr",
          "text": [
            "\r 80%|███████▉  | 799/1000 [21:43<05:13,  1.56s/it]"
          ]
        },
        {
          "output_type": "stream",
          "name": "stdout",
          "text": [
            "Validation acc: 0.9688\n",
            "\n",
            "Start of epoch 799\n",
            "Training loss: 0.0000\n",
            "Training metric: 0.9782\n",
            "perturbation loss: 0.0002\n"
          ]
        },
        {
          "output_type": "stream",
          "name": "stderr",
          "text": [
            "\r 80%|████████  | 800/1000 [21:44<05:05,  1.53s/it]"
          ]
        },
        {
          "output_type": "stream",
          "name": "stdout",
          "text": [
            "Validation acc: 0.9688\n",
            "\n",
            "Start of epoch 800\n",
            "Training loss: 0.0000\n",
            "Training metric: 0.9782\n",
            "perturbation loss: 0.0000\n"
          ]
        },
        {
          "output_type": "stream",
          "name": "stderr",
          "text": [
            "\r 80%|████████  | 801/1000 [21:46<05:02,  1.52s/it]"
          ]
        },
        {
          "output_type": "stream",
          "name": "stdout",
          "text": [
            "Validation acc: 0.9688\n",
            "\n",
            "Start of epoch 801\n",
            "Training loss: 0.0000\n",
            "Training metric: 0.9782\n",
            "perturbation loss: 0.0000\n"
          ]
        },
        {
          "output_type": "stream",
          "name": "stderr",
          "text": [
            "\r 80%|████████  | 802/1000 [21:48<05:20,  1.62s/it]"
          ]
        },
        {
          "output_type": "stream",
          "name": "stdout",
          "text": [
            "Validation acc: 0.9609\n",
            "\n",
            "Start of epoch 802\n",
            "Training loss: 0.0000\n",
            "Training metric: 0.9782\n",
            "perturbation loss: 0.0000\n"
          ]
        },
        {
          "output_type": "stream",
          "name": "stderr",
          "text": [
            "\r 80%|████████  | 803/1000 [21:50<05:57,  1.81s/it]"
          ]
        },
        {
          "output_type": "stream",
          "name": "stdout",
          "text": [
            "Validation acc: 0.9688\n",
            "\n",
            "Start of epoch 803\n",
            "Training loss: 0.0000\n",
            "Training metric: 0.9783\n",
            "perturbation loss: 0.0001\n"
          ]
        },
        {
          "output_type": "stream",
          "name": "stderr",
          "text": [
            "\r 80%|████████  | 804/1000 [21:52<05:45,  1.77s/it]"
          ]
        },
        {
          "output_type": "stream",
          "name": "stdout",
          "text": [
            "Validation acc: 0.9688\n",
            "\n",
            "Start of epoch 804\n",
            "Training loss: 0.0000\n",
            "Training metric: 0.9783\n",
            "perturbation loss: 0.0001\n"
          ]
        },
        {
          "output_type": "stream",
          "name": "stderr",
          "text": [
            "\r 80%|████████  | 805/1000 [21:53<05:27,  1.68s/it]"
          ]
        },
        {
          "output_type": "stream",
          "name": "stdout",
          "text": [
            "Validation acc: 0.9609\n",
            "\n",
            "Start of epoch 805\n",
            "Training loss: 0.0000\n",
            "Training metric: 0.9783\n",
            "perturbation loss: 0.0000\n"
          ]
        },
        {
          "output_type": "stream",
          "name": "stderr",
          "text": [
            "\r 81%|████████  | 806/1000 [21:55<05:14,  1.62s/it]"
          ]
        },
        {
          "output_type": "stream",
          "name": "stdout",
          "text": [
            "Validation acc: 0.9766\n",
            "\n",
            "Start of epoch 806\n",
            "Training loss: 0.0000\n",
            "Training metric: 0.9783\n",
            "perturbation loss: 0.0000\n"
          ]
        },
        {
          "output_type": "stream",
          "name": "stderr",
          "text": [
            "\r 81%|████████  | 807/1000 [21:56<05:04,  1.58s/it]"
          ]
        },
        {
          "output_type": "stream",
          "name": "stdout",
          "text": [
            "Validation acc: 0.9766\n",
            "\n",
            "Start of epoch 807\n",
            "Training loss: 0.0000\n",
            "Training metric: 0.9784\n",
            "perturbation loss: 0.0000\n"
          ]
        },
        {
          "output_type": "stream",
          "name": "stderr",
          "text": [
            "\r 81%|████████  | 808/1000 [21:57<04:54,  1.53s/it]"
          ]
        },
        {
          "output_type": "stream",
          "name": "stdout",
          "text": [
            "Validation acc: 0.9609\n",
            "\n",
            "Start of epoch 808\n",
            "Training loss: 0.0000\n",
            "Training metric: 0.9784\n",
            "perturbation loss: 0.0000\n"
          ]
        },
        {
          "output_type": "stream",
          "name": "stderr",
          "text": [
            "\r 81%|████████  | 809/1000 [21:59<04:48,  1.51s/it]"
          ]
        },
        {
          "output_type": "stream",
          "name": "stdout",
          "text": [
            "Validation acc: 0.9531\n",
            "\n",
            "Start of epoch 809\n",
            "Training loss: 0.0000\n",
            "Training metric: 0.9784\n",
            "perturbation loss: 0.0000\n"
          ]
        },
        {
          "output_type": "stream",
          "name": "stderr",
          "text": [
            "\r 81%|████████  | 810/1000 [22:00<04:44,  1.50s/it]"
          ]
        },
        {
          "output_type": "stream",
          "name": "stdout",
          "text": [
            "Validation acc: 0.9688\n",
            "\n",
            "Start of epoch 810\n",
            "Training loss: 0.0000\n",
            "Training metric: 0.9784\n",
            "perturbation loss: 0.0000\n"
          ]
        },
        {
          "output_type": "stream",
          "name": "stderr",
          "text": [
            "\r 81%|████████  | 811/1000 [22:02<05:17,  1.68s/it]"
          ]
        },
        {
          "output_type": "stream",
          "name": "stdout",
          "text": [
            "Validation acc: 0.9609\n",
            "\n",
            "Start of epoch 811\n",
            "Training loss: 0.0000\n",
            "Training metric: 0.9785\n",
            "perturbation loss: 0.0000\n"
          ]
        },
        {
          "output_type": "stream",
          "name": "stderr",
          "text": [
            "\r 81%|████████  | 812/1000 [22:04<05:30,  1.76s/it]"
          ]
        },
        {
          "output_type": "stream",
          "name": "stdout",
          "text": [
            "Validation acc: 0.9688\n",
            "\n",
            "Start of epoch 812\n",
            "Training loss: 0.0000\n",
            "Training metric: 0.9785\n",
            "perturbation loss: 0.0000\n"
          ]
        },
        {
          "output_type": "stream",
          "name": "stderr",
          "text": [
            "\r 81%|████████▏ | 813/1000 [22:06<05:14,  1.68s/it]"
          ]
        },
        {
          "output_type": "stream",
          "name": "stdout",
          "text": [
            "Validation acc: 0.9688\n",
            "\n",
            "Start of epoch 813\n",
            "Training loss: 0.0000\n",
            "Training metric: 0.9785\n",
            "perturbation loss: 0.0000\n"
          ]
        },
        {
          "output_type": "stream",
          "name": "stderr",
          "text": [
            "\r 81%|████████▏ | 814/1000 [22:07<05:01,  1.62s/it]"
          ]
        },
        {
          "output_type": "stream",
          "name": "stdout",
          "text": [
            "Validation acc: 0.9609\n",
            "\n",
            "Start of epoch 814\n",
            "Training loss: 0.0000\n",
            "Training metric: 0.9786\n",
            "perturbation loss: 0.0001\n"
          ]
        },
        {
          "output_type": "stream",
          "name": "stderr",
          "text": [
            "\r 82%|████████▏ | 815/1000 [22:09<04:49,  1.57s/it]"
          ]
        },
        {
          "output_type": "stream",
          "name": "stdout",
          "text": [
            "Validation acc: 0.9688\n",
            "\n",
            "Start of epoch 815\n",
            "Training loss: 0.0000\n",
            "Training metric: 0.9786\n",
            "perturbation loss: 0.0001\n"
          ]
        },
        {
          "output_type": "stream",
          "name": "stderr",
          "text": [
            "\r 82%|████████▏ | 816/1000 [22:10<04:42,  1.53s/it]"
          ]
        },
        {
          "output_type": "stream",
          "name": "stdout",
          "text": [
            "Validation acc: 0.9688\n",
            "\n",
            "Start of epoch 816\n",
            "Training loss: 0.0000\n",
            "Training metric: 0.9786\n",
            "perturbation loss: 0.0006\n"
          ]
        },
        {
          "output_type": "stream",
          "name": "stderr",
          "text": [
            "\r 82%|████████▏ | 817/1000 [22:12<04:37,  1.52s/it]"
          ]
        },
        {
          "output_type": "stream",
          "name": "stdout",
          "text": [
            "Validation acc: 0.9453\n",
            "\n",
            "Start of epoch 817\n",
            "Training loss: 0.0001\n",
            "Training metric: 0.9786\n",
            "perturbation loss: 0.0002\n"
          ]
        },
        {
          "output_type": "stream",
          "name": "stderr",
          "text": [
            "\r 82%|████████▏ | 818/1000 [22:13<04:33,  1.50s/it]"
          ]
        },
        {
          "output_type": "stream",
          "name": "stdout",
          "text": [
            "Validation acc: 0.9531\n",
            "\n",
            "Start of epoch 818\n",
            "Training loss: 0.0000\n",
            "Training metric: 0.9787\n",
            "perturbation loss: 0.0006\n"
          ]
        },
        {
          "output_type": "stream",
          "name": "stderr",
          "text": [
            "\r 82%|████████▏ | 819/1000 [22:15<04:51,  1.61s/it]"
          ]
        },
        {
          "output_type": "stream",
          "name": "stdout",
          "text": [
            "Validation acc: 0.9766\n",
            "\n",
            "Start of epoch 819\n",
            "Training loss: 0.0000\n",
            "Training metric: 0.9787\n",
            "perturbation loss: 0.0002\n"
          ]
        },
        {
          "output_type": "stream",
          "name": "stderr",
          "text": [
            "\r 82%|████████▏ | 820/1000 [22:17<05:25,  1.81s/it]"
          ]
        },
        {
          "output_type": "stream",
          "name": "stdout",
          "text": [
            "Validation acc: 0.9609\n",
            "\n",
            "Start of epoch 820\n",
            "Training loss: 0.0000\n",
            "Training metric: 0.9787\n",
            "perturbation loss: 0.0001\n"
          ]
        },
        {
          "output_type": "stream",
          "name": "stderr",
          "text": [
            "\r 82%|████████▏ | 821/1000 [22:19<05:16,  1.77s/it]"
          ]
        },
        {
          "output_type": "stream",
          "name": "stdout",
          "text": [
            "Validation acc: 0.9688\n",
            "\n",
            "Start of epoch 821\n",
            "Training loss: 0.0001\n",
            "Training metric: 0.9787\n",
            "perturbation loss: 0.0002\n"
          ]
        },
        {
          "output_type": "stream",
          "name": "stderr",
          "text": [
            "\r 82%|████████▏ | 822/1000 [22:21<04:59,  1.68s/it]"
          ]
        },
        {
          "output_type": "stream",
          "name": "stdout",
          "text": [
            "Validation acc: 0.9688\n",
            "\n",
            "Start of epoch 822\n",
            "Training loss: 0.0000\n",
            "Training metric: 0.9788\n",
            "perturbation loss: 0.0000\n"
          ]
        },
        {
          "output_type": "stream",
          "name": "stderr",
          "text": [
            "\r 82%|████████▏ | 823/1000 [22:22<04:47,  1.63s/it]"
          ]
        },
        {
          "output_type": "stream",
          "name": "stdout",
          "text": [
            "Validation acc: 0.9688\n",
            "\n",
            "Start of epoch 823\n",
            "Training loss: 0.0000\n",
            "Training metric: 0.9788\n",
            "perturbation loss: 0.0000\n"
          ]
        },
        {
          "output_type": "stream",
          "name": "stderr",
          "text": [
            "\r 82%|████████▏ | 824/1000 [22:23<04:37,  1.58s/it]"
          ]
        },
        {
          "output_type": "stream",
          "name": "stdout",
          "text": [
            "Validation acc: 0.9688\n",
            "\n",
            "Start of epoch 824\n",
            "Training loss: 0.0000\n",
            "Training metric: 0.9788\n",
            "perturbation loss: 0.0001\n"
          ]
        },
        {
          "output_type": "stream",
          "name": "stderr",
          "text": [
            "\r 82%|████████▎ | 825/1000 [22:25<04:30,  1.55s/it]"
          ]
        },
        {
          "output_type": "stream",
          "name": "stdout",
          "text": [
            "Validation acc: 0.9688\n",
            "\n",
            "Start of epoch 825\n",
            "Training loss: 0.0001\n",
            "Training metric: 0.9788\n",
            "perturbation loss: 0.0002\n"
          ]
        },
        {
          "output_type": "stream",
          "name": "stderr",
          "text": [
            "\r 83%|████████▎ | 826/1000 [22:26<04:25,  1.53s/it]"
          ]
        },
        {
          "output_type": "stream",
          "name": "stdout",
          "text": [
            "Validation acc: 0.9688\n",
            "\n",
            "Start of epoch 826\n",
            "Training loss: 0.0001\n",
            "Training metric: 0.9789\n",
            "perturbation loss: 0.0004\n"
          ]
        },
        {
          "output_type": "stream",
          "name": "stderr",
          "text": [
            "\r 83%|████████▎ | 827/1000 [22:28<04:21,  1.51s/it]"
          ]
        },
        {
          "output_type": "stream",
          "name": "stdout",
          "text": [
            "Validation acc: 0.9688\n",
            "\n",
            "Start of epoch 827\n",
            "Training loss: 0.0000\n",
            "Training metric: 0.9789\n",
            "perturbation loss: 0.0000\n"
          ]
        },
        {
          "output_type": "stream",
          "name": "stderr",
          "text": [
            "\r 83%|████████▎ | 828/1000 [22:30<04:33,  1.59s/it]"
          ]
        },
        {
          "output_type": "stream",
          "name": "stdout",
          "text": [
            "Validation acc: 0.9766\n",
            "\n",
            "Start of epoch 828\n",
            "Training loss: 0.0000\n",
            "Training metric: 0.9789\n",
            "perturbation loss: 0.0000\n"
          ]
        },
        {
          "output_type": "stream",
          "name": "stderr",
          "text": [
            "\r 83%|████████▎ | 829/1000 [22:32<05:05,  1.79s/it]"
          ]
        },
        {
          "output_type": "stream",
          "name": "stdout",
          "text": [
            "Validation acc: 0.9609\n",
            "\n",
            "Start of epoch 829\n",
            "Training loss: 0.0000\n",
            "Training metric: 0.9789\n",
            "perturbation loss: 0.0000\n"
          ]
        },
        {
          "output_type": "stream",
          "name": "stderr",
          "text": [
            "\r 83%|████████▎ | 830/1000 [22:33<04:50,  1.71s/it]"
          ]
        },
        {
          "output_type": "stream",
          "name": "stdout",
          "text": [
            "Validation acc: 0.9609\n",
            "\n",
            "Start of epoch 830\n",
            "Training loss: 0.0000\n",
            "Training metric: 0.9790\n",
            "perturbation loss: 0.0000\n"
          ]
        },
        {
          "output_type": "stream",
          "name": "stderr",
          "text": [
            "\r 83%|████████▎ | 831/1000 [22:35<04:37,  1.64s/it]"
          ]
        },
        {
          "output_type": "stream",
          "name": "stdout",
          "text": [
            "Validation acc: 0.9609\n",
            "\n",
            "Start of epoch 831\n",
            "Training loss: 0.0000\n",
            "Training metric: 0.9790\n",
            "perturbation loss: 0.0002\n"
          ]
        },
        {
          "output_type": "stream",
          "name": "stderr",
          "text": [
            "\r 83%|████████▎ | 832/1000 [22:36<04:27,  1.59s/it]"
          ]
        },
        {
          "output_type": "stream",
          "name": "stdout",
          "text": [
            "Validation acc: 0.9609\n",
            "\n",
            "Start of epoch 832\n",
            "Training loss: 0.0000\n",
            "Training metric: 0.9790\n",
            "perturbation loss: 0.0000\n"
          ]
        },
        {
          "output_type": "stream",
          "name": "stderr",
          "text": [
            "\r 83%|████████▎ | 833/1000 [22:38<04:20,  1.56s/it]"
          ]
        },
        {
          "output_type": "stream",
          "name": "stdout",
          "text": [
            "Validation acc: 0.9688\n",
            "\n",
            "Start of epoch 833\n",
            "Training loss: 0.0000\n",
            "Training metric: 0.9790\n",
            "perturbation loss: 0.0000\n"
          ]
        },
        {
          "output_type": "stream",
          "name": "stderr",
          "text": [
            "\r 83%|████████▎ | 834/1000 [22:39<04:16,  1.55s/it]"
          ]
        },
        {
          "output_type": "stream",
          "name": "stdout",
          "text": [
            "Validation acc: 0.9688\n",
            "\n",
            "Start of epoch 834\n",
            "Training loss: 0.0000\n",
            "Training metric: 0.9791\n",
            "perturbation loss: 0.0000\n"
          ]
        },
        {
          "output_type": "stream",
          "name": "stderr",
          "text": [
            "\r 84%|████████▎ | 835/1000 [22:41<04:13,  1.53s/it]"
          ]
        },
        {
          "output_type": "stream",
          "name": "stdout",
          "text": [
            "Validation acc: 0.9688\n",
            "\n",
            "Start of epoch 835\n",
            "Training loss: 0.0006\n",
            "Training metric: 0.9791\n",
            "perturbation loss: 0.0004\n"
          ]
        },
        {
          "output_type": "stream",
          "name": "stderr",
          "text": [
            "\r 84%|████████▎ | 836/1000 [22:43<04:28,  1.63s/it]"
          ]
        },
        {
          "output_type": "stream",
          "name": "stdout",
          "text": [
            "Validation acc: 0.9609\n",
            "\n",
            "Start of epoch 836\n",
            "Training loss: 0.0000\n",
            "Training metric: 0.9791\n",
            "perturbation loss: 0.0000\n"
          ]
        },
        {
          "output_type": "stream",
          "name": "stderr",
          "text": [
            "\r 84%|████████▎ | 837/1000 [22:45<04:41,  1.72s/it]"
          ]
        },
        {
          "output_type": "stream",
          "name": "stdout",
          "text": [
            "Validation acc: 0.9609\n",
            "\n",
            "Start of epoch 837\n",
            "Training loss: 0.0002\n",
            "Training metric: 0.9791\n",
            "perturbation loss: 0.0005\n"
          ]
        },
        {
          "output_type": "stream",
          "name": "stderr",
          "text": [
            "\r 84%|████████▍ | 838/1000 [22:46<04:42,  1.74s/it]"
          ]
        },
        {
          "output_type": "stream",
          "name": "stdout",
          "text": [
            "Validation acc: 0.9375\n",
            "\n",
            "Start of epoch 838\n",
            "Training loss: 0.0000\n",
            "Training metric: 0.9792\n",
            "perturbation loss: 0.0000\n"
          ]
        },
        {
          "output_type": "stream",
          "name": "stderr",
          "text": [
            "\r 84%|████████▍ | 839/1000 [22:48<04:26,  1.66s/it]"
          ]
        },
        {
          "output_type": "stream",
          "name": "stdout",
          "text": [
            "Validation acc: 0.9609\n",
            "\n",
            "Start of epoch 839\n",
            "Training loss: 0.0001\n",
            "Training metric: 0.9792\n",
            "perturbation loss: 0.0004\n"
          ]
        },
        {
          "output_type": "stream",
          "name": "stderr",
          "text": [
            "\r 84%|████████▍ | 840/1000 [22:49<04:17,  1.61s/it]"
          ]
        },
        {
          "output_type": "stream",
          "name": "stdout",
          "text": [
            "Validation acc: 0.9531\n",
            "\n",
            "Start of epoch 840\n",
            "Training loss: 0.0000\n",
            "Training metric: 0.9792\n",
            "perturbation loss: 0.0000\n"
          ]
        },
        {
          "output_type": "stream",
          "name": "stderr",
          "text": [
            "\r 84%|████████▍ | 841/1000 [22:51<04:09,  1.57s/it]"
          ]
        },
        {
          "output_type": "stream",
          "name": "stdout",
          "text": [
            "Validation acc: 0.9453\n",
            "\n",
            "Start of epoch 841\n",
            "Training loss: 0.0001\n",
            "Training metric: 0.9792\n",
            "perturbation loss: 0.0002\n"
          ]
        },
        {
          "output_type": "stream",
          "name": "stderr",
          "text": [
            "\r 84%|████████▍ | 842/1000 [22:52<04:03,  1.54s/it]"
          ]
        },
        {
          "output_type": "stream",
          "name": "stdout",
          "text": [
            "Validation acc: 0.9844\n",
            "\n",
            "Start of epoch 842\n",
            "Training loss: 0.0000\n",
            "Training metric: 0.9793\n",
            "perturbation loss: 0.0000\n"
          ]
        },
        {
          "output_type": "stream",
          "name": "stderr",
          "text": [
            "\r 84%|████████▍ | 843/1000 [22:54<03:59,  1.53s/it]"
          ]
        },
        {
          "output_type": "stream",
          "name": "stdout",
          "text": [
            "Validation acc: 0.9688\n",
            "\n",
            "Start of epoch 843\n",
            "Training loss: 0.0000\n",
            "Training metric: 0.9793\n",
            "perturbation loss: 0.0000\n"
          ]
        },
        {
          "output_type": "stream",
          "name": "stderr",
          "text": [
            "\r 84%|████████▍ | 844/1000 [22:55<03:55,  1.51s/it]"
          ]
        },
        {
          "output_type": "stream",
          "name": "stdout",
          "text": [
            "Validation acc: 0.9922\n",
            "\n",
            "Start of epoch 844\n",
            "Training loss: 0.0000\n",
            "Training metric: 0.9793\n",
            "perturbation loss: 0.0000\n"
          ]
        },
        {
          "output_type": "stream",
          "name": "stderr",
          "text": [
            "\r 84%|████████▍ | 845/1000 [22:57<04:06,  1.59s/it]"
          ]
        },
        {
          "output_type": "stream",
          "name": "stdout",
          "text": [
            "Validation acc: 0.9844\n",
            "\n",
            "Start of epoch 845\n",
            "Training loss: 0.0001\n",
            "Training metric: 0.9793\n",
            "perturbation loss: 0.0045\n"
          ]
        },
        {
          "output_type": "stream",
          "name": "stderr",
          "text": [
            "\r 85%|████████▍ | 846/1000 [22:59<04:33,  1.78s/it]"
          ]
        },
        {
          "output_type": "stream",
          "name": "stdout",
          "text": [
            "Validation acc: 0.9609\n",
            "\n",
            "Start of epoch 846\n",
            "Training loss: 0.0004\n",
            "Training metric: 0.9794\n",
            "perturbation loss: 0.0128\n"
          ]
        },
        {
          "output_type": "stream",
          "name": "stderr",
          "text": [
            "\r 85%|████████▍ | 847/1000 [23:01<04:26,  1.74s/it]"
          ]
        },
        {
          "output_type": "stream",
          "name": "stdout",
          "text": [
            "Validation acc: 0.9609\n",
            "\n",
            "Start of epoch 847\n",
            "Training loss: 0.0001\n",
            "Training metric: 0.9794\n",
            "perturbation loss: 0.0017\n"
          ]
        },
        {
          "output_type": "stream",
          "name": "stderr",
          "text": [
            "\r 85%|████████▍ | 848/1000 [23:02<04:12,  1.66s/it]"
          ]
        },
        {
          "output_type": "stream",
          "name": "stdout",
          "text": [
            "Validation acc: 0.9688\n",
            "\n",
            "Start of epoch 848\n",
            "Training loss: 0.0000\n",
            "Training metric: 0.9794\n",
            "perturbation loss: 0.0000\n"
          ]
        },
        {
          "output_type": "stream",
          "name": "stderr",
          "text": [
            "\r 85%|████████▍ | 849/1000 [23:04<04:02,  1.60s/it]"
          ]
        },
        {
          "output_type": "stream",
          "name": "stdout",
          "text": [
            "Validation acc: 0.9609\n",
            "\n",
            "Start of epoch 849\n",
            "Training loss: 0.0000\n",
            "Training metric: 0.9794\n",
            "perturbation loss: 0.0000\n"
          ]
        },
        {
          "output_type": "stream",
          "name": "stderr",
          "text": [
            "\r 85%|████████▌ | 850/1000 [23:05<03:54,  1.56s/it]"
          ]
        },
        {
          "output_type": "stream",
          "name": "stdout",
          "text": [
            "Validation acc: 0.9844\n",
            "\n",
            "Start of epoch 850\n",
            "Training loss: 0.0000\n",
            "Training metric: 0.9795\n",
            "perturbation loss: 0.0000\n"
          ]
        },
        {
          "output_type": "stream",
          "name": "stderr",
          "text": [
            "\r 85%|████████▌ | 851/1000 [23:07<03:48,  1.54s/it]"
          ]
        },
        {
          "output_type": "stream",
          "name": "stdout",
          "text": [
            "Validation acc: 0.9688\n",
            "\n",
            "Start of epoch 851\n",
            "Training loss: 0.0000\n",
            "Training metric: 0.9795\n",
            "perturbation loss: 0.0001\n"
          ]
        },
        {
          "output_type": "stream",
          "name": "stderr",
          "text": [
            "\r 85%|████████▌ | 852/1000 [23:08<03:44,  1.52s/it]"
          ]
        },
        {
          "output_type": "stream",
          "name": "stdout",
          "text": [
            "Validation acc: 0.9766\n",
            "\n",
            "Start of epoch 852\n",
            "Training loss: 0.0000\n",
            "Training metric: 0.9795\n",
            "perturbation loss: 0.0001\n"
          ]
        },
        {
          "output_type": "stream",
          "name": "stderr",
          "text": [
            "\r 85%|████████▌ | 853/1000 [23:10<03:41,  1.51s/it]"
          ]
        },
        {
          "output_type": "stream",
          "name": "stdout",
          "text": [
            "Validation acc: 0.9844\n",
            "\n",
            "Start of epoch 853\n",
            "Training loss: 0.0000\n",
            "Training metric: 0.9795\n",
            "perturbation loss: 0.0000\n"
          ]
        },
        {
          "output_type": "stream",
          "name": "stderr",
          "text": [
            "\r 85%|████████▌ | 854/1000 [23:12<03:57,  1.63s/it]"
          ]
        },
        {
          "output_type": "stream",
          "name": "stdout",
          "text": [
            "Validation acc: 0.9766\n",
            "\n",
            "Start of epoch 854\n",
            "Training loss: 0.0000\n",
            "Training metric: 0.9796\n",
            "perturbation loss: 0.0000\n"
          ]
        },
        {
          "output_type": "stream",
          "name": "stderr",
          "text": [
            "\r 86%|████████▌ | 855/1000 [23:14<04:22,  1.81s/it]"
          ]
        },
        {
          "output_type": "stream",
          "name": "stdout",
          "text": [
            "Validation acc: 0.9531\n",
            "\n",
            "Start of epoch 855\n",
            "Training loss: 0.0000\n",
            "Training metric: 0.9796\n",
            "perturbation loss: 0.0001\n",
            "Validation acc: 0.9766\n"
          ]
        },
        {
          "output_type": "stream",
          "name": "stderr",
          "text": [
            "\r 86%|████████▌ | 856/1000 [23:16<04:19,  1.80s/it]"
          ]
        },
        {
          "output_type": "stream",
          "name": "stdout",
          "text": [
            "\n",
            "Start of epoch 856\n",
            "Training loss: 0.0000\n",
            "Training metric: 0.9796\n",
            "perturbation loss: 0.0000\n"
          ]
        },
        {
          "output_type": "stream",
          "name": "stderr",
          "text": [
            "\r 86%|████████▌ | 857/1000 [23:17<04:02,  1.70s/it]"
          ]
        },
        {
          "output_type": "stream",
          "name": "stdout",
          "text": [
            "Validation acc: 0.9531\n",
            "\n",
            "Start of epoch 857\n",
            "Training loss: 0.0000\n",
            "Training metric: 0.9796\n",
            "perturbation loss: 0.0000\n"
          ]
        },
        {
          "output_type": "stream",
          "name": "stderr",
          "text": [
            "\r 86%|████████▌ | 858/1000 [23:19<03:51,  1.63s/it]"
          ]
        },
        {
          "output_type": "stream",
          "name": "stdout",
          "text": [
            "Validation acc: 0.9766\n",
            "\n",
            "Start of epoch 858\n",
            "Training loss: 0.0000\n",
            "Training metric: 0.9796\n",
            "perturbation loss: 0.0000\n"
          ]
        },
        {
          "output_type": "stream",
          "name": "stderr",
          "text": [
            "\r 86%|████████▌ | 859/1000 [23:20<03:43,  1.59s/it]"
          ]
        },
        {
          "output_type": "stream",
          "name": "stdout",
          "text": [
            "Validation acc: 0.9531\n",
            "\n",
            "Start of epoch 859\n",
            "Training loss: 0.0000\n",
            "Training metric: 0.9797\n",
            "perturbation loss: 0.0000\n"
          ]
        },
        {
          "output_type": "stream",
          "name": "stderr",
          "text": [
            "\r 86%|████████▌ | 860/1000 [23:22<03:37,  1.56s/it]"
          ]
        },
        {
          "output_type": "stream",
          "name": "stdout",
          "text": [
            "Validation acc: 0.9609\n",
            "\n",
            "Start of epoch 860\n",
            "Training loss: 0.0000\n",
            "Training metric: 0.9797\n",
            "perturbation loss: 0.0000\n"
          ]
        },
        {
          "output_type": "stream",
          "name": "stderr",
          "text": [
            "\r 86%|████████▌ | 861/1000 [23:23<03:32,  1.53s/it]"
          ]
        },
        {
          "output_type": "stream",
          "name": "stdout",
          "text": [
            "Validation acc: 0.9531\n",
            "\n",
            "Start of epoch 861\n",
            "Training loss: 0.0000\n",
            "Training metric: 0.9797\n",
            "perturbation loss: 0.0000\n"
          ]
        },
        {
          "output_type": "stream",
          "name": "stderr",
          "text": [
            "\r 86%|████████▌ | 862/1000 [23:25<03:38,  1.59s/it]"
          ]
        },
        {
          "output_type": "stream",
          "name": "stdout",
          "text": [
            "Validation acc: 0.9609\n",
            "\n",
            "Start of epoch 862\n",
            "Training loss: 0.0000\n",
            "Training metric: 0.9797\n",
            "perturbation loss: 0.0000\n"
          ]
        },
        {
          "output_type": "stream",
          "name": "stderr",
          "text": [
            "\r 86%|████████▋ | 863/1000 [23:27<04:03,  1.78s/it]"
          ]
        },
        {
          "output_type": "stream",
          "name": "stdout",
          "text": [
            "Validation acc: 0.9609\n",
            "\n",
            "Start of epoch 863\n",
            "Training loss: 0.0000\n",
            "Training metric: 0.9798\n",
            "perturbation loss: 0.0000\n"
          ]
        },
        {
          "output_type": "stream",
          "name": "stderr",
          "text": [
            "\r 86%|████████▋ | 864/1000 [23:29<03:55,  1.73s/it]"
          ]
        },
        {
          "output_type": "stream",
          "name": "stdout",
          "text": [
            "Validation acc: 0.9688\n",
            "\n",
            "Start of epoch 864\n",
            "Training loss: 0.0000\n",
            "Training metric: 0.9798\n",
            "perturbation loss: 0.0003\n"
          ]
        },
        {
          "output_type": "stream",
          "name": "stderr",
          "text": [
            "\r 86%|████████▋ | 865/1000 [23:30<03:43,  1.65s/it]"
          ]
        },
        {
          "output_type": "stream",
          "name": "stdout",
          "text": [
            "Validation acc: 0.9609\n",
            "\n",
            "Start of epoch 865\n",
            "Training loss: 0.0000\n",
            "Training metric: 0.9798\n",
            "perturbation loss: 0.0000\n"
          ]
        },
        {
          "output_type": "stream",
          "name": "stderr",
          "text": [
            "\r 87%|████████▋ | 866/1000 [23:32<03:34,  1.60s/it]"
          ]
        },
        {
          "output_type": "stream",
          "name": "stdout",
          "text": [
            "Validation acc: 0.9531\n",
            "\n",
            "Start of epoch 866\n",
            "Training loss: 0.0000\n",
            "Training metric: 0.9798\n",
            "perturbation loss: 0.0000\n"
          ]
        },
        {
          "output_type": "stream",
          "name": "stderr",
          "text": [
            "\r 87%|████████▋ | 867/1000 [23:33<03:27,  1.56s/it]"
          ]
        },
        {
          "output_type": "stream",
          "name": "stdout",
          "text": [
            "Validation acc: 0.9453\n",
            "\n",
            "Start of epoch 867\n",
            "Training loss: 0.0000\n",
            "Training metric: 0.9799\n",
            "perturbation loss: 0.0000\n"
          ]
        },
        {
          "output_type": "stream",
          "name": "stderr",
          "text": [
            "\r 87%|████████▋ | 868/1000 [23:35<03:23,  1.54s/it]"
          ]
        },
        {
          "output_type": "stream",
          "name": "stdout",
          "text": [
            "Validation acc: 0.9609\n",
            "\n",
            "Start of epoch 868\n",
            "Training loss: 0.0000\n",
            "Training metric: 0.9799\n",
            "perturbation loss: 0.0000\n"
          ]
        },
        {
          "output_type": "stream",
          "name": "stderr",
          "text": [
            "\r 87%|████████▋ | 869/1000 [23:36<03:19,  1.52s/it]"
          ]
        },
        {
          "output_type": "stream",
          "name": "stdout",
          "text": [
            "Validation acc: 0.9609\n",
            "\n",
            "Start of epoch 869\n",
            "Training loss: 0.0000\n",
            "Training metric: 0.9799\n",
            "perturbation loss: 0.0000\n"
          ]
        },
        {
          "output_type": "stream",
          "name": "stderr",
          "text": [
            "\r 87%|████████▋ | 870/1000 [23:38<03:14,  1.50s/it]"
          ]
        },
        {
          "output_type": "stream",
          "name": "stdout",
          "text": [
            "Validation acc: 0.9609\n",
            "\n",
            "Start of epoch 870\n",
            "Training loss: 0.0000\n",
            "Training metric: 0.9799\n",
            "perturbation loss: 0.0000\n"
          ]
        },
        {
          "output_type": "stream",
          "name": "stderr",
          "text": [
            "\r 87%|████████▋ | 871/1000 [23:39<03:27,  1.61s/it]"
          ]
        },
        {
          "output_type": "stream",
          "name": "stdout",
          "text": [
            "Validation acc: 0.9688\n",
            "\n",
            "Start of epoch 871\n",
            "Training loss: 0.0000\n",
            "Training metric: 0.9799\n",
            "perturbation loss: 0.0000\n"
          ]
        },
        {
          "output_type": "stream",
          "name": "stderr",
          "text": [
            "\r 87%|████████▋ | 872/1000 [23:42<03:49,  1.79s/it]"
          ]
        },
        {
          "output_type": "stream",
          "name": "stdout",
          "text": [
            "Validation acc: 0.9766\n",
            "\n",
            "Start of epoch 872\n",
            "Training loss: 0.0000\n",
            "Training metric: 0.9800\n",
            "perturbation loss: 0.0001\n"
          ]
        },
        {
          "output_type": "stream",
          "name": "stderr",
          "text": [
            "\r 87%|████████▋ | 873/1000 [23:43<03:35,  1.69s/it]"
          ]
        },
        {
          "output_type": "stream",
          "name": "stdout",
          "text": [
            "Validation acc: 0.9688\n",
            "\n",
            "Start of epoch 873\n",
            "Training loss: 0.0000\n",
            "Training metric: 0.9800\n",
            "perturbation loss: 0.0000\n"
          ]
        },
        {
          "output_type": "stream",
          "name": "stderr",
          "text": [
            "\r 87%|████████▋ | 874/1000 [23:45<03:26,  1.64s/it]"
          ]
        },
        {
          "output_type": "stream",
          "name": "stdout",
          "text": [
            "Validation acc: 0.9609\n",
            "\n",
            "Start of epoch 874\n",
            "Training loss: 0.0000\n",
            "Training metric: 0.9800\n",
            "perturbation loss: 0.0000\n"
          ]
        },
        {
          "output_type": "stream",
          "name": "stderr",
          "text": [
            "\r 88%|████████▊ | 875/1000 [23:46<03:18,  1.59s/it]"
          ]
        },
        {
          "output_type": "stream",
          "name": "stdout",
          "text": [
            "Validation acc: 0.9609\n",
            "\n",
            "Start of epoch 875\n",
            "Training loss: 0.0000\n",
            "Training metric: 0.9800\n",
            "perturbation loss: 0.0000\n"
          ]
        },
        {
          "output_type": "stream",
          "name": "stderr",
          "text": [
            "\r 88%|████████▊ | 876/1000 [23:48<03:13,  1.56s/it]"
          ]
        },
        {
          "output_type": "stream",
          "name": "stdout",
          "text": [
            "Validation acc: 0.9609\n",
            "\n",
            "Start of epoch 876\n",
            "Training loss: 0.0000\n",
            "Training metric: 0.9801\n",
            "perturbation loss: 0.0000\n"
          ]
        },
        {
          "output_type": "stream",
          "name": "stderr",
          "text": [
            "\r 88%|████████▊ | 877/1000 [23:49<03:09,  1.54s/it]"
          ]
        },
        {
          "output_type": "stream",
          "name": "stdout",
          "text": [
            "Validation acc: 0.9766\n",
            "\n",
            "Start of epoch 877\n",
            "Training loss: 0.0000\n",
            "Training metric: 0.9801\n",
            "perturbation loss: 0.0000\n"
          ]
        },
        {
          "output_type": "stream",
          "name": "stderr",
          "text": [
            "\r 88%|████████▊ | 878/1000 [23:51<03:05,  1.52s/it]"
          ]
        },
        {
          "output_type": "stream",
          "name": "stdout",
          "text": [
            "Validation acc: 0.9688\n",
            "\n",
            "Start of epoch 878\n",
            "Training loss: 0.0000\n",
            "Training metric: 0.9801\n",
            "perturbation loss: 0.0001\n"
          ]
        },
        {
          "output_type": "stream",
          "name": "stderr",
          "text": [
            "\r 88%|████████▊ | 879/1000 [23:52<03:16,  1.63s/it]"
          ]
        },
        {
          "output_type": "stream",
          "name": "stdout",
          "text": [
            "Validation acc: 0.9766\n",
            "\n",
            "Start of epoch 879\n",
            "Training loss: 0.0000\n",
            "Training metric: 0.9801\n",
            "perturbation loss: 0.0000\n"
          ]
        },
        {
          "output_type": "stream",
          "name": "stderr",
          "text": [
            "\r 88%|████████▊ | 880/1000 [23:54<03:27,  1.73s/it]"
          ]
        },
        {
          "output_type": "stream",
          "name": "stdout",
          "text": [
            "Validation acc: 0.9766\n",
            "\n",
            "Start of epoch 880\n",
            "Training loss: 0.0000\n",
            "Training metric: 0.9802\n",
            "perturbation loss: 0.0000\n"
          ]
        },
        {
          "output_type": "stream",
          "name": "stderr",
          "text": [
            "\r 88%|████████▊ | 881/1000 [23:56<03:27,  1.74s/it]"
          ]
        },
        {
          "output_type": "stream",
          "name": "stdout",
          "text": [
            "Validation acc: 0.9688\n",
            "\n",
            "Start of epoch 881\n",
            "Training loss: 0.0000\n",
            "Training metric: 0.9802\n",
            "perturbation loss: 0.0000\n"
          ]
        },
        {
          "output_type": "stream",
          "name": "stderr",
          "text": [
            "\r 88%|████████▊ | 882/1000 [23:58<03:15,  1.66s/it]"
          ]
        },
        {
          "output_type": "stream",
          "name": "stdout",
          "text": [
            "Validation acc: 0.9609\n",
            "\n",
            "Start of epoch 882\n",
            "Training loss: 0.0000\n",
            "Training metric: 0.9802\n",
            "perturbation loss: 0.0001\n"
          ]
        },
        {
          "output_type": "stream",
          "name": "stderr",
          "text": [
            "\r 88%|████████▊ | 883/1000 [23:59<03:06,  1.60s/it]"
          ]
        },
        {
          "output_type": "stream",
          "name": "stdout",
          "text": [
            "Validation acc: 0.9531\n",
            "\n",
            "Start of epoch 883\n",
            "Training loss: 0.0000\n",
            "Training metric: 0.9802\n",
            "perturbation loss: 0.0006\n"
          ]
        },
        {
          "output_type": "stream",
          "name": "stderr",
          "text": [
            "\r 88%|████████▊ | 884/1000 [24:01<03:02,  1.58s/it]"
          ]
        },
        {
          "output_type": "stream",
          "name": "stdout",
          "text": [
            "Validation acc: 0.9609\n",
            "\n",
            "Start of epoch 884\n",
            "Training loss: 0.0000\n",
            "Training metric: 0.9802\n",
            "perturbation loss: 0.0000\n"
          ]
        },
        {
          "output_type": "stream",
          "name": "stderr",
          "text": [
            "\r 88%|████████▊ | 885/1000 [24:02<02:57,  1.55s/it]"
          ]
        },
        {
          "output_type": "stream",
          "name": "stdout",
          "text": [
            "Validation acc: 0.9531\n",
            "\n",
            "Start of epoch 885\n",
            "Training loss: 0.0000\n",
            "Training metric: 0.9803\n",
            "perturbation loss: 0.0000\n"
          ]
        },
        {
          "output_type": "stream",
          "name": "stderr",
          "text": [
            "\r 89%|████████▊ | 886/1000 [24:04<02:52,  1.52s/it]"
          ]
        },
        {
          "output_type": "stream",
          "name": "stdout",
          "text": [
            "Validation acc: 0.9688\n",
            "\n",
            "Start of epoch 886\n",
            "Training loss: 0.0000\n",
            "Training metric: 0.9803\n",
            "perturbation loss: 0.0000\n"
          ]
        },
        {
          "output_type": "stream",
          "name": "stderr",
          "text": [
            "\r 89%|████████▊ | 887/1000 [24:05<02:49,  1.50s/it]"
          ]
        },
        {
          "output_type": "stream",
          "name": "stdout",
          "text": [
            "Validation acc: 0.9688\n",
            "\n",
            "Start of epoch 887\n",
            "Training loss: 0.0000\n",
            "Training metric: 0.9803\n",
            "perturbation loss: 0.0000\n"
          ]
        },
        {
          "output_type": "stream",
          "name": "stderr",
          "text": [
            "\r 89%|████████▉ | 888/1000 [24:07<02:56,  1.58s/it]"
          ]
        },
        {
          "output_type": "stream",
          "name": "stdout",
          "text": [
            "Validation acc: 0.9609\n",
            "\n",
            "Start of epoch 888\n",
            "Training loss: 0.0000\n",
            "Training metric: 0.9803\n",
            "perturbation loss: 0.0000\n"
          ]
        },
        {
          "output_type": "stream",
          "name": "stderr",
          "text": [
            "\r 89%|████████▉ | 889/1000 [24:09<03:07,  1.69s/it]"
          ]
        },
        {
          "output_type": "stream",
          "name": "stdout",
          "text": [
            "Validation acc: 0.9688\n",
            "\n",
            "Start of epoch 889\n",
            "Training loss: 0.0000\n",
            "Training metric: 0.9804\n",
            "perturbation loss: 0.0000\n"
          ]
        },
        {
          "output_type": "stream",
          "name": "stderr",
          "text": [
            "\r 89%|████████▉ | 890/1000 [24:10<03:04,  1.68s/it]"
          ]
        },
        {
          "output_type": "stream",
          "name": "stdout",
          "text": [
            "Validation acc: 0.9766\n",
            "\n",
            "Start of epoch 890\n",
            "Training loss: 0.0000\n",
            "Training metric: 0.9804\n",
            "perturbation loss: 0.0000\n"
          ]
        },
        {
          "output_type": "stream",
          "name": "stderr",
          "text": [
            "\r 89%|████████▉ | 891/1000 [24:12<02:55,  1.61s/it]"
          ]
        },
        {
          "output_type": "stream",
          "name": "stdout",
          "text": [
            "Validation acc: 0.9688\n",
            "\n",
            "Start of epoch 891\n",
            "Training loss: 0.0000\n",
            "Training metric: 0.9804\n",
            "perturbation loss: 0.0000\n"
          ]
        },
        {
          "output_type": "stream",
          "name": "stderr",
          "text": [
            "\r 89%|████████▉ | 892/1000 [24:13<02:50,  1.57s/it]"
          ]
        },
        {
          "output_type": "stream",
          "name": "stdout",
          "text": [
            "Validation acc: 0.9688\n",
            "\n",
            "Start of epoch 892\n",
            "Training loss: 0.0000\n",
            "Training metric: 0.9804\n",
            "perturbation loss: 0.0000\n"
          ]
        },
        {
          "output_type": "stream",
          "name": "stderr",
          "text": [
            "\r 89%|████████▉ | 893/1000 [24:15<02:45,  1.54s/it]"
          ]
        },
        {
          "output_type": "stream",
          "name": "stdout",
          "text": [
            "Validation acc: 0.9609\n",
            "\n",
            "Start of epoch 893\n",
            "Training loss: 0.0000\n",
            "Training metric: 0.9804\n",
            "perturbation loss: 0.0000\n"
          ]
        },
        {
          "output_type": "stream",
          "name": "stderr",
          "text": [
            "\r 89%|████████▉ | 894/1000 [24:16<02:41,  1.52s/it]"
          ]
        },
        {
          "output_type": "stream",
          "name": "stdout",
          "text": [
            "Validation acc: 0.9609\n",
            "\n",
            "Start of epoch 894\n",
            "Training loss: 0.0000\n",
            "Training metric: 0.9805\n",
            "perturbation loss: 0.0000\n"
          ]
        },
        {
          "output_type": "stream",
          "name": "stderr",
          "text": [
            "\r 90%|████████▉ | 895/1000 [24:18<02:39,  1.52s/it]"
          ]
        },
        {
          "output_type": "stream",
          "name": "stdout",
          "text": [
            "Validation acc: 0.9688\n",
            "\n",
            "Start of epoch 895\n",
            "Training loss: 0.0000\n",
            "Training metric: 0.9805\n",
            "perturbation loss: 0.0002\n"
          ]
        },
        {
          "output_type": "stream",
          "name": "stderr",
          "text": [
            "\r 90%|████████▉ | 896/1000 [24:19<02:36,  1.51s/it]"
          ]
        },
        {
          "output_type": "stream",
          "name": "stdout",
          "text": [
            "Validation acc: 0.9531\n",
            "\n",
            "Start of epoch 896\n",
            "Training loss: 0.0000\n",
            "Training metric: 0.9805\n",
            "perturbation loss: 0.0000\n"
          ]
        },
        {
          "output_type": "stream",
          "name": "stderr",
          "text": [
            "\r 90%|████████▉ | 897/1000 [24:21<02:46,  1.62s/it]"
          ]
        },
        {
          "output_type": "stream",
          "name": "stdout",
          "text": [
            "Validation acc: 0.9531\n",
            "\n",
            "Start of epoch 897\n",
            "Training loss: 0.0000\n",
            "Training metric: 0.9805\n",
            "perturbation loss: 0.0002\n"
          ]
        },
        {
          "output_type": "stream",
          "name": "stderr",
          "text": [
            "\r 90%|████████▉ | 898/1000 [24:23<02:53,  1.70s/it]"
          ]
        },
        {
          "output_type": "stream",
          "name": "stdout",
          "text": [
            "Validation acc: 0.9531\n",
            "\n",
            "Start of epoch 898\n",
            "Training loss: 0.0000\n",
            "Training metric: 0.9805\n",
            "perturbation loss: 0.0002\n"
          ]
        },
        {
          "output_type": "stream",
          "name": "stderr",
          "text": [
            "\r 90%|████████▉ | 899/1000 [24:25<02:49,  1.67s/it]"
          ]
        },
        {
          "output_type": "stream",
          "name": "stdout",
          "text": [
            "Validation acc: 0.9766\n",
            "\n",
            "Start of epoch 899\n",
            "Training loss: 0.0000\n",
            "Training metric: 0.9806\n",
            "perturbation loss: 0.0000\n"
          ]
        },
        {
          "output_type": "stream",
          "name": "stderr",
          "text": [
            "\r 90%|█████████ | 900/1000 [24:26<02:41,  1.61s/it]"
          ]
        },
        {
          "output_type": "stream",
          "name": "stdout",
          "text": [
            "Validation acc: 0.9688\n",
            "\n",
            "Start of epoch 900\n",
            "Training loss: 0.0000\n",
            "Training metric: 0.9806\n",
            "perturbation loss: 0.0000\n"
          ]
        },
        {
          "output_type": "stream",
          "name": "stderr",
          "text": [
            "\r 90%|█████████ | 901/1000 [24:28<02:34,  1.56s/it]"
          ]
        },
        {
          "output_type": "stream",
          "name": "stdout",
          "text": [
            "Validation acc: 0.9688\n",
            "\n",
            "Start of epoch 901\n",
            "Training loss: 0.0000\n",
            "Training metric: 0.9806\n",
            "perturbation loss: 0.0002\n"
          ]
        },
        {
          "output_type": "stream",
          "name": "stderr",
          "text": [
            "\r 90%|█████████ | 902/1000 [24:29<02:29,  1.53s/it]"
          ]
        },
        {
          "output_type": "stream",
          "name": "stdout",
          "text": [
            "Validation acc: 0.9688\n",
            "\n",
            "Start of epoch 902\n",
            "Training loss: 0.0000\n",
            "Training metric: 0.9806\n",
            "perturbation loss: 0.0000\n"
          ]
        },
        {
          "output_type": "stream",
          "name": "stderr",
          "text": [
            "\r 90%|█████████ | 903/1000 [24:30<02:26,  1.51s/it]"
          ]
        },
        {
          "output_type": "stream",
          "name": "stdout",
          "text": [
            "Validation acc: 0.9688\n",
            "\n",
            "Start of epoch 903\n",
            "Training loss: 0.0000\n",
            "Training metric: 0.9807\n",
            "perturbation loss: 0.0000\n"
          ]
        },
        {
          "output_type": "stream",
          "name": "stderr",
          "text": [
            "\r 90%|█████████ | 904/1000 [24:32<02:24,  1.50s/it]"
          ]
        },
        {
          "output_type": "stream",
          "name": "stdout",
          "text": [
            "Validation acc: 0.9688\n",
            "\n",
            "Start of epoch 904\n",
            "Training loss: 0.0000\n",
            "Training metric: 0.9807\n",
            "perturbation loss: 0.0000\n"
          ]
        },
        {
          "output_type": "stream",
          "name": "stderr",
          "text": [
            "\r 90%|█████████ | 905/1000 [24:33<02:22,  1.50s/it]"
          ]
        },
        {
          "output_type": "stream",
          "name": "stdout",
          "text": [
            "Validation acc: 0.9766\n",
            "\n",
            "Start of epoch 905\n",
            "Training loss: 0.0003\n",
            "Training metric: 0.9807\n",
            "perturbation loss: 0.0048\n"
          ]
        },
        {
          "output_type": "stream",
          "name": "stderr",
          "text": [
            "\r 91%|█████████ | 906/1000 [24:35<02:31,  1.62s/it]"
          ]
        },
        {
          "output_type": "stream",
          "name": "stdout",
          "text": [
            "Validation acc: 0.9766\n",
            "\n",
            "Start of epoch 906\n",
            "Training loss: 0.0000\n",
            "Training metric: 0.9807\n",
            "perturbation loss: 0.0000\n"
          ]
        },
        {
          "output_type": "stream",
          "name": "stderr",
          "text": [
            "\r 91%|█████████ | 907/1000 [24:38<02:47,  1.80s/it]"
          ]
        },
        {
          "output_type": "stream",
          "name": "stdout",
          "text": [
            "Validation acc: 0.9766\n",
            "\n",
            "Start of epoch 907\n",
            "Training loss: 0.0000\n",
            "Training metric: 0.9807\n",
            "perturbation loss: 0.0000\n"
          ]
        },
        {
          "output_type": "stream",
          "name": "stderr",
          "text": [
            "\r 91%|█████████ | 908/1000 [24:39<02:36,  1.70s/it]"
          ]
        },
        {
          "output_type": "stream",
          "name": "stdout",
          "text": [
            "Validation acc: 0.9609\n",
            "\n",
            "Start of epoch 908\n",
            "Training loss: 0.0000\n",
            "Training metric: 0.9808\n",
            "perturbation loss: 0.0000\n"
          ]
        },
        {
          "output_type": "stream",
          "name": "stderr",
          "text": [
            "\r 91%|█████████ | 909/1000 [24:41<02:28,  1.64s/it]"
          ]
        },
        {
          "output_type": "stream",
          "name": "stdout",
          "text": [
            "Validation acc: 0.9766\n",
            "\n",
            "Start of epoch 909\n",
            "Training loss: 0.0000\n",
            "Training metric: 0.9808\n",
            "perturbation loss: 0.0000\n"
          ]
        },
        {
          "output_type": "stream",
          "name": "stderr",
          "text": [
            "\r 91%|█████████ | 910/1000 [24:42<02:22,  1.59s/it]"
          ]
        },
        {
          "output_type": "stream",
          "name": "stdout",
          "text": [
            "Validation acc: 0.9688\n",
            "\n",
            "Start of epoch 910\n",
            "Training loss: 0.0000\n",
            "Training metric: 0.9808\n",
            "perturbation loss: 0.0000\n"
          ]
        },
        {
          "output_type": "stream",
          "name": "stderr",
          "text": [
            "\r 91%|█████████ | 911/1000 [24:43<02:18,  1.55s/it]"
          ]
        },
        {
          "output_type": "stream",
          "name": "stdout",
          "text": [
            "Validation acc: 0.9688\n",
            "\n",
            "Start of epoch 911\n",
            "Training loss: 0.0000\n",
            "Training metric: 0.9808\n",
            "perturbation loss: 0.0000\n"
          ]
        },
        {
          "output_type": "stream",
          "name": "stderr",
          "text": [
            "\r 91%|█████████ | 912/1000 [24:45<02:14,  1.52s/it]"
          ]
        },
        {
          "output_type": "stream",
          "name": "stdout",
          "text": [
            "Validation acc: 0.9688\n",
            "\n",
            "Start of epoch 912\n",
            "Training loss: 0.0000\n",
            "Training metric: 0.9808\n",
            "perturbation loss: 0.0001\n"
          ]
        },
        {
          "output_type": "stream",
          "name": "stderr",
          "text": [
            "\r 91%|█████████▏| 913/1000 [24:46<02:10,  1.50s/it]"
          ]
        },
        {
          "output_type": "stream",
          "name": "stdout",
          "text": [
            "Validation acc: 0.9688\n",
            "\n",
            "Start of epoch 913\n",
            "Training loss: 0.0000\n",
            "Training metric: 0.9809\n",
            "perturbation loss: 0.0000\n"
          ]
        },
        {
          "output_type": "stream",
          "name": "stderr",
          "text": [
            "\r 91%|█████████▏| 914/1000 [24:48<02:18,  1.61s/it]"
          ]
        },
        {
          "output_type": "stream",
          "name": "stdout",
          "text": [
            "Validation acc: 0.9688\n",
            "\n",
            "Start of epoch 914\n",
            "Training loss: 0.0000\n",
            "Training metric: 0.9809\n",
            "perturbation loss: 0.0000\n"
          ]
        },
        {
          "output_type": "stream",
          "name": "stderr",
          "text": [
            "\r 92%|█████████▏| 915/1000 [24:50<02:25,  1.72s/it]"
          ]
        },
        {
          "output_type": "stream",
          "name": "stdout",
          "text": [
            "Validation acc: 0.9688\n",
            "\n",
            "Start of epoch 915\n",
            "Training loss: 0.0000\n",
            "Training metric: 0.9809\n",
            "perturbation loss: 0.0000\n"
          ]
        },
        {
          "output_type": "stream",
          "name": "stderr",
          "text": [
            "\r 92%|█████████▏| 916/1000 [24:52<02:25,  1.73s/it]"
          ]
        },
        {
          "output_type": "stream",
          "name": "stdout",
          "text": [
            "Validation acc: 0.9688\n",
            "\n",
            "Start of epoch 916\n",
            "Training loss: 0.0000\n",
            "Training metric: 0.9809\n",
            "perturbation loss: 0.0000\n"
          ]
        },
        {
          "output_type": "stream",
          "name": "stderr",
          "text": [
            "\r 92%|█████████▏| 917/1000 [24:53<02:17,  1.66s/it]"
          ]
        },
        {
          "output_type": "stream",
          "name": "stdout",
          "text": [
            "Validation acc: 0.9688\n",
            "\n",
            "Start of epoch 917\n",
            "Training loss: 0.0000\n",
            "Training metric: 0.9810\n",
            "perturbation loss: 0.0001\n"
          ]
        },
        {
          "output_type": "stream",
          "name": "stderr",
          "text": [
            "\r 92%|█████████▏| 918/1000 [24:55<02:11,  1.60s/it]"
          ]
        },
        {
          "output_type": "stream",
          "name": "stdout",
          "text": [
            "Validation acc: 0.9844\n",
            "\n",
            "Start of epoch 918\n",
            "Training loss: 0.0000\n",
            "Training metric: 0.9810\n",
            "perturbation loss: 0.0000\n"
          ]
        },
        {
          "output_type": "stream",
          "name": "stderr",
          "text": [
            "\r 92%|█████████▏| 919/1000 [24:56<02:06,  1.57s/it]"
          ]
        },
        {
          "output_type": "stream",
          "name": "stdout",
          "text": [
            "Validation acc: 0.9688\n",
            "\n",
            "Start of epoch 919\n",
            "Training loss: 0.0000\n",
            "Training metric: 0.9810\n",
            "perturbation loss: 0.0003\n"
          ]
        },
        {
          "output_type": "stream",
          "name": "stderr",
          "text": [
            "\r 92%|█████████▏| 920/1000 [24:58<02:03,  1.54s/it]"
          ]
        },
        {
          "output_type": "stream",
          "name": "stdout",
          "text": [
            "Validation acc: 0.9609\n",
            "\n",
            "Start of epoch 920\n",
            "Training loss: 0.0000\n",
            "Training metric: 0.9810\n",
            "perturbation loss: 0.0003\n"
          ]
        },
        {
          "output_type": "stream",
          "name": "stderr",
          "text": [
            "\r 92%|█████████▏| 921/1000 [24:59<02:00,  1.53s/it]"
          ]
        },
        {
          "output_type": "stream",
          "name": "stdout",
          "text": [
            "Validation acc: 0.9609\n",
            "\n",
            "Start of epoch 921\n",
            "Training loss: 0.0000\n",
            "Training metric: 0.9810\n",
            "perturbation loss: 0.0000\n"
          ]
        },
        {
          "output_type": "stream",
          "name": "stderr",
          "text": [
            "\r 92%|█████████▏| 922/1000 [25:01<01:57,  1.51s/it]"
          ]
        },
        {
          "output_type": "stream",
          "name": "stdout",
          "text": [
            "Validation acc: 0.9688\n",
            "\n",
            "Start of epoch 922\n",
            "Training loss: 0.0000\n",
            "Training metric: 0.9811\n",
            "perturbation loss: 0.0000\n"
          ]
        },
        {
          "output_type": "stream",
          "name": "stderr",
          "text": [
            "\r 92%|█████████▏| 923/1000 [25:03<02:08,  1.66s/it]"
          ]
        },
        {
          "output_type": "stream",
          "name": "stdout",
          "text": [
            "Validation acc: 0.9609\n",
            "\n",
            "Start of epoch 923\n",
            "Training loss: 0.0005\n",
            "Training metric: 0.9811\n",
            "perturbation loss: 0.0001\n"
          ]
        },
        {
          "output_type": "stream",
          "name": "stderr",
          "text": [
            "\r 92%|█████████▏| 924/1000 [25:05<02:14,  1.77s/it]"
          ]
        },
        {
          "output_type": "stream",
          "name": "stdout",
          "text": [
            "Validation acc: 0.9531\n",
            "\n",
            "Start of epoch 924\n",
            "Training loss: 0.0000\n",
            "Training metric: 0.9811\n",
            "perturbation loss: 0.0000\n"
          ]
        },
        {
          "output_type": "stream",
          "name": "stderr",
          "text": [
            "\r 92%|█████████▎| 925/1000 [25:06<02:07,  1.70s/it]"
          ]
        },
        {
          "output_type": "stream",
          "name": "stdout",
          "text": [
            "Validation acc: 0.9766\n",
            "\n",
            "Start of epoch 925\n",
            "Training loss: 0.0000\n",
            "Training metric: 0.9811\n",
            "perturbation loss: 0.0000\n"
          ]
        },
        {
          "output_type": "stream",
          "name": "stderr",
          "text": [
            "\r 93%|█████████▎| 926/1000 [25:08<02:01,  1.64s/it]"
          ]
        },
        {
          "output_type": "stream",
          "name": "stdout",
          "text": [
            "Validation acc: 0.9766\n",
            "\n",
            "Start of epoch 926\n",
            "Training loss: 0.0001\n",
            "Training metric: 0.9811\n",
            "perturbation loss: 0.0012\n"
          ]
        },
        {
          "output_type": "stream",
          "name": "stderr",
          "text": [
            "\r 93%|█████████▎| 927/1000 [25:09<01:56,  1.60s/it]"
          ]
        },
        {
          "output_type": "stream",
          "name": "stdout",
          "text": [
            "Validation acc: 0.9688\n",
            "\n",
            "Start of epoch 927\n",
            "Training loss: 0.0001\n",
            "Training metric: 0.9812\n",
            "perturbation loss: 0.0023\n"
          ]
        },
        {
          "output_type": "stream",
          "name": "stderr",
          "text": [
            "\r 93%|█████████▎| 928/1000 [25:11<01:53,  1.58s/it]"
          ]
        },
        {
          "output_type": "stream",
          "name": "stdout",
          "text": [
            "Validation acc: 0.9766\n",
            "\n",
            "Start of epoch 928\n",
            "Training loss: 0.0000\n",
            "Training metric: 0.9812\n",
            "perturbation loss: 0.0000\n"
          ]
        },
        {
          "output_type": "stream",
          "name": "stderr",
          "text": [
            "\r 93%|█████████▎| 929/1000 [25:12<01:49,  1.54s/it]"
          ]
        },
        {
          "output_type": "stream",
          "name": "stdout",
          "text": [
            "Validation acc: 0.9766\n",
            "\n",
            "Start of epoch 929\n",
            "Training loss: 0.0000\n",
            "Training metric: 0.9812\n",
            "perturbation loss: 0.0000\n"
          ]
        },
        {
          "output_type": "stream",
          "name": "stderr",
          "text": [
            "\r 93%|█████████▎| 930/1000 [25:14<01:46,  1.52s/it]"
          ]
        },
        {
          "output_type": "stream",
          "name": "stdout",
          "text": [
            "Validation acc: 0.9688\n",
            "\n",
            "Start of epoch 930\n",
            "Training loss: 0.0000\n",
            "Training metric: 0.9812\n",
            "perturbation loss: 0.0001\n"
          ]
        },
        {
          "output_type": "stream",
          "name": "stderr",
          "text": [
            "\r 93%|█████████▎| 931/1000 [25:16<01:52,  1.63s/it]"
          ]
        },
        {
          "output_type": "stream",
          "name": "stdout",
          "text": [
            "Validation acc: 0.9766\n",
            "\n",
            "Start of epoch 931\n",
            "Training loss: 0.0000\n",
            "Training metric: 0.9812\n",
            "perturbation loss: 0.0000\n"
          ]
        },
        {
          "output_type": "stream",
          "name": "stderr",
          "text": [
            "\r 93%|█████████▎| 932/1000 [25:18<02:03,  1.81s/it]"
          ]
        },
        {
          "output_type": "stream",
          "name": "stdout",
          "text": [
            "Validation acc: 0.9766\n",
            "\n",
            "Start of epoch 932\n",
            "Training loss: 0.0000\n",
            "Training metric: 0.9813\n",
            "perturbation loss: 0.0000\n"
          ]
        },
        {
          "output_type": "stream",
          "name": "stderr",
          "text": [
            "\r 93%|█████████▎| 933/1000 [25:20<01:59,  1.78s/it]"
          ]
        },
        {
          "output_type": "stream",
          "name": "stdout",
          "text": [
            "Validation acc: 0.9766\n",
            "\n",
            "Start of epoch 933\n",
            "Training loss: 0.0000\n",
            "Training metric: 0.9813\n",
            "perturbation loss: 0.0000\n"
          ]
        },
        {
          "output_type": "stream",
          "name": "stderr",
          "text": [
            "\r 93%|█████████▎| 934/1000 [25:21<01:51,  1.69s/it]"
          ]
        },
        {
          "output_type": "stream",
          "name": "stdout",
          "text": [
            "Validation acc: 0.9766\n",
            "\n",
            "Start of epoch 934\n",
            "Training loss: 0.0000\n",
            "Training metric: 0.9813\n",
            "perturbation loss: 0.0000\n"
          ]
        },
        {
          "output_type": "stream",
          "name": "stderr",
          "text": [
            "\r 94%|█████████▎| 935/1000 [25:23<01:45,  1.62s/it]"
          ]
        },
        {
          "output_type": "stream",
          "name": "stdout",
          "text": [
            "Validation acc: 0.9688\n",
            "\n",
            "Start of epoch 935\n",
            "Training loss: 0.0000\n",
            "Training metric: 0.9813\n",
            "perturbation loss: 0.0001\n"
          ]
        },
        {
          "output_type": "stream",
          "name": "stderr",
          "text": [
            "\r 94%|█████████▎| 936/1000 [25:24<01:41,  1.59s/it]"
          ]
        },
        {
          "output_type": "stream",
          "name": "stdout",
          "text": [
            "Validation acc: 0.9766\n",
            "\n",
            "Start of epoch 936\n",
            "Training loss: 0.0000\n",
            "Training metric: 0.9813\n",
            "perturbation loss: 0.0000\n"
          ]
        },
        {
          "output_type": "stream",
          "name": "stderr",
          "text": [
            "\r 94%|█████████▎| 937/1000 [25:26<01:37,  1.55s/it]"
          ]
        },
        {
          "output_type": "stream",
          "name": "stdout",
          "text": [
            "Validation acc: 0.9766\n",
            "\n",
            "Start of epoch 937\n",
            "Training loss: 0.0000\n",
            "Training metric: 0.9814\n",
            "perturbation loss: 0.0000\n"
          ]
        },
        {
          "output_type": "stream",
          "name": "stderr",
          "text": [
            "\r 94%|█████████▍| 938/1000 [25:27<01:34,  1.52s/it]"
          ]
        },
        {
          "output_type": "stream",
          "name": "stdout",
          "text": [
            "Validation acc: 0.9688\n",
            "\n",
            "Start of epoch 938\n",
            "Training loss: 0.0000\n",
            "Training metric: 0.9814\n",
            "perturbation loss: 0.0000\n"
          ]
        },
        {
          "output_type": "stream",
          "name": "stderr",
          "text": [
            "\r 94%|█████████▍| 939/1000 [25:29<01:32,  1.51s/it]"
          ]
        },
        {
          "output_type": "stream",
          "name": "stdout",
          "text": [
            "Validation acc: 0.9766\n",
            "\n",
            "Start of epoch 939\n",
            "Training loss: 0.0000\n",
            "Training metric: 0.9814\n",
            "perturbation loss: 0.0000\n"
          ]
        },
        {
          "output_type": "stream",
          "name": "stderr",
          "text": [
            "\r 94%|█████████▍| 940/1000 [25:30<01:36,  1.61s/it]"
          ]
        },
        {
          "output_type": "stream",
          "name": "stdout",
          "text": [
            "Validation acc: 0.9766\n",
            "\n",
            "Start of epoch 940\n",
            "Training loss: 0.0000\n",
            "Training metric: 0.9814\n",
            "perturbation loss: 0.0000\n"
          ]
        },
        {
          "output_type": "stream",
          "name": "stderr",
          "text": [
            "\r 94%|█████████▍| 941/1000 [25:33<01:46,  1.80s/it]"
          ]
        },
        {
          "output_type": "stream",
          "name": "stdout",
          "text": [
            "Validation acc: 0.9766\n",
            "\n",
            "Start of epoch 941\n",
            "Training loss: 0.0000\n",
            "Training metric: 0.9814\n",
            "perturbation loss: 0.0000\n"
          ]
        },
        {
          "output_type": "stream",
          "name": "stderr",
          "text": [
            "\r 94%|█████████▍| 942/1000 [25:34<01:39,  1.72s/it]"
          ]
        },
        {
          "output_type": "stream",
          "name": "stdout",
          "text": [
            "Validation acc: 0.9766\n",
            "\n",
            "Start of epoch 942\n",
            "Training loss: 0.0000\n",
            "Training metric: 0.9815\n",
            "perturbation loss: 0.0000\n"
          ]
        },
        {
          "output_type": "stream",
          "name": "stderr",
          "text": [
            "\r 94%|█████████▍| 943/1000 [25:36<01:33,  1.64s/it]"
          ]
        },
        {
          "output_type": "stream",
          "name": "stdout",
          "text": [
            "Validation acc: 0.9844\n",
            "\n",
            "Start of epoch 943\n",
            "Training loss: 0.0000\n",
            "Training metric: 0.9815\n",
            "perturbation loss: 0.0002\n"
          ]
        },
        {
          "output_type": "stream",
          "name": "stderr",
          "text": [
            "\r 94%|█████████▍| 944/1000 [25:37<01:29,  1.59s/it]"
          ]
        },
        {
          "output_type": "stream",
          "name": "stdout",
          "text": [
            "Validation acc: 0.9453\n",
            "\n",
            "Start of epoch 944\n",
            "Training loss: 0.0000\n",
            "Training metric: 0.9815\n",
            "perturbation loss: 0.0000\n"
          ]
        },
        {
          "output_type": "stream",
          "name": "stderr",
          "text": [
            "\r 94%|█████████▍| 945/1000 [25:39<01:25,  1.56s/it]"
          ]
        },
        {
          "output_type": "stream",
          "name": "stdout",
          "text": [
            "Validation acc: 0.9688\n",
            "\n",
            "Start of epoch 945\n",
            "Training loss: 0.0002\n",
            "Training metric: 0.9815\n",
            "perturbation loss: 0.0056\n"
          ]
        },
        {
          "output_type": "stream",
          "name": "stderr",
          "text": [
            "\r 95%|█████████▍| 946/1000 [25:40<01:22,  1.53s/it]"
          ]
        },
        {
          "output_type": "stream",
          "name": "stdout",
          "text": [
            "Validation acc: 0.9688\n",
            "\n",
            "Start of epoch 946\n",
            "Training loss: 0.0000\n",
            "Training metric: 0.9815\n",
            "perturbation loss: 0.0000\n"
          ]
        },
        {
          "output_type": "stream",
          "name": "stderr",
          "text": [
            "\r 95%|█████████▍| 947/1000 [25:42<01:20,  1.51s/it]"
          ]
        },
        {
          "output_type": "stream",
          "name": "stdout",
          "text": [
            "Validation acc: 0.9688\n",
            "\n",
            "Start of epoch 947\n",
            "Training loss: 0.0000\n",
            "Training metric: 0.9816\n",
            "perturbation loss: 0.0000\n"
          ]
        },
        {
          "output_type": "stream",
          "name": "stderr",
          "text": [
            "\r 95%|█████████▍| 948/1000 [25:43<01:24,  1.62s/it]"
          ]
        },
        {
          "output_type": "stream",
          "name": "stdout",
          "text": [
            "Validation acc: 0.9609\n",
            "\n",
            "Start of epoch 948\n",
            "Training loss: 0.0000\n",
            "Training metric: 0.9816\n",
            "perturbation loss: 0.0000\n"
          ]
        },
        {
          "output_type": "stream",
          "name": "stderr",
          "text": [
            "\r 95%|█████████▍| 949/1000 [25:45<01:27,  1.72s/it]"
          ]
        },
        {
          "output_type": "stream",
          "name": "stdout",
          "text": [
            "Validation acc: 0.9688\n",
            "\n",
            "Start of epoch 949\n",
            "Training loss: 0.0000\n",
            "Training metric: 0.9816\n",
            "perturbation loss: 0.0000\n"
          ]
        },
        {
          "output_type": "stream",
          "name": "stderr",
          "text": [
            "\r 95%|█████████▌| 950/1000 [25:47<01:26,  1.74s/it]"
          ]
        },
        {
          "output_type": "stream",
          "name": "stdout",
          "text": [
            "Validation acc: 0.9531\n",
            "\n",
            "Start of epoch 950\n",
            "Training loss: 0.0000\n",
            "Training metric: 0.9816\n",
            "perturbation loss: 0.0000\n"
          ]
        },
        {
          "output_type": "stream",
          "name": "stderr",
          "text": [
            "\r 95%|█████████▌| 951/1000 [25:49<01:21,  1.66s/it]"
          ]
        },
        {
          "output_type": "stream",
          "name": "stdout",
          "text": [
            "Validation acc: 0.9688\n",
            "\n",
            "Start of epoch 951\n",
            "Training loss: 0.0000\n",
            "Training metric: 0.9816\n",
            "perturbation loss: 0.0000\n"
          ]
        },
        {
          "output_type": "stream",
          "name": "stderr",
          "text": [
            "\r 95%|█████████▌| 952/1000 [25:50<01:17,  1.61s/it]"
          ]
        },
        {
          "output_type": "stream",
          "name": "stdout",
          "text": [
            "Validation acc: 0.9766\n",
            "\n",
            "Start of epoch 952\n",
            "Training loss: 0.0000\n",
            "Training metric: 0.9817\n",
            "perturbation loss: 0.0000\n"
          ]
        },
        {
          "output_type": "stream",
          "name": "stderr",
          "text": [
            "\r 95%|█████████▌| 953/1000 [25:52<01:13,  1.57s/it]"
          ]
        },
        {
          "output_type": "stream",
          "name": "stdout",
          "text": [
            "Validation acc: 0.9766\n",
            "\n",
            "Start of epoch 953\n",
            "Training loss: 0.0000\n",
            "Training metric: 0.9817\n",
            "perturbation loss: 0.0000\n"
          ]
        },
        {
          "output_type": "stream",
          "name": "stderr",
          "text": [
            "\r 95%|█████████▌| 954/1000 [25:53<01:11,  1.56s/it]"
          ]
        },
        {
          "output_type": "stream",
          "name": "stdout",
          "text": [
            "Validation acc: 0.9688\n",
            "\n",
            "Start of epoch 954\n",
            "Training loss: 0.0000\n",
            "Training metric: 0.9817\n",
            "perturbation loss: 0.0000\n"
          ]
        },
        {
          "output_type": "stream",
          "name": "stderr",
          "text": [
            "\r 96%|█████████▌| 955/1000 [25:55<01:09,  1.54s/it]"
          ]
        },
        {
          "output_type": "stream",
          "name": "stdout",
          "text": [
            "Validation acc: 0.9688\n",
            "\n",
            "Start of epoch 955\n",
            "Training loss: 0.0000\n",
            "Training metric: 0.9817\n",
            "perturbation loss: 0.0001\n"
          ]
        },
        {
          "output_type": "stream",
          "name": "stderr",
          "text": [
            "\r 96%|█████████▌| 956/1000 [25:56<01:06,  1.52s/it]"
          ]
        },
        {
          "output_type": "stream",
          "name": "stdout",
          "text": [
            "Validation acc: 0.9688\n",
            "\n",
            "Start of epoch 956\n",
            "Training loss: 0.0001\n",
            "Training metric: 0.9817\n",
            "perturbation loss: 0.0036\n"
          ]
        },
        {
          "output_type": "stream",
          "name": "stderr",
          "text": [
            "\r 96%|█████████▌| 957/1000 [25:58<01:08,  1.59s/it]"
          ]
        },
        {
          "output_type": "stream",
          "name": "stdout",
          "text": [
            "Validation acc: 0.9688\n",
            "\n",
            "Start of epoch 957\n",
            "Training loss: 0.0000\n",
            "Training metric: 0.9817\n",
            "perturbation loss: 0.0001\n"
          ]
        },
        {
          "output_type": "stream",
          "name": "stderr",
          "text": [
            "\r 96%|█████████▌| 958/1000 [26:00<01:11,  1.70s/it]"
          ]
        },
        {
          "output_type": "stream",
          "name": "stdout",
          "text": [
            "Validation acc: 0.9688\n",
            "\n",
            "Start of epoch 958\n",
            "Training loss: 0.0000\n",
            "Training metric: 0.9818\n",
            "perturbation loss: 0.0001\n"
          ]
        },
        {
          "output_type": "stream",
          "name": "stderr",
          "text": [
            "\r 96%|█████████▌| 959/1000 [26:01<01:09,  1.70s/it]"
          ]
        },
        {
          "output_type": "stream",
          "name": "stdout",
          "text": [
            "Validation acc: 0.9609\n",
            "\n",
            "Start of epoch 959\n",
            "Training loss: 0.0000\n",
            "Training metric: 0.9818\n",
            "perturbation loss: 0.0000\n"
          ]
        },
        {
          "output_type": "stream",
          "name": "stderr",
          "text": [
            "\r 96%|█████████▌| 960/1000 [26:03<01:05,  1.63s/it]"
          ]
        },
        {
          "output_type": "stream",
          "name": "stdout",
          "text": [
            "Validation acc: 0.9609\n",
            "\n",
            "Start of epoch 960\n",
            "Training loss: 0.0000\n",
            "Training metric: 0.9818\n",
            "perturbation loss: 0.0001\n"
          ]
        },
        {
          "output_type": "stream",
          "name": "stderr",
          "text": [
            "\r 96%|█████████▌| 961/1000 [26:04<01:01,  1.59s/it]"
          ]
        },
        {
          "output_type": "stream",
          "name": "stdout",
          "text": [
            "Validation acc: 0.9688\n",
            "\n",
            "Start of epoch 961\n",
            "Training loss: 0.0000\n",
            "Training metric: 0.9818\n",
            "perturbation loss: 0.0000\n"
          ]
        },
        {
          "output_type": "stream",
          "name": "stderr",
          "text": [
            "\r 96%|█████████▌| 962/1000 [26:06<00:58,  1.55s/it]"
          ]
        },
        {
          "output_type": "stream",
          "name": "stdout",
          "text": [
            "Validation acc: 0.9609\n",
            "\n",
            "Start of epoch 962\n",
            "Training loss: 0.0000\n",
            "Training metric: 0.9818\n",
            "perturbation loss: 0.0000\n"
          ]
        },
        {
          "output_type": "stream",
          "name": "stderr",
          "text": [
            "\r 96%|█████████▋| 963/1000 [26:07<00:56,  1.52s/it]"
          ]
        },
        {
          "output_type": "stream",
          "name": "stdout",
          "text": [
            "Validation acc: 0.9609\n",
            "\n",
            "Start of epoch 963\n",
            "Training loss: 0.0000\n",
            "Training metric: 0.9819\n",
            "perturbation loss: 0.0000\n"
          ]
        },
        {
          "output_type": "stream",
          "name": "stderr",
          "text": [
            "\r 96%|█████████▋| 964/1000 [26:09<00:54,  1.51s/it]"
          ]
        },
        {
          "output_type": "stream",
          "name": "stdout",
          "text": [
            "Validation acc: 0.9688\n",
            "\n",
            "Start of epoch 964\n",
            "Training loss: 0.0000\n",
            "Training metric: 0.9819\n",
            "perturbation loss: 0.0000\n"
          ]
        },
        {
          "output_type": "stream",
          "name": "stderr",
          "text": [
            "\r 96%|█████████▋| 965/1000 [26:10<00:52,  1.50s/it]"
          ]
        },
        {
          "output_type": "stream",
          "name": "stdout",
          "text": [
            "Validation acc: 0.9609\n",
            "\n",
            "Start of epoch 965\n",
            "Training loss: 0.0000\n",
            "Training metric: 0.9819\n",
            "perturbation loss: 0.0000\n"
          ]
        },
        {
          "output_type": "stream",
          "name": "stderr",
          "text": [
            "\r 97%|█████████▋| 966/1000 [26:12<00:54,  1.60s/it]"
          ]
        },
        {
          "output_type": "stream",
          "name": "stdout",
          "text": [
            "Validation acc: 0.9609\n",
            "\n",
            "Start of epoch 966\n",
            "Training loss: 0.0000\n",
            "Training metric: 0.9819\n",
            "perturbation loss: 0.0001\n"
          ]
        },
        {
          "output_type": "stream",
          "name": "stderr",
          "text": [
            "\r 97%|█████████▋| 967/1000 [26:14<00:56,  1.70s/it]"
          ]
        },
        {
          "output_type": "stream",
          "name": "stdout",
          "text": [
            "Validation acc: 0.9531\n",
            "\n",
            "Start of epoch 967\n",
            "Training loss: 0.0000\n",
            "Training metric: 0.9819\n",
            "perturbation loss: 0.0000\n"
          ]
        },
        {
          "output_type": "stream",
          "name": "stderr",
          "text": [
            "\r 97%|█████████▋| 968/1000 [26:16<00:53,  1.68s/it]"
          ]
        },
        {
          "output_type": "stream",
          "name": "stdout",
          "text": [
            "Validation acc: 0.9688\n",
            "\n",
            "Start of epoch 968\n",
            "Training loss: 0.0000\n",
            "Training metric: 0.9820\n",
            "perturbation loss: 0.0000\n"
          ]
        },
        {
          "output_type": "stream",
          "name": "stderr",
          "text": [
            "\r 97%|█████████▋| 969/1000 [26:17<00:50,  1.61s/it]"
          ]
        },
        {
          "output_type": "stream",
          "name": "stdout",
          "text": [
            "Validation acc: 0.9531\n",
            "\n",
            "Start of epoch 969\n",
            "Training loss: 0.0000\n",
            "Training metric: 0.9820\n",
            "perturbation loss: 0.0000\n"
          ]
        },
        {
          "output_type": "stream",
          "name": "stderr",
          "text": [
            "\r 97%|█████████▋| 970/1000 [26:19<00:47,  1.58s/it]"
          ]
        },
        {
          "output_type": "stream",
          "name": "stdout",
          "text": [
            "Validation acc: 0.9688\n",
            "\n",
            "Start of epoch 970\n",
            "Training loss: 0.0000\n",
            "Training metric: 0.9820\n",
            "perturbation loss: 0.0000\n"
          ]
        },
        {
          "output_type": "stream",
          "name": "stderr",
          "text": [
            "\r 97%|█████████▋| 971/1000 [26:20<00:45,  1.56s/it]"
          ]
        },
        {
          "output_type": "stream",
          "name": "stdout",
          "text": [
            "Validation acc: 0.9922\n",
            "\n",
            "Start of epoch 971\n",
            "Training loss: 0.0000\n",
            "Training metric: 0.9820\n",
            "perturbation loss: 0.0000\n"
          ]
        },
        {
          "output_type": "stream",
          "name": "stderr",
          "text": [
            "\r 97%|█████████▋| 972/1000 [26:22<00:42,  1.53s/it]"
          ]
        },
        {
          "output_type": "stream",
          "name": "stdout",
          "text": [
            "Validation acc: 0.9844\n",
            "\n",
            "Start of epoch 972\n",
            "Training loss: 0.0000\n",
            "Training metric: 0.9820\n",
            "perturbation loss: 0.0000\n"
          ]
        },
        {
          "output_type": "stream",
          "name": "stderr",
          "text": [
            "\r 97%|█████████▋| 973/1000 [26:23<00:41,  1.52s/it]"
          ]
        },
        {
          "output_type": "stream",
          "name": "stdout",
          "text": [
            "Validation acc: 0.9844\n",
            "\n",
            "Start of epoch 973\n",
            "Training loss: 0.0000\n",
            "Training metric: 0.9820\n",
            "perturbation loss: 0.0000\n"
          ]
        },
        {
          "output_type": "stream",
          "name": "stderr",
          "text": [
            "\r 97%|█████████▋| 974/1000 [26:25<00:39,  1.50s/it]"
          ]
        },
        {
          "output_type": "stream",
          "name": "stdout",
          "text": [
            "Validation acc: 0.9844\n",
            "\n",
            "Start of epoch 974\n",
            "Training loss: 0.0000\n",
            "Training metric: 0.9821\n",
            "perturbation loss: 0.0000\n"
          ]
        },
        {
          "output_type": "stream",
          "name": "stderr",
          "text": [
            "\r 98%|█████████▊| 975/1000 [26:27<00:40,  1.62s/it]"
          ]
        },
        {
          "output_type": "stream",
          "name": "stdout",
          "text": [
            "Validation acc: 0.9922\n",
            "\n",
            "Start of epoch 975\n",
            "Training loss: 0.0000\n",
            "Training metric: 0.9821\n",
            "perturbation loss: 0.0000\n"
          ]
        },
        {
          "output_type": "stream",
          "name": "stderr",
          "text": [
            "\r 98%|█████████▊| 976/1000 [26:29<00:43,  1.79s/it]"
          ]
        },
        {
          "output_type": "stream",
          "name": "stdout",
          "text": [
            "Validation acc: 0.9844\n",
            "\n",
            "Start of epoch 976\n",
            "Training loss: 0.0000\n",
            "Training metric: 0.9821\n",
            "perturbation loss: 0.0000\n"
          ]
        },
        {
          "output_type": "stream",
          "name": "stderr",
          "text": [
            "\r 98%|█████████▊| 977/1000 [26:30<00:39,  1.70s/it]"
          ]
        },
        {
          "output_type": "stream",
          "name": "stdout",
          "text": [
            "Validation acc: 0.9922\n",
            "\n",
            "Start of epoch 977\n",
            "Training loss: 0.0000\n",
            "Training metric: 0.9821\n",
            "perturbation loss: 0.0000\n"
          ]
        },
        {
          "output_type": "stream",
          "name": "stderr",
          "text": [
            "\r 98%|█████████▊| 978/1000 [26:32<00:35,  1.63s/it]"
          ]
        },
        {
          "output_type": "stream",
          "name": "stdout",
          "text": [
            "Validation acc: 0.9766\n",
            "\n",
            "Start of epoch 978\n",
            "Training loss: 0.0000\n",
            "Training metric: 0.9821\n",
            "perturbation loss: 0.0000\n"
          ]
        },
        {
          "output_type": "stream",
          "name": "stderr",
          "text": [
            "\r 98%|█████████▊| 979/1000 [26:33<00:33,  1.58s/it]"
          ]
        },
        {
          "output_type": "stream",
          "name": "stdout",
          "text": [
            "Validation acc: 0.9766\n",
            "\n",
            "Start of epoch 979\n",
            "Training loss: 0.0000\n",
            "Training metric: 0.9822\n",
            "perturbation loss: 0.0000\n"
          ]
        },
        {
          "output_type": "stream",
          "name": "stderr",
          "text": [
            "\r 98%|█████████▊| 980/1000 [26:35<00:30,  1.54s/it]"
          ]
        },
        {
          "output_type": "stream",
          "name": "stdout",
          "text": [
            "Validation acc: 0.9766\n",
            "\n",
            "Start of epoch 980\n",
            "Training loss: 0.0000\n",
            "Training metric: 0.9822\n",
            "perturbation loss: 0.0000\n"
          ]
        },
        {
          "output_type": "stream",
          "name": "stderr",
          "text": [
            "\r 98%|█████████▊| 981/1000 [26:36<00:28,  1.52s/it]"
          ]
        },
        {
          "output_type": "stream",
          "name": "stdout",
          "text": [
            "Validation acc: 0.9844\n",
            "\n",
            "Start of epoch 981\n",
            "Training loss: 0.0000\n",
            "Training metric: 0.9822\n",
            "perturbation loss: 0.0000\n"
          ]
        },
        {
          "output_type": "stream",
          "name": "stderr",
          "text": [
            "\r 98%|█████████▊| 982/1000 [26:38<00:27,  1.51s/it]"
          ]
        },
        {
          "output_type": "stream",
          "name": "stdout",
          "text": [
            "Validation acc: 0.9688\n",
            "\n",
            "Start of epoch 982\n",
            "Training loss: 0.0000\n",
            "Training metric: 0.9822\n",
            "perturbation loss: 0.0000\n"
          ]
        },
        {
          "output_type": "stream",
          "name": "stderr",
          "text": [
            "\r 98%|█████████▊| 983/1000 [26:39<00:26,  1.53s/it]"
          ]
        },
        {
          "output_type": "stream",
          "name": "stdout",
          "text": [
            "Validation acc: 0.9766\n",
            "\n",
            "Start of epoch 983\n",
            "Training loss: 0.0000\n",
            "Training metric: 0.9822\n",
            "perturbation loss: 0.0000\n"
          ]
        },
        {
          "output_type": "stream",
          "name": "stderr",
          "text": [
            "\r 98%|█████████▊| 984/1000 [26:41<00:26,  1.65s/it]"
          ]
        },
        {
          "output_type": "stream",
          "name": "stdout",
          "text": [
            "Validation acc: 0.9609\n",
            "\n",
            "Start of epoch 984\n",
            "Training loss: 0.0000\n",
            "Training metric: 0.9822\n",
            "perturbation loss: 0.0001\n"
          ]
        },
        {
          "output_type": "stream",
          "name": "stderr",
          "text": [
            "\r 98%|█████████▊| 985/1000 [26:43<00:26,  1.74s/it]"
          ]
        },
        {
          "output_type": "stream",
          "name": "stdout",
          "text": [
            "Validation acc: 0.9609\n",
            "\n",
            "Start of epoch 985\n",
            "Training loss: 0.0000\n",
            "Training metric: 0.9823\n",
            "perturbation loss: 0.0005\n"
          ]
        },
        {
          "output_type": "stream",
          "name": "stderr",
          "text": [
            "\r 99%|█████████▊| 986/1000 [26:44<00:23,  1.66s/it]"
          ]
        },
        {
          "output_type": "stream",
          "name": "stdout",
          "text": [
            "Validation acc: 0.9688\n",
            "\n",
            "Start of epoch 986\n",
            "Training loss: 0.0000\n",
            "Training metric: 0.9823\n",
            "perturbation loss: 0.0000\n"
          ]
        },
        {
          "output_type": "stream",
          "name": "stderr",
          "text": [
            "\r 99%|█████████▊| 987/1000 [26:46<00:20,  1.61s/it]"
          ]
        },
        {
          "output_type": "stream",
          "name": "stdout",
          "text": [
            "Validation acc: 0.9766\n",
            "\n",
            "Start of epoch 987\n",
            "Training loss: 0.0000\n",
            "Training metric: 0.9823\n",
            "perturbation loss: 0.0000\n"
          ]
        },
        {
          "output_type": "stream",
          "name": "stderr",
          "text": [
            "\r 99%|█████████▉| 988/1000 [26:47<00:18,  1.57s/it]"
          ]
        },
        {
          "output_type": "stream",
          "name": "stdout",
          "text": [
            "Validation acc: 0.9688\n",
            "\n",
            "Start of epoch 988\n",
            "Training loss: 0.0000\n",
            "Training metric: 0.9823\n",
            "perturbation loss: 0.0000\n"
          ]
        },
        {
          "output_type": "stream",
          "name": "stderr",
          "text": [
            "\r 99%|█████████▉| 989/1000 [26:49<00:16,  1.54s/it]"
          ]
        },
        {
          "output_type": "stream",
          "name": "stdout",
          "text": [
            "Validation acc: 0.9766\n",
            "\n",
            "Start of epoch 989\n",
            "Training loss: 0.0000\n",
            "Training metric: 0.9823\n",
            "perturbation loss: 0.0000\n"
          ]
        },
        {
          "output_type": "stream",
          "name": "stderr",
          "text": [
            "\r 99%|█████████▉| 990/1000 [26:50<00:15,  1.51s/it]"
          ]
        },
        {
          "output_type": "stream",
          "name": "stdout",
          "text": [
            "Validation acc: 0.9688\n",
            "\n",
            "Start of epoch 990\n",
            "Training loss: 0.0000\n",
            "Training metric: 0.9824\n",
            "perturbation loss: 0.0000\n"
          ]
        },
        {
          "output_type": "stream",
          "name": "stderr",
          "text": [
            "\r 99%|█████████▉| 991/1000 [26:52<00:13,  1.50s/it]"
          ]
        },
        {
          "output_type": "stream",
          "name": "stdout",
          "text": [
            "Validation acc: 0.9531\n",
            "\n",
            "Start of epoch 991\n",
            "Training loss: 0.0000\n",
            "Training metric: 0.9824\n",
            "perturbation loss: 0.0000\n"
          ]
        },
        {
          "output_type": "stream",
          "name": "stderr",
          "text": [
            "\r 99%|█████████▉| 992/1000 [26:54<00:13,  1.63s/it]"
          ]
        },
        {
          "output_type": "stream",
          "name": "stdout",
          "text": [
            "Validation acc: 0.9844\n",
            "\n",
            "Start of epoch 992\n",
            "Training loss: 0.0000\n",
            "Training metric: 0.9824\n",
            "perturbation loss: 0.0000\n"
          ]
        },
        {
          "output_type": "stream",
          "name": "stderr",
          "text": [
            "\r 99%|█████████▉| 993/1000 [26:56<00:11,  1.70s/it]"
          ]
        },
        {
          "output_type": "stream",
          "name": "stdout",
          "text": [
            "Validation acc: 0.9609\n",
            "\n",
            "Start of epoch 993\n",
            "Training loss: 0.0004\n",
            "Training metric: 0.9824\n",
            "perturbation loss: 0.0045\n"
          ]
        },
        {
          "output_type": "stream",
          "name": "stderr",
          "text": [
            "\r 99%|█████████▉| 994/1000 [26:57<00:10,  1.68s/it]"
          ]
        },
        {
          "output_type": "stream",
          "name": "stdout",
          "text": [
            "Validation acc: 0.9688\n",
            "\n",
            "Start of epoch 994\n",
            "Training loss: 0.0006\n",
            "Training metric: 0.9824\n",
            "perturbation loss: 0.0186\n"
          ]
        },
        {
          "output_type": "stream",
          "name": "stderr",
          "text": [
            "\r100%|█████████▉| 995/1000 [26:59<00:07,  1.60s/it]"
          ]
        },
        {
          "output_type": "stream",
          "name": "stdout",
          "text": [
            "Validation acc: 0.9531\n",
            "\n",
            "Start of epoch 995\n",
            "Training loss: 0.0003\n",
            "Training metric: 0.9824\n",
            "perturbation loss: 0.0069\n"
          ]
        },
        {
          "output_type": "stream",
          "name": "stderr",
          "text": [
            "\r100%|█████████▉| 996/1000 [27:00<00:06,  1.55s/it]"
          ]
        },
        {
          "output_type": "stream",
          "name": "stdout",
          "text": [
            "Validation acc: 0.9766\n",
            "\n",
            "Start of epoch 996\n",
            "Training loss: 0.0000\n",
            "Training metric: 0.9825\n",
            "perturbation loss: 0.0000\n"
          ]
        },
        {
          "output_type": "stream",
          "name": "stderr",
          "text": [
            "\r100%|█████████▉| 997/1000 [27:02<00:04,  1.51s/it]"
          ]
        },
        {
          "output_type": "stream",
          "name": "stdout",
          "text": [
            "Validation acc: 0.9688\n",
            "\n",
            "Start of epoch 997\n",
            "Training loss: 0.0000\n",
            "Training metric: 0.9825\n",
            "perturbation loss: 0.0003\n"
          ]
        },
        {
          "output_type": "stream",
          "name": "stderr",
          "text": [
            "\r100%|█████████▉| 998/1000 [27:03<00:02,  1.49s/it]"
          ]
        },
        {
          "output_type": "stream",
          "name": "stdout",
          "text": [
            "Validation acc: 0.9688\n",
            "\n",
            "Start of epoch 998\n",
            "Training loss: 0.0000\n",
            "Training metric: 0.9825\n",
            "perturbation loss: 0.0000\n"
          ]
        },
        {
          "output_type": "stream",
          "name": "stderr",
          "text": [
            "\r100%|█████████▉| 999/1000 [27:04<00:01,  1.47s/it]"
          ]
        },
        {
          "output_type": "stream",
          "name": "stdout",
          "text": [
            "Validation acc: 0.9688\n",
            "\n",
            "Start of epoch 999\n",
            "Training loss: 0.0000\n",
            "Training metric: 0.9825\n",
            "perturbation loss: 0.0000\n"
          ]
        },
        {
          "output_type": "stream",
          "name": "stderr",
          "text": [
            "100%|██████████| 1000/1000 [27:06<00:00,  1.63s/it]"
          ]
        },
        {
          "output_type": "stream",
          "name": "stdout",
          "text": [
            "Validation acc: 0.9688\n"
          ]
        },
        {
          "output_type": "stream",
          "name": "stderr",
          "text": [
            "\n"
          ]
        }
      ],
      "source": [
        "train_loss = []\n",
        "train_metric = []\n",
        "val_metric = []\n",
        "p_loss = []\n",
        "for epoch in tqdm(range(1000)):\n",
        "    print(\"\\nStart of epoch %d\" % (epoch,))\n",
        "    for step, (x, label, x_mask) in enumerate(train_dataset):\n",
        "        loss, train_acc, l, x_p, g = training_step(x, label, x_mask)\n",
        "\n",
        "    print(\n",
        "        \"Training loss: %.4f\\nTraining metric: %.4f\"\n",
        "        % (float(loss), float(train_acc))\n",
        "    )\n",
        "    print(\"perturbation loss: %.4f\" % float(l))\n",
        "\n",
        "    for x_batch_val, y_batch_val in val_dataset:\n",
        "        val_logits = model(x_batch_val, training=False)\n",
        "        # Update val metrics\n",
        "        val_acc_metric.update_state(y_batch_val, val_logits)\n",
        "    val_acc = val_acc_metric.result()\n",
        "    val_acc_metric.reset_states()\n",
        "    print(\"Validation acc: %.4f\" % (float(val_acc)))\n",
        "\n",
        "    train_loss.append(loss)\n",
        "    train_metric.append(train_acc)\n",
        "    val_metric.append(val_acc)\n",
        "    p_loss.append(l)\n",
        "\n",
        "    tl = np.array(train_loss)\n",
        "    tm = np.array(train_metric)\n",
        "    vm = np.array(val_metric)\n",
        "    pl = np.array(p_loss)\n",
        "\n",
        "    np.savez(\"logs.npz\", train_loss=tl, train_acc=tm, val_acc=vm, p_loss=pl, x_p=x_p)"
      ],
      "id": "_cymWSORGwww"
    },
    {
      "cell_type": "code",
      "source": [],
      "metadata": {
        "id": "4RKitZrI_D2x"
      },
      "id": "4RKitZrI_D2x",
      "execution_count": null,
      "outputs": []
    }
  ],
  "metadata": {
    "accelerator": "GPU",
    "colab": {
      "gpuType": "V100",
      "provenance": []
    },
    "kernelspec": {
      "display_name": "Python 3",
      "name": "python3"
    },
    "language_info": {
      "name": "python"
    }
  },
  "nbformat": 4,
  "nbformat_minor": 5
}