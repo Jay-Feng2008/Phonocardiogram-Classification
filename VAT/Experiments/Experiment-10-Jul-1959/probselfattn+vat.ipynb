{
  "cells": [
    {
      "cell_type": "code",
      "source": [
        "from google.colab import drive\n",
        "drive.mount('/content/drive')"
      ],
      "metadata": {
        "colab": {
          "base_uri": "https://localhost:8080/"
        },
        "id": "kixbsqSzkgN_",
        "outputId": "6c1af7a7-536c-471a-d06c-529cde885461"
      },
      "id": "kixbsqSzkgN_",
      "execution_count": 1,
      "outputs": [
        {
          "output_type": "stream",
          "name": "stdout",
          "text": [
            "Mounted at /content/drive\n"
          ]
        }
      ]
    },
    {
      "cell_type": "code",
      "execution_count": 2,
      "metadata": {
        "id": "5a92ca08"
      },
      "outputs": [],
      "source": [
        "import tensorflow as tf\n",
        "from tensorflow import keras\n",
        "import numpy as np\n",
        "import pandas as pd\n",
        "import matplotlib.pyplot as plt\n",
        "from tqdm import tqdm\n",
        "from keras import layers\n",
        "import sys\n",
        "sys.path.insert(1, \"drive/MyDrive/Informer-Tensorflow/models\")\n",
        "sys.path.insert(1, \"drive/MyDrive/Informer-Tensorflow\")"
      ],
      "id": "5a92ca08"
    },
    {
      "cell_type": "code",
      "execution_count": 3,
      "metadata": {
        "id": "96af8478"
      },
      "outputs": [],
      "source": [
        "from attn import ProbAttention, AttentionLayer"
      ],
      "id": "96af8478"
    },
    {
      "cell_type": "code",
      "execution_count": 4,
      "metadata": {
        "id": "cdd4a815"
      },
      "outputs": [],
      "source": [
        "class MultiHeadProbAttention(tf.keras.layers.Layer):\n",
        "    def __init__(self, d_model, num_heads):\n",
        "        super(MultiHeadProbAttention, self).__init__()\n",
        "        self.d_model = d_model\n",
        "        self.num_heads = num_heads\n",
        "        self.attn = AttentionLayer(ProbAttention(False), self.d_model, self.num_heads)\n",
        "    def call(self, inputs):\n",
        "        query = inputs\n",
        "        key = inputs\n",
        "        value = inputs\n",
        "        x = self.attn([query, key, value])\n",
        "        return x\n"
      ],
      "id": "cdd4a815"
    },
    {
      "cell_type": "code",
      "execution_count": 5,
      "metadata": {
        "id": "038dd8c1"
      },
      "outputs": [],
      "source": [
        "def positional_encoding(length, depth):\n",
        "    depth = depth/2\n",
        "\n",
        "    positions = np.arange(length)[:, np.newaxis]     # (seq, 1)\n",
        "    depths = np.arange(depth)[np.newaxis, :]/depth   # (1, depth)\n",
        "\n",
        "    angle_rates = 1 / (10000**depths)         # (1, depth)\n",
        "    angle_rads = positions * angle_rates      # (pos, depth)\n",
        "\n",
        "    pos_encoding = np.concatenate(\n",
        "        [np.sin(angle_rads), np.cos(angle_rads)],\n",
        "        axis=-1)\n",
        "\n",
        "    return tf.cast(pos_encoding, dtype=tf.float32)\n",
        "\n",
        "class PositionalEmbedding(tf.keras.layers.Layer):\n",
        "    def __init__(self, d_model):\n",
        "        super().__init__()\n",
        "        self.d_model = d_model\n",
        "        # self.embedding = tf.keras.layers.Embedding(vocab_size, d_model, mask_zero=True)\n",
        "        self.pos_encoding = positional_encoding(length=2048, depth=d_model)\n",
        "\n",
        "    # def compute_mask(self, *args, **kwargs):\n",
        "    #     return self.embedding.compute_mask(*args, **kwargs)\n",
        "\n",
        "    def call(self, x):\n",
        "        length = tf.shape(x)[1]\n",
        "        # x = self.embedding(x)\n",
        "        # This factor sets the relative scale of the embedding and positonal_encoding.\n",
        "        x *= tf.math.sqrt(tf.cast(self.d_model, tf.float32))\n",
        "        x = x + self.pos_encoding[tf.newaxis, :length, :]\n",
        "        return x"
      ],
      "id": "038dd8c1"
    },
    {
      "cell_type": "code",
      "execution_count": 6,
      "metadata": {
        "id": "c2b896e1"
      },
      "outputs": [],
      "source": [
        "class ConvLayer(keras.layers.Layer):\n",
        "    def __init__(self, c_in):\n",
        "        super(ConvLayer, self).__init__()\n",
        "        self.downConv = tf.keras.layers.Conv1D(\n",
        "                                  filters=c_in,\n",
        "                                  kernel_size=3,\n",
        "                                  padding='causal')\n",
        "        self.norm = tf.keras.layers.BatchNormalization()\n",
        "        self.activation = tf.keras.layers.ELU()\n",
        "        self.maxPool = tf.keras.layers.MaxPool1D(pool_size=3)#, strides=2)\n",
        "\n",
        "    def call(self, x, **kargs):\n",
        "        x = self.downConv(x)\n",
        "        x = self.norm(x)\n",
        "        x = self.activation(x)\n",
        "        x = self.maxPool(x)\n",
        "        return x"
      ],
      "id": "c2b896e1"
    },
    {
      "cell_type": "code",
      "execution_count": 7,
      "metadata": {
        "id": "74a7087c"
      },
      "outputs": [],
      "source": [
        "BATCH_SIZE = 32\n",
        "def models():\n",
        "    inputs = keras.layers.Input(shape=(127,15), batch_size=BATCH_SIZE)\n",
        "    # x = keras.layers.Dense(32, activation=\"tanh\")(inputs)\n",
        "    x = keras.layers.Conv1D(32, 1, activation='tanh')(inputs)\n",
        "    x = PositionalEmbedding(32)(x)\n",
        "    x = MultiHeadProbAttention(128, 32)(x)\n",
        "    x = ConvLayer(64)(x)\n",
        "    x = MultiHeadProbAttention(64, 32)(x)\n",
        "    x = ConvLayer(32)(x)\n",
        "    x = keras.layers.LayerNormalization()(x)\n",
        "    x = keras.layers.GlobalAveragePooling1D(data_format='channels_first')(x)\n",
        "    x = keras.layers.Dense(5, activation='softmax')(x)\n",
        "    return keras.Model(inputs, x)"
      ],
      "id": "74a7087c"
    },
    {
      "cell_type": "code",
      "execution_count": 8,
      "metadata": {
        "colab": {
          "base_uri": "https://localhost:8080/"
        },
        "id": "a47c96b0",
        "outputId": "4739753d-4a05-418b-9363-3bdbe7e182b2"
      },
      "outputs": [
        {
          "output_type": "stream",
          "name": "stdout",
          "text": [
            "[TensorShape([32, 127, 32]), TensorShape([32, 127, 32]), TensorShape([32, 127, 32])]\n",
            "[TensorShape([32, 42, 64]), TensorShape([32, 42, 64]), TensorShape([32, 42, 64])]\n",
            "Model: \"model\"\n",
            "_________________________________________________________________\n",
            " Layer (type)                Output Shape              Param #   \n",
            "=================================================================\n",
            " input_1 (InputLayer)        [(32, 127, 15)]           0         \n",
            "                                                                 \n",
            " conv1d (Conv1D)             (32, 127, 32)             512       \n",
            "                                                                 \n",
            " positional_embedding (Posit  (32, 127, 32)            0         \n",
            " ionalEmbedding)                                                 \n",
            "                                                                 \n",
            " multi_head_prob_attention (  (32, 127, 128)           29184     \n",
            " MultiHeadProbAttention)                                         \n",
            "                                                                 \n",
            " conv_layer (ConvLayer)      (32, 42, 64)              24896     \n",
            "                                                                 \n",
            " multi_head_prob_attention_1  (32, 42, 64)             16640     \n",
            "  (MultiHeadProbAttention)                                       \n",
            "                                                                 \n",
            " conv_layer_1 (ConvLayer)    (32, 14, 32)              6304      \n",
            "                                                                 \n",
            " layer_normalization (LayerN  (32, 14, 32)             64        \n",
            " ormalization)                                                   \n",
            "                                                                 \n",
            " global_average_pooling1d (G  (32, 14)                 0         \n",
            " lobalAveragePooling1D)                                          \n",
            "                                                                 \n",
            " dense_8 (Dense)             (32, 5)                   75        \n",
            "                                                                 \n",
            "=================================================================\n",
            "Total params: 77,675\n",
            "Trainable params: 77,483\n",
            "Non-trainable params: 192\n",
            "_________________________________________________________________\n"
          ]
        }
      ],
      "source": [
        "model = models()\n",
        "model.summary()\n",
        "# del model"
      ],
      "id": "a47c96b0"
    },
    {
      "cell_type": "code",
      "execution_count": 9,
      "metadata": {
        "colab": {
          "base_uri": "https://localhost:8080/"
        },
        "id": "efe164a9",
        "outputId": "9cfa5fc5-3ba4-41e3-95e5-d06ede7ca2d2"
      },
      "outputs": [
        {
          "output_type": "execute_result",
          "data": {
            "text/plain": [
              "<tf.Tensor: shape=(32, 5), dtype=float32, numpy=\n",
              "array([[0.19999997, 0.19999999, 0.19999999, 0.20000002, 0.20000002],\n",
              "       [0.20000002, 0.19999999, 0.19999999, 0.19999999, 0.20000002],\n",
              "       [0.20000002, 0.19999999, 0.19999997, 0.19999996, 0.20000002],\n",
              "       [0.19999994, 0.19999999, 0.20000002, 0.20000003, 0.20000002],\n",
              "       [0.2       , 0.19999996, 0.2       , 0.2       , 0.2       ],\n",
              "       [0.19999999, 0.20000002, 0.19999999, 0.20000002, 0.19999999],\n",
              "       [0.19999997, 0.2       , 0.2       , 0.2       , 0.19999997],\n",
              "       [0.19999999, 0.19999997, 0.19999999, 0.20000002, 0.20000002],\n",
              "       [0.19999997, 0.19999999, 0.20000002, 0.20000002, 0.19999999],\n",
              "       [0.20000002, 0.20000002, 0.20000002, 0.19999997, 0.19999999],\n",
              "       [0.19999999, 0.19999996, 0.19999999, 0.20000002, 0.20000002],\n",
              "       [0.20000002, 0.19999997, 0.20000002, 0.19999997, 0.19999999],\n",
              "       [0.19999997, 0.20000002, 0.19999999, 0.20000003, 0.20000003],\n",
              "       [0.2       , 0.2       , 0.2       , 0.19999997, 0.2       ],\n",
              "       [0.20000002, 0.19999999, 0.20000002, 0.19999996, 0.19999999],\n",
              "       [0.19999999, 0.20000002, 0.19999997, 0.20000002, 0.20000002],\n",
              "       [0.19999997, 0.2       , 0.2       , 0.2       , 0.2       ],\n",
              "       [0.2       , 0.2       , 0.2       , 0.19999996, 0.2       ],\n",
              "       [0.20000006, 0.2       , 0.2       , 0.19999994, 0.19999999],\n",
              "       [0.19999999, 0.19999997, 0.19999999, 0.20000002, 0.20000002],\n",
              "       [0.19999997, 0.2       , 0.2       , 0.2       , 0.19999997],\n",
              "       [0.20000002, 0.19999999, 0.19999999, 0.19999996, 0.20000002],\n",
              "       [0.19999997, 0.2       , 0.2       , 0.2       , 0.2       ],\n",
              "       [0.19999997, 0.19999999, 0.19999997, 0.20000002, 0.20000002],\n",
              "       [0.19999996, 0.19999999, 0.19999999, 0.20000002, 0.19999999],\n",
              "       [0.20000002, 0.19999997, 0.20000002, 0.19999999, 0.20000002],\n",
              "       [0.2       , 0.19999997, 0.2       , 0.19999997, 0.2       ],\n",
              "       [0.19999997, 0.19999997, 0.20000002, 0.19999999, 0.19999999],\n",
              "       [0.19999997, 0.20000002, 0.19999997, 0.20000002, 0.20000002],\n",
              "       [0.20000002, 0.20000002, 0.20000003, 0.19999997, 0.19999999],\n",
              "       [0.2       , 0.19999997, 0.2       , 0.2       , 0.2       ],\n",
              "       [0.19999997, 0.2       , 0.2       , 0.2       , 0.19999997]],\n",
              "      dtype=float32)>"
            ]
          },
          "metadata": {},
          "execution_count": 9
        }
      ],
      "source": [
        "x = tf.random.normal((BATCH_SIZE, 127, 15))\n",
        "model(x)"
      ],
      "id": "efe164a9"
    },
    {
      "cell_type": "code",
      "execution_count": 11,
      "metadata": {
        "id": "Pqxls7OdFuBa"
      },
      "outputs": [],
      "source": [
        "data = np.load(\"mfcc.npz\")\n",
        "X = data[\"X\"]\n",
        "Y = data[\"Y\"]\n",
        "\n",
        "x_train = X[0:832]\n",
        "y_train = Y[0:832]\n",
        "x_test = X[872:]\n",
        "y_test = Y[872:]"
      ],
      "id": "Pqxls7OdFuBa"
    },
    {
      "cell_type": "code",
      "execution_count": 12,
      "metadata": {
        "id": "Z2IpMQoDGE8P"
      },
      "outputs": [],
      "source": [
        "train_dataset = tf.data.Dataset.from_tensor_slices((x_train, y_train))\n",
        "train_dataset = train_dataset.shuffle(buffer_size=100000).batch(BATCH_SIZE)\n",
        "\n",
        "val_dataset = tf.data.Dataset.from_tensor_slices((x_test, y_test))\n",
        "val_dataset = val_dataset.shuffle(buffer_size=1000).batch(BATCH_SIZE)"
      ],
      "id": "Z2IpMQoDGE8P"
    },
    {
      "cell_type": "code",
      "execution_count": 13,
      "metadata": {
        "id": "mHS5ftloF9hF"
      },
      "outputs": [],
      "source": [
        "x = x_train[0:BATCH_SIZE]\n",
        "x_rank = tf.rank(x).numpy()\n",
        "x_norm_resize_shape = [BATCH_SIZE] + list(tf.ones(tf.rank(x), dtype=tf.int32).numpy())[1:]"
      ],
      "id": "mHS5ftloF9hF"
    },
    {
      "cell_type": "code",
      "execution_count": 14,
      "metadata": {
        "id": "Acy81xYrkYCD"
      },
      "outputs": [],
      "source": [
        "class CustomSchedule(tf.keras.optimizers.schedules.LearningRateSchedule):\n",
        "    def __init__(self, d_model, warmup_steps=4000):\n",
        "        super().__init__()\n",
        "\n",
        "        self.d_model = d_model\n",
        "        self.d_model = tf.cast(self.d_model, tf.float32)\n",
        "\n",
        "        self.warmup_steps = warmup_steps\n",
        "\n",
        "    def __call__(self, step):\n",
        "        step = tf.cast(step, dtype=tf.float32)\n",
        "        arg1 = tf.math.rsqrt(step)\n",
        "        arg2 = step * (self.warmup_steps ** -1.5)\n",
        "\n",
        "        return tf.math.rsqrt(self.d_model) * tf.math.minimum(arg1, arg2)"
      ],
      "id": "Acy81xYrkYCD"
    },
    {
      "cell_type": "code",
      "execution_count": 15,
      "metadata": {
        "id": "3YkUbzm0GZF1"
      },
      "outputs": [],
      "source": [
        "def perturbation_loss(x, y, from_logits=False):\n",
        "    return keras.losses.CategoricalCrossentropy(from_logits=from_logits)(x, y)\n",
        "\n",
        "loss_fn = keras.losses.SparseCategoricalCrossentropy(from_logits=False)\n",
        "learning_rate = CustomSchedule(32)\n",
        "optimizer = keras.optimizers.experimental.AdamW(learning_rate=learning_rate, beta_1=0.9, beta_2=0.98,\n",
        "                                     epsilon=1e-9)\n",
        "\n",
        "train_acc_metric = keras.metrics.SparseCategoricalAccuracy()\n",
        "val_acc_metric = keras.metrics.SparseCategoricalAccuracy()"
      ],
      "id": "3YkUbzm0GZF1"
    },
    {
      "cell_type": "code",
      "execution_count": 16,
      "metadata": {
        "id": "z8vyGiiAGgt8"
      },
      "outputs": [],
      "source": [
        "eps = 4.     # the perturbation parameter\n",
        "sig = 1e-5   # initial perturbation StdDev\n",
        "zeta = 1e-6  # differentiation constant\n",
        "lamd = 1     # regularization parameter\n",
        "\n",
        "@tf.function\n",
        "def training_step(x, label):\n",
        "    x_p = tf.random.normal(x.shape, stddev=sig)\n",
        "    x_norm = x_p\n",
        "    for i in range(x_rank-1, 0, -1):\n",
        "        x_norm = tf.norm(x_norm, ord=2, axis=int(i))\n",
        "    x_p /= tf.reshape(x_norm, (BATCH_SIZE, 1, 1))\n",
        "    x_p *= zeta\n",
        "\n",
        "\n",
        "    with tf.GradientTape() as model_tape, tf.GradientTape() as perturbation_tape:\n",
        "        perturbation_tape.watch(x_p)\n",
        "        y_p = model(x + x_p, training=True)\n",
        "        y = model(x, training=True)\n",
        "        l = perturbation_loss(y, y_p)\n",
        "        g = perturbation_tape.gradient(l, x_p)\n",
        "\n",
        "        g_norm = g\n",
        "        for i in range(x_rank-1, 0, -1):\n",
        "            g_norm = tf.norm(g_norm, ord=2, axis=int(i))\n",
        "\n",
        "        x_p = eps * g / tf.reshape(g_norm, x_norm_resize_shape)\n",
        "\n",
        "        y_p = model(x + x_p, training=True)\n",
        "        y = model(x, training=True)\n",
        "        l = perturbation_loss(y, y_p)    # Recalculate regularization\n",
        "\n",
        "        logits = model(x, training=True)\n",
        "        loss = loss_fn(label, logits) + lamd * l / BATCH_SIZE\n",
        "        grads = model_tape.gradient(loss, model.trainable_weights)\n",
        "        optimizer.apply_gradients(zip(grads, model.trainable_weights))\n",
        "\n",
        "    train_acc_metric.update_state(label, logits)\n",
        "    return loss, train_acc_metric.result(), l, x_p, g"
      ],
      "id": "z8vyGiiAGgt8"
    },
    {
      "cell_type": "code",
      "execution_count": 17,
      "metadata": {
        "colab": {
          "base_uri": "https://localhost:8080/"
        },
        "id": "_cymWSORGwww",
        "outputId": "c99c788a-3a58-4c07-ae3d-3e3d5a775e74"
      },
      "outputs": [
        {
          "output_type": "stream",
          "name": "stderr",
          "text": [
            "\r  0%|          | 0/1000 [00:00<?, ?it/s]"
          ]
        },
        {
          "output_type": "stream",
          "name": "stdout",
          "text": [
            "\n",
            "Start of epoch 0\n",
            "Training loss: 1.6597\n",
            "Training metric: 0.1995\n",
            "perturbation loss: 1.6094\n"
          ]
        },
        {
          "output_type": "stream",
          "name": "stderr",
          "text": [
            "\r  0%|          | 1/1000 [00:23<6:30:30, 23.45s/it]"
          ]
        },
        {
          "output_type": "stream",
          "name": "stdout",
          "text": [
            "Validation acc: 0.2891\n",
            "\n",
            "Start of epoch 1\n",
            "Training loss: 1.6597\n",
            "Training metric: 0.1995\n",
            "perturbation loss: 1.6094\n"
          ]
        },
        {
          "output_type": "stream",
          "name": "stderr",
          "text": [
            "\r  0%|          | 2/1000 [00:25<2:55:46, 10.57s/it]"
          ]
        },
        {
          "output_type": "stream",
          "name": "stdout",
          "text": [
            "Validation acc: 0.2031\n",
            "\n",
            "Start of epoch 2\n",
            "Training loss: 1.6596\n",
            "Training metric: 0.2320\n",
            "perturbation loss: 1.6094\n"
          ]
        },
        {
          "output_type": "stream",
          "name": "stderr",
          "text": [
            "\r  0%|          | 3/1000 [00:26<1:47:13,  6.45s/it]"
          ]
        },
        {
          "output_type": "stream",
          "name": "stdout",
          "text": [
            "Validation acc: 0.3281\n",
            "\n",
            "Start of epoch 3\n",
            "Training loss: 1.6593\n",
            "Training metric: 0.2563\n",
            "perturbation loss: 1.6094\n"
          ]
        },
        {
          "output_type": "stream",
          "name": "stderr",
          "text": [
            "\r  0%|          | 4/1000 [00:28<1:17:42,  4.68s/it]"
          ]
        },
        {
          "output_type": "stream",
          "name": "stdout",
          "text": [
            "Validation acc: 0.3516\n",
            "\n",
            "Start of epoch 4\n",
            "Training loss: 1.6591\n",
            "Training metric: 0.2841\n",
            "perturbation loss: 1.6094\n"
          ]
        },
        {
          "output_type": "stream",
          "name": "stderr",
          "text": [
            "\r  0%|          | 5/1000 [00:30<1:02:03,  3.74s/it]"
          ]
        },
        {
          "output_type": "stream",
          "name": "stdout",
          "text": [
            "Validation acc: 0.3984\n",
            "\n",
            "Start of epoch 5\n",
            "Training loss: 1.6558\n",
            "Training metric: 0.3177\n",
            "perturbation loss: 1.6094\n"
          ]
        },
        {
          "output_type": "stream",
          "name": "stderr",
          "text": [
            "\r  1%|          | 6/1000 [00:32<51:08,  3.09s/it]  "
          ]
        },
        {
          "output_type": "stream",
          "name": "stdout",
          "text": [
            "Validation acc: 0.3594\n",
            "\n",
            "Start of epoch 6\n",
            "Training loss: 1.6516\n",
            "Training metric: 0.3570\n",
            "perturbation loss: 1.6094\n"
          ]
        },
        {
          "output_type": "stream",
          "name": "stderr",
          "text": [
            "\r  1%|          | 7/1000 [00:33<42:54,  2.59s/it]"
          ]
        },
        {
          "output_type": "stream",
          "name": "stdout",
          "text": [
            "Validation acc: 0.4141\n",
            "\n",
            "Start of epoch 7\n",
            "Training loss: 1.6438\n",
            "Training metric: 0.3947\n",
            "perturbation loss: 1.6094\n"
          ]
        },
        {
          "output_type": "stream",
          "name": "stderr",
          "text": [
            "\r  1%|          | 8/1000 [00:35<37:21,  2.26s/it]"
          ]
        },
        {
          "output_type": "stream",
          "name": "stdout",
          "text": [
            "Validation acc: 0.5312\n",
            "\n",
            "Start of epoch 8\n",
            "Training loss: 1.6385\n",
            "Training metric: 0.4257\n",
            "perturbation loss: 1.6093\n"
          ]
        },
        {
          "output_type": "stream",
          "name": "stderr",
          "text": [
            "\r  1%|          | 9/1000 [00:37<33:43,  2.04s/it]"
          ]
        },
        {
          "output_type": "stream",
          "name": "stdout",
          "text": [
            "Validation acc: 0.5234\n",
            "\n",
            "Start of epoch 9\n",
            "Training loss: 1.6267\n",
            "Training metric: 0.4524\n",
            "perturbation loss: 1.6092\n"
          ]
        },
        {
          "output_type": "stream",
          "name": "stderr",
          "text": [
            "\r  1%|          | 10/1000 [00:38<31:15,  1.89s/it]"
          ]
        },
        {
          "output_type": "stream",
          "name": "stdout",
          "text": [
            "Validation acc: 0.7188\n",
            "\n",
            "Start of epoch 10\n",
            "Training loss: 1.6120\n",
            "Training metric: 0.4778\n",
            "perturbation loss: 1.6088\n"
          ]
        },
        {
          "output_type": "stream",
          "name": "stderr",
          "text": [
            "\r  1%|          | 11/1000 [00:40<31:28,  1.91s/it]"
          ]
        },
        {
          "output_type": "stream",
          "name": "stdout",
          "text": [
            "Validation acc: 0.7109\n",
            "\n",
            "Start of epoch 11\n",
            "Training loss: 1.5979\n",
            "Training metric: 0.5008\n",
            "perturbation loss: 1.6083\n"
          ]
        },
        {
          "output_type": "stream",
          "name": "stderr",
          "text": [
            "\r  1%|          | 12/1000 [00:43<36:27,  2.21s/it]"
          ]
        },
        {
          "output_type": "stream",
          "name": "stdout",
          "text": [
            "Validation acc: 0.6797\n",
            "\n",
            "Start of epoch 12\n",
            "Training loss: 1.6020\n",
            "Training metric: 0.5197\n",
            "perturbation loss: 1.6083\n"
          ]
        },
        {
          "output_type": "stream",
          "name": "stderr",
          "text": [
            "\r  1%|▏         | 13/1000 [00:45<35:44,  2.17s/it]"
          ]
        },
        {
          "output_type": "stream",
          "name": "stdout",
          "text": [
            "Validation acc: 0.6875\n",
            "\n",
            "Start of epoch 13\n",
            "Training loss: 1.5502\n",
            "Training metric: 0.5385\n",
            "perturbation loss: 1.6074\n"
          ]
        },
        {
          "output_type": "stream",
          "name": "stderr",
          "text": [
            "\r  1%|▏         | 14/1000 [00:47<32:38,  1.99s/it]"
          ]
        },
        {
          "output_type": "stream",
          "name": "stdout",
          "text": [
            "Validation acc: 0.7031\n",
            "\n",
            "Start of epoch 14\n",
            "Training loss: 1.5240\n",
            "Training metric: 0.5559\n",
            "perturbation loss: 1.6051\n"
          ]
        },
        {
          "output_type": "stream",
          "name": "stderr",
          "text": [
            "\r  2%|▏         | 15/1000 [00:48<30:29,  1.86s/it]"
          ]
        },
        {
          "output_type": "stream",
          "name": "stdout",
          "text": [
            "Validation acc: 0.7266\n",
            "\n",
            "Start of epoch 15\n",
            "Training loss: 1.4843\n",
            "Training metric: 0.5726\n",
            "perturbation loss: 1.6026\n"
          ]
        },
        {
          "output_type": "stream",
          "name": "stderr",
          "text": [
            "\r  2%|▏         | 16/1000 [00:50<28:55,  1.76s/it]"
          ]
        },
        {
          "output_type": "stream",
          "name": "stdout",
          "text": [
            "Validation acc: 0.7188\n",
            "\n",
            "Start of epoch 16\n",
            "Training loss: 1.4631\n",
            "Training metric: 0.5869\n",
            "perturbation loss: 1.6017\n"
          ]
        },
        {
          "output_type": "stream",
          "name": "stderr",
          "text": [
            "\r  2%|▏         | 17/1000 [00:51<27:44,  1.69s/it]"
          ]
        },
        {
          "output_type": "stream",
          "name": "stdout",
          "text": [
            "Validation acc: 0.7578\n",
            "\n",
            "Start of epoch 17\n",
            "Training loss: 1.4426\n",
            "Training metric: 0.5999\n",
            "perturbation loss: 1.5972\n"
          ]
        },
        {
          "output_type": "stream",
          "name": "stderr",
          "text": [
            "\r  2%|▏         | 18/1000 [00:53<26:57,  1.65s/it]"
          ]
        },
        {
          "output_type": "stream",
          "name": "stdout",
          "text": [
            "Validation acc: 0.7812\n",
            "\n",
            "Start of epoch 18\n",
            "Training loss: 1.4419\n",
            "Training metric: 0.6132\n",
            "perturbation loss: 1.5969\n"
          ]
        },
        {
          "output_type": "stream",
          "name": "stderr",
          "text": [
            "\r  2%|▏         | 19/1000 [00:54<26:28,  1.62s/it]"
          ]
        },
        {
          "output_type": "stream",
          "name": "stdout",
          "text": [
            "Validation acc: 0.8359\n",
            "\n",
            "Start of epoch 19\n",
            "Training loss: 1.3803\n",
            "Training metric: 0.6259\n",
            "perturbation loss: 1.5900\n"
          ]
        },
        {
          "output_type": "stream",
          "name": "stderr",
          "text": [
            "\r  2%|▏         | 20/1000 [00:56<27:18,  1.67s/it]"
          ]
        },
        {
          "output_type": "stream",
          "name": "stdout",
          "text": [
            "Validation acc: 0.8594\n",
            "\n",
            "Start of epoch 20\n",
            "Training loss: 1.3229\n",
            "Training metric: 0.6379\n",
            "perturbation loss: 1.5812\n"
          ]
        },
        {
          "output_type": "stream",
          "name": "stderr",
          "text": [
            "\r  2%|▏         | 21/1000 [00:58<29:15,  1.79s/it]"
          ]
        },
        {
          "output_type": "stream",
          "name": "stdout",
          "text": [
            "Validation acc: 0.7188\n",
            "\n",
            "Start of epoch 21\n",
            "Training loss: 1.3028\n",
            "Training metric: 0.6490\n",
            "perturbation loss: 1.5785\n"
          ]
        },
        {
          "output_type": "stream",
          "name": "stderr",
          "text": [
            "\r  2%|▏         | 22/1000 [01:00<28:57,  1.78s/it]"
          ]
        },
        {
          "output_type": "stream",
          "name": "stdout",
          "text": [
            "Validation acc: 0.7656\n",
            "\n",
            "Start of epoch 22\n",
            "Training loss: 1.2616\n",
            "Training metric: 0.6588\n",
            "perturbation loss: 1.5692\n"
          ]
        },
        {
          "output_type": "stream",
          "name": "stderr",
          "text": [
            "\r  2%|▏         | 23/1000 [01:02<27:57,  1.72s/it]"
          ]
        },
        {
          "output_type": "stream",
          "name": "stdout",
          "text": [
            "Validation acc: 0.8359\n",
            "\n",
            "Start of epoch 23\n",
            "Training loss: 1.2025\n",
            "Training metric: 0.6686\n",
            "perturbation loss: 1.5591\n"
          ]
        },
        {
          "output_type": "stream",
          "name": "stderr",
          "text": [
            "\r  2%|▏         | 24/1000 [01:03<27:03,  1.66s/it]"
          ]
        },
        {
          "output_type": "stream",
          "name": "stdout",
          "text": [
            "Validation acc: 0.8203\n",
            "\n",
            "Start of epoch 24\n",
            "Training loss: 1.1823\n",
            "Training metric: 0.6771\n",
            "perturbation loss: 1.5570\n"
          ]
        },
        {
          "output_type": "stream",
          "name": "stderr",
          "text": [
            "\r  2%|▎         | 25/1000 [01:05<26:23,  1.62s/it]"
          ]
        },
        {
          "output_type": "stream",
          "name": "stdout",
          "text": [
            "Validation acc: 0.8516\n",
            "\n",
            "Start of epoch 25\n",
            "Training loss: 1.1610\n",
            "Training metric: 0.6848\n",
            "perturbation loss: 1.5451\n"
          ]
        },
        {
          "output_type": "stream",
          "name": "stderr",
          "text": [
            "\r  3%|▎         | 26/1000 [01:06<25:55,  1.60s/it]"
          ]
        },
        {
          "output_type": "stream",
          "name": "stdout",
          "text": [
            "Validation acc: 0.7188\n",
            "\n",
            "Start of epoch 26\n",
            "Training loss: 1.0733\n",
            "Training metric: 0.6931\n",
            "perturbation loss: 1.5128\n"
          ]
        },
        {
          "output_type": "stream",
          "name": "stderr",
          "text": [
            "\r  3%|▎         | 27/1000 [01:08<25:37,  1.58s/it]"
          ]
        },
        {
          "output_type": "stream",
          "name": "stdout",
          "text": [
            "Validation acc: 0.7656\n",
            "\n",
            "Start of epoch 27\n",
            "Training loss: 0.9962\n",
            "Training metric: 0.7013\n",
            "perturbation loss: 1.4776\n"
          ]
        },
        {
          "output_type": "stream",
          "name": "stderr",
          "text": [
            "\r  3%|▎         | 28/1000 [01:09<25:47,  1.59s/it]"
          ]
        },
        {
          "output_type": "stream",
          "name": "stdout",
          "text": [
            "Validation acc: 0.7891\n",
            "\n",
            "Start of epoch 28\n",
            "Training loss: 0.9784\n",
            "Training metric: 0.7083\n",
            "perturbation loss: 1.4585\n"
          ]
        },
        {
          "output_type": "stream",
          "name": "stderr",
          "text": [
            "\r  3%|▎         | 29/1000 [01:11<27:59,  1.73s/it]"
          ]
        },
        {
          "output_type": "stream",
          "name": "stdout",
          "text": [
            "Validation acc: 0.7734\n",
            "\n",
            "Start of epoch 29\n",
            "Training loss: 0.8919\n",
            "Training metric: 0.7147\n",
            "perturbation loss: 1.4077\n"
          ]
        },
        {
          "output_type": "stream",
          "name": "stderr",
          "text": [
            "\r  3%|▎         | 30/1000 [01:13<28:53,  1.79s/it]"
          ]
        },
        {
          "output_type": "stream",
          "name": "stdout",
          "text": [
            "Validation acc: 0.8359\n",
            "\n",
            "Start of epoch 30\n",
            "Training loss: 0.7956\n",
            "Training metric: 0.7215\n",
            "perturbation loss: 1.3744\n"
          ]
        },
        {
          "output_type": "stream",
          "name": "stderr",
          "text": [
            "\r  3%|▎         | 31/1000 [01:15<27:38,  1.71s/it]"
          ]
        },
        {
          "output_type": "stream",
          "name": "stdout",
          "text": [
            "Validation acc: 0.8672\n",
            "\n",
            "Start of epoch 31\n",
            "Training loss: 0.8171\n",
            "Training metric: 0.7276\n",
            "perturbation loss: 1.3593\n"
          ]
        },
        {
          "output_type": "stream",
          "name": "stderr",
          "text": [
            "\r  3%|▎         | 32/1000 [01:16<26:38,  1.65s/it]"
          ]
        },
        {
          "output_type": "stream",
          "name": "stdout",
          "text": [
            "Validation acc: 0.7969\n",
            "\n",
            "Start of epoch 32\n",
            "Training loss: 0.7261\n",
            "Training metric: 0.7337\n",
            "perturbation loss: 1.3043\n"
          ]
        },
        {
          "output_type": "stream",
          "name": "stderr",
          "text": [
            "\r  3%|▎         | 33/1000 [01:18<26:02,  1.62s/it]"
          ]
        },
        {
          "output_type": "stream",
          "name": "stdout",
          "text": [
            "Validation acc: 0.8047\n",
            "\n",
            "Start of epoch 33\n",
            "Training loss: 0.6191\n",
            "Training metric: 0.7397\n",
            "perturbation loss: 1.2365\n"
          ]
        },
        {
          "output_type": "stream",
          "name": "stderr",
          "text": [
            "\r  3%|▎         | 34/1000 [01:19<25:47,  1.60s/it]"
          ]
        },
        {
          "output_type": "stream",
          "name": "stdout",
          "text": [
            "Validation acc: 0.8281\n",
            "\n",
            "Start of epoch 34\n",
            "Training loss: 0.6413\n",
            "Training metric: 0.7451\n",
            "perturbation loss: 1.2356\n"
          ]
        },
        {
          "output_type": "stream",
          "name": "stderr",
          "text": [
            "\r  4%|▎         | 35/1000 [01:21<25:28,  1.58s/it]"
          ]
        },
        {
          "output_type": "stream",
          "name": "stdout",
          "text": [
            "Validation acc: 0.8594\n",
            "\n",
            "Start of epoch 35\n",
            "Training loss: 0.5663\n",
            "Training metric: 0.7502\n",
            "perturbation loss: 1.1934\n"
          ]
        },
        {
          "output_type": "stream",
          "name": "stderr",
          "text": [
            "\r  4%|▎         | 36/1000 [01:23<25:07,  1.56s/it]"
          ]
        },
        {
          "output_type": "stream",
          "name": "stdout",
          "text": [
            "Validation acc: 0.7578\n",
            "\n",
            "Start of epoch 36\n",
            "Training loss: 0.4425\n",
            "Training metric: 0.7552\n",
            "perturbation loss: 0.9954\n"
          ]
        },
        {
          "output_type": "stream",
          "name": "stderr",
          "text": [
            "\r  4%|▎         | 37/1000 [01:24<26:41,  1.66s/it]"
          ]
        },
        {
          "output_type": "stream",
          "name": "stdout",
          "text": [
            "Validation acc: 0.7969\n",
            "\n",
            "Start of epoch 37\n",
            "Training loss: 0.5291\n",
            "Training metric: 0.7600\n",
            "perturbation loss: 1.0625\n"
          ]
        },
        {
          "output_type": "stream",
          "name": "stderr",
          "text": [
            "\r  4%|▍         | 38/1000 [01:26<28:35,  1.78s/it]"
          ]
        },
        {
          "output_type": "stream",
          "name": "stdout",
          "text": [
            "Validation acc: 0.7734\n",
            "\n",
            "Start of epoch 38\n",
            "Training loss: 0.4387\n",
            "Training metric: 0.7645\n",
            "perturbation loss: 0.9533\n"
          ]
        },
        {
          "output_type": "stream",
          "name": "stderr",
          "text": [
            "\r  4%|▍         | 39/1000 [01:28<27:49,  1.74s/it]"
          ]
        },
        {
          "output_type": "stream",
          "name": "stdout",
          "text": [
            "Validation acc: 0.7969\n",
            "\n",
            "Start of epoch 39\n",
            "Training loss: 0.4557\n",
            "Training metric: 0.7685\n",
            "perturbation loss: 0.9374\n"
          ]
        },
        {
          "output_type": "stream",
          "name": "stderr",
          "text": [
            "\r  4%|▍         | 40/1000 [01:30<26:56,  1.68s/it]"
          ]
        },
        {
          "output_type": "stream",
          "name": "stdout",
          "text": [
            "Validation acc: 0.8125\n",
            "\n",
            "Start of epoch 40\n",
            "Training loss: 0.4809\n",
            "Training metric: 0.7726\n",
            "perturbation loss: 0.8952\n"
          ]
        },
        {
          "output_type": "stream",
          "name": "stderr",
          "text": [
            "\r  4%|▍         | 41/1000 [01:31<26:18,  1.65s/it]"
          ]
        },
        {
          "output_type": "stream",
          "name": "stdout",
          "text": [
            "Validation acc: 0.8438\n",
            "\n",
            "Start of epoch 41\n",
            "Training loss: 0.4459\n",
            "Training metric: 0.7766\n",
            "perturbation loss: 0.8874\n"
          ]
        },
        {
          "output_type": "stream",
          "name": "stderr",
          "text": [
            "\r  4%|▍         | 42/1000 [01:33<25:42,  1.61s/it]"
          ]
        },
        {
          "output_type": "stream",
          "name": "stdout",
          "text": [
            "Validation acc: 0.7891\n",
            "\n",
            "Start of epoch 42\n",
            "Training loss: 0.3717\n",
            "Training metric: 0.7804\n",
            "perturbation loss: 0.8122\n"
          ]
        },
        {
          "output_type": "stream",
          "name": "stderr",
          "text": [
            "\r  4%|▍         | 43/1000 [01:34<25:17,  1.59s/it]"
          ]
        },
        {
          "output_type": "stream",
          "name": "stdout",
          "text": [
            "Validation acc: 0.8203\n",
            "\n",
            "Start of epoch 43\n",
            "Training loss: 0.2487\n",
            "Training metric: 0.7841\n",
            "perturbation loss: 0.6673\n"
          ]
        },
        {
          "output_type": "stream",
          "name": "stderr",
          "text": [
            "\r  4%|▍         | 44/1000 [01:36<25:06,  1.58s/it]"
          ]
        },
        {
          "output_type": "stream",
          "name": "stdout",
          "text": [
            "Validation acc: 0.8125\n",
            "\n",
            "Start of epoch 44\n",
            "Training loss: 0.2836\n",
            "Training metric: 0.7878\n",
            "perturbation loss: 0.6463\n"
          ]
        },
        {
          "output_type": "stream",
          "name": "stderr",
          "text": [
            "\r  4%|▍         | 45/1000 [01:38<27:07,  1.70s/it]"
          ]
        },
        {
          "output_type": "stream",
          "name": "stdout",
          "text": [
            "Validation acc: 0.7969\n",
            "\n",
            "Start of epoch 45\n",
            "Training loss: 0.2052\n",
            "Training metric: 0.7915\n",
            "perturbation loss: 0.5908\n"
          ]
        },
        {
          "output_type": "stream",
          "name": "stderr",
          "text": [
            "\r  5%|▍         | 46/1000 [01:40<28:44,  1.81s/it]"
          ]
        },
        {
          "output_type": "stream",
          "name": "stdout",
          "text": [
            "Validation acc: 0.8828\n",
            "\n",
            "Start of epoch 46\n",
            "Training loss: 0.2451\n",
            "Training metric: 0.7951\n",
            "perturbation loss: 0.4930\n"
          ]
        },
        {
          "output_type": "stream",
          "name": "stderr",
          "text": [
            "\r  5%|▍         | 47/1000 [01:42<28:22,  1.79s/it]"
          ]
        },
        {
          "output_type": "stream",
          "name": "stdout",
          "text": [
            "Validation acc: 0.8438\n",
            "\n",
            "Start of epoch 47\n",
            "Training loss: 0.2461\n",
            "Training metric: 0.7985\n",
            "perturbation loss: 0.4104\n"
          ]
        },
        {
          "output_type": "stream",
          "name": "stderr",
          "text": [
            "\r  5%|▍         | 48/1000 [01:43<27:00,  1.70s/it]"
          ]
        },
        {
          "output_type": "stream",
          "name": "stdout",
          "text": [
            "Validation acc: 0.8594\n",
            "\n",
            "Start of epoch 48\n",
            "Training loss: 0.2278\n",
            "Training metric: 0.8016\n",
            "perturbation loss: 0.4916\n"
          ]
        },
        {
          "output_type": "stream",
          "name": "stderr",
          "text": [
            "\r  5%|▍         | 49/1000 [01:45<26:05,  1.65s/it]"
          ]
        },
        {
          "output_type": "stream",
          "name": "stdout",
          "text": [
            "Validation acc: 0.8516\n",
            "\n",
            "Start of epoch 49\n",
            "Training loss: 0.1253\n",
            "Training metric: 0.8048\n",
            "perturbation loss: 0.3998\n"
          ]
        },
        {
          "output_type": "stream",
          "name": "stderr",
          "text": [
            "\r  5%|▌         | 50/1000 [01:46<25:25,  1.61s/it]"
          ]
        },
        {
          "output_type": "stream",
          "name": "stdout",
          "text": [
            "Validation acc: 0.8359\n",
            "\n",
            "Start of epoch 50\n",
            "Training loss: 0.0722\n",
            "Training metric: 0.8080\n",
            "perturbation loss: 0.2603\n"
          ]
        },
        {
          "output_type": "stream",
          "name": "stderr",
          "text": [
            "\r  5%|▌         | 51/1000 [01:48<24:54,  1.57s/it]"
          ]
        },
        {
          "output_type": "stream",
          "name": "stdout",
          "text": [
            "Validation acc: 0.9062\n",
            "\n",
            "Start of epoch 51\n",
            "Training loss: 0.1167\n",
            "Training metric: 0.8110\n",
            "perturbation loss: 0.2539\n"
          ]
        },
        {
          "output_type": "stream",
          "name": "stderr",
          "text": [
            "\r  5%|▌         | 52/1000 [01:49<24:34,  1.56s/it]"
          ]
        },
        {
          "output_type": "stream",
          "name": "stdout",
          "text": [
            "Validation acc: 0.7969\n",
            "\n",
            "Start of epoch 52\n",
            "Training loss: 0.1199\n",
            "Training metric: 0.8138\n",
            "perturbation loss: 0.3672\n"
          ]
        },
        {
          "output_type": "stream",
          "name": "stderr",
          "text": [
            "\r  5%|▌         | 53/1000 [01:51<24:30,  1.55s/it]"
          ]
        },
        {
          "output_type": "stream",
          "name": "stdout",
          "text": [
            "Validation acc: 0.7422\n",
            "\n",
            "Start of epoch 53\n",
            "Training loss: 0.2219\n",
            "Training metric: 0.8161\n",
            "perturbation loss: 0.4435\n"
          ]
        },
        {
          "output_type": "stream",
          "name": "stderr",
          "text": [
            "\r  5%|▌         | 54/1000 [01:53<28:29,  1.81s/it]"
          ]
        },
        {
          "output_type": "stream",
          "name": "stdout",
          "text": [
            "Validation acc: 0.8984\n",
            "\n",
            "Start of epoch 54\n",
            "Training loss: 0.1683\n",
            "Training metric: 0.8185\n",
            "perturbation loss: 0.3435\n"
          ]
        },
        {
          "output_type": "stream",
          "name": "stderr",
          "text": [
            "\r  6%|▌         | 55/1000 [01:55<29:15,  1.86s/it]"
          ]
        },
        {
          "output_type": "stream",
          "name": "stdout",
          "text": [
            "Validation acc: 0.8359\n",
            "\n",
            "Start of epoch 55\n",
            "Training loss: 0.0918\n",
            "Training metric: 0.8211\n",
            "perturbation loss: 0.1925\n"
          ]
        },
        {
          "output_type": "stream",
          "name": "stderr",
          "text": [
            "\r  6%|▌         | 56/1000 [01:57<28:02,  1.78s/it]"
          ]
        },
        {
          "output_type": "stream",
          "name": "stdout",
          "text": [
            "Validation acc: 0.8828\n",
            "\n",
            "Start of epoch 56\n",
            "Training loss: 0.0514\n",
            "Training metric: 0.8235\n",
            "perturbation loss: 0.1977\n"
          ]
        },
        {
          "output_type": "stream",
          "name": "stderr",
          "text": [
            "\r  6%|▌         | 57/1000 [01:58<27:11,  1.73s/it]"
          ]
        },
        {
          "output_type": "stream",
          "name": "stdout",
          "text": [
            "Validation acc: 0.7344\n",
            "\n",
            "Start of epoch 57\n",
            "Training loss: 0.0902\n",
            "Training metric: 0.8259\n",
            "perturbation loss: 0.2244\n"
          ]
        },
        {
          "output_type": "stream",
          "name": "stderr",
          "text": [
            "\r  6%|▌         | 58/1000 [02:00<26:32,  1.69s/it]"
          ]
        },
        {
          "output_type": "stream",
          "name": "stdout",
          "text": [
            "Validation acc: 0.8516\n",
            "\n",
            "Start of epoch 58\n",
            "Training loss: 0.0887\n",
            "Training metric: 0.8280\n",
            "perturbation loss: 0.2776\n"
          ]
        },
        {
          "output_type": "stream",
          "name": "stderr",
          "text": [
            "\r  6%|▌         | 59/1000 [02:01<26:07,  1.67s/it]"
          ]
        },
        {
          "output_type": "stream",
          "name": "stdout",
          "text": [
            "Validation acc: 0.7266\n",
            "\n",
            "Start of epoch 59\n",
            "Training loss: 0.0316\n",
            "Training metric: 0.8301\n",
            "perturbation loss: 0.1243\n"
          ]
        },
        {
          "output_type": "stream",
          "name": "stderr",
          "text": [
            "\r  6%|▌         | 60/1000 [02:03<25:58,  1.66s/it]"
          ]
        },
        {
          "output_type": "stream",
          "name": "stdout",
          "text": [
            "Validation acc: 0.8203\n",
            "\n",
            "Start of epoch 60\n",
            "Training loss: 0.2489\n",
            "Training metric: 0.8325\n",
            "perturbation loss: 0.3426\n"
          ]
        },
        {
          "output_type": "stream",
          "name": "stderr",
          "text": [
            "\r  6%|▌         | 61/1000 [02:05<27:20,  1.75s/it]"
          ]
        },
        {
          "output_type": "stream",
          "name": "stdout",
          "text": [
            "Validation acc: 0.7812\n",
            "\n",
            "Start of epoch 61\n",
            "Training loss: 0.0445\n",
            "Training metric: 0.8347\n",
            "perturbation loss: 0.2123\n"
          ]
        },
        {
          "output_type": "stream",
          "name": "stderr",
          "text": [
            "\r  6%|▌         | 62/1000 [02:07<29:15,  1.87s/it]"
          ]
        },
        {
          "output_type": "stream",
          "name": "stdout",
          "text": [
            "Validation acc: 0.8594\n",
            "\n",
            "Start of epoch 62\n",
            "Training loss: 0.0431\n",
            "Training metric: 0.8367\n",
            "perturbation loss: 0.1258\n"
          ]
        },
        {
          "output_type": "stream",
          "name": "stderr",
          "text": [
            "\r  6%|▋         | 63/1000 [02:09<29:25,  1.88s/it]"
          ]
        },
        {
          "output_type": "stream",
          "name": "stdout",
          "text": [
            "Validation acc: 0.9219\n",
            "\n",
            "Start of epoch 63\n",
            "Training loss: 0.1775\n",
            "Training metric: 0.8388\n",
            "perturbation loss: 0.2597\n"
          ]
        },
        {
          "output_type": "stream",
          "name": "stderr",
          "text": [
            "\r  6%|▋         | 64/1000 [02:11<28:04,  1.80s/it]"
          ]
        },
        {
          "output_type": "stream",
          "name": "stdout",
          "text": [
            "Validation acc: 0.6250\n",
            "\n",
            "Start of epoch 64\n",
            "Training loss: 0.0621\n",
            "Training metric: 0.8409\n",
            "perturbation loss: 0.2484\n"
          ]
        },
        {
          "output_type": "stream",
          "name": "stderr",
          "text": [
            "\r  6%|▋         | 65/1000 [02:12<27:00,  1.73s/it]"
          ]
        },
        {
          "output_type": "stream",
          "name": "stdout",
          "text": [
            "Validation acc: 0.8672\n",
            "\n",
            "Start of epoch 65\n",
            "Training loss: 0.0478\n",
            "Training metric: 0.8428\n",
            "perturbation loss: 0.1631\n"
          ]
        },
        {
          "output_type": "stream",
          "name": "stderr",
          "text": [
            "\r  7%|▋         | 66/1000 [02:14<26:09,  1.68s/it]"
          ]
        },
        {
          "output_type": "stream",
          "name": "stdout",
          "text": [
            "Validation acc: 0.8906\n",
            "\n",
            "Start of epoch 66\n",
            "Training loss: 0.1045\n",
            "Training metric: 0.8448\n",
            "perturbation loss: 0.2395\n"
          ]
        },
        {
          "output_type": "stream",
          "name": "stderr",
          "text": [
            "\r  7%|▋         | 67/1000 [02:15<25:29,  1.64s/it]"
          ]
        },
        {
          "output_type": "stream",
          "name": "stdout",
          "text": [
            "Validation acc: 0.6797\n",
            "\n",
            "Start of epoch 67\n",
            "Training loss: 0.1585\n",
            "Training metric: 0.8465\n",
            "perturbation loss: 0.3222\n"
          ]
        },
        {
          "output_type": "stream",
          "name": "stderr",
          "text": [
            "\r  7%|▋         | 68/1000 [02:17<25:06,  1.62s/it]"
          ]
        },
        {
          "output_type": "stream",
          "name": "stdout",
          "text": [
            "Validation acc: 0.8828\n",
            "\n",
            "Start of epoch 68\n",
            "Training loss: 0.0909\n",
            "Training metric: 0.8483\n",
            "perturbation loss: 0.1063\n"
          ]
        },
        {
          "output_type": "stream",
          "name": "stderr",
          "text": [
            "\r  7%|▋         | 69/1000 [02:19<25:22,  1.63s/it]"
          ]
        },
        {
          "output_type": "stream",
          "name": "stdout",
          "text": [
            "Validation acc: 0.8125\n",
            "\n",
            "Start of epoch 69\n",
            "Training loss: 0.1356\n",
            "Training metric: 0.8503\n",
            "perturbation loss: 0.2363\n"
          ]
        },
        {
          "output_type": "stream",
          "name": "stderr",
          "text": [
            "\r  7%|▋         | 70/1000 [02:21<28:46,  1.86s/it]"
          ]
        },
        {
          "output_type": "stream",
          "name": "stdout",
          "text": [
            "Validation acc: 0.5859\n",
            "\n",
            "Start of epoch 70\n",
            "Training loss: 0.0445\n",
            "Training metric: 0.8521\n",
            "perturbation loss: 0.1016\n"
          ]
        },
        {
          "output_type": "stream",
          "name": "stderr",
          "text": [
            "\r  7%|▋         | 71/1000 [02:23<28:04,  1.81s/it]"
          ]
        },
        {
          "output_type": "stream",
          "name": "stdout",
          "text": [
            "Validation acc: 0.9219\n",
            "\n",
            "Start of epoch 71\n",
            "Training loss: 0.0413\n",
            "Training metric: 0.8538\n",
            "perturbation loss: 0.1437\n"
          ]
        },
        {
          "output_type": "stream",
          "name": "stderr",
          "text": [
            "\r  7%|▋         | 72/1000 [02:24<26:38,  1.72s/it]"
          ]
        },
        {
          "output_type": "stream",
          "name": "stdout",
          "text": [
            "Validation acc: 0.7266\n",
            "\n",
            "Start of epoch 72\n",
            "Training loss: 0.0372\n",
            "Training metric: 0.8556\n",
            "perturbation loss: 0.1355\n"
          ]
        },
        {
          "output_type": "stream",
          "name": "stderr",
          "text": [
            "\r  7%|▋         | 73/1000 [02:26<25:47,  1.67s/it]"
          ]
        },
        {
          "output_type": "stream",
          "name": "stdout",
          "text": [
            "Validation acc: 0.8828\n",
            "\n",
            "Start of epoch 73\n",
            "Training loss: 0.0283\n",
            "Training metric: 0.8573\n",
            "perturbation loss: 0.0813\n"
          ]
        },
        {
          "output_type": "stream",
          "name": "stderr",
          "text": [
            "\r  7%|▋         | 74/1000 [02:27<25:06,  1.63s/it]"
          ]
        },
        {
          "output_type": "stream",
          "name": "stdout",
          "text": [
            "Validation acc: 0.8203\n",
            "\n",
            "Start of epoch 74\n",
            "Training loss: 0.0904\n",
            "Training metric: 0.8586\n",
            "perturbation loss: 0.2835\n"
          ]
        },
        {
          "output_type": "stream",
          "name": "stderr",
          "text": [
            "\r  8%|▊         | 75/1000 [02:29<24:38,  1.60s/it]"
          ]
        },
        {
          "output_type": "stream",
          "name": "stdout",
          "text": [
            "Validation acc: 0.8750\n",
            "\n",
            "Start of epoch 75\n",
            "Training loss: 0.0562\n",
            "Training metric: 0.8601\n",
            "perturbation loss: 0.0935\n"
          ]
        },
        {
          "output_type": "stream",
          "name": "stderr",
          "text": [
            "\r  8%|▊         | 76/1000 [02:30<24:13,  1.57s/it]"
          ]
        },
        {
          "output_type": "stream",
          "name": "stdout",
          "text": [
            "Validation acc: 0.9141\n",
            "\n",
            "Start of epoch 76\n",
            "Training loss: 0.0313\n",
            "Training metric: 0.8617\n",
            "perturbation loss: 0.1534\n"
          ]
        },
        {
          "output_type": "stream",
          "name": "stderr",
          "text": [
            "\r  8%|▊         | 77/1000 [02:32<24:27,  1.59s/it]"
          ]
        },
        {
          "output_type": "stream",
          "name": "stdout",
          "text": [
            "Validation acc: 0.8672\n",
            "\n",
            "Start of epoch 77\n",
            "Training loss: 0.1087\n",
            "Training metric: 0.8632\n",
            "perturbation loss: 0.0779\n"
          ]
        },
        {
          "output_type": "stream",
          "name": "stderr",
          "text": [
            "\r  8%|▊         | 78/1000 [02:34<26:25,  1.72s/it]"
          ]
        },
        {
          "output_type": "stream",
          "name": "stdout",
          "text": [
            "Validation acc: 0.7734\n",
            "\n",
            "Start of epoch 78\n",
            "Training loss: 0.0995\n",
            "Training metric: 0.8648\n",
            "perturbation loss: 0.2156\n"
          ]
        },
        {
          "output_type": "stream",
          "name": "stderr",
          "text": [
            "\r  8%|▊         | 79/1000 [02:36<27:13,  1.77s/it]"
          ]
        },
        {
          "output_type": "stream",
          "name": "stdout",
          "text": [
            "Validation acc: 0.8438\n",
            "\n",
            "Start of epoch 79\n",
            "Training loss: 0.0569\n",
            "Training metric: 0.8661\n",
            "perturbation loss: 0.1961\n"
          ]
        },
        {
          "output_type": "stream",
          "name": "stderr",
          "text": [
            "\r  8%|▊         | 80/1000 [02:37<26:07,  1.70s/it]"
          ]
        },
        {
          "output_type": "stream",
          "name": "stdout",
          "text": [
            "Validation acc: 0.7188\n",
            "\n",
            "Start of epoch 80\n",
            "Training loss: 0.0637\n",
            "Training metric: 0.8675\n",
            "perturbation loss: 0.2119\n"
          ]
        },
        {
          "output_type": "stream",
          "name": "stderr",
          "text": [
            "\r  8%|▊         | 81/1000 [02:39<25:17,  1.65s/it]"
          ]
        },
        {
          "output_type": "stream",
          "name": "stdout",
          "text": [
            "Validation acc: 0.7891\n",
            "\n",
            "Start of epoch 81\n",
            "Training loss: 0.0705\n",
            "Training metric: 0.8690\n",
            "perturbation loss: 0.1688\n"
          ]
        },
        {
          "output_type": "stream",
          "name": "stderr",
          "text": [
            "\r  8%|▊         | 82/1000 [02:41<24:44,  1.62s/it]"
          ]
        },
        {
          "output_type": "stream",
          "name": "stdout",
          "text": [
            "Validation acc: 0.8672\n",
            "\n",
            "Start of epoch 82\n",
            "Training loss: 0.1090\n",
            "Training metric: 0.8703\n",
            "perturbation loss: 0.2350\n"
          ]
        },
        {
          "output_type": "stream",
          "name": "stderr",
          "text": [
            "\r  8%|▊         | 83/1000 [02:42<24:30,  1.60s/it]"
          ]
        },
        {
          "output_type": "stream",
          "name": "stdout",
          "text": [
            "Validation acc: 0.8906\n",
            "\n",
            "Start of epoch 83\n",
            "Training loss: 0.0662\n",
            "Training metric: 0.8716\n",
            "perturbation loss: 0.1419\n"
          ]
        },
        {
          "output_type": "stream",
          "name": "stderr",
          "text": [
            "\r  8%|▊         | 84/1000 [02:44<24:00,  1.57s/it]"
          ]
        },
        {
          "output_type": "stream",
          "name": "stdout",
          "text": [
            "Validation acc: 0.8359\n",
            "\n",
            "Start of epoch 84\n",
            "Training loss: 0.0283\n",
            "Training metric: 0.8729\n",
            "perturbation loss: 0.0676\n"
          ]
        },
        {
          "output_type": "stream",
          "name": "stderr",
          "text": [
            "\r  8%|▊         | 85/1000 [02:45<23:47,  1.56s/it]"
          ]
        },
        {
          "output_type": "stream",
          "name": "stdout",
          "text": [
            "Validation acc: 0.8438\n",
            "\n",
            "Start of epoch 85\n",
            "Training loss: 0.0391\n",
            "Training metric: 0.8743\n",
            "perturbation loss: 0.1053\n"
          ]
        },
        {
          "output_type": "stream",
          "name": "stderr",
          "text": [
            "\r  9%|▊         | 86/1000 [02:47<25:19,  1.66s/it]"
          ]
        },
        {
          "output_type": "stream",
          "name": "stdout",
          "text": [
            "Validation acc: 0.8906\n",
            "\n",
            "Start of epoch 86\n",
            "Training loss: 0.1489\n",
            "Training metric: 0.8756\n",
            "perturbation loss: 0.0568\n"
          ]
        },
        {
          "output_type": "stream",
          "name": "stderr",
          "text": [
            "\r  9%|▊         | 87/1000 [02:49<26:53,  1.77s/it]"
          ]
        },
        {
          "output_type": "stream",
          "name": "stdout",
          "text": [
            "Validation acc: 0.8828\n",
            "\n",
            "Start of epoch 87\n",
            "Training loss: 0.1265\n",
            "Training metric: 0.8768\n",
            "perturbation loss: 0.1574\n"
          ]
        },
        {
          "output_type": "stream",
          "name": "stderr",
          "text": [
            "\r  9%|▉         | 88/1000 [02:51<25:47,  1.70s/it]"
          ]
        },
        {
          "output_type": "stream",
          "name": "stdout",
          "text": [
            "Validation acc: 0.7969\n",
            "\n",
            "Start of epoch 88\n",
            "Training loss: 0.0578\n",
            "Training metric: 0.8781\n",
            "perturbation loss: 0.1391\n"
          ]
        },
        {
          "output_type": "stream",
          "name": "stderr",
          "text": [
            "\r  9%|▉         | 89/1000 [02:52<25:24,  1.67s/it]"
          ]
        },
        {
          "output_type": "stream",
          "name": "stdout",
          "text": [
            "Validation acc: 0.9297\n",
            "\n",
            "Start of epoch 89\n",
            "Training loss: 0.0091\n",
            "Training metric: 0.8793\n",
            "perturbation loss: 0.0710\n"
          ]
        },
        {
          "output_type": "stream",
          "name": "stderr",
          "text": [
            "\r  9%|▉         | 90/1000 [02:54<25:02,  1.65s/it]"
          ]
        },
        {
          "output_type": "stream",
          "name": "stdout",
          "text": [
            "Validation acc: 0.8828\n",
            "\n",
            "Start of epoch 90\n",
            "Training loss: 0.0843\n",
            "Training metric: 0.8804\n",
            "perturbation loss: 0.0973\n"
          ]
        },
        {
          "output_type": "stream",
          "name": "stderr",
          "text": [
            "\r  9%|▉         | 91/1000 [02:55<24:46,  1.63s/it]"
          ]
        },
        {
          "output_type": "stream",
          "name": "stdout",
          "text": [
            "Validation acc: 0.7734\n",
            "\n",
            "Start of epoch 91\n",
            "Training loss: 0.0490\n",
            "Training metric: 0.8813\n",
            "perturbation loss: 0.1559\n"
          ]
        },
        {
          "output_type": "stream",
          "name": "stderr",
          "text": [
            "\r  9%|▉         | 92/1000 [02:57<24:45,  1.64s/it]"
          ]
        },
        {
          "output_type": "stream",
          "name": "stdout",
          "text": [
            "Validation acc: 0.8828\n",
            "\n",
            "Start of epoch 92\n",
            "Training loss: 0.0302\n",
            "Training metric: 0.8824\n",
            "perturbation loss: 0.1307\n"
          ]
        },
        {
          "output_type": "stream",
          "name": "stderr",
          "text": [
            "\r  9%|▉         | 93/1000 [02:59<24:30,  1.62s/it]"
          ]
        },
        {
          "output_type": "stream",
          "name": "stdout",
          "text": [
            "Validation acc: 0.4453\n",
            "\n",
            "Start of epoch 93\n",
            "Training loss: 0.0290\n",
            "Training metric: 0.8835\n",
            "perturbation loss: 0.0591\n"
          ]
        },
        {
          "output_type": "stream",
          "name": "stderr",
          "text": [
            "\r  9%|▉         | 94/1000 [03:01<27:19,  1.81s/it]"
          ]
        },
        {
          "output_type": "stream",
          "name": "stdout",
          "text": [
            "Validation acc: 0.8750\n",
            "\n",
            "Start of epoch 94\n",
            "Training loss: 0.0301\n",
            "Training metric: 0.8847\n",
            "perturbation loss: 0.0634\n"
          ]
        },
        {
          "output_type": "stream",
          "name": "stderr",
          "text": [
            "\r 10%|▉         | 95/1000 [03:03<29:06,  1.93s/it]"
          ]
        },
        {
          "output_type": "stream",
          "name": "stdout",
          "text": [
            "Validation acc: 0.9219\n",
            "\n",
            "Start of epoch 95\n",
            "Training loss: 0.0045\n",
            "Training metric: 0.8858\n",
            "perturbation loss: 0.0387\n"
          ]
        },
        {
          "output_type": "stream",
          "name": "stderr",
          "text": [
            "\r 10%|▉         | 96/1000 [03:05<27:35,  1.83s/it]"
          ]
        },
        {
          "output_type": "stream",
          "name": "stdout",
          "text": [
            "Validation acc: 0.9141\n",
            "\n",
            "Start of epoch 96\n",
            "Training loss: 0.0556\n",
            "Training metric: 0.8869\n",
            "perturbation loss: 0.1653\n"
          ]
        },
        {
          "output_type": "stream",
          "name": "stderr",
          "text": [
            "\r 10%|▉         | 97/1000 [03:06<26:38,  1.77s/it]"
          ]
        },
        {
          "output_type": "stream",
          "name": "stdout",
          "text": [
            "Validation acc: 0.8828\n",
            "\n",
            "Start of epoch 97\n",
            "Training loss: 0.0234\n",
            "Training metric: 0.8880\n",
            "perturbation loss: 0.0894\n"
          ]
        },
        {
          "output_type": "stream",
          "name": "stderr",
          "text": [
            "\r 10%|▉         | 98/1000 [03:08<26:09,  1.74s/it]"
          ]
        },
        {
          "output_type": "stream",
          "name": "stdout",
          "text": [
            "Validation acc: 0.7656\n",
            "\n",
            "Start of epoch 98\n",
            "Training loss: 0.0467\n",
            "Training metric: 0.8888\n",
            "perturbation loss: 0.2371\n"
          ]
        },
        {
          "output_type": "stream",
          "name": "stderr",
          "text": [
            "\r 10%|▉         | 99/1000 [03:10<25:27,  1.69s/it]"
          ]
        },
        {
          "output_type": "stream",
          "name": "stdout",
          "text": [
            "Validation acc: 0.6875\n",
            "\n",
            "Start of epoch 99\n",
            "Training loss: 0.0247\n",
            "Training metric: 0.8897\n",
            "perturbation loss: 0.0816\n"
          ]
        },
        {
          "output_type": "stream",
          "name": "stderr",
          "text": [
            "\r 10%|█         | 100/1000 [03:11<24:53,  1.66s/it]"
          ]
        },
        {
          "output_type": "stream",
          "name": "stdout",
          "text": [
            "Validation acc: 0.9141\n",
            "\n",
            "Start of epoch 100\n",
            "Training loss: 0.0174\n",
            "Training metric: 0.8907\n",
            "perturbation loss: 0.0422\n"
          ]
        },
        {
          "output_type": "stream",
          "name": "stderr",
          "text": [
            "\r 10%|█         | 101/1000 [03:13<24:21,  1.63s/it]"
          ]
        },
        {
          "output_type": "stream",
          "name": "stdout",
          "text": [
            "Validation acc: 0.9141\n",
            "\n",
            "Start of epoch 101\n",
            "Training loss: 0.0228\n",
            "Training metric: 0.8918\n",
            "perturbation loss: 0.0496\n"
          ]
        },
        {
          "output_type": "stream",
          "name": "stderr",
          "text": [
            "\r 10%|█         | 102/1000 [03:15<27:05,  1.81s/it]"
          ]
        },
        {
          "output_type": "stream",
          "name": "stdout",
          "text": [
            "Validation acc: 0.9297\n",
            "\n",
            "Start of epoch 102\n",
            "Training loss: 0.3128\n",
            "Training metric: 0.8926\n",
            "perturbation loss: 0.2524\n"
          ]
        },
        {
          "output_type": "stream",
          "name": "stderr",
          "text": [
            "\r 10%|█         | 103/1000 [03:17<27:40,  1.85s/it]"
          ]
        },
        {
          "output_type": "stream",
          "name": "stdout",
          "text": [
            "Validation acc: 0.5000\n",
            "\n",
            "Start of epoch 103\n",
            "Training loss: 0.0764\n",
            "Training metric: 0.8934\n",
            "perturbation loss: 0.1224\n"
          ]
        },
        {
          "output_type": "stream",
          "name": "stderr",
          "text": [
            "\r 10%|█         | 104/1000 [03:18<26:15,  1.76s/it]"
          ]
        },
        {
          "output_type": "stream",
          "name": "stdout",
          "text": [
            "Validation acc: 0.8359\n",
            "\n",
            "Start of epoch 104\n",
            "Training loss: 0.0059\n",
            "Training metric: 0.8942\n",
            "perturbation loss: 0.0492\n"
          ]
        },
        {
          "output_type": "stream",
          "name": "stderr",
          "text": [
            "\r 10%|█         | 105/1000 [03:20<25:18,  1.70s/it]"
          ]
        },
        {
          "output_type": "stream",
          "name": "stdout",
          "text": [
            "Validation acc: 0.9141\n",
            "\n",
            "Start of epoch 105\n",
            "Training loss: 0.0267\n",
            "Training metric: 0.8951\n",
            "perturbation loss: 0.0466\n"
          ]
        },
        {
          "output_type": "stream",
          "name": "stderr",
          "text": [
            "\r 11%|█         | 106/1000 [03:22<24:37,  1.65s/it]"
          ]
        },
        {
          "output_type": "stream",
          "name": "stdout",
          "text": [
            "Validation acc: 0.9219\n",
            "\n",
            "Start of epoch 106\n",
            "Training loss: 0.0138\n",
            "Training metric: 0.8961\n",
            "perturbation loss: 0.0475\n"
          ]
        },
        {
          "output_type": "stream",
          "name": "stderr",
          "text": [
            "\r 11%|█         | 107/1000 [03:23<24:12,  1.63s/it]"
          ]
        },
        {
          "output_type": "stream",
          "name": "stdout",
          "text": [
            "Validation acc: 0.8438\n",
            "\n",
            "Start of epoch 107\n",
            "Training loss: 0.0197\n",
            "Training metric: 0.8969\n",
            "perturbation loss: 0.0560\n"
          ]
        },
        {
          "output_type": "stream",
          "name": "stderr",
          "text": [
            "\r 11%|█         | 108/1000 [03:25<24:06,  1.62s/it]"
          ]
        },
        {
          "output_type": "stream",
          "name": "stdout",
          "text": [
            "Validation acc: 0.7812\n",
            "\n",
            "Start of epoch 108\n",
            "Training loss: 0.0032\n",
            "Training metric: 0.8977\n",
            "perturbation loss: 0.0359\n"
          ]
        },
        {
          "output_type": "stream",
          "name": "stderr",
          "text": [
            "\r 11%|█         | 109/1000 [03:26<23:42,  1.60s/it]"
          ]
        },
        {
          "output_type": "stream",
          "name": "stdout",
          "text": [
            "Validation acc: 0.8984\n",
            "\n",
            "Start of epoch 109\n",
            "Training loss: 0.0307\n",
            "Training metric: 0.8985\n",
            "perturbation loss: 0.0561\n"
          ]
        },
        {
          "output_type": "stream",
          "name": "stderr",
          "text": [
            "\r 11%|█         | 110/1000 [03:28<25:00,  1.69s/it]"
          ]
        },
        {
          "output_type": "stream",
          "name": "stdout",
          "text": [
            "Validation acc: 0.9219\n",
            "\n",
            "Start of epoch 110\n",
            "Training loss: 0.0082\n",
            "Training metric: 0.8994\n",
            "perturbation loss: 0.0360\n"
          ]
        },
        {
          "output_type": "stream",
          "name": "stderr",
          "text": [
            "\r 11%|█         | 111/1000 [03:30<26:36,  1.80s/it]"
          ]
        },
        {
          "output_type": "stream",
          "name": "stdout",
          "text": [
            "Validation acc: 0.9453\n",
            "\n",
            "Start of epoch 111\n",
            "Training loss: 0.0181\n",
            "Training metric: 0.9002\n",
            "perturbation loss: 0.0656\n"
          ]
        },
        {
          "output_type": "stream",
          "name": "stderr",
          "text": [
            "\r 11%|█         | 112/1000 [03:32<25:36,  1.73s/it]"
          ]
        },
        {
          "output_type": "stream",
          "name": "stdout",
          "text": [
            "Validation acc: 0.6562\n",
            "\n",
            "Start of epoch 112\n",
            "Training loss: 0.0476\n",
            "Training metric: 0.9010\n",
            "perturbation loss: 0.1191\n"
          ]
        },
        {
          "output_type": "stream",
          "name": "stderr",
          "text": [
            "\r 11%|█▏        | 113/1000 [03:33<24:49,  1.68s/it]"
          ]
        },
        {
          "output_type": "stream",
          "name": "stdout",
          "text": [
            "Validation acc: 0.9062\n",
            "\n",
            "Start of epoch 113\n",
            "Training loss: 0.0380\n",
            "Training metric: 0.9018\n",
            "perturbation loss: 0.1498\n"
          ]
        },
        {
          "output_type": "stream",
          "name": "stderr",
          "text": [
            "\r 11%|█▏        | 114/1000 [03:35<24:11,  1.64s/it]"
          ]
        },
        {
          "output_type": "stream",
          "name": "stdout",
          "text": [
            "Validation acc: 0.8359\n",
            "\n",
            "Start of epoch 114\n",
            "Training loss: 0.0238\n",
            "Training metric: 0.9026\n",
            "perturbation loss: 0.0548\n"
          ]
        },
        {
          "output_type": "stream",
          "name": "stderr",
          "text": [
            "\r 12%|█▏        | 115/1000 [03:36<23:38,  1.60s/it]"
          ]
        },
        {
          "output_type": "stream",
          "name": "stdout",
          "text": [
            "Validation acc: 0.9297\n",
            "\n",
            "Start of epoch 115\n",
            "Training loss: 0.0732\n",
            "Training metric: 0.9033\n",
            "perturbation loss: 0.1594\n"
          ]
        },
        {
          "output_type": "stream",
          "name": "stderr",
          "text": [
            "\r 12%|█▏        | 116/1000 [03:38<23:21,  1.59s/it]"
          ]
        },
        {
          "output_type": "stream",
          "name": "stdout",
          "text": [
            "Validation acc: 0.8438\n",
            "\n",
            "Start of epoch 116\n",
            "Training loss: 0.0221\n",
            "Training metric: 0.9040\n",
            "perturbation loss: 0.1286\n"
          ]
        },
        {
          "output_type": "stream",
          "name": "stderr",
          "text": [
            "\r 12%|█▏        | 117/1000 [03:39<22:58,  1.56s/it]"
          ]
        },
        {
          "output_type": "stream",
          "name": "stdout",
          "text": [
            "Validation acc: 0.9375\n",
            "\n",
            "Start of epoch 117\n",
            "Training loss: 0.0148\n",
            "Training metric: 0.9046\n",
            "perturbation loss: 0.1061\n"
          ]
        },
        {
          "output_type": "stream",
          "name": "stderr",
          "text": [
            "\r 12%|█▏        | 118/1000 [03:41<23:48,  1.62s/it]"
          ]
        },
        {
          "output_type": "stream",
          "name": "stdout",
          "text": [
            "Validation acc: 0.8672\n",
            "\n",
            "Start of epoch 118\n",
            "Training loss: 0.0987\n",
            "Training metric: 0.9053\n",
            "perturbation loss: 0.0641\n"
          ]
        },
        {
          "output_type": "stream",
          "name": "stderr",
          "text": [
            "\r 12%|█▏        | 119/1000 [03:43<25:31,  1.74s/it]"
          ]
        },
        {
          "output_type": "stream",
          "name": "stdout",
          "text": [
            "Validation acc: 0.9453\n",
            "\n",
            "Start of epoch 119\n",
            "Training loss: 0.1107\n",
            "Training metric: 0.9061\n",
            "perturbation loss: 0.1608\n"
          ]
        },
        {
          "output_type": "stream",
          "name": "stderr",
          "text": [
            "\r 12%|█▏        | 120/1000 [03:45<25:32,  1.74s/it]"
          ]
        },
        {
          "output_type": "stream",
          "name": "stdout",
          "text": [
            "Validation acc: 0.9297\n",
            "\n",
            "Start of epoch 120\n",
            "Training loss: 0.0508\n",
            "Training metric: 0.9068\n",
            "perturbation loss: 0.1211\n"
          ]
        },
        {
          "output_type": "stream",
          "name": "stderr",
          "text": [
            "\r 12%|█▏        | 121/1000 [03:47<24:32,  1.67s/it]"
          ]
        },
        {
          "output_type": "stream",
          "name": "stdout",
          "text": [
            "Validation acc: 0.8984\n",
            "\n",
            "Start of epoch 121\n",
            "Training loss: 0.0052\n",
            "Training metric: 0.9075\n",
            "perturbation loss: 0.0494\n"
          ]
        },
        {
          "output_type": "stream",
          "name": "stderr",
          "text": [
            "\r 12%|█▏        | 122/1000 [03:48<23:53,  1.63s/it]"
          ]
        },
        {
          "output_type": "stream",
          "name": "stdout",
          "text": [
            "Validation acc: 0.5469\n",
            "\n",
            "Start of epoch 122\n",
            "Training loss: 0.1115\n",
            "Training metric: 0.9080\n",
            "perturbation loss: 0.3927\n"
          ]
        },
        {
          "output_type": "stream",
          "name": "stderr",
          "text": [
            "\r 12%|█▏        | 123/1000 [03:50<23:18,  1.59s/it]"
          ]
        },
        {
          "output_type": "stream",
          "name": "stdout",
          "text": [
            "Validation acc: 0.4375\n",
            "\n",
            "Start of epoch 123\n",
            "Training loss: 0.0155\n",
            "Training metric: 0.9087\n",
            "perturbation loss: 0.0501\n"
          ]
        },
        {
          "output_type": "stream",
          "name": "stderr",
          "text": [
            "\r 12%|█▏        | 124/1000 [03:51<23:01,  1.58s/it]"
          ]
        },
        {
          "output_type": "stream",
          "name": "stdout",
          "text": [
            "Validation acc: 0.8594\n",
            "\n",
            "Start of epoch 124\n",
            "Training loss: 0.0143\n",
            "Training metric: 0.9093\n",
            "perturbation loss: 0.0595\n"
          ]
        },
        {
          "output_type": "stream",
          "name": "stderr",
          "text": [
            "\r 12%|█▎        | 125/1000 [03:53<22:47,  1.56s/it]"
          ]
        },
        {
          "output_type": "stream",
          "name": "stdout",
          "text": [
            "Validation acc: 0.9219\n",
            "\n",
            "Start of epoch 125\n",
            "Training loss: 0.0096\n",
            "Training metric: 0.9100\n",
            "perturbation loss: 0.0856\n"
          ]
        },
        {
          "output_type": "stream",
          "name": "stderr",
          "text": [
            "\r 13%|█▎        | 126/1000 [03:54<23:07,  1.59s/it]"
          ]
        },
        {
          "output_type": "stream",
          "name": "stdout",
          "text": [
            "Validation acc: 0.9219\n",
            "\n",
            "Start of epoch 126\n",
            "Training loss: 0.0031\n",
            "Training metric: 0.9107\n",
            "perturbation loss: 0.0105\n"
          ]
        },
        {
          "output_type": "stream",
          "name": "stderr",
          "text": [
            "\r 13%|█▎        | 127/1000 [03:56<25:08,  1.73s/it]"
          ]
        },
        {
          "output_type": "stream",
          "name": "stdout",
          "text": [
            "Validation acc: 0.9141\n",
            "\n",
            "Start of epoch 127\n",
            "Training loss: 0.0010\n",
            "Training metric: 0.9114\n",
            "perturbation loss: 0.0106\n"
          ]
        },
        {
          "output_type": "stream",
          "name": "stderr",
          "text": [
            "\r 13%|█▎        | 128/1000 [03:58<26:03,  1.79s/it]"
          ]
        },
        {
          "output_type": "stream",
          "name": "stdout",
          "text": [
            "Validation acc: 0.9609\n",
            "\n",
            "Start of epoch 128\n",
            "Training loss: 0.0029\n",
            "Training metric: 0.9121\n",
            "perturbation loss: 0.0133\n"
          ]
        },
        {
          "output_type": "stream",
          "name": "stderr",
          "text": [
            "\r 13%|█▎        | 129/1000 [04:00<24:59,  1.72s/it]"
          ]
        },
        {
          "output_type": "stream",
          "name": "stdout",
          "text": [
            "Validation acc: 0.9688\n",
            "\n",
            "Start of epoch 129\n",
            "Training loss: 0.0027\n",
            "Training metric: 0.9127\n",
            "perturbation loss: 0.0159\n"
          ]
        },
        {
          "output_type": "stream",
          "name": "stderr",
          "text": [
            "\r 13%|█▎        | 130/1000 [04:01<24:17,  1.68s/it]"
          ]
        },
        {
          "output_type": "stream",
          "name": "stdout",
          "text": [
            "Validation acc: 0.9219\n",
            "\n",
            "Start of epoch 130\n",
            "Training loss: 0.0129\n",
            "Training metric: 0.9133\n",
            "perturbation loss: 0.0673\n"
          ]
        },
        {
          "output_type": "stream",
          "name": "stderr",
          "text": [
            "\r 13%|█▎        | 131/1000 [04:03<23:35,  1.63s/it]"
          ]
        },
        {
          "output_type": "stream",
          "name": "stdout",
          "text": [
            "Validation acc: 0.8359\n",
            "\n",
            "Start of epoch 131\n",
            "Training loss: 0.0846\n",
            "Training metric: 0.9138\n",
            "perturbation loss: 0.2513\n"
          ]
        },
        {
          "output_type": "stream",
          "name": "stderr",
          "text": [
            "\r 13%|█▎        | 132/1000 [04:04<23:16,  1.61s/it]"
          ]
        },
        {
          "output_type": "stream",
          "name": "stdout",
          "text": [
            "Validation acc: 0.8906\n",
            "\n",
            "Start of epoch 132\n",
            "Training loss: 0.0016\n",
            "Training metric: 0.9143\n",
            "perturbation loss: 0.0170\n"
          ]
        },
        {
          "output_type": "stream",
          "name": "stderr",
          "text": [
            "\r 13%|█▎        | 133/1000 [04:06<23:01,  1.59s/it]"
          ]
        },
        {
          "output_type": "stream",
          "name": "stdout",
          "text": [
            "Validation acc: 0.8984\n",
            "\n",
            "Start of epoch 133\n",
            "Training loss: 0.0144\n",
            "Training metric: 0.9150\n",
            "perturbation loss: 0.1185\n"
          ]
        },
        {
          "output_type": "stream",
          "name": "stderr",
          "text": [
            "\r 13%|█▎        | 134/1000 [04:08<22:47,  1.58s/it]"
          ]
        },
        {
          "output_type": "stream",
          "name": "stdout",
          "text": [
            "Validation acc: 0.9062\n",
            "\n",
            "Start of epoch 134\n",
            "Training loss: 0.0042\n",
            "Training metric: 0.9155\n",
            "perturbation loss: 0.0201\n"
          ]
        },
        {
          "output_type": "stream",
          "name": "stderr",
          "text": [
            "\r 14%|█▎        | 135/1000 [04:09<24:12,  1.68s/it]"
          ]
        },
        {
          "output_type": "stream",
          "name": "stdout",
          "text": [
            "Validation acc: 0.9375\n",
            "\n",
            "Start of epoch 135\n",
            "Training loss: 0.0497\n",
            "Training metric: 0.9161\n",
            "perturbation loss: 0.1363\n"
          ]
        },
        {
          "output_type": "stream",
          "name": "stderr",
          "text": [
            "\r 14%|█▎        | 136/1000 [04:12<25:48,  1.79s/it]"
          ]
        },
        {
          "output_type": "stream",
          "name": "stdout",
          "text": [
            "Validation acc: 0.9375\n",
            "\n",
            "Start of epoch 136\n",
            "Training loss: 0.0150\n",
            "Training metric: 0.9166\n",
            "perturbation loss: 0.1138\n"
          ]
        },
        {
          "output_type": "stream",
          "name": "stderr",
          "text": [
            "\r 14%|█▎        | 137/1000 [04:13<25:06,  1.75s/it]"
          ]
        },
        {
          "output_type": "stream",
          "name": "stdout",
          "text": [
            "Validation acc: 0.8594\n",
            "\n",
            "Start of epoch 137\n",
            "Training loss: 0.0157\n",
            "Training metric: 0.9171\n",
            "perturbation loss: 0.0455\n"
          ]
        },
        {
          "output_type": "stream",
          "name": "stderr",
          "text": [
            "\r 14%|█▍        | 138/1000 [04:15<24:11,  1.68s/it]"
          ]
        },
        {
          "output_type": "stream",
          "name": "stdout",
          "text": [
            "Validation acc: 0.8828\n",
            "\n",
            "Start of epoch 138\n",
            "Training loss: 0.0231\n",
            "Training metric: 0.9177\n",
            "perturbation loss: 0.0833\n"
          ]
        },
        {
          "output_type": "stream",
          "name": "stderr",
          "text": [
            "\r 14%|█▍        | 139/1000 [04:16<23:59,  1.67s/it]"
          ]
        },
        {
          "output_type": "stream",
          "name": "stdout",
          "text": [
            "Validation acc: 0.8359\n",
            "\n",
            "Start of epoch 139\n",
            "Training loss: 0.1168\n",
            "Training metric: 0.9181\n",
            "perturbation loss: 0.0988\n"
          ]
        },
        {
          "output_type": "stream",
          "name": "stderr",
          "text": [
            "\r 14%|█▍        | 140/1000 [04:18<23:30,  1.64s/it]"
          ]
        },
        {
          "output_type": "stream",
          "name": "stdout",
          "text": [
            "Validation acc: 0.8750\n",
            "\n",
            "Start of epoch 140\n",
            "Training loss: 0.0085\n",
            "Training metric: 0.9186\n",
            "perturbation loss: 0.0398\n"
          ]
        },
        {
          "output_type": "stream",
          "name": "stderr",
          "text": [
            "\r 14%|█▍        | 141/1000 [04:19<22:59,  1.61s/it]"
          ]
        },
        {
          "output_type": "stream",
          "name": "stdout",
          "text": [
            "Validation acc: 0.8672\n",
            "\n",
            "Start of epoch 141\n",
            "Training loss: 0.1423\n",
            "Training metric: 0.9191\n",
            "perturbation loss: 0.0758\n"
          ]
        },
        {
          "output_type": "stream",
          "name": "stderr",
          "text": [
            "\r 14%|█▍        | 142/1000 [04:21<22:39,  1.58s/it]"
          ]
        },
        {
          "output_type": "stream",
          "name": "stdout",
          "text": [
            "Validation acc: 0.9688\n",
            "\n",
            "Start of epoch 142\n",
            "Training loss: 0.0006\n",
            "Training metric: 0.9197\n",
            "perturbation loss: 0.0039\n"
          ]
        },
        {
          "output_type": "stream",
          "name": "stderr",
          "text": [
            "\r 14%|█▍        | 143/1000 [04:23<24:47,  1.74s/it]"
          ]
        },
        {
          "output_type": "stream",
          "name": "stdout",
          "text": [
            "Validation acc: 0.9609\n",
            "\n",
            "Start of epoch 143\n",
            "Training loss: 0.0041\n",
            "Training metric: 0.9202\n",
            "perturbation loss: 0.0701\n"
          ]
        },
        {
          "output_type": "stream",
          "name": "stderr",
          "text": [
            "\r 14%|█▍        | 144/1000 [04:25<26:04,  1.83s/it]"
          ]
        },
        {
          "output_type": "stream",
          "name": "stdout",
          "text": [
            "Validation acc: 0.9453\n",
            "\n",
            "Start of epoch 144\n",
            "Training loss: 0.0030\n",
            "Training metric: 0.9207\n",
            "perturbation loss: 0.0466\n"
          ]
        },
        {
          "output_type": "stream",
          "name": "stderr",
          "text": [
            "\r 14%|█▍        | 145/1000 [04:27<25:20,  1.78s/it]"
          ]
        },
        {
          "output_type": "stream",
          "name": "stdout",
          "text": [
            "Validation acc: 0.9453\n",
            "\n",
            "Start of epoch 145\n",
            "Training loss: 0.0021\n",
            "Training metric: 0.9212\n",
            "perturbation loss: 0.0114\n"
          ]
        },
        {
          "output_type": "stream",
          "name": "stderr",
          "text": [
            "\r 15%|█▍        | 146/1000 [04:28<24:19,  1.71s/it]"
          ]
        },
        {
          "output_type": "stream",
          "name": "stdout",
          "text": [
            "Validation acc: 0.7422\n",
            "\n",
            "Start of epoch 146\n",
            "Training loss: 0.0031\n",
            "Training metric: 0.9217\n",
            "perturbation loss: 0.0164\n"
          ]
        },
        {
          "output_type": "stream",
          "name": "stderr",
          "text": [
            "\r 15%|█▍        | 147/1000 [04:30<23:28,  1.65s/it]"
          ]
        },
        {
          "output_type": "stream",
          "name": "stdout",
          "text": [
            "Validation acc: 0.9297\n",
            "\n",
            "Start of epoch 147\n",
            "Training loss: 0.0205\n",
            "Training metric: 0.9222\n",
            "perturbation loss: 0.0189\n"
          ]
        },
        {
          "output_type": "stream",
          "name": "stderr",
          "text": [
            "\r 15%|█▍        | 148/1000 [04:31<23:03,  1.62s/it]"
          ]
        },
        {
          "output_type": "stream",
          "name": "stdout",
          "text": [
            "Validation acc: 0.9453\n",
            "\n",
            "Start of epoch 148\n",
            "Training loss: 0.0477\n",
            "Training metric: 0.9226\n",
            "perturbation loss: 0.0614\n"
          ]
        },
        {
          "output_type": "stream",
          "name": "stderr",
          "text": [
            "\r 15%|█▍        | 149/1000 [04:33<22:38,  1.60s/it]"
          ]
        },
        {
          "output_type": "stream",
          "name": "stdout",
          "text": [
            "Validation acc: 0.9453\n",
            "\n",
            "Start of epoch 149\n",
            "Training loss: 0.0703\n",
            "Training metric: 0.9231\n",
            "perturbation loss: 0.2066\n"
          ]
        },
        {
          "output_type": "stream",
          "name": "stderr",
          "text": [
            "\r 15%|█▌        | 150/1000 [04:34<22:17,  1.57s/it]"
          ]
        },
        {
          "output_type": "stream",
          "name": "stdout",
          "text": [
            "Validation acc: 0.5469\n",
            "\n",
            "Start of epoch 150\n",
            "Training loss: 0.0179\n",
            "Training metric: 0.9235\n",
            "perturbation loss: 0.1123\n"
          ]
        },
        {
          "output_type": "stream",
          "name": "stderr",
          "text": [
            "\r 15%|█▌        | 151/1000 [04:37<27:43,  1.96s/it]"
          ]
        },
        {
          "output_type": "stream",
          "name": "stdout",
          "text": [
            "Validation acc: 0.8047\n",
            "\n",
            "Start of epoch 151\n",
            "Training loss: 0.0062\n",
            "Training metric: 0.9239\n",
            "perturbation loss: 0.0724\n"
          ]
        },
        {
          "output_type": "stream",
          "name": "stderr",
          "text": [
            "\r 15%|█▌        | 152/1000 [04:39<27:28,  1.94s/it]"
          ]
        },
        {
          "output_type": "stream",
          "name": "stdout",
          "text": [
            "Validation acc: 0.8047\n",
            "\n",
            "Start of epoch 152\n",
            "Training loss: 0.2262\n",
            "Training metric: 0.9243\n",
            "perturbation loss: 0.0777\n"
          ]
        },
        {
          "output_type": "stream",
          "name": "stderr",
          "text": [
            "\r 15%|█▌        | 153/1000 [04:41<25:45,  1.82s/it]"
          ]
        },
        {
          "output_type": "stream",
          "name": "stdout",
          "text": [
            "Validation acc: 0.7969\n",
            "\n",
            "Start of epoch 153\n",
            "Training loss: 0.0447\n",
            "Training metric: 0.9247\n",
            "perturbation loss: 0.1124\n"
          ]
        },
        {
          "output_type": "stream",
          "name": "stderr",
          "text": [
            "\r 15%|█▌        | 154/1000 [04:42<24:56,  1.77s/it]"
          ]
        },
        {
          "output_type": "stream",
          "name": "stdout",
          "text": [
            "Validation acc: 0.9219\n",
            "\n",
            "Start of epoch 154\n",
            "Training loss: 0.0811\n",
            "Training metric: 0.9251\n",
            "perturbation loss: 0.2801\n"
          ]
        },
        {
          "output_type": "stream",
          "name": "stderr",
          "text": [
            "\r 16%|█▌        | 155/1000 [04:44<24:01,  1.71s/it]"
          ]
        },
        {
          "output_type": "stream",
          "name": "stdout",
          "text": [
            "Validation acc: 0.8516\n",
            "\n",
            "Start of epoch 155\n",
            "Training loss: 0.0792\n",
            "Training metric: 0.9255\n",
            "perturbation loss: 0.1563\n"
          ]
        },
        {
          "output_type": "stream",
          "name": "stderr",
          "text": [
            "\r 16%|█▌        | 156/1000 [04:46<23:17,  1.66s/it]"
          ]
        },
        {
          "output_type": "stream",
          "name": "stdout",
          "text": [
            "Validation acc: 0.8828\n",
            "\n",
            "Start of epoch 156\n",
            "Training loss: 0.0291\n",
            "Training metric: 0.9260\n",
            "perturbation loss: 0.0507\n"
          ]
        },
        {
          "output_type": "stream",
          "name": "stderr",
          "text": [
            "\r 16%|█▌        | 157/1000 [04:47<22:55,  1.63s/it]"
          ]
        },
        {
          "output_type": "stream",
          "name": "stdout",
          "text": [
            "Validation acc: 0.9453\n",
            "\n",
            "Start of epoch 157\n",
            "Training loss: 0.0023\n",
            "Training metric: 0.9263\n",
            "perturbation loss: 0.0132\n"
          ]
        },
        {
          "output_type": "stream",
          "name": "stderr",
          "text": [
            "\r 16%|█▌        | 158/1000 [04:49<22:31,  1.61s/it]"
          ]
        },
        {
          "output_type": "stream",
          "name": "stdout",
          "text": [
            "Validation acc: 0.9688\n",
            "\n",
            "Start of epoch 158\n",
            "Training loss: 0.0033\n",
            "Training metric: 0.9267\n",
            "perturbation loss: 0.0165\n"
          ]
        },
        {
          "output_type": "stream",
          "name": "stderr",
          "text": [
            "\r 16%|█▌        | 159/1000 [04:51<25:21,  1.81s/it]"
          ]
        },
        {
          "output_type": "stream",
          "name": "stdout",
          "text": [
            "Validation acc: 0.9531\n",
            "\n",
            "Start of epoch 159\n",
            "Training loss: 0.0115\n",
            "Training metric: 0.9271\n",
            "perturbation loss: 0.0866\n"
          ]
        },
        {
          "output_type": "stream",
          "name": "stderr",
          "text": [
            "\r 16%|█▌        | 160/1000 [04:53<25:51,  1.85s/it]"
          ]
        },
        {
          "output_type": "stream",
          "name": "stdout",
          "text": [
            "Validation acc: 0.9453\n",
            "\n",
            "Start of epoch 160\n",
            "Training loss: 0.0076\n",
            "Training metric: 0.9276\n",
            "perturbation loss: 0.0421\n"
          ]
        },
        {
          "output_type": "stream",
          "name": "stderr",
          "text": [
            "\r 16%|█▌        | 161/1000 [04:54<24:32,  1.76s/it]"
          ]
        },
        {
          "output_type": "stream",
          "name": "stdout",
          "text": [
            "Validation acc: 0.9531\n",
            "\n",
            "Start of epoch 161\n",
            "Training loss: 0.0045\n",
            "Training metric: 0.9280\n",
            "perturbation loss: 0.0143\n"
          ]
        },
        {
          "output_type": "stream",
          "name": "stderr",
          "text": [
            "\r 16%|█▌        | 162/1000 [04:56<23:46,  1.70s/it]"
          ]
        },
        {
          "output_type": "stream",
          "name": "stdout",
          "text": [
            "Validation acc: 0.9297\n",
            "\n",
            "Start of epoch 162\n",
            "Training loss: 0.0555\n",
            "Training metric: 0.9284\n",
            "perturbation loss: 0.0556\n"
          ]
        },
        {
          "output_type": "stream",
          "name": "stderr",
          "text": [
            "\r 16%|█▋        | 163/1000 [04:58<23:01,  1.65s/it]"
          ]
        },
        {
          "output_type": "stream",
          "name": "stdout",
          "text": [
            "Validation acc: 0.9375\n",
            "\n",
            "Start of epoch 163\n",
            "Training loss: 0.0232\n",
            "Training metric: 0.9289\n",
            "perturbation loss: 0.0313\n"
          ]
        },
        {
          "output_type": "stream",
          "name": "stderr",
          "text": [
            "\r 16%|█▋        | 164/1000 [04:59<22:34,  1.62s/it]"
          ]
        },
        {
          "output_type": "stream",
          "name": "stdout",
          "text": [
            "Validation acc: 0.9609\n",
            "\n",
            "Start of epoch 164\n",
            "Training loss: 0.0027\n",
            "Training metric: 0.9293\n",
            "perturbation loss: 0.0211\n"
          ]
        },
        {
          "output_type": "stream",
          "name": "stderr",
          "text": [
            "\r 16%|█▋        | 165/1000 [05:01<22:15,  1.60s/it]"
          ]
        },
        {
          "output_type": "stream",
          "name": "stdout",
          "text": [
            "Validation acc: 0.9297\n",
            "\n",
            "Start of epoch 165\n",
            "Training loss: 0.0252\n",
            "Training metric: 0.9297\n",
            "perturbation loss: 0.1297\n"
          ]
        },
        {
          "output_type": "stream",
          "name": "stderr",
          "text": [
            "\r 17%|█▋        | 166/1000 [05:02<22:10,  1.60s/it]"
          ]
        },
        {
          "output_type": "stream",
          "name": "stdout",
          "text": [
            "Validation acc: 0.9141\n",
            "\n",
            "Start of epoch 166\n",
            "Training loss: 0.0318\n",
            "Training metric: 0.9300\n",
            "perturbation loss: 0.0903\n"
          ]
        },
        {
          "output_type": "stream",
          "name": "stderr",
          "text": [
            "\r 17%|█▋        | 167/1000 [05:04<24:47,  1.79s/it]"
          ]
        },
        {
          "output_type": "stream",
          "name": "stdout",
          "text": [
            "Validation acc: 0.9531\n",
            "\n",
            "Start of epoch 167\n",
            "Training loss: 0.0035\n",
            "Training metric: 0.9304\n",
            "perturbation loss: 0.0367\n"
          ]
        },
        {
          "output_type": "stream",
          "name": "stderr",
          "text": [
            "\r 17%|█▋        | 168/1000 [05:06<25:36,  1.85s/it]"
          ]
        },
        {
          "output_type": "stream",
          "name": "stdout",
          "text": [
            "Validation acc: 0.9375\n",
            "\n",
            "Start of epoch 168\n",
            "Training loss: 0.0015\n",
            "Training metric: 0.9308\n",
            "perturbation loss: 0.0187\n"
          ]
        },
        {
          "output_type": "stream",
          "name": "stderr",
          "text": [
            "\r 17%|█▋        | 169/1000 [05:08<24:21,  1.76s/it]"
          ]
        },
        {
          "output_type": "stream",
          "name": "stdout",
          "text": [
            "Validation acc: 0.9219\n",
            "\n",
            "Start of epoch 169\n",
            "Training loss: 0.0076\n",
            "Training metric: 0.9312\n",
            "perturbation loss: 0.0428\n"
          ]
        },
        {
          "output_type": "stream",
          "name": "stderr",
          "text": [
            "\r 17%|█▋        | 170/1000 [05:09<23:23,  1.69s/it]"
          ]
        },
        {
          "output_type": "stream",
          "name": "stdout",
          "text": [
            "Validation acc: 0.8828\n",
            "\n",
            "Start of epoch 170\n",
            "Training loss: 0.0290\n",
            "Training metric: 0.9315\n",
            "perturbation loss: 0.1382\n"
          ]
        },
        {
          "output_type": "stream",
          "name": "stderr",
          "text": [
            "\r 17%|█▋        | 171/1000 [05:11<22:45,  1.65s/it]"
          ]
        },
        {
          "output_type": "stream",
          "name": "stdout",
          "text": [
            "Validation acc: 0.9531\n",
            "\n",
            "Start of epoch 171\n",
            "Training loss: 0.0096\n",
            "Training metric: 0.9318\n",
            "perturbation loss: 0.0582\n"
          ]
        },
        {
          "output_type": "stream",
          "name": "stderr",
          "text": [
            "\r 17%|█▋        | 172/1000 [05:13<22:19,  1.62s/it]"
          ]
        },
        {
          "output_type": "stream",
          "name": "stdout",
          "text": [
            "Validation acc: 0.9453\n",
            "\n",
            "Start of epoch 172\n",
            "Training loss: 0.0025\n",
            "Training metric: 0.9321\n",
            "perturbation loss: 0.0190\n"
          ]
        },
        {
          "output_type": "stream",
          "name": "stderr",
          "text": [
            "\r 17%|█▋        | 173/1000 [05:14<22:00,  1.60s/it]"
          ]
        },
        {
          "output_type": "stream",
          "name": "stdout",
          "text": [
            "Validation acc: 0.9688\n",
            "\n",
            "Start of epoch 173\n",
            "Training loss: 0.0220\n",
            "Training metric: 0.9325\n",
            "perturbation loss: 0.0597\n"
          ]
        },
        {
          "output_type": "stream",
          "name": "stderr",
          "text": [
            "\r 17%|█▋        | 174/1000 [05:16<21:53,  1.59s/it]"
          ]
        },
        {
          "output_type": "stream",
          "name": "stdout",
          "text": [
            "Validation acc: 0.9609\n",
            "\n",
            "Start of epoch 174\n",
            "Training loss: 0.0261\n",
            "Training metric: 0.9328\n",
            "perturbation loss: 0.0445\n"
          ]
        },
        {
          "output_type": "stream",
          "name": "stderr",
          "text": [
            "\r 18%|█▊        | 175/1000 [05:18<24:22,  1.77s/it]"
          ]
        },
        {
          "output_type": "stream",
          "name": "stdout",
          "text": [
            "Validation acc: 0.9531\n",
            "\n",
            "Start of epoch 175\n",
            "Training loss: 0.0010\n",
            "Training metric: 0.9332\n",
            "perturbation loss: 0.0099\n"
          ]
        },
        {
          "output_type": "stream",
          "name": "stderr",
          "text": [
            "\r 18%|█▊        | 176/1000 [05:20<26:51,  1.96s/it]"
          ]
        },
        {
          "output_type": "stream",
          "name": "stdout",
          "text": [
            "Validation acc: 0.9688\n",
            "\n",
            "Start of epoch 176\n",
            "Training loss: 0.0071\n",
            "Training metric: 0.9335\n",
            "perturbation loss: 0.0634\n"
          ]
        },
        {
          "output_type": "stream",
          "name": "stderr",
          "text": [
            "\r 18%|█▊        | 177/1000 [05:22<25:14,  1.84s/it]"
          ]
        },
        {
          "output_type": "stream",
          "name": "stdout",
          "text": [
            "Validation acc: 0.9609\n",
            "\n",
            "Start of epoch 177\n",
            "Training loss: 0.0476\n",
            "Training metric: 0.9339\n",
            "perturbation loss: 0.0549\n"
          ]
        },
        {
          "output_type": "stream",
          "name": "stderr",
          "text": [
            "\r 18%|█▊        | 178/1000 [05:23<24:02,  1.76s/it]"
          ]
        },
        {
          "output_type": "stream",
          "name": "stdout",
          "text": [
            "Validation acc: 0.9531\n",
            "\n",
            "Start of epoch 178\n",
            "Training loss: 0.0246\n",
            "Training metric: 0.9342\n",
            "perturbation loss: 0.1437\n"
          ]
        },
        {
          "output_type": "stream",
          "name": "stderr",
          "text": [
            "\r 18%|█▊        | 179/1000 [05:25<23:13,  1.70s/it]"
          ]
        },
        {
          "output_type": "stream",
          "name": "stdout",
          "text": [
            "Validation acc: 0.9375\n",
            "\n",
            "Start of epoch 179\n",
            "Training loss: 0.0185\n",
            "Training metric: 0.9345\n",
            "perturbation loss: 0.0979\n"
          ]
        },
        {
          "output_type": "stream",
          "name": "stderr",
          "text": [
            "\r 18%|█▊        | 180/1000 [05:27<22:36,  1.65s/it]"
          ]
        },
        {
          "output_type": "stream",
          "name": "stdout",
          "text": [
            "Validation acc: 0.9219\n",
            "\n",
            "Start of epoch 180\n",
            "Training loss: 0.0498\n",
            "Training metric: 0.9349\n",
            "perturbation loss: 0.1092\n"
          ]
        },
        {
          "output_type": "stream",
          "name": "stderr",
          "text": [
            "\r 18%|█▊        | 181/1000 [05:28<22:19,  1.64s/it]"
          ]
        },
        {
          "output_type": "stream",
          "name": "stdout",
          "text": [
            "Validation acc: 0.9297\n",
            "\n",
            "Start of epoch 181\n",
            "Training loss: 0.0008\n",
            "Training metric: 0.9352\n",
            "perturbation loss: 0.0040\n"
          ]
        },
        {
          "output_type": "stream",
          "name": "stderr",
          "text": [
            "\r 18%|█▊        | 182/1000 [05:30<21:57,  1.61s/it]"
          ]
        },
        {
          "output_type": "stream",
          "name": "stdout",
          "text": [
            "Validation acc: 0.9297\n",
            "\n",
            "Start of epoch 182\n",
            "Training loss: 0.0027\n",
            "Training metric: 0.9356\n",
            "perturbation loss: 0.0209\n"
          ]
        },
        {
          "output_type": "stream",
          "name": "stderr",
          "text": [
            "\r 18%|█▊        | 183/1000 [05:32<23:19,  1.71s/it]"
          ]
        },
        {
          "output_type": "stream",
          "name": "stdout",
          "text": [
            "Validation acc: 0.9844\n",
            "\n",
            "Start of epoch 183\n",
            "Training loss: 0.0031\n",
            "Training metric: 0.9359\n",
            "perturbation loss: 0.0120\n"
          ]
        },
        {
          "output_type": "stream",
          "name": "stderr",
          "text": [
            "\r 18%|█▊        | 184/1000 [05:34<24:44,  1.82s/it]"
          ]
        },
        {
          "output_type": "stream",
          "name": "stdout",
          "text": [
            "Validation acc: 0.9688\n",
            "\n",
            "Start of epoch 184\n",
            "Training loss: 0.0004\n",
            "Training metric: 0.9363\n",
            "perturbation loss: 0.0029\n"
          ]
        },
        {
          "output_type": "stream",
          "name": "stderr",
          "text": [
            "\r 18%|█▊        | 185/1000 [05:35<23:53,  1.76s/it]"
          ]
        },
        {
          "output_type": "stream",
          "name": "stdout",
          "text": [
            "Validation acc: 0.9688\n",
            "\n",
            "Start of epoch 185\n",
            "Training loss: 0.0003\n",
            "Training metric: 0.9366\n",
            "perturbation loss: 0.0010\n"
          ]
        },
        {
          "output_type": "stream",
          "name": "stderr",
          "text": [
            "\r 19%|█▊        | 186/1000 [05:37<22:59,  1.69s/it]"
          ]
        },
        {
          "output_type": "stream",
          "name": "stdout",
          "text": [
            "Validation acc: 0.9688\n",
            "\n",
            "Start of epoch 186\n",
            "Training loss: 0.0014\n",
            "Training metric: 0.9369\n",
            "perturbation loss: 0.0062\n"
          ]
        },
        {
          "output_type": "stream",
          "name": "stderr",
          "text": [
            "\r 19%|█▊        | 187/1000 [05:38<22:23,  1.65s/it]"
          ]
        },
        {
          "output_type": "stream",
          "name": "stdout",
          "text": [
            "Validation acc: 0.9766\n",
            "\n",
            "Start of epoch 187\n",
            "Training loss: 0.0002\n",
            "Training metric: 0.9373\n",
            "perturbation loss: 0.0015\n"
          ]
        },
        {
          "output_type": "stream",
          "name": "stderr",
          "text": [
            "\r 19%|█▉        | 188/1000 [05:40<22:15,  1.64s/it]"
          ]
        },
        {
          "output_type": "stream",
          "name": "stdout",
          "text": [
            "Validation acc: 0.9766\n",
            "\n",
            "Start of epoch 188\n",
            "Training loss: 0.0004\n",
            "Training metric: 0.9376\n",
            "perturbation loss: 0.0058\n"
          ]
        },
        {
          "output_type": "stream",
          "name": "stderr",
          "text": [
            "\r 19%|█▉        | 189/1000 [05:42<21:46,  1.61s/it]"
          ]
        },
        {
          "output_type": "stream",
          "name": "stdout",
          "text": [
            "Validation acc: 0.9844\n",
            "\n",
            "Start of epoch 189\n",
            "Training loss: 0.0006\n",
            "Training metric: 0.9379\n",
            "perturbation loss: 0.0010\n"
          ]
        },
        {
          "output_type": "stream",
          "name": "stderr",
          "text": [
            "\r 19%|█▉        | 190/1000 [05:43<21:37,  1.60s/it]"
          ]
        },
        {
          "output_type": "stream",
          "name": "stdout",
          "text": [
            "Validation acc: 0.9609\n",
            "\n",
            "Start of epoch 190\n",
            "Training loss: 0.0001\n",
            "Training metric: 0.9383\n",
            "perturbation loss: 0.0006\n"
          ]
        },
        {
          "output_type": "stream",
          "name": "stderr",
          "text": [
            "\r 19%|█▉        | 191/1000 [05:45<22:19,  1.66s/it]"
          ]
        },
        {
          "output_type": "stream",
          "name": "stdout",
          "text": [
            "Validation acc: 0.9688\n",
            "\n",
            "Start of epoch 191\n",
            "Training loss: 0.0076\n",
            "Training metric: 0.9386\n",
            "perturbation loss: 0.0367\n"
          ]
        },
        {
          "output_type": "stream",
          "name": "stderr",
          "text": [
            "\r 19%|█▉        | 192/1000 [05:47<23:52,  1.77s/it]"
          ]
        },
        {
          "output_type": "stream",
          "name": "stdout",
          "text": [
            "Validation acc: 0.9453\n",
            "\n",
            "Start of epoch 192\n",
            "Training loss: 0.0025\n",
            "Training metric: 0.9388\n",
            "perturbation loss: 0.0241\n"
          ]
        },
        {
          "output_type": "stream",
          "name": "stderr",
          "text": [
            "\r 19%|█▉        | 193/1000 [05:49<23:50,  1.77s/it]"
          ]
        },
        {
          "output_type": "stream",
          "name": "stdout",
          "text": [
            "Validation acc: 0.8672\n",
            "\n",
            "Start of epoch 193\n",
            "Training loss: 0.0665\n",
            "Training metric: 0.9391\n",
            "perturbation loss: 0.0603\n"
          ]
        },
        {
          "output_type": "stream",
          "name": "stderr",
          "text": [
            "\r 19%|█▉        | 194/1000 [05:50<23:00,  1.71s/it]"
          ]
        },
        {
          "output_type": "stream",
          "name": "stdout",
          "text": [
            "Validation acc: 0.8828\n",
            "\n",
            "Start of epoch 194\n",
            "Training loss: 0.0511\n",
            "Training metric: 0.9394\n",
            "perturbation loss: 0.1904\n"
          ]
        },
        {
          "output_type": "stream",
          "name": "stderr",
          "text": [
            "\r 20%|█▉        | 195/1000 [05:52<22:15,  1.66s/it]"
          ]
        },
        {
          "output_type": "stream",
          "name": "stdout",
          "text": [
            "Validation acc: 0.9531\n",
            "\n",
            "Start of epoch 195\n",
            "Training loss: 0.0328\n",
            "Training metric: 0.9397\n",
            "perturbation loss: 0.0700\n"
          ]
        },
        {
          "output_type": "stream",
          "name": "stderr",
          "text": [
            "\r 20%|█▉        | 196/1000 [05:53<21:50,  1.63s/it]"
          ]
        },
        {
          "output_type": "stream",
          "name": "stdout",
          "text": [
            "Validation acc: 0.7422\n",
            "\n",
            "Start of epoch 196\n",
            "Training loss: 0.0026\n",
            "Training metric: 0.9400\n",
            "perturbation loss: 0.0222\n"
          ]
        },
        {
          "output_type": "stream",
          "name": "stderr",
          "text": [
            "\r 20%|█▉        | 197/1000 [05:55<21:34,  1.61s/it]"
          ]
        },
        {
          "output_type": "stream",
          "name": "stdout",
          "text": [
            "Validation acc: 0.9141\n",
            "\n",
            "Start of epoch 197\n",
            "Training loss: 0.0005\n",
            "Training metric: 0.9403\n",
            "perturbation loss: 0.0025\n"
          ]
        },
        {
          "output_type": "stream",
          "name": "stderr",
          "text": [
            "\r 20%|█▉        | 198/1000 [05:57<21:22,  1.60s/it]"
          ]
        },
        {
          "output_type": "stream",
          "name": "stdout",
          "text": [
            "Validation acc: 0.9453\n",
            "\n",
            "Start of epoch 198\n",
            "Training loss: 0.0068\n",
            "Training metric: 0.9405\n",
            "perturbation loss: 0.0223\n"
          ]
        },
        {
          "output_type": "stream",
          "name": "stderr",
          "text": [
            "\r 20%|█▉        | 199/1000 [05:59<22:52,  1.71s/it]"
          ]
        },
        {
          "output_type": "stream",
          "name": "stdout",
          "text": [
            "Validation acc: 0.9297\n",
            "\n",
            "Start of epoch 199\n",
            "Training loss: 0.0130\n",
            "Training metric: 0.9408\n",
            "perturbation loss: 0.0482\n"
          ]
        },
        {
          "output_type": "stream",
          "name": "stderr",
          "text": [
            "\r 20%|██        | 200/1000 [06:01<24:15,  1.82s/it]"
          ]
        },
        {
          "output_type": "stream",
          "name": "stdout",
          "text": [
            "Validation acc: 0.9453\n",
            "\n",
            "Start of epoch 200\n",
            "Training loss: 0.0037\n",
            "Training metric: 0.9411\n",
            "perturbation loss: 0.0154\n"
          ]
        },
        {
          "output_type": "stream",
          "name": "stderr",
          "text": [
            "\r 20%|██        | 201/1000 [06:02<24:12,  1.82s/it]"
          ]
        },
        {
          "output_type": "stream",
          "name": "stdout",
          "text": [
            "Validation acc: 0.9297\n",
            "\n",
            "Start of epoch 201\n",
            "Training loss: 0.0035\n",
            "Training metric: 0.9414\n",
            "perturbation loss: 0.0235\n"
          ]
        },
        {
          "output_type": "stream",
          "name": "stderr",
          "text": [
            "\r 20%|██        | 202/1000 [06:04<23:06,  1.74s/it]"
          ]
        },
        {
          "output_type": "stream",
          "name": "stdout",
          "text": [
            "Validation acc: 0.9062\n",
            "\n",
            "Start of epoch 202\n",
            "Training loss: 0.0004\n",
            "Training metric: 0.9416\n",
            "perturbation loss: 0.0041\n"
          ]
        },
        {
          "output_type": "stream",
          "name": "stderr",
          "text": [
            "\r 20%|██        | 203/1000 [06:06<22:24,  1.69s/it]"
          ]
        },
        {
          "output_type": "stream",
          "name": "stdout",
          "text": [
            "Validation acc: 0.9375\n",
            "\n",
            "Start of epoch 203\n",
            "Training loss: 0.0043\n",
            "Training metric: 0.9419\n",
            "perturbation loss: 0.0229\n"
          ]
        },
        {
          "output_type": "stream",
          "name": "stderr",
          "text": [
            "\r 20%|██        | 204/1000 [06:07<21:51,  1.65s/it]"
          ]
        },
        {
          "output_type": "stream",
          "name": "stdout",
          "text": [
            "Validation acc: 0.9453\n",
            "\n",
            "Start of epoch 204\n",
            "Training loss: 0.0012\n",
            "Training metric: 0.9421\n",
            "perturbation loss: 0.0042\n"
          ]
        },
        {
          "output_type": "stream",
          "name": "stderr",
          "text": [
            "\r 20%|██        | 205/1000 [06:09<21:27,  1.62s/it]"
          ]
        },
        {
          "output_type": "stream",
          "name": "stdout",
          "text": [
            "Validation acc: 0.9375\n",
            "\n",
            "Start of epoch 205\n",
            "Training loss: 0.0034\n",
            "Training metric: 0.9424\n",
            "perturbation loss: 0.0127\n"
          ]
        },
        {
          "output_type": "stream",
          "name": "stderr",
          "text": [
            "\r 21%|██        | 206/1000 [06:10<21:11,  1.60s/it]"
          ]
        },
        {
          "output_type": "stream",
          "name": "stdout",
          "text": [
            "Validation acc: 0.9297\n",
            "\n",
            "Start of epoch 206\n",
            "Training loss: 0.0008\n",
            "Training metric: 0.9427\n",
            "perturbation loss: 0.0066\n"
          ]
        },
        {
          "output_type": "stream",
          "name": "stderr",
          "text": [
            "\r 21%|██        | 207/1000 [06:12<21:17,  1.61s/it]"
          ]
        },
        {
          "output_type": "stream",
          "name": "stdout",
          "text": [
            "Validation acc: 0.9609\n",
            "\n",
            "Start of epoch 207\n",
            "Training loss: 0.0257\n",
            "Training metric: 0.9429\n",
            "perturbation loss: 0.0493\n"
          ]
        },
        {
          "output_type": "stream",
          "name": "stderr",
          "text": [
            "\r 21%|██        | 208/1000 [06:14<24:16,  1.84s/it]"
          ]
        },
        {
          "output_type": "stream",
          "name": "stdout",
          "text": [
            "Validation acc: 0.9531\n",
            "\n",
            "Start of epoch 208\n",
            "Training loss: 0.0039\n",
            "Training metric: 0.9432\n",
            "perturbation loss: 0.0440\n"
          ]
        },
        {
          "output_type": "stream",
          "name": "stderr",
          "text": [
            "\r 21%|██        | 209/1000 [06:16<24:22,  1.85s/it]"
          ]
        },
        {
          "output_type": "stream",
          "name": "stdout",
          "text": [
            "Validation acc: 0.9688\n",
            "\n",
            "Start of epoch 209\n",
            "Training loss: 0.0003\n",
            "Training metric: 0.9435\n",
            "perturbation loss: 0.0043\n"
          ]
        },
        {
          "output_type": "stream",
          "name": "stderr",
          "text": [
            "\r 21%|██        | 210/1000 [06:18<23:12,  1.76s/it]"
          ]
        },
        {
          "output_type": "stream",
          "name": "stdout",
          "text": [
            "Validation acc: 0.9531\n",
            "\n",
            "Start of epoch 210\n",
            "Training loss: 0.0001\n",
            "Training metric: 0.9437\n",
            "perturbation loss: 0.0016\n"
          ]
        },
        {
          "output_type": "stream",
          "name": "stderr",
          "text": [
            "\r 21%|██        | 211/1000 [06:19<22:24,  1.70s/it]"
          ]
        },
        {
          "output_type": "stream",
          "name": "stdout",
          "text": [
            "Validation acc: 0.9688\n",
            "\n",
            "Start of epoch 211\n",
            "Training loss: 0.0002\n",
            "Training metric: 0.9440\n",
            "perturbation loss: 0.0023\n"
          ]
        },
        {
          "output_type": "stream",
          "name": "stderr",
          "text": [
            "\r 21%|██        | 212/1000 [06:21<21:43,  1.65s/it]"
          ]
        },
        {
          "output_type": "stream",
          "name": "stdout",
          "text": [
            "Validation acc: 0.9609\n",
            "\n",
            "Start of epoch 212\n",
            "Training loss: 0.0027\n",
            "Training metric: 0.9443\n",
            "perturbation loss: 0.0490\n"
          ]
        },
        {
          "output_type": "stream",
          "name": "stderr",
          "text": [
            "\r 21%|██▏       | 213/1000 [06:22<21:22,  1.63s/it]"
          ]
        },
        {
          "output_type": "stream",
          "name": "stdout",
          "text": [
            "Validation acc: 0.9609\n",
            "\n",
            "Start of epoch 213\n",
            "Training loss: 0.0001\n",
            "Training metric: 0.9445\n",
            "perturbation loss: 0.0003\n"
          ]
        },
        {
          "output_type": "stream",
          "name": "stderr",
          "text": [
            "\r 21%|██▏       | 214/1000 [06:24<21:05,  1.61s/it]"
          ]
        },
        {
          "output_type": "stream",
          "name": "stdout",
          "text": [
            "Validation acc: 0.9609\n",
            "\n",
            "Start of epoch 214\n",
            "Training loss: 0.0001\n",
            "Training metric: 0.9448\n",
            "perturbation loss: 0.0005\n"
          ]
        },
        {
          "output_type": "stream",
          "name": "stderr",
          "text": [
            "\r 22%|██▏       | 215/1000 [06:26<21:08,  1.62s/it]"
          ]
        },
        {
          "output_type": "stream",
          "name": "stdout",
          "text": [
            "Validation acc: 0.9609\n",
            "\n",
            "Start of epoch 215\n",
            "Training loss: 0.0001\n",
            "Training metric: 0.9450\n",
            "perturbation loss: 0.0006\n"
          ]
        },
        {
          "output_type": "stream",
          "name": "stderr",
          "text": [
            "\r 22%|██▏       | 216/1000 [06:28<22:55,  1.75s/it]"
          ]
        },
        {
          "output_type": "stream",
          "name": "stdout",
          "text": [
            "Validation acc: 0.9609\n",
            "\n",
            "Start of epoch 216\n",
            "Training loss: 0.0003\n",
            "Training metric: 0.9453\n",
            "perturbation loss: 0.0030\n"
          ]
        },
        {
          "output_type": "stream",
          "name": "stderr",
          "text": [
            "\r 22%|██▏       | 217/1000 [06:30<23:39,  1.81s/it]"
          ]
        },
        {
          "output_type": "stream",
          "name": "stdout",
          "text": [
            "Validation acc: 0.9609\n",
            "\n",
            "Start of epoch 217\n",
            "Training loss: 0.0003\n",
            "Training metric: 0.9455\n",
            "perturbation loss: 0.0046\n"
          ]
        },
        {
          "output_type": "stream",
          "name": "stderr",
          "text": [
            "\r 22%|██▏       | 218/1000 [06:31<22:42,  1.74s/it]"
          ]
        },
        {
          "output_type": "stream",
          "name": "stdout",
          "text": [
            "Validation acc: 0.9453\n",
            "\n",
            "Start of epoch 218\n",
            "Training loss: 0.0013\n",
            "Training metric: 0.9458\n",
            "perturbation loss: 0.0029\n"
          ]
        },
        {
          "output_type": "stream",
          "name": "stderr",
          "text": [
            "\r 22%|██▏       | 219/1000 [06:33<21:55,  1.68s/it]"
          ]
        },
        {
          "output_type": "stream",
          "name": "stdout",
          "text": [
            "Validation acc: 0.9609\n",
            "\n",
            "Start of epoch 219\n",
            "Training loss: 0.0001\n",
            "Training metric: 0.9460\n",
            "perturbation loss: 0.0011\n"
          ]
        },
        {
          "output_type": "stream",
          "name": "stderr",
          "text": [
            "\r 22%|██▏       | 220/1000 [06:34<21:22,  1.64s/it]"
          ]
        },
        {
          "output_type": "stream",
          "name": "stdout",
          "text": [
            "Validation acc: 0.9609\n",
            "\n",
            "Start of epoch 220\n",
            "Training loss: 0.0001\n",
            "Training metric: 0.9463\n",
            "perturbation loss: 0.0005\n"
          ]
        },
        {
          "output_type": "stream",
          "name": "stderr",
          "text": [
            "\r 22%|██▏       | 221/1000 [06:36<21:18,  1.64s/it]"
          ]
        },
        {
          "output_type": "stream",
          "name": "stdout",
          "text": [
            "Validation acc: 0.9609\n",
            "\n",
            "Start of epoch 221\n",
            "Training loss: 0.0110\n",
            "Training metric: 0.9465\n",
            "perturbation loss: 0.1362\n"
          ]
        },
        {
          "output_type": "stream",
          "name": "stderr",
          "text": [
            "\r 22%|██▏       | 222/1000 [06:37<21:00,  1.62s/it]"
          ]
        },
        {
          "output_type": "stream",
          "name": "stdout",
          "text": [
            "Validation acc: 0.9297\n",
            "\n",
            "Start of epoch 222\n",
            "Training loss: 0.0139\n",
            "Training metric: 0.9467\n",
            "perturbation loss: 0.0246\n"
          ]
        },
        {
          "output_type": "stream",
          "name": "stderr",
          "text": [
            "\r 22%|██▏       | 223/1000 [06:39<20:43,  1.60s/it]"
          ]
        },
        {
          "output_type": "stream",
          "name": "stdout",
          "text": [
            "Validation acc: 0.9297\n",
            "\n",
            "Start of epoch 223\n",
            "Training loss: 0.1783\n",
            "Training metric: 0.9469\n",
            "perturbation loss: 0.0242\n"
          ]
        },
        {
          "output_type": "stream",
          "name": "stderr",
          "text": [
            "\r 22%|██▏       | 224/1000 [06:41<22:06,  1.71s/it]"
          ]
        },
        {
          "output_type": "stream",
          "name": "stdout",
          "text": [
            "Validation acc: 0.8828\n",
            "\n",
            "Start of epoch 224\n",
            "Training loss: 0.0026\n",
            "Training metric: 0.9471\n",
            "perturbation loss: 0.0245\n"
          ]
        },
        {
          "output_type": "stream",
          "name": "stderr",
          "text": [
            "\r 22%|██▎       | 225/1000 [06:43<23:34,  1.82s/it]"
          ]
        },
        {
          "output_type": "stream",
          "name": "stdout",
          "text": [
            "Validation acc: 0.9375\n",
            "\n",
            "Start of epoch 225\n",
            "Training loss: 0.0003\n",
            "Training metric: 0.9473\n",
            "perturbation loss: 0.0045\n"
          ]
        },
        {
          "output_type": "stream",
          "name": "stderr",
          "text": [
            "\r 23%|██▎       | 226/1000 [06:45<22:38,  1.76s/it]"
          ]
        },
        {
          "output_type": "stream",
          "name": "stdout",
          "text": [
            "Validation acc: 0.9297\n",
            "\n",
            "Start of epoch 226\n",
            "Training loss: 0.0032\n",
            "Training metric: 0.9476\n",
            "perturbation loss: 0.0191\n"
          ]
        },
        {
          "output_type": "stream",
          "name": "stderr",
          "text": [
            "\r 23%|██▎       | 227/1000 [06:46<21:51,  1.70s/it]"
          ]
        },
        {
          "output_type": "stream",
          "name": "stdout",
          "text": [
            "Validation acc: 0.9219\n",
            "\n",
            "Start of epoch 227\n",
            "Training loss: 0.1401\n",
            "Training metric: 0.9478\n",
            "perturbation loss: 0.0411\n"
          ]
        },
        {
          "output_type": "stream",
          "name": "stderr",
          "text": [
            "\r 23%|██▎       | 228/1000 [06:48<21:09,  1.64s/it]"
          ]
        },
        {
          "output_type": "stream",
          "name": "stdout",
          "text": [
            "Validation acc: 0.9219\n",
            "\n",
            "Start of epoch 228\n",
            "Training loss: 0.0008\n",
            "Training metric: 0.9480\n",
            "perturbation loss: 0.0035\n"
          ]
        },
        {
          "output_type": "stream",
          "name": "stderr",
          "text": [
            "\r 23%|██▎       | 229/1000 [06:49<20:49,  1.62s/it]"
          ]
        },
        {
          "output_type": "stream",
          "name": "stdout",
          "text": [
            "Validation acc: 0.9453\n",
            "\n",
            "Start of epoch 229\n",
            "Training loss: 0.0020\n",
            "Training metric: 0.9482\n",
            "perturbation loss: 0.0420\n"
          ]
        },
        {
          "output_type": "stream",
          "name": "stderr",
          "text": [
            "\r 23%|██▎       | 230/1000 [06:51<20:35,  1.60s/it]"
          ]
        },
        {
          "output_type": "stream",
          "name": "stdout",
          "text": [
            "Validation acc: 0.9688\n",
            "\n",
            "Start of epoch 230\n",
            "Training loss: 0.0011\n",
            "Training metric: 0.9485\n",
            "perturbation loss: 0.0023\n"
          ]
        },
        {
          "output_type": "stream",
          "name": "stderr",
          "text": [
            "\r 23%|██▎       | 231/1000 [06:52<20:26,  1.59s/it]"
          ]
        },
        {
          "output_type": "stream",
          "name": "stdout",
          "text": [
            "Validation acc: 0.9688\n",
            "\n",
            "Start of epoch 231\n",
            "Training loss: 0.0077\n",
            "Training metric: 0.9487\n",
            "perturbation loss: 0.0187\n"
          ]
        },
        {
          "output_type": "stream",
          "name": "stderr",
          "text": [
            "\r 23%|██▎       | 232/1000 [06:55<22:24,  1.75s/it]"
          ]
        },
        {
          "output_type": "stream",
          "name": "stdout",
          "text": [
            "Validation acc: 0.9375\n",
            "\n",
            "Start of epoch 232\n",
            "Training loss: 0.0296\n",
            "Training metric: 0.9489\n",
            "perturbation loss: 0.0609\n"
          ]
        },
        {
          "output_type": "stream",
          "name": "stderr",
          "text": [
            "\r 23%|██▎       | 233/1000 [06:57<23:43,  1.86s/it]"
          ]
        },
        {
          "output_type": "stream",
          "name": "stdout",
          "text": [
            "Validation acc: 0.9609\n",
            "\n",
            "Start of epoch 233\n",
            "Training loss: 0.0008\n",
            "Training metric: 0.9491\n",
            "perturbation loss: 0.0034\n"
          ]
        },
        {
          "output_type": "stream",
          "name": "stderr",
          "text": [
            "\r 23%|██▎       | 234/1000 [06:58<22:49,  1.79s/it]"
          ]
        },
        {
          "output_type": "stream",
          "name": "stdout",
          "text": [
            "Validation acc: 0.9219\n",
            "\n",
            "Start of epoch 234\n",
            "Training loss: 0.0240\n",
            "Training metric: 0.9493\n",
            "perturbation loss: 0.3662\n"
          ]
        },
        {
          "output_type": "stream",
          "name": "stderr",
          "text": [
            "\r 24%|██▎       | 235/1000 [07:00<21:53,  1.72s/it]"
          ]
        },
        {
          "output_type": "stream",
          "name": "stdout",
          "text": [
            "Validation acc: 0.8828\n",
            "\n",
            "Start of epoch 235\n",
            "Training loss: 0.0005\n",
            "Training metric: 0.9495\n",
            "perturbation loss: 0.0022\n"
          ]
        },
        {
          "output_type": "stream",
          "name": "stderr",
          "text": [
            "\r 24%|██▎       | 236/1000 [07:01<21:22,  1.68s/it]"
          ]
        },
        {
          "output_type": "stream",
          "name": "stdout",
          "text": [
            "Validation acc: 0.9297\n",
            "\n",
            "Start of epoch 236\n",
            "Training loss: 0.0004\n",
            "Training metric: 0.9497\n",
            "perturbation loss: 0.0042\n"
          ]
        },
        {
          "output_type": "stream",
          "name": "stderr",
          "text": [
            "\r 24%|██▎       | 237/1000 [07:03<20:58,  1.65s/it]"
          ]
        },
        {
          "output_type": "stream",
          "name": "stdout",
          "text": [
            "Validation acc: 0.9453\n",
            "\n",
            "Start of epoch 237\n",
            "Training loss: 0.0001\n",
            "Training metric: 0.9499\n",
            "perturbation loss: 0.0011\n"
          ]
        },
        {
          "output_type": "stream",
          "name": "stderr",
          "text": [
            "\r 24%|██▍       | 238/1000 [07:05<20:34,  1.62s/it]"
          ]
        },
        {
          "output_type": "stream",
          "name": "stdout",
          "text": [
            "Validation acc: 0.9297\n",
            "\n",
            "Start of epoch 238\n",
            "Training loss: 0.0061\n",
            "Training metric: 0.9501\n",
            "perturbation loss: 0.0845\n"
          ]
        },
        {
          "output_type": "stream",
          "name": "stderr",
          "text": [
            "\r 24%|██▍       | 239/1000 [07:06<20:24,  1.61s/it]"
          ]
        },
        {
          "output_type": "stream",
          "name": "stdout",
          "text": [
            "Validation acc: 0.9531\n",
            "\n",
            "Start of epoch 239\n",
            "Training loss: 0.0062\n",
            "Training metric: 0.9503\n",
            "perturbation loss: 0.0164\n"
          ]
        },
        {
          "output_type": "stream",
          "name": "stderr",
          "text": [
            "\r 24%|██▍       | 240/1000 [07:08<22:12,  1.75s/it]"
          ]
        },
        {
          "output_type": "stream",
          "name": "stdout",
          "text": [
            "Validation acc: 0.9297\n",
            "\n",
            "Start of epoch 240\n",
            "Training loss: 0.0031\n",
            "Training metric: 0.9505\n",
            "perturbation loss: 0.0229\n"
          ]
        },
        {
          "output_type": "stream",
          "name": "stderr",
          "text": [
            "\r 24%|██▍       | 241/1000 [07:10<23:20,  1.84s/it]"
          ]
        },
        {
          "output_type": "stream",
          "name": "stdout",
          "text": [
            "Validation acc: 0.9609\n",
            "\n",
            "Start of epoch 241\n",
            "Training loss: 0.0011\n",
            "Training metric: 0.9507\n",
            "perturbation loss: 0.0040\n"
          ]
        },
        {
          "output_type": "stream",
          "name": "stderr",
          "text": [
            "\r 24%|██▍       | 242/1000 [07:12<22:47,  1.80s/it]"
          ]
        },
        {
          "output_type": "stream",
          "name": "stdout",
          "text": [
            "Validation acc: 0.9453\n",
            "\n",
            "Start of epoch 242\n",
            "Training loss: 0.0022\n",
            "Training metric: 0.9509\n",
            "perturbation loss: 0.0247\n"
          ]
        },
        {
          "output_type": "stream",
          "name": "stderr",
          "text": [
            "\r 24%|██▍       | 243/1000 [07:14<21:49,  1.73s/it]"
          ]
        },
        {
          "output_type": "stream",
          "name": "stdout",
          "text": [
            "Validation acc: 0.9375\n",
            "\n",
            "Start of epoch 243\n",
            "Training loss: 0.0003\n",
            "Training metric: 0.9511\n",
            "perturbation loss: 0.0042\n"
          ]
        },
        {
          "output_type": "stream",
          "name": "stderr",
          "text": [
            "\r 24%|██▍       | 244/1000 [07:15<21:16,  1.69s/it]"
          ]
        },
        {
          "output_type": "stream",
          "name": "stdout",
          "text": [
            "Validation acc: 0.9531\n",
            "\n",
            "Start of epoch 244\n",
            "Training loss: 0.0003\n",
            "Training metric: 0.9513\n",
            "perturbation loss: 0.0017\n"
          ]
        },
        {
          "output_type": "stream",
          "name": "stderr",
          "text": [
            "\r 24%|██▍       | 245/1000 [07:17<20:43,  1.65s/it]"
          ]
        },
        {
          "output_type": "stream",
          "name": "stdout",
          "text": [
            "Validation acc: 0.9531\n",
            "\n",
            "Start of epoch 245\n",
            "Training loss: 0.0001\n",
            "Training metric: 0.9515\n",
            "perturbation loss: 0.0006\n"
          ]
        },
        {
          "output_type": "stream",
          "name": "stderr",
          "text": [
            "\r 25%|██▍       | 246/1000 [07:18<20:20,  1.62s/it]"
          ]
        },
        {
          "output_type": "stream",
          "name": "stdout",
          "text": [
            "Validation acc: 0.9531\n",
            "\n",
            "Start of epoch 246\n",
            "Training loss: 0.0004\n",
            "Training metric: 0.9517\n",
            "perturbation loss: 0.0038\n"
          ]
        },
        {
          "output_type": "stream",
          "name": "stderr",
          "text": [
            "\r 25%|██▍       | 247/1000 [07:20<20:08,  1.60s/it]"
          ]
        },
        {
          "output_type": "stream",
          "name": "stdout",
          "text": [
            "Validation acc: 0.9609\n",
            "\n",
            "Start of epoch 247\n",
            "Training loss: 0.0009\n",
            "Training metric: 0.9519\n",
            "perturbation loss: 0.0038\n"
          ]
        },
        {
          "output_type": "stream",
          "name": "stderr",
          "text": [
            "\r 25%|██▍       | 248/1000 [07:22<20:35,  1.64s/it]"
          ]
        },
        {
          "output_type": "stream",
          "name": "stdout",
          "text": [
            "Validation acc: 0.9609\n",
            "\n",
            "Start of epoch 248\n",
            "Training loss: 0.0002\n",
            "Training metric: 0.9521\n",
            "perturbation loss: 0.0053\n"
          ]
        },
        {
          "output_type": "stream",
          "name": "stderr",
          "text": [
            "\r 25%|██▍       | 249/1000 [07:24<25:03,  2.00s/it]"
          ]
        },
        {
          "output_type": "stream",
          "name": "stdout",
          "text": [
            "Validation acc: 0.9688\n",
            "\n",
            "Start of epoch 249\n",
            "Training loss: 0.0002\n",
            "Training metric: 0.9522\n",
            "perturbation loss: 0.0008\n"
          ]
        },
        {
          "output_type": "stream",
          "name": "stderr",
          "text": [
            "\r 25%|██▌       | 250/1000 [07:26<23:29,  1.88s/it]"
          ]
        },
        {
          "output_type": "stream",
          "name": "stdout",
          "text": [
            "Validation acc: 0.9688\n",
            "\n",
            "Start of epoch 250\n",
            "Training loss: 0.0000\n",
            "Training metric: 0.9524\n",
            "perturbation loss: 0.0002\n"
          ]
        },
        {
          "output_type": "stream",
          "name": "stderr",
          "text": [
            "\r 25%|██▌       | 251/1000 [07:28<22:17,  1.79s/it]"
          ]
        },
        {
          "output_type": "stream",
          "name": "stdout",
          "text": [
            "Validation acc: 0.9688\n",
            "\n",
            "Start of epoch 251\n",
            "Training loss: 0.0002\n",
            "Training metric: 0.9526\n",
            "perturbation loss: 0.0055\n"
          ]
        },
        {
          "output_type": "stream",
          "name": "stderr",
          "text": [
            "\r 25%|██▌       | 252/1000 [07:29<21:24,  1.72s/it]"
          ]
        },
        {
          "output_type": "stream",
          "name": "stdout",
          "text": [
            "Validation acc: 0.9609\n",
            "\n",
            "Start of epoch 252\n",
            "Training loss: 0.0000\n",
            "Training metric: 0.9528\n",
            "perturbation loss: 0.0003\n"
          ]
        },
        {
          "output_type": "stream",
          "name": "stderr",
          "text": [
            "\r 25%|██▌       | 253/1000 [07:31<20:47,  1.67s/it]"
          ]
        },
        {
          "output_type": "stream",
          "name": "stdout",
          "text": [
            "Validation acc: 0.9688\n",
            "\n",
            "Start of epoch 253\n",
            "Training loss: 0.0000\n",
            "Training metric: 0.9530\n",
            "perturbation loss: 0.0005\n"
          ]
        },
        {
          "output_type": "stream",
          "name": "stderr",
          "text": [
            "\r 25%|██▌       | 254/1000 [07:32<20:27,  1.64s/it]"
          ]
        },
        {
          "output_type": "stream",
          "name": "stdout",
          "text": [
            "Validation acc: 0.9531\n",
            "\n",
            "Start of epoch 254\n",
            "Training loss: 0.0000\n",
            "Training metric: 0.9532\n",
            "perturbation loss: 0.0002\n"
          ]
        },
        {
          "output_type": "stream",
          "name": "stderr",
          "text": [
            "\r 26%|██▌       | 255/1000 [07:34<20:19,  1.64s/it]"
          ]
        },
        {
          "output_type": "stream",
          "name": "stdout",
          "text": [
            "Validation acc: 0.9688\n",
            "\n",
            "Start of epoch 255\n",
            "Training loss: 0.0001\n",
            "Training metric: 0.9534\n",
            "perturbation loss: 0.0023\n"
          ]
        },
        {
          "output_type": "stream",
          "name": "stderr",
          "text": [
            "\r 26%|██▌       | 256/1000 [07:36<21:30,  1.73s/it]"
          ]
        },
        {
          "output_type": "stream",
          "name": "stdout",
          "text": [
            "Validation acc: 0.9688\n",
            "\n",
            "Start of epoch 256\n",
            "Training loss: 0.0001\n",
            "Training metric: 0.9535\n",
            "perturbation loss: 0.0015\n"
          ]
        },
        {
          "output_type": "stream",
          "name": "stderr",
          "text": [
            "\r 26%|██▌       | 257/1000 [07:38<22:50,  1.85s/it]"
          ]
        },
        {
          "output_type": "stream",
          "name": "stdout",
          "text": [
            "Validation acc: 0.9609\n",
            "\n",
            "Start of epoch 257\n",
            "Training loss: 0.0000\n",
            "Training metric: 0.9537\n",
            "perturbation loss: 0.0001\n"
          ]
        },
        {
          "output_type": "stream",
          "name": "stderr",
          "text": [
            "\r 26%|██▌       | 258/1000 [07:40<22:02,  1.78s/it]"
          ]
        },
        {
          "output_type": "stream",
          "name": "stdout",
          "text": [
            "Validation acc: 0.9688\n",
            "\n",
            "Start of epoch 258\n",
            "Training loss: 0.0001\n",
            "Training metric: 0.9539\n",
            "perturbation loss: 0.0002\n"
          ]
        },
        {
          "output_type": "stream",
          "name": "stderr",
          "text": [
            "\r 26%|██▌       | 259/1000 [07:41<21:15,  1.72s/it]"
          ]
        },
        {
          "output_type": "stream",
          "name": "stdout",
          "text": [
            "Validation acc: 0.9688\n",
            "\n",
            "Start of epoch 259\n",
            "Training loss: 0.0200\n",
            "Training metric: 0.9541\n",
            "perturbation loss: 0.0418\n"
          ]
        },
        {
          "output_type": "stream",
          "name": "stderr",
          "text": [
            "\r 26%|██▌       | 260/1000 [07:43<20:38,  1.67s/it]"
          ]
        },
        {
          "output_type": "stream",
          "name": "stdout",
          "text": [
            "Validation acc: 0.9219\n",
            "\n",
            "Start of epoch 260\n",
            "Training loss: 0.0038\n",
            "Training metric: 0.9542\n",
            "perturbation loss: 0.0255\n"
          ]
        },
        {
          "output_type": "stream",
          "name": "stderr",
          "text": [
            "\r 26%|██▌       | 261/1000 [07:44<20:27,  1.66s/it]"
          ]
        },
        {
          "output_type": "stream",
          "name": "stdout",
          "text": [
            "Validation acc: 0.9375\n",
            "\n",
            "Start of epoch 261\n",
            "Training loss: 0.0007\n",
            "Training metric: 0.9544\n",
            "perturbation loss: 0.0141\n"
          ]
        },
        {
          "output_type": "stream",
          "name": "stderr",
          "text": [
            "\r 26%|██▌       | 262/1000 [07:46<20:04,  1.63s/it]"
          ]
        },
        {
          "output_type": "stream",
          "name": "stdout",
          "text": [
            "Validation acc: 0.9453\n",
            "\n",
            "Start of epoch 262\n",
            "Training loss: 0.0036\n",
            "Training metric: 0.9546\n",
            "perturbation loss: 0.0294\n"
          ]
        },
        {
          "output_type": "stream",
          "name": "stderr",
          "text": [
            "\r 26%|██▋       | 263/1000 [07:47<19:41,  1.60s/it]"
          ]
        },
        {
          "output_type": "stream",
          "name": "stdout",
          "text": [
            "Validation acc: 0.9375\n",
            "\n",
            "Start of epoch 263\n",
            "Training loss: 0.0015\n",
            "Training metric: 0.9547\n",
            "perturbation loss: 0.0102\n"
          ]
        },
        {
          "output_type": "stream",
          "name": "stderr",
          "text": [
            "\r 26%|██▋       | 264/1000 [07:50<21:34,  1.76s/it]"
          ]
        },
        {
          "output_type": "stream",
          "name": "stdout",
          "text": [
            "Validation acc: 0.9609\n",
            "\n",
            "Start of epoch 264\n",
            "Training loss: 0.0031\n",
            "Training metric: 0.9549\n",
            "perturbation loss: 0.0068\n"
          ]
        },
        {
          "output_type": "stream",
          "name": "stderr",
          "text": [
            "\r 26%|██▋       | 265/1000 [07:52<23:49,  1.94s/it]"
          ]
        },
        {
          "output_type": "stream",
          "name": "stdout",
          "text": [
            "Validation acc: 0.9609\n",
            "\n",
            "Start of epoch 265\n",
            "Training loss: 0.0032\n",
            "Training metric: 0.9550\n",
            "perturbation loss: 0.0287\n"
          ]
        },
        {
          "output_type": "stream",
          "name": "stderr",
          "text": [
            "\r 27%|██▋       | 266/1000 [07:53<22:24,  1.83s/it]"
          ]
        },
        {
          "output_type": "stream",
          "name": "stdout",
          "text": [
            "Validation acc: 0.9453\n",
            "\n",
            "Start of epoch 266\n",
            "Training loss: 0.0003\n",
            "Training metric: 0.9552\n",
            "perturbation loss: 0.0021\n"
          ]
        },
        {
          "output_type": "stream",
          "name": "stderr",
          "text": [
            "\r 27%|██▋       | 267/1000 [07:55<21:19,  1.75s/it]"
          ]
        },
        {
          "output_type": "stream",
          "name": "stdout",
          "text": [
            "Validation acc: 0.9609\n",
            "\n",
            "Start of epoch 267\n",
            "Training loss: 0.0001\n",
            "Training metric: 0.9554\n",
            "perturbation loss: 0.0004\n"
          ]
        },
        {
          "output_type": "stream",
          "name": "stderr",
          "text": [
            "\r 27%|██▋       | 268/1000 [07:57<20:42,  1.70s/it]"
          ]
        },
        {
          "output_type": "stream",
          "name": "stdout",
          "text": [
            "Validation acc: 0.9453\n",
            "\n",
            "Start of epoch 268\n",
            "Training loss: 0.0098\n",
            "Training metric: 0.9555\n",
            "perturbation loss: 0.0531\n"
          ]
        },
        {
          "output_type": "stream",
          "name": "stderr",
          "text": [
            "\r 27%|██▋       | 269/1000 [07:58<20:10,  1.66s/it]"
          ]
        },
        {
          "output_type": "stream",
          "name": "stdout",
          "text": [
            "Validation acc: 0.9688\n",
            "\n",
            "Start of epoch 269\n",
            "Training loss: 0.0063\n",
            "Training metric: 0.9557\n",
            "perturbation loss: 0.0346\n"
          ]
        },
        {
          "output_type": "stream",
          "name": "stderr",
          "text": [
            "\r 27%|██▋       | 270/1000 [08:00<20:02,  1.65s/it]"
          ]
        },
        {
          "output_type": "stream",
          "name": "stdout",
          "text": [
            "Validation acc: 0.9766\n",
            "\n",
            "Start of epoch 270\n",
            "Training loss: 0.0013\n",
            "Training metric: 0.9558\n",
            "perturbation loss: 0.0216\n"
          ]
        },
        {
          "output_type": "stream",
          "name": "stderr",
          "text": [
            "\r 27%|██▋       | 271/1000 [08:01<19:45,  1.63s/it]"
          ]
        },
        {
          "output_type": "stream",
          "name": "stdout",
          "text": [
            "Validation acc: 0.9219\n",
            "\n",
            "Start of epoch 271\n",
            "Training loss: 0.0054\n",
            "Training metric: 0.9560\n",
            "perturbation loss: 0.0597\n"
          ]
        },
        {
          "output_type": "stream",
          "name": "stderr",
          "text": [
            "\r 27%|██▋       | 272/1000 [08:04<21:59,  1.81s/it]"
          ]
        },
        {
          "output_type": "stream",
          "name": "stdout",
          "text": [
            "Validation acc: 0.9297\n",
            "\n",
            "Start of epoch 272\n",
            "Training loss: 0.0074\n",
            "Training metric: 0.9561\n",
            "perturbation loss: 0.0115\n"
          ]
        },
        {
          "output_type": "stream",
          "name": "stderr",
          "text": [
            "\r 27%|██▋       | 273/1000 [08:06<22:51,  1.89s/it]"
          ]
        },
        {
          "output_type": "stream",
          "name": "stdout",
          "text": [
            "Validation acc: 0.9688\n",
            "\n",
            "Start of epoch 273\n",
            "Training loss: 0.0044\n",
            "Training metric: 0.9563\n",
            "perturbation loss: 0.0500\n"
          ]
        },
        {
          "output_type": "stream",
          "name": "stderr",
          "text": [
            "\r 27%|██▋       | 274/1000 [08:07<21:56,  1.81s/it]"
          ]
        },
        {
          "output_type": "stream",
          "name": "stdout",
          "text": [
            "Validation acc: 0.9375\n",
            "\n",
            "Start of epoch 274\n",
            "Training loss: 0.0004\n",
            "Training metric: 0.9564\n",
            "perturbation loss: 0.0036\n"
          ]
        },
        {
          "output_type": "stream",
          "name": "stderr",
          "text": [
            "\r 28%|██▊       | 275/1000 [08:09<20:58,  1.74s/it]"
          ]
        },
        {
          "output_type": "stream",
          "name": "stdout",
          "text": [
            "Validation acc: 0.9609\n",
            "\n",
            "Start of epoch 275\n",
            "Training loss: 0.0004\n",
            "Training metric: 0.9566\n",
            "perturbation loss: 0.0014\n"
          ]
        },
        {
          "output_type": "stream",
          "name": "stderr",
          "text": [
            "\r 28%|██▊       | 276/1000 [08:10<20:17,  1.68s/it]"
          ]
        },
        {
          "output_type": "stream",
          "name": "stdout",
          "text": [
            "Validation acc: 0.9531\n",
            "\n",
            "Start of epoch 276\n",
            "Training loss: 0.0001\n",
            "Training metric: 0.9568\n",
            "perturbation loss: 0.0009\n"
          ]
        },
        {
          "output_type": "stream",
          "name": "stderr",
          "text": [
            "\r 28%|██▊       | 277/1000 [08:12<19:49,  1.65s/it]"
          ]
        },
        {
          "output_type": "stream",
          "name": "stdout",
          "text": [
            "Validation acc: 0.9766\n",
            "\n",
            "Start of epoch 277\n",
            "Training loss: 0.0001\n",
            "Training metric: 0.9569\n",
            "perturbation loss: 0.0008\n"
          ]
        },
        {
          "output_type": "stream",
          "name": "stderr",
          "text": [
            "\r 28%|██▊       | 278/1000 [08:14<19:32,  1.62s/it]"
          ]
        },
        {
          "output_type": "stream",
          "name": "stdout",
          "text": [
            "Validation acc: 0.9609\n",
            "\n",
            "Start of epoch 278\n",
            "Training loss: 0.0001\n",
            "Training metric: 0.9571\n",
            "perturbation loss: 0.0018\n"
          ]
        },
        {
          "output_type": "stream",
          "name": "stderr",
          "text": [
            "\r 28%|██▊       | 279/1000 [08:15<19:23,  1.61s/it]"
          ]
        },
        {
          "output_type": "stream",
          "name": "stdout",
          "text": [
            "Validation acc: 0.9766\n",
            "\n",
            "Start of epoch 279\n",
            "Training loss: 0.0001\n",
            "Training metric: 0.9572\n",
            "perturbation loss: 0.0017\n"
          ]
        },
        {
          "output_type": "stream",
          "name": "stderr",
          "text": [
            "\r 28%|██▊       | 280/1000 [08:17<21:32,  1.79s/it]"
          ]
        },
        {
          "output_type": "stream",
          "name": "stdout",
          "text": [
            "Validation acc: 0.9688\n",
            "\n",
            "Start of epoch 280\n",
            "Training loss: 0.0001\n",
            "Training metric: 0.9574\n",
            "perturbation loss: 0.0009\n"
          ]
        },
        {
          "output_type": "stream",
          "name": "stderr",
          "text": [
            "\r 28%|██▊       | 281/1000 [08:19<22:28,  1.88s/it]"
          ]
        },
        {
          "output_type": "stream",
          "name": "stdout",
          "text": [
            "Validation acc: 0.9688\n",
            "\n",
            "Start of epoch 281\n",
            "Training loss: 0.0000\n",
            "Training metric: 0.9575\n",
            "perturbation loss: 0.0001\n"
          ]
        },
        {
          "output_type": "stream",
          "name": "stderr",
          "text": [
            "\r 28%|██▊       | 282/1000 [08:21<21:18,  1.78s/it]"
          ]
        },
        {
          "output_type": "stream",
          "name": "stdout",
          "text": [
            "Validation acc: 0.9609\n",
            "\n",
            "Start of epoch 282\n",
            "Training loss: 0.0000\n",
            "Training metric: 0.9577\n",
            "perturbation loss: 0.0008\n"
          ]
        },
        {
          "output_type": "stream",
          "name": "stderr",
          "text": [
            "\r 28%|██▊       | 283/1000 [08:23<20:27,  1.71s/it]"
          ]
        },
        {
          "output_type": "stream",
          "name": "stdout",
          "text": [
            "Validation acc: 0.9609\n",
            "\n",
            "Start of epoch 283\n",
            "Training loss: 0.0000\n",
            "Training metric: 0.9578\n",
            "perturbation loss: 0.0004\n"
          ]
        },
        {
          "output_type": "stream",
          "name": "stderr",
          "text": [
            "\r 28%|██▊       | 284/1000 [08:24<19:55,  1.67s/it]"
          ]
        },
        {
          "output_type": "stream",
          "name": "stdout",
          "text": [
            "Validation acc: 0.9609\n",
            "\n",
            "Start of epoch 284\n",
            "Training loss: 0.0024\n",
            "Training metric: 0.9580\n",
            "perturbation loss: 0.0036\n"
          ]
        },
        {
          "output_type": "stream",
          "name": "stderr",
          "text": [
            "\r 28%|██▊       | 285/1000 [08:26<19:23,  1.63s/it]"
          ]
        },
        {
          "output_type": "stream",
          "name": "stdout",
          "text": [
            "Validation acc: 0.9531\n",
            "\n",
            "Start of epoch 285\n",
            "Training loss: 0.0009\n",
            "Training metric: 0.9581\n",
            "perturbation loss: 0.0150\n"
          ]
        },
        {
          "output_type": "stream",
          "name": "stderr",
          "text": [
            "\r 29%|██▊       | 286/1000 [08:27<19:12,  1.61s/it]"
          ]
        },
        {
          "output_type": "stream",
          "name": "stdout",
          "text": [
            "Validation acc: 0.9219\n",
            "\n",
            "Start of epoch 286\n",
            "Training loss: 0.0042\n",
            "Training metric: 0.9582\n",
            "perturbation loss: 0.0250\n"
          ]
        },
        {
          "output_type": "stream",
          "name": "stderr",
          "text": [
            "\r 29%|██▊       | 287/1000 [08:29<19:15,  1.62s/it]"
          ]
        },
        {
          "output_type": "stream",
          "name": "stdout",
          "text": [
            "Validation acc: 0.9453\n",
            "\n",
            "Start of epoch 287\n",
            "Training loss: 0.0003\n",
            "Training metric: 0.9584\n",
            "perturbation loss: 0.0007\n"
          ]
        },
        {
          "output_type": "stream",
          "name": "stderr",
          "text": [
            "\r 29%|██▉       | 288/1000 [08:31<21:27,  1.81s/it]"
          ]
        },
        {
          "output_type": "stream",
          "name": "stdout",
          "text": [
            "Validation acc: 0.9766\n",
            "\n",
            "Start of epoch 288\n",
            "Training loss: 0.0000\n",
            "Training metric: 0.9585\n",
            "perturbation loss: 0.0004\n"
          ]
        },
        {
          "output_type": "stream",
          "name": "stderr",
          "text": [
            "\r 29%|██▉       | 289/1000 [08:33<22:14,  1.88s/it]"
          ]
        },
        {
          "output_type": "stream",
          "name": "stdout",
          "text": [
            "Validation acc: 0.9453\n",
            "\n",
            "Start of epoch 289\n",
            "Training loss: 0.0010\n",
            "Training metric: 0.9587\n",
            "perturbation loss: 0.0059\n"
          ]
        },
        {
          "output_type": "stream",
          "name": "stderr",
          "text": [
            "\r 29%|██▉       | 290/1000 [08:35<21:03,  1.78s/it]"
          ]
        },
        {
          "output_type": "stream",
          "name": "stdout",
          "text": [
            "Validation acc: 0.9531\n",
            "\n",
            "Start of epoch 290\n",
            "Training loss: 0.0052\n",
            "Training metric: 0.9588\n",
            "perturbation loss: 0.0868\n"
          ]
        },
        {
          "output_type": "stream",
          "name": "stderr",
          "text": [
            "\r 29%|██▉       | 291/1000 [08:36<20:18,  1.72s/it]"
          ]
        },
        {
          "output_type": "stream",
          "name": "stdout",
          "text": [
            "Validation acc: 0.8516\n",
            "\n",
            "Start of epoch 291\n",
            "Training loss: 0.0010\n",
            "Training metric: 0.9589\n",
            "perturbation loss: 0.0085\n"
          ]
        },
        {
          "output_type": "stream",
          "name": "stderr",
          "text": [
            "\r 29%|██▉       | 292/1000 [08:38<19:46,  1.68s/it]"
          ]
        },
        {
          "output_type": "stream",
          "name": "stdout",
          "text": [
            "Validation acc: 0.9375\n",
            "\n",
            "Start of epoch 292\n",
            "Training loss: 0.3659\n",
            "Training metric: 0.9590\n",
            "perturbation loss: 0.0817\n"
          ]
        },
        {
          "output_type": "stream",
          "name": "stderr",
          "text": [
            "\r 29%|██▉       | 293/1000 [08:39<19:15,  1.63s/it]"
          ]
        },
        {
          "output_type": "stream",
          "name": "stdout",
          "text": [
            "Validation acc: 0.9375\n",
            "\n",
            "Start of epoch 293\n",
            "Training loss: 0.0095\n",
            "Training metric: 0.9592\n",
            "perturbation loss: 0.0053\n"
          ]
        },
        {
          "output_type": "stream",
          "name": "stderr",
          "text": [
            "\r 29%|██▉       | 294/1000 [08:41<18:55,  1.61s/it]"
          ]
        },
        {
          "output_type": "stream",
          "name": "stdout",
          "text": [
            "Validation acc: 0.9844\n",
            "\n",
            "Start of epoch 294\n",
            "Training loss: 0.0007\n",
            "Training metric: 0.9593\n",
            "perturbation loss: 0.0072\n"
          ]
        },
        {
          "output_type": "stream",
          "name": "stderr",
          "text": [
            "\r 30%|██▉       | 295/1000 [08:43<18:45,  1.60s/it]"
          ]
        },
        {
          "output_type": "stream",
          "name": "stdout",
          "text": [
            "Validation acc: 0.9531\n",
            "\n",
            "Start of epoch 295\n",
            "Training loss: 0.0021\n",
            "Training metric: 0.9594\n",
            "perturbation loss: 0.0068\n"
          ]
        },
        {
          "output_type": "stream",
          "name": "stderr",
          "text": [
            "\r 30%|██▉       | 296/1000 [08:44<19:46,  1.69s/it]"
          ]
        },
        {
          "output_type": "stream",
          "name": "stdout",
          "text": [
            "Validation acc: 0.9766\n",
            "\n",
            "Start of epoch 296\n",
            "Training loss: 0.0000\n",
            "Training metric: 0.9596\n",
            "perturbation loss: 0.0003\n"
          ]
        },
        {
          "output_type": "stream",
          "name": "stderr",
          "text": [
            "\r 30%|██▉       | 297/1000 [08:46<21:07,  1.80s/it]"
          ]
        },
        {
          "output_type": "stream",
          "name": "stdout",
          "text": [
            "Validation acc: 0.9766\n",
            "\n",
            "Start of epoch 297\n",
            "Training loss: 0.0006\n",
            "Training metric: 0.9597\n",
            "perturbation loss: 0.0015\n"
          ]
        },
        {
          "output_type": "stream",
          "name": "stderr",
          "text": [
            "\r 30%|██▉       | 298/1000 [08:48<20:36,  1.76s/it]"
          ]
        },
        {
          "output_type": "stream",
          "name": "stdout",
          "text": [
            "Validation acc: 0.9688\n",
            "\n",
            "Start of epoch 298\n",
            "Training loss: 0.0018\n",
            "Training metric: 0.9598\n",
            "perturbation loss: 0.0025\n"
          ]
        },
        {
          "output_type": "stream",
          "name": "stderr",
          "text": [
            "\r 30%|██▉       | 299/1000 [08:50<19:52,  1.70s/it]"
          ]
        },
        {
          "output_type": "stream",
          "name": "stdout",
          "text": [
            "Validation acc: 0.9766\n",
            "\n",
            "Start of epoch 299\n",
            "Training loss: 0.0002\n",
            "Training metric: 0.9600\n",
            "perturbation loss: 0.0044\n"
          ]
        },
        {
          "output_type": "stream",
          "name": "stderr",
          "text": [
            "\r 30%|███       | 300/1000 [08:51<19:20,  1.66s/it]"
          ]
        },
        {
          "output_type": "stream",
          "name": "stdout",
          "text": [
            "Validation acc: 0.9766\n",
            "\n",
            "Start of epoch 300\n",
            "Training loss: 0.0001\n",
            "Training metric: 0.9601\n",
            "perturbation loss: 0.0008\n"
          ]
        },
        {
          "output_type": "stream",
          "name": "stderr",
          "text": [
            "\r 30%|███       | 301/1000 [08:53<18:52,  1.62s/it]"
          ]
        },
        {
          "output_type": "stream",
          "name": "stdout",
          "text": [
            "Validation acc: 0.9609\n",
            "\n",
            "Start of epoch 301\n",
            "Training loss: 0.0000\n",
            "Training metric: 0.9602\n",
            "perturbation loss: 0.0007\n"
          ]
        },
        {
          "output_type": "stream",
          "name": "stderr",
          "text": [
            "\r 30%|███       | 302/1000 [08:54<18:34,  1.60s/it]"
          ]
        },
        {
          "output_type": "stream",
          "name": "stdout",
          "text": [
            "Validation acc: 0.9766\n",
            "\n",
            "Start of epoch 302\n",
            "Training loss: 0.0001\n",
            "Training metric: 0.9604\n",
            "perturbation loss: 0.0007\n"
          ]
        },
        {
          "output_type": "stream",
          "name": "stderr",
          "text": [
            "\r 30%|███       | 303/1000 [08:56<18:32,  1.60s/it]"
          ]
        },
        {
          "output_type": "stream",
          "name": "stdout",
          "text": [
            "Validation acc: 0.9766\n",
            "\n",
            "Start of epoch 303\n",
            "Training loss: 0.0001\n",
            "Training metric: 0.9605\n",
            "perturbation loss: 0.0003\n"
          ]
        },
        {
          "output_type": "stream",
          "name": "stderr",
          "text": [
            "\r 30%|███       | 304/1000 [08:58<20:09,  1.74s/it]"
          ]
        },
        {
          "output_type": "stream",
          "name": "stdout",
          "text": [
            "Validation acc: 0.9766\n",
            "\n",
            "Start of epoch 304\n",
            "Training loss: 0.0000\n",
            "Training metric: 0.9606\n",
            "perturbation loss: 0.0003\n"
          ]
        },
        {
          "output_type": "stream",
          "name": "stderr",
          "text": [
            "\r 30%|███       | 305/1000 [09:00<21:22,  1.84s/it]"
          ]
        },
        {
          "output_type": "stream",
          "name": "stdout",
          "text": [
            "Validation acc: 0.9766\n",
            "\n",
            "Start of epoch 305\n",
            "Training loss: 0.0001\n",
            "Training metric: 0.9608\n",
            "perturbation loss: 0.0006\n"
          ]
        },
        {
          "output_type": "stream",
          "name": "stderr",
          "text": [
            "\r 31%|███       | 306/1000 [09:02<20:50,  1.80s/it]"
          ]
        },
        {
          "output_type": "stream",
          "name": "stdout",
          "text": [
            "Validation acc: 0.9766\n",
            "\n",
            "Start of epoch 306\n",
            "Training loss: 0.0000\n",
            "Training metric: 0.9609\n",
            "perturbation loss: 0.0003\n"
          ]
        },
        {
          "output_type": "stream",
          "name": "stderr",
          "text": [
            "\r 31%|███       | 307/1000 [09:03<20:02,  1.74s/it]"
          ]
        },
        {
          "output_type": "stream",
          "name": "stdout",
          "text": [
            "Validation acc: 0.9609\n",
            "\n",
            "Start of epoch 307\n",
            "Training loss: 0.0014\n",
            "Training metric: 0.9610\n",
            "perturbation loss: 0.0054\n"
          ]
        },
        {
          "output_type": "stream",
          "name": "stderr",
          "text": [
            "\r 31%|███       | 308/1000 [09:05<19:21,  1.68s/it]"
          ]
        },
        {
          "output_type": "stream",
          "name": "stdout",
          "text": [
            "Validation acc: 0.9531\n",
            "\n",
            "Start of epoch 308\n",
            "Training loss: 0.0080\n",
            "Training metric: 0.9611\n",
            "perturbation loss: 0.0958\n"
          ]
        },
        {
          "output_type": "stream",
          "name": "stderr",
          "text": [
            "\r 31%|███       | 309/1000 [09:07<18:58,  1.65s/it]"
          ]
        },
        {
          "output_type": "stream",
          "name": "stdout",
          "text": [
            "Validation acc: 0.9609\n",
            "\n",
            "Start of epoch 309\n",
            "Training loss: 0.0028\n",
            "Training metric: 0.9612\n",
            "perturbation loss: 0.0518\n"
          ]
        },
        {
          "output_type": "stream",
          "name": "stderr",
          "text": [
            "\r 31%|███       | 310/1000 [09:08<18:40,  1.62s/it]"
          ]
        },
        {
          "output_type": "stream",
          "name": "stdout",
          "text": [
            "Validation acc: 0.9844\n",
            "\n",
            "Start of epoch 310\n",
            "Training loss: 0.0057\n",
            "Training metric: 0.9613\n",
            "perturbation loss: 0.0154\n"
          ]
        },
        {
          "output_type": "stream",
          "name": "stderr",
          "text": [
            "\r 31%|███       | 311/1000 [09:10<18:21,  1.60s/it]"
          ]
        },
        {
          "output_type": "stream",
          "name": "stdout",
          "text": [
            "Validation acc: 0.9844\n",
            "\n",
            "Start of epoch 311\n",
            "Training loss: 0.0001\n",
            "Training metric: 0.9615\n",
            "perturbation loss: 0.0017\n"
          ]
        },
        {
          "output_type": "stream",
          "name": "stderr",
          "text": [
            "\r 31%|███       | 312/1000 [09:12<19:47,  1.73s/it]"
          ]
        },
        {
          "output_type": "stream",
          "name": "stdout",
          "text": [
            "Validation acc: 0.9766\n",
            "\n",
            "Start of epoch 312\n",
            "Training loss: 0.0000\n",
            "Training metric: 0.9616\n",
            "perturbation loss: 0.0005\n"
          ]
        },
        {
          "output_type": "stream",
          "name": "stderr",
          "text": [
            "\r 31%|███▏      | 313/1000 [09:14<22:04,  1.93s/it]"
          ]
        },
        {
          "output_type": "stream",
          "name": "stdout",
          "text": [
            "Validation acc: 0.9844\n",
            "\n",
            "Start of epoch 313\n",
            "Training loss: 0.0001\n",
            "Training metric: 0.9617\n",
            "perturbation loss: 0.0006\n"
          ]
        },
        {
          "output_type": "stream",
          "name": "stderr",
          "text": [
            "\r 31%|███▏      | 314/1000 [09:16<20:58,  1.83s/it]"
          ]
        },
        {
          "output_type": "stream",
          "name": "stdout",
          "text": [
            "Validation acc: 0.9922\n",
            "\n",
            "Start of epoch 314\n",
            "Training loss: 0.0005\n",
            "Training metric: 0.9618\n",
            "perturbation loss: 0.0146\n"
          ]
        },
        {
          "output_type": "stream",
          "name": "stderr",
          "text": [
            "\r 32%|███▏      | 315/1000 [09:17<20:13,  1.77s/it]"
          ]
        },
        {
          "output_type": "stream",
          "name": "stdout",
          "text": [
            "Validation acc: 0.9844\n",
            "\n",
            "Start of epoch 315\n",
            "Training loss: 0.0002\n",
            "Training metric: 0.9620\n",
            "perturbation loss: 0.0011\n"
          ]
        },
        {
          "output_type": "stream",
          "name": "stderr",
          "text": [
            "\r 32%|███▏      | 316/1000 [09:19<19:27,  1.71s/it]"
          ]
        },
        {
          "output_type": "stream",
          "name": "stdout",
          "text": [
            "Validation acc: 0.9844\n",
            "\n",
            "Start of epoch 316\n",
            "Training loss: 0.0000\n",
            "Training metric: 0.9621\n",
            "perturbation loss: 0.0003\n"
          ]
        },
        {
          "output_type": "stream",
          "name": "stderr",
          "text": [
            "\r 32%|███▏      | 317/1000 [09:20<18:55,  1.66s/it]"
          ]
        },
        {
          "output_type": "stream",
          "name": "stdout",
          "text": [
            "Validation acc: 0.9766\n",
            "\n",
            "Start of epoch 317\n",
            "Training loss: 0.0002\n",
            "Training metric: 0.9622\n",
            "perturbation loss: 0.0019\n"
          ]
        },
        {
          "output_type": "stream",
          "name": "stderr",
          "text": [
            "\r 32%|███▏      | 318/1000 [09:22<18:31,  1.63s/it]"
          ]
        },
        {
          "output_type": "stream",
          "name": "stdout",
          "text": [
            "Validation acc: 0.9844\n",
            "\n",
            "Start of epoch 318\n",
            "Training loss: 0.0004\n",
            "Training metric: 0.9623\n",
            "perturbation loss: 0.0013\n"
          ]
        },
        {
          "output_type": "stream",
          "name": "stderr",
          "text": [
            "\r 32%|███▏      | 319/1000 [09:24<18:17,  1.61s/it]"
          ]
        },
        {
          "output_type": "stream",
          "name": "stdout",
          "text": [
            "Validation acc: 0.9922\n",
            "\n",
            "Start of epoch 319\n",
            "Training loss: 0.0067\n",
            "Training metric: 0.9624\n",
            "perturbation loss: 0.0017\n"
          ]
        },
        {
          "output_type": "stream",
          "name": "stderr",
          "text": [
            "\r 32%|███▏      | 320/1000 [09:26<20:05,  1.77s/it]"
          ]
        },
        {
          "output_type": "stream",
          "name": "stdout",
          "text": [
            "Validation acc: 0.9688\n",
            "\n",
            "Start of epoch 320\n",
            "Training loss: 0.0004\n",
            "Training metric: 0.9626\n",
            "perturbation loss: 0.0012\n"
          ]
        },
        {
          "output_type": "stream",
          "name": "stderr",
          "text": [
            "\r 32%|███▏      | 321/1000 [09:28<22:07,  1.95s/it]"
          ]
        },
        {
          "output_type": "stream",
          "name": "stdout",
          "text": [
            "Validation acc: 0.9766\n",
            "\n",
            "Start of epoch 321\n",
            "Training loss: 0.0014\n",
            "Training metric: 0.9627\n",
            "perturbation loss: 0.0018\n"
          ]
        },
        {
          "output_type": "stream",
          "name": "stderr",
          "text": [
            "\r 32%|███▏      | 322/1000 [09:30<20:48,  1.84s/it]"
          ]
        },
        {
          "output_type": "stream",
          "name": "stdout",
          "text": [
            "Validation acc: 0.9531\n",
            "\n",
            "Start of epoch 322\n",
            "Training loss: 0.0117\n",
            "Training metric: 0.9628\n",
            "perturbation loss: 0.1185\n"
          ]
        },
        {
          "output_type": "stream",
          "name": "stderr",
          "text": [
            "\r 32%|███▏      | 323/1000 [09:31<19:44,  1.75s/it]"
          ]
        },
        {
          "output_type": "stream",
          "name": "stdout",
          "text": [
            "Validation acc: 0.9609\n",
            "\n",
            "Start of epoch 323\n",
            "Training loss: 0.0005\n",
            "Training metric: 0.9629\n",
            "perturbation loss: 0.0077\n"
          ]
        },
        {
          "output_type": "stream",
          "name": "stderr",
          "text": [
            "\r 32%|███▏      | 324/1000 [09:33<19:00,  1.69s/it]"
          ]
        },
        {
          "output_type": "stream",
          "name": "stdout",
          "text": [
            "Validation acc: 0.8594\n",
            "\n",
            "Start of epoch 324\n",
            "Training loss: 0.0004\n",
            "Training metric: 0.9630\n",
            "perturbation loss: 0.0019\n"
          ]
        },
        {
          "output_type": "stream",
          "name": "stderr",
          "text": [
            "\r 32%|███▎      | 325/1000 [09:34<18:29,  1.64s/it]"
          ]
        },
        {
          "output_type": "stream",
          "name": "stdout",
          "text": [
            "Validation acc: 0.9219\n",
            "\n",
            "Start of epoch 325\n",
            "Training loss: 0.0001\n",
            "Training metric: 0.9631\n",
            "perturbation loss: 0.0007\n"
          ]
        },
        {
          "output_type": "stream",
          "name": "stderr",
          "text": [
            "\r 33%|███▎      | 326/1000 [09:36<18:12,  1.62s/it]"
          ]
        },
        {
          "output_type": "stream",
          "name": "stdout",
          "text": [
            "Validation acc: 0.9609\n",
            "\n",
            "Start of epoch 326\n",
            "Training loss: 0.0001\n",
            "Training metric: 0.9632\n",
            "perturbation loss: 0.0005\n"
          ]
        },
        {
          "output_type": "stream",
          "name": "stderr",
          "text": [
            "\r 33%|███▎      | 327/1000 [09:37<17:57,  1.60s/it]"
          ]
        },
        {
          "output_type": "stream",
          "name": "stdout",
          "text": [
            "Validation acc: 0.9766\n",
            "\n",
            "Start of epoch 327\n",
            "Training loss: 0.0000\n",
            "Training metric: 0.9633\n",
            "perturbation loss: 0.0001\n"
          ]
        },
        {
          "output_type": "stream",
          "name": "stderr",
          "text": [
            "\r 33%|███▎      | 328/1000 [09:40<20:02,  1.79s/it]"
          ]
        },
        {
          "output_type": "stream",
          "name": "stdout",
          "text": [
            "Validation acc: 0.9688\n",
            "\n",
            "Start of epoch 328\n",
            "Training loss: 0.0001\n",
            "Training metric: 0.9634\n",
            "perturbation loss: 0.0011\n"
          ]
        },
        {
          "output_type": "stream",
          "name": "stderr",
          "text": [
            "\r 33%|███▎      | 329/1000 [09:42<20:59,  1.88s/it]"
          ]
        },
        {
          "output_type": "stream",
          "name": "stdout",
          "text": [
            "Validation acc: 0.9141\n",
            "\n",
            "Start of epoch 329\n",
            "Training loss: 0.0048\n",
            "Training metric: 0.9635\n",
            "perturbation loss: 0.0498\n"
          ]
        },
        {
          "output_type": "stream",
          "name": "stderr",
          "text": [
            "\r 33%|███▎      | 330/1000 [09:43<19:52,  1.78s/it]"
          ]
        },
        {
          "output_type": "stream",
          "name": "stdout",
          "text": [
            "Validation acc: 0.9766\n",
            "\n",
            "Start of epoch 330\n",
            "Training loss: 0.0012\n",
            "Training metric: 0.9637\n",
            "perturbation loss: 0.0085\n"
          ]
        },
        {
          "output_type": "stream",
          "name": "stderr",
          "text": [
            "\r 33%|███▎      | 331/1000 [09:45<19:05,  1.71s/it]"
          ]
        },
        {
          "output_type": "stream",
          "name": "stdout",
          "text": [
            "Validation acc: 0.9609\n",
            "\n",
            "Start of epoch 331\n",
            "Training loss: 0.0001\n",
            "Training metric: 0.9638\n",
            "perturbation loss: 0.0016\n"
          ]
        },
        {
          "output_type": "stream",
          "name": "stderr",
          "text": [
            "\r 33%|███▎      | 332/1000 [09:46<18:32,  1.67s/it]"
          ]
        },
        {
          "output_type": "stream",
          "name": "stdout",
          "text": [
            "Validation acc: 0.9844\n",
            "\n",
            "Start of epoch 332\n",
            "Training loss: 0.0005\n",
            "Training metric: 0.9639\n",
            "perturbation loss: 0.0022\n"
          ]
        },
        {
          "output_type": "stream",
          "name": "stderr",
          "text": [
            "\r 33%|███▎      | 333/1000 [09:48<18:12,  1.64s/it]"
          ]
        },
        {
          "output_type": "stream",
          "name": "stdout",
          "text": [
            "Validation acc: 0.9766\n",
            "\n",
            "Start of epoch 333\n",
            "Training loss: 0.0002\n",
            "Training metric: 0.9640\n",
            "perturbation loss: 0.0006\n"
          ]
        },
        {
          "output_type": "stream",
          "name": "stderr",
          "text": [
            "\r 33%|███▎      | 334/1000 [09:49<17:56,  1.62s/it]"
          ]
        },
        {
          "output_type": "stream",
          "name": "stdout",
          "text": [
            "Validation acc: 0.9766\n",
            "\n",
            "Start of epoch 334\n",
            "Training loss: 0.0001\n",
            "Training metric: 0.9641\n",
            "perturbation loss: 0.0011\n"
          ]
        },
        {
          "output_type": "stream",
          "name": "stderr",
          "text": [
            "\r 34%|███▎      | 335/1000 [09:51<17:44,  1.60s/it]"
          ]
        },
        {
          "output_type": "stream",
          "name": "stdout",
          "text": [
            "Validation acc: 0.9844\n",
            "\n",
            "Start of epoch 335\n",
            "Training loss: 0.0002\n",
            "Training metric: 0.9642\n",
            "perturbation loss: 0.0020\n"
          ]
        },
        {
          "output_type": "stream",
          "name": "stderr",
          "text": [
            "\r 34%|███▎      | 336/1000 [09:53<18:45,  1.70s/it]"
          ]
        },
        {
          "output_type": "stream",
          "name": "stdout",
          "text": [
            "Validation acc: 0.9844\n",
            "\n",
            "Start of epoch 336\n",
            "Training loss: 0.0000\n",
            "Training metric: 0.9643\n",
            "perturbation loss: 0.0002\n"
          ]
        },
        {
          "output_type": "stream",
          "name": "stderr",
          "text": [
            "\r 34%|███▎      | 337/1000 [09:55<19:54,  1.80s/it]"
          ]
        },
        {
          "output_type": "stream",
          "name": "stdout",
          "text": [
            "Validation acc: 0.9844\n",
            "\n",
            "Start of epoch 337\n",
            "Training loss: 0.0000\n",
            "Training metric: 0.9644\n",
            "perturbation loss: 0.0004\n"
          ]
        },
        {
          "output_type": "stream",
          "name": "stderr",
          "text": [
            "\r 34%|███▍      | 338/1000 [09:57<19:34,  1.77s/it]"
          ]
        },
        {
          "output_type": "stream",
          "name": "stdout",
          "text": [
            "Validation acc: 0.9844\n",
            "\n",
            "Start of epoch 338\n",
            "Training loss: 0.0000\n",
            "Training metric: 0.9645\n",
            "perturbation loss: 0.0001\n"
          ]
        },
        {
          "output_type": "stream",
          "name": "stderr",
          "text": [
            "\r 34%|███▍      | 339/1000 [09:58<19:08,  1.74s/it]"
          ]
        },
        {
          "output_type": "stream",
          "name": "stdout",
          "text": [
            "Validation acc: 0.9844\n",
            "\n",
            "Start of epoch 339\n",
            "Training loss: 0.0000\n",
            "Training metric: 0.9646\n",
            "perturbation loss: 0.0002\n"
          ]
        },
        {
          "output_type": "stream",
          "name": "stderr",
          "text": [
            "\r 34%|███▍      | 340/1000 [10:00<18:39,  1.70s/it]"
          ]
        },
        {
          "output_type": "stream",
          "name": "stdout",
          "text": [
            "Validation acc: 0.9844\n",
            "\n",
            "Start of epoch 340\n",
            "Training loss: 0.0000\n",
            "Training metric: 0.9647\n",
            "perturbation loss: 0.0004\n"
          ]
        },
        {
          "output_type": "stream",
          "name": "stderr",
          "text": [
            "\r 34%|███▍      | 341/1000 [10:02<18:09,  1.65s/it]"
          ]
        },
        {
          "output_type": "stream",
          "name": "stdout",
          "text": [
            "Validation acc: 0.9766\n",
            "\n",
            "Start of epoch 341\n",
            "Training loss: 0.0141\n",
            "Training metric: 0.9648\n",
            "perturbation loss: 0.0194\n"
          ]
        },
        {
          "output_type": "stream",
          "name": "stderr",
          "text": [
            "\r 34%|███▍      | 342/1000 [10:03<17:51,  1.63s/it]"
          ]
        },
        {
          "output_type": "stream",
          "name": "stdout",
          "text": [
            "Validation acc: 0.9609\n",
            "\n",
            "Start of epoch 342\n",
            "Training loss: 0.0012\n",
            "Training metric: 0.9649\n",
            "perturbation loss: 0.0037\n"
          ]
        },
        {
          "output_type": "stream",
          "name": "stderr",
          "text": [
            "\r 34%|███▍      | 343/1000 [10:05<17:38,  1.61s/it]"
          ]
        },
        {
          "output_type": "stream",
          "name": "stdout",
          "text": [
            "Validation acc: 0.9688\n",
            "\n",
            "Start of epoch 343\n",
            "Training loss: 0.0011\n",
            "Training metric: 0.9650\n",
            "perturbation loss: 0.0194\n"
          ]
        },
        {
          "output_type": "stream",
          "name": "stderr",
          "text": [
            "\r 34%|███▍      | 344/1000 [10:07<19:14,  1.76s/it]"
          ]
        },
        {
          "output_type": "stream",
          "name": "stdout",
          "text": [
            "Validation acc: 0.9688\n",
            "\n",
            "Start of epoch 344\n",
            "Training loss: 0.0003\n",
            "Training metric: 0.9651\n",
            "perturbation loss: 0.0041\n"
          ]
        },
        {
          "output_type": "stream",
          "name": "stderr",
          "text": [
            "\r 34%|███▍      | 345/1000 [10:09<20:22,  1.87s/it]"
          ]
        },
        {
          "output_type": "stream",
          "name": "stdout",
          "text": [
            "Validation acc: 0.9688\n",
            "\n",
            "Start of epoch 345\n",
            "Training loss: 0.0001\n",
            "Training metric: 0.9652\n",
            "perturbation loss: 0.0009\n"
          ]
        },
        {
          "output_type": "stream",
          "name": "stderr",
          "text": [
            "\r 35%|███▍      | 346/1000 [10:11<19:40,  1.80s/it]"
          ]
        },
        {
          "output_type": "stream",
          "name": "stdout",
          "text": [
            "Validation acc: 0.9922\n",
            "\n",
            "Start of epoch 346\n",
            "Training loss: 0.0001\n",
            "Training metric: 0.9653\n",
            "perturbation loss: 0.0009\n"
          ]
        },
        {
          "output_type": "stream",
          "name": "stderr",
          "text": [
            "\r 35%|███▍      | 347/1000 [10:12<18:50,  1.73s/it]"
          ]
        },
        {
          "output_type": "stream",
          "name": "stdout",
          "text": [
            "Validation acc: 0.9844\n",
            "\n",
            "Start of epoch 347\n",
            "Training loss: 0.0002\n",
            "Training metric: 0.9654\n",
            "perturbation loss: 0.0015\n"
          ]
        },
        {
          "output_type": "stream",
          "name": "stderr",
          "text": [
            "\r 35%|███▍      | 348/1000 [10:14<18:11,  1.67s/it]"
          ]
        },
        {
          "output_type": "stream",
          "name": "stdout",
          "text": [
            "Validation acc: 0.9922\n",
            "\n",
            "Start of epoch 348\n",
            "Training loss: 0.0002\n",
            "Training metric: 0.9655\n",
            "perturbation loss: 0.0008\n"
          ]
        },
        {
          "output_type": "stream",
          "name": "stderr",
          "text": [
            "\r 35%|███▍      | 349/1000 [10:15<18:03,  1.66s/it]"
          ]
        },
        {
          "output_type": "stream",
          "name": "stdout",
          "text": [
            "Validation acc: 0.9922\n",
            "\n",
            "Start of epoch 349\n",
            "Training loss: 0.0000\n",
            "Training metric: 0.9656\n",
            "perturbation loss: 0.0002\n"
          ]
        },
        {
          "output_type": "stream",
          "name": "stderr",
          "text": [
            "\r 35%|███▌      | 350/1000 [10:17<17:41,  1.63s/it]"
          ]
        },
        {
          "output_type": "stream",
          "name": "stdout",
          "text": [
            "Validation acc: 0.9922\n",
            "\n",
            "Start of epoch 350\n",
            "Training loss: 0.0001\n",
            "Training metric: 0.9657\n",
            "perturbation loss: 0.0003\n"
          ]
        },
        {
          "output_type": "stream",
          "name": "stderr",
          "text": [
            "\r 35%|███▌      | 351/1000 [10:18<17:27,  1.61s/it]"
          ]
        },
        {
          "output_type": "stream",
          "name": "stdout",
          "text": [
            "Validation acc: 0.9844\n",
            "\n",
            "Start of epoch 351\n",
            "Training loss: 0.0001\n",
            "Training metric: 0.9658\n",
            "perturbation loss: 0.0005\n"
          ]
        },
        {
          "output_type": "stream",
          "name": "stderr",
          "text": [
            "\r 35%|███▌      | 352/1000 [10:21<19:05,  1.77s/it]"
          ]
        },
        {
          "output_type": "stream",
          "name": "stdout",
          "text": [
            "Validation acc: 0.9922\n",
            "\n",
            "Start of epoch 352\n",
            "Training loss: 0.0000\n",
            "Training metric: 0.9659\n",
            "perturbation loss: 0.0002\n"
          ]
        },
        {
          "output_type": "stream",
          "name": "stderr",
          "text": [
            "\r 35%|███▌      | 353/1000 [10:23<20:53,  1.94s/it]"
          ]
        },
        {
          "output_type": "stream",
          "name": "stdout",
          "text": [
            "Validation acc: 0.9844\n",
            "\n",
            "Start of epoch 353\n",
            "Training loss: 0.0000\n",
            "Training metric: 0.9660\n",
            "perturbation loss: 0.0002\n"
          ]
        },
        {
          "output_type": "stream",
          "name": "stderr",
          "text": [
            "\r 35%|███▌      | 354/1000 [10:24<19:39,  1.83s/it]"
          ]
        },
        {
          "output_type": "stream",
          "name": "stdout",
          "text": [
            "Validation acc: 0.9844\n",
            "\n",
            "Start of epoch 354\n",
            "Training loss: 0.0001\n",
            "Training metric: 0.9661\n",
            "perturbation loss: 0.0004\n"
          ]
        },
        {
          "output_type": "stream",
          "name": "stderr",
          "text": [
            "\r 36%|███▌      | 355/1000 [10:26<18:43,  1.74s/it]"
          ]
        },
        {
          "output_type": "stream",
          "name": "stdout",
          "text": [
            "Validation acc: 0.9844\n",
            "\n",
            "Start of epoch 355\n",
            "Training loss: 0.0000\n",
            "Training metric: 0.9662\n",
            "perturbation loss: 0.0005\n"
          ]
        },
        {
          "output_type": "stream",
          "name": "stderr",
          "text": [
            "\r 36%|███▌      | 356/1000 [10:28<18:10,  1.69s/it]"
          ]
        },
        {
          "output_type": "stream",
          "name": "stdout",
          "text": [
            "Validation acc: 0.9844\n",
            "\n",
            "Start of epoch 356\n",
            "Training loss: 0.0000\n",
            "Training metric: 0.9663\n",
            "perturbation loss: 0.0002\n"
          ]
        },
        {
          "output_type": "stream",
          "name": "stderr",
          "text": [
            "\r 36%|███▌      | 357/1000 [10:29<17:44,  1.65s/it]"
          ]
        },
        {
          "output_type": "stream",
          "name": "stdout",
          "text": [
            "Validation acc: 0.9766\n",
            "\n",
            "Start of epoch 357\n",
            "Training loss: 0.0017\n",
            "Training metric: 0.9664\n",
            "perturbation loss: 0.0046\n"
          ]
        },
        {
          "output_type": "stream",
          "name": "stderr",
          "text": [
            "\r 36%|███▌      | 358/1000 [10:31<17:27,  1.63s/it]"
          ]
        },
        {
          "output_type": "stream",
          "name": "stdout",
          "text": [
            "Validation acc: 0.9688\n",
            "\n",
            "Start of epoch 358\n",
            "Training loss: 0.0001\n",
            "Training metric: 0.9665\n",
            "perturbation loss: 0.0011\n"
          ]
        },
        {
          "output_type": "stream",
          "name": "stderr",
          "text": [
            "\r 36%|███▌      | 359/1000 [10:32<17:14,  1.61s/it]"
          ]
        },
        {
          "output_type": "stream",
          "name": "stdout",
          "text": [
            "Validation acc: 0.9844\n",
            "\n",
            "Start of epoch 359\n",
            "Training loss: 0.0017\n",
            "Training metric: 0.9665\n",
            "perturbation loss: 0.0366\n"
          ]
        },
        {
          "output_type": "stream",
          "name": "stderr",
          "text": [
            "\r 36%|███▌      | 360/1000 [10:34<18:00,  1.69s/it]"
          ]
        },
        {
          "output_type": "stream",
          "name": "stdout",
          "text": [
            "Validation acc: 0.9453\n",
            "\n",
            "Start of epoch 360\n",
            "Training loss: 0.0014\n",
            "Training metric: 0.9666\n",
            "perturbation loss: 0.0015\n"
          ]
        },
        {
          "output_type": "stream",
          "name": "stderr",
          "text": [
            "\r 36%|███▌      | 361/1000 [10:37<20:09,  1.89s/it]"
          ]
        },
        {
          "output_type": "stream",
          "name": "stdout",
          "text": [
            "Validation acc: 0.9688\n",
            "\n",
            "Start of epoch 361\n",
            "Training loss: 0.0001\n",
            "Training metric: 0.9667\n",
            "perturbation loss: 0.0010\n"
          ]
        },
        {
          "output_type": "stream",
          "name": "stderr",
          "text": [
            "\r 36%|███▌      | 362/1000 [10:38<19:15,  1.81s/it]"
          ]
        },
        {
          "output_type": "stream",
          "name": "stdout",
          "text": [
            "Validation acc: 0.9844\n",
            "\n",
            "Start of epoch 362\n",
            "Training loss: 0.0003\n",
            "Training metric: 0.9668\n",
            "perturbation loss: 0.0034\n"
          ]
        },
        {
          "output_type": "stream",
          "name": "stderr",
          "text": [
            "\r 36%|███▋      | 363/1000 [10:40<18:25,  1.74s/it]"
          ]
        },
        {
          "output_type": "stream",
          "name": "stdout",
          "text": [
            "Validation acc: 0.9766\n",
            "\n",
            "Start of epoch 363\n",
            "Training loss: 0.0002\n",
            "Training metric: 0.9669\n",
            "perturbation loss: 0.0032\n"
          ]
        },
        {
          "output_type": "stream",
          "name": "stderr",
          "text": [
            "\r 36%|███▋      | 364/1000 [10:41<17:46,  1.68s/it]"
          ]
        },
        {
          "output_type": "stream",
          "name": "stdout",
          "text": [
            "Validation acc: 0.9766\n",
            "\n",
            "Start of epoch 364\n",
            "Training loss: 0.0017\n",
            "Training metric: 0.9670\n",
            "perturbation loss: 0.0025\n"
          ]
        },
        {
          "output_type": "stream",
          "name": "stderr",
          "text": [
            "\r 36%|███▋      | 365/1000 [10:43<17:23,  1.64s/it]"
          ]
        },
        {
          "output_type": "stream",
          "name": "stdout",
          "text": [
            "Validation acc: 0.9688\n",
            "\n",
            "Start of epoch 365\n",
            "Training loss: 0.0000\n",
            "Training metric: 0.9671\n",
            "perturbation loss: 0.0003\n"
          ]
        },
        {
          "output_type": "stream",
          "name": "stderr",
          "text": [
            "\r 37%|███▋      | 366/1000 [10:44<17:09,  1.62s/it]"
          ]
        },
        {
          "output_type": "stream",
          "name": "stdout",
          "text": [
            "Validation acc: 0.9531\n",
            "\n",
            "Start of epoch 366\n",
            "Training loss: 0.0000\n",
            "Training metric: 0.9672\n",
            "perturbation loss: 0.0006\n"
          ]
        },
        {
          "output_type": "stream",
          "name": "stderr",
          "text": [
            "\r 37%|███▋      | 367/1000 [10:46<16:56,  1.61s/it]"
          ]
        },
        {
          "output_type": "stream",
          "name": "stdout",
          "text": [
            "Validation acc: 0.9766\n",
            "\n",
            "Start of epoch 367\n",
            "Training loss: 0.0002\n",
            "Training metric: 0.9673\n",
            "perturbation loss: 0.0036\n"
          ]
        },
        {
          "output_type": "stream",
          "name": "stderr",
          "text": [
            "\r 37%|███▋      | 368/1000 [10:48<17:45,  1.69s/it]"
          ]
        },
        {
          "output_type": "stream",
          "name": "stdout",
          "text": [
            "Validation acc: 0.9688\n",
            "\n",
            "Start of epoch 368\n",
            "Training loss: 0.0003\n",
            "Training metric: 0.9673\n",
            "perturbation loss: 0.0047\n"
          ]
        },
        {
          "output_type": "stream",
          "name": "stderr",
          "text": [
            "\r 37%|███▋      | 369/1000 [10:50<18:56,  1.80s/it]"
          ]
        },
        {
          "output_type": "stream",
          "name": "stdout",
          "text": [
            "Validation acc: 0.9688\n",
            "\n",
            "Start of epoch 369\n",
            "Training loss: 0.0000\n",
            "Training metric: 0.9674\n",
            "perturbation loss: 0.0002\n"
          ]
        },
        {
          "output_type": "stream",
          "name": "stderr",
          "text": [
            "\r 37%|███▋      | 370/1000 [10:52<18:36,  1.77s/it]"
          ]
        },
        {
          "output_type": "stream",
          "name": "stdout",
          "text": [
            "Validation acc: 0.9766\n",
            "\n",
            "Start of epoch 370\n",
            "Training loss: 0.0001\n",
            "Training metric: 0.9675\n",
            "perturbation loss: 0.0002\n"
          ]
        },
        {
          "output_type": "stream",
          "name": "stderr",
          "text": [
            "\r 37%|███▋      | 371/1000 [10:53<17:55,  1.71s/it]"
          ]
        },
        {
          "output_type": "stream",
          "name": "stdout",
          "text": [
            "Validation acc: 0.9844\n",
            "\n",
            "Start of epoch 371\n",
            "Training loss: 0.0001\n",
            "Training metric: 0.9676\n",
            "perturbation loss: 0.0010\n"
          ]
        },
        {
          "output_type": "stream",
          "name": "stderr",
          "text": [
            "\r 37%|███▋      | 372/1000 [10:55<17:27,  1.67s/it]"
          ]
        },
        {
          "output_type": "stream",
          "name": "stdout",
          "text": [
            "Validation acc: 0.9688\n",
            "\n",
            "Start of epoch 372\n",
            "Training loss: 0.0000\n",
            "Training metric: 0.9677\n",
            "perturbation loss: 0.0002\n"
          ]
        },
        {
          "output_type": "stream",
          "name": "stderr",
          "text": [
            "\r 37%|███▋      | 373/1000 [10:56<17:10,  1.64s/it]"
          ]
        },
        {
          "output_type": "stream",
          "name": "stdout",
          "text": [
            "Validation acc: 0.9766\n",
            "\n",
            "Start of epoch 373\n",
            "Training loss: 0.0000\n",
            "Training metric: 0.9678\n",
            "perturbation loss: 0.0000\n"
          ]
        },
        {
          "output_type": "stream",
          "name": "stderr",
          "text": [
            "\r 37%|███▋      | 374/1000 [10:58<17:04,  1.64s/it]"
          ]
        },
        {
          "output_type": "stream",
          "name": "stdout",
          "text": [
            "Validation acc: 0.9688\n",
            "\n",
            "Start of epoch 374\n",
            "Training loss: 0.0000\n",
            "Training metric: 0.9679\n",
            "perturbation loss: 0.0002\n"
          ]
        },
        {
          "output_type": "stream",
          "name": "stderr",
          "text": [
            "\r 38%|███▊      | 375/1000 [11:00<16:55,  1.62s/it]"
          ]
        },
        {
          "output_type": "stream",
          "name": "stdout",
          "text": [
            "Validation acc: 0.9766\n",
            "\n",
            "Start of epoch 375\n",
            "Training loss: 0.0003\n",
            "Training metric: 0.9680\n",
            "perturbation loss: 0.0002\n"
          ]
        },
        {
          "output_type": "stream",
          "name": "stderr",
          "text": [
            "\r 38%|███▊      | 376/1000 [11:01<17:26,  1.68s/it]"
          ]
        },
        {
          "output_type": "stream",
          "name": "stdout",
          "text": [
            "Validation acc: 0.9688\n",
            "\n",
            "Start of epoch 376\n",
            "Training loss: 0.0000\n",
            "Training metric: 0.9680\n",
            "perturbation loss: 0.0000\n"
          ]
        },
        {
          "output_type": "stream",
          "name": "stderr",
          "text": [
            "\r 38%|███▊      | 377/1000 [11:04<21:05,  2.03s/it]"
          ]
        },
        {
          "output_type": "stream",
          "name": "stdout",
          "text": [
            "Validation acc: 0.9766\n",
            "\n",
            "Start of epoch 377\n",
            "Training loss: 0.0008\n",
            "Training metric: 0.9681\n",
            "perturbation loss: 0.0127\n"
          ]
        },
        {
          "output_type": "stream",
          "name": "stderr",
          "text": [
            "\r 38%|███▊      | 378/1000 [11:06<19:35,  1.89s/it]"
          ]
        },
        {
          "output_type": "stream",
          "name": "stdout",
          "text": [
            "Validation acc: 0.9531\n",
            "\n",
            "Start of epoch 378\n",
            "Training loss: 0.0096\n",
            "Training metric: 0.9682\n",
            "perturbation loss: 0.1715\n"
          ]
        },
        {
          "output_type": "stream",
          "name": "stderr",
          "text": [
            "\r 38%|███▊      | 379/1000 [11:07<18:33,  1.79s/it]"
          ]
        },
        {
          "output_type": "stream",
          "name": "stdout",
          "text": [
            "Validation acc: 0.9688\n",
            "\n",
            "Start of epoch 379\n",
            "Training loss: 0.0009\n",
            "Training metric: 0.9683\n",
            "perturbation loss: 0.0052\n"
          ]
        },
        {
          "output_type": "stream",
          "name": "stderr",
          "text": [
            "\r 38%|███▊      | 380/1000 [11:09<17:58,  1.74s/it]"
          ]
        },
        {
          "output_type": "stream",
          "name": "stdout",
          "text": [
            "Validation acc: 0.9375\n",
            "\n",
            "Start of epoch 380\n",
            "Training loss: 0.0000\n",
            "Training metric: 0.9684\n",
            "perturbation loss: 0.0008\n"
          ]
        },
        {
          "output_type": "stream",
          "name": "stderr",
          "text": [
            "\r 38%|███▊      | 381/1000 [11:11<17:24,  1.69s/it]"
          ]
        },
        {
          "output_type": "stream",
          "name": "stdout",
          "text": [
            "Validation acc: 0.9375\n",
            "\n",
            "Start of epoch 381\n",
            "Training loss: 0.0001\n",
            "Training metric: 0.9684\n",
            "perturbation loss: 0.0006\n"
          ]
        },
        {
          "output_type": "stream",
          "name": "stderr",
          "text": [
            "\r 38%|███▊      | 382/1000 [11:12<16:57,  1.65s/it]"
          ]
        },
        {
          "output_type": "stream",
          "name": "stdout",
          "text": [
            "Validation acc: 0.9766\n",
            "\n",
            "Start of epoch 382\n",
            "Training loss: 0.0573\n",
            "Training metric: 0.9685\n",
            "perturbation loss: 0.0355\n"
          ]
        },
        {
          "output_type": "stream",
          "name": "stderr",
          "text": [
            "\r 38%|███▊      | 383/1000 [11:14<16:44,  1.63s/it]"
          ]
        },
        {
          "output_type": "stream",
          "name": "stdout",
          "text": [
            "Validation acc: 0.9688\n",
            "\n",
            "Start of epoch 383\n",
            "Training loss: 0.0015\n",
            "Training metric: 0.9686\n",
            "perturbation loss: 0.0204\n"
          ]
        },
        {
          "output_type": "stream",
          "name": "stderr",
          "text": [
            "\r 38%|███▊      | 384/1000 [11:16<18:30,  1.80s/it]"
          ]
        },
        {
          "output_type": "stream",
          "name": "stdout",
          "text": [
            "Validation acc: 0.9531\n",
            "\n",
            "Start of epoch 384\n",
            "Training loss: 0.0000\n",
            "Training metric: 0.9687\n",
            "perturbation loss: 0.0004\n"
          ]
        },
        {
          "output_type": "stream",
          "name": "stderr",
          "text": [
            "\r 38%|███▊      | 385/1000 [11:18<19:20,  1.89s/it]"
          ]
        },
        {
          "output_type": "stream",
          "name": "stdout",
          "text": [
            "Validation acc: 0.9609\n",
            "\n",
            "Start of epoch 385\n",
            "Training loss: 0.0003\n",
            "Training metric: 0.9687\n",
            "perturbation loss: 0.0002\n"
          ]
        },
        {
          "output_type": "stream",
          "name": "stderr",
          "text": [
            "\r 39%|███▊      | 386/1000 [11:19<18:18,  1.79s/it]"
          ]
        },
        {
          "output_type": "stream",
          "name": "stdout",
          "text": [
            "Validation acc: 0.9688\n",
            "\n",
            "Start of epoch 386\n",
            "Training loss: 0.0000\n",
            "Training metric: 0.9688\n",
            "perturbation loss: 0.0004\n"
          ]
        },
        {
          "output_type": "stream",
          "name": "stderr",
          "text": [
            "\r 39%|███▊      | 387/1000 [11:21<17:38,  1.73s/it]"
          ]
        },
        {
          "output_type": "stream",
          "name": "stdout",
          "text": [
            "Validation acc: 0.9766\n",
            "\n",
            "Start of epoch 387\n",
            "Training loss: 0.0000\n",
            "Training metric: 0.9689\n",
            "perturbation loss: 0.0004\n"
          ]
        },
        {
          "output_type": "stream",
          "name": "stderr",
          "text": [
            "\r 39%|███▉      | 388/1000 [11:23<17:09,  1.68s/it]"
          ]
        },
        {
          "output_type": "stream",
          "name": "stdout",
          "text": [
            "Validation acc: 0.9766\n",
            "\n",
            "Start of epoch 388\n",
            "Training loss: 0.0002\n",
            "Training metric: 0.9690\n",
            "perturbation loss: 0.0006\n"
          ]
        },
        {
          "output_type": "stream",
          "name": "stderr",
          "text": [
            "\r 39%|███▉      | 389/1000 [11:24<16:47,  1.65s/it]"
          ]
        },
        {
          "output_type": "stream",
          "name": "stdout",
          "text": [
            "Validation acc: 0.9453\n",
            "\n",
            "Start of epoch 389\n",
            "Training loss: 0.0004\n",
            "Training metric: 0.9691\n",
            "perturbation loss: 0.0017\n"
          ]
        },
        {
          "output_type": "stream",
          "name": "stderr",
          "text": [
            "\r 39%|███▉      | 390/1000 [11:26<16:23,  1.61s/it]"
          ]
        },
        {
          "output_type": "stream",
          "name": "stdout",
          "text": [
            "Validation acc: 0.9609\n",
            "\n",
            "Start of epoch 390\n",
            "Training loss: 0.0000\n",
            "Training metric: 0.9691\n",
            "perturbation loss: 0.0003\n"
          ]
        },
        {
          "output_type": "stream",
          "name": "stderr",
          "text": [
            "\r 39%|███▉      | 391/1000 [11:27<16:20,  1.61s/it]"
          ]
        },
        {
          "output_type": "stream",
          "name": "stdout",
          "text": [
            "Validation acc: 0.9609\n",
            "\n",
            "Start of epoch 391\n",
            "Training loss: 0.0000\n",
            "Training metric: 0.9692\n",
            "perturbation loss: 0.0004\n"
          ]
        },
        {
          "output_type": "stream",
          "name": "stderr",
          "text": [
            "\r 39%|███▉      | 392/1000 [11:30<18:05,  1.79s/it]"
          ]
        },
        {
          "output_type": "stream",
          "name": "stdout",
          "text": [
            "Validation acc: 0.9688\n",
            "\n",
            "Start of epoch 392\n",
            "Training loss: 0.0000\n",
            "Training metric: 0.9693\n",
            "perturbation loss: 0.0001\n"
          ]
        },
        {
          "output_type": "stream",
          "name": "stderr",
          "text": [
            "\r 39%|███▉      | 393/1000 [11:32<19:57,  1.97s/it]"
          ]
        },
        {
          "output_type": "stream",
          "name": "stdout",
          "text": [
            "Validation acc: 0.9688\n",
            "\n",
            "Start of epoch 393\n",
            "Training loss: 0.0001\n",
            "Training metric: 0.9694\n",
            "perturbation loss: 0.0004\n"
          ]
        },
        {
          "output_type": "stream",
          "name": "stderr",
          "text": [
            "\r 39%|███▉      | 394/1000 [11:34<18:46,  1.86s/it]"
          ]
        },
        {
          "output_type": "stream",
          "name": "stdout",
          "text": [
            "Validation acc: 0.9688\n",
            "\n",
            "Start of epoch 394\n",
            "Training loss: 0.0000\n",
            "Training metric: 0.9695\n",
            "perturbation loss: 0.0003\n"
          ]
        },
        {
          "output_type": "stream",
          "name": "stderr",
          "text": [
            "\r 40%|███▉      | 395/1000 [11:35<17:51,  1.77s/it]"
          ]
        },
        {
          "output_type": "stream",
          "name": "stdout",
          "text": [
            "Validation acc: 0.9688\n",
            "\n",
            "Start of epoch 395\n",
            "Training loss: 0.0001\n",
            "Training metric: 0.9695\n",
            "perturbation loss: 0.0001\n"
          ]
        },
        {
          "output_type": "stream",
          "name": "stderr",
          "text": [
            "\r 40%|███▉      | 396/1000 [11:37<17:07,  1.70s/it]"
          ]
        },
        {
          "output_type": "stream",
          "name": "stdout",
          "text": [
            "Validation acc: 0.9688\n",
            "\n",
            "Start of epoch 396\n",
            "Training loss: 0.0001\n",
            "Training metric: 0.9696\n",
            "perturbation loss: 0.0005\n"
          ]
        },
        {
          "output_type": "stream",
          "name": "stderr",
          "text": [
            "\r 40%|███▉      | 397/1000 [11:38<16:45,  1.67s/it]"
          ]
        },
        {
          "output_type": "stream",
          "name": "stdout",
          "text": [
            "Validation acc: 0.9766\n",
            "\n",
            "Start of epoch 397\n",
            "Training loss: 0.0006\n",
            "Training metric: 0.9697\n",
            "perturbation loss: 0.0101\n"
          ]
        },
        {
          "output_type": "stream",
          "name": "stderr",
          "text": [
            "\r 40%|███▉      | 398/1000 [11:40<16:26,  1.64s/it]"
          ]
        },
        {
          "output_type": "stream",
          "name": "stdout",
          "text": [
            "Validation acc: 0.9453\n",
            "\n",
            "Start of epoch 398\n",
            "Training loss: 0.0124\n",
            "Training metric: 0.9698\n",
            "perturbation loss: 0.0438\n"
          ]
        },
        {
          "output_type": "stream",
          "name": "stderr",
          "text": [
            "\r 40%|███▉      | 399/1000 [11:41<16:12,  1.62s/it]"
          ]
        },
        {
          "output_type": "stream",
          "name": "stdout",
          "text": [
            "Validation acc: 0.9609\n",
            "\n",
            "Start of epoch 399\n",
            "Training loss: 0.0005\n",
            "Training metric: 0.9698\n",
            "perturbation loss: 0.0094\n"
          ]
        },
        {
          "output_type": "stream",
          "name": "stderr",
          "text": [
            "\r 40%|████      | 400/1000 [11:43<17:14,  1.72s/it]"
          ]
        },
        {
          "output_type": "stream",
          "name": "stdout",
          "text": [
            "Validation acc: 0.9766\n",
            "\n",
            "Start of epoch 400\n",
            "Training loss: 0.0038\n",
            "Training metric: 0.9699\n",
            "perturbation loss: 0.0074\n"
          ]
        },
        {
          "output_type": "stream",
          "name": "stderr",
          "text": [
            "\r 40%|████      | 401/1000 [11:45<18:20,  1.84s/it]"
          ]
        },
        {
          "output_type": "stream",
          "name": "stdout",
          "text": [
            "Validation acc: 0.9766\n",
            "\n",
            "Start of epoch 401\n",
            "Training loss: 0.0001\n",
            "Training metric: 0.9700\n",
            "perturbation loss: 0.0024\n"
          ]
        },
        {
          "output_type": "stream",
          "name": "stderr",
          "text": [
            "\r 40%|████      | 402/1000 [11:47<17:34,  1.76s/it]"
          ]
        },
        {
          "output_type": "stream",
          "name": "stdout",
          "text": [
            "Validation acc: 0.9531\n",
            "\n",
            "Start of epoch 402\n",
            "Training loss: 0.0007\n",
            "Training metric: 0.9700\n",
            "perturbation loss: 0.0009\n"
          ]
        },
        {
          "output_type": "stream",
          "name": "stderr",
          "text": [
            "\r 40%|████      | 403/1000 [11:49<16:56,  1.70s/it]"
          ]
        },
        {
          "output_type": "stream",
          "name": "stdout",
          "text": [
            "Validation acc: 0.9609\n",
            "\n",
            "Start of epoch 403\n",
            "Training loss: 0.0030\n",
            "Training metric: 0.9701\n",
            "perturbation loss: 0.0075\n"
          ]
        },
        {
          "output_type": "stream",
          "name": "stderr",
          "text": [
            "\r 40%|████      | 404/1000 [11:50<16:29,  1.66s/it]"
          ]
        },
        {
          "output_type": "stream",
          "name": "stdout",
          "text": [
            "Validation acc: 0.9609\n",
            "\n",
            "Start of epoch 404\n",
            "Training loss: 0.0002\n",
            "Training metric: 0.9702\n",
            "perturbation loss: 0.0029\n"
          ]
        },
        {
          "output_type": "stream",
          "name": "stderr",
          "text": [
            "\r 40%|████      | 405/1000 [11:52<16:09,  1.63s/it]"
          ]
        },
        {
          "output_type": "stream",
          "name": "stdout",
          "text": [
            "Validation acc: 0.9609\n",
            "\n",
            "Start of epoch 405\n",
            "Training loss: 0.0002\n",
            "Training metric: 0.9703\n",
            "perturbation loss: 0.0023\n"
          ]
        },
        {
          "output_type": "stream",
          "name": "stderr",
          "text": [
            "\r 41%|████      | 406/1000 [11:53<15:53,  1.61s/it]"
          ]
        },
        {
          "output_type": "stream",
          "name": "stdout",
          "text": [
            "Validation acc: 0.9297\n",
            "\n",
            "Start of epoch 406\n",
            "Training loss: 0.0007\n",
            "Training metric: 0.9703\n",
            "perturbation loss: 0.0027\n"
          ]
        },
        {
          "output_type": "stream",
          "name": "stderr",
          "text": [
            "\r 41%|████      | 407/1000 [11:55<15:42,  1.59s/it]"
          ]
        },
        {
          "output_type": "stream",
          "name": "stdout",
          "text": [
            "Validation acc: 0.9453\n",
            "\n",
            "Start of epoch 407\n",
            "Training loss: 0.0001\n",
            "Training metric: 0.9704\n",
            "perturbation loss: 0.0018\n"
          ]
        },
        {
          "output_type": "stream",
          "name": "stderr",
          "text": [
            "\r 41%|████      | 408/1000 [11:57<16:25,  1.67s/it]"
          ]
        },
        {
          "output_type": "stream",
          "name": "stdout",
          "text": [
            "Validation acc: 0.9531\n",
            "\n",
            "Start of epoch 408\n",
            "Training loss: 0.0003\n",
            "Training metric: 0.9705\n",
            "perturbation loss: 0.0006\n"
          ]
        },
        {
          "output_type": "stream",
          "name": "stderr",
          "text": [
            "\r 41%|████      | 409/1000 [11:59<17:36,  1.79s/it]"
          ]
        },
        {
          "output_type": "stream",
          "name": "stdout",
          "text": [
            "Validation acc: 0.9609\n",
            "\n",
            "Start of epoch 409\n",
            "Training loss: 0.0003\n",
            "Training metric: 0.9705\n",
            "perturbation loss: 0.0041\n"
          ]
        },
        {
          "output_type": "stream",
          "name": "stderr",
          "text": [
            "\r 41%|████      | 410/1000 [12:01<17:42,  1.80s/it]"
          ]
        },
        {
          "output_type": "stream",
          "name": "stdout",
          "text": [
            "Validation acc: 0.9609\n",
            "\n",
            "Start of epoch 410\n",
            "Training loss: 0.0003\n",
            "Training metric: 0.9706\n",
            "perturbation loss: 0.0043\n"
          ]
        },
        {
          "output_type": "stream",
          "name": "stderr",
          "text": [
            "\r 41%|████      | 411/1000 [12:02<17:05,  1.74s/it]"
          ]
        },
        {
          "output_type": "stream",
          "name": "stdout",
          "text": [
            "Validation acc: 0.9609\n",
            "\n",
            "Start of epoch 411\n",
            "Training loss: 0.0000\n",
            "Training metric: 0.9707\n",
            "perturbation loss: 0.0003\n"
          ]
        },
        {
          "output_type": "stream",
          "name": "stderr",
          "text": [
            "\r 41%|████      | 412/1000 [12:04<16:29,  1.68s/it]"
          ]
        },
        {
          "output_type": "stream",
          "name": "stdout",
          "text": [
            "Validation acc: 0.9766\n",
            "\n",
            "Start of epoch 412\n",
            "Training loss: 0.0000\n",
            "Training metric: 0.9708\n",
            "perturbation loss: 0.0008\n"
          ]
        },
        {
          "output_type": "stream",
          "name": "stderr",
          "text": [
            "\r 41%|████▏     | 413/1000 [12:05<16:07,  1.65s/it]"
          ]
        },
        {
          "output_type": "stream",
          "name": "stdout",
          "text": [
            "Validation acc: 0.9766\n",
            "\n",
            "Start of epoch 413\n",
            "Training loss: 0.0000\n",
            "Training metric: 0.9708\n",
            "perturbation loss: 0.0003\n"
          ]
        },
        {
          "output_type": "stream",
          "name": "stderr",
          "text": [
            "\r 41%|████▏     | 414/1000 [12:07<15:55,  1.63s/it]"
          ]
        },
        {
          "output_type": "stream",
          "name": "stdout",
          "text": [
            "Validation acc: 0.9688\n",
            "\n",
            "Start of epoch 414\n",
            "Training loss: 0.0001\n",
            "Training metric: 0.9709\n",
            "perturbation loss: 0.0006\n"
          ]
        },
        {
          "output_type": "stream",
          "name": "stderr",
          "text": [
            "\r 42%|████▏     | 415/1000 [12:08<15:41,  1.61s/it]"
          ]
        },
        {
          "output_type": "stream",
          "name": "stdout",
          "text": [
            "Validation acc: 0.9766\n",
            "\n",
            "Start of epoch 415\n",
            "Training loss: 0.0003\n",
            "Training metric: 0.9710\n",
            "perturbation loss: 0.0005\n"
          ]
        },
        {
          "output_type": "stream",
          "name": "stderr",
          "text": [
            "\r 42%|████▏     | 416/1000 [12:10<16:56,  1.74s/it]"
          ]
        },
        {
          "output_type": "stream",
          "name": "stdout",
          "text": [
            "Validation acc: 0.9844\n",
            "\n",
            "Start of epoch 416\n",
            "Training loss: 0.0000\n",
            "Training metric: 0.9710\n",
            "perturbation loss: 0.0001\n"
          ]
        },
        {
          "output_type": "stream",
          "name": "stderr",
          "text": [
            "\r 42%|████▏     | 417/1000 [12:13<17:59,  1.85s/it]"
          ]
        },
        {
          "output_type": "stream",
          "name": "stdout",
          "text": [
            "Validation acc: 0.9766\n",
            "\n",
            "Start of epoch 417\n",
            "Training loss: 0.0000\n",
            "Training metric: 0.9711\n",
            "perturbation loss: 0.0001\n"
          ]
        },
        {
          "output_type": "stream",
          "name": "stderr",
          "text": [
            "\r 42%|████▏     | 418/1000 [12:14<17:53,  1.84s/it]"
          ]
        },
        {
          "output_type": "stream",
          "name": "stdout",
          "text": [
            "Validation acc: 0.9688\n",
            "\n",
            "Start of epoch 418\n",
            "Training loss: 0.0000\n",
            "Training metric: 0.9712\n",
            "perturbation loss: 0.0002\n"
          ]
        },
        {
          "output_type": "stream",
          "name": "stderr",
          "text": [
            "\r 42%|████▏     | 419/1000 [12:16<17:03,  1.76s/it]"
          ]
        },
        {
          "output_type": "stream",
          "name": "stdout",
          "text": [
            "Validation acc: 0.9609\n",
            "\n",
            "Start of epoch 419\n",
            "Training loss: 0.0000\n",
            "Training metric: 0.9712\n",
            "perturbation loss: 0.0000\n"
          ]
        },
        {
          "output_type": "stream",
          "name": "stderr",
          "text": [
            "\r 42%|████▏     | 420/1000 [12:18<16:28,  1.70s/it]"
          ]
        },
        {
          "output_type": "stream",
          "name": "stdout",
          "text": [
            "Validation acc: 0.9844\n",
            "\n",
            "Start of epoch 420\n",
            "Training loss: 0.0000\n",
            "Training metric: 0.9713\n",
            "perturbation loss: 0.0000\n"
          ]
        },
        {
          "output_type": "stream",
          "name": "stderr",
          "text": [
            "\r 42%|████▏     | 421/1000 [12:19<16:03,  1.66s/it]"
          ]
        },
        {
          "output_type": "stream",
          "name": "stdout",
          "text": [
            "Validation acc: 0.9609\n",
            "\n",
            "Start of epoch 421\n",
            "Training loss: 0.0001\n",
            "Training metric: 0.9714\n",
            "perturbation loss: 0.0011\n"
          ]
        },
        {
          "output_type": "stream",
          "name": "stderr",
          "text": [
            "\r 42%|████▏     | 422/1000 [12:21<15:47,  1.64s/it]"
          ]
        },
        {
          "output_type": "stream",
          "name": "stdout",
          "text": [
            "Validation acc: 0.9688\n",
            "\n",
            "Start of epoch 422\n",
            "Training loss: 0.0000\n",
            "Training metric: 0.9715\n",
            "perturbation loss: 0.0002\n"
          ]
        },
        {
          "output_type": "stream",
          "name": "stderr",
          "text": [
            "\r 42%|████▏     | 423/1000 [12:22<15:37,  1.62s/it]"
          ]
        },
        {
          "output_type": "stream",
          "name": "stdout",
          "text": [
            "Validation acc: 0.9688\n",
            "\n",
            "Start of epoch 423\n",
            "Training loss: 0.0000\n",
            "Training metric: 0.9715\n",
            "perturbation loss: 0.0000\n"
          ]
        },
        {
          "output_type": "stream",
          "name": "stderr",
          "text": [
            "\r 42%|████▏     | 424/1000 [12:24<16:49,  1.75s/it]"
          ]
        },
        {
          "output_type": "stream",
          "name": "stdout",
          "text": [
            "Validation acc: 0.9688\n",
            "\n",
            "Start of epoch 424\n",
            "Training loss: 0.0000\n",
            "Training metric: 0.9716\n",
            "perturbation loss: 0.0000\n"
          ]
        },
        {
          "output_type": "stream",
          "name": "stderr",
          "text": [
            "\r 42%|████▎     | 425/1000 [12:27<17:54,  1.87s/it]"
          ]
        },
        {
          "output_type": "stream",
          "name": "stdout",
          "text": [
            "Validation acc: 0.9531\n",
            "\n",
            "Start of epoch 425\n",
            "Training loss: 0.0000\n",
            "Training metric: 0.9717\n",
            "perturbation loss: 0.0000\n"
          ]
        },
        {
          "output_type": "stream",
          "name": "stderr",
          "text": [
            "\r 43%|████▎     | 426/1000 [12:28<17:32,  1.83s/it]"
          ]
        },
        {
          "output_type": "stream",
          "name": "stdout",
          "text": [
            "Validation acc: 0.9766\n",
            "\n",
            "Start of epoch 426\n",
            "Training loss: 0.0000\n",
            "Training metric: 0.9717\n",
            "perturbation loss: 0.0000\n"
          ]
        },
        {
          "output_type": "stream",
          "name": "stderr",
          "text": [
            "\r 43%|████▎     | 427/1000 [12:30<16:42,  1.75s/it]"
          ]
        },
        {
          "output_type": "stream",
          "name": "stdout",
          "text": [
            "Validation acc: 0.9766\n",
            "\n",
            "Start of epoch 427\n",
            "Training loss: 0.0000\n",
            "Training metric: 0.9718\n",
            "perturbation loss: 0.0000\n"
          ]
        },
        {
          "output_type": "stream",
          "name": "stderr",
          "text": [
            "\r 43%|████▎     | 428/1000 [12:31<16:10,  1.70s/it]"
          ]
        },
        {
          "output_type": "stream",
          "name": "stdout",
          "text": [
            "Validation acc: 0.9688\n",
            "\n",
            "Start of epoch 428\n",
            "Training loss: 0.0000\n",
            "Training metric: 0.9719\n",
            "perturbation loss: 0.0000\n"
          ]
        },
        {
          "output_type": "stream",
          "name": "stderr",
          "text": [
            "\r 43%|████▎     | 429/1000 [12:33<15:48,  1.66s/it]"
          ]
        },
        {
          "output_type": "stream",
          "name": "stdout",
          "text": [
            "Validation acc: 0.9766\n",
            "\n",
            "Start of epoch 429\n",
            "Training loss: 0.0000\n",
            "Training metric: 0.9719\n",
            "perturbation loss: 0.0001\n"
          ]
        },
        {
          "output_type": "stream",
          "name": "stderr",
          "text": [
            "\r 43%|████▎     | 430/1000 [12:35<15:32,  1.64s/it]"
          ]
        },
        {
          "output_type": "stream",
          "name": "stdout",
          "text": [
            "Validation acc: 0.9688\n",
            "\n",
            "Start of epoch 430\n",
            "Training loss: 0.0000\n",
            "Training metric: 0.9720\n",
            "perturbation loss: 0.0000\n"
          ]
        },
        {
          "output_type": "stream",
          "name": "stderr",
          "text": [
            "\r 43%|████▎     | 431/1000 [12:36<15:20,  1.62s/it]"
          ]
        },
        {
          "output_type": "stream",
          "name": "stdout",
          "text": [
            "Validation acc: 0.9609\n",
            "\n",
            "Start of epoch 431\n",
            "Training loss: 0.0000\n",
            "Training metric: 0.9720\n",
            "perturbation loss: 0.0000\n"
          ]
        },
        {
          "output_type": "stream",
          "name": "stderr",
          "text": [
            "\r 43%|████▎     | 432/1000 [12:38<15:32,  1.64s/it]"
          ]
        },
        {
          "output_type": "stream",
          "name": "stdout",
          "text": [
            "Validation acc: 0.9688\n",
            "\n",
            "Start of epoch 432\n",
            "Training loss: 0.0002\n",
            "Training metric: 0.9721\n",
            "perturbation loss: 0.0038\n"
          ]
        },
        {
          "output_type": "stream",
          "name": "stderr",
          "text": [
            "\r 43%|████▎     | 433/1000 [12:40<17:29,  1.85s/it]"
          ]
        },
        {
          "output_type": "stream",
          "name": "stdout",
          "text": [
            "Validation acc: 0.9453\n",
            "\n",
            "Start of epoch 433\n",
            "Training loss: 0.0004\n",
            "Training metric: 0.9722\n",
            "perturbation loss: 0.0061\n"
          ]
        },
        {
          "output_type": "stream",
          "name": "stderr",
          "text": [
            "\r 43%|████▎     | 434/1000 [12:42<17:17,  1.83s/it]"
          ]
        },
        {
          "output_type": "stream",
          "name": "stdout",
          "text": [
            "Validation acc: 0.9141\n",
            "\n",
            "Start of epoch 434\n",
            "Training loss: 0.0000\n",
            "Training metric: 0.9722\n",
            "perturbation loss: 0.0003\n"
          ]
        },
        {
          "output_type": "stream",
          "name": "stderr",
          "text": [
            "\r 44%|████▎     | 435/1000 [12:44<16:44,  1.78s/it]"
          ]
        },
        {
          "output_type": "stream",
          "name": "stdout",
          "text": [
            "Validation acc: 0.9453\n",
            "\n",
            "Start of epoch 435\n",
            "Training loss: 0.0001\n",
            "Training metric: 0.9723\n",
            "perturbation loss: 0.0025\n"
          ]
        },
        {
          "output_type": "stream",
          "name": "stderr",
          "text": [
            "\r 44%|████▎     | 436/1000 [12:45<16:10,  1.72s/it]"
          ]
        },
        {
          "output_type": "stream",
          "name": "stdout",
          "text": [
            "Validation acc: 0.9766\n",
            "\n",
            "Start of epoch 436\n",
            "Training loss: 0.0001\n",
            "Training metric: 0.9724\n",
            "perturbation loss: 0.0006\n"
          ]
        },
        {
          "output_type": "stream",
          "name": "stderr",
          "text": [
            "\r 44%|████▎     | 437/1000 [12:47<15:39,  1.67s/it]"
          ]
        },
        {
          "output_type": "stream",
          "name": "stdout",
          "text": [
            "Validation acc: 0.9766\n",
            "\n",
            "Start of epoch 437\n",
            "Training loss: 0.0000\n",
            "Training metric: 0.9724\n",
            "perturbation loss: 0.0005\n"
          ]
        },
        {
          "output_type": "stream",
          "name": "stderr",
          "text": [
            "\r 44%|████▍     | 438/1000 [12:48<15:20,  1.64s/it]"
          ]
        },
        {
          "output_type": "stream",
          "name": "stdout",
          "text": [
            "Validation acc: 0.9766\n",
            "\n",
            "Start of epoch 438\n",
            "Training loss: 0.0000\n",
            "Training metric: 0.9725\n",
            "perturbation loss: 0.0001\n"
          ]
        },
        {
          "output_type": "stream",
          "name": "stderr",
          "text": [
            "\r 44%|████▍     | 439/1000 [12:50<15:08,  1.62s/it]"
          ]
        },
        {
          "output_type": "stream",
          "name": "stdout",
          "text": [
            "Validation acc: 0.9766\n",
            "\n",
            "Start of epoch 439\n",
            "Training loss: 0.0000\n",
            "Training metric: 0.9725\n",
            "perturbation loss: 0.0001\n"
          ]
        },
        {
          "output_type": "stream",
          "name": "stderr",
          "text": [
            "\r 44%|████▍     | 440/1000 [12:52<15:22,  1.65s/it]"
          ]
        },
        {
          "output_type": "stream",
          "name": "stdout",
          "text": [
            "Validation acc: 0.9766\n",
            "\n",
            "Start of epoch 440\n",
            "Training loss: 0.0001\n",
            "Training metric: 0.9726\n",
            "perturbation loss: 0.0007\n"
          ]
        },
        {
          "output_type": "stream",
          "name": "stderr",
          "text": [
            "\r 44%|████▍     | 441/1000 [12:54<17:26,  1.87s/it]"
          ]
        },
        {
          "output_type": "stream",
          "name": "stdout",
          "text": [
            "Validation acc: 0.9766\n",
            "\n",
            "Start of epoch 441\n",
            "Training loss: 0.0001\n",
            "Training metric: 0.9727\n",
            "perturbation loss: 0.0007\n"
          ]
        },
        {
          "output_type": "stream",
          "name": "stderr",
          "text": [
            "\r 44%|████▍     | 442/1000 [12:56<17:23,  1.87s/it]"
          ]
        },
        {
          "output_type": "stream",
          "name": "stdout",
          "text": [
            "Validation acc: 0.9766\n",
            "\n",
            "Start of epoch 442\n",
            "Training loss: 0.0000\n",
            "Training metric: 0.9727\n",
            "perturbation loss: 0.0001\n"
          ]
        },
        {
          "output_type": "stream",
          "name": "stderr",
          "text": [
            "\r 44%|████▍     | 443/1000 [12:57<16:35,  1.79s/it]"
          ]
        },
        {
          "output_type": "stream",
          "name": "stdout",
          "text": [
            "Validation acc: 0.9844\n",
            "\n",
            "Start of epoch 443\n",
            "Training loss: 0.0000\n",
            "Training metric: 0.9728\n",
            "perturbation loss: 0.0001\n"
          ]
        },
        {
          "output_type": "stream",
          "name": "stderr",
          "text": [
            "\r 44%|████▍     | 444/1000 [12:59<15:57,  1.72s/it]"
          ]
        },
        {
          "output_type": "stream",
          "name": "stdout",
          "text": [
            "Validation acc: 0.9844\n",
            "\n",
            "Start of epoch 444\n",
            "Training loss: 0.0000\n",
            "Training metric: 0.9729\n",
            "perturbation loss: 0.0000\n"
          ]
        },
        {
          "output_type": "stream",
          "name": "stderr",
          "text": [
            "\r 44%|████▍     | 445/1000 [13:01<15:41,  1.70s/it]"
          ]
        },
        {
          "output_type": "stream",
          "name": "stdout",
          "text": [
            "Validation acc: 0.9766\n",
            "\n",
            "Start of epoch 445\n",
            "Training loss: 0.0000\n",
            "Training metric: 0.9729\n",
            "perturbation loss: 0.0003\n"
          ]
        },
        {
          "output_type": "stream",
          "name": "stderr",
          "text": [
            "\r 45%|████▍     | 446/1000 [13:02<15:22,  1.66s/it]"
          ]
        },
        {
          "output_type": "stream",
          "name": "stdout",
          "text": [
            "Validation acc: 0.9609\n",
            "\n",
            "Start of epoch 446\n",
            "Training loss: 0.0000\n",
            "Training metric: 0.9730\n",
            "perturbation loss: 0.0001\n"
          ]
        },
        {
          "output_type": "stream",
          "name": "stderr",
          "text": [
            "\r 45%|████▍     | 447/1000 [13:04<15:06,  1.64s/it]"
          ]
        },
        {
          "output_type": "stream",
          "name": "stdout",
          "text": [
            "Validation acc: 0.9766\n",
            "\n",
            "Start of epoch 447\n",
            "Training loss: 0.0000\n",
            "Training metric: 0.9730\n",
            "perturbation loss: 0.0001\n"
          ]
        },
        {
          "output_type": "stream",
          "name": "stderr",
          "text": [
            "\r 45%|████▍     | 448/1000 [13:06<16:18,  1.77s/it]"
          ]
        },
        {
          "output_type": "stream",
          "name": "stdout",
          "text": [
            "Validation acc: 0.9688\n",
            "\n",
            "Start of epoch 448\n",
            "Training loss: 0.0000\n",
            "Training metric: 0.9731\n",
            "perturbation loss: 0.0000\n"
          ]
        },
        {
          "output_type": "stream",
          "name": "stderr",
          "text": [
            "\r 45%|████▍     | 449/1000 [13:09<19:05,  2.08s/it]"
          ]
        },
        {
          "output_type": "stream",
          "name": "stdout",
          "text": [
            "Validation acc: 0.9766\n",
            "\n",
            "Start of epoch 449\n",
            "Training loss: 0.0000\n",
            "Training metric: 0.9732\n",
            "perturbation loss: 0.0001\n"
          ]
        },
        {
          "output_type": "stream",
          "name": "stderr",
          "text": [
            "\r 45%|████▌     | 450/1000 [13:10<17:40,  1.93s/it]"
          ]
        },
        {
          "output_type": "stream",
          "name": "stdout",
          "text": [
            "Validation acc: 0.9609\n",
            "\n",
            "Start of epoch 450\n",
            "Training loss: 0.0945\n",
            "Training metric: 0.9732\n",
            "perturbation loss: 0.0500\n"
          ]
        },
        {
          "output_type": "stream",
          "name": "stderr",
          "text": [
            "\r 45%|████▌     | 451/1000 [13:12<16:33,  1.81s/it]"
          ]
        },
        {
          "output_type": "stream",
          "name": "stdout",
          "text": [
            "Validation acc: 0.9688\n",
            "\n",
            "Start of epoch 451\n",
            "Training loss: 0.0002\n",
            "Training metric: 0.9733\n",
            "perturbation loss: 0.0065\n"
          ]
        },
        {
          "output_type": "stream",
          "name": "stderr",
          "text": [
            "\r 45%|████▌     | 452/1000 [13:13<15:51,  1.74s/it]"
          ]
        },
        {
          "output_type": "stream",
          "name": "stdout",
          "text": [
            "Validation acc: 0.9609\n",
            "\n",
            "Start of epoch 452\n",
            "Training loss: 0.0380\n",
            "Training metric: 0.9733\n",
            "perturbation loss: 0.0488\n"
          ]
        },
        {
          "output_type": "stream",
          "name": "stderr",
          "text": [
            "\r 45%|████▌     | 453/1000 [13:15<15:33,  1.71s/it]"
          ]
        },
        {
          "output_type": "stream",
          "name": "stdout",
          "text": [
            "Validation acc: 0.9688\n",
            "\n",
            "Start of epoch 453\n",
            "Training loss: 0.0001\n",
            "Training metric: 0.9734\n",
            "perturbation loss: 0.0021\n"
          ]
        },
        {
          "output_type": "stream",
          "name": "stderr",
          "text": [
            "\r 45%|████▌     | 454/1000 [13:17<15:21,  1.69s/it]"
          ]
        },
        {
          "output_type": "stream",
          "name": "stdout",
          "text": [
            "Validation acc: 0.9609\n",
            "\n",
            "Start of epoch 454\n",
            "Training loss: 0.0006\n",
            "Training metric: 0.9734\n",
            "perturbation loss: 0.0032\n"
          ]
        },
        {
          "output_type": "stream",
          "name": "stderr",
          "text": [
            "\r 46%|████▌     | 455/1000 [13:18<15:02,  1.66s/it]"
          ]
        },
        {
          "output_type": "stream",
          "name": "stdout",
          "text": [
            "Validation acc: 0.9375\n",
            "\n",
            "Start of epoch 455\n",
            "Training loss: 0.0271\n",
            "Training metric: 0.9735\n",
            "perturbation loss: 0.0682\n"
          ]
        },
        {
          "output_type": "stream",
          "name": "stderr",
          "text": [
            "\r 46%|████▌     | 456/1000 [13:21<16:50,  1.86s/it]"
          ]
        },
        {
          "output_type": "stream",
          "name": "stdout",
          "text": [
            "Validation acc: 0.9375\n",
            "\n",
            "Start of epoch 456\n",
            "Training loss: 0.0000\n",
            "Training metric: 0.9735\n",
            "perturbation loss: 0.0001\n"
          ]
        },
        {
          "output_type": "stream",
          "name": "stderr",
          "text": [
            "\r 46%|████▌     | 457/1000 [13:23<17:05,  1.89s/it]"
          ]
        },
        {
          "output_type": "stream",
          "name": "stdout",
          "text": [
            "Validation acc: 0.9766\n",
            "\n",
            "Start of epoch 457\n",
            "Training loss: 0.0000\n",
            "Training metric: 0.9736\n",
            "perturbation loss: 0.0000\n"
          ]
        },
        {
          "output_type": "stream",
          "name": "stderr",
          "text": [
            "\r 46%|████▌     | 458/1000 [13:24<16:12,  1.79s/it]"
          ]
        },
        {
          "output_type": "stream",
          "name": "stdout",
          "text": [
            "Validation acc: 0.9766\n",
            "\n",
            "Start of epoch 458\n",
            "Training loss: 0.0000\n",
            "Training metric: 0.9737\n",
            "perturbation loss: 0.0001\n"
          ]
        },
        {
          "output_type": "stream",
          "name": "stderr",
          "text": [
            "\r 46%|████▌     | 459/1000 [13:26<15:36,  1.73s/it]"
          ]
        },
        {
          "output_type": "stream",
          "name": "stdout",
          "text": [
            "Validation acc: 0.9688\n",
            "\n",
            "Start of epoch 459\n",
            "Training loss: 0.0001\n",
            "Training metric: 0.9737\n",
            "perturbation loss: 0.0007\n"
          ]
        },
        {
          "output_type": "stream",
          "name": "stderr",
          "text": [
            "\r 46%|████▌     | 460/1000 [13:27<15:11,  1.69s/it]"
          ]
        },
        {
          "output_type": "stream",
          "name": "stdout",
          "text": [
            "Validation acc: 0.9688\n",
            "\n",
            "Start of epoch 460\n",
            "Training loss: 0.0000\n",
            "Training metric: 0.9738\n",
            "perturbation loss: 0.0004\n"
          ]
        },
        {
          "output_type": "stream",
          "name": "stderr",
          "text": [
            "\r 46%|████▌     | 461/1000 [13:29<14:52,  1.66s/it]"
          ]
        },
        {
          "output_type": "stream",
          "name": "stdout",
          "text": [
            "Validation acc: 0.9688\n",
            "\n",
            "Start of epoch 461\n",
            "Training loss: 0.0000\n",
            "Training metric: 0.9738\n",
            "perturbation loss: 0.0001\n"
          ]
        },
        {
          "output_type": "stream",
          "name": "stderr",
          "text": [
            "\r 46%|████▌     | 462/1000 [13:30<14:38,  1.63s/it]"
          ]
        },
        {
          "output_type": "stream",
          "name": "stdout",
          "text": [
            "Validation acc: 0.9609\n",
            "\n",
            "Start of epoch 462\n",
            "Training loss: 0.0000\n",
            "Training metric: 0.9739\n",
            "perturbation loss: 0.0008\n"
          ]
        },
        {
          "output_type": "stream",
          "name": "stderr",
          "text": [
            "\r 46%|████▋     | 463/1000 [13:32<14:32,  1.62s/it]"
          ]
        },
        {
          "output_type": "stream",
          "name": "stdout",
          "text": [
            "Validation acc: 0.9609\n",
            "\n",
            "Start of epoch 463\n",
            "Training loss: 0.0000\n",
            "Training metric: 0.9739\n",
            "perturbation loss: 0.0007\n"
          ]
        },
        {
          "output_type": "stream",
          "name": "stderr",
          "text": [
            "\r 46%|████▋     | 464/1000 [13:34<16:40,  1.87s/it]"
          ]
        },
        {
          "output_type": "stream",
          "name": "stdout",
          "text": [
            "Validation acc: 0.9688\n",
            "\n",
            "Start of epoch 464\n",
            "Training loss: 0.0000\n",
            "Training metric: 0.9740\n",
            "perturbation loss: 0.0000\n",
            "Validation acc: 0.9688\n"
          ]
        },
        {
          "output_type": "stream",
          "name": "stderr",
          "text": [
            "\r 46%|████▋     | 465/1000 [13:37<17:31,  1.97s/it]"
          ]
        },
        {
          "output_type": "stream",
          "name": "stdout",
          "text": [
            "\n",
            "Start of epoch 465\n",
            "Training loss: 0.0000\n",
            "Training metric: 0.9741\n",
            "perturbation loss: 0.0000\n"
          ]
        },
        {
          "output_type": "stream",
          "name": "stderr",
          "text": [
            "\r 47%|████▋     | 466/1000 [13:38<16:31,  1.86s/it]"
          ]
        },
        {
          "output_type": "stream",
          "name": "stdout",
          "text": [
            "Validation acc: 0.9766\n",
            "\n",
            "Start of epoch 466\n",
            "Training loss: 0.0000\n",
            "Training metric: 0.9741\n",
            "perturbation loss: 0.0002\n"
          ]
        },
        {
          "output_type": "stream",
          "name": "stderr",
          "text": [
            "\r 47%|████▋     | 467/1000 [13:40<15:47,  1.78s/it]"
          ]
        },
        {
          "output_type": "stream",
          "name": "stdout",
          "text": [
            "Validation acc: 0.9609\n",
            "\n",
            "Start of epoch 467\n",
            "Training loss: 0.0001\n",
            "Training metric: 0.9742\n",
            "perturbation loss: 0.0002\n"
          ]
        },
        {
          "output_type": "stream",
          "name": "stderr",
          "text": [
            "\r 47%|████▋     | 468/1000 [13:41<15:16,  1.72s/it]"
          ]
        },
        {
          "output_type": "stream",
          "name": "stdout",
          "text": [
            "Validation acc: 0.9688\n",
            "\n",
            "Start of epoch 468\n",
            "Training loss: 0.0000\n",
            "Training metric: 0.9742\n",
            "perturbation loss: 0.0000\n"
          ]
        },
        {
          "output_type": "stream",
          "name": "stderr",
          "text": [
            "\r 47%|████▋     | 469/1000 [13:43<14:52,  1.68s/it]"
          ]
        },
        {
          "output_type": "stream",
          "name": "stdout",
          "text": [
            "Validation acc: 0.9766\n",
            "\n",
            "Start of epoch 469\n",
            "Training loss: 0.0005\n",
            "Training metric: 0.9743\n",
            "perturbation loss: 0.0156\n"
          ]
        },
        {
          "output_type": "stream",
          "name": "stderr",
          "text": [
            "\r 47%|████▋     | 470/1000 [13:45<14:30,  1.64s/it]"
          ]
        },
        {
          "output_type": "stream",
          "name": "stdout",
          "text": [
            "Validation acc: 0.9609\n",
            "\n",
            "Start of epoch 470\n",
            "Training loss: 0.0000\n",
            "Training metric: 0.9743\n",
            "perturbation loss: 0.0003\n"
          ]
        },
        {
          "output_type": "stream",
          "name": "stderr",
          "text": [
            "\r 47%|████▋     | 471/1000 [13:47<15:23,  1.75s/it]"
          ]
        },
        {
          "output_type": "stream",
          "name": "stdout",
          "text": [
            "Validation acc: 0.9688\n",
            "\n",
            "Start of epoch 471\n",
            "Training loss: 0.0000\n",
            "Training metric: 0.9744\n",
            "perturbation loss: 0.0000\n"
          ]
        },
        {
          "output_type": "stream",
          "name": "stderr",
          "text": [
            "\r 47%|████▋     | 472/1000 [13:49<16:20,  1.86s/it]"
          ]
        },
        {
          "output_type": "stream",
          "name": "stdout",
          "text": [
            "Validation acc: 0.9766\n",
            "\n",
            "Start of epoch 472\n",
            "Training loss: 0.0000\n",
            "Training metric: 0.9744\n",
            "perturbation loss: 0.0000\n"
          ]
        },
        {
          "output_type": "stream",
          "name": "stderr",
          "text": [
            "\r 47%|████▋     | 473/1000 [13:51<16:13,  1.85s/it]"
          ]
        },
        {
          "output_type": "stream",
          "name": "stdout",
          "text": [
            "Validation acc: 0.9766\n",
            "\n",
            "Start of epoch 473\n",
            "Training loss: 0.0000\n",
            "Training metric: 0.9745\n",
            "perturbation loss: 0.0003\n"
          ]
        },
        {
          "output_type": "stream",
          "name": "stderr",
          "text": [
            "\r 47%|████▋     | 474/1000 [13:52<15:30,  1.77s/it]"
          ]
        },
        {
          "output_type": "stream",
          "name": "stdout",
          "text": [
            "Validation acc: 0.9609\n",
            "\n",
            "Start of epoch 474\n",
            "Training loss: 0.0063\n",
            "Training metric: 0.9745\n",
            "perturbation loss: 0.0149\n"
          ]
        },
        {
          "output_type": "stream",
          "name": "stderr",
          "text": [
            "\r 48%|████▊     | 475/1000 [13:54<14:51,  1.70s/it]"
          ]
        },
        {
          "output_type": "stream",
          "name": "stdout",
          "text": [
            "Validation acc: 0.9375\n",
            "\n",
            "Start of epoch 475\n",
            "Training loss: 0.0000\n",
            "Training metric: 0.9746\n",
            "perturbation loss: 0.0000\n"
          ]
        },
        {
          "output_type": "stream",
          "name": "stderr",
          "text": [
            "\r 48%|████▊     | 476/1000 [13:55<14:32,  1.66s/it]"
          ]
        },
        {
          "output_type": "stream",
          "name": "stdout",
          "text": [
            "Validation acc: 0.9766\n",
            "\n",
            "Start of epoch 476\n",
            "Training loss: 0.0002\n",
            "Training metric: 0.9746\n",
            "perturbation loss: 0.0016\n"
          ]
        },
        {
          "output_type": "stream",
          "name": "stderr",
          "text": [
            "\r 48%|████▊     | 477/1000 [13:57<14:20,  1.65s/it]"
          ]
        },
        {
          "output_type": "stream",
          "name": "stdout",
          "text": [
            "Validation acc: 0.9375\n",
            "\n",
            "Start of epoch 477\n",
            "Training loss: 0.0002\n",
            "Training metric: 0.9747\n",
            "perturbation loss: 0.0045\n"
          ]
        },
        {
          "output_type": "stream",
          "name": "stderr",
          "text": [
            "\r 48%|████▊     | 478/1000 [13:58<14:04,  1.62s/it]"
          ]
        },
        {
          "output_type": "stream",
          "name": "stdout",
          "text": [
            "Validation acc: 0.9609\n",
            "\n",
            "Start of epoch 478\n",
            "Training loss: 0.0001\n",
            "Training metric: 0.9747\n",
            "perturbation loss: 0.0003\n"
          ]
        },
        {
          "output_type": "stream",
          "name": "stderr",
          "text": [
            "\r 48%|████▊     | 479/1000 [14:00<14:57,  1.72s/it]"
          ]
        },
        {
          "output_type": "stream",
          "name": "stdout",
          "text": [
            "Validation acc: 0.9688\n",
            "\n",
            "Start of epoch 479\n",
            "Training loss: 0.0001\n",
            "Training metric: 0.9748\n",
            "perturbation loss: 0.0006\n"
          ]
        },
        {
          "output_type": "stream",
          "name": "stderr",
          "text": [
            "\r 48%|████▊     | 480/1000 [14:02<15:51,  1.83s/it]"
          ]
        },
        {
          "output_type": "stream",
          "name": "stdout",
          "text": [
            "Validation acc: 0.9688\n",
            "\n",
            "Start of epoch 480\n",
            "Training loss: 0.0001\n",
            "Training metric: 0.9748\n",
            "perturbation loss: 0.0020\n"
          ]
        },
        {
          "output_type": "stream",
          "name": "stderr",
          "text": [
            "\r 48%|████▊     | 481/1000 [14:04<15:52,  1.84s/it]"
          ]
        },
        {
          "output_type": "stream",
          "name": "stdout",
          "text": [
            "Validation acc: 0.9609\n",
            "\n",
            "Start of epoch 481\n",
            "Training loss: 0.0000\n",
            "Training metric: 0.9749\n",
            "perturbation loss: 0.0002\n"
          ]
        },
        {
          "output_type": "stream",
          "name": "stderr",
          "text": [
            "\r 48%|████▊     | 482/1000 [14:06<15:09,  1.75s/it]"
          ]
        },
        {
          "output_type": "stream",
          "name": "stdout",
          "text": [
            "Validation acc: 0.9688\n",
            "\n",
            "Start of epoch 482\n",
            "Training loss: 0.0001\n",
            "Training metric: 0.9750\n",
            "perturbation loss: 0.0004\n"
          ]
        },
        {
          "output_type": "stream",
          "name": "stderr",
          "text": [
            "\r 48%|████▊     | 483/1000 [14:07<14:45,  1.71s/it]"
          ]
        },
        {
          "output_type": "stream",
          "name": "stdout",
          "text": [
            "Validation acc: 0.9766\n",
            "\n",
            "Start of epoch 483\n",
            "Training loss: 0.0000\n",
            "Training metric: 0.9750\n",
            "perturbation loss: 0.0003\n"
          ]
        },
        {
          "output_type": "stream",
          "name": "stderr",
          "text": [
            "\r 48%|████▊     | 484/1000 [14:09<14:19,  1.67s/it]"
          ]
        },
        {
          "output_type": "stream",
          "name": "stdout",
          "text": [
            "Validation acc: 0.9766\n",
            "\n",
            "Start of epoch 484\n",
            "Training loss: 0.0000\n",
            "Training metric: 0.9751\n",
            "perturbation loss: 0.0001\n"
          ]
        },
        {
          "output_type": "stream",
          "name": "stderr",
          "text": [
            "\r 48%|████▊     | 485/1000 [14:11<14:03,  1.64s/it]"
          ]
        },
        {
          "output_type": "stream",
          "name": "stdout",
          "text": [
            "Validation acc: 0.9766\n",
            "\n",
            "Start of epoch 485\n",
            "Training loss: 0.0000\n",
            "Training metric: 0.9751\n",
            "perturbation loss: 0.0007\n"
          ]
        },
        {
          "output_type": "stream",
          "name": "stderr",
          "text": [
            "\r 49%|████▊     | 486/1000 [14:12<13:53,  1.62s/it]"
          ]
        },
        {
          "output_type": "stream",
          "name": "stdout",
          "text": [
            "Validation acc: 0.9688\n",
            "\n",
            "Start of epoch 486\n",
            "Training loss: 0.0000\n",
            "Training metric: 0.9752\n",
            "perturbation loss: 0.0001\n"
          ]
        },
        {
          "output_type": "stream",
          "name": "stderr",
          "text": [
            "\r 49%|████▊     | 487/1000 [14:14<14:44,  1.72s/it]"
          ]
        },
        {
          "output_type": "stream",
          "name": "stdout",
          "text": [
            "Validation acc: 0.9766\n",
            "\n",
            "Start of epoch 487\n",
            "Training loss: 0.0000\n",
            "Training metric: 0.9752\n",
            "perturbation loss: 0.0002\n"
          ]
        },
        {
          "output_type": "stream",
          "name": "stderr",
          "text": [
            "\r 49%|████▉     | 488/1000 [14:16<16:22,  1.92s/it]"
          ]
        },
        {
          "output_type": "stream",
          "name": "stdout",
          "text": [
            "Validation acc: 0.9688\n",
            "\n",
            "Start of epoch 488\n",
            "Training loss: 0.0000\n",
            "Training metric: 0.9753\n",
            "perturbation loss: 0.0000\n"
          ]
        },
        {
          "output_type": "stream",
          "name": "stderr",
          "text": [
            "\r 49%|████▉     | 489/1000 [14:18<16:02,  1.88s/it]"
          ]
        },
        {
          "output_type": "stream",
          "name": "stdout",
          "text": [
            "Validation acc: 0.9688\n",
            "\n",
            "Start of epoch 489\n",
            "Training loss: 0.0000\n",
            "Training metric: 0.9753\n",
            "perturbation loss: 0.0006\n"
          ]
        },
        {
          "output_type": "stream",
          "name": "stderr",
          "text": [
            "\r 49%|████▉     | 490/1000 [14:20<15:14,  1.79s/it]"
          ]
        },
        {
          "output_type": "stream",
          "name": "stdout",
          "text": [
            "Validation acc: 0.9688\n",
            "\n",
            "Start of epoch 490\n",
            "Training loss: 0.0002\n",
            "Training metric: 0.9753\n",
            "perturbation loss: 0.0031\n"
          ]
        },
        {
          "output_type": "stream",
          "name": "stderr",
          "text": [
            "\r 49%|████▉     | 491/1000 [14:21<14:40,  1.73s/it]"
          ]
        },
        {
          "output_type": "stream",
          "name": "stdout",
          "text": [
            "Validation acc: 0.9453\n",
            "\n",
            "Start of epoch 491\n",
            "Training loss: 0.0001\n",
            "Training metric: 0.9754\n",
            "perturbation loss: 0.0009\n"
          ]
        },
        {
          "output_type": "stream",
          "name": "stderr",
          "text": [
            "\r 49%|████▉     | 492/1000 [14:23<14:13,  1.68s/it]"
          ]
        },
        {
          "output_type": "stream",
          "name": "stdout",
          "text": [
            "Validation acc: 0.9531\n",
            "\n",
            "Start of epoch 492\n",
            "Training loss: 0.0000\n",
            "Training metric: 0.9754\n",
            "perturbation loss: 0.0001\n"
          ]
        },
        {
          "output_type": "stream",
          "name": "stderr",
          "text": [
            "\r 49%|████▉     | 493/1000 [14:25<14:03,  1.66s/it]"
          ]
        },
        {
          "output_type": "stream",
          "name": "stdout",
          "text": [
            "Validation acc: 0.9609\n",
            "\n",
            "Start of epoch 493\n",
            "Training loss: 0.0001\n",
            "Training metric: 0.9755\n",
            "perturbation loss: 0.0030\n"
          ]
        },
        {
          "output_type": "stream",
          "name": "stderr",
          "text": [
            "\r 49%|████▉     | 494/1000 [14:26<13:44,  1.63s/it]"
          ]
        },
        {
          "output_type": "stream",
          "name": "stdout",
          "text": [
            "Validation acc: 0.9609\n",
            "\n",
            "Start of epoch 494\n",
            "Training loss: 0.0000\n",
            "Training metric: 0.9755\n",
            "perturbation loss: 0.0001\n"
          ]
        },
        {
          "output_type": "stream",
          "name": "stderr",
          "text": [
            "\r 50%|████▉     | 495/1000 [14:28<13:58,  1.66s/it]"
          ]
        },
        {
          "output_type": "stream",
          "name": "stdout",
          "text": [
            "Validation acc: 0.9531\n",
            "\n",
            "Start of epoch 495\n",
            "Training loss: 0.0000\n",
            "Training metric: 0.9756\n",
            "perturbation loss: 0.0002\n"
          ]
        },
        {
          "output_type": "stream",
          "name": "stderr",
          "text": [
            "\r 50%|████▉     | 496/1000 [14:30<14:53,  1.77s/it]"
          ]
        },
        {
          "output_type": "stream",
          "name": "stdout",
          "text": [
            "Validation acc: 0.9531\n",
            "\n",
            "Start of epoch 496\n",
            "Training loss: 0.0000\n",
            "Training metric: 0.9756\n",
            "perturbation loss: 0.0001\n"
          ]
        },
        {
          "output_type": "stream",
          "name": "stderr",
          "text": [
            "\r 50%|████▉     | 497/1000 [14:32<15:03,  1.80s/it]"
          ]
        },
        {
          "output_type": "stream",
          "name": "stdout",
          "text": [
            "Validation acc: 0.9688\n",
            "\n",
            "Start of epoch 497\n",
            "Training loss: 0.0000\n",
            "Training metric: 0.9757\n",
            "perturbation loss: 0.0001\n"
          ]
        },
        {
          "output_type": "stream",
          "name": "stderr",
          "text": [
            "\r 50%|████▉     | 498/1000 [14:33<14:19,  1.71s/it]"
          ]
        },
        {
          "output_type": "stream",
          "name": "stdout",
          "text": [
            "Validation acc: 0.9531\n",
            "\n",
            "Start of epoch 498\n",
            "Training loss: 0.0001\n",
            "Training metric: 0.9757\n",
            "perturbation loss: 0.0002\n"
          ]
        },
        {
          "output_type": "stream",
          "name": "stderr",
          "text": [
            "\r 50%|████▉     | 499/1000 [14:35<14:02,  1.68s/it]"
          ]
        },
        {
          "output_type": "stream",
          "name": "stdout",
          "text": [
            "Validation acc: 0.9688\n",
            "\n",
            "Start of epoch 499\n",
            "Training loss: 0.0000\n",
            "Training metric: 0.9758\n",
            "perturbation loss: 0.0002\n"
          ]
        },
        {
          "output_type": "stream",
          "name": "stderr",
          "text": [
            "\r 50%|█████     | 500/1000 [14:37<13:55,  1.67s/it]"
          ]
        },
        {
          "output_type": "stream",
          "name": "stdout",
          "text": [
            "Validation acc: 0.9688\n",
            "\n",
            "Start of epoch 500\n",
            "Training loss: 0.0000\n",
            "Training metric: 0.9758\n",
            "perturbation loss: 0.0003\n"
          ]
        },
        {
          "output_type": "stream",
          "name": "stderr",
          "text": [
            "\r 50%|█████     | 501/1000 [14:38<13:47,  1.66s/it]"
          ]
        },
        {
          "output_type": "stream",
          "name": "stdout",
          "text": [
            "Validation acc: 0.9609\n",
            "\n",
            "Start of epoch 501\n",
            "Training loss: 0.0000\n",
            "Training metric: 0.9759\n",
            "perturbation loss: 0.0000\n"
          ]
        },
        {
          "output_type": "stream",
          "name": "stderr",
          "text": [
            "\r 50%|█████     | 502/1000 [14:40<13:36,  1.64s/it]"
          ]
        },
        {
          "output_type": "stream",
          "name": "stdout",
          "text": [
            "Validation acc: 0.9688\n",
            "\n",
            "Start of epoch 502\n",
            "Training loss: 0.0000\n",
            "Training metric: 0.9759\n",
            "perturbation loss: 0.0002\n"
          ]
        },
        {
          "output_type": "stream",
          "name": "stderr",
          "text": [
            "\r 50%|█████     | 503/1000 [14:42<14:48,  1.79s/it]"
          ]
        },
        {
          "output_type": "stream",
          "name": "stdout",
          "text": [
            "Validation acc: 0.9609\n",
            "\n",
            "Start of epoch 503\n",
            "Training loss: 0.0001\n",
            "Training metric: 0.9760\n",
            "perturbation loss: 0.0010\n"
          ]
        },
        {
          "output_type": "stream",
          "name": "stderr",
          "text": [
            "\r 50%|█████     | 504/1000 [14:44<16:26,  1.99s/it]"
          ]
        },
        {
          "output_type": "stream",
          "name": "stdout",
          "text": [
            "Validation acc: 0.9609\n",
            "\n",
            "Start of epoch 504\n",
            "Training loss: 0.0000\n",
            "Training metric: 0.9760\n",
            "perturbation loss: 0.0001\n"
          ]
        },
        {
          "output_type": "stream",
          "name": "stderr",
          "text": [
            "\r 50%|█████     | 505/1000 [14:46<15:36,  1.89s/it]"
          ]
        },
        {
          "output_type": "stream",
          "name": "stdout",
          "text": [
            "Validation acc: 0.9688\n",
            "\n",
            "Start of epoch 505\n",
            "Training loss: 0.0000\n",
            "Training metric: 0.9761\n",
            "perturbation loss: 0.0000\n"
          ]
        },
        {
          "output_type": "stream",
          "name": "stderr",
          "text": [
            "\r 51%|█████     | 506/1000 [14:48<14:52,  1.81s/it]"
          ]
        },
        {
          "output_type": "stream",
          "name": "stdout",
          "text": [
            "Validation acc: 0.9766\n",
            "\n",
            "Start of epoch 506\n",
            "Training loss: 0.0000\n",
            "Training metric: 0.9761\n",
            "perturbation loss: 0.0001\n"
          ]
        },
        {
          "output_type": "stream",
          "name": "stderr",
          "text": [
            "\r 51%|█████     | 507/1000 [14:49<14:24,  1.75s/it]"
          ]
        },
        {
          "output_type": "stream",
          "name": "stdout",
          "text": [
            "Validation acc: 0.9844\n",
            "\n",
            "Start of epoch 507\n",
            "Training loss: 0.0000\n",
            "Training metric: 0.9762\n",
            "perturbation loss: 0.0000\n"
          ]
        },
        {
          "output_type": "stream",
          "name": "stderr",
          "text": [
            "\r 51%|█████     | 508/1000 [14:51<14:06,  1.72s/it]"
          ]
        },
        {
          "output_type": "stream",
          "name": "stdout",
          "text": [
            "Validation acc: 0.9688\n",
            "\n",
            "Start of epoch 508\n",
            "Training loss: 0.0000\n",
            "Training metric: 0.9762\n",
            "perturbation loss: 0.0001\n"
          ]
        },
        {
          "output_type": "stream",
          "name": "stderr",
          "text": [
            "\r 51%|█████     | 509/1000 [14:53<13:54,  1.70s/it]"
          ]
        },
        {
          "output_type": "stream",
          "name": "stdout",
          "text": [
            "Validation acc: 0.9609\n",
            "\n",
            "Start of epoch 509\n",
            "Training loss: 0.0178\n",
            "Training metric: 0.9763\n",
            "perturbation loss: 0.0003\n"
          ]
        },
        {
          "output_type": "stream",
          "name": "stderr",
          "text": [
            "\r 51%|█████     | 510/1000 [14:54<13:42,  1.68s/it]"
          ]
        },
        {
          "output_type": "stream",
          "name": "stdout",
          "text": [
            "Validation acc: 0.9375\n",
            "\n",
            "Start of epoch 510\n",
            "Training loss: 0.0024\n",
            "Training metric: 0.9763\n",
            "perturbation loss: 0.0401\n"
          ]
        },
        {
          "output_type": "stream",
          "name": "stderr",
          "text": [
            "\r 51%|█████     | 511/1000 [14:56<14:29,  1.78s/it]"
          ]
        },
        {
          "output_type": "stream",
          "name": "stdout",
          "text": [
            "Validation acc: 0.9688\n",
            "\n",
            "Start of epoch 511\n",
            "Training loss: 0.0001\n",
            "Training metric: 0.9763\n",
            "perturbation loss: 0.0013\n"
          ]
        },
        {
          "output_type": "stream",
          "name": "stderr",
          "text": [
            "\r 51%|█████     | 512/1000 [14:58<15:16,  1.88s/it]"
          ]
        },
        {
          "output_type": "stream",
          "name": "stdout",
          "text": [
            "Validation acc: 0.9609\n",
            "\n",
            "Start of epoch 512\n",
            "Training loss: 0.0012\n",
            "Training metric: 0.9764\n",
            "perturbation loss: 0.0276\n"
          ]
        },
        {
          "output_type": "stream",
          "name": "stderr",
          "text": [
            "\r 51%|█████▏    | 513/1000 [15:00<14:42,  1.81s/it]"
          ]
        },
        {
          "output_type": "stream",
          "name": "stdout",
          "text": [
            "Validation acc: 0.9688\n",
            "\n",
            "Start of epoch 513\n",
            "Training loss: 0.0001\n",
            "Training metric: 0.9764\n",
            "perturbation loss: 0.0007\n"
          ]
        },
        {
          "output_type": "stream",
          "name": "stderr",
          "text": [
            "\r 51%|█████▏    | 514/1000 [15:02<14:03,  1.74s/it]"
          ]
        },
        {
          "output_type": "stream",
          "name": "stdout",
          "text": [
            "Validation acc: 0.9609\n",
            "\n",
            "Start of epoch 514\n",
            "Training loss: 0.0002\n",
            "Training metric: 0.9765\n",
            "perturbation loss: 0.0003\n"
          ]
        },
        {
          "output_type": "stream",
          "name": "stderr",
          "text": [
            "\r 52%|█████▏    | 515/1000 [15:03<13:38,  1.69s/it]"
          ]
        },
        {
          "output_type": "stream",
          "name": "stdout",
          "text": [
            "Validation acc: 0.9453\n",
            "\n",
            "Start of epoch 515\n",
            "Training loss: 0.0000\n",
            "Training metric: 0.9765\n",
            "perturbation loss: 0.0001\n"
          ]
        },
        {
          "output_type": "stream",
          "name": "stderr",
          "text": [
            "\r 52%|█████▏    | 516/1000 [15:05<13:26,  1.67s/it]"
          ]
        },
        {
          "output_type": "stream",
          "name": "stdout",
          "text": [
            "Validation acc: 0.9609\n",
            "\n",
            "Start of epoch 516\n",
            "Training loss: 0.0000\n",
            "Training metric: 0.9766\n",
            "perturbation loss: 0.0001\n"
          ]
        },
        {
          "output_type": "stream",
          "name": "stderr",
          "text": [
            "\r 52%|█████▏    | 517/1000 [15:06<13:08,  1.63s/it]"
          ]
        },
        {
          "output_type": "stream",
          "name": "stdout",
          "text": [
            "Validation acc: 0.9609\n",
            "\n",
            "Start of epoch 517\n",
            "Training loss: 0.0000\n",
            "Training metric: 0.9766\n",
            "perturbation loss: 0.0003\n"
          ]
        },
        {
          "output_type": "stream",
          "name": "stderr",
          "text": [
            "\r 52%|█████▏    | 518/1000 [15:08<12:58,  1.62s/it]"
          ]
        },
        {
          "output_type": "stream",
          "name": "stdout",
          "text": [
            "Validation acc: 0.9531\n",
            "\n",
            "Start of epoch 518\n",
            "Training loss: 0.0000\n",
            "Training metric: 0.9766\n",
            "perturbation loss: 0.0001\n"
          ]
        },
        {
          "output_type": "stream",
          "name": "stderr",
          "text": [
            "\r 52%|█████▏    | 519/1000 [15:10<13:48,  1.72s/it]"
          ]
        },
        {
          "output_type": "stream",
          "name": "stdout",
          "text": [
            "Validation acc: 0.9688\n",
            "\n",
            "Start of epoch 519\n",
            "Training loss: 0.0003\n",
            "Training metric: 0.9767\n",
            "perturbation loss: 0.0009\n"
          ]
        },
        {
          "output_type": "stream",
          "name": "stderr",
          "text": [
            "\r 52%|█████▏    | 520/1000 [15:12<14:43,  1.84s/it]"
          ]
        },
        {
          "output_type": "stream",
          "name": "stdout",
          "text": [
            "Validation acc: 0.9531\n",
            "\n",
            "Start of epoch 520\n",
            "Training loss: 0.0000\n",
            "Training metric: 0.9767\n",
            "perturbation loss: 0.0001\n"
          ]
        },
        {
          "output_type": "stream",
          "name": "stderr",
          "text": [
            "\r 52%|█████▏    | 521/1000 [15:14<14:03,  1.76s/it]"
          ]
        },
        {
          "output_type": "stream",
          "name": "stdout",
          "text": [
            "Validation acc: 0.9688\n",
            "\n",
            "Start of epoch 521\n",
            "Training loss: 0.0001\n",
            "Training metric: 0.9768\n",
            "perturbation loss: 0.0004\n"
          ]
        },
        {
          "output_type": "stream",
          "name": "stderr",
          "text": [
            "\r 52%|█████▏    | 522/1000 [15:15<13:29,  1.69s/it]"
          ]
        },
        {
          "output_type": "stream",
          "name": "stdout",
          "text": [
            "Validation acc: 0.9609\n",
            "\n",
            "Start of epoch 522\n",
            "Training loss: 0.0010\n",
            "Training metric: 0.9768\n",
            "perturbation loss: 0.0309\n"
          ]
        },
        {
          "output_type": "stream",
          "name": "stderr",
          "text": [
            "\r 52%|█████▏    | 523/1000 [15:17<13:09,  1.65s/it]"
          ]
        },
        {
          "output_type": "stream",
          "name": "stdout",
          "text": [
            "Validation acc: 0.9609\n",
            "\n",
            "Start of epoch 523\n",
            "Training loss: 0.0000\n",
            "Training metric: 0.9769\n",
            "perturbation loss: 0.0009\n"
          ]
        },
        {
          "output_type": "stream",
          "name": "stderr",
          "text": [
            "\r 52%|█████▏    | 524/1000 [15:18<13:09,  1.66s/it]"
          ]
        },
        {
          "output_type": "stream",
          "name": "stdout",
          "text": [
            "Validation acc: 0.9531\n",
            "\n",
            "Start of epoch 524\n",
            "Training loss: 0.0000\n",
            "Training metric: 0.9769\n",
            "perturbation loss: 0.0000\n"
          ]
        },
        {
          "output_type": "stream",
          "name": "stderr",
          "text": [
            "\r 52%|█████▎    | 525/1000 [15:20<12:54,  1.63s/it]"
          ]
        },
        {
          "output_type": "stream",
          "name": "stdout",
          "text": [
            "Validation acc: 0.9531\n",
            "\n",
            "Start of epoch 525\n",
            "Training loss: 0.0000\n",
            "Training metric: 0.9770\n",
            "perturbation loss: 0.0001\n"
          ]
        },
        {
          "output_type": "stream",
          "name": "stderr",
          "text": [
            "\r 53%|█████▎    | 526/1000 [15:21<12:46,  1.62s/it]"
          ]
        },
        {
          "output_type": "stream",
          "name": "stdout",
          "text": [
            "Validation acc: 0.9453\n",
            "\n",
            "Start of epoch 526\n",
            "Training loss: 0.0000\n",
            "Training metric: 0.9770\n",
            "perturbation loss: 0.0002\n"
          ]
        },
        {
          "output_type": "stream",
          "name": "stderr",
          "text": [
            "\r 53%|█████▎    | 527/1000 [15:24<14:11,  1.80s/it]"
          ]
        },
        {
          "output_type": "stream",
          "name": "stdout",
          "text": [
            "Validation acc: 0.9609\n",
            "\n",
            "Start of epoch 527\n",
            "Training loss: 0.0000\n",
            "Training metric: 0.9770\n",
            "perturbation loss: 0.0002\n"
          ]
        },
        {
          "output_type": "stream",
          "name": "stderr",
          "text": [
            "\r 53%|█████▎    | 528/1000 [15:26<14:46,  1.88s/it]"
          ]
        },
        {
          "output_type": "stream",
          "name": "stdout",
          "text": [
            "Validation acc: 0.9375\n",
            "\n",
            "Start of epoch 528\n",
            "Training loss: 0.0000\n",
            "Training metric: 0.9771\n",
            "perturbation loss: 0.0000\n"
          ]
        },
        {
          "output_type": "stream",
          "name": "stderr",
          "text": [
            "\r 53%|█████▎    | 529/1000 [15:27<14:12,  1.81s/it]"
          ]
        },
        {
          "output_type": "stream",
          "name": "stdout",
          "text": [
            "Validation acc: 0.9609\n",
            "\n",
            "Start of epoch 529\n",
            "Training loss: 0.0001\n",
            "Training metric: 0.9771\n",
            "perturbation loss: 0.0016\n"
          ]
        },
        {
          "output_type": "stream",
          "name": "stderr",
          "text": [
            "\r 53%|█████▎    | 530/1000 [15:29<13:37,  1.74s/it]"
          ]
        },
        {
          "output_type": "stream",
          "name": "stdout",
          "text": [
            "Validation acc: 0.9453\n",
            "\n",
            "Start of epoch 530\n",
            "Training loss: 0.0000\n",
            "Training metric: 0.9772\n",
            "perturbation loss: 0.0001\n"
          ]
        },
        {
          "output_type": "stream",
          "name": "stderr",
          "text": [
            "\r 53%|█████▎    | 531/1000 [15:31<13:08,  1.68s/it]"
          ]
        },
        {
          "output_type": "stream",
          "name": "stdout",
          "text": [
            "Validation acc: 0.9531\n",
            "\n",
            "Start of epoch 531\n",
            "Training loss: 0.0001\n",
            "Training metric: 0.9772\n",
            "perturbation loss: 0.0004\n"
          ]
        },
        {
          "output_type": "stream",
          "name": "stderr",
          "text": [
            "\r 53%|█████▎    | 532/1000 [15:32<12:52,  1.65s/it]"
          ]
        },
        {
          "output_type": "stream",
          "name": "stdout",
          "text": [
            "Validation acc: 0.9688\n",
            "\n",
            "Start of epoch 532\n",
            "Training loss: 0.0000\n",
            "Training metric: 0.9773\n",
            "perturbation loss: 0.0002\n"
          ]
        },
        {
          "output_type": "stream",
          "name": "stderr",
          "text": [
            "\r 53%|█████▎    | 533/1000 [15:34<12:33,  1.61s/it]"
          ]
        },
        {
          "output_type": "stream",
          "name": "stdout",
          "text": [
            "Validation acc: 0.9609\n",
            "\n",
            "Start of epoch 533\n",
            "Training loss: 0.1316\n",
            "Training metric: 0.9773\n",
            "perturbation loss: 0.0341\n"
          ]
        },
        {
          "output_type": "stream",
          "name": "stderr",
          "text": [
            "\r 53%|█████▎    | 534/1000 [15:35<12:33,  1.62s/it]"
          ]
        },
        {
          "output_type": "stream",
          "name": "stdout",
          "text": [
            "Validation acc: 0.9297\n",
            "\n",
            "Start of epoch 534\n",
            "Training loss: 0.0005\n",
            "Training metric: 0.9773\n",
            "perturbation loss: 0.0007\n"
          ]
        },
        {
          "output_type": "stream",
          "name": "stderr",
          "text": [
            "\r 54%|█████▎    | 535/1000 [15:38<14:14,  1.84s/it]"
          ]
        },
        {
          "output_type": "stream",
          "name": "stdout",
          "text": [
            "Validation acc: 0.9375\n",
            "\n",
            "Start of epoch 535\n",
            "Training loss: 0.0002\n",
            "Training metric: 0.9774\n",
            "perturbation loss: 0.0012\n"
          ]
        },
        {
          "output_type": "stream",
          "name": "stderr",
          "text": [
            "\r 54%|█████▎    | 536/1000 [15:40<14:49,  1.92s/it]"
          ]
        },
        {
          "output_type": "stream",
          "name": "stdout",
          "text": [
            "Validation acc: 0.9609\n",
            "\n",
            "Start of epoch 536\n",
            "Training loss: 0.0000\n",
            "Training metric: 0.9774\n",
            "perturbation loss: 0.0001\n"
          ]
        },
        {
          "output_type": "stream",
          "name": "stderr",
          "text": [
            "\r 54%|█████▎    | 537/1000 [15:41<14:12,  1.84s/it]"
          ]
        },
        {
          "output_type": "stream",
          "name": "stdout",
          "text": [
            "Validation acc: 0.9609\n",
            "\n",
            "Start of epoch 537\n",
            "Training loss: 0.0013\n",
            "Training metric: 0.9774\n",
            "perturbation loss: 0.0267\n"
          ]
        },
        {
          "output_type": "stream",
          "name": "stderr",
          "text": [
            "\r 54%|█████▍    | 538/1000 [15:43<13:43,  1.78s/it]"
          ]
        },
        {
          "output_type": "stream",
          "name": "stdout",
          "text": [
            "Validation acc: 0.9609\n",
            "\n",
            "Start of epoch 538\n",
            "Training loss: 0.0001\n",
            "Training metric: 0.9775\n",
            "perturbation loss: 0.0015\n"
          ]
        },
        {
          "output_type": "stream",
          "name": "stderr",
          "text": [
            "\r 54%|█████▍    | 539/1000 [15:45<13:23,  1.74s/it]"
          ]
        },
        {
          "output_type": "stream",
          "name": "stdout",
          "text": [
            "Validation acc: 0.9688\n",
            "\n",
            "Start of epoch 539\n",
            "Training loss: 0.0001\n",
            "Training metric: 0.9775\n",
            "perturbation loss: 0.0001\n"
          ]
        },
        {
          "output_type": "stream",
          "name": "stderr",
          "text": [
            "\r 54%|█████▍    | 540/1000 [15:46<13:13,  1.73s/it]"
          ]
        },
        {
          "output_type": "stream",
          "name": "stdout",
          "text": [
            "Validation acc: 0.9688\n",
            "\n",
            "Start of epoch 540\n",
            "Training loss: 0.0000\n",
            "Training metric: 0.9776\n",
            "perturbation loss: 0.0008\n"
          ]
        },
        {
          "output_type": "stream",
          "name": "stderr",
          "text": [
            "\r 54%|█████▍    | 541/1000 [15:48<12:56,  1.69s/it]"
          ]
        },
        {
          "output_type": "stream",
          "name": "stdout",
          "text": [
            "Validation acc: 0.9688\n",
            "\n",
            "Start of epoch 541\n",
            "Training loss: 0.0001\n",
            "Training metric: 0.9776\n",
            "perturbation loss: 0.0014\n"
          ]
        },
        {
          "output_type": "stream",
          "name": "stderr",
          "text": [
            "\r 54%|█████▍    | 542/1000 [15:50<13:41,  1.79s/it]"
          ]
        },
        {
          "output_type": "stream",
          "name": "stdout",
          "text": [
            "Validation acc: 0.9766\n",
            "\n",
            "Start of epoch 542\n",
            "Training loss: 0.0000\n",
            "Training metric: 0.9777\n",
            "perturbation loss: 0.0000\n"
          ]
        },
        {
          "output_type": "stream",
          "name": "stderr",
          "text": [
            "\r 54%|█████▍    | 543/1000 [15:53<15:16,  2.01s/it]"
          ]
        },
        {
          "output_type": "stream",
          "name": "stdout",
          "text": [
            "Validation acc: 0.9688\n",
            "\n",
            "Start of epoch 543\n",
            "Training loss: 0.0000\n",
            "Training metric: 0.9777\n",
            "perturbation loss: 0.0000\n"
          ]
        },
        {
          "output_type": "stream",
          "name": "stderr",
          "text": [
            "\r 54%|█████▍    | 544/1000 [15:54<14:32,  1.91s/it]"
          ]
        },
        {
          "output_type": "stream",
          "name": "stdout",
          "text": [
            "Validation acc: 0.9609\n",
            "\n",
            "Start of epoch 544\n",
            "Training loss: 0.0000\n",
            "Training metric: 0.9777\n",
            "perturbation loss: 0.0002\n"
          ]
        },
        {
          "output_type": "stream",
          "name": "stderr",
          "text": [
            "\r 55%|█████▍    | 545/1000 [15:56<13:41,  1.81s/it]"
          ]
        },
        {
          "output_type": "stream",
          "name": "stdout",
          "text": [
            "Validation acc: 0.9766\n",
            "\n",
            "Start of epoch 545\n",
            "Training loss: 0.0000\n",
            "Training metric: 0.9778\n",
            "perturbation loss: 0.0001\n"
          ]
        },
        {
          "output_type": "stream",
          "name": "stderr",
          "text": [
            "\r 55%|█████▍    | 546/1000 [15:57<13:09,  1.74s/it]"
          ]
        },
        {
          "output_type": "stream",
          "name": "stdout",
          "text": [
            "Validation acc: 0.9688\n",
            "\n",
            "Start of epoch 546\n",
            "Training loss: 0.0000\n",
            "Training metric: 0.9778\n",
            "perturbation loss: 0.0000\n"
          ]
        },
        {
          "output_type": "stream",
          "name": "stderr",
          "text": [
            "\r 55%|█████▍    | 547/1000 [15:59<12:42,  1.68s/it]"
          ]
        },
        {
          "output_type": "stream",
          "name": "stdout",
          "text": [
            "Validation acc: 0.9766\n",
            "\n",
            "Start of epoch 547\n",
            "Training loss: 0.0000\n",
            "Training metric: 0.9779\n",
            "perturbation loss: 0.0000\n"
          ]
        },
        {
          "output_type": "stream",
          "name": "stderr",
          "text": [
            "\r 55%|█████▍    | 548/1000 [16:00<12:26,  1.65s/it]"
          ]
        },
        {
          "output_type": "stream",
          "name": "stdout",
          "text": [
            "Validation acc: 0.9688\n",
            "\n",
            "Start of epoch 548\n",
            "Training loss: 0.0001\n",
            "Training metric: 0.9779\n",
            "perturbation loss: 0.0012\n"
          ]
        },
        {
          "output_type": "stream",
          "name": "stderr",
          "text": [
            "\r 55%|█████▍    | 549/1000 [16:02<12:15,  1.63s/it]"
          ]
        },
        {
          "output_type": "stream",
          "name": "stdout",
          "text": [
            "Validation acc: 0.9688\n",
            "\n",
            "Start of epoch 549\n",
            "Training loss: 0.0000\n",
            "Training metric: 0.9779\n",
            "perturbation loss: 0.0001\n"
          ]
        },
        {
          "output_type": "stream",
          "name": "stderr",
          "text": [
            "\r 55%|█████▌    | 550/1000 [16:04<12:37,  1.68s/it]"
          ]
        },
        {
          "output_type": "stream",
          "name": "stdout",
          "text": [
            "Validation acc: 0.9844\n",
            "\n",
            "Start of epoch 550\n",
            "Training loss: 0.0000\n",
            "Training metric: 0.9780\n",
            "perturbation loss: 0.0000\n"
          ]
        },
        {
          "output_type": "stream",
          "name": "stderr",
          "text": [
            "\r 55%|█████▌    | 551/1000 [16:06<14:09,  1.89s/it]"
          ]
        },
        {
          "output_type": "stream",
          "name": "stdout",
          "text": [
            "Validation acc: 0.9766\n",
            "\n",
            "Start of epoch 551\n",
            "Training loss: 0.0000\n",
            "Training metric: 0.9780\n",
            "perturbation loss: 0.0000\n"
          ]
        },
        {
          "output_type": "stream",
          "name": "stderr",
          "text": [
            "\r 55%|█████▌    | 552/1000 [16:08<13:34,  1.82s/it]"
          ]
        },
        {
          "output_type": "stream",
          "name": "stdout",
          "text": [
            "Validation acc: 0.9844\n",
            "\n",
            "Start of epoch 552\n",
            "Training loss: 0.0000\n",
            "Training metric: 0.9781\n",
            "perturbation loss: 0.0001\n"
          ]
        },
        {
          "output_type": "stream",
          "name": "stderr",
          "text": [
            "\r 55%|█████▌    | 553/1000 [16:09<12:59,  1.74s/it]"
          ]
        },
        {
          "output_type": "stream",
          "name": "stdout",
          "text": [
            "Validation acc: 0.9688\n",
            "\n",
            "Start of epoch 553\n",
            "Training loss: 0.0000\n",
            "Training metric: 0.9781\n",
            "perturbation loss: 0.0000\n"
          ]
        },
        {
          "output_type": "stream",
          "name": "stderr",
          "text": [
            "\r 55%|█████▌    | 554/1000 [16:11<12:38,  1.70s/it]"
          ]
        },
        {
          "output_type": "stream",
          "name": "stdout",
          "text": [
            "Validation acc: 0.9766\n",
            "\n",
            "Start of epoch 554\n",
            "Training loss: 0.0000\n",
            "Training metric: 0.9781\n",
            "perturbation loss: 0.0000\n"
          ]
        },
        {
          "output_type": "stream",
          "name": "stderr",
          "text": [
            "\r 56%|█████▌    | 555/1000 [16:13<12:30,  1.69s/it]"
          ]
        },
        {
          "output_type": "stream",
          "name": "stdout",
          "text": [
            "Validation acc: 0.9688\n",
            "\n",
            "Start of epoch 555\n",
            "Training loss: 0.0000\n",
            "Training metric: 0.9782\n",
            "perturbation loss: 0.0000\n"
          ]
        },
        {
          "output_type": "stream",
          "name": "stderr",
          "text": [
            "\r 56%|█████▌    | 556/1000 [16:14<12:16,  1.66s/it]"
          ]
        },
        {
          "output_type": "stream",
          "name": "stdout",
          "text": [
            "Validation acc: 0.9844\n",
            "\n",
            "Start of epoch 556\n",
            "Training loss: 0.0000\n",
            "Training metric: 0.9782\n",
            "perturbation loss: 0.0000\n"
          ]
        },
        {
          "output_type": "stream",
          "name": "stderr",
          "text": [
            "\r 56%|█████▌    | 557/1000 [16:16<12:04,  1.64s/it]"
          ]
        },
        {
          "output_type": "stream",
          "name": "stdout",
          "text": [
            "Validation acc: 0.9766\n",
            "\n",
            "Start of epoch 557\n",
            "Training loss: 0.0000\n",
            "Training metric: 0.9783\n",
            "perturbation loss: 0.0000\n"
          ]
        },
        {
          "output_type": "stream",
          "name": "stderr",
          "text": [
            "\r 56%|█████▌    | 558/1000 [16:18<12:35,  1.71s/it]"
          ]
        },
        {
          "output_type": "stream",
          "name": "stdout",
          "text": [
            "Validation acc: 0.9609\n",
            "\n",
            "Start of epoch 558\n",
            "Training loss: 0.0000\n",
            "Training metric: 0.9783\n",
            "perturbation loss: 0.0000\n"
          ]
        },
        {
          "output_type": "stream",
          "name": "stderr",
          "text": [
            "\r 56%|█████▌    | 559/1000 [16:20<14:05,  1.92s/it]"
          ]
        },
        {
          "output_type": "stream",
          "name": "stdout",
          "text": [
            "Validation acc: 0.9844\n",
            "\n",
            "Start of epoch 559\n",
            "Training loss: 0.0000\n",
            "Training metric: 0.9783\n",
            "perturbation loss: 0.0001\n"
          ]
        },
        {
          "output_type": "stream",
          "name": "stderr",
          "text": [
            "\r 56%|█████▌    | 560/1000 [16:22<13:21,  1.82s/it]"
          ]
        },
        {
          "output_type": "stream",
          "name": "stdout",
          "text": [
            "Validation acc: 0.9766\n",
            "\n",
            "Start of epoch 560\n",
            "Training loss: 0.0000\n",
            "Training metric: 0.9784\n",
            "perturbation loss: 0.0000\n"
          ]
        },
        {
          "output_type": "stream",
          "name": "stderr",
          "text": [
            "\r 56%|█████▌    | 561/1000 [16:23<12:45,  1.74s/it]"
          ]
        },
        {
          "output_type": "stream",
          "name": "stdout",
          "text": [
            "Validation acc: 0.9766\n",
            "\n",
            "Start of epoch 561\n",
            "Training loss: 0.0001\n",
            "Training metric: 0.9784\n",
            "perturbation loss: 0.0017\n"
          ]
        },
        {
          "output_type": "stream",
          "name": "stderr",
          "text": [
            "\r 56%|█████▌    | 562/1000 [16:25<12:19,  1.69s/it]"
          ]
        },
        {
          "output_type": "stream",
          "name": "stdout",
          "text": [
            "Validation acc: 0.9844\n",
            "\n",
            "Start of epoch 562\n",
            "Training loss: 0.0001\n",
            "Training metric: 0.9784\n",
            "perturbation loss: 0.0010\n"
          ]
        },
        {
          "output_type": "stream",
          "name": "stderr",
          "text": [
            "\r 56%|█████▋    | 563/1000 [16:26<12:00,  1.65s/it]"
          ]
        },
        {
          "output_type": "stream",
          "name": "stdout",
          "text": [
            "Validation acc: 0.9375\n",
            "\n",
            "Start of epoch 563\n",
            "Training loss: 0.0027\n",
            "Training metric: 0.9785\n",
            "perturbation loss: 0.0828\n"
          ]
        },
        {
          "output_type": "stream",
          "name": "stderr",
          "text": [
            "\r 56%|█████▋    | 564/1000 [16:28<11:48,  1.62s/it]"
          ]
        },
        {
          "output_type": "stream",
          "name": "stdout",
          "text": [
            "Validation acc: 0.9688\n",
            "\n",
            "Start of epoch 564\n",
            "Training loss: 0.0000\n",
            "Training metric: 0.9785\n",
            "perturbation loss: 0.0003\n"
          ]
        },
        {
          "output_type": "stream",
          "name": "stderr",
          "text": [
            "\r 56%|█████▋    | 565/1000 [16:30<11:49,  1.63s/it]"
          ]
        },
        {
          "output_type": "stream",
          "name": "stdout",
          "text": [
            "Validation acc: 0.9688\n",
            "\n",
            "Start of epoch 565\n",
            "Training loss: 0.0001\n",
            "Training metric: 0.9786\n",
            "perturbation loss: 0.0008\n"
          ]
        },
        {
          "output_type": "stream",
          "name": "stderr",
          "text": [
            "\r 57%|█████▋    | 566/1000 [16:32<12:24,  1.71s/it]"
          ]
        },
        {
          "output_type": "stream",
          "name": "stdout",
          "text": [
            "Validation acc: 0.9766\n",
            "\n",
            "Start of epoch 566\n",
            "Training loss: 0.0000\n",
            "Training metric: 0.9786\n",
            "perturbation loss: 0.0001\n"
          ]
        },
        {
          "output_type": "stream",
          "name": "stderr",
          "text": [
            "\r 57%|█████▋    | 567/1000 [16:34<13:04,  1.81s/it]"
          ]
        },
        {
          "output_type": "stream",
          "name": "stdout",
          "text": [
            "Validation acc: 0.9766\n",
            "\n",
            "Start of epoch 567\n",
            "Training loss: 0.0004\n",
            "Training metric: 0.9786\n",
            "perturbation loss: 0.0022\n"
          ]
        },
        {
          "output_type": "stream",
          "name": "stderr",
          "text": [
            "\r 57%|█████▋    | 568/1000 [16:35<12:43,  1.77s/it]"
          ]
        },
        {
          "output_type": "stream",
          "name": "stdout",
          "text": [
            "Validation acc: 0.9766\n",
            "\n",
            "Start of epoch 568\n",
            "Training loss: 0.0000\n",
            "Training metric: 0.9787\n",
            "perturbation loss: 0.0007\n"
          ]
        },
        {
          "output_type": "stream",
          "name": "stderr",
          "text": [
            "\r 57%|█████▋    | 569/1000 [16:37<12:16,  1.71s/it]"
          ]
        },
        {
          "output_type": "stream",
          "name": "stdout",
          "text": [
            "Validation acc: 0.9766\n",
            "\n",
            "Start of epoch 569\n",
            "Training loss: 0.0022\n",
            "Training metric: 0.9787\n",
            "perturbation loss: 0.0063\n"
          ]
        },
        {
          "output_type": "stream",
          "name": "stderr",
          "text": [
            "\r 57%|█████▋    | 570/1000 [16:38<11:54,  1.66s/it]"
          ]
        },
        {
          "output_type": "stream",
          "name": "stdout",
          "text": [
            "Validation acc: 0.9766\n",
            "\n",
            "Start of epoch 570\n",
            "Training loss: 0.0000\n",
            "Training metric: 0.9787\n",
            "perturbation loss: 0.0001\n"
          ]
        },
        {
          "output_type": "stream",
          "name": "stderr",
          "text": [
            "\r 57%|█████▋    | 571/1000 [16:40<11:43,  1.64s/it]"
          ]
        },
        {
          "output_type": "stream",
          "name": "stdout",
          "text": [
            "Validation acc: 0.9766\n",
            "\n",
            "Start of epoch 571\n",
            "Training loss: 0.0002\n",
            "Training metric: 0.9788\n",
            "perturbation loss: 0.0013\n"
          ]
        },
        {
          "output_type": "stream",
          "name": "stderr",
          "text": [
            "\r 57%|█████▋    | 572/1000 [16:42<11:46,  1.65s/it]"
          ]
        },
        {
          "output_type": "stream",
          "name": "stdout",
          "text": [
            "Validation acc: 0.9609\n",
            "\n",
            "Start of epoch 572\n",
            "Training loss: 0.0001\n",
            "Training metric: 0.9788\n",
            "perturbation loss: 0.0001\n"
          ]
        },
        {
          "output_type": "stream",
          "name": "stderr",
          "text": [
            "\r 57%|█████▋    | 573/1000 [16:43<11:33,  1.62s/it]"
          ]
        },
        {
          "output_type": "stream",
          "name": "stdout",
          "text": [
            "Validation acc: 0.9609\n",
            "\n",
            "Start of epoch 573\n",
            "Training loss: 0.0000\n",
            "Training metric: 0.9789\n",
            "perturbation loss: 0.0011\n"
          ]
        },
        {
          "output_type": "stream",
          "name": "stderr",
          "text": [
            "\r 57%|█████▋    | 574/1000 [16:45<11:51,  1.67s/it]"
          ]
        },
        {
          "output_type": "stream",
          "name": "stdout",
          "text": [
            "Validation acc: 0.9766\n",
            "\n",
            "Start of epoch 574\n",
            "Training loss: 0.0001\n",
            "Training metric: 0.9789\n",
            "perturbation loss: 0.0001\n"
          ]
        },
        {
          "output_type": "stream",
          "name": "stderr",
          "text": [
            "\r 57%|█████▊    | 575/1000 [16:47<12:47,  1.81s/it]"
          ]
        },
        {
          "output_type": "stream",
          "name": "stdout",
          "text": [
            "Validation acc: 0.9766\n",
            "\n",
            "Start of epoch 575\n",
            "Training loss: 0.0000\n",
            "Training metric: 0.9789\n",
            "perturbation loss: 0.0001\n"
          ]
        },
        {
          "output_type": "stream",
          "name": "stderr",
          "text": [
            "\r 58%|█████▊    | 576/1000 [16:49<12:43,  1.80s/it]"
          ]
        },
        {
          "output_type": "stream",
          "name": "stdout",
          "text": [
            "Validation acc: 0.9609\n",
            "\n",
            "Start of epoch 576\n",
            "Training loss: 0.0000\n",
            "Training metric: 0.9790\n",
            "perturbation loss: 0.0001\n"
          ]
        },
        {
          "output_type": "stream",
          "name": "stderr",
          "text": [
            "\r 58%|█████▊    | 577/1000 [16:50<12:13,  1.73s/it]"
          ]
        },
        {
          "output_type": "stream",
          "name": "stdout",
          "text": [
            "Validation acc: 0.9609\n",
            "\n",
            "Start of epoch 577\n",
            "Training loss: 0.0000\n",
            "Training metric: 0.9790\n",
            "perturbation loss: 0.0000\n"
          ]
        },
        {
          "output_type": "stream",
          "name": "stderr",
          "text": [
            "\r 58%|█████▊    | 578/1000 [16:52<11:50,  1.68s/it]"
          ]
        },
        {
          "output_type": "stream",
          "name": "stdout",
          "text": [
            "Validation acc: 0.9688\n",
            "\n",
            "Start of epoch 578\n",
            "Training loss: 0.0000\n",
            "Training metric: 0.9790\n",
            "perturbation loss: 0.0001\n"
          ]
        },
        {
          "output_type": "stream",
          "name": "stderr",
          "text": [
            "\r 58%|█████▊    | 579/1000 [16:54<11:32,  1.65s/it]"
          ]
        },
        {
          "output_type": "stream",
          "name": "stdout",
          "text": [
            "Validation acc: 0.9688\n",
            "\n",
            "Start of epoch 579\n",
            "Training loss: 0.0000\n",
            "Training metric: 0.9791\n",
            "perturbation loss: 0.0000\n"
          ]
        },
        {
          "output_type": "stream",
          "name": "stderr",
          "text": [
            "\r 58%|█████▊    | 580/1000 [16:55<11:23,  1.63s/it]"
          ]
        },
        {
          "output_type": "stream",
          "name": "stdout",
          "text": [
            "Validation acc: 0.9688\n",
            "\n",
            "Start of epoch 580\n",
            "Training loss: 0.0001\n",
            "Training metric: 0.9791\n",
            "perturbation loss: 0.0020\n"
          ]
        },
        {
          "output_type": "stream",
          "name": "stderr",
          "text": [
            "\r 58%|█████▊    | 581/1000 [16:57<11:13,  1.61s/it]"
          ]
        },
        {
          "output_type": "stream",
          "name": "stdout",
          "text": [
            "Validation acc: 0.9531\n",
            "\n",
            "Start of epoch 581\n",
            "Training loss: 0.0000\n",
            "Training metric: 0.9791\n",
            "perturbation loss: 0.0000\n"
          ]
        },
        {
          "output_type": "stream",
          "name": "stderr",
          "text": [
            "\r 58%|█████▊    | 582/1000 [16:59<12:01,  1.73s/it]"
          ]
        },
        {
          "output_type": "stream",
          "name": "stdout",
          "text": [
            "Validation acc: 0.9688\n",
            "\n",
            "Start of epoch 582\n",
            "Training loss: 0.0000\n",
            "Training metric: 0.9792\n",
            "perturbation loss: 0.0001\n"
          ]
        },
        {
          "output_type": "stream",
          "name": "stderr",
          "text": [
            "\r 58%|█████▊    | 583/1000 [17:01<13:25,  1.93s/it]"
          ]
        },
        {
          "output_type": "stream",
          "name": "stdout",
          "text": [
            "Validation acc: 0.9688\n",
            "\n",
            "Start of epoch 583\n",
            "Training loss: 0.0005\n",
            "Training metric: 0.9792\n",
            "perturbation loss: 0.0005\n"
          ]
        },
        {
          "output_type": "stream",
          "name": "stderr",
          "text": [
            "\r 58%|█████▊    | 584/1000 [17:03<12:56,  1.87s/it]"
          ]
        },
        {
          "output_type": "stream",
          "name": "stdout",
          "text": [
            "Validation acc: 0.9531\n",
            "\n",
            "Start of epoch 584\n",
            "Training loss: 0.0000\n",
            "Training metric: 0.9792\n",
            "perturbation loss: 0.0000\n"
          ]
        },
        {
          "output_type": "stream",
          "name": "stderr",
          "text": [
            "\r 58%|█████▊    | 585/1000 [17:04<12:18,  1.78s/it]"
          ]
        },
        {
          "output_type": "stream",
          "name": "stdout",
          "text": [
            "Validation acc: 0.9531\n",
            "\n",
            "Start of epoch 585\n",
            "Training loss: 0.0000\n",
            "Training metric: 0.9793\n",
            "perturbation loss: 0.0002\n"
          ]
        },
        {
          "output_type": "stream",
          "name": "stderr",
          "text": [
            "\r 59%|█████▊    | 586/1000 [17:06<11:51,  1.72s/it]"
          ]
        },
        {
          "output_type": "stream",
          "name": "stdout",
          "text": [
            "Validation acc: 0.9609\n",
            "\n",
            "Start of epoch 586\n",
            "Training loss: 0.0002\n",
            "Training metric: 0.9793\n",
            "perturbation loss: 0.0037\n"
          ]
        },
        {
          "output_type": "stream",
          "name": "stderr",
          "text": [
            "\r 59%|█████▊    | 587/1000 [17:08<11:31,  1.67s/it]"
          ]
        },
        {
          "output_type": "stream",
          "name": "stdout",
          "text": [
            "Validation acc: 0.9375\n",
            "\n",
            "Start of epoch 587\n",
            "Training loss: 0.0000\n",
            "Training metric: 0.9793\n",
            "perturbation loss: 0.0003\n"
          ]
        },
        {
          "output_type": "stream",
          "name": "stderr",
          "text": [
            "\r 59%|█████▉    | 588/1000 [17:09<11:17,  1.64s/it]"
          ]
        },
        {
          "output_type": "stream",
          "name": "stdout",
          "text": [
            "Validation acc: 0.9531\n",
            "\n",
            "Start of epoch 588\n",
            "Training loss: 0.0000\n",
            "Training metric: 0.9794\n",
            "perturbation loss: 0.0001\n"
          ]
        },
        {
          "output_type": "stream",
          "name": "stderr",
          "text": [
            "\r 59%|█████▉    | 589/1000 [17:11<11:07,  1.62s/it]"
          ]
        },
        {
          "output_type": "stream",
          "name": "stdout",
          "text": [
            "Validation acc: 0.9375\n",
            "\n",
            "Start of epoch 589\n",
            "Training loss: 0.0004\n",
            "Training metric: 0.9794\n",
            "perturbation loss: 0.0120\n"
          ]
        },
        {
          "output_type": "stream",
          "name": "stderr",
          "text": [
            "\r 59%|█████▉    | 590/1000 [17:13<12:07,  1.77s/it]"
          ]
        },
        {
          "output_type": "stream",
          "name": "stdout",
          "text": [
            "Validation acc: 0.9531\n",
            "\n",
            "Start of epoch 590\n",
            "Training loss: 0.0001\n",
            "Training metric: 0.9794\n",
            "perturbation loss: 0.0008\n"
          ]
        },
        {
          "output_type": "stream",
          "name": "stderr",
          "text": [
            "\r 59%|█████▉    | 591/1000 [17:15<13:22,  1.96s/it]"
          ]
        },
        {
          "output_type": "stream",
          "name": "stdout",
          "text": [
            "Validation acc: 0.9531\n",
            "\n",
            "Start of epoch 591\n",
            "Training loss: 0.0000\n",
            "Training metric: 0.9795\n",
            "perturbation loss: 0.0001\n"
          ]
        },
        {
          "output_type": "stream",
          "name": "stderr",
          "text": [
            "\r 59%|█████▉    | 592/1000 [17:17<12:33,  1.85s/it]"
          ]
        },
        {
          "output_type": "stream",
          "name": "stdout",
          "text": [
            "Validation acc: 0.9453\n",
            "\n",
            "Start of epoch 592\n",
            "Training loss: 0.0001\n",
            "Training metric: 0.9795\n",
            "perturbation loss: 0.0000\n"
          ]
        },
        {
          "output_type": "stream",
          "name": "stderr",
          "text": [
            "\r 59%|█████▉    | 593/1000 [17:18<11:58,  1.76s/it]"
          ]
        },
        {
          "output_type": "stream",
          "name": "stdout",
          "text": [
            "Validation acc: 0.9531\n",
            "\n",
            "Start of epoch 593\n",
            "Training loss: 0.0000\n",
            "Training metric: 0.9796\n",
            "perturbation loss: 0.0001\n"
          ]
        },
        {
          "output_type": "stream",
          "name": "stderr",
          "text": [
            "\r 59%|█████▉    | 594/1000 [17:20<11:33,  1.71s/it]"
          ]
        },
        {
          "output_type": "stream",
          "name": "stdout",
          "text": [
            "Validation acc: 0.9609\n",
            "\n",
            "Start of epoch 594\n",
            "Training loss: 0.0001\n",
            "Training metric: 0.9796\n",
            "perturbation loss: 0.0035\n"
          ]
        },
        {
          "output_type": "stream",
          "name": "stderr",
          "text": [
            "\r 60%|█████▉    | 595/1000 [17:22<11:19,  1.68s/it]"
          ]
        },
        {
          "output_type": "stream",
          "name": "stdout",
          "text": [
            "Validation acc: 0.9609\n",
            "\n",
            "Start of epoch 595\n",
            "Training loss: 0.0000\n",
            "Training metric: 0.9796\n",
            "perturbation loss: 0.0003\n"
          ]
        },
        {
          "output_type": "stream",
          "name": "stderr",
          "text": [
            "\r 60%|█████▉    | 596/1000 [17:23<11:12,  1.66s/it]"
          ]
        },
        {
          "output_type": "stream",
          "name": "stdout",
          "text": [
            "Validation acc: 0.9609\n",
            "\n",
            "Start of epoch 596\n",
            "Training loss: 0.0000\n",
            "Training metric: 0.9797\n",
            "perturbation loss: 0.0003\n"
          ]
        },
        {
          "output_type": "stream",
          "name": "stderr",
          "text": [
            "\r 60%|█████▉    | 597/1000 [17:25<11:02,  1.64s/it]"
          ]
        },
        {
          "output_type": "stream",
          "name": "stdout",
          "text": [
            "Validation acc: 0.9609\n",
            "\n",
            "Start of epoch 597\n",
            "Training loss: 0.0000\n",
            "Training metric: 0.9797\n",
            "perturbation loss: 0.0001\n"
          ]
        },
        {
          "output_type": "stream",
          "name": "stderr",
          "text": [
            "\r 60%|█████▉    | 598/1000 [17:27<12:14,  1.83s/it]"
          ]
        },
        {
          "output_type": "stream",
          "name": "stdout",
          "text": [
            "Validation acc: 0.9531\n",
            "\n",
            "Start of epoch 598\n",
            "Training loss: 0.0000\n",
            "Training metric: 0.9797\n",
            "perturbation loss: 0.0000\n"
          ]
        },
        {
          "output_type": "stream",
          "name": "stderr",
          "text": [
            "\r 60%|█████▉    | 599/1000 [17:29<12:34,  1.88s/it]"
          ]
        },
        {
          "output_type": "stream",
          "name": "stdout",
          "text": [
            "Validation acc: 0.9609\n",
            "\n",
            "Start of epoch 599\n",
            "Training loss: 0.0000\n",
            "Training metric: 0.9798\n",
            "perturbation loss: 0.0000\n"
          ]
        },
        {
          "output_type": "stream",
          "name": "stderr",
          "text": [
            "\r 60%|██████    | 600/1000 [17:31<12:03,  1.81s/it]"
          ]
        },
        {
          "output_type": "stream",
          "name": "stdout",
          "text": [
            "Validation acc: 0.9609\n",
            "\n",
            "Start of epoch 600\n",
            "Training loss: 0.0000\n",
            "Training metric: 0.9798\n",
            "perturbation loss: 0.0004\n"
          ]
        },
        {
          "output_type": "stream",
          "name": "stderr",
          "text": [
            "\r 60%|██████    | 601/1000 [17:32<11:34,  1.74s/it]"
          ]
        },
        {
          "output_type": "stream",
          "name": "stdout",
          "text": [
            "Validation acc: 0.9531\n",
            "\n",
            "Start of epoch 601\n",
            "Training loss: 0.0000\n",
            "Training metric: 0.9798\n",
            "perturbation loss: 0.0003\n"
          ]
        },
        {
          "output_type": "stream",
          "name": "stderr",
          "text": [
            "\r 60%|██████    | 602/1000 [17:34<11:19,  1.71s/it]"
          ]
        },
        {
          "output_type": "stream",
          "name": "stdout",
          "text": [
            "Validation acc: 0.9609\n",
            "\n",
            "Start of epoch 602\n",
            "Training loss: 0.0000\n",
            "Training metric: 0.9799\n",
            "perturbation loss: 0.0001\n"
          ]
        },
        {
          "output_type": "stream",
          "name": "stderr",
          "text": [
            "\r 60%|██████    | 603/1000 [17:36<11:02,  1.67s/it]"
          ]
        },
        {
          "output_type": "stream",
          "name": "stdout",
          "text": [
            "Validation acc: 0.9688\n",
            "\n",
            "Start of epoch 603\n",
            "Training loss: 0.0000\n",
            "Training metric: 0.9799\n",
            "perturbation loss: 0.0005\n"
          ]
        },
        {
          "output_type": "stream",
          "name": "stderr",
          "text": [
            "\r 60%|██████    | 604/1000 [17:37<10:48,  1.64s/it]"
          ]
        },
        {
          "output_type": "stream",
          "name": "stdout",
          "text": [
            "Validation acc: 0.9531\n",
            "\n",
            "Start of epoch 604\n",
            "Training loss: 0.0000\n",
            "Training metric: 0.9799\n",
            "perturbation loss: 0.0002\n"
          ]
        },
        {
          "output_type": "stream",
          "name": "stderr",
          "text": [
            "\r 60%|██████    | 605/1000 [17:39<10:37,  1.61s/it]"
          ]
        },
        {
          "output_type": "stream",
          "name": "stdout",
          "text": [
            "Validation acc: 0.9688\n",
            "\n",
            "Start of epoch 605\n",
            "Training loss: 0.0000\n",
            "Training metric: 0.9800\n",
            "perturbation loss: 0.0000\n"
          ]
        },
        {
          "output_type": "stream",
          "name": "stderr",
          "text": [
            "\r 61%|██████    | 606/1000 [17:41<11:25,  1.74s/it]"
          ]
        },
        {
          "output_type": "stream",
          "name": "stdout",
          "text": [
            "Validation acc: 0.9609\n",
            "\n",
            "Start of epoch 606\n",
            "Training loss: 0.0000\n",
            "Training metric: 0.9800\n",
            "perturbation loss: 0.0001\n"
          ]
        },
        {
          "output_type": "stream",
          "name": "stderr",
          "text": [
            "\r 61%|██████    | 607/1000 [17:43<12:04,  1.84s/it]"
          ]
        },
        {
          "output_type": "stream",
          "name": "stdout",
          "text": [
            "Validation acc: 0.9609\n",
            "\n",
            "Start of epoch 607\n",
            "Training loss: 0.0000\n",
            "Training metric: 0.9800\n",
            "perturbation loss: 0.0000\n"
          ]
        },
        {
          "output_type": "stream",
          "name": "stderr",
          "text": [
            "\r 61%|██████    | 608/1000 [17:44<11:30,  1.76s/it]"
          ]
        },
        {
          "output_type": "stream",
          "name": "stdout",
          "text": [
            "Validation acc: 0.9609\n",
            "\n",
            "Start of epoch 608\n",
            "Training loss: 0.0000\n",
            "Training metric: 0.9801\n",
            "perturbation loss: 0.0000\n"
          ]
        },
        {
          "output_type": "stream",
          "name": "stderr",
          "text": [
            "\r 61%|██████    | 609/1000 [17:46<11:06,  1.70s/it]"
          ]
        },
        {
          "output_type": "stream",
          "name": "stdout",
          "text": [
            "Validation acc: 0.9609\n",
            "\n",
            "Start of epoch 609\n",
            "Training loss: 0.0000\n",
            "Training metric: 0.9801\n",
            "perturbation loss: 0.0000\n"
          ]
        },
        {
          "output_type": "stream",
          "name": "stderr",
          "text": [
            "\r 61%|██████    | 610/1000 [17:47<10:46,  1.66s/it]"
          ]
        },
        {
          "output_type": "stream",
          "name": "stdout",
          "text": [
            "Validation acc: 0.9609\n",
            "\n",
            "Start of epoch 610\n",
            "Training loss: 0.0000\n",
            "Training metric: 0.9801\n",
            "perturbation loss: 0.0000\n"
          ]
        },
        {
          "output_type": "stream",
          "name": "stderr",
          "text": [
            "\r 61%|██████    | 611/1000 [17:49<10:34,  1.63s/it]"
          ]
        },
        {
          "output_type": "stream",
          "name": "stdout",
          "text": [
            "Validation acc: 0.9688\n",
            "\n",
            "Start of epoch 611\n",
            "Training loss: 0.0000\n",
            "Training metric: 0.9802\n",
            "perturbation loss: 0.0000\n"
          ]
        },
        {
          "output_type": "stream",
          "name": "stderr",
          "text": [
            "\r 61%|██████    | 612/1000 [17:51<10:27,  1.62s/it]"
          ]
        },
        {
          "output_type": "stream",
          "name": "stdout",
          "text": [
            "Validation acc: 0.9688\n",
            "\n",
            "Start of epoch 612\n",
            "Training loss: 0.0000\n",
            "Training metric: 0.9802\n",
            "perturbation loss: 0.0000\n"
          ]
        },
        {
          "output_type": "stream",
          "name": "stderr",
          "text": [
            "\r 61%|██████▏   | 613/1000 [17:52<10:20,  1.60s/it]"
          ]
        },
        {
          "output_type": "stream",
          "name": "stdout",
          "text": [
            "Validation acc: 0.9609\n",
            "\n",
            "Start of epoch 613\n",
            "Training loss: 0.0011\n",
            "Training metric: 0.9802\n",
            "perturbation loss: 0.0352\n"
          ]
        },
        {
          "output_type": "stream",
          "name": "stderr",
          "text": [
            "\r 61%|██████▏   | 614/1000 [17:54<11:24,  1.77s/it]"
          ]
        },
        {
          "output_type": "stream",
          "name": "stdout",
          "text": [
            "Validation acc: 0.9609\n",
            "\n",
            "Start of epoch 614\n",
            "Training loss: 0.0000\n",
            "Training metric: 0.9802\n",
            "perturbation loss: 0.0001\n"
          ]
        },
        {
          "output_type": "stream",
          "name": "stderr",
          "text": [
            "\r 62%|██████▏   | 615/1000 [17:57<12:34,  1.96s/it]"
          ]
        },
        {
          "output_type": "stream",
          "name": "stdout",
          "text": [
            "Validation acc: 0.9531\n",
            "\n",
            "Start of epoch 615\n",
            "Training loss: 0.0000\n",
            "Training metric: 0.9803\n",
            "perturbation loss: 0.0000\n"
          ]
        },
        {
          "output_type": "stream",
          "name": "stderr",
          "text": [
            "\r 62%|██████▏   | 616/1000 [17:58<11:51,  1.85s/it]"
          ]
        },
        {
          "output_type": "stream",
          "name": "stdout",
          "text": [
            "Validation acc: 0.9688\n",
            "\n",
            "Start of epoch 616\n",
            "Training loss: 0.0000\n",
            "Training metric: 0.9803\n",
            "perturbation loss: 0.0000\n"
          ]
        },
        {
          "output_type": "stream",
          "name": "stderr",
          "text": [
            "\r 62%|██████▏   | 617/1000 [18:00<11:17,  1.77s/it]"
          ]
        },
        {
          "output_type": "stream",
          "name": "stdout",
          "text": [
            "Validation acc: 0.9609\n",
            "\n",
            "Start of epoch 617\n",
            "Training loss: 0.0004\n",
            "Training metric: 0.9803\n",
            "perturbation loss: 0.0102\n"
          ]
        },
        {
          "output_type": "stream",
          "name": "stderr",
          "text": [
            "\r 62%|██████▏   | 618/1000 [18:02<10:54,  1.71s/it]"
          ]
        },
        {
          "output_type": "stream",
          "name": "stdout",
          "text": [
            "Validation acc: 0.9453\n",
            "\n",
            "Start of epoch 618\n",
            "Training loss: 0.0000\n",
            "Training metric: 0.9804\n",
            "perturbation loss: 0.0002\n"
          ]
        },
        {
          "output_type": "stream",
          "name": "stderr",
          "text": [
            "\r 62%|██████▏   | 619/1000 [18:03<10:36,  1.67s/it]"
          ]
        },
        {
          "output_type": "stream",
          "name": "stdout",
          "text": [
            "Validation acc: 0.9297\n",
            "\n",
            "Start of epoch 619\n",
            "Training loss: 0.0000\n",
            "Training metric: 0.9804\n",
            "perturbation loss: 0.0009\n"
          ]
        },
        {
          "output_type": "stream",
          "name": "stderr",
          "text": [
            "\r 62%|██████▏   | 620/1000 [18:05<10:22,  1.64s/it]"
          ]
        },
        {
          "output_type": "stream",
          "name": "stdout",
          "text": [
            "Validation acc: 0.9766\n",
            "\n",
            "Start of epoch 620\n",
            "Training loss: 0.0011\n",
            "Training metric: 0.9804\n",
            "perturbation loss: 0.0158\n"
          ]
        },
        {
          "output_type": "stream",
          "name": "stderr",
          "text": [
            "\r 62%|██████▏   | 621/1000 [18:06<10:13,  1.62s/it]"
          ]
        },
        {
          "output_type": "stream",
          "name": "stdout",
          "text": [
            "Validation acc: 0.9688\n",
            "\n",
            "Start of epoch 621\n",
            "Training loss: 0.0008\n",
            "Training metric: 0.9805\n",
            "perturbation loss: 0.0224\n"
          ]
        },
        {
          "output_type": "stream",
          "name": "stderr",
          "text": [
            "\r 62%|██████▏   | 622/1000 [18:09<11:30,  1.83s/it]"
          ]
        },
        {
          "output_type": "stream",
          "name": "stdout",
          "text": [
            "Validation acc: 0.9531\n",
            "\n",
            "Start of epoch 622\n",
            "Training loss: 0.0000\n",
            "Training metric: 0.9805\n",
            "perturbation loss: 0.0000\n"
          ]
        },
        {
          "output_type": "stream",
          "name": "stderr",
          "text": [
            "\r 62%|██████▏   | 623/1000 [18:11<11:54,  1.89s/it]"
          ]
        },
        {
          "output_type": "stream",
          "name": "stdout",
          "text": [
            "Validation acc: 0.9531\n",
            "\n",
            "Start of epoch 623\n",
            "Training loss: 0.0000\n",
            "Training metric: 0.9805\n",
            "perturbation loss: 0.0000\n"
          ]
        },
        {
          "output_type": "stream",
          "name": "stderr",
          "text": [
            "\r 62%|██████▏   | 624/1000 [18:12<11:14,  1.79s/it]"
          ]
        },
        {
          "output_type": "stream",
          "name": "stdout",
          "text": [
            "Validation acc: 0.9609\n",
            "\n",
            "Start of epoch 624\n",
            "Training loss: 0.0000\n",
            "Training metric: 0.9805\n",
            "perturbation loss: 0.0003\n"
          ]
        },
        {
          "output_type": "stream",
          "name": "stderr",
          "text": [
            "\r 62%|██████▎   | 625/1000 [18:14<10:47,  1.73s/it]"
          ]
        },
        {
          "output_type": "stream",
          "name": "stdout",
          "text": [
            "Validation acc: 0.9688\n",
            "\n",
            "Start of epoch 625\n",
            "Training loss: 0.0000\n",
            "Training metric: 0.9806\n",
            "perturbation loss: 0.0004\n"
          ]
        },
        {
          "output_type": "stream",
          "name": "stderr",
          "text": [
            "\r 63%|██████▎   | 626/1000 [18:15<10:27,  1.68s/it]"
          ]
        },
        {
          "output_type": "stream",
          "name": "stdout",
          "text": [
            "Validation acc: 0.9766\n",
            "\n",
            "Start of epoch 626\n",
            "Training loss: 0.0000\n",
            "Training metric: 0.9806\n",
            "perturbation loss: 0.0000\n"
          ]
        },
        {
          "output_type": "stream",
          "name": "stderr",
          "text": [
            "\r 63%|██████▎   | 627/1000 [18:17<10:13,  1.64s/it]"
          ]
        },
        {
          "output_type": "stream",
          "name": "stdout",
          "text": [
            "Validation acc: 0.9609\n",
            "\n",
            "Start of epoch 627\n",
            "Training loss: 0.0001\n",
            "Training metric: 0.9806\n",
            "perturbation loss: 0.0004\n"
          ]
        },
        {
          "output_type": "stream",
          "name": "stderr",
          "text": [
            "\r 63%|██████▎   | 628/1000 [18:18<10:11,  1.64s/it]"
          ]
        },
        {
          "output_type": "stream",
          "name": "stdout",
          "text": [
            "Validation acc: 0.9609\n",
            "\n",
            "Start of epoch 628\n",
            "Training loss: 0.0000\n",
            "Training metric: 0.9807\n",
            "perturbation loss: 0.0004\n"
          ]
        },
        {
          "output_type": "stream",
          "name": "stderr",
          "text": [
            "\r 63%|██████▎   | 629/1000 [18:20<10:03,  1.63s/it]"
          ]
        },
        {
          "output_type": "stream",
          "name": "stdout",
          "text": [
            "Validation acc: 0.9609\n",
            "\n",
            "Start of epoch 629\n",
            "Training loss: 0.0000\n",
            "Training metric: 0.9807\n",
            "perturbation loss: 0.0001\n"
          ]
        },
        {
          "output_type": "stream",
          "name": "stderr",
          "text": [
            "\r 63%|██████▎   | 630/1000 [18:22<10:44,  1.74s/it]"
          ]
        },
        {
          "output_type": "stream",
          "name": "stdout",
          "text": [
            "Validation acc: 0.9688\n",
            "\n",
            "Start of epoch 630\n",
            "Training loss: 0.0000\n",
            "Training metric: 0.9807\n",
            "perturbation loss: 0.0000\n"
          ]
        },
        {
          "output_type": "stream",
          "name": "stderr",
          "text": [
            "\r 63%|██████▎   | 631/1000 [18:25<11:58,  1.95s/it]"
          ]
        },
        {
          "output_type": "stream",
          "name": "stdout",
          "text": [
            "Validation acc: 0.9688\n",
            "\n",
            "Start of epoch 631\n",
            "Training loss: 0.0000\n",
            "Training metric: 0.9808\n",
            "perturbation loss: 0.0000\n"
          ]
        },
        {
          "output_type": "stream",
          "name": "stderr",
          "text": [
            "\r 63%|██████▎   | 632/1000 [18:26<11:17,  1.84s/it]"
          ]
        },
        {
          "output_type": "stream",
          "name": "stdout",
          "text": [
            "Validation acc: 0.9688\n",
            "\n",
            "Start of epoch 632\n",
            "Training loss: 0.0000\n",
            "Training metric: 0.9808\n",
            "perturbation loss: 0.0003\n"
          ]
        },
        {
          "output_type": "stream",
          "name": "stderr",
          "text": [
            "\r 63%|██████▎   | 633/1000 [18:28<10:49,  1.77s/it]"
          ]
        },
        {
          "output_type": "stream",
          "name": "stdout",
          "text": [
            "Validation acc: 0.9766\n",
            "\n",
            "Start of epoch 633\n",
            "Training loss: 0.0000\n",
            "Training metric: 0.9808\n",
            "perturbation loss: 0.0004\n"
          ]
        },
        {
          "output_type": "stream",
          "name": "stderr",
          "text": [
            "\r 63%|██████▎   | 634/1000 [18:29<10:25,  1.71s/it]"
          ]
        },
        {
          "output_type": "stream",
          "name": "stdout",
          "text": [
            "Validation acc: 0.9766\n",
            "\n",
            "Start of epoch 634\n",
            "Training loss: 0.0000\n",
            "Training metric: 0.9809\n",
            "perturbation loss: 0.0000\n"
          ]
        },
        {
          "output_type": "stream",
          "name": "stderr",
          "text": [
            "\r 64%|██████▎   | 635/1000 [18:31<10:10,  1.67s/it]"
          ]
        },
        {
          "output_type": "stream",
          "name": "stdout",
          "text": [
            "Validation acc: 0.9844\n",
            "\n",
            "Start of epoch 635\n",
            "Training loss: 0.0000\n",
            "Training metric: 0.9809\n",
            "perturbation loss: 0.0002\n"
          ]
        },
        {
          "output_type": "stream",
          "name": "stderr",
          "text": [
            "\r 64%|██████▎   | 636/1000 [18:32<09:55,  1.64s/it]"
          ]
        },
        {
          "output_type": "stream",
          "name": "stdout",
          "text": [
            "Validation acc: 0.9688\n",
            "\n",
            "Start of epoch 636\n",
            "Training loss: 0.0000\n",
            "Training metric: 0.9809\n",
            "perturbation loss: 0.0000\n"
          ]
        },
        {
          "output_type": "stream",
          "name": "stderr",
          "text": [
            "\r 64%|██████▎   | 637/1000 [18:34<09:47,  1.62s/it]"
          ]
        },
        {
          "output_type": "stream",
          "name": "stdout",
          "text": [
            "Validation acc: 0.9531\n",
            "\n",
            "Start of epoch 637\n",
            "Training loss: 0.0010\n",
            "Training metric: 0.9809\n",
            "perturbation loss: 0.0072\n"
          ]
        },
        {
          "output_type": "stream",
          "name": "stderr",
          "text": [
            "\r 64%|██████▍   | 638/1000 [18:36<10:26,  1.73s/it]"
          ]
        },
        {
          "output_type": "stream",
          "name": "stdout",
          "text": [
            "Validation acc: 0.9297\n",
            "\n",
            "Start of epoch 638\n",
            "Training loss: 0.0180\n",
            "Training metric: 0.9810\n",
            "perturbation loss: 0.0336\n"
          ]
        },
        {
          "output_type": "stream",
          "name": "stderr",
          "text": [
            "\r 64%|██████▍   | 639/1000 [18:38<11:37,  1.93s/it]"
          ]
        },
        {
          "output_type": "stream",
          "name": "stdout",
          "text": [
            "Validation acc: 0.8906\n",
            "\n",
            "Start of epoch 639\n",
            "Training loss: 0.0000\n",
            "Training metric: 0.9810\n",
            "perturbation loss: 0.0004\n"
          ]
        },
        {
          "output_type": "stream",
          "name": "stderr",
          "text": [
            "\r 64%|██████▍   | 640/1000 [18:40<10:55,  1.82s/it]"
          ]
        },
        {
          "output_type": "stream",
          "name": "stdout",
          "text": [
            "Validation acc: 0.9688\n",
            "\n",
            "Start of epoch 640\n",
            "Training loss: 0.0004\n",
            "Training metric: 0.9810\n",
            "perturbation loss: 0.0004\n"
          ]
        },
        {
          "output_type": "stream",
          "name": "stderr",
          "text": [
            "\r 64%|██████▍   | 641/1000 [18:42<10:29,  1.75s/it]"
          ]
        },
        {
          "output_type": "stream",
          "name": "stdout",
          "text": [
            "Validation acc: 0.9766\n",
            "\n",
            "Start of epoch 641\n",
            "Training loss: 0.0001\n",
            "Training metric: 0.9811\n",
            "perturbation loss: 0.0010\n"
          ]
        },
        {
          "output_type": "stream",
          "name": "stderr",
          "text": [
            "\r 64%|██████▍   | 642/1000 [18:43<10:11,  1.71s/it]"
          ]
        },
        {
          "output_type": "stream",
          "name": "stdout",
          "text": [
            "Validation acc: 0.9688\n",
            "\n",
            "Start of epoch 642\n",
            "Training loss: 0.0000\n",
            "Training metric: 0.9811\n",
            "perturbation loss: 0.0001\n"
          ]
        },
        {
          "output_type": "stream",
          "name": "stderr",
          "text": [
            "\r 64%|██████▍   | 643/1000 [18:45<10:01,  1.69s/it]"
          ]
        },
        {
          "output_type": "stream",
          "name": "stdout",
          "text": [
            "Validation acc: 0.9531\n",
            "\n",
            "Start of epoch 643\n",
            "Training loss: 0.0000\n",
            "Training metric: 0.9811\n",
            "perturbation loss: 0.0000\n"
          ]
        },
        {
          "output_type": "stream",
          "name": "stderr",
          "text": [
            "\r 64%|██████▍   | 644/1000 [18:46<09:48,  1.65s/it]"
          ]
        },
        {
          "output_type": "stream",
          "name": "stdout",
          "text": [
            "Validation acc: 0.9609\n",
            "\n",
            "Start of epoch 644\n",
            "Training loss: 0.0000\n",
            "Training metric: 0.9811\n",
            "perturbation loss: 0.0000\n"
          ]
        },
        {
          "output_type": "stream",
          "name": "stderr",
          "text": [
            "\r 64%|██████▍   | 645/1000 [18:48<09:36,  1.62s/it]"
          ]
        },
        {
          "output_type": "stream",
          "name": "stdout",
          "text": [
            "Validation acc: 0.9688\n",
            "\n",
            "Start of epoch 645\n",
            "Training loss: 0.0000\n",
            "Training metric: 0.9812\n",
            "perturbation loss: 0.0000\n"
          ]
        },
        {
          "output_type": "stream",
          "name": "stderr",
          "text": [
            "\r 65%|██████▍   | 646/1000 [18:50<10:20,  1.75s/it]"
          ]
        },
        {
          "output_type": "stream",
          "name": "stdout",
          "text": [
            "Validation acc: 0.9766\n",
            "\n",
            "Start of epoch 646\n",
            "Training loss: 0.0000\n",
            "Training metric: 0.9812\n",
            "perturbation loss: 0.0002\n"
          ]
        },
        {
          "output_type": "stream",
          "name": "stderr",
          "text": [
            "\r 65%|██████▍   | 647/1000 [18:52<11:27,  1.95s/it]"
          ]
        },
        {
          "output_type": "stream",
          "name": "stdout",
          "text": [
            "Validation acc: 0.9688\n",
            "\n",
            "Start of epoch 647\n",
            "Training loss: 0.0000\n",
            "Training metric: 0.9812\n",
            "perturbation loss: 0.0001\n"
          ]
        },
        {
          "output_type": "stream",
          "name": "stderr",
          "text": [
            "\r 65%|██████▍   | 648/1000 [18:54<10:47,  1.84s/it]"
          ]
        },
        {
          "output_type": "stream",
          "name": "stdout",
          "text": [
            "Validation acc: 0.9688\n",
            "\n",
            "Start of epoch 648\n",
            "Training loss: 0.0000\n",
            "Training metric: 0.9813\n",
            "perturbation loss: 0.0002\n"
          ]
        },
        {
          "output_type": "stream",
          "name": "stderr",
          "text": [
            "\r 65%|██████▍   | 649/1000 [18:56<10:22,  1.77s/it]"
          ]
        },
        {
          "output_type": "stream",
          "name": "stdout",
          "text": [
            "Validation acc: 0.9766\n",
            "\n",
            "Start of epoch 649\n",
            "Training loss: 0.0000\n",
            "Training metric: 0.9813\n",
            "perturbation loss: 0.0000\n"
          ]
        },
        {
          "output_type": "stream",
          "name": "stderr",
          "text": [
            "\r 65%|██████▌   | 650/1000 [18:57<10:04,  1.73s/it]"
          ]
        },
        {
          "output_type": "stream",
          "name": "stdout",
          "text": [
            "Validation acc: 0.9609\n",
            "\n",
            "Start of epoch 650\n",
            "Training loss: 0.0001\n",
            "Training metric: 0.9813\n",
            "perturbation loss: 0.0001\n"
          ]
        },
        {
          "output_type": "stream",
          "name": "stderr",
          "text": [
            "\r 65%|██████▌   | 651/1000 [18:59<09:45,  1.68s/it]"
          ]
        },
        {
          "output_type": "stream",
          "name": "stdout",
          "text": [
            "Validation acc: 0.9688\n",
            "\n",
            "Start of epoch 651\n",
            "Training loss: 0.0000\n",
            "Training metric: 0.9813\n",
            "perturbation loss: 0.0000\n"
          ]
        },
        {
          "output_type": "stream",
          "name": "stderr",
          "text": [
            "\r 65%|██████▌   | 652/1000 [19:00<09:30,  1.64s/it]"
          ]
        },
        {
          "output_type": "stream",
          "name": "stdout",
          "text": [
            "Validation acc: 0.9688\n",
            "\n",
            "Start of epoch 652\n",
            "Training loss: 0.0000\n",
            "Training metric: 0.9814\n",
            "perturbation loss: 0.0001\n"
          ]
        },
        {
          "output_type": "stream",
          "name": "stderr",
          "text": [
            "\r 65%|██████▌   | 653/1000 [19:02<09:23,  1.62s/it]"
          ]
        },
        {
          "output_type": "stream",
          "name": "stdout",
          "text": [
            "Validation acc: 0.9531\n",
            "\n",
            "Start of epoch 653\n",
            "Training loss: 0.0000\n",
            "Training metric: 0.9814\n",
            "perturbation loss: 0.0000\n"
          ]
        },
        {
          "output_type": "stream",
          "name": "stderr",
          "text": [
            "\r 65%|██████▌   | 654/1000 [19:04<10:06,  1.75s/it]"
          ]
        },
        {
          "output_type": "stream",
          "name": "stdout",
          "text": [
            "Validation acc: 0.9609\n",
            "\n",
            "Start of epoch 654\n",
            "Training loss: 0.0000\n",
            "Training metric: 0.9814\n",
            "perturbation loss: 0.0001\n"
          ]
        },
        {
          "output_type": "stream",
          "name": "stderr",
          "text": [
            "\r 66%|██████▌   | 655/1000 [19:06<10:37,  1.85s/it]"
          ]
        },
        {
          "output_type": "stream",
          "name": "stdout",
          "text": [
            "Validation acc: 0.9688\n",
            "\n",
            "Start of epoch 655\n",
            "Training loss: 0.0000\n",
            "Training metric: 0.9815\n",
            "perturbation loss: 0.0000\n"
          ]
        },
        {
          "output_type": "stream",
          "name": "stderr",
          "text": [
            "\r 66%|██████▌   | 656/1000 [19:08<10:10,  1.77s/it]"
          ]
        },
        {
          "output_type": "stream",
          "name": "stdout",
          "text": [
            "Validation acc: 0.9688\n",
            "\n",
            "Start of epoch 656\n",
            "Training loss: 0.0000\n",
            "Training metric: 0.9815\n",
            "perturbation loss: 0.0002\n"
          ]
        },
        {
          "output_type": "stream",
          "name": "stderr",
          "text": [
            "\r 66%|██████▌   | 657/1000 [19:09<09:46,  1.71s/it]"
          ]
        },
        {
          "output_type": "stream",
          "name": "stdout",
          "text": [
            "Validation acc: 0.9531\n",
            "\n",
            "Start of epoch 657\n",
            "Training loss: 0.0001\n",
            "Training metric: 0.9815\n",
            "perturbation loss: 0.0001\n"
          ]
        },
        {
          "output_type": "stream",
          "name": "stderr",
          "text": [
            "\r 66%|██████▌   | 658/1000 [19:11<09:39,  1.69s/it]"
          ]
        },
        {
          "output_type": "stream",
          "name": "stdout",
          "text": [
            "Validation acc: 0.9609\n",
            "\n",
            "Start of epoch 658\n",
            "Training loss: 0.0001\n",
            "Training metric: 0.9815\n",
            "perturbation loss: 0.0009\n"
          ]
        },
        {
          "output_type": "stream",
          "name": "stderr",
          "text": [
            "\r 66%|██████▌   | 659/1000 [19:12<09:24,  1.66s/it]"
          ]
        },
        {
          "output_type": "stream",
          "name": "stdout",
          "text": [
            "Validation acc: 0.9688\n",
            "\n",
            "Start of epoch 659\n",
            "Training loss: 0.0001\n",
            "Training metric: 0.9816\n",
            "perturbation loss: 0.0013\n"
          ]
        },
        {
          "output_type": "stream",
          "name": "stderr",
          "text": [
            "\r 66%|██████▌   | 660/1000 [19:14<09:12,  1.62s/it]"
          ]
        },
        {
          "output_type": "stream",
          "name": "stdout",
          "text": [
            "Validation acc: 0.9766\n",
            "\n",
            "Start of epoch 660\n",
            "Training loss: 0.0000\n",
            "Training metric: 0.9816\n",
            "perturbation loss: 0.0000\n"
          ]
        },
        {
          "output_type": "stream",
          "name": "stderr",
          "text": [
            "\r 66%|██████▌   | 661/1000 [19:16<09:05,  1.61s/it]"
          ]
        },
        {
          "output_type": "stream",
          "name": "stdout",
          "text": [
            "Validation acc: 0.9688\n",
            "\n",
            "Start of epoch 661\n",
            "Training loss: 0.0000\n",
            "Training metric: 0.9816\n",
            "perturbation loss: 0.0000\n"
          ]
        },
        {
          "output_type": "stream",
          "name": "stderr",
          "text": [
            "\r 66%|██████▌   | 662/1000 [19:17<09:38,  1.71s/it]"
          ]
        },
        {
          "output_type": "stream",
          "name": "stdout",
          "text": [
            "Validation acc: 0.9688\n",
            "\n",
            "Start of epoch 662\n",
            "Training loss: 0.0000\n",
            "Training metric: 0.9817\n",
            "perturbation loss: 0.0003\n"
          ]
        },
        {
          "output_type": "stream",
          "name": "stderr",
          "text": [
            "\r 66%|██████▋   | 663/1000 [19:20<10:46,  1.92s/it]"
          ]
        },
        {
          "output_type": "stream",
          "name": "stdout",
          "text": [
            "Validation acc: 0.9688\n",
            "\n",
            "Start of epoch 663\n",
            "Training loss: 0.0000\n",
            "Training metric: 0.9817\n",
            "perturbation loss: 0.0006\n"
          ]
        },
        {
          "output_type": "stream",
          "name": "stderr",
          "text": [
            "\r 66%|██████▋   | 664/1000 [19:21<10:09,  1.81s/it]"
          ]
        },
        {
          "output_type": "stream",
          "name": "stdout",
          "text": [
            "Validation acc: 0.9375\n",
            "\n",
            "Start of epoch 664\n",
            "Training loss: 0.0004\n",
            "Training metric: 0.9817\n",
            "perturbation loss: 0.0018\n"
          ]
        },
        {
          "output_type": "stream",
          "name": "stderr",
          "text": [
            "\r 66%|██████▋   | 665/1000 [19:23<09:41,  1.74s/it]"
          ]
        },
        {
          "output_type": "stream",
          "name": "stdout",
          "text": [
            "Validation acc: 0.9297\n",
            "\n",
            "Start of epoch 665\n",
            "Training loss: 0.0001\n",
            "Training metric: 0.9817\n",
            "perturbation loss: 0.0003\n"
          ]
        },
        {
          "output_type": "stream",
          "name": "stderr",
          "text": [
            "\r 67%|██████▋   | 666/1000 [19:25<09:24,  1.69s/it]"
          ]
        },
        {
          "output_type": "stream",
          "name": "stdout",
          "text": [
            "Validation acc: 0.9688\n",
            "\n",
            "Start of epoch 666\n",
            "Training loss: 0.0004\n",
            "Training metric: 0.9818\n",
            "perturbation loss: 0.0077\n"
          ]
        },
        {
          "output_type": "stream",
          "name": "stderr",
          "text": [
            "\r 67%|██████▋   | 667/1000 [19:26<09:11,  1.66s/it]"
          ]
        },
        {
          "output_type": "stream",
          "name": "stdout",
          "text": [
            "Validation acc: 0.9688\n",
            "\n",
            "Start of epoch 667\n",
            "Training loss: 0.0000\n",
            "Training metric: 0.9818\n",
            "perturbation loss: 0.0003\n"
          ]
        },
        {
          "output_type": "stream",
          "name": "stderr",
          "text": [
            "\r 67%|██████▋   | 668/1000 [19:28<09:02,  1.63s/it]"
          ]
        },
        {
          "output_type": "stream",
          "name": "stdout",
          "text": [
            "Validation acc: 0.9531\n",
            "\n",
            "Start of epoch 668\n",
            "Training loss: 0.0000\n",
            "Training metric: 0.9818\n",
            "perturbation loss: 0.0002\n"
          ]
        },
        {
          "output_type": "stream",
          "name": "stderr",
          "text": [
            "\r 67%|██████▋   | 669/1000 [19:29<08:54,  1.62s/it]"
          ]
        },
        {
          "output_type": "stream",
          "name": "stdout",
          "text": [
            "Validation acc: 0.9688\n",
            "\n",
            "Start of epoch 669\n",
            "Training loss: 0.0000\n",
            "Training metric: 0.9818\n",
            "perturbation loss: 0.0001\n"
          ]
        },
        {
          "output_type": "stream",
          "name": "stderr",
          "text": [
            "\r 67%|██████▋   | 670/1000 [19:33<11:28,  2.09s/it]"
          ]
        },
        {
          "output_type": "stream",
          "name": "stdout",
          "text": [
            "Validation acc: 0.9766\n",
            "\n",
            "Start of epoch 670\n",
            "Training loss: 0.0000\n",
            "Training metric: 0.9819\n",
            "perturbation loss: 0.0003\n"
          ]
        },
        {
          "output_type": "stream",
          "name": "stderr",
          "text": [
            "\r 67%|██████▋   | 671/1000 [19:34<10:46,  1.97s/it]"
          ]
        },
        {
          "output_type": "stream",
          "name": "stdout",
          "text": [
            "Validation acc: 0.9609\n",
            "\n",
            "Start of epoch 671\n",
            "Training loss: 0.0000\n",
            "Training metric: 0.9819\n",
            "perturbation loss: 0.0001\n"
          ]
        },
        {
          "output_type": "stream",
          "name": "stderr",
          "text": [
            "\r 67%|██████▋   | 672/1000 [19:36<10:12,  1.87s/it]"
          ]
        },
        {
          "output_type": "stream",
          "name": "stdout",
          "text": [
            "Validation acc: 0.9844\n",
            "\n",
            "Start of epoch 672\n",
            "Training loss: 0.0001\n",
            "Training metric: 0.9819\n",
            "perturbation loss: 0.0014\n"
          ]
        },
        {
          "output_type": "stream",
          "name": "stderr",
          "text": [
            "\r 67%|██████▋   | 673/1000 [19:37<09:42,  1.78s/it]"
          ]
        },
        {
          "output_type": "stream",
          "name": "stdout",
          "text": [
            "Validation acc: 0.9609\n",
            "\n",
            "Start of epoch 673\n",
            "Training loss: 0.0000\n",
            "Training metric: 0.9820\n",
            "perturbation loss: 0.0001\n"
          ]
        },
        {
          "output_type": "stream",
          "name": "stderr",
          "text": [
            "\r 67%|██████▋   | 674/1000 [19:39<09:20,  1.72s/it]"
          ]
        },
        {
          "output_type": "stream",
          "name": "stdout",
          "text": [
            "Validation acc: 0.9766\n",
            "\n",
            "Start of epoch 674\n",
            "Training loss: 0.0000\n",
            "Training metric: 0.9820\n",
            "perturbation loss: 0.0000\n"
          ]
        },
        {
          "output_type": "stream",
          "name": "stderr",
          "text": [
            "\r 68%|██████▊   | 675/1000 [19:41<09:10,  1.69s/it]"
          ]
        },
        {
          "output_type": "stream",
          "name": "stdout",
          "text": [
            "Validation acc: 0.9688\n",
            "\n",
            "Start of epoch 675\n",
            "Training loss: 0.0000\n",
            "Training metric: 0.9820\n",
            "perturbation loss: 0.0001\n"
          ]
        },
        {
          "output_type": "stream",
          "name": "stderr",
          "text": [
            "\r 68%|██████▊   | 676/1000 [19:42<09:00,  1.67s/it]"
          ]
        },
        {
          "output_type": "stream",
          "name": "stdout",
          "text": [
            "Validation acc: 0.9688\n",
            "\n",
            "Start of epoch 676\n",
            "Training loss: 0.0000\n",
            "Training metric: 0.9820\n",
            "perturbation loss: 0.0001\n"
          ]
        },
        {
          "output_type": "stream",
          "name": "stderr",
          "text": [
            "\r 68%|██████▊   | 677/1000 [19:44<09:16,  1.72s/it]"
          ]
        },
        {
          "output_type": "stream",
          "name": "stdout",
          "text": [
            "Validation acc: 0.9688\n",
            "\n",
            "Start of epoch 677\n",
            "Training loss: 0.0000\n",
            "Training metric: 0.9821\n",
            "perturbation loss: 0.0014\n"
          ]
        },
        {
          "output_type": "stream",
          "name": "stderr",
          "text": [
            "\r 68%|██████▊   | 678/1000 [19:46<10:18,  1.92s/it]"
          ]
        },
        {
          "output_type": "stream",
          "name": "stdout",
          "text": [
            "Validation acc: 0.9688\n",
            "\n",
            "Start of epoch 678\n",
            "Training loss: 0.0000\n",
            "Training metric: 0.9821\n",
            "perturbation loss: 0.0000\n"
          ]
        },
        {
          "output_type": "stream",
          "name": "stderr",
          "text": [
            "\r 68%|██████▊   | 679/1000 [19:48<09:49,  1.84s/it]"
          ]
        },
        {
          "output_type": "stream",
          "name": "stdout",
          "text": [
            "Validation acc: 0.9766\n",
            "\n",
            "Start of epoch 679\n",
            "Training loss: 0.0000\n",
            "Training metric: 0.9821\n",
            "perturbation loss: 0.0000\n"
          ]
        },
        {
          "output_type": "stream",
          "name": "stderr",
          "text": [
            "\r 68%|██████▊   | 680/1000 [19:50<09:23,  1.76s/it]"
          ]
        },
        {
          "output_type": "stream",
          "name": "stdout",
          "text": [
            "Validation acc: 0.9766\n",
            "\n",
            "Start of epoch 680\n",
            "Training loss: 0.0000\n",
            "Training metric: 0.9821\n",
            "perturbation loss: 0.0000\n"
          ]
        },
        {
          "output_type": "stream",
          "name": "stderr",
          "text": [
            "\r 68%|██████▊   | 681/1000 [19:51<09:06,  1.71s/it]"
          ]
        },
        {
          "output_type": "stream",
          "name": "stdout",
          "text": [
            "Validation acc: 0.9688\n",
            "\n",
            "Start of epoch 681\n",
            "Training loss: 0.0000\n",
            "Training metric: 0.9822\n",
            "perturbation loss: 0.0000\n"
          ]
        },
        {
          "output_type": "stream",
          "name": "stderr",
          "text": [
            "\r 68%|██████▊   | 682/1000 [19:53<08:57,  1.69s/it]"
          ]
        },
        {
          "output_type": "stream",
          "name": "stdout",
          "text": [
            "Validation acc: 0.9844\n",
            "\n",
            "Start of epoch 682\n",
            "Training loss: 0.0000\n",
            "Training metric: 0.9822\n",
            "perturbation loss: 0.0000\n"
          ]
        },
        {
          "output_type": "stream",
          "name": "stderr",
          "text": [
            "\r 68%|██████▊   | 683/1000 [19:54<08:43,  1.65s/it]"
          ]
        },
        {
          "output_type": "stream",
          "name": "stdout",
          "text": [
            "Validation acc: 0.9688\n",
            "\n",
            "Start of epoch 683\n",
            "Training loss: 0.0000\n",
            "Training metric: 0.9822\n",
            "perturbation loss: 0.0000\n"
          ]
        },
        {
          "output_type": "stream",
          "name": "stderr",
          "text": [
            "\r 68%|██████▊   | 684/1000 [19:56<08:32,  1.62s/it]"
          ]
        },
        {
          "output_type": "stream",
          "name": "stdout",
          "text": [
            "Validation acc: 0.9688\n",
            "\n",
            "Start of epoch 684\n",
            "Training loss: 0.0000\n",
            "Training metric: 0.9822\n",
            "perturbation loss: 0.0000\n"
          ]
        },
        {
          "output_type": "stream",
          "name": "stderr",
          "text": [
            "\r 68%|██████▊   | 685/1000 [19:58<08:50,  1.68s/it]"
          ]
        },
        {
          "output_type": "stream",
          "name": "stdout",
          "text": [
            "Validation acc: 0.9766\n",
            "\n",
            "Start of epoch 685\n",
            "Training loss: 0.0000\n",
            "Training metric: 0.9823\n",
            "perturbation loss: 0.0000\n"
          ]
        },
        {
          "output_type": "stream",
          "name": "stderr",
          "text": [
            "\r 69%|██████▊   | 686/1000 [20:01<10:36,  2.03s/it]"
          ]
        },
        {
          "output_type": "stream",
          "name": "stdout",
          "text": [
            "Validation acc: 0.9688\n",
            "\n",
            "Start of epoch 686\n",
            "Training loss: 0.0000\n",
            "Training metric: 0.9823\n",
            "perturbation loss: 0.0000\n"
          ]
        },
        {
          "output_type": "stream",
          "name": "stderr",
          "text": [
            "\r 69%|██████▊   | 687/1000 [20:02<09:51,  1.89s/it]"
          ]
        },
        {
          "output_type": "stream",
          "name": "stdout",
          "text": [
            "Validation acc: 0.9688\n",
            "\n",
            "Start of epoch 687\n",
            "Training loss: 0.0000\n",
            "Training metric: 0.9823\n",
            "perturbation loss: 0.0001\n"
          ]
        },
        {
          "output_type": "stream",
          "name": "stderr",
          "text": [
            "\r 69%|██████▉   | 688/1000 [20:04<09:19,  1.79s/it]"
          ]
        },
        {
          "output_type": "stream",
          "name": "stdout",
          "text": [
            "Validation acc: 0.9609\n",
            "\n",
            "Start of epoch 688\n",
            "Training loss: 0.0000\n",
            "Training metric: 0.9823\n",
            "perturbation loss: 0.0001\n"
          ]
        },
        {
          "output_type": "stream",
          "name": "stderr",
          "text": [
            "\r 69%|██████▉   | 689/1000 [20:05<08:59,  1.73s/it]"
          ]
        },
        {
          "output_type": "stream",
          "name": "stdout",
          "text": [
            "Validation acc: 0.9609\n",
            "\n",
            "Start of epoch 689\n",
            "Training loss: 0.0009\n",
            "Training metric: 0.9824\n",
            "perturbation loss: 0.0169\n"
          ]
        },
        {
          "output_type": "stream",
          "name": "stderr",
          "text": [
            "\r 69%|██████▉   | 690/1000 [20:07<08:42,  1.69s/it]"
          ]
        },
        {
          "output_type": "stream",
          "name": "stdout",
          "text": [
            "Validation acc: 0.9375\n",
            "\n",
            "Start of epoch 690\n",
            "Training loss: 0.0045\n",
            "Training metric: 0.9824\n",
            "perturbation loss: 0.0422\n"
          ]
        },
        {
          "output_type": "stream",
          "name": "stderr",
          "text": [
            "\r 69%|██████▉   | 691/1000 [20:09<08:36,  1.67s/it]"
          ]
        },
        {
          "output_type": "stream",
          "name": "stdout",
          "text": [
            "Validation acc: 0.9688\n",
            "\n",
            "Start of epoch 691\n",
            "Training loss: 0.0296\n",
            "Training metric: 0.9824\n",
            "perturbation loss: 0.0268\n"
          ]
        },
        {
          "output_type": "stream",
          "name": "stderr",
          "text": [
            "\r 69%|██████▉   | 692/1000 [20:10<08:24,  1.64s/it]"
          ]
        },
        {
          "output_type": "stream",
          "name": "stdout",
          "text": [
            "Validation acc: 0.9688\n",
            "\n",
            "Start of epoch 692\n",
            "Training loss: 0.0000\n",
            "Training metric: 0.9824\n",
            "perturbation loss: 0.0001\n"
          ]
        },
        {
          "output_type": "stream",
          "name": "stderr",
          "text": [
            "\r 69%|██████▉   | 693/1000 [20:12<09:00,  1.76s/it]"
          ]
        },
        {
          "output_type": "stream",
          "name": "stdout",
          "text": [
            "Validation acc: 0.9766\n",
            "\n",
            "Start of epoch 693\n",
            "Training loss: 0.0000\n",
            "Training metric: 0.9825\n",
            "perturbation loss: 0.0002\n"
          ]
        },
        {
          "output_type": "stream",
          "name": "stderr",
          "text": [
            "\r 69%|██████▉   | 694/1000 [20:14<09:25,  1.85s/it]"
          ]
        },
        {
          "output_type": "stream",
          "name": "stdout",
          "text": [
            "Validation acc: 0.9844\n",
            "\n",
            "Start of epoch 694\n",
            "Training loss: 0.0001\n",
            "Training metric: 0.9825\n",
            "perturbation loss: 0.0005\n"
          ]
        },
        {
          "output_type": "stream",
          "name": "stderr",
          "text": [
            "\r 70%|██████▉   | 695/1000 [20:16<08:58,  1.76s/it]"
          ]
        },
        {
          "output_type": "stream",
          "name": "stdout",
          "text": [
            "Validation acc: 0.9922\n",
            "\n",
            "Start of epoch 695\n",
            "Training loss: 0.0000\n",
            "Training metric: 0.9825\n",
            "perturbation loss: 0.0001\n"
          ]
        },
        {
          "output_type": "stream",
          "name": "stderr",
          "text": [
            "\r 70%|██████▉   | 696/1000 [20:17<08:44,  1.73s/it]"
          ]
        },
        {
          "output_type": "stream",
          "name": "stdout",
          "text": [
            "Validation acc: 0.9922\n",
            "\n",
            "Start of epoch 696\n",
            "Training loss: 0.0000\n",
            "Training metric: 0.9825\n",
            "perturbation loss: 0.0001\n"
          ]
        },
        {
          "output_type": "stream",
          "name": "stderr",
          "text": [
            "\r 70%|██████▉   | 697/1000 [20:19<08:32,  1.69s/it]"
          ]
        },
        {
          "output_type": "stream",
          "name": "stdout",
          "text": [
            "Validation acc: 0.9844\n",
            "\n",
            "Start of epoch 697\n",
            "Training loss: 0.0003\n",
            "Training metric: 0.9826\n",
            "perturbation loss: 0.0091\n"
          ]
        },
        {
          "output_type": "stream",
          "name": "stderr",
          "text": [
            "\r 70%|██████▉   | 698/1000 [20:21<08:27,  1.68s/it]"
          ]
        },
        {
          "output_type": "stream",
          "name": "stdout",
          "text": [
            "Validation acc: 0.9844\n",
            "\n",
            "Start of epoch 698\n",
            "Training loss: 0.0000\n",
            "Training metric: 0.9826\n",
            "perturbation loss: 0.0002\n"
          ]
        },
        {
          "output_type": "stream",
          "name": "stderr",
          "text": [
            "\r 70%|██████▉   | 699/1000 [20:22<08:17,  1.65s/it]"
          ]
        },
        {
          "output_type": "stream",
          "name": "stdout",
          "text": [
            "Validation acc: 0.9922\n",
            "\n",
            "Start of epoch 699\n",
            "Training loss: 0.0000\n",
            "Training metric: 0.9826\n",
            "perturbation loss: 0.0001\n"
          ]
        },
        {
          "output_type": "stream",
          "name": "stderr",
          "text": [
            "\r 70%|███████   | 700/1000 [20:24<08:08,  1.63s/it]"
          ]
        },
        {
          "output_type": "stream",
          "name": "stdout",
          "text": [
            "Validation acc: 0.9922\n",
            "\n",
            "Start of epoch 700\n",
            "Training loss: 0.0000\n",
            "Training metric: 0.9826\n",
            "perturbation loss: 0.0004\n"
          ]
        },
        {
          "output_type": "stream",
          "name": "stderr",
          "text": [
            "\r 70%|███████   | 701/1000 [20:26<09:08,  1.83s/it]"
          ]
        },
        {
          "output_type": "stream",
          "name": "stdout",
          "text": [
            "Validation acc: 0.9766\n",
            "\n",
            "Start of epoch 701\n",
            "Training loss: 0.0000\n",
            "Training metric: 0.9827\n",
            "perturbation loss: 0.0000\n"
          ]
        },
        {
          "output_type": "stream",
          "name": "stderr",
          "text": [
            "\r 70%|███████   | 702/1000 [20:28<09:23,  1.89s/it]"
          ]
        },
        {
          "output_type": "stream",
          "name": "stdout",
          "text": [
            "Validation acc: 0.9922\n",
            "\n",
            "Start of epoch 702\n",
            "Training loss: 0.0000\n",
            "Training metric: 0.9827\n",
            "perturbation loss: 0.0001\n"
          ]
        },
        {
          "output_type": "stream",
          "name": "stderr",
          "text": [
            "\r 70%|███████   | 703/1000 [20:30<08:52,  1.79s/it]"
          ]
        },
        {
          "output_type": "stream",
          "name": "stdout",
          "text": [
            "Validation acc: 0.9922\n",
            "\n",
            "Start of epoch 703\n",
            "Training loss: 0.0000\n",
            "Training metric: 0.9827\n",
            "perturbation loss: 0.0001\n"
          ]
        },
        {
          "output_type": "stream",
          "name": "stderr",
          "text": [
            "\r 70%|███████   | 704/1000 [20:31<08:33,  1.73s/it]"
          ]
        },
        {
          "output_type": "stream",
          "name": "stdout",
          "text": [
            "Validation acc: 0.9922\n",
            "\n",
            "Start of epoch 704\n",
            "Training loss: 0.0001\n",
            "Training metric: 0.9827\n",
            "perturbation loss: 0.0003\n"
          ]
        },
        {
          "output_type": "stream",
          "name": "stderr",
          "text": [
            "\r 70%|███████   | 705/1000 [20:33<08:22,  1.70s/it]"
          ]
        },
        {
          "output_type": "stream",
          "name": "stdout",
          "text": [
            "Validation acc: 0.9844\n",
            "\n",
            "Start of epoch 705\n",
            "Training loss: 0.0000\n",
            "Training metric: 0.9828\n",
            "perturbation loss: 0.0000\n"
          ]
        },
        {
          "output_type": "stream",
          "name": "stderr",
          "text": [
            "\r 71%|███████   | 706/1000 [20:35<08:10,  1.67s/it]"
          ]
        },
        {
          "output_type": "stream",
          "name": "stdout",
          "text": [
            "Validation acc: 0.9922\n",
            "\n",
            "Start of epoch 706\n",
            "Training loss: 0.0000\n",
            "Training metric: 0.9828\n",
            "perturbation loss: 0.0000\n"
          ]
        },
        {
          "output_type": "stream",
          "name": "stderr",
          "text": [
            "\r 71%|███████   | 707/1000 [20:36<07:58,  1.63s/it]"
          ]
        },
        {
          "output_type": "stream",
          "name": "stdout",
          "text": [
            "Validation acc: 0.9922\n",
            "\n",
            "Start of epoch 707\n",
            "Training loss: 0.0000\n",
            "Training metric: 0.9828\n",
            "perturbation loss: 0.0003\n"
          ]
        },
        {
          "output_type": "stream",
          "name": "stderr",
          "text": [
            "\r 71%|███████   | 708/1000 [20:38<07:51,  1.61s/it]"
          ]
        },
        {
          "output_type": "stream",
          "name": "stdout",
          "text": [
            "Validation acc: 0.9844\n",
            "\n",
            "Start of epoch 708\n",
            "Training loss: 0.0000\n",
            "Training metric: 0.9828\n",
            "perturbation loss: 0.0000\n"
          ]
        },
        {
          "output_type": "stream",
          "name": "stderr",
          "text": [
            "\r 71%|███████   | 709/1000 [20:40<08:51,  1.83s/it]"
          ]
        },
        {
          "output_type": "stream",
          "name": "stdout",
          "text": [
            "Validation acc: 0.9922\n",
            "\n",
            "Start of epoch 709\n",
            "Training loss: 0.0000\n",
            "Training metric: 0.9828\n",
            "perturbation loss: 0.0005\n"
          ]
        },
        {
          "output_type": "stream",
          "name": "stderr",
          "text": [
            "\r 71%|███████   | 710/1000 [20:42<09:03,  1.87s/it]"
          ]
        },
        {
          "output_type": "stream",
          "name": "stdout",
          "text": [
            "Validation acc: 0.9844\n",
            "\n",
            "Start of epoch 710\n",
            "Training loss: 0.0000\n",
            "Training metric: 0.9829\n",
            "perturbation loss: 0.0000\n"
          ]
        },
        {
          "output_type": "stream",
          "name": "stderr",
          "text": [
            "\r 71%|███████   | 711/1000 [20:44<08:35,  1.78s/it]"
          ]
        },
        {
          "output_type": "stream",
          "name": "stdout",
          "text": [
            "Validation acc: 0.9922\n",
            "\n",
            "Start of epoch 711\n",
            "Training loss: 0.0000\n",
            "Training metric: 0.9829\n",
            "perturbation loss: 0.0001\n"
          ]
        },
        {
          "output_type": "stream",
          "name": "stderr",
          "text": [
            "\r 71%|███████   | 712/1000 [20:45<08:14,  1.72s/it]"
          ]
        },
        {
          "output_type": "stream",
          "name": "stdout",
          "text": [
            "Validation acc: 0.9922\n",
            "\n",
            "Start of epoch 712\n",
            "Training loss: 0.0000\n",
            "Training metric: 0.9829\n",
            "perturbation loss: 0.0000\n"
          ]
        },
        {
          "output_type": "stream",
          "name": "stderr",
          "text": [
            "\r 71%|███████▏  | 713/1000 [20:47<08:00,  1.67s/it]"
          ]
        },
        {
          "output_type": "stream",
          "name": "stdout",
          "text": [
            "Validation acc: 0.9922\n",
            "\n",
            "Start of epoch 713\n",
            "Training loss: 0.0000\n",
            "Training metric: 0.9829\n",
            "perturbation loss: 0.0000\n"
          ]
        },
        {
          "output_type": "stream",
          "name": "stderr",
          "text": [
            "\r 71%|███████▏  | 714/1000 [20:48<07:48,  1.64s/it]"
          ]
        },
        {
          "output_type": "stream",
          "name": "stdout",
          "text": [
            "Validation acc: 0.9922\n",
            "\n",
            "Start of epoch 714\n",
            "Training loss: 0.0001\n",
            "Training metric: 0.9830\n",
            "perturbation loss: 0.0011\n"
          ]
        },
        {
          "output_type": "stream",
          "name": "stderr",
          "text": [
            "\r 72%|███████▏  | 715/1000 [20:50<07:48,  1.64s/it]"
          ]
        },
        {
          "output_type": "stream",
          "name": "stdout",
          "text": [
            "Validation acc: 0.9766\n",
            "\n",
            "Start of epoch 715\n",
            "Training loss: 0.0001\n",
            "Training metric: 0.9830\n",
            "perturbation loss: 0.0007\n"
          ]
        },
        {
          "output_type": "stream",
          "name": "stderr",
          "text": [
            "\r 72%|███████▏  | 716/1000 [20:52<07:42,  1.63s/it]"
          ]
        },
        {
          "output_type": "stream",
          "name": "stdout",
          "text": [
            "Validation acc: 0.9531\n",
            "\n",
            "Start of epoch 716\n",
            "Training loss: 0.0005\n",
            "Training metric: 0.9830\n",
            "perturbation loss: 0.0158\n"
          ]
        },
        {
          "output_type": "stream",
          "name": "stderr",
          "text": [
            "\r 72%|███████▏  | 717/1000 [20:54<08:42,  1.85s/it]"
          ]
        },
        {
          "output_type": "stream",
          "name": "stdout",
          "text": [
            "Validation acc: 0.9688\n",
            "\n",
            "Start of epoch 717\n",
            "Training loss: 0.0000\n",
            "Training metric: 0.9830\n",
            "perturbation loss: 0.0000\n"
          ]
        },
        {
          "output_type": "stream",
          "name": "stderr",
          "text": [
            "\r 72%|███████▏  | 718/1000 [20:56<08:51,  1.88s/it]"
          ]
        },
        {
          "output_type": "stream",
          "name": "stdout",
          "text": [
            "Validation acc: 0.9766\n",
            "\n",
            "Start of epoch 718\n",
            "Training loss: 0.0000\n",
            "Training metric: 0.9831\n",
            "perturbation loss: 0.0000\n"
          ]
        },
        {
          "output_type": "stream",
          "name": "stderr",
          "text": [
            "\r 72%|███████▏  | 719/1000 [20:57<08:24,  1.80s/it]"
          ]
        },
        {
          "output_type": "stream",
          "name": "stdout",
          "text": [
            "Validation acc: 0.9766\n",
            "\n",
            "Start of epoch 719\n",
            "Training loss: 0.0000\n",
            "Training metric: 0.9831\n",
            "perturbation loss: 0.0001\n"
          ]
        },
        {
          "output_type": "stream",
          "name": "stderr",
          "text": [
            "\r 72%|███████▏  | 720/1000 [20:59<08:05,  1.73s/it]"
          ]
        },
        {
          "output_type": "stream",
          "name": "stdout",
          "text": [
            "Validation acc: 0.9688\n",
            "\n",
            "Start of epoch 720\n",
            "Training loss: 0.0000\n",
            "Training metric: 0.9831\n",
            "perturbation loss: 0.0000\n"
          ]
        },
        {
          "output_type": "stream",
          "name": "stderr",
          "text": [
            "\r 72%|███████▏  | 721/1000 [21:01<07:50,  1.69s/it]"
          ]
        },
        {
          "output_type": "stream",
          "name": "stdout",
          "text": [
            "Validation acc: 0.9766\n",
            "\n",
            "Start of epoch 721\n",
            "Training loss: 0.0000\n",
            "Training metric: 0.9831\n",
            "perturbation loss: 0.0000\n"
          ]
        },
        {
          "output_type": "stream",
          "name": "stderr",
          "text": [
            "\r 72%|███████▏  | 722/1000 [21:02<07:42,  1.66s/it]"
          ]
        },
        {
          "output_type": "stream",
          "name": "stdout",
          "text": [
            "Validation acc: 0.9766\n",
            "\n",
            "Start of epoch 722\n",
            "Training loss: 0.0000\n",
            "Training metric: 0.9832\n",
            "perturbation loss: 0.0000\n"
          ]
        },
        {
          "output_type": "stream",
          "name": "stderr",
          "text": [
            "\r 72%|███████▏  | 723/1000 [21:04<07:36,  1.65s/it]"
          ]
        },
        {
          "output_type": "stream",
          "name": "stdout",
          "text": [
            "Validation acc: 0.9766\n",
            "\n",
            "Start of epoch 723\n",
            "Training loss: 0.0000\n",
            "Training metric: 0.9832\n",
            "perturbation loss: 0.0000\n"
          ]
        },
        {
          "output_type": "stream",
          "name": "stderr",
          "text": [
            "\r 72%|███████▏  | 724/1000 [21:06<07:36,  1.65s/it]"
          ]
        },
        {
          "output_type": "stream",
          "name": "stdout",
          "text": [
            "Validation acc: 0.9766\n",
            "\n",
            "Start of epoch 724\n",
            "Training loss: 0.0000\n",
            "Training metric: 0.9832\n",
            "perturbation loss: 0.0001\n"
          ]
        },
        {
          "output_type": "stream",
          "name": "stderr",
          "text": [
            "\r 72%|███████▎  | 725/1000 [21:08<08:11,  1.79s/it]"
          ]
        },
        {
          "output_type": "stream",
          "name": "stdout",
          "text": [
            "Validation acc: 0.9688\n",
            "\n",
            "Start of epoch 725\n",
            "Training loss: 0.0000\n",
            "Training metric: 0.9832\n",
            "perturbation loss: 0.0000\n"
          ]
        },
        {
          "output_type": "stream",
          "name": "stderr",
          "text": [
            "\r 73%|███████▎  | 726/1000 [21:10<08:28,  1.85s/it]"
          ]
        },
        {
          "output_type": "stream",
          "name": "stdout",
          "text": [
            "Validation acc: 0.9766\n",
            "\n",
            "Start of epoch 726\n",
            "Training loss: 0.0000\n",
            "Training metric: 0.9832\n",
            "perturbation loss: 0.0000\n"
          ]
        },
        {
          "output_type": "stream",
          "name": "stderr",
          "text": [
            "\r 73%|███████▎  | 727/1000 [21:11<08:02,  1.77s/it]"
          ]
        },
        {
          "output_type": "stream",
          "name": "stdout",
          "text": [
            "Validation acc: 0.9844\n",
            "\n",
            "Start of epoch 727\n",
            "Training loss: 0.0000\n",
            "Training metric: 0.9833\n",
            "perturbation loss: 0.0000\n"
          ]
        },
        {
          "output_type": "stream",
          "name": "stderr",
          "text": [
            "\r 73%|███████▎  | 728/1000 [21:13<07:47,  1.72s/it]"
          ]
        },
        {
          "output_type": "stream",
          "name": "stdout",
          "text": [
            "Validation acc: 0.9766\n",
            "\n",
            "Start of epoch 728\n",
            "Training loss: 0.0000\n",
            "Training metric: 0.9833\n",
            "perturbation loss: 0.0000\n"
          ]
        },
        {
          "output_type": "stream",
          "name": "stderr",
          "text": [
            "\r 73%|███████▎  | 729/1000 [21:14<07:34,  1.68s/it]"
          ]
        },
        {
          "output_type": "stream",
          "name": "stdout",
          "text": [
            "Validation acc: 0.9844\n",
            "\n",
            "Start of epoch 729\n",
            "Training loss: 0.0000\n",
            "Training metric: 0.9833\n",
            "perturbation loss: 0.0000\n"
          ]
        },
        {
          "output_type": "stream",
          "name": "stderr",
          "text": [
            "\r 73%|███████▎  | 730/1000 [21:16<07:29,  1.67s/it]"
          ]
        },
        {
          "output_type": "stream",
          "name": "stdout",
          "text": [
            "Validation acc: 0.9844\n",
            "\n",
            "Start of epoch 730\n",
            "Training loss: 0.0000\n",
            "Training metric: 0.9833\n",
            "perturbation loss: 0.0000\n"
          ]
        },
        {
          "output_type": "stream",
          "name": "stderr",
          "text": [
            "\r 73%|███████▎  | 731/1000 [21:18<07:22,  1.64s/it]"
          ]
        },
        {
          "output_type": "stream",
          "name": "stdout",
          "text": [
            "Validation acc: 0.9766\n",
            "\n",
            "Start of epoch 731\n",
            "Training loss: 0.0000\n",
            "Training metric: 0.9834\n",
            "perturbation loss: 0.0000\n"
          ]
        },
        {
          "output_type": "stream",
          "name": "stderr",
          "text": [
            "\r 73%|███████▎  | 732/1000 [21:19<07:20,  1.64s/it]"
          ]
        },
        {
          "output_type": "stream",
          "name": "stdout",
          "text": [
            "Validation acc: 0.9766\n",
            "\n",
            "Start of epoch 732\n",
            "Training loss: 0.0000\n",
            "Training metric: 0.9834\n",
            "perturbation loss: 0.0001\n"
          ]
        },
        {
          "output_type": "stream",
          "name": "stderr",
          "text": [
            "\r 73%|███████▎  | 733/1000 [21:22<08:20,  1.87s/it]"
          ]
        },
        {
          "output_type": "stream",
          "name": "stdout",
          "text": [
            "Validation acc: 0.9922\n",
            "\n",
            "Start of epoch 733\n",
            "Training loss: 0.0000\n",
            "Training metric: 0.9834\n",
            "perturbation loss: 0.0000\n"
          ]
        },
        {
          "output_type": "stream",
          "name": "stderr",
          "text": [
            "\r 73%|███████▎  | 734/1000 [21:24<08:22,  1.89s/it]"
          ]
        },
        {
          "output_type": "stream",
          "name": "stdout",
          "text": [
            "Validation acc: 0.9922\n",
            "\n",
            "Start of epoch 734\n",
            "Training loss: 0.0000\n",
            "Training metric: 0.9834\n",
            "perturbation loss: 0.0001\n"
          ]
        },
        {
          "output_type": "stream",
          "name": "stderr",
          "text": [
            "\r 74%|███████▎  | 735/1000 [21:25<07:58,  1.81s/it]"
          ]
        },
        {
          "output_type": "stream",
          "name": "stdout",
          "text": [
            "Validation acc: 0.9688\n",
            "\n",
            "Start of epoch 735\n",
            "Training loss: 0.0000\n",
            "Training metric: 0.9835\n",
            "perturbation loss: 0.0000\n"
          ]
        },
        {
          "output_type": "stream",
          "name": "stderr",
          "text": [
            "\r 74%|███████▎  | 736/1000 [21:27<07:38,  1.74s/it]"
          ]
        },
        {
          "output_type": "stream",
          "name": "stdout",
          "text": [
            "Validation acc: 0.9766\n",
            "\n",
            "Start of epoch 736\n",
            "Training loss: 0.0000\n",
            "Training metric: 0.9835\n",
            "perturbation loss: 0.0000\n"
          ]
        },
        {
          "output_type": "stream",
          "name": "stderr",
          "text": [
            "\r 74%|███████▎  | 737/1000 [21:28<07:25,  1.70s/it]"
          ]
        },
        {
          "output_type": "stream",
          "name": "stdout",
          "text": [
            "Validation acc: 0.9844\n",
            "\n",
            "Start of epoch 737\n",
            "Training loss: 0.0000\n",
            "Training metric: 0.9835\n",
            "perturbation loss: 0.0002\n"
          ]
        },
        {
          "output_type": "stream",
          "name": "stderr",
          "text": [
            "\r 74%|███████▍  | 738/1000 [21:30<07:16,  1.67s/it]"
          ]
        },
        {
          "output_type": "stream",
          "name": "stdout",
          "text": [
            "Validation acc: 0.9766\n",
            "\n",
            "Start of epoch 738\n",
            "Training loss: 0.0000\n",
            "Training metric: 0.9835\n",
            "perturbation loss: 0.0000\n"
          ]
        },
        {
          "output_type": "stream",
          "name": "stderr",
          "text": [
            "\r 74%|███████▍  | 739/1000 [21:32<07:14,  1.66s/it]"
          ]
        },
        {
          "output_type": "stream",
          "name": "stdout",
          "text": [
            "Validation acc: 0.9844\n",
            "\n",
            "Start of epoch 739\n",
            "Training loss: 0.0000\n",
            "Training metric: 0.9835\n",
            "perturbation loss: 0.0000\n"
          ]
        },
        {
          "output_type": "stream",
          "name": "stderr",
          "text": [
            "\r 74%|███████▍  | 740/1000 [21:33<07:12,  1.66s/it]"
          ]
        },
        {
          "output_type": "stream",
          "name": "stdout",
          "text": [
            "Validation acc: 0.9844\n",
            "\n",
            "Start of epoch 740\n",
            "Training loss: 0.0000\n",
            "Training metric: 0.9836\n",
            "perturbation loss: 0.0011\n"
          ]
        },
        {
          "output_type": "stream",
          "name": "stderr",
          "text": [
            "\r 74%|███████▍  | 741/1000 [21:35<07:42,  1.78s/it]"
          ]
        },
        {
          "output_type": "stream",
          "name": "stdout",
          "text": [
            "Validation acc: 0.9844\n",
            "\n",
            "Start of epoch 741\n",
            "Training loss: 0.0000\n",
            "Training metric: 0.9836\n",
            "perturbation loss: 0.0000\n"
          ]
        },
        {
          "output_type": "stream",
          "name": "stderr",
          "text": [
            "\r 74%|███████▍  | 742/1000 [21:37<07:58,  1.85s/it]"
          ]
        },
        {
          "output_type": "stream",
          "name": "stdout",
          "text": [
            "Validation acc: 0.9766\n",
            "\n",
            "Start of epoch 742\n",
            "Training loss: 0.0000\n",
            "Training metric: 0.9836\n",
            "perturbation loss: 0.0000\n"
          ]
        },
        {
          "output_type": "stream",
          "name": "stderr",
          "text": [
            "\r 74%|███████▍  | 743/1000 [21:39<07:34,  1.77s/it]"
          ]
        },
        {
          "output_type": "stream",
          "name": "stdout",
          "text": [
            "Validation acc: 0.9531\n",
            "\n",
            "Start of epoch 743\n",
            "Training loss: 0.0000\n",
            "Training metric: 0.9836\n",
            "perturbation loss: 0.0014\n"
          ]
        },
        {
          "output_type": "stream",
          "name": "stderr",
          "text": [
            "\r 74%|███████▍  | 744/1000 [21:41<07:19,  1.72s/it]"
          ]
        },
        {
          "output_type": "stream",
          "name": "stdout",
          "text": [
            "Validation acc: 0.9766\n",
            "\n",
            "Start of epoch 744\n",
            "Training loss: 0.0000\n",
            "Training metric: 0.9837\n",
            "perturbation loss: 0.0000\n"
          ]
        },
        {
          "output_type": "stream",
          "name": "stderr",
          "text": [
            "\r 74%|███████▍  | 745/1000 [21:42<07:06,  1.67s/it]"
          ]
        },
        {
          "output_type": "stream",
          "name": "stdout",
          "text": [
            "Validation acc: 0.9688\n",
            "\n",
            "Start of epoch 745\n",
            "Training loss: 0.0011\n",
            "Training metric: 0.9837\n",
            "perturbation loss: 0.0335\n"
          ]
        },
        {
          "output_type": "stream",
          "name": "stderr",
          "text": [
            "\r 75%|███████▍  | 746/1000 [21:44<06:58,  1.65s/it]"
          ]
        },
        {
          "output_type": "stream",
          "name": "stdout",
          "text": [
            "Validation acc: 0.9766\n",
            "\n",
            "Start of epoch 746\n",
            "Training loss: 0.0000\n",
            "Training metric: 0.9837\n",
            "perturbation loss: 0.0001\n"
          ]
        },
        {
          "output_type": "stream",
          "name": "stderr",
          "text": [
            "\r 75%|███████▍  | 747/1000 [21:45<06:50,  1.62s/it]"
          ]
        },
        {
          "output_type": "stream",
          "name": "stdout",
          "text": [
            "Validation acc: 0.9688\n",
            "\n",
            "Start of epoch 747\n",
            "Training loss: 0.0000\n",
            "Training metric: 0.9837\n",
            "perturbation loss: 0.0001\n"
          ]
        },
        {
          "output_type": "stream",
          "name": "stderr",
          "text": [
            "\r 75%|███████▍  | 748/1000 [21:47<06:46,  1.61s/it]"
          ]
        },
        {
          "output_type": "stream",
          "name": "stdout",
          "text": [
            "Validation acc: 0.9688\n",
            "\n",
            "Start of epoch 748\n",
            "Training loss: 0.0013\n",
            "Training metric: 0.9837\n",
            "perturbation loss: 0.0003\n"
          ]
        },
        {
          "output_type": "stream",
          "name": "stderr",
          "text": [
            "\r 75%|███████▍  | 749/1000 [21:49<07:14,  1.73s/it]"
          ]
        },
        {
          "output_type": "stream",
          "name": "stdout",
          "text": [
            "Validation acc: 0.9688\n",
            "\n",
            "Start of epoch 749\n",
            "Training loss: 0.0000\n",
            "Training metric: 0.9838\n",
            "perturbation loss: 0.0001\n"
          ]
        },
        {
          "output_type": "stream",
          "name": "stderr",
          "text": [
            "\r 75%|███████▌  | 750/1000 [21:51<07:41,  1.85s/it]"
          ]
        },
        {
          "output_type": "stream",
          "name": "stdout",
          "text": [
            "Validation acc: 0.9688\n",
            "\n",
            "Start of epoch 750\n",
            "Training loss: 0.0001\n",
            "Training metric: 0.9838\n",
            "perturbation loss: 0.0020\n"
          ]
        },
        {
          "output_type": "stream",
          "name": "stderr",
          "text": [
            "\r 75%|███████▌  | 751/1000 [21:53<07:24,  1.78s/it]"
          ]
        },
        {
          "output_type": "stream",
          "name": "stdout",
          "text": [
            "Validation acc: 0.9766\n",
            "\n",
            "Start of epoch 751\n",
            "Training loss: 0.0000\n",
            "Training metric: 0.9838\n",
            "perturbation loss: 0.0001\n"
          ]
        },
        {
          "output_type": "stream",
          "name": "stderr",
          "text": [
            "\r 75%|███████▌  | 752/1000 [21:54<07:13,  1.75s/it]"
          ]
        },
        {
          "output_type": "stream",
          "name": "stdout",
          "text": [
            "Validation acc: 0.9844\n",
            "\n",
            "Start of epoch 752\n",
            "Training loss: 0.0000\n",
            "Training metric: 0.9838\n",
            "perturbation loss: 0.0001\n"
          ]
        },
        {
          "output_type": "stream",
          "name": "stderr",
          "text": [
            "\r 75%|███████▌  | 753/1000 [21:56<06:58,  1.70s/it]"
          ]
        },
        {
          "output_type": "stream",
          "name": "stdout",
          "text": [
            "Validation acc: 0.9844\n",
            "\n",
            "Start of epoch 753\n",
            "Training loss: 0.0000\n",
            "Training metric: 0.9838\n",
            "perturbation loss: 0.0000\n"
          ]
        },
        {
          "output_type": "stream",
          "name": "stderr",
          "text": [
            "\r 75%|███████▌  | 754/1000 [21:58<06:53,  1.68s/it]"
          ]
        },
        {
          "output_type": "stream",
          "name": "stdout",
          "text": [
            "Validation acc: 0.9844\n",
            "\n",
            "Start of epoch 754\n",
            "Training loss: 0.0000\n",
            "Training metric: 0.9839\n",
            "perturbation loss: 0.0001\n"
          ]
        },
        {
          "output_type": "stream",
          "name": "stderr",
          "text": [
            "\r 76%|███████▌  | 755/1000 [21:59<06:47,  1.66s/it]"
          ]
        },
        {
          "output_type": "stream",
          "name": "stdout",
          "text": [
            "Validation acc: 0.9844\n",
            "\n",
            "Start of epoch 755\n",
            "Training loss: 0.0000\n",
            "Training metric: 0.9839\n",
            "perturbation loss: 0.0000\n"
          ]
        },
        {
          "output_type": "stream",
          "name": "stderr",
          "text": [
            "\r 76%|███████▌  | 756/1000 [22:01<06:45,  1.66s/it]"
          ]
        },
        {
          "output_type": "stream",
          "name": "stdout",
          "text": [
            "Validation acc: 0.9766\n",
            "\n",
            "Start of epoch 756\n",
            "Training loss: 0.0000\n",
            "Training metric: 0.9839\n",
            "perturbation loss: 0.0000\n"
          ]
        },
        {
          "output_type": "stream",
          "name": "stderr",
          "text": [
            "\r 76%|███████▌  | 757/1000 [22:03<07:29,  1.85s/it]"
          ]
        },
        {
          "output_type": "stream",
          "name": "stdout",
          "text": [
            "Validation acc: 0.9844\n",
            "\n",
            "Start of epoch 757\n",
            "Training loss: 0.0000\n",
            "Training metric: 0.9839\n",
            "perturbation loss: 0.0000\n"
          ]
        },
        {
          "output_type": "stream",
          "name": "stderr",
          "text": [
            "\r 76%|███████▌  | 758/1000 [22:05<07:46,  1.93s/it]"
          ]
        },
        {
          "output_type": "stream",
          "name": "stdout",
          "text": [
            "Validation acc: 0.9844\n",
            "\n",
            "Start of epoch 758\n",
            "Training loss: 0.0000\n",
            "Training metric: 0.9840\n",
            "perturbation loss: 0.0000\n"
          ]
        },
        {
          "output_type": "stream",
          "name": "stderr",
          "text": [
            "\r 76%|███████▌  | 759/1000 [22:07<07:19,  1.83s/it]"
          ]
        },
        {
          "output_type": "stream",
          "name": "stdout",
          "text": [
            "Validation acc: 0.9844\n",
            "\n",
            "Start of epoch 759\n",
            "Training loss: 0.0000\n",
            "Training metric: 0.9840\n",
            "perturbation loss: 0.0000\n"
          ]
        },
        {
          "output_type": "stream",
          "name": "stderr",
          "text": [
            "\r 76%|███████▌  | 760/1000 [22:08<07:00,  1.75s/it]"
          ]
        },
        {
          "output_type": "stream",
          "name": "stdout",
          "text": [
            "Validation acc: 0.9844\n",
            "\n",
            "Start of epoch 760\n",
            "Training loss: 0.0000\n",
            "Training metric: 0.9840\n",
            "perturbation loss: 0.0000\n"
          ]
        },
        {
          "output_type": "stream",
          "name": "stderr",
          "text": [
            "\r 76%|███████▌  | 761/1000 [22:10<06:47,  1.70s/it]"
          ]
        },
        {
          "output_type": "stream",
          "name": "stdout",
          "text": [
            "Validation acc: 0.9844\n",
            "\n",
            "Start of epoch 761\n",
            "Training loss: 0.0000\n",
            "Training metric: 0.9840\n",
            "perturbation loss: 0.0000\n"
          ]
        },
        {
          "output_type": "stream",
          "name": "stderr",
          "text": [
            "\r 76%|███████▌  | 762/1000 [22:12<06:35,  1.66s/it]"
          ]
        },
        {
          "output_type": "stream",
          "name": "stdout",
          "text": [
            "Validation acc: 0.9844\n",
            "\n",
            "Start of epoch 762\n",
            "Training loss: 0.0000\n",
            "Training metric: 0.9840\n",
            "perturbation loss: 0.0000\n"
          ]
        },
        {
          "output_type": "stream",
          "name": "stderr",
          "text": [
            "\r 76%|███████▋  | 763/1000 [22:13<06:29,  1.64s/it]"
          ]
        },
        {
          "output_type": "stream",
          "name": "stdout",
          "text": [
            "Validation acc: 0.9844\n",
            "\n",
            "Start of epoch 763\n",
            "Training loss: 0.0000\n",
            "Training metric: 0.9841\n",
            "perturbation loss: 0.0000\n"
          ]
        },
        {
          "output_type": "stream",
          "name": "stderr",
          "text": [
            "\r 76%|███████▋  | 764/1000 [22:15<06:23,  1.62s/it]"
          ]
        },
        {
          "output_type": "stream",
          "name": "stdout",
          "text": [
            "Validation acc: 0.9844\n",
            "\n",
            "Start of epoch 764\n",
            "Training loss: 0.0000\n",
            "Training metric: 0.9841\n",
            "perturbation loss: 0.0000\n"
          ]
        },
        {
          "output_type": "stream",
          "name": "stderr",
          "text": [
            "\r 76%|███████▋  | 765/1000 [22:17<06:47,  1.73s/it]"
          ]
        },
        {
          "output_type": "stream",
          "name": "stdout",
          "text": [
            "Validation acc: 0.9766\n",
            "\n",
            "Start of epoch 765\n",
            "Training loss: 0.0000\n",
            "Training metric: 0.9841\n",
            "perturbation loss: 0.0000\n"
          ]
        },
        {
          "output_type": "stream",
          "name": "stderr",
          "text": [
            "\r 77%|███████▋  | 766/1000 [22:19<07:33,  1.94s/it]"
          ]
        },
        {
          "output_type": "stream",
          "name": "stdout",
          "text": [
            "Validation acc: 0.9844\n",
            "\n",
            "Start of epoch 766\n",
            "Training loss: 0.0000\n",
            "Training metric: 0.9841\n",
            "perturbation loss: 0.0001\n"
          ]
        },
        {
          "output_type": "stream",
          "name": "stderr",
          "text": [
            "\r 77%|███████▋  | 767/1000 [22:21<07:13,  1.86s/it]"
          ]
        },
        {
          "output_type": "stream",
          "name": "stdout",
          "text": [
            "Validation acc: 0.9766\n",
            "\n",
            "Start of epoch 767\n",
            "Training loss: 0.0000\n",
            "Training metric: 0.9841\n",
            "perturbation loss: 0.0000\n"
          ]
        },
        {
          "output_type": "stream",
          "name": "stderr",
          "text": [
            "\r 77%|███████▋  | 768/1000 [22:22<06:52,  1.78s/it]"
          ]
        },
        {
          "output_type": "stream",
          "name": "stdout",
          "text": [
            "Validation acc: 0.9844\n",
            "\n",
            "Start of epoch 768\n",
            "Training loss: 0.0000\n",
            "Training metric: 0.9842\n",
            "perturbation loss: 0.0000\n"
          ]
        },
        {
          "output_type": "stream",
          "name": "stderr",
          "text": [
            "\r 77%|███████▋  | 769/1000 [22:24<06:37,  1.72s/it]"
          ]
        },
        {
          "output_type": "stream",
          "name": "stdout",
          "text": [
            "Validation acc: 0.9922\n",
            "\n",
            "Start of epoch 769\n",
            "Training loss: 0.0000\n",
            "Training metric: 0.9842\n",
            "perturbation loss: 0.0000\n"
          ]
        },
        {
          "output_type": "stream",
          "name": "stderr",
          "text": [
            "\r 77%|███████▋  | 770/1000 [22:26<06:25,  1.68s/it]"
          ]
        },
        {
          "output_type": "stream",
          "name": "stdout",
          "text": [
            "Validation acc: 0.9766\n",
            "\n",
            "Start of epoch 770\n",
            "Training loss: 0.0000\n",
            "Training metric: 0.9842\n",
            "perturbation loss: 0.0002\n"
          ]
        },
        {
          "output_type": "stream",
          "name": "stderr",
          "text": [
            "\r 77%|███████▋  | 771/1000 [22:27<06:17,  1.65s/it]"
          ]
        },
        {
          "output_type": "stream",
          "name": "stdout",
          "text": [
            "Validation acc: 0.9531\n",
            "\n",
            "Start of epoch 771\n",
            "Training loss: 0.0000\n",
            "Training metric: 0.9842\n",
            "perturbation loss: 0.0001\n"
          ]
        },
        {
          "output_type": "stream",
          "name": "stderr",
          "text": [
            "\r 77%|███████▋  | 772/1000 [22:29<06:15,  1.65s/it]"
          ]
        },
        {
          "output_type": "stream",
          "name": "stdout",
          "text": [
            "Validation acc: 0.9531\n",
            "\n",
            "Start of epoch 772\n",
            "Training loss: 0.0027\n",
            "Training metric: 0.9842\n",
            "perturbation loss: 0.0870\n"
          ]
        },
        {
          "output_type": "stream",
          "name": "stderr",
          "text": [
            "\r 77%|███████▋  | 773/1000 [22:31<06:41,  1.77s/it]"
          ]
        },
        {
          "output_type": "stream",
          "name": "stdout",
          "text": [
            "Validation acc: 0.9688\n",
            "\n",
            "Start of epoch 773\n",
            "Training loss: 0.0000\n",
            "Training metric: 0.9843\n",
            "perturbation loss: 0.0003\n"
          ]
        },
        {
          "output_type": "stream",
          "name": "stderr",
          "text": [
            "\r 77%|███████▋  | 774/1000 [22:33<07:01,  1.87s/it]"
          ]
        },
        {
          "output_type": "stream",
          "name": "stdout",
          "text": [
            "Validation acc: 0.9609\n",
            "\n",
            "Start of epoch 774\n",
            "Training loss: 0.0028\n",
            "Training metric: 0.9843\n",
            "perturbation loss: 0.0023\n"
          ]
        },
        {
          "output_type": "stream",
          "name": "stderr",
          "text": [
            "\r 78%|███████▊  | 775/1000 [22:34<06:39,  1.78s/it]"
          ]
        },
        {
          "output_type": "stream",
          "name": "stdout",
          "text": [
            "Validation acc: 0.9766\n",
            "\n",
            "Start of epoch 775\n",
            "Training loss: 0.0000\n",
            "Training metric: 0.9843\n",
            "perturbation loss: 0.0001\n"
          ]
        },
        {
          "output_type": "stream",
          "name": "stderr",
          "text": [
            "\r 78%|███████▊  | 776/1000 [22:36<06:25,  1.72s/it]"
          ]
        },
        {
          "output_type": "stream",
          "name": "stdout",
          "text": [
            "Validation acc: 0.9688\n",
            "\n",
            "Start of epoch 776\n",
            "Training loss: 0.0012\n",
            "Training metric: 0.9843\n",
            "perturbation loss: 0.0060\n"
          ]
        },
        {
          "output_type": "stream",
          "name": "stderr",
          "text": [
            "\r 78%|███████▊  | 777/1000 [22:38<06:13,  1.68s/it]"
          ]
        },
        {
          "output_type": "stream",
          "name": "stdout",
          "text": [
            "Validation acc: 0.9531\n",
            "\n",
            "Start of epoch 777\n",
            "Training loss: 0.0000\n",
            "Training metric: 0.9843\n",
            "perturbation loss: 0.0000\n"
          ]
        },
        {
          "output_type": "stream",
          "name": "stderr",
          "text": [
            "\r 78%|███████▊  | 778/1000 [22:39<06:05,  1.65s/it]"
          ]
        },
        {
          "output_type": "stream",
          "name": "stdout",
          "text": [
            "Validation acc: 0.9531\n",
            "\n",
            "Start of epoch 778\n",
            "Training loss: 0.0009\n",
            "Training metric: 0.9844\n",
            "perturbation loss: 0.0302\n"
          ]
        },
        {
          "output_type": "stream",
          "name": "stderr",
          "text": [
            "\r 78%|███████▊  | 779/1000 [22:41<06:03,  1.64s/it]"
          ]
        },
        {
          "output_type": "stream",
          "name": "stdout",
          "text": [
            "Validation acc: 0.9609\n",
            "\n",
            "Start of epoch 779\n",
            "Training loss: 0.0000\n",
            "Training metric: 0.9844\n",
            "perturbation loss: 0.0000\n"
          ]
        },
        {
          "output_type": "stream",
          "name": "stderr",
          "text": [
            "\r 78%|███████▊  | 780/1000 [22:42<05:57,  1.63s/it]"
          ]
        },
        {
          "output_type": "stream",
          "name": "stdout",
          "text": [
            "Validation acc: 0.9688\n",
            "\n",
            "Start of epoch 780\n",
            "Training loss: 0.0000\n",
            "Training metric: 0.9844\n",
            "perturbation loss: 0.0002\n"
          ]
        },
        {
          "output_type": "stream",
          "name": "stderr",
          "text": [
            "\r 78%|███████▊  | 781/1000 [22:44<06:16,  1.72s/it]"
          ]
        },
        {
          "output_type": "stream",
          "name": "stdout",
          "text": [
            "Validation acc: 0.9688\n",
            "\n",
            "Start of epoch 781\n",
            "Training loss: 0.0000\n",
            "Training metric: 0.9844\n",
            "perturbation loss: 0.0001\n"
          ]
        },
        {
          "output_type": "stream",
          "name": "stderr",
          "text": [
            "\r 78%|███████▊  | 782/1000 [22:47<06:58,  1.92s/it]"
          ]
        },
        {
          "output_type": "stream",
          "name": "stdout",
          "text": [
            "Validation acc: 0.9688\n",
            "\n",
            "Start of epoch 782\n",
            "Training loss: 0.0000\n",
            "Training metric: 0.9844\n",
            "perturbation loss: 0.0000\n"
          ]
        },
        {
          "output_type": "stream",
          "name": "stderr",
          "text": [
            "\r 78%|███████▊  | 783/1000 [22:48<06:33,  1.82s/it]"
          ]
        },
        {
          "output_type": "stream",
          "name": "stdout",
          "text": [
            "Validation acc: 0.9609\n",
            "\n",
            "Start of epoch 783\n",
            "Training loss: 0.0000\n",
            "Training metric: 0.9845\n",
            "perturbation loss: 0.0000\n"
          ]
        },
        {
          "output_type": "stream",
          "name": "stderr",
          "text": [
            "\r 78%|███████▊  | 784/1000 [22:50<06:18,  1.75s/it]"
          ]
        },
        {
          "output_type": "stream",
          "name": "stdout",
          "text": [
            "Validation acc: 0.9609\n",
            "\n",
            "Start of epoch 784\n",
            "Training loss: 0.0000\n",
            "Training metric: 0.9845\n",
            "perturbation loss: 0.0004\n"
          ]
        },
        {
          "output_type": "stream",
          "name": "stderr",
          "text": [
            "\r 78%|███████▊  | 785/1000 [22:52<06:04,  1.70s/it]"
          ]
        },
        {
          "output_type": "stream",
          "name": "stdout",
          "text": [
            "Validation acc: 0.9609\n",
            "\n",
            "Start of epoch 785\n",
            "Training loss: 0.0000\n",
            "Training metric: 0.9845\n",
            "perturbation loss: 0.0000\n"
          ]
        },
        {
          "output_type": "stream",
          "name": "stderr",
          "text": [
            "\r 79%|███████▊  | 786/1000 [22:53<05:55,  1.66s/it]"
          ]
        },
        {
          "output_type": "stream",
          "name": "stdout",
          "text": [
            "Validation acc: 0.9609\n",
            "\n",
            "Start of epoch 786\n",
            "Training loss: 0.0000\n",
            "Training metric: 0.9845\n",
            "perturbation loss: 0.0000\n"
          ]
        },
        {
          "output_type": "stream",
          "name": "stderr",
          "text": [
            "\r 79%|███████▊  | 787/1000 [22:55<05:48,  1.64s/it]"
          ]
        },
        {
          "output_type": "stream",
          "name": "stdout",
          "text": [
            "Validation acc: 0.9609\n",
            "\n",
            "Start of epoch 787\n",
            "Training loss: 0.0000\n",
            "Training metric: 0.9845\n",
            "perturbation loss: 0.0000\n"
          ]
        },
        {
          "output_type": "stream",
          "name": "stderr",
          "text": [
            "\r 79%|███████▉  | 788/1000 [22:56<05:47,  1.64s/it]"
          ]
        },
        {
          "output_type": "stream",
          "name": "stdout",
          "text": [
            "Validation acc: 0.9766\n",
            "\n",
            "Start of epoch 788\n",
            "Training loss: 0.0000\n",
            "Training metric: 0.9846\n",
            "perturbation loss: 0.0000\n"
          ]
        },
        {
          "output_type": "stream",
          "name": "stderr",
          "text": [
            "\r 79%|███████▉  | 789/1000 [22:59<06:28,  1.84s/it]"
          ]
        },
        {
          "output_type": "stream",
          "name": "stdout",
          "text": [
            "Validation acc: 0.9766\n",
            "\n",
            "Start of epoch 789\n",
            "Training loss: 0.0000\n",
            "Training metric: 0.9846\n",
            "perturbation loss: 0.0009\n"
          ]
        },
        {
          "output_type": "stream",
          "name": "stderr",
          "text": [
            "\r 79%|███████▉  | 790/1000 [23:01<06:39,  1.90s/it]"
          ]
        },
        {
          "output_type": "stream",
          "name": "stdout",
          "text": [
            "Validation acc: 0.9766\n",
            "\n",
            "Start of epoch 790\n",
            "Training loss: 0.0000\n",
            "Training metric: 0.9846\n",
            "perturbation loss: 0.0001\n"
          ]
        },
        {
          "output_type": "stream",
          "name": "stderr",
          "text": [
            "\r 79%|███████▉  | 791/1000 [23:02<06:17,  1.81s/it]"
          ]
        },
        {
          "output_type": "stream",
          "name": "stdout",
          "text": [
            "Validation acc: 0.9766\n",
            "\n",
            "Start of epoch 791\n",
            "Training loss: 0.0000\n",
            "Training metric: 0.9846\n",
            "perturbation loss: 0.0001\n"
          ]
        },
        {
          "output_type": "stream",
          "name": "stderr",
          "text": [
            "\r 79%|███████▉  | 792/1000 [23:04<06:01,  1.74s/it]"
          ]
        },
        {
          "output_type": "stream",
          "name": "stdout",
          "text": [
            "Validation acc: 0.9688\n",
            "\n",
            "Start of epoch 792\n",
            "Training loss: 0.0001\n",
            "Training metric: 0.9846\n",
            "perturbation loss: 0.0004\n"
          ]
        },
        {
          "output_type": "stream",
          "name": "stderr",
          "text": [
            "\r 79%|███████▉  | 793/1000 [23:05<05:50,  1.69s/it]"
          ]
        },
        {
          "output_type": "stream",
          "name": "stdout",
          "text": [
            "Validation acc: 0.9609\n",
            "\n",
            "Start of epoch 793\n",
            "Training loss: 0.0011\n",
            "Training metric: 0.9847\n",
            "perturbation loss: 0.0339\n"
          ]
        },
        {
          "output_type": "stream",
          "name": "stderr",
          "text": [
            "\r 79%|███████▉  | 794/1000 [23:07<05:40,  1.65s/it]"
          ]
        },
        {
          "output_type": "stream",
          "name": "stdout",
          "text": [
            "Validation acc: 0.9375\n",
            "\n",
            "Start of epoch 794\n",
            "Training loss: 0.0001\n",
            "Training metric: 0.9847\n",
            "perturbation loss: 0.0001\n"
          ]
        },
        {
          "output_type": "stream",
          "name": "stderr",
          "text": [
            "\r 80%|███████▉  | 795/1000 [23:09<05:33,  1.63s/it]"
          ]
        },
        {
          "output_type": "stream",
          "name": "stdout",
          "text": [
            "Validation acc: 0.9844\n",
            "\n",
            "Start of epoch 795\n",
            "Training loss: 0.0008\n",
            "Training metric: 0.9847\n",
            "perturbation loss: 0.0000\n"
          ]
        },
        {
          "output_type": "stream",
          "name": "stderr",
          "text": [
            "\r 80%|███████▉  | 796/1000 [23:10<05:29,  1.62s/it]"
          ]
        },
        {
          "output_type": "stream",
          "name": "stdout",
          "text": [
            "Validation acc: 0.9766\n",
            "\n",
            "Start of epoch 796\n",
            "Training loss: 0.0001\n",
            "Training metric: 0.9847\n",
            "perturbation loss: 0.0046\n"
          ]
        },
        {
          "output_type": "stream",
          "name": "stderr",
          "text": [
            "\r 80%|███████▉  | 797/1000 [23:12<06:08,  1.82s/it]"
          ]
        },
        {
          "output_type": "stream",
          "name": "stdout",
          "text": [
            "Validation acc: 0.9766\n",
            "\n",
            "Start of epoch 797\n",
            "Training loss: 0.0000\n",
            "Training metric: 0.9847\n",
            "perturbation loss: 0.0000\n"
          ]
        },
        {
          "output_type": "stream",
          "name": "stderr",
          "text": [
            "\r 80%|███████▉  | 798/1000 [23:14<06:20,  1.89s/it]"
          ]
        },
        {
          "output_type": "stream",
          "name": "stdout",
          "text": [
            "Validation acc: 0.9844\n",
            "\n",
            "Start of epoch 798\n",
            "Training loss: 0.0000\n",
            "Training metric: 0.9848\n",
            "perturbation loss: 0.0000\n"
          ]
        },
        {
          "output_type": "stream",
          "name": "stderr",
          "text": [
            "\r 80%|███████▉  | 799/1000 [23:16<06:04,  1.81s/it]"
          ]
        },
        {
          "output_type": "stream",
          "name": "stdout",
          "text": [
            "Validation acc: 0.9844\n",
            "\n",
            "Start of epoch 799\n",
            "Training loss: 0.0000\n",
            "Training metric: 0.9848\n",
            "perturbation loss: 0.0000\n"
          ]
        },
        {
          "output_type": "stream",
          "name": "stderr",
          "text": [
            "\r 80%|████████  | 800/1000 [23:18<05:50,  1.75s/it]"
          ]
        },
        {
          "output_type": "stream",
          "name": "stdout",
          "text": [
            "Validation acc: 0.9688\n",
            "\n",
            "Start of epoch 800\n",
            "Training loss: 0.0000\n",
            "Training metric: 0.9848\n",
            "perturbation loss: 0.0000\n"
          ]
        },
        {
          "output_type": "stream",
          "name": "stderr",
          "text": [
            "\r 80%|████████  | 801/1000 [23:19<05:37,  1.70s/it]"
          ]
        },
        {
          "output_type": "stream",
          "name": "stdout",
          "text": [
            "Validation acc: 0.9766\n",
            "\n",
            "Start of epoch 801\n",
            "Training loss: 0.0001\n",
            "Training metric: 0.9848\n",
            "perturbation loss: 0.0009\n"
          ]
        },
        {
          "output_type": "stream",
          "name": "stderr",
          "text": [
            "\r 80%|████████  | 802/1000 [23:21<05:29,  1.67s/it]"
          ]
        },
        {
          "output_type": "stream",
          "name": "stdout",
          "text": [
            "Validation acc: 0.9531\n",
            "\n",
            "Start of epoch 802\n",
            "Training loss: 0.0000\n",
            "Training metric: 0.9848\n",
            "perturbation loss: 0.0000\n"
          ]
        },
        {
          "output_type": "stream",
          "name": "stderr",
          "text": [
            "\r 80%|████████  | 803/1000 [23:22<05:22,  1.64s/it]"
          ]
        },
        {
          "output_type": "stream",
          "name": "stdout",
          "text": [
            "Validation acc: 0.9375\n",
            "\n",
            "Start of epoch 803\n",
            "Training loss: 0.0001\n",
            "Training metric: 0.9848\n",
            "perturbation loss: 0.0013\n"
          ]
        },
        {
          "output_type": "stream",
          "name": "stderr",
          "text": [
            "\r 80%|████████  | 804/1000 [23:24<05:17,  1.62s/it]"
          ]
        },
        {
          "output_type": "stream",
          "name": "stdout",
          "text": [
            "Validation acc: 0.9531\n",
            "\n",
            "Start of epoch 804\n",
            "Training loss: 0.0005\n",
            "Training metric: 0.9849\n",
            "perturbation loss: 0.0002\n"
          ]
        },
        {
          "output_type": "stream",
          "name": "stderr",
          "text": [
            "\r 80%|████████  | 805/1000 [23:26<05:41,  1.75s/it]"
          ]
        },
        {
          "output_type": "stream",
          "name": "stdout",
          "text": [
            "Validation acc: 0.9453\n",
            "\n",
            "Start of epoch 805\n",
            "Training loss: 0.0000\n",
            "Training metric: 0.9849\n",
            "perturbation loss: 0.0001\n"
          ]
        },
        {
          "output_type": "stream",
          "name": "stderr",
          "text": [
            "\r 81%|████████  | 806/1000 [23:29<06:40,  2.06s/it]"
          ]
        },
        {
          "output_type": "stream",
          "name": "stdout",
          "text": [
            "Validation acc: 0.9688\n",
            "\n",
            "Start of epoch 806\n",
            "Training loss: 0.0000\n",
            "Training metric: 0.9849\n",
            "perturbation loss: 0.0001\n"
          ]
        },
        {
          "output_type": "stream",
          "name": "stderr",
          "text": [
            "\r 81%|████████  | 807/1000 [23:31<06:12,  1.93s/it]"
          ]
        },
        {
          "output_type": "stream",
          "name": "stdout",
          "text": [
            "Validation acc: 0.9531\n",
            "\n",
            "Start of epoch 807\n",
            "Training loss: 0.0000\n",
            "Training metric: 0.9849\n",
            "perturbation loss: 0.0000\n"
          ]
        },
        {
          "output_type": "stream",
          "name": "stderr",
          "text": [
            "\r 81%|████████  | 808/1000 [23:32<05:50,  1.83s/it]"
          ]
        },
        {
          "output_type": "stream",
          "name": "stdout",
          "text": [
            "Validation acc: 0.9609\n",
            "\n",
            "Start of epoch 808\n",
            "Training loss: 0.0000\n",
            "Training metric: 0.9849\n",
            "perturbation loss: 0.0000\n"
          ]
        },
        {
          "output_type": "stream",
          "name": "stderr",
          "text": [
            "\r 81%|████████  | 809/1000 [23:34<05:34,  1.75s/it]"
          ]
        },
        {
          "output_type": "stream",
          "name": "stdout",
          "text": [
            "Validation acc: 0.9609\n",
            "\n",
            "Start of epoch 809\n",
            "Training loss: 0.0000\n",
            "Training metric: 0.9850\n",
            "perturbation loss: 0.0001\n"
          ]
        },
        {
          "output_type": "stream",
          "name": "stderr",
          "text": [
            "\r 81%|████████  | 810/1000 [23:35<05:26,  1.72s/it]"
          ]
        },
        {
          "output_type": "stream",
          "name": "stdout",
          "text": [
            "Validation acc: 0.9766\n",
            "\n",
            "Start of epoch 810\n",
            "Training loss: 0.0000\n",
            "Training metric: 0.9850\n",
            "perturbation loss: 0.0000\n"
          ]
        },
        {
          "output_type": "stream",
          "name": "stderr",
          "text": [
            "\r 81%|████████  | 811/1000 [23:37<05:20,  1.70s/it]"
          ]
        },
        {
          "output_type": "stream",
          "name": "stdout",
          "text": [
            "Validation acc: 0.9531\n",
            "\n",
            "Start of epoch 811\n",
            "Training loss: 0.0000\n",
            "Training metric: 0.9850\n",
            "perturbation loss: 0.0000\n"
          ]
        },
        {
          "output_type": "stream",
          "name": "stderr",
          "text": [
            "\r 81%|████████  | 812/1000 [23:39<05:38,  1.80s/it]"
          ]
        },
        {
          "output_type": "stream",
          "name": "stdout",
          "text": [
            "Validation acc: 0.9609\n",
            "\n",
            "Start of epoch 812\n",
            "Training loss: 0.0000\n",
            "Training metric: 0.9850\n",
            "perturbation loss: 0.0000\n"
          ]
        },
        {
          "output_type": "stream",
          "name": "stderr",
          "text": [
            "\r 81%|████████▏ | 813/1000 [23:41<05:53,  1.89s/it]"
          ]
        },
        {
          "output_type": "stream",
          "name": "stdout",
          "text": [
            "Validation acc: 0.9766\n",
            "\n",
            "Start of epoch 813\n",
            "Training loss: 0.0000\n",
            "Training metric: 0.9850\n",
            "perturbation loss: 0.0005\n"
          ]
        },
        {
          "output_type": "stream",
          "name": "stderr",
          "text": [
            "\r 81%|████████▏ | 814/1000 [23:43<05:46,  1.86s/it]"
          ]
        },
        {
          "output_type": "stream",
          "name": "stdout",
          "text": [
            "Validation acc: 0.9688\n",
            "\n",
            "Start of epoch 814\n",
            "Training loss: 0.0000\n",
            "Training metric: 0.9851\n",
            "perturbation loss: 0.0000\n"
          ]
        },
        {
          "output_type": "stream",
          "name": "stderr",
          "text": [
            "\r 82%|████████▏ | 815/1000 [23:45<05:32,  1.80s/it]"
          ]
        },
        {
          "output_type": "stream",
          "name": "stdout",
          "text": [
            "Validation acc: 0.9688\n",
            "\n",
            "Start of epoch 815\n",
            "Training loss: 0.0000\n",
            "Training metric: 0.9851\n",
            "perturbation loss: 0.0003\n"
          ]
        },
        {
          "output_type": "stream",
          "name": "stderr",
          "text": [
            "\r 82%|████████▏ | 816/1000 [23:46<05:19,  1.74s/it]"
          ]
        },
        {
          "output_type": "stream",
          "name": "stdout",
          "text": [
            "Validation acc: 0.9609\n",
            "\n",
            "Start of epoch 816\n",
            "Training loss: 0.0000\n",
            "Training metric: 0.9851\n",
            "perturbation loss: 0.0000\n"
          ]
        },
        {
          "output_type": "stream",
          "name": "stderr",
          "text": [
            "\r 82%|████████▏ | 817/1000 [23:48<05:08,  1.69s/it]"
          ]
        },
        {
          "output_type": "stream",
          "name": "stdout",
          "text": [
            "Validation acc: 0.9688\n",
            "\n",
            "Start of epoch 817\n",
            "Training loss: 0.0000\n",
            "Training metric: 0.9851\n",
            "perturbation loss: 0.0000\n"
          ]
        },
        {
          "output_type": "stream",
          "name": "stderr",
          "text": [
            "\r 82%|████████▏ | 818/1000 [23:49<05:05,  1.68s/it]"
          ]
        },
        {
          "output_type": "stream",
          "name": "stdout",
          "text": [
            "Validation acc: 0.9766\n",
            "\n",
            "Start of epoch 818\n",
            "Training loss: 0.0000\n",
            "Training metric: 0.9851\n",
            "perturbation loss: 0.0000\n"
          ]
        },
        {
          "output_type": "stream",
          "name": "stderr",
          "text": [
            "\r 82%|████████▏ | 819/1000 [23:51<04:59,  1.65s/it]"
          ]
        },
        {
          "output_type": "stream",
          "name": "stdout",
          "text": [
            "Validation acc: 0.9688\n",
            "\n",
            "Start of epoch 819\n",
            "Training loss: 0.0000\n",
            "Training metric: 0.9851\n",
            "perturbation loss: 0.0000\n"
          ]
        },
        {
          "output_type": "stream",
          "name": "stderr",
          "text": [
            "\r 82%|████████▏ | 820/1000 [23:53<05:22,  1.79s/it]"
          ]
        },
        {
          "output_type": "stream",
          "name": "stdout",
          "text": [
            "Validation acc: 0.9531\n",
            "\n",
            "Start of epoch 820\n",
            "Training loss: 0.0000\n",
            "Training metric: 0.9852\n",
            "perturbation loss: 0.0000\n"
          ]
        },
        {
          "output_type": "stream",
          "name": "stderr",
          "text": [
            "\r 82%|████████▏ | 821/1000 [23:55<05:54,  1.98s/it]"
          ]
        },
        {
          "output_type": "stream",
          "name": "stdout",
          "text": [
            "Validation acc: 0.9688\n",
            "\n",
            "Start of epoch 821\n",
            "Training loss: 0.0000\n",
            "Training metric: 0.9852\n",
            "perturbation loss: 0.0001\n"
          ]
        },
        {
          "output_type": "stream",
          "name": "stderr",
          "text": [
            "\r 82%|████████▏ | 822/1000 [23:57<05:31,  1.86s/it]"
          ]
        },
        {
          "output_type": "stream",
          "name": "stdout",
          "text": [
            "Validation acc: 0.9609\n",
            "\n",
            "Start of epoch 822\n",
            "Training loss: 0.0000\n",
            "Training metric: 0.9852\n",
            "perturbation loss: 0.0000\n"
          ]
        },
        {
          "output_type": "stream",
          "name": "stderr",
          "text": [
            "\r 82%|████████▏ | 823/1000 [23:59<05:14,  1.78s/it]"
          ]
        },
        {
          "output_type": "stream",
          "name": "stdout",
          "text": [
            "Validation acc: 0.9609\n",
            "\n",
            "Start of epoch 823\n",
            "Training loss: 0.0000\n",
            "Training metric: 0.9852\n",
            "perturbation loss: 0.0000\n"
          ]
        },
        {
          "output_type": "stream",
          "name": "stderr",
          "text": [
            "\r 82%|████████▏ | 824/1000 [24:00<05:03,  1.73s/it]"
          ]
        },
        {
          "output_type": "stream",
          "name": "stdout",
          "text": [
            "Validation acc: 0.9688\n",
            "\n",
            "Start of epoch 824\n",
            "Training loss: 0.0000\n",
            "Training metric: 0.9852\n",
            "perturbation loss: 0.0000\n"
          ]
        },
        {
          "output_type": "stream",
          "name": "stderr",
          "text": [
            "\r 82%|████████▎ | 825/1000 [24:02<04:53,  1.68s/it]"
          ]
        },
        {
          "output_type": "stream",
          "name": "stdout",
          "text": [
            "Validation acc: 0.9609\n",
            "\n",
            "Start of epoch 825\n",
            "Training loss: 0.0000\n",
            "Training metric: 0.9852\n",
            "perturbation loss: 0.0000\n"
          ]
        },
        {
          "output_type": "stream",
          "name": "stderr",
          "text": [
            "\r 83%|████████▎ | 826/1000 [24:03<04:50,  1.67s/it]"
          ]
        },
        {
          "output_type": "stream",
          "name": "stdout",
          "text": [
            "Validation acc: 0.9688\n",
            "\n",
            "Start of epoch 826\n",
            "Training loss: 0.0000\n",
            "Training metric: 0.9853\n",
            "perturbation loss: 0.0000\n"
          ]
        },
        {
          "output_type": "stream",
          "name": "stderr",
          "text": [
            "\r 83%|████████▎ | 827/1000 [24:05<04:44,  1.64s/it]"
          ]
        },
        {
          "output_type": "stream",
          "name": "stdout",
          "text": [
            "Validation acc: 0.9609\n",
            "\n",
            "Start of epoch 827\n",
            "Training loss: 0.0000\n",
            "Training metric: 0.9853\n",
            "perturbation loss: 0.0006\n"
          ]
        },
        {
          "output_type": "stream",
          "name": "stderr",
          "text": [
            "\r 83%|████████▎ | 828/1000 [24:07<05:15,  1.83s/it]"
          ]
        },
        {
          "output_type": "stream",
          "name": "stdout",
          "text": [
            "Validation acc: 0.9688\n",
            "\n",
            "Start of epoch 828\n",
            "Training loss: 0.0000\n",
            "Training metric: 0.9853\n",
            "perturbation loss: 0.0000\n"
          ]
        },
        {
          "output_type": "stream",
          "name": "stderr",
          "text": [
            "\r 83%|████████▎ | 829/1000 [24:09<05:24,  1.90s/it]"
          ]
        },
        {
          "output_type": "stream",
          "name": "stdout",
          "text": [
            "Validation acc: 0.9688\n",
            "\n",
            "Start of epoch 829\n",
            "Training loss: 0.0000\n",
            "Training metric: 0.9853\n",
            "perturbation loss: 0.0001\n"
          ]
        },
        {
          "output_type": "stream",
          "name": "stderr",
          "text": [
            "\r 83%|████████▎ | 830/1000 [24:11<05:05,  1.80s/it]"
          ]
        },
        {
          "output_type": "stream",
          "name": "stdout",
          "text": [
            "Validation acc: 0.9609\n",
            "\n",
            "Start of epoch 830\n",
            "Training loss: 0.0000\n",
            "Training metric: 0.9853\n",
            "perturbation loss: 0.0001\n"
          ]
        },
        {
          "output_type": "stream",
          "name": "stderr",
          "text": [
            "\r 83%|████████▎ | 831/1000 [24:13<04:53,  1.73s/it]"
          ]
        },
        {
          "output_type": "stream",
          "name": "stdout",
          "text": [
            "Validation acc: 0.9688\n",
            "\n",
            "Start of epoch 831\n",
            "Training loss: 0.0000\n",
            "Training metric: 0.9854\n",
            "perturbation loss: 0.0000\n"
          ]
        },
        {
          "output_type": "stream",
          "name": "stderr",
          "text": [
            "\r 83%|████████▎ | 832/1000 [24:14<04:43,  1.69s/it]"
          ]
        },
        {
          "output_type": "stream",
          "name": "stdout",
          "text": [
            "Validation acc: 0.9688\n",
            "\n",
            "Start of epoch 832\n",
            "Training loss: 0.0000\n",
            "Training metric: 0.9854\n",
            "perturbation loss: 0.0001\n"
          ]
        },
        {
          "output_type": "stream",
          "name": "stderr",
          "text": [
            "\r 83%|████████▎ | 833/1000 [24:16<04:37,  1.66s/it]"
          ]
        },
        {
          "output_type": "stream",
          "name": "stdout",
          "text": [
            "Validation acc: 0.9688\n",
            "\n",
            "Start of epoch 833\n",
            "Training loss: 0.0000\n",
            "Training metric: 0.9854\n",
            "perturbation loss: 0.0000\n"
          ]
        },
        {
          "output_type": "stream",
          "name": "stderr",
          "text": [
            "\r 83%|████████▎ | 834/1000 [24:17<04:31,  1.63s/it]"
          ]
        },
        {
          "output_type": "stream",
          "name": "stdout",
          "text": [
            "Validation acc: 0.9688\n",
            "\n",
            "Start of epoch 834\n",
            "Training loss: 0.0000\n",
            "Training metric: 0.9854\n",
            "perturbation loss: 0.0000\n"
          ]
        },
        {
          "output_type": "stream",
          "name": "stderr",
          "text": [
            "\r 84%|████████▎ | 835/1000 [24:19<04:27,  1.62s/it]"
          ]
        },
        {
          "output_type": "stream",
          "name": "stdout",
          "text": [
            "Validation acc: 0.9688\n",
            "\n",
            "Start of epoch 835\n",
            "Training loss: 0.0000\n",
            "Training metric: 0.9854\n",
            "perturbation loss: 0.0001\n",
            "Validation acc: 0.9688\n"
          ]
        },
        {
          "output_type": "stream",
          "name": "stderr",
          "text": [
            "\r 84%|████████▎ | 836/1000 [24:21<05:13,  1.91s/it]"
          ]
        },
        {
          "output_type": "stream",
          "name": "stdout",
          "text": [
            "\n",
            "Start of epoch 836\n",
            "Training loss: 0.0000\n",
            "Training metric: 0.9854\n",
            "perturbation loss: 0.0000\n"
          ]
        },
        {
          "output_type": "stream",
          "name": "stderr",
          "text": [
            "\r 84%|████████▎ | 837/1000 [24:23<05:14,  1.93s/it]"
          ]
        },
        {
          "output_type": "stream",
          "name": "stdout",
          "text": [
            "Validation acc: 0.9609\n",
            "\n",
            "Start of epoch 837\n",
            "Training loss: 0.0000\n",
            "Training metric: 0.9855\n",
            "perturbation loss: 0.0000\n"
          ]
        },
        {
          "output_type": "stream",
          "name": "stderr",
          "text": [
            "\r 84%|████████▍ | 838/1000 [24:25<04:54,  1.82s/it]"
          ]
        },
        {
          "output_type": "stream",
          "name": "stdout",
          "text": [
            "Validation acc: 0.9688\n",
            "\n",
            "Start of epoch 838\n",
            "Training loss: 0.0000\n",
            "Training metric: 0.9855\n",
            "perturbation loss: 0.0000\n"
          ]
        },
        {
          "output_type": "stream",
          "name": "stderr",
          "text": [
            "\r 84%|████████▍ | 839/1000 [24:27<04:45,  1.77s/it]"
          ]
        },
        {
          "output_type": "stream",
          "name": "stdout",
          "text": [
            "Validation acc: 0.9609\n",
            "\n",
            "Start of epoch 839\n",
            "Training loss: 0.0000\n",
            "Training metric: 0.9855\n",
            "perturbation loss: 0.0000\n"
          ]
        },
        {
          "output_type": "stream",
          "name": "stderr",
          "text": [
            "\r 84%|████████▍ | 840/1000 [24:28<04:36,  1.73s/it]"
          ]
        },
        {
          "output_type": "stream",
          "name": "stdout",
          "text": [
            "Validation acc: 0.9688\n",
            "\n",
            "Start of epoch 840\n",
            "Training loss: 0.0000\n",
            "Training metric: 0.9855\n",
            "perturbation loss: 0.0000\n"
          ]
        },
        {
          "output_type": "stream",
          "name": "stderr",
          "text": [
            "\r 84%|████████▍ | 841/1000 [24:30<04:26,  1.68s/it]"
          ]
        },
        {
          "output_type": "stream",
          "name": "stdout",
          "text": [
            "Validation acc: 0.9766\n",
            "\n",
            "Start of epoch 841\n",
            "Training loss: 0.0000\n",
            "Training metric: 0.9855\n",
            "perturbation loss: 0.0000\n"
          ]
        },
        {
          "output_type": "stream",
          "name": "stderr",
          "text": [
            "\r 84%|████████▍ | 842/1000 [24:31<04:21,  1.65s/it]"
          ]
        },
        {
          "output_type": "stream",
          "name": "stdout",
          "text": [
            "Validation acc: 0.9688\n",
            "\n",
            "Start of epoch 842\n",
            "Training loss: 0.0000\n",
            "Training metric: 0.9855\n",
            "perturbation loss: 0.0000\n"
          ]
        },
        {
          "output_type": "stream",
          "name": "stderr",
          "text": [
            "\r 84%|████████▍ | 843/1000 [24:33<04:15,  1.63s/it]"
          ]
        },
        {
          "output_type": "stream",
          "name": "stdout",
          "text": [
            "Validation acc: 0.9688\n",
            "\n",
            "Start of epoch 843\n",
            "Training loss: 0.0001\n",
            "Training metric: 0.9856\n",
            "perturbation loss: 0.0000\n"
          ]
        },
        {
          "output_type": "stream",
          "name": "stderr",
          "text": [
            "\r 84%|████████▍ | 844/1000 [24:35<04:35,  1.77s/it]"
          ]
        },
        {
          "output_type": "stream",
          "name": "stdout",
          "text": [
            "Validation acc: 0.9609\n",
            "\n",
            "Start of epoch 844\n",
            "Training loss: 0.0001\n",
            "Training metric: 0.9856\n",
            "perturbation loss: 0.0001\n"
          ]
        },
        {
          "output_type": "stream",
          "name": "stderr",
          "text": [
            "\r 84%|████████▍ | 845/1000 [24:37<04:47,  1.85s/it]"
          ]
        },
        {
          "output_type": "stream",
          "name": "stdout",
          "text": [
            "Validation acc: 0.9609\n",
            "\n",
            "Start of epoch 845\n",
            "Training loss: 0.0000\n",
            "Training metric: 0.9856\n",
            "perturbation loss: 0.0000\n"
          ]
        },
        {
          "output_type": "stream",
          "name": "stderr",
          "text": [
            "\r 85%|████████▍ | 846/1000 [24:39<04:32,  1.77s/it]"
          ]
        },
        {
          "output_type": "stream",
          "name": "stdout",
          "text": [
            "Validation acc: 0.9766\n",
            "\n",
            "Start of epoch 846\n",
            "Training loss: 0.0000\n",
            "Training metric: 0.9856\n",
            "perturbation loss: 0.0000\n"
          ]
        },
        {
          "output_type": "stream",
          "name": "stderr",
          "text": [
            "\r 85%|████████▍ | 847/1000 [24:40<04:23,  1.72s/it]"
          ]
        },
        {
          "output_type": "stream",
          "name": "stdout",
          "text": [
            "Validation acc: 0.9688\n",
            "\n",
            "Start of epoch 847\n",
            "Training loss: 0.0000\n",
            "Training metric: 0.9856\n",
            "perturbation loss: 0.0000\n"
          ]
        },
        {
          "output_type": "stream",
          "name": "stderr",
          "text": [
            "\r 85%|████████▍ | 848/1000 [24:42<04:14,  1.68s/it]"
          ]
        },
        {
          "output_type": "stream",
          "name": "stdout",
          "text": [
            "Validation acc: 0.9531\n",
            "\n",
            "Start of epoch 848\n",
            "Training loss: 0.0000\n",
            "Training metric: 0.9856\n",
            "perturbation loss: 0.0002\n"
          ]
        },
        {
          "output_type": "stream",
          "name": "stderr",
          "text": [
            "\r 85%|████████▍ | 849/1000 [24:44<04:12,  1.67s/it]"
          ]
        },
        {
          "output_type": "stream",
          "name": "stdout",
          "text": [
            "Validation acc: 0.9844\n",
            "\n",
            "Start of epoch 849\n",
            "Training loss: 0.0000\n",
            "Training metric: 0.9857\n",
            "perturbation loss: 0.0000\n"
          ]
        },
        {
          "output_type": "stream",
          "name": "stderr",
          "text": [
            "\r 85%|████████▌ | 850/1000 [24:45<04:08,  1.66s/it]"
          ]
        },
        {
          "output_type": "stream",
          "name": "stdout",
          "text": [
            "Validation acc: 0.9688\n",
            "\n",
            "Start of epoch 850\n",
            "Training loss: 0.0000\n",
            "Training metric: 0.9857\n",
            "perturbation loss: 0.0000\n"
          ]
        },
        {
          "output_type": "stream",
          "name": "stderr",
          "text": [
            "\r 85%|████████▌ | 851/1000 [24:47<04:07,  1.66s/it]"
          ]
        },
        {
          "output_type": "stream",
          "name": "stdout",
          "text": [
            "Validation acc: 0.9844\n",
            "\n",
            "Start of epoch 851\n",
            "Training loss: 0.0000\n",
            "Training metric: 0.9857\n",
            "perturbation loss: 0.0000\n"
          ]
        },
        {
          "output_type": "stream",
          "name": "stderr",
          "text": [
            "\r 85%|████████▌ | 852/1000 [24:49<04:35,  1.86s/it]"
          ]
        },
        {
          "output_type": "stream",
          "name": "stdout",
          "text": [
            "Validation acc: 0.9844\n",
            "\n",
            "Start of epoch 852\n",
            "Training loss: 0.0000\n",
            "Training metric: 0.9857\n",
            "perturbation loss: 0.0001\n"
          ]
        },
        {
          "output_type": "stream",
          "name": "stderr",
          "text": [
            "\r 85%|████████▌ | 853/1000 [24:51<04:39,  1.90s/it]"
          ]
        },
        {
          "output_type": "stream",
          "name": "stdout",
          "text": [
            "Validation acc: 0.9766\n",
            "\n",
            "Start of epoch 853\n",
            "Training loss: 0.0000\n",
            "Training metric: 0.9857\n",
            "perturbation loss: 0.0000\n"
          ]
        },
        {
          "output_type": "stream",
          "name": "stderr",
          "text": [
            "\r 85%|████████▌ | 854/1000 [24:53<04:23,  1.81s/it]"
          ]
        },
        {
          "output_type": "stream",
          "name": "stdout",
          "text": [
            "Validation acc: 0.9844\n",
            "\n",
            "Start of epoch 854\n",
            "Training loss: 0.0000\n",
            "Training metric: 0.9857\n",
            "perturbation loss: 0.0000\n"
          ]
        },
        {
          "output_type": "stream",
          "name": "stderr",
          "text": [
            "\r 86%|████████▌ | 855/1000 [24:54<04:11,  1.74s/it]"
          ]
        },
        {
          "output_type": "stream",
          "name": "stdout",
          "text": [
            "Validation acc: 0.9688\n",
            "\n",
            "Start of epoch 855\n",
            "Training loss: 0.0000\n",
            "Training metric: 0.9858\n",
            "perturbation loss: 0.0000\n"
          ]
        },
        {
          "output_type": "stream",
          "name": "stderr",
          "text": [
            "\r 86%|████████▌ | 856/1000 [24:56<04:05,  1.70s/it]"
          ]
        },
        {
          "output_type": "stream",
          "name": "stdout",
          "text": [
            "Validation acc: 0.9609\n",
            "\n",
            "Start of epoch 856\n",
            "Training loss: 0.0000\n",
            "Training metric: 0.9858\n",
            "perturbation loss: 0.0000\n"
          ]
        },
        {
          "output_type": "stream",
          "name": "stderr",
          "text": [
            "\r 86%|████████▌ | 857/1000 [24:58<03:57,  1.66s/it]"
          ]
        },
        {
          "output_type": "stream",
          "name": "stdout",
          "text": [
            "Validation acc: 0.9688\n",
            "\n",
            "Start of epoch 857\n",
            "Training loss: 0.0024\n",
            "Training metric: 0.9858\n",
            "perturbation loss: 0.0010\n"
          ]
        },
        {
          "output_type": "stream",
          "name": "stderr",
          "text": [
            "\r 86%|████████▌ | 858/1000 [24:59<03:52,  1.64s/it]"
          ]
        },
        {
          "output_type": "stream",
          "name": "stdout",
          "text": [
            "Validation acc: 0.9688\n",
            "\n",
            "Start of epoch 858\n",
            "Training loss: 0.0000\n",
            "Training metric: 0.9858\n",
            "perturbation loss: 0.0000\n"
          ]
        },
        {
          "output_type": "stream",
          "name": "stderr",
          "text": [
            "\r 86%|████████▌ | 859/1000 [25:01<03:47,  1.61s/it]"
          ]
        },
        {
          "output_type": "stream",
          "name": "stdout",
          "text": [
            "Validation acc: 0.9766\n",
            "\n",
            "Start of epoch 859\n",
            "Training loss: 0.0000\n",
            "Training metric: 0.9858\n",
            "perturbation loss: 0.0000\n"
          ]
        },
        {
          "output_type": "stream",
          "name": "stderr",
          "text": [
            "\r 86%|████████▌ | 860/1000 [25:03<04:03,  1.74s/it]"
          ]
        },
        {
          "output_type": "stream",
          "name": "stdout",
          "text": [
            "Validation acc: 0.9688\n",
            "\n",
            "Start of epoch 860\n",
            "Training loss: 0.0002\n",
            "Training metric: 0.9858\n",
            "perturbation loss: 0.0008\n"
          ]
        },
        {
          "output_type": "stream",
          "name": "stderr",
          "text": [
            "\r 86%|████████▌ | 861/1000 [25:05<04:28,  1.93s/it]"
          ]
        },
        {
          "output_type": "stream",
          "name": "stdout",
          "text": [
            "Validation acc: 0.9609\n",
            "\n",
            "Start of epoch 861\n",
            "Training loss: 0.0000\n",
            "Training metric: 0.9859\n",
            "perturbation loss: 0.0000\n"
          ]
        },
        {
          "output_type": "stream",
          "name": "stderr",
          "text": [
            "\r 86%|████████▌ | 862/1000 [25:07<04:12,  1.83s/it]"
          ]
        },
        {
          "output_type": "stream",
          "name": "stdout",
          "text": [
            "Validation acc: 0.9688\n",
            "\n",
            "Start of epoch 862\n",
            "Training loss: 0.0000\n",
            "Training metric: 0.9859\n",
            "perturbation loss: 0.0000\n"
          ]
        },
        {
          "output_type": "stream",
          "name": "stderr",
          "text": [
            "\r 86%|████████▋ | 863/1000 [25:08<04:03,  1.78s/it]"
          ]
        },
        {
          "output_type": "stream",
          "name": "stdout",
          "text": [
            "Validation acc: 0.9688\n",
            "\n",
            "Start of epoch 863\n",
            "Training loss: 0.0000\n",
            "Training metric: 0.9859\n",
            "perturbation loss: 0.0000\n"
          ]
        },
        {
          "output_type": "stream",
          "name": "stderr",
          "text": [
            "\r 86%|████████▋ | 864/1000 [25:10<03:55,  1.73s/it]"
          ]
        },
        {
          "output_type": "stream",
          "name": "stdout",
          "text": [
            "Validation acc: 0.9688\n",
            "\n",
            "Start of epoch 864\n",
            "Training loss: 0.0000\n",
            "Training metric: 0.9859\n",
            "perturbation loss: 0.0000\n"
          ]
        },
        {
          "output_type": "stream",
          "name": "stderr",
          "text": [
            "\r 86%|████████▋ | 865/1000 [25:12<03:47,  1.69s/it]"
          ]
        },
        {
          "output_type": "stream",
          "name": "stdout",
          "text": [
            "Validation acc: 0.9609\n",
            "\n",
            "Start of epoch 865\n",
            "Training loss: 0.0000\n",
            "Training metric: 0.9859\n",
            "perturbation loss: 0.0002\n"
          ]
        },
        {
          "output_type": "stream",
          "name": "stderr",
          "text": [
            "\r 87%|████████▋ | 866/1000 [25:13<03:41,  1.65s/it]"
          ]
        },
        {
          "output_type": "stream",
          "name": "stdout",
          "text": [
            "Validation acc: 0.9766\n",
            "\n",
            "Start of epoch 866\n",
            "Training loss: 0.0000\n",
            "Training metric: 0.9859\n",
            "perturbation loss: 0.0000\n"
          ]
        },
        {
          "output_type": "stream",
          "name": "stderr",
          "text": [
            "\r 87%|████████▋ | 867/1000 [25:15<03:36,  1.63s/it]"
          ]
        },
        {
          "output_type": "stream",
          "name": "stdout",
          "text": [
            "Validation acc: 0.9688\n",
            "\n",
            "Start of epoch 867\n",
            "Training loss: 0.0000\n",
            "Training metric: 0.9860\n",
            "perturbation loss: 0.0000\n"
          ]
        },
        {
          "output_type": "stream",
          "name": "stderr",
          "text": [
            "\r 87%|████████▋ | 868/1000 [25:17<03:49,  1.74s/it]"
          ]
        },
        {
          "output_type": "stream",
          "name": "stdout",
          "text": [
            "Validation acc: 0.9609\n",
            "\n",
            "Start of epoch 868\n",
            "Training loss: 0.0000\n",
            "Training metric: 0.9860\n",
            "perturbation loss: 0.0000\n"
          ]
        },
        {
          "output_type": "stream",
          "name": "stderr",
          "text": [
            "\r 87%|████████▋ | 869/1000 [25:19<04:00,  1.83s/it]"
          ]
        },
        {
          "output_type": "stream",
          "name": "stdout",
          "text": [
            "Validation acc: 0.9531\n",
            "\n",
            "Start of epoch 869\n",
            "Training loss: 0.0000\n",
            "Training metric: 0.9860\n",
            "perturbation loss: 0.0002\n"
          ]
        },
        {
          "output_type": "stream",
          "name": "stderr",
          "text": [
            "\r 87%|████████▋ | 870/1000 [25:20<03:50,  1.78s/it]"
          ]
        },
        {
          "output_type": "stream",
          "name": "stdout",
          "text": [
            "Validation acc: 0.9609\n",
            "\n",
            "Start of epoch 870\n",
            "Training loss: 0.0000\n",
            "Training metric: 0.9860\n",
            "perturbation loss: 0.0000\n"
          ]
        },
        {
          "output_type": "stream",
          "name": "stderr",
          "text": [
            "\r 87%|████████▋ | 871/1000 [25:22<03:44,  1.74s/it]"
          ]
        },
        {
          "output_type": "stream",
          "name": "stdout",
          "text": [
            "Validation acc: 0.9453\n",
            "\n",
            "Start of epoch 871\n",
            "Training loss: 0.0001\n",
            "Training metric: 0.9860\n",
            "perturbation loss: 0.0004\n"
          ]
        },
        {
          "output_type": "stream",
          "name": "stderr",
          "text": [
            "\r 87%|████████▋ | 872/1000 [25:24<03:37,  1.70s/it]"
          ]
        },
        {
          "output_type": "stream",
          "name": "stdout",
          "text": [
            "Validation acc: 0.9609\n",
            "\n",
            "Start of epoch 872\n",
            "Training loss: 0.0000\n",
            "Training metric: 0.9860\n",
            "perturbation loss: 0.0000\n"
          ]
        },
        {
          "output_type": "stream",
          "name": "stderr",
          "text": [
            "\r 87%|████████▋ | 873/1000 [25:25<03:30,  1.66s/it]"
          ]
        },
        {
          "output_type": "stream",
          "name": "stdout",
          "text": [
            "Validation acc: 0.9375\n",
            "\n",
            "Start of epoch 873\n",
            "Training loss: 0.0025\n",
            "Training metric: 0.9861\n",
            "perturbation loss: 0.0793\n"
          ]
        },
        {
          "output_type": "stream",
          "name": "stderr",
          "text": [
            "\r 87%|████████▋ | 874/1000 [25:27<03:28,  1.65s/it]"
          ]
        },
        {
          "output_type": "stream",
          "name": "stdout",
          "text": [
            "Validation acc: 0.9297\n",
            "\n",
            "Start of epoch 874\n",
            "Training loss: 0.0000\n",
            "Training metric: 0.9861\n",
            "perturbation loss: 0.0004\n"
          ]
        },
        {
          "output_type": "stream",
          "name": "stderr",
          "text": [
            "\r 88%|████████▊ | 875/1000 [25:28<03:25,  1.64s/it]"
          ]
        },
        {
          "output_type": "stream",
          "name": "stdout",
          "text": [
            "Validation acc: 0.9609\n",
            "\n",
            "Start of epoch 875\n",
            "Training loss: 0.0000\n",
            "Training metric: 0.9861\n",
            "perturbation loss: 0.0000\n"
          ]
        },
        {
          "output_type": "stream",
          "name": "stderr",
          "text": [
            "\r 88%|████████▊ | 876/1000 [25:30<03:35,  1.74s/it]"
          ]
        },
        {
          "output_type": "stream",
          "name": "stdout",
          "text": [
            "Validation acc: 0.9453\n",
            "\n",
            "Start of epoch 876\n",
            "Training loss: 0.0000\n",
            "Training metric: 0.9861\n",
            "perturbation loss: 0.0000\n"
          ]
        },
        {
          "output_type": "stream",
          "name": "stderr",
          "text": [
            "\r 88%|████████▊ | 877/1000 [25:33<03:47,  1.85s/it]"
          ]
        },
        {
          "output_type": "stream",
          "name": "stdout",
          "text": [
            "Validation acc: 0.9531\n",
            "\n",
            "Start of epoch 877\n",
            "Training loss: 0.0000\n",
            "Training metric: 0.9861\n",
            "perturbation loss: 0.0000\n"
          ]
        },
        {
          "output_type": "stream",
          "name": "stderr",
          "text": [
            "\r 88%|████████▊ | 878/1000 [25:34<03:39,  1.80s/it]"
          ]
        },
        {
          "output_type": "stream",
          "name": "stdout",
          "text": [
            "Validation acc: 0.9609\n",
            "\n",
            "Start of epoch 878\n",
            "Training loss: 0.0000\n",
            "Training metric: 0.9861\n",
            "perturbation loss: 0.0000\n"
          ]
        },
        {
          "output_type": "stream",
          "name": "stderr",
          "text": [
            "\r 88%|████████▊ | 879/1000 [25:36<03:29,  1.73s/it]"
          ]
        },
        {
          "output_type": "stream",
          "name": "stdout",
          "text": [
            "Validation acc: 0.9531\n",
            "\n",
            "Start of epoch 879\n",
            "Training loss: 0.0000\n",
            "Training metric: 0.9862\n",
            "perturbation loss: 0.0000\n"
          ]
        },
        {
          "output_type": "stream",
          "name": "stderr",
          "text": [
            "\r 88%|████████▊ | 880/1000 [25:37<03:23,  1.69s/it]"
          ]
        },
        {
          "output_type": "stream",
          "name": "stdout",
          "text": [
            "Validation acc: 0.9531\n",
            "\n",
            "Start of epoch 880\n",
            "Training loss: 0.0000\n",
            "Training metric: 0.9862\n",
            "perturbation loss: 0.0001\n"
          ]
        },
        {
          "output_type": "stream",
          "name": "stderr",
          "text": [
            "\r 88%|████████▊ | 881/1000 [25:39<03:16,  1.65s/it]"
          ]
        },
        {
          "output_type": "stream",
          "name": "stdout",
          "text": [
            "Validation acc: 0.9688\n",
            "\n",
            "Start of epoch 881\n",
            "Training loss: 0.0000\n",
            "Training metric: 0.9862\n",
            "perturbation loss: 0.0004\n"
          ]
        },
        {
          "output_type": "stream",
          "name": "stderr",
          "text": [
            "\r 88%|████████▊ | 882/1000 [25:41<03:12,  1.63s/it]"
          ]
        },
        {
          "output_type": "stream",
          "name": "stdout",
          "text": [
            "Validation acc: 0.9609\n",
            "\n",
            "Start of epoch 882\n",
            "Training loss: 0.0000\n",
            "Training metric: 0.9862\n",
            "perturbation loss: 0.0000\n"
          ]
        },
        {
          "output_type": "stream",
          "name": "stderr",
          "text": [
            "\r 88%|████████▊ | 883/1000 [25:42<03:10,  1.63s/it]"
          ]
        },
        {
          "output_type": "stream",
          "name": "stdout",
          "text": [
            "Validation acc: 0.9609\n",
            "\n",
            "Start of epoch 883\n",
            "Training loss: 0.0000\n",
            "Training metric: 0.9862\n",
            "perturbation loss: 0.0000\n"
          ]
        },
        {
          "output_type": "stream",
          "name": "stderr",
          "text": [
            "\r 88%|████████▊ | 884/1000 [25:44<03:15,  1.69s/it]"
          ]
        },
        {
          "output_type": "stream",
          "name": "stdout",
          "text": [
            "Validation acc: 0.9609\n",
            "\n",
            "Start of epoch 884\n",
            "Training loss: 0.0000\n",
            "Training metric: 0.9862\n",
            "perturbation loss: 0.0000\n"
          ]
        },
        {
          "output_type": "stream",
          "name": "stderr",
          "text": [
            "\r 88%|████████▊ | 885/1000 [25:46<03:26,  1.80s/it]"
          ]
        },
        {
          "output_type": "stream",
          "name": "stdout",
          "text": [
            "Validation acc: 0.9609\n",
            "\n",
            "Start of epoch 885\n",
            "Training loss: 0.0000\n",
            "Training metric: 0.9862\n",
            "perturbation loss: 0.0010\n"
          ]
        },
        {
          "output_type": "stream",
          "name": "stderr",
          "text": [
            "\r 89%|████████▊ | 886/1000 [25:48<03:24,  1.79s/it]"
          ]
        },
        {
          "output_type": "stream",
          "name": "stdout",
          "text": [
            "Validation acc: 0.9609\n",
            "\n",
            "Start of epoch 886\n",
            "Training loss: 0.0000\n",
            "Training metric: 0.9863\n",
            "perturbation loss: 0.0000\n"
          ]
        },
        {
          "output_type": "stream",
          "name": "stderr",
          "text": [
            "\r 89%|████████▊ | 887/1000 [25:49<03:15,  1.73s/it]"
          ]
        },
        {
          "output_type": "stream",
          "name": "stdout",
          "text": [
            "Validation acc: 0.9609\n",
            "\n",
            "Start of epoch 887\n",
            "Training loss: 0.0000\n",
            "Training metric: 0.9863\n",
            "perturbation loss: 0.0000\n"
          ]
        },
        {
          "output_type": "stream",
          "name": "stderr",
          "text": [
            "\r 89%|████████▉ | 888/1000 [25:51<03:08,  1.69s/it]"
          ]
        },
        {
          "output_type": "stream",
          "name": "stdout",
          "text": [
            "Validation acc: 0.9609\n",
            "\n",
            "Start of epoch 888\n",
            "Training loss: 0.0000\n",
            "Training metric: 0.9863\n",
            "perturbation loss: 0.0000\n"
          ]
        },
        {
          "output_type": "stream",
          "name": "stderr",
          "text": [
            "\r 89%|████████▉ | 889/1000 [25:53<03:05,  1.67s/it]"
          ]
        },
        {
          "output_type": "stream",
          "name": "stdout",
          "text": [
            "Validation acc: 0.9688\n",
            "\n",
            "Start of epoch 889\n",
            "Training loss: 0.0000\n",
            "Training metric: 0.9863\n",
            "perturbation loss: 0.0000\n"
          ]
        },
        {
          "output_type": "stream",
          "name": "stderr",
          "text": [
            "\r 89%|████████▉ | 890/1000 [25:54<03:00,  1.64s/it]"
          ]
        },
        {
          "output_type": "stream",
          "name": "stdout",
          "text": [
            "Validation acc: 0.9688\n",
            "\n",
            "Start of epoch 890\n",
            "Training loss: 0.0000\n",
            "Training metric: 0.9863\n",
            "perturbation loss: 0.0000\n"
          ]
        },
        {
          "output_type": "stream",
          "name": "stderr",
          "text": [
            "\r 89%|████████▉ | 891/1000 [25:56<02:56,  1.62s/it]"
          ]
        },
        {
          "output_type": "stream",
          "name": "stdout",
          "text": [
            "Validation acc: 0.9609\n",
            "\n",
            "Start of epoch 891\n",
            "Training loss: 0.0000\n",
            "Training metric: 0.9863\n",
            "perturbation loss: 0.0000\n"
          ]
        },
        {
          "output_type": "stream",
          "name": "stderr",
          "text": [
            "\r 89%|████████▉ | 892/1000 [25:57<02:59,  1.66s/it]"
          ]
        },
        {
          "output_type": "stream",
          "name": "stdout",
          "text": [
            "Validation acc: 0.9609\n",
            "\n",
            "Start of epoch 892\n",
            "Training loss: 0.0000\n",
            "Training metric: 0.9864\n",
            "perturbation loss: 0.0000\n"
          ]
        },
        {
          "output_type": "stream",
          "name": "stderr",
          "text": [
            "\r 89%|████████▉ | 893/1000 [26:00<03:20,  1.88s/it]"
          ]
        },
        {
          "output_type": "stream",
          "name": "stdout",
          "text": [
            "Validation acc: 0.9766\n",
            "\n",
            "Start of epoch 893\n",
            "Training loss: 0.0000\n",
            "Training metric: 0.9864\n",
            "perturbation loss: 0.0000\n"
          ]
        },
        {
          "output_type": "stream",
          "name": "stderr",
          "text": [
            "\r 89%|████████▉ | 894/1000 [26:02<03:16,  1.85s/it]"
          ]
        },
        {
          "output_type": "stream",
          "name": "stdout",
          "text": [
            "Validation acc: 0.9688\n",
            "\n",
            "Start of epoch 894\n",
            "Training loss: 0.0000\n",
            "Training metric: 0.9864\n",
            "perturbation loss: 0.0000\n"
          ]
        },
        {
          "output_type": "stream",
          "name": "stderr",
          "text": [
            "\r 90%|████████▉ | 895/1000 [26:03<03:05,  1.77s/it]"
          ]
        },
        {
          "output_type": "stream",
          "name": "stdout",
          "text": [
            "Validation acc: 0.9609\n",
            "\n",
            "Start of epoch 895\n",
            "Training loss: 0.0000\n",
            "Training metric: 0.9864\n",
            "perturbation loss: 0.0000\n"
          ]
        },
        {
          "output_type": "stream",
          "name": "stderr",
          "text": [
            "\r 90%|████████▉ | 896/1000 [26:05<02:58,  1.71s/it]"
          ]
        },
        {
          "output_type": "stream",
          "name": "stdout",
          "text": [
            "Validation acc: 0.9688\n",
            "\n",
            "Start of epoch 896\n",
            "Training loss: 0.0000\n",
            "Training metric: 0.9864\n",
            "perturbation loss: 0.0000\n"
          ]
        },
        {
          "output_type": "stream",
          "name": "stderr",
          "text": [
            "\r 90%|████████▉ | 897/1000 [26:06<02:52,  1.68s/it]"
          ]
        },
        {
          "output_type": "stream",
          "name": "stdout",
          "text": [
            "Validation acc: 0.9766\n",
            "\n",
            "Start of epoch 897\n",
            "Training loss: 0.0000\n",
            "Training metric: 0.9864\n",
            "perturbation loss: 0.0000\n"
          ]
        },
        {
          "output_type": "stream",
          "name": "stderr",
          "text": [
            "\r 90%|████████▉ | 898/1000 [26:08<02:50,  1.67s/it]"
          ]
        },
        {
          "output_type": "stream",
          "name": "stdout",
          "text": [
            "Validation acc: 0.9766\n",
            "\n",
            "Start of epoch 898\n",
            "Training loss: 0.0000\n",
            "Training metric: 0.9864\n",
            "perturbation loss: 0.0000\n"
          ]
        },
        {
          "output_type": "stream",
          "name": "stderr",
          "text": [
            "\r 90%|████████▉ | 899/1000 [26:10<02:46,  1.65s/it]"
          ]
        },
        {
          "output_type": "stream",
          "name": "stdout",
          "text": [
            "Validation acc: 0.9609\n",
            "\n",
            "Start of epoch 899\n",
            "Training loss: 0.0000\n",
            "Training metric: 0.9865\n",
            "perturbation loss: 0.0000\n"
          ]
        },
        {
          "output_type": "stream",
          "name": "stderr",
          "text": [
            "\r 90%|█████████ | 900/1000 [26:12<02:56,  1.77s/it]"
          ]
        },
        {
          "output_type": "stream",
          "name": "stdout",
          "text": [
            "Validation acc: 0.9609\n",
            "\n",
            "Start of epoch 900\n",
            "Training loss: 0.0000\n",
            "Training metric: 0.9865\n",
            "perturbation loss: 0.0006\n"
          ]
        },
        {
          "output_type": "stream",
          "name": "stderr",
          "text": [
            "\r 90%|█████████ | 901/1000 [26:14<03:04,  1.86s/it]"
          ]
        },
        {
          "output_type": "stream",
          "name": "stdout",
          "text": [
            "Validation acc: 0.9609\n",
            "\n",
            "Start of epoch 901\n",
            "Training loss: 0.0000\n",
            "Training metric: 0.9865\n",
            "perturbation loss: 0.0000\n"
          ]
        },
        {
          "output_type": "stream",
          "name": "stderr",
          "text": [
            "\r 90%|█████████ | 902/1000 [26:16<02:59,  1.83s/it]"
          ]
        },
        {
          "output_type": "stream",
          "name": "stdout",
          "text": [
            "Validation acc: 0.9766\n",
            "\n",
            "Start of epoch 902\n",
            "Training loss: 0.0023\n",
            "Training metric: 0.9865\n",
            "perturbation loss: 0.0068\n"
          ]
        },
        {
          "output_type": "stream",
          "name": "stderr",
          "text": [
            "\r 90%|█████████ | 903/1000 [26:17<02:50,  1.76s/it]"
          ]
        },
        {
          "output_type": "stream",
          "name": "stdout",
          "text": [
            "Validation acc: 0.9375\n",
            "\n",
            "Start of epoch 903\n",
            "Training loss: 0.0000\n",
            "Training metric: 0.9865\n",
            "perturbation loss: 0.0000\n"
          ]
        },
        {
          "output_type": "stream",
          "name": "stderr",
          "text": [
            "\r 90%|█████████ | 904/1000 [26:19<02:45,  1.73s/it]"
          ]
        },
        {
          "output_type": "stream",
          "name": "stdout",
          "text": [
            "Validation acc: 0.9141\n",
            "\n",
            "Start of epoch 904\n",
            "Training loss: 0.0000\n",
            "Training metric: 0.9865\n",
            "perturbation loss: 0.0001\n"
          ]
        },
        {
          "output_type": "stream",
          "name": "stderr",
          "text": [
            "\r 90%|█████████ | 905/1000 [26:20<02:40,  1.69s/it]"
          ]
        },
        {
          "output_type": "stream",
          "name": "stdout",
          "text": [
            "Validation acc: 0.9297\n",
            "\n",
            "Start of epoch 905\n",
            "Training loss: 0.0000\n",
            "Training metric: 0.9865\n",
            "perturbation loss: 0.0001\n"
          ]
        },
        {
          "output_type": "stream",
          "name": "stderr",
          "text": [
            "\r 91%|█████████ | 906/1000 [26:22<02:38,  1.68s/it]"
          ]
        },
        {
          "output_type": "stream",
          "name": "stdout",
          "text": [
            "Validation acc: 0.9688\n",
            "\n",
            "Start of epoch 906\n",
            "Training loss: 0.0000\n",
            "Training metric: 0.9866\n",
            "perturbation loss: 0.0000\n"
          ]
        },
        {
          "output_type": "stream",
          "name": "stderr",
          "text": [
            "\r 91%|█████████ | 907/1000 [26:24<02:34,  1.66s/it]"
          ]
        },
        {
          "output_type": "stream",
          "name": "stdout",
          "text": [
            "Validation acc: 0.9531\n",
            "\n",
            "Start of epoch 907\n",
            "Training loss: 0.0000\n",
            "Training metric: 0.9866\n",
            "perturbation loss: 0.0001\n"
          ]
        },
        {
          "output_type": "stream",
          "name": "stderr",
          "text": [
            "\r 91%|█████████ | 908/1000 [26:25<02:35,  1.69s/it]"
          ]
        },
        {
          "output_type": "stream",
          "name": "stdout",
          "text": [
            "Validation acc: 0.9688\n",
            "\n",
            "Start of epoch 908\n",
            "Training loss: 0.0000\n",
            "Training metric: 0.9866\n",
            "perturbation loss: 0.0001\n"
          ]
        },
        {
          "output_type": "stream",
          "name": "stderr",
          "text": [
            "\r 91%|█████████ | 909/1000 [26:28<02:44,  1.81s/it]"
          ]
        },
        {
          "output_type": "stream",
          "name": "stdout",
          "text": [
            "Validation acc: 0.9531\n",
            "\n",
            "Start of epoch 909\n",
            "Training loss: 0.0001\n",
            "Training metric: 0.9866\n",
            "perturbation loss: 0.0025\n"
          ]
        },
        {
          "output_type": "stream",
          "name": "stderr",
          "text": [
            "\r 91%|█████████ | 910/1000 [26:29<02:45,  1.83s/it]"
          ]
        },
        {
          "output_type": "stream",
          "name": "stdout",
          "text": [
            "Validation acc: 0.9531\n",
            "\n",
            "Start of epoch 910\n",
            "Training loss: 0.0002\n",
            "Training metric: 0.9866\n",
            "perturbation loss: 0.0005\n"
          ]
        },
        {
          "output_type": "stream",
          "name": "stderr",
          "text": [
            "\r 91%|█████████ | 911/1000 [26:31<02:36,  1.76s/it]"
          ]
        },
        {
          "output_type": "stream",
          "name": "stdout",
          "text": [
            "Validation acc: 0.9453\n",
            "\n",
            "Start of epoch 911\n",
            "Training loss: 0.0007\n",
            "Training metric: 0.9866\n",
            "perturbation loss: 0.0001\n"
          ]
        },
        {
          "output_type": "stream",
          "name": "stderr",
          "text": [
            "\r 91%|█████████ | 912/1000 [26:33<02:30,  1.71s/it]"
          ]
        },
        {
          "output_type": "stream",
          "name": "stdout",
          "text": [
            "Validation acc: 0.9531\n",
            "\n",
            "Start of epoch 912\n",
            "Training loss: 0.0002\n",
            "Training metric: 0.9866\n",
            "perturbation loss: 0.0065\n"
          ]
        },
        {
          "output_type": "stream",
          "name": "stderr",
          "text": [
            "\r 91%|█████████▏| 913/1000 [26:34<02:25,  1.67s/it]"
          ]
        },
        {
          "output_type": "stream",
          "name": "stdout",
          "text": [
            "Validation acc: 0.9453\n",
            "\n",
            "Start of epoch 913\n",
            "Training loss: 0.0000\n",
            "Training metric: 0.9867\n",
            "perturbation loss: 0.0000\n"
          ]
        },
        {
          "output_type": "stream",
          "name": "stderr",
          "text": [
            "\r 91%|█████████▏| 914/1000 [26:36<02:21,  1.65s/it]"
          ]
        },
        {
          "output_type": "stream",
          "name": "stdout",
          "text": [
            "Validation acc: 0.9688\n",
            "\n",
            "Start of epoch 914\n",
            "Training loss: 0.0000\n",
            "Training metric: 0.9867\n",
            "perturbation loss: 0.0000\n"
          ]
        },
        {
          "output_type": "stream",
          "name": "stderr",
          "text": [
            "\r 92%|█████████▏| 915/1000 [26:37<02:18,  1.63s/it]"
          ]
        },
        {
          "output_type": "stream",
          "name": "stdout",
          "text": [
            "Validation acc: 0.9688\n",
            "\n",
            "Start of epoch 915\n",
            "Training loss: 0.0000\n",
            "Training metric: 0.9867\n",
            "perturbation loss: 0.0003\n"
          ]
        },
        {
          "output_type": "stream",
          "name": "stderr",
          "text": [
            "\r 92%|█████████▏| 916/1000 [26:39<02:18,  1.65s/it]"
          ]
        },
        {
          "output_type": "stream",
          "name": "stdout",
          "text": [
            "Validation acc: 0.9688\n",
            "\n",
            "Start of epoch 916\n",
            "Training loss: 0.0000\n",
            "Training metric: 0.9867\n",
            "perturbation loss: 0.0000\n"
          ]
        },
        {
          "output_type": "stream",
          "name": "stderr",
          "text": [
            "\r 92%|█████████▏| 917/1000 [26:41<02:35,  1.88s/it]"
          ]
        },
        {
          "output_type": "stream",
          "name": "stdout",
          "text": [
            "Validation acc: 0.9766\n",
            "\n",
            "Start of epoch 917\n",
            "Training loss: 0.0000\n",
            "Training metric: 0.9867\n",
            "perturbation loss: 0.0000\n"
          ]
        },
        {
          "output_type": "stream",
          "name": "stderr",
          "text": [
            "\r 92%|█████████▏| 918/1000 [26:43<02:34,  1.88s/it]"
          ]
        },
        {
          "output_type": "stream",
          "name": "stdout",
          "text": [
            "Validation acc: 0.9688\n",
            "\n",
            "Start of epoch 918\n",
            "Training loss: 0.0000\n",
            "Training metric: 0.9867\n",
            "perturbation loss: 0.0000\n"
          ]
        },
        {
          "output_type": "stream",
          "name": "stderr",
          "text": [
            "\r 92%|█████████▏| 919/1000 [26:45<02:24,  1.79s/it]"
          ]
        },
        {
          "output_type": "stream",
          "name": "stdout",
          "text": [
            "Validation acc: 0.9688\n",
            "\n",
            "Start of epoch 919\n",
            "Training loss: 0.0000\n",
            "Training metric: 0.9868\n",
            "perturbation loss: 0.0000\n"
          ]
        },
        {
          "output_type": "stream",
          "name": "stderr",
          "text": [
            "\r 92%|█████████▏| 920/1000 [26:47<02:17,  1.72s/it]"
          ]
        },
        {
          "output_type": "stream",
          "name": "stdout",
          "text": [
            "Validation acc: 0.9609\n",
            "\n",
            "Start of epoch 920\n",
            "Training loss: 0.0000\n",
            "Training metric: 0.9868\n",
            "perturbation loss: 0.0000\n"
          ]
        },
        {
          "output_type": "stream",
          "name": "stderr",
          "text": [
            "\r 92%|█████████▏| 921/1000 [26:48<02:14,  1.70s/it]"
          ]
        },
        {
          "output_type": "stream",
          "name": "stdout",
          "text": [
            "Validation acc: 0.9688\n",
            "\n",
            "Start of epoch 921\n",
            "Training loss: 0.0000\n",
            "Training metric: 0.9868\n",
            "perturbation loss: 0.0000\n"
          ]
        },
        {
          "output_type": "stream",
          "name": "stderr",
          "text": [
            "\r 92%|█████████▏| 922/1000 [26:50<02:09,  1.66s/it]"
          ]
        },
        {
          "output_type": "stream",
          "name": "stdout",
          "text": [
            "Validation acc: 0.9688\n",
            "\n",
            "Start of epoch 922\n",
            "Training loss: 0.0000\n",
            "Training metric: 0.9868\n",
            "perturbation loss: 0.0001\n"
          ]
        },
        {
          "output_type": "stream",
          "name": "stderr",
          "text": [
            "\r 92%|█████████▏| 923/1000 [26:51<02:05,  1.63s/it]"
          ]
        },
        {
          "output_type": "stream",
          "name": "stdout",
          "text": [
            "Validation acc: 0.9688\n",
            "\n",
            "Start of epoch 923\n",
            "Training loss: 0.0000\n",
            "Training metric: 0.9868\n",
            "perturbation loss: 0.0000\n"
          ]
        },
        {
          "output_type": "stream",
          "name": "stderr",
          "text": [
            "\r 92%|█████████▏| 924/1000 [26:53<02:13,  1.75s/it]"
          ]
        },
        {
          "output_type": "stream",
          "name": "stdout",
          "text": [
            "Validation acc: 0.9844\n",
            "\n",
            "Start of epoch 924\n",
            "Training loss: 0.0000\n",
            "Training metric: 0.9868\n",
            "perturbation loss: 0.0000\n"
          ]
        },
        {
          "output_type": "stream",
          "name": "stderr",
          "text": [
            "\r 92%|█████████▎| 925/1000 [26:55<02:18,  1.85s/it]"
          ]
        },
        {
          "output_type": "stream",
          "name": "stdout",
          "text": [
            "Validation acc: 0.9688\n",
            "\n",
            "Start of epoch 925\n",
            "Training loss: 0.0000\n",
            "Training metric: 0.9868\n",
            "perturbation loss: 0.0000\n"
          ]
        },
        {
          "output_type": "stream",
          "name": "stderr",
          "text": [
            "\r 93%|█████████▎| 926/1000 [26:57<02:15,  1.84s/it]"
          ]
        },
        {
          "output_type": "stream",
          "name": "stdout",
          "text": [
            "Validation acc: 0.9844\n",
            "\n",
            "Start of epoch 926\n",
            "Training loss: 0.0000\n",
            "Training metric: 0.9869\n",
            "perturbation loss: 0.0000\n"
          ]
        },
        {
          "output_type": "stream",
          "name": "stderr",
          "text": [
            "\r 93%|█████████▎| 927/1000 [26:59<02:08,  1.76s/it]"
          ]
        },
        {
          "output_type": "stream",
          "name": "stdout",
          "text": [
            "Validation acc: 0.9688\n",
            "\n",
            "Start of epoch 927\n",
            "Training loss: 0.0000\n",
            "Training metric: 0.9869\n",
            "perturbation loss: 0.0000\n"
          ]
        },
        {
          "output_type": "stream",
          "name": "stderr",
          "text": [
            "\r 93%|█████████▎| 928/1000 [27:00<02:03,  1.71s/it]"
          ]
        },
        {
          "output_type": "stream",
          "name": "stdout",
          "text": [
            "Validation acc: 0.9766\n",
            "\n",
            "Start of epoch 928\n",
            "Training loss: 0.0000\n",
            "Training metric: 0.9869\n",
            "perturbation loss: 0.0000\n"
          ]
        },
        {
          "output_type": "stream",
          "name": "stderr",
          "text": [
            "\r 93%|█████████▎| 929/1000 [27:02<01:58,  1.67s/it]"
          ]
        },
        {
          "output_type": "stream",
          "name": "stdout",
          "text": [
            "Validation acc: 0.9688\n",
            "\n",
            "Start of epoch 929\n",
            "Training loss: 0.0000\n",
            "Training metric: 0.9869\n",
            "perturbation loss: 0.0000\n"
          ]
        },
        {
          "output_type": "stream",
          "name": "stderr",
          "text": [
            "\r 93%|█████████▎| 930/1000 [27:04<01:56,  1.66s/it]"
          ]
        },
        {
          "output_type": "stream",
          "name": "stdout",
          "text": [
            "Validation acc: 0.9844\n",
            "\n",
            "Start of epoch 930\n",
            "Training loss: 0.0000\n",
            "Training metric: 0.9869\n",
            "perturbation loss: 0.0000\n"
          ]
        },
        {
          "output_type": "stream",
          "name": "stderr",
          "text": [
            "\r 93%|█████████▎| 931/1000 [27:05<01:52,  1.63s/it]"
          ]
        },
        {
          "output_type": "stream",
          "name": "stdout",
          "text": [
            "Validation acc: 0.9844\n",
            "\n",
            "Start of epoch 931\n",
            "Training loss: 0.0000\n",
            "Training metric: 0.9869\n",
            "perturbation loss: 0.0000\n"
          ]
        },
        {
          "output_type": "stream",
          "name": "stderr",
          "text": [
            "\r 93%|█████████▎| 932/1000 [27:07<01:52,  1.65s/it]"
          ]
        },
        {
          "output_type": "stream",
          "name": "stdout",
          "text": [
            "Validation acc: 0.9766\n",
            "\n",
            "Start of epoch 932\n",
            "Training loss: 0.0000\n",
            "Training metric: 0.9869\n",
            "perturbation loss: 0.0000\n"
          ]
        },
        {
          "output_type": "stream",
          "name": "stderr",
          "text": [
            "\r 93%|█████████▎| 933/1000 [27:09<02:04,  1.87s/it]"
          ]
        },
        {
          "output_type": "stream",
          "name": "stdout",
          "text": [
            "Validation acc: 0.9688\n",
            "\n",
            "Start of epoch 933\n",
            "Training loss: 0.0000\n",
            "Training metric: 0.9869\n",
            "perturbation loss: 0.0000\n"
          ]
        },
        {
          "output_type": "stream",
          "name": "stderr",
          "text": [
            "\r 93%|█████████▎| 934/1000 [27:11<02:00,  1.82s/it]"
          ]
        },
        {
          "output_type": "stream",
          "name": "stdout",
          "text": [
            "Validation acc: 0.9688\n",
            "\n",
            "Start of epoch 934\n",
            "Training loss: 0.0000\n",
            "Training metric: 0.9870\n",
            "perturbation loss: 0.0000\n"
          ]
        },
        {
          "output_type": "stream",
          "name": "stderr",
          "text": [
            "\r 94%|█████████▎| 935/1000 [27:12<01:52,  1.74s/it]"
          ]
        },
        {
          "output_type": "stream",
          "name": "stdout",
          "text": [
            "Validation acc: 0.9844\n",
            "\n",
            "Start of epoch 935\n",
            "Training loss: 0.0000\n",
            "Training metric: 0.9870\n",
            "perturbation loss: 0.0000\n"
          ]
        },
        {
          "output_type": "stream",
          "name": "stderr",
          "text": [
            "\r 94%|█████████▎| 936/1000 [27:14<01:47,  1.68s/it]"
          ]
        },
        {
          "output_type": "stream",
          "name": "stdout",
          "text": [
            "Validation acc: 0.9766\n",
            "\n",
            "Start of epoch 936\n",
            "Training loss: 0.0001\n",
            "Training metric: 0.9870\n",
            "perturbation loss: 0.0025\n"
          ]
        },
        {
          "output_type": "stream",
          "name": "stderr",
          "text": [
            "\r 94%|█████████▎| 937/1000 [27:16<01:42,  1.63s/it]"
          ]
        },
        {
          "output_type": "stream",
          "name": "stdout",
          "text": [
            "Validation acc: 0.9609\n",
            "\n",
            "Start of epoch 937\n",
            "Training loss: 0.0001\n",
            "Training metric: 0.9870\n",
            "perturbation loss: 0.0009\n"
          ]
        },
        {
          "output_type": "stream",
          "name": "stderr",
          "text": [
            "\r 94%|█████████▍| 938/1000 [27:17<01:39,  1.60s/it]"
          ]
        },
        {
          "output_type": "stream",
          "name": "stdout",
          "text": [
            "Validation acc: 0.9609\n",
            "\n",
            "Start of epoch 938\n",
            "Training loss: 0.0000\n",
            "Training metric: 0.9870\n",
            "perturbation loss: 0.0001\n"
          ]
        },
        {
          "output_type": "stream",
          "name": "stderr",
          "text": [
            "\r 94%|█████████▍| 939/1000 [27:19<01:38,  1.61s/it]"
          ]
        },
        {
          "output_type": "stream",
          "name": "stdout",
          "text": [
            "Validation acc: 0.9609\n",
            "\n",
            "Start of epoch 939\n",
            "Training loss: 0.0001\n",
            "Training metric: 0.9870\n",
            "perturbation loss: 0.0014\n"
          ]
        },
        {
          "output_type": "stream",
          "name": "stderr",
          "text": [
            "\r 94%|█████████▍| 940/1000 [27:21<01:45,  1.76s/it]"
          ]
        },
        {
          "output_type": "stream",
          "name": "stdout",
          "text": [
            "Validation acc: 0.9531\n",
            "\n",
            "Start of epoch 940\n",
            "Training loss: 0.0001\n",
            "Training metric: 0.9870\n",
            "perturbation loss: 0.0016\n"
          ]
        },
        {
          "output_type": "stream",
          "name": "stderr",
          "text": [
            "\r 94%|█████████▍| 941/1000 [27:23<01:50,  1.87s/it]"
          ]
        },
        {
          "output_type": "stream",
          "name": "stdout",
          "text": [
            "Validation acc: 0.9688\n",
            "\n",
            "Start of epoch 941\n",
            "Training loss: 0.0000\n",
            "Training metric: 0.9871\n",
            "perturbation loss: 0.0000\n"
          ]
        },
        {
          "output_type": "stream",
          "name": "stderr",
          "text": [
            "\r 94%|█████████▍| 942/1000 [27:25<01:47,  1.86s/it]"
          ]
        },
        {
          "output_type": "stream",
          "name": "stdout",
          "text": [
            "Validation acc: 0.9688\n",
            "\n",
            "Start of epoch 942\n",
            "Training loss: 0.0000\n",
            "Training metric: 0.9871\n",
            "perturbation loss: 0.0001\n"
          ]
        },
        {
          "output_type": "stream",
          "name": "stderr",
          "text": [
            "\r 94%|█████████▍| 943/1000 [27:26<01:42,  1.79s/it]"
          ]
        },
        {
          "output_type": "stream",
          "name": "stdout",
          "text": [
            "Validation acc: 0.9688\n",
            "\n",
            "Start of epoch 943\n",
            "Training loss: 0.0000\n",
            "Training metric: 0.9871\n",
            "perturbation loss: 0.0000\n"
          ]
        },
        {
          "output_type": "stream",
          "name": "stderr",
          "text": [
            "\r 94%|█████████▍| 944/1000 [27:28<01:38,  1.75s/it]"
          ]
        },
        {
          "output_type": "stream",
          "name": "stdout",
          "text": [
            "Validation acc: 0.9688\n",
            "\n",
            "Start of epoch 944\n",
            "Training loss: 0.0000\n",
            "Training metric: 0.9871\n",
            "perturbation loss: 0.0008\n"
          ]
        },
        {
          "output_type": "stream",
          "name": "stderr",
          "text": [
            "\r 94%|█████████▍| 945/1000 [27:30<01:35,  1.73s/it]"
          ]
        },
        {
          "output_type": "stream",
          "name": "stdout",
          "text": [
            "Validation acc: 0.9609\n",
            "\n",
            "Start of epoch 945\n",
            "Training loss: 0.0000\n",
            "Training metric: 0.9871\n",
            "perturbation loss: 0.0000\n"
          ]
        },
        {
          "output_type": "stream",
          "name": "stderr",
          "text": [
            "\r 95%|█████████▍| 946/1000 [27:31<01:31,  1.70s/it]"
          ]
        },
        {
          "output_type": "stream",
          "name": "stdout",
          "text": [
            "Validation acc: 0.9688\n",
            "\n",
            "Start of epoch 946\n",
            "Training loss: 0.0000\n",
            "Training metric: 0.9871\n",
            "perturbation loss: 0.0000\n"
          ]
        },
        {
          "output_type": "stream",
          "name": "stderr",
          "text": [
            "\r 95%|█████████▍| 947/1000 [27:33<01:29,  1.68s/it]"
          ]
        },
        {
          "output_type": "stream",
          "name": "stdout",
          "text": [
            "Validation acc: 0.9688\n",
            "\n",
            "Start of epoch 947\n",
            "Training loss: 0.0000\n",
            "Training metric: 0.9871\n",
            "perturbation loss: 0.0000\n"
          ]
        },
        {
          "output_type": "stream",
          "name": "stderr",
          "text": [
            "\r 95%|█████████▍| 948/1000 [27:35<01:35,  1.84s/it]"
          ]
        },
        {
          "output_type": "stream",
          "name": "stdout",
          "text": [
            "Validation acc: 0.9766\n",
            "\n",
            "Start of epoch 948\n",
            "Training loss: 0.0000\n",
            "Training metric: 0.9872\n",
            "perturbation loss: 0.0000\n"
          ]
        },
        {
          "output_type": "stream",
          "name": "stderr",
          "text": [
            "\r 95%|█████████▍| 949/1000 [27:38<01:43,  2.04s/it]"
          ]
        },
        {
          "output_type": "stream",
          "name": "stdout",
          "text": [
            "Validation acc: 0.9766\n",
            "\n",
            "Start of epoch 949\n",
            "Training loss: 0.0000\n",
            "Training metric: 0.9872\n",
            "perturbation loss: 0.0000\n"
          ]
        },
        {
          "output_type": "stream",
          "name": "stderr",
          "text": [
            "\r 95%|█████████▌| 950/1000 [27:39<01:35,  1.90s/it]"
          ]
        },
        {
          "output_type": "stream",
          "name": "stdout",
          "text": [
            "Validation acc: 0.9688\n",
            "\n",
            "Start of epoch 950\n",
            "Training loss: 0.0000\n",
            "Training metric: 0.9872\n",
            "perturbation loss: 0.0001\n"
          ]
        },
        {
          "output_type": "stream",
          "name": "stderr",
          "text": [
            "\r 95%|█████████▌| 951/1000 [27:41<01:28,  1.80s/it]"
          ]
        },
        {
          "output_type": "stream",
          "name": "stdout",
          "text": [
            "Validation acc: 0.9688\n",
            "\n",
            "Start of epoch 951\n",
            "Training loss: 0.0000\n",
            "Training metric: 0.9872\n",
            "perturbation loss: 0.0001\n"
          ]
        },
        {
          "output_type": "stream",
          "name": "stderr",
          "text": [
            "\r 95%|█████████▌| 952/1000 [27:42<01:23,  1.74s/it]"
          ]
        },
        {
          "output_type": "stream",
          "name": "stdout",
          "text": [
            "Validation acc: 0.9688\n",
            "\n",
            "Start of epoch 952\n",
            "Training loss: 0.0000\n",
            "Training metric: 0.9872\n",
            "perturbation loss: 0.0001\n"
          ]
        },
        {
          "output_type": "stream",
          "name": "stderr",
          "text": [
            "\r 95%|█████████▌| 953/1000 [27:44<01:19,  1.70s/it]"
          ]
        },
        {
          "output_type": "stream",
          "name": "stdout",
          "text": [
            "Validation acc: 0.9688\n",
            "\n",
            "Start of epoch 953\n",
            "Training loss: 0.0000\n",
            "Training metric: 0.9872\n",
            "perturbation loss: 0.0000\n"
          ]
        },
        {
          "output_type": "stream",
          "name": "stderr",
          "text": [
            "\r 95%|█████████▌| 954/1000 [27:46<01:16,  1.66s/it]"
          ]
        },
        {
          "output_type": "stream",
          "name": "stdout",
          "text": [
            "Validation acc: 0.9766\n",
            "\n",
            "Start of epoch 954\n",
            "Training loss: 0.0000\n",
            "Training metric: 0.9872\n",
            "perturbation loss: 0.0000\n"
          ]
        },
        {
          "output_type": "stream",
          "name": "stderr",
          "text": [
            "\r 96%|█████████▌| 955/1000 [27:47<01:14,  1.66s/it]"
          ]
        },
        {
          "output_type": "stream",
          "name": "stdout",
          "text": [
            "Validation acc: 0.9766\n",
            "\n",
            "Start of epoch 955\n",
            "Training loss: 0.0000\n",
            "Training metric: 0.9872\n",
            "perturbation loss: 0.0000\n"
          ]
        },
        {
          "output_type": "stream",
          "name": "stderr",
          "text": [
            "\r 96%|█████████▌| 956/1000 [27:49<01:17,  1.76s/it]"
          ]
        },
        {
          "output_type": "stream",
          "name": "stdout",
          "text": [
            "Validation acc: 0.9766\n",
            "\n",
            "Start of epoch 956\n",
            "Training loss: 0.0000\n",
            "Training metric: 0.9873\n",
            "perturbation loss: 0.0001\n"
          ]
        },
        {
          "output_type": "stream",
          "name": "stderr",
          "text": [
            "\r 96%|█████████▌| 957/1000 [27:51<01:20,  1.87s/it]"
          ]
        },
        {
          "output_type": "stream",
          "name": "stdout",
          "text": [
            "Validation acc: 0.9766\n",
            "\n",
            "Start of epoch 957\n",
            "Training loss: 0.0000\n",
            "Training metric: 0.9873\n",
            "perturbation loss: 0.0000\n"
          ]
        },
        {
          "output_type": "stream",
          "name": "stderr",
          "text": [
            "\r 96%|█████████▌| 958/1000 [27:53<01:14,  1.78s/it]"
          ]
        },
        {
          "output_type": "stream",
          "name": "stdout",
          "text": [
            "Validation acc: 0.9688\n",
            "\n",
            "Start of epoch 958\n",
            "Training loss: 0.0000\n",
            "Training metric: 0.9873\n",
            "perturbation loss: 0.0000\n"
          ]
        },
        {
          "output_type": "stream",
          "name": "stderr",
          "text": [
            "\r 96%|█████████▌| 959/1000 [27:55<01:10,  1.72s/it]"
          ]
        },
        {
          "output_type": "stream",
          "name": "stdout",
          "text": [
            "Validation acc: 0.9688\n",
            "\n",
            "Start of epoch 959\n",
            "Training loss: 0.0000\n",
            "Training metric: 0.9873\n",
            "perturbation loss: 0.0000\n"
          ]
        },
        {
          "output_type": "stream",
          "name": "stderr",
          "text": [
            "\r 96%|█████████▌| 960/1000 [27:56<01:07,  1.69s/it]"
          ]
        },
        {
          "output_type": "stream",
          "name": "stdout",
          "text": [
            "Validation acc: 0.9766\n",
            "\n",
            "Start of epoch 960\n",
            "Training loss: 0.0000\n",
            "Training metric: 0.9873\n",
            "perturbation loss: 0.0000\n"
          ]
        },
        {
          "output_type": "stream",
          "name": "stderr",
          "text": [
            "\r 96%|█████████▌| 961/1000 [27:58<01:04,  1.65s/it]"
          ]
        },
        {
          "output_type": "stream",
          "name": "stdout",
          "text": [
            "Validation acc: 0.9766\n",
            "\n",
            "Start of epoch 961\n",
            "Training loss: 0.0000\n",
            "Training metric: 0.9873\n",
            "perturbation loss: 0.0000\n"
          ]
        },
        {
          "output_type": "stream",
          "name": "stderr",
          "text": [
            "\r 96%|█████████▌| 962/1000 [27:59<01:01,  1.63s/it]"
          ]
        },
        {
          "output_type": "stream",
          "name": "stdout",
          "text": [
            "Validation acc: 0.9766\n",
            "\n",
            "Start of epoch 962\n",
            "Training loss: 0.0000\n",
            "Training metric: 0.9873\n",
            "perturbation loss: 0.0000\n"
          ]
        },
        {
          "output_type": "stream",
          "name": "stderr",
          "text": [
            "\r 96%|█████████▋| 963/1000 [28:01<00:59,  1.61s/it]"
          ]
        },
        {
          "output_type": "stream",
          "name": "stdout",
          "text": [
            "Validation acc: 0.9688\n",
            "\n",
            "Start of epoch 963\n",
            "Training loss: 0.0000\n",
            "Training metric: 0.9874\n",
            "perturbation loss: 0.0000\n"
          ]
        },
        {
          "output_type": "stream",
          "name": "stderr",
          "text": [
            "\r 96%|█████████▋| 964/1000 [28:03<01:01,  1.71s/it]"
          ]
        },
        {
          "output_type": "stream",
          "name": "stdout",
          "text": [
            "Validation acc: 0.9688\n",
            "\n",
            "Start of epoch 964\n",
            "Training loss: 0.0000\n",
            "Training metric: 0.9874\n",
            "perturbation loss: 0.0000\n"
          ]
        },
        {
          "output_type": "stream",
          "name": "stderr",
          "text": [
            "\r 96%|█████████▋| 965/1000 [28:05<01:06,  1.91s/it]"
          ]
        },
        {
          "output_type": "stream",
          "name": "stdout",
          "text": [
            "Validation acc: 0.9766\n",
            "\n",
            "Start of epoch 965\n",
            "Training loss: 0.0000\n",
            "Training metric: 0.9874\n",
            "perturbation loss: 0.0000\n"
          ]
        },
        {
          "output_type": "stream",
          "name": "stderr",
          "text": [
            "\r 97%|█████████▋| 966/1000 [28:07<01:01,  1.81s/it]"
          ]
        },
        {
          "output_type": "stream",
          "name": "stdout",
          "text": [
            "Validation acc: 0.9766\n",
            "\n",
            "Start of epoch 966\n",
            "Training loss: 0.0000\n",
            "Training metric: 0.9874\n",
            "perturbation loss: 0.0000\n"
          ]
        },
        {
          "output_type": "stream",
          "name": "stderr",
          "text": [
            "\r 97%|█████████▋| 967/1000 [28:08<00:57,  1.76s/it]"
          ]
        },
        {
          "output_type": "stream",
          "name": "stdout",
          "text": [
            "Validation acc: 0.9609\n",
            "\n",
            "Start of epoch 967\n",
            "Training loss: 0.0000\n",
            "Training metric: 0.9874\n",
            "perturbation loss: 0.0000\n"
          ]
        },
        {
          "output_type": "stream",
          "name": "stderr",
          "text": [
            "\r 97%|█████████▋| 968/1000 [28:10<00:54,  1.70s/it]"
          ]
        },
        {
          "output_type": "stream",
          "name": "stdout",
          "text": [
            "Validation acc: 0.9688\n",
            "\n",
            "Start of epoch 968\n",
            "Training loss: 0.0000\n",
            "Training metric: 0.9874\n",
            "perturbation loss: 0.0001\n"
          ]
        },
        {
          "output_type": "stream",
          "name": "stderr",
          "text": [
            "\r 97%|█████████▋| 969/1000 [28:12<00:51,  1.66s/it]"
          ]
        },
        {
          "output_type": "stream",
          "name": "stdout",
          "text": [
            "Validation acc: 0.9688\n",
            "\n",
            "Start of epoch 969\n",
            "Training loss: 0.0000\n",
            "Training metric: 0.9874\n",
            "perturbation loss: 0.0000\n"
          ]
        },
        {
          "output_type": "stream",
          "name": "stderr",
          "text": [
            "\r 97%|█████████▋| 970/1000 [28:13<00:49,  1.65s/it]"
          ]
        },
        {
          "output_type": "stream",
          "name": "stdout",
          "text": [
            "Validation acc: 0.9688\n",
            "\n",
            "Start of epoch 970\n",
            "Training loss: 0.0000\n",
            "Training metric: 0.9874\n",
            "perturbation loss: 0.0000\n"
          ]
        },
        {
          "output_type": "stream",
          "name": "stderr",
          "text": [
            "\r 97%|█████████▋| 971/1000 [28:15<00:47,  1.65s/it]"
          ]
        },
        {
          "output_type": "stream",
          "name": "stdout",
          "text": [
            "Validation acc: 0.9609\n",
            "\n",
            "Start of epoch 971\n",
            "Training loss: 0.0000\n",
            "Training metric: 0.9875\n",
            "perturbation loss: 0.0000\n"
          ]
        },
        {
          "output_type": "stream",
          "name": "stderr",
          "text": [
            "\r 97%|█████████▋| 972/1000 [28:17<00:49,  1.76s/it]"
          ]
        },
        {
          "output_type": "stream",
          "name": "stdout",
          "text": [
            "Validation acc: 0.9766\n",
            "\n",
            "Start of epoch 972\n",
            "Training loss: 0.0000\n",
            "Training metric: 0.9875\n",
            "perturbation loss: 0.0000\n"
          ]
        },
        {
          "output_type": "stream",
          "name": "stderr",
          "text": [
            "\r 97%|█████████▋| 973/1000 [28:19<00:50,  1.87s/it]"
          ]
        },
        {
          "output_type": "stream",
          "name": "stdout",
          "text": [
            "Validation acc: 0.9766\n",
            "\n",
            "Start of epoch 973\n",
            "Training loss: 0.0000\n",
            "Training metric: 0.9875\n",
            "perturbation loss: 0.0000\n"
          ]
        },
        {
          "output_type": "stream",
          "name": "stderr",
          "text": [
            "\r 97%|█████████▋| 974/1000 [28:21<00:46,  1.79s/it]"
          ]
        },
        {
          "output_type": "stream",
          "name": "stdout",
          "text": [
            "Validation acc: 0.9766\n",
            "\n",
            "Start of epoch 974\n",
            "Training loss: 0.0000\n",
            "Training metric: 0.9875\n",
            "perturbation loss: 0.0000\n"
          ]
        },
        {
          "output_type": "stream",
          "name": "stderr",
          "text": [
            "\r 98%|█████████▊| 975/1000 [28:22<00:43,  1.75s/it]"
          ]
        },
        {
          "output_type": "stream",
          "name": "stdout",
          "text": [
            "Validation acc: 0.9688\n",
            "\n",
            "Start of epoch 975\n",
            "Training loss: 0.0000\n",
            "Training metric: 0.9875\n",
            "perturbation loss: 0.0000\n"
          ]
        },
        {
          "output_type": "stream",
          "name": "stderr",
          "text": [
            "\r 98%|█████████▊| 976/1000 [28:24<00:41,  1.71s/it]"
          ]
        },
        {
          "output_type": "stream",
          "name": "stdout",
          "text": [
            "Validation acc: 0.9609\n",
            "\n",
            "Start of epoch 976\n",
            "Training loss: 0.0000\n",
            "Training metric: 0.9875\n",
            "perturbation loss: 0.0007\n"
          ]
        },
        {
          "output_type": "stream",
          "name": "stderr",
          "text": [
            "\r 98%|█████████▊| 977/1000 [28:26<00:39,  1.70s/it]"
          ]
        },
        {
          "output_type": "stream",
          "name": "stdout",
          "text": [
            "Validation acc: 0.9609\n",
            "\n",
            "Start of epoch 977\n",
            "Training loss: 0.0000\n",
            "Training metric: 0.9875\n",
            "perturbation loss: 0.0000\n"
          ]
        },
        {
          "output_type": "stream",
          "name": "stderr",
          "text": [
            "\r 98%|█████████▊| 978/1000 [28:27<00:37,  1.69s/it]"
          ]
        },
        {
          "output_type": "stream",
          "name": "stdout",
          "text": [
            "Validation acc: 0.9609\n",
            "\n",
            "Start of epoch 978\n",
            "Training loss: 0.0000\n",
            "Training metric: 0.9875\n",
            "perturbation loss: 0.0000\n"
          ]
        },
        {
          "output_type": "stream",
          "name": "stderr",
          "text": [
            "\r 98%|█████████▊| 979/1000 [28:29<00:35,  1.68s/it]"
          ]
        },
        {
          "output_type": "stream",
          "name": "stdout",
          "text": [
            "Validation acc: 0.9688\n",
            "\n",
            "Start of epoch 979\n",
            "Training loss: 0.0000\n",
            "Training metric: 0.9876\n",
            "perturbation loss: 0.0001\n"
          ]
        },
        {
          "output_type": "stream",
          "name": "stderr",
          "text": [
            "\r 98%|█████████▊| 980/1000 [28:31<00:36,  1.83s/it]"
          ]
        },
        {
          "output_type": "stream",
          "name": "stdout",
          "text": [
            "Validation acc: 0.9688\n",
            "\n",
            "Start of epoch 980\n",
            "Training loss: 0.0000\n",
            "Training metric: 0.9876\n",
            "perturbation loss: 0.0000\n"
          ]
        },
        {
          "output_type": "stream",
          "name": "stderr",
          "text": [
            "\r 98%|█████████▊| 981/1000 [28:33<00:36,  1.91s/it]"
          ]
        },
        {
          "output_type": "stream",
          "name": "stdout",
          "text": [
            "Validation acc: 0.9766\n",
            "\n",
            "Start of epoch 981\n",
            "Training loss: 0.0000\n",
            "Training metric: 0.9876\n",
            "perturbation loss: 0.0002\n"
          ]
        },
        {
          "output_type": "stream",
          "name": "stderr",
          "text": [
            "\r 98%|█████████▊| 982/1000 [28:35<00:32,  1.83s/it]"
          ]
        },
        {
          "output_type": "stream",
          "name": "stdout",
          "text": [
            "Validation acc: 0.9688\n",
            "\n",
            "Start of epoch 982\n",
            "Training loss: 0.0001\n",
            "Training metric: 0.9876\n",
            "perturbation loss: 0.0007\n"
          ]
        },
        {
          "output_type": "stream",
          "name": "stderr",
          "text": [
            "\r 98%|█████████▊| 983/1000 [28:36<00:30,  1.78s/it]"
          ]
        },
        {
          "output_type": "stream",
          "name": "stdout",
          "text": [
            "Validation acc: 0.9688\n",
            "\n",
            "Start of epoch 983\n",
            "Training loss: 0.0000\n",
            "Training metric: 0.9876\n",
            "perturbation loss: 0.0000\n"
          ]
        },
        {
          "output_type": "stream",
          "name": "stderr",
          "text": [
            "\r 98%|█████████▊| 984/1000 [28:38<00:27,  1.73s/it]"
          ]
        },
        {
          "output_type": "stream",
          "name": "stdout",
          "text": [
            "Validation acc: 0.9688\n",
            "\n",
            "Start of epoch 984\n",
            "Training loss: 0.0000\n",
            "Training metric: 0.9876\n",
            "perturbation loss: 0.0000\n"
          ]
        },
        {
          "output_type": "stream",
          "name": "stderr",
          "text": [
            "\r 98%|█████████▊| 985/1000 [28:40<00:25,  1.68s/it]"
          ]
        },
        {
          "output_type": "stream",
          "name": "stdout",
          "text": [
            "Validation acc: 0.9688\n",
            "\n",
            "Start of epoch 985\n",
            "Training loss: 0.0000\n",
            "Training metric: 0.9876\n",
            "perturbation loss: 0.0001\n"
          ]
        },
        {
          "output_type": "stream",
          "name": "stderr",
          "text": [
            "\r 99%|█████████▊| 986/1000 [28:41<00:23,  1.64s/it]"
          ]
        },
        {
          "output_type": "stream",
          "name": "stdout",
          "text": [
            "Validation acc: 0.9609\n",
            "\n",
            "Start of epoch 986\n",
            "Training loss: 0.0002\n",
            "Training metric: 0.9876\n",
            "perturbation loss: 0.0003\n"
          ]
        },
        {
          "output_type": "stream",
          "name": "stderr",
          "text": [
            "\r 99%|█████████▊| 987/1000 [28:43<00:21,  1.62s/it]"
          ]
        },
        {
          "output_type": "stream",
          "name": "stdout",
          "text": [
            "Validation acc: 0.9609\n",
            "\n",
            "Start of epoch 987\n",
            "Training loss: 0.0000\n",
            "Training metric: 0.9877\n",
            "perturbation loss: 0.0000\n"
          ]
        },
        {
          "output_type": "stream",
          "name": "stderr",
          "text": [
            "\r 99%|█████████▉| 988/1000 [28:45<00:21,  1.76s/it]"
          ]
        },
        {
          "output_type": "stream",
          "name": "stdout",
          "text": [
            "Validation acc: 0.9453\n",
            "\n",
            "Start of epoch 988\n",
            "Training loss: 0.0000\n",
            "Training metric: 0.9877\n",
            "perturbation loss: 0.0000\n"
          ]
        },
        {
          "output_type": "stream",
          "name": "stderr",
          "text": [
            "\r 99%|█████████▉| 989/1000 [28:47<00:20,  1.84s/it]"
          ]
        },
        {
          "output_type": "stream",
          "name": "stdout",
          "text": [
            "Validation acc: 0.9609\n",
            "\n",
            "Start of epoch 989\n",
            "Training loss: 0.0000\n",
            "Training metric: 0.9877\n",
            "perturbation loss: 0.0000\n"
          ]
        },
        {
          "output_type": "stream",
          "name": "stderr",
          "text": [
            "\r 99%|█████████▉| 990/1000 [28:48<00:17,  1.76s/it]"
          ]
        },
        {
          "output_type": "stream",
          "name": "stdout",
          "text": [
            "Validation acc: 0.9609\n",
            "\n",
            "Start of epoch 990\n",
            "Training loss: 0.0001\n",
            "Training metric: 0.9877\n",
            "perturbation loss: 0.0017\n"
          ]
        },
        {
          "output_type": "stream",
          "name": "stderr",
          "text": [
            "\r 99%|█████████▉| 991/1000 [28:50<00:15,  1.71s/it]"
          ]
        },
        {
          "output_type": "stream",
          "name": "stdout",
          "text": [
            "Validation acc: 0.9609\n",
            "\n",
            "Start of epoch 991\n",
            "Training loss: 0.0000\n",
            "Training metric: 0.9877\n",
            "perturbation loss: 0.0006\n"
          ]
        },
        {
          "output_type": "stream",
          "name": "stderr",
          "text": [
            "\r 99%|█████████▉| 992/1000 [28:52<00:13,  1.67s/it]"
          ]
        },
        {
          "output_type": "stream",
          "name": "stdout",
          "text": [
            "Validation acc: 0.9766\n",
            "\n",
            "Start of epoch 992\n",
            "Training loss: 0.0433\n",
            "Training metric: 0.9877\n",
            "perturbation loss: 0.0602\n"
          ]
        },
        {
          "output_type": "stream",
          "name": "stderr",
          "text": [
            "\r 99%|█████████▉| 993/1000 [28:53<00:11,  1.66s/it]"
          ]
        },
        {
          "output_type": "stream",
          "name": "stdout",
          "text": [
            "Validation acc: 0.9531\n",
            "\n",
            "Start of epoch 993\n",
            "Training loss: 0.0000\n",
            "Training metric: 0.9877\n",
            "perturbation loss: 0.0007\n"
          ]
        },
        {
          "output_type": "stream",
          "name": "stderr",
          "text": [
            "\r 99%|█████████▉| 994/1000 [28:55<00:09,  1.64s/it]"
          ]
        },
        {
          "output_type": "stream",
          "name": "stdout",
          "text": [
            "Validation acc: 0.9609\n",
            "\n",
            "Start of epoch 994\n",
            "Training loss: 0.0000\n",
            "Training metric: 0.9877\n",
            "perturbation loss: 0.0001\n"
          ]
        },
        {
          "output_type": "stream",
          "name": "stderr",
          "text": [
            "\r100%|█████████▉| 995/1000 [28:56<00:08,  1.64s/it]"
          ]
        },
        {
          "output_type": "stream",
          "name": "stdout",
          "text": [
            "Validation acc: 0.9766\n",
            "\n",
            "Start of epoch 995\n",
            "Training loss: 0.0000\n",
            "Training metric: 0.9878\n",
            "perturbation loss: 0.0012\n"
          ]
        },
        {
          "output_type": "stream",
          "name": "stderr",
          "text": [
            "\r100%|█████████▉| 996/1000 [28:59<00:07,  1.76s/it]"
          ]
        },
        {
          "output_type": "stream",
          "name": "stdout",
          "text": [
            "Validation acc: 0.9688\n",
            "\n",
            "Start of epoch 996\n",
            "Training loss: 0.0001\n",
            "Training metric: 0.9878\n",
            "perturbation loss: 0.0010\n"
          ]
        },
        {
          "output_type": "stream",
          "name": "stderr",
          "text": [
            "\r100%|█████████▉| 997/1000 [29:01<00:05,  1.85s/it]"
          ]
        },
        {
          "output_type": "stream",
          "name": "stdout",
          "text": [
            "Validation acc: 0.9766\n",
            "\n",
            "Start of epoch 997\n",
            "Training loss: 0.0000\n",
            "Training metric: 0.9878\n",
            "perturbation loss: 0.0002\n"
          ]
        },
        {
          "output_type": "stream",
          "name": "stderr",
          "text": [
            "\r100%|█████████▉| 998/1000 [29:02<00:03,  1.77s/it]"
          ]
        },
        {
          "output_type": "stream",
          "name": "stdout",
          "text": [
            "Validation acc: 0.9766\n",
            "\n",
            "Start of epoch 998\n",
            "Training loss: 0.0000\n",
            "Training metric: 0.9878\n",
            "perturbation loss: 0.0003\n"
          ]
        },
        {
          "output_type": "stream",
          "name": "stderr",
          "text": [
            "\r100%|█████████▉| 999/1000 [29:04<00:01,  1.71s/it]"
          ]
        },
        {
          "output_type": "stream",
          "name": "stdout",
          "text": [
            "Validation acc: 0.9766\n",
            "\n",
            "Start of epoch 999\n",
            "Training loss: 0.0000\n",
            "Training metric: 0.9878\n",
            "perturbation loss: 0.0003\n"
          ]
        },
        {
          "output_type": "stream",
          "name": "stderr",
          "text": [
            "100%|██████████| 1000/1000 [29:05<00:00,  1.75s/it]"
          ]
        },
        {
          "output_type": "stream",
          "name": "stdout",
          "text": [
            "Validation acc: 0.9688\n"
          ]
        },
        {
          "output_type": "stream",
          "name": "stderr",
          "text": [
            "\n"
          ]
        }
      ],
      "source": [
        "train_loss = []\n",
        "train_metric = []\n",
        "val_metric = []\n",
        "p_loss = []\n",
        "for epoch in tqdm(range(1000)):\n",
        "    print(\"\\nStart of epoch %d\" % (epoch,))\n",
        "    for step, (x, label) in enumerate(train_dataset):\n",
        "        loss, train_acc, l, x_p, g = training_step(x, label)\n",
        "\n",
        "    print(\n",
        "        \"Training loss: %.4f\\nTraining metric: %.4f\"\n",
        "        % (float(loss), float(train_acc))\n",
        "    )\n",
        "    print(\"perturbation loss: %.4f\" % float(l))\n",
        "\n",
        "    for x_batch_val, y_batch_val in val_dataset:\n",
        "        val_logits = model(x_batch_val, training=False)\n",
        "        # Update val metrics\n",
        "        val_acc_metric.update_state(y_batch_val, val_logits)\n",
        "    val_acc = val_acc_metric.result()\n",
        "    val_acc_metric.reset_states()\n",
        "    print(\"Validation acc: %.4f\" % (float(val_acc)))\n",
        "\n",
        "    train_loss.append(loss)\n",
        "    train_metric.append(train_acc)\n",
        "    val_metric.append(val_acc)\n",
        "    p_loss.append(l)\n",
        "\n",
        "    tl = np.array(train_loss)\n",
        "    tm = np.array(train_metric)\n",
        "    vm = np.array(val_metric)\n",
        "    pl = np.array(p_loss)\n",
        "\n",
        "    np.savez(\"logs.npz\", train_loss=tl, train_acc=tm, val_acc=vm, p_loss=pl, x_p=x_p)"
      ],
      "id": "_cymWSORGwww"
    }
  ],
  "metadata": {
    "accelerator": "GPU",
    "colab": {
      "gpuType": "V100",
      "provenance": []
    },
    "kernelspec": {
      "display_name": "Python 3",
      "name": "python3"
    },
    "language_info": {
      "name": "python"
    }
  },
  "nbformat": 4,
  "nbformat_minor": 5
}