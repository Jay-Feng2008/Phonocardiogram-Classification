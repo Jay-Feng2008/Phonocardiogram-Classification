{
 "cells": [
  {
   "cell_type": "code",
   "execution_count": 1,
   "metadata": {
    "id": "5a92ca08"
   },
   "outputs": [
    {
     "name": "stderr",
     "output_type": "stream",
     "text": [
      "2023-07-08 19:39:35.590054: I tensorflow/core/platform/cpu_feature_guard.cc:182] This TensorFlow binary is optimized to use available CPU instructions in performance-critical operations.\n",
      "To enable the following instructions: AVX2 AVX512F FMA, in other operations, rebuild TensorFlow with the appropriate compiler flags.\n"
     ]
    }
   ],
   "source": [
    "import tensorflow as tf\n",
    "from tensorflow import keras\n",
    "import numpy as np\n",
    "import pandas as pd\n",
    "import matplotlib.pyplot as plt\n",
    "from tqdm import tqdm\n",
    "from keras import layers\n",
    "import sys\n",
    "sys.path.insert(1, \"Informer-Tensorflow/models\")\n",
    "sys.path.insert(1, \"Informer-Tensorflow\")"
   ]
  },
  {
   "cell_type": "code",
   "execution_count": 2,
   "metadata": {
    "id": "96af8478"
   },
   "outputs": [],
   "source": [
    "from attn import ProbAttention, AttentionLayer"
   ]
  },
  {
   "cell_type": "code",
   "execution_count": 3,
   "metadata": {
    "id": "cdd4a815"
   },
   "outputs": [],
   "source": [
    "class MultiHeadProbAttention(tf.keras.layers.Layer):\n",
    "    def __init__(self, d_model, num_heads):\n",
    "        super(MultiHeadProbAttention, self).__init__()\n",
    "        self.d_model = d_model\n",
    "        self.num_heads = num_heads\n",
    "        self.attn = AttentionLayer(ProbAttention(False), self.d_model, self.num_heads)\n",
    "    def call(self, inputs):\n",
    "        query = inputs\n",
    "        key = inputs\n",
    "        value = inputs\n",
    "        x = self.attn([query, key, value])\n",
    "        return x\n"
   ]
  },
  {
   "cell_type": "code",
   "execution_count": 4,
   "metadata": {
    "id": "038dd8c1"
   },
   "outputs": [],
   "source": [
    "def positional_encoding(length, depth):\n",
    "    depth = depth/2\n",
    "\n",
    "    positions = np.arange(length)[:, np.newaxis]     # (seq, 1)\n",
    "    depths = np.arange(depth)[np.newaxis, :]/depth   # (1, depth)\n",
    "\n",
    "    angle_rates = 1 / (10000**depths)         # (1, depth)\n",
    "    angle_rads = positions * angle_rates      # (pos, depth)\n",
    "\n",
    "    pos_encoding = np.concatenate(\n",
    "        [np.sin(angle_rads), np.cos(angle_rads)],\n",
    "        axis=-1)\n",
    "\n",
    "    return tf.cast(pos_encoding, dtype=tf.float32)\n",
    "\n",
    "class PositionalEmbedding(tf.keras.layers.Layer):\n",
    "    def __init__(self, d_model):\n",
    "        super().__init__()\n",
    "        self.d_model = d_model\n",
    "        # self.embedding = tf.keras.layers.Embedding(vocab_size, d_model, mask_zero=True)\n",
    "        self.pos_encoding = positional_encoding(length=2048, depth=d_model)\n",
    "\n",
    "    # def compute_mask(self, *args, **kwargs):\n",
    "    #     return self.embedding.compute_mask(*args, **kwargs)\n",
    "\n",
    "    def call(self, x):\n",
    "        length = tf.shape(x)[1]\n",
    "        # x = self.embedding(x)\n",
    "        # This factor sets the relative scale of the embedding and positonal_encoding.\n",
    "        x *= tf.math.sqrt(tf.cast(self.d_model, tf.float32))\n",
    "        x = x + self.pos_encoding[tf.newaxis, :length, :]\n",
    "        return x"
   ]
  },
  {
   "cell_type": "code",
   "execution_count": 5,
   "metadata": {
    "id": "c2b896e1"
   },
   "outputs": [],
   "source": [
    "class ConvLayer(keras.layers.Layer):\n",
    "    def __init__(self, c_in):\n",
    "        super(ConvLayer, self).__init__()\n",
    "        self.downConv = tf.keras.layers.Conv1D(\n",
    "                                  filters=c_in,\n",
    "                                  kernel_size=3,\n",
    "                                  padding='causal')\n",
    "        self.norm = tf.keras.layers.BatchNormalization()\n",
    "        self.activation = tf.keras.layers.ELU()\n",
    "        self.maxPool = tf.keras.layers.MaxPool1D(pool_size=3)#, strides=2)\n",
    "\n",
    "    def call(self, x, **kargs):\n",
    "        x = self.downConv(x)\n",
    "        x = self.norm(x)\n",
    "        x = self.activation(x)\n",
    "        x = self.maxPool(x)\n",
    "        return x"
   ]
  },
  {
   "cell_type": "code",
   "execution_count": 6,
   "metadata": {
    "id": "74a7087c"
   },
   "outputs": [],
   "source": [
    "BATCH_SIZE = 6\n",
    "def models():\n",
    "    inputs = keras.layers.Input(shape=(2000,1), batch_size=BATCH_SIZE)\n",
    "    # x = keras.layers.Dense(32, activation=\"tanh\")(inputs)\n",
    "    x = keras.layers.Conv1D(32, 1, activation='tanh')(inputs)\n",
    "    x = PositionalEmbedding(32)(x)\n",
    "    x = MultiHeadProbAttention(128, 32)(x)\n",
    "    x = ConvLayer(64)(x)\n",
    "    x = MultiHeadProbAttention(64, 32)(x)\n",
    "    x = ConvLayer(32)(x)\n",
    "    x = keras.layers.LayerNormalization()(x)\n",
    "    x = keras.layers.GlobalAveragePooling1D(data_format='channels_first')(x)\n",
    "    x = keras.layers.Dense(5, activation='softmax')(x)\n",
    "    return keras.Model(inputs, x)"
   ]
  },
  {
   "cell_type": "code",
   "execution_count": 7,
   "metadata": {
    "colab": {
     "base_uri": "https://localhost:8080/"
    },
    "id": "a47c96b0",
    "outputId": "ad367de1-3cc6-4093-d9b7-0c225fcf9ca9"
   },
   "outputs": [
    {
     "name": "stderr",
     "output_type": "stream",
     "text": [
      "2023-07-08 19:39:50.226864: I tensorflow/compiler/xla/stream_executor/cuda/cuda_gpu_executor.cc:996] successful NUMA node read from SysFS had negative value (-1), but there must be at least one NUMA node, so returning NUMA node zero. See more at https://github.com/torvalds/linux/blob/v6.0/Documentation/ABI/testing/sysfs-bus-pci#L344-L355\n",
      "2023-07-08 19:39:50.262455: I tensorflow/compiler/xla/stream_executor/cuda/cuda_gpu_executor.cc:996] successful NUMA node read from SysFS had negative value (-1), but there must be at least one NUMA node, so returning NUMA node zero. See more at https://github.com/torvalds/linux/blob/v6.0/Documentation/ABI/testing/sysfs-bus-pci#L344-L355\n",
      "2023-07-08 19:39:50.262800: I tensorflow/compiler/xla/stream_executor/cuda/cuda_gpu_executor.cc:996] successful NUMA node read from SysFS had negative value (-1), but there must be at least one NUMA node, so returning NUMA node zero. See more at https://github.com/torvalds/linux/blob/v6.0/Documentation/ABI/testing/sysfs-bus-pci#L344-L355\n",
      "2023-07-08 19:39:50.268780: I tensorflow/compiler/xla/stream_executor/cuda/cuda_gpu_executor.cc:996] successful NUMA node read from SysFS had negative value (-1), but there must be at least one NUMA node, so returning NUMA node zero. See more at https://github.com/torvalds/linux/blob/v6.0/Documentation/ABI/testing/sysfs-bus-pci#L344-L355\n",
      "2023-07-08 19:39:50.269116: I tensorflow/compiler/xla/stream_executor/cuda/cuda_gpu_executor.cc:996] successful NUMA node read from SysFS had negative value (-1), but there must be at least one NUMA node, so returning NUMA node zero. See more at https://github.com/torvalds/linux/blob/v6.0/Documentation/ABI/testing/sysfs-bus-pci#L344-L355\n",
      "2023-07-08 19:39:50.269382: I tensorflow/compiler/xla/stream_executor/cuda/cuda_gpu_executor.cc:996] successful NUMA node read from SysFS had negative value (-1), but there must be at least one NUMA node, so returning NUMA node zero. See more at https://github.com/torvalds/linux/blob/v6.0/Documentation/ABI/testing/sysfs-bus-pci#L344-L355\n",
      "2023-07-08 19:39:51.074033: I tensorflow/compiler/xla/stream_executor/cuda/cuda_gpu_executor.cc:996] successful NUMA node read from SysFS had negative value (-1), but there must be at least one NUMA node, so returning NUMA node zero. See more at https://github.com/torvalds/linux/blob/v6.0/Documentation/ABI/testing/sysfs-bus-pci#L344-L355\n",
      "2023-07-08 19:39:51.074407: I tensorflow/compiler/xla/stream_executor/cuda/cuda_gpu_executor.cc:996] successful NUMA node read from SysFS had negative value (-1), but there must be at least one NUMA node, so returning NUMA node zero. See more at https://github.com/torvalds/linux/blob/v6.0/Documentation/ABI/testing/sysfs-bus-pci#L344-L355\n",
      "2023-07-08 19:39:51.074666: I tensorflow/compiler/xla/stream_executor/cuda/cuda_gpu_executor.cc:996] successful NUMA node read from SysFS had negative value (-1), but there must be at least one NUMA node, so returning NUMA node zero. See more at https://github.com/torvalds/linux/blob/v6.0/Documentation/ABI/testing/sysfs-bus-pci#L344-L355\n",
      "2023-07-08 19:39:51.074939: I tensorflow/core/common_runtime/gpu/gpu_device.cc:1635] Created device /job:localhost/replica:0/task:0/device:GPU:0 with 38344 MB memory:  -> device: 0, name: NVIDIA A100-PCIE-40GB, pci bus id: 0000:00:0c.0, compute capability: 8.0\n"
     ]
    },
    {
     "name": "stdout",
     "output_type": "stream",
     "text": [
      "[TensorShape([6, 2000, 32]), TensorShape([6, 2000, 32]), TensorShape([6, 2000, 32])]\n",
      "[TensorShape([6, 666, 64]), TensorShape([6, 666, 64]), TensorShape([6, 666, 64])]\n",
      "Model: \"model\"\n",
      "_________________________________________________________________\n",
      " Layer (type)                Output Shape              Param #   \n",
      "=================================================================\n",
      " input_1 (InputLayer)        [(6, 2000, 1)]            0         \n",
      "                                                                 \n",
      " conv1d (Conv1D)             (6, 2000, 32)             64        \n",
      "                                                                 \n",
      " positional_embedding (Posit  (6, 2000, 32)            0         \n",
      " ionalEmbedding)                                                 \n",
      "                                                                 \n",
      " multi_head_prob_attention (  (6, 2000, 128)           29184     \n",
      " MultiHeadProbAttention)                                         \n",
      "                                                                 \n",
      " conv_layer (ConvLayer)      (6, 666, 64)              24896     \n",
      "                                                                 \n",
      " multi_head_prob_attention_1  (6, 666, 64)             16640     \n",
      "  (MultiHeadProbAttention)                                       \n",
      "                                                                 \n",
      " conv_layer_1 (ConvLayer)    (6, 222, 32)              6304      \n",
      "                                                                 \n",
      " layer_normalization (LayerN  (6, 222, 32)             64        \n",
      " ormalization)                                                   \n",
      "                                                                 \n",
      " global_average_pooling1d (G  (6, 222)                 0         \n",
      " lobalAveragePooling1D)                                          \n",
      "                                                                 \n",
      " dense_8 (Dense)             (6, 5)                    1115      \n",
      "                                                                 \n",
      "=================================================================\n",
      "Total params: 78,267\n",
      "Trainable params: 78,075\n",
      "Non-trainable params: 192\n",
      "_________________________________________________________________\n"
     ]
    }
   ],
   "source": [
    "model = models()\n",
    "model.summary()\n",
    "# del model"
   ]
  },
  {
   "cell_type": "code",
   "execution_count": 8,
   "metadata": {
    "colab": {
     "base_uri": "https://localhost:8080/"
    },
    "id": "efe164a9",
    "outputId": "37693cda-48ae-4865-d853-c25ab55690af"
   },
   "outputs": [
    {
     "name": "stderr",
     "output_type": "stream",
     "text": [
      "2023-07-08 19:39:59.257040: I tensorflow/compiler/xla/stream_executor/cuda/cuda_blas.cc:637] TensorFloat-32 will be used for the matrix multiplication. This will only be logged once.\n",
      "2023-07-08 19:39:59.790329: I tensorflow/compiler/xla/stream_executor/cuda/cuda_dnn.cc:424] Loaded cuDNN version 8800\n"
     ]
    },
    {
     "data": {
      "text/plain": [
       "<tf.Tensor: shape=(6, 5), dtype=float32, numpy=\n",
       "array([[0.20000002, 0.20000002, 0.20000002, 0.19999997, 0.19999999],\n",
       "       [0.2       , 0.19999997, 0.2       , 0.2       , 0.19999997],\n",
       "       [0.20000003, 0.19999999, 0.19999999, 0.19999999, 0.20000003],\n",
       "       [0.19999997, 0.2       , 0.2       , 0.2       , 0.2       ],\n",
       "       [0.19999999, 0.19999999, 0.19999997, 0.20000002, 0.20000002],\n",
       "       [0.19999999, 0.20000002, 0.20000002, 0.19999999, 0.19999999]],\n",
       "      dtype=float32)>"
      ]
     },
     "execution_count": 8,
     "metadata": {},
     "output_type": "execute_result"
    }
   ],
   "source": [
    "x = tf.random.normal((BATCH_SIZE, 2000, 1))\n",
    "model(x)"
   ]
  },
  {
   "cell_type": "code",
   "execution_count": 9,
   "metadata": {
    "id": "Pqxls7OdFuBa"
   },
   "outputs": [],
   "source": [
    "data = np.load(\"data_shuffled.npz\")\n",
    "X = data[\"X\"]\n",
    "Y = data[\"Y\"]\n",
    "\n",
    "x_train = tf.reshape(X[0:846], (-1, 2000, 1))\n",
    "y_train = Y[0:846]\n",
    "x_test = tf.reshape(X[850:], (-1, 2000, 1))\n",
    "y_test = Y[850:]"
   ]
  },
  {
   "cell_type": "code",
   "execution_count": 10,
   "metadata": {
    "id": "Z2IpMQoDGE8P"
   },
   "outputs": [],
   "source": [
    "train_dataset = tf.data.Dataset.from_tensor_slices((x_train, y_train))\n",
    "train_dataset = train_dataset.shuffle(buffer_size=100000).batch(BATCH_SIZE)\n",
    "\n",
    "val_dataset = tf.data.Dataset.from_tensor_slices((x_test, y_test))\n",
    "val_dataset = val_dataset.batch(BATCH_SIZE)"
   ]
  },
  {
   "cell_type": "code",
   "execution_count": 11,
   "metadata": {
    "id": "mHS5ftloF9hF"
   },
   "outputs": [],
   "source": [
    "x = x_train[0:BATCH_SIZE]\n",
    "x_rank = tf.rank(x).numpy()\n",
    "x_norm_resize_shape = [BATCH_SIZE] + list(tf.ones(tf.rank(x), dtype=tf.int32).numpy())[1:]"
   ]
  },
  {
   "cell_type": "code",
   "execution_count": 12,
   "metadata": {},
   "outputs": [],
   "source": [
    "class CustomSchedule(tf.keras.optimizers.schedules.LearningRateSchedule):\n",
    "    def __init__(self, d_model, warmup_steps=4000):\n",
    "        super().__init__()\n",
    "\n",
    "        self.d_model = d_model\n",
    "        self.d_model = tf.cast(self.d_model, tf.float32)\n",
    "\n",
    "        self.warmup_steps = warmup_steps\n",
    "\n",
    "    def __call__(self, step):\n",
    "        step = tf.cast(step, dtype=tf.float32)\n",
    "        arg1 = tf.math.rsqrt(step)\n",
    "        arg2 = step * (self.warmup_steps ** -1.5)\n",
    "\n",
    "        return tf.math.rsqrt(self.d_model) * tf.math.minimum(arg1, arg2)"
   ]
  },
  {
   "cell_type": "code",
   "execution_count": 13,
   "metadata": {
    "id": "3YkUbzm0GZF1"
   },
   "outputs": [],
   "source": [
    "def perturbation_loss(x, y, from_logits=False):\n",
    "    return keras.losses.CategoricalCrossentropy(from_logits=from_logits)(x, y)\n",
    "\n",
    "loss_fn = keras.losses.SparseCategoricalCrossentropy(from_logits=False)\n",
    "learning_rate = CustomSchedule(32)\n",
    "optimizer = keras.optimizers.experimental.AdamW(learning_rate=learning_rate, beta_1=0.9, beta_2=0.98,\n",
    "                                     epsilon=1e-9)\n",
    "\n",
    "train_acc_metric = keras.metrics.SparseCategoricalAccuracy()\n",
    "val_acc_metric = keras.metrics.SparseCategoricalAccuracy()"
   ]
  },
  {
   "cell_type": "code",
   "execution_count": 14,
   "metadata": {
    "id": "z8vyGiiAGgt8"
   },
   "outputs": [],
   "source": [
    "eps = 8.     # the perturbation parameter\n",
    "sig = 1e-5   # initial perturbation StdDev\n",
    "zeta = 1e-6  # differentiation constant\n",
    "lamd = 1     # regularization parameter\n",
    "\n",
    "@tf.function\n",
    "def training_step(x, label):\n",
    "    x_p = tf.random.normal((BATCH_SIZE,2000, 1), stddev=sig)\n",
    "    x_norm = x_p\n",
    "    for i in range(x_rank-1, 0, -1):\n",
    "        x_norm = tf.norm(x_norm, ord=2, axis=int(i))\n",
    "    x_p /= tf.reshape(x_norm, (BATCH_SIZE, 1, 1))\n",
    "    x_p *= zeta\n",
    "\n",
    "\n",
    "    with tf.GradientTape() as model_tape, tf.GradientTape() as perturbation_tape:\n",
    "        perturbation_tape.watch(x_p)\n",
    "        y_p = model(x + x_p, training=True)\n",
    "        y = model(x, training=True)\n",
    "        l = perturbation_loss(y, y_p)\n",
    "        g = perturbation_tape.gradient(l, x_p)\n",
    "\n",
    "        g_norm = g\n",
    "        for i in range(x_rank-1, 0, -1):\n",
    "            g_norm = tf.norm(g_norm, ord=2, axis=int(i))\n",
    "\n",
    "        x_p = eps * g / tf.reshape(g_norm, x_norm_resize_shape)\n",
    "\n",
    "        logits = model(x, training=True)\n",
    "        loss = loss_fn(label, logits) + lamd * l / BATCH_SIZE\n",
    "        grads = model_tape.gradient(loss, model.trainable_weights)\n",
    "        optimizer.apply_gradients(zip(grads, model.trainable_weights))\n",
    "\n",
    "    train_acc_metric.update_state(label, logits)\n",
    "    return loss, train_acc_metric.result(), l, x_p, g"
   ]
  },
  {
   "cell_type": "code",
   "execution_count": null,
   "metadata": {
    "colab": {
     "base_uri": "https://localhost:8080/",
     "height": 1000
    },
    "id": "_cymWSORGwww",
    "outputId": "9add03b9-cd1f-471f-878a-3cef95e8f86f"
   },
   "outputs": [
    {
     "name": "stderr",
     "output_type": "stream",
     "text": [
      "\r",
      "  0%|          | 0/1000 [00:00<?, ?it/s]"
     ]
    },
    {
     "name": "stdout",
     "output_type": "stream",
     "text": [
      "\n",
      "Start of epoch 0\n",
      "Training loss: 1.8677\n",
      "Training metric: 0.3022\n",
      "perturbation loss: 1.6093\n"
     ]
    },
    {
     "name": "stderr",
     "output_type": "stream",
     "text": [
      "2023-07-08 19:44:12.209798: I tensorflow/core/common_runtime/executor.cc:1197] [/device:CPU:0] (DEBUG INFO) Executor start aborting (this does not indicate an error and you can ignore this message): INVALID_ARGUMENT: You must feed a value for placeholder tensor 'Placeholder/_1' with dtype int64 and shape [150]\n",
      "\t [[{{node Placeholder/_1}}]]\n",
      "  0%|          | 1/1000 [00:28<7:47:49, 28.10s/it]"
     ]
    },
    {
     "name": "stdout",
     "output_type": "stream",
     "text": [
      "Validation acc: 0.3867\n",
      "\n",
      "Start of epoch 1\n",
      "Training loss: 1.7331\n",
      "Training metric: 0.3417\n",
      "perturbation loss: 1.5921\n"
     ]
    },
    {
     "name": "stderr",
     "output_type": "stream",
     "text": [
      "\r",
      "  0%|          | 2/1000 [00:56<7:46:56, 28.07s/it]"
     ]
    },
    {
     "name": "stdout",
     "output_type": "stream",
     "text": [
      "Validation acc: 0.4133\n",
      "\n",
      "Start of epoch 2\n",
      "Training loss: 1.5783\n",
      "Training metric: 0.3580\n",
      "perturbation loss: 1.4706\n"
     ]
    },
    {
     "name": "stderr",
     "output_type": "stream",
     "text": [
      "\r",
      "  0%|          | 3/1000 [01:24<7:45:06, 27.99s/it]"
     ]
    },
    {
     "name": "stdout",
     "output_type": "stream",
     "text": [
      "Validation acc: 0.4133\n",
      "\n",
      "Start of epoch 3\n",
      "Training loss: 1.4152\n",
      "Training metric: 0.3755\n",
      "perturbation loss: 1.2811\n"
     ]
    },
    {
     "name": "stderr",
     "output_type": "stream",
     "text": [
      "\r",
      "  0%|          | 4/1000 [01:52<7:46:03, 28.08s/it]"
     ]
    },
    {
     "name": "stdout",
     "output_type": "stream",
     "text": [
      "Validation acc: 0.3733\n",
      "\n",
      "Start of epoch 4\n",
      "Training loss: 1.6300\n",
      "Training metric: 0.3747\n",
      "perturbation loss: 1.4078\n"
     ]
    },
    {
     "name": "stderr",
     "output_type": "stream",
     "text": [
      "\r",
      "  0%|          | 5/1000 [02:20<7:44:09, 27.99s/it]"
     ]
    },
    {
     "name": "stdout",
     "output_type": "stream",
     "text": [
      "Validation acc: 0.4067\n",
      "\n",
      "Start of epoch 5\n",
      "Training loss: 1.3498\n",
      "Training metric: 0.3804\n",
      "perturbation loss: 1.1685\n"
     ]
    },
    {
     "name": "stderr",
     "output_type": "stream",
     "text": [
      "\r",
      "  1%|          | 6/1000 [02:48<7:44:02, 28.01s/it]"
     ]
    },
    {
     "name": "stdout",
     "output_type": "stream",
     "text": [
      "Validation acc: 0.3933\n",
      "\n",
      "Start of epoch 6\n",
      "Training loss: 0.9009\n",
      "Training metric: 0.3803\n",
      "perturbation loss: 0.7549\n"
     ]
    },
    {
     "name": "stderr",
     "output_type": "stream",
     "text": [
      "\r",
      "  1%|          | 7/1000 [03:15<7:42:36, 27.95s/it]"
     ]
    },
    {
     "name": "stdout",
     "output_type": "stream",
     "text": [
      "Validation acc: 0.4533\n",
      "\n",
      "Start of epoch 7\n",
      "Training loss: 1.2825\n",
      "Training metric: 0.3850\n",
      "perturbation loss: 1.1636\n"
     ]
    },
    {
     "name": "stderr",
     "output_type": "stream",
     "text": [
      "\r",
      "  1%|          | 8/1000 [03:43<7:41:28, 27.91s/it]"
     ]
    },
    {
     "name": "stdout",
     "output_type": "stream",
     "text": [
      "Validation acc: 0.4000\n",
      "\n",
      "Start of epoch 8\n",
      "Training loss: 0.8472\n",
      "Training metric: 0.3885\n",
      "perturbation loss: 0.8577\n"
     ]
    },
    {
     "name": "stderr",
     "output_type": "stream",
     "text": [
      "\r",
      "  1%|          | 9/1000 [04:11<7:40:38, 27.89s/it]"
     ]
    },
    {
     "name": "stdout",
     "output_type": "stream",
     "text": [
      "Validation acc: 0.4000\n",
      "\n",
      "Start of epoch 9\n",
      "Training loss: 1.3936\n",
      "Training metric: 0.3949\n",
      "perturbation loss: 1.1385\n"
     ]
    },
    {
     "name": "stderr",
     "output_type": "stream",
     "text": [
      "\r",
      "  1%|          | 10/1000 [04:39<7:40:08, 27.89s/it]"
     ]
    },
    {
     "name": "stdout",
     "output_type": "stream",
     "text": [
      "Validation acc: 0.4867\n",
      "\n",
      "Start of epoch 10\n",
      "Training loss: 1.6654\n",
      "Training metric: 0.4013\n",
      "perturbation loss: 1.3782\n"
     ]
    },
    {
     "name": "stderr",
     "output_type": "stream",
     "text": [
      "\r",
      "  1%|          | 11/1000 [05:07<7:39:27, 27.87s/it]"
     ]
    },
    {
     "name": "stdout",
     "output_type": "stream",
     "text": [
      "Validation acc: 0.4000\n",
      "\n",
      "Start of epoch 11\n",
      "Training loss: 0.9858\n",
      "Training metric: 0.4086\n",
      "perturbation loss: 0.8823\n"
     ]
    },
    {
     "name": "stderr",
     "output_type": "stream",
     "text": [
      "\r",
      "  1%|          | 12/1000 [05:35<7:39:33, 27.91s/it]"
     ]
    },
    {
     "name": "stdout",
     "output_type": "stream",
     "text": [
      "Validation acc: 0.4000\n",
      "\n",
      "Start of epoch 12\n",
      "Training loss: 1.6884\n",
      "Training metric: 0.4122\n",
      "perturbation loss: 1.3715\n"
     ]
    },
    {
     "name": "stderr",
     "output_type": "stream",
     "text": [
      "\r",
      "  1%|▏         | 13/1000 [06:03<7:38:36, 27.88s/it]"
     ]
    },
    {
     "name": "stdout",
     "output_type": "stream",
     "text": [
      "Validation acc: 0.2933\n",
      "\n",
      "Start of epoch 13\n",
      "Training loss: 1.7969\n",
      "Training metric: 0.4144\n",
      "perturbation loss: 1.3403\n"
     ]
    },
    {
     "name": "stderr",
     "output_type": "stream",
     "text": [
      "\r",
      "  1%|▏         | 14/1000 [06:31<7:38:12, 27.88s/it]"
     ]
    },
    {
     "name": "stdout",
     "output_type": "stream",
     "text": [
      "Validation acc: 0.4200\n",
      "\n",
      "Start of epoch 14\n",
      "Training loss: 1.3952\n",
      "Training metric: 0.4164\n",
      "perturbation loss: 1.1949\n"
     ]
    },
    {
     "name": "stderr",
     "output_type": "stream",
     "text": [
      "\r",
      "  2%|▏         | 15/1000 [06:58<7:37:32, 27.87s/it]"
     ]
    },
    {
     "name": "stdout",
     "output_type": "stream",
     "text": [
      "Validation acc: 0.3000\n",
      "\n",
      "Start of epoch 15\n",
      "Training loss: 1.6214\n",
      "Training metric: 0.4177\n",
      "perturbation loss: 1.3261\n"
     ]
    },
    {
     "name": "stderr",
     "output_type": "stream",
     "text": [
      "\r",
      "  2%|▏         | 16/1000 [07:26<7:37:14, 27.88s/it]"
     ]
    },
    {
     "name": "stdout",
     "output_type": "stream",
     "text": [
      "Validation acc: 0.3867\n",
      "\n",
      "Start of epoch 16\n",
      "Training loss: 1.3118\n",
      "Training metric: 0.4201\n",
      "perturbation loss: 1.1000\n"
     ]
    },
    {
     "name": "stderr",
     "output_type": "stream",
     "text": [
      "\r",
      "  2%|▏         | 17/1000 [07:54<7:36:49, 27.88s/it]"
     ]
    },
    {
     "name": "stdout",
     "output_type": "stream",
     "text": [
      "Validation acc: 0.4333\n",
      "\n",
      "Start of epoch 17\n",
      "Training loss: 1.0593\n",
      "Training metric: 0.4206\n",
      "perturbation loss: 0.9196\n"
     ]
    },
    {
     "name": "stderr",
     "output_type": "stream",
     "text": [
      "\r",
      "  2%|▏         | 18/1000 [08:22<7:36:19, 27.88s/it]"
     ]
    },
    {
     "name": "stdout",
     "output_type": "stream",
     "text": [
      "Validation acc: 0.2133\n",
      "\n",
      "Start of epoch 18\n",
      "Training loss: 0.9709\n",
      "Training metric: 0.4226\n",
      "perturbation loss: 0.8282\n"
     ]
    },
    {
     "name": "stderr",
     "output_type": "stream",
     "text": [
      "\r",
      "  2%|▏         | 19/1000 [08:50<7:36:03, 27.89s/it]"
     ]
    },
    {
     "name": "stdout",
     "output_type": "stream",
     "text": [
      "Validation acc: 0.4133\n",
      "\n",
      "Start of epoch 19\n",
      "Training loss: 1.4715\n",
      "Training metric: 0.4245\n",
      "perturbation loss: 1.3729\n"
     ]
    },
    {
     "name": "stderr",
     "output_type": "stream",
     "text": [
      "\r",
      "  2%|▏         | 20/1000 [09:18<7:35:30, 27.89s/it]"
     ]
    },
    {
     "name": "stdout",
     "output_type": "stream",
     "text": [
      "Validation acc: 0.4000\n",
      "\n",
      "Start of epoch 20\n",
      "Training loss: 1.5467\n",
      "Training metric: 0.4262\n",
      "perturbation loss: 1.3104\n"
     ]
    },
    {
     "name": "stderr",
     "output_type": "stream",
     "text": [
      "\r",
      "  2%|▏         | 21/1000 [09:46<7:34:58, 27.88s/it]"
     ]
    },
    {
     "name": "stdout",
     "output_type": "stream",
     "text": [
      "Validation acc: 0.4667\n",
      "\n",
      "Start of epoch 21\n",
      "Training loss: 0.9078\n",
      "Training metric: 0.4300\n",
      "perturbation loss: 0.9363\n"
     ]
    },
    {
     "name": "stderr",
     "output_type": "stream",
     "text": [
      "\r",
      "  2%|▏         | 22/1000 [10:14<7:34:41, 27.90s/it]"
     ]
    },
    {
     "name": "stdout",
     "output_type": "stream",
     "text": [
      "Validation acc: 0.2333\n",
      "\n",
      "Start of epoch 22\n",
      "Training loss: 1.1256\n",
      "Training metric: 0.4366\n",
      "perturbation loss: 0.8103\n"
     ]
    },
    {
     "name": "stderr",
     "output_type": "stream",
     "text": [
      "\r",
      "  2%|▏         | 23/1000 [10:42<7:34:22, 27.90s/it]"
     ]
    },
    {
     "name": "stdout",
     "output_type": "stream",
     "text": [
      "Validation acc: 0.4667\n",
      "\n",
      "Start of epoch 23\n",
      "Training loss: 0.8202\n",
      "Training metric: 0.4480\n",
      "perturbation loss: 0.9166\n"
     ]
    },
    {
     "name": "stderr",
     "output_type": "stream",
     "text": [
      "\r",
      "  2%|▏         | 24/1000 [11:09<7:33:55, 27.90s/it]"
     ]
    },
    {
     "name": "stdout",
     "output_type": "stream",
     "text": [
      "Validation acc: 0.2067\n",
      "\n",
      "Start of epoch 24\n",
      "Training loss: 0.3185\n",
      "Training metric: 0.4605\n",
      "perturbation loss: 0.3939\n"
     ]
    },
    {
     "name": "stderr",
     "output_type": "stream",
     "text": [
      "\r",
      "  2%|▎         | 25/1000 [11:37<7:33:23, 27.90s/it]"
     ]
    },
    {
     "name": "stdout",
     "output_type": "stream",
     "text": [
      "Validation acc: 0.4067\n",
      "\n",
      "Start of epoch 25\n",
      "Training loss: 0.2712\n",
      "Training metric: 0.4730\n",
      "perturbation loss: 0.4563\n"
     ]
    },
    {
     "name": "stderr",
     "output_type": "stream",
     "text": [
      "\r",
      "  3%|▎         | 26/1000 [12:05<7:32:49, 27.89s/it]"
     ]
    },
    {
     "name": "stdout",
     "output_type": "stream",
     "text": [
      "Validation acc: 0.4133\n",
      "\n",
      "Start of epoch 26\n",
      "Training loss: 0.3623\n",
      "Training metric: 0.4850\n",
      "perturbation loss: 0.4850\n"
     ]
    },
    {
     "name": "stderr",
     "output_type": "stream",
     "text": [
      "\r",
      "  3%|▎         | 27/1000 [12:33<7:32:19, 27.89s/it]"
     ]
    },
    {
     "name": "stdout",
     "output_type": "stream",
     "text": [
      "Validation acc: 0.3000\n",
      "\n",
      "Start of epoch 27\n",
      "Training loss: 0.7106\n",
      "Training metric: 0.4968\n",
      "perturbation loss: 0.2833\n"
     ]
    },
    {
     "name": "stderr",
     "output_type": "stream",
     "text": [
      "\r",
      "  3%|▎         | 28/1000 [13:01<7:31:56, 27.90s/it]"
     ]
    },
    {
     "name": "stdout",
     "output_type": "stream",
     "text": [
      "Validation acc: 0.6133\n",
      "\n",
      "Start of epoch 28\n",
      "Training loss: 0.1765\n",
      "Training metric: 0.5086\n",
      "perturbation loss: 0.2353\n"
     ]
    },
    {
     "name": "stderr",
     "output_type": "stream",
     "text": [
      "\r",
      "  3%|▎         | 29/1000 [13:29<7:31:24, 27.89s/it]"
     ]
    },
    {
     "name": "stdout",
     "output_type": "stream",
     "text": [
      "Validation acc: 0.2000\n",
      "\n",
      "Start of epoch 29\n",
      "Training loss: 0.8100\n",
      "Training metric: 0.5200\n",
      "perturbation loss: 0.4071\n"
     ]
    },
    {
     "name": "stderr",
     "output_type": "stream",
     "text": [
      "\r",
      "  3%|▎         | 30/1000 [13:57<7:30:47, 27.88s/it]"
     ]
    },
    {
     "name": "stdout",
     "output_type": "stream",
     "text": [
      "Validation acc: 0.7200\n",
      "\n",
      "Start of epoch 30\n",
      "Training loss: 0.3172\n",
      "Training metric: 0.5312\n",
      "perturbation loss: 0.2920\n"
     ]
    },
    {
     "name": "stderr",
     "output_type": "stream",
     "text": [
      "\r",
      "  3%|▎         | 31/1000 [14:25<7:30:29, 27.89s/it]"
     ]
    },
    {
     "name": "stdout",
     "output_type": "stream",
     "text": [
      "Validation acc: 0.6467\n",
      "\n",
      "Start of epoch 31\n",
      "Training loss: 0.3498\n",
      "Training metric: 0.5418\n",
      "perturbation loss: 0.4008\n"
     ]
    },
    {
     "name": "stderr",
     "output_type": "stream",
     "text": [
      "\r",
      "  3%|▎         | 32/1000 [14:53<7:30:07, 27.90s/it]"
     ]
    },
    {
     "name": "stdout",
     "output_type": "stream",
     "text": [
      "Validation acc: 0.7200\n",
      "\n",
      "Start of epoch 32\n",
      "Training loss: 0.9618\n",
      "Training metric: 0.5523\n",
      "perturbation loss: 0.4494\n"
     ]
    },
    {
     "name": "stderr",
     "output_type": "stream",
     "text": [
      "\r",
      "  3%|▎         | 33/1000 [15:21<7:29:51, 27.91s/it]"
     ]
    },
    {
     "name": "stdout",
     "output_type": "stream",
     "text": [
      "Validation acc: 0.7800\n",
      "\n",
      "Start of epoch 33\n",
      "Training loss: 0.5705\n",
      "Training metric: 0.5624\n",
      "perturbation loss: 0.2159\n"
     ]
    },
    {
     "name": "stderr",
     "output_type": "stream",
     "text": [
      "\r",
      "  3%|▎         | 34/1000 [15:49<7:29:29, 27.92s/it]"
     ]
    },
    {
     "name": "stdout",
     "output_type": "stream",
     "text": [
      "Validation acc: 0.8400\n",
      "\n",
      "Start of epoch 34\n",
      "Training loss: 0.0459\n",
      "Training metric: 0.5714\n",
      "perturbation loss: 0.1257\n"
     ]
    },
    {
     "name": "stderr",
     "output_type": "stream",
     "text": [
      "\r",
      "  4%|▎         | 35/1000 [16:16<7:28:57, 27.91s/it]"
     ]
    },
    {
     "name": "stdout",
     "output_type": "stream",
     "text": [
      "Validation acc: 0.8333\n",
      "\n",
      "Start of epoch 35\n",
      "Training loss: 0.3013\n",
      "Training metric: 0.5805\n",
      "perturbation loss: 0.2263\n"
     ]
    },
    {
     "name": "stderr",
     "output_type": "stream",
     "text": [
      "\r",
      "  4%|▎         | 36/1000 [16:44<7:28:25, 27.91s/it]"
     ]
    },
    {
     "name": "stdout",
     "output_type": "stream",
     "text": [
      "Validation acc: 0.8533\n",
      "\n",
      "Start of epoch 36\n",
      "Training loss: 0.8091\n",
      "Training metric: 0.5892\n",
      "perturbation loss: 0.3390\n"
     ]
    },
    {
     "name": "stderr",
     "output_type": "stream",
     "text": [
      "\r",
      "  4%|▎         | 37/1000 [17:12<7:27:59, 27.91s/it]"
     ]
    },
    {
     "name": "stdout",
     "output_type": "stream",
     "text": [
      "Validation acc: 0.7133\n",
      "\n",
      "Start of epoch 37\n",
      "Training loss: 0.0952\n",
      "Training metric: 0.5978\n",
      "perturbation loss: 0.2642\n"
     ]
    },
    {
     "name": "stderr",
     "output_type": "stream",
     "text": [
      "\r",
      "  4%|▍         | 38/1000 [17:40<7:27:27, 27.91s/it]"
     ]
    },
    {
     "name": "stdout",
     "output_type": "stream",
     "text": [
      "Validation acc: 0.4267\n",
      "\n",
      "Start of epoch 38\n",
      "Training loss: 0.7293\n",
      "Training metric: 0.6056\n",
      "perturbation loss: 0.4351\n"
     ]
    },
    {
     "name": "stderr",
     "output_type": "stream",
     "text": [
      "\r",
      "  4%|▍         | 39/1000 [18:08<7:27:03, 27.91s/it]"
     ]
    },
    {
     "name": "stdout",
     "output_type": "stream",
     "text": [
      "Validation acc: 0.7200\n",
      "\n",
      "Start of epoch 39\n",
      "Training loss: 0.0638\n",
      "Training metric: 0.6137\n",
      "perturbation loss: 0.1877\n"
     ]
    },
    {
     "name": "stderr",
     "output_type": "stream",
     "text": [
      "\r",
      "  4%|▍         | 40/1000 [18:36<7:26:35, 27.91s/it]"
     ]
    },
    {
     "name": "stdout",
     "output_type": "stream",
     "text": [
      "Validation acc: 0.6400\n",
      "\n",
      "Start of epoch 40\n",
      "Training loss: 0.0800\n",
      "Training metric: 0.6211\n",
      "perturbation loss: 0.1399\n"
     ]
    },
    {
     "name": "stderr",
     "output_type": "stream",
     "text": [
      "\r",
      "  4%|▍         | 41/1000 [19:04<7:26:09, 27.91s/it]"
     ]
    },
    {
     "name": "stdout",
     "output_type": "stream",
     "text": [
      "Validation acc: 0.2000\n",
      "\n",
      "Start of epoch 41\n",
      "Training loss: 0.0319\n",
      "Training metric: 0.6280\n",
      "perturbation loss: 0.0473\n"
     ]
    },
    {
     "name": "stderr",
     "output_type": "stream",
     "text": [
      "\r",
      "  4%|▍         | 42/1000 [19:32<7:25:48, 27.92s/it]"
     ]
    },
    {
     "name": "stdout",
     "output_type": "stream",
     "text": [
      "Validation acc: 0.9000\n",
      "\n",
      "Start of epoch 42\n",
      "Training loss: 0.1561\n",
      "Training metric: 0.6347\n",
      "perturbation loss: 0.2246\n"
     ]
    },
    {
     "name": "stderr",
     "output_type": "stream",
     "text": [
      "\r",
      "  4%|▍         | 43/1000 [20:00<7:25:21, 27.92s/it]"
     ]
    },
    {
     "name": "stdout",
     "output_type": "stream",
     "text": [
      "Validation acc: 0.3667\n",
      "\n",
      "Start of epoch 43\n",
      "Training loss: 0.9386\n",
      "Training metric: 0.6412\n",
      "perturbation loss: 0.3906\n"
     ]
    },
    {
     "name": "stderr",
     "output_type": "stream",
     "text": [
      "\r",
      "  4%|▍         | 44/1000 [20:28<7:25:31, 27.96s/it]"
     ]
    },
    {
     "name": "stdout",
     "output_type": "stream",
     "text": [
      "Validation acc: 0.9000\n",
      "\n",
      "Start of epoch 44\n",
      "Training loss: 0.0094\n",
      "Training metric: 0.6475\n",
      "perturbation loss: 0.0309\n"
     ]
    },
    {
     "name": "stderr",
     "output_type": "stream",
     "text": [
      "\r",
      "  4%|▍         | 45/1000 [20:56<7:24:44, 27.94s/it]"
     ]
    },
    {
     "name": "stdout",
     "output_type": "stream",
     "text": [
      "Validation acc: 0.8533\n",
      "\n",
      "Start of epoch 45\n",
      "Training loss: 0.2244\n",
      "Training metric: 0.6534\n",
      "perturbation loss: 0.2295\n"
     ]
    },
    {
     "name": "stderr",
     "output_type": "stream",
     "text": [
      "\r",
      "  5%|▍         | 46/1000 [21:24<7:24:11, 27.94s/it]"
     ]
    },
    {
     "name": "stdout",
     "output_type": "stream",
     "text": [
      "Validation acc: 0.8067\n",
      "\n",
      "Start of epoch 46\n",
      "Training loss: 1.3087\n",
      "Training metric: 0.6591\n",
      "perturbation loss: 0.3670\n"
     ]
    },
    {
     "name": "stderr",
     "output_type": "stream",
     "text": [
      "\r",
      "  5%|▍         | 47/1000 [21:52<7:23:44, 27.94s/it]"
     ]
    },
    {
     "name": "stdout",
     "output_type": "stream",
     "text": [
      "Validation acc: 0.5600\n",
      "\n",
      "Start of epoch 47\n",
      "Training loss: 0.0094\n",
      "Training metric: 0.6646\n",
      "perturbation loss: 0.0198\n"
     ]
    },
    {
     "name": "stderr",
     "output_type": "stream",
     "text": [
      "\r",
      "  5%|▍         | 48/1000 [22:20<7:23:46, 27.97s/it]"
     ]
    },
    {
     "name": "stdout",
     "output_type": "stream",
     "text": [
      "Validation acc: 0.4000\n",
      "\n",
      "Start of epoch 48\n",
      "Training loss: 0.1788\n",
      "Training metric: 0.6700\n",
      "perturbation loss: 0.2818\n"
     ]
    },
    {
     "name": "stderr",
     "output_type": "stream",
     "text": [
      "\r",
      "  5%|▍         | 49/1000 [22:48<7:23:15, 27.97s/it]"
     ]
    },
    {
     "name": "stdout",
     "output_type": "stream",
     "text": [
      "Validation acc: 0.4067\n",
      "\n",
      "Start of epoch 49\n",
      "Training loss: 0.1053\n",
      "Training metric: 0.6753\n",
      "perturbation loss: 0.1911\n"
     ]
    },
    {
     "name": "stderr",
     "output_type": "stream",
     "text": [
      "\r",
      "  5%|▌         | 50/1000 [23:15<7:22:34, 27.95s/it]"
     ]
    },
    {
     "name": "stdout",
     "output_type": "stream",
     "text": [
      "Validation acc: 0.8333\n",
      "\n",
      "Start of epoch 50\n",
      "Training loss: 0.0297\n",
      "Training metric: 0.6802\n",
      "perturbation loss: 0.0768\n"
     ]
    },
    {
     "name": "stderr",
     "output_type": "stream",
     "text": [
      "\r",
      "  5%|▌         | 51/1000 [23:43<7:21:56, 27.94s/it]"
     ]
    },
    {
     "name": "stdout",
     "output_type": "stream",
     "text": [
      "Validation acc: 0.8800\n",
      "\n",
      "Start of epoch 51\n",
      "Training loss: 0.1703\n",
      "Training metric: 0.6850\n",
      "perturbation loss: 0.1905\n"
     ]
    },
    {
     "name": "stderr",
     "output_type": "stream",
     "text": [
      "\r",
      "  5%|▌         | 52/1000 [24:11<7:21:25, 27.94s/it]"
     ]
    },
    {
     "name": "stdout",
     "output_type": "stream",
     "text": [
      "Validation acc: 0.7667\n",
      "\n",
      "Start of epoch 52\n",
      "Training loss: 0.1174\n",
      "Training metric: 0.6898\n",
      "perturbation loss: 0.2437\n"
     ]
    },
    {
     "name": "stderr",
     "output_type": "stream",
     "text": [
      "\r",
      "  5%|▌         | 53/1000 [24:39<7:20:49, 27.93s/it]"
     ]
    },
    {
     "name": "stdout",
     "output_type": "stream",
     "text": [
      "Validation acc: 0.4200\n",
      "\n",
      "Start of epoch 53\n",
      "Training loss: 0.2362\n",
      "Training metric: 0.6941\n",
      "perturbation loss: 0.2097\n"
     ]
    },
    {
     "name": "stderr",
     "output_type": "stream",
     "text": [
      "\r",
      "  5%|▌         | 54/1000 [25:07<7:20:17, 27.93s/it]"
     ]
    },
    {
     "name": "stdout",
     "output_type": "stream",
     "text": [
      "Validation acc: 0.8333\n",
      "\n",
      "Start of epoch 54\n",
      "Training loss: 0.0191\n",
      "Training metric: 0.6986\n",
      "perturbation loss: 0.0486\n"
     ]
    },
    {
     "name": "stderr",
     "output_type": "stream",
     "text": [
      "\r",
      "  6%|▌         | 55/1000 [25:35<7:19:48, 27.92s/it]"
     ]
    },
    {
     "name": "stdout",
     "output_type": "stream",
     "text": [
      "Validation acc: 0.7933\n",
      "\n",
      "Start of epoch 55\n",
      "Training loss: 0.1844\n",
      "Training metric: 0.7029\n",
      "perturbation loss: 0.1744\n"
     ]
    },
    {
     "name": "stderr",
     "output_type": "stream",
     "text": [
      "\r",
      "  6%|▌         | 56/1000 [26:03<7:19:15, 27.92s/it]"
     ]
    },
    {
     "name": "stdout",
     "output_type": "stream",
     "text": [
      "Validation acc: 0.9200\n",
      "\n",
      "Start of epoch 56\n",
      "Training loss: 0.0358\n",
      "Training metric: 0.7071\n",
      "perturbation loss: 0.0731\n"
     ]
    },
    {
     "name": "stderr",
     "output_type": "stream",
     "text": [
      "\r",
      "  6%|▌         | 57/1000 [26:31<7:18:46, 27.92s/it]"
     ]
    },
    {
     "name": "stdout",
     "output_type": "stream",
     "text": [
      "Validation acc: 0.9067\n",
      "\n",
      "Start of epoch 57\n",
      "Training loss: 0.0079\n",
      "Training metric: 0.7112\n",
      "perturbation loss: 0.0270\n"
     ]
    },
    {
     "name": "stderr",
     "output_type": "stream",
     "text": [
      "\r",
      "  6%|▌         | 58/1000 [26:59<7:18:24, 27.92s/it]"
     ]
    },
    {
     "name": "stdout",
     "output_type": "stream",
     "text": [
      "Validation acc: 0.8733\n",
      "\n",
      "Start of epoch 58\n",
      "Training loss: 0.0397\n",
      "Training metric: 0.7151\n",
      "perturbation loss: 0.0821\n"
     ]
    },
    {
     "name": "stderr",
     "output_type": "stream",
     "text": [
      "\r",
      "  6%|▌         | 59/1000 [27:27<7:17:52, 27.92s/it]"
     ]
    },
    {
     "name": "stdout",
     "output_type": "stream",
     "text": [
      "Validation acc: 0.6200\n",
      "\n",
      "Start of epoch 59\n",
      "Training loss: 0.1311\n",
      "Training metric: 0.7188\n",
      "perturbation loss: 0.1781\n"
     ]
    },
    {
     "name": "stderr",
     "output_type": "stream",
     "text": [
      "\r",
      "  6%|▌         | 60/1000 [27:55<7:17:16, 27.91s/it]"
     ]
    },
    {
     "name": "stdout",
     "output_type": "stream",
     "text": [
      "Validation acc: 0.3800\n",
      "\n",
      "Start of epoch 60\n",
      "Training loss: 1.7945\n",
      "Training metric: 0.7223\n",
      "perturbation loss: 0.0134\n"
     ]
    },
    {
     "name": "stderr",
     "output_type": "stream",
     "text": [
      "\r",
      "  6%|▌         | 61/1000 [28:23<7:16:45, 27.91s/it]"
     ]
    },
    {
     "name": "stdout",
     "output_type": "stream",
     "text": [
      "Validation acc: 0.7067\n",
      "\n",
      "Start of epoch 61\n",
      "Training loss: 0.0503\n",
      "Training metric: 0.7259\n",
      "perturbation loss: 0.1120\n"
     ]
    },
    {
     "name": "stderr",
     "output_type": "stream",
     "text": [
      "\r",
      "  6%|▌         | 62/1000 [28:50<7:16:20, 27.91s/it]"
     ]
    },
    {
     "name": "stdout",
     "output_type": "stream",
     "text": [
      "Validation acc: 0.8467\n",
      "\n",
      "Start of epoch 62\n",
      "Training loss: 0.2296\n",
      "Training metric: 0.7294\n",
      "perturbation loss: 0.3184\n"
     ]
    },
    {
     "name": "stderr",
     "output_type": "stream",
     "text": [
      "\r",
      "  6%|▋         | 63/1000 [29:18<7:15:49, 27.91s/it]"
     ]
    },
    {
     "name": "stdout",
     "output_type": "stream",
     "text": [
      "Validation acc: 0.8933\n",
      "\n",
      "Start of epoch 63\n",
      "Training loss: 0.0027\n",
      "Training metric: 0.7326\n",
      "perturbation loss: 0.0106\n"
     ]
    },
    {
     "name": "stderr",
     "output_type": "stream",
     "text": [
      "\r",
      "  6%|▋         | 64/1000 [29:46<7:15:24, 27.91s/it]"
     ]
    },
    {
     "name": "stdout",
     "output_type": "stream",
     "text": [
      "Validation acc: 0.8133\n",
      "\n",
      "Start of epoch 64\n",
      "Training loss: 0.9364\n",
      "Training metric: 0.7358\n",
      "perturbation loss: 0.2067\n"
     ]
    },
    {
     "name": "stderr",
     "output_type": "stream",
     "text": [
      "\r",
      "  6%|▋         | 65/1000 [30:14<7:15:12, 27.93s/it]"
     ]
    },
    {
     "name": "stdout",
     "output_type": "stream",
     "text": [
      "Validation acc: 0.8933\n",
      "\n",
      "Start of epoch 65\n",
      "Training loss: 0.0078\n",
      "Training metric: 0.7390\n",
      "perturbation loss: 0.0248\n"
     ]
    },
    {
     "name": "stderr",
     "output_type": "stream",
     "text": [
      "\r",
      "  7%|▋         | 66/1000 [30:42<7:14:54, 27.94s/it]"
     ]
    },
    {
     "name": "stdout",
     "output_type": "stream",
     "text": [
      "Validation acc: 0.7267\n",
      "\n",
      "Start of epoch 66\n",
      "Training loss: 0.2664\n",
      "Training metric: 0.7420\n",
      "perturbation loss: 0.2549\n"
     ]
    },
    {
     "name": "stderr",
     "output_type": "stream",
     "text": [
      "\r",
      "  7%|▋         | 67/1000 [31:10<7:14:18, 27.93s/it]"
     ]
    },
    {
     "name": "stdout",
     "output_type": "stream",
     "text": [
      "Validation acc: 0.7400\n",
      "\n",
      "Start of epoch 67\n",
      "Training loss: 0.0269\n",
      "Training metric: 0.7449\n",
      "perturbation loss: 0.0814\n"
     ]
    },
    {
     "name": "stderr",
     "output_type": "stream",
     "text": [
      "\r",
      "  7%|▋         | 68/1000 [31:38<7:14:03, 27.94s/it]"
     ]
    },
    {
     "name": "stdout",
     "output_type": "stream",
     "text": [
      "Validation acc: 0.8733\n",
      "\n",
      "Start of epoch 68\n",
      "Training loss: 0.2490\n",
      "Training metric: 0.7477\n",
      "perturbation loss: 0.3634\n"
     ]
    },
    {
     "name": "stderr",
     "output_type": "stream",
     "text": [
      "\r",
      "  7%|▋         | 69/1000 [32:06<7:13:26, 27.93s/it]"
     ]
    },
    {
     "name": "stdout",
     "output_type": "stream",
     "text": [
      "Validation acc: 0.7467\n",
      "\n",
      "Start of epoch 69\n",
      "Training loss: 0.0090\n",
      "Training metric: 0.7505\n",
      "perturbation loss: 0.0338\n"
     ]
    },
    {
     "name": "stderr",
     "output_type": "stream",
     "text": [
      "\r",
      "  7%|▋         | 70/1000 [32:34<7:12:55, 27.93s/it]"
     ]
    },
    {
     "name": "stdout",
     "output_type": "stream",
     "text": [
      "Validation acc: 0.4200\n",
      "\n",
      "Start of epoch 70\n",
      "Training loss: 0.0045\n",
      "Training metric: 0.7531\n",
      "perturbation loss: 0.0137\n"
     ]
    },
    {
     "name": "stderr",
     "output_type": "stream",
     "text": [
      "\r",
      "  7%|▋         | 71/1000 [33:02<7:12:11, 27.91s/it]"
     ]
    },
    {
     "name": "stdout",
     "output_type": "stream",
     "text": [
      "Validation acc: 0.8867\n",
      "\n",
      "Start of epoch 71\n",
      "Training loss: 0.3510\n",
      "Training metric: 0.7558\n",
      "perturbation loss: 0.4234\n"
     ]
    },
    {
     "name": "stderr",
     "output_type": "stream",
     "text": [
      "\r",
      "  7%|▋         | 72/1000 [33:30<7:11:39, 27.91s/it]"
     ]
    },
    {
     "name": "stdout",
     "output_type": "stream",
     "text": [
      "Validation acc: 0.6600\n",
      "\n",
      "Start of epoch 72\n",
      "Training loss: 0.0108\n",
      "Training metric: 0.7584\n",
      "perturbation loss: 0.0400\n"
     ]
    },
    {
     "name": "stderr",
     "output_type": "stream",
     "text": [
      "\r",
      "  7%|▋         | 73/1000 [33:58<7:11:14, 27.91s/it]"
     ]
    },
    {
     "name": "stdout",
     "output_type": "stream",
     "text": [
      "Validation acc: 0.7867\n",
      "\n",
      "Start of epoch 73\n",
      "Training loss: 0.0447\n",
      "Training metric: 0.7609\n",
      "perturbation loss: 0.0789\n"
     ]
    },
    {
     "name": "stderr",
     "output_type": "stream",
     "text": [
      "\r",
      "  7%|▋         | 74/1000 [34:26<7:10:49, 27.92s/it]"
     ]
    },
    {
     "name": "stdout",
     "output_type": "stream",
     "text": [
      "Validation acc: 0.8400\n",
      "\n",
      "Start of epoch 74\n",
      "Training loss: 0.0208\n",
      "Training metric: 0.7633\n",
      "perturbation loss: 0.0580\n"
     ]
    },
    {
     "name": "stderr",
     "output_type": "stream",
     "text": [
      "\r",
      "  8%|▊         | 75/1000 [34:53<7:10:16, 27.91s/it]"
     ]
    },
    {
     "name": "stdout",
     "output_type": "stream",
     "text": [
      "Validation acc: 0.8800\n",
      "\n",
      "Start of epoch 75\n",
      "Training loss: 0.0027\n",
      "Training metric: 0.7658\n",
      "perturbation loss: 0.0133\n"
     ]
    },
    {
     "name": "stderr",
     "output_type": "stream",
     "text": [
      "\r",
      "  8%|▊         | 76/1000 [35:21<7:10:01, 27.92s/it]"
     ]
    },
    {
     "name": "stdout",
     "output_type": "stream",
     "text": [
      "Validation acc: 0.9000\n",
      "\n",
      "Start of epoch 76\n",
      "Training loss: 0.4518\n",
      "Training metric: 0.7682\n",
      "perturbation loss: 0.3238\n"
     ]
    },
    {
     "name": "stderr",
     "output_type": "stream",
     "text": [
      "\r",
      "  8%|▊         | 77/1000 [35:49<7:09:39, 27.93s/it]"
     ]
    },
    {
     "name": "stdout",
     "output_type": "stream",
     "text": [
      "Validation acc: 0.7800\n",
      "\n",
      "Start of epoch 77\n",
      "Training loss: 0.7504\n",
      "Training metric: 0.7704\n",
      "perturbation loss: 0.1673\n"
     ]
    },
    {
     "name": "stderr",
     "output_type": "stream",
     "text": [
      "\r",
      "  8%|▊         | 78/1000 [36:17<7:09:11, 27.93s/it]"
     ]
    },
    {
     "name": "stdout",
     "output_type": "stream",
     "text": [
      "Validation acc: 0.7133\n",
      "\n",
      "Start of epoch 78\n",
      "Training loss: 0.1697\n",
      "Training metric: 0.7726\n",
      "perturbation loss: 0.2254\n"
     ]
    },
    {
     "name": "stderr",
     "output_type": "stream",
     "text": [
      "\r",
      "  8%|▊         | 79/1000 [36:45<7:08:46, 27.93s/it]"
     ]
    },
    {
     "name": "stdout",
     "output_type": "stream",
     "text": [
      "Validation acc: 0.8800\n",
      "\n",
      "Start of epoch 79\n",
      "Training loss: 0.0381\n",
      "Training metric: 0.7749\n",
      "perturbation loss: 0.0870\n"
     ]
    },
    {
     "name": "stderr",
     "output_type": "stream",
     "text": [
      "\r",
      "  8%|▊         | 80/1000 [37:13<7:08:35, 27.95s/it]"
     ]
    },
    {
     "name": "stdout",
     "output_type": "stream",
     "text": [
      "Validation acc: 0.9067\n",
      "\n",
      "Start of epoch 80\n",
      "Training loss: 0.0399\n",
      "Training metric: 0.7770\n",
      "perturbation loss: 0.1324\n"
     ]
    },
    {
     "name": "stderr",
     "output_type": "stream",
     "text": [
      "\r",
      "  8%|▊         | 81/1000 [37:41<7:07:55, 27.94s/it]"
     ]
    },
    {
     "name": "stdout",
     "output_type": "stream",
     "text": [
      "Validation acc: 0.8867\n",
      "\n",
      "Start of epoch 81\n",
      "Training loss: 0.0152\n",
      "Training metric: 0.7790\n",
      "perturbation loss: 0.0430\n"
     ]
    },
    {
     "name": "stderr",
     "output_type": "stream",
     "text": [
      "\r",
      "  8%|▊         | 82/1000 [38:09<7:07:25, 27.94s/it]"
     ]
    },
    {
     "name": "stdout",
     "output_type": "stream",
     "text": [
      "Validation acc: 0.8400\n",
      "\n",
      "Start of epoch 82\n",
      "Training loss: 0.0442\n",
      "Training metric: 0.7811\n",
      "perturbation loss: 0.0774\n"
     ]
    },
    {
     "name": "stderr",
     "output_type": "stream",
     "text": [
      "\r",
      "  8%|▊         | 83/1000 [38:37<7:07:17, 27.96s/it]"
     ]
    },
    {
     "name": "stdout",
     "output_type": "stream",
     "text": [
      "Validation acc: 0.8400\n",
      "\n",
      "Start of epoch 83\n",
      "Training loss: 0.0295\n",
      "Training metric: 0.7831\n",
      "perturbation loss: 0.0579\n"
     ]
    },
    {
     "name": "stderr",
     "output_type": "stream",
     "text": [
      "\r",
      "  8%|▊         | 84/1000 [39:05<7:07:00, 27.97s/it]"
     ]
    },
    {
     "name": "stdout",
     "output_type": "stream",
     "text": [
      "Validation acc: 0.8867\n",
      "\n",
      "Start of epoch 84\n",
      "Training loss: 0.2159\n",
      "Training metric: 0.7852\n",
      "perturbation loss: 0.1333\n"
     ]
    },
    {
     "name": "stderr",
     "output_type": "stream",
     "text": [
      "\r",
      "  8%|▊         | 85/1000 [39:33<7:06:31, 27.97s/it]"
     ]
    },
    {
     "name": "stdout",
     "output_type": "stream",
     "text": [
      "Validation acc: 0.8533\n",
      "\n",
      "Start of epoch 85\n",
      "Training loss: 0.1222\n",
      "Training metric: 0.7872\n",
      "perturbation loss: 0.1662\n"
     ]
    },
    {
     "name": "stderr",
     "output_type": "stream",
     "text": [
      "\r",
      "  9%|▊         | 86/1000 [40:01<7:05:56, 27.96s/it]"
     ]
    },
    {
     "name": "stdout",
     "output_type": "stream",
     "text": [
      "Validation acc: 0.5000\n",
      "\n",
      "Start of epoch 86\n",
      "Training loss: 0.0923\n",
      "Training metric: 0.7890\n",
      "perturbation loss: 0.1962\n"
     ]
    },
    {
     "name": "stderr",
     "output_type": "stream",
     "text": [
      "\r",
      "  9%|▊         | 87/1000 [40:29<7:05:24, 27.96s/it]"
     ]
    },
    {
     "name": "stdout",
     "output_type": "stream",
     "text": [
      "Validation acc: 0.7267\n",
      "\n",
      "Start of epoch 87\n",
      "Training loss: 0.0250\n",
      "Training metric: 0.7908\n",
      "perturbation loss: 0.0604\n"
     ]
    },
    {
     "name": "stderr",
     "output_type": "stream",
     "text": [
      "\r",
      "  9%|▉         | 88/1000 [40:57<7:04:48, 27.95s/it]"
     ]
    },
    {
     "name": "stdout",
     "output_type": "stream",
     "text": [
      "Validation acc: 0.9267\n",
      "\n",
      "Start of epoch 88\n",
      "Training loss: 0.5007\n",
      "Training metric: 0.7925\n",
      "perturbation loss: 0.2052\n"
     ]
    },
    {
     "name": "stderr",
     "output_type": "stream",
     "text": [
      "\r",
      "  9%|▉         | 89/1000 [41:25<7:04:20, 27.95s/it]"
     ]
    },
    {
     "name": "stdout",
     "output_type": "stream",
     "text": [
      "Validation acc: 0.6333\n",
      "\n",
      "Start of epoch 89\n",
      "Training loss: 0.0689\n",
      "Training metric: 0.7942\n",
      "perturbation loss: 0.1436\n"
     ]
    },
    {
     "name": "stderr",
     "output_type": "stream",
     "text": [
      "\r",
      "  9%|▉         | 90/1000 [41:53<7:03:44, 27.94s/it]"
     ]
    },
    {
     "name": "stdout",
     "output_type": "stream",
     "text": [
      "Validation acc: 0.7333\n",
      "\n",
      "Start of epoch 90\n",
      "Training loss: 0.0168\n",
      "Training metric: 0.7959\n",
      "perturbation loss: 0.0309\n"
     ]
    },
    {
     "name": "stderr",
     "output_type": "stream",
     "text": [
      "\r",
      "  9%|▉         | 91/1000 [42:21<7:03:24, 27.95s/it]"
     ]
    },
    {
     "name": "stdout",
     "output_type": "stream",
     "text": [
      "Validation acc: 0.8800\n",
      "\n",
      "Start of epoch 91\n",
      "Training loss: 1.3865\n",
      "Training metric: 0.7976\n",
      "perturbation loss: 0.0301\n"
     ]
    },
    {
     "name": "stderr",
     "output_type": "stream",
     "text": [
      "\r",
      "  9%|▉         | 92/1000 [42:49<7:02:39, 27.93s/it]"
     ]
    },
    {
     "name": "stdout",
     "output_type": "stream",
     "text": [
      "Validation acc: 0.9067\n",
      "\n",
      "Start of epoch 92\n",
      "Training loss: 0.2873\n",
      "Training metric: 0.7993\n",
      "perturbation loss: 0.2857\n"
     ]
    },
    {
     "name": "stderr",
     "output_type": "stream",
     "text": [
      "\r",
      "  9%|▉         | 93/1000 [43:16<7:02:13, 27.93s/it]"
     ]
    },
    {
     "name": "stdout",
     "output_type": "stream",
     "text": [
      "Validation acc: 0.8600\n",
      "\n",
      "Start of epoch 93\n",
      "Training loss: 0.0712\n",
      "Training metric: 0.8009\n",
      "perturbation loss: 0.1493\n"
     ]
    },
    {
     "name": "stderr",
     "output_type": "stream",
     "text": [
      "\r",
      "  9%|▉         | 94/1000 [43:44<7:01:50, 27.94s/it]"
     ]
    },
    {
     "name": "stdout",
     "output_type": "stream",
     "text": [
      "Validation acc: 0.7533\n",
      "\n",
      "Start of epoch 94\n",
      "Training loss: 0.0019\n",
      "Training metric: 0.8025\n",
      "perturbation loss: 0.0067\n"
     ]
    },
    {
     "name": "stderr",
     "output_type": "stream",
     "text": [
      "\r",
      " 10%|▉         | 95/1000 [44:12<7:01:08, 27.92s/it]"
     ]
    },
    {
     "name": "stdout",
     "output_type": "stream",
     "text": [
      "Validation acc: 0.5200\n",
      "\n",
      "Start of epoch 95\n",
      "Training loss: 0.3706\n",
      "Training metric: 0.8040\n",
      "perturbation loss: 0.2536\n"
     ]
    },
    {
     "name": "stderr",
     "output_type": "stream",
     "text": [
      "\r",
      " 10%|▉         | 96/1000 [44:40<7:00:31, 27.91s/it]"
     ]
    },
    {
     "name": "stdout",
     "output_type": "stream",
     "text": [
      "Validation acc: 0.8133\n",
      "\n",
      "Start of epoch 96\n",
      "Training loss: 0.4913\n",
      "Training metric: 0.8056\n",
      "perturbation loss: 0.1977\n"
     ]
    },
    {
     "name": "stderr",
     "output_type": "stream",
     "text": [
      "\r",
      " 10%|▉         | 97/1000 [45:08<6:59:58, 27.91s/it]"
     ]
    },
    {
     "name": "stdout",
     "output_type": "stream",
     "text": [
      "Validation acc: 0.9133\n",
      "\n",
      "Start of epoch 97\n",
      "Training loss: 0.0206\n",
      "Training metric: 0.8071\n",
      "perturbation loss: 0.0525\n"
     ]
    },
    {
     "name": "stderr",
     "output_type": "stream",
     "text": [
      "\r",
      " 10%|▉         | 98/1000 [45:36<6:59:32, 27.91s/it]"
     ]
    },
    {
     "name": "stdout",
     "output_type": "stream",
     "text": [
      "Validation acc: 0.7667\n",
      "\n",
      "Start of epoch 98\n",
      "Training loss: 0.0676\n",
      "Training metric: 0.8086\n",
      "perturbation loss: 0.1742\n"
     ]
    },
    {
     "name": "stderr",
     "output_type": "stream",
     "text": [
      "\r",
      " 10%|▉         | 99/1000 [46:04<6:59:04, 27.91s/it]"
     ]
    },
    {
     "name": "stdout",
     "output_type": "stream",
     "text": [
      "Validation acc: 0.9000\n",
      "\n",
      "Start of epoch 99\n",
      "Training loss: 0.4230\n",
      "Training metric: 0.8101\n",
      "perturbation loss: 0.3894\n"
     ]
    },
    {
     "name": "stderr",
     "output_type": "stream",
     "text": [
      "\r",
      " 10%|█         | 100/1000 [46:32<6:58:30, 27.90s/it]"
     ]
    },
    {
     "name": "stdout",
     "output_type": "stream",
     "text": [
      "Validation acc: 0.9200\n",
      "\n",
      "Start of epoch 100\n",
      "Training loss: 0.6194\n",
      "Training metric: 0.8115\n",
      "perturbation loss: 0.2113\n"
     ]
    },
    {
     "name": "stderr",
     "output_type": "stream",
     "text": [
      "\r",
      " 10%|█         | 101/1000 [47:00<6:58:14, 27.91s/it]"
     ]
    },
    {
     "name": "stdout",
     "output_type": "stream",
     "text": [
      "Validation acc: 0.8467\n",
      "\n",
      "Start of epoch 101\n",
      "Training loss: 0.0343\n",
      "Training metric: 0.8128\n",
      "perturbation loss: 0.0571\n"
     ]
    },
    {
     "name": "stderr",
     "output_type": "stream",
     "text": [
      "\r",
      " 10%|█         | 102/1000 [47:28<6:57:39, 27.91s/it]"
     ]
    },
    {
     "name": "stdout",
     "output_type": "stream",
     "text": [
      "Validation acc: 0.8067\n",
      "\n",
      "Start of epoch 102\n",
      "Training loss: 0.1110\n",
      "Training metric: 0.8142\n",
      "perturbation loss: 0.1195\n"
     ]
    },
    {
     "name": "stderr",
     "output_type": "stream",
     "text": [
      "\r",
      " 10%|█         | 103/1000 [47:56<6:57:00, 27.89s/it]"
     ]
    },
    {
     "name": "stdout",
     "output_type": "stream",
     "text": [
      "Validation acc: 0.9333\n",
      "\n",
      "Start of epoch 103\n",
      "Training loss: 0.0905\n",
      "Training metric: 0.8156\n",
      "perturbation loss: 0.2572\n"
     ]
    },
    {
     "name": "stderr",
     "output_type": "stream",
     "text": [
      "\r",
      " 10%|█         | 104/1000 [48:23<6:56:34, 27.90s/it]"
     ]
    },
    {
     "name": "stdout",
     "output_type": "stream",
     "text": [
      "Validation acc: 0.8933\n",
      "\n",
      "Start of epoch 104\n",
      "Training loss: 0.0425\n",
      "Training metric: 0.8170\n",
      "perturbation loss: 0.0899\n"
     ]
    },
    {
     "name": "stderr",
     "output_type": "stream",
     "text": [
      "\r",
      " 10%|█         | 105/1000 [48:51<6:56:03, 27.89s/it]"
     ]
    },
    {
     "name": "stdout",
     "output_type": "stream",
     "text": [
      "Validation acc: 0.9133\n",
      "\n",
      "Start of epoch 105\n",
      "Training loss: 0.5547\n",
      "Training metric: 0.8183\n",
      "perturbation loss: 0.2632\n"
     ]
    },
    {
     "name": "stderr",
     "output_type": "stream",
     "text": [
      "\r",
      " 11%|█         | 106/1000 [49:19<6:55:22, 27.88s/it]"
     ]
    },
    {
     "name": "stdout",
     "output_type": "stream",
     "text": [
      "Validation acc: 0.8800\n",
      "\n",
      "Start of epoch 106\n",
      "Training loss: 0.1085\n",
      "Training metric: 0.8195\n",
      "perturbation loss: 0.1859\n"
     ]
    },
    {
     "name": "stderr",
     "output_type": "stream",
     "text": [
      "\r",
      " 11%|█         | 107/1000 [49:47<6:55:20, 27.91s/it]"
     ]
    },
    {
     "name": "stdout",
     "output_type": "stream",
     "text": [
      "Validation acc: 0.8400\n",
      "\n",
      "Start of epoch 107\n",
      "Training loss: 0.0229\n",
      "Training metric: 0.8207\n",
      "perturbation loss: 0.0951\n"
     ]
    },
    {
     "name": "stderr",
     "output_type": "stream",
     "text": [
      "\r",
      " 11%|█         | 108/1000 [50:15<6:54:56, 27.91s/it]"
     ]
    },
    {
     "name": "stdout",
     "output_type": "stream",
     "text": [
      "Validation acc: 0.8667\n",
      "\n",
      "Start of epoch 108\n",
      "Training loss: 0.0200\n",
      "Training metric: 0.8219\n",
      "perturbation loss: 0.0675\n"
     ]
    },
    {
     "name": "stderr",
     "output_type": "stream",
     "text": [
      "\r",
      " 11%|█         | 109/1000 [50:43<6:54:22, 27.90s/it]"
     ]
    },
    {
     "name": "stdout",
     "output_type": "stream",
     "text": [
      "Validation acc: 0.7933\n",
      "\n",
      "Start of epoch 109\n",
      "Training loss: 0.0517\n",
      "Training metric: 0.8231\n",
      "perturbation loss: 0.1432\n"
     ]
    },
    {
     "name": "stderr",
     "output_type": "stream",
     "text": [
      "\r",
      " 11%|█         | 110/1000 [51:11<6:53:40, 27.89s/it]"
     ]
    },
    {
     "name": "stdout",
     "output_type": "stream",
     "text": [
      "Validation acc: 0.9267\n",
      "\n",
      "Start of epoch 110\n",
      "Training loss: 0.0033\n",
      "Training metric: 0.8243\n",
      "perturbation loss: 0.0098\n"
     ]
    },
    {
     "name": "stderr",
     "output_type": "stream",
     "text": [
      "\r",
      " 11%|█         | 111/1000 [51:39<6:53:18, 27.89s/it]"
     ]
    },
    {
     "name": "stdout",
     "output_type": "stream",
     "text": [
      "Validation acc: 0.6067\n",
      "\n",
      "Start of epoch 111\n",
      "Training loss: 0.0604\n",
      "Training metric: 0.8255\n",
      "perturbation loss: 0.1695\n"
     ]
    },
    {
     "name": "stderr",
     "output_type": "stream",
     "text": [
      "\r",
      " 11%|█         | 112/1000 [52:07<6:53:02, 27.91s/it]"
     ]
    },
    {
     "name": "stdout",
     "output_type": "stream",
     "text": [
      "Validation acc: 0.8933\n",
      "\n",
      "Start of epoch 112\n",
      "Training loss: 0.0059\n",
      "Training metric: 0.8266\n",
      "perturbation loss: 0.0221\n"
     ]
    },
    {
     "name": "stderr",
     "output_type": "stream",
     "text": [
      "\r",
      " 11%|█▏        | 113/1000 [52:35<6:52:33, 27.91s/it]"
     ]
    },
    {
     "name": "stdout",
     "output_type": "stream",
     "text": [
      "Validation acc: 0.8867\n",
      "\n",
      "Start of epoch 113\n",
      "Training loss: 0.0233\n",
      "Training metric: 0.8278\n",
      "perturbation loss: 0.0416\n"
     ]
    },
    {
     "name": "stderr",
     "output_type": "stream",
     "text": [
      "\r",
      " 11%|█▏        | 114/1000 [53:02<6:51:58, 27.90s/it]"
     ]
    },
    {
     "name": "stdout",
     "output_type": "stream",
     "text": [
      "Validation acc: 0.9067\n",
      "\n",
      "Start of epoch 114\n",
      "Training loss: 0.0270\n",
      "Training metric: 0.8289\n",
      "perturbation loss: 0.0550\n"
     ]
    },
    {
     "name": "stderr",
     "output_type": "stream",
     "text": [
      "\r",
      " 12%|█▏        | 115/1000 [53:30<6:51:34, 27.90s/it]"
     ]
    },
    {
     "name": "stdout",
     "output_type": "stream",
     "text": [
      "Validation acc: 0.4400\n",
      "\n",
      "Start of epoch 115\n",
      "Training loss: 0.0001\n",
      "Training metric: 0.8299\n",
      "perturbation loss: 0.0006\n"
     ]
    },
    {
     "name": "stderr",
     "output_type": "stream",
     "text": [
      "\r",
      " 12%|█▏        | 116/1000 [53:58<6:51:02, 27.90s/it]"
     ]
    },
    {
     "name": "stdout",
     "output_type": "stream",
     "text": [
      "Validation acc: 0.8800\n",
      "\n",
      "Start of epoch 116\n",
      "Training loss: 0.3066\n",
      "Training metric: 0.8310\n",
      "perturbation loss: 0.1399\n"
     ]
    },
    {
     "name": "stderr",
     "output_type": "stream",
     "text": [
      "\r",
      " 12%|█▏        | 117/1000 [54:26<6:50:44, 27.91s/it]"
     ]
    },
    {
     "name": "stdout",
     "output_type": "stream",
     "text": [
      "Validation acc: 0.6667\n",
      "\n",
      "Start of epoch 117\n",
      "Training loss: 0.0732\n",
      "Training metric: 0.8321\n",
      "perturbation loss: 0.1227\n"
     ]
    },
    {
     "name": "stderr",
     "output_type": "stream",
     "text": [
      "\r",
      " 12%|█▏        | 118/1000 [54:54<6:50:14, 27.91s/it]"
     ]
    },
    {
     "name": "stdout",
     "output_type": "stream",
     "text": [
      "Validation acc: 0.7867\n",
      "\n",
      "Start of epoch 118\n",
      "Training loss: 0.0319\n",
      "Training metric: 0.8331\n",
      "perturbation loss: 0.0880\n"
     ]
    },
    {
     "name": "stderr",
     "output_type": "stream",
     "text": [
      "\r",
      " 12%|█▏        | 119/1000 [55:22<6:49:42, 27.90s/it]"
     ]
    },
    {
     "name": "stdout",
     "output_type": "stream",
     "text": [
      "Validation acc: 0.8933\n",
      "\n",
      "Start of epoch 119\n",
      "Training loss: 0.0094\n",
      "Training metric: 0.8341\n",
      "perturbation loss: 0.0175\n"
     ]
    },
    {
     "name": "stderr",
     "output_type": "stream",
     "text": [
      "\r",
      " 12%|█▏        | 120/1000 [55:50<6:49:19, 27.91s/it]"
     ]
    },
    {
     "name": "stdout",
     "output_type": "stream",
     "text": [
      "Validation acc: 0.9000\n",
      "\n",
      "Start of epoch 120\n",
      "Training loss: 0.3086\n",
      "Training metric: 0.8351\n",
      "perturbation loss: 0.3163\n"
     ]
    },
    {
     "name": "stderr",
     "output_type": "stream",
     "text": [
      "\r",
      " 12%|█▏        | 121/1000 [56:18<6:48:55, 27.91s/it]"
     ]
    },
    {
     "name": "stdout",
     "output_type": "stream",
     "text": [
      "Validation acc: 0.6533\n",
      "\n",
      "Start of epoch 121\n",
      "Training loss: 0.0790\n",
      "Training metric: 0.8361\n",
      "perturbation loss: 0.2074\n"
     ]
    },
    {
     "name": "stderr",
     "output_type": "stream",
     "text": [
      "\r",
      " 12%|█▏        | 122/1000 [56:46<6:48:24, 27.91s/it]"
     ]
    },
    {
     "name": "stdout",
     "output_type": "stream",
     "text": [
      "Validation acc: 0.6400\n",
      "\n",
      "Start of epoch 122\n",
      "Training loss: 0.0611\n",
      "Training metric: 0.8371\n",
      "perturbation loss: 0.1013\n"
     ]
    },
    {
     "name": "stderr",
     "output_type": "stream",
     "text": [
      "\r",
      " 12%|█▏        | 123/1000 [57:14<6:47:53, 27.91s/it]"
     ]
    },
    {
     "name": "stdout",
     "output_type": "stream",
     "text": [
      "Validation acc: 0.8733\n",
      "\n",
      "Start of epoch 123\n",
      "Training loss: 0.2566\n",
      "Training metric: 0.8381\n",
      "perturbation loss: 0.2695\n"
     ]
    },
    {
     "name": "stderr",
     "output_type": "stream",
     "text": [
      "\r",
      " 12%|█▏        | 124/1000 [57:41<6:47:24, 27.90s/it]"
     ]
    },
    {
     "name": "stdout",
     "output_type": "stream",
     "text": [
      "Validation acc: 0.9067\n",
      "\n",
      "Start of epoch 124\n",
      "Training loss: 0.0873\n",
      "Training metric: 0.8390\n",
      "perturbation loss: 0.1769\n"
     ]
    },
    {
     "name": "stderr",
     "output_type": "stream",
     "text": [
      "\r",
      " 12%|█▎        | 125/1000 [58:09<6:46:57, 27.91s/it]"
     ]
    },
    {
     "name": "stdout",
     "output_type": "stream",
     "text": [
      "Validation acc: 0.9267\n",
      "\n",
      "Start of epoch 125\n",
      "Training loss: 0.0030\n",
      "Training metric: 0.8399\n",
      "perturbation loss: 0.0087\n"
     ]
    },
    {
     "name": "stderr",
     "output_type": "stream",
     "text": [
      "\r",
      " 13%|█▎        | 126/1000 [58:38<6:48:08, 28.02s/it]"
     ]
    },
    {
     "name": "stdout",
     "output_type": "stream",
     "text": [
      "Validation acc: 0.8600\n",
      "\n",
      "Start of epoch 126\n",
      "Training loss: 0.1614\n",
      "Training metric: 0.8409\n",
      "perturbation loss: 0.2517\n"
     ]
    },
    {
     "name": "stderr",
     "output_type": "stream",
     "text": [
      "\r",
      " 13%|█▎        | 127/1000 [59:06<6:47:11, 27.99s/it]"
     ]
    },
    {
     "name": "stdout",
     "output_type": "stream",
     "text": [
      "Validation acc: 0.8933\n",
      "\n",
      "Start of epoch 127\n",
      "Training loss: 0.0137\n",
      "Training metric: 0.8418\n",
      "perturbation loss: 0.0483\n"
     ]
    },
    {
     "name": "stderr",
     "output_type": "stream",
     "text": [
      "\r",
      " 13%|█▎        | 128/1000 [59:34<6:46:59, 28.00s/it]"
     ]
    },
    {
     "name": "stdout",
     "output_type": "stream",
     "text": [
      "Validation acc: 0.4467\n",
      "\n",
      "Start of epoch 128\n",
      "Training loss: 0.1504\n",
      "Training metric: 0.8427\n",
      "perturbation loss: 0.1526\n"
     ]
    },
    {
     "name": "stderr",
     "output_type": "stream",
     "text": [
      "\r",
      " 13%|█▎        | 129/1000 [1:00:02<6:46:06, 27.97s/it]"
     ]
    },
    {
     "name": "stdout",
     "output_type": "stream",
     "text": [
      "Validation acc: 0.8933\n",
      "\n",
      "Start of epoch 129\n",
      "Training loss: 0.0167\n",
      "Training metric: 0.8436\n",
      "perturbation loss: 0.0360\n"
     ]
    },
    {
     "name": "stderr",
     "output_type": "stream",
     "text": [
      "\r",
      " 13%|█▎        | 130/1000 [1:00:30<6:46:28, 28.03s/it]"
     ]
    },
    {
     "name": "stdout",
     "output_type": "stream",
     "text": [
      "Validation acc: 0.9133\n",
      "\n",
      "Start of epoch 130\n",
      "Training loss: 0.0250\n",
      "Training metric: 0.8445\n",
      "perturbation loss: 0.0683\n"
     ]
    },
    {
     "name": "stderr",
     "output_type": "stream",
     "text": [
      "\r",
      " 13%|█▎        | 131/1000 [1:00:58<6:45:23, 27.99s/it]"
     ]
    },
    {
     "name": "stdout",
     "output_type": "stream",
     "text": [
      "Validation acc: 0.8733\n",
      "\n",
      "Start of epoch 131\n",
      "Training loss: 0.3940\n",
      "Training metric: 0.8453\n",
      "perturbation loss: 0.0959\n"
     ]
    },
    {
     "name": "stderr",
     "output_type": "stream",
     "text": [
      "\r",
      " 13%|█▎        | 132/1000 [1:01:26<6:44:56, 27.99s/it]"
     ]
    },
    {
     "name": "stdout",
     "output_type": "stream",
     "text": [
      "Validation acc: 0.8667\n",
      "\n",
      "Start of epoch 132\n",
      "Training loss: 0.0957\n",
      "Training metric: 0.8462\n",
      "perturbation loss: 0.0976\n"
     ]
    },
    {
     "name": "stderr",
     "output_type": "stream",
     "text": [
      "\r",
      " 13%|█▎        | 133/1000 [1:01:54<6:44:14, 27.97s/it]"
     ]
    },
    {
     "name": "stdout",
     "output_type": "stream",
     "text": [
      "Validation acc: 0.4867\n",
      "\n",
      "Start of epoch 133\n"
     ]
    },
    {
     "name": "stderr",
     "output_type": "stream",
     "text": [
      "\r",
      " 14%|█▎        | 137/1000 [1:03:45<6:42:05, 27.96s/it]"
     ]
    },
    {
     "name": "stdout",
     "output_type": "stream",
     "text": [
      "Validation acc: 0.4000\n",
      "\n",
      "Start of epoch 137\n",
      "Training loss: 0.0024\n",
      "Training metric: 0.8505\n",
      "perturbation loss: 0.0085\n"
     ]
    },
    {
     "name": "stderr",
     "output_type": "stream",
     "text": [
      "\r",
      " 14%|█▍        | 138/1000 [1:04:13<6:41:33, 27.95s/it]"
     ]
    },
    {
     "name": "stdout",
     "output_type": "stream",
     "text": [
      "Validation acc: 0.8667\n",
      "\n",
      "Start of epoch 138\n",
      "Training loss: 0.1167\n",
      "Training metric: 0.8513\n",
      "perturbation loss: 0.0995\n"
     ]
    },
    {
     "name": "stderr",
     "output_type": "stream",
     "text": [
      "\r",
      " 14%|█▍        | 139/1000 [1:04:41<6:42:12, 28.03s/it]"
     ]
    },
    {
     "name": "stdout",
     "output_type": "stream",
     "text": [
      "Validation acc: 0.9267\n",
      "\n",
      "Start of epoch 139\n",
      "Training loss: 0.0097\n",
      "Training metric: 0.8520\n",
      "perturbation loss: 0.0279\n"
     ]
    },
    {
     "name": "stderr",
     "output_type": "stream",
     "text": [
      "\r",
      " 14%|█▍        | 140/1000 [1:05:09<6:41:14, 27.99s/it]"
     ]
    },
    {
     "name": "stdout",
     "output_type": "stream",
     "text": [
      "Validation acc: 0.9267\n",
      "\n",
      "Start of epoch 140\n",
      "Training loss: 0.3457\n",
      "Training metric: 0.8528\n",
      "perturbation loss: 0.2112\n"
     ]
    },
    {
     "name": "stderr",
     "output_type": "stream",
     "text": [
      "\r",
      " 14%|█▍        | 141/1000 [1:05:37<6:40:50, 28.00s/it]"
     ]
    },
    {
     "name": "stdout",
     "output_type": "stream",
     "text": [
      "Validation acc: 0.9333\n",
      "\n",
      "Start of epoch 141\n",
      "Training loss: 0.0024\n",
      "Training metric: 0.8536\n",
      "perturbation loss: 0.0118\n"
     ]
    },
    {
     "name": "stderr",
     "output_type": "stream",
     "text": [
      "\r",
      " 14%|█▍        | 142/1000 [1:06:05<6:40:03, 27.98s/it]"
     ]
    },
    {
     "name": "stdout",
     "output_type": "stream",
     "text": [
      "Validation acc: 0.8067\n",
      "\n",
      "Start of epoch 142\n",
      "Training loss: 0.0037\n",
      "Training metric: 0.8544\n",
      "perturbation loss: 0.0138\n"
     ]
    },
    {
     "name": "stderr",
     "output_type": "stream",
     "text": [
      "\r",
      " 14%|█▍        | 143/1000 [1:06:33<6:39:03, 27.94s/it]"
     ]
    },
    {
     "name": "stdout",
     "output_type": "stream",
     "text": [
      "Validation acc: 0.9333\n",
      "\n",
      "Start of epoch 143\n"
     ]
    }
   ],
   "source": [
    "train_loss = []\n",
    "train_metric = []\n",
    "val_metric = []\n",
    "p_loss = []\n",
    "for epoch in tqdm(range(1000)):\n",
    "    print(\"\\nStart of epoch %d\" % (epoch,))\n",
    "    for step, (x, label) in enumerate(train_dataset):\n",
    "        loss, train_acc, l, x_p, g = training_step(x, label)\n",
    "\n",
    "    print(\n",
    "        \"Training loss: %.4f\\nTraining metric: %.4f\"\n",
    "        % (float(loss), float(train_acc))\n",
    "    )\n",
    "    print(\"perturbation loss: %.4f\" % float(l))\n",
    "\n",
    "    for x_batch_val, y_batch_val in val_dataset:\n",
    "        val_logits = model(x_batch_val, training=False)\n",
    "        # Update val metrics\n",
    "        val_acc_metric.update_state(y_batch_val, val_logits)\n",
    "    val_acc = val_acc_metric.result()\n",
    "    val_acc_metric.reset_states()\n",
    "    print(\"Validation acc: %.4f\" % (float(val_acc)))\n",
    "\n",
    "    train_loss.append(loss)\n",
    "    train_metric.append(train_acc)\n",
    "    val_metric.append(val_acc)\n",
    "    p_loss.append(l)\n",
    "    \n",
    "    tl = np.array(train_loss)\n",
    "    tm = np.array(train_metric)\n",
    "    vm = np.array(val_metric)\n",
    "    pl = np.array(p_loss)\n",
    "    \n",
    "    np.savez(\"logs.npz\", train_loss=tl, train_acc=tm, val_acc=vm, p_loss=pl, x_p=x_p)"
   ]
  }
 ],
 "metadata": {
  "accelerator": "GPU",
  "colab": {
   "gpuType": "V100",
   "provenance": []
  },
  "kernelspec": {
   "display_name": "tf",
   "language": "python",
   "name": "tf"
  },
  "language_info": {
   "codemirror_mode": {
    "name": "ipython",
    "version": 3
   },
   "file_extension": ".py",
   "mimetype": "text/x-python",
   "name": "python",
   "nbconvert_exporter": "python",
   "pygments_lexer": "ipython3",
   "version": "3.9.17"
  }
 },
 "nbformat": 4,
 "nbformat_minor": 5
}
