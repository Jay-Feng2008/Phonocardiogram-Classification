{
  "cells": [
    {
      "cell_type": "code",
      "execution_count": 1,
      "id": "kixbsqSzkgN_",
      "metadata": {
        "id": "kixbsqSzkgN_",
        "colab": {
          "base_uri": "https://localhost:8080/"
        },
        "outputId": "bc455cdd-e399-426f-dca6-0b268200de0c"
      },
      "outputs": [
        {
          "output_type": "stream",
          "name": "stdout",
          "text": [
            "Mounted at /content/drive\n"
          ]
        }
      ],
      "source": [
        "from google.colab import drive\n",
        "drive.mount('/content/drive')"
      ]
    },
    {
      "cell_type": "code",
      "execution_count": 2,
      "id": "cYa5ax7-7DKH",
      "metadata": {
        "id": "cYa5ax7-7DKH",
        "colab": {
          "base_uri": "https://localhost:8080/"
        },
        "outputId": "dcc89ae0-222a-485f-bff1-caf4ddf9650c"
      },
      "outputs": [
        {
          "output_type": "stream",
          "name": "stdout",
          "text": [
            "Collecting tensorflow_addons\n",
            "  Downloading tensorflow_addons-0.21.0-cp310-cp310-manylinux_2_17_x86_64.manylinux2014_x86_64.whl (612 kB)\n",
            "\u001b[?25l     \u001b[90m━━━━━━━━━━━━━━━━━━━━━━━━━━━━━━━━━━━━━━━━\u001b[0m \u001b[32m0.0/612.1 kB\u001b[0m \u001b[31m?\u001b[0m eta \u001b[36m-:--:--\u001b[0m\r\u001b[2K     \u001b[91m━━━━━━━━━━━━━━━━━━━━━━━━━━━━━━━━━━━━━\u001b[0m\u001b[91m╸\u001b[0m \u001b[32m604.2/612.1 kB\u001b[0m \u001b[31m26.4 MB/s\u001b[0m eta \u001b[36m0:00:01\u001b[0m\r\u001b[2K     \u001b[90m━━━━━━━━━━━━━━━━━━━━━━━━━━━━━━━━━━━━━━\u001b[0m \u001b[32m612.1/612.1 kB\u001b[0m \u001b[31m16.7 MB/s\u001b[0m eta \u001b[36m0:00:00\u001b[0m\n",
            "\u001b[?25hRequirement already satisfied: packaging in /usr/local/lib/python3.10/dist-packages (from tensorflow_addons) (23.1)\n",
            "Collecting typeguard<3.0.0,>=2.7 (from tensorflow_addons)\n",
            "  Downloading typeguard-2.13.3-py3-none-any.whl (17 kB)\n",
            "Installing collected packages: typeguard, tensorflow_addons\n",
            "Successfully installed tensorflow_addons-0.21.0 typeguard-2.13.3\n"
          ]
        }
      ],
      "source": [
        "!pip install tensorflow_addons"
      ]
    },
    {
      "cell_type": "code",
      "execution_count": 3,
      "id": "5a92ca08",
      "metadata": {
        "colab": {
          "base_uri": "https://localhost:8080/"
        },
        "id": "5a92ca08",
        "outputId": "bb7ed0ab-5357-450f-cae5-8f6a1960688d"
      },
      "outputs": [
        {
          "output_type": "stream",
          "name": "stderr",
          "text": [
            "/usr/local/lib/python3.10/dist-packages/tensorflow_addons/utils/tfa_eol_msg.py:23: UserWarning: \n",
            "\n",
            "TensorFlow Addons (TFA) has ended development and introduction of new features.\n",
            "TFA has entered a minimal maintenance and release mode until a planned end of life in May 2024.\n",
            "Please modify downstream libraries to take dependencies from other repositories in our TensorFlow community (e.g. Keras, Keras-CV, and Keras-NLP). \n",
            "\n",
            "For more information see: https://github.com/tensorflow/addons/issues/2807 \n",
            "\n",
            "  warnings.warn(\n"
          ]
        }
      ],
      "source": [
        "import tensorflow as tf\n",
        "from tensorflow import keras\n",
        "import tensorflow_addons as tfa\n",
        "import numpy as np\n",
        "import pandas as pd\n",
        "import matplotlib.pyplot as plt\n",
        "from tqdm import tqdm\n",
        "from keras import layers\n",
        "import sys\n",
        "sys.path.insert(1, \"drive/MyDrive/Informer-Tensorflow/models\")\n",
        "sys.path.insert(1, \"drive/MyDrive/Informer-Tensorflow\")"
      ]
    },
    {
      "cell_type": "code",
      "execution_count": 4,
      "id": "96af8478",
      "metadata": {
        "id": "96af8478"
      },
      "outputs": [],
      "source": [
        "from attn import ProbAttention, AttentionLayer"
      ]
    },
    {
      "cell_type": "code",
      "execution_count": 5,
      "id": "cdd4a815",
      "metadata": {
        "id": "cdd4a815"
      },
      "outputs": [],
      "source": [
        "class MultiHeadProbAttention(tf.keras.layers.Layer):\n",
        "    def __init__(self, d_model, num_heads):\n",
        "        super(MultiHeadProbAttention, self).__init__()\n",
        "        self.d_model = d_model\n",
        "        self.num_heads = num_heads\n",
        "        self.attn = AttentionLayer(ProbAttention(False), self.d_model, self.num_heads)\n",
        "    def call(self, inputs):\n",
        "        query = inputs\n",
        "        key = inputs\n",
        "        value = inputs\n",
        "        x = self.attn([query, key, value])\n",
        "        return x\n"
      ]
    },
    {
      "cell_type": "code",
      "execution_count": 6,
      "id": "038dd8c1",
      "metadata": {
        "id": "038dd8c1"
      },
      "outputs": [],
      "source": [
        "def positional_encoding(length, depth):\n",
        "    depth = depth/2\n",
        "\n",
        "    positions = np.arange(length)[:, np.newaxis]     # (seq, 1)\n",
        "    depths = np.arange(depth)[np.newaxis, :]/depth   # (1, depth)\n",
        "\n",
        "    angle_rates = 1 / (10000**depths)         # (1, depth)\n",
        "    angle_rads = positions * angle_rates      # (pos, depth)\n",
        "\n",
        "    pos_encoding = np.concatenate(\n",
        "        [np.sin(angle_rads), np.cos(angle_rads)],\n",
        "        axis=-1)\n",
        "\n",
        "    return tf.cast(pos_encoding, dtype=tf.float32)\n",
        "\n",
        "class PositionalEmbedding(tf.keras.layers.Layer):\n",
        "    def __init__(self, d_model):\n",
        "        super().__init__()\n",
        "        self.d_model = d_model\n",
        "        # self.embedding = tf.keras.layers.Embedding(vocab_size, d_model, mask_zero=True)\n",
        "        self.pos_encoding = positional_encoding(length=2048, depth=d_model)\n",
        "\n",
        "    # def compute_mask(self, *args, **kwargs):\n",
        "    #     return self.embedding.compute_mask(*args, **kwargs)\n",
        "\n",
        "    def call(self, x):\n",
        "        length = tf.shape(x)[1]\n",
        "        # x = self.embedding(x)\n",
        "        # This factor sets the relative scale of the embedding and positonal_encoding.\n",
        "        x *= tf.math.sqrt(tf.cast(self.d_model, tf.float32))\n",
        "        x = x + self.pos_encoding[tf.newaxis, :length, :]\n",
        "        return x"
      ]
    },
    {
      "cell_type": "code",
      "execution_count": 7,
      "id": "c2b896e1",
      "metadata": {
        "id": "c2b896e1"
      },
      "outputs": [],
      "source": [
        "class ConvLayer(keras.layers.Layer):\n",
        "    def __init__(self, c_in):\n",
        "        super(ConvLayer, self).__init__()\n",
        "        self.downConv = tf.keras.layers.Conv1D(\n",
        "                                  filters=c_in,\n",
        "                                  kernel_size=3,\n",
        "                                  padding='causal')\n",
        "        self.norm = tf.keras.layers.BatchNormalization()\n",
        "        self.activation = tf.keras.layers.ELU()\n",
        "        self.maxPool = tf.keras.layers.MaxPool1D(pool_size=3, strides=2)\n",
        "\n",
        "    def call(self, x, **kargs):\n",
        "        x = self.downConv(x)\n",
        "        x = self.norm(x)\n",
        "        x = self.activation(x)\n",
        "        x = self.maxPool(x)\n",
        "        return x"
      ]
    },
    {
      "cell_type": "code",
      "execution_count": 59,
      "id": "74a7087c",
      "metadata": {
        "id": "74a7087c"
      },
      "outputs": [],
      "source": [
        "BATCH_SIZE = 50\n",
        "d_model = 64\n",
        "def models():\n",
        "    inputs = keras.layers.Input(shape=(137,15), batch_size=BATCH_SIZE)\n",
        "    # x = keras.layers.Dense(32, activation=\"tanh\")(inputs)\n",
        "    x = keras.layers.Conv1D(d_model, 1)(inputs)\n",
        "    x = PositionalEmbedding(d_model)(x)\n",
        "    res1 = keras.layers.MaxPool1D(pool_size=3, strides=2)(x)\n",
        "    x = MultiHeadProbAttention(d_model=d_model, num_heads=64)(x)\n",
        "    res2 = keras.layers.MaxPool1D(pool_size=3, strides=2)(x)\n",
        "    x = ConvLayer(d_model)(x)\n",
        "    x = x + res1\n",
        "    x = MultiHeadProbAttention(d_model=d_model, num_heads=32)(x)\n",
        "    x = res2 + x\n",
        "    x = ConvLayer(d_model)(x)\n",
        "    x = keras.layers.LayerNormalization()(x)\n",
        "    x = keras.layers.GlobalAveragePooling1D(data_format='channels_first')(x)\n",
        "    x = keras.layers.Dense(5, activation='softmax')(x)\n",
        "    return keras.Model(inputs, x)"
      ]
    },
    {
      "cell_type": "code",
      "execution_count": 60,
      "id": "a47c96b0",
      "metadata": {
        "colab": {
          "base_uri": "https://localhost:8080/"
        },
        "id": "a47c96b0",
        "outputId": "ee9f7b96-02ec-42bf-feee-92e1bcae6a34"
      },
      "outputs": [
        {
          "output_type": "stream",
          "name": "stdout",
          "text": [
            "[TensorShape([50, 137, 64]), TensorShape([50, 137, 64]), TensorShape([50, 137, 64])]\n",
            "[TensorShape([50, 68, 64]), TensorShape([50, 68, 64]), TensorShape([50, 68, 64])]\n",
            "Model: \"model_4\"\n",
            "__________________________________________________________________________________________________\n",
            " Layer (type)                   Output Shape         Param #     Connected to                     \n",
            "==================================================================================================\n",
            " input_6 (InputLayer)           [(50, 137, 15)]      0           []                               \n",
            "                                                                                                  \n",
            " conv1d_13 (Conv1D)             (50, 137, 64)        1024        ['input_6[0][0]']                \n",
            "                                                                                                  \n",
            " positional_embedding_5 (Positi  (50, 137, 64)       0           ['conv1d_13[0][0]']              \n",
            " onalEmbedding)                                                                                   \n",
            "                                                                                                  \n",
            " multi_head_prob_attention_9 (M  (50, 137, 64)       16640       ['positional_embedding_5[0][0]'] \n",
            " ultiHeadProbAttention)                                                                           \n",
            "                                                                                                  \n",
            " conv_layer_8 (ConvLayer)       (50, 68, 64)         12608       ['multi_head_prob_attention_9[0][\n",
            "                                                                 0]']                             \n",
            "                                                                                                  \n",
            " max_pooling1d_15 (MaxPooling1D  (50, 68, 64)        0           ['positional_embedding_5[0][0]'] \n",
            " )                                                                                                \n",
            "                                                                                                  \n",
            " tf.__operators__.add_6 (TFOpLa  (50, 68, 64)        0           ['conv_layer_8[0][0]',           \n",
            " mbda)                                                            'max_pooling1d_15[0][0]']       \n",
            "                                                                                                  \n",
            " max_pooling1d_16 (MaxPooling1D  (50, 68, 64)        0           ['multi_head_prob_attention_9[0][\n",
            " )                                                               0]']                             \n",
            "                                                                                                  \n",
            " multi_head_prob_attention_10 (  (50, 68, 64)        16640       ['tf.__operators__.add_6[0][0]'] \n",
            " MultiHeadProbAttention)                                                                          \n",
            "                                                                                                  \n",
            " tf.__operators__.add_7 (TFOpLa  (50, 68, 64)        0           ['max_pooling1d_16[0][0]',       \n",
            " mbda)                                                            'multi_head_prob_attention_10[0]\n",
            "                                                                 [0]']                            \n",
            "                                                                                                  \n",
            " conv_layer_9 (ConvLayer)       (50, 33, 64)         12608       ['tf.__operators__.add_7[0][0]'] \n",
            "                                                                                                  \n",
            " layer_normalization_4 (LayerNo  (50, 33, 64)        128         ['conv_layer_9[0][0]']           \n",
            " rmalization)                                                                                     \n",
            "                                                                                                  \n",
            " global_average_pooling1d_4 (Gl  (50, 33)            0           ['layer_normalization_4[0][0]']  \n",
            " obalAveragePooling1D)                                                                            \n",
            "                                                                                                  \n",
            " dense_48 (Dense)               (50, 5)              170         ['global_average_pooling1d_4[0][0\n",
            "                                                                 ]']                              \n",
            "                                                                                                  \n",
            "==================================================================================================\n",
            "Total params: 59,818\n",
            "Trainable params: 59,562\n",
            "Non-trainable params: 256\n",
            "__________________________________________________________________________________________________\n"
          ]
        }
      ],
      "source": [
        "model = models()\n",
        "model.summary()\n",
        "# del model"
      ]
    },
    {
      "cell_type": "code",
      "execution_count": 61,
      "id": "efe164a9",
      "metadata": {
        "colab": {
          "base_uri": "https://localhost:8080/"
        },
        "id": "efe164a9",
        "outputId": "e62d53dc-7538-48c3-b052-75bbfeb19a99"
      },
      "outputs": [
        {
          "output_type": "execute_result",
          "data": {
            "text/plain": [
              "<tf.Tensor: shape=(50, 5), dtype=float32, numpy=\n",
              "array([[0.20000002, 0.19999999, 0.19999999, 0.20000002, 0.19999997],\n",
              "       [0.19999997, 0.19999997, 0.2       , 0.2       , 0.2       ],\n",
              "       [0.20000002, 0.19999997, 0.20000002, 0.20000002, 0.19999999],\n",
              "       [0.20000002, 0.19999999, 0.20000002, 0.19999999, 0.19999999],\n",
              "       [0.2       , 0.2       , 0.2       , 0.2       , 0.2       ],\n",
              "       [0.2       , 0.2       , 0.2       , 0.19999997, 0.2       ],\n",
              "       [0.19999999, 0.19999999, 0.19999997, 0.19999999, 0.20000002],\n",
              "       [0.19999999, 0.19999999, 0.20000002, 0.19999999, 0.19999999],\n",
              "       [0.19999999, 0.19999999, 0.19999999, 0.20000002, 0.20000002],\n",
              "       [0.2       , 0.2       , 0.19999997, 0.2       , 0.19999997],\n",
              "       [0.19999997, 0.19999999, 0.19999999, 0.19999997, 0.20000003],\n",
              "       [0.19999999, 0.19999999, 0.20000002, 0.19999999, 0.20000002],\n",
              "       [0.2       , 0.2       , 0.2       , 0.19999997, 0.2       ],\n",
              "       [0.2       , 0.2       , 0.2       , 0.2       , 0.19999997],\n",
              "       [0.19999999, 0.20000002, 0.19999999, 0.20000002, 0.20000003],\n",
              "       [0.19999997, 0.20000002, 0.19999997, 0.19999999, 0.19999999],\n",
              "       [0.19999999, 0.20000002, 0.19999999, 0.19999999, 0.19999999],\n",
              "       [0.19999997, 0.2       , 0.19999997, 0.2       , 0.2       ],\n",
              "       [0.19999997, 0.19999999, 0.20000002, 0.20000002, 0.20000002],\n",
              "       [0.19999997, 0.20000002, 0.20000002, 0.19999997, 0.20000003],\n",
              "       [0.19999999, 0.19999997, 0.20000002, 0.19999999, 0.19999999],\n",
              "       [0.19999999, 0.19999999, 0.20000003, 0.20000002, 0.19999999],\n",
              "       [0.20000002, 0.20000002, 0.19999999, 0.19999999, 0.19999999],\n",
              "       [0.20000002, 0.19999999, 0.20000002, 0.19999996, 0.20000002],\n",
              "       [0.19999999, 0.19999997, 0.20000002, 0.19999999, 0.19999999],\n",
              "       [0.19999999, 0.20000002, 0.19999997, 0.20000002, 0.19999999],\n",
              "       [0.2       , 0.2       , 0.2       , 0.2       , 0.2       ],\n",
              "       [0.19999997, 0.19999997, 0.20000002, 0.19999999, 0.19999999],\n",
              "       [0.19999997, 0.2       , 0.2       , 0.2       , 0.19999997],\n",
              "       [0.2       , 0.2       , 0.19999997, 0.2       , 0.2       ],\n",
              "       [0.2       , 0.2       , 0.2       , 0.2       , 0.2       ],\n",
              "       [0.19999997, 0.2       , 0.2       , 0.19999997, 0.2       ],\n",
              "       [0.2       , 0.2       , 0.19999997, 0.19999997, 0.2       ],\n",
              "       [0.19999999, 0.19999999, 0.20000003, 0.20000003, 0.19999999],\n",
              "       [0.19999999, 0.19999999, 0.19999999, 0.20000002, 0.19999999],\n",
              "       [0.19999999, 0.19999999, 0.19999999, 0.20000002, 0.20000002],\n",
              "       [0.2       , 0.2       , 0.2       , 0.2       , 0.2       ],\n",
              "       [0.19999997, 0.2       , 0.2       , 0.2       , 0.2       ],\n",
              "       [0.2       , 0.19999997, 0.2       , 0.2       , 0.19999997],\n",
              "       [0.2       , 0.2       , 0.19999997, 0.19999997, 0.2       ],\n",
              "       [0.19999997, 0.20000002, 0.19999999, 0.20000002, 0.19999999],\n",
              "       [0.20000002, 0.19999999, 0.19999999, 0.19999999, 0.20000002],\n",
              "       [0.19999997, 0.20000002, 0.20000003, 0.19999999, 0.19999999],\n",
              "       [0.20000002, 0.20000003, 0.20000002, 0.20000002, 0.19999999],\n",
              "       [0.2       , 0.2       , 0.2       , 0.2       , 0.2       ],\n",
              "       [0.2       , 0.2       , 0.2       , 0.2       , 0.2       ],\n",
              "       [0.19999997, 0.2       , 0.2       , 0.2       , 0.2       ],\n",
              "       [0.2       , 0.2       , 0.2       , 0.2       , 0.19999997],\n",
              "       [0.19999997, 0.2       , 0.2       , 0.19999997, 0.2       ],\n",
              "       [0.19999999, 0.20000002, 0.19999997, 0.19999996, 0.20000002]],\n",
              "      dtype=float32)>"
            ]
          },
          "metadata": {},
          "execution_count": 61
        }
      ],
      "source": [
        "x = tf.random.normal((BATCH_SIZE, 137, 15))\n",
        "model(x)"
      ]
    },
    {
      "cell_type": "code",
      "execution_count": 62,
      "id": "Pqxls7OdFuBa",
      "metadata": {
        "id": "Pqxls7OdFuBa"
      },
      "outputs": [],
      "source": [
        "data = np.load(\"mfcc.npz\")\n",
        "X = data[\"X\"]\n",
        "Y = data[\"Y\"]\n",
        "\n",
        "x_train = X[0:850]\n",
        "y_train = Y[0:850]\n",
        "x_test = X[850:]\n",
        "y_test = Y[850:]"
      ]
    },
    {
      "cell_type": "code",
      "execution_count": 63,
      "id": "Z2IpMQoDGE8P",
      "metadata": {
        "id": "Z2IpMQoDGE8P"
      },
      "outputs": [],
      "source": [
        "train_dataset = tf.data.Dataset.from_tensor_slices((x_train, y_train))\n",
        "train_dataset = train_dataset.shuffle(buffer_size=10000).batch(BATCH_SIZE)\n",
        "\n",
        "val_dataset = tf.data.Dataset.from_tensor_slices((x_test, y_test))\n",
        "val_dataset = val_dataset.shuffle(buffer_size=1000).batch(BATCH_SIZE)"
      ]
    },
    {
      "cell_type": "code",
      "execution_count": 64,
      "id": "mHS5ftloF9hF",
      "metadata": {
        "id": "mHS5ftloF9hF"
      },
      "outputs": [],
      "source": [
        "x = x_train[0:BATCH_SIZE]\n",
        "x_rank = tf.rank(x).numpy()\n",
        "x_norm_resize_shape = [BATCH_SIZE] + list(tf.ones(tf.rank(x), dtype=tf.int32).numpy())[1:]"
      ]
    },
    {
      "cell_type": "code",
      "execution_count": 65,
      "id": "Acy81xYrkYCD",
      "metadata": {
        "id": "Acy81xYrkYCD"
      },
      "outputs": [],
      "source": [
        "class CustomSchedule(tf.keras.optimizers.schedules.LearningRateSchedule):\n",
        "    def __init__(self, d_model, warmup_steps=2000):\n",
        "        super().__init__()\n",
        "\n",
        "        self.d_model = d_model\n",
        "        self.d_model = tf.cast(self.d_model, tf.float32)\n",
        "\n",
        "        self.warmup_steps = warmup_steps\n",
        "\n",
        "    def __call__(self, step):\n",
        "        step = tf.cast(step, dtype=tf.float32)\n",
        "        arg1 = tf.math.rsqrt(step)\n",
        "        arg2 = step * (self.warmup_steps ** -1.5)\n",
        "\n",
        "        return tf.math.rsqrt(self.d_model) * tf.math.minimum(arg1, arg2)"
      ]
    },
    {
      "cell_type": "code",
      "execution_count": 66,
      "id": "3YkUbzm0GZF1",
      "metadata": {
        "id": "3YkUbzm0GZF1"
      },
      "outputs": [],
      "source": [
        "def perturbation_loss(x, y, from_logits=False):\n",
        "    # return keras.losses.CategoricalCrossentropy(from_logits=from_logits)(x, y)\n",
        "    return tf.math.reduce_sum(keras.losses.kl_divergence(x, y))\n",
        "\n",
        "loss_fn = keras.losses.SparseCategoricalCrossentropy(from_logits=False)\n",
        "learning_rate = CustomSchedule(d_model)\n",
        "optimizer = keras.optimizers.Adam(learning_rate=learning_rate, beta_1=0.9, beta_2=0.98,\n",
        "                                     epsilon=1e-9)\n",
        "\n",
        "train_acc_metric = keras.metrics.SparseCategoricalAccuracy()\n",
        "val_acc_metric = keras.metrics.SparseCategoricalAccuracy()\n",
        "val_loss_metric = keras.losses.SparseCategoricalCrossentropy(from_logits=False)\n",
        "val_f1_metric = tfa.metrics.F1Score(num_classes=5)"
      ]
    },
    {
      "cell_type": "code",
      "execution_count": 67,
      "id": "z8vyGiiAGgt8",
      "metadata": {
        "id": "z8vyGiiAGgt8"
      },
      "outputs": [],
      "source": [
        "eps = 8.     # the perturbation parameter\n",
        "zeta = 1e-6  # differentiation constant\n",
        "lamd = 1     # regularization parameter\n",
        "\n",
        "@tf.function\n",
        "def pre_train(x, label):\n",
        "    with tf.GradientTape() as model_tape:\n",
        "        logits = model(x, training=True)\n",
        "        loss = loss_fn(label, logits)\n",
        "    grads = model_tape.gradient(loss, model.trainable_weights)\n",
        "    optimizer.apply_gradients(zip(grads, model.trainable_weights))\n",
        "\n",
        "@tf.function\n",
        "def training_step(x, label):\n",
        "    x_p = tf.random.normal(x.shape)\n",
        "    x_norm = x_p\n",
        "    for i in range(x_rank-1, 0, -1):\n",
        "        x_norm = tf.norm(x_norm, ord=2, axis=int(i))\n",
        "    x_p /= tf.reshape(x_norm, (BATCH_SIZE, 1, 1))\n",
        "    x_p *= zeta\n",
        "\n",
        "\n",
        "    with tf.GradientTape() as adversarial_tape:\n",
        "        adversarial_tape.watch(x_p)\n",
        "        y_p = model(x + x_p, training=True)\n",
        "        y = model(x, training=True)\n",
        "        l = perturbation_loss(y, y_p)\n",
        "    g = adversarial_tape.gradient(l, x_p)\n",
        "\n",
        "    g_norm = g\n",
        "    for i in range(x_rank-1, 0, -1):\n",
        "        g_norm = tf.norm(g_norm, ord=2, axis=int(i))\n",
        "\n",
        "    x_p = eps * g / tf.reshape(g_norm, x_norm_resize_shape)\n",
        "\n",
        "    with tf.GradientTape() as model_tape:\n",
        "        y_p = model(x + x_p, training=True)\n",
        "        y = model(x, training=True)\n",
        "        l = perturbation_loss(y, y_p)    # Recalculate regularization\n",
        "\n",
        "        logits = model(x, training=True)\n",
        "        loss = loss_fn(label, logits) + lamd * l / BATCH_SIZE * 1\n",
        "    grads = model_tape.gradient(loss, model.trainable_weights)\n",
        "    optimizer.apply_gradients(zip(grads, model.trainable_weights))\n",
        "\n",
        "    train_acc_metric.update_state(label, logits)\n",
        "    return loss, train_acc_metric.result(), l, x_p, g"
      ]
    },
    {
      "cell_type": "code",
      "execution_count": 68,
      "id": "_cymWSORGwww",
      "metadata": {
        "colab": {
          "base_uri": "https://localhost:8080/"
        },
        "id": "_cymWSORGwww",
        "outputId": "56fb0884-43d0-4ffc-8dbf-334c59cf22d8"
      },
      "outputs": [
        {
          "output_type": "stream",
          "name": "stderr",
          "text": [
            "\r  0%|          | 0/1000 [00:00<?, ?it/s]"
          ]
        },
        {
          "output_type": "stream",
          "name": "stdout",
          "text": [
            "\n",
            "Start of epoch 0\n",
            "Training loss: 1.6082\n",
            "Training metric: 0.3553\n",
            "perturbation loss: 0.0000\n"
          ]
        },
        {
          "output_type": "stream",
          "name": "stderr",
          "text": [
            "\r  0%|          | 1/1000 [00:06<1:53:46,  6.83s/it]"
          ]
        },
        {
          "output_type": "stream",
          "name": "stdout",
          "text": [
            "Validation acc: 0.3133\n",
            "Validation F1: 0.2719\n",
            "\n",
            "Start of epoch 1\n",
            "Training loss: 1.6072\n",
            "Training metric: 0.3776\n",
            "perturbation loss: 0.0000\n"
          ]
        },
        {
          "output_type": "stream",
          "name": "stderr",
          "text": [
            "\r  0%|          | 2/1000 [00:08<1:02:14,  3.74s/it]"
          ]
        },
        {
          "output_type": "stream",
          "name": "stdout",
          "text": [
            "Validation acc: 0.4067\n",
            "Validation F1: 0.3413\n",
            "\n",
            "Start of epoch 2\n",
            "Training loss: 1.6053\n",
            "Training metric: 0.3933\n",
            "perturbation loss: 0.0000\n",
            "Validation acc: 0.4867\n"
          ]
        },
        {
          "output_type": "stream",
          "name": "stderr",
          "text": [
            "\r  0%|          | 3/1000 [00:09<44:34,  2.68s/it]  "
          ]
        },
        {
          "output_type": "stream",
          "name": "stdout",
          "text": [
            "Validation F1: 0.4139\n",
            "\n",
            "Start of epoch 3\n"
          ]
        },
        {
          "output_type": "stream",
          "name": "stderr",
          "text": [
            "\r  0%|          | 4/1000 [00:10<34:35,  2.08s/it]"
          ]
        },
        {
          "output_type": "stream",
          "name": "stdout",
          "text": [
            "Training loss: 1.6024\n",
            "Training metric: 0.4071\n",
            "perturbation loss: 0.0001\n",
            "Validation acc: 0.4267\n",
            "Validation F1: 0.3815\n",
            "\n",
            "Start of epoch 4\n",
            "Training loss: 1.5982\n",
            "Training metric: 0.4099\n",
            "perturbation loss: 0.0002\n"
          ]
        },
        {
          "output_type": "stream",
          "name": "stderr",
          "text": [
            "\r  0%|          | 5/1000 [00:12<29:10,  1.76s/it]"
          ]
        },
        {
          "output_type": "stream",
          "name": "stdout",
          "text": [
            "Validation acc: 0.4600\n",
            "Validation F1: 0.3958\n",
            "\n",
            "Start of epoch 5\n",
            "Training loss: 1.5854\n",
            "Training metric: 0.4167\n",
            "perturbation loss: 0.0004\n"
          ]
        },
        {
          "output_type": "stream",
          "name": "stderr",
          "text": [
            "\r  1%|          | 6/1000 [00:13<26:16,  1.59s/it]"
          ]
        },
        {
          "output_type": "stream",
          "name": "stdout",
          "text": [
            "Validation acc: 0.5333\n",
            "Validation F1: 0.4797\n",
            "\n",
            "Start of epoch 6\n",
            "Training loss: 1.5793\n",
            "Training metric: 0.4355\n",
            "perturbation loss: 0.0013\n"
          ]
        },
        {
          "output_type": "stream",
          "name": "stderr",
          "text": [
            "\r  1%|          | 7/1000 [00:15<26:47,  1.62s/it]"
          ]
        },
        {
          "output_type": "stream",
          "name": "stdout",
          "text": [
            "Validation acc: 0.6400\n",
            "Validation F1: 0.5853\n",
            "\n",
            "Start of epoch 7\n"
          ]
        },
        {
          "output_type": "stream",
          "name": "stderr",
          "text": [
            "\r  1%|          | 8/1000 [00:16<25:34,  1.55s/it]"
          ]
        },
        {
          "output_type": "stream",
          "name": "stdout",
          "text": [
            "Training loss: 1.5680\n",
            "Training metric: 0.4532\n",
            "perturbation loss: 0.0021\n",
            "Validation acc: 0.4333\n",
            "Validation F1: 0.3869\n",
            "\n",
            "Start of epoch 8\n",
            "Training loss: 1.5468\n",
            "Training metric: 0.4725\n",
            "perturbation loss: 0.0041\n"
          ]
        },
        {
          "output_type": "stream",
          "name": "stderr",
          "text": [
            "\r  1%|          | 9/1000 [00:18<26:25,  1.60s/it]"
          ]
        },
        {
          "output_type": "stream",
          "name": "stdout",
          "text": [
            "Validation acc: 0.6200\n",
            "Validation F1: 0.5840\n",
            "\n",
            "Start of epoch 9\n",
            "Training loss: 1.5347\n",
            "Training metric: 0.4915\n",
            "perturbation loss: 0.0063\n"
          ]
        },
        {
          "output_type": "stream",
          "name": "stderr",
          "text": [
            "\r  1%|          | 10/1000 [00:21<32:52,  1.99s/it]"
          ]
        },
        {
          "output_type": "stream",
          "name": "stdout",
          "text": [
            "Validation acc: 0.5933\n",
            "Validation F1: 0.5577\n",
            "\n",
            "Start of epoch 10\n",
            "Training loss: 1.5308\n",
            "Training metric: 0.5073\n",
            "perturbation loss: 0.0058\n"
          ]
        },
        {
          "output_type": "stream",
          "name": "stderr",
          "text": [
            "\r  1%|          | 11/1000 [00:22<30:42,  1.86s/it]"
          ]
        },
        {
          "output_type": "stream",
          "name": "stdout",
          "text": [
            "Validation acc: 0.4333\n",
            "Validation F1: 0.4049\n",
            "\n",
            "Start of epoch 11\n",
            "Training loss: 1.4723\n",
            "Training metric: 0.5222\n",
            "perturbation loss: 0.0136\n"
          ]
        },
        {
          "output_type": "stream",
          "name": "stderr",
          "text": [
            "\r  1%|          | 12/1000 [00:24<28:12,  1.71s/it]"
          ]
        },
        {
          "output_type": "stream",
          "name": "stdout",
          "text": [
            "Validation acc: 0.6733\n",
            "Validation F1: 0.6332\n",
            "\n",
            "Start of epoch 12\n",
            "Training loss: 1.4755\n",
            "Training metric: 0.5364\n",
            "perturbation loss: 0.0195\n",
            "Validation acc: 0.6533"
          ]
        },
        {
          "output_type": "stream",
          "name": "stderr",
          "text": [
            "\r  1%|▏         | 13/1000 [00:25<25:36,  1.56s/it]"
          ]
        },
        {
          "output_type": "stream",
          "name": "stdout",
          "text": [
            "\n",
            "Validation F1: 0.6118\n",
            "\n",
            "Start of epoch 13\n",
            "Training loss: 1.4548\n",
            "Training metric: 0.5497\n",
            "perturbation loss: 0.0585\n"
          ]
        },
        {
          "output_type": "stream",
          "name": "stderr",
          "text": [
            "\r  1%|▏         | 14/1000 [00:26<23:42,  1.44s/it]"
          ]
        },
        {
          "output_type": "stream",
          "name": "stdout",
          "text": [
            "Validation acc: 0.6600\n",
            "Validation F1: 0.6220\n",
            "\n",
            "Start of epoch 14\n"
          ]
        },
        {
          "output_type": "stream",
          "name": "stderr",
          "text": [
            "\r  2%|▏         | 15/1000 [00:27<22:15,  1.36s/it]"
          ]
        },
        {
          "output_type": "stream",
          "name": "stdout",
          "text": [
            "Training loss: 1.4171\n",
            "Training metric: 0.5626\n",
            "perturbation loss: 0.0414\n",
            "Validation acc: 0.6133\n",
            "Validation F1: 0.6086\n",
            "\n",
            "Start of epoch 15\n"
          ]
        },
        {
          "output_type": "stream",
          "name": "stderr",
          "text": [
            "\r  2%|▏         | 16/1000 [00:28<21:30,  1.31s/it]"
          ]
        },
        {
          "output_type": "stream",
          "name": "stdout",
          "text": [
            "Training loss: 1.4017\n",
            "Training metric: 0.5742\n",
            "perturbation loss: 0.0599\n",
            "Validation acc: 0.3133\n",
            "Validation F1: 0.2565\n",
            "\n",
            "Start of epoch 16\n"
          ]
        },
        {
          "output_type": "stream",
          "name": "stderr",
          "text": [
            "\r  2%|▏         | 17/1000 [00:29<20:45,  1.27s/it]"
          ]
        },
        {
          "output_type": "stream",
          "name": "stdout",
          "text": [
            "Training loss: 1.3303\n",
            "Training metric: 0.5855\n",
            "perturbation loss: 0.0773\n",
            "Validation acc: 0.4733\n",
            "Validation F1: 0.4483\n",
            "\n",
            "Start of epoch 17\n"
          ]
        },
        {
          "output_type": "stream",
          "name": "stderr",
          "text": [
            "\r  2%|▏         | 18/1000 [00:31<20:20,  1.24s/it]"
          ]
        },
        {
          "output_type": "stream",
          "name": "stdout",
          "text": [
            "Training loss: 1.2869\n",
            "Training metric: 0.5957\n",
            "perturbation loss: 0.0972\n",
            "Validation acc: 0.4533\n",
            "Validation F1: 0.3974\n",
            "\n",
            "Start of epoch 18\n",
            "Training loss: 1.3230\n",
            "Training metric: 0.6054\n",
            "perturbation loss: 0.0878\n",
            "Validation acc: 0.6800\n"
          ]
        },
        {
          "output_type": "stream",
          "name": "stderr",
          "text": [
            "\r  2%|▏         | 19/1000 [00:32<19:58,  1.22s/it]"
          ]
        },
        {
          "output_type": "stream",
          "name": "stdout",
          "text": [
            "Validation F1: 0.6469\n",
            "\n",
            "Start of epoch 19\n",
            "Training loss: 1.2139\n",
            "Training metric: 0.6156\n",
            "perturbation loss: 0.1254\n"
          ]
        },
        {
          "output_type": "stream",
          "name": "stderr",
          "text": [
            "\r  2%|▏         | 20/1000 [00:33<19:50,  1.21s/it]"
          ]
        },
        {
          "output_type": "stream",
          "name": "stdout",
          "text": [
            "Validation acc: 0.7067\n",
            "Validation F1: 0.7002\n",
            "\n",
            "Start of epoch 20\n",
            "Training loss: 1.2086\n",
            "Training metric: 0.6257\n",
            "perturbation loss: 0.1279\n"
          ]
        },
        {
          "output_type": "stream",
          "name": "stderr",
          "text": [
            "\r  2%|▏         | 21/1000 [00:35<21:42,  1.33s/it]"
          ]
        },
        {
          "output_type": "stream",
          "name": "stdout",
          "text": [
            "Validation acc: 0.3800\n",
            "Validation F1: 0.3224\n",
            "\n",
            "Start of epoch 21\n",
            "Training loss: 1.1014\n",
            "Training metric: 0.6341\n",
            "perturbation loss: 0.1893\n"
          ]
        },
        {
          "output_type": "stream",
          "name": "stderr",
          "text": [
            "\r  2%|▏         | 22/1000 [00:36<23:05,  1.42s/it]"
          ]
        },
        {
          "output_type": "stream",
          "name": "stdout",
          "text": [
            "Validation acc: 0.4333\n",
            "Validation F1: 0.3529\n",
            "\n",
            "Start of epoch 22\n"
          ]
        },
        {
          "output_type": "stream",
          "name": "stderr",
          "text": [
            "\r  2%|▏         | 23/1000 [00:38<22:28,  1.38s/it]"
          ]
        },
        {
          "output_type": "stream",
          "name": "stdout",
          "text": [
            "Training loss: 1.0237\n",
            "Training metric: 0.6426\n",
            "perturbation loss: 0.2514\n",
            "Validation acc: 0.7400\n",
            "Validation F1: 0.7338\n",
            "\n",
            "Start of epoch 23\n",
            "Training loss: 1.0314\n",
            "Training metric: 0.6505\n",
            "perturbation loss: 0.1015\n"
          ]
        },
        {
          "output_type": "stream",
          "name": "stderr",
          "text": [
            "\r  2%|▏         | 24/1000 [00:39<22:07,  1.36s/it]"
          ]
        },
        {
          "output_type": "stream",
          "name": "stdout",
          "text": [
            "Validation acc: 0.3667\n",
            "Validation F1: 0.3180\n",
            "\n",
            "Start of epoch 24\n"
          ]
        },
        {
          "output_type": "stream",
          "name": "stderr",
          "text": [
            "\r  2%|▎         | 25/1000 [00:40<21:12,  1.31s/it]"
          ]
        },
        {
          "output_type": "stream",
          "name": "stdout",
          "text": [
            "Training loss: 0.9948\n",
            "Training metric: 0.6576\n",
            "perturbation loss: 0.2679\n",
            "Validation acc: 0.7133\n",
            "Validation F1: 0.7119\n",
            "\n",
            "Start of epoch 25\n",
            "Training loss: 1.0000\n",
            "Training metric: 0.6645\n",
            "perturbation loss: 0.2513\n"
          ]
        },
        {
          "output_type": "stream",
          "name": "stderr",
          "text": [
            "\r  3%|▎         | 26/1000 [00:41<21:06,  1.30s/it]"
          ]
        },
        {
          "output_type": "stream",
          "name": "stdout",
          "text": [
            "Validation acc: 0.7133\n",
            "Validation F1: 0.6956\n",
            "\n",
            "Start of epoch 26\n"
          ]
        },
        {
          "output_type": "stream",
          "name": "stderr",
          "text": [
            "\r  3%|▎         | 27/1000 [00:42<20:26,  1.26s/it]"
          ]
        },
        {
          "output_type": "stream",
          "name": "stdout",
          "text": [
            "Training loss: 0.8845\n",
            "Training metric: 0.6718\n",
            "perturbation loss: 0.3568\n",
            "Validation acc: 0.5467\n",
            "Validation F1: 0.5214\n",
            "\n",
            "Start of epoch 27\n",
            "Training loss: 0.7896\n",
            "Training metric: 0.6787\n",
            "perturbation loss: 0.4925\n",
            "Validation acc: 0.5067\n"
          ]
        },
        {
          "output_type": "stream",
          "name": "stderr",
          "text": [
            "\r  3%|▎         | 28/1000 [00:44<20:06,  1.24s/it]"
          ]
        },
        {
          "output_type": "stream",
          "name": "stdout",
          "text": [
            "Validation F1: 0.4742\n",
            "\n",
            "Start of epoch 28\n",
            "Training loss: 0.9152\n",
            "Training metric: 0.6852\n",
            "perturbation loss: 0.4430\n",
            "Validation acc: 0.2933\n"
          ]
        },
        {
          "output_type": "stream",
          "name": "stderr",
          "text": [
            "\r  3%|▎         | 29/1000 [00:45<19:42,  1.22s/it]"
          ]
        },
        {
          "output_type": "stream",
          "name": "stdout",
          "text": [
            "Validation F1: 0.2307\n",
            "\n",
            "Start of epoch 29\n"
          ]
        },
        {
          "output_type": "stream",
          "name": "stderr",
          "text": [
            "\r  3%|▎         | 30/1000 [00:46<19:23,  1.20s/it]"
          ]
        },
        {
          "output_type": "stream",
          "name": "stdout",
          "text": [
            "Training loss: 0.7882\n",
            "Training metric: 0.6914\n",
            "perturbation loss: 0.5606\n",
            "Validation acc: 0.7000\n",
            "Validation F1: 0.7029\n",
            "\n",
            "Start of epoch 30\n",
            "Training loss: 0.6943\n",
            "Training metric: 0.6974\n",
            "perturbation loss: 0.6390\n"
          ]
        },
        {
          "output_type": "stream",
          "name": "stderr",
          "text": [
            "\r  3%|▎         | 31/1000 [00:47<19:57,  1.24s/it]"
          ]
        },
        {
          "output_type": "stream",
          "name": "stdout",
          "text": [
            "Validation acc: 0.3800\n",
            "Validation F1: 0.3401\n",
            "\n",
            "Start of epoch 31\n",
            "Training loss: 0.7972\n",
            "Training metric: 0.7031\n",
            "perturbation loss: 0.6463\n"
          ]
        },
        {
          "output_type": "stream",
          "name": "stderr",
          "text": [
            "\r  3%|▎         | 32/1000 [00:49<21:37,  1.34s/it]"
          ]
        },
        {
          "output_type": "stream",
          "name": "stdout",
          "text": [
            "Validation acc: 0.5667\n",
            "Validation F1: 0.5578\n",
            "\n",
            "Start of epoch 32\n",
            "Training loss: 0.8538\n",
            "Training metric: 0.7080\n",
            "perturbation loss: 1.0021\n"
          ]
        },
        {
          "output_type": "stream",
          "name": "stderr",
          "text": [
            "\r  3%|▎         | 33/1000 [00:50<22:49,  1.42s/it]"
          ]
        },
        {
          "output_type": "stream",
          "name": "stdout",
          "text": [
            "Validation acc: 0.7000\n",
            "Validation F1: 0.6853\n",
            "\n",
            "Start of epoch 33\n",
            "Training loss: 0.6009\n",
            "Training metric: 0.7131\n",
            "perturbation loss: 1.0082\n",
            "Validation acc: 0.4400\n",
            "Validation F1: 0.3582\n"
          ]
        },
        {
          "output_type": "stream",
          "name": "stderr",
          "text": [
            "\r  3%|▎         | 34/1000 [00:52<21:54,  1.36s/it]"
          ]
        },
        {
          "output_type": "stream",
          "name": "stdout",
          "text": [
            "\n",
            "Start of epoch 34\n",
            "Training loss: 0.5425\n",
            "Training metric: 0.7181\n",
            "perturbation loss: 0.7040\n"
          ]
        },
        {
          "output_type": "stream",
          "name": "stderr",
          "text": [
            "\r  4%|▎         | 35/1000 [00:53<21:00,  1.31s/it]"
          ]
        },
        {
          "output_type": "stream",
          "name": "stdout",
          "text": [
            "Validation acc: 0.7067\n",
            "Validation F1: 0.7031\n",
            "\n",
            "Start of epoch 35\n",
            "Training loss: 0.6391\n",
            "Training metric: 0.7228\n",
            "perturbation loss: 1.0255\n"
          ]
        },
        {
          "output_type": "stream",
          "name": "stderr",
          "text": [
            "\r  4%|▎         | 36/1000 [00:54<20:52,  1.30s/it]"
          ]
        },
        {
          "output_type": "stream",
          "name": "stdout",
          "text": [
            "Validation acc: 0.7533\n",
            "Validation F1: 0.7486\n",
            "\n",
            "Start of epoch 36\n",
            "Training loss: 0.4433\n",
            "Training metric: 0.7274\n",
            "perturbation loss: 0.9535\n",
            "Validation acc: 0.4133\n",
            "Validation F1: 0.3317\n"
          ]
        },
        {
          "output_type": "stream",
          "name": "stderr",
          "text": [
            "\r  4%|▎         | 37/1000 [00:55<20:17,  1.26s/it]"
          ]
        },
        {
          "output_type": "stream",
          "name": "stdout",
          "text": [
            "\n",
            "Start of epoch 37\n"
          ]
        },
        {
          "output_type": "stream",
          "name": "stderr",
          "text": [
            "\r  4%|▍         | 38/1000 [00:57<19:46,  1.23s/it]"
          ]
        },
        {
          "output_type": "stream",
          "name": "stdout",
          "text": [
            "Training loss: 0.5633\n",
            "Training metric: 0.7318\n",
            "perturbation loss: 1.6467\n",
            "Validation acc: 0.6933\n",
            "Validation F1: 0.6863\n",
            "\n",
            "Start of epoch 38\n",
            "Training loss: 0.3898\n",
            "Training metric: 0.7360\n",
            "perturbation loss: 1.8164\n"
          ]
        },
        {
          "output_type": "stream",
          "name": "stderr",
          "text": [
            "\r  4%|▍         | 39/1000 [00:58<19:32,  1.22s/it]"
          ]
        },
        {
          "output_type": "stream",
          "name": "stdout",
          "text": [
            "Validation acc: 0.7133\n",
            "Validation F1: 0.7131\n",
            "\n",
            "Start of epoch 39\n",
            "Training loss: 0.5449\n",
            "Training metric: 0.7399\n",
            "perturbation loss: 1.8233\n",
            "Validation acc: 0.6267\n",
            "Validation F1: 0.6121\n"
          ]
        },
        {
          "output_type": "stream",
          "name": "stderr",
          "text": [
            "\r  4%|▍         | 40/1000 [00:59<19:13,  1.20s/it]"
          ]
        },
        {
          "output_type": "stream",
          "name": "stdout",
          "text": [
            "\n",
            "Start of epoch 40\n"
          ]
        },
        {
          "output_type": "stream",
          "name": "stderr",
          "text": [
            "\r  4%|▍         | 41/1000 [01:00<19:06,  1.20s/it]"
          ]
        },
        {
          "output_type": "stream",
          "name": "stdout",
          "text": [
            "Training loss: 0.4915\n",
            "Training metric: 0.7438\n",
            "perturbation loss: 0.9847\n",
            "Validation acc: 0.7933\n",
            "Validation F1: 0.7871\n",
            "\n",
            "Start of epoch 41\n",
            "Training loss: 0.3346\n",
            "Training metric: 0.7473\n",
            "perturbation loss: 1.3256\n"
          ]
        },
        {
          "output_type": "stream",
          "name": "stderr",
          "text": [
            "\r  4%|▍         | 42/1000 [01:01<20:03,  1.26s/it]"
          ]
        },
        {
          "output_type": "stream",
          "name": "stdout",
          "text": [
            "Validation acc: 0.8067\n",
            "Validation F1: 0.8050\n",
            "\n",
            "Start of epoch 42\n",
            "Training loss: 0.3028\n",
            "Training metric: 0.7509\n",
            "perturbation loss: 1.4752\n"
          ]
        },
        {
          "output_type": "stream",
          "name": "stderr",
          "text": [
            "\r  4%|▍         | 43/1000 [01:03<21:49,  1.37s/it]"
          ]
        },
        {
          "output_type": "stream",
          "name": "stdout",
          "text": [
            "Validation acc: 0.7533\n",
            "Validation F1: 0.7535\n",
            "\n",
            "Start of epoch 43\n",
            "Training loss: 0.5905\n",
            "Training metric: 0.7545\n",
            "perturbation loss: 1.3517\n"
          ]
        },
        {
          "output_type": "stream",
          "name": "stderr",
          "text": [
            "\r  4%|▍         | 44/1000 [01:05<22:28,  1.41s/it]"
          ]
        },
        {
          "output_type": "stream",
          "name": "stdout",
          "text": [
            "Validation acc: 0.4733\n",
            "Validation F1: 0.4737\n",
            "\n",
            "Start of epoch 44\n"
          ]
        },
        {
          "output_type": "stream",
          "name": "stderr",
          "text": [
            "\r  4%|▍         | 45/1000 [01:06<21:15,  1.34s/it]"
          ]
        },
        {
          "output_type": "stream",
          "name": "stdout",
          "text": [
            "Training loss: 0.3179\n",
            "Training metric: 0.7580\n",
            "perturbation loss: 1.5656\n",
            "Validation acc: 0.5400\n",
            "Validation F1: 0.5412\n",
            "\n",
            "Start of epoch 45\n",
            "Training loss: 0.4518\n",
            "Training metric: 0.7612\n",
            "perturbation loss: 1.2241\n"
          ]
        },
        {
          "output_type": "stream",
          "name": "stderr",
          "text": [
            "\r  5%|▍         | 46/1000 [01:07<20:38,  1.30s/it]"
          ]
        },
        {
          "output_type": "stream",
          "name": "stdout",
          "text": [
            "Validation acc: 0.8333\n",
            "Validation F1: 0.8302\n",
            "\n",
            "Start of epoch 46\n",
            "Training loss: 0.4745\n",
            "Training metric: 0.7644\n",
            "perturbation loss: 1.3841\n"
          ]
        },
        {
          "output_type": "stream",
          "name": "stderr",
          "text": [
            "\r  5%|▍         | 47/1000 [01:08<20:07,  1.27s/it]"
          ]
        },
        {
          "output_type": "stream",
          "name": "stdout",
          "text": [
            "Validation acc: 0.3333\n",
            "Validation F1: 0.2820\n",
            "\n",
            "Start of epoch 47\n",
            "Training loss: 0.2753\n",
            "Training metric: 0.7672\n",
            "perturbation loss: 1.7072\n",
            "Validation acc: 0.3400\n"
          ]
        },
        {
          "output_type": "stream",
          "name": "stderr",
          "text": [
            "\r  5%|▍         | 48/1000 [01:09<19:40,  1.24s/it]"
          ]
        },
        {
          "output_type": "stream",
          "name": "stdout",
          "text": [
            "Validation F1: 0.2180\n",
            "\n",
            "Start of epoch 48\n"
          ]
        },
        {
          "output_type": "stream",
          "name": "stderr",
          "text": [
            "\r  5%|▍         | 49/1000 [01:10<19:19,  1.22s/it]"
          ]
        },
        {
          "output_type": "stream",
          "name": "stdout",
          "text": [
            "Training loss: 0.3619\n",
            "Training metric: 0.7701\n",
            "perturbation loss: 1.1690\n",
            "Validation acc: 0.3200\n",
            "Validation F1: 0.1920\n",
            "\n",
            "Start of epoch 49\n"
          ]
        },
        {
          "output_type": "stream",
          "name": "stderr",
          "text": [
            "\r  5%|▌         | 50/1000 [01:12<19:00,  1.20s/it]"
          ]
        },
        {
          "output_type": "stream",
          "name": "stdout",
          "text": [
            "Training loss: 0.3192\n",
            "Training metric: 0.7731\n",
            "perturbation loss: 0.8329\n",
            "Validation acc: 0.8133\n",
            "Validation F1: 0.8126\n",
            "\n",
            "Start of epoch 50\n",
            "Training loss: 0.3522\n",
            "Training metric: 0.7763\n",
            "perturbation loss: 1.3675\n"
          ]
        },
        {
          "output_type": "stream",
          "name": "stderr",
          "text": [
            "\r  5%|▌         | 51/1000 [01:13<19:22,  1.23s/it]"
          ]
        },
        {
          "output_type": "stream",
          "name": "stdout",
          "text": [
            "Validation acc: 0.2600\n",
            "Validation F1: 0.1629\n",
            "\n",
            "Start of epoch 51\n",
            "Training loss: 0.3259\n",
            "Training metric: 0.7793\n",
            "perturbation loss: 1.3840\n",
            "Validation acc: 0.8733\n"
          ]
        },
        {
          "output_type": "stream",
          "name": "stderr",
          "text": [
            "\r  5%|▌         | 52/1000 [01:14<19:10,  1.21s/it]"
          ]
        },
        {
          "output_type": "stream",
          "name": "stdout",
          "text": [
            "Validation F1: 0.8723\n",
            "\n",
            "Start of epoch 52\n",
            "Training loss: 0.2652\n",
            "Training metric: 0.7825\n",
            "perturbation loss: 1.3286\n"
          ]
        },
        {
          "output_type": "stream",
          "name": "stderr",
          "text": [
            "\r  5%|▌         | 53/1000 [01:16<20:26,  1.30s/it]"
          ]
        },
        {
          "output_type": "stream",
          "name": "stdout",
          "text": [
            "Validation acc: 0.5667\n",
            "Validation F1: 0.5697\n",
            "\n",
            "Start of epoch 53\n",
            "Training loss: 0.1903\n",
            "Training metric: 0.7854\n",
            "perturbation loss: 0.9288\n"
          ]
        },
        {
          "output_type": "stream",
          "name": "stderr",
          "text": [
            "\r  5%|▌         | 54/1000 [01:17<21:44,  1.38s/it]"
          ]
        },
        {
          "output_type": "stream",
          "name": "stdout",
          "text": [
            "Validation acc: 0.4067\n",
            "Validation F1: 0.3667\n",
            "\n",
            "Start of epoch 54\n"
          ]
        },
        {
          "output_type": "stream",
          "name": "stderr",
          "text": [
            "\r  6%|▌         | 55/1000 [01:19<21:56,  1.39s/it]"
          ]
        },
        {
          "output_type": "stream",
          "name": "stdout",
          "text": [
            "Training loss: 0.2200\n",
            "Training metric: 0.7887\n",
            "perturbation loss: 1.5006\n",
            "Validation acc: 0.4133\n",
            "Validation F1: 0.3301\n",
            "\n",
            "Start of epoch 55\n"
          ]
        },
        {
          "output_type": "stream",
          "name": "stderr",
          "text": [
            "\r  6%|▌         | 56/1000 [01:20<20:53,  1.33s/it]"
          ]
        },
        {
          "output_type": "stream",
          "name": "stdout",
          "text": [
            "Training loss: 0.1429\n",
            "Training metric: 0.7918\n",
            "perturbation loss: 0.6762\n",
            "Validation acc: 0.6867\n",
            "Validation F1: 0.6432\n",
            "\n",
            "Start of epoch 56\n",
            "Training loss: 0.2770\n",
            "Training metric: 0.7950\n",
            "perturbation loss: 0.9958\n",
            "Validation acc: 0.8400\n"
          ]
        },
        {
          "output_type": "stream",
          "name": "stderr",
          "text": [
            "\r  6%|▌         | 57/1000 [01:21<20:10,  1.28s/it]"
          ]
        },
        {
          "output_type": "stream",
          "name": "stdout",
          "text": [
            "Validation F1: 0.8381\n",
            "\n",
            "Start of epoch 57\n",
            "Training loss: 0.1520\n",
            "Training metric: 0.7982\n",
            "perturbation loss: 1.4189\n",
            "Validation acc: 0.8733\n"
          ]
        },
        {
          "output_type": "stream",
          "name": "stderr",
          "text": [
            "\r  6%|▌         | 58/1000 [01:22<19:40,  1.25s/it]"
          ]
        },
        {
          "output_type": "stream",
          "name": "stdout",
          "text": [
            "Validation F1: 0.8722\n",
            "\n",
            "Start of epoch 58\n",
            "Training loss: 0.2479\n",
            "Training metric: 0.8011\n",
            "perturbation loss: 1.3863\n",
            "Validation acc: 0.8333\n"
          ]
        },
        {
          "output_type": "stream",
          "name": "stderr",
          "text": [
            "\r  6%|▌         | 59/1000 [01:23<19:23,  1.24s/it]"
          ]
        },
        {
          "output_type": "stream",
          "name": "stdout",
          "text": [
            "Validation F1: 0.8272\n",
            "\n",
            "Start of epoch 59\n",
            "Training loss: 0.1604\n",
            "Training metric: 0.8038\n",
            "perturbation loss: 1.3741\n",
            "Validation acc: 0.5800\n"
          ]
        },
        {
          "output_type": "stream",
          "name": "stderr",
          "text": [
            "\r  6%|▌         | 60/1000 [01:25<19:24,  1.24s/it]"
          ]
        },
        {
          "output_type": "stream",
          "name": "stdout",
          "text": [
            "Validation F1: 0.5392\n",
            "\n",
            "Start of epoch 60\n",
            "Training loss: 0.0971\n",
            "Training metric: 0.8065\n",
            "perturbation loss: 0.9551\n"
          ]
        },
        {
          "output_type": "stream",
          "name": "stderr",
          "text": [
            "\r  6%|▌         | 61/1000 [01:26<19:10,  1.23s/it]"
          ]
        },
        {
          "output_type": "stream",
          "name": "stdout",
          "text": [
            "Validation acc: 0.3533\n",
            "Validation F1: 0.2471\n",
            "\n",
            "Start of epoch 61\n",
            "Training loss: 0.0816\n",
            "Training metric: 0.8093\n",
            "perturbation loss: 0.7053\n"
          ]
        },
        {
          "output_type": "stream",
          "name": "stderr",
          "text": [
            "\r  6%|▌         | 62/1000 [01:27<19:05,  1.22s/it]"
          ]
        },
        {
          "output_type": "stream",
          "name": "stdout",
          "text": [
            "Validation acc: 0.6533\n",
            "Validation F1: 0.6130\n",
            "\n",
            "Start of epoch 62\n",
            "Training loss: 0.2657\n",
            "Training metric: 0.8120\n",
            "perturbation loss: 0.8336\n"
          ]
        },
        {
          "output_type": "stream",
          "name": "stderr",
          "text": [
            "\r  6%|▋         | 63/1000 [01:28<19:24,  1.24s/it]"
          ]
        },
        {
          "output_type": "stream",
          "name": "stdout",
          "text": [
            "Validation acc: 0.8600\n",
            "Validation F1: 0.8575\n",
            "\n",
            "Start of epoch 63\n",
            "Training loss: 0.1541\n",
            "Training metric: 0.8145\n",
            "perturbation loss: 0.8555\n"
          ]
        },
        {
          "output_type": "stream",
          "name": "stderr",
          "text": [
            "\r  6%|▋         | 64/1000 [01:30<21:23,  1.37s/it]"
          ]
        },
        {
          "output_type": "stream",
          "name": "stdout",
          "text": [
            "Validation acc: 0.7400\n",
            "Validation F1: 0.7259\n",
            "\n",
            "Start of epoch 64\n",
            "Training loss: 0.1110\n",
            "Training metric: 0.8169\n",
            "perturbation loss: 1.0537\n"
          ]
        },
        {
          "output_type": "stream",
          "name": "stderr",
          "text": [
            "\r  6%|▋         | 65/1000 [01:32<22:42,  1.46s/it]"
          ]
        },
        {
          "output_type": "stream",
          "name": "stdout",
          "text": [
            "Validation acc: 0.3267\n",
            "Validation F1: 0.2120\n",
            "\n",
            "Start of epoch 65\n",
            "Training loss: 0.0522\n",
            "Training metric: 0.8193\n",
            "perturbation loss: 0.5712\n"
          ]
        },
        {
          "output_type": "stream",
          "name": "stderr",
          "text": [
            "\r  7%|▋         | 66/1000 [01:33<22:26,  1.44s/it]"
          ]
        },
        {
          "output_type": "stream",
          "name": "stdout",
          "text": [
            "Validation acc: 0.8733\n",
            "Validation F1: 0.8697\n",
            "\n",
            "Start of epoch 66\n",
            "Training loss: 0.1132\n",
            "Training metric: 0.8217\n",
            "perturbation loss: 0.7498\n",
            "Validation acc: 0.8800\n"
          ]
        },
        {
          "output_type": "stream",
          "name": "stderr",
          "text": [
            "\r  7%|▋         | 67/1000 [01:34<21:19,  1.37s/it]"
          ]
        },
        {
          "output_type": "stream",
          "name": "stdout",
          "text": [
            "Validation F1: 0.8781\n",
            "\n",
            "Start of epoch 67\n",
            "Training loss: 0.1284\n",
            "Training metric: 0.8241\n",
            "perturbation loss: 0.5033\n",
            "Validation acc: 0.7867\n"
          ]
        },
        {
          "output_type": "stream",
          "name": "stderr",
          "text": [
            "\r  7%|▋         | 68/1000 [01:35<20:29,  1.32s/it]"
          ]
        },
        {
          "output_type": "stream",
          "name": "stdout",
          "text": [
            "Validation F1: 0.7698\n",
            "\n",
            "Start of epoch 68\n",
            "Training loss: 0.1306\n",
            "Training metric: 0.8262\n",
            "perturbation loss: 1.2340\n"
          ]
        },
        {
          "output_type": "stream",
          "name": "stderr",
          "text": [
            "\r  7%|▋         | 69/1000 [01:37<19:58,  1.29s/it]"
          ]
        },
        {
          "output_type": "stream",
          "name": "stdout",
          "text": [
            "Validation acc: 0.8800\n",
            "Validation F1: 0.8806\n",
            "\n",
            "Start of epoch 69\n",
            "Training loss: 0.0486\n",
            "Training metric: 0.8284\n",
            "perturbation loss: 0.8529\n"
          ]
        },
        {
          "output_type": "stream",
          "name": "stderr",
          "text": [
            "\r  7%|▋         | 70/1000 [01:38<19:42,  1.27s/it]"
          ]
        },
        {
          "output_type": "stream",
          "name": "stdout",
          "text": [
            "Validation acc: 0.8933\n",
            "Validation F1: 0.8938\n",
            "\n",
            "Start of epoch 70\n",
            "Training loss: 0.1602\n",
            "Training metric: 0.8305\n",
            "perturbation loss: 0.7946\n"
          ]
        },
        {
          "output_type": "stream",
          "name": "stderr",
          "text": [
            "\r  7%|▋         | 71/1000 [01:39<19:22,  1.25s/it]"
          ]
        },
        {
          "output_type": "stream",
          "name": "stdout",
          "text": [
            "Validation acc: 0.6533\n",
            "Validation F1: 0.6129\n",
            "\n",
            "Start of epoch 71\n",
            "Training loss: 0.1440\n",
            "Training metric: 0.8324\n",
            "perturbation loss: 1.0021\n"
          ]
        },
        {
          "output_type": "stream",
          "name": "stderr",
          "text": [
            "\r  7%|▋         | 72/1000 [01:40<19:08,  1.24s/it]"
          ]
        },
        {
          "output_type": "stream",
          "name": "stdout",
          "text": [
            "Validation acc: 0.3600\n",
            "Validation F1: 0.2149\n",
            "\n",
            "Start of epoch 72\n",
            "Training loss: 0.0577\n",
            "Training metric: 0.8344\n",
            "perturbation loss: 0.6614\n"
          ]
        },
        {
          "output_type": "stream",
          "name": "stderr",
          "text": [
            "\r  7%|▋         | 73/1000 [01:42<19:05,  1.24s/it]"
          ]
        },
        {
          "output_type": "stream",
          "name": "stdout",
          "text": [
            "Validation acc: 0.7600\n",
            "Validation F1: 0.7207\n",
            "\n",
            "Start of epoch 73\n",
            "Training loss: 0.0441\n",
            "Training metric: 0.8363\n",
            "perturbation loss: 0.6078\n"
          ]
        },
        {
          "output_type": "stream",
          "name": "stderr",
          "text": [
            "\r  7%|▋         | 74/1000 [01:43<19:43,  1.28s/it]"
          ]
        },
        {
          "output_type": "stream",
          "name": "stdout",
          "text": [
            "Validation acc: 0.4400\n",
            "Validation F1: 0.3635\n",
            "\n",
            "Start of epoch 74\n",
            "Training loss: 0.0424\n",
            "Training metric: 0.8382\n",
            "perturbation loss: 0.7040\n"
          ]
        },
        {
          "output_type": "stream",
          "name": "stderr",
          "text": [
            "\r  8%|▊         | 75/1000 [01:45<21:25,  1.39s/it]"
          ]
        },
        {
          "output_type": "stream",
          "name": "stdout",
          "text": [
            "Validation acc: 0.9067\n",
            "Validation F1: 0.9057\n",
            "\n",
            "Start of epoch 75\n",
            "Training loss: 0.0606\n",
            "Training metric: 0.8401\n",
            "perturbation loss: 0.8646\n"
          ]
        },
        {
          "output_type": "stream",
          "name": "stderr",
          "text": [
            "\r  8%|▊         | 76/1000 [01:47<24:04,  1.56s/it]"
          ]
        },
        {
          "output_type": "stream",
          "name": "stdout",
          "text": [
            "Validation acc: 0.4600\n",
            "Validation F1: 0.4071\n",
            "\n",
            "Start of epoch 76\n",
            "Training loss: 0.0784\n",
            "Training metric: 0.8420\n",
            "perturbation loss: 0.8184\n"
          ]
        },
        {
          "output_type": "stream",
          "name": "stderr",
          "text": [
            "\r  8%|▊         | 77/1000 [01:48<22:32,  1.47s/it]"
          ]
        },
        {
          "output_type": "stream",
          "name": "stdout",
          "text": [
            "Validation acc: 0.8400\n",
            "Validation F1: 0.8346\n",
            "\n",
            "Start of epoch 77\n",
            "Training loss: 0.0213\n",
            "Training metric: 0.8438\n",
            "perturbation loss: 0.2424\n"
          ]
        },
        {
          "output_type": "stream",
          "name": "stderr",
          "text": [
            "\r  8%|▊         | 78/1000 [01:49<21:26,  1.40s/it]"
          ]
        },
        {
          "output_type": "stream",
          "name": "stdout",
          "text": [
            "Validation acc: 0.8400\n",
            "Validation F1: 0.8266\n",
            "\n",
            "Start of epoch 78\n",
            "Training loss: 0.0582\n",
            "Training metric: 0.8456\n",
            "perturbation loss: 0.5383\n"
          ]
        },
        {
          "output_type": "stream",
          "name": "stderr",
          "text": [
            "\r  8%|▊         | 79/1000 [01:50<20:34,  1.34s/it]"
          ]
        },
        {
          "output_type": "stream",
          "name": "stdout",
          "text": [
            "Validation acc: 0.7067\n",
            "Validation F1: 0.6837\n",
            "\n",
            "Start of epoch 79\n",
            "Training loss: 0.0206\n",
            "Training metric: 0.8473\n",
            "perturbation loss: 0.2331\n",
            "Validation acc: 0.9133\n",
            "Validation F1: 0.9121\n"
          ]
        },
        {
          "output_type": "stream",
          "name": "stderr",
          "text": [
            "\r  8%|▊         | 80/1000 [01:51<19:56,  1.30s/it]"
          ]
        },
        {
          "output_type": "stream",
          "name": "stdout",
          "text": [
            "\n",
            "Start of epoch 80\n",
            "Training loss: 0.1590\n",
            "Training metric: 0.8491\n",
            "perturbation loss: 0.8215\n"
          ]
        },
        {
          "output_type": "stream",
          "name": "stderr",
          "text": [
            "\r  8%|▊         | 81/1000 [01:53<20:02,  1.31s/it]"
          ]
        },
        {
          "output_type": "stream",
          "name": "stdout",
          "text": [
            "Validation acc: 0.8800\n",
            "Validation F1: 0.8797\n",
            "\n",
            "Start of epoch 81\n",
            "Training loss: 0.0282\n",
            "Training metric: 0.8508\n",
            "perturbation loss: 0.6321\n"
          ]
        },
        {
          "output_type": "stream",
          "name": "stderr",
          "text": [
            "\r  8%|▊         | 82/1000 [01:54<19:32,  1.28s/it]"
          ]
        },
        {
          "output_type": "stream",
          "name": "stdout",
          "text": [
            "Validation acc: 0.8467\n",
            "Validation F1: 0.8441\n",
            "\n",
            "Start of epoch 82\n",
            "Training loss: 0.1094\n",
            "Training metric: 0.8525\n",
            "perturbation loss: 2.4601\n"
          ]
        },
        {
          "output_type": "stream",
          "name": "stderr",
          "text": [
            "\r  8%|▊         | 83/1000 [01:55<19:16,  1.26s/it]"
          ]
        },
        {
          "output_type": "stream",
          "name": "stdout",
          "text": [
            "Validation acc: 0.6533\n",
            "Validation F1: 0.6313\n",
            "\n",
            "Start of epoch 83\n",
            "Training loss: 0.0677\n",
            "Training metric: 0.8540\n",
            "perturbation loss: 1.1354\n",
            "Validation acc: 0.8800\n"
          ]
        },
        {
          "output_type": "stream",
          "name": "stderr",
          "text": [
            "\r  8%|▊         | 84/1000 [01:56<18:56,  1.24s/it]"
          ]
        },
        {
          "output_type": "stream",
          "name": "stdout",
          "text": [
            "Validation F1: 0.8778\n",
            "\n",
            "Start of epoch 84\n",
            "Training loss: 0.0489\n",
            "Training metric: 0.8557\n",
            "perturbation loss: 0.8173\n"
          ]
        },
        {
          "output_type": "stream",
          "name": "stderr",
          "text": [
            "\r  8%|▊         | 85/1000 [01:58<20:28,  1.34s/it]"
          ]
        },
        {
          "output_type": "stream",
          "name": "stdout",
          "text": [
            "Validation acc: 0.9000\n",
            "Validation F1: 0.9004\n",
            "\n",
            "Start of epoch 85\n",
            "Training loss: 0.0209\n",
            "Training metric: 0.8572\n",
            "perturbation loss: 0.3475\n"
          ]
        },
        {
          "output_type": "stream",
          "name": "stderr",
          "text": [
            "\r  9%|▊         | 86/1000 [02:00<21:56,  1.44s/it]"
          ]
        },
        {
          "output_type": "stream",
          "name": "stdout",
          "text": [
            "Validation acc: 0.8533\n",
            "Validation F1: 0.8426\n",
            "\n",
            "Start of epoch 86\n",
            "Training loss: 0.0365\n",
            "Training metric: 0.8587\n",
            "perturbation loss: 0.5824\n"
          ]
        },
        {
          "output_type": "stream",
          "name": "stderr",
          "text": [
            "\r  9%|▊         | 87/1000 [02:01<22:23,  1.47s/it]"
          ]
        },
        {
          "output_type": "stream",
          "name": "stdout",
          "text": [
            "Validation acc: 0.8933\n",
            "Validation F1: 0.8923\n",
            "\n",
            "Start of epoch 87\n",
            "Training loss: 0.0324\n",
            "Training metric: 0.8603\n",
            "perturbation loss: 0.3629\n"
          ]
        },
        {
          "output_type": "stream",
          "name": "stderr",
          "text": [
            "\r  9%|▉         | 88/1000 [02:02<21:11,  1.39s/it]"
          ]
        },
        {
          "output_type": "stream",
          "name": "stdout",
          "text": [
            "Validation acc: 0.8733\n",
            "Validation F1: 0.8657\n",
            "\n",
            "Start of epoch 88\n",
            "Training loss: 0.0228\n",
            "Training metric: 0.8617\n",
            "perturbation loss: 0.3689\n"
          ]
        },
        {
          "output_type": "stream",
          "name": "stderr",
          "text": [
            "\r  9%|▉         | 89/1000 [02:04<20:50,  1.37s/it]"
          ]
        },
        {
          "output_type": "stream",
          "name": "stdout",
          "text": [
            "Validation acc: 0.8733\n",
            "Validation F1: 0.8654\n",
            "\n",
            "Start of epoch 89\n",
            "Training loss: 0.0353\n",
            "Training metric: 0.8632\n",
            "perturbation loss: 0.6360\n"
          ]
        },
        {
          "output_type": "stream",
          "name": "stderr",
          "text": [
            "\r  9%|▉         | 90/1000 [02:05<20:04,  1.32s/it]"
          ]
        },
        {
          "output_type": "stream",
          "name": "stdout",
          "text": [
            "Validation acc: 0.9600\n",
            "Validation F1: 0.9603\n",
            "\n",
            "Start of epoch 90\n",
            "Training loss: 0.0274\n",
            "Training metric: 0.8646\n",
            "perturbation loss: 0.4681\n"
          ]
        },
        {
          "output_type": "stream",
          "name": "stderr",
          "text": [
            "\r  9%|▉         | 91/1000 [02:06<19:33,  1.29s/it]"
          ]
        },
        {
          "output_type": "stream",
          "name": "stdout",
          "text": [
            "Validation acc: 0.8400\n",
            "Validation F1: 0.8262\n",
            "\n",
            "Start of epoch 91\n",
            "Training loss: 0.0932\n",
            "Training metric: 0.8659\n",
            "perturbation loss: 0.7397\n"
          ]
        },
        {
          "output_type": "stream",
          "name": "stderr",
          "text": [
            "\r  9%|▉         | 92/1000 [02:07<19:11,  1.27s/it]"
          ]
        },
        {
          "output_type": "stream",
          "name": "stdout",
          "text": [
            "Validation acc: 0.7533\n",
            "Validation F1: 0.7391\n",
            "\n",
            "Start of epoch 92\n",
            "Training loss: 0.0228\n",
            "Training metric: 0.8671\n",
            "perturbation loss: 0.5759\n",
            "Validation acc: 0.9400\n",
            "Validation F1: 0.9390\n"
          ]
        },
        {
          "output_type": "stream",
          "name": "stderr",
          "text": [
            "\r  9%|▉         | 93/1000 [02:09<18:51,  1.25s/it]"
          ]
        },
        {
          "output_type": "stream",
          "name": "stdout",
          "text": [
            "\n",
            "Start of epoch 93\n",
            "Training loss: 0.0151\n",
            "Training metric: 0.8685\n",
            "perturbation loss: 0.3660\n"
          ]
        },
        {
          "output_type": "stream",
          "name": "stderr",
          "text": [
            "\r  9%|▉         | 94/1000 [02:10<18:47,  1.24s/it]"
          ]
        },
        {
          "output_type": "stream",
          "name": "stdout",
          "text": [
            "Validation acc: 0.6000\n",
            "Validation F1: 0.5612\n",
            "\n",
            "Start of epoch 94\n",
            "Training loss: 0.0505\n",
            "Training metric: 0.8698\n",
            "perturbation loss: 0.9344\n"
          ]
        },
        {
          "output_type": "stream",
          "name": "stderr",
          "text": [
            "\r 10%|▉         | 95/1000 [02:11<19:13,  1.27s/it]"
          ]
        },
        {
          "output_type": "stream",
          "name": "stdout",
          "text": [
            "Validation acc: 0.9467\n",
            "Validation F1: 0.9466\n",
            "\n",
            "Start of epoch 95\n",
            "Training loss: 0.0153\n",
            "Training metric: 0.8711\n",
            "perturbation loss: 0.2919\n"
          ]
        },
        {
          "output_type": "stream",
          "name": "stderr",
          "text": [
            "\r 10%|▉         | 96/1000 [02:13<20:54,  1.39s/it]"
          ]
        },
        {
          "output_type": "stream",
          "name": "stdout",
          "text": [
            "Validation acc: 0.7467\n",
            "Validation F1: 0.7510\n",
            "\n",
            "Start of epoch 96\n",
            "Training loss: 0.0416\n",
            "Training metric: 0.8723\n",
            "perturbation loss: 1.0067\n"
          ]
        },
        {
          "output_type": "stream",
          "name": "stderr",
          "text": [
            "\r 10%|▉         | 97/1000 [02:14<22:02,  1.47s/it]"
          ]
        },
        {
          "output_type": "stream",
          "name": "stdout",
          "text": [
            "Validation acc: 0.6800\n",
            "Validation F1: 0.6439\n",
            "\n",
            "Start of epoch 97\n"
          ]
        },
        {
          "output_type": "stream",
          "name": "stderr",
          "text": [
            "\r 10%|▉         | 98/1000 [02:16<20:58,  1.39s/it]"
          ]
        },
        {
          "output_type": "stream",
          "name": "stdout",
          "text": [
            "Training loss: 0.1784\n",
            "Training metric: 0.8736\n",
            "perturbation loss: 1.9052\n",
            "Validation acc: 0.8867\n",
            "Validation F1: 0.8852\n",
            "\n",
            "Start of epoch 98\n",
            "Training loss: 0.0203\n",
            "Training metric: 0.8748\n",
            "perturbation loss: 0.5285\n"
          ]
        },
        {
          "output_type": "stream",
          "name": "stderr",
          "text": [
            "\r 10%|▉         | 99/1000 [02:17<20:09,  1.34s/it]"
          ]
        },
        {
          "output_type": "stream",
          "name": "stdout",
          "text": [
            "Validation acc: 0.9200\n",
            "Validation F1: 0.9201\n",
            "\n",
            "Start of epoch 99\n",
            "Training loss: 0.1007\n",
            "Training metric: 0.8758\n",
            "perturbation loss: 0.4476\n"
          ]
        },
        {
          "output_type": "stream",
          "name": "stderr",
          "text": [
            "\r 10%|█         | 100/1000 [02:18<19:29,  1.30s/it]"
          ]
        },
        {
          "output_type": "stream",
          "name": "stdout",
          "text": [
            "Validation acc: 0.8933\n",
            "Validation F1: 0.8934\n",
            "\n",
            "Start of epoch 100\n",
            "Training loss: 0.0168\n",
            "Training metric: 0.8770\n",
            "perturbation loss: 0.2805\n",
            "Validation acc: 0.7800\n",
            "Validation F1: 0.7592\n"
          ]
        },
        {
          "output_type": "stream",
          "name": "stderr",
          "text": [
            "\r 10%|█         | 101/1000 [02:19<19:04,  1.27s/it]"
          ]
        },
        {
          "output_type": "stream",
          "name": "stdout",
          "text": [
            "\n",
            "Start of epoch 101\n",
            "Training loss: 0.0144\n",
            "Training metric: 0.8782\n",
            "perturbation loss: 0.2267\n",
            "Validation acc: 0.7733\n",
            "Validation F1: 0.7698\n"
          ]
        },
        {
          "output_type": "stream",
          "name": "stderr",
          "text": [
            "\r 10%|█         | 102/1000 [02:20<18:39,  1.25s/it]"
          ]
        },
        {
          "output_type": "stream",
          "name": "stdout",
          "text": [
            "\n",
            "Start of epoch 102\n",
            "Training loss: 0.0089\n",
            "Training metric: 0.8793\n",
            "perturbation loss: 0.1061\n"
          ]
        },
        {
          "output_type": "stream",
          "name": "stderr",
          "text": [
            "\r 10%|█         | 103/1000 [02:22<18:25,  1.23s/it]"
          ]
        },
        {
          "output_type": "stream",
          "name": "stdout",
          "text": [
            "Validation acc: 0.9733\n",
            "Validation F1: 0.9734\n",
            "\n",
            "Start of epoch 103\n",
            "Training loss: 0.0207\n",
            "Training metric: 0.8805\n",
            "perturbation loss: 0.4559\n",
            "Validation acc: 0.8467\n",
            "Validation F1: 0.8326\n"
          ]
        },
        {
          "output_type": "stream",
          "name": "stderr",
          "text": [
            "\r 10%|█         | 104/1000 [02:23<18:07,  1.21s/it]"
          ]
        },
        {
          "output_type": "stream",
          "name": "stdout",
          "text": [
            "\n",
            "Start of epoch 104\n",
            "Training loss: 0.0953\n",
            "Training metric: 0.8815\n",
            "perturbation loss: 2.1215\n"
          ]
        },
        {
          "output_type": "stream",
          "name": "stderr",
          "text": [
            "\r 10%|█         | 105/1000 [02:24<18:04,  1.21s/it]"
          ]
        },
        {
          "output_type": "stream",
          "name": "stdout",
          "text": [
            "Validation acc: 0.9667\n",
            "Validation F1: 0.9669\n",
            "\n",
            "Start of epoch 105\n",
            "Training loss: 0.1024\n",
            "Training metric: 0.8825\n",
            "perturbation loss: 1.1639\n"
          ]
        },
        {
          "output_type": "stream",
          "name": "stderr",
          "text": [
            "\r 11%|█         | 106/1000 [02:25<18:59,  1.27s/it]"
          ]
        },
        {
          "output_type": "stream",
          "name": "stdout",
          "text": [
            "Validation acc: 0.9133\n",
            "Validation F1: 0.9138\n",
            "\n",
            "Start of epoch 106\n",
            "Training loss: 0.2180\n",
            "Training metric: 0.8834\n",
            "perturbation loss: 1.7840\n"
          ]
        },
        {
          "output_type": "stream",
          "name": "stderr",
          "text": [
            "\r 11%|█         | 107/1000 [02:27<20:43,  1.39s/it]"
          ]
        },
        {
          "output_type": "stream",
          "name": "stdout",
          "text": [
            "Validation acc: 0.8400\n",
            "Validation F1: 0.8331\n",
            "\n",
            "Start of epoch 107\n",
            "Training loss: 0.0100\n",
            "Training metric: 0.8844\n",
            "perturbation loss: 0.2386\n"
          ]
        },
        {
          "output_type": "stream",
          "name": "stderr",
          "text": [
            "\r 11%|█         | 108/1000 [02:29<21:33,  1.45s/it]"
          ]
        },
        {
          "output_type": "stream",
          "name": "stdout",
          "text": [
            "Validation acc: 0.9067\n",
            "Validation F1: 0.9066\n",
            "\n",
            "Start of epoch 108\n",
            "Training loss: 0.0429\n",
            "Training metric: 0.8854\n",
            "perturbation loss: 1.5835\n"
          ]
        },
        {
          "output_type": "stream",
          "name": "stderr",
          "text": [
            "\r 11%|█         | 109/1000 [02:30<20:52,  1.41s/it]"
          ]
        },
        {
          "output_type": "stream",
          "name": "stdout",
          "text": [
            "Validation acc: 0.9400\n",
            "Validation F1: 0.9386\n",
            "\n",
            "Start of epoch 109\n",
            "Training loss: 0.0367\n",
            "Training metric: 0.8864\n",
            "perturbation loss: 0.2579\n"
          ]
        },
        {
          "output_type": "stream",
          "name": "stderr",
          "text": [
            "\r 11%|█         | 110/1000 [02:31<20:00,  1.35s/it]"
          ]
        },
        {
          "output_type": "stream",
          "name": "stdout",
          "text": [
            "Validation acc: 0.5533\n",
            "Validation F1: 0.4726\n",
            "\n",
            "Start of epoch 110\n",
            "Training loss: 0.0386\n",
            "Training metric: 0.8873\n",
            "perturbation loss: 0.3064\n"
          ]
        },
        {
          "output_type": "stream",
          "name": "stderr",
          "text": [
            "\r 11%|█         | 111/1000 [02:32<19:21,  1.31s/it]"
          ]
        },
        {
          "output_type": "stream",
          "name": "stdout",
          "text": [
            "Validation acc: 0.2067\n",
            "Validation F1: 0.0799\n",
            "\n",
            "Start of epoch 111\n",
            "Training loss: 0.0174\n",
            "Training metric: 0.8882\n",
            "perturbation loss: 0.2099\n"
          ]
        },
        {
          "output_type": "stream",
          "name": "stderr",
          "text": [
            "\r 11%|█         | 112/1000 [02:34<18:52,  1.28s/it]"
          ]
        },
        {
          "output_type": "stream",
          "name": "stdout",
          "text": [
            "Validation acc: 0.9333\n",
            "Validation F1: 0.9334\n",
            "\n",
            "Start of epoch 112\n",
            "Training loss: 0.0127\n",
            "Training metric: 0.8892\n",
            "perturbation loss: 0.3625\n"
          ]
        },
        {
          "output_type": "stream",
          "name": "stderr",
          "text": [
            "\r 11%|█▏        | 113/1000 [02:35<19:01,  1.29s/it]"
          ]
        },
        {
          "output_type": "stream",
          "name": "stdout",
          "text": [
            "Validation acc: 0.9067\n",
            "Validation F1: 0.9045\n",
            "\n",
            "Start of epoch 113\n",
            "Training loss: 0.0208\n",
            "Training metric: 0.8901\n",
            "perturbation loss: 0.3091\n"
          ]
        },
        {
          "output_type": "stream",
          "name": "stderr",
          "text": [
            "\r 11%|█▏        | 114/1000 [02:36<18:42,  1.27s/it]"
          ]
        },
        {
          "output_type": "stream",
          "name": "stdout",
          "text": [
            "Validation acc: 0.9400\n",
            "Validation F1: 0.9397\n",
            "\n",
            "Start of epoch 114\n"
          ]
        },
        {
          "output_type": "stream",
          "name": "stderr",
          "text": [
            "\r 12%|█▏        | 115/1000 [02:37<18:24,  1.25s/it]"
          ]
        },
        {
          "output_type": "stream",
          "name": "stdout",
          "text": [
            "Training loss: 0.0305\n",
            "Training metric: 0.8910\n",
            "perturbation loss: 1.0720\n",
            "Validation acc: 0.9200\n",
            "Validation F1: 0.9167\n",
            "\n",
            "Start of epoch 115\n",
            "Training loss: 0.0133\n",
            "Training metric: 0.8919\n",
            "perturbation loss: 0.2542\n",
            "Validation acc: 0.9533\n",
            "Validation F1: 0.9537\n"
          ]
        },
        {
          "output_type": "stream",
          "name": "stderr",
          "text": [
            "\r 12%|█▏        | 116/1000 [02:39<18:08,  1.23s/it]"
          ]
        },
        {
          "output_type": "stream",
          "name": "stdout",
          "text": [
            "\n",
            "Start of epoch 116\n",
            "Training loss: 0.0102\n",
            "Training metric: 0.8929\n",
            "perturbation loss: 0.0956\n"
          ]
        },
        {
          "output_type": "stream",
          "name": "stderr",
          "text": [
            "\r 12%|█▏        | 117/1000 [02:40<19:21,  1.32s/it]"
          ]
        },
        {
          "output_type": "stream",
          "name": "stdout",
          "text": [
            "Validation acc: 0.9600\n",
            "Validation F1: 0.9602\n",
            "\n",
            "Start of epoch 117\n",
            "Training loss: 0.0054\n",
            "Training metric: 0.8937\n",
            "perturbation loss: 0.1541\n"
          ]
        },
        {
          "output_type": "stream",
          "name": "stderr",
          "text": [
            "\r 12%|█▏        | 118/1000 [02:42<20:26,  1.39s/it]"
          ]
        },
        {
          "output_type": "stream",
          "name": "stdout",
          "text": [
            "Validation acc: 0.9533\n",
            "Validation F1: 0.9533\n",
            "\n",
            "Start of epoch 118\n"
          ]
        },
        {
          "output_type": "stream",
          "name": "stderr",
          "text": [
            "\r 12%|█▏        | 119/1000 [02:43<20:25,  1.39s/it]"
          ]
        },
        {
          "output_type": "stream",
          "name": "stdout",
          "text": [
            "Training loss: 0.0100\n",
            "Training metric: 0.8946\n",
            "perturbation loss: 0.3311\n",
            "Validation acc: 0.9600\n",
            "Validation F1: 0.9603\n",
            "\n",
            "Start of epoch 119\n",
            "Training loss: 0.0123\n",
            "Training metric: 0.8955\n",
            "perturbation loss: 0.3168\n"
          ]
        },
        {
          "output_type": "stream",
          "name": "stderr",
          "text": [
            "\r 12%|█▏        | 120/1000 [02:44<19:37,  1.34s/it]"
          ]
        },
        {
          "output_type": "stream",
          "name": "stdout",
          "text": [
            "Validation acc: 0.8867\n",
            "Validation F1: 0.8802\n",
            "\n",
            "Start of epoch 120\n",
            "Training loss: 0.0300\n",
            "Training metric: 0.8963\n",
            "perturbation loss: 0.5274\n",
            "Validation acc: 0.6467\n"
          ]
        },
        {
          "output_type": "stream",
          "name": "stderr",
          "text": [
            "\r 12%|█▏        | 121/1000 [02:45<19:04,  1.30s/it]"
          ]
        },
        {
          "output_type": "stream",
          "name": "stdout",
          "text": [
            "Validation F1: 0.5936\n",
            "\n",
            "Start of epoch 121\n",
            "Training loss: 0.0240\n",
            "Training metric: 0.8971\n",
            "perturbation loss: 0.3091\n",
            "Validation acc: 0.8600\n",
            "Validation F1: 0.8531\n"
          ]
        },
        {
          "output_type": "stream",
          "name": "stderr",
          "text": [
            "\r 12%|█▏        | 122/1000 [02:47<18:35,  1.27s/it]"
          ]
        },
        {
          "output_type": "stream",
          "name": "stdout",
          "text": [
            "\n",
            "Start of epoch 122\n",
            "Training loss: 0.0280\n",
            "Training metric: 0.8979\n",
            "perturbation loss: 0.4781\n"
          ]
        },
        {
          "output_type": "stream",
          "name": "stderr",
          "text": [
            "\r 12%|█▏        | 123/1000 [02:48<18:41,  1.28s/it]"
          ]
        },
        {
          "output_type": "stream",
          "name": "stdout",
          "text": [
            "Validation acc: 0.9467\n",
            "Validation F1: 0.9449\n",
            "\n",
            "Start of epoch 123\n",
            "Training loss: 0.0045\n",
            "Training metric: 0.8987\n",
            "perturbation loss: 0.0960\n",
            "Validation acc: 0.9667\n"
          ]
        },
        {
          "output_type": "stream",
          "name": "stderr",
          "text": [
            "\r 12%|█▏        | 124/1000 [02:49<18:26,  1.26s/it]"
          ]
        },
        {
          "output_type": "stream",
          "name": "stdout",
          "text": [
            "Validation F1: 0.9663\n",
            "\n",
            "Start of epoch 124\n",
            "Training loss: 0.0121\n",
            "Training metric: 0.8995\n",
            "perturbation loss: 0.3235\n"
          ]
        },
        {
          "output_type": "stream",
          "name": "stderr",
          "text": [
            "\r 12%|█▎        | 125/1000 [02:50<18:06,  1.24s/it]"
          ]
        },
        {
          "output_type": "stream",
          "name": "stdout",
          "text": [
            "Validation acc: 0.9733\n",
            "Validation F1: 0.9732\n",
            "\n",
            "Start of epoch 125\n",
            "Training loss: 0.0081\n",
            "Training metric: 0.9003\n",
            "perturbation loss: 0.1913\n",
            "Validation acc: 0.9667\n"
          ]
        },
        {
          "output_type": "stream",
          "name": "stderr",
          "text": [
            "\r 13%|█▎        | 126/1000 [02:52<17:55,  1.23s/it]"
          ]
        },
        {
          "output_type": "stream",
          "name": "stdout",
          "text": [
            "Validation F1: 0.9665\n",
            "\n",
            "Start of epoch 126\n",
            "Training loss: 0.0322\n",
            "Training metric: 0.9010\n",
            "perturbation loss: 0.7567\n"
          ]
        },
        {
          "output_type": "stream",
          "name": "stderr",
          "text": [
            "\r 13%|█▎        | 127/1000 [02:53<18:12,  1.25s/it]"
          ]
        },
        {
          "output_type": "stream",
          "name": "stdout",
          "text": [
            "Validation acc: 0.9200\n",
            "Validation F1: 0.9213\n",
            "\n",
            "Start of epoch 127\n",
            "Training loss: 0.0244\n",
            "Training metric: 0.9017\n",
            "perturbation loss: 0.6827\n"
          ]
        },
        {
          "output_type": "stream",
          "name": "stderr",
          "text": [
            "\r 13%|█▎        | 128/1000 [02:55<19:56,  1.37s/it]"
          ]
        },
        {
          "output_type": "stream",
          "name": "stdout",
          "text": [
            "Validation acc: 0.9533\n",
            "Validation F1: 0.9521\n",
            "\n",
            "Start of epoch 128\n",
            "Training loss: 0.0046\n",
            "Training metric: 0.9025\n",
            "perturbation loss: 0.1253\n"
          ]
        },
        {
          "output_type": "stream",
          "name": "stderr",
          "text": [
            "\r 13%|█▎        | 129/1000 [02:56<21:06,  1.45s/it]"
          ]
        },
        {
          "output_type": "stream",
          "name": "stdout",
          "text": [
            "Validation acc: 0.9267\n",
            "Validation F1: 0.9255\n",
            "\n",
            "Start of epoch 129\n",
            "Training loss: 0.0163\n",
            "Training metric: 0.9032\n",
            "perturbation loss: 0.5487\n",
            "Validation acc: 0.9800\n",
            "Validation F1: 0.9799\n"
          ]
        },
        {
          "output_type": "stream",
          "name": "stderr",
          "text": [
            "\r 13%|█▎        | 130/1000 [02:57<20:22,  1.41s/it]"
          ]
        },
        {
          "output_type": "stream",
          "name": "stdout",
          "text": [
            "\n",
            "Start of epoch 130\n",
            "Training loss: 0.0094\n",
            "Training metric: 0.9039\n",
            "perturbation loss: 0.3226\n",
            "Validation acc: 0.9467\n",
            "Validation F1: 0.9469\n"
          ]
        },
        {
          "output_type": "stream",
          "name": "stderr",
          "text": [
            "\r 13%|█▎        | 131/1000 [02:59<19:20,  1.34s/it]"
          ]
        },
        {
          "output_type": "stream",
          "name": "stdout",
          "text": [
            "\n",
            "Start of epoch 131\n",
            "Training loss: 0.0064\n",
            "Training metric: 0.9046\n",
            "perturbation loss: 0.1917\n",
            "Validation acc: 0.9133\n"
          ]
        },
        {
          "output_type": "stream",
          "name": "stderr",
          "text": [
            "\r 13%|█▎        | 132/1000 [03:00<18:41,  1.29s/it]"
          ]
        },
        {
          "output_type": "stream",
          "name": "stdout",
          "text": [
            "Validation F1: 0.9122\n",
            "\n",
            "Start of epoch 132\n",
            "Training loss: 0.0026\n",
            "Training metric: 0.9054\n",
            "perturbation loss: 0.0825\n",
            "Validation acc: 0.8933\n"
          ]
        },
        {
          "output_type": "stream",
          "name": "stderr",
          "text": [
            "\r 13%|█▎        | 133/1000 [03:01<18:14,  1.26s/it]"
          ]
        },
        {
          "output_type": "stream",
          "name": "stdout",
          "text": [
            "Validation F1: 0.8857\n",
            "\n",
            "Start of epoch 133\n",
            "Training loss: 0.0026\n",
            "Training metric: 0.9061\n",
            "perturbation loss: 0.0736\n"
          ]
        },
        {
          "output_type": "stream",
          "name": "stderr",
          "text": [
            "\r 13%|█▎        | 134/1000 [03:02<17:54,  1.24s/it]"
          ]
        },
        {
          "output_type": "stream",
          "name": "stdout",
          "text": [
            "Validation acc: 0.9733\n",
            "Validation F1: 0.9733\n",
            "\n",
            "Start of epoch 134\n"
          ]
        },
        {
          "output_type": "stream",
          "name": "stderr",
          "text": [
            "\r 14%|█▎        | 135/1000 [03:03<17:39,  1.22s/it]"
          ]
        },
        {
          "output_type": "stream",
          "name": "stdout",
          "text": [
            "Training loss: 0.0033\n",
            "Training metric: 0.9068\n",
            "perturbation loss: 0.0882\n",
            "Validation acc: 0.8600\n",
            "Validation F1: 0.8570\n",
            "\n",
            "Start of epoch 135\n",
            "Training loss: 0.0074\n",
            "Training metric: 0.9074\n",
            "perturbation loss: 0.1471\n",
            "Validation acc: 0.9533\n",
            "Validation F1: 0.9535\n"
          ]
        },
        {
          "output_type": "stream",
          "name": "stderr",
          "text": [
            "\r 14%|█▎        | 136/1000 [03:05<17:34,  1.22s/it]"
          ]
        },
        {
          "output_type": "stream",
          "name": "stdout",
          "text": [
            "\n",
            "Start of epoch 136\n"
          ]
        },
        {
          "output_type": "stream",
          "name": "stderr",
          "text": [
            "\r 14%|█▎        | 137/1000 [03:06<17:25,  1.21s/it]"
          ]
        },
        {
          "output_type": "stream",
          "name": "stdout",
          "text": [
            "Training loss: 0.0020\n",
            "Training metric: 0.9081\n",
            "perturbation loss: 0.0368\n",
            "Validation acc: 0.9467\n",
            "Validation F1: 0.9463\n",
            "\n",
            "Start of epoch 137\n",
            "Training loss: 0.0023\n",
            "Training metric: 0.9088\n",
            "perturbation loss: 0.0763\n"
          ]
        },
        {
          "output_type": "stream",
          "name": "stderr",
          "text": [
            "\r 14%|█▍        | 138/1000 [03:07<19:29,  1.36s/it]"
          ]
        },
        {
          "output_type": "stream",
          "name": "stdout",
          "text": [
            "Validation acc: 0.9867\n",
            "Validation F1: 0.9865\n",
            "\n",
            "Start of epoch 138\n",
            "Training loss: 0.0019\n",
            "Training metric: 0.9094\n",
            "perturbation loss: 0.0738\n"
          ]
        },
        {
          "output_type": "stream",
          "name": "stderr",
          "text": [
            "\r 14%|█▍        | 139/1000 [03:09<20:18,  1.42s/it]"
          ]
        },
        {
          "output_type": "stream",
          "name": "stdout",
          "text": [
            "Validation acc: 0.9800\n",
            "Validation F1: 0.9800\n",
            "\n",
            "Start of epoch 139\n",
            "Training loss: 0.0013\n",
            "Training metric: 0.9101\n",
            "perturbation loss: 0.0485\n"
          ]
        },
        {
          "output_type": "stream",
          "name": "stderr",
          "text": [
            "\r 14%|█▍        | 140/1000 [03:11<20:44,  1.45s/it]"
          ]
        },
        {
          "output_type": "stream",
          "name": "stdout",
          "text": [
            "Validation acc: 0.9600\n",
            "Validation F1: 0.9594\n",
            "\n",
            "Start of epoch 140\n",
            "Training loss: 0.0610\n",
            "Training metric: 0.9107\n",
            "perturbation loss: 0.7620\n",
            "Validation acc: 0.9667\n",
            "Validation F1: 0.9668\n"
          ]
        },
        {
          "output_type": "stream",
          "name": "stderr",
          "text": [
            "\r 14%|█▍        | 141/1000 [03:12<19:35,  1.37s/it]"
          ]
        },
        {
          "output_type": "stream",
          "name": "stdout",
          "text": [
            "\n",
            "Start of epoch 141\n",
            "Training loss: 0.1401\n",
            "Training metric: 0.9113\n",
            "perturbation loss: 0.4009\n",
            "Validation acc: 0.8267\n"
          ]
        },
        {
          "output_type": "stream",
          "name": "stderr",
          "text": [
            "\r 14%|█▍        | 142/1000 [03:13<18:47,  1.31s/it]"
          ]
        },
        {
          "output_type": "stream",
          "name": "stdout",
          "text": [
            "Validation F1: 0.8303\n",
            "\n",
            "Start of epoch 142\n",
            "Training loss: 0.0031\n",
            "Training metric: 0.9119\n",
            "perturbation loss: 0.0855\n"
          ]
        },
        {
          "output_type": "stream",
          "name": "stderr",
          "text": [
            "\r 14%|█▍        | 143/1000 [03:14<18:43,  1.31s/it]"
          ]
        },
        {
          "output_type": "stream",
          "name": "stdout",
          "text": [
            "Validation acc: 0.8667\n",
            "Validation F1: 0.8570\n",
            "\n",
            "Start of epoch 143\n",
            "Training loss: 0.0031\n",
            "Training metric: 0.9125\n",
            "perturbation loss: 0.1150\n",
            "Validation acc: 0.9600\n",
            "Validation F1: 0.9602\n"
          ]
        },
        {
          "output_type": "stream",
          "name": "stderr",
          "text": [
            "\r 14%|█▍        | 144/1000 [03:15<18:07,  1.27s/it]"
          ]
        },
        {
          "output_type": "stream",
          "name": "stdout",
          "text": [
            "\n",
            "Start of epoch 144\n",
            "Training loss: 0.0161\n",
            "Training metric: 0.9131\n",
            "perturbation loss: 0.4269\n"
          ]
        },
        {
          "output_type": "stream",
          "name": "stderr",
          "text": [
            "\r 14%|█▍        | 145/1000 [03:17<17:51,  1.25s/it]"
          ]
        },
        {
          "output_type": "stream",
          "name": "stdout",
          "text": [
            "Validation acc: 0.8800\n",
            "Validation F1: 0.8766\n",
            "\n",
            "Start of epoch 145\n",
            "Training loss: 0.0040\n",
            "Training metric: 0.9137\n",
            "perturbation loss: 0.1544\n",
            "Validation acc: 0.8333\n"
          ]
        },
        {
          "output_type": "stream",
          "name": "stderr",
          "text": [
            "\r 15%|█▍        | 146/1000 [03:18<17:30,  1.23s/it]"
          ]
        },
        {
          "output_type": "stream",
          "name": "stdout",
          "text": [
            "Validation F1: 0.8096\n",
            "\n",
            "Start of epoch 146\n",
            "Training loss: 0.0015\n",
            "Training metric: 0.9142\n",
            "perturbation loss: 0.0392\n",
            "Validation acc: 0.8667\n"
          ]
        },
        {
          "output_type": "stream",
          "name": "stderr",
          "text": [
            "\r 15%|█▍        | 147/1000 [03:19<17:22,  1.22s/it]"
          ]
        },
        {
          "output_type": "stream",
          "name": "stdout",
          "text": [
            "Validation F1: 0.8707\n",
            "\n",
            "Start of epoch 147\n",
            "Training loss: 0.0040\n",
            "Training metric: 0.9148\n",
            "perturbation loss: 0.1395\n",
            "Validation acc: 0.9467\n"
          ]
        },
        {
          "output_type": "stream",
          "name": "stderr",
          "text": [
            "\r 15%|█▍        | 148/1000 [03:20<17:15,  1.22s/it]"
          ]
        },
        {
          "output_type": "stream",
          "name": "stdout",
          "text": [
            "Validation F1: 0.9437\n",
            "\n",
            "Start of epoch 148\n",
            "Training loss: 0.0348\n",
            "Training metric: 0.9154\n",
            "perturbation loss: 1.5390\n"
          ]
        },
        {
          "output_type": "stream",
          "name": "stderr",
          "text": [
            "\r 15%|█▍        | 149/1000 [03:22<18:41,  1.32s/it]"
          ]
        },
        {
          "output_type": "stream",
          "name": "stdout",
          "text": [
            "Validation acc: 0.9867\n",
            "Validation F1: 0.9867\n",
            "\n",
            "Start of epoch 149\n",
            "Training loss: 0.0056\n",
            "Training metric: 0.9159\n",
            "perturbation loss: 0.1681\n"
          ]
        },
        {
          "output_type": "stream",
          "name": "stderr",
          "text": [
            "\r 15%|█▌        | 150/1000 [03:23<19:48,  1.40s/it]"
          ]
        },
        {
          "output_type": "stream",
          "name": "stdout",
          "text": [
            "Validation acc: 0.9000\n",
            "Validation F1: 0.9018\n",
            "\n",
            "Start of epoch 150\n",
            "Training loss: 0.0093\n",
            "Training metric: 0.9165\n",
            "perturbation loss: 0.2331\n"
          ]
        },
        {
          "output_type": "stream",
          "name": "stderr",
          "text": [
            "\r 15%|█▌        | 151/1000 [03:25<19:48,  1.40s/it]"
          ]
        },
        {
          "output_type": "stream",
          "name": "stdout",
          "text": [
            "Validation acc: 0.9400\n",
            "Validation F1: 0.9407\n",
            "\n",
            "Start of epoch 151\n",
            "Training loss: 0.0051\n",
            "Training metric: 0.9171\n",
            "perturbation loss: 0.0986\n"
          ]
        },
        {
          "output_type": "stream",
          "name": "stderr",
          "text": [
            "\r 15%|█▌        | 152/1000 [03:26<18:59,  1.34s/it]"
          ]
        },
        {
          "output_type": "stream",
          "name": "stdout",
          "text": [
            "Validation acc: 0.9800\n",
            "Validation F1: 0.9800\n",
            "\n",
            "Start of epoch 152\n",
            "Training loss: 0.0061\n",
            "Training metric: 0.9176\n",
            "perturbation loss: 0.2775\n",
            "Validation acc: 0.9733\n"
          ]
        },
        {
          "output_type": "stream",
          "name": "stderr",
          "text": [
            "\r 15%|█▌        | 153/1000 [03:27<18:20,  1.30s/it]"
          ]
        },
        {
          "output_type": "stream",
          "name": "stdout",
          "text": [
            "Validation F1: 0.9732\n",
            "\n",
            "Start of epoch 153\n"
          ]
        },
        {
          "output_type": "stream",
          "name": "stderr",
          "text": [
            "\r 15%|█▌        | 154/1000 [03:28<17:48,  1.26s/it]"
          ]
        },
        {
          "output_type": "stream",
          "name": "stdout",
          "text": [
            "Training loss: 0.0015\n",
            "Training metric: 0.9181\n",
            "perturbation loss: 0.0449\n",
            "Validation acc: 0.9733\n",
            "Validation F1: 0.9733\n",
            "\n",
            "Start of epoch 154\n",
            "Training loss: 0.0015\n",
            "Training metric: 0.9187\n",
            "perturbation loss: 0.0277\n",
            "Validation acc: 0.9933\n"
          ]
        },
        {
          "output_type": "stream",
          "name": "stderr",
          "text": [
            "\r 16%|█▌        | 155/1000 [03:30<17:35,  1.25s/it]"
          ]
        },
        {
          "output_type": "stream",
          "name": "stdout",
          "text": [
            "Validation F1: 0.9933\n",
            "\n",
            "Start of epoch 155\n",
            "Training loss: 0.0040\n",
            "Training metric: 0.9192\n",
            "perturbation loss: 0.1180\n",
            "Validation acc: 0.9733\n",
            "Validation F1: 0.9731\n"
          ]
        },
        {
          "output_type": "stream",
          "name": "stderr",
          "text": [
            "\r 16%|█▌        | 156/1000 [03:31<17:18,  1.23s/it]"
          ]
        },
        {
          "output_type": "stream",
          "name": "stdout",
          "text": [
            "\n",
            "Start of epoch 156\n",
            "Training loss: 0.0183\n",
            "Training metric: 0.9197\n",
            "perturbation loss: 0.3769\n"
          ]
        },
        {
          "output_type": "stream",
          "name": "stderr",
          "text": [
            "\r 16%|█▌        | 157/1000 [03:32<17:15,  1.23s/it]"
          ]
        },
        {
          "output_type": "stream",
          "name": "stdout",
          "text": [
            "Validation acc: 0.9800\n",
            "Validation F1: 0.9800\n",
            "\n",
            "Start of epoch 157\n",
            "Training loss: 0.0094\n",
            "Training metric: 0.9202\n",
            "perturbation loss: 0.2937\n"
          ]
        },
        {
          "output_type": "stream",
          "name": "stderr",
          "text": [
            "\r 16%|█▌        | 158/1000 [03:33<17:03,  1.22s/it]"
          ]
        },
        {
          "output_type": "stream",
          "name": "stdout",
          "text": [
            "Validation acc: 0.9733\n",
            "Validation F1: 0.9733\n",
            "\n",
            "Start of epoch 158\n",
            "Training loss: 0.0047\n",
            "Training metric: 0.9207\n",
            "perturbation loss: 0.0654\n"
          ]
        },
        {
          "output_type": "stream",
          "name": "stderr",
          "text": [
            "\r 16%|█▌        | 159/1000 [03:34<17:13,  1.23s/it]"
          ]
        },
        {
          "output_type": "stream",
          "name": "stdout",
          "text": [
            "Validation acc: 0.9733\n",
            "Validation F1: 0.9735\n",
            "\n",
            "Start of epoch 159\n",
            "Training loss: 0.0011\n",
            "Training metric: 0.9212\n",
            "perturbation loss: 0.0361\n"
          ]
        },
        {
          "output_type": "stream",
          "name": "stderr",
          "text": [
            "\r 16%|█▌        | 160/1000 [03:36<18:52,  1.35s/it]"
          ]
        },
        {
          "output_type": "stream",
          "name": "stdout",
          "text": [
            "Validation acc: 0.9933\n",
            "Validation F1: 0.9933\n",
            "\n",
            "Start of epoch 160\n",
            "Training loss: 0.0039\n",
            "Training metric: 0.9217\n",
            "perturbation loss: 0.0903\n"
          ]
        },
        {
          "output_type": "stream",
          "name": "stderr",
          "text": [
            "\r 16%|█▌        | 161/1000 [03:38<20:07,  1.44s/it]"
          ]
        },
        {
          "output_type": "stream",
          "name": "stdout",
          "text": [
            "Validation acc: 0.9867\n",
            "Validation F1: 0.9868\n",
            "\n",
            "Start of epoch 161\n"
          ]
        },
        {
          "output_type": "stream",
          "name": "stderr",
          "text": [
            "\r 16%|█▌        | 162/1000 [03:39<19:30,  1.40s/it]"
          ]
        },
        {
          "output_type": "stream",
          "name": "stdout",
          "text": [
            "Training loss: 0.0014\n",
            "Training metric: 0.9222\n",
            "perturbation loss: 0.0459\n",
            "Validation acc: 0.9733\n",
            "Validation F1: 0.9734\n",
            "\n",
            "Start of epoch 162\n"
          ]
        },
        {
          "output_type": "stream",
          "name": "stderr",
          "text": [
            "\r 16%|█▋        | 163/1000 [03:40<18:34,  1.33s/it]"
          ]
        },
        {
          "output_type": "stream",
          "name": "stdout",
          "text": [
            "Training loss: 0.0010\n",
            "Training metric: 0.9226\n",
            "perturbation loss: 0.0324\n",
            "Validation acc: 0.9933\n",
            "Validation F1: 0.9933\n",
            "\n",
            "Start of epoch 163\n",
            "Training loss: 0.0007\n",
            "Training metric: 0.9231\n",
            "perturbation loss: 0.0189\n",
            "Validation acc: 0.9800\n",
            "Validation F1: 0.9799\n"
          ]
        },
        {
          "output_type": "stream",
          "name": "stderr",
          "text": [
            "\r 16%|█▋        | 164/1000 [03:41<17:57,  1.29s/it]"
          ]
        },
        {
          "output_type": "stream",
          "name": "stdout",
          "text": [
            "\n",
            "Start of epoch 164\n"
          ]
        },
        {
          "output_type": "stream",
          "name": "stderr",
          "text": [
            "\r 16%|█▋        | 165/1000 [03:43<17:26,  1.25s/it]"
          ]
        },
        {
          "output_type": "stream",
          "name": "stdout",
          "text": [
            "Training loss: 0.0075\n",
            "Training metric: 0.9236\n",
            "perturbation loss: 0.3387\n",
            "Validation acc: 0.9600\n",
            "Validation F1: 0.9605\n",
            "\n",
            "Start of epoch 165\n",
            "Training loss: 0.0019\n",
            "Training metric: 0.9240\n",
            "perturbation loss: 0.0856\n",
            "Validation acc: 0.9533\n",
            "Validation F1: 0.9520\n"
          ]
        },
        {
          "output_type": "stream",
          "name": "stderr",
          "text": [
            "\r 17%|█▋        | 166/1000 [03:44<17:09,  1.23s/it]"
          ]
        },
        {
          "output_type": "stream",
          "name": "stdout",
          "text": [
            "\n",
            "Start of epoch 166\n",
            "Training loss: 0.0014\n",
            "Training metric: 0.9245\n",
            "perturbation loss: 0.0606\n"
          ]
        },
        {
          "output_type": "stream",
          "name": "stderr",
          "text": [
            "\r 17%|█▋        | 167/1000 [03:45<17:02,  1.23s/it]"
          ]
        },
        {
          "output_type": "stream",
          "name": "stdout",
          "text": [
            "Validation acc: 0.9867\n",
            "Validation F1: 0.9867\n",
            "\n",
            "Start of epoch 167\n",
            "Training loss: 0.0008\n",
            "Training metric: 0.9249\n",
            "perturbation loss: 0.0209\n",
            "Validation acc: 0.9600\n",
            "Validation F1: 0.9603\n"
          ]
        },
        {
          "output_type": "stream",
          "name": "stderr",
          "text": [
            "\r 17%|█▋        | 168/1000 [03:46<16:50,  1.21s/it]"
          ]
        },
        {
          "output_type": "stream",
          "name": "stdout",
          "text": [
            "\n",
            "Start of epoch 168\n",
            "Training loss: 0.0061\n",
            "Training metric: 0.9254\n",
            "perturbation loss: 0.1610\n",
            "Validation acc: 0.9467\n"
          ]
        },
        {
          "output_type": "stream",
          "name": "stderr",
          "text": [
            "\r 17%|█▋        | 169/1000 [03:47<16:46,  1.21s/it]"
          ]
        },
        {
          "output_type": "stream",
          "name": "stdout",
          "text": [
            "Validation F1: 0.9467\n",
            "\n",
            "Start of epoch 169\n",
            "Training loss: 0.0224\n",
            "Training metric: 0.9258\n",
            "perturbation loss: 0.4617\n"
          ]
        },
        {
          "output_type": "stream",
          "name": "stderr",
          "text": [
            "\r 17%|█▋        | 170/1000 [03:49<17:11,  1.24s/it]"
          ]
        },
        {
          "output_type": "stream",
          "name": "stdout",
          "text": [
            "Validation acc: 0.9467\n",
            "Validation F1: 0.9473\n",
            "\n",
            "Start of epoch 170\n",
            "Training loss: 0.0053\n",
            "Training metric: 0.9262\n",
            "perturbation loss: 0.1682\n"
          ]
        },
        {
          "output_type": "stream",
          "name": "stderr",
          "text": [
            "\r 17%|█▋        | 171/1000 [03:50<18:26,  1.33s/it]"
          ]
        },
        {
          "output_type": "stream",
          "name": "stdout",
          "text": [
            "Validation acc: 0.9600\n",
            "Validation F1: 0.9600\n",
            "\n",
            "Start of epoch 171\n",
            "Training loss: 0.0100\n",
            "Training metric: 0.9266\n",
            "perturbation loss: 0.4054\n"
          ]
        },
        {
          "output_type": "stream",
          "name": "stderr",
          "text": [
            "\r 17%|█▋        | 172/1000 [03:52<19:26,  1.41s/it]"
          ]
        },
        {
          "output_type": "stream",
          "name": "stdout",
          "text": [
            "Validation acc: 0.9533\n",
            "Validation F1: 0.9535\n",
            "\n",
            "Start of epoch 172\n",
            "Training loss: 0.0014\n",
            "Training metric: 0.9271\n",
            "perturbation loss: 0.0407\n"
          ]
        },
        {
          "output_type": "stream",
          "name": "stderr",
          "text": [
            "\r 17%|█▋        | 173/1000 [03:53<19:24,  1.41s/it]"
          ]
        },
        {
          "output_type": "stream",
          "name": "stdout",
          "text": [
            "Validation acc: 0.9600\n",
            "Validation F1: 0.9595\n",
            "\n",
            "Start of epoch 173\n",
            "Training loss: 0.0009\n",
            "Training metric: 0.9275\n",
            "perturbation loss: 0.0201\n",
            "Validation acc: 0.9667\n"
          ]
        },
        {
          "output_type": "stream",
          "name": "stderr",
          "text": [
            "\r 17%|█▋        | 174/1000 [03:54<18:31,  1.35s/it]"
          ]
        },
        {
          "output_type": "stream",
          "name": "stdout",
          "text": [
            "Validation F1: 0.9665\n",
            "\n",
            "Start of epoch 174\n"
          ]
        },
        {
          "output_type": "stream",
          "name": "stderr",
          "text": [
            "\r 18%|█▊        | 175/1000 [03:56<17:50,  1.30s/it]"
          ]
        },
        {
          "output_type": "stream",
          "name": "stdout",
          "text": [
            "Training loss: 0.0008\n",
            "Training metric: 0.9279\n",
            "perturbation loss: 0.0238\n",
            "Validation acc: 0.9667\n",
            "Validation F1: 0.9672\n",
            "\n",
            "Start of epoch 175\n",
            "Training loss: 0.0005\n",
            "Training metric: 0.9283\n",
            "perturbation loss: 0.0112\n"
          ]
        },
        {
          "output_type": "stream",
          "name": "stderr",
          "text": [
            "\r 18%|█▊        | 176/1000 [03:57<17:52,  1.30s/it]"
          ]
        },
        {
          "output_type": "stream",
          "name": "stdout",
          "text": [
            "Validation acc: 0.9733\n",
            "Validation F1: 0.9728\n",
            "\n",
            "Start of epoch 176\n",
            "Training loss: 0.0007\n",
            "Training metric: 0.9287\n",
            "perturbation loss: 0.0149\n"
          ]
        },
        {
          "output_type": "stream",
          "name": "stderr",
          "text": [
            "\r 18%|█▊        | 177/1000 [03:58<17:53,  1.30s/it]"
          ]
        },
        {
          "output_type": "stream",
          "name": "stdout",
          "text": [
            "Validation acc: 0.9867\n",
            "Validation F1: 0.9867\n",
            "\n",
            "Start of epoch 177\n",
            "Training loss: 0.0073\n",
            "Training metric: 0.9291\n",
            "perturbation loss: 0.2873\n"
          ]
        },
        {
          "output_type": "stream",
          "name": "stderr",
          "text": [
            "\r 18%|█▊        | 178/1000 [03:59<17:25,  1.27s/it]"
          ]
        },
        {
          "output_type": "stream",
          "name": "stdout",
          "text": [
            "Validation acc: 0.9333\n",
            "Validation F1: 0.9290\n",
            "\n",
            "Start of epoch 178\n",
            "Training loss: 0.0183\n",
            "Training metric: 0.9295\n",
            "perturbation loss: 0.8753\n",
            "Validation acc: 0.9667\n",
            "Validation F1: 0.9670\n"
          ]
        },
        {
          "output_type": "stream",
          "name": "stderr",
          "text": [
            "\r 18%|█▊        | 179/1000 [04:01<17:01,  1.24s/it]"
          ]
        },
        {
          "output_type": "stream",
          "name": "stdout",
          "text": [
            "\n",
            "Start of epoch 179\n",
            "Training loss: 0.0004\n",
            "Training metric: 0.9299\n",
            "perturbation loss: 0.0091\n"
          ]
        },
        {
          "output_type": "stream",
          "name": "stderr",
          "text": [
            "\r 18%|█▊        | 180/1000 [04:02<16:49,  1.23s/it]"
          ]
        },
        {
          "output_type": "stream",
          "name": "stdout",
          "text": [
            "Validation acc: 0.8667\n",
            "Validation F1: 0.8615\n",
            "\n",
            "Start of epoch 180\n",
            "Training loss: 0.0038\n",
            "Training metric: 0.9303\n",
            "perturbation loss: 0.1621\n"
          ]
        },
        {
          "output_type": "stream",
          "name": "stderr",
          "text": [
            "\r 18%|█▊        | 181/1000 [04:03<17:40,  1.29s/it]"
          ]
        },
        {
          "output_type": "stream",
          "name": "stdout",
          "text": [
            "Validation acc: 0.9533\n",
            "Validation F1: 0.9512\n",
            "\n",
            "Start of epoch 181\n",
            "Training loss: 0.0040\n",
            "Training metric: 0.9307\n",
            "perturbation loss: 0.1429\n"
          ]
        },
        {
          "output_type": "stream",
          "name": "stderr",
          "text": [
            "\r 18%|█▊        | 182/1000 [04:05<19:00,  1.39s/it]"
          ]
        },
        {
          "output_type": "stream",
          "name": "stdout",
          "text": [
            "Validation acc: 0.9133\n",
            "Validation F1: 0.9167\n",
            "\n",
            "Start of epoch 182\n"
          ]
        },
        {
          "output_type": "stream",
          "name": "stderr",
          "text": [
            "\r 18%|█▊        | 183/1000 [04:06<19:11,  1.41s/it]"
          ]
        },
        {
          "output_type": "stream",
          "name": "stdout",
          "text": [
            "Training loss: 0.0203\n",
            "Training metric: 0.9310\n",
            "perturbation loss: 0.4008\n",
            "Validation acc: 0.9200\n",
            "Validation F1: 0.9242\n",
            "\n",
            "Start of epoch 183\n",
            "Training loss: 0.0028\n",
            "Training metric: 0.9314\n",
            "perturbation loss: 0.0847\n"
          ]
        },
        {
          "output_type": "stream",
          "name": "stderr",
          "text": [
            "\r 18%|█▊        | 184/1000 [04:07<18:25,  1.36s/it]"
          ]
        },
        {
          "output_type": "stream",
          "name": "stdout",
          "text": [
            "Validation acc: 0.9733\n",
            "Validation F1: 0.9733\n",
            "\n",
            "Start of epoch 184\n",
            "Training loss: 0.0005\n",
            "Training metric: 0.9318\n",
            "perturbation loss: 0.0099\n",
            "Validation acc: 0.9400\n",
            "Validation F1: 0.9379\n"
          ]
        },
        {
          "output_type": "stream",
          "name": "stderr",
          "text": [
            "\r 18%|█▊        | 185/1000 [04:09<17:42,  1.30s/it]"
          ]
        },
        {
          "output_type": "stream",
          "name": "stdout",
          "text": [
            "\n",
            "Start of epoch 185\n",
            "Training loss: 0.0047\n",
            "Training metric: 0.9321\n",
            "perturbation loss: 0.1365\n"
          ]
        },
        {
          "output_type": "stream",
          "name": "stderr",
          "text": [
            "\r 19%|█▊        | 186/1000 [04:10<17:17,  1.27s/it]"
          ]
        },
        {
          "output_type": "stream",
          "name": "stdout",
          "text": [
            "Validation acc: 0.9533\n",
            "Validation F1: 0.9522\n",
            "\n",
            "Start of epoch 186\n",
            "Training loss: 0.0009\n",
            "Training metric: 0.9325\n",
            "perturbation loss: 0.0343\n"
          ]
        },
        {
          "output_type": "stream",
          "name": "stderr",
          "text": [
            "\r 19%|█▊        | 187/1000 [04:11<16:58,  1.25s/it]"
          ]
        },
        {
          "output_type": "stream",
          "name": "stdout",
          "text": [
            "Validation acc: 0.9800\n",
            "Validation F1: 0.9797\n",
            "\n",
            "Start of epoch 187\n",
            "Training loss: 0.0007\n",
            "Training metric: 0.9329\n",
            "perturbation loss: 0.0180\n",
            "Validation acc: 0.9800\n"
          ]
        },
        {
          "output_type": "stream",
          "name": "stderr",
          "text": [
            "\r 19%|█▉        | 188/1000 [04:12<16:38,  1.23s/it]"
          ]
        },
        {
          "output_type": "stream",
          "name": "stdout",
          "text": [
            "Validation F1: 0.9802\n",
            "\n",
            "Start of epoch 188\n"
          ]
        },
        {
          "output_type": "stream",
          "name": "stderr",
          "text": [
            "\r 19%|█▉        | 189/1000 [04:13<16:26,  1.22s/it]"
          ]
        },
        {
          "output_type": "stream",
          "name": "stdout",
          "text": [
            "Training loss: 0.0005\n",
            "Training metric: 0.9332\n",
            "perturbation loss: 0.0161\n",
            "Validation acc: 0.9933\n",
            "Validation F1: 0.9933\n",
            "\n",
            "Start of epoch 189\n"
          ]
        },
        {
          "output_type": "stream",
          "name": "stderr",
          "text": [
            "\r 19%|█▉        | 190/1000 [04:15<16:13,  1.20s/it]"
          ]
        },
        {
          "output_type": "stream",
          "name": "stdout",
          "text": [
            "Training loss: 0.0004\n",
            "Training metric: 0.9336\n",
            "perturbation loss: 0.0087\n",
            "Validation acc: 0.9867\n",
            "Validation F1: 0.9868\n",
            "\n",
            "Start of epoch 190\n",
            "Training loss: 0.0002\n",
            "Training metric: 0.9339\n",
            "perturbation loss: 0.0051\n"
          ]
        },
        {
          "output_type": "stream",
          "name": "stderr",
          "text": [
            "\r 19%|█▉        | 191/1000 [04:16<16:07,  1.20s/it]"
          ]
        },
        {
          "output_type": "stream",
          "name": "stdout",
          "text": [
            "Validation acc: 0.9733\n",
            "Validation F1: 0.9731\n",
            "\n",
            "Start of epoch 191\n",
            "Training loss: 0.0005\n",
            "Training metric: 0.9343\n",
            "perturbation loss: 0.0154\n"
          ]
        },
        {
          "output_type": "stream",
          "name": "stderr",
          "text": [
            "\r 19%|█▉        | 192/1000 [04:17<17:24,  1.29s/it]"
          ]
        },
        {
          "output_type": "stream",
          "name": "stdout",
          "text": [
            "Validation acc: 0.9267\n",
            "Validation F1: 0.9265\n",
            "\n",
            "Start of epoch 192\n",
            "Training loss: 0.0184\n",
            "Training metric: 0.9346\n",
            "perturbation loss: 0.8638\n"
          ]
        },
        {
          "output_type": "stream",
          "name": "stderr",
          "text": [
            "\r 19%|█▉        | 193/1000 [04:19<18:36,  1.38s/it]"
          ]
        },
        {
          "output_type": "stream",
          "name": "stdout",
          "text": [
            "Validation acc: 0.9733\n",
            "Validation F1: 0.9733\n",
            "\n",
            "Start of epoch 193\n"
          ]
        },
        {
          "output_type": "stream",
          "name": "stderr",
          "text": [
            "\r 19%|█▉        | 194/1000 [04:20<18:39,  1.39s/it]"
          ]
        },
        {
          "output_type": "stream",
          "name": "stdout",
          "text": [
            "Training loss: 0.0011\n",
            "Training metric: 0.9349\n",
            "perturbation loss: 0.0289\n",
            "Validation acc: 0.9000\n",
            "Validation F1: 0.9061\n",
            "\n",
            "Start of epoch 194\n",
            "Training loss: 0.0134\n",
            "Training metric: 0.9352\n",
            "perturbation loss: 0.5159\n",
            "Validation acc: 0.9267\n",
            "Validation F1: 0.9255\n"
          ]
        },
        {
          "output_type": "stream",
          "name": "stderr",
          "text": [
            "\r 20%|█▉        | 195/1000 [04:22<17:54,  1.33s/it]"
          ]
        },
        {
          "output_type": "stream",
          "name": "stdout",
          "text": [
            "\n",
            "Start of epoch 195\n",
            "Training loss: 0.0031\n",
            "Training metric: 0.9355\n",
            "perturbation loss: 0.1169\n",
            "Validation acc: 0.9200\n",
            "Validation F1: 0.9206\n"
          ]
        },
        {
          "output_type": "stream",
          "name": "stderr",
          "text": [
            "\r 20%|█▉        | 196/1000 [04:23<17:16,  1.29s/it]"
          ]
        },
        {
          "output_type": "stream",
          "name": "stdout",
          "text": [
            "\n",
            "Start of epoch 196\n"
          ]
        },
        {
          "output_type": "stream",
          "name": "stderr",
          "text": [
            "\r 20%|█▉        | 197/1000 [04:24<16:49,  1.26s/it]"
          ]
        },
        {
          "output_type": "stream",
          "name": "stdout",
          "text": [
            "Training loss: 0.0014\n",
            "Training metric: 0.9359\n",
            "perturbation loss: 0.0117\n",
            "Validation acc: 0.9667\n",
            "Validation F1: 0.9665\n",
            "\n",
            "Start of epoch 197\n",
            "Training loss: 0.0006\n",
            "Training metric: 0.9362\n",
            "perturbation loss: 0.0136\n"
          ]
        },
        {
          "output_type": "stream",
          "name": "stderr",
          "text": [
            "\r 20%|█▉        | 198/1000 [04:25<16:37,  1.24s/it]"
          ]
        },
        {
          "output_type": "stream",
          "name": "stdout",
          "text": [
            "Validation acc: 0.9800\n",
            "Validation F1: 0.9799\n",
            "\n",
            "Start of epoch 198\n",
            "Training loss: 0.0010\n",
            "Training metric: 0.9365\n",
            "perturbation loss: 0.0310\n",
            "Validation acc: 0.9867\n",
            "Validation F1: 0.9867\n"
          ]
        },
        {
          "output_type": "stream",
          "name": "stderr",
          "text": [
            "\r 20%|█▉        | 199/1000 [04:26<16:20,  1.22s/it]"
          ]
        },
        {
          "output_type": "stream",
          "name": "stdout",
          "text": [
            "\n",
            "Start of epoch 199\n"
          ]
        },
        {
          "output_type": "stream",
          "name": "stderr",
          "text": [
            "\r 20%|██        | 200/1000 [04:27<16:11,  1.21s/it]"
          ]
        },
        {
          "output_type": "stream",
          "name": "stdout",
          "text": [
            "Training loss: 0.0005\n",
            "Training metric: 0.9368\n",
            "perturbation loss: 0.0159\n",
            "Validation acc: 0.9867\n",
            "Validation F1: 0.9868\n",
            "\n",
            "Start of epoch 200\n",
            "Training loss: 0.0006\n",
            "Training metric: 0.9371\n",
            "perturbation loss: 0.0119\n"
          ]
        },
        {
          "output_type": "stream",
          "name": "stderr",
          "text": [
            "\r 20%|██        | 201/1000 [04:29<16:13,  1.22s/it]"
          ]
        },
        {
          "output_type": "stream",
          "name": "stdout",
          "text": [
            "Validation acc: 0.9933\n",
            "Validation F1: 0.9933\n",
            "\n",
            "Start of epoch 201\n",
            "Training loss: 0.0006\n",
            "Training metric: 0.9374\n",
            "perturbation loss: 0.0147\n"
          ]
        },
        {
          "output_type": "stream",
          "name": "stderr",
          "text": [
            "\r 20%|██        | 202/1000 [04:30<16:04,  1.21s/it]"
          ]
        },
        {
          "output_type": "stream",
          "name": "stdout",
          "text": [
            "Validation acc: 0.9800\n",
            "Validation F1: 0.9802\n",
            "\n",
            "Start of epoch 202\n",
            "Training loss: 0.0002\n",
            "Training metric: 0.9378\n",
            "perturbation loss: 0.0057\n"
          ]
        },
        {
          "output_type": "stream",
          "name": "stderr",
          "text": [
            "\r 20%|██        | 203/1000 [04:31<17:33,  1.32s/it]"
          ]
        },
        {
          "output_type": "stream",
          "name": "stdout",
          "text": [
            "Validation acc: 0.9867\n",
            "Validation F1: 0.9868\n",
            "\n",
            "Start of epoch 203\n",
            "Training loss: 0.0004\n",
            "Training metric: 0.9381\n",
            "perturbation loss: 0.0115\n"
          ]
        },
        {
          "output_type": "stream",
          "name": "stderr",
          "text": [
            "\r 20%|██        | 204/1000 [04:33<18:33,  1.40s/it]"
          ]
        },
        {
          "output_type": "stream",
          "name": "stdout",
          "text": [
            "Validation acc: 0.9800\n",
            "Validation F1: 0.9800\n",
            "\n",
            "Start of epoch 204\n",
            "Training loss: 0.0003\n",
            "Training metric: 0.9384\n",
            "perturbation loss: 0.0097\n",
            "Validation acc: 0.9667\n",
            "Validation F1: 0.9669\n"
          ]
        },
        {
          "output_type": "stream",
          "name": "stderr",
          "text": [
            "\r 20%|██        | 205/1000 [04:34<18:23,  1.39s/it]"
          ]
        },
        {
          "output_type": "stream",
          "name": "stdout",
          "text": [
            "\n",
            "Start of epoch 205\n",
            "Training loss: 0.0003\n",
            "Training metric: 0.9387\n",
            "perturbation loss: 0.0128\n",
            "Validation acc: 0.9800\n",
            "Validation F1: 0.9800\n"
          ]
        },
        {
          "output_type": "stream",
          "name": "stderr",
          "text": [
            "\r 21%|██        | 206/1000 [04:36<17:30,  1.32s/it]"
          ]
        },
        {
          "output_type": "stream",
          "name": "stdout",
          "text": [
            "\n",
            "Start of epoch 206\n",
            "Training loss: 0.0022\n",
            "Training metric: 0.9390\n",
            "perturbation loss: 0.1054\n"
          ]
        },
        {
          "output_type": "stream",
          "name": "stderr",
          "text": [
            "\r 21%|██        | 207/1000 [04:37<16:58,  1.28s/it]"
          ]
        },
        {
          "output_type": "stream",
          "name": "stdout",
          "text": [
            "Validation acc: 0.9733\n",
            "Validation F1: 0.9737\n",
            "\n",
            "Start of epoch 207\n",
            "Training loss: 0.0087\n",
            "Training metric: 0.9392\n",
            "perturbation loss: 0.3444\n"
          ]
        },
        {
          "output_type": "stream",
          "name": "stderr",
          "text": [
            "\r 21%|██        | 208/1000 [04:38<16:42,  1.27s/it]"
          ]
        },
        {
          "output_type": "stream",
          "name": "stdout",
          "text": [
            "Validation acc: 0.9733\n",
            "Validation F1: 0.9733\n",
            "\n",
            "Start of epoch 208\n",
            "Training loss: 0.0063\n",
            "Training metric: 0.9395\n",
            "perturbation loss: 0.2033\n",
            "Validation acc: 0.9800\n",
            "Validation F1: 0.9800\n"
          ]
        },
        {
          "output_type": "stream",
          "name": "stderr",
          "text": [
            "\r 21%|██        | 209/1000 [04:39<16:29,  1.25s/it]"
          ]
        },
        {
          "output_type": "stream",
          "name": "stdout",
          "text": [
            "\n",
            "Start of epoch 209\n"
          ]
        },
        {
          "output_type": "stream",
          "name": "stderr",
          "text": [
            "\r 21%|██        | 210/1000 [04:40<16:08,  1.23s/it]"
          ]
        },
        {
          "output_type": "stream",
          "name": "stdout",
          "text": [
            "Training loss: 0.0006\n",
            "Training metric: 0.9398\n",
            "perturbation loss: 0.0209\n",
            "Validation acc: 0.9667\n",
            "Validation F1: 0.9656\n",
            "\n",
            "Start of epoch 210\n",
            "Training loss: 0.0002\n",
            "Training metric: 0.9401\n",
            "perturbation loss: 0.0076\n",
            "Validation acc: 0.9667\n",
            "Validation F1: 0.9663\n"
          ]
        },
        {
          "output_type": "stream",
          "name": "stderr",
          "text": [
            "\r 21%|██        | 211/1000 [04:42<15:58,  1.21s/it]"
          ]
        },
        {
          "output_type": "stream",
          "name": "stdout",
          "text": [
            "\n",
            "Start of epoch 211\n",
            "Training loss: 0.0002\n",
            "Training metric: 0.9404\n",
            "perturbation loss: 0.0075\n",
            "Validation acc: 0.9667\n",
            "Validation F1: 0.9663\n"
          ]
        },
        {
          "output_type": "stream",
          "name": "stderr",
          "text": [
            "\r 21%|██        | 212/1000 [04:43<15:59,  1.22s/it]"
          ]
        },
        {
          "output_type": "stream",
          "name": "stdout",
          "text": [
            "\n",
            "Start of epoch 212\n",
            "Training loss: 0.0003\n",
            "Training metric: 0.9407\n",
            "perturbation loss: 0.0159\n"
          ]
        },
        {
          "output_type": "stream",
          "name": "stderr",
          "text": [
            "\r 21%|██▏       | 213/1000 [04:44<16:23,  1.25s/it]"
          ]
        },
        {
          "output_type": "stream",
          "name": "stdout",
          "text": [
            "Validation acc: 0.9800\n",
            "Validation F1: 0.9797\n",
            "\n",
            "Start of epoch 213\n",
            "Training loss: 0.0009\n",
            "Training metric: 0.9409\n",
            "perturbation loss: 0.0324\n"
          ]
        },
        {
          "output_type": "stream",
          "name": "stderr",
          "text": [
            "\r 21%|██▏       | 214/1000 [04:46<17:32,  1.34s/it]"
          ]
        },
        {
          "output_type": "stream",
          "name": "stdout",
          "text": [
            "Validation acc: 0.9867\n",
            "Validation F1: 0.9865\n",
            "\n",
            "Start of epoch 214\n",
            "Training loss: 0.0006\n",
            "Training metric: 0.9412\n",
            "perturbation loss: 0.0266\n"
          ]
        },
        {
          "output_type": "stream",
          "name": "stderr",
          "text": [
            "\r 22%|██▏       | 215/1000 [04:47<18:34,  1.42s/it]"
          ]
        },
        {
          "output_type": "stream",
          "name": "stdout",
          "text": [
            "Validation acc: 0.9800\n",
            "Validation F1: 0.9797\n",
            "\n",
            "Start of epoch 215\n",
            "Training loss: 0.0005\n",
            "Training metric: 0.9415\n",
            "perturbation loss: 0.0151\n",
            "Validation acc: 0.9800\n",
            "Validation F1: 0.9802\n"
          ]
        },
        {
          "output_type": "stream",
          "name": "stderr",
          "text": [
            "\r 22%|██▏       | 216/1000 [04:49<18:04,  1.38s/it]"
          ]
        },
        {
          "output_type": "stream",
          "name": "stdout",
          "text": [
            "\n",
            "Start of epoch 216\n",
            "Training loss: 0.0004\n",
            "Training metric: 0.9418\n",
            "perturbation loss: 0.0097\n"
          ]
        },
        {
          "output_type": "stream",
          "name": "stderr",
          "text": [
            "\r 22%|██▏       | 217/1000 [04:50<17:42,  1.36s/it]"
          ]
        },
        {
          "output_type": "stream",
          "name": "stdout",
          "text": [
            "Validation acc: 0.9867\n",
            "Validation F1: 0.9868\n",
            "\n",
            "Start of epoch 217\n",
            "Training loss: 0.0002\n",
            "Training metric: 0.9420\n",
            "perturbation loss: 0.0079\n",
            "Validation acc: 0.9800\n",
            "Validation F1: 0.9800\n"
          ]
        },
        {
          "output_type": "stream",
          "name": "stderr",
          "text": [
            "\r 22%|██▏       | 218/1000 [04:51<17:02,  1.31s/it]"
          ]
        },
        {
          "output_type": "stream",
          "name": "stdout",
          "text": [
            "\n",
            "Start of epoch 218\n"
          ]
        },
        {
          "output_type": "stream",
          "name": "stderr",
          "text": [
            "\r 22%|██▏       | 219/1000 [04:52<16:29,  1.27s/it]"
          ]
        },
        {
          "output_type": "stream",
          "name": "stdout",
          "text": [
            "Training loss: 0.0002\n",
            "Training metric: 0.9423\n",
            "perturbation loss: 0.0064\n",
            "Validation acc: 0.9933\n",
            "Validation F1: 0.9933\n",
            "\n",
            "Start of epoch 219\n",
            "Training loss: 0.0002\n",
            "Training metric: 0.9426\n",
            "perturbation loss: 0.0057\n"
          ]
        },
        {
          "output_type": "stream",
          "name": "stderr",
          "text": [
            "\r 22%|██▏       | 220/1000 [04:53<16:15,  1.25s/it]"
          ]
        },
        {
          "output_type": "stream",
          "name": "stdout",
          "text": [
            "Validation acc: 0.9933\n",
            "Validation F1: 0.9933\n",
            "\n",
            "Start of epoch 220\n",
            "Training loss: 0.0000\n",
            "Training metric: 0.9428\n",
            "perturbation loss: 0.0015\n"
          ]
        },
        {
          "output_type": "stream",
          "name": "stderr",
          "text": [
            "\r 22%|██▏       | 221/1000 [04:55<15:58,  1.23s/it]"
          ]
        },
        {
          "output_type": "stream",
          "name": "stdout",
          "text": [
            "Validation acc: 0.9867\n",
            "Validation F1: 0.9868\n",
            "\n",
            "Start of epoch 221\n",
            "Training loss: 0.0001\n",
            "Training metric: 0.9431\n",
            "perturbation loss: 0.0030\n",
            "Validation acc: 0.9733\n",
            "Validation F1: 0.9732\n"
          ]
        },
        {
          "output_type": "stream",
          "name": "stderr",
          "text": [
            "\r 22%|██▏       | 222/1000 [04:56<15:45,  1.22s/it]"
          ]
        },
        {
          "output_type": "stream",
          "name": "stdout",
          "text": [
            "\n",
            "Start of epoch 222\n",
            "Training loss: 0.0003\n",
            "Training metric: 0.9433\n",
            "perturbation loss: 0.0090\n",
            "Validation acc: 0.9800\n",
            "Validation F1: 0.9800\n"
          ]
        },
        {
          "output_type": "stream",
          "name": "stderr",
          "text": [
            "\r 22%|██▏       | 223/1000 [04:57<15:34,  1.20s/it]"
          ]
        },
        {
          "output_type": "stream",
          "name": "stdout",
          "text": [
            "\n",
            "Start of epoch 223\n",
            "Training loss: 0.0019\n",
            "Training metric: 0.9436\n",
            "perturbation loss: 0.0203\n"
          ]
        },
        {
          "output_type": "stream",
          "name": "stderr",
          "text": [
            "\r 22%|██▏       | 224/1000 [04:58<16:22,  1.27s/it]"
          ]
        },
        {
          "output_type": "stream",
          "name": "stdout",
          "text": [
            "Validation acc: 0.9800\n",
            "Validation F1: 0.9797\n",
            "\n",
            "Start of epoch 224\n",
            "Training loss: 0.0028\n",
            "Training metric: 0.9438\n",
            "perturbation loss: 0.1071\n"
          ]
        },
        {
          "output_type": "stream",
          "name": "stderr",
          "text": [
            "\r 22%|██▎       | 225/1000 [05:00<17:38,  1.37s/it]"
          ]
        },
        {
          "output_type": "stream",
          "name": "stdout",
          "text": [
            "Validation acc: 0.9333\n",
            "Validation F1: 0.9345\n",
            "\n",
            "Start of epoch 225\n",
            "Training loss: 0.0033\n",
            "Training metric: 0.9441\n",
            "perturbation loss: 0.0544\n"
          ]
        },
        {
          "output_type": "stream",
          "name": "stderr",
          "text": [
            "\r 23%|██▎       | 226/1000 [05:02<18:22,  1.42s/it]"
          ]
        },
        {
          "output_type": "stream",
          "name": "stdout",
          "text": [
            "Validation acc: 0.9667\n",
            "Validation F1: 0.9665\n",
            "\n",
            "Start of epoch 226\n",
            "Training loss: 0.0005\n",
            "Training metric: 0.9443\n",
            "perturbation loss: 0.0213\n"
          ]
        },
        {
          "output_type": "stream",
          "name": "stderr",
          "text": [
            "\r 23%|██▎       | 227/1000 [05:03<17:46,  1.38s/it]"
          ]
        },
        {
          "output_type": "stream",
          "name": "stdout",
          "text": [
            "Validation acc: 0.9667\n",
            "Validation F1: 0.9670\n",
            "\n",
            "Start of epoch 227\n",
            "Training loss: 0.0007\n",
            "Training metric: 0.9445\n",
            "perturbation loss: 0.0200\n"
          ]
        },
        {
          "output_type": "stream",
          "name": "stderr",
          "text": [
            "\r 23%|██▎       | 228/1000 [05:04<17:07,  1.33s/it]"
          ]
        },
        {
          "output_type": "stream",
          "name": "stdout",
          "text": [
            "Validation acc: 0.8867\n",
            "Validation F1: 0.8865\n",
            "\n",
            "Start of epoch 228\n",
            "Training loss: 0.0001\n",
            "Training metric: 0.9448\n",
            "perturbation loss: 0.0039\n",
            "Validation acc: 0.9867\n",
            "Validation F1: 0.9867\n"
          ]
        },
        {
          "output_type": "stream",
          "name": "stderr",
          "text": [
            "\r 23%|██▎       | 229/1000 [05:05<16:31,  1.29s/it]"
          ]
        },
        {
          "output_type": "stream",
          "name": "stdout",
          "text": [
            "\n",
            "Start of epoch 229\n",
            "Training loss: 0.0021\n",
            "Training metric: 0.9450\n",
            "perturbation loss: 0.0915\n",
            "Validation acc: 0.9733\n"
          ]
        },
        {
          "output_type": "stream",
          "name": "stderr",
          "text": [
            "\r 23%|██▎       | 230/1000 [05:06<16:11,  1.26s/it]"
          ]
        },
        {
          "output_type": "stream",
          "name": "stdout",
          "text": [
            "Validation F1: 0.9733\n",
            "\n",
            "Start of epoch 230\n"
          ]
        },
        {
          "output_type": "stream",
          "name": "stderr",
          "text": [
            "\r 23%|██▎       | 231/1000 [05:08<15:54,  1.24s/it]"
          ]
        },
        {
          "output_type": "stream",
          "name": "stdout",
          "text": [
            "Training loss: 0.0003\n",
            "Training metric: 0.9453\n",
            "perturbation loss: 0.0124\n",
            "Validation acc: 0.9867\n",
            "Validation F1: 0.9868\n",
            "\n",
            "Start of epoch 231\n",
            "Training loss: 0.0022\n",
            "Training metric: 0.9455\n",
            "perturbation loss: 0.1049\n"
          ]
        },
        {
          "output_type": "stream",
          "name": "stderr",
          "text": [
            "\r 23%|██▎       | 232/1000 [05:09<15:50,  1.24s/it]"
          ]
        },
        {
          "output_type": "stream",
          "name": "stdout",
          "text": [
            "Validation acc: 0.9800\n",
            "Validation F1: 0.9802\n",
            "\n",
            "Start of epoch 232\n",
            "Training loss: 0.0009\n",
            "Training metric: 0.9457\n",
            "perturbation loss: 0.0352\n"
          ]
        },
        {
          "output_type": "stream",
          "name": "stderr",
          "text": [
            "\r 23%|██▎       | 233/1000 [05:10<15:41,  1.23s/it]"
          ]
        },
        {
          "output_type": "stream",
          "name": "stdout",
          "text": [
            "Validation acc: 0.9867\n",
            "Validation F1: 0.9868\n",
            "\n",
            "Start of epoch 233\n",
            "Training loss: 0.0008\n",
            "Training metric: 0.9460\n",
            "perturbation loss: 0.0124\n",
            "Validation acc: 0.9133\n",
            "Validation F1: 0.9084\n"
          ]
        },
        {
          "output_type": "stream",
          "name": "stderr",
          "text": [
            "\r 23%|██▎       | 234/1000 [05:11<15:36,  1.22s/it]"
          ]
        },
        {
          "output_type": "stream",
          "name": "stdout",
          "text": [
            "\n",
            "Start of epoch 234\n",
            "Training loss: 0.0021\n",
            "Training metric: 0.9462\n",
            "perturbation loss: 0.0899\n"
          ]
        },
        {
          "output_type": "stream",
          "name": "stderr",
          "text": [
            "\r 24%|██▎       | 235/1000 [05:13<16:34,  1.30s/it]"
          ]
        },
        {
          "output_type": "stream",
          "name": "stdout",
          "text": [
            "Validation acc: 0.9800\n",
            "Validation F1: 0.9800\n",
            "\n",
            "Start of epoch 235\n",
            "Training loss: 0.0008\n",
            "Training metric: 0.9464\n",
            "perturbation loss: 0.0129\n"
          ]
        },
        {
          "output_type": "stream",
          "name": "stderr",
          "text": [
            "\r 24%|██▎       | 236/1000 [05:14<17:48,  1.40s/it]"
          ]
        },
        {
          "output_type": "stream",
          "name": "stdout",
          "text": [
            "Validation acc: 0.9467\n",
            "Validation F1: 0.9460\n",
            "\n",
            "Start of epoch 236\n",
            "Training loss: 0.0005\n",
            "Training metric: 0.9466\n",
            "perturbation loss: 0.0187\n",
            "Validation acc: 0.9467\n",
            "Validation F1: 0.9470\n"
          ]
        },
        {
          "output_type": "stream",
          "name": "stderr",
          "text": [
            "\r 24%|██▎       | 237/1000 [05:16<18:05,  1.42s/it]"
          ]
        },
        {
          "output_type": "stream",
          "name": "stdout",
          "text": [
            "\n",
            "Start of epoch 237\n",
            "Training loss: 0.0016\n",
            "Training metric: 0.9469\n",
            "perturbation loss: 0.0545\n"
          ]
        },
        {
          "output_type": "stream",
          "name": "stderr",
          "text": [
            "\r 24%|██▍       | 238/1000 [05:17<17:14,  1.36s/it]"
          ]
        },
        {
          "output_type": "stream",
          "name": "stdout",
          "text": [
            "Validation acc: 0.9733\n",
            "Validation F1: 0.9729\n",
            "\n",
            "Start of epoch 238\n",
            "Training loss: 0.0005\n",
            "Training metric: 0.9471\n",
            "perturbation loss: 0.0223\n",
            "Validation acc: 0.9667\n"
          ]
        },
        {
          "output_type": "stream",
          "name": "stderr",
          "text": [
            "\r 24%|██▍       | 239/1000 [05:18<16:38,  1.31s/it]"
          ]
        },
        {
          "output_type": "stream",
          "name": "stdout",
          "text": [
            "Validation F1: 0.9663\n",
            "\n",
            "Start of epoch 239\n",
            "Training loss: 0.0002\n",
            "Training metric: 0.9473\n",
            "perturbation loss: 0.0067\n",
            "Validation acc: 0.9867\n",
            "Validation F1: 0.9867\n"
          ]
        },
        {
          "output_type": "stream",
          "name": "stderr",
          "text": [
            "\r 24%|██▍       | 240/1000 [05:19<16:10,  1.28s/it]"
          ]
        },
        {
          "output_type": "stream",
          "name": "stdout",
          "text": [
            "\n",
            "Start of epoch 240\n",
            "Training loss: 0.0005\n",
            "Training metric: 0.9475\n",
            "perturbation loss: 0.0118\n",
            "Validation acc: 0.9733\n",
            "Validation F1: 0.9733\n"
          ]
        },
        {
          "output_type": "stream",
          "name": "stderr",
          "text": [
            "\r 24%|██▍       | 241/1000 [05:21<15:47,  1.25s/it]"
          ]
        },
        {
          "output_type": "stream",
          "name": "stdout",
          "text": [
            "\n",
            "Start of epoch 241\n",
            "Training loss: 0.0003\n",
            "Training metric: 0.9477\n",
            "perturbation loss: 0.0081\n",
            "Validation acc: 0.9800\n",
            "Validation F1: 0.9802\n"
          ]
        },
        {
          "output_type": "stream",
          "name": "stderr",
          "text": [
            "\r 24%|██▍       | 242/1000 [05:22<15:35,  1.23s/it]"
          ]
        },
        {
          "output_type": "stream",
          "name": "stdout",
          "text": [
            "\n",
            "Start of epoch 242\n",
            "Training loss: 0.0005\n",
            "Training metric: 0.9480\n",
            "perturbation loss: 0.0197\n"
          ]
        },
        {
          "output_type": "stream",
          "name": "stderr",
          "text": [
            "\r 24%|██▍       | 243/1000 [05:23<15:30,  1.23s/it]"
          ]
        },
        {
          "output_type": "stream",
          "name": "stdout",
          "text": [
            "Validation acc: 0.9800\n",
            "Validation F1: 0.9802\n",
            "\n",
            "Start of epoch 243\n",
            "Training loss: 0.0003\n",
            "Training metric: 0.9482\n",
            "perturbation loss: 0.0083\n"
          ]
        },
        {
          "output_type": "stream",
          "name": "stderr",
          "text": [
            "\r 24%|██▍       | 244/1000 [05:24<15:47,  1.25s/it]"
          ]
        },
        {
          "output_type": "stream",
          "name": "stdout",
          "text": [
            "Validation acc: 0.9867\n",
            "Validation F1: 0.9868\n",
            "\n",
            "Start of epoch 244\n",
            "Training loss: 0.0000\n",
            "Training metric: 0.9484\n",
            "perturbation loss: 0.0018\n"
          ]
        },
        {
          "output_type": "stream",
          "name": "stderr",
          "text": [
            "\r 24%|██▍       | 245/1000 [05:26<15:48,  1.26s/it]"
          ]
        },
        {
          "output_type": "stream",
          "name": "stdout",
          "text": [
            "Validation acc: 0.9867\n",
            "Validation F1: 0.9868\n",
            "\n",
            "Start of epoch 245\n",
            "Training loss: 0.0002\n",
            "Training metric: 0.9486\n",
            "perturbation loss: 0.0086\n"
          ]
        },
        {
          "output_type": "stream",
          "name": "stderr",
          "text": [
            "\r 25%|██▍       | 246/1000 [05:27<17:05,  1.36s/it]"
          ]
        },
        {
          "output_type": "stream",
          "name": "stdout",
          "text": [
            "Validation acc: 0.9867\n",
            "Validation F1: 0.9868\n",
            "\n",
            "Start of epoch 246\n",
            "Training loss: 0.0001\n",
            "Training metric: 0.9488\n",
            "perturbation loss: 0.0031\n"
          ]
        },
        {
          "output_type": "stream",
          "name": "stderr",
          "text": [
            "\r 25%|██▍       | 247/1000 [05:29<18:06,  1.44s/it]"
          ]
        },
        {
          "output_type": "stream",
          "name": "stdout",
          "text": [
            "Validation acc: 0.9800\n",
            "Validation F1: 0.9800\n",
            "\n",
            "Start of epoch 247\n",
            "Training loss: 0.0001\n",
            "Training metric: 0.9490\n",
            "perturbation loss: 0.0022\n",
            "Validation acc: 0.9733\n",
            "Validation F1: 0.9734\n"
          ]
        },
        {
          "output_type": "stream",
          "name": "stderr",
          "text": [
            "\r 25%|██▍       | 248/1000 [05:30<17:31,  1.40s/it]"
          ]
        },
        {
          "output_type": "stream",
          "name": "stdout",
          "text": [
            "\n",
            "Start of epoch 248\n",
            "Training loss: 0.0001\n",
            "Training metric: 0.9492\n",
            "perturbation loss: 0.0034\n"
          ]
        },
        {
          "output_type": "stream",
          "name": "stderr",
          "text": [
            "\r 25%|██▍       | 249/1000 [05:31<17:12,  1.38s/it]"
          ]
        },
        {
          "output_type": "stream",
          "name": "stdout",
          "text": [
            "Validation acc: 0.9867\n",
            "Validation F1: 0.9868\n",
            "\n",
            "Start of epoch 249\n"
          ]
        },
        {
          "output_type": "stream",
          "name": "stderr",
          "text": [
            "\r 25%|██▌       | 250/1000 [05:33<16:23,  1.31s/it]"
          ]
        },
        {
          "output_type": "stream",
          "name": "stdout",
          "text": [
            "Training loss: 0.0001\n",
            "Training metric: 0.9494\n",
            "perturbation loss: 0.0015\n",
            "Validation acc: 0.9867\n",
            "Validation F1: 0.9868\n",
            "\n",
            "Start of epoch 250\n",
            "Training loss: 0.0001\n",
            "Training metric: 0.9496\n",
            "perturbation loss: 0.0023\n",
            "Validation acc: 0.9867\n"
          ]
        },
        {
          "output_type": "stream",
          "name": "stderr",
          "text": [
            "\r 25%|██▌       | 251/1000 [05:34<15:57,  1.28s/it]"
          ]
        },
        {
          "output_type": "stream",
          "name": "stdout",
          "text": [
            "Validation F1: 0.9868\n",
            "\n",
            "Start of epoch 251\n",
            "Training loss: 0.0001\n",
            "Training metric: 0.9498\n",
            "perturbation loss: 0.0021\n"
          ]
        },
        {
          "output_type": "stream",
          "name": "stderr",
          "text": [
            "\r 25%|██▌       | 252/1000 [05:35<15:39,  1.26s/it]"
          ]
        },
        {
          "output_type": "stream",
          "name": "stdout",
          "text": [
            "Validation acc: 0.9800\n",
            "Validation F1: 0.9802\n",
            "\n",
            "Start of epoch 252\n",
            "Training loss: 0.0000\n",
            "Training metric: 0.9500\n",
            "perturbation loss: 0.0009\n",
            "Validation acc: 0.9800\n",
            "Validation F1: 0.9802\n"
          ]
        },
        {
          "output_type": "stream",
          "name": "stderr",
          "text": [
            "\r 25%|██▌       | 253/1000 [05:36<15:21,  1.23s/it]"
          ]
        },
        {
          "output_type": "stream",
          "name": "stdout",
          "text": [
            "\n",
            "Start of epoch 253\n",
            "Training loss: 0.0001\n",
            "Training metric: 0.9502\n",
            "perturbation loss: 0.0025\n",
            "Validation acc: 0.9867\n",
            "Validation F1: 0.9868\n"
          ]
        },
        {
          "output_type": "stream",
          "name": "stderr",
          "text": [
            "\r 25%|██▌       | 254/1000 [05:37<15:12,  1.22s/it]"
          ]
        },
        {
          "output_type": "stream",
          "name": "stdout",
          "text": [
            "\n",
            "Start of epoch 254\n",
            "Training loss: 0.0001\n",
            "Training metric: 0.9504\n",
            "perturbation loss: 0.0016\n",
            "Validation acc: 0.9733\n"
          ]
        },
        {
          "output_type": "stream",
          "name": "stderr",
          "text": [
            "\r 26%|██▌       | 255/1000 [05:39<15:05,  1.22s/it]"
          ]
        },
        {
          "output_type": "stream",
          "name": "stdout",
          "text": [
            "Validation F1: 0.9736\n",
            "\n",
            "Start of epoch 255\n",
            "Training loss: 0.0000\n",
            "Training metric: 0.9506\n",
            "perturbation loss: 0.0013\n"
          ]
        },
        {
          "output_type": "stream",
          "name": "stderr",
          "text": [
            "\r 26%|██▌       | 256/1000 [05:40<15:35,  1.26s/it]"
          ]
        },
        {
          "output_type": "stream",
          "name": "stdout",
          "text": [
            "Validation acc: 0.9800\n",
            "Validation F1: 0.9802\n",
            "\n",
            "Start of epoch 256\n",
            "Training loss: 0.0000\n",
            "Training metric: 0.9508\n",
            "perturbation loss: 0.0006\n"
          ]
        },
        {
          "output_type": "stream",
          "name": "stderr",
          "text": [
            "\r 26%|██▌       | 257/1000 [05:42<16:57,  1.37s/it]"
          ]
        },
        {
          "output_type": "stream",
          "name": "stdout",
          "text": [
            "Validation acc: 0.9800\n",
            "Validation F1: 0.9802\n",
            "\n",
            "Start of epoch 257\n",
            "Training loss: 0.0002\n",
            "Training metric: 0.9510\n",
            "perturbation loss: 0.0055\n"
          ]
        },
        {
          "output_type": "stream",
          "name": "stderr",
          "text": [
            "\r 26%|██▌       | 258/1000 [05:43<17:51,  1.44s/it]"
          ]
        },
        {
          "output_type": "stream",
          "name": "stdout",
          "text": [
            "Validation acc: 0.9800\n",
            "Validation F1: 0.9800\n",
            "\n",
            "Start of epoch 258\n",
            "Training loss: 0.0012\n",
            "Training metric: 0.9512\n",
            "perturbation loss: 0.0272\n",
            "Validation acc: 0.9533\n",
            "Validation F1: 0.9527\n"
          ]
        },
        {
          "output_type": "stream",
          "name": "stderr",
          "text": [
            "\r 26%|██▌       | 259/1000 [05:44<17:04,  1.38s/it]"
          ]
        },
        {
          "output_type": "stream",
          "name": "stdout",
          "text": [
            "\n",
            "Start of epoch 259\n",
            "Training loss: 0.0005\n",
            "Training metric: 0.9513\n",
            "perturbation loss: 0.0230\n",
            "Validation acc: 0.9733\n",
            "Validation F1: 0.9732\n"
          ]
        },
        {
          "output_type": "stream",
          "name": "stderr",
          "text": [
            "\r 26%|██▌       | 260/1000 [05:46<16:20,  1.32s/it]"
          ]
        },
        {
          "output_type": "stream",
          "name": "stdout",
          "text": [
            "\n",
            "Start of epoch 260\n",
            "Training loss: 0.0053\n",
            "Training metric: 0.9515\n",
            "perturbation loss: 0.2487\n",
            "Validation acc: 0.9333\n"
          ]
        },
        {
          "output_type": "stream",
          "name": "stderr",
          "text": [
            "\r 26%|██▌       | 261/1000 [05:47<15:51,  1.29s/it]"
          ]
        },
        {
          "output_type": "stream",
          "name": "stdout",
          "text": [
            "Validation F1: 0.9338\n",
            "\n",
            "Start of epoch 261\n",
            "Training loss: 0.0050\n",
            "Training metric: 0.9517\n",
            "perturbation loss: 0.2393\n"
          ]
        },
        {
          "output_type": "stream",
          "name": "stderr",
          "text": [
            "\r 26%|██▌       | 262/1000 [05:48<15:36,  1.27s/it]"
          ]
        },
        {
          "output_type": "stream",
          "name": "stdout",
          "text": [
            "Validation acc: 0.9600\n",
            "Validation F1: 0.9585\n",
            "\n",
            "Start of epoch 262\n"
          ]
        },
        {
          "output_type": "stream",
          "name": "stderr",
          "text": [
            "\r 26%|██▋       | 263/1000 [05:49<15:11,  1.24s/it]"
          ]
        },
        {
          "output_type": "stream",
          "name": "stdout",
          "text": [
            "Training loss: 0.0002\n",
            "Training metric: 0.9519\n",
            "perturbation loss: 0.0018\n",
            "Validation acc: 0.9600\n",
            "Validation F1: 0.9598\n",
            "\n",
            "Start of epoch 263\n"
          ]
        },
        {
          "output_type": "stream",
          "name": "stderr",
          "text": [
            "\r 26%|██▋       | 264/1000 [05:50<15:00,  1.22s/it]"
          ]
        },
        {
          "output_type": "stream",
          "name": "stdout",
          "text": [
            "Training loss: 0.0008\n",
            "Training metric: 0.9521\n",
            "perturbation loss: 0.0297\n",
            "Validation acc: 0.9867\n",
            "Validation F1: 0.9868\n",
            "\n",
            "Start of epoch 264\n"
          ]
        },
        {
          "output_type": "stream",
          "name": "stderr",
          "text": [
            "\r 26%|██▋       | 265/1000 [05:52<14:50,  1.21s/it]"
          ]
        },
        {
          "output_type": "stream",
          "name": "stdout",
          "text": [
            "Training loss: 0.0001\n",
            "Training metric: 0.9523\n",
            "perturbation loss: 0.0025\n",
            "Validation acc: 0.9667\n",
            "Validation F1: 0.9668\n",
            "\n",
            "Start of epoch 265\n",
            "Training loss: 0.0008\n",
            "Training metric: 0.9524\n",
            "perturbation loss: 0.0370\n"
          ]
        },
        {
          "output_type": "stream",
          "name": "stderr",
          "text": [
            "\r 27%|██▋       | 266/1000 [05:53<14:55,  1.22s/it]"
          ]
        },
        {
          "output_type": "stream",
          "name": "stdout",
          "text": [
            "Validation acc: 0.9733\n",
            "Validation F1: 0.9734\n",
            "\n",
            "Start of epoch 266\n",
            "Training loss: 0.0001\n",
            "Training metric: 0.9526\n",
            "perturbation loss: 0.0016\n"
          ]
        },
        {
          "output_type": "stream",
          "name": "stderr",
          "text": [
            "\r 27%|██▋       | 267/1000 [05:54<15:45,  1.29s/it]"
          ]
        },
        {
          "output_type": "stream",
          "name": "stdout",
          "text": [
            "Validation acc: 0.9733\n",
            "Validation F1: 0.9733\n",
            "\n",
            "Start of epoch 267\n",
            "Training loss: 0.0001\n",
            "Training metric: 0.9528\n",
            "perturbation loss: 0.0014\n"
          ]
        },
        {
          "output_type": "stream",
          "name": "stderr",
          "text": [
            "\r 27%|██▋       | 268/1000 [05:56<16:55,  1.39s/it]"
          ]
        },
        {
          "output_type": "stream",
          "name": "stdout",
          "text": [
            "Validation acc: 0.9867\n",
            "Validation F1: 0.9868\n",
            "\n",
            "Start of epoch 268\n",
            "Training loss: 0.0001\n",
            "Training metric: 0.9530\n",
            "perturbation loss: 0.0011\n"
          ]
        },
        {
          "output_type": "stream",
          "name": "stderr",
          "text": [
            "\r 27%|██▋       | 269/1000 [05:57<17:22,  1.43s/it]"
          ]
        },
        {
          "output_type": "stream",
          "name": "stdout",
          "text": [
            "Validation acc: 0.9800\n",
            "Validation F1: 0.9802\n",
            "\n",
            "Start of epoch 269\n",
            "Training loss: 0.0002\n",
            "Training metric: 0.9531\n",
            "perturbation loss: 0.0043\n",
            "Validation acc: 0.9800\n",
            "Validation F1: 0.9802\n"
          ]
        },
        {
          "output_type": "stream",
          "name": "stderr",
          "text": [
            "\r 27%|██▋       | 270/1000 [05:59<16:30,  1.36s/it]"
          ]
        },
        {
          "output_type": "stream",
          "name": "stdout",
          "text": [
            "\n",
            "Start of epoch 270\n",
            "Training loss: 0.0001\n",
            "Training metric: 0.9533\n",
            "perturbation loss: 0.0028\n",
            "Validation acc: 0.9867\n",
            "Validation F1: 0.9868\n"
          ]
        },
        {
          "output_type": "stream",
          "name": "stderr",
          "text": [
            "\r 27%|██▋       | 271/1000 [06:00<15:55,  1.31s/it]"
          ]
        },
        {
          "output_type": "stream",
          "name": "stdout",
          "text": [
            "\n",
            "Start of epoch 271\n",
            "Training loss: 0.0001\n",
            "Training metric: 0.9535\n",
            "perturbation loss: 0.0031\n",
            "Validation acc: 0.9867\n",
            "Validation F1: 0.9868\n"
          ]
        },
        {
          "output_type": "stream",
          "name": "stderr",
          "text": [
            "\r 27%|██▋       | 272/1000 [06:01<15:31,  1.28s/it]"
          ]
        },
        {
          "output_type": "stream",
          "name": "stdout",
          "text": [
            "\n",
            "Start of epoch 272\n"
          ]
        },
        {
          "output_type": "stream",
          "name": "stderr",
          "text": [
            "\r 27%|██▋       | 273/1000 [06:02<15:04,  1.24s/it]"
          ]
        },
        {
          "output_type": "stream",
          "name": "stdout",
          "text": [
            "Training loss: 0.0001\n",
            "Training metric: 0.9537\n",
            "perturbation loss: 0.0037\n",
            "Validation acc: 0.9867\n",
            "Validation F1: 0.9868\n",
            "\n",
            "Start of epoch 273\n",
            "Training loss: 0.0001\n",
            "Training metric: 0.9538\n",
            "perturbation loss: 0.0031\n",
            "Validation acc: 0.9867\n"
          ]
        },
        {
          "output_type": "stream",
          "name": "stderr",
          "text": [
            "\r 27%|██▋       | 274/1000 [06:03<14:54,  1.23s/it]"
          ]
        },
        {
          "output_type": "stream",
          "name": "stdout",
          "text": [
            "Validation F1: 0.9868\n",
            "\n",
            "Start of epoch 274\n",
            "Training loss: 0.0001\n",
            "Training metric: 0.9540\n",
            "perturbation loss: 0.0030\n",
            "Validation acc: 0.9800\n",
            "Validation F1: 0.9802\n"
          ]
        },
        {
          "output_type": "stream",
          "name": "stderr",
          "text": [
            "\r 28%|██▊       | 275/1000 [06:05<14:45,  1.22s/it]"
          ]
        },
        {
          "output_type": "stream",
          "name": "stdout",
          "text": [
            "\n",
            "Start of epoch 275\n",
            "Training loss: 0.0000\n",
            "Training metric: 0.9542\n",
            "perturbation loss: 0.0002\n",
            "Validation acc: 0.9800\n",
            "Validation F1: 0.9802\n"
          ]
        },
        {
          "output_type": "stream",
          "name": "stderr",
          "text": [
            "\r 28%|██▊       | 276/1000 [06:06<14:40,  1.22s/it]"
          ]
        },
        {
          "output_type": "stream",
          "name": "stdout",
          "text": [
            "\n",
            "Start of epoch 276\n",
            "Training loss: 0.0001\n",
            "Training metric: 0.9543\n",
            "perturbation loss: 0.0020\n",
            "Validation acc: 0.9867\n",
            "Validation F1: 0.9868\n"
          ]
        },
        {
          "output_type": "stream",
          "name": "stderr",
          "text": [
            "\r 28%|██▊       | 277/1000 [06:07<14:34,  1.21s/it]"
          ]
        },
        {
          "output_type": "stream",
          "name": "stdout",
          "text": [
            "\n",
            "Start of epoch 277\n",
            "Training loss: 0.0000\n",
            "Training metric: 0.9545\n",
            "perturbation loss: 0.0009\n"
          ]
        },
        {
          "output_type": "stream",
          "name": "stderr",
          "text": [
            "\r 28%|██▊       | 278/1000 [06:09<15:36,  1.30s/it]"
          ]
        },
        {
          "output_type": "stream",
          "name": "stdout",
          "text": [
            "Validation acc: 0.9800\n",
            "Validation F1: 0.9797\n",
            "\n",
            "Start of epoch 278\n",
            "Training loss: 0.0001\n",
            "Training metric: 0.9547\n",
            "perturbation loss: 0.0043\n"
          ]
        },
        {
          "output_type": "stream",
          "name": "stderr",
          "text": [
            "\r 28%|██▊       | 279/1000 [06:10<16:35,  1.38s/it]"
          ]
        },
        {
          "output_type": "stream",
          "name": "stdout",
          "text": [
            "Validation acc: 0.9800\n",
            "Validation F1: 0.9800\n",
            "\n",
            "Start of epoch 279\n",
            "Training loss: 0.0190\n",
            "Training metric: 0.9548\n",
            "perturbation loss: 0.9323\n",
            "Validation acc: 0.8667\n",
            "Validation F1: 0.8651\n"
          ]
        },
        {
          "output_type": "stream",
          "name": "stderr",
          "text": [
            "\r 28%|██▊       | 280/1000 [06:12<16:53,  1.41s/it]"
          ]
        },
        {
          "output_type": "stream",
          "name": "stdout",
          "text": [
            "\n",
            "Start of epoch 280\n",
            "Training loss: 0.0105\n",
            "Training metric: 0.9550\n",
            "perturbation loss: 0.4889\n",
            "Validation acc: 0.9200\n",
            "Validation F1: 0.9179\n"
          ]
        },
        {
          "output_type": "stream",
          "name": "stderr",
          "text": [
            "\r 28%|██▊       | 281/1000 [06:13<16:04,  1.34s/it]"
          ]
        },
        {
          "output_type": "stream",
          "name": "stdout",
          "text": [
            "\n",
            "Start of epoch 281\n",
            "Training loss: 0.0004\n",
            "Training metric: 0.9551\n",
            "perturbation loss: 0.0089\n",
            "Validation acc: 0.9600\n"
          ]
        },
        {
          "output_type": "stream",
          "name": "stderr",
          "text": [
            "\r 28%|██▊       | 282/1000 [06:14<15:37,  1.31s/it]"
          ]
        },
        {
          "output_type": "stream",
          "name": "stdout",
          "text": [
            "Validation F1: 0.9608\n",
            "\n",
            "Start of epoch 282\n",
            "Training loss: 0.0015\n",
            "Training metric: 0.9553\n",
            "perturbation loss: 0.0499\n",
            "Validation acc: 0.9800\n",
            "Validation F1: 0.9802\n"
          ]
        },
        {
          "output_type": "stream",
          "name": "stderr",
          "text": [
            "\r 28%|██▊       | 283/1000 [06:15<15:11,  1.27s/it]"
          ]
        },
        {
          "output_type": "stream",
          "name": "stdout",
          "text": [
            "\n",
            "Start of epoch 283\n",
            "Training loss: 0.0005\n",
            "Training metric: 0.9554\n",
            "perturbation loss: 0.0176\n",
            "Validation acc: 0.9867\n",
            "Validation F1: 0.9865\n"
          ]
        },
        {
          "output_type": "stream",
          "name": "stderr",
          "text": [
            "\r 28%|██▊       | 284/1000 [06:16<14:50,  1.24s/it]"
          ]
        },
        {
          "output_type": "stream",
          "name": "stdout",
          "text": [
            "\n",
            "Start of epoch 284\n"
          ]
        },
        {
          "output_type": "stream",
          "name": "stderr",
          "text": [
            "\r 28%|██▊       | 285/1000 [06:18<14:32,  1.22s/it]"
          ]
        },
        {
          "output_type": "stream",
          "name": "stdout",
          "text": [
            "Training loss: 0.0000\n",
            "Training metric: 0.9556\n",
            "perturbation loss: 0.0013\n",
            "Validation acc: 0.9933\n",
            "Validation F1: 0.9933\n",
            "\n",
            "Start of epoch 285\n",
            "Training loss: 0.0000\n",
            "Training metric: 0.9558\n",
            "perturbation loss: 0.0011\n",
            "Validation acc: 0.9867\n",
            "Validation F1: 0.9865\n"
          ]
        },
        {
          "output_type": "stream",
          "name": "stderr",
          "text": [
            "\r 29%|██▊       | 286/1000 [06:19<14:23,  1.21s/it]"
          ]
        },
        {
          "output_type": "stream",
          "name": "stdout",
          "text": [
            "\n",
            "Start of epoch 286\n",
            "Training loss: 0.0003\n",
            "Training metric: 0.9559\n",
            "perturbation loss: 0.0118\n"
          ]
        },
        {
          "output_type": "stream",
          "name": "stderr",
          "text": [
            "\r 29%|██▊       | 287/1000 [06:20<14:22,  1.21s/it]"
          ]
        },
        {
          "output_type": "stream",
          "name": "stdout",
          "text": [
            "Validation acc: 0.9867\n",
            "Validation F1: 0.9867\n",
            "\n",
            "Start of epoch 287\n"
          ]
        },
        {
          "output_type": "stream",
          "name": "stderr",
          "text": [
            "\r 29%|██▉       | 288/1000 [06:21<14:16,  1.20s/it]"
          ]
        },
        {
          "output_type": "stream",
          "name": "stdout",
          "text": [
            "Training loss: 0.0001\n",
            "Training metric: 0.9561\n",
            "perturbation loss: 0.0020\n",
            "Validation acc: 1.0000\n",
            "Validation F1: 1.0000\n",
            "\n",
            "Start of epoch 288\n",
            "Training loss: 0.0001\n",
            "Training metric: 0.9562\n",
            "perturbation loss: 0.0036\n"
          ]
        },
        {
          "output_type": "stream",
          "name": "stderr",
          "text": [
            "\r 29%|██▉       | 289/1000 [06:23<15:29,  1.31s/it]"
          ]
        },
        {
          "output_type": "stream",
          "name": "stdout",
          "text": [
            "Validation acc: 0.9800\n",
            "Validation F1: 0.9802\n",
            "\n",
            "Start of epoch 289\n",
            "Training loss: 0.0001\n",
            "Training metric: 0.9564\n",
            "perturbation loss: 0.0053\n"
          ]
        },
        {
          "output_type": "stream",
          "name": "stderr",
          "text": [
            "\r 29%|██▉       | 290/1000 [06:24<16:38,  1.41s/it]"
          ]
        },
        {
          "output_type": "stream",
          "name": "stdout",
          "text": [
            "Validation acc: 0.9867\n",
            "Validation F1: 0.9867\n",
            "\n",
            "Start of epoch 290\n"
          ]
        },
        {
          "output_type": "stream",
          "name": "stderr",
          "text": [
            "\r 29%|██▉       | 291/1000 [06:26<16:25,  1.39s/it]"
          ]
        },
        {
          "output_type": "stream",
          "name": "stdout",
          "text": [
            "Training loss: 0.0000\n",
            "Training metric: 0.9565\n",
            "perturbation loss: 0.0012\n",
            "Validation acc: 0.9800\n",
            "Validation F1: 0.9802\n",
            "\n",
            "Start of epoch 291\n",
            "Training loss: 0.0001\n",
            "Training metric: 0.9567\n",
            "perturbation loss: 0.0044\n"
          ]
        },
        {
          "output_type": "stream",
          "name": "stderr",
          "text": [
            "\r 29%|██▉       | 292/1000 [06:27<15:46,  1.34s/it]"
          ]
        },
        {
          "output_type": "stream",
          "name": "stdout",
          "text": [
            "Validation acc: 1.0000\n",
            "Validation F1: 1.0000\n",
            "\n",
            "Start of epoch 292\n",
            "Training loss: 0.0000\n",
            "Training metric: 0.9568\n",
            "perturbation loss: 0.0005\n"
          ]
        },
        {
          "output_type": "stream",
          "name": "stderr",
          "text": [
            "\r 29%|██▉       | 293/1000 [06:28<15:13,  1.29s/it]"
          ]
        },
        {
          "output_type": "stream",
          "name": "stdout",
          "text": [
            "Validation acc: 0.9933\n",
            "Validation F1: 0.9933\n",
            "\n",
            "Start of epoch 293\n",
            "Training loss: 0.0001\n",
            "Training metric: 0.9570\n",
            "perturbation loss: 0.0047\n",
            "Validation acc: 0.9867\n"
          ]
        },
        {
          "output_type": "stream",
          "name": "stderr",
          "text": [
            "\r 29%|██▉       | 294/1000 [06:29<14:53,  1.27s/it]"
          ]
        },
        {
          "output_type": "stream",
          "name": "stdout",
          "text": [
            "Validation F1: 0.9868\n",
            "\n",
            "Start of epoch 294\n",
            "Training loss: 0.0003\n",
            "Training metric: 0.9571\n",
            "perturbation loss: 0.0136\n",
            "Validation acc: 0.9867\n",
            "Validation F1: 0.9868\n"
          ]
        },
        {
          "output_type": "stream",
          "name": "stderr",
          "text": [
            "\r 30%|██▉       | 295/1000 [06:30<14:37,  1.24s/it]"
          ]
        },
        {
          "output_type": "stream",
          "name": "stdout",
          "text": [
            "\n",
            "Start of epoch 295\n",
            "Training loss: 0.0000\n",
            "Training metric: 0.9572\n",
            "perturbation loss: 0.0013\n",
            "Validation acc: 0.9867\n",
            "Validation F1: 0.9867\n"
          ]
        },
        {
          "output_type": "stream",
          "name": "stderr",
          "text": [
            "\r 30%|██▉       | 296/1000 [06:32<14:23,  1.23s/it]"
          ]
        },
        {
          "output_type": "stream",
          "name": "stdout",
          "text": [
            "\n",
            "Start of epoch 296\n",
            "Training loss: 0.0000\n",
            "Training metric: 0.9574\n",
            "perturbation loss: 0.0016\n"
          ]
        },
        {
          "output_type": "stream",
          "name": "stderr",
          "text": [
            "\r 30%|██▉       | 297/1000 [06:33<14:23,  1.23s/it]"
          ]
        },
        {
          "output_type": "stream",
          "name": "stdout",
          "text": [
            "Validation acc: 0.9933\n",
            "Validation F1: 0.9933\n",
            "\n",
            "Start of epoch 297\n",
            "Training loss: 0.0000\n",
            "Training metric: 0.9575\n",
            "perturbation loss: 0.0005\n"
          ]
        },
        {
          "output_type": "stream",
          "name": "stderr",
          "text": [
            "\r 30%|██▉       | 298/1000 [06:34<14:13,  1.22s/it]"
          ]
        },
        {
          "output_type": "stream",
          "name": "stdout",
          "text": [
            "Validation acc: 0.9867\n",
            "Validation F1: 0.9868\n",
            "\n",
            "Start of epoch 298\n",
            "Training loss: 0.0001\n",
            "Training metric: 0.9577\n",
            "perturbation loss: 0.0032\n"
          ]
        },
        {
          "output_type": "stream",
          "name": "stderr",
          "text": [
            "\r 30%|██▉       | 299/1000 [06:35<14:32,  1.24s/it]"
          ]
        },
        {
          "output_type": "stream",
          "name": "stdout",
          "text": [
            "Validation acc: 0.9867\n",
            "Validation F1: 0.9868\n",
            "\n",
            "Start of epoch 299\n",
            "Training loss: 0.0000\n",
            "Training metric: 0.9578\n",
            "perturbation loss: 0.0008\n"
          ]
        },
        {
          "output_type": "stream",
          "name": "stderr",
          "text": [
            "\r 30%|███       | 300/1000 [06:37<15:51,  1.36s/it]"
          ]
        },
        {
          "output_type": "stream",
          "name": "stdout",
          "text": [
            "Validation acc: 0.9867\n",
            "Validation F1: 0.9868\n",
            "\n",
            "Start of epoch 300\n",
            "Training loss: 0.0000\n",
            "Training metric: 0.9580\n",
            "perturbation loss: 0.0020\n"
          ]
        },
        {
          "output_type": "stream",
          "name": "stderr",
          "text": [
            "\r 30%|███       | 301/1000 [06:39<16:44,  1.44s/it]"
          ]
        },
        {
          "output_type": "stream",
          "name": "stdout",
          "text": [
            "Validation acc: 0.9867\n",
            "Validation F1: 0.9868\n",
            "\n",
            "Start of epoch 301\n",
            "Training loss: 0.0001\n",
            "Training metric: 0.9581\n",
            "perturbation loss: 0.0040\n",
            "Validation acc: 0.9933\n",
            "Validation F1: 0.9933\n"
          ]
        },
        {
          "output_type": "stream",
          "name": "stderr",
          "text": [
            "\r 30%|███       | 302/1000 [06:40<16:11,  1.39s/it]"
          ]
        },
        {
          "output_type": "stream",
          "name": "stdout",
          "text": [
            "\n",
            "Start of epoch 302\n"
          ]
        },
        {
          "output_type": "stream",
          "name": "stderr",
          "text": [
            "\r 30%|███       | 303/1000 [06:41<15:21,  1.32s/it]"
          ]
        },
        {
          "output_type": "stream",
          "name": "stdout",
          "text": [
            "Training loss: 0.0001\n",
            "Training metric: 0.9582\n",
            "perturbation loss: 0.0045\n",
            "Validation acc: 0.9733\n",
            "Validation F1: 0.9733\n",
            "\n",
            "Start of epoch 303\n",
            "Training loss: 0.0000\n",
            "Training metric: 0.9584\n",
            "perturbation loss: 0.0006\n",
            "Validation acc: 0.9733\n",
            "Validation F1: 0.9736\n"
          ]
        },
        {
          "output_type": "stream",
          "name": "stderr",
          "text": [
            "\r 30%|███       | 304/1000 [06:42<14:51,  1.28s/it]"
          ]
        },
        {
          "output_type": "stream",
          "name": "stdout",
          "text": [
            "\n",
            "Start of epoch 304\n",
            "Training loss: 0.0001\n",
            "Training metric: 0.9585\n",
            "perturbation loss: 0.0023\n"
          ]
        },
        {
          "output_type": "stream",
          "name": "stderr",
          "text": [
            "\r 30%|███       | 305/1000 [06:43<14:33,  1.26s/it]"
          ]
        },
        {
          "output_type": "stream",
          "name": "stdout",
          "text": [
            "Validation acc: 0.9733\n",
            "Validation F1: 0.9736\n",
            "\n",
            "Start of epoch 305\n",
            "Training loss: 0.0000\n",
            "Training metric: 0.9586\n",
            "perturbation loss: 0.0002\n"
          ]
        },
        {
          "output_type": "stream",
          "name": "stderr",
          "text": [
            "\r 31%|███       | 306/1000 [06:45<14:26,  1.25s/it]"
          ]
        },
        {
          "output_type": "stream",
          "name": "stdout",
          "text": [
            "Validation acc: 0.9800\n",
            "Validation F1: 0.9799\n",
            "\n",
            "Start of epoch 306\n",
            "Training loss: 0.0000\n",
            "Training metric: 0.9588\n",
            "perturbation loss: 0.0004\n"
          ]
        },
        {
          "output_type": "stream",
          "name": "stderr",
          "text": [
            "\r 31%|███       | 307/1000 [06:46<14:33,  1.26s/it]"
          ]
        },
        {
          "output_type": "stream",
          "name": "stdout",
          "text": [
            "Validation acc: 0.9933\n",
            "Validation F1: 0.9933\n",
            "\n",
            "Start of epoch 307\n",
            "Training loss: 0.0001\n",
            "Training metric: 0.9589\n",
            "perturbation loss: 0.0044\n"
          ]
        },
        {
          "output_type": "stream",
          "name": "stderr",
          "text": [
            "\r 31%|███       | 308/1000 [06:47<14:19,  1.24s/it]"
          ]
        },
        {
          "output_type": "stream",
          "name": "stdout",
          "text": [
            "Validation acc: 0.9600\n",
            "Validation F1: 0.9598\n",
            "\n",
            "Start of epoch 308\n"
          ]
        },
        {
          "output_type": "stream",
          "name": "stderr",
          "text": [
            "\r 31%|███       | 309/1000 [06:48<14:05,  1.22s/it]"
          ]
        },
        {
          "output_type": "stream",
          "name": "stdout",
          "text": [
            "Training loss: 0.0000\n",
            "Training metric: 0.9590\n",
            "perturbation loss: 0.0020\n",
            "Validation acc: 0.9867\n",
            "Validation F1: 0.9867\n",
            "\n",
            "Start of epoch 309\n",
            "Training loss: 0.0001\n",
            "Training metric: 0.9592\n",
            "perturbation loss: 0.0059\n"
          ]
        },
        {
          "output_type": "stream",
          "name": "stderr",
          "text": [
            "\r 31%|███       | 310/1000 [06:50<14:27,  1.26s/it]"
          ]
        },
        {
          "output_type": "stream",
          "name": "stdout",
          "text": [
            "Validation acc: 0.9600\n",
            "Validation F1: 0.9608\n",
            "\n",
            "Start of epoch 310\n",
            "Training loss: 0.1100\n",
            "Training metric: 0.9593\n",
            "perturbation loss: 4.6631\n"
          ]
        },
        {
          "output_type": "stream",
          "name": "stderr",
          "text": [
            "\r 31%|███       | 311/1000 [06:51<15:40,  1.37s/it]"
          ]
        },
        {
          "output_type": "stream",
          "name": "stdout",
          "text": [
            "Validation acc: 0.7600\n",
            "Validation F1: 0.7380\n",
            "\n",
            "Start of epoch 311\n",
            "Training loss: 0.0002\n",
            "Training metric: 0.9594\n",
            "perturbation loss: 0.0056\n",
            "Validation acc: 0.9533\n",
            "Validation F1: 0.9543\n"
          ]
        },
        {
          "output_type": "stream",
          "name": "stderr",
          "text": [
            "\r 31%|███       | 312/1000 [06:54<20:28,  1.79s/it]"
          ]
        },
        {
          "output_type": "stream",
          "name": "stdout",
          "text": [
            "\n",
            "Start of epoch 312\n",
            "Training loss: 0.0236\n",
            "Training metric: 0.9596\n",
            "perturbation loss: 1.1380\n",
            "Validation acc: 0.9667\n",
            "Validation F1: 0.9661\n"
          ]
        },
        {
          "output_type": "stream",
          "name": "stderr",
          "text": [
            "\r 31%|███▏      | 313/1000 [06:55<18:22,  1.60s/it]"
          ]
        },
        {
          "output_type": "stream",
          "name": "stdout",
          "text": [
            "\n",
            "Start of epoch 313\n",
            "Training loss: 0.0002\n",
            "Training metric: 0.9597\n",
            "perturbation loss: 0.0090\n",
            "Validation acc: 0.9733\n"
          ]
        },
        {
          "output_type": "stream",
          "name": "stderr",
          "text": [
            "\r 31%|███▏      | 314/1000 [06:56<16:55,  1.48s/it]"
          ]
        },
        {
          "output_type": "stream",
          "name": "stdout",
          "text": [
            "Validation F1: 0.9733\n",
            "\n",
            "Start of epoch 314\n",
            "Training loss: 0.0089\n",
            "Training metric: 0.9598\n",
            "perturbation loss: 0.3919\n",
            "Validation acc: 0.9800\n",
            "Validation F1: 0.9796\n"
          ]
        },
        {
          "output_type": "stream",
          "name": "stderr",
          "text": [
            "\r 32%|███▏      | 315/1000 [06:58<15:51,  1.39s/it]"
          ]
        },
        {
          "output_type": "stream",
          "name": "stdout",
          "text": [
            "\n",
            "Start of epoch 315\n",
            "Training loss: 0.0005\n",
            "Training metric: 0.9599\n",
            "perturbation loss: 0.0257\n",
            "Validation acc: 0.9800\n"
          ]
        },
        {
          "output_type": "stream",
          "name": "stderr",
          "text": [
            "\r 32%|███▏      | 316/1000 [06:59<15:12,  1.33s/it]"
          ]
        },
        {
          "output_type": "stream",
          "name": "stdout",
          "text": [
            "Validation F1: 0.9802\n",
            "\n",
            "Start of epoch 316\n",
            "Training loss: 0.0004\n",
            "Training metric: 0.9601\n",
            "perturbation loss: 0.0140\n"
          ]
        },
        {
          "output_type": "stream",
          "name": "stderr",
          "text": [
            "\r 32%|███▏      | 317/1000 [07:00<14:50,  1.30s/it]"
          ]
        },
        {
          "output_type": "stream",
          "name": "stdout",
          "text": [
            "Validation acc: 0.9800\n",
            "Validation F1: 0.9799\n",
            "\n",
            "Start of epoch 317\n",
            "Training loss: 0.0001\n",
            "Training metric: 0.9602\n",
            "perturbation loss: 0.0030\n",
            "Validation acc: 0.9667\n",
            "Validation F1: 0.9660\n"
          ]
        },
        {
          "output_type": "stream",
          "name": "stderr",
          "text": [
            "\r 32%|███▏      | 318/1000 [07:01<14:29,  1.27s/it]"
          ]
        },
        {
          "output_type": "stream",
          "name": "stdout",
          "text": [
            "\n",
            "Start of epoch 318\n",
            "Training loss: 0.0001\n",
            "Training metric: 0.9603\n",
            "perturbation loss: 0.0020\n",
            "Validation acc: 0.9667\n",
            "Validation F1: 0.9660\n"
          ]
        },
        {
          "output_type": "stream",
          "name": "stderr",
          "text": [
            "\r 32%|███▏      | 319/1000 [07:02<14:09,  1.25s/it]"
          ]
        },
        {
          "output_type": "stream",
          "name": "stdout",
          "text": [
            "\n",
            "Start of epoch 319\n",
            "Training loss: 0.0000\n",
            "Training metric: 0.9604\n",
            "perturbation loss: 0.0017\n"
          ]
        },
        {
          "output_type": "stream",
          "name": "stderr",
          "text": [
            "\r 32%|███▏      | 320/1000 [07:04<14:39,  1.29s/it]"
          ]
        },
        {
          "output_type": "stream",
          "name": "stdout",
          "text": [
            "Validation acc: 0.9733\n",
            "Validation F1: 0.9733\n",
            "\n",
            "Start of epoch 320\n",
            "Training loss: 0.0001\n",
            "Training metric: 0.9606\n",
            "perturbation loss: 0.0045\n"
          ]
        },
        {
          "output_type": "stream",
          "name": "stderr",
          "text": [
            "\r 32%|███▏      | 321/1000 [07:05<15:32,  1.37s/it]"
          ]
        },
        {
          "output_type": "stream",
          "name": "stdout",
          "text": [
            "Validation acc: 0.9933\n",
            "Validation F1: 0.9933\n",
            "\n",
            "Start of epoch 321\n",
            "Training loss: 0.0000\n",
            "Training metric: 0.9607\n",
            "perturbation loss: 0.0011\n"
          ]
        },
        {
          "output_type": "stream",
          "name": "stderr",
          "text": [
            "\r 32%|███▏      | 322/1000 [07:07<16:04,  1.42s/it]"
          ]
        },
        {
          "output_type": "stream",
          "name": "stdout",
          "text": [
            "Validation acc: 0.9867\n",
            "Validation F1: 0.9868\n",
            "\n",
            "Start of epoch 322\n",
            "Training loss: 0.0001\n",
            "Training metric: 0.9608\n",
            "perturbation loss: 0.0027\n",
            "Validation acc: 0.9933\n",
            "Validation F1: 0.9933\n"
          ]
        },
        {
          "output_type": "stream",
          "name": "stderr",
          "text": [
            "\r 32%|███▏      | 323/1000 [07:08<15:17,  1.36s/it]"
          ]
        },
        {
          "output_type": "stream",
          "name": "stdout",
          "text": [
            "\n",
            "Start of epoch 323\n",
            "Training loss: 0.0002\n",
            "Training metric: 0.9609\n",
            "perturbation loss: 0.0070\n",
            "Validation acc: 0.9933\n",
            "Validation F1: 0.9933\n"
          ]
        },
        {
          "output_type": "stream",
          "name": "stderr",
          "text": [
            "\r 32%|███▏      | 324/1000 [07:09<14:49,  1.32s/it]"
          ]
        },
        {
          "output_type": "stream",
          "name": "stdout",
          "text": [
            "\n",
            "Start of epoch 324\n",
            "Training loss: 0.0001\n",
            "Training metric: 0.9610\n",
            "perturbation loss: 0.0033\n",
            "Validation acc: 0.9933\n"
          ]
        },
        {
          "output_type": "stream",
          "name": "stderr",
          "text": [
            "\r 32%|███▎      | 325/1000 [07:11<14:23,  1.28s/it]"
          ]
        },
        {
          "output_type": "stream",
          "name": "stdout",
          "text": [
            "Validation F1: 0.9933\n",
            "\n",
            "Start of epoch 325\n",
            "Training loss: 0.0000\n",
            "Training metric: 0.9612\n",
            "perturbation loss: 0.0004\n"
          ]
        },
        {
          "output_type": "stream",
          "name": "stderr",
          "text": [
            "\r 33%|███▎      | 326/1000 [07:12<14:06,  1.26s/it]"
          ]
        },
        {
          "output_type": "stream",
          "name": "stdout",
          "text": [
            "Validation acc: 0.9867\n",
            "Validation F1: 0.9868\n",
            "\n",
            "Start of epoch 326\n",
            "Training loss: 0.0000\n",
            "Training metric: 0.9613\n",
            "perturbation loss: 0.0004\n",
            "Validation acc: 0.9867\n"
          ]
        },
        {
          "output_type": "stream",
          "name": "stderr",
          "text": [
            "\r 33%|███▎      | 327/1000 [07:13<13:53,  1.24s/it]"
          ]
        },
        {
          "output_type": "stream",
          "name": "stdout",
          "text": [
            "Validation F1: 0.9868\n",
            "\n",
            "Start of epoch 327\n",
            "Training loss: 0.0000\n",
            "Training metric: 0.9614\n",
            "perturbation loss: 0.0013\n",
            "Validation acc: 0.9933\n",
            "Validation F1: 0.9933\n"
          ]
        },
        {
          "output_type": "stream",
          "name": "stderr",
          "text": [
            "\r 33%|███▎      | 328/1000 [07:14<13:38,  1.22s/it]"
          ]
        },
        {
          "output_type": "stream",
          "name": "stdout",
          "text": [
            "\n",
            "Start of epoch 328\n"
          ]
        },
        {
          "output_type": "stream",
          "name": "stderr",
          "text": [
            "\r 33%|███▎      | 329/1000 [07:15<13:32,  1.21s/it]"
          ]
        },
        {
          "output_type": "stream",
          "name": "stdout",
          "text": [
            "Training loss: 0.0000\n",
            "Training metric: 0.9615\n",
            "perturbation loss: 0.0002\n",
            "Validation acc: 0.9933\n",
            "Validation F1: 0.9933\n",
            "\n",
            "Start of epoch 329\n",
            "Training loss: 0.0000\n",
            "Training metric: 0.9616\n",
            "perturbation loss: 0.0005\n",
            "Validation acc: 0.9867\n"
          ]
        },
        {
          "output_type": "stream",
          "name": "stderr",
          "text": [
            "\r 33%|███▎      | 330/1000 [07:17<13:33,  1.21s/it]"
          ]
        },
        {
          "output_type": "stream",
          "name": "stdout",
          "text": [
            "Validation F1: 0.9868\n",
            "\n",
            "Start of epoch 330\n",
            "Training loss: 0.0000\n",
            "Training metric: 0.9618\n",
            "perturbation loss: 0.0009\n"
          ]
        },
        {
          "output_type": "stream",
          "name": "stderr",
          "text": [
            "\r 33%|███▎      | 331/1000 [07:18<14:28,  1.30s/it]"
          ]
        },
        {
          "output_type": "stream",
          "name": "stdout",
          "text": [
            "Validation acc: 0.9800\n",
            "Validation F1: 0.9802\n",
            "\n",
            "Start of epoch 331\n",
            "Training loss: 0.0000\n",
            "Training metric: 0.9619\n",
            "perturbation loss: 0.0006\n"
          ]
        },
        {
          "output_type": "stream",
          "name": "stderr",
          "text": [
            "\r 33%|███▎      | 332/1000 [07:20<15:30,  1.39s/it]"
          ]
        },
        {
          "output_type": "stream",
          "name": "stdout",
          "text": [
            "Validation acc: 0.9867\n",
            "Validation F1: 0.9868\n",
            "\n",
            "Start of epoch 332\n",
            "Training loss: 0.0000\n",
            "Training metric: 0.9620\n",
            "perturbation loss: 0.0008\n",
            "Validation acc: 0.9867\n",
            "Validation F1: 0.9868\n"
          ]
        },
        {
          "output_type": "stream",
          "name": "stderr",
          "text": [
            "\r 33%|███▎      | 333/1000 [07:21<15:35,  1.40s/it]"
          ]
        },
        {
          "output_type": "stream",
          "name": "stdout",
          "text": [
            "\n",
            "Start of epoch 333\n",
            "Training loss: 0.0000\n",
            "Training metric: 0.9621\n",
            "perturbation loss: 0.0002\n",
            "Validation acc: 0.9933\n",
            "Validation F1: 0.9933\n"
          ]
        },
        {
          "output_type": "stream",
          "name": "stderr",
          "text": [
            "\r 33%|███▎      | 334/1000 [07:22<14:49,  1.34s/it]"
          ]
        },
        {
          "output_type": "stream",
          "name": "stdout",
          "text": [
            "\n",
            "Start of epoch 334\n",
            "Training loss: 0.0002\n",
            "Training metric: 0.9622\n",
            "perturbation loss: 0.0072\n"
          ]
        },
        {
          "output_type": "stream",
          "name": "stderr",
          "text": [
            "\r 34%|███▎      | 335/1000 [07:23<14:22,  1.30s/it]"
          ]
        },
        {
          "output_type": "stream",
          "name": "stdout",
          "text": [
            "Validation acc: 0.9933\n",
            "Validation F1: 0.9933\n",
            "\n",
            "Start of epoch 335\n",
            "Training loss: 0.0000\n",
            "Training metric: 0.9623\n",
            "perturbation loss: 0.0012\n"
          ]
        },
        {
          "output_type": "stream",
          "name": "stderr",
          "text": [
            "\r 34%|███▎      | 336/1000 [07:25<14:07,  1.28s/it]"
          ]
        },
        {
          "output_type": "stream",
          "name": "stdout",
          "text": [
            "Validation acc: 0.9800\n",
            "Validation F1: 0.9802\n",
            "\n",
            "Start of epoch 336\n",
            "Training loss: 0.0000\n",
            "Training metric: 0.9624\n",
            "perturbation loss: 0.0003\n",
            "Validation acc: 0.9933\n",
            "Validation F1: 0.9933\n"
          ]
        },
        {
          "output_type": "stream",
          "name": "stderr",
          "text": [
            "\r 34%|███▎      | 337/1000 [07:26<13:47,  1.25s/it]"
          ]
        },
        {
          "output_type": "stream",
          "name": "stdout",
          "text": [
            "\n",
            "Start of epoch 337\n",
            "Training loss: 0.0001\n",
            "Training metric: 0.9625\n",
            "perturbation loss: 0.0022\n",
            "Validation acc: 0.9067\n",
            "Validation F1: 0.9071\n"
          ]
        },
        {
          "output_type": "stream",
          "name": "stderr",
          "text": [
            "\r 34%|███▍      | 338/1000 [07:27<13:37,  1.23s/it]"
          ]
        },
        {
          "output_type": "stream",
          "name": "stdout",
          "text": [
            "\n",
            "Start of epoch 338\n"
          ]
        },
        {
          "output_type": "stream",
          "name": "stderr",
          "text": [
            "\r 34%|███▍      | 339/1000 [07:28<13:24,  1.22s/it]"
          ]
        },
        {
          "output_type": "stream",
          "name": "stdout",
          "text": [
            "Training loss: 0.0008\n",
            "Training metric: 0.9627\n",
            "perturbation loss: 0.0113\n",
            "Validation acc: 0.9800\n",
            "Validation F1: 0.9800\n",
            "\n",
            "Start of epoch 339\n",
            "Training loss: 0.0002\n",
            "Training metric: 0.9628\n",
            "perturbation loss: 0.0065\n",
            "Validation acc: 0.9867\n",
            "Validation F1: 0.9868\n"
          ]
        },
        {
          "output_type": "stream",
          "name": "stderr",
          "text": [
            "\r 34%|███▍      | 340/1000 [07:29<13:17,  1.21s/it]"
          ]
        },
        {
          "output_type": "stream",
          "name": "stdout",
          "text": [
            "\n",
            "Start of epoch 340\n",
            "Training loss: 0.0023\n",
            "Training metric: 0.9629\n",
            "perturbation loss: 0.1067\n"
          ]
        },
        {
          "output_type": "stream",
          "name": "stderr",
          "text": [
            "\r 34%|███▍      | 341/1000 [07:31<13:20,  1.21s/it]"
          ]
        },
        {
          "output_type": "stream",
          "name": "stdout",
          "text": [
            "Validation acc: 0.9667\n",
            "Validation F1: 0.9670\n",
            "\n",
            "Start of epoch 341\n",
            "Training loss: 0.0036\n",
            "Training metric: 0.9630\n",
            "perturbation loss: 0.1619\n"
          ]
        },
        {
          "output_type": "stream",
          "name": "stderr",
          "text": [
            "\r 34%|███▍      | 342/1000 [07:32<14:27,  1.32s/it]"
          ]
        },
        {
          "output_type": "stream",
          "name": "stdout",
          "text": [
            "Validation acc: 0.9333\n",
            "Validation F1: 0.9300\n",
            "\n",
            "Start of epoch 342\n",
            "Training loss: 0.0004\n",
            "Training metric: 0.9631\n",
            "perturbation loss: 0.0139\n"
          ]
        },
        {
          "output_type": "stream",
          "name": "stderr",
          "text": [
            "\r 34%|███▍      | 343/1000 [07:34<15:21,  1.40s/it]"
          ]
        },
        {
          "output_type": "stream",
          "name": "stdout",
          "text": [
            "Validation acc: 0.9667\n",
            "Validation F1: 0.9660\n",
            "\n",
            "Start of epoch 343\n",
            "Training loss: 0.0005\n",
            "Training metric: 0.9632\n",
            "perturbation loss: 0.0193\n",
            "Validation acc: 0.9667\n",
            "Validation F1: 0.9669\n"
          ]
        },
        {
          "output_type": "stream",
          "name": "stderr",
          "text": [
            "\r 34%|███▍      | 344/1000 [07:35<15:25,  1.41s/it]"
          ]
        },
        {
          "output_type": "stream",
          "name": "stdout",
          "text": [
            "\n",
            "Start of epoch 344\n"
          ]
        },
        {
          "output_type": "stream",
          "name": "stderr",
          "text": [
            "\r 34%|███▍      | 345/1000 [07:36<14:36,  1.34s/it]"
          ]
        },
        {
          "output_type": "stream",
          "name": "stdout",
          "text": [
            "Training loss: 0.0000\n",
            "Training metric: 0.9633\n",
            "perturbation loss: 0.0008\n",
            "Validation acc: 0.9800\n",
            "Validation F1: 0.9802\n",
            "\n",
            "Start of epoch 345\n",
            "Training loss: 0.0000\n",
            "Training metric: 0.9634\n",
            "perturbation loss: 0.0016\n",
            "Validation acc: 0.9867\n",
            "Validation F1: 0.9868\n"
          ]
        },
        {
          "output_type": "stream",
          "name": "stderr",
          "text": [
            "\r 35%|███▍      | 346/1000 [07:38<14:03,  1.29s/it]"
          ]
        },
        {
          "output_type": "stream",
          "name": "stdout",
          "text": [
            "\n",
            "Start of epoch 346\n",
            "Training loss: 0.0000\n",
            "Training metric: 0.9635\n",
            "perturbation loss: 0.0002\n",
            "Validation acc: 0.9933\n"
          ]
        },
        {
          "output_type": "stream",
          "name": "stderr",
          "text": [
            "\r 35%|███▍      | 347/1000 [07:39<13:50,  1.27s/it]"
          ]
        },
        {
          "output_type": "stream",
          "name": "stdout",
          "text": [
            "Validation F1: 0.9933\n",
            "\n",
            "Start of epoch 347\n",
            "Training loss: 0.0003\n",
            "Training metric: 0.9636\n",
            "perturbation loss: 0.0117\n"
          ]
        },
        {
          "output_type": "stream",
          "name": "stderr",
          "text": [
            "\r 35%|███▍      | 348/1000 [07:40<13:58,  1.29s/it]"
          ]
        },
        {
          "output_type": "stream",
          "name": "stdout",
          "text": [
            "Validation acc: 0.9867\n",
            "Validation F1: 0.9865\n",
            "\n",
            "Start of epoch 348\n",
            "Training loss: 0.0000\n",
            "Training metric: 0.9637\n",
            "perturbation loss: 0.0005\n",
            "Validation acc: 0.9933\n",
            "Validation F1: 0.9933\n"
          ]
        },
        {
          "output_type": "stream",
          "name": "stderr",
          "text": [
            "\r 35%|███▍      | 349/1000 [07:41<13:39,  1.26s/it]"
          ]
        },
        {
          "output_type": "stream",
          "name": "stdout",
          "text": [
            "\n",
            "Start of epoch 349\n",
            "Training loss: 0.0000\n",
            "Training metric: 0.9638\n",
            "perturbation loss: 0.0012\n",
            "Validation acc: 0.9933\n",
            "Validation F1: 0.9933\n"
          ]
        },
        {
          "output_type": "stream",
          "name": "stderr",
          "text": [
            "\r 35%|███▌      | 350/1000 [07:43<13:23,  1.24s/it]"
          ]
        },
        {
          "output_type": "stream",
          "name": "stdout",
          "text": [
            "\n",
            "Start of epoch 350\n",
            "Training loss: 0.0000\n",
            "Training metric: 0.9639\n",
            "perturbation loss: 0.0001\n",
            "Validation acc: 0.9933\n",
            "Validation F1: 0.9933\n"
          ]
        },
        {
          "output_type": "stream",
          "name": "stderr",
          "text": [
            "\r 35%|███▌      | 351/1000 [07:44<13:12,  1.22s/it]"
          ]
        },
        {
          "output_type": "stream",
          "name": "stdout",
          "text": [
            "\n",
            "Start of epoch 351\n",
            "Training loss: 0.0000\n",
            "Training metric: 0.9640\n",
            "perturbation loss: 0.0009\n"
          ]
        },
        {
          "output_type": "stream",
          "name": "stderr",
          "text": [
            "\r 35%|███▌      | 352/1000 [07:45<13:32,  1.25s/it]"
          ]
        },
        {
          "output_type": "stream",
          "name": "stdout",
          "text": [
            "Validation acc: 0.9933\n",
            "Validation F1: 0.9933\n",
            "\n",
            "Start of epoch 352\n",
            "Training loss: 0.0001\n",
            "Training metric: 0.9641\n",
            "perturbation loss: 0.0062\n"
          ]
        },
        {
          "output_type": "stream",
          "name": "stderr",
          "text": [
            "\r 35%|███▌      | 353/1000 [07:48<18:35,  1.72s/it]"
          ]
        },
        {
          "output_type": "stream",
          "name": "stdout",
          "text": [
            "Validation acc: 0.9867\n",
            "Validation F1: 0.9865\n",
            "\n",
            "Start of epoch 353\n",
            "Training loss: 0.0000\n",
            "Training metric: 0.9642\n",
            "perturbation loss: 0.0002\n"
          ]
        },
        {
          "output_type": "stream",
          "name": "stderr",
          "text": [
            "\r 35%|███▌      | 354/1000 [07:49<16:54,  1.57s/it]"
          ]
        },
        {
          "output_type": "stream",
          "name": "stdout",
          "text": [
            "Validation acc: 0.9933\n",
            "Validation F1: 0.9933\n",
            "\n",
            "Start of epoch 354\n",
            "Training loss: 0.0001\n",
            "Training metric: 0.9643\n",
            "perturbation loss: 0.0048\n",
            "Validation acc: 0.9867\n",
            "Validation F1: 0.9865\n"
          ]
        },
        {
          "output_type": "stream",
          "name": "stderr",
          "text": [
            "\r 36%|███▌      | 355/1000 [07:50<15:38,  1.45s/it]"
          ]
        },
        {
          "output_type": "stream",
          "name": "stdout",
          "text": [
            "\n",
            "Start of epoch 355\n",
            "Training loss: 0.0000\n",
            "Training metric: 0.9644\n",
            "perturbation loss: 0.0020\n",
            "Validation acc: 0.9933\n",
            "Validation F1: 0.9933\n"
          ]
        },
        {
          "output_type": "stream",
          "name": "stderr",
          "text": [
            "\r 36%|███▌      | 356/1000 [07:51<14:46,  1.38s/it]"
          ]
        },
        {
          "output_type": "stream",
          "name": "stdout",
          "text": [
            "\n",
            "Start of epoch 356\n",
            "Training loss: 0.0000\n",
            "Training metric: 0.9645\n",
            "perturbation loss: 0.0014\n",
            "Validation acc: 0.9867\n",
            "Validation F1: 0.9868\n"
          ]
        },
        {
          "output_type": "stream",
          "name": "stderr",
          "text": [
            "\r 36%|███▌      | 357/1000 [07:53<14:12,  1.33s/it]"
          ]
        },
        {
          "output_type": "stream",
          "name": "stdout",
          "text": [
            "\n",
            "Start of epoch 357\n",
            "Training loss: 0.0000\n",
            "Training metric: 0.9646\n",
            "perturbation loss: 0.0007\n"
          ]
        },
        {
          "output_type": "stream",
          "name": "stderr",
          "text": [
            "\r 36%|███▌      | 358/1000 [07:54<13:52,  1.30s/it]"
          ]
        },
        {
          "output_type": "stream",
          "name": "stdout",
          "text": [
            "Validation acc: 0.9933\n",
            "Validation F1: 0.9933\n",
            "\n",
            "Start of epoch 358\n",
            "Training loss: 0.0000\n",
            "Training metric: 0.9647\n",
            "perturbation loss: 0.0004\n"
          ]
        },
        {
          "output_type": "stream",
          "name": "stderr",
          "text": [
            "\r 36%|███▌      | 359/1000 [07:55<13:38,  1.28s/it]"
          ]
        },
        {
          "output_type": "stream",
          "name": "stdout",
          "text": [
            "Validation acc: 0.9933\n",
            "Validation F1: 0.9933\n",
            "\n",
            "Start of epoch 359\n",
            "Training loss: 0.0000\n",
            "Training metric: 0.9648\n",
            "perturbation loss: 0.0002\n",
            "Validation acc: 0.9867\n",
            "Validation F1: 0.9867\n"
          ]
        },
        {
          "output_type": "stream",
          "name": "stderr",
          "text": [
            "\r 36%|███▌      | 360/1000 [07:56<13:22,  1.25s/it]"
          ]
        },
        {
          "output_type": "stream",
          "name": "stdout",
          "text": [
            "\n",
            "Start of epoch 360\n",
            "Training loss: 0.0000\n",
            "Training metric: 0.9649\n",
            "perturbation loss: 0.0003\n",
            "Validation acc: 0.9800\n",
            "Validation F1: 0.9802\n"
          ]
        },
        {
          "output_type": "stream",
          "name": "stderr",
          "text": [
            "\r 36%|███▌      | 361/1000 [07:58<13:13,  1.24s/it]"
          ]
        },
        {
          "output_type": "stream",
          "name": "stdout",
          "text": [
            "\n",
            "Start of epoch 361\n",
            "Training loss: 0.0000\n",
            "Training metric: 0.9650\n",
            "perturbation loss: 0.0005\n"
          ]
        },
        {
          "output_type": "stream",
          "name": "stderr",
          "text": [
            "\r 36%|███▌      | 362/1000 [07:59<14:04,  1.32s/it]"
          ]
        },
        {
          "output_type": "stream",
          "name": "stdout",
          "text": [
            "Validation acc: 0.9867\n",
            "Validation F1: 0.9868\n",
            "\n",
            "Start of epoch 362\n",
            "Training loss: 0.0002\n",
            "Training metric: 0.9651\n",
            "perturbation loss: 0.0106\n"
          ]
        },
        {
          "output_type": "stream",
          "name": "stderr",
          "text": [
            "\r 36%|███▋      | 363/1000 [08:01<14:49,  1.40s/it]"
          ]
        },
        {
          "output_type": "stream",
          "name": "stdout",
          "text": [
            "Validation acc: 0.9467\n",
            "Validation F1: 0.9468\n",
            "\n",
            "Start of epoch 363\n",
            "Training loss: 0.0010\n",
            "Training metric: 0.9652\n",
            "perturbation loss: 0.0409\n",
            "Validation acc: 0.9800\n"
          ]
        },
        {
          "output_type": "stream",
          "name": "stderr",
          "text": [
            "\r 36%|███▋      | 364/1000 [08:02<14:56,  1.41s/it]"
          ]
        },
        {
          "output_type": "stream",
          "name": "stdout",
          "text": [
            "Validation F1: 0.9800\n",
            "\n",
            "Start of epoch 364\n",
            "Training loss: 0.0001\n",
            "Training metric: 0.9653\n",
            "perturbation loss: 0.0023\n",
            "Validation acc: 0.9733\n",
            "Validation F1: 0.9737\n"
          ]
        },
        {
          "output_type": "stream",
          "name": "stderr",
          "text": [
            "\r 36%|███▋      | 365/1000 [08:03<14:14,  1.35s/it]"
          ]
        },
        {
          "output_type": "stream",
          "name": "stdout",
          "text": [
            "\n",
            "Start of epoch 365\n",
            "Training loss: 0.0006\n",
            "Training metric: 0.9654\n",
            "perturbation loss: 0.0222\n",
            "Validation acc: 0.9467\n",
            "Validation F1: 0.9466\n"
          ]
        },
        {
          "output_type": "stream",
          "name": "stderr",
          "text": [
            "\r 37%|███▋      | 366/1000 [08:04<13:41,  1.30s/it]"
          ]
        },
        {
          "output_type": "stream",
          "name": "stdout",
          "text": [
            "\n",
            "Start of epoch 366\n",
            "Training loss: 0.0011\n",
            "Training metric: 0.9655\n",
            "perturbation loss: 0.0490\n"
          ]
        },
        {
          "output_type": "stream",
          "name": "stderr",
          "text": [
            "\r 37%|███▋      | 367/1000 [08:06<13:43,  1.30s/it]"
          ]
        },
        {
          "output_type": "stream",
          "name": "stdout",
          "text": [
            "Validation acc: 0.9667\n",
            "Validation F1: 0.9665\n",
            "\n",
            "Start of epoch 367\n",
            "Training loss: 0.0006\n",
            "Training metric: 0.9656\n",
            "perturbation loss: 0.0256\n",
            "Validation acc: 0.9800\n",
            "Validation F1: 0.9802\n"
          ]
        },
        {
          "output_type": "stream",
          "name": "stderr",
          "text": [
            "\r 37%|███▋      | 368/1000 [08:07<13:20,  1.27s/it]"
          ]
        },
        {
          "output_type": "stream",
          "name": "stdout",
          "text": [
            "\n",
            "Start of epoch 368\n"
          ]
        },
        {
          "output_type": "stream",
          "name": "stderr",
          "text": [
            "\r 37%|███▋      | 369/1000 [08:08<13:01,  1.24s/it]"
          ]
        },
        {
          "output_type": "stream",
          "name": "stdout",
          "text": [
            "Training loss: 0.0001\n",
            "Training metric: 0.9657\n",
            "perturbation loss: 0.0063\n",
            "Validation acc: 0.9867\n",
            "Validation F1: 0.9867\n",
            "\n",
            "Start of epoch 369\n",
            "Training loss: 0.0001\n",
            "Training metric: 0.9658\n",
            "perturbation loss: 0.0017\n",
            "Validation acc: 1.0000\n",
            "Validation F1: 1.0000\n"
          ]
        },
        {
          "output_type": "stream",
          "name": "stderr",
          "text": [
            "\r 37%|███▋      | 370/1000 [08:09<12:49,  1.22s/it]"
          ]
        },
        {
          "output_type": "stream",
          "name": "stdout",
          "text": [
            "\n",
            "Start of epoch 370\n",
            "Training loss: 0.0001\n",
            "Training metric: 0.9659\n",
            "perturbation loss: 0.0048\n",
            "Validation acc: 0.9933\n",
            "Validation F1: 0.9933\n"
          ]
        },
        {
          "output_type": "stream",
          "name": "stderr",
          "text": [
            "\r 37%|███▋      | 371/1000 [08:10<12:43,  1.21s/it]"
          ]
        },
        {
          "output_type": "stream",
          "name": "stdout",
          "text": [
            "\n",
            "Start of epoch 371\n"
          ]
        },
        {
          "output_type": "stream",
          "name": "stderr",
          "text": [
            "\r 37%|███▋      | 372/1000 [08:12<12:36,  1.20s/it]"
          ]
        },
        {
          "output_type": "stream",
          "name": "stdout",
          "text": [
            "Training loss: 0.0001\n",
            "Training metric: 0.9660\n",
            "perturbation loss: 0.0071\n",
            "Validation acc: 0.9933\n",
            "Validation F1: 0.9933\n",
            "\n",
            "Start of epoch 372\n",
            "Training loss: 0.0001\n",
            "Training metric: 0.9661\n",
            "perturbation loss: 0.0044\n"
          ]
        },
        {
          "output_type": "stream",
          "name": "stderr",
          "text": [
            "\r 37%|███▋      | 373/1000 [08:13<13:46,  1.32s/it]"
          ]
        },
        {
          "output_type": "stream",
          "name": "stdout",
          "text": [
            "Validation acc: 0.9800\n",
            "Validation F1: 0.9799\n",
            "\n",
            "Start of epoch 373\n",
            "Training loss: 0.0005\n",
            "Training metric: 0.9662\n",
            "perturbation loss: 0.0139\n"
          ]
        },
        {
          "output_type": "stream",
          "name": "stderr",
          "text": [
            "\r 37%|███▋      | 374/1000 [08:15<14:27,  1.39s/it]"
          ]
        },
        {
          "output_type": "stream",
          "name": "stdout",
          "text": [
            "Validation acc: 0.9800\n",
            "Validation F1: 0.9799\n",
            "\n",
            "Start of epoch 374\n",
            "Training loss: 0.0003\n",
            "Training metric: 0.9662\n",
            "perturbation loss: 0.0128\n"
          ]
        },
        {
          "output_type": "stream",
          "name": "stderr",
          "text": [
            "\r 38%|███▊      | 375/1000 [08:16<14:28,  1.39s/it]"
          ]
        },
        {
          "output_type": "stream",
          "name": "stdout",
          "text": [
            "Validation acc: 0.9600\n",
            "Validation F1: 0.9588\n",
            "\n",
            "Start of epoch 375\n",
            "Training loss: 0.0008\n",
            "Training metric: 0.9663\n",
            "perturbation loss: 0.0273\n",
            "Validation acc: 0.9867\n"
          ]
        },
        {
          "output_type": "stream",
          "name": "stderr",
          "text": [
            "\r 38%|███▊      | 376/1000 [08:17<13:52,  1.33s/it]"
          ]
        },
        {
          "output_type": "stream",
          "name": "stdout",
          "text": [
            "Validation F1: 0.9867\n",
            "\n",
            "Start of epoch 376\n",
            "Training loss: 0.0000\n",
            "Training metric: 0.9664\n",
            "perturbation loss: 0.0004\n"
          ]
        },
        {
          "output_type": "stream",
          "name": "stderr",
          "text": [
            "\r 38%|███▊      | 377/1000 [08:19<13:26,  1.29s/it]"
          ]
        },
        {
          "output_type": "stream",
          "name": "stdout",
          "text": [
            "Validation acc: 0.9800\n",
            "Validation F1: 0.9802\n",
            "\n",
            "Start of epoch 377\n",
            "Training loss: 0.0013\n",
            "Training metric: 0.9665\n",
            "perturbation loss: 0.0583\n",
            "Validation acc: 0.9867\n",
            "Validation F1: 0.9868"
          ]
        },
        {
          "output_type": "stream",
          "name": "stderr",
          "text": [
            "\r 38%|███▊      | 378/1000 [08:20<13:07,  1.27s/it]"
          ]
        },
        {
          "output_type": "stream",
          "name": "stdout",
          "text": [
            "\n",
            "\n",
            "Start of epoch 378\n",
            "Training loss: 0.0001\n",
            "Training metric: 0.9666\n",
            "perturbation loss: 0.0054\n",
            "Validation acc: 0.9800\n",
            "Validation F1: 0.9799\n"
          ]
        },
        {
          "output_type": "stream",
          "name": "stderr",
          "text": [
            "\r 38%|███▊      | 379/1000 [08:21<12:52,  1.24s/it]"
          ]
        },
        {
          "output_type": "stream",
          "name": "stdout",
          "text": [
            "\n",
            "Start of epoch 379\n",
            "Training loss: 0.0000\n",
            "Training metric: 0.9667\n",
            "perturbation loss: 0.0013\n",
            "Validation acc: 0.9867\n",
            "Validation F1: 0.9868\n"
          ]
        },
        {
          "output_type": "stream",
          "name": "stderr",
          "text": [
            "\r 38%|███▊      | 380/1000 [08:22<12:37,  1.22s/it]"
          ]
        },
        {
          "output_type": "stream",
          "name": "stdout",
          "text": [
            "\n",
            "Start of epoch 380\n",
            "Training loss: 0.0000\n",
            "Training metric: 0.9668\n",
            "perturbation loss: 0.0003\n",
            "Validation acc: 0.9800\n",
            "Validation F1: 0.9802\n"
          ]
        },
        {
          "output_type": "stream",
          "name": "stderr",
          "text": [
            "\r 38%|███▊      | 381/1000 [08:23<12:29,  1.21s/it]"
          ]
        },
        {
          "output_type": "stream",
          "name": "stdout",
          "text": [
            "\n",
            "Start of epoch 381\n",
            "Training loss: 0.0000\n",
            "Training metric: 0.9669\n",
            "perturbation loss: 0.0016\n",
            "Validation acc: 0.9800\n"
          ]
        },
        {
          "output_type": "stream",
          "name": "stderr",
          "text": [
            "\r 38%|███▊      | 382/1000 [08:25<12:27,  1.21s/it]"
          ]
        },
        {
          "output_type": "stream",
          "name": "stdout",
          "text": [
            "Validation F1: 0.9802\n",
            "\n",
            "Start of epoch 382\n",
            "Training loss: 0.0000\n",
            "Training metric: 0.9669\n",
            "perturbation loss: 0.0012\n"
          ]
        },
        {
          "output_type": "stream",
          "name": "stderr",
          "text": [
            "\r 38%|███▊      | 383/1000 [08:26<12:43,  1.24s/it]"
          ]
        },
        {
          "output_type": "stream",
          "name": "stdout",
          "text": [
            "Validation acc: 0.9800\n",
            "Validation F1: 0.9802\n",
            "\n",
            "Start of epoch 383\n",
            "Training loss: 0.0000\n",
            "Training metric: 0.9670\n",
            "perturbation loss: 0.0006\n"
          ]
        },
        {
          "output_type": "stream",
          "name": "stderr",
          "text": [
            "\r 38%|███▊      | 384/1000 [08:29<17:42,  1.73s/it]"
          ]
        },
        {
          "output_type": "stream",
          "name": "stdout",
          "text": [
            "Validation acc: 0.9867\n",
            "Validation F1: 0.9868\n",
            "\n",
            "Start of epoch 384\n",
            "Training loss: 0.0000\n",
            "Training metric: 0.9671\n",
            "perturbation loss: 0.0005\n",
            "Validation acc: 0.9867\n"
          ]
        },
        {
          "output_type": "stream",
          "name": "stderr",
          "text": [
            "\r 38%|███▊      | 385/1000 [08:30<16:02,  1.56s/it]"
          ]
        },
        {
          "output_type": "stream",
          "name": "stdout",
          "text": [
            "Validation F1: 0.9868\n",
            "\n",
            "Start of epoch 385\n"
          ]
        },
        {
          "output_type": "stream",
          "name": "stderr",
          "text": [
            "\r 39%|███▊      | 386/1000 [08:31<14:51,  1.45s/it]"
          ]
        },
        {
          "output_type": "stream",
          "name": "stdout",
          "text": [
            "Training loss: 0.0000\n",
            "Training metric: 0.9672\n",
            "perturbation loss: 0.0004\n",
            "Validation acc: 0.9800\n",
            "Validation F1: 0.9802\n",
            "\n",
            "Start of epoch 386\n"
          ]
        },
        {
          "output_type": "stream",
          "name": "stderr",
          "text": [
            "\r 39%|███▊      | 387/1000 [08:32<14:03,  1.38s/it]"
          ]
        },
        {
          "output_type": "stream",
          "name": "stdout",
          "text": [
            "Training loss: 0.0000\n",
            "Training metric: 0.9673\n",
            "perturbation loss: 0.0002\n",
            "Validation acc: 0.9800\n",
            "Validation F1: 0.9802\n",
            "\n",
            "Start of epoch 387\n",
            "Training loss: 0.0000\n",
            "Training metric: 0.9674\n",
            "perturbation loss: 0.0016\n",
            "Validation acc: 0.9733\n",
            "Validation F1: 0.9736\n"
          ]
        },
        {
          "output_type": "stream",
          "name": "stderr",
          "text": [
            "\r 39%|███▉      | 388/1000 [08:33<13:29,  1.32s/it]"
          ]
        },
        {
          "output_type": "stream",
          "name": "stdout",
          "text": [
            "\n",
            "Start of epoch 388\n",
            "Training loss: 0.0000\n",
            "Training metric: 0.9675\n",
            "perturbation loss: 0.0007\n",
            "Validation acc: 0.9867\n",
            "Validation F1: 0.9868\n"
          ]
        },
        {
          "output_type": "stream",
          "name": "stderr",
          "text": [
            "\r 39%|███▉      | 389/1000 [08:35<13:06,  1.29s/it]"
          ]
        },
        {
          "output_type": "stream",
          "name": "stdout",
          "text": [
            "\n",
            "Start of epoch 389\n",
            "Training loss: 0.0001\n",
            "Training metric: 0.9675\n",
            "perturbation loss: 0.0063\n",
            "Validation acc: 0.9867\n"
          ]
        },
        {
          "output_type": "stream",
          "name": "stderr",
          "text": [
            "\r 39%|███▉      | 390/1000 [08:36<12:52,  1.27s/it]"
          ]
        },
        {
          "output_type": "stream",
          "name": "stdout",
          "text": [
            "Validation F1: 0.9868\n",
            "\n",
            "Start of epoch 390\n",
            "Training loss: 0.0000\n",
            "Training metric: 0.9676\n",
            "perturbation loss: 0.0006\n",
            "Validation acc: 0.9867\n",
            "Validation F1: 0.9868\n"
          ]
        },
        {
          "output_type": "stream",
          "name": "stderr",
          "text": [
            "\r 39%|███▉      | 391/1000 [08:37<12:38,  1.25s/it]"
          ]
        },
        {
          "output_type": "stream",
          "name": "stdout",
          "text": [
            "\n",
            "Start of epoch 391\n"
          ]
        },
        {
          "output_type": "stream",
          "name": "stderr",
          "text": [
            "\r 39%|███▉      | 392/1000 [08:38<12:23,  1.22s/it]"
          ]
        },
        {
          "output_type": "stream",
          "name": "stdout",
          "text": [
            "Training loss: 0.0000\n",
            "Training metric: 0.9677\n",
            "perturbation loss: 0.0006\n",
            "Validation acc: 0.9800\n",
            "Validation F1: 0.9802\n",
            "\n",
            "Start of epoch 392\n",
            "Training loss: 0.0000\n",
            "Training metric: 0.9678\n",
            "perturbation loss: 0.0001\n"
          ]
        },
        {
          "output_type": "stream",
          "name": "stderr",
          "text": [
            "\r 39%|███▉      | 393/1000 [08:40<13:15,  1.31s/it]"
          ]
        },
        {
          "output_type": "stream",
          "name": "stdout",
          "text": [
            "Validation acc: 0.9733\n",
            "Validation F1: 0.9737\n",
            "\n",
            "Start of epoch 393\n",
            "Training loss: 0.0000\n",
            "Training metric: 0.9679\n",
            "perturbation loss: 0.0014\n"
          ]
        },
        {
          "output_type": "stream",
          "name": "stderr",
          "text": [
            "\r 39%|███▉      | 394/1000 [08:41<14:05,  1.40s/it]"
          ]
        },
        {
          "output_type": "stream",
          "name": "stdout",
          "text": [
            "Validation acc: 0.9867\n",
            "Validation F1: 0.9868\n",
            "\n",
            "Start of epoch 394\n",
            "Training loss: 0.0000\n",
            "Training metric: 0.9680\n",
            "perturbation loss: 0.0002\n"
          ]
        },
        {
          "output_type": "stream",
          "name": "stderr",
          "text": [
            "\r 40%|███▉      | 395/1000 [08:43<14:37,  1.45s/it]"
          ]
        },
        {
          "output_type": "stream",
          "name": "stdout",
          "text": [
            "Validation acc: 0.9867\n",
            "Validation F1: 0.9868\n",
            "\n",
            "Start of epoch 395\n",
            "Training loss: 0.0000\n",
            "Training metric: 0.9680\n",
            "perturbation loss: 0.0013\n",
            "Validation acc: 0.9800\n"
          ]
        },
        {
          "output_type": "stream",
          "name": "stderr",
          "text": [
            "\r 40%|███▉      | 396/1000 [08:44<13:52,  1.38s/it]"
          ]
        },
        {
          "output_type": "stream",
          "name": "stdout",
          "text": [
            "Validation F1: 0.9799\n",
            "\n",
            "Start of epoch 396\n",
            "Training loss: 0.0000\n",
            "Training metric: 0.9681\n",
            "perturbation loss: 0.0002\n",
            "Validation acc: 0.9733\n",
            "Validation F1: 0.9736\n"
          ]
        },
        {
          "output_type": "stream",
          "name": "stderr",
          "text": [
            "\r 40%|███▉      | 397/1000 [08:45<13:17,  1.32s/it]"
          ]
        },
        {
          "output_type": "stream",
          "name": "stdout",
          "text": [
            "\n",
            "Start of epoch 397\n",
            "Training loss: 0.0000\n",
            "Training metric: 0.9682\n",
            "perturbation loss: 0.0001\n",
            "Validation acc: 0.9400\n",
            "Validation F1: 0.9379\n"
          ]
        },
        {
          "output_type": "stream",
          "name": "stderr",
          "text": [
            "\r 40%|███▉      | 398/1000 [08:47<12:52,  1.28s/it]"
          ]
        },
        {
          "output_type": "stream",
          "name": "stdout",
          "text": [
            "\n",
            "Start of epoch 398\n",
            "Training loss: 0.0010\n",
            "Training metric: 0.9683\n",
            "perturbation loss: 0.0344\n"
          ]
        },
        {
          "output_type": "stream",
          "name": "stderr",
          "text": [
            "\r 40%|███▉      | 399/1000 [08:48<12:52,  1.29s/it]"
          ]
        },
        {
          "output_type": "stream",
          "name": "stdout",
          "text": [
            "Validation acc: 0.7333\n",
            "Validation F1: 0.7029\n",
            "\n",
            "Start of epoch 399\n",
            "Training loss: 0.0168\n",
            "Training metric: 0.9683\n",
            "perturbation loss: 0.4396\n"
          ]
        },
        {
          "output_type": "stream",
          "name": "stderr",
          "text": [
            "\r 40%|████      | 400/1000 [08:49<12:32,  1.25s/it]"
          ]
        },
        {
          "output_type": "stream",
          "name": "stdout",
          "text": [
            "Validation acc: 0.9933\n",
            "Validation F1: 0.9933\n",
            "\n",
            "Start of epoch 400\n",
            "Training loss: 0.0029\n",
            "Training metric: 0.9684\n",
            "perturbation loss: 0.1010\n",
            "Validation acc: 0.9667\n",
            "Validation F1: 0.9660\n"
          ]
        },
        {
          "output_type": "stream",
          "name": "stderr",
          "text": [
            "\r 40%|████      | 401/1000 [08:50<12:20,  1.24s/it]"
          ]
        },
        {
          "output_type": "stream",
          "name": "stdout",
          "text": [
            "\n",
            "Start of epoch 401\n",
            "Training loss: 0.0002\n",
            "Training metric: 0.9685\n",
            "perturbation loss: 0.0064\n",
            "Validation acc: 0.9533\n",
            "Validation F1: 0.9513\n"
          ]
        },
        {
          "output_type": "stream",
          "name": "stderr",
          "text": [
            "\r 40%|████      | 402/1000 [08:51<12:12,  1.23s/it]"
          ]
        },
        {
          "output_type": "stream",
          "name": "stdout",
          "text": [
            "\n",
            "Start of epoch 402\n",
            "Training loss: 0.0001\n",
            "Training metric: 0.9686\n",
            "perturbation loss: 0.0014\n"
          ]
        },
        {
          "output_type": "stream",
          "name": "stderr",
          "text": [
            "\r 40%|████      | 403/1000 [08:53<12:11,  1.23s/it]"
          ]
        },
        {
          "output_type": "stream",
          "name": "stdout",
          "text": [
            "Validation acc: 0.9667\n",
            "Validation F1: 0.9657\n",
            "\n",
            "Start of epoch 403\n",
            "Training loss: 0.0002\n",
            "Training metric: 0.9687\n",
            "perturbation loss: 0.0058\n"
          ]
        },
        {
          "output_type": "stream",
          "name": "stderr",
          "text": [
            "\r 40%|████      | 404/1000 [08:54<13:13,  1.33s/it]"
          ]
        },
        {
          "output_type": "stream",
          "name": "stdout",
          "text": [
            "Validation acc: 0.9800\n",
            "Validation F1: 0.9797\n",
            "\n",
            "Start of epoch 404\n",
            "Training loss: 0.0001\n",
            "Training metric: 0.9687\n",
            "perturbation loss: 0.0027\n"
          ]
        },
        {
          "output_type": "stream",
          "name": "stderr",
          "text": [
            "\r 40%|████      | 405/1000 [08:56<13:55,  1.40s/it]"
          ]
        },
        {
          "output_type": "stream",
          "name": "stdout",
          "text": [
            "Validation acc: 0.9800\n",
            "Validation F1: 0.9802\n",
            "\n",
            "Start of epoch 405\n",
            "Training loss: 0.0002\n",
            "Training metric: 0.9688\n",
            "perturbation loss: 0.0075\n",
            "Validation acc: 0.9800\n",
            "Validation F1: 0.9802\n"
          ]
        },
        {
          "output_type": "stream",
          "name": "stderr",
          "text": [
            "\r 41%|████      | 406/1000 [08:57<13:53,  1.40s/it]"
          ]
        },
        {
          "output_type": "stream",
          "name": "stdout",
          "text": [
            "\n",
            "Start of epoch 406\n"
          ]
        },
        {
          "output_type": "stream",
          "name": "stderr",
          "text": [
            "\r 41%|████      | 407/1000 [08:58<13:10,  1.33s/it]"
          ]
        },
        {
          "output_type": "stream",
          "name": "stdout",
          "text": [
            "Training loss: 0.0000\n",
            "Training metric: 0.9689\n",
            "perturbation loss: 0.0016\n",
            "Validation acc: 0.9733\n",
            "Validation F1: 0.9733\n",
            "\n",
            "Start of epoch 407\n",
            "Training loss: 0.0000\n",
            "Training metric: 0.9690\n",
            "perturbation loss: 0.0009\n",
            "Validation acc: 0.9800\n",
            "Validation F1: 0.9802\n"
          ]
        },
        {
          "output_type": "stream",
          "name": "stderr",
          "text": [
            "\r 41%|████      | 408/1000 [09:00<12:46,  1.29s/it]"
          ]
        },
        {
          "output_type": "stream",
          "name": "stdout",
          "text": [
            "\n",
            "Start of epoch 408\n",
            "Training loss: 0.0000\n",
            "Training metric: 0.9690\n",
            "perturbation loss: 0.0004\n"
          ]
        },
        {
          "output_type": "stream",
          "name": "stderr",
          "text": [
            "\r 41%|████      | 409/1000 [09:01<12:32,  1.27s/it]"
          ]
        },
        {
          "output_type": "stream",
          "name": "stdout",
          "text": [
            "Validation acc: 0.9800\n",
            "Validation F1: 0.9802\n",
            "\n",
            "Start of epoch 409\n",
            "Training loss: 0.0000\n",
            "Training metric: 0.9691\n",
            "perturbation loss: 0.0003\n",
            "Validation acc: 0.9867\n"
          ]
        },
        {
          "output_type": "stream",
          "name": "stderr",
          "text": [
            "\r 41%|████      | 410/1000 [09:02<12:19,  1.25s/it]"
          ]
        },
        {
          "output_type": "stream",
          "name": "stdout",
          "text": [
            "Validation F1: 0.9868\n",
            "\n",
            "Start of epoch 410\n",
            "Training loss: 0.0000\n",
            "Training metric: 0.9692\n",
            "perturbation loss: 0.0003\n",
            "Validation acc: 0.9733\n"
          ]
        },
        {
          "output_type": "stream",
          "name": "stderr",
          "text": [
            "\r 41%|████      | 411/1000 [09:03<12:08,  1.24s/it]"
          ]
        },
        {
          "output_type": "stream",
          "name": "stdout",
          "text": [
            "Validation F1: 0.9737\n",
            "\n",
            "Start of epoch 411\n",
            "Training loss: 0.0001\n",
            "Training metric: 0.9693\n",
            "perturbation loss: 0.0025\n",
            "Validation acc: 0.9867\n",
            "Validation F1: 0.9868\n"
          ]
        },
        {
          "output_type": "stream",
          "name": "stderr",
          "text": [
            "\r 41%|████      | 412/1000 [09:04<11:56,  1.22s/it]"
          ]
        },
        {
          "output_type": "stream",
          "name": "stdout",
          "text": [
            "\n",
            "Start of epoch 412\n",
            "Training loss: 0.0000\n",
            "Training metric: 0.9693\n",
            "perturbation loss: 0.0005\n",
            "Validation acc: 0.9733\n",
            "Validation F1: 0.9737\n"
          ]
        },
        {
          "output_type": "stream",
          "name": "stderr",
          "text": [
            "\r 41%|████▏     | 413/1000 [09:06<11:51,  1.21s/it]"
          ]
        },
        {
          "output_type": "stream",
          "name": "stdout",
          "text": [
            "\n",
            "Start of epoch 413\n",
            "Training loss: 0.0000\n",
            "Training metric: 0.9694\n",
            "perturbation loss: 0.0013\n"
          ]
        },
        {
          "output_type": "stream",
          "name": "stderr",
          "text": [
            "\r 41%|████▏     | 414/1000 [09:07<12:06,  1.24s/it]"
          ]
        },
        {
          "output_type": "stream",
          "name": "stdout",
          "text": [
            "Validation acc: 0.9800\n",
            "Validation F1: 0.9797\n",
            "\n",
            "Start of epoch 414\n",
            "Training loss: 0.0000\n",
            "Training metric: 0.9695\n",
            "perturbation loss: 0.0002\n"
          ]
        },
        {
          "output_type": "stream",
          "name": "stderr",
          "text": [
            "\r 42%|████▏     | 415/1000 [09:09<13:14,  1.36s/it]"
          ]
        },
        {
          "output_type": "stream",
          "name": "stdout",
          "text": [
            "Validation acc: 0.9933\n",
            "Validation F1: 0.9933\n",
            "\n",
            "Start of epoch 415\n",
            "Training loss: 0.0000\n",
            "Training metric: 0.9696\n",
            "perturbation loss: 0.0009\n"
          ]
        },
        {
          "output_type": "stream",
          "name": "stderr",
          "text": [
            "\r 42%|████▏     | 416/1000 [09:10<14:07,  1.45s/it]"
          ]
        },
        {
          "output_type": "stream",
          "name": "stdout",
          "text": [
            "Validation acc: 0.9867\n",
            "Validation F1: 0.9868\n",
            "\n",
            "Start of epoch 416\n",
            "Training loss: 0.0000\n",
            "Training metric: 0.9696\n",
            "perturbation loss: 0.0004\n",
            "Validation acc: 0.9733\n",
            "Validation F1: 0.9737\n"
          ]
        },
        {
          "output_type": "stream",
          "name": "stderr",
          "text": [
            "\r 42%|████▏     | 417/1000 [09:11<13:28,  1.39s/it]"
          ]
        },
        {
          "output_type": "stream",
          "name": "stdout",
          "text": [
            "\n",
            "Start of epoch 417\n",
            "Training loss: 0.0001\n",
            "Training metric: 0.9697\n",
            "perturbation loss: 0.0047\n",
            "Validation acc: 0.9733\n"
          ]
        },
        {
          "output_type": "stream",
          "name": "stderr",
          "text": [
            "\r 42%|████▏     | 418/1000 [09:13<12:51,  1.33s/it]"
          ]
        },
        {
          "output_type": "stream",
          "name": "stdout",
          "text": [
            "Validation F1: 0.9736\n",
            "\n",
            "Start of epoch 418\n",
            "Training loss: 0.0000\n",
            "Training metric: 0.9698\n",
            "perturbation loss: 0.0009\n",
            "Validation acc: 0.9933\n",
            "Validation F1: 0.9933\n"
          ]
        },
        {
          "output_type": "stream",
          "name": "stderr",
          "text": [
            "\r 42%|████▏     | 419/1000 [09:14<12:26,  1.28s/it]"
          ]
        },
        {
          "output_type": "stream",
          "name": "stdout",
          "text": [
            "\n",
            "Start of epoch 419\n",
            "Training loss: 0.0000\n",
            "Training metric: 0.9699\n",
            "perturbation loss: 0.0003\n"
          ]
        },
        {
          "output_type": "stream",
          "name": "stderr",
          "text": [
            "\r 42%|████▏     | 420/1000 [09:15<12:12,  1.26s/it]"
          ]
        },
        {
          "output_type": "stream",
          "name": "stdout",
          "text": [
            "Validation acc: 0.9867\n",
            "Validation F1: 0.9868\n",
            "\n",
            "Start of epoch 420\n",
            "Training loss: 0.0000\n",
            "Training metric: 0.9699\n",
            "perturbation loss: 0.0007\n",
            "Validation acc: 0.9867\n"
          ]
        },
        {
          "output_type": "stream",
          "name": "stderr",
          "text": [
            "\r 42%|████▏     | 421/1000 [09:16<11:59,  1.24s/it]"
          ]
        },
        {
          "output_type": "stream",
          "name": "stdout",
          "text": [
            "Validation F1: 0.9868\n",
            "\n",
            "Start of epoch 421\n",
            "Training loss: 0.0000\n",
            "Training metric: 0.9700\n",
            "perturbation loss: 0.0001\n",
            "Validation acc: 0.9867\n",
            "Validation F1: 0.9868\n"
          ]
        },
        {
          "output_type": "stream",
          "name": "stderr",
          "text": [
            "\r 42%|████▏     | 422/1000 [09:17<11:46,  1.22s/it]"
          ]
        },
        {
          "output_type": "stream",
          "name": "stdout",
          "text": [
            "\n",
            "Start of epoch 422\n"
          ]
        },
        {
          "output_type": "stream",
          "name": "stderr",
          "text": [
            "\r 42%|████▏     | 423/1000 [09:19<11:37,  1.21s/it]"
          ]
        },
        {
          "output_type": "stream",
          "name": "stdout",
          "text": [
            "Training loss: 0.0000\n",
            "Training metric: 0.9701\n",
            "perturbation loss: 0.0001\n",
            "Validation acc: 0.9800\n",
            "Validation F1: 0.9802\n",
            "\n",
            "Start of epoch 423\n",
            "Training loss: 0.0000\n",
            "Training metric: 0.9701\n",
            "perturbation loss: 0.0004\n"
          ]
        },
        {
          "output_type": "stream",
          "name": "stderr",
          "text": [
            "\r 42%|████▏     | 424/1000 [09:20<11:36,  1.21s/it]"
          ]
        },
        {
          "output_type": "stream",
          "name": "stdout",
          "text": [
            "Validation acc: 0.9733\n",
            "Validation F1: 0.9736\n",
            "\n",
            "Start of epoch 424\n",
            "Training loss: 0.0000\n",
            "Training metric: 0.9702\n",
            "perturbation loss: 0.0004\n"
          ]
        },
        {
          "output_type": "stream",
          "name": "stderr",
          "text": [
            "\r 42%|████▎     | 425/1000 [09:21<12:07,  1.26s/it]"
          ]
        },
        {
          "output_type": "stream",
          "name": "stdout",
          "text": [
            "Validation acc: 0.9800\n",
            "Validation F1: 0.9802\n",
            "\n",
            "Start of epoch 425\n",
            "Training loss: 0.0000\n",
            "Training metric: 0.9703\n",
            "perturbation loss: 0.0001\n"
          ]
        },
        {
          "output_type": "stream",
          "name": "stderr",
          "text": [
            "\r 43%|████▎     | 426/1000 [09:23<12:56,  1.35s/it]"
          ]
        },
        {
          "output_type": "stream",
          "name": "stdout",
          "text": [
            "Validation acc: 0.9733\n",
            "Validation F1: 0.9733\n",
            "\n",
            "Start of epoch 426\n",
            "Training loss: 0.0000\n",
            "Training metric: 0.9703\n",
            "perturbation loss: 0.0014\n"
          ]
        },
        {
          "output_type": "stream",
          "name": "stderr",
          "text": [
            "\r 43%|████▎     | 427/1000 [09:24<13:47,  1.44s/it]"
          ]
        },
        {
          "output_type": "stream",
          "name": "stdout",
          "text": [
            "Validation acc: 0.9800\n",
            "Validation F1: 0.9802\n",
            "\n",
            "Start of epoch 427\n",
            "Training loss: 0.0000\n",
            "Training metric: 0.9704\n",
            "perturbation loss: 0.0018\n",
            "Validation acc: 0.9933\n",
            "Validation F1: 0.9933\n"
          ]
        },
        {
          "output_type": "stream",
          "name": "stderr",
          "text": [
            "\r 43%|████▎     | 428/1000 [09:26<13:05,  1.37s/it]"
          ]
        },
        {
          "output_type": "stream",
          "name": "stdout",
          "text": [
            "\n",
            "Start of epoch 428\n",
            "Training loss: 0.0001\n",
            "Training metric: 0.9705\n",
            "perturbation loss: 0.0069\n",
            "Validation acc: 0.9133\n",
            "Validation F1: 0.9130\n"
          ]
        },
        {
          "output_type": "stream",
          "name": "stderr",
          "text": [
            "\r 43%|████▎     | 429/1000 [09:27<12:36,  1.32s/it]"
          ]
        },
        {
          "output_type": "stream",
          "name": "stdout",
          "text": [
            "\n",
            "Start of epoch 429\n",
            "Training loss: 0.0005\n",
            "Training metric: 0.9705\n",
            "perturbation loss: 0.0171\n"
          ]
        },
        {
          "output_type": "stream",
          "name": "stderr",
          "text": [
            "\r 43%|████▎     | 430/1000 [09:28<12:14,  1.29s/it]"
          ]
        },
        {
          "output_type": "stream",
          "name": "stdout",
          "text": [
            "Validation acc: 0.9600\n",
            "Validation F1: 0.9591\n",
            "\n",
            "Start of epoch 430\n",
            "Training loss: 0.0469\n",
            "Training metric: 0.9706\n",
            "perturbation loss: 1.2593\n"
          ]
        },
        {
          "output_type": "stream",
          "name": "stderr",
          "text": [
            "\r 43%|████▎     | 431/1000 [09:29<12:17,  1.30s/it]"
          ]
        },
        {
          "output_type": "stream",
          "name": "stdout",
          "text": [
            "Validation acc: 0.9667\n",
            "Validation F1: 0.9672\n",
            "\n",
            "Start of epoch 431\n"
          ]
        },
        {
          "output_type": "stream",
          "name": "stderr",
          "text": [
            "\r 43%|████▎     | 432/1000 [09:30<11:53,  1.26s/it]"
          ]
        },
        {
          "output_type": "stream",
          "name": "stdout",
          "text": [
            "Training loss: 0.0005\n",
            "Training metric: 0.9707\n",
            "perturbation loss: 0.0216\n",
            "Validation acc: 1.0000\n",
            "Validation F1: 1.0000\n",
            "\n",
            "Start of epoch 432\n",
            "Training loss: 0.0005\n",
            "Training metric: 0.9708\n",
            "perturbation loss: 0.0253\n",
            "Validation acc: 0.9867\n",
            "Validation F1: 0.9867\n"
          ]
        },
        {
          "output_type": "stream",
          "name": "stderr",
          "text": [
            "\r 43%|████▎     | 433/1000 [09:32<11:46,  1.25s/it]"
          ]
        },
        {
          "output_type": "stream",
          "name": "stdout",
          "text": [
            "\n",
            "Start of epoch 433\n",
            "Training loss: 0.0002\n",
            "Training metric: 0.9708\n",
            "perturbation loss: 0.0082\n",
            "Validation acc: 0.9867\n"
          ]
        },
        {
          "output_type": "stream",
          "name": "stderr",
          "text": [
            "\r 43%|████▎     | 434/1000 [09:33<11:39,  1.24s/it]"
          ]
        },
        {
          "output_type": "stream",
          "name": "stdout",
          "text": [
            "Validation F1: 0.9867\n",
            "\n",
            "Start of epoch 434\n",
            "Training loss: 0.0003\n",
            "Training metric: 0.9709\n",
            "perturbation loss: 0.0120\n"
          ]
        },
        {
          "output_type": "stream",
          "name": "stderr",
          "text": [
            "\r 44%|████▎     | 435/1000 [09:34<11:51,  1.26s/it]"
          ]
        },
        {
          "output_type": "stream",
          "name": "stdout",
          "text": [
            "Validation acc: 1.0000\n",
            "Validation F1: 1.0000\n",
            "\n",
            "Start of epoch 435\n",
            "Training loss: 0.0001\n",
            "Training metric: 0.9710\n",
            "perturbation loss: 0.0024\n"
          ]
        },
        {
          "output_type": "stream",
          "name": "stderr",
          "text": [
            "\r 44%|████▎     | 436/1000 [09:36<12:37,  1.34s/it]"
          ]
        },
        {
          "output_type": "stream",
          "name": "stdout",
          "text": [
            "Validation acc: 0.9933\n",
            "Validation F1: 0.9933\n",
            "\n",
            "Start of epoch 436\n",
            "Training loss: 0.0001\n",
            "Training metric: 0.9710\n",
            "perturbation loss: 0.0044\n"
          ]
        },
        {
          "output_type": "stream",
          "name": "stderr",
          "text": [
            "\r 44%|████▎     | 437/1000 [09:37<13:17,  1.42s/it]"
          ]
        },
        {
          "output_type": "stream",
          "name": "stdout",
          "text": [
            "Validation acc: 0.9867\n",
            "Validation F1: 0.9868\n",
            "\n",
            "Start of epoch 437\n",
            "Training loss: 0.0000\n",
            "Training metric: 0.9711\n",
            "perturbation loss: 0.0011\n",
            "Validation acc: 0.9933\n"
          ]
        },
        {
          "output_type": "stream",
          "name": "stderr",
          "text": [
            "\r 44%|████▍     | 438/1000 [09:39<13:17,  1.42s/it]"
          ]
        },
        {
          "output_type": "stream",
          "name": "stdout",
          "text": [
            "Validation F1: 0.9933\n",
            "\n",
            "Start of epoch 438\n",
            "Training loss: 0.0000\n",
            "Training metric: 0.9712\n",
            "perturbation loss: 0.0008\n",
            "Validation acc: 0.9800\n"
          ]
        },
        {
          "output_type": "stream",
          "name": "stderr",
          "text": [
            "\r 44%|████▍     | 439/1000 [09:40<12:42,  1.36s/it]"
          ]
        },
        {
          "output_type": "stream",
          "name": "stdout",
          "text": [
            "Validation F1: 0.9802\n",
            "\n",
            "Start of epoch 439\n",
            "Training loss: 0.0000\n",
            "Training metric: 0.9712\n",
            "perturbation loss: 0.0003\n",
            "Validation acc: 0.9867\n",
            "Validation F1: 0.9868\n"
          ]
        },
        {
          "output_type": "stream",
          "name": "stderr",
          "text": [
            "\r 44%|████▍     | 440/1000 [09:41<12:10,  1.31s/it]"
          ]
        },
        {
          "output_type": "stream",
          "name": "stdout",
          "text": [
            "\n",
            "Start of epoch 440\n",
            "Training loss: 0.0000\n",
            "Training metric: 0.9713\n",
            "perturbation loss: 0.0003\n",
            "Validation acc: 0.9800\n",
            "Validation F1: 0.9802\n"
          ]
        },
        {
          "output_type": "stream",
          "name": "stderr",
          "text": [
            "\r 44%|████▍     | 441/1000 [09:42<11:52,  1.27s/it]"
          ]
        },
        {
          "output_type": "stream",
          "name": "stdout",
          "text": [
            "\n",
            "Start of epoch 441\n"
          ]
        },
        {
          "output_type": "stream",
          "name": "stderr",
          "text": [
            "\r 44%|████▍     | 442/1000 [09:44<11:35,  1.25s/it]"
          ]
        },
        {
          "output_type": "stream",
          "name": "stdout",
          "text": [
            "Training loss: 0.0000\n",
            "Training metric: 0.9713\n",
            "perturbation loss: 0.0008\n",
            "Validation acc: 0.9867\n",
            "Validation F1: 0.9868\n",
            "\n",
            "Start of epoch 442\n",
            "Training loss: 0.0000\n",
            "Training metric: 0.9714\n",
            "perturbation loss: 0.0005\n",
            "Validation acc: 0.9933\n"
          ]
        },
        {
          "output_type": "stream",
          "name": "stderr",
          "text": [
            "\r 44%|████▍     | 443/1000 [09:45<11:23,  1.23s/it]"
          ]
        },
        {
          "output_type": "stream",
          "name": "stdout",
          "text": [
            "Validation F1: 0.9933\n",
            "\n",
            "Start of epoch 443\n",
            "Training loss: 0.0000\n",
            "Training metric: 0.9715\n",
            "perturbation loss: 0.0012\n"
          ]
        },
        {
          "output_type": "stream",
          "name": "stderr",
          "text": [
            "\r 44%|████▍     | 444/1000 [09:46<11:17,  1.22s/it]"
          ]
        },
        {
          "output_type": "stream",
          "name": "stdout",
          "text": [
            "Validation acc: 0.9933\n",
            "Validation F1: 0.9933\n",
            "\n",
            "Start of epoch 444\n",
            "Training loss: 0.0000\n",
            "Training metric: 0.9715\n",
            "perturbation loss: 0.0008\n"
          ]
        },
        {
          "output_type": "stream",
          "name": "stderr",
          "text": [
            "\r 44%|████▍     | 445/1000 [09:47<11:15,  1.22s/it]"
          ]
        },
        {
          "output_type": "stream",
          "name": "stdout",
          "text": [
            "Validation acc: 0.9933\n",
            "Validation F1: 0.9933\n",
            "\n",
            "Start of epoch 445\n",
            "Training loss: 0.0000\n",
            "Training metric: 0.9716\n",
            "perturbation loss: 0.0003\n"
          ]
        },
        {
          "output_type": "stream",
          "name": "stderr",
          "text": [
            "\r 45%|████▍     | 446/1000 [09:48<11:32,  1.25s/it]"
          ]
        },
        {
          "output_type": "stream",
          "name": "stdout",
          "text": [
            "Validation acc: 0.9933\n",
            "Validation F1: 0.9933\n",
            "\n",
            "Start of epoch 446\n",
            "Training loss: 0.0000\n",
            "Training metric: 0.9717\n",
            "perturbation loss: 0.0001\n"
          ]
        },
        {
          "output_type": "stream",
          "name": "stderr",
          "text": [
            "\r 45%|████▍     | 447/1000 [09:50<12:29,  1.35s/it]"
          ]
        },
        {
          "output_type": "stream",
          "name": "stdout",
          "text": [
            "Validation acc: 0.9933\n",
            "Validation F1: 0.9933\n",
            "\n",
            "Start of epoch 447\n",
            "Training loss: 0.0000\n",
            "Training metric: 0.9717\n",
            "perturbation loss: 0.0002\n"
          ]
        },
        {
          "output_type": "stream",
          "name": "stderr",
          "text": [
            "\r 45%|████▍     | 448/1000 [09:52<13:05,  1.42s/it]"
          ]
        },
        {
          "output_type": "stream",
          "name": "stdout",
          "text": [
            "Validation acc: 0.9933\n",
            "Validation F1: 0.9933\n",
            "\n",
            "Start of epoch 448\n",
            "Training loss: 0.0000\n",
            "Training metric: 0.9718\n",
            "perturbation loss: 0.0001\n",
            "Validation acc: 0.9800\n",
            "Validation F1: 0.9802\n"
          ]
        },
        {
          "output_type": "stream",
          "name": "stderr",
          "text": [
            "\r 45%|████▍     | 449/1000 [09:53<12:41,  1.38s/it]"
          ]
        },
        {
          "output_type": "stream",
          "name": "stdout",
          "text": [
            "\n",
            "Start of epoch 449\n",
            "Training loss: 0.0000\n",
            "Training metric: 0.9719\n",
            "perturbation loss: 0.0002\n",
            "Validation acc: 0.9933\n",
            "Validation F1: 0.9933\n"
          ]
        },
        {
          "output_type": "stream",
          "name": "stderr",
          "text": [
            "\r 45%|████▌     | 450/1000 [09:54<12:09,  1.33s/it]"
          ]
        },
        {
          "output_type": "stream",
          "name": "stdout",
          "text": [
            "\n",
            "Start of epoch 450\n",
            "Training loss: 0.0000\n",
            "Training metric: 0.9719\n",
            "perturbation loss: 0.0004\n",
            "Validation acc: 0.9933\n",
            "Validation F1: 0.9933\n"
          ]
        },
        {
          "output_type": "stream",
          "name": "stderr",
          "text": [
            "\r 45%|████▌     | 451/1000 [09:55<11:47,  1.29s/it]"
          ]
        },
        {
          "output_type": "stream",
          "name": "stdout",
          "text": [
            "\n",
            "Start of epoch 451\n",
            "Training loss: 0.0000\n",
            "Training metric: 0.9720\n",
            "perturbation loss: 0.0009\n",
            "Validation acc: 0.9933\n"
          ]
        },
        {
          "output_type": "stream",
          "name": "stderr",
          "text": [
            "\r 45%|████▌     | 452/1000 [09:57<11:31,  1.26s/it]"
          ]
        },
        {
          "output_type": "stream",
          "name": "stdout",
          "text": [
            "Validation F1: 0.9933\n",
            "\n",
            "Start of epoch 452\n",
            "Training loss: 0.0000\n",
            "Training metric: 0.9720\n",
            "perturbation loss: 0.0005\n"
          ]
        },
        {
          "output_type": "stream",
          "name": "stderr",
          "text": [
            "\r 45%|████▌     | 453/1000 [09:58<11:32,  1.27s/it]"
          ]
        },
        {
          "output_type": "stream",
          "name": "stdout",
          "text": [
            "Validation acc: 0.9933\n",
            "Validation F1: 0.9933\n",
            "\n",
            "Start of epoch 453\n",
            "Training loss: 0.0000\n",
            "Training metric: 0.9721\n",
            "perturbation loss: 0.0001\n",
            "Validation acc: 0.9933\n",
            "Validation F1: 0.9933\n"
          ]
        },
        {
          "output_type": "stream",
          "name": "stderr",
          "text": [
            "\r 45%|████▌     | 454/1000 [09:59<11:17,  1.24s/it]"
          ]
        },
        {
          "output_type": "stream",
          "name": "stdout",
          "text": [
            "\n",
            "Start of epoch 454\n",
            "Training loss: 0.0000\n",
            "Training metric: 0.9722\n",
            "perturbation loss: 0.0003\n",
            "Validation acc: 0.9933\n",
            "Validation F1: 0.9933\n"
          ]
        },
        {
          "output_type": "stream",
          "name": "stderr",
          "text": [
            "\r 46%|████▌     | 455/1000 [10:00<11:07,  1.23s/it]"
          ]
        },
        {
          "output_type": "stream",
          "name": "stdout",
          "text": [
            "\n",
            "Start of epoch 455\n",
            "Training loss: 0.0000\n",
            "Training metric: 0.9722\n",
            "perturbation loss: 0.0004\n",
            "Validation acc: 0.9933\n",
            "Validation F1: 0.9933\n"
          ]
        },
        {
          "output_type": "stream",
          "name": "stderr",
          "text": [
            "\r 46%|████▌     | 456/1000 [10:01<11:03,  1.22s/it]"
          ]
        },
        {
          "output_type": "stream",
          "name": "stdout",
          "text": [
            "\n",
            "Start of epoch 456\n",
            "Training loss: 0.0000\n",
            "Training metric: 0.9723\n",
            "perturbation loss: 0.0008\n"
          ]
        },
        {
          "output_type": "stream",
          "name": "stderr",
          "text": [
            "\r 46%|████▌     | 457/1000 [10:03<11:37,  1.28s/it]"
          ]
        },
        {
          "output_type": "stream",
          "name": "stdout",
          "text": [
            "Validation acc: 0.9800\n",
            "Validation F1: 0.9802\n",
            "\n",
            "Start of epoch 457\n",
            "Training loss: 0.0000\n",
            "Training metric: 0.9723\n",
            "perturbation loss: 0.0002\n"
          ]
        },
        {
          "output_type": "stream",
          "name": "stderr",
          "text": [
            "\r 46%|████▌     | 458/1000 [10:04<12:31,  1.39s/it]"
          ]
        },
        {
          "output_type": "stream",
          "name": "stdout",
          "text": [
            "Validation acc: 0.9867\n",
            "Validation F1: 0.9868\n",
            "\n",
            "Start of epoch 458\n",
            "Training loss: 0.0000\n",
            "Training metric: 0.9724\n",
            "perturbation loss: 0.0007\n"
          ]
        },
        {
          "output_type": "stream",
          "name": "stderr",
          "text": [
            "\r 46%|████▌     | 459/1000 [10:06<13:00,  1.44s/it]"
          ]
        },
        {
          "output_type": "stream",
          "name": "stdout",
          "text": [
            "Validation acc: 0.9933\n",
            "Validation F1: 0.9933\n",
            "\n",
            "Start of epoch 459\n",
            "Training loss: 0.0000\n",
            "Training metric: 0.9725\n",
            "perturbation loss: 0.0001\n",
            "Validation acc: 0.9933\n"
          ]
        },
        {
          "output_type": "stream",
          "name": "stderr",
          "text": [
            "\r 46%|████▌     | 460/1000 [10:07<12:18,  1.37s/it]"
          ]
        },
        {
          "output_type": "stream",
          "name": "stdout",
          "text": [
            "Validation F1: 0.9933\n",
            "\n",
            "Start of epoch 460\n",
            "Training loss: 0.0000\n",
            "Training metric: 0.9725\n",
            "perturbation loss: 0.0013\n",
            "Validation acc: 0.9933\n",
            "Validation F1: 0.9933\n"
          ]
        },
        {
          "output_type": "stream",
          "name": "stderr",
          "text": [
            "\r 46%|████▌     | 461/1000 [10:08<11:46,  1.31s/it]"
          ]
        },
        {
          "output_type": "stream",
          "name": "stdout",
          "text": [
            "\n",
            "Start of epoch 461\n",
            "Training loss: 0.0000\n",
            "Training metric: 0.9726\n",
            "perturbation loss: 0.0003\n",
            "Validation acc: 0.9800\n",
            "Validation F1: 0.9799\n"
          ]
        },
        {
          "output_type": "stream",
          "name": "stderr",
          "text": [
            "\r 46%|████▌     | 462/1000 [10:10<11:20,  1.27s/it]"
          ]
        },
        {
          "output_type": "stream",
          "name": "stdout",
          "text": [
            "\n",
            "Start of epoch 462\n",
            "Training loss: 0.0003\n",
            "Training metric: 0.9726\n",
            "perturbation loss: 0.0092\n",
            "Validation acc: 0.9667\n",
            "Validation F1: 0.9665\n"
          ]
        },
        {
          "output_type": "stream",
          "name": "stderr",
          "text": [
            "\r 46%|████▋     | 463/1000 [10:11<11:12,  1.25s/it]"
          ]
        },
        {
          "output_type": "stream",
          "name": "stdout",
          "text": [
            "\n",
            "Start of epoch 463\n",
            "Training loss: 0.0013\n",
            "Training metric: 0.9727\n",
            "perturbation loss: 0.0609\n",
            "Validation acc: 0.9800\n",
            "Validation F1: 0.9802\n"
          ]
        },
        {
          "output_type": "stream",
          "name": "stderr",
          "text": [
            "\r 46%|████▋     | 464/1000 [10:12<11:02,  1.24s/it]"
          ]
        },
        {
          "output_type": "stream",
          "name": "stdout",
          "text": [
            "\n",
            "Start of epoch 464\n",
            "Training loss: 0.0083\n",
            "Training metric: 0.9728\n",
            "perturbation loss: 0.4121\n"
          ]
        },
        {
          "output_type": "stream",
          "name": "stderr",
          "text": [
            "\r 46%|████▋     | 465/1000 [10:13<11:10,  1.25s/it]"
          ]
        },
        {
          "output_type": "stream",
          "name": "stdout",
          "text": [
            "Validation acc: 0.9667\n",
            "Validation F1: 0.9662\n",
            "\n",
            "Start of epoch 465\n",
            "Training loss: 0.0196\n",
            "Training metric: 0.9728\n",
            "perturbation loss: 0.1595\n",
            "Validation acc: 0.9800\n",
            "Validation F1: 0.9799\n"
          ]
        },
        {
          "output_type": "stream",
          "name": "stderr",
          "text": [
            "\r 47%|████▋     | 466/1000 [10:14<10:59,  1.24s/it]"
          ]
        },
        {
          "output_type": "stream",
          "name": "stdout",
          "text": [
            "\n",
            "Start of epoch 466\n",
            "Training loss: 0.0007\n",
            "Training metric: 0.9729\n",
            "perturbation loss: 0.0346\n",
            "Validation acc: 0.9467\n",
            "Validation F1: 0.9468\n"
          ]
        },
        {
          "output_type": "stream",
          "name": "stderr",
          "text": [
            "\r 47%|████▋     | 467/1000 [10:16<10:49,  1.22s/it]"
          ]
        },
        {
          "output_type": "stream",
          "name": "stdout",
          "text": [
            "\n",
            "Start of epoch 467\n",
            "Training loss: 0.0001\n",
            "Training metric: 0.9729\n",
            "perturbation loss: 0.0021\n"
          ]
        },
        {
          "output_type": "stream",
          "name": "stderr",
          "text": [
            "\r 47%|████▋     | 468/1000 [10:17<11:30,  1.30s/it]"
          ]
        },
        {
          "output_type": "stream",
          "name": "stdout",
          "text": [
            "Validation acc: 0.9667\n",
            "Validation F1: 0.9668\n",
            "\n",
            "Start of epoch 468\n",
            "Training loss: 0.0002\n",
            "Training metric: 0.9730\n",
            "perturbation loss: 0.0070\n"
          ]
        },
        {
          "output_type": "stream",
          "name": "stderr",
          "text": [
            "\r 47%|████▋     | 469/1000 [10:19<12:16,  1.39s/it]"
          ]
        },
        {
          "output_type": "stream",
          "name": "stdout",
          "text": [
            "Validation acc: 0.9533\n",
            "Validation F1: 0.9540\n",
            "\n",
            "Start of epoch 469\n",
            "Training loss: 0.0002\n",
            "Training metric: 0.9731\n",
            "perturbation loss: 0.0049\n",
            "Validation acc: 0.9733\n",
            "Validation F1: 0.9733\n"
          ]
        },
        {
          "output_type": "stream",
          "name": "stderr",
          "text": [
            "\r 47%|████▋     | 470/1000 [10:20<12:23,  1.40s/it]"
          ]
        },
        {
          "output_type": "stream",
          "name": "stdout",
          "text": [
            "\n",
            "Start of epoch 470\n",
            "Training loss: 0.0000\n",
            "Training metric: 0.9731\n",
            "perturbation loss: 0.0005\n",
            "Validation acc: 0.9667\n",
            "Validation F1: 0.9665\n"
          ]
        },
        {
          "output_type": "stream",
          "name": "stderr",
          "text": [
            "\r 47%|████▋     | 471/1000 [10:21<11:50,  1.34s/it]"
          ]
        },
        {
          "output_type": "stream",
          "name": "stdout",
          "text": [
            "\n",
            "Start of epoch 471\n",
            "Training loss: 0.0000\n",
            "Training metric: 0.9732\n",
            "perturbation loss: 0.0009\n",
            "Validation acc: 0.9800\n",
            "Validation F1: 0.9802\n"
          ]
        },
        {
          "output_type": "stream",
          "name": "stderr",
          "text": [
            "\r 47%|████▋     | 472/1000 [10:23<11:24,  1.30s/it]"
          ]
        },
        {
          "output_type": "stream",
          "name": "stdout",
          "text": [
            "\n",
            "Start of epoch 472\n",
            "Training loss: 0.0000\n",
            "Training metric: 0.9732\n",
            "perturbation loss: 0.0004\n"
          ]
        },
        {
          "output_type": "stream",
          "name": "stderr",
          "text": [
            "\r 47%|████▋     | 473/1000 [10:24<11:26,  1.30s/it]"
          ]
        },
        {
          "output_type": "stream",
          "name": "stdout",
          "text": [
            "Validation acc: 0.9933\n",
            "Validation F1: 0.9933\n",
            "\n",
            "Start of epoch 473\n",
            "Training loss: 0.0000\n",
            "Training metric: 0.9733\n",
            "perturbation loss: 0.0005\n",
            "Validation acc: 0.9933\n"
          ]
        },
        {
          "output_type": "stream",
          "name": "stderr",
          "text": [
            "\r 47%|████▋     | 474/1000 [10:25<11:11,  1.28s/it]"
          ]
        },
        {
          "output_type": "stream",
          "name": "stdout",
          "text": [
            "Validation F1: 0.9933\n",
            "\n",
            "Start of epoch 474\n",
            "Training loss: 0.0000\n",
            "Training metric: 0.9733\n",
            "perturbation loss: 0.0002\n",
            "Validation acc: 0.9733\n",
            "Validation F1: 0.9737\n"
          ]
        },
        {
          "output_type": "stream",
          "name": "stderr",
          "text": [
            "\r 48%|████▊     | 475/1000 [10:26<10:54,  1.25s/it]"
          ]
        },
        {
          "output_type": "stream",
          "name": "stdout",
          "text": [
            "\n",
            "Start of epoch 475\n",
            "Training loss: 0.0001\n",
            "Training metric: 0.9734\n",
            "perturbation loss: 0.0035\n",
            "Validation acc: 0.9800\n"
          ]
        },
        {
          "output_type": "stream",
          "name": "stderr",
          "text": [
            "\r 48%|████▊     | 476/1000 [10:27<10:46,  1.23s/it]"
          ]
        },
        {
          "output_type": "stream",
          "name": "stdout",
          "text": [
            "Validation F1: 0.9802\n",
            "\n",
            "Start of epoch 476\n",
            "Training loss: 0.0000\n",
            "Training metric: 0.9734\n",
            "perturbation loss: 0.0012\n"
          ]
        },
        {
          "output_type": "stream",
          "name": "stderr",
          "text": [
            "\r 48%|████▊     | 477/1000 [10:29<10:41,  1.23s/it]"
          ]
        },
        {
          "output_type": "stream",
          "name": "stdout",
          "text": [
            "Validation acc: 0.9800\n",
            "Validation F1: 0.9802\n",
            "\n",
            "Start of epoch 477\n",
            "Training loss: 0.0000\n",
            "Training metric: 0.9735\n",
            "perturbation loss: 0.0005\n"
          ]
        },
        {
          "output_type": "stream",
          "name": "stderr",
          "text": [
            "\r 48%|████▊     | 478/1000 [10:30<10:44,  1.23s/it]"
          ]
        },
        {
          "output_type": "stream",
          "name": "stdout",
          "text": [
            "Validation acc: 0.9800\n",
            "Validation F1: 0.9802\n",
            "\n",
            "Start of epoch 478\n",
            "Training loss: 0.0000\n",
            "Training metric: 0.9736\n",
            "perturbation loss: 0.0002\n"
          ]
        },
        {
          "output_type": "stream",
          "name": "stderr",
          "text": [
            "\r 48%|████▊     | 479/1000 [10:32<11:41,  1.35s/it]"
          ]
        },
        {
          "output_type": "stream",
          "name": "stdout",
          "text": [
            "Validation acc: 0.9800\n",
            "Validation F1: 0.9797\n",
            "\n",
            "Start of epoch 479\n",
            "Training loss: 0.0000\n",
            "Training metric: 0.9736\n",
            "perturbation loss: 0.0018\n"
          ]
        },
        {
          "output_type": "stream",
          "name": "stderr",
          "text": [
            "\r 48%|████▊     | 480/1000 [10:33<12:25,  1.43s/it]"
          ]
        },
        {
          "output_type": "stream",
          "name": "stdout",
          "text": [
            "Validation acc: 0.9933\n",
            "Validation F1: 0.9933\n",
            "\n",
            "Start of epoch 480\n",
            "Training loss: 0.0000\n",
            "Training metric: 0.9737\n",
            "perturbation loss: 0.0001\n",
            "Validation acc: 0.9800\n"
          ]
        },
        {
          "output_type": "stream",
          "name": "stderr",
          "text": [
            "\r 48%|████▊     | 481/1000 [10:35<12:10,  1.41s/it]"
          ]
        },
        {
          "output_type": "stream",
          "name": "stdout",
          "text": [
            "Validation F1: 0.9797\n",
            "\n",
            "Start of epoch 481\n",
            "Training loss: 0.0000\n",
            "Training metric: 0.9737\n",
            "perturbation loss: 0.0004\n",
            "Validation acc: 0.9867\n",
            "Validation F1: 0.9868\n"
          ]
        },
        {
          "output_type": "stream",
          "name": "stderr",
          "text": [
            "\r 48%|████▊     | 482/1000 [10:36<11:35,  1.34s/it]"
          ]
        },
        {
          "output_type": "stream",
          "name": "stdout",
          "text": [
            "\n",
            "Start of epoch 482\n",
            "Training loss: 0.0000\n",
            "Training metric: 0.9738\n",
            "perturbation loss: 0.0007\n"
          ]
        },
        {
          "output_type": "stream",
          "name": "stderr",
          "text": [
            "\r 48%|████▊     | 483/1000 [10:37<11:12,  1.30s/it]"
          ]
        },
        {
          "output_type": "stream",
          "name": "stdout",
          "text": [
            "Validation acc: 0.9867\n",
            "Validation F1: 0.9868\n",
            "\n",
            "Start of epoch 483\n",
            "Training loss: 0.0000\n",
            "Training metric: 0.9738\n",
            "perturbation loss: 0.0010\n",
            "Validation acc: 0.9800\n",
            "Validation F1: 0.9802\n"
          ]
        },
        {
          "output_type": "stream",
          "name": "stderr",
          "text": [
            "\r 48%|████▊     | 484/1000 [10:38<10:50,  1.26s/it]"
          ]
        },
        {
          "output_type": "stream",
          "name": "stdout",
          "text": [
            "\n",
            "Start of epoch 484\n",
            "Training loss: 0.0001\n",
            "Training metric: 0.9739\n",
            "perturbation loss: 0.0028\n",
            "Validation acc: 0.9867\n",
            "Validation F1: 0.9868\n"
          ]
        },
        {
          "output_type": "stream",
          "name": "stderr",
          "text": [
            "\r 48%|████▊     | 485/1000 [10:39<10:37,  1.24s/it]"
          ]
        },
        {
          "output_type": "stream",
          "name": "stdout",
          "text": [
            "\n",
            "Start of epoch 485\n",
            "Training loss: 0.0000\n",
            "Training metric: 0.9739\n",
            "perturbation loss: 0.0004\n",
            "Validation acc: 0.9800\n",
            "Validation F1: 0.9799\n"
          ]
        },
        {
          "output_type": "stream",
          "name": "stderr",
          "text": [
            "\r 49%|████▊     | 486/1000 [10:41<10:36,  1.24s/it]"
          ]
        },
        {
          "output_type": "stream",
          "name": "stdout",
          "text": [
            "\n",
            "Start of epoch 486\n",
            "Training loss: 0.0000\n",
            "Training metric: 0.9740\n",
            "perturbation loss: 0.0005\n",
            "Validation acc: 0.9867\n"
          ]
        },
        {
          "output_type": "stream",
          "name": "stderr",
          "text": [
            "\r 49%|████▊     | 487/1000 [10:42<10:31,  1.23s/it]"
          ]
        },
        {
          "output_type": "stream",
          "name": "stdout",
          "text": [
            "Validation F1: 0.9868\n",
            "\n",
            "Start of epoch 487\n",
            "Training loss: 0.0001\n",
            "Training metric: 0.9740\n",
            "perturbation loss: 0.0052\n"
          ]
        },
        {
          "output_type": "stream",
          "name": "stderr",
          "text": [
            "\r 49%|████▉     | 488/1000 [10:43<10:26,  1.22s/it]"
          ]
        },
        {
          "output_type": "stream",
          "name": "stdout",
          "text": [
            "Validation acc: 0.9867\n",
            "Validation F1: 0.9868\n",
            "\n",
            "Start of epoch 488\n",
            "Training loss: 0.0000\n",
            "Training metric: 0.9741\n",
            "perturbation loss: 0.0001\n"
          ]
        },
        {
          "output_type": "stream",
          "name": "stderr",
          "text": [
            "\r 49%|████▉     | 489/1000 [10:44<10:52,  1.28s/it]"
          ]
        },
        {
          "output_type": "stream",
          "name": "stdout",
          "text": [
            "Validation acc: 0.9867\n",
            "Validation F1: 0.9868\n",
            "\n",
            "Start of epoch 489\n",
            "Training loss: 0.0000\n",
            "Training metric: 0.9742\n",
            "perturbation loss: 0.0002\n"
          ]
        },
        {
          "output_type": "stream",
          "name": "stderr",
          "text": [
            "\r 49%|████▉     | 490/1000 [10:46<12:29,  1.47s/it]"
          ]
        },
        {
          "output_type": "stream",
          "name": "stdout",
          "text": [
            "Validation acc: 0.9867\n",
            "Validation F1: 0.9868\n",
            "\n",
            "Start of epoch 490\n",
            "Training loss: 0.0000\n",
            "Training metric: 0.9742\n",
            "perturbation loss: 0.0002\n",
            "Validation acc: 0.9933\n",
            "Validation F1: 0.9933\n"
          ]
        },
        {
          "output_type": "stream",
          "name": "stderr",
          "text": [
            "\r 49%|████▉     | 491/1000 [10:48<12:32,  1.48s/it]"
          ]
        },
        {
          "output_type": "stream",
          "name": "stdout",
          "text": [
            "\n",
            "Start of epoch 491\n",
            "Training loss: 0.0000\n",
            "Training metric: 0.9743\n",
            "perturbation loss: 0.0012\n"
          ]
        },
        {
          "output_type": "stream",
          "name": "stderr",
          "text": [
            "\r 49%|████▉     | 492/1000 [10:49<11:50,  1.40s/it]"
          ]
        },
        {
          "output_type": "stream",
          "name": "stdout",
          "text": [
            "Validation acc: 0.9933\n",
            "Validation F1: 0.9933\n",
            "\n",
            "Start of epoch 492\n",
            "Training loss: 0.0000\n",
            "Training metric: 0.9743\n",
            "perturbation loss: 0.0001\n"
          ]
        },
        {
          "output_type": "stream",
          "name": "stderr",
          "text": [
            "\r 49%|████▉     | 493/1000 [10:50<11:37,  1.37s/it]"
          ]
        },
        {
          "output_type": "stream",
          "name": "stdout",
          "text": [
            "Validation acc: 0.9800\n",
            "Validation F1: 0.9802\n",
            "\n",
            "Start of epoch 493\n",
            "Training loss: 0.0000\n",
            "Training metric: 0.9744\n",
            "perturbation loss: 0.0014\n",
            "Validation acc: 0.9867\n",
            "Validation F1: 0.9868\n"
          ]
        },
        {
          "output_type": "stream",
          "name": "stderr",
          "text": [
            "\r 49%|████▉     | 494/1000 [10:51<11:09,  1.32s/it]"
          ]
        },
        {
          "output_type": "stream",
          "name": "stdout",
          "text": [
            "\n",
            "Start of epoch 494\n",
            "Training loss: 0.0000\n",
            "Training metric: 0.9744\n",
            "perturbation loss: 0.0003\n",
            "Validation acc: 0.9867\n"
          ]
        },
        {
          "output_type": "stream",
          "name": "stderr",
          "text": [
            "\r 50%|████▉     | 495/1000 [10:53<10:49,  1.29s/it]"
          ]
        },
        {
          "output_type": "stream",
          "name": "stdout",
          "text": [
            "Validation F1: 0.9868\n",
            "\n",
            "Start of epoch 495\n",
            "Training loss: 0.0000\n",
            "Training metric: 0.9745\n",
            "perturbation loss: 0.0009\n"
          ]
        },
        {
          "output_type": "stream",
          "name": "stderr",
          "text": [
            "\r 50%|████▉     | 496/1000 [10:54<10:34,  1.26s/it]"
          ]
        },
        {
          "output_type": "stream",
          "name": "stdout",
          "text": [
            "Validation acc: 0.9800\n",
            "Validation F1: 0.9802\n",
            "\n",
            "Start of epoch 496\n"
          ]
        },
        {
          "output_type": "stream",
          "name": "stderr",
          "text": [
            "\r 50%|████▉     | 497/1000 [10:55<10:22,  1.24s/it]"
          ]
        },
        {
          "output_type": "stream",
          "name": "stdout",
          "text": [
            "Training loss: 0.0000\n",
            "Training metric: 0.9745\n",
            "perturbation loss: 0.0017\n",
            "Validation acc: 0.9800\n",
            "Validation F1: 0.9799\n",
            "\n",
            "Start of epoch 497\n",
            "Training loss: 0.0000\n",
            "Training metric: 0.9746\n",
            "perturbation loss: 0.0020\n",
            "Validation acc: 0.9733\n",
            "Validation F1: 0.9736\n"
          ]
        },
        {
          "output_type": "stream",
          "name": "stderr",
          "text": [
            "\r 50%|████▉     | 498/1000 [10:56<10:12,  1.22s/it]"
          ]
        },
        {
          "output_type": "stream",
          "name": "stdout",
          "text": [
            "\n",
            "Start of epoch 498\n",
            "Training loss: 0.0000\n",
            "Training metric: 0.9746\n",
            "perturbation loss: 0.0005\n"
          ]
        },
        {
          "output_type": "stream",
          "name": "stderr",
          "text": [
            "\r 50%|████▉     | 499/1000 [10:57<10:09,  1.22s/it]"
          ]
        },
        {
          "output_type": "stream",
          "name": "stdout",
          "text": [
            "Validation acc: 0.9533\n",
            "Validation F1: 0.9520\n",
            "\n",
            "Start of epoch 499\n",
            "Training loss: 0.0001\n",
            "Training metric: 0.9747\n",
            "perturbation loss: 0.0055\n"
          ]
        },
        {
          "output_type": "stream",
          "name": "stderr",
          "text": [
            "\r 50%|█████     | 500/1000 [10:59<11:03,  1.33s/it]"
          ]
        },
        {
          "output_type": "stream",
          "name": "stdout",
          "text": [
            "Validation acc: 0.9400\n",
            "Validation F1: 0.9408\n",
            "\n",
            "Start of epoch 500\n",
            "Training loss: 0.0001\n",
            "Training metric: 0.9747\n",
            "perturbation loss: 0.0063\n"
          ]
        },
        {
          "output_type": "stream",
          "name": "stderr",
          "text": [
            "\r 50%|█████     | 501/1000 [11:01<11:43,  1.41s/it]"
          ]
        },
        {
          "output_type": "stream",
          "name": "stdout",
          "text": [
            "Validation acc: 0.8333\n",
            "Validation F1: 0.8372\n",
            "\n",
            "Start of epoch 501\n",
            "Training loss: 0.0001\n",
            "Training metric: 0.9748\n",
            "perturbation loss: 0.0033\n",
            "Validation acc: 0.9667\n",
            "Validation F1: 0.9656\n"
          ]
        },
        {
          "output_type": "stream",
          "name": "stderr",
          "text": [
            "\r 50%|█████     | 502/1000 [11:02<11:36,  1.40s/it]"
          ]
        },
        {
          "output_type": "stream",
          "name": "stdout",
          "text": [
            "\n",
            "Start of epoch 502\n",
            "Training loss: 0.0004\n",
            "Training metric: 0.9748\n",
            "perturbation loss: 0.0110\n",
            "Validation acc: 0.9333\n",
            "Validation F1: 0.9296\n"
          ]
        },
        {
          "output_type": "stream",
          "name": "stderr",
          "text": [
            "\r 50%|█████     | 503/1000 [11:03<11:04,  1.34s/it]"
          ]
        },
        {
          "output_type": "stream",
          "name": "stdout",
          "text": [
            "\n",
            "Start of epoch 503\n",
            "Training loss: 0.0016\n",
            "Training metric: 0.9749\n",
            "perturbation loss: 0.0594\n",
            "Validation acc: 0.9467\n",
            "Validation F1: 0.9464\n"
          ]
        },
        {
          "output_type": "stream",
          "name": "stderr",
          "text": [
            "\r 50%|█████     | 504/1000 [11:04<10:41,  1.29s/it]"
          ]
        },
        {
          "output_type": "stream",
          "name": "stdout",
          "text": [
            "\n",
            "Start of epoch 504\n",
            "Training loss: 0.0001\n",
            "Training metric: 0.9749\n",
            "perturbation loss: 0.0044\n",
            "Validation acc: 0.9467\n"
          ]
        },
        {
          "output_type": "stream",
          "name": "stderr",
          "text": [
            "\r 50%|█████     | 505/1000 [11:06<10:30,  1.27s/it]"
          ]
        },
        {
          "output_type": "stream",
          "name": "stdout",
          "text": [
            "Validation F1: 0.9467\n",
            "\n",
            "Start of epoch 505\n",
            "Training loss: 0.0002\n",
            "Training metric: 0.9750\n",
            "perturbation loss: 0.0039\n",
            "Validation acc: 0.7867\n",
            "Validation F1: 0.7919\n"
          ]
        },
        {
          "output_type": "stream",
          "name": "stderr",
          "text": [
            "\r 51%|█████     | 506/1000 [11:07<10:16,  1.25s/it]"
          ]
        },
        {
          "output_type": "stream",
          "name": "stdout",
          "text": [
            "\n",
            "Start of epoch 506\n",
            "Training loss: 0.0001\n",
            "Training metric: 0.9750\n",
            "perturbation loss: 0.0034\n",
            "Validation acc: 0.9533\n",
            "Validation F1: 0.9524\n"
          ]
        },
        {
          "output_type": "stream",
          "name": "stderr",
          "text": [
            "\r 51%|█████     | 507/1000 [11:08<10:07,  1.23s/it]"
          ]
        },
        {
          "output_type": "stream",
          "name": "stdout",
          "text": [
            "\n",
            "Start of epoch 507\n",
            "Training loss: 0.0007\n",
            "Training metric: 0.9751\n",
            "perturbation loss: 0.0345\n",
            "Validation acc: 0.9867\n",
            "Validation F1: 0.9865\n"
          ]
        },
        {
          "output_type": "stream",
          "name": "stderr",
          "text": [
            "\r 51%|█████     | 508/1000 [11:09<09:58,  1.22s/it]"
          ]
        },
        {
          "output_type": "stream",
          "name": "stdout",
          "text": [
            "\n",
            "Start of epoch 508\n",
            "Training loss: 0.0000\n",
            "Training metric: 0.9751\n",
            "perturbation loss: 0.0009\n"
          ]
        },
        {
          "output_type": "stream",
          "name": "stderr",
          "text": [
            "\r 51%|█████     | 509/1000 [11:10<09:57,  1.22s/it]"
          ]
        },
        {
          "output_type": "stream",
          "name": "stdout",
          "text": [
            "Validation acc: 0.9800\n",
            "Validation F1: 0.9802\n",
            "\n",
            "Start of epoch 509\n",
            "Training loss: 0.0000\n",
            "Training metric: 0.9752\n",
            "perturbation loss: 0.0002\n"
          ]
        },
        {
          "output_type": "stream",
          "name": "stderr",
          "text": [
            "\r 51%|█████     | 510/1000 [11:12<09:59,  1.22s/it]"
          ]
        },
        {
          "output_type": "stream",
          "name": "stdout",
          "text": [
            "Validation acc: 0.9800\n",
            "Validation F1: 0.9802\n",
            "\n",
            "Start of epoch 510\n",
            "Training loss: 0.0001\n",
            "Training metric: 0.9752\n",
            "perturbation loss: 0.0016\n"
          ]
        },
        {
          "output_type": "stream",
          "name": "stderr",
          "text": [
            "\r 51%|█████     | 511/1000 [11:13<10:55,  1.34s/it]"
          ]
        },
        {
          "output_type": "stream",
          "name": "stdout",
          "text": [
            "Validation acc: 0.9867\n",
            "Validation F1: 0.9868\n",
            "\n",
            "Start of epoch 511\n",
            "Training loss: 0.0000\n",
            "Training metric: 0.9753\n",
            "perturbation loss: 0.0001\n"
          ]
        },
        {
          "output_type": "stream",
          "name": "stderr",
          "text": [
            "\r 51%|█████     | 512/1000 [11:15<11:33,  1.42s/it]"
          ]
        },
        {
          "output_type": "stream",
          "name": "stdout",
          "text": [
            "Validation acc: 0.9867\n",
            "Validation F1: 0.9868\n",
            "\n",
            "Start of epoch 512\n",
            "Training loss: 0.0000\n",
            "Training metric: 0.9753\n",
            "perturbation loss: 0.0010\n",
            "Validation acc: 0.9933\n",
            "Validation F1: 0.9933\n"
          ]
        },
        {
          "output_type": "stream",
          "name": "stderr",
          "text": [
            "\r 51%|█████▏    | 513/1000 [11:16<11:17,  1.39s/it]"
          ]
        },
        {
          "output_type": "stream",
          "name": "stdout",
          "text": [
            "\n",
            "Start of epoch 513\n",
            "Training loss: 0.0000\n",
            "Training metric: 0.9754\n",
            "perturbation loss: 0.0017\n"
          ]
        },
        {
          "output_type": "stream",
          "name": "stderr",
          "text": [
            "\r 51%|█████▏    | 514/1000 [11:17<11:03,  1.37s/it]"
          ]
        },
        {
          "output_type": "stream",
          "name": "stdout",
          "text": [
            "Validation acc: 0.9867\n",
            "Validation F1: 0.9868\n",
            "\n",
            "Start of epoch 514\n",
            "Training loss: 0.0000\n",
            "Training metric: 0.9754\n",
            "perturbation loss: 0.0002\n",
            "Validation acc: 0.9933\n",
            "Validation F1: 0.9933\n"
          ]
        },
        {
          "output_type": "stream",
          "name": "stderr",
          "text": [
            "\r 52%|█████▏    | 515/1000 [11:19<10:40,  1.32s/it]"
          ]
        },
        {
          "output_type": "stream",
          "name": "stdout",
          "text": [
            "\n",
            "Start of epoch 515\n",
            "Training loss: 0.0000\n",
            "Training metric: 0.9755\n",
            "perturbation loss: 0.0005\n"
          ]
        },
        {
          "output_type": "stream",
          "name": "stderr",
          "text": [
            "\r 52%|█████▏    | 516/1000 [11:20<10:23,  1.29s/it]"
          ]
        },
        {
          "output_type": "stream",
          "name": "stdout",
          "text": [
            "Validation acc: 0.9800\n",
            "Validation F1: 0.9802\n",
            "\n",
            "Start of epoch 516\n",
            "Training loss: 0.0000\n",
            "Training metric: 0.9755\n",
            "perturbation loss: 0.0003\n"
          ]
        },
        {
          "output_type": "stream",
          "name": "stderr",
          "text": [
            "\r 52%|█████▏    | 517/1000 [11:21<10:24,  1.29s/it]"
          ]
        },
        {
          "output_type": "stream",
          "name": "stdout",
          "text": [
            "Validation acc: 0.9867\n",
            "Validation F1: 0.9868\n",
            "\n",
            "Start of epoch 517\n",
            "Training loss: 0.0000\n",
            "Training metric: 0.9756\n",
            "perturbation loss: 0.0006\n",
            "Validation acc: 0.9867\n",
            "Validation F1: 0.9868\n"
          ]
        },
        {
          "output_type": "stream",
          "name": "stderr",
          "text": [
            "\r 52%|█████▏    | 518/1000 [11:22<10:06,  1.26s/it]"
          ]
        },
        {
          "output_type": "stream",
          "name": "stdout",
          "text": [
            "\n",
            "Start of epoch 518\n",
            "Training loss: 0.0001\n",
            "Training metric: 0.9756\n",
            "perturbation loss: 0.0052\n",
            "Validation acc: 0.9867\n",
            "Validation F1: 0.9868\n"
          ]
        },
        {
          "output_type": "stream",
          "name": "stderr",
          "text": [
            "\r 52%|█████▏    | 519/1000 [11:24<09:54,  1.24s/it]"
          ]
        },
        {
          "output_type": "stream",
          "name": "stdout",
          "text": [
            "\n",
            "Start of epoch 519\n",
            "Training loss: 0.0000\n",
            "Training metric: 0.9756\n",
            "perturbation loss: 0.0003\n"
          ]
        },
        {
          "output_type": "stream",
          "name": "stderr",
          "text": [
            "\r 52%|█████▏    | 520/1000 [11:25<09:49,  1.23s/it]"
          ]
        },
        {
          "output_type": "stream",
          "name": "stdout",
          "text": [
            "Validation acc: 0.9733\n",
            "Validation F1: 0.9733\n",
            "\n",
            "Start of epoch 520\n",
            "Training loss: 0.0000\n",
            "Training metric: 0.9757\n",
            "perturbation loss: 0.0007\n"
          ]
        },
        {
          "output_type": "stream",
          "name": "stderr",
          "text": [
            "\r 52%|█████▏    | 521/1000 [11:26<10:18,  1.29s/it]"
          ]
        },
        {
          "output_type": "stream",
          "name": "stdout",
          "text": [
            "Validation acc: 0.9867\n",
            "Validation F1: 0.9868\n",
            "\n",
            "Start of epoch 521\n",
            "Training loss: 0.0000\n",
            "Training metric: 0.9757\n",
            "perturbation loss: 0.0005\n"
          ]
        },
        {
          "output_type": "stream",
          "name": "stderr",
          "text": [
            "\r 52%|█████▏    | 522/1000 [11:28<11:07,  1.40s/it]"
          ]
        },
        {
          "output_type": "stream",
          "name": "stdout",
          "text": [
            "Validation acc: 0.9800\n",
            "Validation F1: 0.9802\n",
            "\n",
            "Start of epoch 522\n",
            "Training loss: 0.0000\n",
            "Training metric: 0.9758\n",
            "perturbation loss: 0.0002\n"
          ]
        },
        {
          "output_type": "stream",
          "name": "stderr",
          "text": [
            "\r 52%|█████▏    | 523/1000 [11:29<11:22,  1.43s/it]"
          ]
        },
        {
          "output_type": "stream",
          "name": "stdout",
          "text": [
            "Validation acc: 0.9800\n",
            "Validation F1: 0.9802\n",
            "\n",
            "Start of epoch 523\n",
            "Training loss: 0.0000\n",
            "Training metric: 0.9758\n",
            "perturbation loss: 0.0008\n",
            "Validation acc: 0.9867\n",
            "Validation F1: 0.9868\n"
          ]
        },
        {
          "output_type": "stream",
          "name": "stderr",
          "text": [
            "\r 52%|█████▏    | 524/1000 [11:31<10:46,  1.36s/it]"
          ]
        },
        {
          "output_type": "stream",
          "name": "stdout",
          "text": [
            "\n",
            "Start of epoch 524\n",
            "Training loss: 0.0001\n",
            "Training metric: 0.9759\n",
            "perturbation loss: 0.0038\n",
            "Validation acc: 0.9933\n",
            "Validation F1: 0.9933\n"
          ]
        },
        {
          "output_type": "stream",
          "name": "stderr",
          "text": [
            "\r 52%|█████▎    | 525/1000 [11:32<10:22,  1.31s/it]"
          ]
        },
        {
          "output_type": "stream",
          "name": "stdout",
          "text": [
            "\n",
            "Start of epoch 525\n",
            "Training loss: 0.0000\n",
            "Training metric: 0.9759\n",
            "perturbation loss: 0.0001\n",
            "Validation acc: 0.9800\n",
            "Validation F1: 0.9800\n"
          ]
        },
        {
          "output_type": "stream",
          "name": "stderr",
          "text": [
            "\r 53%|█████▎    | 526/1000 [11:33<10:03,  1.27s/it]"
          ]
        },
        {
          "output_type": "stream",
          "name": "stdout",
          "text": [
            "\n",
            "Start of epoch 526\n",
            "Training loss: 0.0000\n",
            "Training metric: 0.9760\n",
            "perturbation loss: 0.0000\n",
            "Validation acc: 0.9933\n"
          ]
        },
        {
          "output_type": "stream",
          "name": "stderr",
          "text": [
            "\r 53%|█████▎    | 527/1000 [11:34<09:54,  1.26s/it]"
          ]
        },
        {
          "output_type": "stream",
          "name": "stdout",
          "text": [
            "Validation F1: 0.9933\n",
            "\n",
            "Start of epoch 527\n",
            "Training loss: 0.0000\n",
            "Training metric: 0.9760\n",
            "perturbation loss: 0.0000\n",
            "Validation acc: 0.9800\n"
          ]
        },
        {
          "output_type": "stream",
          "name": "stderr",
          "text": [
            "\r 53%|█████▎    | 528/1000 [11:35<09:48,  1.25s/it]"
          ]
        },
        {
          "output_type": "stream",
          "name": "stdout",
          "text": [
            "Validation F1: 0.9802\n",
            "\n",
            "Start of epoch 528\n",
            "Training loss: 0.0000\n",
            "Training metric: 0.9761\n",
            "perturbation loss: 0.0004\n",
            "Validation acc: 0.9867\n"
          ]
        },
        {
          "output_type": "stream",
          "name": "stderr",
          "text": [
            "\r 53%|█████▎    | 529/1000 [11:37<09:39,  1.23s/it]"
          ]
        },
        {
          "output_type": "stream",
          "name": "stdout",
          "text": [
            "Validation F1: 0.9865\n",
            "\n",
            "Start of epoch 529\n",
            "Training loss: 0.0000\n",
            "Training metric: 0.9761\n",
            "perturbation loss: 0.0007\n"
          ]
        },
        {
          "output_type": "stream",
          "name": "stderr",
          "text": [
            "\r 53%|█████▎    | 530/1000 [11:38<09:36,  1.23s/it]"
          ]
        },
        {
          "output_type": "stream",
          "name": "stdout",
          "text": [
            "Validation acc: 0.9867\n",
            "Validation F1: 0.9868\n",
            "\n",
            "Start of epoch 530\n",
            "Training loss: 0.0000\n",
            "Training metric: 0.9761\n",
            "perturbation loss: 0.0004\n",
            "Validation acc: 0.9800\n"
          ]
        },
        {
          "output_type": "stream",
          "name": "stderr",
          "text": [
            "\r 53%|█████▎    | 531/1000 [11:39<09:29,  1.21s/it]"
          ]
        },
        {
          "output_type": "stream",
          "name": "stdout",
          "text": [
            "Validation F1: 0.9797\n",
            "\n",
            "Start of epoch 531\n",
            "Training loss: 0.0000\n",
            "Training metric: 0.9762\n",
            "perturbation loss: 0.0000\n"
          ]
        },
        {
          "output_type": "stream",
          "name": "stderr",
          "text": [
            "\r 53%|█████▎    | 532/1000 [11:41<10:19,  1.32s/it]"
          ]
        },
        {
          "output_type": "stream",
          "name": "stdout",
          "text": [
            "Validation acc: 0.9800\n",
            "Validation F1: 0.9802\n",
            "\n",
            "Start of epoch 532\n",
            "Training loss: 0.0000\n",
            "Training metric: 0.9762\n",
            "perturbation loss: 0.0008\n"
          ]
        },
        {
          "output_type": "stream",
          "name": "stderr",
          "text": [
            "\r 53%|█████▎    | 533/1000 [11:42<10:56,  1.40s/it]"
          ]
        },
        {
          "output_type": "stream",
          "name": "stdout",
          "text": [
            "Validation acc: 0.9733\n",
            "Validation F1: 0.9737\n",
            "\n",
            "Start of epoch 533\n",
            "Training loss: 0.0000\n",
            "Training metric: 0.9763\n",
            "perturbation loss: 0.0001\n",
            "Validation acc: 0.9800\n",
            "Validation F1: 0.9799\n"
          ]
        },
        {
          "output_type": "stream",
          "name": "stderr",
          "text": [
            "\r 53%|█████▎    | 534/1000 [11:44<10:57,  1.41s/it]"
          ]
        },
        {
          "output_type": "stream",
          "name": "stdout",
          "text": [
            "\n",
            "Start of epoch 534\n",
            "Training loss: 0.0000\n",
            "Training metric: 0.9763\n",
            "perturbation loss: 0.0001\n"
          ]
        },
        {
          "output_type": "stream",
          "name": "stderr",
          "text": [
            "\r 54%|█████▎    | 535/1000 [11:45<10:27,  1.35s/it]"
          ]
        },
        {
          "output_type": "stream",
          "name": "stdout",
          "text": [
            "Validation acc: 0.9733\n",
            "Validation F1: 0.9736\n",
            "\n",
            "Start of epoch 535\n",
            "Training loss: 0.0153\n",
            "Training metric: 0.9764\n",
            "perturbation loss: 0.7529\n",
            "Validation acc: 0.9533\n",
            "Validation F1: 0.9526\n"
          ]
        },
        {
          "output_type": "stream",
          "name": "stderr",
          "text": [
            "\r 54%|█████▎    | 536/1000 [11:46<10:03,  1.30s/it]"
          ]
        },
        {
          "output_type": "stream",
          "name": "stdout",
          "text": [
            "\n",
            "Start of epoch 536\n",
            "Training loss: 0.1237\n",
            "Training metric: 0.9764\n",
            "perturbation loss: 5.4700\n",
            "Validation acc: 0.9400\n",
            "Validation F1: 0.9405\n"
          ]
        },
        {
          "output_type": "stream",
          "name": "stderr",
          "text": [
            "\r 54%|█████▎    | 537/1000 [11:47<09:50,  1.27s/it]"
          ]
        },
        {
          "output_type": "stream",
          "name": "stdout",
          "text": [
            "\n",
            "Start of epoch 537\n",
            "Training loss: 0.0025\n",
            "Training metric: 0.9765\n",
            "perturbation loss: 0.1050\n",
            "Validation acc: 0.9400\n",
            "Validation F1: 0.9405\n"
          ]
        },
        {
          "output_type": "stream",
          "name": "stderr",
          "text": [
            "\r 54%|█████▍    | 538/1000 [11:48<09:39,  1.26s/it]"
          ]
        },
        {
          "output_type": "stream",
          "name": "stdout",
          "text": [
            "\n",
            "Start of epoch 538\n",
            "Training loss: 0.0014\n",
            "Training metric: 0.9765\n",
            "perturbation loss: 0.0311\n"
          ]
        },
        {
          "output_type": "stream",
          "name": "stderr",
          "text": [
            "\r 54%|█████▍    | 539/1000 [11:50<09:33,  1.24s/it]"
          ]
        },
        {
          "output_type": "stream",
          "name": "stdout",
          "text": [
            "Validation acc: 0.9867\n",
            "Validation F1: 0.9867\n",
            "\n",
            "Start of epoch 539\n",
            "Training loss: 0.0000\n",
            "Training metric: 0.9765\n",
            "perturbation loss: 0.0002\n"
          ]
        },
        {
          "output_type": "stream",
          "name": "stderr",
          "text": [
            "\r 54%|█████▍    | 540/1000 [11:51<09:41,  1.26s/it]"
          ]
        },
        {
          "output_type": "stream",
          "name": "stdout",
          "text": [
            "Validation acc: 0.9733\n",
            "Validation F1: 0.9733\n",
            "\n",
            "Start of epoch 540\n",
            "Training loss: 0.0009\n",
            "Training metric: 0.9766\n",
            "perturbation loss: 0.0446\n",
            "Validation acc: 0.9867\n",
            "Validation F1: 0.9865\n"
          ]
        },
        {
          "output_type": "stream",
          "name": "stderr",
          "text": [
            "\r 54%|█████▍    | 541/1000 [11:52<09:32,  1.25s/it]"
          ]
        },
        {
          "output_type": "stream",
          "name": "stdout",
          "text": [
            "\n",
            "Start of epoch 541\n",
            "Training loss: 0.0001\n",
            "Training metric: 0.9766\n",
            "perturbation loss: 0.0044\n"
          ]
        },
        {
          "output_type": "stream",
          "name": "stderr",
          "text": [
            "\r 54%|█████▍    | 542/1000 [11:53<09:40,  1.27s/it]"
          ]
        },
        {
          "output_type": "stream",
          "name": "stdout",
          "text": [
            "Validation acc: 0.9800\n",
            "Validation F1: 0.9797\n",
            "\n",
            "Start of epoch 542\n",
            "Training loss: 0.0001\n",
            "Training metric: 0.9767\n",
            "perturbation loss: 0.0023\n"
          ]
        },
        {
          "output_type": "stream",
          "name": "stderr",
          "text": [
            "\r 54%|█████▍    | 543/1000 [11:55<10:31,  1.38s/it]"
          ]
        },
        {
          "output_type": "stream",
          "name": "stdout",
          "text": [
            "Validation acc: 0.9867\n",
            "Validation F1: 0.9865\n",
            "\n",
            "Start of epoch 543\n",
            "Training loss: 0.0000\n",
            "Training metric: 0.9767\n",
            "perturbation loss: 0.0004\n"
          ]
        },
        {
          "output_type": "stream",
          "name": "stderr",
          "text": [
            "\r 54%|█████▍    | 544/1000 [11:58<13:41,  1.80s/it]"
          ]
        },
        {
          "output_type": "stream",
          "name": "stdout",
          "text": [
            "Validation acc: 0.9867\n",
            "Validation F1: 0.9865\n",
            "\n",
            "Start of epoch 544\n",
            "Training loss: 0.0000\n",
            "Training metric: 0.9768\n",
            "perturbation loss: 0.0009\n"
          ]
        },
        {
          "output_type": "stream",
          "name": "stderr",
          "text": [
            "\r 55%|█████▍    | 545/1000 [11:59<12:31,  1.65s/it]"
          ]
        },
        {
          "output_type": "stream",
          "name": "stdout",
          "text": [
            "Validation acc: 0.9933\n",
            "Validation F1: 0.9933\n",
            "\n",
            "Start of epoch 545\n",
            "Training loss: 0.0000\n",
            "Training metric: 0.9768\n",
            "perturbation loss: 0.0010\n",
            "Validation acc: 0.9867\n",
            "Validation F1: 0.9865\n"
          ]
        },
        {
          "output_type": "stream",
          "name": "stderr",
          "text": [
            "\r 55%|█████▍    | 546/1000 [12:00<11:27,  1.51s/it]"
          ]
        },
        {
          "output_type": "stream",
          "name": "stdout",
          "text": [
            "\n",
            "Start of epoch 546\n",
            "Training loss: 0.0000\n",
            "Training metric: 0.9768\n",
            "perturbation loss: 0.0003\n",
            "Validation acc: 0.9933\n",
            "Validation F1: 0.9933\n"
          ]
        },
        {
          "output_type": "stream",
          "name": "stderr",
          "text": [
            "\r 55%|█████▍    | 547/1000 [12:02<10:39,  1.41s/it]"
          ]
        },
        {
          "output_type": "stream",
          "name": "stdout",
          "text": [
            "\n",
            "Start of epoch 547\n",
            "Training loss: 0.0001\n",
            "Training metric: 0.9769\n",
            "perturbation loss: 0.0048\n",
            "Validation acc: 0.9933\n"
          ]
        },
        {
          "output_type": "stream",
          "name": "stderr",
          "text": [
            "\r 55%|█████▍    | 548/1000 [12:03<10:10,  1.35s/it]"
          ]
        },
        {
          "output_type": "stream",
          "name": "stdout",
          "text": [
            "Validation F1: 0.9933\n",
            "\n",
            "Start of epoch 548\n",
            "Training loss: 0.0000\n",
            "Training metric: 0.9769\n",
            "perturbation loss: 0.0005\n",
            "Validation acc: 0.9933\n",
            "Validation F1: 0.9933\n"
          ]
        },
        {
          "output_type": "stream",
          "name": "stderr",
          "text": [
            "\r 55%|█████▍    | 549/1000 [12:04<09:50,  1.31s/it]"
          ]
        },
        {
          "output_type": "stream",
          "name": "stdout",
          "text": [
            "\n",
            "Start of epoch 549\n",
            "Training loss: 0.0000\n",
            "Training metric: 0.9770\n",
            "perturbation loss: 0.0009\n",
            "Validation acc: 0.9933\n",
            "Validation F1: 0.9933\n"
          ]
        },
        {
          "output_type": "stream",
          "name": "stderr",
          "text": [
            "\r 55%|█████▌    | 550/1000 [12:05<09:35,  1.28s/it]"
          ]
        },
        {
          "output_type": "stream",
          "name": "stdout",
          "text": [
            "\n",
            "Start of epoch 550\n",
            "Training loss: 0.0005\n",
            "Training metric: 0.9770\n",
            "perturbation loss: 0.0234\n",
            "Validation acc: 0.9933\n",
            "Validation F1: 0.9933\n"
          ]
        },
        {
          "output_type": "stream",
          "name": "stderr",
          "text": [
            "\r 55%|█████▌    | 551/1000 [12:06<09:25,  1.26s/it]"
          ]
        },
        {
          "output_type": "stream",
          "name": "stdout",
          "text": [
            "\n",
            "Start of epoch 551\n",
            "Training loss: 0.0000\n",
            "Training metric: 0.9771\n",
            "perturbation loss: 0.0002\n"
          ]
        },
        {
          "output_type": "stream",
          "name": "stderr",
          "text": [
            "\r 55%|█████▌    | 552/1000 [12:08<09:56,  1.33s/it]"
          ]
        },
        {
          "output_type": "stream",
          "name": "stdout",
          "text": [
            "Validation acc: 0.9867\n",
            "Validation F1: 0.9868\n",
            "\n",
            "Start of epoch 552\n",
            "Training loss: 0.0000\n",
            "Training metric: 0.9771\n",
            "perturbation loss: 0.0010\n"
          ]
        },
        {
          "output_type": "stream",
          "name": "stderr",
          "text": [
            "\r 55%|█████▌    | 553/1000 [12:10<10:34,  1.42s/it]"
          ]
        },
        {
          "output_type": "stream",
          "name": "stdout",
          "text": [
            "Validation acc: 0.9933\n",
            "Validation F1: 0.9933\n",
            "\n",
            "Start of epoch 553\n",
            "Training loss: 0.0000\n",
            "Training metric: 0.9771\n",
            "perturbation loss: 0.0014\n",
            "Validation acc: 0.9933\n",
            "Validation F1: 0.9933\n"
          ]
        },
        {
          "output_type": "stream",
          "name": "stderr",
          "text": [
            "\r 55%|█████▌    | 554/1000 [12:11<10:40,  1.44s/it]"
          ]
        },
        {
          "output_type": "stream",
          "name": "stdout",
          "text": [
            "\n",
            "Start of epoch 554\n",
            "Training loss: 0.0000\n",
            "Training metric: 0.9772\n",
            "perturbation loss: 0.0006\n",
            "Validation acc: 0.9933\n",
            "Validation F1: 0.9933\n"
          ]
        },
        {
          "output_type": "stream",
          "name": "stderr",
          "text": [
            "\r 56%|█████▌    | 555/1000 [12:12<10:06,  1.36s/it]"
          ]
        },
        {
          "output_type": "stream",
          "name": "stdout",
          "text": [
            "\n",
            "Start of epoch 555\n",
            "Training loss: 0.0000\n",
            "Training metric: 0.9772\n",
            "perturbation loss: 0.0004\n",
            "Validation acc: 0.9933\n",
            "Validation F1: 0.9933\n"
          ]
        },
        {
          "output_type": "stream",
          "name": "stderr",
          "text": [
            "\r 56%|█████▌    | 556/1000 [12:13<09:44,  1.32s/it]"
          ]
        },
        {
          "output_type": "stream",
          "name": "stdout",
          "text": [
            "\n",
            "Start of epoch 556\n",
            "Training loss: 0.0000\n",
            "Training metric: 0.9773\n",
            "perturbation loss: 0.0006\n"
          ]
        },
        {
          "output_type": "stream",
          "name": "stderr",
          "text": [
            "\r 56%|█████▌    | 557/1000 [12:15<09:28,  1.28s/it]"
          ]
        },
        {
          "output_type": "stream",
          "name": "stdout",
          "text": [
            "Validation acc: 0.9933\n",
            "Validation F1: 0.9933\n",
            "\n",
            "Start of epoch 557\n",
            "Training loss: 0.0000\n",
            "Training metric: 0.9773\n",
            "perturbation loss: 0.0001\n",
            "Validation acc: 0.9933\n",
            "Validation F1: 0.9933\n"
          ]
        },
        {
          "output_type": "stream",
          "name": "stderr",
          "text": [
            "\r 56%|█████▌    | 558/1000 [12:16<09:13,  1.25s/it]"
          ]
        },
        {
          "output_type": "stream",
          "name": "stdout",
          "text": [
            "\n",
            "Start of epoch 558\n",
            "Training loss: 0.0000\n",
            "Training metric: 0.9773\n",
            "perturbation loss: 0.0003\n",
            "Validation acc: 0.9933\n",
            "Validation F1: 0.9933\n"
          ]
        },
        {
          "output_type": "stream",
          "name": "stderr",
          "text": [
            "\r 56%|█████▌    | 559/1000 [12:17<09:04,  1.24s/it]"
          ]
        },
        {
          "output_type": "stream",
          "name": "stdout",
          "text": [
            "\n",
            "Start of epoch 559\n",
            "Training loss: 0.0000\n",
            "Training metric: 0.9774\n",
            "perturbation loss: 0.0001\n",
            "Validation acc: 0.9933\n",
            "Validation F1: 0.9933\n"
          ]
        },
        {
          "output_type": "stream",
          "name": "stderr",
          "text": [
            "\r 56%|█████▌    | 560/1000 [12:18<08:58,  1.22s/it]"
          ]
        },
        {
          "output_type": "stream",
          "name": "stdout",
          "text": [
            "\n",
            "Start of epoch 560\n",
            "Training loss: 0.0000\n",
            "Training metric: 0.9774\n",
            "perturbation loss: 0.0003\n",
            "Validation acc: 0.9933\n",
            "Validation F1: 0.9933\n"
          ]
        },
        {
          "output_type": "stream",
          "name": "stderr",
          "text": [
            "\r 56%|█████▌    | 561/1000 [12:19<08:55,  1.22s/it]"
          ]
        },
        {
          "output_type": "stream",
          "name": "stdout",
          "text": [
            "\n",
            "Start of epoch 561\n",
            "Training loss: 0.0000\n",
            "Training metric: 0.9775\n",
            "perturbation loss: 0.0000\n",
            "Validation acc: 0.9867\n",
            "Validation F1: 0.9868\n"
          ]
        },
        {
          "output_type": "stream",
          "name": "stderr",
          "text": [
            "\r 56%|█████▌    | 562/1000 [12:21<08:48,  1.21s/it]"
          ]
        },
        {
          "output_type": "stream",
          "name": "stdout",
          "text": [
            "\n",
            "Start of epoch 562\n",
            "Training loss: 0.0000\n",
            "Training metric: 0.9775\n",
            "perturbation loss: 0.0000\n"
          ]
        },
        {
          "output_type": "stream",
          "name": "stderr",
          "text": [
            "\r 56%|█████▋    | 563/1000 [12:22<09:28,  1.30s/it]"
          ]
        },
        {
          "output_type": "stream",
          "name": "stdout",
          "text": [
            "Validation acc: 0.9867\n",
            "Validation F1: 0.9868\n",
            "\n",
            "Start of epoch 563\n",
            "Training loss: 0.0000\n",
            "Training metric: 0.9775\n",
            "perturbation loss: 0.0003\n"
          ]
        },
        {
          "output_type": "stream",
          "name": "stderr",
          "text": [
            "\r 56%|█████▋    | 564/1000 [12:24<10:02,  1.38s/it]"
          ]
        },
        {
          "output_type": "stream",
          "name": "stdout",
          "text": [
            "Validation acc: 0.9867\n",
            "Validation F1: 0.9868\n",
            "\n",
            "Start of epoch 564\n",
            "Training loss: 0.0000\n",
            "Training metric: 0.9776\n",
            "perturbation loss: 0.0002\n",
            "Validation acc: 0.9933\n",
            "Validation F1: 0.9933\n"
          ]
        },
        {
          "output_type": "stream",
          "name": "stderr",
          "text": [
            "\r 56%|█████▋    | 565/1000 [12:25<10:14,  1.41s/it]"
          ]
        },
        {
          "output_type": "stream",
          "name": "stdout",
          "text": [
            "\n",
            "Start of epoch 565\n",
            "Training loss: 0.0000\n",
            "Training metric: 0.9776\n",
            "perturbation loss: 0.0002\n",
            "Validation acc: 0.9933\n",
            "Validation F1: 0.9933\n"
          ]
        },
        {
          "output_type": "stream",
          "name": "stderr",
          "text": [
            "\r 57%|█████▋    | 566/1000 [12:26<09:43,  1.34s/it]"
          ]
        },
        {
          "output_type": "stream",
          "name": "stdout",
          "text": [
            "\n",
            "Start of epoch 566\n",
            "Training loss: 0.0000\n",
            "Training metric: 0.9777\n",
            "perturbation loss: 0.0004\n",
            "Validation acc: 0.9867\n",
            "Validation F1: 0.9868\n"
          ]
        },
        {
          "output_type": "stream",
          "name": "stderr",
          "text": [
            "\r 57%|█████▋    | 567/1000 [12:28<09:22,  1.30s/it]"
          ]
        },
        {
          "output_type": "stream",
          "name": "stdout",
          "text": [
            "\n",
            "Start of epoch 567\n",
            "Training loss: 0.0000\n",
            "Training metric: 0.9777\n",
            "perturbation loss: 0.0001\n"
          ]
        },
        {
          "output_type": "stream",
          "name": "stderr",
          "text": [
            "\r 57%|█████▋    | 568/1000 [12:29<09:25,  1.31s/it]"
          ]
        },
        {
          "output_type": "stream",
          "name": "stdout",
          "text": [
            "Validation acc: 0.9933\n",
            "Validation F1: 0.9933\n",
            "\n",
            "Start of epoch 568\n",
            "Training loss: 0.0000\n",
            "Training metric: 0.9777\n",
            "perturbation loss: 0.0001\n"
          ]
        },
        {
          "output_type": "stream",
          "name": "stderr",
          "text": [
            "\r 57%|█████▋    | 569/1000 [12:30<09:14,  1.29s/it]"
          ]
        },
        {
          "output_type": "stream",
          "name": "stdout",
          "text": [
            "Validation acc: 0.9800\n",
            "Validation F1: 0.9802\n",
            "\n",
            "Start of epoch 569\n",
            "Training loss: 0.0000\n",
            "Training metric: 0.9778\n",
            "perturbation loss: 0.0001\n",
            "Validation acc: 0.9867\n",
            "Validation F1: 0.9868\n"
          ]
        },
        {
          "output_type": "stream",
          "name": "stderr",
          "text": [
            "\r 57%|█████▋    | 570/1000 [12:31<09:00,  1.26s/it]"
          ]
        },
        {
          "output_type": "stream",
          "name": "stdout",
          "text": [
            "\n",
            "Start of epoch 570\n",
            "Training loss: 0.0000\n",
            "Training metric: 0.9778\n",
            "perturbation loss: 0.0001\n"
          ]
        },
        {
          "output_type": "stream",
          "name": "stderr",
          "text": [
            "\r 57%|█████▋    | 571/1000 [12:32<08:52,  1.24s/it]"
          ]
        },
        {
          "output_type": "stream",
          "name": "stdout",
          "text": [
            "Validation acc: 0.9933\n",
            "Validation F1: 0.9933\n",
            "\n",
            "Start of epoch 571\n",
            "Training loss: 0.0000\n",
            "Training metric: 0.9779\n",
            "perturbation loss: 0.0001\n",
            "Validation acc: 0.9800\n"
          ]
        },
        {
          "output_type": "stream",
          "name": "stderr",
          "text": [
            "\r 57%|█████▋    | 572/1000 [12:34<08:47,  1.23s/it]"
          ]
        },
        {
          "output_type": "stream",
          "name": "stdout",
          "text": [
            "Validation F1: 0.9802\n",
            "\n",
            "Start of epoch 572\n",
            "Training loss: 0.0000\n",
            "Training metric: 0.9779\n",
            "perturbation loss: 0.0000\n"
          ]
        },
        {
          "output_type": "stream",
          "name": "stderr",
          "text": [
            "\r 57%|█████▋    | 573/1000 [12:35<08:48,  1.24s/it]"
          ]
        },
        {
          "output_type": "stream",
          "name": "stdout",
          "text": [
            "Validation acc: 0.9800\n",
            "Validation F1: 0.9802\n",
            "\n",
            "Start of epoch 573\n",
            "Training loss: 0.0000\n",
            "Training metric: 0.9779\n",
            "perturbation loss: 0.0013\n"
          ]
        },
        {
          "output_type": "stream",
          "name": "stderr",
          "text": [
            "\r 57%|█████▋    | 574/1000 [12:37<09:37,  1.36s/it]"
          ]
        },
        {
          "output_type": "stream",
          "name": "stdout",
          "text": [
            "Validation acc: 0.9800\n",
            "Validation F1: 0.9799\n",
            "\n",
            "Start of epoch 574\n",
            "Training loss: 0.0000\n",
            "Training metric: 0.9780\n",
            "perturbation loss: 0.0001\n"
          ]
        },
        {
          "output_type": "stream",
          "name": "stderr",
          "text": [
            "\r 57%|█████▊    | 575/1000 [12:38<10:14,  1.45s/it]"
          ]
        },
        {
          "output_type": "stream",
          "name": "stdout",
          "text": [
            "Validation acc: 0.9800\n",
            "Validation F1: 0.9802\n",
            "\n",
            "Start of epoch 575\n",
            "Training loss: 0.0001\n",
            "Training metric: 0.9780\n",
            "perturbation loss: 0.0008\n",
            "Validation acc: 0.9800\n",
            "Validation F1: 0.9800\n"
          ]
        },
        {
          "output_type": "stream",
          "name": "stderr",
          "text": [
            "\r 58%|█████▊    | 576/1000 [12:40<09:57,  1.41s/it]"
          ]
        },
        {
          "output_type": "stream",
          "name": "stdout",
          "text": [
            "\n",
            "Start of epoch 576\n",
            "Training loss: 0.0001\n",
            "Training metric: 0.9780\n",
            "perturbation loss: 0.0044\n"
          ]
        },
        {
          "output_type": "stream",
          "name": "stderr",
          "text": [
            "\r 58%|█████▊    | 577/1000 [12:41<09:32,  1.35s/it]"
          ]
        },
        {
          "output_type": "stream",
          "name": "stdout",
          "text": [
            "Validation acc: 0.9733\n",
            "Validation F1: 0.9736\n",
            "\n",
            "Start of epoch 577\n",
            "Training loss: 0.0029\n",
            "Training metric: 0.9781\n",
            "perturbation loss: 0.1431\n",
            "Validation acc: 0.9600\n",
            "Validation F1: 0.9591\n"
          ]
        },
        {
          "output_type": "stream",
          "name": "stderr",
          "text": [
            "\r 58%|█████▊    | 578/1000 [12:42<09:09,  1.30s/it]"
          ]
        },
        {
          "output_type": "stream",
          "name": "stdout",
          "text": [
            "\n",
            "Start of epoch 578\n",
            "Training loss: 0.0000\n",
            "Training metric: 0.9781\n",
            "perturbation loss: 0.0009\n"
          ]
        },
        {
          "output_type": "stream",
          "name": "stderr",
          "text": [
            "\r 58%|█████▊    | 579/1000 [12:43<08:58,  1.28s/it]"
          ]
        },
        {
          "output_type": "stream",
          "name": "stdout",
          "text": [
            "Validation acc: 0.9733\n",
            "Validation F1: 0.9733\n",
            "\n",
            "Start of epoch 579\n",
            "Training loss: 0.0000\n",
            "Training metric: 0.9782\n",
            "perturbation loss: 0.0012\n"
          ]
        },
        {
          "output_type": "stream",
          "name": "stderr",
          "text": [
            "\r 58%|█████▊    | 580/1000 [12:44<08:49,  1.26s/it]"
          ]
        },
        {
          "output_type": "stream",
          "name": "stdout",
          "text": [
            "Validation acc: 0.9800\n",
            "Validation F1: 0.9802\n",
            "\n",
            "Start of epoch 580\n",
            "Training loss: 0.0001\n",
            "Training metric: 0.9782\n",
            "perturbation loss: 0.0037\n",
            "Validation acc: 0.9867\n",
            "Validation F1: 0.9867\n"
          ]
        },
        {
          "output_type": "stream",
          "name": "stderr",
          "text": [
            "\r 58%|█████▊    | 581/1000 [12:46<08:38,  1.24s/it]"
          ]
        },
        {
          "output_type": "stream",
          "name": "stdout",
          "text": [
            "\n",
            "Start of epoch 581\n",
            "Training loss: 0.0000\n",
            "Training metric: 0.9782\n",
            "perturbation loss: 0.0006\n",
            "Validation acc: 0.9867\n",
            "Validation F1: 0.9868\n"
          ]
        },
        {
          "output_type": "stream",
          "name": "stderr",
          "text": [
            "\r 58%|█████▊    | 582/1000 [12:47<08:34,  1.23s/it]"
          ]
        },
        {
          "output_type": "stream",
          "name": "stdout",
          "text": [
            "\n",
            "Start of epoch 582\n",
            "Training loss: 0.0000\n",
            "Training metric: 0.9783\n",
            "perturbation loss: 0.0001\n",
            "Validation acc: 0.9867\n",
            "Validation F1: 0.9867\n"
          ]
        },
        {
          "output_type": "stream",
          "name": "stderr",
          "text": [
            "\r 58%|█████▊    | 583/1000 [12:48<08:28,  1.22s/it]"
          ]
        },
        {
          "output_type": "stream",
          "name": "stdout",
          "text": [
            "\n",
            "Start of epoch 583\n",
            "Training loss: 0.0000\n",
            "Training metric: 0.9783\n",
            "perturbation loss: 0.0003\n"
          ]
        },
        {
          "output_type": "stream",
          "name": "stderr",
          "text": [
            "\r 58%|█████▊    | 584/1000 [12:49<08:42,  1.26s/it]"
          ]
        },
        {
          "output_type": "stream",
          "name": "stdout",
          "text": [
            "Validation acc: 0.9867\n",
            "Validation F1: 0.9868\n",
            "\n",
            "Start of epoch 584\n",
            "Training loss: 0.0000\n",
            "Training metric: 0.9783\n",
            "perturbation loss: 0.0012\n"
          ]
        },
        {
          "output_type": "stream",
          "name": "stderr",
          "text": [
            "\r 58%|█████▊    | 585/1000 [12:51<09:26,  1.37s/it]"
          ]
        },
        {
          "output_type": "stream",
          "name": "stdout",
          "text": [
            "Validation acc: 0.9867\n",
            "Validation F1: 0.9868\n",
            "\n",
            "Start of epoch 585\n",
            "Training loss: 0.0000\n",
            "Training metric: 0.9784\n",
            "perturbation loss: 0.0005\n"
          ]
        },
        {
          "output_type": "stream",
          "name": "stderr",
          "text": [
            "\r 59%|█████▊    | 586/1000 [12:53<09:55,  1.44s/it]"
          ]
        },
        {
          "output_type": "stream",
          "name": "stdout",
          "text": [
            "Validation acc: 0.9867\n",
            "Validation F1: 0.9868\n",
            "\n",
            "Start of epoch 586\n",
            "Training loss: 0.0000\n",
            "Training metric: 0.9784\n",
            "perturbation loss: 0.0004\n"
          ]
        },
        {
          "output_type": "stream",
          "name": "stderr",
          "text": [
            "\r 59%|█████▊    | 587/1000 [12:54<09:33,  1.39s/it]"
          ]
        },
        {
          "output_type": "stream",
          "name": "stdout",
          "text": [
            "Validation acc: 0.9933\n",
            "Validation F1: 0.9933\n",
            "\n",
            "Start of epoch 587\n",
            "Training loss: 0.0000\n",
            "Training metric: 0.9785\n",
            "perturbation loss: 0.0007\n"
          ]
        },
        {
          "output_type": "stream",
          "name": "stderr",
          "text": [
            "\r 59%|█████▉    | 588/1000 [12:55<09:22,  1.36s/it]"
          ]
        },
        {
          "output_type": "stream",
          "name": "stdout",
          "text": [
            "Validation acc: 0.9867\n",
            "Validation F1: 0.9868\n",
            "\n",
            "Start of epoch 588\n",
            "Training loss: 0.0000\n",
            "Training metric: 0.9785\n",
            "perturbation loss: 0.0001\n",
            "Validation acc: 0.9867\n",
            "Validation F1: 0.9868\n"
          ]
        },
        {
          "output_type": "stream",
          "name": "stderr",
          "text": [
            "\r 59%|█████▉    | 589/1000 [12:56<08:57,  1.31s/it]"
          ]
        },
        {
          "output_type": "stream",
          "name": "stdout",
          "text": [
            "\n",
            "Start of epoch 589\n"
          ]
        },
        {
          "output_type": "stream",
          "name": "stderr",
          "text": [
            "\r 59%|█████▉    | 590/1000 [12:58<08:42,  1.27s/it]"
          ]
        },
        {
          "output_type": "stream",
          "name": "stdout",
          "text": [
            "Training loss: 0.0000\n",
            "Training metric: 0.9785\n",
            "perturbation loss: 0.0002\n",
            "Validation acc: 0.9867\n",
            "Validation F1: 0.9868\n",
            "\n",
            "Start of epoch 590\n",
            "Training loss: 0.0000\n",
            "Training metric: 0.9786\n",
            "perturbation loss: 0.0001\n"
          ]
        },
        {
          "output_type": "stream",
          "name": "stderr",
          "text": [
            "\r 59%|█████▉    | 591/1000 [12:59<08:36,  1.26s/it]"
          ]
        },
        {
          "output_type": "stream",
          "name": "stdout",
          "text": [
            "Validation acc: 0.9933\n",
            "Validation F1: 0.9933\n",
            "\n",
            "Start of epoch 591\n",
            "Training loss: 0.0000\n",
            "Training metric: 0.9786\n",
            "perturbation loss: 0.0001\n"
          ]
        },
        {
          "output_type": "stream",
          "name": "stderr",
          "text": [
            "\r 59%|█████▉    | 592/1000 [13:00<08:28,  1.25s/it]"
          ]
        },
        {
          "output_type": "stream",
          "name": "stdout",
          "text": [
            "Validation acc: 0.9933\n",
            "Validation F1: 0.9933\n",
            "\n",
            "Start of epoch 592\n",
            "Training loss: 0.0000\n",
            "Training metric: 0.9786\n",
            "perturbation loss: 0.0001\n",
            "Validation acc: 0.9933\n"
          ]
        },
        {
          "output_type": "stream",
          "name": "stderr",
          "text": [
            "\r 59%|█████▉    | 593/1000 [13:01<08:25,  1.24s/it]"
          ]
        },
        {
          "output_type": "stream",
          "name": "stdout",
          "text": [
            "Validation F1: 0.9933\n",
            "\n",
            "Start of epoch 593\n",
            "Training loss: 0.0000\n",
            "Training metric: 0.9787\n",
            "perturbation loss: 0.0006\n",
            "Validation acc: 0.9933\n",
            "Validation F1: 0.9933\n"
          ]
        },
        {
          "output_type": "stream",
          "name": "stderr",
          "text": [
            "\r 59%|█████▉    | 594/1000 [13:02<08:23,  1.24s/it]"
          ]
        },
        {
          "output_type": "stream",
          "name": "stdout",
          "text": [
            "\n",
            "Start of epoch 594\n",
            "Training loss: 0.0000\n",
            "Training metric: 0.9787\n",
            "perturbation loss: 0.0002\n"
          ]
        },
        {
          "output_type": "stream",
          "name": "stderr",
          "text": [
            "\r 60%|█████▉    | 595/1000 [13:04<08:46,  1.30s/it]"
          ]
        },
        {
          "output_type": "stream",
          "name": "stdout",
          "text": [
            "Validation acc: 0.9867\n",
            "Validation F1: 0.9868\n",
            "\n",
            "Start of epoch 595\n",
            "Training loss: 0.0000\n",
            "Training metric: 0.9787\n",
            "perturbation loss: 0.0002\n"
          ]
        },
        {
          "output_type": "stream",
          "name": "stderr",
          "text": [
            "\r 60%|█████▉    | 596/1000 [13:06<09:25,  1.40s/it]"
          ]
        },
        {
          "output_type": "stream",
          "name": "stdout",
          "text": [
            "Validation acc: 0.9933\n",
            "Validation F1: 0.9933\n",
            "\n",
            "Start of epoch 596\n",
            "Training loss: 0.0000\n",
            "Training metric: 0.9788\n",
            "perturbation loss: 0.0004\n",
            "Validation acc: 0.9933\n",
            "Validation F1: 0.9933\n"
          ]
        },
        {
          "output_type": "stream",
          "name": "stderr",
          "text": [
            "\r 60%|█████▉    | 597/1000 [13:07<09:36,  1.43s/it]"
          ]
        },
        {
          "output_type": "stream",
          "name": "stdout",
          "text": [
            "\n",
            "Start of epoch 597\n",
            "Training loss: 0.0000\n",
            "Training metric: 0.9788\n",
            "perturbation loss: 0.0000\n"
          ]
        },
        {
          "output_type": "stream",
          "name": "stderr",
          "text": [
            "\r 60%|█████▉    | 598/1000 [13:08<09:09,  1.37s/it]"
          ]
        },
        {
          "output_type": "stream",
          "name": "stdout",
          "text": [
            "Validation acc: 0.9867\n",
            "Validation F1: 0.9868\n",
            "\n",
            "Start of epoch 598\n",
            "Training loss: 0.0000\n",
            "Training metric: 0.9789\n",
            "perturbation loss: 0.0021\n",
            "Validation acc: 0.9800\n",
            "Validation F1: 0.9797\n"
          ]
        },
        {
          "output_type": "stream",
          "name": "stderr",
          "text": [
            "\r 60%|█████▉    | 599/1000 [13:09<08:48,  1.32s/it]"
          ]
        },
        {
          "output_type": "stream",
          "name": "stdout",
          "text": [
            "\n",
            "Start of epoch 599\n",
            "Training loss: 0.0000\n",
            "Training metric: 0.9789\n",
            "perturbation loss: 0.0004\n"
          ]
        },
        {
          "output_type": "stream",
          "name": "stderr",
          "text": [
            "\r 60%|██████    | 600/1000 [13:11<08:34,  1.29s/it]"
          ]
        },
        {
          "output_type": "stream",
          "name": "stdout",
          "text": [
            "Validation acc: 0.9933\n",
            "Validation F1: 0.9933\n",
            "\n",
            "Start of epoch 600\n",
            "Training loss: 0.0000\n",
            "Training metric: 0.9789\n",
            "perturbation loss: 0.0001\n"
          ]
        },
        {
          "output_type": "stream",
          "name": "stderr",
          "text": [
            "\r 60%|██████    | 601/1000 [13:12<08:38,  1.30s/it]"
          ]
        },
        {
          "output_type": "stream",
          "name": "stdout",
          "text": [
            "Validation acc: 0.9867\n",
            "Validation F1: 0.9868\n",
            "\n",
            "Start of epoch 601\n",
            "Training loss: 0.0000\n",
            "Training metric: 0.9790\n",
            "perturbation loss: 0.0005\n"
          ]
        },
        {
          "output_type": "stream",
          "name": "stderr",
          "text": [
            "\r 60%|██████    | 602/1000 [13:13<08:39,  1.30s/it]"
          ]
        },
        {
          "output_type": "stream",
          "name": "stdout",
          "text": [
            "Validation acc: 0.9867\n",
            "Validation F1: 0.9868\n",
            "\n",
            "Start of epoch 602\n",
            "Training loss: 0.0001\n",
            "Training metric: 0.9790\n",
            "perturbation loss: 0.0057\n",
            "Validation acc: 0.9733\n"
          ]
        },
        {
          "output_type": "stream",
          "name": "stderr",
          "text": [
            "\r 60%|██████    | 603/1000 [13:15<08:28,  1.28s/it]"
          ]
        },
        {
          "output_type": "stream",
          "name": "stdout",
          "text": [
            "Validation F1: 0.9733\n",
            "\n",
            "Start of epoch 603\n",
            "Training loss: 0.0000\n",
            "Training metric: 0.9790\n",
            "perturbation loss: 0.0001\n",
            "Validation acc: 0.9600\n"
          ]
        },
        {
          "output_type": "stream",
          "name": "stderr",
          "text": [
            "\r 60%|██████    | 604/1000 [13:16<08:19,  1.26s/it]"
          ]
        },
        {
          "output_type": "stream",
          "name": "stdout",
          "text": [
            "Validation F1: 0.9602\n",
            "\n",
            "Start of epoch 604\n",
            "Training loss: 0.0004\n",
            "Training metric: 0.9791\n",
            "perturbation loss: 0.0218\n"
          ]
        },
        {
          "output_type": "stream",
          "name": "stderr",
          "text": [
            "\r 60%|██████    | 605/1000 [13:17<08:26,  1.28s/it]"
          ]
        },
        {
          "output_type": "stream",
          "name": "stdout",
          "text": [
            "Validation acc: 0.9800\n",
            "Validation F1: 0.9797\n",
            "\n",
            "Start of epoch 605\n",
            "Training loss: 0.0537\n",
            "Training metric: 0.9791\n",
            "perturbation loss: 2.3687\n"
          ]
        },
        {
          "output_type": "stream",
          "name": "stderr",
          "text": [
            "\r 61%|██████    | 606/1000 [13:19<09:02,  1.38s/it]"
          ]
        },
        {
          "output_type": "stream",
          "name": "stdout",
          "text": [
            "Validation acc: 0.9733\n",
            "Validation F1: 0.9729\n",
            "\n",
            "Start of epoch 606\n",
            "Training loss: 0.0038\n",
            "Training metric: 0.9791\n",
            "perturbation loss: 0.1881\n"
          ]
        },
        {
          "output_type": "stream",
          "name": "stderr",
          "text": [
            "\r 61%|██████    | 607/1000 [13:20<09:30,  1.45s/it]"
          ]
        },
        {
          "output_type": "stream",
          "name": "stdout",
          "text": [
            "Validation acc: 0.9733\n",
            "Validation F1: 0.9734\n",
            "\n",
            "Start of epoch 607\n",
            "Training loss: 0.0001\n",
            "Training metric: 0.9792\n",
            "perturbation loss: 0.0038\n",
            "Validation acc: 0.9800\n",
            "Validation F1: 0.9799\n"
          ]
        },
        {
          "output_type": "stream",
          "name": "stderr",
          "text": [
            "\r 61%|██████    | 608/1000 [13:22<09:10,  1.40s/it]"
          ]
        },
        {
          "output_type": "stream",
          "name": "stdout",
          "text": [
            "\n",
            "Start of epoch 608\n",
            "Training loss: 0.0000\n",
            "Training metric: 0.9792\n",
            "perturbation loss: 0.0011\n"
          ]
        },
        {
          "output_type": "stream",
          "name": "stderr",
          "text": [
            "\r 61%|██████    | 609/1000 [13:23<08:49,  1.35s/it]"
          ]
        },
        {
          "output_type": "stream",
          "name": "stdout",
          "text": [
            "Validation acc: 0.9800\n",
            "Validation F1: 0.9799\n",
            "\n",
            "Start of epoch 609\n",
            "Training loss: 0.0000\n",
            "Training metric: 0.9792\n",
            "perturbation loss: 0.0012\n",
            "Validation acc: 0.9800\n",
            "Validation F1: 0.9799\n"
          ]
        },
        {
          "output_type": "stream",
          "name": "stderr",
          "text": [
            "\r 61%|██████    | 610/1000 [13:24<09:01,  1.39s/it]"
          ]
        },
        {
          "output_type": "stream",
          "name": "stdout",
          "text": [
            "\n",
            "Start of epoch 610\n",
            "Training loss: 0.0000\n",
            "Training metric: 0.9793\n",
            "perturbation loss: 0.0002\n",
            "Validation acc: 0.9867\n",
            "Validation F1: 0.9867\n"
          ]
        },
        {
          "output_type": "stream",
          "name": "stderr",
          "text": [
            "\r 61%|██████    | 611/1000 [13:26<08:39,  1.33s/it]"
          ]
        },
        {
          "output_type": "stream",
          "name": "stdout",
          "text": [
            "\n",
            "Start of epoch 611\n",
            "Training loss: 0.0000\n",
            "Training metric: 0.9793\n",
            "perturbation loss: 0.0001\n",
            "Validation acc: 0.9733\n",
            "Validation F1: 0.9736\n"
          ]
        },
        {
          "output_type": "stream",
          "name": "stderr",
          "text": [
            "\r 61%|██████    | 612/1000 [13:27<08:21,  1.29s/it]"
          ]
        },
        {
          "output_type": "stream",
          "name": "stdout",
          "text": [
            "\n",
            "Start of epoch 612\n",
            "Training loss: 0.0000\n",
            "Training metric: 0.9793\n",
            "perturbation loss: 0.0007\n",
            "Validation acc: 0.9867\n",
            "Validation F1: 0.9868\n"
          ]
        },
        {
          "output_type": "stream",
          "name": "stderr",
          "text": [
            "\r 61%|██████▏   | 613/1000 [13:28<08:10,  1.27s/it]"
          ]
        },
        {
          "output_type": "stream",
          "name": "stdout",
          "text": [
            "\n",
            "Start of epoch 613\n",
            "Training loss: 0.0000\n",
            "Training metric: 0.9794\n",
            "perturbation loss: 0.0001\n",
            "Validation acc: 0.9800\n",
            "Validation F1: 0.9802\n"
          ]
        },
        {
          "output_type": "stream",
          "name": "stderr",
          "text": [
            "\r 61%|██████▏   | 614/1000 [13:29<08:01,  1.25s/it]"
          ]
        },
        {
          "output_type": "stream",
          "name": "stdout",
          "text": [
            "\n",
            "Start of epoch 614\n",
            "Training loss: 0.0000\n",
            "Training metric: 0.9794\n",
            "perturbation loss: 0.0008\n",
            "Validation acc: 0.9733\n",
            "Validation F1: 0.9729\n"
          ]
        },
        {
          "output_type": "stream",
          "name": "stderr",
          "text": [
            "\r 62%|██████▏   | 615/1000 [13:30<07:54,  1.23s/it]"
          ]
        },
        {
          "output_type": "stream",
          "name": "stdout",
          "text": [
            "\n",
            "Start of epoch 615\n",
            "Training loss: 0.0000\n",
            "Training metric: 0.9794\n",
            "perturbation loss: 0.0001\n"
          ]
        },
        {
          "output_type": "stream",
          "name": "stderr",
          "text": [
            "\r 62%|██████▏   | 616/1000 [13:32<08:27,  1.32s/it]"
          ]
        },
        {
          "output_type": "stream",
          "name": "stdout",
          "text": [
            "Validation acc: 0.9800\n",
            "Validation F1: 0.9799\n",
            "\n",
            "Start of epoch 616\n",
            "Training loss: 0.0000\n",
            "Training metric: 0.9795\n",
            "perturbation loss: 0.0012\n"
          ]
        },
        {
          "output_type": "stream",
          "name": "stderr",
          "text": [
            "\r 62%|██████▏   | 617/1000 [13:33<09:03,  1.42s/it]"
          ]
        },
        {
          "output_type": "stream",
          "name": "stdout",
          "text": [
            "Validation acc: 0.9800\n",
            "Validation F1: 0.9799\n",
            "\n",
            "Start of epoch 617\n",
            "Training loss: 0.0000\n",
            "Training metric: 0.9795\n",
            "perturbation loss: 0.0004\n"
          ]
        },
        {
          "output_type": "stream",
          "name": "stderr",
          "text": [
            "\r 62%|██████▏   | 618/1000 [13:35<09:19,  1.47s/it]"
          ]
        },
        {
          "output_type": "stream",
          "name": "stdout",
          "text": [
            "Validation acc: 0.9867\n",
            "Validation F1: 0.9867\n",
            "\n",
            "Start of epoch 618\n",
            "Training loss: 0.0000\n",
            "Training metric: 0.9795\n",
            "perturbation loss: 0.0004\n"
          ]
        },
        {
          "output_type": "stream",
          "name": "stderr",
          "text": [
            "\r 62%|██████▏   | 619/1000 [13:36<08:48,  1.39s/it]"
          ]
        },
        {
          "output_type": "stream",
          "name": "stdout",
          "text": [
            "Validation acc: 0.9800\n",
            "Validation F1: 0.9799\n",
            "\n",
            "Start of epoch 619\n",
            "Training loss: 0.0000\n",
            "Training metric: 0.9796\n",
            "perturbation loss: 0.0006\n"
          ]
        },
        {
          "output_type": "stream",
          "name": "stderr",
          "text": [
            "\r 62%|██████▏   | 620/1000 [13:38<08:29,  1.34s/it]"
          ]
        },
        {
          "output_type": "stream",
          "name": "stdout",
          "text": [
            "Validation acc: 0.9867\n",
            "Validation F1: 0.9867\n",
            "\n",
            "Start of epoch 620\n",
            "Training loss: 0.0000\n",
            "Training metric: 0.9796\n",
            "perturbation loss: 0.0000\n",
            "Validation acc: 0.9867\n",
            "Validation F1: 0.9867\n"
          ]
        },
        {
          "output_type": "stream",
          "name": "stderr",
          "text": [
            "\r 62%|██████▏   | 621/1000 [13:39<08:10,  1.30s/it]"
          ]
        },
        {
          "output_type": "stream",
          "name": "stdout",
          "text": [
            "\n",
            "Start of epoch 621\n",
            "Training loss: 0.0000\n",
            "Training metric: 0.9796\n",
            "perturbation loss: 0.0002\n",
            "Validation acc: 0.9867\n",
            "Validation F1: 0.9868\n"
          ]
        },
        {
          "output_type": "stream",
          "name": "stderr",
          "text": [
            "\r 62%|██████▏   | 622/1000 [13:40<07:58,  1.27s/it]"
          ]
        },
        {
          "output_type": "stream",
          "name": "stdout",
          "text": [
            "\n",
            "Start of epoch 622\n",
            "Training loss: 0.0000\n",
            "Training metric: 0.9797\n",
            "perturbation loss: 0.0001\n"
          ]
        },
        {
          "output_type": "stream",
          "name": "stderr",
          "text": [
            "\r 62%|██████▏   | 623/1000 [13:41<07:49,  1.25s/it]"
          ]
        },
        {
          "output_type": "stream",
          "name": "stdout",
          "text": [
            "Validation acc: 0.9933\n",
            "Validation F1: 0.9933\n",
            "\n",
            "Start of epoch 623\n",
            "Training loss: 0.0000\n",
            "Training metric: 0.9797\n",
            "perturbation loss: 0.0000\n",
            "Validation acc: 0.9800\n",
            "Validation F1: 0.9802\n"
          ]
        },
        {
          "output_type": "stream",
          "name": "stderr",
          "text": [
            "\r 62%|██████▏   | 624/1000 [13:42<07:42,  1.23s/it]"
          ]
        },
        {
          "output_type": "stream",
          "name": "stdout",
          "text": [
            "\n",
            "Start of epoch 624\n",
            "Training loss: 0.0000\n",
            "Training metric: 0.9797\n",
            "perturbation loss: 0.0002\n",
            "Validation acc: 0.9933\n",
            "Validation F1: 0.9933\n"
          ]
        },
        {
          "output_type": "stream",
          "name": "stderr",
          "text": [
            "\r 62%|██████▎   | 625/1000 [13:43<07:39,  1.22s/it]"
          ]
        },
        {
          "output_type": "stream",
          "name": "stdout",
          "text": [
            "\n",
            "Start of epoch 625\n",
            "Training loss: 0.0000\n",
            "Training metric: 0.9798\n",
            "perturbation loss: 0.0003\n"
          ]
        },
        {
          "output_type": "stream",
          "name": "stderr",
          "text": [
            "\r 63%|██████▎   | 626/1000 [13:45<07:41,  1.24s/it]"
          ]
        },
        {
          "output_type": "stream",
          "name": "stdout",
          "text": [
            "Validation acc: 0.9800\n",
            "Validation F1: 0.9802\n",
            "\n",
            "Start of epoch 626\n",
            "Training loss: 0.0000\n",
            "Training metric: 0.9798\n",
            "perturbation loss: 0.0004\n"
          ]
        },
        {
          "output_type": "stream",
          "name": "stderr",
          "text": [
            "\r 63%|██████▎   | 627/1000 [13:46<08:19,  1.34s/it]"
          ]
        },
        {
          "output_type": "stream",
          "name": "stdout",
          "text": [
            "Validation acc: 0.9867\n",
            "Validation F1: 0.9868\n",
            "\n",
            "Start of epoch 627\n",
            "Training loss: 0.0000\n",
            "Training metric: 0.9798\n",
            "perturbation loss: 0.0005\n"
          ]
        },
        {
          "output_type": "stream",
          "name": "stderr",
          "text": [
            "\r 63%|██████▎   | 628/1000 [13:48<08:50,  1.43s/it]"
          ]
        },
        {
          "output_type": "stream",
          "name": "stdout",
          "text": [
            "Validation acc: 0.9800\n",
            "Validation F1: 0.9802\n",
            "\n",
            "Start of epoch 628\n",
            "Training loss: 0.0000\n",
            "Training metric: 0.9799\n",
            "perturbation loss: 0.0000\n",
            "Validation acc: 0.9867\n",
            "Validation F1: 0.9868\n"
          ]
        },
        {
          "output_type": "stream",
          "name": "stderr",
          "text": [
            "\r 63%|██████▎   | 629/1000 [13:49<08:43,  1.41s/it]"
          ]
        },
        {
          "output_type": "stream",
          "name": "stdout",
          "text": [
            "\n",
            "Start of epoch 629\n",
            "Training loss: 0.0000\n",
            "Training metric: 0.9799\n",
            "perturbation loss: 0.0001\n",
            "Validation acc: 0.9867\n",
            "Validation F1: 0.9868\n"
          ]
        },
        {
          "output_type": "stream",
          "name": "stderr",
          "text": [
            "\r 63%|██████▎   | 630/1000 [13:51<08:18,  1.35s/it]"
          ]
        },
        {
          "output_type": "stream",
          "name": "stdout",
          "text": [
            "\n",
            "Start of epoch 630\n",
            "Training loss: 0.0000\n",
            "Training metric: 0.9799\n",
            "perturbation loss: 0.0001\n",
            "Validation acc: 0.9933\n"
          ]
        },
        {
          "output_type": "stream",
          "name": "stderr",
          "text": [
            "\r 63%|██████▎   | 631/1000 [13:52<08:00,  1.30s/it]"
          ]
        },
        {
          "output_type": "stream",
          "name": "stdout",
          "text": [
            "Validation F1: 0.9933\n",
            "\n",
            "Start of epoch 631\n",
            "Training loss: 0.0000\n",
            "Training metric: 0.9800\n",
            "perturbation loss: 0.0000\n",
            "Validation acc: 0.9933\n",
            "Validation F1: 0.9933\n"
          ]
        },
        {
          "output_type": "stream",
          "name": "stderr",
          "text": [
            "\r 63%|██████▎   | 632/1000 [13:53<07:49,  1.28s/it]"
          ]
        },
        {
          "output_type": "stream",
          "name": "stdout",
          "text": [
            "\n",
            "Start of epoch 632\n",
            "Training loss: 0.0000\n",
            "Training metric: 0.9800\n",
            "perturbation loss: 0.0001\n",
            "Validation acc: 0.9867\n",
            "Validation F1: 0.9868\n"
          ]
        },
        {
          "output_type": "stream",
          "name": "stderr",
          "text": [
            "\r 63%|██████▎   | 633/1000 [13:54<07:42,  1.26s/it]"
          ]
        },
        {
          "output_type": "stream",
          "name": "stdout",
          "text": [
            "\n",
            "Start of epoch 633\n",
            "Training loss: 0.0000\n",
            "Training metric: 0.9800\n",
            "perturbation loss: 0.0001\n",
            "Validation acc: 0.9867\n",
            "Validation F1: 0.9868\n"
          ]
        },
        {
          "output_type": "stream",
          "name": "stderr",
          "text": [
            "\r 63%|██████▎   | 634/1000 [13:55<07:33,  1.24s/it]"
          ]
        },
        {
          "output_type": "stream",
          "name": "stdout",
          "text": [
            "\n",
            "Start of epoch 634\n",
            "Training loss: 0.0000\n",
            "Training metric: 0.9801\n",
            "perturbation loss: 0.0000\n"
          ]
        },
        {
          "output_type": "stream",
          "name": "stderr",
          "text": [
            "\r 64%|██████▎   | 635/1000 [13:57<07:29,  1.23s/it]"
          ]
        },
        {
          "output_type": "stream",
          "name": "stdout",
          "text": [
            "Validation acc: 0.9933\n",
            "Validation F1: 0.9933\n",
            "\n",
            "Start of epoch 635\n",
            "Training loss: 0.0000\n",
            "Training metric: 0.9801\n",
            "perturbation loss: 0.0000\n",
            "Validation acc: 0.9933\n",
            "Validation F1: 0.9933\n"
          ]
        },
        {
          "output_type": "stream",
          "name": "stderr",
          "text": [
            "\r 64%|██████▎   | 636/1000 [13:58<07:23,  1.22s/it]"
          ]
        },
        {
          "output_type": "stream",
          "name": "stdout",
          "text": [
            "\n",
            "Start of epoch 636\n",
            "Training loss: 0.0000\n",
            "Training metric: 0.9801\n",
            "perturbation loss: 0.0002\n"
          ]
        },
        {
          "output_type": "stream",
          "name": "stderr",
          "text": [
            "\r 64%|██████▎   | 637/1000 [13:59<07:34,  1.25s/it]"
          ]
        },
        {
          "output_type": "stream",
          "name": "stdout",
          "text": [
            "Validation acc: 0.9867\n",
            "Validation F1: 0.9868\n",
            "\n",
            "Start of epoch 637\n",
            "Training loss: 0.0000\n",
            "Training metric: 0.9801\n",
            "perturbation loss: 0.0001\n"
          ]
        },
        {
          "output_type": "stream",
          "name": "stderr",
          "text": [
            "\r 64%|██████▍   | 638/1000 [14:01<08:15,  1.37s/it]"
          ]
        },
        {
          "output_type": "stream",
          "name": "stdout",
          "text": [
            "Validation acc: 0.9867\n",
            "Validation F1: 0.9868\n",
            "\n",
            "Start of epoch 638\n",
            "Training loss: 0.0000\n",
            "Training metric: 0.9802\n",
            "perturbation loss: 0.0000\n"
          ]
        },
        {
          "output_type": "stream",
          "name": "stderr",
          "text": [
            "\r 64%|██████▍   | 639/1000 [14:02<08:39,  1.44s/it]"
          ]
        },
        {
          "output_type": "stream",
          "name": "stdout",
          "text": [
            "Validation acc: 0.9667\n",
            "Validation F1: 0.9665\n",
            "\n",
            "Start of epoch 639\n",
            "Training loss: 0.0001\n",
            "Training metric: 0.9802\n",
            "perturbation loss: 0.0030\n"
          ]
        },
        {
          "output_type": "stream",
          "name": "stderr",
          "text": [
            "\r 64%|██████▍   | 640/1000 [14:04<08:26,  1.41s/it]"
          ]
        },
        {
          "output_type": "stream",
          "name": "stdout",
          "text": [
            "Validation acc: 0.9533\n",
            "Validation F1: 0.9522\n",
            "\n",
            "Start of epoch 640\n",
            "Training loss: 0.0001\n",
            "Training metric: 0.9802\n",
            "perturbation loss: 0.0050\n",
            "Validation acc: 0.9867\n",
            "Validation F1: 0.9868\n"
          ]
        },
        {
          "output_type": "stream",
          "name": "stderr",
          "text": [
            "\r 64%|██████▍   | 641/1000 [14:05<08:04,  1.35s/it]"
          ]
        },
        {
          "output_type": "stream",
          "name": "stdout",
          "text": [
            "\n",
            "Start of epoch 641\n",
            "Training loss: 0.0000\n",
            "Training metric: 0.9803\n",
            "perturbation loss: 0.0012\n",
            "Validation acc: 0.9733\n",
            "Validation F1: 0.9735\n"
          ]
        },
        {
          "output_type": "stream",
          "name": "stderr",
          "text": [
            "\r 64%|██████▍   | 642/1000 [14:06<07:44,  1.30s/it]"
          ]
        },
        {
          "output_type": "stream",
          "name": "stdout",
          "text": [
            "\n",
            "Start of epoch 642\n",
            "Training loss: 0.0000\n",
            "Training metric: 0.9803\n",
            "perturbation loss: 0.0003\n",
            "Validation acc: 0.9600\n",
            "Validation F1: 0.9602\n"
          ]
        },
        {
          "output_type": "stream",
          "name": "stderr",
          "text": [
            "\r 64%|██████▍   | 643/1000 [14:07<07:35,  1.28s/it]"
          ]
        },
        {
          "output_type": "stream",
          "name": "stdout",
          "text": [
            "\n",
            "Start of epoch 643\n",
            "Training loss: 0.0007\n",
            "Training metric: 0.9803\n",
            "perturbation loss: 0.0335\n",
            "Validation acc: 0.9733\n",
            "Validation F1: 0.9735\n"
          ]
        },
        {
          "output_type": "stream",
          "name": "stderr",
          "text": [
            "\r 64%|██████▍   | 644/1000 [14:08<07:25,  1.25s/it]"
          ]
        },
        {
          "output_type": "stream",
          "name": "stdout",
          "text": [
            "\n",
            "Start of epoch 644\n",
            "Training loss: 0.0002\n",
            "Training metric: 0.9804\n",
            "perturbation loss: 0.0064\n",
            "Validation acc: 0.9933\n",
            "Validation F1: 0.9933\n"
          ]
        },
        {
          "output_type": "stream",
          "name": "stderr",
          "text": [
            "\r 64%|██████▍   | 645/1000 [14:10<07:19,  1.24s/it]"
          ]
        },
        {
          "output_type": "stream",
          "name": "stdout",
          "text": [
            "\n",
            "Start of epoch 645\n",
            "Training loss: 0.0000\n",
            "Training metric: 0.9804\n",
            "perturbation loss: 0.0002\n"
          ]
        },
        {
          "output_type": "stream",
          "name": "stderr",
          "text": [
            "\r 65%|██████▍   | 646/1000 [14:11<07:25,  1.26s/it]"
          ]
        },
        {
          "output_type": "stream",
          "name": "stdout",
          "text": [
            "Validation acc: 0.9933\n",
            "Validation F1: 0.9933\n",
            "\n",
            "Start of epoch 646\n",
            "Training loss: 0.0000\n",
            "Training metric: 0.9804\n",
            "perturbation loss: 0.0003\n",
            "Validation acc: 0.9867\n",
            "Validation F1: 0.9868\n"
          ]
        },
        {
          "output_type": "stream",
          "name": "stderr",
          "text": [
            "\r 65%|██████▍   | 647/1000 [14:12<07:20,  1.25s/it]"
          ]
        },
        {
          "output_type": "stream",
          "name": "stdout",
          "text": [
            "\n",
            "Start of epoch 647\n",
            "Training loss: 0.0000\n",
            "Training metric: 0.9805\n",
            "perturbation loss: 0.0005\n"
          ]
        },
        {
          "output_type": "stream",
          "name": "stderr",
          "text": [
            "\r 65%|██████▍   | 648/1000 [14:14<07:42,  1.31s/it]"
          ]
        },
        {
          "output_type": "stream",
          "name": "stdout",
          "text": [
            "Validation acc: 0.9933\n",
            "Validation F1: 0.9933\n",
            "\n",
            "Start of epoch 648\n",
            "Training loss: 0.0000\n",
            "Training metric: 0.9805\n",
            "perturbation loss: 0.0000\n"
          ]
        },
        {
          "output_type": "stream",
          "name": "stderr",
          "text": [
            "\r 65%|██████▍   | 649/1000 [14:15<08:14,  1.41s/it]"
          ]
        },
        {
          "output_type": "stream",
          "name": "stdout",
          "text": [
            "Validation acc: 0.9933\n",
            "Validation F1: 0.9933\n",
            "\n",
            "Start of epoch 649\n",
            "Training loss: 0.0000\n",
            "Training metric: 0.9805\n",
            "perturbation loss: 0.0000\n"
          ]
        },
        {
          "output_type": "stream",
          "name": "stderr",
          "text": [
            "\r 65%|██████▌   | 650/1000 [14:17<08:20,  1.43s/it]"
          ]
        },
        {
          "output_type": "stream",
          "name": "stdout",
          "text": [
            "Validation acc: 0.9867\n",
            "Validation F1: 0.9868\n",
            "\n",
            "Start of epoch 650\n",
            "Training loss: 0.0000\n",
            "Training metric: 0.9805\n",
            "perturbation loss: 0.0002\n",
            "Validation acc: 0.9867\n"
          ]
        },
        {
          "output_type": "stream",
          "name": "stderr",
          "text": [
            "\r 65%|██████▌   | 651/1000 [14:18<07:55,  1.36s/it]"
          ]
        },
        {
          "output_type": "stream",
          "name": "stdout",
          "text": [
            "Validation F1: 0.9868\n",
            "\n",
            "Start of epoch 651\n",
            "Training loss: 0.0000\n",
            "Training metric: 0.9806\n",
            "perturbation loss: 0.0001\n"
          ]
        },
        {
          "output_type": "stream",
          "name": "stderr",
          "text": [
            "\r 65%|██████▌   | 652/1000 [14:19<07:36,  1.31s/it]"
          ]
        },
        {
          "output_type": "stream",
          "name": "stdout",
          "text": [
            "Validation acc: 0.9933\n",
            "Validation F1: 0.9933\n",
            "\n",
            "Start of epoch 652\n",
            "Training loss: 0.0000\n",
            "Training metric: 0.9806\n",
            "perturbation loss: 0.0002\n",
            "Validation acc: 0.9867\n"
          ]
        },
        {
          "output_type": "stream",
          "name": "stderr",
          "text": [
            "\r 65%|██████▌   | 653/1000 [14:20<07:23,  1.28s/it]"
          ]
        },
        {
          "output_type": "stream",
          "name": "stdout",
          "text": [
            "Validation F1: 0.9867\n",
            "\n",
            "Start of epoch 653\n",
            "Training loss: 0.0000\n",
            "Training metric: 0.9806\n",
            "perturbation loss: 0.0019\n",
            "Validation acc: 0.9800\n",
            "Validation F1: 0.9801\n"
          ]
        },
        {
          "output_type": "stream",
          "name": "stderr",
          "text": [
            "\r 65%|██████▌   | 654/1000 [14:22<07:10,  1.24s/it]"
          ]
        },
        {
          "output_type": "stream",
          "name": "stdout",
          "text": [
            "\n",
            "Start of epoch 654\n",
            "Training loss: 0.0000\n",
            "Training metric: 0.9807\n",
            "perturbation loss: 0.0001\n"
          ]
        },
        {
          "output_type": "stream",
          "name": "stderr",
          "text": [
            "\r 66%|██████▌   | 655/1000 [14:23<07:07,  1.24s/it]"
          ]
        },
        {
          "output_type": "stream",
          "name": "stdout",
          "text": [
            "Validation acc: 0.9867\n",
            "Validation F1: 0.9868\n",
            "\n",
            "Start of epoch 655\n",
            "Training loss: 0.0000\n",
            "Training metric: 0.9807\n",
            "perturbation loss: 0.0001\n"
          ]
        },
        {
          "output_type": "stream",
          "name": "stderr",
          "text": [
            "\r 66%|██████▌   | 656/1000 [14:24<07:04,  1.23s/it]"
          ]
        },
        {
          "output_type": "stream",
          "name": "stdout",
          "text": [
            "Validation acc: 0.9867\n",
            "Validation F1: 0.9868\n",
            "\n",
            "Start of epoch 656\n",
            "Training loss: 0.0000\n",
            "Training metric: 0.9807\n",
            "perturbation loss: 0.0011\n",
            "Validation acc: 0.9800\n"
          ]
        },
        {
          "output_type": "stream",
          "name": "stderr",
          "text": [
            "\r 66%|██████▌   | 657/1000 [14:25<07:01,  1.23s/it]"
          ]
        },
        {
          "output_type": "stream",
          "name": "stdout",
          "text": [
            "Validation F1: 0.9802\n",
            "\n",
            "Start of epoch 657\n",
            "Training loss: 0.0000\n",
            "Training metric: 0.9807\n",
            "perturbation loss: 0.0002\n",
            "Validation acc: 0.9933\n",
            "Validation F1: 0.9933\n"
          ]
        },
        {
          "output_type": "stream",
          "name": "stderr",
          "text": [
            "\r 66%|██████▌   | 658/1000 [14:26<06:58,  1.22s/it]"
          ]
        },
        {
          "output_type": "stream",
          "name": "stdout",
          "text": [
            "\n",
            "Start of epoch 658\n",
            "Training loss: 0.0000\n",
            "Training metric: 0.9808\n",
            "perturbation loss: 0.0000\n"
          ]
        },
        {
          "output_type": "stream",
          "name": "stderr",
          "text": [
            "\r 66%|██████▌   | 659/1000 [14:28<07:32,  1.33s/it]"
          ]
        },
        {
          "output_type": "stream",
          "name": "stdout",
          "text": [
            "Validation acc: 0.9867\n",
            "Validation F1: 0.9868\n",
            "\n",
            "Start of epoch 659\n",
            "Training loss: 0.0000\n",
            "Training metric: 0.9808\n",
            "perturbation loss: 0.0001\n"
          ]
        },
        {
          "output_type": "stream",
          "name": "stderr",
          "text": [
            "\r 66%|██████▌   | 660/1000 [14:30<08:01,  1.42s/it]"
          ]
        },
        {
          "output_type": "stream",
          "name": "stdout",
          "text": [
            "Validation acc: 0.9867\n",
            "Validation F1: 0.9868\n",
            "\n",
            "Start of epoch 660\n",
            "Training loss: 0.0000\n",
            "Training metric: 0.9808\n",
            "perturbation loss: 0.0007\n"
          ]
        },
        {
          "output_type": "stream",
          "name": "stderr",
          "text": [
            "\r 66%|██████▌   | 661/1000 [14:31<08:05,  1.43s/it]"
          ]
        },
        {
          "output_type": "stream",
          "name": "stdout",
          "text": [
            "Validation acc: 0.9800\n",
            "Validation F1: 0.9802\n",
            "\n",
            "Start of epoch 661\n",
            "Training loss: 0.0000\n",
            "Training metric: 0.9809\n",
            "perturbation loss: 0.0001\n",
            "Validation acc: 0.9800\n",
            "Validation F1: 0.9802\n"
          ]
        },
        {
          "output_type": "stream",
          "name": "stderr",
          "text": [
            "\r 66%|██████▌   | 662/1000 [14:32<07:40,  1.36s/it]"
          ]
        },
        {
          "output_type": "stream",
          "name": "stdout",
          "text": [
            "\n",
            "Start of epoch 662\n",
            "Training loss: 0.0000\n",
            "Training metric: 0.9809\n",
            "perturbation loss: 0.0000\n",
            "Validation acc: 0.9933\n",
            "Validation F1: 0.9933\n"
          ]
        },
        {
          "output_type": "stream",
          "name": "stderr",
          "text": [
            "\r 66%|██████▋   | 663/1000 [14:33<07:22,  1.31s/it]"
          ]
        },
        {
          "output_type": "stream",
          "name": "stdout",
          "text": [
            "\n",
            "Start of epoch 663\n",
            "Training loss: 0.0000\n",
            "Training metric: 0.9809\n",
            "perturbation loss: 0.0001\n",
            "Validation acc: 0.9800\n"
          ]
        },
        {
          "output_type": "stream",
          "name": "stderr",
          "text": [
            "\r 66%|██████▋   | 664/1000 [14:35<07:12,  1.29s/it]"
          ]
        },
        {
          "output_type": "stream",
          "name": "stdout",
          "text": [
            "Validation F1: 0.9800\n",
            "\n",
            "Start of epoch 664\n",
            "Training loss: 0.0000\n",
            "Training metric: 0.9810\n",
            "perturbation loss: 0.0000\n",
            "Validation acc: 0.9867\n",
            "Validation F1: 0.9867\n"
          ]
        },
        {
          "output_type": "stream",
          "name": "stderr",
          "text": [
            "\r 66%|██████▋   | 665/1000 [14:36<07:01,  1.26s/it]"
          ]
        },
        {
          "output_type": "stream",
          "name": "stdout",
          "text": [
            "\n",
            "Start of epoch 665\n",
            "Training loss: 0.0000\n",
            "Training metric: 0.9810\n",
            "perturbation loss: 0.0001\n",
            "Validation acc: 0.9867\n"
          ]
        },
        {
          "output_type": "stream",
          "name": "stderr",
          "text": [
            "\r 67%|██████▋   | 666/1000 [14:37<06:53,  1.24s/it]"
          ]
        },
        {
          "output_type": "stream",
          "name": "stdout",
          "text": [
            "Validation F1: 0.9868\n",
            "\n",
            "Start of epoch 666\n",
            "Training loss: 0.0000\n",
            "Training metric: 0.9810\n",
            "perturbation loss: 0.0001\n",
            "Validation acc: 0.9667\n",
            "Validation F1: 0.9672\n"
          ]
        },
        {
          "output_type": "stream",
          "name": "stderr",
          "text": [
            "\r 67%|██████▋   | 667/1000 [14:38<06:49,  1.23s/it]"
          ]
        },
        {
          "output_type": "stream",
          "name": "stdout",
          "text": [
            "\n",
            "Start of epoch 667\n",
            "Training loss: 0.0000\n",
            "Training metric: 0.9810\n",
            "perturbation loss: 0.0001\n",
            "Validation acc: 0.9867\n",
            "Validation F1: 0.9867\n"
          ]
        },
        {
          "output_type": "stream",
          "name": "stderr",
          "text": [
            "\r 67%|██████▋   | 668/1000 [14:40<06:47,  1.23s/it]"
          ]
        },
        {
          "output_type": "stream",
          "name": "stdout",
          "text": [
            "\n",
            "Start of epoch 668\n",
            "Training loss: 0.0001\n",
            "Training metric: 0.9811\n",
            "perturbation loss: 0.0026\n"
          ]
        },
        {
          "output_type": "stream",
          "name": "stderr",
          "text": [
            "\r 67%|██████▋   | 669/1000 [14:41<07:00,  1.27s/it]"
          ]
        },
        {
          "output_type": "stream",
          "name": "stdout",
          "text": [
            "Validation acc: 0.9667\n",
            "Validation F1: 0.9670\n",
            "\n",
            "Start of epoch 669\n",
            "Training loss: 0.0003\n",
            "Training metric: 0.9811\n",
            "perturbation loss: 0.0171\n"
          ]
        },
        {
          "output_type": "stream",
          "name": "stderr",
          "text": [
            "\r 67%|██████▋   | 670/1000 [14:43<07:35,  1.38s/it]"
          ]
        },
        {
          "output_type": "stream",
          "name": "stdout",
          "text": [
            "Validation acc: 0.9800\n",
            "Validation F1: 0.9802\n",
            "\n",
            "Start of epoch 670\n",
            "Training loss: 0.0013\n",
            "Training metric: 0.9811\n",
            "perturbation loss: 0.0613\n",
            "Validation acc: 0.9800\n",
            "Validation F1: 0.9797\n"
          ]
        },
        {
          "output_type": "stream",
          "name": "stderr",
          "text": [
            "\r 67%|██████▋   | 671/1000 [14:45<09:51,  1.80s/it]"
          ]
        },
        {
          "output_type": "stream",
          "name": "stdout",
          "text": [
            "\n",
            "Start of epoch 671\n",
            "Training loss: 0.0001\n",
            "Training metric: 0.9812\n",
            "perturbation loss: 0.0000\n",
            "Validation acc: 0.9733\n"
          ]
        },
        {
          "output_type": "stream",
          "name": "stderr",
          "text": [
            "\r 67%|██████▋   | 672/1000 [14:47<08:52,  1.62s/it]"
          ]
        },
        {
          "output_type": "stream",
          "name": "stdout",
          "text": [
            "Validation F1: 0.9737\n",
            "\n",
            "Start of epoch 672\n",
            "Training loss: 0.0000\n",
            "Training metric: 0.9812\n",
            "perturbation loss: 0.0003\n"
          ]
        },
        {
          "output_type": "stream",
          "name": "stderr",
          "text": [
            "\r 67%|██████▋   | 673/1000 [14:48<08:13,  1.51s/it]"
          ]
        },
        {
          "output_type": "stream",
          "name": "stdout",
          "text": [
            "Validation acc: 0.9867\n",
            "Validation F1: 0.9868\n",
            "\n",
            "Start of epoch 673\n",
            "Training loss: 0.0000\n",
            "Training metric: 0.9812\n",
            "perturbation loss: 0.0002\n"
          ]
        },
        {
          "output_type": "stream",
          "name": "stderr",
          "text": [
            "\r 67%|██████▋   | 674/1000 [14:49<07:51,  1.45s/it]"
          ]
        },
        {
          "output_type": "stream",
          "name": "stdout",
          "text": [
            "Validation acc: 0.9733\n",
            "Validation F1: 0.9736\n",
            "\n",
            "Start of epoch 674\n",
            "Training loss: 0.0000\n",
            "Training metric: 0.9812\n",
            "perturbation loss: 0.0000\n"
          ]
        },
        {
          "output_type": "stream",
          "name": "stderr",
          "text": [
            "\r 68%|██████▊   | 675/1000 [14:50<07:25,  1.37s/it]"
          ]
        },
        {
          "output_type": "stream",
          "name": "stdout",
          "text": [
            "Validation acc: 0.9800\n",
            "Validation F1: 0.9802\n",
            "\n",
            "Start of epoch 675\n",
            "Training loss: 0.0000\n",
            "Training metric: 0.9813\n",
            "perturbation loss: 0.0001\n",
            "Validation acc: 0.9867\n",
            "Validation F1: 0.9867\n"
          ]
        },
        {
          "output_type": "stream",
          "name": "stderr",
          "text": [
            "\r 68%|██████▊   | 676/1000 [14:51<07:06,  1.32s/it]"
          ]
        },
        {
          "output_type": "stream",
          "name": "stdout",
          "text": [
            "\n",
            "Start of epoch 676\n",
            "Training loss: 0.0000\n",
            "Training metric: 0.9813\n",
            "perturbation loss: 0.0001\n",
            "Validation acc: 0.9867\n",
            "Validation F1: 0.9868\n"
          ]
        },
        {
          "output_type": "stream",
          "name": "stderr",
          "text": [
            "\r 68%|██████▊   | 677/1000 [14:53<06:52,  1.28s/it]"
          ]
        },
        {
          "output_type": "stream",
          "name": "stdout",
          "text": [
            "\n",
            "Start of epoch 677\n",
            "Training loss: 0.0000\n",
            "Training metric: 0.9813\n",
            "perturbation loss: 0.0004\n"
          ]
        },
        {
          "output_type": "stream",
          "name": "stderr",
          "text": [
            "\r 68%|██████▊   | 678/1000 [14:54<06:46,  1.26s/it]"
          ]
        },
        {
          "output_type": "stream",
          "name": "stdout",
          "text": [
            "Validation acc: 0.9867\n",
            "Validation F1: 0.9868\n",
            "\n",
            "Start of epoch 678\n",
            "Training loss: 0.0000\n",
            "Training metric: 0.9813\n",
            "perturbation loss: 0.0002\n"
          ]
        },
        {
          "output_type": "stream",
          "name": "stderr",
          "text": [
            "\r 68%|██████▊   | 679/1000 [14:55<07:13,  1.35s/it]"
          ]
        },
        {
          "output_type": "stream",
          "name": "stdout",
          "text": [
            "Validation acc: 0.9867\n",
            "Validation F1: 0.9868\n",
            "\n",
            "Start of epoch 679\n",
            "Training loss: 0.0000\n",
            "Training metric: 0.9814\n",
            "perturbation loss: 0.0003\n",
            "Validation acc: 0.9867\n",
            "Validation F1: 0.9868\n"
          ]
        },
        {
          "output_type": "stream",
          "name": "stderr",
          "text": [
            "\r 68%|██████▊   | 680/1000 [14:58<09:29,  1.78s/it]"
          ]
        },
        {
          "output_type": "stream",
          "name": "stdout",
          "text": [
            "\n",
            "Start of epoch 680\n",
            "Training loss: 0.0000\n",
            "Training metric: 0.9814\n",
            "perturbation loss: 0.0001\n",
            "Validation acc: 0.9867\n",
            "Validation F1: 0.9868\n"
          ]
        },
        {
          "output_type": "stream",
          "name": "stderr",
          "text": [
            "\r 68%|██████▊   | 681/1000 [14:59<08:33,  1.61s/it]"
          ]
        },
        {
          "output_type": "stream",
          "name": "stdout",
          "text": [
            "\n",
            "Start of epoch 681\n",
            "Training loss: 0.0000\n",
            "Training metric: 0.9814\n",
            "perturbation loss: 0.0000\n",
            "Validation acc: 0.9867\n",
            "Validation F1: 0.9868\n"
          ]
        },
        {
          "output_type": "stream",
          "name": "stderr",
          "text": [
            "\r 68%|██████▊   | 682/1000 [15:01<07:53,  1.49s/it]"
          ]
        },
        {
          "output_type": "stream",
          "name": "stdout",
          "text": [
            "\n",
            "Start of epoch 682\n",
            "Training loss: 0.0000\n",
            "Training metric: 0.9815\n",
            "perturbation loss: 0.0004\n"
          ]
        },
        {
          "output_type": "stream",
          "name": "stderr",
          "text": [
            "\r 68%|██████▊   | 683/1000 [15:02<07:26,  1.41s/it]"
          ]
        },
        {
          "output_type": "stream",
          "name": "stdout",
          "text": [
            "Validation acc: 0.9800\n",
            "Validation F1: 0.9802\n",
            "\n",
            "Start of epoch 683\n",
            "Training loss: 0.0000\n",
            "Training metric: 0.9815\n",
            "perturbation loss: 0.0000\n",
            "Validation acc: 0.9733\n",
            "Validation F1: 0.9736\n"
          ]
        },
        {
          "output_type": "stream",
          "name": "stderr",
          "text": [
            "\r 68%|██████▊   | 684/1000 [15:03<07:08,  1.36s/it]"
          ]
        },
        {
          "output_type": "stream",
          "name": "stdout",
          "text": [
            "\n",
            "Start of epoch 684\n",
            "Training loss: 0.0000\n",
            "Training metric: 0.9815\n",
            "perturbation loss: 0.0001\n",
            "Validation acc: 0.9800\n",
            "Validation F1: 0.9802\n"
          ]
        },
        {
          "output_type": "stream",
          "name": "stderr",
          "text": [
            "\r 68%|██████▊   | 685/1000 [15:04<06:52,  1.31s/it]"
          ]
        },
        {
          "output_type": "stream",
          "name": "stdout",
          "text": [
            "\n",
            "Start of epoch 685\n",
            "Training loss: 0.0000\n",
            "Training metric: 0.9815\n",
            "perturbation loss: 0.0000\n",
            "Validation acc: 0.9533\n"
          ]
        },
        {
          "output_type": "stream",
          "name": "stderr",
          "text": [
            "\r 69%|██████▊   | 686/1000 [15:05<06:41,  1.28s/it]"
          ]
        },
        {
          "output_type": "stream",
          "name": "stdout",
          "text": [
            "Validation F1: 0.9536\n",
            "\n",
            "Start of epoch 686\n",
            "Training loss: 0.0000\n",
            "Training metric: 0.9816\n",
            "perturbation loss: 0.0001\n",
            "Validation acc: 0.9733\n",
            "Validation F1: 0.9732\n"
          ]
        },
        {
          "output_type": "stream",
          "name": "stderr",
          "text": [
            "\r 69%|██████▊   | 687/1000 [15:07<06:32,  1.25s/it]"
          ]
        },
        {
          "output_type": "stream",
          "name": "stdout",
          "text": [
            "\n",
            "Start of epoch 687\n",
            "Training loss: 0.0001\n",
            "Training metric: 0.9816\n",
            "perturbation loss: 0.0017\n"
          ]
        },
        {
          "output_type": "stream",
          "name": "stderr",
          "text": [
            "\r 69%|██████▉   | 688/1000 [15:08<06:42,  1.29s/it]"
          ]
        },
        {
          "output_type": "stream",
          "name": "stdout",
          "text": [
            "Validation acc: 0.9667\n",
            "Validation F1: 0.9668\n",
            "\n",
            "Start of epoch 688\n",
            "Training loss: 0.0000\n",
            "Training metric: 0.9816\n",
            "perturbation loss: 0.0001\n"
          ]
        },
        {
          "output_type": "stream",
          "name": "stderr",
          "text": [
            "\r 69%|██████▉   | 689/1000 [15:10<07:10,  1.39s/it]"
          ]
        },
        {
          "output_type": "stream",
          "name": "stdout",
          "text": [
            "Validation acc: 0.9867\n",
            "Validation F1: 0.9865\n",
            "\n",
            "Start of epoch 689\n",
            "Training loss: 0.0000\n",
            "Training metric: 0.9816\n",
            "perturbation loss: 0.0002\n"
          ]
        },
        {
          "output_type": "stream",
          "name": "stderr",
          "text": [
            "\r 69%|██████▉   | 690/1000 [15:11<07:34,  1.47s/it]"
          ]
        },
        {
          "output_type": "stream",
          "name": "stdout",
          "text": [
            "Validation acc: 0.9933\n",
            "Validation F1: 0.9933\n",
            "\n",
            "Start of epoch 690\n",
            "Training loss: 0.0000\n",
            "Training metric: 0.9817\n",
            "perturbation loss: 0.0003\n",
            "Validation acc: 0.9867\n",
            "Validation F1: 0.9865\n"
          ]
        },
        {
          "output_type": "stream",
          "name": "stderr",
          "text": [
            "\r 69%|██████▉   | 691/1000 [15:13<07:10,  1.39s/it]"
          ]
        },
        {
          "output_type": "stream",
          "name": "stdout",
          "text": [
            "\n",
            "Start of epoch 691\n",
            "Training loss: 0.0000\n",
            "Training metric: 0.9817\n",
            "perturbation loss: 0.0001\n"
          ]
        },
        {
          "output_type": "stream",
          "name": "stderr",
          "text": [
            "\r 69%|██████▉   | 692/1000 [15:14<06:50,  1.33s/it]"
          ]
        },
        {
          "output_type": "stream",
          "name": "stdout",
          "text": [
            "Validation acc: 0.9800\n",
            "Validation F1: 0.9801\n",
            "\n",
            "Start of epoch 692\n",
            "Training loss: 0.0000\n",
            "Training metric: 0.9817\n",
            "perturbation loss: 0.0023\n",
            "Validation acc: 0.9933\n"
          ]
        },
        {
          "output_type": "stream",
          "name": "stderr",
          "text": [
            "\r 69%|██████▉   | 693/1000 [15:15<06:37,  1.30s/it]"
          ]
        },
        {
          "output_type": "stream",
          "name": "stdout",
          "text": [
            "Validation F1: 0.9933\n",
            "\n",
            "Start of epoch 693\n",
            "Training loss: 0.0000\n",
            "Training metric: 0.9817\n",
            "perturbation loss: 0.0001\n",
            "Validation acc: 0.9867\n",
            "Validation F1: 0.9868\n"
          ]
        },
        {
          "output_type": "stream",
          "name": "stderr",
          "text": [
            "\r 69%|██████▉   | 694/1000 [15:16<06:26,  1.26s/it]"
          ]
        },
        {
          "output_type": "stream",
          "name": "stdout",
          "text": [
            "\n",
            "Start of epoch 694\n",
            "Training loss: 0.0000\n",
            "Training metric: 0.9818\n",
            "perturbation loss: 0.0001\n"
          ]
        },
        {
          "output_type": "stream",
          "name": "stderr",
          "text": [
            "\r 70%|██████▉   | 695/1000 [15:17<06:30,  1.28s/it]"
          ]
        },
        {
          "output_type": "stream",
          "name": "stdout",
          "text": [
            "Validation acc: 0.9933\n",
            "Validation F1: 0.9933\n",
            "\n",
            "Start of epoch 695\n",
            "Training loss: 0.0000\n",
            "Training metric: 0.9818\n",
            "perturbation loss: 0.0008\n",
            "Validation acc: 0.9867\n",
            "Validation F1: 0.9868\n"
          ]
        },
        {
          "output_type": "stream",
          "name": "stderr",
          "text": [
            "\r 70%|██████▉   | 696/1000 [15:19<06:22,  1.26s/it]"
          ]
        },
        {
          "output_type": "stream",
          "name": "stdout",
          "text": [
            "\n",
            "Start of epoch 696\n",
            "Training loss: 0.0000\n",
            "Training metric: 0.9818\n",
            "perturbation loss: 0.0001\n",
            "Validation acc: 0.9867\n",
            "Validation F1: 0.9868\n"
          ]
        },
        {
          "output_type": "stream",
          "name": "stderr",
          "text": [
            "\r 70%|██████▉   | 697/1000 [15:20<06:16,  1.24s/it]"
          ]
        },
        {
          "output_type": "stream",
          "name": "stdout",
          "text": [
            "\n",
            "Start of epoch 697\n",
            "Training loss: 0.0000\n",
            "Training metric: 0.9819\n",
            "perturbation loss: 0.0007\n",
            "Validation acc: 0.9933\n",
            "Validation F1: 0.9933\n"
          ]
        },
        {
          "output_type": "stream",
          "name": "stderr",
          "text": [
            "\r 70%|██████▉   | 698/1000 [15:21<06:11,  1.23s/it]"
          ]
        },
        {
          "output_type": "stream",
          "name": "stdout",
          "text": [
            "\n",
            "Start of epoch 698\n",
            "Training loss: 0.0000\n",
            "Training metric: 0.9819\n",
            "perturbation loss: 0.0013\n"
          ]
        },
        {
          "output_type": "stream",
          "name": "stderr",
          "text": [
            "\r 70%|██████▉   | 699/1000 [15:23<06:30,  1.30s/it]"
          ]
        },
        {
          "output_type": "stream",
          "name": "stdout",
          "text": [
            "Validation acc: 0.9867\n",
            "Validation F1: 0.9868\n",
            "\n",
            "Start of epoch 699\n",
            "Training loss: 0.0000\n",
            "Training metric: 0.9819\n",
            "perturbation loss: 0.0000\n"
          ]
        },
        {
          "output_type": "stream",
          "name": "stderr",
          "text": [
            "\r 70%|███████   | 700/1000 [15:24<06:59,  1.40s/it]"
          ]
        },
        {
          "output_type": "stream",
          "name": "stdout",
          "text": [
            "Validation acc: 0.9933\n",
            "Validation F1: 0.9933\n",
            "\n",
            "Start of epoch 700\n",
            "Training loss: 0.0000\n",
            "Training metric: 0.9819\n",
            "perturbation loss: 0.0001\n"
          ]
        },
        {
          "output_type": "stream",
          "name": "stderr",
          "text": [
            "\r 70%|███████   | 701/1000 [15:26<07:08,  1.43s/it]"
          ]
        },
        {
          "output_type": "stream",
          "name": "stdout",
          "text": [
            "Validation acc: 0.9867\n",
            "Validation F1: 0.9867\n",
            "\n",
            "Start of epoch 701\n",
            "Training loss: 0.0000\n",
            "Training metric: 0.9820\n",
            "perturbation loss: 0.0001\n",
            "Validation acc: 0.9800\n",
            "Validation F1: 0.9802\n"
          ]
        },
        {
          "output_type": "stream",
          "name": "stderr",
          "text": [
            "\r 70%|███████   | 702/1000 [15:27<06:45,  1.36s/it]"
          ]
        },
        {
          "output_type": "stream",
          "name": "stdout",
          "text": [
            "\n",
            "Start of epoch 702\n",
            "Training loss: 0.0000\n",
            "Training metric: 0.9820\n",
            "perturbation loss: 0.0003\n"
          ]
        },
        {
          "output_type": "stream",
          "name": "stderr",
          "text": [
            "\r 70%|███████   | 703/1000 [15:28<06:31,  1.32s/it]"
          ]
        },
        {
          "output_type": "stream",
          "name": "stdout",
          "text": [
            "Validation acc: 0.9867\n",
            "Validation F1: 0.9868\n",
            "\n",
            "Start of epoch 703\n",
            "Training loss: 0.0000\n",
            "Training metric: 0.9820\n",
            "perturbation loss: 0.0002\n",
            "Validation acc: 0.9867\n",
            "Validation F1: 0.9868\n"
          ]
        },
        {
          "output_type": "stream",
          "name": "stderr",
          "text": [
            "\r 70%|███████   | 704/1000 [15:29<06:19,  1.28s/it]"
          ]
        },
        {
          "output_type": "stream",
          "name": "stdout",
          "text": [
            "\n",
            "Start of epoch 704\n",
            "Training loss: 0.0000\n",
            "Training metric: 0.9820\n",
            "perturbation loss: 0.0013\n",
            "Validation acc: 0.9933\n",
            "Validation F1: 0.9933\n"
          ]
        },
        {
          "output_type": "stream",
          "name": "stderr",
          "text": [
            "\r 70%|███████   | 705/1000 [15:30<06:10,  1.26s/it]"
          ]
        },
        {
          "output_type": "stream",
          "name": "stdout",
          "text": [
            "\n",
            "Start of epoch 705\n",
            "Training loss: 0.0000\n",
            "Training metric: 0.9821\n",
            "perturbation loss: 0.0000\n",
            "Validation acc: 0.9933\n",
            "Validation F1: 0.9933\n"
          ]
        },
        {
          "output_type": "stream",
          "name": "stderr",
          "text": [
            "\r 71%|███████   | 706/1000 [15:32<06:06,  1.25s/it]"
          ]
        },
        {
          "output_type": "stream",
          "name": "stdout",
          "text": [
            "\n",
            "Start of epoch 706\n",
            "Training loss: 0.0000\n",
            "Training metric: 0.9821\n",
            "perturbation loss: 0.0008\n",
            "Validation acc: 0.9867\n",
            "Validation F1: 0.9868\n"
          ]
        },
        {
          "output_type": "stream",
          "name": "stderr",
          "text": [
            "\r 71%|███████   | 707/1000 [15:33<06:02,  1.24s/it]"
          ]
        },
        {
          "output_type": "stream",
          "name": "stdout",
          "text": [
            "\n",
            "Start of epoch 707\n",
            "Training loss: 0.0000\n",
            "Training metric: 0.9821\n",
            "perturbation loss: 0.0001\n",
            "Validation acc: 0.9933\n",
            "Validation F1: 0.9933\n"
          ]
        },
        {
          "output_type": "stream",
          "name": "stderr",
          "text": [
            "\r 71%|███████   | 708/1000 [15:34<05:58,  1.23s/it]"
          ]
        },
        {
          "output_type": "stream",
          "name": "stdout",
          "text": [
            "\n",
            "Start of epoch 708\n",
            "Training loss: 0.0000\n",
            "Training metric: 0.9821\n",
            "perturbation loss: 0.0003\n"
          ]
        },
        {
          "output_type": "stream",
          "name": "stderr",
          "text": [
            "\r 71%|███████   | 709/1000 [15:35<05:55,  1.22s/it]"
          ]
        },
        {
          "output_type": "stream",
          "name": "stdout",
          "text": [
            "Validation acc: 0.9933\n",
            "Validation F1: 0.9933\n",
            "\n",
            "Start of epoch 709\n",
            "Training loss: 0.0000\n",
            "Training metric: 0.9822\n",
            "perturbation loss: 0.0002\n"
          ]
        },
        {
          "output_type": "stream",
          "name": "stderr",
          "text": [
            "\r 71%|███████   | 710/1000 [15:37<06:22,  1.32s/it]"
          ]
        },
        {
          "output_type": "stream",
          "name": "stdout",
          "text": [
            "Validation acc: 0.9800\n",
            "Validation F1: 0.9800\n",
            "\n",
            "Start of epoch 710\n",
            "Training loss: 0.0000\n",
            "Training metric: 0.9822\n",
            "perturbation loss: 0.0001\n"
          ]
        },
        {
          "output_type": "stream",
          "name": "stderr",
          "text": [
            "\r 71%|███████   | 711/1000 [15:38<06:44,  1.40s/it]"
          ]
        },
        {
          "output_type": "stream",
          "name": "stdout",
          "text": [
            "Validation acc: 0.9733\n",
            "Validation F1: 0.9733\n",
            "\n",
            "Start of epoch 711\n",
            "Training loss: 0.0001\n",
            "Training metric: 0.9822\n",
            "perturbation loss: 0.0023\n",
            "Validation acc: 0.9733\n",
            "Validation F1: 0.9734\n"
          ]
        },
        {
          "output_type": "stream",
          "name": "stderr",
          "text": [
            "\r 71%|███████   | 712/1000 [15:40<06:45,  1.41s/it]"
          ]
        },
        {
          "output_type": "stream",
          "name": "stdout",
          "text": [
            "\n",
            "Start of epoch 712\n",
            "Training loss: 0.0000\n",
            "Training metric: 0.9822\n",
            "perturbation loss: 0.0009\n"
          ]
        },
        {
          "output_type": "stream",
          "name": "stderr",
          "text": [
            "\r 71%|███████▏  | 713/1000 [15:41<06:36,  1.38s/it]"
          ]
        },
        {
          "output_type": "stream",
          "name": "stdout",
          "text": [
            "Validation acc: 0.9800\n",
            "Validation F1: 0.9797\n",
            "\n",
            "Start of epoch 713\n",
            "Training loss: 0.0000\n",
            "Training metric: 0.9823\n",
            "perturbation loss: 0.0000\n",
            "Validation acc: 0.9933\n",
            "Validation F1: 0.9933\n"
          ]
        },
        {
          "output_type": "stream",
          "name": "stderr",
          "text": [
            "\r 71%|███████▏  | 714/1000 [15:42<06:18,  1.32s/it]"
          ]
        },
        {
          "output_type": "stream",
          "name": "stdout",
          "text": [
            "\n",
            "Start of epoch 714\n",
            "Training loss: 0.0000\n",
            "Training metric: 0.9823\n",
            "perturbation loss: 0.0002\n",
            "Validation acc: 0.9800\n",
            "Validation F1: 0.9797\n"
          ]
        },
        {
          "output_type": "stream",
          "name": "stderr",
          "text": [
            "\r 72%|███████▏  | 715/1000 [15:44<06:07,  1.29s/it]"
          ]
        },
        {
          "output_type": "stream",
          "name": "stdout",
          "text": [
            "\n",
            "Start of epoch 715\n",
            "Training loss: 0.0028\n",
            "Training metric: 0.9823\n",
            "perturbation loss: 0.1379\n",
            "Validation acc: 0.9800\n",
            "Validation F1: 0.9800\n"
          ]
        },
        {
          "output_type": "stream",
          "name": "stderr",
          "text": [
            "\r 72%|███████▏  | 716/1000 [15:45<06:00,  1.27s/it]"
          ]
        },
        {
          "output_type": "stream",
          "name": "stdout",
          "text": [
            "\n",
            "Start of epoch 716\n",
            "Training loss: 0.0001\n",
            "Training metric: 0.9823\n",
            "perturbation loss: 0.0028\n",
            "Validation acc: 0.9800\n",
            "Validation F1: 0.9800\n"
          ]
        },
        {
          "output_type": "stream",
          "name": "stderr",
          "text": [
            "\r 72%|███████▏  | 717/1000 [15:46<05:52,  1.25s/it]"
          ]
        },
        {
          "output_type": "stream",
          "name": "stdout",
          "text": [
            "\n",
            "Start of epoch 717\n",
            "Training loss: 0.0000\n",
            "Training metric: 0.9824\n",
            "perturbation loss: 0.0001\n",
            "Validation acc: 0.9933\n",
            "Validation F1: 0.9933\n"
          ]
        },
        {
          "output_type": "stream",
          "name": "stderr",
          "text": [
            "\r 72%|███████▏  | 718/1000 [15:47<05:47,  1.23s/it]"
          ]
        },
        {
          "output_type": "stream",
          "name": "stdout",
          "text": [
            "\n",
            "Start of epoch 718\n",
            "Training loss: 0.0000\n",
            "Training metric: 0.9824\n",
            "perturbation loss: 0.0001\n",
            "Validation acc: 0.9933\n",
            "Validation F1: 0.9933\n"
          ]
        },
        {
          "output_type": "stream",
          "name": "stderr",
          "text": [
            "\r 72%|███████▏  | 719/1000 [15:48<05:45,  1.23s/it]"
          ]
        },
        {
          "output_type": "stream",
          "name": "stdout",
          "text": [
            "\n",
            "Start of epoch 719\n",
            "Training loss: 0.0001\n",
            "Training metric: 0.9824\n",
            "perturbation loss: 0.0045\n"
          ]
        },
        {
          "output_type": "stream",
          "name": "stderr",
          "text": [
            "\r 72%|███████▏  | 720/1000 [15:50<06:20,  1.36s/it]"
          ]
        },
        {
          "output_type": "stream",
          "name": "stdout",
          "text": [
            "Validation acc: 0.9867\n",
            "Validation F1: 0.9867\n",
            "\n",
            "Start of epoch 720\n",
            "Training loss: 0.0001\n",
            "Training metric: 0.9824\n",
            "perturbation loss: 0.0070\n"
          ]
        },
        {
          "output_type": "stream",
          "name": "stderr",
          "text": [
            "\r 72%|███████▏  | 721/1000 [15:52<06:40,  1.44s/it]"
          ]
        },
        {
          "output_type": "stream",
          "name": "stdout",
          "text": [
            "Validation acc: 0.9933\n",
            "Validation F1: 0.9933\n",
            "\n",
            "Start of epoch 721\n",
            "Training loss: 0.0002\n",
            "Training metric: 0.9825\n",
            "perturbation loss: 0.0079\n"
          ]
        },
        {
          "output_type": "stream",
          "name": "stderr",
          "text": [
            "\r 72%|███████▏  | 722/1000 [15:53<06:49,  1.47s/it]"
          ]
        },
        {
          "output_type": "stream",
          "name": "stdout",
          "text": [
            "Validation acc: 0.9933\n",
            "Validation F1: 0.9933\n",
            "\n",
            "Start of epoch 722\n",
            "Training loss: 0.0000\n",
            "Training metric: 0.9825\n",
            "perturbation loss: 0.0009\n",
            "Validation acc: 0.9933\n",
            "Validation F1: 0.9933\n"
          ]
        },
        {
          "output_type": "stream",
          "name": "stderr",
          "text": [
            "\r 72%|███████▏  | 723/1000 [15:54<06:23,  1.39s/it]"
          ]
        },
        {
          "output_type": "stream",
          "name": "stdout",
          "text": [
            "\n",
            "Start of epoch 723\n",
            "Training loss: 0.0000\n",
            "Training metric: 0.9825\n",
            "perturbation loss: 0.0002\n",
            "Validation acc: 0.9867\n"
          ]
        },
        {
          "output_type": "stream",
          "name": "stderr",
          "text": [
            "\r 72%|███████▏  | 724/1000 [15:56<06:08,  1.34s/it]"
          ]
        },
        {
          "output_type": "stream",
          "name": "stdout",
          "text": [
            "Validation F1: 0.9868\n",
            "\n",
            "Start of epoch 724\n",
            "Training loss: 0.0000\n",
            "Training metric: 0.9825\n",
            "perturbation loss: 0.0003\n",
            "Validation acc: 0.9933\n",
            "Validation F1: 0.9933\n"
          ]
        },
        {
          "output_type": "stream",
          "name": "stderr",
          "text": [
            "\r 72%|███████▎  | 725/1000 [15:57<05:56,  1.30s/it]"
          ]
        },
        {
          "output_type": "stream",
          "name": "stdout",
          "text": [
            "\n",
            "Start of epoch 725\n",
            "Training loss: 0.0000\n",
            "Training metric: 0.9826\n",
            "perturbation loss: 0.0001\n",
            "Validation acc: 0.9933\n",
            "Validation F1: 0.9933\n"
          ]
        },
        {
          "output_type": "stream",
          "name": "stderr",
          "text": [
            "\r 73%|███████▎  | 726/1000 [15:58<05:46,  1.27s/it]"
          ]
        },
        {
          "output_type": "stream",
          "name": "stdout",
          "text": [
            "\n",
            "Start of epoch 726\n",
            "Training loss: 0.0000\n",
            "Training metric: 0.9826\n",
            "perturbation loss: 0.0001\n",
            "Validation acc: 0.9867\n",
            "Validation F1: 0.9867\n"
          ]
        },
        {
          "output_type": "stream",
          "name": "stderr",
          "text": [
            "\r 73%|███████▎  | 727/1000 [15:59<05:38,  1.24s/it]"
          ]
        },
        {
          "output_type": "stream",
          "name": "stdout",
          "text": [
            "\n",
            "Start of epoch 727\n",
            "Training loss: 0.0000\n",
            "Training metric: 0.9826\n",
            "perturbation loss: 0.0003\n",
            "Validation acc: 0.9933\n",
            "Validation F1: 0.9933\n"
          ]
        },
        {
          "output_type": "stream",
          "name": "stderr",
          "text": [
            "\r 73%|███████▎  | 728/1000 [16:00<05:34,  1.23s/it]"
          ]
        },
        {
          "output_type": "stream",
          "name": "stdout",
          "text": [
            "\n",
            "Start of epoch 728\n",
            "Training loss: 0.0000\n",
            "Training metric: 0.9826\n",
            "perturbation loss: 0.0000\n",
            "Validation acc: 0.9800\n",
            "Validation F1: 0.9802\n"
          ]
        },
        {
          "output_type": "stream",
          "name": "stderr",
          "text": [
            "\r 73%|███████▎  | 729/1000 [16:02<05:29,  1.21s/it]"
          ]
        },
        {
          "output_type": "stream",
          "name": "stdout",
          "text": [
            "\n",
            "Start of epoch 729\n",
            "Training loss: 0.0000\n",
            "Training metric: 0.9826\n",
            "perturbation loss: 0.0001\n"
          ]
        },
        {
          "output_type": "stream",
          "name": "stderr",
          "text": [
            "\r 73%|███████▎  | 730/1000 [16:03<05:26,  1.21s/it]"
          ]
        },
        {
          "output_type": "stream",
          "name": "stdout",
          "text": [
            "Validation acc: 0.9933\n",
            "Validation F1: 0.9933\n",
            "\n",
            "Start of epoch 730\n",
            "Training loss: 0.0000\n",
            "Training metric: 0.9827\n",
            "perturbation loss: 0.0002\n"
          ]
        },
        {
          "output_type": "stream",
          "name": "stderr",
          "text": [
            "\r 73%|███████▎  | 731/1000 [16:04<05:50,  1.30s/it]"
          ]
        },
        {
          "output_type": "stream",
          "name": "stdout",
          "text": [
            "Validation acc: 0.9933\n",
            "Validation F1: 0.9933\n",
            "\n",
            "Start of epoch 731\n",
            "Training loss: 0.0000\n",
            "Training metric: 0.9827\n",
            "perturbation loss: 0.0001\n"
          ]
        },
        {
          "output_type": "stream",
          "name": "stderr",
          "text": [
            "\r 73%|███████▎  | 732/1000 [16:06<06:13,  1.39s/it]"
          ]
        },
        {
          "output_type": "stream",
          "name": "stdout",
          "text": [
            "Validation acc: 0.9867\n",
            "Validation F1: 0.9868\n",
            "\n",
            "Start of epoch 732\n",
            "Training loss: 0.0000\n",
            "Training metric: 0.9827\n",
            "perturbation loss: 0.0000\n",
            "Validation acc: 0.9933\n",
            "Validation F1: 0.9933\n"
          ]
        },
        {
          "output_type": "stream",
          "name": "stderr",
          "text": [
            "\r 73%|███████▎  | 733/1000 [16:07<06:14,  1.40s/it]"
          ]
        },
        {
          "output_type": "stream",
          "name": "stdout",
          "text": [
            "\n",
            "Start of epoch 733\n",
            "Training loss: 0.0000\n",
            "Training metric: 0.9827\n",
            "perturbation loss: 0.0014\n",
            "Validation acc: 0.9800\n",
            "Validation F1: 0.9802\n"
          ]
        },
        {
          "output_type": "stream",
          "name": "stderr",
          "text": [
            "\r 73%|███████▎  | 734/1000 [16:09<05:56,  1.34s/it]"
          ]
        },
        {
          "output_type": "stream",
          "name": "stdout",
          "text": [
            "\n",
            "Start of epoch 734\n",
            "Training loss: 0.0000\n",
            "Training metric: 0.9828\n",
            "perturbation loss: 0.0001\n",
            "Validation acc: 0.9800\n",
            "Validation F1: 0.9799\n"
          ]
        },
        {
          "output_type": "stream",
          "name": "stderr",
          "text": [
            "\r 74%|███████▎  | 735/1000 [16:10<05:43,  1.30s/it]"
          ]
        },
        {
          "output_type": "stream",
          "name": "stdout",
          "text": [
            "\n",
            "Start of epoch 735\n",
            "Training loss: 0.0000\n",
            "Training metric: 0.9828\n",
            "perturbation loss: 0.0000\n",
            "Validation acc: 0.9800\n",
            "Validation F1: 0.9799\n"
          ]
        },
        {
          "output_type": "stream",
          "name": "stderr",
          "text": [
            "\r 74%|███████▎  | 736/1000 [16:11<05:35,  1.27s/it]"
          ]
        },
        {
          "output_type": "stream",
          "name": "stdout",
          "text": [
            "\n",
            "Start of epoch 736\n",
            "Training loss: 0.0000\n",
            "Training metric: 0.9828\n",
            "perturbation loss: 0.0002\n",
            "Validation acc: 0.9867\n",
            "Validation F1: 0.9867\n"
          ]
        },
        {
          "output_type": "stream",
          "name": "stderr",
          "text": [
            "\r 74%|███████▎  | 737/1000 [16:12<05:27,  1.25s/it]"
          ]
        },
        {
          "output_type": "stream",
          "name": "stdout",
          "text": [
            "\n",
            "Start of epoch 737\n",
            "Training loss: 0.0000\n",
            "Training metric: 0.9828\n",
            "perturbation loss: 0.0000\n",
            "Validation acc: 0.9867\n"
          ]
        },
        {
          "output_type": "stream",
          "name": "stderr",
          "text": [
            "\r 74%|███████▍  | 738/1000 [16:13<05:24,  1.24s/it]"
          ]
        },
        {
          "output_type": "stream",
          "name": "stdout",
          "text": [
            "Validation F1: 0.9867\n",
            "\n",
            "Start of epoch 738\n",
            "Training loss: 0.0000\n",
            "Training metric: 0.9829\n",
            "perturbation loss: 0.0001\n",
            "Validation acc: 0.9933\n",
            "Validation F1: 0.9933\n"
          ]
        },
        {
          "output_type": "stream",
          "name": "stderr",
          "text": [
            "\r 74%|███████▍  | 739/1000 [16:15<05:18,  1.22s/it]"
          ]
        },
        {
          "output_type": "stream",
          "name": "stdout",
          "text": [
            "\n",
            "Start of epoch 739\n",
            "Training loss: 0.0000\n",
            "Training metric: 0.9829\n",
            "perturbation loss: 0.0005\n",
            "Validation acc: 0.9867\n",
            "Validation F1: 0.9867\n"
          ]
        },
        {
          "output_type": "stream",
          "name": "stderr",
          "text": [
            "\r 74%|███████▍  | 740/1000 [16:16<05:15,  1.21s/it]"
          ]
        },
        {
          "output_type": "stream",
          "name": "stdout",
          "text": [
            "\n",
            "Start of epoch 740\n",
            "Training loss: 0.0000\n",
            "Training metric: 0.9829\n",
            "perturbation loss: 0.0002\n"
          ]
        },
        {
          "output_type": "stream",
          "name": "stderr",
          "text": [
            "\r 74%|███████▍  | 741/1000 [16:17<05:23,  1.25s/it]"
          ]
        },
        {
          "output_type": "stream",
          "name": "stdout",
          "text": [
            "Validation acc: 0.9933\n",
            "Validation F1: 0.9933\n",
            "\n",
            "Start of epoch 741\n",
            "Training loss: 0.0000\n",
            "Training metric: 0.9829\n",
            "perturbation loss: 0.0006\n"
          ]
        },
        {
          "output_type": "stream",
          "name": "stderr",
          "text": [
            "\r 74%|███████▍  | 742/1000 [16:19<05:50,  1.36s/it]"
          ]
        },
        {
          "output_type": "stream",
          "name": "stdout",
          "text": [
            "Validation acc: 0.9933\n",
            "Validation F1: 0.9933\n",
            "\n",
            "Start of epoch 742\n",
            "Training loss: 0.0000\n",
            "Training metric: 0.9829\n",
            "perturbation loss: 0.0002\n"
          ]
        },
        {
          "output_type": "stream",
          "name": "stderr",
          "text": [
            "\r 74%|███████▍  | 743/1000 [16:20<06:05,  1.42s/it]"
          ]
        },
        {
          "output_type": "stream",
          "name": "stdout",
          "text": [
            "Validation acc: 0.9800\n",
            "Validation F1: 0.9797\n",
            "\n",
            "Start of epoch 743\n",
            "Training loss: 0.0014\n",
            "Training metric: 0.9830\n",
            "perturbation loss: 0.0644\n",
            "Validation acc: 0.9667\n",
            "Validation F1: 0.9670\n"
          ]
        },
        {
          "output_type": "stream",
          "name": "stderr",
          "text": [
            "\r 74%|███████▍  | 744/1000 [16:22<05:54,  1.38s/it]"
          ]
        },
        {
          "output_type": "stream",
          "name": "stdout",
          "text": [
            "\n",
            "Start of epoch 744\n",
            "Training loss: 0.0000\n",
            "Training metric: 0.9830\n",
            "perturbation loss: 0.0001\n",
            "Validation acc: 0.9600\n",
            "Validation F1: 0.9587\n"
          ]
        },
        {
          "output_type": "stream",
          "name": "stderr",
          "text": [
            "\r 74%|███████▍  | 745/1000 [16:23<05:39,  1.33s/it]"
          ]
        },
        {
          "output_type": "stream",
          "name": "stdout",
          "text": [
            "\n",
            "Start of epoch 745\n",
            "Training loss: 0.0000\n",
            "Training metric: 0.9830\n",
            "perturbation loss: 0.0005\n",
            "Validation acc: 0.9667\n",
            "Validation F1: 0.9672\n"
          ]
        },
        {
          "output_type": "stream",
          "name": "stderr",
          "text": [
            "\r 75%|███████▍  | 746/1000 [16:24<05:27,  1.29s/it]"
          ]
        },
        {
          "output_type": "stream",
          "name": "stdout",
          "text": [
            "\n",
            "Start of epoch 746\n",
            "Training loss: 0.0000\n",
            "Training metric: 0.9830\n",
            "perturbation loss: 0.0001\n",
            "Validation acc: 0.9667\n",
            "Validation F1: 0.9665\n"
          ]
        },
        {
          "output_type": "stream",
          "name": "stderr",
          "text": [
            "\r 75%|███████▍  | 747/1000 [16:25<05:19,  1.26s/it]"
          ]
        },
        {
          "output_type": "stream",
          "name": "stdout",
          "text": [
            "\n",
            "Start of epoch 747\n",
            "Training loss: 0.0001\n",
            "Training metric: 0.9831\n",
            "perturbation loss: 0.0023\n",
            "Validation acc: 0.9733\n",
            "Validation F1: 0.9733\n"
          ]
        },
        {
          "output_type": "stream",
          "name": "stderr",
          "text": [
            "\r 75%|███████▍  | 748/1000 [16:26<05:13,  1.24s/it]"
          ]
        },
        {
          "output_type": "stream",
          "name": "stdout",
          "text": [
            "\n",
            "Start of epoch 748\n",
            "Training loss: 0.0000\n",
            "Training metric: 0.9831\n",
            "perturbation loss: 0.0000\n",
            "Validation acc: 0.9800\n",
            "Validation F1: 0.9802\n"
          ]
        },
        {
          "output_type": "stream",
          "name": "stderr",
          "text": [
            "\r 75%|███████▍  | 749/1000 [16:28<05:07,  1.23s/it]"
          ]
        },
        {
          "output_type": "stream",
          "name": "stdout",
          "text": [
            "\n",
            "Start of epoch 749\n"
          ]
        },
        {
          "output_type": "stream",
          "name": "stderr",
          "text": [
            "\r 75%|███████▌  | 750/1000 [16:29<05:02,  1.21s/it]"
          ]
        },
        {
          "output_type": "stream",
          "name": "stdout",
          "text": [
            "Training loss: 0.0000\n",
            "Training metric: 0.9831\n",
            "perturbation loss: 0.0000\n",
            "Validation acc: 0.9867\n",
            "Validation F1: 0.9868\n",
            "\n",
            "Start of epoch 750\n",
            "Training loss: 0.0000\n",
            "Training metric: 0.9831\n",
            "perturbation loss: 0.0007\n"
          ]
        },
        {
          "output_type": "stream",
          "name": "stderr",
          "text": [
            "\r 75%|███████▌  | 751/1000 [16:30<05:02,  1.21s/it]"
          ]
        },
        {
          "output_type": "stream",
          "name": "stdout",
          "text": [
            "Validation acc: 0.9800\n",
            "Validation F1: 0.9802\n",
            "\n",
            "Start of epoch 751\n",
            "Training loss: 0.0000\n",
            "Training metric: 0.9832\n",
            "perturbation loss: 0.0003\n"
          ]
        },
        {
          "output_type": "stream",
          "name": "stderr",
          "text": [
            "\r 75%|███████▌  | 752/1000 [16:31<05:07,  1.24s/it]"
          ]
        },
        {
          "output_type": "stream",
          "name": "stdout",
          "text": [
            "Validation acc: 0.9867\n",
            "Validation F1: 0.9868\n",
            "\n",
            "Start of epoch 752\n",
            "Training loss: 0.0000\n",
            "Training metric: 0.9832\n",
            "perturbation loss: 0.0014\n"
          ]
        },
        {
          "output_type": "stream",
          "name": "stderr",
          "text": [
            "\r 75%|███████▌  | 753/1000 [16:33<05:34,  1.35s/it]"
          ]
        },
        {
          "output_type": "stream",
          "name": "stdout",
          "text": [
            "Validation acc: 0.9800\n",
            "Validation F1: 0.9800\n",
            "\n",
            "Start of epoch 753\n",
            "Training loss: 0.0000\n",
            "Training metric: 0.9832\n",
            "perturbation loss: 0.0000\n"
          ]
        },
        {
          "output_type": "stream",
          "name": "stderr",
          "text": [
            "\r 75%|███████▌  | 754/1000 [16:34<05:49,  1.42s/it]"
          ]
        },
        {
          "output_type": "stream",
          "name": "stdout",
          "text": [
            "Validation acc: 0.9800\n",
            "Validation F1: 0.9802\n",
            "\n",
            "Start of epoch 754\n",
            "Training loss: 0.0000\n",
            "Training metric: 0.9832\n",
            "perturbation loss: 0.0004\n",
            "Validation acc: 0.9867\n",
            "Validation F1: 0.9868\n"
          ]
        },
        {
          "output_type": "stream",
          "name": "stderr",
          "text": [
            "\r 76%|███████▌  | 755/1000 [16:36<05:35,  1.37s/it]"
          ]
        },
        {
          "output_type": "stream",
          "name": "stdout",
          "text": [
            "\n",
            "Start of epoch 755\n",
            "Training loss: 0.0000\n",
            "Training metric: 0.9832\n",
            "perturbation loss: 0.0002\n",
            "Validation acc: 0.9867\n",
            "Validation F1: 0.9868\n"
          ]
        },
        {
          "output_type": "stream",
          "name": "stderr",
          "text": [
            "\r 76%|███████▌  | 756/1000 [16:37<05:20,  1.32s/it]"
          ]
        },
        {
          "output_type": "stream",
          "name": "stdout",
          "text": [
            "\n",
            "Start of epoch 756\n",
            "Training loss: 0.0000\n",
            "Training metric: 0.9833\n",
            "perturbation loss: 0.0000\n"
          ]
        },
        {
          "output_type": "stream",
          "name": "stderr",
          "text": [
            "\r 76%|███████▌  | 757/1000 [16:38<05:19,  1.32s/it]"
          ]
        },
        {
          "output_type": "stream",
          "name": "stdout",
          "text": [
            "Validation acc: 0.9933\n",
            "Validation F1: 0.9933\n",
            "\n",
            "Start of epoch 757\n",
            "Training loss: 0.0000\n",
            "Training metric: 0.9833\n",
            "perturbation loss: 0.0005\n",
            "Validation acc: 0.9800\n",
            "Validation F1: 0.9802\n"
          ]
        },
        {
          "output_type": "stream",
          "name": "stderr",
          "text": [
            "\r 76%|███████▌  | 758/1000 [16:39<05:10,  1.28s/it]"
          ]
        },
        {
          "output_type": "stream",
          "name": "stdout",
          "text": [
            "\n",
            "Start of epoch 758\n",
            "Training loss: 0.0000\n",
            "Training metric: 0.9833\n",
            "perturbation loss: 0.0001\n"
          ]
        },
        {
          "output_type": "stream",
          "name": "stderr",
          "text": [
            "\r 76%|███████▌  | 759/1000 [16:41<05:11,  1.29s/it]"
          ]
        },
        {
          "output_type": "stream",
          "name": "stdout",
          "text": [
            "Validation acc: 0.9933\n",
            "Validation F1: 0.9933\n",
            "\n",
            "Start of epoch 759\n",
            "Training loss: 0.0000\n",
            "Training metric: 0.9833\n",
            "perturbation loss: 0.0002\n"
          ]
        },
        {
          "output_type": "stream",
          "name": "stderr",
          "text": [
            "\r 76%|███████▌  | 760/1000 [16:42<05:09,  1.29s/it]"
          ]
        },
        {
          "output_type": "stream",
          "name": "stdout",
          "text": [
            "Validation acc: 0.9867\n",
            "Validation F1: 0.9868\n",
            "\n",
            "Start of epoch 760\n",
            "Training loss: 0.0000\n",
            "Training metric: 0.9834\n",
            "perturbation loss: 0.0003\n",
            "Validation acc: 0.9800\n",
            "Validation F1: 0.9802\n"
          ]
        },
        {
          "output_type": "stream",
          "name": "stderr",
          "text": [
            "\r 76%|███████▌  | 761/1000 [16:43<05:02,  1.26s/it]"
          ]
        },
        {
          "output_type": "stream",
          "name": "stdout",
          "text": [
            "\n",
            "Start of epoch 761\n",
            "Training loss: 0.0000\n",
            "Training metric: 0.9834\n",
            "perturbation loss: 0.0002\n",
            "Validation acc: 0.9933\n",
            "Validation F1: 0.9933\n"
          ]
        },
        {
          "output_type": "stream",
          "name": "stderr",
          "text": [
            "\r 76%|███████▌  | 762/1000 [16:44<04:56,  1.24s/it]"
          ]
        },
        {
          "output_type": "stream",
          "name": "stdout",
          "text": [
            "\n",
            "Start of epoch 762\n",
            "Training loss: 0.0000\n",
            "Training metric: 0.9834\n",
            "perturbation loss: 0.0001\n"
          ]
        },
        {
          "output_type": "stream",
          "name": "stderr",
          "text": [
            "\r 76%|███████▋  | 763/1000 [16:46<05:12,  1.32s/it]"
          ]
        },
        {
          "output_type": "stream",
          "name": "stdout",
          "text": [
            "Validation acc: 0.9800\n",
            "Validation F1: 0.9802\n",
            "\n",
            "Start of epoch 763\n",
            "Training loss: 0.0000\n",
            "Training metric: 0.9834\n",
            "perturbation loss: 0.0004\n"
          ]
        },
        {
          "output_type": "stream",
          "name": "stderr",
          "text": [
            "\r 76%|███████▋  | 764/1000 [16:48<05:30,  1.40s/it]"
          ]
        },
        {
          "output_type": "stream",
          "name": "stdout",
          "text": [
            "Validation acc: 0.9800\n",
            "Validation F1: 0.9802\n",
            "\n",
            "Start of epoch 764\n",
            "Training loss: 0.0000\n",
            "Training metric: 0.9834\n",
            "perturbation loss: 0.0001\n"
          ]
        },
        {
          "output_type": "stream",
          "name": "stderr",
          "text": [
            "\r 76%|███████▋  | 765/1000 [16:49<05:34,  1.42s/it]"
          ]
        },
        {
          "output_type": "stream",
          "name": "stdout",
          "text": [
            "Validation acc: 0.9800\n",
            "Validation F1: 0.9802\n",
            "\n",
            "Start of epoch 765\n",
            "Training loss: 0.0000\n",
            "Training metric: 0.9835\n",
            "perturbation loss: 0.0001\n",
            "Validation acc: 0.9800\n",
            "Validation F1: 0.9802\n"
          ]
        },
        {
          "output_type": "stream",
          "name": "stderr",
          "text": [
            "\r 77%|███████▋  | 766/1000 [16:50<05:15,  1.35s/it]"
          ]
        },
        {
          "output_type": "stream",
          "name": "stdout",
          "text": [
            "\n",
            "Start of epoch 766\n",
            "Training loss: 0.0000\n",
            "Training metric: 0.9835\n",
            "perturbation loss: 0.0004\n",
            "Validation acc: 0.9867\n",
            "Validation F1: 0.9868\n"
          ]
        },
        {
          "output_type": "stream",
          "name": "stderr",
          "text": [
            "\r 77%|███████▋  | 767/1000 [16:51<05:03,  1.30s/it]"
          ]
        },
        {
          "output_type": "stream",
          "name": "stdout",
          "text": [
            "\n",
            "Start of epoch 767\n",
            "Training loss: 0.0000\n",
            "Training metric: 0.9835\n",
            "perturbation loss: 0.0002\n",
            "Validation acc: 0.9800\n"
          ]
        },
        {
          "output_type": "stream",
          "name": "stderr",
          "text": [
            "\r 77%|███████▋  | 768/1000 [16:53<04:56,  1.28s/it]"
          ]
        },
        {
          "output_type": "stream",
          "name": "stdout",
          "text": [
            "Validation F1: 0.9802\n",
            "\n",
            "Start of epoch 768\n",
            "Training loss: 0.0000\n",
            "Training metric: 0.9835\n",
            "perturbation loss: 0.0000\n",
            "Validation acc: 0.9867\n",
            "Validation F1: 0.9868\n"
          ]
        },
        {
          "output_type": "stream",
          "name": "stderr",
          "text": [
            "\r 77%|███████▋  | 769/1000 [16:54<04:50,  1.26s/it]"
          ]
        },
        {
          "output_type": "stream",
          "name": "stdout",
          "text": [
            "\n",
            "Start of epoch 769\n",
            "Training loss: 0.0000\n",
            "Training metric: 0.9835\n",
            "perturbation loss: 0.0000\n",
            "Validation acc: 0.9733\n",
            "Validation F1: 0.9736\n"
          ]
        },
        {
          "output_type": "stream",
          "name": "stderr",
          "text": [
            "\r 77%|███████▋  | 770/1000 [16:55<04:44,  1.24s/it]"
          ]
        },
        {
          "output_type": "stream",
          "name": "stdout",
          "text": [
            "\n",
            "Start of epoch 770\n",
            "Training loss: 0.0000\n",
            "Training metric: 0.9836\n",
            "perturbation loss: 0.0000\n",
            "Validation acc: 0.9867\n",
            "Validation F1: 0.9868\n"
          ]
        },
        {
          "output_type": "stream",
          "name": "stderr",
          "text": [
            "\r 77%|███████▋  | 771/1000 [16:56<04:40,  1.22s/it]"
          ]
        },
        {
          "output_type": "stream",
          "name": "stdout",
          "text": [
            "\n",
            "Start of epoch 771\n",
            "Training loss: 0.0000\n",
            "Training metric: 0.9836\n",
            "perturbation loss: 0.0002\n",
            "Validation acc: 0.9933\n",
            "Validation F1: 0.9933\n"
          ]
        },
        {
          "output_type": "stream",
          "name": "stderr",
          "text": [
            "\r 77%|███████▋  | 772/1000 [16:57<04:37,  1.22s/it]"
          ]
        },
        {
          "output_type": "stream",
          "name": "stdout",
          "text": [
            "\n",
            "Start of epoch 772\n",
            "Training loss: 0.0000\n",
            "Training metric: 0.9836\n",
            "perturbation loss: 0.0002\n",
            "Validation acc: 0.9867\n",
            "Validation F1: 0.9868\n"
          ]
        },
        {
          "output_type": "stream",
          "name": "stderr",
          "text": [
            "\r 77%|███████▋  | 773/1000 [16:59<04:34,  1.21s/it]"
          ]
        },
        {
          "output_type": "stream",
          "name": "stdout",
          "text": [
            "\n",
            "Start of epoch 773\n",
            "Training loss: 0.0000\n",
            "Training metric: 0.9836\n",
            "perturbation loss: 0.0000\n"
          ]
        },
        {
          "output_type": "stream",
          "name": "stderr",
          "text": [
            "\r 77%|███████▋  | 774/1000 [17:00<04:59,  1.33s/it]"
          ]
        },
        {
          "output_type": "stream",
          "name": "stdout",
          "text": [
            "Validation acc: 0.9933\n",
            "Validation F1: 0.9933\n",
            "\n",
            "Start of epoch 774\n",
            "Training loss: 0.0000\n",
            "Training metric: 0.9837\n",
            "perturbation loss: 0.0002\n"
          ]
        },
        {
          "output_type": "stream",
          "name": "stderr",
          "text": [
            "\r 78%|███████▊  | 775/1000 [17:02<05:16,  1.41s/it]"
          ]
        },
        {
          "output_type": "stream",
          "name": "stdout",
          "text": [
            "Validation acc: 0.9867\n",
            "Validation F1: 0.9868\n",
            "\n",
            "Start of epoch 775\n",
            "Training loss: 0.0000\n",
            "Training metric: 0.9837\n",
            "perturbation loss: 0.0001\n",
            "Validation acc: 0.9933\n",
            "Validation F1: 0.9933\n"
          ]
        },
        {
          "output_type": "stream",
          "name": "stderr",
          "text": [
            "\r 78%|███████▊  | 776/1000 [17:03<05:10,  1.39s/it]"
          ]
        },
        {
          "output_type": "stream",
          "name": "stdout",
          "text": [
            "\n",
            "Start of epoch 776\n",
            "Training loss: 0.0000\n",
            "Training metric: 0.9837\n",
            "perturbation loss: 0.0000\n",
            "Validation acc: 0.9933\n",
            "Validation F1: 0.9933\n"
          ]
        },
        {
          "output_type": "stream",
          "name": "stderr",
          "text": [
            "\r 78%|███████▊  | 777/1000 [17:04<04:56,  1.33s/it]"
          ]
        },
        {
          "output_type": "stream",
          "name": "stdout",
          "text": [
            "\n",
            "Start of epoch 777\n",
            "Training loss: 0.0000\n",
            "Training metric: 0.9837\n",
            "perturbation loss: 0.0002\n"
          ]
        },
        {
          "output_type": "stream",
          "name": "stderr",
          "text": [
            "\r 78%|███████▊  | 778/1000 [17:06<04:53,  1.32s/it]"
          ]
        },
        {
          "output_type": "stream",
          "name": "stdout",
          "text": [
            "Validation acc: 0.9933\n",
            "Validation F1: 0.9933\n",
            "\n",
            "Start of epoch 778\n",
            "Training loss: 0.0000\n",
            "Training metric: 0.9837\n",
            "perturbation loss: 0.0005\n",
            "Validation acc: 0.9733\n",
            "Validation F1: 0.9737\n"
          ]
        },
        {
          "output_type": "stream",
          "name": "stderr",
          "text": [
            "\r 78%|███████▊  | 779/1000 [17:07<04:42,  1.28s/it]"
          ]
        },
        {
          "output_type": "stream",
          "name": "stdout",
          "text": [
            "\n",
            "Start of epoch 779\n",
            "Training loss: 0.0000\n",
            "Training metric: 0.9838\n",
            "perturbation loss: 0.0001\n",
            "Validation acc: 0.9667\n",
            "Validation F1: 0.9656\n"
          ]
        },
        {
          "output_type": "stream",
          "name": "stderr",
          "text": [
            "\r 78%|███████▊  | 780/1000 [17:08<04:35,  1.25s/it]"
          ]
        },
        {
          "output_type": "stream",
          "name": "stdout",
          "text": [
            "\n",
            "Start of epoch 780\n",
            "Training loss: 0.0000\n",
            "Training metric: 0.9838\n",
            "perturbation loss: 0.0001\n",
            "Validation acc: 0.9600\n",
            "Validation F1: 0.9595\n"
          ]
        },
        {
          "output_type": "stream",
          "name": "stderr",
          "text": [
            "\r 78%|███████▊  | 781/1000 [17:09<04:31,  1.24s/it]"
          ]
        },
        {
          "output_type": "stream",
          "name": "stdout",
          "text": [
            "\n",
            "Start of epoch 781\n"
          ]
        },
        {
          "output_type": "stream",
          "name": "stderr",
          "text": [
            "\r 78%|███████▊  | 782/1000 [17:10<04:24,  1.21s/it]"
          ]
        },
        {
          "output_type": "stream",
          "name": "stdout",
          "text": [
            "Training loss: 0.0000\n",
            "Training metric: 0.9838\n",
            "perturbation loss: 0.0019\n",
            "Validation acc: 0.9800\n",
            "Validation F1: 0.9797\n",
            "\n",
            "Start of epoch 782\n",
            "Training loss: 0.0000\n",
            "Training metric: 0.9838\n",
            "perturbation loss: 0.0002\n"
          ]
        },
        {
          "output_type": "stream",
          "name": "stderr",
          "text": [
            "\r 78%|███████▊  | 783/1000 [17:12<04:29,  1.24s/it]"
          ]
        },
        {
          "output_type": "stream",
          "name": "stdout",
          "text": [
            "Validation acc: 0.9867\n",
            "Validation F1: 0.9867\n",
            "\n",
            "Start of epoch 783\n",
            "Training loss: 0.0000\n",
            "Training metric: 0.9838\n",
            "perturbation loss: 0.0024\n"
          ]
        },
        {
          "output_type": "stream",
          "name": "stderr",
          "text": [
            "\r 78%|███████▊  | 784/1000 [17:13<04:32,  1.26s/it]"
          ]
        },
        {
          "output_type": "stream",
          "name": "stdout",
          "text": [
            "Validation acc: 0.9800\n",
            "Validation F1: 0.9802\n",
            "\n",
            "Start of epoch 784\n",
            "Training loss: 0.0000\n",
            "Training metric: 0.9839\n",
            "perturbation loss: 0.0000\n"
          ]
        },
        {
          "output_type": "stream",
          "name": "stderr",
          "text": [
            "\r 78%|███████▊  | 785/1000 [17:15<04:54,  1.37s/it]"
          ]
        },
        {
          "output_type": "stream",
          "name": "stdout",
          "text": [
            "Validation acc: 0.9800\n",
            "Validation F1: 0.9797\n",
            "\n",
            "Start of epoch 785\n",
            "Training loss: 0.0000\n",
            "Training metric: 0.9839\n",
            "perturbation loss: 0.0000\n"
          ]
        },
        {
          "output_type": "stream",
          "name": "stderr",
          "text": [
            "\r 79%|███████▊  | 786/1000 [17:16<05:07,  1.44s/it]"
          ]
        },
        {
          "output_type": "stream",
          "name": "stdout",
          "text": [
            "Validation acc: 0.9933\n",
            "Validation F1: 0.9933\n",
            "\n",
            "Start of epoch 786\n",
            "Training loss: 0.0000\n",
            "Training metric: 0.9839\n",
            "perturbation loss: 0.0005\n",
            "Validation acc: 0.9600\n",
            "Validation F1: 0.9610\n"
          ]
        },
        {
          "output_type": "stream",
          "name": "stderr",
          "text": [
            "\r 79%|███████▊  | 787/1000 [17:17<04:50,  1.37s/it]"
          ]
        },
        {
          "output_type": "stream",
          "name": "stdout",
          "text": [
            "\n",
            "Start of epoch 787\n",
            "Training loss: 0.0000\n",
            "Training metric: 0.9839\n",
            "perturbation loss: 0.0002\n",
            "Validation acc: 0.9667\n",
            "Validation F1: 0.9663\n"
          ]
        },
        {
          "output_type": "stream",
          "name": "stderr",
          "text": [
            "\r 79%|███████▉  | 788/1000 [17:19<04:37,  1.31s/it]"
          ]
        },
        {
          "output_type": "stream",
          "name": "stdout",
          "text": [
            "\n",
            "Start of epoch 788\n",
            "Training loss: 0.0028\n",
            "Training metric: 0.9839\n",
            "perturbation loss: 0.1385\n",
            "Validation acc: 0.9867\n",
            "Validation F1: 0.9868\n"
          ]
        },
        {
          "output_type": "stream",
          "name": "stderr",
          "text": [
            "\r 79%|███████▉  | 789/1000 [17:20<04:28,  1.27s/it]"
          ]
        },
        {
          "output_type": "stream",
          "name": "stdout",
          "text": [
            "\n",
            "Start of epoch 789\n",
            "Training loss: 0.0002\n",
            "Training metric: 0.9840\n",
            "perturbation loss: 0.0080\n",
            "Validation acc: 0.9867\n",
            "Validation F1: 0.9865\n"
          ]
        },
        {
          "output_type": "stream",
          "name": "stderr",
          "text": [
            "\r 79%|███████▉  | 790/1000 [17:21<04:22,  1.25s/it]"
          ]
        },
        {
          "output_type": "stream",
          "name": "stdout",
          "text": [
            "\n",
            "Start of epoch 790\n",
            "Training loss: 0.0000\n",
            "Training metric: 0.9840\n",
            "perturbation loss: 0.0001\n",
            "Validation acc: 0.9800\n",
            "Validation F1: 0.9800\n"
          ]
        },
        {
          "output_type": "stream",
          "name": "stderr",
          "text": [
            "\r 79%|███████▉  | 791/1000 [17:22<04:17,  1.23s/it]"
          ]
        },
        {
          "output_type": "stream",
          "name": "stdout",
          "text": [
            "\n",
            "Start of epoch 791\n",
            "Training loss: 0.0000\n",
            "Training metric: 0.9840\n",
            "perturbation loss: 0.0007\n",
            "Validation acc: 0.9867\n",
            "Validation F1: 0.9865\n"
          ]
        },
        {
          "output_type": "stream",
          "name": "stderr",
          "text": [
            "\r 79%|███████▉  | 792/1000 [17:23<04:13,  1.22s/it]"
          ]
        },
        {
          "output_type": "stream",
          "name": "stdout",
          "text": [
            "\n",
            "Start of epoch 792\n",
            "Training loss: 0.0000\n",
            "Training metric: 0.9840\n",
            "perturbation loss: 0.0002\n"
          ]
        },
        {
          "output_type": "stream",
          "name": "stderr",
          "text": [
            "\r 79%|███████▉  | 793/1000 [17:25<04:19,  1.25s/it]"
          ]
        },
        {
          "output_type": "stream",
          "name": "stdout",
          "text": [
            "Validation acc: 0.9867\n",
            "Validation F1: 0.9867\n",
            "\n",
            "Start of epoch 793\n",
            "Training loss: 0.0000\n",
            "Training metric: 0.9840\n",
            "perturbation loss: 0.0002\n",
            "Validation acc: 0.9867\n",
            "Validation F1: 0.9867\n"
          ]
        },
        {
          "output_type": "stream",
          "name": "stderr",
          "text": [
            "\r 79%|███████▉  | 794/1000 [17:26<04:14,  1.23s/it]"
          ]
        },
        {
          "output_type": "stream",
          "name": "stdout",
          "text": [
            "\n",
            "Start of epoch 794\n",
            "Training loss: 0.0000\n",
            "Training metric: 0.9841\n",
            "perturbation loss: 0.0002\n"
          ]
        },
        {
          "output_type": "stream",
          "name": "stderr",
          "text": [
            "\r 80%|███████▉  | 795/1000 [17:27<04:25,  1.30s/it]"
          ]
        },
        {
          "output_type": "stream",
          "name": "stdout",
          "text": [
            "Validation acc: 0.9933\n",
            "Validation F1: 0.9933\n",
            "\n",
            "Start of epoch 795\n",
            "Training loss: 0.0000\n",
            "Training metric: 0.9841\n",
            "perturbation loss: 0.0003\n"
          ]
        },
        {
          "output_type": "stream",
          "name": "stderr",
          "text": [
            "\r 80%|███████▉  | 796/1000 [17:29<04:40,  1.38s/it]"
          ]
        },
        {
          "output_type": "stream",
          "name": "stdout",
          "text": [
            "Validation acc: 0.9933\n",
            "Validation F1: 0.9933\n",
            "\n",
            "Start of epoch 796\n",
            "Training loss: 0.0001\n",
            "Training metric: 0.9841\n",
            "perturbation loss: 0.0024\n"
          ]
        },
        {
          "output_type": "stream",
          "name": "stderr",
          "text": [
            "\r 80%|███████▉  | 797/1000 [17:30<04:44,  1.40s/it]"
          ]
        },
        {
          "output_type": "stream",
          "name": "stdout",
          "text": [
            "Validation acc: 0.9867\n",
            "Validation F1: 0.9867\n",
            "\n",
            "Start of epoch 797\n",
            "Training loss: 0.0000\n",
            "Training metric: 0.9841\n",
            "perturbation loss: 0.0000\n",
            "Validation acc: 0.9933\n",
            "Validation F1: 0.9933\n"
          ]
        },
        {
          "output_type": "stream",
          "name": "stderr",
          "text": [
            "\r 80%|███████▉  | 798/1000 [17:31<04:30,  1.34s/it]"
          ]
        },
        {
          "output_type": "stream",
          "name": "stdout",
          "text": [
            "\n",
            "Start of epoch 798\n",
            "Training loss: 0.0000\n",
            "Training metric: 0.9841\n",
            "perturbation loss: 0.0001\n",
            "Validation acc: 0.9867\n",
            "Validation F1: 0.9867\n"
          ]
        },
        {
          "output_type": "stream",
          "name": "stderr",
          "text": [
            "\r 80%|███████▉  | 799/1000 [17:33<04:20,  1.30s/it]"
          ]
        },
        {
          "output_type": "stream",
          "name": "stdout",
          "text": [
            "\n",
            "Start of epoch 799\n",
            "Training loss: 0.0000\n",
            "Training metric: 0.9842\n",
            "perturbation loss: 0.0006\n"
          ]
        },
        {
          "output_type": "stream",
          "name": "stderr",
          "text": [
            "\r 80%|████████  | 800/1000 [17:34<04:18,  1.29s/it]"
          ]
        },
        {
          "output_type": "stream",
          "name": "stdout",
          "text": [
            "Validation acc: 0.9867\n",
            "Validation F1: 0.9867\n",
            "\n",
            "Start of epoch 800\n",
            "Training loss: 0.0001\n",
            "Training metric: 0.9842\n",
            "perturbation loss: 0.0026\n",
            "Validation acc: 0.9933\n"
          ]
        },
        {
          "output_type": "stream",
          "name": "stderr",
          "text": [
            "\r 80%|████████  | 801/1000 [17:35<04:12,  1.27s/it]"
          ]
        },
        {
          "output_type": "stream",
          "name": "stdout",
          "text": [
            "Validation F1: 0.9933\n",
            "\n",
            "Start of epoch 801\n",
            "Training loss: 0.0000\n",
            "Training metric: 0.9842\n",
            "perturbation loss: 0.0001\n",
            "Validation acc: 0.9933\n",
            "Validation F1: 0.9933\n"
          ]
        },
        {
          "output_type": "stream",
          "name": "stderr",
          "text": [
            "\r 80%|████████  | 802/1000 [17:36<04:06,  1.25s/it]"
          ]
        },
        {
          "output_type": "stream",
          "name": "stdout",
          "text": [
            "\n",
            "Start of epoch 802\n",
            "Training loss: 0.0000\n",
            "Training metric: 0.9842\n",
            "perturbation loss: 0.0006\n",
            "Validation acc: 0.9800\n",
            "Validation F1: 0.9802\n"
          ]
        },
        {
          "output_type": "stream",
          "name": "stderr",
          "text": [
            "\r 80%|████████  | 803/1000 [17:38<04:02,  1.23s/it]"
          ]
        },
        {
          "output_type": "stream",
          "name": "stdout",
          "text": [
            "\n",
            "Start of epoch 803\n",
            "Training loss: 0.0000\n",
            "Training metric: 0.9842\n",
            "perturbation loss: 0.0001\n"
          ]
        },
        {
          "output_type": "stream",
          "name": "stderr",
          "text": [
            "\r 80%|████████  | 804/1000 [17:39<04:00,  1.23s/it]"
          ]
        },
        {
          "output_type": "stream",
          "name": "stdout",
          "text": [
            "Validation acc: 0.9867\n",
            "Validation F1: 0.9868\n",
            "\n",
            "Start of epoch 804\n",
            "Training loss: 0.0000\n",
            "Training metric: 0.9843\n",
            "perturbation loss: 0.0000\n",
            "Validation acc: 0.9933\n",
            "Validation F1: 0.9933\n"
          ]
        },
        {
          "output_type": "stream",
          "name": "stderr",
          "text": [
            "\r 80%|████████  | 805/1000 [17:40<03:57,  1.22s/it]"
          ]
        },
        {
          "output_type": "stream",
          "name": "stdout",
          "text": [
            "\n",
            "Start of epoch 805\n",
            "Training loss: 0.0000\n",
            "Training metric: 0.9843\n",
            "perturbation loss: 0.0000\n"
          ]
        },
        {
          "output_type": "stream",
          "name": "stderr",
          "text": [
            "\r 81%|████████  | 806/1000 [17:41<04:13,  1.31s/it]"
          ]
        },
        {
          "output_type": "stream",
          "name": "stdout",
          "text": [
            "Validation acc: 0.9933\n",
            "Validation F1: 0.9933\n",
            "\n",
            "Start of epoch 806\n",
            "Training loss: 0.0000\n",
            "Training metric: 0.9843\n",
            "perturbation loss: 0.0000\n"
          ]
        },
        {
          "output_type": "stream",
          "name": "stderr",
          "text": [
            "\r 81%|████████  | 807/1000 [17:43<04:26,  1.38s/it]"
          ]
        },
        {
          "output_type": "stream",
          "name": "stdout",
          "text": [
            "Validation acc: 0.9867\n",
            "Validation F1: 0.9867\n",
            "\n",
            "Start of epoch 807\n",
            "Training loss: 0.0000\n",
            "Training metric: 0.9843\n",
            "perturbation loss: 0.0001\n",
            "Validation acc: 0.9867\n",
            "Validation F1: 0.9868\n"
          ]
        },
        {
          "output_type": "stream",
          "name": "stderr",
          "text": [
            "\r 81%|████████  | 808/1000 [17:44<04:27,  1.39s/it]"
          ]
        },
        {
          "output_type": "stream",
          "name": "stdout",
          "text": [
            "\n",
            "Start of epoch 808\n",
            "Training loss: 0.0000\n",
            "Training metric: 0.9843\n",
            "perturbation loss: 0.0006\n"
          ]
        },
        {
          "output_type": "stream",
          "name": "stderr",
          "text": [
            "\r 81%|████████  | 809/1000 [17:46<04:15,  1.34s/it]"
          ]
        },
        {
          "output_type": "stream",
          "name": "stdout",
          "text": [
            "Validation acc: 0.9867\n",
            "Validation F1: 0.9868\n",
            "\n",
            "Start of epoch 809\n",
            "Training loss: 0.0000\n",
            "Training metric: 0.9844\n",
            "perturbation loss: 0.0000\n",
            "Validation acc: 0.9867\n"
          ]
        },
        {
          "output_type": "stream",
          "name": "stderr",
          "text": [
            "\r 81%|████████  | 810/1000 [17:47<04:06,  1.30s/it]"
          ]
        },
        {
          "output_type": "stream",
          "name": "stdout",
          "text": [
            "Validation F1: 0.9868\n",
            "\n",
            "Start of epoch 810\n",
            "Training loss: 0.0000\n",
            "Training metric: 0.9844\n",
            "perturbation loss: 0.0001\n",
            "Validation acc: 0.9867\n",
            "Validation F1: 0.9868\n"
          ]
        },
        {
          "output_type": "stream",
          "name": "stderr",
          "text": [
            "\r 81%|████████  | 811/1000 [17:48<03:58,  1.26s/it]"
          ]
        },
        {
          "output_type": "stream",
          "name": "stdout",
          "text": [
            "\n",
            "Start of epoch 811\n",
            "Training loss: 0.0000\n",
            "Training metric: 0.9844\n",
            "perturbation loss: 0.0000\n",
            "Validation acc: 0.9933\n",
            "Validation F1: 0.9933\n"
          ]
        },
        {
          "output_type": "stream",
          "name": "stderr",
          "text": [
            "\r 81%|████████  | 812/1000 [17:49<03:55,  1.25s/it]"
          ]
        },
        {
          "output_type": "stream",
          "name": "stdout",
          "text": [
            "\n",
            "Start of epoch 812\n",
            "Training loss: 0.0000\n",
            "Training metric: 0.9844\n",
            "perturbation loss: 0.0000\n",
            "Validation acc: 0.9933\n",
            "Validation F1: 0.9933\n"
          ]
        },
        {
          "output_type": "stream",
          "name": "stderr",
          "text": [
            "\r 81%|████████▏ | 813/1000 [17:50<03:49,  1.23s/it]"
          ]
        },
        {
          "output_type": "stream",
          "name": "stdout",
          "text": [
            "\n",
            "Start of epoch 813\n",
            "Training loss: 0.0000\n",
            "Training metric: 0.9844\n",
            "perturbation loss: 0.0000\n",
            "Validation acc: 0.9867\n",
            "Validation F1: 0.9867\n"
          ]
        },
        {
          "output_type": "stream",
          "name": "stderr",
          "text": [
            "\r 81%|████████▏ | 814/1000 [17:52<03:46,  1.22s/it]"
          ]
        },
        {
          "output_type": "stream",
          "name": "stdout",
          "text": [
            "\n",
            "Start of epoch 814\n",
            "Training loss: 0.0000\n",
            "Training metric: 0.9845\n",
            "perturbation loss: 0.0002\n"
          ]
        },
        {
          "output_type": "stream",
          "name": "stderr",
          "text": [
            "\r 82%|████████▏ | 815/1000 [17:53<03:50,  1.25s/it]"
          ]
        },
        {
          "output_type": "stream",
          "name": "stdout",
          "text": [
            "Validation acc: 0.9867\n",
            "Validation F1: 0.9867\n",
            "\n",
            "Start of epoch 815\n",
            "Training loss: 0.0000\n",
            "Training metric: 0.9845\n",
            "perturbation loss: 0.0000\n"
          ]
        },
        {
          "output_type": "stream",
          "name": "stderr",
          "text": [
            "\r 82%|████████▏ | 816/1000 [17:54<03:51,  1.26s/it]"
          ]
        },
        {
          "output_type": "stream",
          "name": "stdout",
          "text": [
            "Validation acc: 0.9933\n",
            "Validation F1: 0.9933\n",
            "\n",
            "Start of epoch 816\n",
            "Training loss: 0.0000\n",
            "Training metric: 0.9845\n",
            "perturbation loss: 0.0000\n"
          ]
        },
        {
          "output_type": "stream",
          "name": "stderr",
          "text": [
            "\r 82%|████████▏ | 817/1000 [17:56<04:09,  1.37s/it]"
          ]
        },
        {
          "output_type": "stream",
          "name": "stdout",
          "text": [
            "Validation acc: 0.9867\n",
            "Validation F1: 0.9868\n",
            "\n",
            "Start of epoch 817\n",
            "Training loss: 0.0000\n",
            "Training metric: 0.9845\n",
            "perturbation loss: 0.0002\n"
          ]
        },
        {
          "output_type": "stream",
          "name": "stderr",
          "text": [
            "\r 82%|████████▏ | 818/1000 [17:58<04:24,  1.45s/it]"
          ]
        },
        {
          "output_type": "stream",
          "name": "stdout",
          "text": [
            "Validation acc: 0.9933\n",
            "Validation F1: 0.9933\n",
            "\n",
            "Start of epoch 818\n",
            "Training loss: 0.0000\n",
            "Training metric: 0.9845\n",
            "perturbation loss: 0.0000\n",
            "Validation acc: 0.9933\n",
            "Validation F1: 0.9933\n"
          ]
        },
        {
          "output_type": "stream",
          "name": "stderr",
          "text": [
            "\r 82%|████████▏ | 819/1000 [17:59<04:14,  1.40s/it]"
          ]
        },
        {
          "output_type": "stream",
          "name": "stdout",
          "text": [
            "\n",
            "Start of epoch 819\n",
            "Training loss: 0.0000\n",
            "Training metric: 0.9845\n",
            "perturbation loss: 0.0000\n",
            "Validation acc: 0.9933\n",
            "Validation F1: 0.9933\n"
          ]
        },
        {
          "output_type": "stream",
          "name": "stderr",
          "text": [
            "\r 82%|████████▏ | 820/1000 [18:00<04:01,  1.34s/it]"
          ]
        },
        {
          "output_type": "stream",
          "name": "stdout",
          "text": [
            "\n",
            "Start of epoch 820\n",
            "Training loss: 0.0000\n",
            "Training metric: 0.9846\n",
            "perturbation loss: 0.0000\n",
            "Validation acc: 0.9867\n",
            "Validation F1: 0.9865\n"
          ]
        },
        {
          "output_type": "stream",
          "name": "stderr",
          "text": [
            "\r 82%|████████▏ | 821/1000 [18:01<03:51,  1.29s/it]"
          ]
        },
        {
          "output_type": "stream",
          "name": "stdout",
          "text": [
            "\n",
            "Start of epoch 821\n",
            "Training loss: 0.0000\n",
            "Training metric: 0.9846\n",
            "perturbation loss: 0.0002\n",
            "Validation acc: 0.9933\n",
            "Validation F1: 0.9933\n"
          ]
        },
        {
          "output_type": "stream",
          "name": "stderr",
          "text": [
            "\r 82%|████████▏ | 822/1000 [18:02<03:44,  1.26s/it]"
          ]
        },
        {
          "output_type": "stream",
          "name": "stdout",
          "text": [
            "\n",
            "Start of epoch 822\n",
            "Training loss: 0.0000\n",
            "Training metric: 0.9846\n",
            "perturbation loss: 0.0000\n",
            "Validation acc: 0.9867\n",
            "Validation F1: 0.9868\n"
          ]
        },
        {
          "output_type": "stream",
          "name": "stderr",
          "text": [
            "\r 82%|████████▏ | 823/1000 [18:04<03:39,  1.24s/it]"
          ]
        },
        {
          "output_type": "stream",
          "name": "stdout",
          "text": [
            "\n",
            "Start of epoch 823\n",
            "Training loss: 0.0000\n",
            "Training metric: 0.9846\n",
            "perturbation loss: 0.0000\n"
          ]
        },
        {
          "output_type": "stream",
          "name": "stderr",
          "text": [
            "\r 82%|████████▏ | 824/1000 [18:05<03:41,  1.26s/it]"
          ]
        },
        {
          "output_type": "stream",
          "name": "stdout",
          "text": [
            "Validation acc: 0.9933\n",
            "Validation F1: 0.9933\n",
            "\n",
            "Start of epoch 824\n",
            "Training loss: 0.0000\n",
            "Training metric: 0.9846\n",
            "perturbation loss: 0.0002\n",
            "Validation acc: 0.9733\n",
            "Validation F1: 0.9732\n"
          ]
        },
        {
          "output_type": "stream",
          "name": "stderr",
          "text": [
            "\r 82%|████████▎ | 825/1000 [18:06<03:36,  1.24s/it]"
          ]
        },
        {
          "output_type": "stream",
          "name": "stdout",
          "text": [
            "\n",
            "Start of epoch 825\n",
            "Training loss: 0.0000\n",
            "Training metric: 0.9847\n",
            "perturbation loss: 0.0000\n",
            "Validation acc: 0.9867\n",
            "Validation F1: 0.9868\n"
          ]
        },
        {
          "output_type": "stream",
          "name": "stderr",
          "text": [
            "\r 83%|████████▎ | 826/1000 [18:07<03:32,  1.22s/it]"
          ]
        },
        {
          "output_type": "stream",
          "name": "stdout",
          "text": [
            "\n",
            "Start of epoch 826\n",
            "Training loss: 0.0000\n",
            "Training metric: 0.9847\n",
            "perturbation loss: 0.0000\n"
          ]
        },
        {
          "output_type": "stream",
          "name": "stderr",
          "text": [
            "\r 83%|████████▎ | 827/1000 [18:09<03:36,  1.25s/it]"
          ]
        },
        {
          "output_type": "stream",
          "name": "stdout",
          "text": [
            "Validation acc: 0.9867\n",
            "Validation F1: 0.9868\n",
            "\n",
            "Start of epoch 827\n",
            "Training loss: 0.0000\n",
            "Training metric: 0.9847\n",
            "perturbation loss: 0.0000\n"
          ]
        },
        {
          "output_type": "stream",
          "name": "stderr",
          "text": [
            "\r 83%|████████▎ | 828/1000 [18:10<03:54,  1.36s/it]"
          ]
        },
        {
          "output_type": "stream",
          "name": "stdout",
          "text": [
            "Validation acc: 0.9933\n",
            "Validation F1: 0.9933\n",
            "\n",
            "Start of epoch 828\n",
            "Training loss: 0.0000\n",
            "Training metric: 0.9847\n",
            "perturbation loss: 0.0000\n"
          ]
        },
        {
          "output_type": "stream",
          "name": "stderr",
          "text": [
            "\r 83%|████████▎ | 829/1000 [18:12<04:04,  1.43s/it]"
          ]
        },
        {
          "output_type": "stream",
          "name": "stdout",
          "text": [
            "Validation acc: 0.9933\n",
            "Validation F1: 0.9933\n",
            "\n",
            "Start of epoch 829\n",
            "Training loss: 0.0000\n",
            "Training metric: 0.9847\n",
            "perturbation loss: 0.0000\n",
            "Validation acc: 0.9933\n"
          ]
        },
        {
          "output_type": "stream",
          "name": "stderr",
          "text": [
            "\r 83%|████████▎ | 830/1000 [18:13<03:51,  1.36s/it]"
          ]
        },
        {
          "output_type": "stream",
          "name": "stdout",
          "text": [
            "Validation F1: 0.9933\n",
            "\n",
            "Start of epoch 830\n",
            "Training loss: 0.0000\n",
            "Training metric: 0.9848\n",
            "perturbation loss: 0.0001\n",
            "Validation acc: 0.9800\n",
            "Validation F1: 0.9802\n"
          ]
        },
        {
          "output_type": "stream",
          "name": "stderr",
          "text": [
            "\r 83%|████████▎ | 831/1000 [18:14<03:41,  1.31s/it]"
          ]
        },
        {
          "output_type": "stream",
          "name": "stdout",
          "text": [
            "\n",
            "Start of epoch 831\n",
            "Training loss: 0.0000\n",
            "Training metric: 0.9848\n",
            "perturbation loss: 0.0000\n",
            "Validation acc: 0.9867\n",
            "Validation F1: 0.9868\n"
          ]
        },
        {
          "output_type": "stream",
          "name": "stderr",
          "text": [
            "\r 83%|████████▎ | 832/1000 [18:15<03:34,  1.28s/it]"
          ]
        },
        {
          "output_type": "stream",
          "name": "stdout",
          "text": [
            "\n",
            "Start of epoch 832\n",
            "Training loss: 0.0000\n",
            "Training metric: 0.9848\n",
            "perturbation loss: 0.0004\n",
            "Validation acc: 0.9600\n",
            "Validation F1: 0.9585\n"
          ]
        },
        {
          "output_type": "stream",
          "name": "stderr",
          "text": [
            "\r 83%|████████▎ | 833/1000 [18:17<03:28,  1.25s/it]"
          ]
        },
        {
          "output_type": "stream",
          "name": "stdout",
          "text": [
            "\n",
            "Start of epoch 833\n",
            "Training loss: 0.0002\n",
            "Training metric: 0.9848\n",
            "perturbation loss: 0.0101\n",
            "Validation acc: 0.9933\n",
            "Validation F1: 0.9933\n"
          ]
        },
        {
          "output_type": "stream",
          "name": "stderr",
          "text": [
            "\r 83%|████████▎ | 834/1000 [18:18<03:26,  1.24s/it]"
          ]
        },
        {
          "output_type": "stream",
          "name": "stdout",
          "text": [
            "\n",
            "Start of epoch 834\n",
            "Training loss: 0.0000\n",
            "Training metric: 0.9848\n",
            "perturbation loss: 0.0012\n",
            "Validation acc: 0.9800\n",
            "Validation F1: 0.9800\n"
          ]
        },
        {
          "output_type": "stream",
          "name": "stderr",
          "text": [
            "\r 84%|████████▎ | 835/1000 [18:19<03:22,  1.23s/it]"
          ]
        },
        {
          "output_type": "stream",
          "name": "stdout",
          "text": [
            "\n",
            "Start of epoch 835\n",
            "Training loss: 0.0512\n",
            "Training metric: 0.9848\n",
            "perturbation loss: 2.5589\n"
          ]
        },
        {
          "output_type": "stream",
          "name": "stderr",
          "text": [
            "\r 84%|████████▎ | 836/1000 [18:20<03:19,  1.22s/it]"
          ]
        },
        {
          "output_type": "stream",
          "name": "stdout",
          "text": [
            "Validation acc: 0.9600\n",
            "Validation F1: 0.9603\n",
            "\n",
            "Start of epoch 836\n",
            "Training loss: 0.0002\n",
            "Training metric: 0.9849\n",
            "perturbation loss: 0.0008\n",
            "Validation acc: 0.9733\n",
            "Validation F1: 0.9727\n"
          ]
        },
        {
          "output_type": "stream",
          "name": "stderr",
          "text": [
            "\r 84%|████████▎ | 837/1000 [18:21<03:16,  1.21s/it]"
          ]
        },
        {
          "output_type": "stream",
          "name": "stdout",
          "text": [
            "\n",
            "Start of epoch 837\n",
            "Training loss: 0.0000\n",
            "Training metric: 0.9849\n",
            "perturbation loss: 0.0002\n"
          ]
        },
        {
          "output_type": "stream",
          "name": "stderr",
          "text": [
            "\r 84%|████████▍ | 838/1000 [18:23<03:27,  1.28s/it]"
          ]
        },
        {
          "output_type": "stream",
          "name": "stdout",
          "text": [
            "Validation acc: 0.9800\n",
            "Validation F1: 0.9800\n",
            "\n",
            "Start of epoch 838\n",
            "Training loss: 0.0000\n",
            "Training metric: 0.9849\n",
            "perturbation loss: 0.0008\n"
          ]
        },
        {
          "output_type": "stream",
          "name": "stderr",
          "text": [
            "\r 84%|████████▍ | 839/1000 [18:24<03:42,  1.38s/it]"
          ]
        },
        {
          "output_type": "stream",
          "name": "stdout",
          "text": [
            "Validation acc: 0.9933\n",
            "Validation F1: 0.9933\n",
            "\n",
            "Start of epoch 839\n",
            "Training loss: 0.0000\n",
            "Training metric: 0.9849\n",
            "perturbation loss: 0.0001\n"
          ]
        },
        {
          "output_type": "stream",
          "name": "stderr",
          "text": [
            "\r 84%|████████▍ | 840/1000 [18:26<03:45,  1.41s/it]"
          ]
        },
        {
          "output_type": "stream",
          "name": "stdout",
          "text": [
            "Validation acc: 0.9867\n",
            "Validation F1: 0.9868\n",
            "\n",
            "Start of epoch 840\n",
            "Training loss: 0.0000\n",
            "Training metric: 0.9849\n",
            "perturbation loss: 0.0005\n",
            "Validation acc: 0.9933\n",
            "Validation F1: 0.9933\n"
          ]
        },
        {
          "output_type": "stream",
          "name": "stderr",
          "text": [
            "\r 84%|████████▍ | 841/1000 [18:27<03:33,  1.34s/it]"
          ]
        },
        {
          "output_type": "stream",
          "name": "stdout",
          "text": [
            "\n",
            "Start of epoch 841\n",
            "Training loss: 0.0000\n",
            "Training metric: 0.9850\n",
            "perturbation loss: 0.0003\n",
            "Validation acc: 0.9933\n",
            "Validation F1: 0.9933\n"
          ]
        },
        {
          "output_type": "stream",
          "name": "stderr",
          "text": [
            "\r 84%|████████▍ | 842/1000 [18:28<03:24,  1.30s/it]"
          ]
        },
        {
          "output_type": "stream",
          "name": "stdout",
          "text": [
            "\n",
            "Start of epoch 842\n",
            "Training loss: 0.0000\n",
            "Training metric: 0.9850\n",
            "perturbation loss: 0.0007\n",
            "Validation acc: 0.9867\n",
            "Validation F1: 0.9868\n"
          ]
        },
        {
          "output_type": "stream",
          "name": "stderr",
          "text": [
            "\r 84%|████████▍ | 843/1000 [18:29<03:18,  1.27s/it]"
          ]
        },
        {
          "output_type": "stream",
          "name": "stdout",
          "text": [
            "\n",
            "Start of epoch 843\n",
            "Training loss: 0.0000\n",
            "Training metric: 0.9850\n",
            "perturbation loss: 0.0010\n",
            "Validation acc: 0.9867\n",
            "Validation F1: 0.9868\n"
          ]
        },
        {
          "output_type": "stream",
          "name": "stderr",
          "text": [
            "\r 84%|████████▍ | 844/1000 [18:31<03:14,  1.24s/it]"
          ]
        },
        {
          "output_type": "stream",
          "name": "stdout",
          "text": [
            "\n",
            "Start of epoch 844\n",
            "Training loss: 0.0000\n",
            "Training metric: 0.9850\n",
            "perturbation loss: 0.0002\n",
            "Validation acc: 0.9867\n",
            "Validation F1: 0.9868\n"
          ]
        },
        {
          "output_type": "stream",
          "name": "stderr",
          "text": [
            "\r 84%|████████▍ | 845/1000 [18:32<03:10,  1.23s/it]"
          ]
        },
        {
          "output_type": "stream",
          "name": "stdout",
          "text": [
            "\n",
            "Start of epoch 845\n",
            "Training loss: 0.0000\n",
            "Training metric: 0.9850\n",
            "perturbation loss: 0.0000\n"
          ]
        },
        {
          "output_type": "stream",
          "name": "stderr",
          "text": [
            "\r 85%|████████▍ | 846/1000 [18:33<03:13,  1.25s/it]"
          ]
        },
        {
          "output_type": "stream",
          "name": "stdout",
          "text": [
            "Validation acc: 0.9933\n",
            "Validation F1: 0.9933\n",
            "\n",
            "Start of epoch 846\n",
            "Training loss: 0.0001\n",
            "Training metric: 0.9850\n",
            "perturbation loss: 0.0030\n",
            "Validation acc: 0.9867\n",
            "Validation F1: 0.9868\n"
          ]
        },
        {
          "output_type": "stream",
          "name": "stderr",
          "text": [
            "\r 85%|████████▍ | 847/1000 [18:34<03:09,  1.24s/it]"
          ]
        },
        {
          "output_type": "stream",
          "name": "stdout",
          "text": [
            "\n",
            "Start of epoch 847\n",
            "Training loss: 0.0000\n",
            "Training metric: 0.9851\n",
            "perturbation loss: 0.0007\n",
            "Validation acc: 0.9933\n",
            "Validation F1: 0.9933\n"
          ]
        },
        {
          "output_type": "stream",
          "name": "stderr",
          "text": [
            "\r 85%|████████▍ | 848/1000 [18:36<03:05,  1.22s/it]"
          ]
        },
        {
          "output_type": "stream",
          "name": "stdout",
          "text": [
            "\n",
            "Start of epoch 848\n",
            "Training loss: 0.0000\n",
            "Training metric: 0.9851\n",
            "perturbation loss: 0.0000\n"
          ]
        },
        {
          "output_type": "stream",
          "name": "stderr",
          "text": [
            "\r 85%|████████▍ | 849/1000 [18:37<03:19,  1.32s/it]"
          ]
        },
        {
          "output_type": "stream",
          "name": "stdout",
          "text": [
            "Validation acc: 0.9867\n",
            "Validation F1: 0.9868\n",
            "\n",
            "Start of epoch 849\n",
            "Training loss: 0.0000\n",
            "Training metric: 0.9851\n",
            "perturbation loss: 0.0000\n"
          ]
        },
        {
          "output_type": "stream",
          "name": "stderr",
          "text": [
            "\r 85%|████████▌ | 850/1000 [18:39<03:29,  1.39s/it]"
          ]
        },
        {
          "output_type": "stream",
          "name": "stdout",
          "text": [
            "Validation acc: 0.9933\n",
            "Validation F1: 0.9933\n",
            "\n",
            "Start of epoch 850\n",
            "Training loss: 0.0000\n",
            "Training metric: 0.9851\n",
            "perturbation loss: 0.0002\n",
            "Validation acc: 0.9867\n",
            "Validation F1: 0.9868\n"
          ]
        },
        {
          "output_type": "stream",
          "name": "stderr",
          "text": [
            "\r 85%|████████▌ | 851/1000 [18:40<03:29,  1.41s/it]"
          ]
        },
        {
          "output_type": "stream",
          "name": "stdout",
          "text": [
            "\n",
            "Start of epoch 851\n",
            "Training loss: 0.0000\n",
            "Training metric: 0.9851\n",
            "perturbation loss: 0.0000\n",
            "Validation acc: 0.9933\n",
            "Validation F1: 0.9933\n"
          ]
        },
        {
          "output_type": "stream",
          "name": "stderr",
          "text": [
            "\r 85%|████████▌ | 852/1000 [18:41<03:17,  1.34s/it]"
          ]
        },
        {
          "output_type": "stream",
          "name": "stdout",
          "text": [
            "\n",
            "Start of epoch 852\n",
            "Training loss: 0.0000\n",
            "Training metric: 0.9851\n",
            "perturbation loss: 0.0000\n",
            "Validation acc: 0.9867\n",
            "Validation F1: 0.9868\n"
          ]
        },
        {
          "output_type": "stream",
          "name": "stderr",
          "text": [
            "\r 85%|████████▌ | 853/1000 [18:42<03:09,  1.29s/it]"
          ]
        },
        {
          "output_type": "stream",
          "name": "stdout",
          "text": [
            "\n",
            "Start of epoch 853\n",
            "Training loss: 0.0000\n",
            "Training metric: 0.9852\n",
            "perturbation loss: 0.0002\n"
          ]
        },
        {
          "output_type": "stream",
          "name": "stderr",
          "text": [
            "\r 85%|████████▌ | 854/1000 [18:44<03:04,  1.26s/it]"
          ]
        },
        {
          "output_type": "stream",
          "name": "stdout",
          "text": [
            "Validation acc: 0.9933\n",
            "Validation F1: 0.9933\n",
            "\n",
            "Start of epoch 854\n",
            "Training loss: 0.0000\n",
            "Training metric: 0.9852\n",
            "perturbation loss: 0.0000\n"
          ]
        },
        {
          "output_type": "stream",
          "name": "stderr",
          "text": [
            "\r 86%|████████▌ | 855/1000 [18:45<03:01,  1.25s/it]"
          ]
        },
        {
          "output_type": "stream",
          "name": "stdout",
          "text": [
            "Validation acc: 0.9867\n",
            "Validation F1: 0.9868\n",
            "\n",
            "Start of epoch 855\n",
            "Training loss: 0.0000\n",
            "Training metric: 0.9852\n",
            "perturbation loss: 0.0000\n",
            "Validation acc: 0.9867\n",
            "Validation F1: 0.9868\n"
          ]
        },
        {
          "output_type": "stream",
          "name": "stderr",
          "text": [
            "\r 86%|████████▌ | 856/1000 [18:46<02:57,  1.23s/it]"
          ]
        },
        {
          "output_type": "stream",
          "name": "stdout",
          "text": [
            "\n",
            "Start of epoch 856\n",
            "Training loss: 0.0000\n",
            "Training metric: 0.9852\n",
            "perturbation loss: 0.0000\n"
          ]
        },
        {
          "output_type": "stream",
          "name": "stderr",
          "text": [
            "\r 86%|████████▌ | 857/1000 [18:47<02:54,  1.22s/it]"
          ]
        },
        {
          "output_type": "stream",
          "name": "stdout",
          "text": [
            "Validation acc: 0.9867\n",
            "Validation F1: 0.9868\n",
            "\n",
            "Start of epoch 857\n",
            "Training loss: 0.0000\n",
            "Training metric: 0.9852\n",
            "perturbation loss: 0.0001\n",
            "Validation acc: 0.9867\n",
            "Validation F1: 0.9868\n"
          ]
        },
        {
          "output_type": "stream",
          "name": "stderr",
          "text": [
            "\r 86%|████████▌ | 858/1000 [18:48<02:50,  1.20s/it]"
          ]
        },
        {
          "output_type": "stream",
          "name": "stdout",
          "text": [
            "\n",
            "Start of epoch 858\n",
            "Training loss: 0.0000\n",
            "Training metric: 0.9853\n",
            "perturbation loss: 0.0001\n",
            "Validation acc: 0.9867\n",
            "Validation F1: 0.9868\n"
          ]
        },
        {
          "output_type": "stream",
          "name": "stderr",
          "text": [
            "\r 86%|████████▌ | 859/1000 [18:50<02:48,  1.20s/it]"
          ]
        },
        {
          "output_type": "stream",
          "name": "stdout",
          "text": [
            "\n",
            "Start of epoch 859\n",
            "Training loss: 0.0000\n",
            "Training metric: 0.9853\n",
            "perturbation loss: 0.0000\n"
          ]
        },
        {
          "output_type": "stream",
          "name": "stderr",
          "text": [
            "\r 86%|████████▌ | 860/1000 [18:51<03:02,  1.30s/it]"
          ]
        },
        {
          "output_type": "stream",
          "name": "stdout",
          "text": [
            "Validation acc: 0.9933\n",
            "Validation F1: 0.9933\n",
            "\n",
            "Start of epoch 860\n",
            "Training loss: 0.0000\n",
            "Training metric: 0.9853\n",
            "perturbation loss: 0.0000\n"
          ]
        },
        {
          "output_type": "stream",
          "name": "stderr",
          "text": [
            "\r 86%|████████▌ | 861/1000 [18:53<03:12,  1.38s/it]"
          ]
        },
        {
          "output_type": "stream",
          "name": "stdout",
          "text": [
            "Validation acc: 0.9867\n",
            "Validation F1: 0.9865\n",
            "\n",
            "Start of epoch 861\n",
            "Training loss: 0.0000\n",
            "Training metric: 0.9853\n",
            "perturbation loss: 0.0000\n",
            "Validation acc: 0.9800\n"
          ]
        },
        {
          "output_type": "stream",
          "name": "stderr",
          "text": [
            "\r 86%|████████▌ | 862/1000 [18:54<03:11,  1.39s/it]"
          ]
        },
        {
          "output_type": "stream",
          "name": "stdout",
          "text": [
            "Validation F1: 0.9797\n",
            "\n",
            "Start of epoch 862\n",
            "Training loss: 0.0000\n",
            "Training metric: 0.9853\n",
            "perturbation loss: 0.0000\n",
            "Validation acc: 0.9800\n",
            "Validation F1: 0.9800\n"
          ]
        },
        {
          "output_type": "stream",
          "name": "stderr",
          "text": [
            "\r 86%|████████▋ | 863/1000 [18:56<03:17,  1.44s/it]"
          ]
        },
        {
          "output_type": "stream",
          "name": "stdout",
          "text": [
            "\n",
            "Start of epoch 863\n",
            "Training loss: 0.0000\n",
            "Training metric: 0.9853\n",
            "perturbation loss: 0.0000\n",
            "Validation acc: 0.9867\n",
            "Validation F1: 0.9868\n"
          ]
        },
        {
          "output_type": "stream",
          "name": "stderr",
          "text": [
            "\r 86%|████████▋ | 864/1000 [18:57<03:05,  1.37s/it]"
          ]
        },
        {
          "output_type": "stream",
          "name": "stdout",
          "text": [
            "\n",
            "Start of epoch 864\n",
            "Training loss: 0.0000\n",
            "Training metric: 0.9854\n",
            "perturbation loss: 0.0001\n",
            "Validation acc: 0.9800\n",
            "Validation F1: 0.9800\n"
          ]
        },
        {
          "output_type": "stream",
          "name": "stderr",
          "text": [
            "\r 86%|████████▋ | 865/1000 [18:58<02:57,  1.31s/it]"
          ]
        },
        {
          "output_type": "stream",
          "name": "stdout",
          "text": [
            "\n",
            "Start of epoch 865\n",
            "Training loss: 0.0000\n",
            "Training metric: 0.9854\n",
            "perturbation loss: 0.0000\n",
            "Validation acc: 0.9800\n",
            "Validation F1: 0.9802\n"
          ]
        },
        {
          "output_type": "stream",
          "name": "stderr",
          "text": [
            "\r 87%|████████▋ | 866/1000 [18:59<02:51,  1.28s/it]"
          ]
        },
        {
          "output_type": "stream",
          "name": "stdout",
          "text": [
            "\n",
            "Start of epoch 866\n",
            "Training loss: 0.0000\n",
            "Training metric: 0.9854\n",
            "perturbation loss: 0.0000\n",
            "Validation acc: 0.9933\n",
            "Validation F1: 0.9933\n"
          ]
        },
        {
          "output_type": "stream",
          "name": "stderr",
          "text": [
            "\r 87%|████████▋ | 867/1000 [19:00<02:46,  1.25s/it]"
          ]
        },
        {
          "output_type": "stream",
          "name": "stdout",
          "text": [
            "\n",
            "Start of epoch 867\n",
            "Training loss: 0.0000\n",
            "Training metric: 0.9854\n",
            "perturbation loss: 0.0000\n",
            "Validation acc: 0.9933\n",
            "Validation F1: 0.9933\n"
          ]
        },
        {
          "output_type": "stream",
          "name": "stderr",
          "text": [
            "\r 87%|████████▋ | 868/1000 [19:02<02:42,  1.23s/it]"
          ]
        },
        {
          "output_type": "stream",
          "name": "stdout",
          "text": [
            "\n",
            "Start of epoch 868\n",
            "Training loss: 0.0000\n",
            "Training metric: 0.9854\n",
            "perturbation loss: 0.0002\n",
            "Validation acc: 0.9933\n",
            "Validation F1: 0.9933\n"
          ]
        },
        {
          "output_type": "stream",
          "name": "stderr",
          "text": [
            "\r 87%|████████▋ | 869/1000 [19:03<02:39,  1.22s/it]"
          ]
        },
        {
          "output_type": "stream",
          "name": "stdout",
          "text": [
            "\n",
            "Start of epoch 869\n",
            "Training loss: 0.0000\n",
            "Training metric: 0.9854\n",
            "perturbation loss: 0.0000\n"
          ]
        },
        {
          "output_type": "stream",
          "name": "stderr",
          "text": [
            "\r 87%|████████▋ | 870/1000 [19:04<02:42,  1.25s/it]"
          ]
        },
        {
          "output_type": "stream",
          "name": "stdout",
          "text": [
            "Validation acc: 0.9933\n",
            "Validation F1: 0.9933\n",
            "\n",
            "Start of epoch 870\n",
            "Training loss: 0.0000\n",
            "Training metric: 0.9855\n",
            "perturbation loss: 0.0000\n"
          ]
        },
        {
          "output_type": "stream",
          "name": "stderr",
          "text": [
            "\r 87%|████████▋ | 871/1000 [19:06<02:54,  1.35s/it]"
          ]
        },
        {
          "output_type": "stream",
          "name": "stdout",
          "text": [
            "Validation acc: 0.9933\n",
            "Validation F1: 0.9933\n",
            "\n",
            "Start of epoch 871\n",
            "Training loss: 0.0000\n",
            "Training metric: 0.9855\n",
            "perturbation loss: 0.0000\n"
          ]
        },
        {
          "output_type": "stream",
          "name": "stderr",
          "text": [
            "\r 87%|████████▋ | 872/1000 [19:07<03:02,  1.42s/it]"
          ]
        },
        {
          "output_type": "stream",
          "name": "stdout",
          "text": [
            "Validation acc: 0.9933\n",
            "Validation F1: 0.9933\n",
            "\n",
            "Start of epoch 872\n",
            "Training loss: 0.0000\n",
            "Training metric: 0.9855\n",
            "perturbation loss: 0.0000\n",
            "Validation acc: 0.9933\n",
            "Validation F1: 0.9933\n"
          ]
        },
        {
          "output_type": "stream",
          "name": "stderr",
          "text": [
            "\r 87%|████████▋ | 873/1000 [19:08<02:52,  1.36s/it]"
          ]
        },
        {
          "output_type": "stream",
          "name": "stdout",
          "text": [
            "\n",
            "Start of epoch 873\n",
            "Training loss: 0.0000\n",
            "Training metric: 0.9855\n",
            "perturbation loss: 0.0000\n",
            "Validation acc: 0.9867\n",
            "Validation F1: 0.9868\n"
          ]
        },
        {
          "output_type": "stream",
          "name": "stderr",
          "text": [
            "\r 87%|████████▋ | 874/1000 [19:10<02:44,  1.30s/it]"
          ]
        },
        {
          "output_type": "stream",
          "name": "stdout",
          "text": [
            "\n",
            "Start of epoch 874\n",
            "Training loss: 0.0000\n",
            "Training metric: 0.9855\n",
            "perturbation loss: 0.0000\n",
            "Validation acc: 0.9933\n",
            "Validation F1: 0.9933\n"
          ]
        },
        {
          "output_type": "stream",
          "name": "stderr",
          "text": [
            "\r 88%|████████▊ | 875/1000 [19:11<02:39,  1.27s/it]"
          ]
        },
        {
          "output_type": "stream",
          "name": "stdout",
          "text": [
            "\n",
            "Start of epoch 875\n",
            "Training loss: 0.0000\n",
            "Training metric: 0.9855\n",
            "perturbation loss: 0.0000\n",
            "Validation acc: 0.9933\n",
            "Validation F1: 0.9933\n"
          ]
        },
        {
          "output_type": "stream",
          "name": "stderr",
          "text": [
            "\r 88%|████████▊ | 876/1000 [19:12<02:35,  1.25s/it]"
          ]
        },
        {
          "output_type": "stream",
          "name": "stdout",
          "text": [
            "\n",
            "Start of epoch 876\n",
            "Training loss: 0.0000\n",
            "Training metric: 0.9856\n",
            "perturbation loss: 0.0000\n",
            "Validation acc: 0.9933\n",
            "Validation F1: 0.9933\n"
          ]
        },
        {
          "output_type": "stream",
          "name": "stderr",
          "text": [
            "\r 88%|████████▊ | 877/1000 [19:13<02:31,  1.23s/it]"
          ]
        },
        {
          "output_type": "stream",
          "name": "stdout",
          "text": [
            "\n",
            "Start of epoch 877\n",
            "Training loss: 0.0000\n",
            "Training metric: 0.9856\n",
            "perturbation loss: 0.0001\n",
            "Validation acc: 0.9867\n",
            "Validation F1: 0.9868\n"
          ]
        },
        {
          "output_type": "stream",
          "name": "stderr",
          "text": [
            "\r 88%|████████▊ | 878/1000 [19:14<02:29,  1.22s/it]"
          ]
        },
        {
          "output_type": "stream",
          "name": "stdout",
          "text": [
            "\n",
            "Start of epoch 878\n",
            "Training loss: 0.0000\n",
            "Training metric: 0.9856\n",
            "perturbation loss: 0.0001\n",
            "Validation acc: 0.9933\n",
            "Validation F1: 0.9933\n"
          ]
        },
        {
          "output_type": "stream",
          "name": "stderr",
          "text": [
            "\r 88%|████████▊ | 879/1000 [19:16<02:26,  1.21s/it]"
          ]
        },
        {
          "output_type": "stream",
          "name": "stdout",
          "text": [
            "\n",
            "Start of epoch 879\n",
            "Training loss: 0.0000\n",
            "Training metric: 0.9856\n",
            "perturbation loss: 0.0001\n",
            "Validation acc: 0.9867\n",
            "Validation F1: 0.9868\n"
          ]
        },
        {
          "output_type": "stream",
          "name": "stderr",
          "text": [
            "\r 88%|████████▊ | 880/1000 [19:17<02:24,  1.21s/it]"
          ]
        },
        {
          "output_type": "stream",
          "name": "stdout",
          "text": [
            "\n",
            "Start of epoch 880\n",
            "Training loss: 0.0000\n",
            "Training metric: 0.9856\n",
            "perturbation loss: 0.0000\n"
          ]
        },
        {
          "output_type": "stream",
          "name": "stderr",
          "text": [
            "\r 88%|████████▊ | 881/1000 [19:18<02:31,  1.27s/it]"
          ]
        },
        {
          "output_type": "stream",
          "name": "stdout",
          "text": [
            "Validation acc: 0.9933\n",
            "Validation F1: 0.9933\n",
            "\n",
            "Start of epoch 881\n",
            "Training loss: 0.0000\n",
            "Training metric: 0.9856\n",
            "perturbation loss: 0.0000\n"
          ]
        },
        {
          "output_type": "stream",
          "name": "stderr",
          "text": [
            "\r 88%|████████▊ | 882/1000 [19:20<02:41,  1.37s/it]"
          ]
        },
        {
          "output_type": "stream",
          "name": "stdout",
          "text": [
            "Validation acc: 0.9933\n",
            "Validation F1: 0.9933\n",
            "\n",
            "Start of epoch 882\n",
            "Training loss: 0.0000\n",
            "Training metric: 0.9857\n",
            "perturbation loss: 0.0000\n"
          ]
        },
        {
          "output_type": "stream",
          "name": "stderr",
          "text": [
            "\r 88%|████████▊ | 883/1000 [19:21<02:44,  1.41s/it]"
          ]
        },
        {
          "output_type": "stream",
          "name": "stdout",
          "text": [
            "Validation acc: 0.9800\n",
            "Validation F1: 0.9797\n",
            "\n",
            "Start of epoch 883\n",
            "Training loss: 0.0000\n",
            "Training metric: 0.9857\n",
            "perturbation loss: 0.0003\n",
            "Validation acc: 0.9800\n",
            "Validation F1: 0.9800\n"
          ]
        },
        {
          "output_type": "stream",
          "name": "stderr",
          "text": [
            "\r 88%|████████▊ | 884/1000 [19:23<02:34,  1.34s/it]"
          ]
        },
        {
          "output_type": "stream",
          "name": "stdout",
          "text": [
            "\n",
            "Start of epoch 884\n",
            "Training loss: 0.0000\n",
            "Training metric: 0.9857\n",
            "perturbation loss: 0.0001\n",
            "Validation acc: 0.9733\n",
            "Validation F1: 0.9732\n"
          ]
        },
        {
          "output_type": "stream",
          "name": "stderr",
          "text": [
            "\r 88%|████████▊ | 885/1000 [19:24<02:28,  1.30s/it]"
          ]
        },
        {
          "output_type": "stream",
          "name": "stdout",
          "text": [
            "\n",
            "Start of epoch 885\n",
            "Training loss: 0.0000\n",
            "Training metric: 0.9857\n",
            "perturbation loss: 0.0002\n",
            "Validation acc: 0.9867\n",
            "Validation F1: 0.9865\n"
          ]
        },
        {
          "output_type": "stream",
          "name": "stderr",
          "text": [
            "\r 89%|████████▊ | 886/1000 [19:25<02:24,  1.27s/it]"
          ]
        },
        {
          "output_type": "stream",
          "name": "stdout",
          "text": [
            "\n",
            "Start of epoch 886\n",
            "Training loss: 0.0000\n",
            "Training metric: 0.9857\n",
            "perturbation loss: 0.0000\n"
          ]
        },
        {
          "output_type": "stream",
          "name": "stderr",
          "text": [
            "\r 89%|████████▊ | 887/1000 [19:26<02:21,  1.25s/it]"
          ]
        },
        {
          "output_type": "stream",
          "name": "stdout",
          "text": [
            "Validation acc: 0.9867\n",
            "Validation F1: 0.9868\n",
            "\n",
            "Start of epoch 887\n",
            "Training loss: 0.0000\n",
            "Training metric: 0.9857\n",
            "perturbation loss: 0.0001\n",
            "Validation acc: 0.9867\n",
            "Validation F1: 0.9868\n"
          ]
        },
        {
          "output_type": "stream",
          "name": "stderr",
          "text": [
            "\r 89%|████████▉ | 888/1000 [19:27<02:18,  1.24s/it]"
          ]
        },
        {
          "output_type": "stream",
          "name": "stdout",
          "text": [
            "\n",
            "Start of epoch 888\n",
            "Training loss: 0.0000\n",
            "Training metric: 0.9857\n",
            "perturbation loss: 0.0000\n",
            "Validation acc: 0.9867\n",
            "Validation F1: 0.9868\n"
          ]
        },
        {
          "output_type": "stream",
          "name": "stderr",
          "text": [
            "\r 89%|████████▉ | 889/1000 [19:29<02:16,  1.23s/it]"
          ]
        },
        {
          "output_type": "stream",
          "name": "stdout",
          "text": [
            "\n",
            "Start of epoch 889\n",
            "Training loss: 0.0000\n",
            "Training metric: 0.9858\n",
            "perturbation loss: 0.0001\n"
          ]
        },
        {
          "output_type": "stream",
          "name": "stderr",
          "text": [
            "\r 89%|████████▉ | 890/1000 [19:30<02:15,  1.23s/it]"
          ]
        },
        {
          "output_type": "stream",
          "name": "stdout",
          "text": [
            "Validation acc: 0.9867\n",
            "Validation F1: 0.9868\n",
            "\n",
            "Start of epoch 890\n",
            "Training loss: 0.0000\n",
            "Training metric: 0.9858\n",
            "perturbation loss: 0.0000\n",
            "Validation acc: 0.9867\n",
            "Validation F1: 0.9868\n"
          ]
        },
        {
          "output_type": "stream",
          "name": "stderr",
          "text": [
            "\r 89%|████████▉ | 891/1000 [19:31<02:12,  1.22s/it]"
          ]
        },
        {
          "output_type": "stream",
          "name": "stdout",
          "text": [
            "\n",
            "Start of epoch 891\n",
            "Training loss: 0.0000\n",
            "Training metric: 0.9858\n",
            "perturbation loss: 0.0001\n"
          ]
        },
        {
          "output_type": "stream",
          "name": "stderr",
          "text": [
            "\r 89%|████████▉ | 892/1000 [19:32<02:19,  1.29s/it]"
          ]
        },
        {
          "output_type": "stream",
          "name": "stdout",
          "text": [
            "Validation acc: 0.9867\n",
            "Validation F1: 0.9868\n",
            "\n",
            "Start of epoch 892\n",
            "Training loss: 0.0000\n",
            "Training metric: 0.9858\n",
            "perturbation loss: 0.0000\n"
          ]
        },
        {
          "output_type": "stream",
          "name": "stderr",
          "text": [
            "\r 89%|████████▉ | 893/1000 [19:34<02:25,  1.36s/it]"
          ]
        },
        {
          "output_type": "stream",
          "name": "stdout",
          "text": [
            "Validation acc: 0.9867\n",
            "Validation F1: 0.9868\n",
            "\n",
            "Start of epoch 893\n",
            "Training loss: 0.0000\n",
            "Training metric: 0.9858\n",
            "perturbation loss: 0.0000\n",
            "Validation acc: 0.9867\n",
            "Validation F1: 0.9868\n"
          ]
        },
        {
          "output_type": "stream",
          "name": "stderr",
          "text": [
            "\r 89%|████████▉ | 894/1000 [19:35<02:26,  1.39s/it]"
          ]
        },
        {
          "output_type": "stream",
          "name": "stdout",
          "text": [
            "\n",
            "Start of epoch 894\n",
            "Training loss: 0.0000\n",
            "Training metric: 0.9858\n",
            "perturbation loss: 0.0001\n",
            "Validation acc: 0.9867\n",
            "Validation F1: 0.9868\n"
          ]
        },
        {
          "output_type": "stream",
          "name": "stderr",
          "text": [
            "\r 90%|████████▉ | 895/1000 [19:37<02:18,  1.32s/it]"
          ]
        },
        {
          "output_type": "stream",
          "name": "stdout",
          "text": [
            "\n",
            "Start of epoch 895\n",
            "Training loss: 0.0000\n",
            "Training metric: 0.9859\n",
            "perturbation loss: 0.0000\n",
            "Validation acc: 0.9867\n",
            "Validation F1: 0.9868\n"
          ]
        },
        {
          "output_type": "stream",
          "name": "stderr",
          "text": [
            "\r 90%|████████▉ | 896/1000 [19:38<02:13,  1.29s/it]"
          ]
        },
        {
          "output_type": "stream",
          "name": "stdout",
          "text": [
            "\n",
            "Start of epoch 896\n",
            "Training loss: 0.0000\n",
            "Training metric: 0.9859\n",
            "perturbation loss: 0.0000\n",
            "Validation acc: 0.9867\n",
            "Validation F1: 0.9868\n"
          ]
        },
        {
          "output_type": "stream",
          "name": "stderr",
          "text": [
            "\r 90%|████████▉ | 897/1000 [19:39<02:10,  1.26s/it]"
          ]
        },
        {
          "output_type": "stream",
          "name": "stdout",
          "text": [
            "\n",
            "Start of epoch 897\n",
            "Training loss: 0.0000\n",
            "Training metric: 0.9859\n",
            "perturbation loss: 0.0000\n",
            "Validation acc: 0.9867\n"
          ]
        },
        {
          "output_type": "stream",
          "name": "stderr",
          "text": [
            "\r 90%|████████▉ | 898/1000 [19:40<02:06,  1.24s/it]"
          ]
        },
        {
          "output_type": "stream",
          "name": "stdout",
          "text": [
            "Validation F1: 0.9868\n",
            "\n",
            "Start of epoch 898\n",
            "Training loss: 0.0000\n",
            "Training metric: 0.9859\n",
            "perturbation loss: 0.0000\n",
            "Validation acc: 0.9933\n",
            "Validation F1: 0.9933\n"
          ]
        },
        {
          "output_type": "stream",
          "name": "stderr",
          "text": [
            "\r 90%|████████▉ | 899/1000 [19:41<02:04,  1.23s/it]"
          ]
        },
        {
          "output_type": "stream",
          "name": "stdout",
          "text": [
            "\n",
            "Start of epoch 899\n",
            "Training loss: 0.0000\n",
            "Training metric: 0.9859\n",
            "perturbation loss: 0.0000\n",
            "Validation acc: 0.9933\n",
            "Validation F1: 0.9933\n"
          ]
        },
        {
          "output_type": "stream",
          "name": "stderr",
          "text": [
            "\r 90%|█████████ | 900/1000 [19:43<02:01,  1.21s/it]"
          ]
        },
        {
          "output_type": "stream",
          "name": "stdout",
          "text": [
            "\n",
            "Start of epoch 900\n",
            "Training loss: 0.0000\n",
            "Training metric: 0.9859\n",
            "perturbation loss: 0.0000\n",
            "Validation acc: 0.9867\n",
            "Validation F1: 0.9868\n"
          ]
        },
        {
          "output_type": "stream",
          "name": "stderr",
          "text": [
            "\r 90%|█████████ | 901/1000 [19:44<01:58,  1.20s/it]"
          ]
        },
        {
          "output_type": "stream",
          "name": "stdout",
          "text": [
            "\n",
            "Start of epoch 901\n",
            "Training loss: 0.0000\n",
            "Training metric: 0.9860\n",
            "perturbation loss: 0.0000\n",
            "Validation acc: 0.9933\n"
          ]
        },
        {
          "output_type": "stream",
          "name": "stderr",
          "text": [
            "\r 90%|█████████ | 902/1000 [19:45<01:58,  1.21s/it]"
          ]
        },
        {
          "output_type": "stream",
          "name": "stdout",
          "text": [
            "Validation F1: 0.9933\n",
            "\n",
            "Start of epoch 902\n",
            "Training loss: 0.0000\n",
            "Training metric: 0.9860\n",
            "perturbation loss: 0.0000\n"
          ]
        },
        {
          "output_type": "stream",
          "name": "stderr",
          "text": [
            "\r 90%|█████████ | 903/1000 [19:46<02:05,  1.29s/it]"
          ]
        },
        {
          "output_type": "stream",
          "name": "stdout",
          "text": [
            "Validation acc: 0.9867\n",
            "Validation F1: 0.9868\n",
            "\n",
            "Start of epoch 903\n",
            "Training loss: 0.0000\n",
            "Training metric: 0.9860\n",
            "perturbation loss: 0.0001\n"
          ]
        },
        {
          "output_type": "stream",
          "name": "stderr",
          "text": [
            "\r 90%|█████████ | 904/1000 [19:48<02:11,  1.37s/it]"
          ]
        },
        {
          "output_type": "stream",
          "name": "stdout",
          "text": [
            "Validation acc: 0.9867\n",
            "Validation F1: 0.9868\n",
            "\n",
            "Start of epoch 904\n",
            "Training loss: 0.0000\n",
            "Training metric: 0.9860\n",
            "perturbation loss: 0.0000\n",
            "Validation acc: 0.9867\n",
            "Validation F1: 0.9868\n"
          ]
        },
        {
          "output_type": "stream",
          "name": "stderr",
          "text": [
            "\r 90%|█████████ | 905/1000 [19:49<02:11,  1.38s/it]"
          ]
        },
        {
          "output_type": "stream",
          "name": "stdout",
          "text": [
            "\n",
            "Start of epoch 905\n",
            "Training loss: 0.0000\n",
            "Training metric: 0.9860\n",
            "perturbation loss: 0.0000\n",
            "Validation acc: 0.9867\n",
            "Validation F1: 0.9868\n"
          ]
        },
        {
          "output_type": "stream",
          "name": "stderr",
          "text": [
            "\r 91%|█████████ | 906/1000 [19:51<02:04,  1.33s/it]"
          ]
        },
        {
          "output_type": "stream",
          "name": "stdout",
          "text": [
            "\n",
            "Start of epoch 906\n",
            "Training loss: 0.0000\n",
            "Training metric: 0.9860\n",
            "perturbation loss: 0.0000\n",
            "Validation acc: 0.9733\n"
          ]
        },
        {
          "output_type": "stream",
          "name": "stderr",
          "text": [
            "\r 91%|█████████ | 907/1000 [19:52<01:59,  1.29s/it]"
          ]
        },
        {
          "output_type": "stream",
          "name": "stdout",
          "text": [
            "Validation F1: 0.9729\n",
            "\n",
            "Start of epoch 907\n",
            "Training loss: 0.0000\n",
            "Training metric: 0.9860\n",
            "perturbation loss: 0.0001\n",
            "Validation acc: 0.9800\n",
            "Validation F1: 0.9797\n"
          ]
        },
        {
          "output_type": "stream",
          "name": "stderr",
          "text": [
            "\r 91%|█████████ | 908/1000 [19:53<01:56,  1.26s/it]"
          ]
        },
        {
          "output_type": "stream",
          "name": "stdout",
          "text": [
            "\n",
            "Start of epoch 908\n",
            "Training loss: 0.0000\n",
            "Training metric: 0.9861\n",
            "perturbation loss: 0.0000\n",
            "Validation acc: 0.9933\n",
            "Validation F1: 0.9933\n"
          ]
        },
        {
          "output_type": "stream",
          "name": "stderr",
          "text": [
            "\r 91%|█████████ | 909/1000 [19:54<01:52,  1.24s/it]"
          ]
        },
        {
          "output_type": "stream",
          "name": "stdout",
          "text": [
            "\n",
            "Start of epoch 909\n",
            "Training loss: 0.0000\n",
            "Training metric: 0.9861\n",
            "perturbation loss: 0.0000\n",
            "Validation acc: 0.9933\n",
            "Validation F1: 0.9933\n"
          ]
        },
        {
          "output_type": "stream",
          "name": "stderr",
          "text": [
            "\r 91%|█████████ | 910/1000 [19:55<01:50,  1.22s/it]"
          ]
        },
        {
          "output_type": "stream",
          "name": "stdout",
          "text": [
            "\n",
            "Start of epoch 910\n",
            "Training loss: 0.0000\n",
            "Training metric: 0.9861\n",
            "perturbation loss: 0.0000\n",
            "Validation acc: 0.9933\n",
            "Validation F1: 0.9933\n"
          ]
        },
        {
          "output_type": "stream",
          "name": "stderr",
          "text": [
            "\r 91%|█████████ | 911/1000 [19:57<01:48,  1.22s/it]"
          ]
        },
        {
          "output_type": "stream",
          "name": "stdout",
          "text": [
            "\n",
            "Start of epoch 911\n",
            "Training loss: 0.0000\n",
            "Training metric: 0.9861\n",
            "perturbation loss: 0.0000\n",
            "Validation acc: 0.9933\n",
            "Validation F1: 0.9933\n"
          ]
        },
        {
          "output_type": "stream",
          "name": "stderr",
          "text": [
            "\r 91%|█████████ | 912/1000 [19:58<01:46,  1.21s/it]"
          ]
        },
        {
          "output_type": "stream",
          "name": "stdout",
          "text": [
            "\n",
            "Start of epoch 912\n",
            "Training loss: 0.0000\n",
            "Training metric: 0.9861\n",
            "perturbation loss: 0.0000\n"
          ]
        },
        {
          "output_type": "stream",
          "name": "stderr",
          "text": [
            "\r 91%|█████████▏| 913/1000 [19:59<01:48,  1.24s/it]"
          ]
        },
        {
          "output_type": "stream",
          "name": "stdout",
          "text": [
            "Validation acc: 0.9867\n",
            "Validation F1: 0.9868\n",
            "\n",
            "Start of epoch 913\n",
            "Training loss: 0.0000\n",
            "Training metric: 0.9861\n",
            "perturbation loss: 0.0000\n"
          ]
        },
        {
          "output_type": "stream",
          "name": "stderr",
          "text": [
            "\r 91%|█████████▏| 914/1000 [20:01<01:56,  1.36s/it]"
          ]
        },
        {
          "output_type": "stream",
          "name": "stdout",
          "text": [
            "Validation acc: 0.9867\n",
            "Validation F1: 0.9868\n",
            "\n",
            "Start of epoch 914\n",
            "Training loss: 0.0000\n",
            "Training metric: 0.9862\n",
            "perturbation loss: 0.0001\n"
          ]
        },
        {
          "output_type": "stream",
          "name": "stderr",
          "text": [
            "\r 92%|█████████▏| 915/1000 [20:02<02:00,  1.42s/it]"
          ]
        },
        {
          "output_type": "stream",
          "name": "stdout",
          "text": [
            "Validation acc: 0.9933\n",
            "Validation F1: 0.9933\n",
            "\n",
            "Start of epoch 915\n",
            "Training loss: 0.0000\n",
            "Training metric: 0.9862\n",
            "perturbation loss: 0.0001\n",
            "Validation acc: 0.9867\n"
          ]
        },
        {
          "output_type": "stream",
          "name": "stderr",
          "text": [
            "\r 92%|█████████▏| 916/1000 [20:04<01:56,  1.39s/it]"
          ]
        },
        {
          "output_type": "stream",
          "name": "stdout",
          "text": [
            "Validation F1: 0.9868\n",
            "\n",
            "Start of epoch 916\n",
            "Training loss: 0.0000\n",
            "Training metric: 0.9862\n",
            "perturbation loss: 0.0006\n",
            "Validation acc: 0.9933\n",
            "Validation F1: 0.9933\n"
          ]
        },
        {
          "output_type": "stream",
          "name": "stderr",
          "text": [
            "\r 92%|█████████▏| 917/1000 [20:05<01:50,  1.33s/it]"
          ]
        },
        {
          "output_type": "stream",
          "name": "stdout",
          "text": [
            "\n",
            "Start of epoch 917\n",
            "Training loss: 0.0000\n",
            "Training metric: 0.9862\n",
            "perturbation loss: 0.0001\n",
            "Validation acc: 0.9933\n",
            "Validation F1: 0.9933\n"
          ]
        },
        {
          "output_type": "stream",
          "name": "stderr",
          "text": [
            "\r 92%|█████████▏| 918/1000 [20:06<01:45,  1.29s/it]"
          ]
        },
        {
          "output_type": "stream",
          "name": "stdout",
          "text": [
            "\n",
            "Start of epoch 918\n",
            "Training loss: 0.0000\n",
            "Training metric: 0.9862\n",
            "perturbation loss: 0.0000\n",
            "Validation acc: 0.9933\n",
            "Validation F1: 0.9933\n"
          ]
        },
        {
          "output_type": "stream",
          "name": "stderr",
          "text": [
            "\r 92%|█████████▏| 919/1000 [20:07<01:41,  1.26s/it]"
          ]
        },
        {
          "output_type": "stream",
          "name": "stdout",
          "text": [
            "\n",
            "Start of epoch 919\n",
            "Training loss: 0.0000\n",
            "Training metric: 0.9862\n",
            "perturbation loss: 0.0000\n",
            "Validation acc: 0.9867\n",
            "Validation F1: 0.9867\n"
          ]
        },
        {
          "output_type": "stream",
          "name": "stderr",
          "text": [
            "\r 92%|█████████▏| 920/1000 [20:08<01:39,  1.24s/it]"
          ]
        },
        {
          "output_type": "stream",
          "name": "stdout",
          "text": [
            "\n",
            "Start of epoch 920\n",
            "Training loss: 0.0000\n",
            "Training metric: 0.9862\n",
            "perturbation loss: 0.0000\n",
            "Validation acc: 0.9933\n",
            "Validation F1: 0.9933\n"
          ]
        },
        {
          "output_type": "stream",
          "name": "stderr",
          "text": [
            "\r 92%|█████████▏| 921/1000 [20:10<01:36,  1.23s/it]"
          ]
        },
        {
          "output_type": "stream",
          "name": "stdout",
          "text": [
            "\n",
            "Start of epoch 921\n",
            "Training loss: 0.0000\n",
            "Training metric: 0.9863\n",
            "perturbation loss: 0.0000\n",
            "Validation acc: 0.9867\n",
            "Validation F1: 0.9868\n"
          ]
        },
        {
          "output_type": "stream",
          "name": "stderr",
          "text": [
            "\r 92%|█████████▏| 922/1000 [20:11<01:34,  1.22s/it]"
          ]
        },
        {
          "output_type": "stream",
          "name": "stdout",
          "text": [
            "\n",
            "Start of epoch 922\n",
            "Training loss: 0.0000\n",
            "Training metric: 0.9863\n",
            "perturbation loss: 0.0000\n",
            "Validation acc: 0.9933\n",
            "Validation F1: 0.9933\n"
          ]
        },
        {
          "output_type": "stream",
          "name": "stderr",
          "text": [
            "\r 92%|█████████▏| 923/1000 [20:12<01:33,  1.21s/it]"
          ]
        },
        {
          "output_type": "stream",
          "name": "stdout",
          "text": [
            "\n",
            "Start of epoch 923\n",
            "Training loss: 0.0000\n",
            "Training metric: 0.9863\n",
            "perturbation loss: 0.0000\n"
          ]
        },
        {
          "output_type": "stream",
          "name": "stderr",
          "text": [
            "\r 92%|█████████▏| 924/1000 [20:13<01:34,  1.25s/it]"
          ]
        },
        {
          "output_type": "stream",
          "name": "stdout",
          "text": [
            "Validation acc: 0.9933\n",
            "Validation F1: 0.9933\n",
            "\n",
            "Start of epoch 924\n",
            "Training loss: 0.0000\n",
            "Training metric: 0.9863\n",
            "perturbation loss: 0.0000\n"
          ]
        },
        {
          "output_type": "stream",
          "name": "stderr",
          "text": [
            "\r 92%|█████████▎| 925/1000 [20:15<01:40,  1.34s/it]"
          ]
        },
        {
          "output_type": "stream",
          "name": "stdout",
          "text": [
            "Validation acc: 0.9867\n",
            "Validation F1: 0.9868\n",
            "\n",
            "Start of epoch 925\n",
            "Training loss: 0.0000\n",
            "Training metric: 0.9863\n",
            "perturbation loss: 0.0000\n"
          ]
        },
        {
          "output_type": "stream",
          "name": "stderr",
          "text": [
            "\r 93%|█████████▎| 926/1000 [20:16<01:44,  1.42s/it]"
          ]
        },
        {
          "output_type": "stream",
          "name": "stdout",
          "text": [
            "Validation acc: 0.9800\n",
            "Validation F1: 0.9802\n",
            "\n",
            "Start of epoch 926\n",
            "Training loss: 0.0000\n",
            "Training metric: 0.9863\n",
            "perturbation loss: 0.0000\n",
            "Validation acc: 0.9800\n",
            "Validation F1: 0.9802\n"
          ]
        },
        {
          "output_type": "stream",
          "name": "stderr",
          "text": [
            "\r 93%|█████████▎| 927/1000 [20:18<01:39,  1.36s/it]"
          ]
        },
        {
          "output_type": "stream",
          "name": "stdout",
          "text": [
            "\n",
            "Start of epoch 927\n",
            "Training loss: 0.0000\n",
            "Training metric: 0.9863\n",
            "perturbation loss: 0.0000\n",
            "Validation acc: 0.9867\n",
            "Validation F1: 0.9868\n"
          ]
        },
        {
          "output_type": "stream",
          "name": "stderr",
          "text": [
            "\r 93%|█████████▎| 928/1000 [20:19<01:34,  1.31s/it]"
          ]
        },
        {
          "output_type": "stream",
          "name": "stdout",
          "text": [
            "\n",
            "Start of epoch 928\n",
            "Training loss: 0.0000\n",
            "Training metric: 0.9864\n",
            "perturbation loss: 0.0000\n"
          ]
        },
        {
          "output_type": "stream",
          "name": "stderr",
          "text": [
            "\r 93%|█████████▎| 929/1000 [20:20<01:30,  1.28s/it]"
          ]
        },
        {
          "output_type": "stream",
          "name": "stdout",
          "text": [
            "Validation acc: 0.9933\n",
            "Validation F1: 0.9933\n",
            "\n",
            "Start of epoch 929\n",
            "Training loss: 0.0000\n",
            "Training metric: 0.9864\n",
            "perturbation loss: 0.0001\n",
            "Validation acc: 0.9867\n",
            "Validation F1: 0.9868\n"
          ]
        },
        {
          "output_type": "stream",
          "name": "stderr",
          "text": [
            "\r 93%|█████████▎| 930/1000 [20:21<01:27,  1.25s/it]"
          ]
        },
        {
          "output_type": "stream",
          "name": "stdout",
          "text": [
            "\n",
            "Start of epoch 930\n",
            "Training loss: 0.0000\n",
            "Training metric: 0.9864\n",
            "perturbation loss: 0.0000\n"
          ]
        },
        {
          "output_type": "stream",
          "name": "stderr",
          "text": [
            "\r 93%|█████████▎| 931/1000 [20:22<01:25,  1.23s/it]"
          ]
        },
        {
          "output_type": "stream",
          "name": "stdout",
          "text": [
            "Validation acc: 0.9933\n",
            "Validation F1: 0.9933\n",
            "\n",
            "Start of epoch 931\n",
            "Training loss: 0.0000\n",
            "Training metric: 0.9864\n",
            "perturbation loss: 0.0000\n",
            "Validation acc: 0.9933\n"
          ]
        },
        {
          "output_type": "stream",
          "name": "stderr",
          "text": [
            "\r 93%|█████████▎| 932/1000 [20:24<01:22,  1.22s/it]"
          ]
        },
        {
          "output_type": "stream",
          "name": "stdout",
          "text": [
            "Validation F1: 0.9933\n",
            "\n",
            "Start of epoch 932\n",
            "Training loss: 0.0000\n",
            "Training metric: 0.9864\n",
            "perturbation loss: 0.0000\n",
            "Validation acc: 0.9933\n"
          ]
        },
        {
          "output_type": "stream",
          "name": "stderr",
          "text": [
            "\r 93%|█████████▎| 933/1000 [20:25<01:21,  1.21s/it]"
          ]
        },
        {
          "output_type": "stream",
          "name": "stdout",
          "text": [
            "Validation F1: 0.9933\n",
            "\n",
            "Start of epoch 933\n",
            "Training loss: 0.0000\n",
            "Training metric: 0.9864\n",
            "perturbation loss: 0.0000\n",
            "Validation acc: 0.9867\n",
            "Validation F1: 0.9868\n"
          ]
        },
        {
          "output_type": "stream",
          "name": "stderr",
          "text": [
            "\r 93%|█████████▎| 934/1000 [20:26<01:19,  1.20s/it]"
          ]
        },
        {
          "output_type": "stream",
          "name": "stdout",
          "text": [
            "\n",
            "Start of epoch 934\n",
            "Training loss: 0.0000\n",
            "Training metric: 0.9864\n",
            "perturbation loss: 0.0000\n"
          ]
        },
        {
          "output_type": "stream",
          "name": "stderr",
          "text": [
            "\r 94%|█████████▎| 935/1000 [20:27<01:20,  1.24s/it]"
          ]
        },
        {
          "output_type": "stream",
          "name": "stdout",
          "text": [
            "Validation acc: 0.9867\n",
            "Validation F1: 0.9868\n",
            "\n",
            "Start of epoch 935\n",
            "Training loss: 0.0000\n",
            "Training metric: 0.9865\n",
            "perturbation loss: 0.0000\n"
          ]
        },
        {
          "output_type": "stream",
          "name": "stderr",
          "text": [
            "\r 94%|█████████▎| 936/1000 [20:29<01:25,  1.34s/it]"
          ]
        },
        {
          "output_type": "stream",
          "name": "stdout",
          "text": [
            "Validation acc: 1.0000\n",
            "Validation F1: 1.0000\n",
            "\n",
            "Start of epoch 936\n",
            "Training loss: 0.0001\n",
            "Training metric: 0.9865\n",
            "perturbation loss: 0.0072\n"
          ]
        },
        {
          "output_type": "stream",
          "name": "stderr",
          "text": [
            "\r 94%|█████████▎| 937/1000 [20:31<01:28,  1.41s/it]"
          ]
        },
        {
          "output_type": "stream",
          "name": "stdout",
          "text": [
            "Validation acc: 0.9867\n",
            "Validation F1: 0.9867\n",
            "\n",
            "Start of epoch 937\n",
            "Training loss: 0.0030\n",
            "Training metric: 0.9865\n",
            "perturbation loss: 0.1418\n",
            "Validation acc: 0.9800\n",
            "Validation F1: 0.9800\n"
          ]
        },
        {
          "output_type": "stream",
          "name": "stderr",
          "text": [
            "\r 94%|█████████▍| 938/1000 [20:32<01:23,  1.35s/it]"
          ]
        },
        {
          "output_type": "stream",
          "name": "stdout",
          "text": [
            "\n",
            "Start of epoch 938\n",
            "Training loss: 0.0000\n",
            "Training metric: 0.9865\n",
            "perturbation loss: 0.0004\n"
          ]
        },
        {
          "output_type": "stream",
          "name": "stderr",
          "text": [
            "\r 94%|█████████▍| 939/1000 [20:33<01:21,  1.34s/it]"
          ]
        },
        {
          "output_type": "stream",
          "name": "stdout",
          "text": [
            "Validation acc: 0.9533\n",
            "Validation F1: 0.9534\n",
            "\n",
            "Start of epoch 939\n",
            "Training loss: 0.0046\n",
            "Training metric: 0.9865\n",
            "perturbation loss: 0.2308\n",
            "Validation acc: 0.9867\n",
            "Validation F1: 0.9867\n"
          ]
        },
        {
          "output_type": "stream",
          "name": "stderr",
          "text": [
            "\r 94%|█████████▍| 940/1000 [20:34<01:17,  1.30s/it]"
          ]
        },
        {
          "output_type": "stream",
          "name": "stdout",
          "text": [
            "\n",
            "Start of epoch 940\n",
            "Training loss: 0.0000\n",
            "Training metric: 0.9865\n",
            "perturbation loss: 0.0023\n",
            "Validation acc: 0.9867\n",
            "Validation F1: 0.9867\n"
          ]
        },
        {
          "output_type": "stream",
          "name": "stderr",
          "text": [
            "\r 94%|█████████▍| 941/1000 [20:35<01:14,  1.26s/it]"
          ]
        },
        {
          "output_type": "stream",
          "name": "stdout",
          "text": [
            "\n",
            "Start of epoch 941\n",
            "Training loss: 0.0000\n",
            "Training metric: 0.9865\n",
            "perturbation loss: 0.0002\n",
            "Validation acc: 0.9867\n",
            "Validation F1: 0.9868\n"
          ]
        },
        {
          "output_type": "stream",
          "name": "stderr",
          "text": [
            "\r 94%|█████████▍| 942/1000 [20:37<01:11,  1.24s/it]"
          ]
        },
        {
          "output_type": "stream",
          "name": "stdout",
          "text": [
            "\n",
            "Start of epoch 942\n",
            "Training loss: 0.0000\n",
            "Training metric: 0.9866\n",
            "perturbation loss: 0.0017\n",
            "Validation acc: 0.9733\n"
          ]
        },
        {
          "output_type": "stream",
          "name": "stderr",
          "text": [
            "\r 94%|█████████▍| 943/1000 [20:38<01:10,  1.23s/it]"
          ]
        },
        {
          "output_type": "stream",
          "name": "stdout",
          "text": [
            "Validation F1: 0.9735\n",
            "\n",
            "Start of epoch 943\n",
            "Training loss: 0.0000\n",
            "Training metric: 0.9866\n",
            "perturbation loss: 0.0021\n",
            "Validation acc: 0.9800\n",
            "Validation F1: 0.9802\n"
          ]
        },
        {
          "output_type": "stream",
          "name": "stderr",
          "text": [
            "\r 94%|█████████▍| 944/1000 [20:39<01:08,  1.22s/it]"
          ]
        },
        {
          "output_type": "stream",
          "name": "stdout",
          "text": [
            "\n",
            "Start of epoch 944\n",
            "Training loss: 0.0001\n",
            "Training metric: 0.9866\n",
            "perturbation loss: 0.0032\n",
            "Validation acc: 0.9800\n",
            "Validation F1: 0.9802\n"
          ]
        },
        {
          "output_type": "stream",
          "name": "stderr",
          "text": [
            "\r 94%|█████████▍| 945/1000 [20:40<01:06,  1.21s/it]"
          ]
        },
        {
          "output_type": "stream",
          "name": "stdout",
          "text": [
            "\n",
            "Start of epoch 945\n",
            "Training loss: 0.0001\n",
            "Training metric: 0.9866\n",
            "perturbation loss: 0.0059\n"
          ]
        },
        {
          "output_type": "stream",
          "name": "stderr",
          "text": [
            "\r 95%|█████████▍| 946/1000 [20:42<01:09,  1.29s/it]"
          ]
        },
        {
          "output_type": "stream",
          "name": "stdout",
          "text": [
            "Validation acc: 0.9800\n",
            "Validation F1: 0.9802\n",
            "\n",
            "Start of epoch 946\n",
            "Training loss: 0.0000\n",
            "Training metric: 0.9866\n",
            "perturbation loss: 0.0002\n"
          ]
        },
        {
          "output_type": "stream",
          "name": "stderr",
          "text": [
            "\r 95%|█████████▍| 947/1000 [20:43<01:12,  1.37s/it]"
          ]
        },
        {
          "output_type": "stream",
          "name": "stdout",
          "text": [
            "Validation acc: 0.9800\n",
            "Validation F1: 0.9802\n",
            "\n",
            "Start of epoch 947\n",
            "Training loss: 0.0000\n",
            "Training metric: 0.9866\n",
            "perturbation loss: 0.0019\n",
            "Validation acc: 0.9933\n",
            "Validation F1: 0.9933\n"
          ]
        },
        {
          "output_type": "stream",
          "name": "stderr",
          "text": [
            "\r 95%|█████████▍| 948/1000 [20:45<01:12,  1.39s/it]"
          ]
        },
        {
          "output_type": "stream",
          "name": "stdout",
          "text": [
            "\n",
            "Start of epoch 948\n",
            "Training loss: 0.0000\n",
            "Training metric: 0.9866\n",
            "perturbation loss: 0.0001\n",
            "Validation acc: 0.9733\n"
          ]
        },
        {
          "output_type": "stream",
          "name": "stderr",
          "text": [
            "\r 95%|█████████▍| 949/1000 [20:46<01:08,  1.33s/it]"
          ]
        },
        {
          "output_type": "stream",
          "name": "stdout",
          "text": [
            "Validation F1: 0.9737\n",
            "\n",
            "Start of epoch 949\n",
            "Training loss: 0.0000\n",
            "Training metric: 0.9867\n",
            "perturbation loss: 0.0000\n",
            "Validation acc: 0.9800\n",
            "Validation F1: 0.9802\n"
          ]
        },
        {
          "output_type": "stream",
          "name": "stderr",
          "text": [
            "\r 95%|█████████▌| 950/1000 [20:47<01:04,  1.29s/it]"
          ]
        },
        {
          "output_type": "stream",
          "name": "stdout",
          "text": [
            "\n",
            "Start of epoch 950\n",
            "Training loss: 0.0000\n",
            "Training metric: 0.9867\n",
            "perturbation loss: 0.0001\n",
            "Validation acc: 0.9800\n",
            "Validation F1: 0.9802\n"
          ]
        },
        {
          "output_type": "stream",
          "name": "stderr",
          "text": [
            "\r 95%|█████████▌| 951/1000 [20:48<01:02,  1.27s/it]"
          ]
        },
        {
          "output_type": "stream",
          "name": "stdout",
          "text": [
            "\n",
            "Start of epoch 951\n",
            "Training loss: 0.0000\n",
            "Training metric: 0.9867\n",
            "perturbation loss: 0.0000\n",
            "Validation acc: 0.9800\n",
            "Validation F1: 0.9802\n"
          ]
        },
        {
          "output_type": "stream",
          "name": "stderr",
          "text": [
            "\r 95%|█████████▌| 952/1000 [20:49<00:59,  1.24s/it]"
          ]
        },
        {
          "output_type": "stream",
          "name": "stdout",
          "text": [
            "\n",
            "Start of epoch 952\n",
            "Training loss: 0.0000\n",
            "Training metric: 0.9867\n",
            "perturbation loss: 0.0000\n",
            "Validation acc: 0.9667\n",
            "Validation F1: 0.9669\n"
          ]
        },
        {
          "output_type": "stream",
          "name": "stderr",
          "text": [
            "\r 95%|█████████▌| 953/1000 [20:51<00:57,  1.23s/it]"
          ]
        },
        {
          "output_type": "stream",
          "name": "stdout",
          "text": [
            "\n",
            "Start of epoch 953\n",
            "Training loss: 0.0000\n",
            "Training metric: 0.9867\n",
            "perturbation loss: 0.0001\n",
            "Validation acc: 0.9867\n",
            "Validation F1: 0.9868\n"
          ]
        },
        {
          "output_type": "stream",
          "name": "stderr",
          "text": [
            "\r 95%|█████████▌| 954/1000 [20:52<00:55,  1.21s/it]"
          ]
        },
        {
          "output_type": "stream",
          "name": "stdout",
          "text": [
            "\n",
            "Start of epoch 954\n",
            "Training loss: 0.0000\n",
            "Training metric: 0.9867\n",
            "perturbation loss: 0.0011\n",
            "Validation acc: 0.9867\n",
            "Validation F1: 0.9868\n"
          ]
        },
        {
          "output_type": "stream",
          "name": "stderr",
          "text": [
            "\r 96%|█████████▌| 955/1000 [20:53<00:54,  1.21s/it]"
          ]
        },
        {
          "output_type": "stream",
          "name": "stdout",
          "text": [
            "\n",
            "Start of epoch 955\n",
            "Training loss: 0.0000\n",
            "Training metric: 0.9867\n",
            "perturbation loss: 0.0003\n",
            "Validation acc: 0.9867\n",
            "Validation F1: 0.9868\n"
          ]
        },
        {
          "output_type": "stream",
          "name": "stderr",
          "text": [
            "\r 96%|█████████▌| 956/1000 [20:54<00:53,  1.22s/it]"
          ]
        },
        {
          "output_type": "stream",
          "name": "stdout",
          "text": [
            "\n",
            "Start of epoch 956\n",
            "Training loss: 0.0000\n",
            "Training metric: 0.9868\n",
            "perturbation loss: 0.0001\n"
          ]
        },
        {
          "output_type": "stream",
          "name": "stderr",
          "text": [
            "\r 96%|█████████▌| 957/1000 [20:56<00:56,  1.31s/it]"
          ]
        },
        {
          "output_type": "stream",
          "name": "stdout",
          "text": [
            "Validation acc: 0.9867\n",
            "Validation F1: 0.9868\n",
            "\n",
            "Start of epoch 957\n",
            "Training loss: 0.0000\n",
            "Training metric: 0.9868\n",
            "perturbation loss: 0.0008\n"
          ]
        },
        {
          "output_type": "stream",
          "name": "stderr",
          "text": [
            "\r 96%|█████████▌| 958/1000 [20:57<00:58,  1.39s/it]"
          ]
        },
        {
          "output_type": "stream",
          "name": "stdout",
          "text": [
            "Validation acc: 0.9867\n",
            "Validation F1: 0.9868\n",
            "\n",
            "Start of epoch 958\n",
            "Training loss: 0.0000\n",
            "Training metric: 0.9868\n",
            "perturbation loss: 0.0003\n",
            "Validation acc: 0.9800\n",
            "Validation F1: 0.9802\n"
          ]
        },
        {
          "output_type": "stream",
          "name": "stderr",
          "text": [
            "\r 96%|█████████▌| 959/1000 [20:59<00:56,  1.38s/it]"
          ]
        },
        {
          "output_type": "stream",
          "name": "stdout",
          "text": [
            "\n",
            "Start of epoch 959\n",
            "Training loss: 0.0000\n",
            "Training metric: 0.9868\n",
            "perturbation loss: 0.0000\n",
            "Validation acc: 0.9867\n",
            "Validation F1: 0.9868\n"
          ]
        },
        {
          "output_type": "stream",
          "name": "stderr",
          "text": [
            "\r 96%|█████████▌| 960/1000 [21:00<00:52,  1.32s/it]"
          ]
        },
        {
          "output_type": "stream",
          "name": "stdout",
          "text": [
            "\n",
            "Start of epoch 960\n",
            "Training loss: 0.0000\n",
            "Training metric: 0.9868\n",
            "perturbation loss: 0.0001\n",
            "Validation acc: 0.9933\n",
            "Validation F1: 0.9933\n"
          ]
        },
        {
          "output_type": "stream",
          "name": "stderr",
          "text": [
            "\r 96%|█████████▌| 961/1000 [21:01<00:50,  1.28s/it]"
          ]
        },
        {
          "output_type": "stream",
          "name": "stdout",
          "text": [
            "\n",
            "Start of epoch 961\n",
            "Training loss: 0.0000\n",
            "Training metric: 0.9868\n",
            "perturbation loss: 0.0000\n",
            "Validation acc: 0.9867\n",
            "Validation F1: 0.9868\n"
          ]
        },
        {
          "output_type": "stream",
          "name": "stderr",
          "text": [
            "\r 96%|█████████▌| 962/1000 [21:02<00:47,  1.26s/it]"
          ]
        },
        {
          "output_type": "stream",
          "name": "stdout",
          "text": [
            "\n",
            "Start of epoch 962\n",
            "Training loss: 0.0000\n",
            "Training metric: 0.9868\n",
            "perturbation loss: 0.0000\n",
            "Validation acc: 0.9867\n",
            "Validation F1: 0.9868\n"
          ]
        },
        {
          "output_type": "stream",
          "name": "stderr",
          "text": [
            "\r 96%|█████████▋| 963/1000 [21:03<00:45,  1.24s/it]"
          ]
        },
        {
          "output_type": "stream",
          "name": "stdout",
          "text": [
            "\n",
            "Start of epoch 963\n",
            "Training loss: 0.0000\n",
            "Training metric: 0.9869\n",
            "perturbation loss: 0.0000\n",
            "Validation acc: 0.9867\n",
            "Validation F1: 0.9868\n"
          ]
        },
        {
          "output_type": "stream",
          "name": "stderr",
          "text": [
            "\r 96%|█████████▋| 964/1000 [21:05<00:44,  1.23s/it]"
          ]
        },
        {
          "output_type": "stream",
          "name": "stdout",
          "text": [
            "\n",
            "Start of epoch 964\n",
            "Training loss: 0.0000\n",
            "Training metric: 0.9869\n",
            "perturbation loss: 0.0001\n",
            "Validation acc: 0.9933\n",
            "Validation F1: 0.9933\n"
          ]
        },
        {
          "output_type": "stream",
          "name": "stderr",
          "text": [
            "\r 96%|█████████▋| 965/1000 [21:06<00:42,  1.22s/it]"
          ]
        },
        {
          "output_type": "stream",
          "name": "stdout",
          "text": [
            "\n",
            "Start of epoch 965\n",
            "Training loss: 0.0000\n",
            "Training metric: 0.9869\n",
            "perturbation loss: 0.0003\n",
            "Validation acc: 0.9933\n",
            "Validation F1: 0.9933\n"
          ]
        },
        {
          "output_type": "stream",
          "name": "stderr",
          "text": [
            "\r 97%|█████████▋| 966/1000 [21:07<00:41,  1.21s/it]"
          ]
        },
        {
          "output_type": "stream",
          "name": "stdout",
          "text": [
            "\n",
            "Start of epoch 966\n",
            "Training loss: 0.0000\n",
            "Training metric: 0.9869\n",
            "perturbation loss: 0.0000\n"
          ]
        },
        {
          "output_type": "stream",
          "name": "stderr",
          "text": [
            "\r 97%|█████████▋| 967/1000 [21:08<00:40,  1.24s/it]"
          ]
        },
        {
          "output_type": "stream",
          "name": "stdout",
          "text": [
            "Validation acc: 0.9933\n",
            "Validation F1: 0.9933\n",
            "\n",
            "Start of epoch 967\n",
            "Training loss: 0.0000\n",
            "Training metric: 0.9869\n",
            "perturbation loss: 0.0001\n"
          ]
        },
        {
          "output_type": "stream",
          "name": "stderr",
          "text": [
            "\r 97%|█████████▋| 968/1000 [21:10<00:43,  1.34s/it]"
          ]
        },
        {
          "output_type": "stream",
          "name": "stdout",
          "text": [
            "Validation acc: 0.9933\n",
            "Validation F1: 0.9933\n",
            "\n",
            "Start of epoch 968\n",
            "Training loss: 0.0000\n",
            "Training metric: 0.9869\n",
            "perturbation loss: 0.0000\n"
          ]
        },
        {
          "output_type": "stream",
          "name": "stderr",
          "text": [
            "\r 97%|█████████▋| 969/1000 [21:12<00:43,  1.42s/it]"
          ]
        },
        {
          "output_type": "stream",
          "name": "stdout",
          "text": [
            "Validation acc: 0.9867\n",
            "Validation F1: 0.9868\n",
            "\n",
            "Start of epoch 969\n",
            "Training loss: 0.0000\n",
            "Training metric: 0.9869\n",
            "perturbation loss: 0.0000\n",
            "Validation acc: 0.9933\n",
            "Validation F1: 0.9933\n"
          ]
        },
        {
          "output_type": "stream",
          "name": "stderr",
          "text": [
            "\r 97%|█████████▋| 970/1000 [21:13<00:41,  1.37s/it]"
          ]
        },
        {
          "output_type": "stream",
          "name": "stdout",
          "text": [
            "\n",
            "Start of epoch 970\n",
            "Training loss: 0.0000\n",
            "Training metric: 0.9869\n",
            "perturbation loss: 0.0000\n"
          ]
        },
        {
          "output_type": "stream",
          "name": "stderr",
          "text": [
            "\r 97%|█████████▋| 971/1000 [21:14<00:39,  1.35s/it]"
          ]
        },
        {
          "output_type": "stream",
          "name": "stdout",
          "text": [
            "Validation acc: 1.0000\n",
            "Validation F1: 1.0000\n",
            "\n",
            "Start of epoch 971\n",
            "Training loss: 0.0000\n",
            "Training metric: 0.9870\n",
            "perturbation loss: 0.0000\n",
            "Validation acc: 0.9933\n",
            "Validation F1: 0.9933\n"
          ]
        },
        {
          "output_type": "stream",
          "name": "stderr",
          "text": [
            "\r 97%|█████████▋| 972/1000 [21:15<00:36,  1.30s/it]"
          ]
        },
        {
          "output_type": "stream",
          "name": "stdout",
          "text": [
            "\n",
            "Start of epoch 972\n",
            "Training loss: 0.0000\n",
            "Training metric: 0.9870\n",
            "perturbation loss: 0.0000\n",
            "Validation acc: 1.0000\n",
            "Validation F1: 1.0000\n"
          ]
        },
        {
          "output_type": "stream",
          "name": "stderr",
          "text": [
            "\r 97%|█████████▋| 973/1000 [21:17<00:34,  1.27s/it]"
          ]
        },
        {
          "output_type": "stream",
          "name": "stdout",
          "text": [
            "\n",
            "Start of epoch 973\n",
            "Training loss: 0.0000\n",
            "Training metric: 0.9870\n",
            "perturbation loss: 0.0000\n",
            "Validation acc: 0.9933\n",
            "Validation F1: 0.9933\n"
          ]
        },
        {
          "output_type": "stream",
          "name": "stderr",
          "text": [
            "\r 97%|█████████▋| 974/1000 [21:18<00:32,  1.24s/it]"
          ]
        },
        {
          "output_type": "stream",
          "name": "stdout",
          "text": [
            "\n",
            "Start of epoch 974\n",
            "Training loss: 0.0000\n",
            "Training metric: 0.9870\n",
            "perturbation loss: 0.0000\n",
            "Validation acc: 0.9933\n",
            "Validation F1: 0.9933\n"
          ]
        },
        {
          "output_type": "stream",
          "name": "stderr",
          "text": [
            "\r 98%|█████████▊| 975/1000 [21:19<00:30,  1.23s/it]"
          ]
        },
        {
          "output_type": "stream",
          "name": "stdout",
          "text": [
            "\n",
            "Start of epoch 975\n",
            "Training loss: 0.0000\n",
            "Training metric: 0.9870\n",
            "perturbation loss: 0.0000\n",
            "Validation acc: 1.0000\n",
            "Validation F1: 1.0000\n"
          ]
        },
        {
          "output_type": "stream",
          "name": "stderr",
          "text": [
            "\r 98%|█████████▊| 976/1000 [21:20<00:29,  1.22s/it]"
          ]
        },
        {
          "output_type": "stream",
          "name": "stdout",
          "text": [
            "\n",
            "Start of epoch 976\n",
            "Training loss: 0.0000\n",
            "Training metric: 0.9870\n",
            "perturbation loss: 0.0000\n",
            "Validation acc: 0.9933\n",
            "Validation F1: 0.9933\n"
          ]
        },
        {
          "output_type": "stream",
          "name": "stderr",
          "text": [
            "\r 98%|█████████▊| 977/1000 [21:21<00:27,  1.21s/it]"
          ]
        },
        {
          "output_type": "stream",
          "name": "stdout",
          "text": [
            "\n",
            "Start of epoch 977\n",
            "Training loss: 0.0000\n",
            "Training metric: 0.9870\n",
            "perturbation loss: 0.0000\n"
          ]
        },
        {
          "output_type": "stream",
          "name": "stderr",
          "text": [
            "\r 98%|█████████▊| 978/1000 [21:23<00:27,  1.24s/it]"
          ]
        },
        {
          "output_type": "stream",
          "name": "stdout",
          "text": [
            "Validation acc: 0.9933\n",
            "Validation F1: 0.9933\n",
            "\n",
            "Start of epoch 978\n",
            "Training loss: 0.0000\n",
            "Training metric: 0.9871\n",
            "perturbation loss: 0.0000\n"
          ]
        },
        {
          "output_type": "stream",
          "name": "stderr",
          "text": [
            "\r 98%|█████████▊| 979/1000 [21:24<00:27,  1.33s/it]"
          ]
        },
        {
          "output_type": "stream",
          "name": "stdout",
          "text": [
            "Validation acc: 1.0000\n",
            "Validation F1: 1.0000\n",
            "\n",
            "Start of epoch 979\n",
            "Training loss: 0.0000\n",
            "Training metric: 0.9871\n",
            "perturbation loss: 0.0000\n"
          ]
        },
        {
          "output_type": "stream",
          "name": "stderr",
          "text": [
            "\r 98%|█████████▊| 980/1000 [21:26<00:28,  1.41s/it]"
          ]
        },
        {
          "output_type": "stream",
          "name": "stdout",
          "text": [
            "Validation acc: 1.0000\n",
            "Validation F1: 1.0000\n",
            "\n",
            "Start of epoch 980\n",
            "Training loss: 0.0000\n",
            "Training metric: 0.9871\n",
            "perturbation loss: 0.0000\n",
            "Validation acc: 0.9933\n",
            "Validation F1: 0.9933\n"
          ]
        },
        {
          "output_type": "stream",
          "name": "stderr",
          "text": [
            "\r 98%|█████████▊| 981/1000 [21:27<00:25,  1.35s/it]"
          ]
        },
        {
          "output_type": "stream",
          "name": "stdout",
          "text": [
            "\n",
            "Start of epoch 981\n",
            "Training loss: 0.0000\n",
            "Training metric: 0.9871\n",
            "perturbation loss: 0.0000\n",
            "Validation acc: 1.0000\n",
            "Validation F1: 1.0000\n"
          ]
        },
        {
          "output_type": "stream",
          "name": "stderr",
          "text": [
            "\r 98%|█████████▊| 982/1000 [21:28<00:23,  1.30s/it]"
          ]
        },
        {
          "output_type": "stream",
          "name": "stdout",
          "text": [
            "\n",
            "Start of epoch 982\n",
            "Training loss: 0.0000\n",
            "Training metric: 0.9871\n",
            "perturbation loss: 0.0000\n",
            "Validation acc: 0.9933\n",
            "Validation F1: 0.9933\n"
          ]
        },
        {
          "output_type": "stream",
          "name": "stderr",
          "text": [
            "\r 98%|█████████▊| 983/1000 [21:29<00:21,  1.27s/it]"
          ]
        },
        {
          "output_type": "stream",
          "name": "stdout",
          "text": [
            "\n",
            "Start of epoch 983\n",
            "Training loss: 0.0000\n",
            "Training metric: 0.9871\n",
            "perturbation loss: 0.0000\n",
            "Validation acc: 0.9933\n",
            "Validation F1: 0.9933\n"
          ]
        },
        {
          "output_type": "stream",
          "name": "stderr",
          "text": [
            "\r 98%|█████████▊| 984/1000 [21:30<00:19,  1.24s/it]"
          ]
        },
        {
          "output_type": "stream",
          "name": "stdout",
          "text": [
            "\n",
            "Start of epoch 984\n",
            "Training loss: 0.0000\n",
            "Training metric: 0.9871\n",
            "perturbation loss: 0.0000\n",
            "Validation acc: 1.0000\n",
            "Validation F1: 1.0000\n"
          ]
        },
        {
          "output_type": "stream",
          "name": "stderr",
          "text": [
            "\r 98%|█████████▊| 985/1000 [21:32<00:18,  1.23s/it]"
          ]
        },
        {
          "output_type": "stream",
          "name": "stdout",
          "text": [
            "\n",
            "Start of epoch 985\n",
            "Training loss: 0.0000\n",
            "Training metric: 0.9871\n",
            "perturbation loss: 0.0000\n",
            "Validation acc: 0.9867\n",
            "Validation F1: 0.9868\n"
          ]
        },
        {
          "output_type": "stream",
          "name": "stderr",
          "text": [
            "\r 99%|█████████▊| 986/1000 [21:33<00:17,  1.21s/it]"
          ]
        },
        {
          "output_type": "stream",
          "name": "stdout",
          "text": [
            "\n",
            "Start of epoch 986\n",
            "Training loss: 0.0000\n",
            "Training metric: 0.9872\n",
            "perturbation loss: 0.0000\n"
          ]
        },
        {
          "output_type": "stream",
          "name": "stderr",
          "text": [
            "\r 99%|█████████▊| 987/1000 [21:34<00:15,  1.22s/it]"
          ]
        },
        {
          "output_type": "stream",
          "name": "stdout",
          "text": [
            "Validation acc: 0.9933\n",
            "Validation F1: 0.9933\n",
            "\n",
            "Start of epoch 987\n",
            "Training loss: 0.0000\n",
            "Training metric: 0.9872\n",
            "perturbation loss: 0.0000\n",
            "Validation acc: 0.9933\n",
            "Validation F1: 0.9933\n"
          ]
        },
        {
          "output_type": "stream",
          "name": "stderr",
          "text": [
            "\r 99%|█████████▉| 988/1000 [21:35<00:14,  1.21s/it]"
          ]
        },
        {
          "output_type": "stream",
          "name": "stdout",
          "text": [
            "\n",
            "Start of epoch 988\n",
            "Training loss: 0.0000\n",
            "Training metric: 0.9872\n",
            "perturbation loss: 0.0001\n"
          ]
        },
        {
          "output_type": "stream",
          "name": "stderr",
          "text": [
            "\r 99%|█████████▉| 989/1000 [21:37<00:13,  1.27s/it]"
          ]
        },
        {
          "output_type": "stream",
          "name": "stdout",
          "text": [
            "Validation acc: 0.9933\n",
            "Validation F1: 0.9933\n",
            "\n",
            "Start of epoch 989\n",
            "Training loss: 0.0000\n",
            "Training metric: 0.9872\n",
            "perturbation loss: 0.0000\n"
          ]
        },
        {
          "output_type": "stream",
          "name": "stderr",
          "text": [
            "\r 99%|█████████▉| 990/1000 [21:38<00:13,  1.36s/it]"
          ]
        },
        {
          "output_type": "stream",
          "name": "stdout",
          "text": [
            "Validation acc: 0.9933\n",
            "Validation F1: 0.9933\n",
            "\n",
            "Start of epoch 990\n",
            "Training loss: 0.0000\n",
            "Training metric: 0.9872\n",
            "perturbation loss: 0.0000\n"
          ]
        },
        {
          "output_type": "stream",
          "name": "stderr",
          "text": [
            "\r 99%|█████████▉| 991/1000 [21:40<00:12,  1.42s/it]"
          ]
        },
        {
          "output_type": "stream",
          "name": "stdout",
          "text": [
            "Validation acc: 0.9933\n",
            "Validation F1: 0.9933\n",
            "\n",
            "Start of epoch 991\n",
            "Training loss: 0.0000\n",
            "Training metric: 0.9872\n",
            "perturbation loss: 0.0000\n",
            "Validation acc: 0.9867\n",
            "Validation F1: 0.9868\n"
          ]
        },
        {
          "output_type": "stream",
          "name": "stderr",
          "text": [
            "\r 99%|█████████▉| 992/1000 [21:41<00:10,  1.35s/it]"
          ]
        },
        {
          "output_type": "stream",
          "name": "stdout",
          "text": [
            "\n",
            "Start of epoch 992\n",
            "Training loss: 0.0000\n",
            "Training metric: 0.9872\n",
            "perturbation loss: 0.0000\n",
            "Validation acc: 0.9867\n",
            "Validation F1: 0.9867\n"
          ]
        },
        {
          "output_type": "stream",
          "name": "stderr",
          "text": [
            "\r 99%|█████████▉| 993/1000 [21:42<00:09,  1.30s/it]"
          ]
        },
        {
          "output_type": "stream",
          "name": "stdout",
          "text": [
            "\n",
            "Start of epoch 993\n",
            "Training loss: 0.0000\n",
            "Training metric: 0.9873\n",
            "perturbation loss: 0.0000\n",
            "Validation acc: 0.9933\n",
            "Validation F1: 0.9933\n"
          ]
        },
        {
          "output_type": "stream",
          "name": "stderr",
          "text": [
            "\r 99%|█████████▉| 994/1000 [21:43<00:07,  1.26s/it]"
          ]
        },
        {
          "output_type": "stream",
          "name": "stdout",
          "text": [
            "\n",
            "Start of epoch 994\n",
            "Training loss: 0.0000\n",
            "Training metric: 0.9873\n",
            "perturbation loss: 0.0000\n",
            "Validation acc: 1.0000\n",
            "Validation F1: 1.0000\n"
          ]
        },
        {
          "output_type": "stream",
          "name": "stderr",
          "text": [
            "\r100%|█████████▉| 995/1000 [21:45<00:06,  1.24s/it]"
          ]
        },
        {
          "output_type": "stream",
          "name": "stdout",
          "text": [
            "\n",
            "Start of epoch 995\n",
            "Training loss: 0.0000\n",
            "Training metric: 0.9873\n",
            "perturbation loss: 0.0002\n"
          ]
        },
        {
          "output_type": "stream",
          "name": "stderr",
          "text": [
            "\r100%|█████████▉| 996/1000 [21:46<00:05,  1.27s/it]"
          ]
        },
        {
          "output_type": "stream",
          "name": "stdout",
          "text": [
            "Validation acc: 1.0000\n",
            "Validation F1: 1.0000\n",
            "\n",
            "Start of epoch 996\n",
            "Training loss: 0.0000\n",
            "Training metric: 0.9873\n",
            "perturbation loss: 0.0000\n",
            "Validation acc: 0.9800\n",
            "Validation F1: 0.9802\n"
          ]
        },
        {
          "output_type": "stream",
          "name": "stderr",
          "text": [
            "\r100%|█████████▉| 997/1000 [21:47<00:03,  1.25s/it]"
          ]
        },
        {
          "output_type": "stream",
          "name": "stdout",
          "text": [
            "\n",
            "Start of epoch 997\n",
            "Training loss: 0.0000\n",
            "Training metric: 0.9873\n",
            "perturbation loss: 0.0014\n",
            "Validation acc: 1.0000\n",
            "Validation F1: 1.0000\n"
          ]
        },
        {
          "output_type": "stream",
          "name": "stderr",
          "text": [
            "\r100%|█████████▉| 998/1000 [21:48<00:02,  1.23s/it]"
          ]
        },
        {
          "output_type": "stream",
          "name": "stdout",
          "text": [
            "\n",
            "Start of epoch 998\n",
            "Training loss: 0.0001\n",
            "Training metric: 0.9873\n",
            "perturbation loss: 0.0034\n",
            "Validation acc: 0.9800\n",
            "Validation F1: 0.9797\n"
          ]
        },
        {
          "output_type": "stream",
          "name": "stderr",
          "text": [
            "\r100%|█████████▉| 999/1000 [21:49<00:01,  1.22s/it]"
          ]
        },
        {
          "output_type": "stream",
          "name": "stdout",
          "text": [
            "\n",
            "Start of epoch 999\n",
            "Training loss: 0.0003\n",
            "Training metric: 0.9873\n",
            "perturbation loss: 0.0134\n"
          ]
        },
        {
          "output_type": "stream",
          "name": "stderr",
          "text": [
            "100%|██████████| 1000/1000 [21:51<00:00,  1.31s/it]"
          ]
        },
        {
          "output_type": "stream",
          "name": "stdout",
          "text": [
            "Validation acc: 0.9867\n",
            "Validation F1: 0.9867\n"
          ]
        },
        {
          "output_type": "stream",
          "name": "stderr",
          "text": [
            "\n"
          ]
        }
      ],
      "source": [
        "train_loss = []\n",
        "train_metric = []\n",
        "val_metric = []\n",
        "p_loss = []\n",
        "val_f1 = []\n",
        "\n",
        "for i in range(4):\n",
        "    for step, (x, label) in enumerate(train_dataset):\n",
        "        pre_train(x, label)\n",
        "\n",
        "for epoch in tqdm(range(1000)):\n",
        "    print(\"\\nStart of epoch %d\" % (epoch,))\n",
        "    for step, (x, label) in enumerate(train_dataset):\n",
        "        loss, train_acc, l, x_p, g = training_step(x, label)\n",
        "\n",
        "    print(\n",
        "        \"Training loss: %.4f\\nTraining metric: %.4f\"\n",
        "        % (float(loss), float(train_acc))\n",
        "    )\n",
        "    print(\"perturbation loss: %.4f\" % float(l))\n",
        "\n",
        "    for x_batch_val, y_batch_val in val_dataset:\n",
        "        val_logits = model(x_batch_val, training=False)\n",
        "        # Update val metrics\n",
        "        val_acc_metric.update_state(y_batch_val, val_logits)\n",
        "        val_f1_metric.update_state(tf.one_hot(y_batch_val, 5), val_logits)\n",
        "\n",
        "    val_acc = val_acc_metric.result()\n",
        "    val_acc_metric.reset_states()\n",
        "    val_f1.append(val_f1_metric.result())\n",
        "    val_f1_metric.reset_states()\n",
        "    print(\"Validation acc: %.4f\" % (float(val_acc)))\n",
        "    print(\"Validation F1: %.4f\" % (float(sum(val_f1[-1])) / 5))\n",
        "\n",
        "    train_loss.append(loss)\n",
        "    train_metric.append(train_acc)\n",
        "    val_metric.append(val_acc)\n",
        "    p_loss.append(l)\n",
        "\n",
        "    tl = np.array(train_loss)\n",
        "    tm = np.array(train_metric)\n",
        "    vm = np.array(val_metric)\n",
        "    pl = np.array(p_loss)\n",
        "\n",
        "    np.savez(\"logs.npz\", train_loss=tl, train_acc=tm, val_acc=vm, p_loss=pl,\n",
        "            val_f1=val_f1, x_p=x_p)"
      ]
    },
    {
      "cell_type": "code",
      "source": [],
      "metadata": {
        "id": "ymCFUP_qUazY"
      },
      "id": "ymCFUP_qUazY",
      "execution_count": 27,
      "outputs": []
    }
  ],
  "metadata": {
    "accelerator": "GPU",
    "colab": {
      "gpuType": "V100",
      "provenance": []
    },
    "kernelspec": {
      "display_name": "Python 3.10 (tensorflow)",
      "language": "python",
      "name": "tensorflow"
    },
    "language_info": {
      "codemirror_mode": {
        "name": "ipython",
        "version": 3
      },
      "file_extension": ".py",
      "mimetype": "text/x-python",
      "name": "python",
      "nbconvert_exporter": "python",
      "pygments_lexer": "ipython3",
      "version": "3.10.10"
    }
  },
  "nbformat": 4,
  "nbformat_minor": 5
}