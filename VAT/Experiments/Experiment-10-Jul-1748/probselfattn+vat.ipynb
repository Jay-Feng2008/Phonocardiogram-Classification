{
  "cells": [
    {
      "cell_type": "code",
      "source": [
        "from google.colab import drive\n",
        "drive.mount('/content/drive')"
      ],
      "metadata": {
        "colab": {
          "base_uri": "https://localhost:8080/"
        },
        "id": "kixbsqSzkgN_",
        "outputId": "88aea252-6699-45cc-9d2c-fdfdc3b53038"
      },
      "id": "kixbsqSzkgN_",
      "execution_count": 1,
      "outputs": [
        {
          "output_type": "stream",
          "name": "stdout",
          "text": [
            "Mounted at /content/drive\n"
          ]
        }
      ]
    },
    {
      "cell_type": "code",
      "execution_count": 1,
      "metadata": {
        "id": "5a92ca08"
      },
      "outputs": [],
      "source": [
        "import tensorflow as tf\n",
        "from tensorflow import keras\n",
        "import numpy as np\n",
        "import pandas as pd\n",
        "import matplotlib.pyplot as plt\n",
        "from tqdm import tqdm\n",
        "from keras import layers\n",
        "import sys\n",
        "sys.path.insert(1, \"drive/MyDrive/Informer-Tensorflow/models\")\n",
        "sys.path.insert(1, \"drive/MyDrive/Informer-Tensorflow\")"
      ],
      "id": "5a92ca08"
    },
    {
      "cell_type": "code",
      "execution_count": 2,
      "metadata": {
        "id": "96af8478"
      },
      "outputs": [],
      "source": [
        "from attn import ProbAttention, AttentionLayer"
      ],
      "id": "96af8478"
    },
    {
      "cell_type": "code",
      "execution_count": 3,
      "metadata": {
        "id": "cdd4a815"
      },
      "outputs": [],
      "source": [
        "class MultiHeadProbAttention(tf.keras.layers.Layer):\n",
        "    def __init__(self, d_model, num_heads):\n",
        "        super(MultiHeadProbAttention, self).__init__()\n",
        "        self.d_model = d_model\n",
        "        self.num_heads = num_heads\n",
        "        self.attn = AttentionLayer(ProbAttention(False), self.d_model, self.num_heads)\n",
        "    def call(self, inputs):\n",
        "        query = inputs\n",
        "        key = inputs\n",
        "        value = inputs\n",
        "        x = self.attn([query, key, value])\n",
        "        return x\n"
      ],
      "id": "cdd4a815"
    },
    {
      "cell_type": "code",
      "execution_count": 4,
      "metadata": {
        "id": "038dd8c1"
      },
      "outputs": [],
      "source": [
        "def positional_encoding(length, depth):\n",
        "    depth = depth/2\n",
        "\n",
        "    positions = np.arange(length)[:, np.newaxis]     # (seq, 1)\n",
        "    depths = np.arange(depth)[np.newaxis, :]/depth   # (1, depth)\n",
        "\n",
        "    angle_rates = 1 / (10000**depths)         # (1, depth)\n",
        "    angle_rads = positions * angle_rates      # (pos, depth)\n",
        "\n",
        "    pos_encoding = np.concatenate(\n",
        "        [np.sin(angle_rads), np.cos(angle_rads)],\n",
        "        axis=-1)\n",
        "\n",
        "    return tf.cast(pos_encoding, dtype=tf.float32)\n",
        "\n",
        "class PositionalEmbedding(tf.keras.layers.Layer):\n",
        "    def __init__(self, d_model):\n",
        "        super().__init__()\n",
        "        self.d_model = d_model\n",
        "        # self.embedding = tf.keras.layers.Embedding(vocab_size, d_model, mask_zero=True)\n",
        "        self.pos_encoding = positional_encoding(length=2048, depth=d_model)\n",
        "\n",
        "    # def compute_mask(self, *args, **kwargs):\n",
        "    #     return self.embedding.compute_mask(*args, **kwargs)\n",
        "\n",
        "    def call(self, x):\n",
        "        length = tf.shape(x)[1]\n",
        "        # x = self.embedding(x)\n",
        "        # This factor sets the relative scale of the embedding and positonal_encoding.\n",
        "        x *= tf.math.sqrt(tf.cast(self.d_model, tf.float32))\n",
        "        x = x + self.pos_encoding[tf.newaxis, :length, :]\n",
        "        return x"
      ],
      "id": "038dd8c1"
    },
    {
      "cell_type": "code",
      "execution_count": 5,
      "metadata": {
        "id": "c2b896e1"
      },
      "outputs": [],
      "source": [
        "class ConvLayer(keras.layers.Layer):\n",
        "    def __init__(self, c_in):\n",
        "        super(ConvLayer, self).__init__()\n",
        "        self.downConv = tf.keras.layers.Conv1D(\n",
        "                                  filters=c_in,\n",
        "                                  kernel_size=3,\n",
        "                                  padding='causal')\n",
        "        self.norm = tf.keras.layers.BatchNormalization()\n",
        "        self.activation = tf.keras.layers.ELU()\n",
        "        self.maxPool = tf.keras.layers.MaxPool1D(pool_size=3)#, strides=2)\n",
        "\n",
        "    def call(self, x, **kargs):\n",
        "        x = self.downConv(x)\n",
        "        x = self.norm(x)\n",
        "        x = self.activation(x)\n",
        "        x = self.maxPool(x)\n",
        "        return x"
      ],
      "id": "c2b896e1"
    },
    {
      "cell_type": "code",
      "execution_count": 6,
      "metadata": {
        "id": "74a7087c"
      },
      "outputs": [],
      "source": [
        "BATCH_SIZE = 32\n",
        "def models():\n",
        "    inputs = keras.layers.Input(shape=(127,15), batch_size=BATCH_SIZE)\n",
        "    # x = keras.layers.Dense(32, activation=\"tanh\")(inputs)\n",
        "    x = keras.layers.Conv1D(32, 1, activation='tanh')(inputs)\n",
        "    x = PositionalEmbedding(32)(x)\n",
        "    x = MultiHeadProbAttention(128, 32)(x)\n",
        "    x = ConvLayer(64)(x)\n",
        "    x = MultiHeadProbAttention(64, 32)(x)\n",
        "    x = ConvLayer(32)(x)\n",
        "    x = keras.layers.LayerNormalization()(x)\n",
        "    x = keras.layers.GlobalAveragePooling1D(data_format='channels_first')(x)\n",
        "    x = keras.layers.Dense(5, activation='softmax')(x)\n",
        "    return keras.Model(inputs, x)"
      ],
      "id": "74a7087c"
    },
    {
      "cell_type": "code",
      "execution_count": 7,
      "metadata": {
        "colab": {
          "base_uri": "https://localhost:8080/"
        },
        "id": "a47c96b0",
        "outputId": "3cf563a4-1c87-418b-fcef-405cacc2f035"
      },
      "outputs": [
        {
          "output_type": "stream",
          "name": "stdout",
          "text": [
            "[TensorShape([32, 127, 32]), TensorShape([32, 127, 32]), TensorShape([32, 127, 32])]\n",
            "[TensorShape([32, 42, 64]), TensorShape([32, 42, 64]), TensorShape([32, 42, 64])]\n",
            "Model: \"model\"\n",
            "_________________________________________________________________\n",
            " Layer (type)                Output Shape              Param #   \n",
            "=================================================================\n",
            " input_1 (InputLayer)        [(32, 127, 15)]           0         \n",
            "                                                                 \n",
            " conv1d (Conv1D)             (32, 127, 32)             512       \n",
            "                                                                 \n",
            " positional_embedding (Posit  (32, 127, 32)            0         \n",
            " ionalEmbedding)                                                 \n",
            "                                                                 \n",
            " multi_head_prob_attention (  (32, 127, 128)           29184     \n",
            " MultiHeadProbAttention)                                         \n",
            "                                                                 \n",
            " conv_layer (ConvLayer)      (32, 42, 64)              24896     \n",
            "                                                                 \n",
            " multi_head_prob_attention_1  (32, 42, 64)             16640     \n",
            "  (MultiHeadProbAttention)                                       \n",
            "                                                                 \n",
            " conv_layer_1 (ConvLayer)    (32, 14, 32)              6304      \n",
            "                                                                 \n",
            " layer_normalization (LayerN  (32, 14, 32)             64        \n",
            " ormalization)                                                   \n",
            "                                                                 \n",
            " global_average_pooling1d (G  (32, 14)                 0         \n",
            " lobalAveragePooling1D)                                          \n",
            "                                                                 \n",
            " dense_8 (Dense)             (32, 5)                   75        \n",
            "                                                                 \n",
            "=================================================================\n",
            "Total params: 77,675\n",
            "Trainable params: 77,483\n",
            "Non-trainable params: 192\n",
            "_________________________________________________________________\n"
          ]
        }
      ],
      "source": [
        "model = models()\n",
        "model.summary()\n",
        "# del model"
      ],
      "id": "a47c96b0"
    },
    {
      "cell_type": "code",
      "execution_count": 8,
      "metadata": {
        "colab": {
          "base_uri": "https://localhost:8080/"
        },
        "id": "efe164a9",
        "outputId": "6f4d8c2c-d8d4-4d23-c02e-f78fb625620f"
      },
      "outputs": [
        {
          "output_type": "execute_result",
          "data": {
            "text/plain": [
              "<tf.Tensor: shape=(32, 5), dtype=float32, numpy=\n",
              "array([[0.19999999, 0.19999997, 0.19999999, 0.20000003, 0.20000003],\n",
              "       [0.2       , 0.19999997, 0.2       , 0.2       , 0.2       ],\n",
              "       [0.20000002, 0.19999999, 0.19999999, 0.19999999, 0.20000002],\n",
              "       [0.2       , 0.19999997, 0.2       , 0.19999997, 0.2       ],\n",
              "       [0.2       , 0.2       , 0.2       , 0.2       , 0.2       ],\n",
              "       [0.2       , 0.2       , 0.19999996, 0.2       , 0.2       ],\n",
              "       [0.20000002, 0.19999999, 0.20000002, 0.19999997, 0.19999999],\n",
              "       [0.20000002, 0.19999997, 0.20000002, 0.19999999, 0.19999999],\n",
              "       [0.2       , 0.2       , 0.2       , 0.2       , 0.2       ],\n",
              "       [0.19999997, 0.19999999, 0.20000002, 0.19999999, 0.20000002],\n",
              "       [0.2       , 0.2       , 0.2       , 0.19999997, 0.19999997],\n",
              "       [0.19999997, 0.19999997, 0.2       , 0.2       , 0.2       ],\n",
              "       [0.20000002, 0.19999999, 0.20000002, 0.19999997, 0.20000002],\n",
              "       [0.20000002, 0.19999999, 0.19999999, 0.19999997, 0.19999999],\n",
              "       [0.19999999, 0.20000002, 0.19999999, 0.20000002, 0.19999997],\n",
              "       [0.2       , 0.2       , 0.19999997, 0.2       , 0.2       ],\n",
              "       [0.20000002, 0.20000002, 0.19999999, 0.19999999, 0.19999999],\n",
              "       [0.2       , 0.19999997, 0.2       , 0.2       , 0.19999997],\n",
              "       [0.2       , 0.2       , 0.2       , 0.19999997, 0.2       ],\n",
              "       [0.20000002, 0.19999997, 0.20000002, 0.20000002, 0.19999999],\n",
              "       [0.20000002, 0.20000002, 0.20000002, 0.19999997, 0.19999999],\n",
              "       [0.19999996, 0.2       , 0.2       , 0.2       , 0.2       ],\n",
              "       [0.2       , 0.2       , 0.2       , 0.2       , 0.2       ],\n",
              "       [0.19999997, 0.19999999, 0.20000002, 0.20000002, 0.20000002],\n",
              "       [0.19999997, 0.2       , 0.2       , 0.2       , 0.19999997],\n",
              "       [0.20000002, 0.20000002, 0.20000002, 0.19999997, 0.19999999],\n",
              "       [0.2       , 0.2       , 0.19999997, 0.2       , 0.19999997],\n",
              "       [0.19999997, 0.2       , 0.2       , 0.2       , 0.2       ],\n",
              "       [0.19999997, 0.2       , 0.19999997, 0.2       , 0.2       ],\n",
              "       [0.2       , 0.2       , 0.2       , 0.2       , 0.2       ],\n",
              "       [0.19999997, 0.2       , 0.2       , 0.2       , 0.2       ],\n",
              "       [0.2       , 0.2       , 0.2       , 0.2       , 0.2       ]],\n",
              "      dtype=float32)>"
            ]
          },
          "metadata": {},
          "execution_count": 8
        }
      ],
      "source": [
        "x = tf.random.normal((BATCH_SIZE, 127, 15))\n",
        "model(x)"
      ],
      "id": "efe164a9"
    },
    {
      "cell_type": "code",
      "execution_count": 10,
      "metadata": {
        "id": "Pqxls7OdFuBa"
      },
      "outputs": [],
      "source": [
        "data = np.load(\"mfcc.npz\")\n",
        "X = data[\"X\"]\n",
        "Y = data[\"Y\"]\n",
        "\n",
        "x_train = X[0:832]\n",
        "y_train = Y[0:832]\n",
        "x_test = X[872:]\n",
        "y_test = Y[872:]"
      ],
      "id": "Pqxls7OdFuBa"
    },
    {
      "cell_type": "code",
      "execution_count": 11,
      "metadata": {
        "id": "Z2IpMQoDGE8P"
      },
      "outputs": [],
      "source": [
        "train_dataset = tf.data.Dataset.from_tensor_slices((x_train, y_train))\n",
        "train_dataset = train_dataset.shuffle(buffer_size=100000).batch(BATCH_SIZE)\n",
        "\n",
        "val_dataset = tf.data.Dataset.from_tensor_slices((x_test, y_test))\n",
        "val_dataset = val_dataset.shuffle(buffer_size=1000).batch(BATCH_SIZE)"
      ],
      "id": "Z2IpMQoDGE8P"
    },
    {
      "cell_type": "code",
      "execution_count": 12,
      "metadata": {
        "id": "mHS5ftloF9hF"
      },
      "outputs": [],
      "source": [
        "x = x_train[0:BATCH_SIZE]\n",
        "x_rank = tf.rank(x).numpy()\n",
        "x_norm_resize_shape = [BATCH_SIZE] + list(tf.ones(tf.rank(x), dtype=tf.int32).numpy())[1:]"
      ],
      "id": "mHS5ftloF9hF"
    },
    {
      "cell_type": "code",
      "execution_count": 13,
      "metadata": {
        "id": "Acy81xYrkYCD"
      },
      "outputs": [],
      "source": [
        "class CustomSchedule(tf.keras.optimizers.schedules.LearningRateSchedule):\n",
        "    def __init__(self, d_model, warmup_steps=4000):\n",
        "        super().__init__()\n",
        "\n",
        "        self.d_model = d_model\n",
        "        self.d_model = tf.cast(self.d_model, tf.float32)\n",
        "\n",
        "        self.warmup_steps = warmup_steps\n",
        "\n",
        "    def __call__(self, step):\n",
        "        step = tf.cast(step, dtype=tf.float32)\n",
        "        arg1 = tf.math.rsqrt(step)\n",
        "        arg2 = step * (self.warmup_steps ** -1.5)\n",
        "\n",
        "        return tf.math.rsqrt(self.d_model) * tf.math.minimum(arg1, arg2)"
      ],
      "id": "Acy81xYrkYCD"
    },
    {
      "cell_type": "code",
      "execution_count": 14,
      "metadata": {
        "id": "3YkUbzm0GZF1"
      },
      "outputs": [],
      "source": [
        "def perturbation_loss(x, y, from_logits=False):\n",
        "    return keras.losses.CategoricalCrossentropy(from_logits=from_logits)(x, y)\n",
        "\n",
        "loss_fn = keras.losses.SparseCategoricalCrossentropy(from_logits=False)\n",
        "learning_rate = CustomSchedule(32)\n",
        "optimizer = keras.optimizers.experimental.AdamW(learning_rate=learning_rate, beta_1=0.9, beta_2=0.98,\n",
        "                                     epsilon=1e-9)\n",
        "\n",
        "train_acc_metric = keras.metrics.SparseCategoricalAccuracy()\n",
        "val_acc_metric = keras.metrics.SparseCategoricalAccuracy()"
      ],
      "id": "3YkUbzm0GZF1"
    },
    {
      "cell_type": "code",
      "execution_count": 15,
      "metadata": {
        "id": "z8vyGiiAGgt8"
      },
      "outputs": [],
      "source": [
        "eps = 2.     # the perturbation parameter\n",
        "sig = 1e-5   # initial perturbation StdDev\n",
        "zeta = 1e-6  # differentiation constant\n",
        "lamd = 1     # regularization parameter\n",
        "\n",
        "@tf.function\n",
        "def training_step(x, label):\n",
        "    x_p = tf.random.normal(x.shape, stddev=sig)\n",
        "    x_norm = x_p\n",
        "    for i in range(x_rank-1, 0, -1):\n",
        "        x_norm = tf.norm(x_norm, ord=2, axis=int(i))\n",
        "    x_p /= tf.reshape(x_norm, (BATCH_SIZE, 1, 1))\n",
        "    x_p *= zeta\n",
        "\n",
        "\n",
        "    with tf.GradientTape() as model_tape, tf.GradientTape() as perturbation_tape:\n",
        "        perturbation_tape.watch(x_p)\n",
        "        y_p = model(x + x_p, training=True)\n",
        "        y = model(x, training=True)\n",
        "        l = perturbation_loss(y, y_p)\n",
        "        g = perturbation_tape.gradient(l, x_p)\n",
        "\n",
        "        g_norm = g\n",
        "        for i in range(x_rank-1, 0, -1):\n",
        "            g_norm = tf.norm(g_norm, ord=2, axis=int(i))\n",
        "\n",
        "        x_p = eps * g / tf.reshape(g_norm, x_norm_resize_shape)\n",
        "\n",
        "        logits = model(x, training=True)\n",
        "        loss = loss_fn(label, logits) + lamd * l / BATCH_SIZE\n",
        "        grads = model_tape.gradient(loss, model.trainable_weights)\n",
        "        optimizer.apply_gradients(zip(grads, model.trainable_weights))\n",
        "\n",
        "    train_acc_metric.update_state(label, logits)\n",
        "    return loss, train_acc_metric.result(), l, x_p, g"
      ],
      "id": "z8vyGiiAGgt8"
    },
    {
      "cell_type": "code",
      "execution_count": 16,
      "metadata": {
        "colab": {
          "base_uri": "https://localhost:8080/"
        },
        "id": "_cymWSORGwww",
        "outputId": "7798ad06-15ee-41fb-f51f-320b8e93e5f5"
      },
      "outputs": [
        {
          "output_type": "stream",
          "name": "stderr",
          "text": [
            "\r  0%|          | 0/1000 [00:00<?, ?it/s]"
          ]
        },
        {
          "output_type": "stream",
          "name": "stdout",
          "text": [
            "\n",
            "Start of epoch 0\n",
            "Training loss: 1.6597\n",
            "Training metric: 0.2356\n",
            "perturbation loss: 1.6094\n"
          ]
        },
        {
          "output_type": "stream",
          "name": "stderr",
          "text": [
            "\r  0%|          | 1/1000 [00:13<3:43:17, 13.41s/it]"
          ]
        },
        {
          "output_type": "stream",
          "name": "stdout",
          "text": [
            "Validation acc: 0.2812\n",
            "\n",
            "Start of epoch 1\n",
            "Training loss: 1.6597\n",
            "Training metric: 0.2524\n",
            "perturbation loss: 1.6094\n"
          ]
        },
        {
          "output_type": "stream",
          "name": "stderr",
          "text": [
            "\r  0%|          | 2/1000 [00:14<1:44:51,  6.30s/it]"
          ]
        },
        {
          "output_type": "stream",
          "name": "stdout",
          "text": [
            "Validation acc: 0.3203\n",
            "\n",
            "Start of epoch 2\n",
            "Training loss: 1.6593\n",
            "Training metric: 0.3017\n",
            "perturbation loss: 1.6094\n"
          ]
        },
        {
          "output_type": "stream",
          "name": "stderr",
          "text": [
            "\r  0%|          | 3/1000 [00:16<1:08:52,  4.14s/it]"
          ]
        },
        {
          "output_type": "stream",
          "name": "stdout",
          "text": [
            "Validation acc: 0.3984\n",
            "\n",
            "Start of epoch 3\n",
            "Training loss: 1.6592\n",
            "Training metric: 0.3263\n",
            "perturbation loss: 1.6094\n"
          ]
        },
        {
          "output_type": "stream",
          "name": "stderr",
          "text": [
            "\r  0%|          | 4/1000 [00:17<48:59,  2.95s/it]  "
          ]
        },
        {
          "output_type": "stream",
          "name": "stdout",
          "text": [
            "Validation acc: 0.3281\n",
            "\n",
            "Start of epoch 4\n",
            "Training loss: 1.6584\n",
            "Training metric: 0.3438\n",
            "perturbation loss: 1.6094\n"
          ]
        },
        {
          "output_type": "stream",
          "name": "stderr",
          "text": [
            "\r  0%|          | 5/1000 [00:18<37:40,  2.27s/it]"
          ]
        },
        {
          "output_type": "stream",
          "name": "stdout",
          "text": [
            "Validation acc: 0.3672\n",
            "\n",
            "Start of epoch 5\n",
            "Training loss: 1.6551\n",
            "Training metric: 0.3574\n",
            "perturbation loss: 1.6094\n"
          ]
        },
        {
          "output_type": "stream",
          "name": "stderr",
          "text": [
            "\r  1%|          | 6/1000 [00:19<30:47,  1.86s/it]"
          ]
        },
        {
          "output_type": "stream",
          "name": "stdout",
          "text": [
            "Validation acc: 0.4141\n",
            "\n",
            "Start of epoch 6\n",
            "Training loss: 1.6513\n",
            "Training metric: 0.3719\n",
            "perturbation loss: 1.6094\n"
          ]
        },
        {
          "output_type": "stream",
          "name": "stderr",
          "text": [
            "\r  1%|          | 7/1000 [00:20<26:24,  1.60s/it]"
          ]
        },
        {
          "output_type": "stream",
          "name": "stdout",
          "text": [
            "Validation acc: 0.3828\n",
            "\n",
            "Start of epoch 7\n",
            "Training loss: 1.6502\n",
            "Training metric: 0.3867\n",
            "perturbation loss: 1.6093\n"
          ]
        },
        {
          "output_type": "stream",
          "name": "stderr",
          "text": [
            "\r  1%|          | 8/1000 [00:21<23:31,  1.42s/it]"
          ]
        },
        {
          "output_type": "stream",
          "name": "stdout",
          "text": [
            "Validation acc: 0.4844\n",
            "\n",
            "Start of epoch 8\n",
            "Training loss: 1.6492\n",
            "Training metric: 0.4028\n",
            "perturbation loss: 1.6093\n"
          ]
        },
        {
          "output_type": "stream",
          "name": "stderr",
          "text": [
            "\r  1%|          | 9/1000 [00:22<21:39,  1.31s/it]"
          ]
        },
        {
          "output_type": "stream",
          "name": "stdout",
          "text": [
            "Validation acc: 0.4531\n",
            "\n",
            "Start of epoch 9\n",
            "Training loss: 1.6345\n",
            "Training metric: 0.4208\n",
            "perturbation loss: 1.6091\n"
          ]
        },
        {
          "output_type": "stream",
          "name": "stderr",
          "text": [
            "\r  1%|          | 10/1000 [00:23<20:24,  1.24s/it]"
          ]
        },
        {
          "output_type": "stream",
          "name": "stdout",
          "text": [
            "Validation acc: 0.4922\n",
            "\n",
            "Start of epoch 10\n",
            "Training loss: 1.6247\n",
            "Training metric: 0.4388\n",
            "perturbation loss: 1.6089\n"
          ]
        },
        {
          "output_type": "stream",
          "name": "stderr",
          "text": [
            "\r  1%|          | 11/1000 [00:24<19:34,  1.19s/it]"
          ]
        },
        {
          "output_type": "stream",
          "name": "stdout",
          "text": [
            "Validation acc: 0.5000\n",
            "\n",
            "Start of epoch 11\n",
            "Training loss: 1.6165\n",
            "Training metric: 0.4566\n",
            "perturbation loss: 1.6085\n"
          ]
        },
        {
          "output_type": "stream",
          "name": "stderr",
          "text": [
            "\r  1%|          | 12/1000 [00:25<18:53,  1.15s/it]"
          ]
        },
        {
          "output_type": "stream",
          "name": "stdout",
          "text": [
            "Validation acc: 0.4844\n",
            "\n",
            "Start of epoch 12\n",
            "Training loss: 1.6068\n",
            "Training metric: 0.4750\n",
            "perturbation loss: 1.6082\n"
          ]
        },
        {
          "output_type": "stream",
          "name": "stderr",
          "text": [
            "\r  1%|▏         | 13/1000 [00:26<18:08,  1.10s/it]"
          ]
        },
        {
          "output_type": "stream",
          "name": "stdout",
          "text": [
            "Validation acc: 0.6094\n",
            "\n",
            "Start of epoch 13\n",
            "Training loss: 1.5795\n",
            "Training metric: 0.4931\n",
            "perturbation loss: 1.6073\n"
          ]
        },
        {
          "output_type": "stream",
          "name": "stderr",
          "text": [
            "\r  1%|▏         | 14/1000 [00:28<19:12,  1.17s/it]"
          ]
        },
        {
          "output_type": "stream",
          "name": "stdout",
          "text": [
            "Validation acc: 0.5469\n",
            "\n",
            "Start of epoch 14\n",
            "Training loss: 1.5694\n",
            "Training metric: 0.5094\n",
            "perturbation loss: 1.6056\n"
          ]
        },
        {
          "output_type": "stream",
          "name": "stderr",
          "text": [
            "\r  2%|▏         | 15/1000 [00:29<20:04,  1.22s/it]"
          ]
        },
        {
          "output_type": "stream",
          "name": "stdout",
          "text": [
            "Validation acc: 0.7109\n",
            "\n",
            "Start of epoch 15\n",
            "Training loss: 1.5291\n",
            "Training metric: 0.5273\n",
            "perturbation loss: 1.6042\n"
          ]
        },
        {
          "output_type": "stream",
          "name": "stderr",
          "text": [
            "\r  2%|▏         | 16/1000 [00:30<20:05,  1.22s/it]"
          ]
        },
        {
          "output_type": "stream",
          "name": "stdout",
          "text": [
            "Validation acc: 0.7266\n",
            "\n",
            "Start of epoch 16\n",
            "Training loss: 1.4953\n",
            "Training metric: 0.5443\n",
            "perturbation loss: 1.6024\n"
          ]
        },
        {
          "output_type": "stream",
          "name": "stderr",
          "text": [
            "\r  2%|▏         | 17/1000 [00:31<19:05,  1.17s/it]"
          ]
        },
        {
          "output_type": "stream",
          "name": "stdout",
          "text": [
            "Validation acc: 0.6172\n",
            "\n",
            "Start of epoch 17\n",
            "Training loss: 1.4828\n",
            "Training metric: 0.5574\n",
            "perturbation loss: 1.5996\n"
          ]
        },
        {
          "output_type": "stream",
          "name": "stderr",
          "text": [
            "\r  2%|▏         | 18/1000 [00:32<18:17,  1.12s/it]"
          ]
        },
        {
          "output_type": "stream",
          "name": "stdout",
          "text": [
            "Validation acc: 0.7812\n",
            "\n",
            "Start of epoch 18\n",
            "Training loss: 1.4581\n",
            "Training metric: 0.5702\n",
            "perturbation loss: 1.5959\n"
          ]
        },
        {
          "output_type": "stream",
          "name": "stderr",
          "text": [
            "\r  2%|▏         | 19/1000 [00:33<17:41,  1.08s/it]"
          ]
        },
        {
          "output_type": "stream",
          "name": "stdout",
          "text": [
            "Validation acc: 0.7969\n",
            "\n",
            "Start of epoch 19\n",
            "Training loss: 1.4145\n",
            "Training metric: 0.5824\n",
            "perturbation loss: 1.5952\n"
          ]
        },
        {
          "output_type": "stream",
          "name": "stderr",
          "text": [
            "\r  2%|▏         | 20/1000 [00:34<17:14,  1.06s/it]"
          ]
        },
        {
          "output_type": "stream",
          "name": "stdout",
          "text": [
            "Validation acc: 0.6406\n",
            "\n",
            "Start of epoch 20\n",
            "Training loss: 1.3803\n",
            "Training metric: 0.5940\n",
            "perturbation loss: 1.5863\n"
          ]
        },
        {
          "output_type": "stream",
          "name": "stderr",
          "text": [
            "\r  2%|▏         | 21/1000 [00:35<16:51,  1.03s/it]"
          ]
        },
        {
          "output_type": "stream",
          "name": "stdout",
          "text": [
            "Validation acc: 0.8203\n",
            "\n",
            "Start of epoch 21\n",
            "Training loss: 1.3410\n",
            "Training metric: 0.6057\n",
            "perturbation loss: 1.5815\n"
          ]
        },
        {
          "output_type": "stream",
          "name": "stderr",
          "text": [
            "\r  2%|▏         | 22/1000 [00:36<16:38,  1.02s/it]"
          ]
        },
        {
          "output_type": "stream",
          "name": "stdout",
          "text": [
            "Validation acc: 0.8125\n",
            "\n",
            "Start of epoch 22\n",
            "Training loss: 1.3148\n",
            "Training metric: 0.6159\n",
            "perturbation loss: 1.5741\n"
          ]
        },
        {
          "output_type": "stream",
          "name": "stderr",
          "text": [
            "\r  2%|▏         | 23/1000 [00:37<16:30,  1.01s/it]"
          ]
        },
        {
          "output_type": "stream",
          "name": "stdout",
          "text": [
            "Validation acc: 0.5703\n",
            "\n",
            "Start of epoch 23\n",
            "Training loss: 1.2828\n",
            "Training metric: 0.6253\n",
            "perturbation loss: 1.5659\n"
          ]
        },
        {
          "output_type": "stream",
          "name": "stderr",
          "text": [
            "\r  2%|▏         | 24/1000 [00:38<16:23,  1.01s/it]"
          ]
        },
        {
          "output_type": "stream",
          "name": "stdout",
          "text": [
            "Validation acc: 0.7188\n",
            "\n",
            "Start of epoch 24\n",
            "Training loss: 1.1757\n",
            "Training metric: 0.6340\n",
            "perturbation loss: 1.5489\n"
          ]
        },
        {
          "output_type": "stream",
          "name": "stderr",
          "text": [
            "\r  2%|▎         | 25/1000 [00:39<16:20,  1.01s/it]"
          ]
        },
        {
          "output_type": "stream",
          "name": "stdout",
          "text": [
            "Validation acc: 0.8828\n",
            "\n",
            "Start of epoch 25\n",
            "Training loss: 1.1551\n",
            "Training metric: 0.6427\n",
            "perturbation loss: 1.5345\n"
          ]
        },
        {
          "output_type": "stream",
          "name": "stderr",
          "text": [
            "\r  3%|▎         | 26/1000 [00:40<16:49,  1.04s/it]"
          ]
        },
        {
          "output_type": "stream",
          "name": "stdout",
          "text": [
            "Validation acc: 0.8516\n",
            "\n",
            "Start of epoch 26\n",
            "Training loss: 1.1391\n",
            "Training metric: 0.6504\n",
            "perturbation loss: 1.5180\n"
          ]
        },
        {
          "output_type": "stream",
          "name": "stderr",
          "text": [
            "\r  3%|▎         | 27/1000 [00:42<18:09,  1.12s/it]"
          ]
        },
        {
          "output_type": "stream",
          "name": "stdout",
          "text": [
            "Validation acc: 0.7500\n",
            "\n",
            "Start of epoch 27\n",
            "Training loss: 1.0663\n",
            "Training metric: 0.6575\n",
            "perturbation loss: 1.5034\n"
          ]
        },
        {
          "output_type": "stream",
          "name": "stderr",
          "text": [
            "\r  3%|▎         | 28/1000 [00:43<19:04,  1.18s/it]"
          ]
        },
        {
          "output_type": "stream",
          "name": "stdout",
          "text": [
            "Validation acc: 0.7656\n",
            "\n",
            "Start of epoch 28\n",
            "Training loss: 1.0543\n",
            "Training metric: 0.6646\n",
            "perturbation loss: 1.4848\n"
          ]
        },
        {
          "output_type": "stream",
          "name": "stderr",
          "text": [
            "\r  3%|▎         | 29/1000 [00:44<18:52,  1.17s/it]"
          ]
        },
        {
          "output_type": "stream",
          "name": "stdout",
          "text": [
            "Validation acc: 0.8906\n",
            "\n",
            "Start of epoch 29\n",
            "Training loss: 1.0386\n",
            "Training metric: 0.6711\n",
            "perturbation loss: 1.4470\n"
          ]
        },
        {
          "output_type": "stream",
          "name": "stderr",
          "text": [
            "\r  3%|▎         | 30/1000 [00:45<17:56,  1.11s/it]"
          ]
        },
        {
          "output_type": "stream",
          "name": "stdout",
          "text": [
            "Validation acc: 0.7031\n",
            "\n",
            "Start of epoch 30\n",
            "Training loss: 0.8049\n",
            "Training metric: 0.6773\n",
            "perturbation loss: 1.3901\n"
          ]
        },
        {
          "output_type": "stream",
          "name": "stderr",
          "text": [
            "\r  3%|▎         | 31/1000 [00:46<17:14,  1.07s/it]"
          ]
        },
        {
          "output_type": "stream",
          "name": "stdout",
          "text": [
            "Validation acc: 0.8359\n",
            "\n",
            "Start of epoch 31\n",
            "Training loss: 0.8069\n",
            "Training metric: 0.6836\n",
            "perturbation loss: 1.3629\n"
          ]
        },
        {
          "output_type": "stream",
          "name": "stderr",
          "text": [
            "\r  3%|▎         | 32/1000 [00:47<16:41,  1.04s/it]"
          ]
        },
        {
          "output_type": "stream",
          "name": "stdout",
          "text": [
            "Validation acc: 0.8750\n",
            "\n",
            "Start of epoch 32\n",
            "Training loss: 0.8719\n",
            "Training metric: 0.6889\n",
            "perturbation loss: 1.3343\n",
            "Validation acc: 0.7891\n"
          ]
        },
        {
          "output_type": "stream",
          "name": "stderr",
          "text": [
            "\r  3%|▎         | 33/1000 [00:48<16:24,  1.02s/it]"
          ]
        },
        {
          "output_type": "stream",
          "name": "stdout",
          "text": [
            "\n",
            "Start of epoch 33\n",
            "Training loss: 0.7698\n",
            "Training metric: 0.6942\n",
            "perturbation loss: 1.3153\n"
          ]
        },
        {
          "output_type": "stream",
          "name": "stderr",
          "text": [
            "\r  3%|▎         | 34/1000 [00:49<16:05,  1.00it/s]"
          ]
        },
        {
          "output_type": "stream",
          "name": "stdout",
          "text": [
            "Validation acc: 0.4609\n",
            "\n",
            "Start of epoch 34\n",
            "Training loss: 0.7018\n",
            "Training metric: 0.6993\n",
            "perturbation loss: 1.2839\n"
          ]
        },
        {
          "output_type": "stream",
          "name": "stderr",
          "text": [
            "\r  4%|▎         | 35/1000 [00:50<15:58,  1.01it/s]"
          ]
        },
        {
          "output_type": "stream",
          "name": "stdout",
          "text": [
            "Validation acc: 0.7969\n",
            "\n",
            "Start of epoch 35\n",
            "Training loss: 0.8324\n",
            "Training metric: 0.7043\n",
            "perturbation loss: 1.2066\n",
            "Validation acc: 0.8359\n"
          ]
        },
        {
          "output_type": "stream",
          "name": "stderr",
          "text": [
            "\r  4%|▎         | 36/1000 [00:51<15:54,  1.01it/s]"
          ]
        },
        {
          "output_type": "stream",
          "name": "stdout",
          "text": [
            "\n",
            "Start of epoch 36\n",
            "Training loss: 0.6668\n",
            "Training metric: 0.7092\n",
            "perturbation loss: 1.1352\n"
          ]
        },
        {
          "output_type": "stream",
          "name": "stderr",
          "text": [
            "\r  4%|▎         | 37/1000 [00:52<15:49,  1.01it/s]"
          ]
        },
        {
          "output_type": "stream",
          "name": "stdout",
          "text": [
            "Validation acc: 0.6797\n",
            "\n",
            "Start of epoch 37\n",
            "Training loss: 0.5332\n",
            "Training metric: 0.7144\n",
            "perturbation loss: 1.0442\n"
          ]
        },
        {
          "output_type": "stream",
          "name": "stderr",
          "text": [
            "\r  4%|▍         | 38/1000 [00:53<15:42,  1.02it/s]"
          ]
        },
        {
          "output_type": "stream",
          "name": "stdout",
          "text": [
            "Validation acc: 0.7734\n",
            "\n",
            "Start of epoch 38\n",
            "Training loss: 0.5566\n",
            "Training metric: 0.7192\n",
            "perturbation loss: 1.0358\n"
          ]
        },
        {
          "output_type": "stream",
          "name": "stderr",
          "text": [
            "\r  4%|▍         | 39/1000 [00:54<16:11,  1.01s/it]"
          ]
        },
        {
          "output_type": "stream",
          "name": "stdout",
          "text": [
            "Validation acc: 0.7891\n",
            "\n",
            "Start of epoch 39\n",
            "Training loss: 0.4459\n",
            "Training metric: 0.7238\n",
            "perturbation loss: 0.9031\n"
          ]
        },
        {
          "output_type": "stream",
          "name": "stderr",
          "text": [
            "\r  4%|▍         | 40/1000 [00:55<17:31,  1.10s/it]"
          ]
        },
        {
          "output_type": "stream",
          "name": "stdout",
          "text": [
            "Validation acc: 0.8047\n",
            "\n",
            "Start of epoch 40\n",
            "Training loss: 0.4568\n",
            "Training metric: 0.7284\n",
            "perturbation loss: 0.8862\n"
          ]
        },
        {
          "output_type": "stream",
          "name": "stderr",
          "text": [
            "\r  4%|▍         | 41/1000 [00:57<18:30,  1.16s/it]"
          ]
        },
        {
          "output_type": "stream",
          "name": "stdout",
          "text": [
            "Validation acc: 0.8281\n",
            "\n",
            "Start of epoch 41\n",
            "Training loss: 0.3121\n",
            "Training metric: 0.7329\n",
            "perturbation loss: 0.7180\n"
          ]
        },
        {
          "output_type": "stream",
          "name": "stderr",
          "text": [
            "\r  4%|▍         | 42/1000 [00:58<18:29,  1.16s/it]"
          ]
        },
        {
          "output_type": "stream",
          "name": "stdout",
          "text": [
            "Validation acc: 0.8828\n",
            "\n",
            "Start of epoch 42\n",
            "Training loss: 0.3275\n",
            "Training metric: 0.7374\n",
            "perturbation loss: 0.7989\n"
          ]
        },
        {
          "output_type": "stream",
          "name": "stderr",
          "text": [
            "\r  4%|▍         | 43/1000 [00:59<17:36,  1.10s/it]"
          ]
        },
        {
          "output_type": "stream",
          "name": "stdout",
          "text": [
            "Validation acc: 0.8984\n",
            "\n",
            "Start of epoch 43\n",
            "Training loss: 0.3750\n",
            "Training metric: 0.7420\n",
            "perturbation loss: 0.7599\n"
          ]
        },
        {
          "output_type": "stream",
          "name": "stderr",
          "text": [
            "\r  4%|▍         | 44/1000 [01:00<16:59,  1.07s/it]"
          ]
        },
        {
          "output_type": "stream",
          "name": "stdout",
          "text": [
            "Validation acc: 0.8125\n",
            "\n",
            "Start of epoch 44\n",
            "Training loss: 0.3358\n",
            "Training metric: 0.7466\n",
            "perturbation loss: 0.7343\n"
          ]
        },
        {
          "output_type": "stream",
          "name": "stderr",
          "text": [
            "\r  4%|▍         | 45/1000 [01:01<16:31,  1.04s/it]"
          ]
        },
        {
          "output_type": "stream",
          "name": "stdout",
          "text": [
            "Validation acc: 0.8516\n",
            "\n",
            "Start of epoch 45\n",
            "Training loss: 0.2561\n",
            "Training metric: 0.7513\n",
            "perturbation loss: 0.6282\n"
          ]
        },
        {
          "output_type": "stream",
          "name": "stderr",
          "text": [
            "\r  5%|▍         | 46/1000 [01:02<16:01,  1.01s/it]"
          ]
        },
        {
          "output_type": "stream",
          "name": "stdout",
          "text": [
            "Validation acc: 0.9219\n",
            "\n",
            "Start of epoch 46\n",
            "Training loss: 0.4351\n",
            "Training metric: 0.7555\n",
            "perturbation loss: 0.6137\n"
          ]
        },
        {
          "output_type": "stream",
          "name": "stderr",
          "text": [
            "\r  5%|▍         | 47/1000 [01:03<16:13,  1.02s/it]"
          ]
        },
        {
          "output_type": "stream",
          "name": "stdout",
          "text": [
            "Validation acc: 0.7500\n",
            "\n",
            "Start of epoch 47\n",
            "Training loss: 0.2063\n",
            "Training metric: 0.7594\n",
            "perturbation loss: 0.4792\n"
          ]
        },
        {
          "output_type": "stream",
          "name": "stderr",
          "text": [
            "\r  5%|▍         | 48/1000 [01:04<16:04,  1.01s/it]"
          ]
        },
        {
          "output_type": "stream",
          "name": "stdout",
          "text": [
            "Validation acc: 0.8203\n",
            "\n",
            "Start of epoch 48\n",
            "Training loss: 0.2199\n",
            "Training metric: 0.7632\n",
            "perturbation loss: 0.4712\n"
          ]
        },
        {
          "output_type": "stream",
          "name": "stderr",
          "text": [
            "\r  5%|▍         | 49/1000 [01:05<16:16,  1.03s/it]"
          ]
        },
        {
          "output_type": "stream",
          "name": "stdout",
          "text": [
            "Validation acc: 0.8047\n",
            "\n",
            "Start of epoch 49\n",
            "Training loss: 0.2595\n",
            "Training metric: 0.7671\n",
            "perturbation loss: 0.4951\n"
          ]
        },
        {
          "output_type": "stream",
          "name": "stderr",
          "text": [
            "\r  5%|▌         | 50/1000 [01:06<15:55,  1.01s/it]"
          ]
        },
        {
          "output_type": "stream",
          "name": "stdout",
          "text": [
            "Validation acc: 0.8594\n",
            "\n",
            "Start of epoch 50\n",
            "Training loss: 0.2022\n",
            "Training metric: 0.7707\n",
            "perturbation loss: 0.4575\n"
          ]
        },
        {
          "output_type": "stream",
          "name": "stderr",
          "text": [
            "\r  5%|▌         | 51/1000 [01:07<16:07,  1.02s/it]"
          ]
        },
        {
          "output_type": "stream",
          "name": "stdout",
          "text": [
            "Validation acc: 0.8984\n",
            "\n",
            "Start of epoch 51\n",
            "Training loss: 0.1425\n",
            "Training metric: 0.7740\n",
            "perturbation loss: 0.3214\n"
          ]
        },
        {
          "output_type": "stream",
          "name": "stderr",
          "text": [
            "\r  5%|▌         | 52/1000 [01:08<16:34,  1.05s/it]"
          ]
        },
        {
          "output_type": "stream",
          "name": "stdout",
          "text": [
            "Validation acc: 0.8203\n",
            "\n",
            "Start of epoch 52\n",
            "Training loss: 0.1693\n",
            "Training metric: 0.7772\n",
            "perturbation loss: 0.5170\n"
          ]
        },
        {
          "output_type": "stream",
          "name": "stderr",
          "text": [
            "\r  5%|▌         | 53/1000 [01:10<23:05,  1.46s/it]"
          ]
        },
        {
          "output_type": "stream",
          "name": "stdout",
          "text": [
            "Validation acc: 0.6719\n",
            "\n",
            "Start of epoch 53\n",
            "Training loss: 0.1654\n",
            "Training metric: 0.7803\n",
            "perturbation loss: 0.3482\n"
          ]
        },
        {
          "output_type": "stream",
          "name": "stderr",
          "text": [
            "\r  5%|▌         | 54/1000 [01:11<21:43,  1.38s/it]"
          ]
        },
        {
          "output_type": "stream",
          "name": "stdout",
          "text": [
            "Validation acc: 0.7422\n",
            "\n",
            "Start of epoch 54\n",
            "Training loss: 0.0794\n",
            "Training metric: 0.7836\n",
            "perturbation loss: 0.2932\n"
          ]
        },
        {
          "output_type": "stream",
          "name": "stderr",
          "text": [
            "\r  6%|▌         | 55/1000 [01:12<19:48,  1.26s/it]"
          ]
        },
        {
          "output_type": "stream",
          "name": "stdout",
          "text": [
            "Validation acc: 0.8750\n",
            "\n",
            "Start of epoch 55\n",
            "Training loss: 0.0846\n",
            "Training metric: 0.7867\n",
            "perturbation loss: 0.2310\n",
            "Validation acc: 0.8750\n"
          ]
        },
        {
          "output_type": "stream",
          "name": "stderr",
          "text": [
            "\r  6%|▌         | 56/1000 [01:13<18:25,  1.17s/it]"
          ]
        },
        {
          "output_type": "stream",
          "name": "stdout",
          "text": [
            "\n",
            "Start of epoch 56\n",
            "Training loss: 0.1802\n",
            "Training metric: 0.7899\n",
            "perturbation loss: 0.3715\n"
          ]
        },
        {
          "output_type": "stream",
          "name": "stderr",
          "text": [
            "\r  6%|▌         | 57/1000 [01:14<17:36,  1.12s/it]"
          ]
        },
        {
          "output_type": "stream",
          "name": "stdout",
          "text": [
            "Validation acc: 0.7109\n",
            "\n",
            "Start of epoch 57\n",
            "Training loss: 0.1065\n",
            "Training metric: 0.7928\n",
            "perturbation loss: 0.3126\n"
          ]
        },
        {
          "output_type": "stream",
          "name": "stderr",
          "text": [
            "\r  6%|▌         | 58/1000 [01:15<17:02,  1.09s/it]"
          ]
        },
        {
          "output_type": "stream",
          "name": "stdout",
          "text": [
            "Validation acc: 0.8906\n",
            "\n",
            "Start of epoch 58\n",
            "Training loss: 0.2937\n",
            "Training metric: 0.7953\n",
            "perturbation loss: 0.4210\n"
          ]
        },
        {
          "output_type": "stream",
          "name": "stderr",
          "text": [
            "\r  6%|▌         | 59/1000 [01:16<16:41,  1.06s/it]"
          ]
        },
        {
          "output_type": "stream",
          "name": "stdout",
          "text": [
            "Validation acc: 0.7422\n",
            "\n",
            "Start of epoch 59\n",
            "Training loss: 0.1681\n",
            "Training metric: 0.7982\n",
            "perturbation loss: 0.2795\n"
          ]
        },
        {
          "output_type": "stream",
          "name": "stderr",
          "text": [
            "\r  6%|▌         | 60/1000 [01:18<16:36,  1.06s/it]"
          ]
        },
        {
          "output_type": "stream",
          "name": "stdout",
          "text": [
            "Validation acc: 0.9062\n",
            "\n",
            "Start of epoch 60\n",
            "Training loss: 0.0880\n",
            "Training metric: 0.8011\n",
            "perturbation loss: 0.2284\n"
          ]
        },
        {
          "output_type": "stream",
          "name": "stderr",
          "text": [
            "\r  6%|▌         | 61/1000 [01:19<18:24,  1.18s/it]"
          ]
        },
        {
          "output_type": "stream",
          "name": "stdout",
          "text": [
            "Validation acc: 0.6641\n",
            "\n",
            "Start of epoch 61\n",
            "Training loss: 0.4903\n",
            "Training metric: 0.8037\n",
            "perturbation loss: 0.5515\n"
          ]
        },
        {
          "output_type": "stream",
          "name": "stderr",
          "text": [
            "\r  6%|▌         | 62/1000 [01:21<20:23,  1.30s/it]"
          ]
        },
        {
          "output_type": "stream",
          "name": "stdout",
          "text": [
            "Validation acc: 0.5234\n",
            "\n",
            "Start of epoch 62\n",
            "Training loss: 0.1117\n",
            "Training metric: 0.8063\n",
            "perturbation loss: 0.2498\n"
          ]
        },
        {
          "output_type": "stream",
          "name": "stderr",
          "text": [
            "\r  6%|▋         | 63/1000 [01:22<20:14,  1.30s/it]"
          ]
        },
        {
          "output_type": "stream",
          "name": "stdout",
          "text": [
            "Validation acc: 0.8359\n",
            "\n",
            "Start of epoch 63\n",
            "Training loss: 0.0404\n",
            "Training metric: 0.8090\n",
            "perturbation loss: 0.2019\n"
          ]
        },
        {
          "output_type": "stream",
          "name": "stderr",
          "text": [
            "\r  6%|▋         | 64/1000 [01:23<21:32,  1.38s/it]"
          ]
        },
        {
          "output_type": "stream",
          "name": "stdout",
          "text": [
            "Validation acc: 0.8828\n",
            "\n",
            "Start of epoch 64\n",
            "Training loss: 0.2237\n",
            "Training metric: 0.8112\n",
            "perturbation loss: 0.3350\n"
          ]
        },
        {
          "output_type": "stream",
          "name": "stderr",
          "text": [
            "\r  6%|▋         | 65/1000 [01:25<21:12,  1.36s/it]"
          ]
        },
        {
          "output_type": "stream",
          "name": "stdout",
          "text": [
            "Validation acc: 0.8438\n",
            "\n",
            "Start of epoch 65\n",
            "Training loss: 0.0341\n",
            "Training metric: 0.8132\n",
            "perturbation loss: 0.1473\n"
          ]
        },
        {
          "output_type": "stream",
          "name": "stderr",
          "text": [
            "\r  7%|▋         | 66/1000 [01:26<19:39,  1.26s/it]"
          ]
        },
        {
          "output_type": "stream",
          "name": "stdout",
          "text": [
            "Validation acc: 0.8516\n",
            "\n",
            "Start of epoch 66\n",
            "Training loss: 0.0557\n",
            "Training metric: 0.8154\n",
            "perturbation loss: 0.1998\n"
          ]
        },
        {
          "output_type": "stream",
          "name": "stderr",
          "text": [
            "\r  7%|▋         | 67/1000 [01:27<18:17,  1.18s/it]"
          ]
        },
        {
          "output_type": "stream",
          "name": "stdout",
          "text": [
            "Validation acc: 0.7734\n",
            "\n",
            "Start of epoch 67\n",
            "Training loss: 0.0631\n",
            "Training metric: 0.8178\n",
            "perturbation loss: 0.1540\n"
          ]
        },
        {
          "output_type": "stream",
          "name": "stderr",
          "text": [
            "\r  7%|▋         | 68/1000 [01:28<17:21,  1.12s/it]"
          ]
        },
        {
          "output_type": "stream",
          "name": "stdout",
          "text": [
            "Validation acc: 0.8438\n",
            "\n",
            "Start of epoch 68\n",
            "Training loss: 0.0158\n",
            "Training metric: 0.8202\n",
            "perturbation loss: 0.0675\n"
          ]
        },
        {
          "output_type": "stream",
          "name": "stderr",
          "text": [
            "\r  7%|▋         | 69/1000 [01:29<16:45,  1.08s/it]"
          ]
        },
        {
          "output_type": "stream",
          "name": "stdout",
          "text": [
            "Validation acc: 0.8906\n",
            "\n",
            "Start of epoch 69\n",
            "Training loss: 0.0247\n",
            "Training metric: 0.8224\n",
            "perturbation loss: 0.0933\n"
          ]
        },
        {
          "output_type": "stream",
          "name": "stderr",
          "text": [
            "\r  7%|▋         | 70/1000 [01:30<16:14,  1.05s/it]"
          ]
        },
        {
          "output_type": "stream",
          "name": "stdout",
          "text": [
            "Validation acc: 0.5234\n",
            "\n",
            "Start of epoch 70\n",
            "Training loss: 0.2084\n",
            "Training metric: 0.8245\n",
            "perturbation loss: 0.1565\n",
            "Validation acc: 0.7500\n"
          ]
        },
        {
          "output_type": "stream",
          "name": "stderr",
          "text": [
            "\r  7%|▋         | 71/1000 [01:31<15:50,  1.02s/it]"
          ]
        },
        {
          "output_type": "stream",
          "name": "stdout",
          "text": [
            "\n",
            "Start of epoch 71\n",
            "Training loss: 0.0970\n",
            "Training metric: 0.8267\n",
            "perturbation loss: 0.3706\n"
          ]
        },
        {
          "output_type": "stream",
          "name": "stderr",
          "text": [
            "\r  7%|▋         | 72/1000 [01:32<15:31,  1.00s/it]"
          ]
        },
        {
          "output_type": "stream",
          "name": "stdout",
          "text": [
            "Validation acc: 0.8672\n",
            "\n",
            "Start of epoch 72\n",
            "Training loss: 0.0362\n",
            "Training metric: 0.8289\n",
            "perturbation loss: 0.1183\n"
          ]
        },
        {
          "output_type": "stream",
          "name": "stderr",
          "text": [
            "\r  7%|▋         | 73/1000 [01:33<15:22,  1.00it/s]"
          ]
        },
        {
          "output_type": "stream",
          "name": "stdout",
          "text": [
            "Validation acc: 0.8359\n",
            "\n",
            "Start of epoch 73\n",
            "Training loss: 0.1762\n",
            "Training metric: 0.8309\n",
            "perturbation loss: 0.1689\n"
          ]
        },
        {
          "output_type": "stream",
          "name": "stderr",
          "text": [
            "\r  7%|▋         | 74/1000 [01:34<15:16,  1.01it/s]"
          ]
        },
        {
          "output_type": "stream",
          "name": "stdout",
          "text": [
            "Validation acc: 0.5312\n",
            "\n",
            "Start of epoch 74\n",
            "Training loss: 0.1167\n",
            "Training metric: 0.8328\n",
            "perturbation loss: 0.1771\n"
          ]
        },
        {
          "output_type": "stream",
          "name": "stderr",
          "text": [
            "\r  8%|▊         | 75/1000 [01:35<15:47,  1.02s/it]"
          ]
        },
        {
          "output_type": "stream",
          "name": "stdout",
          "text": [
            "Validation acc: 0.8359\n",
            "\n",
            "Start of epoch 75\n",
            "Training loss: 0.1602\n",
            "Training metric: 0.8349\n",
            "perturbation loss: 0.1252\n"
          ]
        },
        {
          "output_type": "stream",
          "name": "stderr",
          "text": [
            "\r  8%|▊         | 76/1000 [01:36<16:46,  1.09s/it]"
          ]
        },
        {
          "output_type": "stream",
          "name": "stdout",
          "text": [
            "Validation acc: 0.8516\n",
            "\n",
            "Start of epoch 76\n",
            "Training loss: 0.0395\n",
            "Training metric: 0.8368\n",
            "perturbation loss: 0.2525\n"
          ]
        },
        {
          "output_type": "stream",
          "name": "stderr",
          "text": [
            "\r  8%|▊         | 77/1000 [01:37<17:43,  1.15s/it]"
          ]
        },
        {
          "output_type": "stream",
          "name": "stdout",
          "text": [
            "Validation acc: 0.8594\n",
            "\n",
            "Start of epoch 77\n",
            "Training loss: 0.1569\n",
            "Training metric: 0.8386\n",
            "perturbation loss: 0.3725\n"
          ]
        },
        {
          "output_type": "stream",
          "name": "stderr",
          "text": [
            "\r  8%|▊         | 78/1000 [01:39<18:33,  1.21s/it]"
          ]
        },
        {
          "output_type": "stream",
          "name": "stdout",
          "text": [
            "Validation acc: 0.8359\n",
            "\n",
            "Start of epoch 78\n",
            "Training loss: 0.0548\n",
            "Training metric: 0.8404\n",
            "perturbation loss: 0.1874\n"
          ]
        },
        {
          "output_type": "stream",
          "name": "stderr",
          "text": [
            "\r  8%|▊         | 79/1000 [01:40<17:53,  1.17s/it]"
          ]
        },
        {
          "output_type": "stream",
          "name": "stdout",
          "text": [
            "Validation acc: 0.5625\n",
            "\n",
            "Start of epoch 79\n",
            "Training loss: 0.0831\n",
            "Training metric: 0.8422\n",
            "perturbation loss: 0.1947\n"
          ]
        },
        {
          "output_type": "stream",
          "name": "stderr",
          "text": [
            "\r  8%|▊         | 80/1000 [01:41<17:07,  1.12s/it]"
          ]
        },
        {
          "output_type": "stream",
          "name": "stdout",
          "text": [
            "Validation acc: 0.8281\n",
            "\n",
            "Start of epoch 80\n",
            "Training loss: 0.0692\n",
            "Training metric: 0.8437\n",
            "perturbation loss: 0.1668\n"
          ]
        },
        {
          "output_type": "stream",
          "name": "stderr",
          "text": [
            "\r  8%|▊         | 81/1000 [01:42<16:27,  1.07s/it]"
          ]
        },
        {
          "output_type": "stream",
          "name": "stdout",
          "text": [
            "Validation acc: 0.8203\n",
            "\n",
            "Start of epoch 81\n",
            "Training loss: 0.0397\n",
            "Training metric: 0.8454\n",
            "perturbation loss: 0.0981\n"
          ]
        },
        {
          "output_type": "stream",
          "name": "stderr",
          "text": [
            "\r  8%|▊         | 82/1000 [01:43<15:57,  1.04s/it]"
          ]
        },
        {
          "output_type": "stream",
          "name": "stdout",
          "text": [
            "Validation acc: 0.9219\n",
            "\n",
            "Start of epoch 82\n",
            "Training loss: 0.0777\n",
            "Training metric: 0.8469\n",
            "perturbation loss: 0.2210\n",
            "Validation acc: 0.8984\n"
          ]
        },
        {
          "output_type": "stream",
          "name": "stderr",
          "text": [
            "\r  8%|▊         | 83/1000 [01:44<15:37,  1.02s/it]"
          ]
        },
        {
          "output_type": "stream",
          "name": "stdout",
          "text": [
            "\n",
            "Start of epoch 83\n",
            "Training loss: 0.0759\n",
            "Training metric: 0.8484\n",
            "perturbation loss: 0.1394\n"
          ]
        },
        {
          "output_type": "stream",
          "name": "stderr",
          "text": [
            "\r  8%|▊         | 84/1000 [01:44<15:20,  1.00s/it]"
          ]
        },
        {
          "output_type": "stream",
          "name": "stdout",
          "text": [
            "Validation acc: 0.6719\n",
            "\n",
            "Start of epoch 84\n",
            "Training loss: 0.0696\n",
            "Training metric: 0.8500\n",
            "perturbation loss: 0.0762\n"
          ]
        },
        {
          "output_type": "stream",
          "name": "stderr",
          "text": [
            "\r  8%|▊         | 85/1000 [01:45<15:12,  1.00it/s]"
          ]
        },
        {
          "output_type": "stream",
          "name": "stdout",
          "text": [
            "Validation acc: 0.8281\n",
            "\n",
            "Start of epoch 85\n",
            "Training loss: 0.0468\n",
            "Training metric: 0.8516\n",
            "perturbation loss: 0.1087\n"
          ]
        },
        {
          "output_type": "stream",
          "name": "stderr",
          "text": [
            "\r  9%|▊         | 86/1000 [01:46<15:02,  1.01it/s]"
          ]
        },
        {
          "output_type": "stream",
          "name": "stdout",
          "text": [
            "Validation acc: 0.8828\n",
            "\n",
            "Start of epoch 86\n",
            "Training loss: 0.0732\n",
            "Training metric: 0.8530\n",
            "perturbation loss: 0.1675\n"
          ]
        },
        {
          "output_type": "stream",
          "name": "stderr",
          "text": [
            "\r  9%|▊         | 87/1000 [01:47<14:55,  1.02it/s]"
          ]
        },
        {
          "output_type": "stream",
          "name": "stdout",
          "text": [
            "Validation acc: 0.8906\n",
            "\n",
            "Start of epoch 87\n",
            "Training loss: 0.0945\n",
            "Training metric: 0.8543\n",
            "perturbation loss: 0.1473\n"
          ]
        },
        {
          "output_type": "stream",
          "name": "stderr",
          "text": [
            "\r  9%|▉         | 88/1000 [01:48<14:54,  1.02it/s]"
          ]
        },
        {
          "output_type": "stream",
          "name": "stdout",
          "text": [
            "Validation acc: 0.7422\n",
            "\n",
            "Start of epoch 88\n",
            "Training loss: 0.0871\n",
            "Training metric: 0.8556\n",
            "perturbation loss: 0.2533\n"
          ]
        },
        {
          "output_type": "stream",
          "name": "stderr",
          "text": [
            "\r  9%|▉         | 89/1000 [01:50<16:16,  1.07s/it]"
          ]
        },
        {
          "output_type": "stream",
          "name": "stdout",
          "text": [
            "Validation acc: 0.3672\n",
            "\n",
            "Start of epoch 89\n",
            "Training loss: 0.0459\n",
            "Training metric: 0.8569\n",
            "perturbation loss: 0.1146\n"
          ]
        },
        {
          "output_type": "stream",
          "name": "stderr",
          "text": [
            "\r  9%|▉         | 90/1000 [01:51<17:26,  1.15s/it]"
          ]
        },
        {
          "output_type": "stream",
          "name": "stdout",
          "text": [
            "Validation acc: 0.8750\n",
            "\n",
            "Start of epoch 90\n",
            "Training loss: 0.0375\n",
            "Training metric: 0.8584\n",
            "perturbation loss: 0.0763\n"
          ]
        },
        {
          "output_type": "stream",
          "name": "stderr",
          "text": [
            "\r  9%|▉         | 91/1000 [01:52<18:05,  1.19s/it]"
          ]
        },
        {
          "output_type": "stream",
          "name": "stdout",
          "text": [
            "Validation acc: 0.8438\n",
            "\n",
            "Start of epoch 91\n",
            "Training loss: 0.0540\n",
            "Training metric: 0.8598\n",
            "perturbation loss: 0.1155\n"
          ]
        },
        {
          "output_type": "stream",
          "name": "stderr",
          "text": [
            "\r  9%|▉         | 92/1000 [01:53<17:31,  1.16s/it]"
          ]
        },
        {
          "output_type": "stream",
          "name": "stdout",
          "text": [
            "Validation acc: 0.8828\n",
            "\n",
            "Start of epoch 92\n",
            "Training loss: 0.0156\n",
            "Training metric: 0.8611\n",
            "perturbation loss: 0.0830\n"
          ]
        },
        {
          "output_type": "stream",
          "name": "stderr",
          "text": [
            "\r  9%|▉         | 93/1000 [01:54<16:45,  1.11s/it]"
          ]
        },
        {
          "output_type": "stream",
          "name": "stdout",
          "text": [
            "Validation acc: 0.9141\n",
            "\n",
            "Start of epoch 93\n",
            "Training loss: 0.1728\n",
            "Training metric: 0.8624\n",
            "perturbation loss: 0.1439\n"
          ]
        },
        {
          "output_type": "stream",
          "name": "stderr",
          "text": [
            "\r  9%|▉         | 94/1000 [01:55<16:35,  1.10s/it]"
          ]
        },
        {
          "output_type": "stream",
          "name": "stdout",
          "text": [
            "Validation acc: 0.7422\n",
            "\n",
            "Start of epoch 94\n",
            "Training loss: 0.0622\n",
            "Training metric: 0.8638\n",
            "perturbation loss: 0.1415\n"
          ]
        },
        {
          "output_type": "stream",
          "name": "stderr",
          "text": [
            "\r 10%|▉         | 95/1000 [01:57<16:27,  1.09s/it]"
          ]
        },
        {
          "output_type": "stream",
          "name": "stdout",
          "text": [
            "Validation acc: 0.9141\n",
            "\n",
            "Start of epoch 95\n",
            "Training loss: 0.0130\n",
            "Training metric: 0.8651\n",
            "perturbation loss: 0.0484\n"
          ]
        },
        {
          "output_type": "stream",
          "name": "stderr",
          "text": [
            "\r 10%|▉         | 96/1000 [01:57<15:55,  1.06s/it]"
          ]
        },
        {
          "output_type": "stream",
          "name": "stdout",
          "text": [
            "Validation acc: 0.9062\n",
            "\n",
            "Start of epoch 96\n",
            "Training loss: 0.0241\n",
            "Training metric: 0.8662\n",
            "perturbation loss: 0.0592\n"
          ]
        },
        {
          "output_type": "stream",
          "name": "stderr",
          "text": [
            "\r 10%|▉         | 97/1000 [01:58<15:30,  1.03s/it]"
          ]
        },
        {
          "output_type": "stream",
          "name": "stdout",
          "text": [
            "Validation acc: 0.8906\n",
            "\n",
            "Start of epoch 97\n",
            "Training loss: 0.0203\n",
            "Training metric: 0.8674\n",
            "perturbation loss: 0.1310\n"
          ]
        },
        {
          "output_type": "stream",
          "name": "stderr",
          "text": [
            "\r 10%|▉         | 98/1000 [01:59<15:13,  1.01s/it]"
          ]
        },
        {
          "output_type": "stream",
          "name": "stdout",
          "text": [
            "Validation acc: 0.5547\n",
            "\n",
            "Start of epoch 98\n",
            "Training loss: 0.0037\n",
            "Training metric: 0.8687\n",
            "perturbation loss: 0.0316\n",
            "Validation acc: 0.9062\n"
          ]
        },
        {
          "output_type": "stream",
          "name": "stderr",
          "text": [
            "\r 10%|▉         | 99/1000 [02:00<15:06,  1.01s/it]"
          ]
        },
        {
          "output_type": "stream",
          "name": "stdout",
          "text": [
            "\n",
            "Start of epoch 99\n",
            "Training loss: 0.0358\n",
            "Training metric: 0.8700\n",
            "perturbation loss: 0.1357\n"
          ]
        },
        {
          "output_type": "stream",
          "name": "stderr",
          "text": [
            "\r 10%|█         | 100/1000 [02:01<14:58,  1.00it/s]"
          ]
        },
        {
          "output_type": "stream",
          "name": "stdout",
          "text": [
            "Validation acc: 0.9141\n",
            "\n",
            "Start of epoch 100\n",
            "Training loss: 0.2353\n",
            "Training metric: 0.8710\n",
            "perturbation loss: 0.0930\n"
          ]
        },
        {
          "output_type": "stream",
          "name": "stderr",
          "text": [
            "\r 10%|█         | 101/1000 [02:02<15:15,  1.02s/it]"
          ]
        },
        {
          "output_type": "stream",
          "name": "stdout",
          "text": [
            "Validation acc: 0.9141\n",
            "\n",
            "Start of epoch 101\n",
            "Training loss: 0.0098\n",
            "Training metric: 0.8722\n",
            "perturbation loss: 0.0606\n"
          ]
        },
        {
          "output_type": "stream",
          "name": "stderr",
          "text": [
            "\r 10%|█         | 102/1000 [02:04<17:47,  1.19s/it]"
          ]
        },
        {
          "output_type": "stream",
          "name": "stdout",
          "text": [
            "Validation acc: 0.9375\n",
            "\n",
            "Start of epoch 102\n",
            "Training loss: 0.1575\n",
            "Training metric: 0.8732\n",
            "perturbation loss: 0.1792\n"
          ]
        },
        {
          "output_type": "stream",
          "name": "stderr",
          "text": [
            "\r 10%|█         | 103/1000 [02:05<18:23,  1.23s/it]"
          ]
        },
        {
          "output_type": "stream",
          "name": "stdout",
          "text": [
            "Validation acc: 0.8438\n",
            "\n",
            "Start of epoch 103\n",
            "Training loss: 0.0071\n",
            "Training metric: 0.8744\n",
            "perturbation loss: 0.0475\n"
          ]
        },
        {
          "output_type": "stream",
          "name": "stderr",
          "text": [
            "\r 10%|█         | 104/1000 [02:06<17:38,  1.18s/it]"
          ]
        },
        {
          "output_type": "stream",
          "name": "stdout",
          "text": [
            "Validation acc: 0.9062\n",
            "\n",
            "Start of epoch 104\n",
            "Training loss: 0.0047\n",
            "Training metric: 0.8756\n",
            "perturbation loss: 0.0195\n"
          ]
        },
        {
          "output_type": "stream",
          "name": "stderr",
          "text": [
            "\r 10%|█         | 105/1000 [02:08<17:13,  1.15s/it]"
          ]
        },
        {
          "output_type": "stream",
          "name": "stdout",
          "text": [
            "Validation acc: 0.9062\n",
            "\n",
            "Start of epoch 105\n",
            "Training loss: 0.1305\n",
            "Training metric: 0.8767\n",
            "perturbation loss: 0.1270\n"
          ]
        },
        {
          "output_type": "stream",
          "name": "stderr",
          "text": [
            "\r 11%|█         | 106/1000 [02:09<16:27,  1.10s/it]"
          ]
        },
        {
          "output_type": "stream",
          "name": "stdout",
          "text": [
            "Validation acc: 0.7969\n",
            "\n",
            "Start of epoch 106\n",
            "Training loss: 0.0421\n",
            "Training metric: 0.8777\n",
            "perturbation loss: 0.0836\n"
          ]
        },
        {
          "output_type": "stream",
          "name": "stderr",
          "text": [
            "\r 11%|█         | 107/1000 [02:10<15:51,  1.07s/it]"
          ]
        },
        {
          "output_type": "stream",
          "name": "stdout",
          "text": [
            "Validation acc: 0.8828\n",
            "\n",
            "Start of epoch 107\n",
            "Training loss: 0.2645\n",
            "Training metric: 0.8786\n",
            "perturbation loss: 0.3225\n"
          ]
        },
        {
          "output_type": "stream",
          "name": "stderr",
          "text": [
            "\r 11%|█         | 108/1000 [02:10<15:31,  1.04s/it]"
          ]
        },
        {
          "output_type": "stream",
          "name": "stdout",
          "text": [
            "Validation acc: 0.6406\n",
            "\n",
            "Start of epoch 108\n",
            "Training loss: 0.1923\n",
            "Training metric: 0.8795\n",
            "perturbation loss: 0.2444\n"
          ]
        },
        {
          "output_type": "stream",
          "name": "stderr",
          "text": [
            "\r 11%|█         | 109/1000 [02:11<15:15,  1.03s/it]"
          ]
        },
        {
          "output_type": "stream",
          "name": "stdout",
          "text": [
            "Validation acc: 0.8516\n",
            "\n",
            "Start of epoch 109\n",
            "Training loss: 0.0240\n",
            "Training metric: 0.8804\n",
            "perturbation loss: 0.1229\n"
          ]
        },
        {
          "output_type": "stream",
          "name": "stderr",
          "text": [
            "\r 11%|█         | 110/1000 [02:12<15:03,  1.02s/it]"
          ]
        },
        {
          "output_type": "stream",
          "name": "stdout",
          "text": [
            "Validation acc: 0.7031\n",
            "\n",
            "Start of epoch 110\n",
            "Training loss: 0.0134\n",
            "Training metric: 0.8814\n",
            "perturbation loss: 0.0390\n"
          ]
        },
        {
          "output_type": "stream",
          "name": "stderr",
          "text": [
            "\r 11%|█         | 111/1000 [02:14<15:14,  1.03s/it]"
          ]
        },
        {
          "output_type": "stream",
          "name": "stdout",
          "text": [
            "Validation acc: 0.9219\n",
            "\n",
            "Start of epoch 111\n",
            "Training loss: 0.0104\n",
            "Training metric: 0.8824\n",
            "perturbation loss: 0.0458\n"
          ]
        },
        {
          "output_type": "stream",
          "name": "stderr",
          "text": [
            "\r 11%|█         | 112/1000 [02:15<14:58,  1.01s/it]"
          ]
        },
        {
          "output_type": "stream",
          "name": "stdout",
          "text": [
            "Validation acc: 0.9219\n",
            "\n",
            "Start of epoch 112\n",
            "Training loss: 0.0443\n",
            "Training metric: 0.8834\n",
            "perturbation loss: 0.0557\n"
          ]
        },
        {
          "output_type": "stream",
          "name": "stderr",
          "text": [
            "\r 11%|█▏        | 113/1000 [02:15<14:42,  1.00it/s]"
          ]
        },
        {
          "output_type": "stream",
          "name": "stdout",
          "text": [
            "Validation acc: 0.8984\n",
            "\n",
            "Start of epoch 113\n",
            "Training loss: 0.0028\n",
            "Training metric: 0.8843\n",
            "perturbation loss: 0.0114\n"
          ]
        },
        {
          "output_type": "stream",
          "name": "stderr",
          "text": [
            "\r 11%|█▏        | 114/1000 [02:17<15:44,  1.07s/it]"
          ]
        },
        {
          "output_type": "stream",
          "name": "stdout",
          "text": [
            "Validation acc: 0.8359\n",
            "\n",
            "Start of epoch 114\n",
            "Training loss: 0.0350\n",
            "Training metric: 0.8853\n",
            "perturbation loss: 0.0490\n"
          ]
        },
        {
          "output_type": "stream",
          "name": "stderr",
          "text": [
            "\r 12%|█▏        | 115/1000 [02:18<17:12,  1.17s/it]"
          ]
        },
        {
          "output_type": "stream",
          "name": "stdout",
          "text": [
            "Validation acc: 0.9531\n",
            "\n",
            "Start of epoch 115\n",
            "Training loss: 0.0159\n",
            "Training metric: 0.8862\n",
            "perturbation loss: 0.0358\n"
          ]
        },
        {
          "output_type": "stream",
          "name": "stderr",
          "text": [
            "\r 12%|█▏        | 116/1000 [02:19<18:02,  1.22s/it]"
          ]
        },
        {
          "output_type": "stream",
          "name": "stdout",
          "text": [
            "Validation acc: 0.8047\n",
            "\n",
            "Start of epoch 116\n",
            "Training loss: 0.0278\n",
            "Training metric: 0.8870\n",
            "perturbation loss: 0.1136\n"
          ]
        },
        {
          "output_type": "stream",
          "name": "stderr",
          "text": [
            "\r 12%|█▏        | 117/1000 [02:21<17:17,  1.18s/it]"
          ]
        },
        {
          "output_type": "stream",
          "name": "stdout",
          "text": [
            "Validation acc: 0.7500\n",
            "\n",
            "Start of epoch 117\n",
            "Training loss: 0.0412\n",
            "Training metric: 0.8878\n",
            "perturbation loss: 0.0432\n"
          ]
        },
        {
          "output_type": "stream",
          "name": "stderr",
          "text": [
            "\r 12%|█▏        | 118/1000 [02:22<16:52,  1.15s/it]"
          ]
        },
        {
          "output_type": "stream",
          "name": "stdout",
          "text": [
            "Validation acc: 0.8672\n",
            "\n",
            "Start of epoch 118\n",
            "Training loss: 0.0042\n",
            "Training metric: 0.8887\n",
            "perturbation loss: 0.0191\n"
          ]
        },
        {
          "output_type": "stream",
          "name": "stderr",
          "text": [
            "\r 12%|█▏        | 119/1000 [02:23<16:30,  1.12s/it]"
          ]
        },
        {
          "output_type": "stream",
          "name": "stdout",
          "text": [
            "Validation acc: 0.9141\n",
            "\n",
            "Start of epoch 119\n",
            "Training loss: 0.0355\n",
            "Training metric: 0.8895\n",
            "perturbation loss: 0.0697\n"
          ]
        },
        {
          "output_type": "stream",
          "name": "stderr",
          "text": [
            "\r 12%|█▏        | 120/1000 [02:24<15:58,  1.09s/it]"
          ]
        },
        {
          "output_type": "stream",
          "name": "stdout",
          "text": [
            "Validation acc: 0.8672\n",
            "\n",
            "Start of epoch 120\n",
            "Training loss: 0.0051\n",
            "Training metric: 0.8903\n",
            "perturbation loss: 0.0409\n"
          ]
        },
        {
          "output_type": "stream",
          "name": "stderr",
          "text": [
            "\r 12%|█▏        | 121/1000 [02:25<15:31,  1.06s/it]"
          ]
        },
        {
          "output_type": "stream",
          "name": "stdout",
          "text": [
            "Validation acc: 0.8906\n",
            "\n",
            "Start of epoch 121\n",
            "Training loss: 0.0213\n",
            "Training metric: 0.8911\n",
            "perturbation loss: 0.0870\n"
          ]
        },
        {
          "output_type": "stream",
          "name": "stderr",
          "text": [
            "\r 12%|█▏        | 122/1000 [02:26<15:07,  1.03s/it]"
          ]
        },
        {
          "output_type": "stream",
          "name": "stdout",
          "text": [
            "Validation acc: 0.8828\n",
            "\n",
            "Start of epoch 122\n",
            "Training loss: 0.0120\n",
            "Training metric: 0.8919\n",
            "perturbation loss: 0.0560\n"
          ]
        },
        {
          "output_type": "stream",
          "name": "stderr",
          "text": [
            "\r 12%|█▏        | 123/1000 [02:27<15:17,  1.05s/it]"
          ]
        },
        {
          "output_type": "stream",
          "name": "stdout",
          "text": [
            "Validation acc: 0.8984\n",
            "\n",
            "Start of epoch 123\n",
            "Training loss: 0.0397\n",
            "Training metric: 0.8926\n",
            "perturbation loss: 0.0595\n"
          ]
        },
        {
          "output_type": "stream",
          "name": "stderr",
          "text": [
            "\r 12%|█▏        | 124/1000 [02:28<14:53,  1.02s/it]"
          ]
        },
        {
          "output_type": "stream",
          "name": "stdout",
          "text": [
            "Validation acc: 0.7344\n",
            "\n",
            "Start of epoch 124\n",
            "Training loss: 0.0036\n",
            "Training metric: 0.8934\n",
            "perturbation loss: 0.0193\n"
          ]
        },
        {
          "output_type": "stream",
          "name": "stderr",
          "text": [
            "\r 12%|█▎        | 125/1000 [02:29<14:40,  1.01s/it]"
          ]
        },
        {
          "output_type": "stream",
          "name": "stdout",
          "text": [
            "Validation acc: 0.8828\n",
            "\n",
            "Start of epoch 125\n",
            "Training loss: 0.0054\n",
            "Training metric: 0.8942\n",
            "perturbation loss: 0.0412\n"
          ]
        },
        {
          "output_type": "stream",
          "name": "stderr",
          "text": [
            "\r 13%|█▎        | 126/1000 [02:30<15:02,  1.03s/it]"
          ]
        },
        {
          "output_type": "stream",
          "name": "stdout",
          "text": [
            "Validation acc: 0.9219\n",
            "\n",
            "Start of epoch 126\n",
            "Training loss: 0.0121\n",
            "Training metric: 0.8949\n",
            "perturbation loss: 0.0670\n"
          ]
        },
        {
          "output_type": "stream",
          "name": "stderr",
          "text": [
            "\r 13%|█▎        | 127/1000 [02:31<16:13,  1.12s/it]"
          ]
        },
        {
          "output_type": "stream",
          "name": "stdout",
          "text": [
            "Validation acc: 0.9453\n",
            "\n",
            "Start of epoch 127\n",
            "Training loss: 0.1073\n",
            "Training metric: 0.8956\n",
            "perturbation loss: 0.1045\n"
          ]
        },
        {
          "output_type": "stream",
          "name": "stderr",
          "text": [
            "\r 13%|█▎        | 128/1000 [02:32<17:06,  1.18s/it]"
          ]
        },
        {
          "output_type": "stream",
          "name": "stdout",
          "text": [
            "Validation acc: 0.8438\n",
            "\n",
            "Start of epoch 128\n",
            "Training loss: 0.0041\n",
            "Training metric: 0.8963\n",
            "perturbation loss: 0.0177\n",
            "Validation acc: 0.7500\n"
          ]
        },
        {
          "output_type": "stream",
          "name": "stderr",
          "text": [
            "\r 13%|█▎        | 129/1000 [02:34<16:53,  1.16s/it]"
          ]
        },
        {
          "output_type": "stream",
          "name": "stdout",
          "text": [
            "\n",
            "Start of epoch 129\n",
            "Training loss: 0.0074\n",
            "Training metric: 0.8970\n",
            "perturbation loss: 0.0435\n"
          ]
        },
        {
          "output_type": "stream",
          "name": "stderr",
          "text": [
            "\r 13%|█▎        | 130/1000 [02:34<16:05,  1.11s/it]"
          ]
        },
        {
          "output_type": "stream",
          "name": "stdout",
          "text": [
            "Validation acc: 0.9531\n",
            "\n",
            "Start of epoch 130\n",
            "Training loss: 0.2041\n",
            "Training metric: 0.8976\n",
            "perturbation loss: 0.1104\n"
          ]
        },
        {
          "output_type": "stream",
          "name": "stderr",
          "text": [
            "\r 13%|█▎        | 131/1000 [02:35<15:26,  1.07s/it]"
          ]
        },
        {
          "output_type": "stream",
          "name": "stdout",
          "text": [
            "Validation acc: 0.8281\n",
            "\n",
            "Start of epoch 131\n",
            "Training loss: 0.0335\n",
            "Training metric: 0.8982\n",
            "perturbation loss: 0.0768\n"
          ]
        },
        {
          "output_type": "stream",
          "name": "stderr",
          "text": [
            "\r 13%|█▎        | 132/1000 [02:36<14:59,  1.04s/it]"
          ]
        },
        {
          "output_type": "stream",
          "name": "stdout",
          "text": [
            "Validation acc: 0.8828\n",
            "\n",
            "Start of epoch 132\n",
            "Training loss: 0.0293\n",
            "Training metric: 0.8990\n",
            "perturbation loss: 0.0630\n"
          ]
        },
        {
          "output_type": "stream",
          "name": "stderr",
          "text": [
            "\r 13%|█▎        | 133/1000 [02:37<14:48,  1.03s/it]"
          ]
        },
        {
          "output_type": "stream",
          "name": "stdout",
          "text": [
            "Validation acc: 0.9141\n",
            "\n",
            "Start of epoch 133\n",
            "Training loss: 0.0259\n",
            "Training metric: 0.8997\n",
            "perturbation loss: 0.0242\n"
          ]
        },
        {
          "output_type": "stream",
          "name": "stderr",
          "text": [
            "\r 13%|█▎        | 134/1000 [02:38<14:46,  1.02s/it]"
          ]
        },
        {
          "output_type": "stream",
          "name": "stdout",
          "text": [
            "Validation acc: 0.8984\n",
            "\n",
            "Start of epoch 134\n",
            "Training loss: 0.0110\n",
            "Training metric: 0.9003\n",
            "perturbation loss: 0.0493\n"
          ]
        },
        {
          "output_type": "stream",
          "name": "stderr",
          "text": [
            "\r 14%|█▎        | 135/1000 [02:39<14:35,  1.01s/it]"
          ]
        },
        {
          "output_type": "stream",
          "name": "stdout",
          "text": [
            "Validation acc: 0.8516\n",
            "\n",
            "Start of epoch 135\n",
            "Training loss: 0.0006\n",
            "Training metric: 0.9010\n",
            "perturbation loss: 0.0043\n"
          ]
        },
        {
          "output_type": "stream",
          "name": "stderr",
          "text": [
            "\r 14%|█▎        | 136/1000 [02:41<17:44,  1.23s/it]"
          ]
        },
        {
          "output_type": "stream",
          "name": "stdout",
          "text": [
            "Validation acc: 0.9141\n",
            "\n",
            "Start of epoch 136\n",
            "Training loss: 0.0127\n",
            "Training metric: 0.9016\n",
            "perturbation loss: 0.0557\n"
          ]
        },
        {
          "output_type": "stream",
          "name": "stderr",
          "text": [
            "\r 14%|█▎        | 137/1000 [02:43<20:46,  1.44s/it]"
          ]
        },
        {
          "output_type": "stream",
          "name": "stdout",
          "text": [
            "Validation acc: 0.8516\n",
            "\n",
            "Start of epoch 137\n",
            "Training loss: 0.0060\n",
            "Training metric: 0.9023\n",
            "perturbation loss: 0.0499\n"
          ]
        },
        {
          "output_type": "stream",
          "name": "stderr",
          "text": [
            "\r 14%|█▍        | 138/1000 [02:46<27:23,  1.91s/it]"
          ]
        },
        {
          "output_type": "stream",
          "name": "stdout",
          "text": [
            "Validation acc: 0.8672\n",
            "\n",
            "Start of epoch 138\n",
            "Training loss: 0.0206\n",
            "Training metric: 0.9029\n",
            "perturbation loss: 0.0782\n"
          ]
        },
        {
          "output_type": "stream",
          "name": "stderr",
          "text": [
            "\r 14%|█▍        | 139/1000 [02:48<28:33,  1.99s/it]"
          ]
        },
        {
          "output_type": "stream",
          "name": "stdout",
          "text": [
            "Validation acc: 0.8438\n",
            "\n",
            "Start of epoch 139\n",
            "Training loss: 0.0264\n",
            "Training metric: 0.9035\n",
            "perturbation loss: 0.0507\n"
          ]
        },
        {
          "output_type": "stream",
          "name": "stderr",
          "text": [
            "\r 14%|█▍        | 140/1000 [02:50<28:34,  1.99s/it]"
          ]
        },
        {
          "output_type": "stream",
          "name": "stdout",
          "text": [
            "Validation acc: 0.7266\n",
            "\n",
            "Start of epoch 140\n",
            "Training loss: 0.0614\n",
            "Training metric: 0.9039\n",
            "perturbation loss: 0.1378\n"
          ]
        },
        {
          "output_type": "stream",
          "name": "stderr",
          "text": [
            "\r 14%|█▍        | 141/1000 [02:52<28:36,  2.00s/it]"
          ]
        },
        {
          "output_type": "stream",
          "name": "stdout",
          "text": [
            "Validation acc: 0.8984\n",
            "\n",
            "Start of epoch 141\n",
            "Training loss: 0.0073\n",
            "Training metric: 0.9045\n",
            "perturbation loss: 0.0460\n"
          ]
        },
        {
          "output_type": "stream",
          "name": "stderr",
          "text": [
            "\r 14%|█▍        | 142/1000 [02:54<28:33,  2.00s/it]"
          ]
        },
        {
          "output_type": "stream",
          "name": "stdout",
          "text": [
            "Validation acc: 0.8672\n",
            "\n",
            "Start of epoch 142\n",
            "Training loss: 0.0079\n",
            "Training metric: 0.9050\n",
            "perturbation loss: 0.0353\n"
          ]
        },
        {
          "output_type": "stream",
          "name": "stderr",
          "text": [
            "\r 14%|█▍        | 143/1000 [02:56<27:04,  1.90s/it]"
          ]
        },
        {
          "output_type": "stream",
          "name": "stdout",
          "text": [
            "Validation acc: 0.6094\n",
            "\n",
            "Start of epoch 143\n",
            "Training loss: 0.0027\n",
            "Training metric: 0.9056\n",
            "perturbation loss: 0.0230\n"
          ]
        },
        {
          "output_type": "stream",
          "name": "stderr",
          "text": [
            "\r 14%|█▍        | 144/1000 [02:57<23:29,  1.65s/it]"
          ]
        },
        {
          "output_type": "stream",
          "name": "stdout",
          "text": [
            "Validation acc: 0.9297\n",
            "\n",
            "Start of epoch 144\n",
            "Training loss: 0.0013\n",
            "Training metric: 0.9062\n",
            "perturbation loss: 0.0140\n"
          ]
        },
        {
          "output_type": "stream",
          "name": "stderr",
          "text": [
            "\r 14%|█▍        | 145/1000 [02:58<21:50,  1.53s/it]"
          ]
        },
        {
          "output_type": "stream",
          "name": "stdout",
          "text": [
            "Validation acc: 0.8984\n",
            "\n",
            "Start of epoch 145\n",
            "Training loss: 0.0092\n",
            "Training metric: 0.9068\n",
            "perturbation loss: 0.0647\n"
          ]
        },
        {
          "output_type": "stream",
          "name": "stderr",
          "text": [
            "\r 15%|█▍        | 146/1000 [03:00<20:51,  1.47s/it]"
          ]
        },
        {
          "output_type": "stream",
          "name": "stdout",
          "text": [
            "Validation acc: 0.9297\n",
            "\n",
            "Start of epoch 146\n",
            "Training loss: 0.0015\n",
            "Training metric: 0.9074\n",
            "perturbation loss: 0.0255\n"
          ]
        },
        {
          "output_type": "stream",
          "name": "stderr",
          "text": [
            "\r 15%|█▍        | 147/1000 [03:01<21:32,  1.52s/it]"
          ]
        },
        {
          "output_type": "stream",
          "name": "stdout",
          "text": [
            "Validation acc: 0.9531\n",
            "\n",
            "Start of epoch 147\n",
            "Training loss: 0.0086\n",
            "Training metric: 0.9080\n",
            "perturbation loss: 0.0197\n"
          ]
        },
        {
          "output_type": "stream",
          "name": "stderr",
          "text": [
            "\r 15%|█▍        | 148/1000 [03:02<19:10,  1.35s/it]"
          ]
        },
        {
          "output_type": "stream",
          "name": "stdout",
          "text": [
            "Validation acc: 0.9219\n",
            "\n",
            "Start of epoch 148\n",
            "Training loss: 0.0072\n",
            "Training metric: 0.9086\n",
            "perturbation loss: 0.0133\n"
          ]
        },
        {
          "output_type": "stream",
          "name": "stderr",
          "text": [
            "\r 15%|█▍        | 149/1000 [03:03<17:36,  1.24s/it]"
          ]
        },
        {
          "output_type": "stream",
          "name": "stdout",
          "text": [
            "Validation acc: 0.9297\n",
            "\n",
            "Start of epoch 149\n",
            "Training loss: 0.0082\n",
            "Training metric: 0.9091\n",
            "perturbation loss: 0.0532\n"
          ]
        },
        {
          "output_type": "stream",
          "name": "stderr",
          "text": [
            "\r 15%|█▌        | 150/1000 [03:04<16:33,  1.17s/it]"
          ]
        },
        {
          "output_type": "stream",
          "name": "stdout",
          "text": [
            "Validation acc: 0.9141\n",
            "\n",
            "Start of epoch 150\n",
            "Training loss: 0.0139\n",
            "Training metric: 0.9095\n",
            "perturbation loss: 0.0492\n"
          ]
        },
        {
          "output_type": "stream",
          "name": "stderr",
          "text": [
            "\r 15%|█▌        | 151/1000 [03:05<15:41,  1.11s/it]"
          ]
        },
        {
          "output_type": "stream",
          "name": "stdout",
          "text": [
            "Validation acc: 0.7656\n",
            "\n",
            "Start of epoch 151\n",
            "Training loss: 0.0916\n",
            "Training metric: 0.9099\n",
            "perturbation loss: 0.2320\n"
          ]
        },
        {
          "output_type": "stream",
          "name": "stderr",
          "text": [
            "\r 15%|█▌        | 152/1000 [03:06<15:11,  1.07s/it]"
          ]
        },
        {
          "output_type": "stream",
          "name": "stdout",
          "text": [
            "Validation acc: 0.7812\n",
            "\n",
            "Start of epoch 152\n",
            "Training loss: 0.0031\n",
            "Training metric: 0.9104\n",
            "perturbation loss: 0.0230\n"
          ]
        },
        {
          "output_type": "stream",
          "name": "stderr",
          "text": [
            "\r 15%|█▌        | 153/1000 [03:07<15:14,  1.08s/it]"
          ]
        },
        {
          "output_type": "stream",
          "name": "stdout",
          "text": [
            "Validation acc: 0.8906\n",
            "\n",
            "Start of epoch 153\n",
            "Training loss: 0.0115\n",
            "Training metric: 0.9108\n",
            "perturbation loss: 0.0228\n"
          ]
        },
        {
          "output_type": "stream",
          "name": "stderr",
          "text": [
            "\r 15%|█▌        | 154/1000 [03:08<14:51,  1.05s/it]"
          ]
        },
        {
          "output_type": "stream",
          "name": "stdout",
          "text": [
            "Validation acc: 0.8906\n",
            "\n",
            "Start of epoch 154\n",
            "Training loss: 0.0017\n",
            "Training metric: 0.9114\n",
            "perturbation loss: 0.0081\n"
          ]
        },
        {
          "output_type": "stream",
          "name": "stderr",
          "text": [
            "\r 16%|█▌        | 155/1000 [03:09<14:41,  1.04s/it]"
          ]
        },
        {
          "output_type": "stream",
          "name": "stdout",
          "text": [
            "Validation acc: 0.8906\n",
            "\n",
            "Start of epoch 155\n",
            "Training loss: 0.0011\n",
            "Training metric: 0.9120\n",
            "perturbation loss: 0.0087\n"
          ]
        },
        {
          "output_type": "stream",
          "name": "stderr",
          "text": [
            "\r 16%|█▌        | 156/1000 [03:10<14:24,  1.02s/it]"
          ]
        },
        {
          "output_type": "stream",
          "name": "stdout",
          "text": [
            "Validation acc: 0.9453\n",
            "\n",
            "Start of epoch 156\n",
            "Training loss: 0.0124\n",
            "Training metric: 0.9125\n",
            "perturbation loss: 0.0843\n"
          ]
        },
        {
          "output_type": "stream",
          "name": "stderr",
          "text": [
            "\r 16%|█▌        | 157/1000 [03:11<14:43,  1.05s/it]"
          ]
        },
        {
          "output_type": "stream",
          "name": "stdout",
          "text": [
            "Validation acc: 0.7578\n",
            "\n",
            "Start of epoch 157\n",
            "Training loss: 0.0012\n",
            "Training metric: 0.9130\n",
            "perturbation loss: 0.0104\n"
          ]
        },
        {
          "output_type": "stream",
          "name": "stderr",
          "text": [
            "\r 16%|█▌        | 158/1000 [03:13<15:55,  1.13s/it]"
          ]
        },
        {
          "output_type": "stream",
          "name": "stdout",
          "text": [
            "Validation acc: 0.8125\n",
            "\n",
            "Start of epoch 158\n",
            "Training loss: 0.0023\n",
            "Training metric: 0.9136\n",
            "perturbation loss: 0.0410\n"
          ]
        },
        {
          "output_type": "stream",
          "name": "stderr",
          "text": [
            "\r 16%|█▌        | 159/1000 [03:14<16:39,  1.19s/it]"
          ]
        },
        {
          "output_type": "stream",
          "name": "stdout",
          "text": [
            "Validation acc: 0.9141\n",
            "\n",
            "Start of epoch 159\n",
            "Training loss: 0.0006\n",
            "Training metric: 0.9141\n",
            "perturbation loss: 0.0032\n"
          ]
        },
        {
          "output_type": "stream",
          "name": "stderr",
          "text": [
            "\r 16%|█▌        | 160/1000 [03:15<16:30,  1.18s/it]"
          ]
        },
        {
          "output_type": "stream",
          "name": "stdout",
          "text": [
            "Validation acc: 0.8750\n",
            "\n",
            "Start of epoch 160\n",
            "Training loss: 0.1259\n",
            "Training metric: 0.9145\n",
            "perturbation loss: 0.0477\n"
          ]
        },
        {
          "output_type": "stream",
          "name": "stderr",
          "text": [
            "\r 16%|█▌        | 161/1000 [03:16<15:43,  1.12s/it]"
          ]
        },
        {
          "output_type": "stream",
          "name": "stdout",
          "text": [
            "Validation acc: 0.8281\n",
            "\n",
            "Start of epoch 161\n",
            "Training loss: 0.0222\n",
            "Training metric: 0.9150\n",
            "perturbation loss: 0.0656\n"
          ]
        },
        {
          "output_type": "stream",
          "name": "stderr",
          "text": [
            "\r 16%|█▌        | 162/1000 [03:17<15:24,  1.10s/it]"
          ]
        },
        {
          "output_type": "stream",
          "name": "stdout",
          "text": [
            "Validation acc: 0.8984\n",
            "\n",
            "Start of epoch 162\n",
            "Training loss: 0.0029\n",
            "Training metric: 0.9153\n",
            "perturbation loss: 0.0267\n"
          ]
        },
        {
          "output_type": "stream",
          "name": "stderr",
          "text": [
            "\r 16%|█▋        | 163/1000 [03:18<15:10,  1.09s/it]"
          ]
        },
        {
          "output_type": "stream",
          "name": "stdout",
          "text": [
            "Validation acc: 0.8594\n",
            "\n",
            "Start of epoch 163\n",
            "Training loss: 0.0038\n",
            "Training metric: 0.9158\n",
            "perturbation loss: 0.0296\n"
          ]
        },
        {
          "output_type": "stream",
          "name": "stderr",
          "text": [
            "\r 16%|█▋        | 164/1000 [03:19<15:08,  1.09s/it]"
          ]
        },
        {
          "output_type": "stream",
          "name": "stdout",
          "text": [
            "Validation acc: 0.9297\n",
            "\n",
            "Start of epoch 164\n",
            "Training loss: 0.0003\n",
            "Training metric: 0.9163\n",
            "perturbation loss: 0.0018\n"
          ]
        },
        {
          "output_type": "stream",
          "name": "stderr",
          "text": [
            "\r 16%|█▋        | 165/1000 [03:20<15:01,  1.08s/it]"
          ]
        },
        {
          "output_type": "stream",
          "name": "stdout",
          "text": [
            "Validation acc: 0.9375\n",
            "\n",
            "Start of epoch 165\n",
            "Training loss: 0.0048\n",
            "Training metric: 0.9168\n",
            "perturbation loss: 0.0244\n"
          ]
        },
        {
          "output_type": "stream",
          "name": "stderr",
          "text": [
            "\r 17%|█▋        | 166/1000 [03:21<15:06,  1.09s/it]"
          ]
        },
        {
          "output_type": "stream",
          "name": "stdout",
          "text": [
            "Validation acc: 0.6484\n",
            "\n",
            "Start of epoch 166\n",
            "Training loss: 0.0847\n",
            "Training metric: 0.9172\n",
            "perturbation loss: 0.0781\n"
          ]
        },
        {
          "output_type": "stream",
          "name": "stderr",
          "text": [
            "\r 17%|█▋        | 167/1000 [03:23<14:59,  1.08s/it]"
          ]
        },
        {
          "output_type": "stream",
          "name": "stdout",
          "text": [
            "Validation acc: 0.5078\n",
            "\n",
            "Start of epoch 167\n",
            "Training loss: 0.0061\n",
            "Training metric: 0.9176\n",
            "perturbation loss: 0.1379\n"
          ]
        },
        {
          "output_type": "stream",
          "name": "stderr",
          "text": [
            "\r 17%|█▋        | 168/1000 [03:24<14:42,  1.06s/it]"
          ]
        },
        {
          "output_type": "stream",
          "name": "stdout",
          "text": [
            "Validation acc: 0.9219\n",
            "\n",
            "Start of epoch 168\n",
            "Training loss: 0.0079\n",
            "Training metric: 0.9180\n",
            "perturbation loss: 0.0350\n"
          ]
        },
        {
          "output_type": "stream",
          "name": "stderr",
          "text": [
            "\r 17%|█▋        | 169/1000 [03:25<14:18,  1.03s/it]"
          ]
        },
        {
          "output_type": "stream",
          "name": "stdout",
          "text": [
            "Validation acc: 0.9531\n",
            "\n",
            "Start of epoch 169\n",
            "Training loss: 0.0332\n",
            "Training metric: 0.9185\n",
            "perturbation loss: 0.0514\n"
          ]
        },
        {
          "output_type": "stream",
          "name": "stderr",
          "text": [
            "\r 17%|█▋        | 170/1000 [03:26<15:25,  1.11s/it]"
          ]
        },
        {
          "output_type": "stream",
          "name": "stdout",
          "text": [
            "Validation acc: 0.9219\n",
            "\n",
            "Start of epoch 170\n",
            "Training loss: 0.0223\n",
            "Training metric: 0.9190\n",
            "perturbation loss: 0.0305\n"
          ]
        },
        {
          "output_type": "stream",
          "name": "stderr",
          "text": [
            "\r 17%|█▋        | 171/1000 [03:27<16:09,  1.17s/it]"
          ]
        },
        {
          "output_type": "stream",
          "name": "stdout",
          "text": [
            "Validation acc: 0.9609\n",
            "\n",
            "Start of epoch 171\n",
            "Training loss: 0.0004\n",
            "Training metric: 0.9194\n",
            "perturbation loss: 0.0034\n"
          ]
        },
        {
          "output_type": "stream",
          "name": "stderr",
          "text": [
            "\r 17%|█▋        | 172/1000 [03:28<16:39,  1.21s/it]"
          ]
        },
        {
          "output_type": "stream",
          "name": "stdout",
          "text": [
            "Validation acc: 0.9297\n",
            "\n",
            "Start of epoch 172\n",
            "Training loss: 0.0315\n",
            "Training metric: 0.9198\n",
            "perturbation loss: 0.0739\n"
          ]
        },
        {
          "output_type": "stream",
          "name": "stderr",
          "text": [
            "\r 17%|█▋        | 173/1000 [03:30<16:09,  1.17s/it]"
          ]
        },
        {
          "output_type": "stream",
          "name": "stdout",
          "text": [
            "Validation acc: 0.6953\n",
            "\n",
            "Start of epoch 173\n",
            "Training loss: 0.0020\n",
            "Training metric: 0.9203\n",
            "perturbation loss: 0.0161\n"
          ]
        },
        {
          "output_type": "stream",
          "name": "stderr",
          "text": [
            "\r 17%|█▋        | 174/1000 [03:31<15:41,  1.14s/it]"
          ]
        },
        {
          "output_type": "stream",
          "name": "stdout",
          "text": [
            "Validation acc: 0.9062\n",
            "\n",
            "Start of epoch 174\n",
            "Training loss: 0.0300\n",
            "Training metric: 0.9207\n",
            "perturbation loss: 0.0204\n"
          ]
        },
        {
          "output_type": "stream",
          "name": "stderr",
          "text": [
            "\r 18%|█▊        | 175/1000 [03:32<15:00,  1.09s/it]"
          ]
        },
        {
          "output_type": "stream",
          "name": "stdout",
          "text": [
            "Validation acc: 0.7656\n",
            "\n",
            "Start of epoch 175\n",
            "Training loss: 0.0318\n",
            "Training metric: 0.9211\n",
            "perturbation loss: 0.1262\n"
          ]
        },
        {
          "output_type": "stream",
          "name": "stderr",
          "text": [
            "\r 18%|█▊        | 176/1000 [03:33<14:28,  1.05s/it]"
          ]
        },
        {
          "output_type": "stream",
          "name": "stdout",
          "text": [
            "Validation acc: 0.9375\n",
            "\n",
            "Start of epoch 176\n",
            "Training loss: 0.0559\n",
            "Training metric: 0.9215\n",
            "perturbation loss: 0.0387\n",
            "Validation acc: 0.8906\n"
          ]
        },
        {
          "output_type": "stream",
          "name": "stderr",
          "text": [
            "\r 18%|█▊        | 177/1000 [03:33<14:04,  1.03s/it]"
          ]
        },
        {
          "output_type": "stream",
          "name": "stdout",
          "text": [
            "\n",
            "Start of epoch 177\n",
            "Training loss: 0.0231\n",
            "Training metric: 0.9218\n",
            "perturbation loss: 0.0772\n"
          ]
        },
        {
          "output_type": "stream",
          "name": "stderr",
          "text": [
            "\r 18%|█▊        | 178/1000 [03:34<13:56,  1.02s/it]"
          ]
        },
        {
          "output_type": "stream",
          "name": "stdout",
          "text": [
            "Validation acc: 0.9297\n",
            "\n",
            "Start of epoch 178\n",
            "Training loss: 0.0024\n",
            "Training metric: 0.9223\n",
            "perturbation loss: 0.0242\n"
          ]
        },
        {
          "output_type": "stream",
          "name": "stderr",
          "text": [
            "\r 18%|█▊        | 179/1000 [03:35<13:44,  1.00s/it]"
          ]
        },
        {
          "output_type": "stream",
          "name": "stdout",
          "text": [
            "Validation acc: 0.8828\n",
            "\n",
            "Start of epoch 179\n",
            "Training loss: 0.0055\n",
            "Training metric: 0.9226\n",
            "perturbation loss: 0.0101\n"
          ]
        },
        {
          "output_type": "stream",
          "name": "stderr",
          "text": [
            "\r 18%|█▊        | 180/1000 [03:36<13:39,  1.00it/s]"
          ]
        },
        {
          "output_type": "stream",
          "name": "stdout",
          "text": [
            "Validation acc: 0.9219\n",
            "\n",
            "Start of epoch 180\n",
            "Training loss: 0.0099\n",
            "Training metric: 0.9230\n",
            "perturbation loss: 0.0126\n"
          ]
        },
        {
          "output_type": "stream",
          "name": "stderr",
          "text": [
            "\r 18%|█▊        | 181/1000 [03:37<13:30,  1.01it/s]"
          ]
        },
        {
          "output_type": "stream",
          "name": "stdout",
          "text": [
            "Validation acc: 0.8906\n",
            "\n",
            "Start of epoch 181\n",
            "Training loss: 0.0019\n",
            "Training metric: 0.9234\n",
            "perturbation loss: 0.0143\n"
          ]
        },
        {
          "output_type": "stream",
          "name": "stderr",
          "text": [
            "\r 18%|█▊        | 182/1000 [03:38<13:50,  1.02s/it]"
          ]
        },
        {
          "output_type": "stream",
          "name": "stdout",
          "text": [
            "Validation acc: 0.7188\n",
            "\n",
            "Start of epoch 182\n",
            "Training loss: 0.0072\n",
            "Training metric: 0.9238\n",
            "perturbation loss: 0.0663\n"
          ]
        },
        {
          "output_type": "stream",
          "name": "stderr",
          "text": [
            "\r 18%|█▊        | 183/1000 [03:40<14:59,  1.10s/it]"
          ]
        },
        {
          "output_type": "stream",
          "name": "stdout",
          "text": [
            "Validation acc: 0.8984\n",
            "\n",
            "Start of epoch 183\n",
            "Training loss: 0.0016\n",
            "Training metric: 0.9241\n",
            "perturbation loss: 0.0115\n"
          ]
        },
        {
          "output_type": "stream",
          "name": "stderr",
          "text": [
            "\r 18%|█▊        | 184/1000 [03:41<15:44,  1.16s/it]"
          ]
        },
        {
          "output_type": "stream",
          "name": "stdout",
          "text": [
            "Validation acc: 0.8984\n",
            "\n",
            "Start of epoch 184\n",
            "Training loss: 0.0284\n",
            "Training metric: 0.9245\n",
            "perturbation loss: 0.1074\n"
          ]
        },
        {
          "output_type": "stream",
          "name": "stderr",
          "text": [
            "\r 18%|█▊        | 185/1000 [03:42<15:59,  1.18s/it]"
          ]
        },
        {
          "output_type": "stream",
          "name": "stdout",
          "text": [
            "Validation acc: 0.9375\n",
            "\n",
            "Start of epoch 185\n",
            "Training loss: 0.0327\n",
            "Training metric: 0.9249\n",
            "perturbation loss: 0.0850\n"
          ]
        },
        {
          "output_type": "stream",
          "name": "stderr",
          "text": [
            "\r 19%|█▊        | 186/1000 [03:43<15:14,  1.12s/it]"
          ]
        },
        {
          "output_type": "stream",
          "name": "stdout",
          "text": [
            "Validation acc: 0.9062\n",
            "\n",
            "Start of epoch 186\n",
            "Training loss: 0.0152\n",
            "Training metric: 0.9252\n",
            "perturbation loss: 0.0585\n"
          ]
        },
        {
          "output_type": "stream",
          "name": "stderr",
          "text": [
            "\r 19%|█▊        | 187/1000 [03:44<14:36,  1.08s/it]"
          ]
        },
        {
          "output_type": "stream",
          "name": "stdout",
          "text": [
            "Validation acc: 0.9531\n",
            "\n",
            "Start of epoch 187\n",
            "Training loss: 0.1391\n",
            "Training metric: 0.9256\n",
            "perturbation loss: 0.0834\n",
            "Validation acc: 0.9375\n"
          ]
        },
        {
          "output_type": "stream",
          "name": "stderr",
          "text": [
            "\r 19%|█▉        | 188/1000 [03:45<14:07,  1.04s/it]"
          ]
        },
        {
          "output_type": "stream",
          "name": "stdout",
          "text": [
            "\n",
            "Start of epoch 188\n",
            "Training loss: 0.0027\n",
            "Training metric: 0.9259\n",
            "perturbation loss: 0.0652\n"
          ]
        },
        {
          "output_type": "stream",
          "name": "stderr",
          "text": [
            "\r 19%|█▉        | 189/1000 [03:46<13:57,  1.03s/it]"
          ]
        },
        {
          "output_type": "stream",
          "name": "stdout",
          "text": [
            "Validation acc: 0.6172\n",
            "\n",
            "Start of epoch 189\n",
            "Training loss: 0.0765\n",
            "Training metric: 0.9262\n",
            "perturbation loss: 0.1300\n"
          ]
        },
        {
          "output_type": "stream",
          "name": "stderr",
          "text": [
            "\r 19%|█▉        | 190/1000 [03:47<13:48,  1.02s/it]"
          ]
        },
        {
          "output_type": "stream",
          "name": "stdout",
          "text": [
            "Validation acc: 0.9141\n",
            "\n",
            "Start of epoch 190\n",
            "Training loss: 0.0025\n",
            "Training metric: 0.9266\n",
            "perturbation loss: 0.0098\n"
          ]
        },
        {
          "output_type": "stream",
          "name": "stderr",
          "text": [
            "\r 19%|█▉        | 191/1000 [03:48<13:37,  1.01s/it]"
          ]
        },
        {
          "output_type": "stream",
          "name": "stdout",
          "text": [
            "Validation acc: 0.8828\n",
            "\n",
            "Start of epoch 191\n",
            "Training loss: 0.0003\n",
            "Training metric: 0.9270\n",
            "perturbation loss: 0.0055\n"
          ]
        },
        {
          "output_type": "stream",
          "name": "stderr",
          "text": [
            "\r 19%|█▉        | 192/1000 [03:49<13:31,  1.00s/it]"
          ]
        },
        {
          "output_type": "stream",
          "name": "stdout",
          "text": [
            "Validation acc: 0.9531\n",
            "\n",
            "Start of epoch 192\n",
            "Training loss: 0.0022\n",
            "Training metric: 0.9273\n",
            "perturbation loss: 0.0062\n"
          ]
        },
        {
          "output_type": "stream",
          "name": "stderr",
          "text": [
            "\r 19%|█▉        | 193/1000 [03:50<13:30,  1.00s/it]"
          ]
        },
        {
          "output_type": "stream",
          "name": "stdout",
          "text": [
            "Validation acc: 0.9375\n",
            "\n",
            "Start of epoch 193\n",
            "Training loss: 0.0006\n",
            "Training metric: 0.9277\n",
            "perturbation loss: 0.0086\n"
          ]
        },
        {
          "output_type": "stream",
          "name": "stderr",
          "text": [
            "\r 19%|█▉        | 194/1000 [03:51<13:29,  1.00s/it]"
          ]
        },
        {
          "output_type": "stream",
          "name": "stdout",
          "text": [
            "Validation acc: 0.8594\n",
            "\n",
            "Start of epoch 194\n",
            "Training loss: 0.0041\n",
            "Training metric: 0.9280\n",
            "perturbation loss: 0.0239\n"
          ]
        },
        {
          "output_type": "stream",
          "name": "stderr",
          "text": [
            "\r 20%|█▉        | 195/1000 [03:53<15:02,  1.12s/it]"
          ]
        },
        {
          "output_type": "stream",
          "name": "stdout",
          "text": [
            "Validation acc: 0.8125\n",
            "\n",
            "Start of epoch 195\n",
            "Training loss: 0.0017\n",
            "Training metric: 0.9284\n",
            "perturbation loss: 0.0074\n"
          ]
        },
        {
          "output_type": "stream",
          "name": "stderr",
          "text": [
            "\r 20%|█▉        | 196/1000 [03:56<22:48,  1.70s/it]"
          ]
        },
        {
          "output_type": "stream",
          "name": "stdout",
          "text": [
            "Validation acc: 0.9375\n",
            "\n",
            "Start of epoch 196\n",
            "Training loss: 0.0271\n",
            "Training metric: 0.9287\n",
            "perturbation loss: 0.1069\n"
          ]
        },
        {
          "output_type": "stream",
          "name": "stderr",
          "text": [
            "\r 20%|█▉        | 197/1000 [03:57<21:06,  1.58s/it]"
          ]
        },
        {
          "output_type": "stream",
          "name": "stdout",
          "text": [
            "Validation acc: 0.8984\n",
            "\n",
            "Start of epoch 197\n",
            "Training loss: 0.0220\n",
            "Training metric: 0.9290\n",
            "perturbation loss: 0.0411\n"
          ]
        },
        {
          "output_type": "stream",
          "name": "stderr",
          "text": [
            "\r 20%|█▉        | 198/1000 [03:58<18:46,  1.40s/it]"
          ]
        },
        {
          "output_type": "stream",
          "name": "stdout",
          "text": [
            "Validation acc: 0.8594\n",
            "\n",
            "Start of epoch 198\n",
            "Training loss: 0.0113\n",
            "Training metric: 0.9294\n",
            "perturbation loss: 0.0165\n"
          ]
        },
        {
          "output_type": "stream",
          "name": "stderr",
          "text": [
            "\r 20%|█▉        | 199/1000 [03:59<17:12,  1.29s/it]"
          ]
        },
        {
          "output_type": "stream",
          "name": "stdout",
          "text": [
            "Validation acc: 0.9453\n",
            "\n",
            "Start of epoch 199\n",
            "Training loss: 0.0025\n",
            "Training metric: 0.9297\n",
            "perturbation loss: 0.0047\n"
          ]
        },
        {
          "output_type": "stream",
          "name": "stderr",
          "text": [
            "\r 20%|██        | 200/1000 [04:00<16:04,  1.21s/it]"
          ]
        },
        {
          "output_type": "stream",
          "name": "stdout",
          "text": [
            "Validation acc: 0.9375\n",
            "\n",
            "Start of epoch 200\n",
            "Training loss: 0.0020\n",
            "Training metric: 0.9300\n",
            "perturbation loss: 0.0178\n"
          ]
        },
        {
          "output_type": "stream",
          "name": "stderr",
          "text": [
            "\r 20%|██        | 201/1000 [04:01<15:15,  1.15s/it]"
          ]
        },
        {
          "output_type": "stream",
          "name": "stdout",
          "text": [
            "Validation acc: 0.9531\n",
            "\n",
            "Start of epoch 201\n",
            "Training loss: 0.0042\n",
            "Training metric: 0.9304\n",
            "perturbation loss: 0.0212\n"
          ]
        },
        {
          "output_type": "stream",
          "name": "stderr",
          "text": [
            "\r 20%|██        | 202/1000 [04:02<14:38,  1.10s/it]"
          ]
        },
        {
          "output_type": "stream",
          "name": "stdout",
          "text": [
            "Validation acc: 0.9062\n",
            "\n",
            "Start of epoch 202\n",
            "Training loss: 0.0013\n",
            "Training metric: 0.9307\n",
            "perturbation loss: 0.0031\n"
          ]
        },
        {
          "output_type": "stream",
          "name": "stderr",
          "text": [
            "\r 20%|██        | 203/1000 [04:03<14:32,  1.10s/it]"
          ]
        },
        {
          "output_type": "stream",
          "name": "stdout",
          "text": [
            "Validation acc: 0.9375\n",
            "\n",
            "Start of epoch 203\n",
            "Training loss: 0.0067\n",
            "Training metric: 0.9311\n",
            "perturbation loss: 0.0619\n"
          ]
        },
        {
          "output_type": "stream",
          "name": "stderr",
          "text": [
            "\r 20%|██        | 204/1000 [04:04<14:12,  1.07s/it]"
          ]
        },
        {
          "output_type": "stream",
          "name": "stdout",
          "text": [
            "Validation acc: 0.9375\n",
            "\n",
            "Start of epoch 204\n",
            "Training loss: 0.0024\n",
            "Training metric: 0.9314\n",
            "perturbation loss: 0.0066\n"
          ]
        },
        {
          "output_type": "stream",
          "name": "stderr",
          "text": [
            "\r 20%|██        | 205/1000 [04:05<13:54,  1.05s/it]"
          ]
        },
        {
          "output_type": "stream",
          "name": "stdout",
          "text": [
            "Validation acc: 0.9141\n",
            "\n",
            "Start of epoch 205\n",
            "Training loss: 0.0045\n",
            "Training metric: 0.9316\n",
            "perturbation loss: 0.0152\n"
          ]
        },
        {
          "output_type": "stream",
          "name": "stderr",
          "text": [
            "\r 21%|██        | 206/1000 [04:06<14:17,  1.08s/it]"
          ]
        },
        {
          "output_type": "stream",
          "name": "stdout",
          "text": [
            "Validation acc: 0.9531\n",
            "\n",
            "Start of epoch 206\n",
            "Training loss: 0.0498\n",
            "Training metric: 0.9319\n",
            "perturbation loss: 0.0348\n"
          ]
        },
        {
          "output_type": "stream",
          "name": "stderr",
          "text": [
            "\r 21%|██        | 207/1000 [04:08<15:20,  1.16s/it]"
          ]
        },
        {
          "output_type": "stream",
          "name": "stdout",
          "text": [
            "Validation acc: 0.8984\n",
            "\n",
            "Start of epoch 207\n",
            "Training loss: 0.0070\n",
            "Training metric: 0.9322\n",
            "perturbation loss: 0.0260\n"
          ]
        },
        {
          "output_type": "stream",
          "name": "stderr",
          "text": [
            "\r 21%|██        | 208/1000 [04:09<15:51,  1.20s/it]"
          ]
        },
        {
          "output_type": "stream",
          "name": "stdout",
          "text": [
            "Validation acc: 0.9219\n",
            "\n",
            "Start of epoch 208\n",
            "Training loss: 0.0014\n",
            "Training metric: 0.9325\n",
            "perturbation loss: 0.0057\n"
          ]
        },
        {
          "output_type": "stream",
          "name": "stderr",
          "text": [
            "\r 21%|██        | 209/1000 [04:10<15:32,  1.18s/it]"
          ]
        },
        {
          "output_type": "stream",
          "name": "stdout",
          "text": [
            "Validation acc: 0.8984\n",
            "\n",
            "Start of epoch 209\n",
            "Training loss: 0.0052\n",
            "Training metric: 0.9328\n",
            "perturbation loss: 0.0104\n"
          ]
        },
        {
          "output_type": "stream",
          "name": "stderr",
          "text": [
            "\r 21%|██        | 210/1000 [04:11<14:50,  1.13s/it]"
          ]
        },
        {
          "output_type": "stream",
          "name": "stdout",
          "text": [
            "Validation acc: 0.9375\n",
            "\n",
            "Start of epoch 210\n",
            "Training loss: 0.0007\n",
            "Training metric: 0.9331\n",
            "perturbation loss: 0.0064\n"
          ]
        },
        {
          "output_type": "stream",
          "name": "stderr",
          "text": [
            "\r 21%|██        | 211/1000 [04:12<14:18,  1.09s/it]"
          ]
        },
        {
          "output_type": "stream",
          "name": "stdout",
          "text": [
            "Validation acc: 0.9297\n",
            "\n",
            "Start of epoch 211\n",
            "Training loss: 0.0008\n",
            "Training metric: 0.9335\n",
            "perturbation loss: 0.0081\n"
          ]
        },
        {
          "output_type": "stream",
          "name": "stderr",
          "text": [
            "\r 21%|██        | 212/1000 [04:13<13:57,  1.06s/it]"
          ]
        },
        {
          "output_type": "stream",
          "name": "stdout",
          "text": [
            "Validation acc: 0.9375\n",
            "\n",
            "Start of epoch 212\n",
            "Training loss: 0.0020\n",
            "Training metric: 0.9338\n",
            "perturbation loss: 0.0086\n"
          ]
        },
        {
          "output_type": "stream",
          "name": "stderr",
          "text": [
            "\r 21%|██▏       | 213/1000 [04:14<13:40,  1.04s/it]"
          ]
        },
        {
          "output_type": "stream",
          "name": "stdout",
          "text": [
            "Validation acc: 0.8750\n",
            "\n",
            "Start of epoch 213\n",
            "Training loss: 0.0056\n",
            "Training metric: 0.9341\n",
            "perturbation loss: 0.0186\n"
          ]
        },
        {
          "output_type": "stream",
          "name": "stderr",
          "text": [
            "\r 21%|██▏       | 214/1000 [04:15<13:25,  1.02s/it]"
          ]
        },
        {
          "output_type": "stream",
          "name": "stdout",
          "text": [
            "Validation acc: 0.8672\n",
            "\n",
            "Start of epoch 214\n",
            "Training loss: 0.0058\n",
            "Training metric: 0.9344\n",
            "perturbation loss: 0.0428\n"
          ]
        },
        {
          "output_type": "stream",
          "name": "stderr",
          "text": [
            "\r 22%|██▏       | 215/1000 [04:16<13:17,  1.02s/it]"
          ]
        },
        {
          "output_type": "stream",
          "name": "stdout",
          "text": [
            "Validation acc: 0.8594\n",
            "\n",
            "Start of epoch 215\n",
            "Training loss: 0.0867\n",
            "Training metric: 0.9346\n",
            "perturbation loss: 0.0763\n"
          ]
        },
        {
          "output_type": "stream",
          "name": "stderr",
          "text": [
            "\r 22%|██▏       | 216/1000 [04:17<13:35,  1.04s/it]"
          ]
        },
        {
          "output_type": "stream",
          "name": "stdout",
          "text": [
            "Validation acc: 0.9375\n",
            "\n",
            "Start of epoch 216\n",
            "Training loss: 0.0005\n",
            "Training metric: 0.9349\n",
            "perturbation loss: 0.0049\n"
          ]
        },
        {
          "output_type": "stream",
          "name": "stderr",
          "text": [
            "\r 22%|██▏       | 217/1000 [04:18<13:39,  1.05s/it]"
          ]
        },
        {
          "output_type": "stream",
          "name": "stdout",
          "text": [
            "Validation acc: 0.9062\n",
            "\n",
            "Start of epoch 217\n",
            "Training loss: 0.0078\n",
            "Training metric: 0.9352\n",
            "perturbation loss: 0.0173\n"
          ]
        },
        {
          "output_type": "stream",
          "name": "stderr",
          "text": [
            "\r 22%|██▏       | 218/1000 [04:19<13:42,  1.05s/it]"
          ]
        },
        {
          "output_type": "stream",
          "name": "stdout",
          "text": [
            "Validation acc: 0.9453\n",
            "\n",
            "Start of epoch 218\n",
            "Training loss: 0.0033\n",
            "Training metric: 0.9355\n",
            "perturbation loss: 0.0296\n"
          ]
        },
        {
          "output_type": "stream",
          "name": "stderr",
          "text": [
            "\r 22%|██▏       | 219/1000 [04:21<14:48,  1.14s/it]"
          ]
        },
        {
          "output_type": "stream",
          "name": "stdout",
          "text": [
            "Validation acc: 0.8438\n",
            "\n",
            "Start of epoch 219\n",
            "Training loss: 0.0186\n",
            "Training metric: 0.9357\n",
            "perturbation loss: 0.0278\n"
          ]
        },
        {
          "output_type": "stream",
          "name": "stderr",
          "text": [
            "\r 22%|██▏       | 220/1000 [04:22<17:11,  1.32s/it]"
          ]
        },
        {
          "output_type": "stream",
          "name": "stdout",
          "text": [
            "Validation acc: 0.9609\n",
            "\n",
            "Start of epoch 220\n",
            "Training loss: 0.0667\n",
            "Training metric: 0.9360\n",
            "perturbation loss: 0.0670\n"
          ]
        },
        {
          "output_type": "stream",
          "name": "stderr",
          "text": [
            "\r 22%|██▏       | 221/1000 [04:24<17:02,  1.31s/it]"
          ]
        },
        {
          "output_type": "stream",
          "name": "stdout",
          "text": [
            "Validation acc: 0.8828\n",
            "\n",
            "Start of epoch 221\n",
            "Training loss: 0.0027\n",
            "Training metric: 0.9362\n",
            "perturbation loss: 0.0414\n"
          ]
        },
        {
          "output_type": "stream",
          "name": "stderr",
          "text": [
            "\r 22%|██▏       | 222/1000 [04:25<15:53,  1.23s/it]"
          ]
        },
        {
          "output_type": "stream",
          "name": "stdout",
          "text": [
            "Validation acc: 0.9297\n",
            "\n",
            "Start of epoch 222\n",
            "Training loss: 0.0020\n",
            "Training metric: 0.9365\n",
            "perturbation loss: 0.0089\n"
          ]
        },
        {
          "output_type": "stream",
          "name": "stderr",
          "text": [
            "\r 22%|██▏       | 223/1000 [04:26<14:58,  1.16s/it]"
          ]
        },
        {
          "output_type": "stream",
          "name": "stdout",
          "text": [
            "Validation acc: 0.8906\n",
            "\n",
            "Start of epoch 223\n",
            "Training loss: 0.0012\n",
            "Training metric: 0.9368\n",
            "perturbation loss: 0.0103\n"
          ]
        },
        {
          "output_type": "stream",
          "name": "stderr",
          "text": [
            "\r 22%|██▏       | 224/1000 [04:27<14:19,  1.11s/it]"
          ]
        },
        {
          "output_type": "stream",
          "name": "stdout",
          "text": [
            "Validation acc: 0.8828\n",
            "\n",
            "Start of epoch 224\n",
            "Training loss: 0.0005\n",
            "Training metric: 0.9371\n",
            "perturbation loss: 0.0035\n"
          ]
        },
        {
          "output_type": "stream",
          "name": "stderr",
          "text": [
            "\r 22%|██▎       | 225/1000 [04:28<13:49,  1.07s/it]"
          ]
        },
        {
          "output_type": "stream",
          "name": "stdout",
          "text": [
            "Validation acc: 0.9297\n",
            "\n",
            "Start of epoch 225\n",
            "Training loss: 0.0087\n",
            "Training metric: 0.9373\n",
            "perturbation loss: 0.0277\n"
          ]
        },
        {
          "output_type": "stream",
          "name": "stderr",
          "text": [
            "\r 23%|██▎       | 226/1000 [04:29<13:49,  1.07s/it]"
          ]
        },
        {
          "output_type": "stream",
          "name": "stdout",
          "text": [
            "Validation acc: 0.9297\n",
            "\n",
            "Start of epoch 226\n",
            "Training loss: 0.0693\n",
            "Training metric: 0.9375\n",
            "perturbation loss: 0.1012\n"
          ]
        },
        {
          "output_type": "stream",
          "name": "stderr",
          "text": [
            "\r 23%|██▎       | 227/1000 [04:30<13:53,  1.08s/it]"
          ]
        },
        {
          "output_type": "stream",
          "name": "stdout",
          "text": [
            "Validation acc: 0.8906\n",
            "\n",
            "Start of epoch 227\n",
            "Training loss: 0.0531\n",
            "Training metric: 0.9378\n",
            "perturbation loss: 0.0581\n"
          ]
        },
        {
          "output_type": "stream",
          "name": "stderr",
          "text": [
            "\r 23%|██▎       | 228/1000 [04:31<13:34,  1.06s/it]"
          ]
        },
        {
          "output_type": "stream",
          "name": "stdout",
          "text": [
            "Validation acc: 0.9531\n",
            "\n",
            "Start of epoch 228\n",
            "Training loss: 0.0016\n",
            "Training metric: 0.9380\n",
            "perturbation loss: 0.0163\n"
          ]
        },
        {
          "output_type": "stream",
          "name": "stderr",
          "text": [
            "\r 23%|██▎       | 229/1000 [04:32<13:31,  1.05s/it]"
          ]
        },
        {
          "output_type": "stream",
          "name": "stdout",
          "text": [
            "Validation acc: 0.9375\n",
            "\n",
            "Start of epoch 229\n",
            "Training loss: 0.0054\n",
            "Training metric: 0.9383\n",
            "perturbation loss: 0.0930\n"
          ]
        },
        {
          "output_type": "stream",
          "name": "stderr",
          "text": [
            "\r 23%|██▎       | 230/1000 [04:33<13:21,  1.04s/it]"
          ]
        },
        {
          "output_type": "stream",
          "name": "stdout",
          "text": [
            "Validation acc: 0.9688\n",
            "\n",
            "Start of epoch 230\n",
            "Training loss: 0.0035\n",
            "Training metric: 0.9385\n",
            "perturbation loss: 0.0383\n"
          ]
        },
        {
          "output_type": "stream",
          "name": "stderr",
          "text": [
            "\r 23%|██▎       | 231/1000 [04:34<13:58,  1.09s/it]"
          ]
        },
        {
          "output_type": "stream",
          "name": "stdout",
          "text": [
            "Validation acc: 0.9141\n",
            "\n",
            "Start of epoch 231\n",
            "Training loss: 0.0300\n",
            "Training metric: 0.9388\n",
            "perturbation loss: 0.0699\n"
          ]
        },
        {
          "output_type": "stream",
          "name": "stderr",
          "text": [
            "\r 23%|██▎       | 232/1000 [04:35<14:50,  1.16s/it]"
          ]
        },
        {
          "output_type": "stream",
          "name": "stdout",
          "text": [
            "Validation acc: 0.9062\n",
            "\n",
            "Start of epoch 232\n",
            "Training loss: 0.0027\n",
            "Training metric: 0.9390\n",
            "perturbation loss: 0.0167\n"
          ]
        },
        {
          "output_type": "stream",
          "name": "stderr",
          "text": [
            "\r 23%|██▎       | 233/1000 [04:37<15:30,  1.21s/it]"
          ]
        },
        {
          "output_type": "stream",
          "name": "stdout",
          "text": [
            "Validation acc: 0.9219\n",
            "\n",
            "Start of epoch 233\n",
            "Training loss: 0.0016\n",
            "Training metric: 0.9393\n",
            "perturbation loss: 0.0195\n"
          ]
        },
        {
          "output_type": "stream",
          "name": "stderr",
          "text": [
            "\r 23%|██▎       | 234/1000 [04:38<14:46,  1.16s/it]"
          ]
        },
        {
          "output_type": "stream",
          "name": "stdout",
          "text": [
            "Validation acc: 0.8438\n",
            "\n",
            "Start of epoch 234\n",
            "Training loss: 0.0008\n",
            "Training metric: 0.9395\n",
            "perturbation loss: 0.0204\n"
          ]
        },
        {
          "output_type": "stream",
          "name": "stderr",
          "text": [
            "\r 24%|██▎       | 235/1000 [04:39<14:10,  1.11s/it]"
          ]
        },
        {
          "output_type": "stream",
          "name": "stdout",
          "text": [
            "Validation acc: 0.9297\n",
            "\n",
            "Start of epoch 235\n",
            "Training loss: 0.0023\n",
            "Training metric: 0.9398\n",
            "perturbation loss: 0.0034\n"
          ]
        },
        {
          "output_type": "stream",
          "name": "stderr",
          "text": [
            "\r 24%|██▎       | 236/1000 [04:40<13:39,  1.07s/it]"
          ]
        },
        {
          "output_type": "stream",
          "name": "stdout",
          "text": [
            "Validation acc: 0.9453\n",
            "\n",
            "Start of epoch 236\n",
            "Training loss: 0.0006\n",
            "Training metric: 0.9400\n",
            "perturbation loss: 0.0030\n"
          ]
        },
        {
          "output_type": "stream",
          "name": "stderr",
          "text": [
            "\r 24%|██▎       | 237/1000 [04:41<13:20,  1.05s/it]"
          ]
        },
        {
          "output_type": "stream",
          "name": "stdout",
          "text": [
            "Validation acc: 0.9375\n",
            "\n",
            "Start of epoch 237\n",
            "Training loss: 0.0002\n",
            "Training metric: 0.9403\n",
            "perturbation loss: 0.0013\n"
          ]
        },
        {
          "output_type": "stream",
          "name": "stderr",
          "text": [
            "\r 24%|██▍       | 238/1000 [04:42<13:09,  1.04s/it]"
          ]
        },
        {
          "output_type": "stream",
          "name": "stdout",
          "text": [
            "Validation acc: 0.9375\n",
            "\n",
            "Start of epoch 238\n",
            "Training loss: 0.0001\n",
            "Training metric: 0.9405\n",
            "perturbation loss: 0.0010\n"
          ]
        },
        {
          "output_type": "stream",
          "name": "stderr",
          "text": [
            "\r 24%|██▍       | 239/1000 [04:43<12:55,  1.02s/it]"
          ]
        },
        {
          "output_type": "stream",
          "name": "stdout",
          "text": [
            "Validation acc: 0.9531\n",
            "\n",
            "Start of epoch 239\n",
            "Training loss: 0.0001\n",
            "Training metric: 0.9408\n",
            "perturbation loss: 0.0006\n"
          ]
        },
        {
          "output_type": "stream",
          "name": "stderr",
          "text": [
            "\r 24%|██▍       | 240/1000 [04:44<13:08,  1.04s/it]"
          ]
        },
        {
          "output_type": "stream",
          "name": "stdout",
          "text": [
            "Validation acc: 0.9375\n",
            "\n",
            "Start of epoch 240\n",
            "Training loss: 0.0001\n",
            "Training metric: 0.9410\n",
            "perturbation loss: 0.0010\n"
          ]
        },
        {
          "output_type": "stream",
          "name": "stderr",
          "text": [
            "\r 24%|██▍       | 241/1000 [04:45<12:58,  1.03s/it]"
          ]
        },
        {
          "output_type": "stream",
          "name": "stdout",
          "text": [
            "Validation acc: 0.9453\n",
            "\n",
            "Start of epoch 241\n",
            "Training loss: 0.0001\n",
            "Training metric: 0.9413\n",
            "perturbation loss: 0.0007\n"
          ]
        },
        {
          "output_type": "stream",
          "name": "stderr",
          "text": [
            "\r 24%|██▍       | 242/1000 [04:46<13:09,  1.04s/it]"
          ]
        },
        {
          "output_type": "stream",
          "name": "stdout",
          "text": [
            "Validation acc: 0.9531\n",
            "\n",
            "Start of epoch 242\n",
            "Training loss: 0.0001\n",
            "Training metric: 0.9415\n",
            "perturbation loss: 0.0016\n"
          ]
        },
        {
          "output_type": "stream",
          "name": "stderr",
          "text": [
            "\r 24%|██▍       | 243/1000 [04:47<12:56,  1.03s/it]"
          ]
        },
        {
          "output_type": "stream",
          "name": "stdout",
          "text": [
            "Validation acc: 0.9531\n",
            "\n",
            "Start of epoch 243\n",
            "Training loss: 0.0070\n",
            "Training metric: 0.9418\n",
            "perturbation loss: 0.0051\n"
          ]
        },
        {
          "output_type": "stream",
          "name": "stderr",
          "text": [
            "\r 24%|██▍       | 244/1000 [04:48<14:04,  1.12s/it]"
          ]
        },
        {
          "output_type": "stream",
          "name": "stdout",
          "text": [
            "Validation acc: 0.9531\n",
            "\n",
            "Start of epoch 244\n",
            "Training loss: 0.0277\n",
            "Training metric: 0.9419\n",
            "perturbation loss: 0.0922\n"
          ]
        },
        {
          "output_type": "stream",
          "name": "stderr",
          "text": [
            "\r 24%|██▍       | 245/1000 [04:49<14:45,  1.17s/it]"
          ]
        },
        {
          "output_type": "stream",
          "name": "stdout",
          "text": [
            "Validation acc: 0.9297\n",
            "\n",
            "Start of epoch 245\n",
            "Training loss: 0.0009\n",
            "Training metric: 0.9421\n",
            "perturbation loss: 0.0105\n"
          ]
        },
        {
          "output_type": "stream",
          "name": "stderr",
          "text": [
            "\r 25%|██▍       | 246/1000 [04:51<15:07,  1.20s/it]"
          ]
        },
        {
          "output_type": "stream",
          "name": "stdout",
          "text": [
            "Validation acc: 0.7422\n",
            "\n",
            "Start of epoch 246\n",
            "Training loss: 0.0002\n",
            "Training metric: 0.9424\n",
            "perturbation loss: 0.0019\n"
          ]
        },
        {
          "output_type": "stream",
          "name": "stderr",
          "text": [
            "\r 25%|██▍       | 247/1000 [04:52<14:38,  1.17s/it]"
          ]
        },
        {
          "output_type": "stream",
          "name": "stdout",
          "text": [
            "Validation acc: 0.9375\n",
            "\n",
            "Start of epoch 247\n",
            "Training loss: 0.0003\n",
            "Training metric: 0.9426\n",
            "perturbation loss: 0.0056\n"
          ]
        },
        {
          "output_type": "stream",
          "name": "stderr",
          "text": [
            "\r 25%|██▍       | 248/1000 [04:53<13:55,  1.11s/it]"
          ]
        },
        {
          "output_type": "stream",
          "name": "stdout",
          "text": [
            "Validation acc: 0.9375\n",
            "\n",
            "Start of epoch 248\n",
            "Training loss: 0.0005\n",
            "Training metric: 0.9428\n",
            "perturbation loss: 0.0053\n"
          ]
        },
        {
          "output_type": "stream",
          "name": "stderr",
          "text": [
            "\r 25%|██▍       | 249/1000 [04:54<13:24,  1.07s/it]"
          ]
        },
        {
          "output_type": "stream",
          "name": "stdout",
          "text": [
            "Validation acc: 0.9453\n",
            "\n",
            "Start of epoch 249\n",
            "Training loss: 0.0038\n",
            "Training metric: 0.9430\n",
            "perturbation loss: 0.0025\n"
          ]
        },
        {
          "output_type": "stream",
          "name": "stderr",
          "text": [
            "\r 25%|██▌       | 250/1000 [04:55<13:02,  1.04s/it]"
          ]
        },
        {
          "output_type": "stream",
          "name": "stdout",
          "text": [
            "Validation acc: 0.9453\n",
            "\n",
            "Start of epoch 250\n",
            "Training loss: 0.0097\n",
            "Training metric: 0.9433\n",
            "perturbation loss: 0.0340\n"
          ]
        },
        {
          "output_type": "stream",
          "name": "stderr",
          "text": [
            "\r 25%|██▌       | 251/1000 [04:56<12:51,  1.03s/it]"
          ]
        },
        {
          "output_type": "stream",
          "name": "stdout",
          "text": [
            "Validation acc: 0.9531\n",
            "\n",
            "Start of epoch 251\n",
            "Training loss: 0.0015\n",
            "Training metric: 0.9435\n",
            "perturbation loss: 0.0083\n"
          ]
        },
        {
          "output_type": "stream",
          "name": "stderr",
          "text": [
            "\r 25%|██▌       | 252/1000 [04:57<12:59,  1.04s/it]"
          ]
        },
        {
          "output_type": "stream",
          "name": "stdout",
          "text": [
            "Validation acc: 0.9375\n",
            "\n",
            "Start of epoch 252\n",
            "Training loss: 0.0041\n",
            "Training metric: 0.9437\n",
            "perturbation loss: 0.0101\n"
          ]
        },
        {
          "output_type": "stream",
          "name": "stderr",
          "text": [
            "\r 25%|██▌       | 253/1000 [04:58<12:50,  1.03s/it]"
          ]
        },
        {
          "output_type": "stream",
          "name": "stdout",
          "text": [
            "Validation acc: 0.9297\n",
            "\n",
            "Start of epoch 253\n",
            "Training loss: 0.0006\n",
            "Training metric: 0.9439\n",
            "perturbation loss: 0.0101\n"
          ]
        },
        {
          "output_type": "stream",
          "name": "stderr",
          "text": [
            "\r 25%|██▌       | 254/1000 [04:59<12:37,  1.02s/it]"
          ]
        },
        {
          "output_type": "stream",
          "name": "stdout",
          "text": [
            "Validation acc: 0.8828\n",
            "\n",
            "Start of epoch 254\n",
            "Training loss: 0.0003\n",
            "Training metric: 0.9441\n",
            "perturbation loss: 0.0022\n"
          ]
        },
        {
          "output_type": "stream",
          "name": "stderr",
          "text": [
            "\r 26%|██▌       | 255/1000 [05:00<12:48,  1.03s/it]"
          ]
        },
        {
          "output_type": "stream",
          "name": "stdout",
          "text": [
            "Validation acc: 0.9297\n",
            "\n",
            "Start of epoch 255\n",
            "Training loss: 0.0024\n",
            "Training metric: 0.9443\n",
            "perturbation loss: 0.0084\n"
          ]
        },
        {
          "output_type": "stream",
          "name": "stderr",
          "text": [
            "\r 26%|██▌       | 256/1000 [05:01<13:00,  1.05s/it]"
          ]
        },
        {
          "output_type": "stream",
          "name": "stdout",
          "text": [
            "Validation acc: 0.8750\n",
            "\n",
            "Start of epoch 256\n",
            "Training loss: 0.0375\n",
            "Training metric: 0.9445\n",
            "perturbation loss: 0.0443\n"
          ]
        },
        {
          "output_type": "stream",
          "name": "stderr",
          "text": [
            "\r 26%|██▌       | 257/1000 [05:02<14:01,  1.13s/it]"
          ]
        },
        {
          "output_type": "stream",
          "name": "stdout",
          "text": [
            "Validation acc: 0.8906\n",
            "\n",
            "Start of epoch 257\n",
            "Training loss: 0.0011\n",
            "Training metric: 0.9447\n",
            "perturbation loss: 0.0097\n"
          ]
        },
        {
          "output_type": "stream",
          "name": "stderr",
          "text": [
            "\r 26%|██▌       | 258/1000 [05:04<14:38,  1.18s/it]"
          ]
        },
        {
          "output_type": "stream",
          "name": "stdout",
          "text": [
            "Validation acc: 0.9531\n",
            "\n",
            "Start of epoch 258\n",
            "Training loss: 0.0018\n",
            "Training metric: 0.9449\n",
            "perturbation loss: 0.0092\n"
          ]
        },
        {
          "output_type": "stream",
          "name": "stderr",
          "text": [
            "\r 26%|██▌       | 259/1000 [05:05<14:56,  1.21s/it]"
          ]
        },
        {
          "output_type": "stream",
          "name": "stdout",
          "text": [
            "Validation acc: 0.9297\n",
            "\n",
            "Start of epoch 259\n",
            "Training loss: 0.0001\n",
            "Training metric: 0.9452\n",
            "perturbation loss: 0.0011\n"
          ]
        },
        {
          "output_type": "stream",
          "name": "stderr",
          "text": [
            "\r 26%|██▌       | 260/1000 [05:06<14:23,  1.17s/it]"
          ]
        },
        {
          "output_type": "stream",
          "name": "stdout",
          "text": [
            "Validation acc: 0.9453\n",
            "\n",
            "Start of epoch 260\n",
            "Training loss: 0.0001\n",
            "Training metric: 0.9454\n",
            "perturbation loss: 0.0011\n"
          ]
        },
        {
          "output_type": "stream",
          "name": "stderr",
          "text": [
            "\r 26%|██▌       | 261/1000 [05:07<13:44,  1.12s/it]"
          ]
        },
        {
          "output_type": "stream",
          "name": "stdout",
          "text": [
            "Validation acc: 0.9531\n",
            "\n",
            "Start of epoch 261\n",
            "Training loss: 0.0000\n",
            "Training metric: 0.9456\n",
            "perturbation loss: 0.0004\n"
          ]
        },
        {
          "output_type": "stream",
          "name": "stderr",
          "text": [
            "\r 26%|██▌       | 262/1000 [05:08<13:13,  1.08s/it]"
          ]
        },
        {
          "output_type": "stream",
          "name": "stdout",
          "text": [
            "Validation acc: 0.9531\n",
            "\n",
            "Start of epoch 262\n",
            "Training loss: 0.0000\n",
            "Training metric: 0.9458\n",
            "perturbation loss: 0.0002\n"
          ]
        },
        {
          "output_type": "stream",
          "name": "stderr",
          "text": [
            "\r 26%|██▋       | 263/1000 [05:09<12:57,  1.05s/it]"
          ]
        },
        {
          "output_type": "stream",
          "name": "stdout",
          "text": [
            "Validation acc: 0.9453\n",
            "\n",
            "Start of epoch 263\n",
            "Training loss: 0.0005\n",
            "Training metric: 0.9460\n",
            "perturbation loss: 0.0051\n"
          ]
        },
        {
          "output_type": "stream",
          "name": "stderr",
          "text": [
            "\r 26%|██▋       | 264/1000 [05:10<12:40,  1.03s/it]"
          ]
        },
        {
          "output_type": "stream",
          "name": "stdout",
          "text": [
            "Validation acc: 0.9531\n",
            "\n",
            "Start of epoch 264\n",
            "Training loss: 0.0002\n",
            "Training metric: 0.9462\n",
            "perturbation loss: 0.0017\n",
            "Validation acc: 0.9453\n"
          ]
        },
        {
          "output_type": "stream",
          "name": "stderr",
          "text": [
            "\r 26%|██▋       | 265/1000 [05:11<12:22,  1.01s/it]"
          ]
        },
        {
          "output_type": "stream",
          "name": "stdout",
          "text": [
            "\n",
            "Start of epoch 265\n",
            "Training loss: 0.0003\n",
            "Training metric: 0.9464\n",
            "perturbation loss: 0.0032\n"
          ]
        },
        {
          "output_type": "stream",
          "name": "stderr",
          "text": [
            "\r 27%|██▋       | 266/1000 [05:12<12:18,  1.01s/it]"
          ]
        },
        {
          "output_type": "stream",
          "name": "stdout",
          "text": [
            "Validation acc: 0.9453\n",
            "\n",
            "Start of epoch 266\n",
            "Training loss: 0.0024\n",
            "Training metric: 0.9466\n",
            "perturbation loss: 0.0404\n"
          ]
        },
        {
          "output_type": "stream",
          "name": "stderr",
          "text": [
            "\r 27%|██▋       | 267/1000 [05:13<12:17,  1.01s/it]"
          ]
        },
        {
          "output_type": "stream",
          "name": "stdout",
          "text": [
            "Validation acc: 0.9375\n",
            "\n",
            "Start of epoch 267\n",
            "Training loss: 0.0059\n",
            "Training metric: 0.9468\n",
            "perturbation loss: 0.0346\n"
          ]
        },
        {
          "output_type": "stream",
          "name": "stderr",
          "text": [
            "\r 27%|██▋       | 268/1000 [05:14<12:12,  1.00s/it]"
          ]
        },
        {
          "output_type": "stream",
          "name": "stdout",
          "text": [
            "Validation acc: 0.9375\n",
            "\n",
            "Start of epoch 268\n",
            "Training loss: 0.0112\n",
            "Training metric: 0.9470\n",
            "perturbation loss: 0.1013\n"
          ]
        },
        {
          "output_type": "stream",
          "name": "stderr",
          "text": [
            "\r 27%|██▋       | 269/1000 [05:15<12:45,  1.05s/it]"
          ]
        },
        {
          "output_type": "stream",
          "name": "stdout",
          "text": [
            "Validation acc: 0.6094\n",
            "\n",
            "Start of epoch 269\n",
            "Training loss: 0.0055\n",
            "Training metric: 0.9471\n",
            "perturbation loss: 0.0629\n"
          ]
        },
        {
          "output_type": "stream",
          "name": "stderr",
          "text": [
            "\r 27%|██▋       | 270/1000 [05:17<14:40,  1.21s/it]"
          ]
        },
        {
          "output_type": "stream",
          "name": "stdout",
          "text": [
            "Validation acc: 0.8906\n",
            "\n",
            "Start of epoch 270\n",
            "Training loss: 0.0013\n",
            "Training metric: 0.9473\n",
            "perturbation loss: 0.0047\n"
          ]
        },
        {
          "output_type": "stream",
          "name": "stderr",
          "text": [
            "\r 27%|██▋       | 271/1000 [05:18<15:47,  1.30s/it]"
          ]
        },
        {
          "output_type": "stream",
          "name": "stdout",
          "text": [
            "Validation acc: 0.8984\n",
            "\n",
            "Start of epoch 271\n",
            "Training loss: 0.0032\n",
            "Training metric: 0.9475\n",
            "perturbation loss: 0.0067\n"
          ]
        },
        {
          "output_type": "stream",
          "name": "stderr",
          "text": [
            "\r 27%|██▋       | 272/1000 [05:19<14:57,  1.23s/it]"
          ]
        },
        {
          "output_type": "stream",
          "name": "stdout",
          "text": [
            "Validation acc: 0.9219\n",
            "\n",
            "Start of epoch 272\n",
            "Training loss: 0.0007\n",
            "Training metric: 0.9477\n",
            "perturbation loss: 0.0024\n"
          ]
        },
        {
          "output_type": "stream",
          "name": "stderr",
          "text": [
            "\r 27%|██▋       | 273/1000 [05:20<14:20,  1.18s/it]"
          ]
        },
        {
          "output_type": "stream",
          "name": "stdout",
          "text": [
            "Validation acc: 0.9375\n",
            "\n",
            "Start of epoch 273\n",
            "Training loss: 0.0013\n",
            "Training metric: 0.9478\n",
            "perturbation loss: 0.0037\n"
          ]
        },
        {
          "output_type": "stream",
          "name": "stderr",
          "text": [
            "\r 27%|██▋       | 274/1000 [05:21<13:57,  1.15s/it]"
          ]
        },
        {
          "output_type": "stream",
          "name": "stdout",
          "text": [
            "Validation acc: 0.9141\n",
            "\n",
            "Start of epoch 274\n",
            "Training loss: 0.0009\n",
            "Training metric: 0.9480\n",
            "perturbation loss: 0.0019\n"
          ]
        },
        {
          "output_type": "stream",
          "name": "stderr",
          "text": [
            "\r 28%|██▊       | 275/1000 [05:22<13:59,  1.16s/it]"
          ]
        },
        {
          "output_type": "stream",
          "name": "stdout",
          "text": [
            "Validation acc: 0.9453\n",
            "\n",
            "Start of epoch 275\n",
            "Training loss: 0.0010\n",
            "Training metric: 0.9482\n",
            "perturbation loss: 0.0043\n"
          ]
        },
        {
          "output_type": "stream",
          "name": "stderr",
          "text": [
            "\r 28%|██▊       | 276/1000 [05:24<13:48,  1.14s/it]"
          ]
        },
        {
          "output_type": "stream",
          "name": "stdout",
          "text": [
            "Validation acc: 0.9297\n",
            "\n",
            "Start of epoch 276\n",
            "Training loss: 0.0002\n",
            "Training metric: 0.9484\n",
            "perturbation loss: 0.0035\n"
          ]
        },
        {
          "output_type": "stream",
          "name": "stderr",
          "text": [
            "\r 28%|██▊       | 277/1000 [05:25<13:20,  1.11s/it]"
          ]
        },
        {
          "output_type": "stream",
          "name": "stdout",
          "text": [
            "Validation acc: 0.9375\n",
            "\n",
            "Start of epoch 277\n",
            "Training loss: 0.0008\n",
            "Training metric: 0.9486\n",
            "perturbation loss: 0.0106\n"
          ]
        },
        {
          "output_type": "stream",
          "name": "stderr",
          "text": [
            "\r 28%|██▊       | 278/1000 [05:26<12:52,  1.07s/it]"
          ]
        },
        {
          "output_type": "stream",
          "name": "stdout",
          "text": [
            "Validation acc: 0.9453\n",
            "\n",
            "Start of epoch 278\n",
            "Training loss: 0.0001\n",
            "Training metric: 0.9488\n",
            "perturbation loss: 0.0005\n"
          ]
        },
        {
          "output_type": "stream",
          "name": "stderr",
          "text": [
            "\r 28%|██▊       | 279/1000 [05:27<12:35,  1.05s/it]"
          ]
        },
        {
          "output_type": "stream",
          "name": "stdout",
          "text": [
            "Validation acc: 0.9375\n",
            "\n",
            "Start of epoch 279\n",
            "Training loss: 0.0020\n",
            "Training metric: 0.9490\n",
            "perturbation loss: 0.0181\n"
          ]
        },
        {
          "output_type": "stream",
          "name": "stderr",
          "text": [
            "\r 28%|██▊       | 280/1000 [05:28<12:21,  1.03s/it]"
          ]
        },
        {
          "output_type": "stream",
          "name": "stdout",
          "text": [
            "Validation acc: 0.9141\n",
            "\n",
            "Start of epoch 280\n",
            "Training loss: 0.0050\n",
            "Training metric: 0.9491\n",
            "perturbation loss: 0.0588\n"
          ]
        },
        {
          "output_type": "stream",
          "name": "stderr",
          "text": [
            "\r 28%|██▊       | 281/1000 [05:29<13:19,  1.11s/it]"
          ]
        },
        {
          "output_type": "stream",
          "name": "stdout",
          "text": [
            "Validation acc: 0.9141\n",
            "\n",
            "Start of epoch 281\n",
            "Training loss: 0.0007\n",
            "Training metric: 0.9493\n",
            "perturbation loss: 0.0135\n"
          ]
        },
        {
          "output_type": "stream",
          "name": "stderr",
          "text": [
            "\r 28%|██▊       | 282/1000 [05:30<14:02,  1.17s/it]"
          ]
        },
        {
          "output_type": "stream",
          "name": "stdout",
          "text": [
            "Validation acc: 0.8125\n",
            "\n",
            "Start of epoch 282\n",
            "Training loss: 0.0001\n",
            "Training metric: 0.9495\n",
            "perturbation loss: 0.0003\n"
          ]
        },
        {
          "output_type": "stream",
          "name": "stderr",
          "text": [
            "\r 28%|██▊       | 283/1000 [05:32<14:31,  1.22s/it]"
          ]
        },
        {
          "output_type": "stream",
          "name": "stdout",
          "text": [
            "Validation acc: 0.8828\n",
            "\n",
            "Start of epoch 283\n",
            "Training loss: 0.0028\n",
            "Training metric: 0.9496\n",
            "perturbation loss: 0.0034\n"
          ]
        },
        {
          "output_type": "stream",
          "name": "stderr",
          "text": [
            "\r 28%|██▊       | 284/1000 [05:33<13:39,  1.15s/it]"
          ]
        },
        {
          "output_type": "stream",
          "name": "stdout",
          "text": [
            "Validation acc: 0.8750\n",
            "\n",
            "Start of epoch 284\n",
            "Training loss: 0.0689\n",
            "Training metric: 0.9498\n",
            "perturbation loss: 0.1472\n"
          ]
        },
        {
          "output_type": "stream",
          "name": "stderr",
          "text": [
            "\r 28%|██▊       | 285/1000 [05:34<13:28,  1.13s/it]"
          ]
        },
        {
          "output_type": "stream",
          "name": "stdout",
          "text": [
            "Validation acc: 0.8906\n",
            "\n",
            "Start of epoch 285\n",
            "Training loss: 0.0143\n",
            "Training metric: 0.9499\n",
            "perturbation loss: 0.0397\n"
          ]
        },
        {
          "output_type": "stream",
          "name": "stderr",
          "text": [
            "\r 29%|██▊       | 286/1000 [05:35<13:02,  1.10s/it]"
          ]
        },
        {
          "output_type": "stream",
          "name": "stdout",
          "text": [
            "Validation acc: 0.8516\n",
            "\n",
            "Start of epoch 286\n",
            "Training loss: 0.0408\n",
            "Training metric: 0.9501\n",
            "perturbation loss: 0.0680\n",
            "Validation acc: 0.9297\n"
          ]
        },
        {
          "output_type": "stream",
          "name": "stderr",
          "text": [
            "\r 29%|██▊       | 287/1000 [05:36<12:35,  1.06s/it]"
          ]
        },
        {
          "output_type": "stream",
          "name": "stdout",
          "text": [
            "\n",
            "Start of epoch 287\n",
            "Training loss: 0.0009\n",
            "Training metric: 0.9503\n",
            "perturbation loss: 0.0088\n"
          ]
        },
        {
          "output_type": "stream",
          "name": "stderr",
          "text": [
            "\r 29%|██▉       | 288/1000 [05:37<12:41,  1.07s/it]"
          ]
        },
        {
          "output_type": "stream",
          "name": "stdout",
          "text": [
            "Validation acc: 0.7656\n",
            "\n",
            "Start of epoch 288\n",
            "Training loss: 0.0016\n",
            "Training metric: 0.9505\n",
            "perturbation loss: 0.0051\n",
            "Validation acc: 0.9141\n"
          ]
        },
        {
          "output_type": "stream",
          "name": "stderr",
          "text": [
            "\r 29%|██▉       | 289/1000 [05:38<12:19,  1.04s/it]"
          ]
        },
        {
          "output_type": "stream",
          "name": "stdout",
          "text": [
            "\n",
            "Start of epoch 289\n",
            "Training loss: 0.0024\n",
            "Training metric: 0.9506\n",
            "perturbation loss: 0.0168\n"
          ]
        },
        {
          "output_type": "stream",
          "name": "stderr",
          "text": [
            "\r 29%|██▉       | 290/1000 [05:39<12:29,  1.06s/it]"
          ]
        },
        {
          "output_type": "stream",
          "name": "stdout",
          "text": [
            "Validation acc: 0.9375\n",
            "\n",
            "Start of epoch 290\n",
            "Training loss: 0.0199\n",
            "Training metric: 0.9508\n",
            "perturbation loss: 0.0147\n"
          ]
        },
        {
          "output_type": "stream",
          "name": "stderr",
          "text": [
            "\r 29%|██▉       | 291/1000 [05:40<12:11,  1.03s/it]"
          ]
        },
        {
          "output_type": "stream",
          "name": "stdout",
          "text": [
            "Validation acc: 0.9219\n",
            "\n",
            "Start of epoch 291\n",
            "Training loss: 0.0007\n",
            "Training metric: 0.9509\n",
            "perturbation loss: 0.0108\n"
          ]
        },
        {
          "output_type": "stream",
          "name": "stderr",
          "text": [
            "\r 29%|██▉       | 292/1000 [05:41<12:01,  1.02s/it]"
          ]
        },
        {
          "output_type": "stream",
          "name": "stdout",
          "text": [
            "Validation acc: 0.9062\n",
            "\n",
            "Start of epoch 292\n",
            "Training loss: 0.0018\n",
            "Training metric: 0.9511\n",
            "perturbation loss: 0.0090\n"
          ]
        },
        {
          "output_type": "stream",
          "name": "stderr",
          "text": [
            "\r 29%|██▉       | 293/1000 [05:42<12:11,  1.03s/it]"
          ]
        },
        {
          "output_type": "stream",
          "name": "stdout",
          "text": [
            "Validation acc: 0.8984\n",
            "\n",
            "Start of epoch 293\n",
            "Training loss: 0.0010\n",
            "Training metric: 0.9513\n",
            "perturbation loss: 0.0050\n"
          ]
        },
        {
          "output_type": "stream",
          "name": "stderr",
          "text": [
            "\r 29%|██▉       | 294/1000 [05:43<13:02,  1.11s/it]"
          ]
        },
        {
          "output_type": "stream",
          "name": "stdout",
          "text": [
            "Validation acc: 0.5781\n",
            "\n",
            "Start of epoch 294\n",
            "Training loss: 0.0010\n",
            "Training metric: 0.9514\n",
            "perturbation loss: 0.0196\n"
          ]
        },
        {
          "output_type": "stream",
          "name": "stderr",
          "text": [
            "\r 30%|██▉       | 295/1000 [05:44<13:52,  1.18s/it]"
          ]
        },
        {
          "output_type": "stream",
          "name": "stdout",
          "text": [
            "Validation acc: 0.8984\n",
            "\n",
            "Start of epoch 295\n",
            "Training loss: 0.0007\n",
            "Training metric: 0.9515\n",
            "perturbation loss: 0.0132\n"
          ]
        },
        {
          "output_type": "stream",
          "name": "stderr",
          "text": [
            "\r 30%|██▉       | 296/1000 [05:46<13:55,  1.19s/it]"
          ]
        },
        {
          "output_type": "stream",
          "name": "stdout",
          "text": [
            "Validation acc: 0.8750\n",
            "\n",
            "Start of epoch 296\n",
            "Training loss: 0.0071\n",
            "Training metric: 0.9517\n",
            "perturbation loss: 0.0530\n"
          ]
        },
        {
          "output_type": "stream",
          "name": "stderr",
          "text": [
            "\r 30%|██▉       | 297/1000 [05:47<13:15,  1.13s/it]"
          ]
        },
        {
          "output_type": "stream",
          "name": "stdout",
          "text": [
            "Validation acc: 0.9375\n",
            "\n",
            "Start of epoch 297\n",
            "Training loss: 0.0018\n",
            "Training metric: 0.9518\n",
            "perturbation loss: 0.0198\n"
          ]
        },
        {
          "output_type": "stream",
          "name": "stderr",
          "text": [
            "\r 30%|██▉       | 298/1000 [05:48<12:43,  1.09s/it]"
          ]
        },
        {
          "output_type": "stream",
          "name": "stdout",
          "text": [
            "Validation acc: 0.9219\n",
            "\n",
            "Start of epoch 298\n",
            "Training loss: 0.0003\n",
            "Training metric: 0.9520\n",
            "perturbation loss: 0.0033\n"
          ]
        },
        {
          "output_type": "stream",
          "name": "stderr",
          "text": [
            "\r 30%|██▉       | 299/1000 [05:49<12:21,  1.06s/it]"
          ]
        },
        {
          "output_type": "stream",
          "name": "stdout",
          "text": [
            "Validation acc: 0.9531\n",
            "\n",
            "Start of epoch 299\n",
            "Training loss: 0.0025\n",
            "Training metric: 0.9521\n",
            "perturbation loss: 0.0040\n"
          ]
        },
        {
          "output_type": "stream",
          "name": "stderr",
          "text": [
            "\r 30%|███       | 300/1000 [05:50<12:24,  1.06s/it]"
          ]
        },
        {
          "output_type": "stream",
          "name": "stdout",
          "text": [
            "Validation acc: 0.9531\n",
            "\n",
            "Start of epoch 300\n",
            "Training loss: 0.0036\n",
            "Training metric: 0.9523\n",
            "perturbation loss: 0.0095\n"
          ]
        },
        {
          "output_type": "stream",
          "name": "stderr",
          "text": [
            "\r 30%|███       | 301/1000 [05:51<12:05,  1.04s/it]"
          ]
        },
        {
          "output_type": "stream",
          "name": "stdout",
          "text": [
            "Validation acc: 0.9531\n",
            "\n",
            "Start of epoch 301\n",
            "Training loss: 0.0001\n",
            "Training metric: 0.9524\n",
            "perturbation loss: 0.0009\n"
          ]
        },
        {
          "output_type": "stream",
          "name": "stderr",
          "text": [
            "\r 30%|███       | 302/1000 [05:52<11:55,  1.02s/it]"
          ]
        },
        {
          "output_type": "stream",
          "name": "stdout",
          "text": [
            "Validation acc: 0.9062\n",
            "\n",
            "Start of epoch 302\n",
            "Training loss: 0.0013\n",
            "Training metric: 0.9526\n",
            "perturbation loss: 0.0122\n"
          ]
        },
        {
          "output_type": "stream",
          "name": "stderr",
          "text": [
            "\r 30%|███       | 303/1000 [05:53<11:48,  1.02s/it]"
          ]
        },
        {
          "output_type": "stream",
          "name": "stdout",
          "text": [
            "Validation acc: 0.9219\n",
            "\n",
            "Start of epoch 303\n",
            "Training loss: 0.0008\n",
            "Training metric: 0.9527\n",
            "perturbation loss: 0.0064\n"
          ]
        },
        {
          "output_type": "stream",
          "name": "stderr",
          "text": [
            "\r 30%|███       | 304/1000 [05:54<11:45,  1.01s/it]"
          ]
        },
        {
          "output_type": "stream",
          "name": "stdout",
          "text": [
            "Validation acc: 0.9297\n",
            "\n",
            "Start of epoch 304\n",
            "Training loss: 0.0003\n",
            "Training metric: 0.9529\n",
            "perturbation loss: 0.0081\n"
          ]
        },
        {
          "output_type": "stream",
          "name": "stderr",
          "text": [
            "\r 30%|███       | 305/1000 [05:55<11:41,  1.01s/it]"
          ]
        },
        {
          "output_type": "stream",
          "name": "stdout",
          "text": [
            "Validation acc: 0.9375\n",
            "\n",
            "Start of epoch 305\n",
            "Training loss: 0.0004\n",
            "Training metric: 0.9531\n",
            "perturbation loss: 0.0057\n"
          ]
        },
        {
          "output_type": "stream",
          "name": "stderr",
          "text": [
            "\r 31%|███       | 306/1000 [05:56<12:03,  1.04s/it]"
          ]
        },
        {
          "output_type": "stream",
          "name": "stdout",
          "text": [
            "Validation acc: 0.9375\n",
            "\n",
            "Start of epoch 306\n",
            "Training loss: 0.0002\n",
            "Training metric: 0.9532\n",
            "perturbation loss: 0.0013\n"
          ]
        },
        {
          "output_type": "stream",
          "name": "stderr",
          "text": [
            "\r 31%|███       | 307/1000 [05:57<13:00,  1.13s/it]"
          ]
        },
        {
          "output_type": "stream",
          "name": "stdout",
          "text": [
            "Validation acc: 0.9219\n",
            "\n",
            "Start of epoch 307\n",
            "Training loss: 0.0001\n",
            "Training metric: 0.9534\n",
            "perturbation loss: 0.0013\n"
          ]
        },
        {
          "output_type": "stream",
          "name": "stderr",
          "text": [
            "\r 31%|███       | 308/1000 [05:58<13:38,  1.18s/it]"
          ]
        },
        {
          "output_type": "stream",
          "name": "stdout",
          "text": [
            "Validation acc: 0.8984\n",
            "\n",
            "Start of epoch 308\n",
            "Training loss: 0.0000\n",
            "Training metric: 0.9535\n",
            "perturbation loss: 0.0000\n"
          ]
        },
        {
          "output_type": "stream",
          "name": "stderr",
          "text": [
            "\r 31%|███       | 309/1000 [06:00<13:25,  1.17s/it]"
          ]
        },
        {
          "output_type": "stream",
          "name": "stdout",
          "text": [
            "Validation acc: 0.9297\n",
            "\n",
            "Start of epoch 309\n",
            "Training loss: 0.0001\n",
            "Training metric: 0.9537\n",
            "perturbation loss: 0.0006\n"
          ]
        },
        {
          "output_type": "stream",
          "name": "stderr",
          "text": [
            "\r 31%|███       | 310/1000 [06:01<12:49,  1.12s/it]"
          ]
        },
        {
          "output_type": "stream",
          "name": "stdout",
          "text": [
            "Validation acc: 0.8906\n",
            "\n",
            "Start of epoch 310\n",
            "Training loss: 0.0005\n",
            "Training metric: 0.9538\n",
            "perturbation loss: 0.0037\n"
          ]
        },
        {
          "output_type": "stream",
          "name": "stderr",
          "text": [
            "\r 31%|███       | 311/1000 [06:02<12:40,  1.10s/it]"
          ]
        },
        {
          "output_type": "stream",
          "name": "stdout",
          "text": [
            "Validation acc: 0.9453\n",
            "\n",
            "Start of epoch 311\n",
            "Training loss: 0.0173\n",
            "Training metric: 0.9539\n",
            "perturbation loss: 0.0503\n"
          ]
        },
        {
          "output_type": "stream",
          "name": "stderr",
          "text": [
            "\r 31%|███       | 312/1000 [06:03<12:17,  1.07s/it]"
          ]
        },
        {
          "output_type": "stream",
          "name": "stdout",
          "text": [
            "Validation acc: 0.9062\n",
            "\n",
            "Start of epoch 312\n",
            "Training loss: 0.0249\n",
            "Training metric: 0.9541\n",
            "perturbation loss: 0.0637\n"
          ]
        },
        {
          "output_type": "stream",
          "name": "stderr",
          "text": [
            "\r 31%|███▏      | 313/1000 [06:04<11:57,  1.04s/it]"
          ]
        },
        {
          "output_type": "stream",
          "name": "stdout",
          "text": [
            "Validation acc: 0.9297\n",
            "\n",
            "Start of epoch 313\n",
            "Training loss: 0.0002\n",
            "Training metric: 0.9542\n",
            "perturbation loss: 0.0028\n"
          ]
        },
        {
          "output_type": "stream",
          "name": "stderr",
          "text": [
            "\r 31%|███▏      | 314/1000 [06:05<12:07,  1.06s/it]"
          ]
        },
        {
          "output_type": "stream",
          "name": "stdout",
          "text": [
            "Validation acc: 0.9375\n",
            "\n",
            "Start of epoch 314\n",
            "Training loss: 0.0032\n",
            "Training metric: 0.9543\n",
            "perturbation loss: 0.0061\n"
          ]
        },
        {
          "output_type": "stream",
          "name": "stderr",
          "text": [
            "\r 32%|███▏      | 315/1000 [06:06<11:50,  1.04s/it]"
          ]
        },
        {
          "output_type": "stream",
          "name": "stdout",
          "text": [
            "Validation acc: 0.9297\n",
            "\n",
            "Start of epoch 315\n",
            "Training loss: 0.0003\n",
            "Training metric: 0.9545\n",
            "perturbation loss: 0.0013\n"
          ]
        },
        {
          "output_type": "stream",
          "name": "stderr",
          "text": [
            "\r 32%|███▏      | 316/1000 [06:07<11:41,  1.03s/it]"
          ]
        },
        {
          "output_type": "stream",
          "name": "stdout",
          "text": [
            "Validation acc: 0.9375\n",
            "\n",
            "Start of epoch 316\n",
            "Training loss: 0.0019\n",
            "Training metric: 0.9546\n",
            "perturbation loss: 0.0115\n"
          ]
        },
        {
          "output_type": "stream",
          "name": "stderr",
          "text": [
            "\r 32%|███▏      | 317/1000 [06:08<11:55,  1.05s/it]"
          ]
        },
        {
          "output_type": "stream",
          "name": "stdout",
          "text": [
            "Validation acc: 0.9453\n",
            "\n",
            "Start of epoch 317\n",
            "Training loss: 0.0020\n",
            "Training metric: 0.9548\n",
            "perturbation loss: 0.0051\n"
          ]
        },
        {
          "output_type": "stream",
          "name": "stderr",
          "text": [
            "\r 32%|███▏      | 318/1000 [06:09<11:43,  1.03s/it]"
          ]
        },
        {
          "output_type": "stream",
          "name": "stdout",
          "text": [
            "Validation acc: 0.9453\n",
            "\n",
            "Start of epoch 318\n",
            "Training loss: 0.0000\n",
            "Training metric: 0.9549\n",
            "perturbation loss: 0.0001\n"
          ]
        },
        {
          "output_type": "stream",
          "name": "stderr",
          "text": [
            "\r 32%|███▏      | 319/1000 [06:10<12:27,  1.10s/it]"
          ]
        },
        {
          "output_type": "stream",
          "name": "stdout",
          "text": [
            "Validation acc: 0.9219\n",
            "\n",
            "Start of epoch 319\n",
            "Training loss: 0.0002\n",
            "Training metric: 0.9550\n",
            "perturbation loss: 0.0012\n"
          ]
        },
        {
          "output_type": "stream",
          "name": "stderr",
          "text": [
            "\r 32%|███▏      | 320/1000 [06:11<13:08,  1.16s/it]"
          ]
        },
        {
          "output_type": "stream",
          "name": "stdout",
          "text": [
            "Validation acc: 0.9141\n",
            "\n",
            "Start of epoch 320\n",
            "Training loss: 0.0045\n",
            "Training metric: 0.9552\n",
            "perturbation loss: 0.0369\n"
          ]
        },
        {
          "output_type": "stream",
          "name": "stderr",
          "text": [
            "\r 32%|███▏      | 321/1000 [06:13<13:47,  1.22s/it]"
          ]
        },
        {
          "output_type": "stream",
          "name": "stdout",
          "text": [
            "Validation acc: 0.9062\n",
            "\n",
            "Start of epoch 321\n",
            "Training loss: 0.0004\n",
            "Training metric: 0.9553\n",
            "perturbation loss: 0.0085\n",
            "Validation acc: 0.9141\n"
          ]
        },
        {
          "output_type": "stream",
          "name": "stderr",
          "text": [
            "\r 32%|███▏      | 322/1000 [06:14<12:59,  1.15s/it]"
          ]
        },
        {
          "output_type": "stream",
          "name": "stdout",
          "text": [
            "\n",
            "Start of epoch 322\n",
            "Training loss: 0.0003\n",
            "Training metric: 0.9554\n",
            "perturbation loss: 0.0011\n"
          ]
        },
        {
          "output_type": "stream",
          "name": "stderr",
          "text": [
            "\r 32%|███▏      | 323/1000 [06:15<12:21,  1.09s/it]"
          ]
        },
        {
          "output_type": "stream",
          "name": "stdout",
          "text": [
            "Validation acc: 0.9375\n",
            "\n",
            "Start of epoch 323\n",
            "Training loss: 0.0009\n",
            "Training metric: 0.9556\n",
            "perturbation loss: 0.0102\n"
          ]
        },
        {
          "output_type": "stream",
          "name": "stderr",
          "text": [
            "\r 32%|███▏      | 324/1000 [06:16<11:57,  1.06s/it]"
          ]
        },
        {
          "output_type": "stream",
          "name": "stdout",
          "text": [
            "Validation acc: 0.9297\n",
            "\n",
            "Start of epoch 324\n",
            "Training loss: 0.0003\n",
            "Training metric: 0.9557\n",
            "perturbation loss: 0.0004\n"
          ]
        },
        {
          "output_type": "stream",
          "name": "stderr",
          "text": [
            "\r 32%|███▎      | 325/1000 [06:17<11:42,  1.04s/it]"
          ]
        },
        {
          "output_type": "stream",
          "name": "stdout",
          "text": [
            "Validation acc: 0.8906\n",
            "\n",
            "Start of epoch 325\n",
            "Training loss: 0.0034\n",
            "Training metric: 0.9558\n",
            "perturbation loss: 0.0009\n"
          ]
        },
        {
          "output_type": "stream",
          "name": "stderr",
          "text": [
            "\r 33%|███▎      | 326/1000 [06:18<11:40,  1.04s/it]"
          ]
        },
        {
          "output_type": "stream",
          "name": "stdout",
          "text": [
            "Validation acc: 0.9141\n",
            "\n",
            "Start of epoch 326\n",
            "Training loss: 0.0009\n",
            "Training metric: 0.9560\n",
            "perturbation loss: 0.0109\n"
          ]
        },
        {
          "output_type": "stream",
          "name": "stderr",
          "text": [
            "\r 33%|███▎      | 327/1000 [06:19<11:46,  1.05s/it]"
          ]
        },
        {
          "output_type": "stream",
          "name": "stdout",
          "text": [
            "Validation acc: 0.9062\n",
            "\n",
            "Start of epoch 327\n",
            "Training loss: 0.0125\n",
            "Training metric: 0.9561\n",
            "perturbation loss: 0.0114\n"
          ]
        },
        {
          "output_type": "stream",
          "name": "stderr",
          "text": [
            "\r 33%|███▎      | 328/1000 [06:20<11:48,  1.05s/it]"
          ]
        },
        {
          "output_type": "stream",
          "name": "stdout",
          "text": [
            "Validation acc: 0.8594\n",
            "\n",
            "Start of epoch 328\n",
            "Training loss: 0.0006\n",
            "Training metric: 0.9562\n",
            "perturbation loss: 0.0035\n"
          ]
        },
        {
          "output_type": "stream",
          "name": "stderr",
          "text": [
            "\r 33%|███▎      | 329/1000 [06:21<11:53,  1.06s/it]"
          ]
        },
        {
          "output_type": "stream",
          "name": "stdout",
          "text": [
            "Validation acc: 0.9219\n",
            "\n",
            "Start of epoch 329\n",
            "Training loss: 0.0010\n",
            "Training metric: 0.9563\n",
            "perturbation loss: 0.0101\n"
          ]
        },
        {
          "output_type": "stream",
          "name": "stderr",
          "text": [
            "\r 33%|███▎      | 330/1000 [06:22<12:04,  1.08s/it]"
          ]
        },
        {
          "output_type": "stream",
          "name": "stdout",
          "text": [
            "Validation acc: 0.9141\n",
            "\n",
            "Start of epoch 330\n",
            "Training loss: 0.0001\n",
            "Training metric: 0.9564\n",
            "perturbation loss: 0.0005\n"
          ]
        },
        {
          "output_type": "stream",
          "name": "stderr",
          "text": [
            "\r 33%|███▎      | 331/1000 [06:24<14:49,  1.33s/it]"
          ]
        },
        {
          "output_type": "stream",
          "name": "stdout",
          "text": [
            "Validation acc: 0.9531\n",
            "\n",
            "Start of epoch 331\n",
            "Training loss: 0.0600\n",
            "Training metric: 0.9566\n",
            "perturbation loss: 0.0446\n"
          ]
        },
        {
          "output_type": "stream",
          "name": "stderr",
          "text": [
            "\r 33%|███▎      | 332/1000 [06:25<14:52,  1.34s/it]"
          ]
        },
        {
          "output_type": "stream",
          "name": "stdout",
          "text": [
            "Validation acc: 0.9531\n",
            "\n",
            "Start of epoch 332\n",
            "Training loss: 0.0004\n",
            "Training metric: 0.9567\n",
            "perturbation loss: 0.0007\n"
          ]
        },
        {
          "output_type": "stream",
          "name": "stderr",
          "text": [
            "\r 33%|███▎      | 333/1000 [06:26<14:34,  1.31s/it]"
          ]
        },
        {
          "output_type": "stream",
          "name": "stdout",
          "text": [
            "Validation acc: 0.9141\n",
            "\n",
            "Start of epoch 333\n",
            "Training loss: 0.0002\n",
            "Training metric: 0.9568\n",
            "perturbation loss: 0.0024\n"
          ]
        },
        {
          "output_type": "stream",
          "name": "stderr",
          "text": [
            "\r 33%|███▎      | 334/1000 [06:27<13:27,  1.21s/it]"
          ]
        },
        {
          "output_type": "stream",
          "name": "stdout",
          "text": [
            "Validation acc: 0.9219\n",
            "\n",
            "Start of epoch 334\n",
            "Training loss: 0.0001\n",
            "Training metric: 0.9570\n",
            "perturbation loss: 0.0007\n"
          ]
        },
        {
          "output_type": "stream",
          "name": "stderr",
          "text": [
            "\r 34%|███▎      | 335/1000 [06:28<12:37,  1.14s/it]"
          ]
        },
        {
          "output_type": "stream",
          "name": "stdout",
          "text": [
            "Validation acc: 0.9297\n",
            "\n",
            "Start of epoch 335\n",
            "Training loss: 0.0005\n",
            "Training metric: 0.9571\n",
            "perturbation loss: 0.0009\n"
          ]
        },
        {
          "output_type": "stream",
          "name": "stderr",
          "text": [
            "\r 34%|███▎      | 336/1000 [06:30<12:24,  1.12s/it]"
          ]
        },
        {
          "output_type": "stream",
          "name": "stdout",
          "text": [
            "Validation acc: 0.9453\n",
            "\n",
            "Start of epoch 336\n",
            "Training loss: 0.0000\n",
            "Training metric: 0.9572\n",
            "perturbation loss: 0.0001\n"
          ]
        },
        {
          "output_type": "stream",
          "name": "stderr",
          "text": [
            "\r 34%|███▎      | 337/1000 [06:31<11:57,  1.08s/it]"
          ]
        },
        {
          "output_type": "stream",
          "name": "stdout",
          "text": [
            "Validation acc: 0.9297\n",
            "\n",
            "Start of epoch 337\n",
            "Training loss: 0.0002\n",
            "Training metric: 0.9573\n",
            "perturbation loss: 0.0021\n"
          ]
        },
        {
          "output_type": "stream",
          "name": "stderr",
          "text": [
            "\r 34%|███▍      | 338/1000 [06:32<11:37,  1.05s/it]"
          ]
        },
        {
          "output_type": "stream",
          "name": "stdout",
          "text": [
            "Validation acc: 0.9375\n",
            "\n",
            "Start of epoch 338\n",
            "Training loss: 0.0000\n",
            "Training metric: 0.9575\n",
            "perturbation loss: 0.0002\n"
          ]
        },
        {
          "output_type": "stream",
          "name": "stderr",
          "text": [
            "\r 34%|███▍      | 339/1000 [06:32<11:23,  1.03s/it]"
          ]
        },
        {
          "output_type": "stream",
          "name": "stdout",
          "text": [
            "Validation acc: 0.9453\n",
            "\n",
            "Start of epoch 339\n",
            "Training loss: 0.0001\n",
            "Training metric: 0.9576\n",
            "perturbation loss: 0.0009\n"
          ]
        },
        {
          "output_type": "stream",
          "name": "stderr",
          "text": [
            "\r 34%|███▍      | 340/1000 [06:33<11:15,  1.02s/it]"
          ]
        },
        {
          "output_type": "stream",
          "name": "stdout",
          "text": [
            "Validation acc: 0.9375\n",
            "\n",
            "Start of epoch 340\n",
            "Training loss: 0.0009\n",
            "Training metric: 0.9577\n",
            "perturbation loss: 0.0032\n"
          ]
        },
        {
          "output_type": "stream",
          "name": "stderr",
          "text": [
            "\r 34%|███▍      | 341/1000 [06:35<11:15,  1.02s/it]"
          ]
        },
        {
          "output_type": "stream",
          "name": "stdout",
          "text": [
            "Validation acc: 0.9297\n",
            "\n",
            "Start of epoch 341\n",
            "Training loss: 0.0499\n",
            "Training metric: 0.9578\n",
            "perturbation loss: 0.0068\n"
          ]
        },
        {
          "output_type": "stream",
          "name": "stderr",
          "text": [
            "\r 34%|███▍      | 342/1000 [06:36<11:10,  1.02s/it]"
          ]
        },
        {
          "output_type": "stream",
          "name": "stdout",
          "text": [
            "Validation acc: 0.9609\n",
            "\n",
            "Start of epoch 342\n",
            "Training loss: 0.0008\n",
            "Training metric: 0.9579\n",
            "perturbation loss: 0.0030\n"
          ]
        },
        {
          "output_type": "stream",
          "name": "stderr",
          "text": [
            "\r 34%|███▍      | 343/1000 [06:37<11:24,  1.04s/it]"
          ]
        },
        {
          "output_type": "stream",
          "name": "stdout",
          "text": [
            "Validation acc: 0.9141\n",
            "\n",
            "Start of epoch 343\n",
            "Training loss: 0.0003\n",
            "Training metric: 0.9580\n",
            "perturbation loss: 0.0033\n"
          ]
        },
        {
          "output_type": "stream",
          "name": "stderr",
          "text": [
            "\r 34%|███▍      | 344/1000 [06:38<12:20,  1.13s/it]"
          ]
        },
        {
          "output_type": "stream",
          "name": "stdout",
          "text": [
            "Validation acc: 0.8906\n",
            "\n",
            "Start of epoch 344\n",
            "Training loss: 0.0005\n",
            "Training metric: 0.9581\n",
            "perturbation loss: 0.0030\n"
          ]
        },
        {
          "output_type": "stream",
          "name": "stderr",
          "text": [
            "\r 34%|███▍      | 345/1000 [06:39<13:01,  1.19s/it]"
          ]
        },
        {
          "output_type": "stream",
          "name": "stdout",
          "text": [
            "Validation acc: 0.8672\n",
            "\n",
            "Start of epoch 345\n",
            "Training loss: 0.0004\n",
            "Training metric: 0.9583\n",
            "perturbation loss: 0.0071\n"
          ]
        },
        {
          "output_type": "stream",
          "name": "stderr",
          "text": [
            "\r 35%|███▍      | 346/1000 [06:40<12:49,  1.18s/it]"
          ]
        },
        {
          "output_type": "stream",
          "name": "stdout",
          "text": [
            "Validation acc: 0.9453\n",
            "\n",
            "Start of epoch 346\n",
            "Training loss: 0.0000\n",
            "Training metric: 0.9584\n",
            "perturbation loss: 0.0008\n"
          ]
        },
        {
          "output_type": "stream",
          "name": "stderr",
          "text": [
            "\r 35%|███▍      | 347/1000 [06:41<12:16,  1.13s/it]"
          ]
        },
        {
          "output_type": "stream",
          "name": "stdout",
          "text": [
            "Validation acc: 0.9375\n",
            "\n",
            "Start of epoch 347\n",
            "Training loss: 0.0002\n",
            "Training metric: 0.9585\n",
            "perturbation loss: 0.0007\n"
          ]
        },
        {
          "output_type": "stream",
          "name": "stderr",
          "text": [
            "\r 35%|███▍      | 348/1000 [06:43<12:09,  1.12s/it]"
          ]
        },
        {
          "output_type": "stream",
          "name": "stdout",
          "text": [
            "Validation acc: 0.9297\n",
            "\n",
            "Start of epoch 348\n",
            "Training loss: 0.0000\n",
            "Training metric: 0.9586\n",
            "perturbation loss: 0.0006\n"
          ]
        },
        {
          "output_type": "stream",
          "name": "stderr",
          "text": [
            "\r 35%|███▍      | 349/1000 [06:44<11:46,  1.09s/it]"
          ]
        },
        {
          "output_type": "stream",
          "name": "stdout",
          "text": [
            "Validation acc: 0.9297\n",
            "\n",
            "Start of epoch 349\n",
            "Training loss: 0.0002\n",
            "Training metric: 0.9587\n",
            "perturbation loss: 0.0039\n"
          ]
        },
        {
          "output_type": "stream",
          "name": "stderr",
          "text": [
            "\r 35%|███▌      | 350/1000 [06:45<11:25,  1.05s/it]"
          ]
        },
        {
          "output_type": "stream",
          "name": "stdout",
          "text": [
            "Validation acc: 0.9375\n",
            "\n",
            "Start of epoch 350\n",
            "Training loss: 0.0000\n",
            "Training metric: 0.9588\n",
            "perturbation loss: 0.0002\n"
          ]
        },
        {
          "output_type": "stream",
          "name": "stderr",
          "text": [
            "\r 35%|███▌      | 351/1000 [06:46<11:10,  1.03s/it]"
          ]
        },
        {
          "output_type": "stream",
          "name": "stdout",
          "text": [
            "Validation acc: 0.9453\n",
            "\n",
            "Start of epoch 351\n",
            "Training loss: 0.0004\n",
            "Training metric: 0.9590\n",
            "perturbation loss: 0.0006\n"
          ]
        },
        {
          "output_type": "stream",
          "name": "stderr",
          "text": [
            "\r 35%|███▌      | 352/1000 [06:46<10:59,  1.02s/it]"
          ]
        },
        {
          "output_type": "stream",
          "name": "stdout",
          "text": [
            "Validation acc: 0.9297\n",
            "\n",
            "Start of epoch 352\n",
            "Training loss: 0.0000\n",
            "Training metric: 0.9591\n",
            "perturbation loss: 0.0001\n"
          ]
        },
        {
          "output_type": "stream",
          "name": "stderr",
          "text": [
            "\r 35%|███▌      | 353/1000 [06:48<11:08,  1.03s/it]"
          ]
        },
        {
          "output_type": "stream",
          "name": "stdout",
          "text": [
            "Validation acc: 0.9062\n",
            "\n",
            "Start of epoch 353\n",
            "Training loss: 0.0002\n",
            "Training metric: 0.9592\n",
            "perturbation loss: 0.0013\n"
          ]
        },
        {
          "output_type": "stream",
          "name": "stderr",
          "text": [
            "\r 35%|███▌      | 354/1000 [06:49<11:01,  1.02s/it]"
          ]
        },
        {
          "output_type": "stream",
          "name": "stdout",
          "text": [
            "Validation acc: 0.9453\n",
            "\n",
            "Start of epoch 354\n",
            "Training loss: 0.0003\n",
            "Training metric: 0.9593\n",
            "perturbation loss: 0.0018\n"
          ]
        },
        {
          "output_type": "stream",
          "name": "stderr",
          "text": [
            "\r 36%|███▌      | 355/1000 [06:50<10:57,  1.02s/it]"
          ]
        },
        {
          "output_type": "stream",
          "name": "stdout",
          "text": [
            "Validation acc: 0.9375\n",
            "\n",
            "Start of epoch 355\n",
            "Training loss: 0.0001\n",
            "Training metric: 0.9594\n",
            "perturbation loss: 0.0005\n"
          ]
        },
        {
          "output_type": "stream",
          "name": "stderr",
          "text": [
            "\r 36%|███▌      | 356/1000 [06:51<11:38,  1.08s/it]"
          ]
        },
        {
          "output_type": "stream",
          "name": "stdout",
          "text": [
            "Validation acc: 0.9453\n",
            "\n",
            "Start of epoch 356\n",
            "Training loss: 0.0000\n",
            "Training metric: 0.9595\n",
            "perturbation loss: 0.0001\n"
          ]
        },
        {
          "output_type": "stream",
          "name": "stderr",
          "text": [
            "\r 36%|███▌      | 357/1000 [06:52<12:24,  1.16s/it]"
          ]
        },
        {
          "output_type": "stream",
          "name": "stdout",
          "text": [
            "Validation acc: 0.9453\n",
            "\n",
            "Start of epoch 357\n",
            "Training loss: 0.0001\n",
            "Training metric: 0.9597\n",
            "perturbation loss: 0.0005\n"
          ]
        },
        {
          "output_type": "stream",
          "name": "stderr",
          "text": [
            "\r 36%|███▌      | 358/1000 [06:53<12:57,  1.21s/it]"
          ]
        },
        {
          "output_type": "stream",
          "name": "stdout",
          "text": [
            "Validation acc: 0.9453\n",
            "\n",
            "Start of epoch 358\n",
            "Training loss: 0.0000\n",
            "Training metric: 0.9598\n",
            "perturbation loss: 0.0001\n"
          ]
        },
        {
          "output_type": "stream",
          "name": "stderr",
          "text": [
            "\r 36%|███▌      | 359/1000 [06:55<12:38,  1.18s/it]"
          ]
        },
        {
          "output_type": "stream",
          "name": "stdout",
          "text": [
            "Validation acc: 0.9297\n",
            "\n",
            "Start of epoch 359\n",
            "Training loss: 0.0001\n",
            "Training metric: 0.9599\n",
            "perturbation loss: 0.0012\n"
          ]
        },
        {
          "output_type": "stream",
          "name": "stderr",
          "text": [
            "\r 36%|███▌      | 360/1000 [06:56<12:03,  1.13s/it]"
          ]
        },
        {
          "output_type": "stream",
          "name": "stdout",
          "text": [
            "Validation acc: 0.9453\n",
            "\n",
            "Start of epoch 360\n",
            "Training loss: 0.0000\n",
            "Training metric: 0.9600\n",
            "perturbation loss: 0.0006\n"
          ]
        },
        {
          "output_type": "stream",
          "name": "stderr",
          "text": [
            "\r 36%|███▌      | 361/1000 [06:57<11:35,  1.09s/it]"
          ]
        },
        {
          "output_type": "stream",
          "name": "stdout",
          "text": [
            "Validation acc: 0.9453\n",
            "\n",
            "Start of epoch 361\n",
            "Training loss: 0.0000\n",
            "Training metric: 0.9601\n",
            "perturbation loss: 0.0000\n"
          ]
        },
        {
          "output_type": "stream",
          "name": "stderr",
          "text": [
            "\r 36%|███▌      | 362/1000 [06:58<11:32,  1.09s/it]"
          ]
        },
        {
          "output_type": "stream",
          "name": "stdout",
          "text": [
            "Validation acc: 0.9375\n",
            "\n",
            "Start of epoch 362\n",
            "Training loss: 0.0000\n",
            "Training metric: 0.9602\n",
            "perturbation loss: 0.0001\n"
          ]
        },
        {
          "output_type": "stream",
          "name": "stderr",
          "text": [
            "\r 36%|███▋      | 363/1000 [06:59<11:12,  1.06s/it]"
          ]
        },
        {
          "output_type": "stream",
          "name": "stdout",
          "text": [
            "Validation acc: 0.9453\n",
            "\n",
            "Start of epoch 363\n",
            "Training loss: 0.0000\n",
            "Training metric: 0.9603\n",
            "perturbation loss: 0.0000\n"
          ]
        },
        {
          "output_type": "stream",
          "name": "stderr",
          "text": [
            "\r 36%|███▋      | 364/1000 [07:00<11:00,  1.04s/it]"
          ]
        },
        {
          "output_type": "stream",
          "name": "stdout",
          "text": [
            "Validation acc: 0.9453\n",
            "\n",
            "Start of epoch 364\n",
            "Training loss: 0.0001\n",
            "Training metric: 0.9604\n",
            "perturbation loss: 0.0003\n"
          ]
        },
        {
          "output_type": "stream",
          "name": "stderr",
          "text": [
            "\r 36%|███▋      | 365/1000 [07:01<10:49,  1.02s/it]"
          ]
        },
        {
          "output_type": "stream",
          "name": "stdout",
          "text": [
            "Validation acc: 0.9219\n",
            "\n",
            "Start of epoch 365\n",
            "Training loss: 0.0201\n",
            "Training metric: 0.9605\n",
            "perturbation loss: 0.0347\n"
          ]
        },
        {
          "output_type": "stream",
          "name": "stderr",
          "text": [
            "\r 37%|███▋      | 366/1000 [07:02<10:41,  1.01s/it]"
          ]
        },
        {
          "output_type": "stream",
          "name": "stdout",
          "text": [
            "Validation acc: 0.9453\n",
            "\n",
            "Start of epoch 366\n",
            "Training loss: 0.3147\n",
            "Training metric: 0.9606\n",
            "perturbation loss: 0.0264\n"
          ]
        },
        {
          "output_type": "stream",
          "name": "stderr",
          "text": [
            "\r 37%|███▋      | 367/1000 [07:03<10:40,  1.01s/it]"
          ]
        },
        {
          "output_type": "stream",
          "name": "stdout",
          "text": [
            "Validation acc: 0.9219\n",
            "\n",
            "Start of epoch 367\n",
            "Training loss: 0.0104\n",
            "Training metric: 0.9607\n",
            "perturbation loss: 0.0487\n"
          ]
        },
        {
          "output_type": "stream",
          "name": "stderr",
          "text": [
            "\r 37%|███▋      | 368/1000 [07:04<10:43,  1.02s/it]"
          ]
        },
        {
          "output_type": "stream",
          "name": "stdout",
          "text": [
            "Validation acc: 0.8516\n",
            "\n",
            "Start of epoch 368\n",
            "Training loss: 0.0046\n",
            "Training metric: 0.9608\n",
            "perturbation loss: 0.0155\n"
          ]
        },
        {
          "output_type": "stream",
          "name": "stderr",
          "text": [
            "\r 37%|███▋      | 369/1000 [07:05<12:29,  1.19s/it]"
          ]
        },
        {
          "output_type": "stream",
          "name": "stdout",
          "text": [
            "Validation acc: 0.9219\n",
            "\n",
            "Start of epoch 369\n",
            "Training loss: 0.0001\n",
            "Training metric: 0.9609\n",
            "perturbation loss: 0.0004\n"
          ]
        },
        {
          "output_type": "stream",
          "name": "stderr",
          "text": [
            "\r 37%|███▋      | 370/1000 [07:07<12:52,  1.23s/it]"
          ]
        },
        {
          "output_type": "stream",
          "name": "stdout",
          "text": [
            "Validation acc: 0.9297\n",
            "\n",
            "Start of epoch 370\n",
            "Training loss: 0.0001\n",
            "Training metric: 0.9610\n",
            "perturbation loss: 0.0006\n"
          ]
        },
        {
          "output_type": "stream",
          "name": "stderr",
          "text": [
            "\r 37%|███▋      | 371/1000 [07:08<12:42,  1.21s/it]"
          ]
        },
        {
          "output_type": "stream",
          "name": "stdout",
          "text": [
            "Validation acc: 0.9375\n",
            "\n",
            "Start of epoch 371\n",
            "Training loss: 0.0000\n",
            "Training metric: 0.9611\n",
            "perturbation loss: 0.0002\n"
          ]
        },
        {
          "output_type": "stream",
          "name": "stderr",
          "text": [
            "\r 37%|███▋      | 372/1000 [07:09<12:01,  1.15s/it]"
          ]
        },
        {
          "output_type": "stream",
          "name": "stdout",
          "text": [
            "Validation acc: 0.9453\n",
            "\n",
            "Start of epoch 372\n",
            "Training loss: 0.0000\n",
            "Training metric: 0.9612\n",
            "perturbation loss: 0.0004\n"
          ]
        },
        {
          "output_type": "stream",
          "name": "stderr",
          "text": [
            "\r 37%|███▋      | 373/1000 [07:10<11:32,  1.10s/it]"
          ]
        },
        {
          "output_type": "stream",
          "name": "stdout",
          "text": [
            "Validation acc: 0.9453\n",
            "\n",
            "Start of epoch 373\n",
            "Training loss: 0.0003\n",
            "Training metric: 0.9613\n",
            "perturbation loss: 0.0006\n"
          ]
        },
        {
          "output_type": "stream",
          "name": "stderr",
          "text": [
            "\r 37%|███▋      | 374/1000 [07:11<11:10,  1.07s/it]"
          ]
        },
        {
          "output_type": "stream",
          "name": "stdout",
          "text": [
            "Validation acc: 0.9297\n",
            "\n",
            "Start of epoch 374\n",
            "Training loss: 0.0000\n",
            "Training metric: 0.9615\n",
            "perturbation loss: 0.0002\n"
          ]
        },
        {
          "output_type": "stream",
          "name": "stderr",
          "text": [
            "\r 38%|███▊      | 375/1000 [07:12<10:57,  1.05s/it]"
          ]
        },
        {
          "output_type": "stream",
          "name": "stdout",
          "text": [
            "Validation acc: 0.9219\n",
            "\n",
            "Start of epoch 375\n",
            "Training loss: 0.0001\n",
            "Training metric: 0.9616\n",
            "perturbation loss: 0.0009\n"
          ]
        },
        {
          "output_type": "stream",
          "name": "stderr",
          "text": [
            "\r 38%|███▊      | 376/1000 [07:13<10:46,  1.04s/it]"
          ]
        },
        {
          "output_type": "stream",
          "name": "stdout",
          "text": [
            "Validation acc: 0.9453\n",
            "\n",
            "Start of epoch 376\n",
            "Training loss: 0.0001\n",
            "Training metric: 0.9617\n",
            "perturbation loss: 0.0008\n"
          ]
        },
        {
          "output_type": "stream",
          "name": "stderr",
          "text": [
            "\r 38%|███▊      | 377/1000 [07:14<10:38,  1.02s/it]"
          ]
        },
        {
          "output_type": "stream",
          "name": "stdout",
          "text": [
            "Validation acc: 0.9297\n",
            "\n",
            "Start of epoch 377\n",
            "Training loss: 0.0000\n",
            "Training metric: 0.9618\n",
            "perturbation loss: 0.0002\n"
          ]
        },
        {
          "output_type": "stream",
          "name": "stderr",
          "text": [
            "\r 38%|███▊      | 378/1000 [07:15<10:29,  1.01s/it]"
          ]
        },
        {
          "output_type": "stream",
          "name": "stdout",
          "text": [
            "Validation acc: 0.9375\n",
            "\n",
            "Start of epoch 378\n",
            "Training loss: 0.0000\n",
            "Training metric: 0.9619\n",
            "perturbation loss: 0.0009\n"
          ]
        },
        {
          "output_type": "stream",
          "name": "stderr",
          "text": [
            "\r 38%|███▊      | 379/1000 [07:16<10:22,  1.00s/it]"
          ]
        },
        {
          "output_type": "stream",
          "name": "stdout",
          "text": [
            "Validation acc: 0.9531\n",
            "\n",
            "Start of epoch 379\n",
            "Training loss: 0.0000\n",
            "Training metric: 0.9620\n",
            "perturbation loss: 0.0001\n"
          ]
        },
        {
          "output_type": "stream",
          "name": "stderr",
          "text": [
            "\r 38%|███▊      | 380/1000 [07:17<10:18,  1.00it/s]"
          ]
        },
        {
          "output_type": "stream",
          "name": "stdout",
          "text": [
            "Validation acc: 0.9453\n",
            "\n",
            "Start of epoch 380\n",
            "Training loss: 0.0000\n",
            "Training metric: 0.9621\n",
            "perturbation loss: 0.0003\n"
          ]
        },
        {
          "output_type": "stream",
          "name": "stderr",
          "text": [
            "\r 38%|███▊      | 381/1000 [07:18<10:58,  1.06s/it]"
          ]
        },
        {
          "output_type": "stream",
          "name": "stdout",
          "text": [
            "Validation acc: 0.9375\n",
            "\n",
            "Start of epoch 381\n",
            "Training loss: 0.0000\n",
            "Training metric: 0.9622\n",
            "perturbation loss: 0.0001\n"
          ]
        },
        {
          "output_type": "stream",
          "name": "stderr",
          "text": [
            "\r 38%|███▊      | 382/1000 [07:20<13:05,  1.27s/it]"
          ]
        },
        {
          "output_type": "stream",
          "name": "stdout",
          "text": [
            "Validation acc: 0.9375\n",
            "\n",
            "Start of epoch 382\n",
            "Training loss: 0.0000\n",
            "Training metric: 0.9623\n",
            "perturbation loss: 0.0000\n"
          ]
        },
        {
          "output_type": "stream",
          "name": "stderr",
          "text": [
            "\r 38%|███▊      | 383/1000 [07:21<13:23,  1.30s/it]"
          ]
        },
        {
          "output_type": "stream",
          "name": "stdout",
          "text": [
            "Validation acc: 0.9453\n",
            "\n",
            "Start of epoch 383\n",
            "Training loss: 0.0001\n",
            "Training metric: 0.9624\n",
            "perturbation loss: 0.0003\n"
          ]
        },
        {
          "output_type": "stream",
          "name": "stderr",
          "text": [
            "\r 38%|███▊      | 384/1000 [07:22<12:49,  1.25s/it]"
          ]
        },
        {
          "output_type": "stream",
          "name": "stdout",
          "text": [
            "Validation acc: 0.9531\n",
            "\n",
            "Start of epoch 384\n",
            "Training loss: 0.0000\n",
            "Training metric: 0.9625\n",
            "perturbation loss: 0.0001\n"
          ]
        },
        {
          "output_type": "stream",
          "name": "stderr",
          "text": [
            "\r 38%|███▊      | 385/1000 [07:23<12:20,  1.20s/it]"
          ]
        },
        {
          "output_type": "stream",
          "name": "stdout",
          "text": [
            "Validation acc: 0.9453\n",
            "\n",
            "Start of epoch 385\n",
            "Training loss: 0.0000\n",
            "Training metric: 0.9626\n",
            "perturbation loss: 0.0002\n"
          ]
        },
        {
          "output_type": "stream",
          "name": "stderr",
          "text": [
            "\r 39%|███▊      | 386/1000 [07:24<11:48,  1.15s/it]"
          ]
        },
        {
          "output_type": "stream",
          "name": "stdout",
          "text": [
            "Validation acc: 0.9453\n",
            "\n",
            "Start of epoch 386\n",
            "Training loss: 0.0000\n",
            "Training metric: 0.9626\n",
            "perturbation loss: 0.0000\n"
          ]
        },
        {
          "output_type": "stream",
          "name": "stderr",
          "text": [
            "\r 39%|███▊      | 387/1000 [07:25<11:34,  1.13s/it]"
          ]
        },
        {
          "output_type": "stream",
          "name": "stdout",
          "text": [
            "Validation acc: 0.9531\n",
            "\n",
            "Start of epoch 387\n",
            "Training loss: 0.0000\n",
            "Training metric: 0.9627\n",
            "perturbation loss: 0.0000\n"
          ]
        },
        {
          "output_type": "stream",
          "name": "stderr",
          "text": [
            "\r 39%|███▉      | 388/1000 [07:26<11:08,  1.09s/it]"
          ]
        },
        {
          "output_type": "stream",
          "name": "stdout",
          "text": [
            "Validation acc: 0.9531\n",
            "\n",
            "Start of epoch 388\n",
            "Training loss: 0.0000\n",
            "Training metric: 0.9628\n",
            "perturbation loss: 0.0000\n"
          ]
        },
        {
          "output_type": "stream",
          "name": "stderr",
          "text": [
            "\r 39%|███▉      | 389/1000 [07:27<10:49,  1.06s/it]"
          ]
        },
        {
          "output_type": "stream",
          "name": "stdout",
          "text": [
            "Validation acc: 0.9531\n",
            "\n",
            "Start of epoch 389\n",
            "Training loss: 0.0003\n",
            "Training metric: 0.9629\n",
            "perturbation loss: 0.0012\n"
          ]
        },
        {
          "output_type": "stream",
          "name": "stderr",
          "text": [
            "\r 39%|███▉      | 390/1000 [07:28<10:36,  1.04s/it]"
          ]
        },
        {
          "output_type": "stream",
          "name": "stdout",
          "text": [
            "Validation acc: 0.9531\n",
            "\n",
            "Start of epoch 390\n",
            "Training loss: 0.0359\n",
            "Training metric: 0.9630\n",
            "perturbation loss: 0.0214\n"
          ]
        },
        {
          "output_type": "stream",
          "name": "stderr",
          "text": [
            "\r 39%|███▉      | 391/1000 [07:29<10:27,  1.03s/it]"
          ]
        },
        {
          "output_type": "stream",
          "name": "stdout",
          "text": [
            "Validation acc: 0.9375\n",
            "\n",
            "Start of epoch 391\n",
            "Training loss: 0.0007\n",
            "Training metric: 0.9631\n",
            "perturbation loss: 0.0134\n"
          ]
        },
        {
          "output_type": "stream",
          "name": "stderr",
          "text": [
            "\r 39%|███▉      | 392/1000 [07:30<10:20,  1.02s/it]"
          ]
        },
        {
          "output_type": "stream",
          "name": "stdout",
          "text": [
            "Validation acc: 0.8750\n",
            "\n",
            "Start of epoch 392\n",
            "Training loss: 0.0001\n",
            "Training metric: 0.9632\n",
            "perturbation loss: 0.0004\n"
          ]
        },
        {
          "output_type": "stream",
          "name": "stderr",
          "text": [
            "\r 39%|███▉      | 393/1000 [07:32<10:42,  1.06s/it]"
          ]
        },
        {
          "output_type": "stream",
          "name": "stdout",
          "text": [
            "Validation acc: 0.9453\n",
            "\n",
            "Start of epoch 393\n",
            "Training loss: 0.0003\n",
            "Training metric: 0.9633\n",
            "perturbation loss: 0.0013\n"
          ]
        },
        {
          "output_type": "stream",
          "name": "stderr",
          "text": [
            "\r 39%|███▉      | 394/1000 [07:33<11:24,  1.13s/it]"
          ]
        },
        {
          "output_type": "stream",
          "name": "stdout",
          "text": [
            "Validation acc: 0.9688\n",
            "\n",
            "Start of epoch 394\n",
            "Training loss: 0.0049\n",
            "Training metric: 0.9634\n",
            "perturbation loss: 0.0345\n"
          ]
        },
        {
          "output_type": "stream",
          "name": "stderr",
          "text": [
            "\r 40%|███▉      | 395/1000 [07:34<12:00,  1.19s/it]"
          ]
        },
        {
          "output_type": "stream",
          "name": "stdout",
          "text": [
            "Validation acc: 0.9141\n",
            "\n",
            "Start of epoch 395\n",
            "Training loss: 0.0277\n",
            "Training metric: 0.9635\n",
            "perturbation loss: 0.0381\n"
          ]
        },
        {
          "output_type": "stream",
          "name": "stderr",
          "text": [
            "\r 40%|███▉      | 396/1000 [07:35<11:54,  1.18s/it]"
          ]
        },
        {
          "output_type": "stream",
          "name": "stdout",
          "text": [
            "Validation acc: 0.9453\n",
            "\n",
            "Start of epoch 396\n",
            "Training loss: 0.0153\n",
            "Training metric: 0.9636\n",
            "perturbation loss: 0.1008\n"
          ]
        },
        {
          "output_type": "stream",
          "name": "stderr",
          "text": [
            "\r 40%|███▉      | 397/1000 [07:36<11:32,  1.15s/it]"
          ]
        },
        {
          "output_type": "stream",
          "name": "stdout",
          "text": [
            "Validation acc: 0.9062\n",
            "\n",
            "Start of epoch 397\n",
            "Training loss: 0.0006\n",
            "Training metric: 0.9636\n",
            "perturbation loss: 0.0013\n"
          ]
        },
        {
          "output_type": "stream",
          "name": "stderr",
          "text": [
            "\r 40%|███▉      | 398/1000 [07:37<11:20,  1.13s/it]"
          ]
        },
        {
          "output_type": "stream",
          "name": "stdout",
          "text": [
            "Validation acc: 0.9141\n",
            "\n",
            "Start of epoch 398\n",
            "Training loss: 0.0002\n",
            "Training metric: 0.9637\n",
            "perturbation loss: 0.0058\n"
          ]
        },
        {
          "output_type": "stream",
          "name": "stderr",
          "text": [
            "\r 40%|███▉      | 399/1000 [07:38<10:57,  1.09s/it]"
          ]
        },
        {
          "output_type": "stream",
          "name": "stdout",
          "text": [
            "Validation acc: 0.9297\n",
            "\n",
            "Start of epoch 399\n",
            "Training loss: 0.0033\n",
            "Training metric: 0.9638\n",
            "perturbation loss: 0.0111\n",
            "Validation acc: 0.9609\n"
          ]
        },
        {
          "output_type": "stream",
          "name": "stderr",
          "text": [
            "\r 40%|████      | 400/1000 [07:39<10:34,  1.06s/it]"
          ]
        },
        {
          "output_type": "stream",
          "name": "stdout",
          "text": [
            "\n",
            "Start of epoch 400\n",
            "Training loss: 0.0000\n",
            "Training metric: 0.9639\n",
            "perturbation loss: 0.0002\n"
          ]
        },
        {
          "output_type": "stream",
          "name": "stderr",
          "text": [
            "\r 40%|████      | 401/1000 [07:41<10:39,  1.07s/it]"
          ]
        },
        {
          "output_type": "stream",
          "name": "stdout",
          "text": [
            "Validation acc: 0.9766\n",
            "\n",
            "Start of epoch 401\n",
            "Training loss: 0.0068\n",
            "Training metric: 0.9640\n",
            "perturbation loss: 0.0915\n"
          ]
        },
        {
          "output_type": "stream",
          "name": "stderr",
          "text": [
            "\r 40%|████      | 402/1000 [07:42<10:25,  1.05s/it]"
          ]
        },
        {
          "output_type": "stream",
          "name": "stdout",
          "text": [
            "Validation acc: 0.9531\n",
            "\n",
            "Start of epoch 402\n",
            "Training loss: 0.0004\n",
            "Training metric: 0.9641\n",
            "perturbation loss: 0.0049\n",
            "Validation acc: 0.9688\n"
          ]
        },
        {
          "output_type": "stream",
          "name": "stderr",
          "text": [
            "\r 40%|████      | 403/1000 [07:43<10:15,  1.03s/it]"
          ]
        },
        {
          "output_type": "stream",
          "name": "stdout",
          "text": [
            "\n",
            "Start of epoch 403\n",
            "Training loss: 0.0004\n",
            "Training metric: 0.9642\n",
            "perturbation loss: 0.0029\n"
          ]
        },
        {
          "output_type": "stream",
          "name": "stderr",
          "text": [
            "\r 40%|████      | 404/1000 [07:44<10:21,  1.04s/it]"
          ]
        },
        {
          "output_type": "stream",
          "name": "stdout",
          "text": [
            "Validation acc: 0.9609\n",
            "\n",
            "Start of epoch 404\n",
            "Training loss: 0.0011\n",
            "Training metric: 0.9643\n",
            "perturbation loss: 0.0045\n"
          ]
        },
        {
          "output_type": "stream",
          "name": "stderr",
          "text": [
            "\r 40%|████      | 405/1000 [07:45<10:10,  1.03s/it]"
          ]
        },
        {
          "output_type": "stream",
          "name": "stdout",
          "text": [
            "Validation acc: 0.9219\n",
            "\n",
            "Start of epoch 405\n",
            "Training loss: 0.0019\n",
            "Training metric: 0.9644\n",
            "perturbation loss: 0.0006\n"
          ]
        },
        {
          "output_type": "stream",
          "name": "stderr",
          "text": [
            "\r 41%|████      | 406/1000 [07:46<10:52,  1.10s/it]"
          ]
        },
        {
          "output_type": "stream",
          "name": "stdout",
          "text": [
            "Validation acc: 0.9375\n",
            "\n",
            "Start of epoch 406\n",
            "Training loss: 0.0000\n",
            "Training metric: 0.9644\n",
            "perturbation loss: 0.0001\n"
          ]
        },
        {
          "output_type": "stream",
          "name": "stderr",
          "text": [
            "\r 41%|████      | 407/1000 [07:47<11:25,  1.16s/it]"
          ]
        },
        {
          "output_type": "stream",
          "name": "stdout",
          "text": [
            "Validation acc: 0.9297\n",
            "\n",
            "Start of epoch 407\n",
            "Training loss: 0.0001\n",
            "Training metric: 0.9645\n",
            "perturbation loss: 0.0003\n"
          ]
        },
        {
          "output_type": "stream",
          "name": "stderr",
          "text": [
            "\r 41%|████      | 408/1000 [07:49<12:26,  1.26s/it]"
          ]
        },
        {
          "output_type": "stream",
          "name": "stdout",
          "text": [
            "Validation acc: 0.9453\n",
            "\n",
            "Start of epoch 408\n",
            "Training loss: 0.0000\n",
            "Training metric: 0.9646\n",
            "perturbation loss: 0.0003\n"
          ]
        },
        {
          "output_type": "stream",
          "name": "stderr",
          "text": [
            "\r 41%|████      | 409/1000 [07:50<11:51,  1.20s/it]"
          ]
        },
        {
          "output_type": "stream",
          "name": "stdout",
          "text": [
            "Validation acc: 0.9453\n",
            "\n",
            "Start of epoch 409\n",
            "Training loss: 0.0003\n",
            "Training metric: 0.9647\n",
            "perturbation loss: 0.0009\n"
          ]
        },
        {
          "output_type": "stream",
          "name": "stderr",
          "text": [
            "\r 41%|████      | 410/1000 [07:51<11:11,  1.14s/it]"
          ]
        },
        {
          "output_type": "stream",
          "name": "stdout",
          "text": [
            "Validation acc: 0.9297\n",
            "\n",
            "Start of epoch 410\n",
            "Training loss: 0.0020\n",
            "Training metric: 0.9648\n",
            "perturbation loss: 0.0110\n"
          ]
        },
        {
          "output_type": "stream",
          "name": "stderr",
          "text": [
            "\r 41%|████      | 411/1000 [07:52<10:49,  1.10s/it]"
          ]
        },
        {
          "output_type": "stream",
          "name": "stdout",
          "text": [
            "Validation acc: 0.9219\n",
            "\n",
            "Start of epoch 411\n",
            "Training loss: 0.0000\n",
            "Training metric: 0.9649\n",
            "perturbation loss: 0.0003\n"
          ]
        },
        {
          "output_type": "stream",
          "name": "stderr",
          "text": [
            "\r 41%|████      | 412/1000 [07:53<10:35,  1.08s/it]"
          ]
        },
        {
          "output_type": "stream",
          "name": "stdout",
          "text": [
            "Validation acc: 0.9453\n",
            "\n",
            "Start of epoch 412\n",
            "Training loss: 0.0022\n",
            "Training metric: 0.9649\n",
            "perturbation loss: 0.0015\n"
          ]
        },
        {
          "output_type": "stream",
          "name": "stderr",
          "text": [
            "\r 41%|████▏     | 413/1000 [07:54<10:23,  1.06s/it]"
          ]
        },
        {
          "output_type": "stream",
          "name": "stdout",
          "text": [
            "Validation acc: 0.9531\n",
            "\n",
            "Start of epoch 413\n",
            "Training loss: 0.0033\n",
            "Training metric: 0.9650\n",
            "perturbation loss: 0.0643\n"
          ]
        },
        {
          "output_type": "stream",
          "name": "stderr",
          "text": [
            "\r 41%|████▏     | 414/1000 [07:55<10:13,  1.05s/it]"
          ]
        },
        {
          "output_type": "stream",
          "name": "stdout",
          "text": [
            "Validation acc: 0.8516\n",
            "\n",
            "Start of epoch 414\n",
            "Training loss: 0.0001\n",
            "Training metric: 0.9651\n",
            "perturbation loss: 0.0009\n"
          ]
        },
        {
          "output_type": "stream",
          "name": "stderr",
          "text": [
            "\r 42%|████▏     | 415/1000 [07:56<10:06,  1.04s/it]"
          ]
        },
        {
          "output_type": "stream",
          "name": "stdout",
          "text": [
            "Validation acc: 0.9141\n",
            "\n",
            "Start of epoch 415\n",
            "Training loss: 0.0018\n",
            "Training metric: 0.9652\n",
            "perturbation loss: 0.0297\n"
          ]
        },
        {
          "output_type": "stream",
          "name": "stderr",
          "text": [
            "\r 42%|████▏     | 416/1000 [07:57<09:56,  1.02s/it]"
          ]
        },
        {
          "output_type": "stream",
          "name": "stdout",
          "text": [
            "Validation acc: 0.9297\n",
            "\n",
            "Start of epoch 416\n",
            "Training loss: 0.0004\n",
            "Training metric: 0.9653\n",
            "perturbation loss: 0.0051\n"
          ]
        },
        {
          "output_type": "stream",
          "name": "stderr",
          "text": [
            "\r 42%|████▏     | 417/1000 [07:58<09:54,  1.02s/it]"
          ]
        },
        {
          "output_type": "stream",
          "name": "stdout",
          "text": [
            "Validation acc: 0.9453\n",
            "\n",
            "Start of epoch 417\n",
            "Training loss: 0.0113\n",
            "Training metric: 0.9653\n",
            "perturbation loss: 0.0317\n"
          ]
        },
        {
          "output_type": "stream",
          "name": "stderr",
          "text": [
            "\r 42%|████▏     | 418/1000 [07:59<11:13,  1.16s/it]"
          ]
        },
        {
          "output_type": "stream",
          "name": "stdout",
          "text": [
            "Validation acc: 0.9297\n",
            "\n",
            "Start of epoch 418\n",
            "Training loss: 0.0067\n",
            "Training metric: 0.9654\n",
            "perturbation loss: 0.0210\n"
          ]
        },
        {
          "output_type": "stream",
          "name": "stderr",
          "text": [
            "\r 42%|████▏     | 419/1000 [08:01<11:42,  1.21s/it]"
          ]
        },
        {
          "output_type": "stream",
          "name": "stdout",
          "text": [
            "Validation acc: 0.9219\n",
            "\n",
            "Start of epoch 419\n",
            "Training loss: 0.0078\n",
            "Training metric: 0.9655\n",
            "perturbation loss: 0.0182\n"
          ]
        },
        {
          "output_type": "stream",
          "name": "stderr",
          "text": [
            "\r 42%|████▏     | 420/1000 [08:02<12:07,  1.25s/it]"
          ]
        },
        {
          "output_type": "stream",
          "name": "stdout",
          "text": [
            "Validation acc: 0.9141\n",
            "\n",
            "Start of epoch 420\n",
            "Training loss: 0.0002\n",
            "Training metric: 0.9656\n",
            "perturbation loss: 0.0011\n"
          ]
        },
        {
          "output_type": "stream",
          "name": "stderr",
          "text": [
            "\r 42%|████▏     | 421/1000 [08:03<11:26,  1.19s/it]"
          ]
        },
        {
          "output_type": "stream",
          "name": "stdout",
          "text": [
            "Validation acc: 0.9375\n",
            "\n",
            "Start of epoch 421\n",
            "Training loss: 0.0001\n",
            "Training metric: 0.9657\n",
            "perturbation loss: 0.0002\n"
          ]
        },
        {
          "output_type": "stream",
          "name": "stderr",
          "text": [
            "\r 42%|████▏     | 422/1000 [08:04<10:54,  1.13s/it]"
          ]
        },
        {
          "output_type": "stream",
          "name": "stdout",
          "text": [
            "Validation acc: 0.9375\n",
            "\n",
            "Start of epoch 422\n",
            "Training loss: 0.0001\n",
            "Training metric: 0.9657\n",
            "perturbation loss: 0.0010\n"
          ]
        },
        {
          "output_type": "stream",
          "name": "stderr",
          "text": [
            "\r 42%|████▏     | 423/1000 [08:05<10:33,  1.10s/it]"
          ]
        },
        {
          "output_type": "stream",
          "name": "stdout",
          "text": [
            "Validation acc: 0.9375\n",
            "\n",
            "Start of epoch 423\n",
            "Training loss: 0.0000\n",
            "Training metric: 0.9658\n",
            "perturbation loss: 0.0001\n"
          ]
        },
        {
          "output_type": "stream",
          "name": "stderr",
          "text": [
            "\r 42%|████▏     | 424/1000 [08:06<10:16,  1.07s/it]"
          ]
        },
        {
          "output_type": "stream",
          "name": "stdout",
          "text": [
            "Validation acc: 0.9453\n",
            "\n",
            "Start of epoch 424\n",
            "Training loss: 0.0003\n",
            "Training metric: 0.9659\n",
            "perturbation loss: 0.0072\n"
          ]
        },
        {
          "output_type": "stream",
          "name": "stderr",
          "text": [
            "\r 42%|████▎     | 425/1000 [08:07<10:05,  1.05s/it]"
          ]
        },
        {
          "output_type": "stream",
          "name": "stdout",
          "text": [
            "Validation acc: 0.9375\n",
            "\n",
            "Start of epoch 425\n",
            "Training loss: 0.0000\n",
            "Training metric: 0.9660\n",
            "perturbation loss: 0.0002\n"
          ]
        },
        {
          "output_type": "stream",
          "name": "stderr",
          "text": [
            "\r 43%|████▎     | 426/1000 [08:08<09:58,  1.04s/it]"
          ]
        },
        {
          "output_type": "stream",
          "name": "stdout",
          "text": [
            "Validation acc: 0.9453\n",
            "\n",
            "Start of epoch 426\n",
            "Training loss: 0.0000\n",
            "Training metric: 0.9661\n",
            "perturbation loss: 0.0002\n"
          ]
        },
        {
          "output_type": "stream",
          "name": "stderr",
          "text": [
            "\r 43%|████▎     | 427/1000 [08:09<09:48,  1.03s/it]"
          ]
        },
        {
          "output_type": "stream",
          "name": "stdout",
          "text": [
            "Validation acc: 0.9531\n",
            "\n",
            "Start of epoch 427\n",
            "Training loss: 0.0001\n",
            "Training metric: 0.9661\n",
            "perturbation loss: 0.0004\n"
          ]
        },
        {
          "output_type": "stream",
          "name": "stderr",
          "text": [
            "\r 43%|████▎     | 428/1000 [08:10<09:41,  1.02s/it]"
          ]
        },
        {
          "output_type": "stream",
          "name": "stdout",
          "text": [
            "Validation acc: 0.9531\n",
            "\n",
            "Start of epoch 428\n",
            "Training loss: 0.0000\n",
            "Training metric: 0.9662\n",
            "perturbation loss: 0.0000\n"
          ]
        },
        {
          "output_type": "stream",
          "name": "stderr",
          "text": [
            "\r 43%|████▎     | 429/1000 [08:11<09:49,  1.03s/it]"
          ]
        },
        {
          "output_type": "stream",
          "name": "stdout",
          "text": [
            "Validation acc: 0.9531\n",
            "\n",
            "Start of epoch 429\n",
            "Training loss: 0.0003\n",
            "Training metric: 0.9663\n",
            "perturbation loss: 0.0010\n"
          ]
        },
        {
          "output_type": "stream",
          "name": "stderr",
          "text": [
            "\r 43%|████▎     | 430/1000 [08:12<10:00,  1.05s/it]"
          ]
        },
        {
          "output_type": "stream",
          "name": "stdout",
          "text": [
            "Validation acc: 0.9453\n",
            "\n",
            "Start of epoch 430\n",
            "Training loss: 0.0000\n",
            "Training metric: 0.9664\n",
            "perturbation loss: 0.0002\n"
          ]
        },
        {
          "output_type": "stream",
          "name": "stderr",
          "text": [
            "\r 43%|████▎     | 431/1000 [08:14<11:45,  1.24s/it]"
          ]
        },
        {
          "output_type": "stream",
          "name": "stdout",
          "text": [
            "Validation acc: 0.9531\n",
            "\n",
            "Start of epoch 431\n",
            "Training loss: 0.0000\n",
            "Training metric: 0.9665\n",
            "perturbation loss: 0.0002\n"
          ]
        },
        {
          "output_type": "stream",
          "name": "stderr",
          "text": [
            "\r 43%|████▎     | 432/1000 [08:16<12:51,  1.36s/it]"
          ]
        },
        {
          "output_type": "stream",
          "name": "stdout",
          "text": [
            "Validation acc: 0.9531\n",
            "\n",
            "Start of epoch 432\n",
            "Training loss: 0.0000\n",
            "Training metric: 0.9665\n",
            "perturbation loss: 0.0000\n"
          ]
        },
        {
          "output_type": "stream",
          "name": "stderr",
          "text": [
            "\r 43%|████▎     | 433/1000 [08:17<12:07,  1.28s/it]"
          ]
        },
        {
          "output_type": "stream",
          "name": "stdout",
          "text": [
            "Validation acc: 0.9453\n",
            "\n",
            "Start of epoch 433\n",
            "Training loss: 0.0000\n",
            "Training metric: 0.9666\n",
            "perturbation loss: 0.0001\n"
          ]
        },
        {
          "output_type": "stream",
          "name": "stderr",
          "text": [
            "\r 43%|████▎     | 434/1000 [08:18<11:23,  1.21s/it]"
          ]
        },
        {
          "output_type": "stream",
          "name": "stdout",
          "text": [
            "Validation acc: 0.9375\n",
            "\n",
            "Start of epoch 434\n",
            "Training loss: 0.0003\n",
            "Training metric: 0.9667\n",
            "perturbation loss: 0.0067\n"
          ]
        },
        {
          "output_type": "stream",
          "name": "stderr",
          "text": [
            "\r 44%|████▎     | 435/1000 [08:19<11:00,  1.17s/it]"
          ]
        },
        {
          "output_type": "stream",
          "name": "stdout",
          "text": [
            "Validation acc: 0.9141\n",
            "\n",
            "Start of epoch 435\n",
            "Training loss: 0.0044\n",
            "Training metric: 0.9668\n",
            "perturbation loss: 0.0486\n"
          ]
        },
        {
          "output_type": "stream",
          "name": "stderr",
          "text": [
            "\r 44%|████▎     | 436/1000 [08:20<10:41,  1.14s/it]"
          ]
        },
        {
          "output_type": "stream",
          "name": "stdout",
          "text": [
            "Validation acc: 0.9531\n",
            "\n",
            "Start of epoch 436\n",
            "Training loss: 0.0364\n",
            "Training metric: 0.9668\n",
            "perturbation loss: 0.1938\n"
          ]
        },
        {
          "output_type": "stream",
          "name": "stderr",
          "text": [
            "\r 44%|████▎     | 437/1000 [08:21<10:32,  1.12s/it]"
          ]
        },
        {
          "output_type": "stream",
          "name": "stdout",
          "text": [
            "Validation acc: 0.8828\n",
            "\n",
            "Start of epoch 437\n",
            "Training loss: 0.0283\n",
            "Training metric: 0.9669\n",
            "perturbation loss: 0.0115\n"
          ]
        },
        {
          "output_type": "stream",
          "name": "stderr",
          "text": [
            "\r 44%|████▍     | 438/1000 [08:22<10:28,  1.12s/it]"
          ]
        },
        {
          "output_type": "stream",
          "name": "stdout",
          "text": [
            "Validation acc: 0.9141\n",
            "\n",
            "Start of epoch 438\n",
            "Training loss: 0.0002\n",
            "Training metric: 0.9670\n",
            "perturbation loss: 0.0015\n"
          ]
        },
        {
          "output_type": "stream",
          "name": "stderr",
          "text": [
            "\r 44%|████▍     | 439/1000 [08:23<10:23,  1.11s/it]"
          ]
        },
        {
          "output_type": "stream",
          "name": "stdout",
          "text": [
            "Validation acc: 0.9375\n",
            "\n",
            "Start of epoch 439\n",
            "Training loss: 0.0000\n",
            "Training metric: 0.9670\n",
            "perturbation loss: 0.0009\n"
          ]
        },
        {
          "output_type": "stream",
          "name": "stderr",
          "text": [
            "\r 44%|████▍     | 440/1000 [08:24<10:31,  1.13s/it]"
          ]
        },
        {
          "output_type": "stream",
          "name": "stdout",
          "text": [
            "Validation acc: 0.9609\n",
            "\n",
            "Start of epoch 440\n",
            "Training loss: 0.0018\n",
            "Training metric: 0.9671\n",
            "perturbation loss: 0.0530\n"
          ]
        },
        {
          "output_type": "stream",
          "name": "stderr",
          "text": [
            "\r 44%|████▍     | 441/1000 [08:25<10:13,  1.10s/it]"
          ]
        },
        {
          "output_type": "stream",
          "name": "stdout",
          "text": [
            "Validation acc: 0.9453\n",
            "\n",
            "Start of epoch 441\n",
            "Training loss: 0.0000\n",
            "Training metric: 0.9672\n",
            "perturbation loss: 0.0001\n"
          ]
        },
        {
          "output_type": "stream",
          "name": "stderr",
          "text": [
            "\r 44%|████▍     | 442/1000 [08:27<10:51,  1.17s/it]"
          ]
        },
        {
          "output_type": "stream",
          "name": "stdout",
          "text": [
            "Validation acc: 0.9531\n",
            "\n",
            "Start of epoch 442\n",
            "Training loss: 0.0000\n",
            "Training metric: 0.9673\n",
            "perturbation loss: 0.0004\n"
          ]
        },
        {
          "output_type": "stream",
          "name": "stderr",
          "text": [
            "\r 44%|████▍     | 443/1000 [08:28<11:15,  1.21s/it]"
          ]
        },
        {
          "output_type": "stream",
          "name": "stdout",
          "text": [
            "Validation acc: 0.9375\n",
            "\n",
            "Start of epoch 443\n",
            "Training loss: 0.0004\n",
            "Training metric: 0.9673\n",
            "perturbation loss: 0.0013\n"
          ]
        },
        {
          "output_type": "stream",
          "name": "stderr",
          "text": [
            "\r 44%|████▍     | 444/1000 [08:29<11:34,  1.25s/it]"
          ]
        },
        {
          "output_type": "stream",
          "name": "stdout",
          "text": [
            "Validation acc: 0.9453\n",
            "\n",
            "Start of epoch 444\n",
            "Training loss: 0.0000\n",
            "Training metric: 0.9674\n",
            "perturbation loss: 0.0004\n"
          ]
        },
        {
          "output_type": "stream",
          "name": "stderr",
          "text": [
            "\r 44%|████▍     | 445/1000 [08:30<10:55,  1.18s/it]"
          ]
        },
        {
          "output_type": "stream",
          "name": "stdout",
          "text": [
            "Validation acc: 0.9375\n",
            "\n",
            "Start of epoch 445\n",
            "Training loss: 0.0000\n",
            "Training metric: 0.9675\n",
            "perturbation loss: 0.0001\n"
          ]
        },
        {
          "output_type": "stream",
          "name": "stderr",
          "text": [
            "\r 45%|████▍     | 446/1000 [08:31<10:23,  1.13s/it]"
          ]
        },
        {
          "output_type": "stream",
          "name": "stdout",
          "text": [
            "Validation acc: 0.9375\n",
            "\n",
            "Start of epoch 446\n",
            "Training loss: 0.0001\n",
            "Training metric: 0.9676\n",
            "perturbation loss: 0.0004\n"
          ]
        },
        {
          "output_type": "stream",
          "name": "stderr",
          "text": [
            "\r 45%|████▍     | 447/1000 [08:32<10:15,  1.11s/it]"
          ]
        },
        {
          "output_type": "stream",
          "name": "stdout",
          "text": [
            "Validation acc: 0.9375\n",
            "\n",
            "Start of epoch 447\n",
            "Training loss: 0.0001\n",
            "Training metric: 0.9676\n",
            "perturbation loss: 0.0006\n"
          ]
        },
        {
          "output_type": "stream",
          "name": "stderr",
          "text": [
            "\r 45%|████▍     | 448/1000 [08:33<10:11,  1.11s/it]"
          ]
        },
        {
          "output_type": "stream",
          "name": "stdout",
          "text": [
            "Validation acc: 0.9531\n",
            "\n",
            "Start of epoch 448\n",
            "Training loss: 0.0000\n",
            "Training metric: 0.9677\n",
            "perturbation loss: 0.0001\n"
          ]
        },
        {
          "output_type": "stream",
          "name": "stderr",
          "text": [
            "\r 45%|████▍     | 449/1000 [08:34<09:53,  1.08s/it]"
          ]
        },
        {
          "output_type": "stream",
          "name": "stdout",
          "text": [
            "Validation acc: 0.9453\n",
            "\n",
            "Start of epoch 449\n",
            "Training loss: 0.0000\n",
            "Training metric: 0.9678\n",
            "perturbation loss: 0.0002\n"
          ]
        },
        {
          "output_type": "stream",
          "name": "stderr",
          "text": [
            "\r 45%|████▌     | 450/1000 [08:35<09:39,  1.05s/it]"
          ]
        },
        {
          "output_type": "stream",
          "name": "stdout",
          "text": [
            "Validation acc: 0.9531\n",
            "\n",
            "Start of epoch 450\n",
            "Training loss: 0.0000\n",
            "Training metric: 0.9678\n",
            "perturbation loss: 0.0007\n"
          ]
        },
        {
          "output_type": "stream",
          "name": "stderr",
          "text": [
            "\r 45%|████▌     | 451/1000 [08:36<09:27,  1.03s/it]"
          ]
        },
        {
          "output_type": "stream",
          "name": "stdout",
          "text": [
            "Validation acc: 0.9531\n",
            "\n",
            "Start of epoch 451\n",
            "Training loss: 0.0000\n",
            "Training metric: 0.9679\n",
            "perturbation loss: 0.0001\n"
          ]
        },
        {
          "output_type": "stream",
          "name": "stderr",
          "text": [
            "\r 45%|████▌     | 452/1000 [08:37<09:21,  1.03s/it]"
          ]
        },
        {
          "output_type": "stream",
          "name": "stdout",
          "text": [
            "Validation acc: 0.9453\n",
            "\n",
            "Start of epoch 452\n",
            "Training loss: 0.0000\n",
            "Training metric: 0.9680\n",
            "perturbation loss: 0.0001\n"
          ]
        },
        {
          "output_type": "stream",
          "name": "stderr",
          "text": [
            "\r 45%|████▌     | 453/1000 [08:39<09:30,  1.04s/it]"
          ]
        },
        {
          "output_type": "stream",
          "name": "stdout",
          "text": [
            "Validation acc: 0.9453\n",
            "\n",
            "Start of epoch 453\n",
            "Training loss: 0.0000\n",
            "Training metric: 0.9681\n",
            "perturbation loss: 0.0004\n"
          ]
        },
        {
          "output_type": "stream",
          "name": "stderr",
          "text": [
            "\r 45%|████▌     | 454/1000 [08:40<09:47,  1.08s/it]"
          ]
        },
        {
          "output_type": "stream",
          "name": "stdout",
          "text": [
            "Validation acc: 0.9219\n",
            "\n",
            "Start of epoch 454\n",
            "Training loss: 0.0004\n",
            "Training metric: 0.9681\n",
            "perturbation loss: 0.0081\n"
          ]
        },
        {
          "output_type": "stream",
          "name": "stderr",
          "text": [
            "\r 46%|████▌     | 455/1000 [08:41<10:28,  1.15s/it]"
          ]
        },
        {
          "output_type": "stream",
          "name": "stdout",
          "text": [
            "Validation acc: 0.9219\n",
            "\n",
            "Start of epoch 455\n",
            "Training loss: 0.0010\n",
            "Training metric: 0.9682\n",
            "perturbation loss: 0.0131\n"
          ]
        },
        {
          "output_type": "stream",
          "name": "stderr",
          "text": [
            "\r 46%|████▌     | 456/1000 [08:42<11:03,  1.22s/it]"
          ]
        },
        {
          "output_type": "stream",
          "name": "stdout",
          "text": [
            "Validation acc: 0.9297\n",
            "\n",
            "Start of epoch 456\n",
            "Training loss: 0.0002\n",
            "Training metric: 0.9682\n",
            "perturbation loss: 0.0026\n"
          ]
        },
        {
          "output_type": "stream",
          "name": "stderr",
          "text": [
            "\r 46%|████▌     | 457/1000 [08:44<10:49,  1.20s/it]"
          ]
        },
        {
          "output_type": "stream",
          "name": "stdout",
          "text": [
            "Validation acc: 0.9453\n",
            "\n",
            "Start of epoch 457\n",
            "Training loss: 0.0000\n",
            "Training metric: 0.9683\n",
            "perturbation loss: 0.0002\n"
          ]
        },
        {
          "output_type": "stream",
          "name": "stderr",
          "text": [
            "\r 46%|████▌     | 458/1000 [08:45<10:13,  1.13s/it]"
          ]
        },
        {
          "output_type": "stream",
          "name": "stdout",
          "text": [
            "Validation acc: 0.9375\n",
            "\n",
            "Start of epoch 458\n",
            "Training loss: 0.0009\n",
            "Training metric: 0.9684\n",
            "perturbation loss: 0.0028\n"
          ]
        },
        {
          "output_type": "stream",
          "name": "stderr",
          "text": [
            "\r 46%|████▌     | 459/1000 [08:46<10:06,  1.12s/it]"
          ]
        },
        {
          "output_type": "stream",
          "name": "stdout",
          "text": [
            "Validation acc: 0.9453\n",
            "\n",
            "Start of epoch 459\n",
            "Training loss: 0.0000\n",
            "Training metric: 0.9684\n",
            "perturbation loss: 0.0001\n"
          ]
        },
        {
          "output_type": "stream",
          "name": "stderr",
          "text": [
            "\r 46%|████▌     | 460/1000 [08:47<09:57,  1.11s/it]"
          ]
        },
        {
          "output_type": "stream",
          "name": "stdout",
          "text": [
            "Validation acc: 0.9453\n",
            "\n",
            "Start of epoch 460\n",
            "Training loss: 0.0000\n",
            "Training metric: 0.9685\n",
            "perturbation loss: 0.0003\n"
          ]
        },
        {
          "output_type": "stream",
          "name": "stderr",
          "text": [
            "\r 46%|████▌     | 461/1000 [08:48<09:51,  1.10s/it]"
          ]
        },
        {
          "output_type": "stream",
          "name": "stdout",
          "text": [
            "Validation acc: 0.9453\n",
            "\n",
            "Start of epoch 461\n",
            "Training loss: 0.0000\n",
            "Training metric: 0.9686\n",
            "perturbation loss: 0.0002\n"
          ]
        },
        {
          "output_type": "stream",
          "name": "stderr",
          "text": [
            "\r 46%|████▌     | 462/1000 [08:49<09:48,  1.09s/it]"
          ]
        },
        {
          "output_type": "stream",
          "name": "stdout",
          "text": [
            "Validation acc: 0.9141\n",
            "\n",
            "Start of epoch 462\n",
            "Training loss: 0.0000\n",
            "Training metric: 0.9687\n",
            "perturbation loss: 0.0002\n"
          ]
        },
        {
          "output_type": "stream",
          "name": "stderr",
          "text": [
            "\r 46%|████▋     | 463/1000 [08:50<09:33,  1.07s/it]"
          ]
        },
        {
          "output_type": "stream",
          "name": "stdout",
          "text": [
            "Validation acc: 0.9219\n",
            "\n",
            "Start of epoch 463\n",
            "Training loss: 0.0001\n",
            "Training metric: 0.9687\n",
            "perturbation loss: 0.0011\n"
          ]
        },
        {
          "output_type": "stream",
          "name": "stderr",
          "text": [
            "\r 46%|████▋     | 464/1000 [08:51<09:24,  1.05s/it]"
          ]
        },
        {
          "output_type": "stream",
          "name": "stdout",
          "text": [
            "Validation acc: 0.9297\n",
            "\n",
            "Start of epoch 464\n",
            "Training loss: 0.0001\n",
            "Training metric: 0.9688\n",
            "perturbation loss: 0.0014\n"
          ]
        },
        {
          "output_type": "stream",
          "name": "stderr",
          "text": [
            "\r 46%|████▋     | 465/1000 [08:52<09:14,  1.04s/it]"
          ]
        },
        {
          "output_type": "stream",
          "name": "stdout",
          "text": [
            "Validation acc: 0.9375\n",
            "\n",
            "Start of epoch 465\n",
            "Training loss: 0.0031\n",
            "Training metric: 0.9688\n",
            "perturbation loss: 0.0012\n"
          ]
        },
        {
          "output_type": "stream",
          "name": "stderr",
          "text": [
            "\r 47%|████▋     | 466/1000 [08:53<09:03,  1.02s/it]"
          ]
        },
        {
          "output_type": "stream",
          "name": "stdout",
          "text": [
            "Validation acc: 0.9375\n",
            "\n",
            "Start of epoch 466\n",
            "Training loss: 0.0003\n",
            "Training metric: 0.9689\n",
            "perturbation loss: 0.0025\n"
          ]
        },
        {
          "output_type": "stream",
          "name": "stderr",
          "text": [
            "\r 47%|████▋     | 467/1000 [08:54<09:45,  1.10s/it]"
          ]
        },
        {
          "output_type": "stream",
          "name": "stdout",
          "text": [
            "Validation acc: 0.9453\n",
            "\n",
            "Start of epoch 467\n",
            "Training loss: 0.0009\n",
            "Training metric: 0.9690\n",
            "perturbation loss: 0.0042\n"
          ]
        },
        {
          "output_type": "stream",
          "name": "stderr",
          "text": [
            "\r 47%|████▋     | 468/1000 [08:56<11:04,  1.25s/it]"
          ]
        },
        {
          "output_type": "stream",
          "name": "stdout",
          "text": [
            "Validation acc: 0.9453\n",
            "\n",
            "Start of epoch 468\n",
            "Training loss: 0.0001\n",
            "Training metric: 0.9690\n",
            "perturbation loss: 0.0006\n"
          ]
        },
        {
          "output_type": "stream",
          "name": "stderr",
          "text": [
            "\r 47%|████▋     | 469/1000 [08:57<10:59,  1.24s/it]"
          ]
        },
        {
          "output_type": "stream",
          "name": "stdout",
          "text": [
            "Validation acc: 0.9375\n",
            "\n",
            "Start of epoch 469\n",
            "Training loss: 0.0000\n",
            "Training metric: 0.9691\n",
            "perturbation loss: 0.0000\n"
          ]
        },
        {
          "output_type": "stream",
          "name": "stderr",
          "text": [
            "\r 47%|████▋     | 470/1000 [08:58<10:21,  1.17s/it]"
          ]
        },
        {
          "output_type": "stream",
          "name": "stdout",
          "text": [
            "Validation acc: 0.9453\n",
            "\n",
            "Start of epoch 470\n",
            "Training loss: 0.0000\n",
            "Training metric: 0.9692\n",
            "perturbation loss: 0.0002\n"
          ]
        },
        {
          "output_type": "stream",
          "name": "stderr",
          "text": [
            "\r 47%|████▋     | 471/1000 [08:59<10:07,  1.15s/it]"
          ]
        },
        {
          "output_type": "stream",
          "name": "stdout",
          "text": [
            "Validation acc: 0.9531\n",
            "\n",
            "Start of epoch 471\n",
            "Training loss: 0.0001\n",
            "Training metric: 0.9692\n",
            "perturbation loss: 0.0010\n"
          ]
        },
        {
          "output_type": "stream",
          "name": "stderr",
          "text": [
            "\r 47%|████▋     | 472/1000 [09:00<09:42,  1.10s/it]"
          ]
        },
        {
          "output_type": "stream",
          "name": "stdout",
          "text": [
            "Validation acc: 0.9453\n",
            "\n",
            "Start of epoch 472\n",
            "Training loss: 0.0000\n",
            "Training metric: 0.9693\n",
            "perturbation loss: 0.0001\n"
          ]
        },
        {
          "output_type": "stream",
          "name": "stderr",
          "text": [
            "\r 47%|████▋     | 473/1000 [09:01<09:25,  1.07s/it]"
          ]
        },
        {
          "output_type": "stream",
          "name": "stdout",
          "text": [
            "Validation acc: 0.9453\n",
            "\n",
            "Start of epoch 473\n",
            "Training loss: 0.0000\n",
            "Training metric: 0.9694\n",
            "perturbation loss: 0.0007\n"
          ]
        },
        {
          "output_type": "stream",
          "name": "stderr",
          "text": [
            "\r 47%|████▋     | 474/1000 [09:02<09:13,  1.05s/it]"
          ]
        },
        {
          "output_type": "stream",
          "name": "stdout",
          "text": [
            "Validation acc: 0.9453\n",
            "\n",
            "Start of epoch 474\n",
            "Training loss: 0.0000\n",
            "Training metric: 0.9694\n",
            "perturbation loss: 0.0000\n"
          ]
        },
        {
          "output_type": "stream",
          "name": "stderr",
          "text": [
            "\r 48%|████▊     | 475/1000 [09:03<09:05,  1.04s/it]"
          ]
        },
        {
          "output_type": "stream",
          "name": "stdout",
          "text": [
            "Validation acc: 0.9453\n",
            "\n",
            "Start of epoch 475\n",
            "Training loss: 0.0001\n",
            "Training metric: 0.9695\n",
            "perturbation loss: 0.0004\n"
          ]
        },
        {
          "output_type": "stream",
          "name": "stderr",
          "text": [
            "\r 48%|████▊     | 476/1000 [09:04<08:57,  1.03s/it]"
          ]
        },
        {
          "output_type": "stream",
          "name": "stdout",
          "text": [
            "Validation acc: 0.9375\n",
            "\n",
            "Start of epoch 476\n",
            "Training loss: 0.0001\n",
            "Training metric: 0.9696\n",
            "perturbation loss: 0.0017\n",
            "Validation acc: 0.9297\n"
          ]
        },
        {
          "output_type": "stream",
          "name": "stderr",
          "text": [
            "\r 48%|████▊     | 477/1000 [09:05<08:53,  1.02s/it]"
          ]
        },
        {
          "output_type": "stream",
          "name": "stdout",
          "text": [
            "\n",
            "Start of epoch 477\n",
            "Training loss: 0.0000\n",
            "Training metric: 0.9696\n",
            "perturbation loss: 0.0007\n"
          ]
        },
        {
          "output_type": "stream",
          "name": "stderr",
          "text": [
            "\r 48%|████▊     | 478/1000 [09:06<08:51,  1.02s/it]"
          ]
        },
        {
          "output_type": "stream",
          "name": "stdout",
          "text": [
            "Validation acc: 0.9375\n",
            "\n",
            "Start of epoch 478\n",
            "Training loss: 0.0001\n",
            "Training metric: 0.9697\n",
            "perturbation loss: 0.0018\n"
          ]
        },
        {
          "output_type": "stream",
          "name": "stderr",
          "text": [
            "\r 48%|████▊     | 479/1000 [09:07<09:11,  1.06s/it]"
          ]
        },
        {
          "output_type": "stream",
          "name": "stdout",
          "text": [
            "Validation acc: 0.9297\n",
            "\n",
            "Start of epoch 479\n",
            "Training loss: 0.0002\n",
            "Training metric: 0.9697\n",
            "perturbation loss: 0.0011\n"
          ]
        },
        {
          "output_type": "stream",
          "name": "stderr",
          "text": [
            "\r 48%|████▊     | 480/1000 [09:09<09:49,  1.13s/it]"
          ]
        },
        {
          "output_type": "stream",
          "name": "stdout",
          "text": [
            "Validation acc: 0.9375\n",
            "\n",
            "Start of epoch 480\n",
            "Training loss: 0.0000\n",
            "Training metric: 0.9698\n",
            "perturbation loss: 0.0005\n"
          ]
        },
        {
          "output_type": "stream",
          "name": "stderr",
          "text": [
            "\r 48%|████▊     | 481/1000 [09:10<10:18,  1.19s/it]"
          ]
        },
        {
          "output_type": "stream",
          "name": "stdout",
          "text": [
            "Validation acc: 0.9219\n",
            "\n",
            "Start of epoch 481\n",
            "Training loss: 0.0000\n",
            "Training metric: 0.9699\n",
            "perturbation loss: 0.0001\n"
          ]
        },
        {
          "output_type": "stream",
          "name": "stderr",
          "text": [
            "\r 48%|████▊     | 482/1000 [09:11<10:15,  1.19s/it]"
          ]
        },
        {
          "output_type": "stream",
          "name": "stdout",
          "text": [
            "Validation acc: 0.9141\n",
            "\n",
            "Start of epoch 482\n",
            "Training loss: 0.0002\n",
            "Training metric: 0.9699\n",
            "perturbation loss: 0.0045\n"
          ]
        },
        {
          "output_type": "stream",
          "name": "stderr",
          "text": [
            "\r 48%|████▊     | 483/1000 [09:12<09:50,  1.14s/it]"
          ]
        },
        {
          "output_type": "stream",
          "name": "stdout",
          "text": [
            "Validation acc: 0.9375\n",
            "\n",
            "Start of epoch 483\n",
            "Training loss: 0.0000\n",
            "Training metric: 0.9700\n",
            "perturbation loss: 0.0001\n"
          ]
        },
        {
          "output_type": "stream",
          "name": "stderr",
          "text": [
            "\r 48%|████▊     | 484/1000 [09:13<09:26,  1.10s/it]"
          ]
        },
        {
          "output_type": "stream",
          "name": "stdout",
          "text": [
            "Validation acc: 0.9453\n",
            "\n",
            "Start of epoch 484\n",
            "Training loss: 0.0000\n",
            "Training metric: 0.9701\n",
            "perturbation loss: 0.0001\n"
          ]
        },
        {
          "output_type": "stream",
          "name": "stderr",
          "text": [
            "\r 48%|████▊     | 485/1000 [09:14<09:09,  1.07s/it]"
          ]
        },
        {
          "output_type": "stream",
          "name": "stdout",
          "text": [
            "Validation acc: 0.9453\n",
            "\n",
            "Start of epoch 485\n",
            "Training loss: 0.0000\n",
            "Training metric: 0.9701\n",
            "perturbation loss: 0.0000\n"
          ]
        },
        {
          "output_type": "stream",
          "name": "stderr",
          "text": [
            "\r 49%|████▊     | 486/1000 [09:15<08:57,  1.05s/it]"
          ]
        },
        {
          "output_type": "stream",
          "name": "stdout",
          "text": [
            "Validation acc: 0.9297\n",
            "\n",
            "Start of epoch 486\n",
            "Training loss: 0.0001\n",
            "Training metric: 0.9702\n",
            "perturbation loss: 0.0027\n"
          ]
        },
        {
          "output_type": "stream",
          "name": "stderr",
          "text": [
            "\r 49%|████▊     | 487/1000 [09:16<08:54,  1.04s/it]"
          ]
        },
        {
          "output_type": "stream",
          "name": "stdout",
          "text": [
            "Validation acc: 0.9375\n",
            "\n",
            "Start of epoch 487\n",
            "Training loss: 0.0001\n",
            "Training metric: 0.9702\n",
            "perturbation loss: 0.0014\n"
          ]
        },
        {
          "output_type": "stream",
          "name": "stderr",
          "text": [
            "\r 49%|████▉     | 488/1000 [09:17<08:52,  1.04s/it]"
          ]
        },
        {
          "output_type": "stream",
          "name": "stdout",
          "text": [
            "Validation acc: 0.9375\n",
            "\n",
            "Start of epoch 488\n",
            "Training loss: 0.0000\n",
            "Training metric: 0.9703\n",
            "perturbation loss: 0.0006\n"
          ]
        },
        {
          "output_type": "stream",
          "name": "stderr",
          "text": [
            "\r 49%|████▉     | 489/1000 [09:18<08:56,  1.05s/it]"
          ]
        },
        {
          "output_type": "stream",
          "name": "stdout",
          "text": [
            "Validation acc: 0.9375\n",
            "\n",
            "Start of epoch 489\n",
            "Training loss: 0.0002\n",
            "Training metric: 0.9704\n",
            "perturbation loss: 0.0017\n"
          ]
        },
        {
          "output_type": "stream",
          "name": "stderr",
          "text": [
            "\r 49%|████▉     | 490/1000 [09:19<08:57,  1.05s/it]"
          ]
        },
        {
          "output_type": "stream",
          "name": "stdout",
          "text": [
            "Validation acc: 0.9375\n",
            "\n",
            "Start of epoch 490\n",
            "Training loss: 0.0000\n",
            "Training metric: 0.9704\n",
            "perturbation loss: 0.0001\n"
          ]
        },
        {
          "output_type": "stream",
          "name": "stderr",
          "text": [
            "\r 49%|████▉     | 491/1000 [09:20<09:13,  1.09s/it]"
          ]
        },
        {
          "output_type": "stream",
          "name": "stdout",
          "text": [
            "Validation acc: 0.9375\n",
            "\n",
            "Start of epoch 491\n",
            "Training loss: 0.0000\n",
            "Training metric: 0.9705\n",
            "perturbation loss: 0.0001\n"
          ]
        },
        {
          "output_type": "stream",
          "name": "stderr",
          "text": [
            "\r 49%|████▉     | 492/1000 [09:22<10:54,  1.29s/it]"
          ]
        },
        {
          "output_type": "stream",
          "name": "stdout",
          "text": [
            "Validation acc: 0.9453\n",
            "\n",
            "Start of epoch 492\n",
            "Training loss: 0.0000\n",
            "Training metric: 0.9705\n",
            "perturbation loss: 0.0000\n"
          ]
        },
        {
          "output_type": "stream",
          "name": "stderr",
          "text": [
            "\r 49%|████▉     | 493/1000 [09:24<12:04,  1.43s/it]"
          ]
        },
        {
          "output_type": "stream",
          "name": "stdout",
          "text": [
            "Validation acc: 0.9531\n",
            "\n",
            "Start of epoch 493\n",
            "Training loss: 0.0000\n",
            "Training metric: 0.9706\n",
            "perturbation loss: 0.0000\n"
          ]
        },
        {
          "output_type": "stream",
          "name": "stderr",
          "text": [
            "\r 49%|████▉     | 494/1000 [09:25<10:58,  1.30s/it]"
          ]
        },
        {
          "output_type": "stream",
          "name": "stdout",
          "text": [
            "Validation acc: 0.9688\n",
            "\n",
            "Start of epoch 494\n",
            "Training loss: 0.0000\n",
            "Training metric: 0.9707\n",
            "perturbation loss: 0.0000\n"
          ]
        },
        {
          "output_type": "stream",
          "name": "stderr",
          "text": [
            "\r 50%|████▉     | 495/1000 [09:26<10:12,  1.21s/it]"
          ]
        },
        {
          "output_type": "stream",
          "name": "stdout",
          "text": [
            "Validation acc: 0.9688\n",
            "\n",
            "Start of epoch 495\n",
            "Training loss: 0.0000\n",
            "Training metric: 0.9707\n",
            "perturbation loss: 0.0001\n"
          ]
        },
        {
          "output_type": "stream",
          "name": "stderr",
          "text": [
            "\r 50%|████▉     | 496/1000 [09:27<09:41,  1.15s/it]"
          ]
        },
        {
          "output_type": "stream",
          "name": "stdout",
          "text": [
            "Validation acc: 0.9609\n",
            "\n",
            "Start of epoch 496\n",
            "Training loss: 0.0000\n",
            "Training metric: 0.9708\n",
            "perturbation loss: 0.0003\n"
          ]
        },
        {
          "output_type": "stream",
          "name": "stderr",
          "text": [
            "\r 50%|████▉     | 497/1000 [09:28<09:20,  1.11s/it]"
          ]
        },
        {
          "output_type": "stream",
          "name": "stdout",
          "text": [
            "Validation acc: 0.9453\n",
            "\n",
            "Start of epoch 497\n",
            "Training loss: 0.0000\n",
            "Training metric: 0.9708\n",
            "perturbation loss: 0.0000\n"
          ]
        },
        {
          "output_type": "stream",
          "name": "stderr",
          "text": [
            "\r 50%|████▉     | 498/1000 [09:29<09:04,  1.08s/it]"
          ]
        },
        {
          "output_type": "stream",
          "name": "stdout",
          "text": [
            "Validation acc: 0.9531\n",
            "\n",
            "Start of epoch 498\n",
            "Training loss: 0.0002\n",
            "Training metric: 0.9709\n",
            "perturbation loss: 0.0022\n"
          ]
        },
        {
          "output_type": "stream",
          "name": "stderr",
          "text": [
            "\r 50%|████▉     | 499/1000 [09:30<08:51,  1.06s/it]"
          ]
        },
        {
          "output_type": "stream",
          "name": "stdout",
          "text": [
            "Validation acc: 0.9453\n",
            "\n",
            "Start of epoch 499\n",
            "Training loss: 0.0000\n",
            "Training metric: 0.9710\n",
            "perturbation loss: 0.0000\n"
          ]
        },
        {
          "output_type": "stream",
          "name": "stderr",
          "text": [
            "\r 50%|█████     | 500/1000 [09:31<08:40,  1.04s/it]"
          ]
        },
        {
          "output_type": "stream",
          "name": "stdout",
          "text": [
            "Validation acc: 0.9375\n",
            "\n",
            "Start of epoch 500\n",
            "Training loss: 0.0000\n",
            "Training metric: 0.9710\n",
            "perturbation loss: 0.0000\n"
          ]
        },
        {
          "output_type": "stream",
          "name": "stderr",
          "text": [
            "\r 50%|█████     | 501/1000 [09:32<08:31,  1.02s/it]"
          ]
        },
        {
          "output_type": "stream",
          "name": "stdout",
          "text": [
            "Validation acc: 0.9219\n",
            "\n",
            "Start of epoch 501\n",
            "Training loss: 0.0342\n",
            "Training metric: 0.9711\n",
            "perturbation loss: 0.0047\n",
            "Validation acc: 0.8594"
          ]
        },
        {
          "output_type": "stream",
          "name": "stderr",
          "text": [
            "\r 50%|█████     | 502/1000 [09:33<08:25,  1.01s/it]"
          ]
        },
        {
          "output_type": "stream",
          "name": "stdout",
          "text": [
            "\n",
            "\n",
            "Start of epoch 502\n",
            "Training loss: 0.0140\n",
            "Training metric: 0.9711\n",
            "perturbation loss: 0.0116\n"
          ]
        },
        {
          "output_type": "stream",
          "name": "stderr",
          "text": [
            "\r 50%|█████     | 503/1000 [09:34<08:34,  1.03s/it]"
          ]
        },
        {
          "output_type": "stream",
          "name": "stdout",
          "text": [
            "Validation acc: 0.9297\n",
            "\n",
            "Start of epoch 503\n",
            "Training loss: 0.0001\n",
            "Training metric: 0.9712\n",
            "perturbation loss: 0.0008\n"
          ]
        },
        {
          "output_type": "stream",
          "name": "stderr",
          "text": [
            "\r 50%|█████     | 504/1000 [09:35<09:20,  1.13s/it]"
          ]
        },
        {
          "output_type": "stream",
          "name": "stdout",
          "text": [
            "Validation acc: 0.9375\n",
            "\n",
            "Start of epoch 504\n",
            "Training loss: 0.0000\n",
            "Training metric: 0.9712\n",
            "perturbation loss: 0.0002\n"
          ]
        },
        {
          "output_type": "stream",
          "name": "stderr",
          "text": [
            "\r 50%|█████     | 505/1000 [09:37<09:53,  1.20s/it]"
          ]
        },
        {
          "output_type": "stream",
          "name": "stdout",
          "text": [
            "Validation acc: 0.9375\n",
            "\n",
            "Start of epoch 505\n",
            "Training loss: 0.0188\n",
            "Training metric: 0.9713\n",
            "perturbation loss: 0.1015\n"
          ]
        },
        {
          "output_type": "stream",
          "name": "stderr",
          "text": [
            "\r 51%|█████     | 506/1000 [09:38<09:55,  1.21s/it]"
          ]
        },
        {
          "output_type": "stream",
          "name": "stdout",
          "text": [
            "Validation acc: 0.8281\n",
            "\n",
            "Start of epoch 506\n",
            "Training loss: 0.0003\n",
            "Training metric: 0.9713\n",
            "perturbation loss: 0.0023\n"
          ]
        },
        {
          "output_type": "stream",
          "name": "stderr",
          "text": [
            "\r 51%|█████     | 507/1000 [09:39<09:38,  1.17s/it]"
          ]
        },
        {
          "output_type": "stream",
          "name": "stdout",
          "text": [
            "Validation acc: 0.9375\n",
            "\n",
            "Start of epoch 507\n",
            "Training loss: 0.0000\n",
            "Training metric: 0.9714\n",
            "perturbation loss: 0.0001\n"
          ]
        },
        {
          "output_type": "stream",
          "name": "stderr",
          "text": [
            "\r 51%|█████     | 508/1000 [09:40<09:09,  1.12s/it]"
          ]
        },
        {
          "output_type": "stream",
          "name": "stdout",
          "text": [
            "Validation acc: 0.9297\n",
            "\n",
            "Start of epoch 508\n",
            "Training loss: 0.0001\n",
            "Training metric: 0.9714\n",
            "perturbation loss: 0.0005\n"
          ]
        },
        {
          "output_type": "stream",
          "name": "stderr",
          "text": [
            "\r 51%|█████     | 509/1000 [09:41<08:53,  1.09s/it]"
          ]
        },
        {
          "output_type": "stream",
          "name": "stdout",
          "text": [
            "Validation acc: 0.9375\n",
            "\n",
            "Start of epoch 509\n",
            "Training loss: 0.0052\n",
            "Training metric: 0.9715\n",
            "perturbation loss: 0.0089\n"
          ]
        },
        {
          "output_type": "stream",
          "name": "stderr",
          "text": [
            "\r 51%|█████     | 510/1000 [09:42<08:43,  1.07s/it]"
          ]
        },
        {
          "output_type": "stream",
          "name": "stdout",
          "text": [
            "Validation acc: 0.9531\n",
            "\n",
            "Start of epoch 510\n",
            "Training loss: 0.0001\n",
            "Training metric: 0.9715\n",
            "perturbation loss: 0.0010\n"
          ]
        },
        {
          "output_type": "stream",
          "name": "stderr",
          "text": [
            "\r 51%|█████     | 511/1000 [09:43<08:36,  1.06s/it]"
          ]
        },
        {
          "output_type": "stream",
          "name": "stdout",
          "text": [
            "Validation acc: 0.9375\n",
            "\n",
            "Start of epoch 511\n",
            "Training loss: 0.0000\n",
            "Training metric: 0.9716\n",
            "perturbation loss: 0.0001\n"
          ]
        },
        {
          "output_type": "stream",
          "name": "stderr",
          "text": [
            "\r 51%|█████     | 512/1000 [09:44<08:30,  1.05s/it]"
          ]
        },
        {
          "output_type": "stream",
          "name": "stdout",
          "text": [
            "Validation acc: 0.9375\n",
            "\n",
            "Start of epoch 512\n",
            "Training loss: 0.0029\n",
            "Training metric: 0.9717\n",
            "perturbation loss: 0.0132\n"
          ]
        },
        {
          "output_type": "stream",
          "name": "stderr",
          "text": [
            "\r 51%|█████▏    | 513/1000 [09:45<08:26,  1.04s/it]"
          ]
        },
        {
          "output_type": "stream",
          "name": "stdout",
          "text": [
            "Validation acc: 0.9375\n",
            "\n",
            "Start of epoch 513\n",
            "Training loss: 0.0001\n",
            "Training metric: 0.9717\n",
            "perturbation loss: 0.0002\n"
          ]
        },
        {
          "output_type": "stream",
          "name": "stderr",
          "text": [
            "\r 51%|█████▏    | 514/1000 [09:46<08:21,  1.03s/it]"
          ]
        },
        {
          "output_type": "stream",
          "name": "stdout",
          "text": [
            "Validation acc: 0.9297\n",
            "\n",
            "Start of epoch 514\n",
            "Training loss: 0.0000\n",
            "Training metric: 0.9718\n",
            "perturbation loss: 0.0001\n"
          ]
        },
        {
          "output_type": "stream",
          "name": "stderr",
          "text": [
            "\r 52%|█████▏    | 515/1000 [09:47<08:21,  1.04s/it]"
          ]
        },
        {
          "output_type": "stream",
          "name": "stdout",
          "text": [
            "Validation acc: 0.9219\n",
            "\n",
            "Start of epoch 515\n",
            "Training loss: 0.0001\n",
            "Training metric: 0.9718\n",
            "perturbation loss: 0.0010\n"
          ]
        },
        {
          "output_type": "stream",
          "name": "stderr",
          "text": [
            "\r 52%|█████▏    | 516/1000 [09:48<08:39,  1.07s/it]"
          ]
        },
        {
          "output_type": "stream",
          "name": "stdout",
          "text": [
            "Validation acc: 0.9375\n",
            "\n",
            "Start of epoch 516\n",
            "Training loss: 0.0000\n",
            "Training metric: 0.9719\n",
            "perturbation loss: 0.0000\n"
          ]
        },
        {
          "output_type": "stream",
          "name": "stderr",
          "text": [
            "\r 52%|█████▏    | 517/1000 [09:50<09:53,  1.23s/it]"
          ]
        },
        {
          "output_type": "stream",
          "name": "stdout",
          "text": [
            "Validation acc: 0.9453\n",
            "\n",
            "Start of epoch 517\n",
            "Training loss: 0.0000\n",
            "Training metric: 0.9719\n",
            "perturbation loss: 0.0000\n"
          ]
        },
        {
          "output_type": "stream",
          "name": "stderr",
          "text": [
            "\r 52%|█████▏    | 518/1000 [09:51<10:07,  1.26s/it]"
          ]
        },
        {
          "output_type": "stream",
          "name": "stdout",
          "text": [
            "Validation acc: 0.9219\n",
            "\n",
            "Start of epoch 518\n",
            "Training loss: 0.0000\n",
            "Training metric: 0.9720\n",
            "perturbation loss: 0.0003\n"
          ]
        },
        {
          "output_type": "stream",
          "name": "stderr",
          "text": [
            "\r 52%|█████▏    | 519/1000 [09:52<09:31,  1.19s/it]"
          ]
        },
        {
          "output_type": "stream",
          "name": "stdout",
          "text": [
            "Validation acc: 0.9453\n",
            "\n",
            "Start of epoch 519\n",
            "Training loss: 0.0002\n",
            "Training metric: 0.9720\n",
            "perturbation loss: 0.0004\n"
          ]
        },
        {
          "output_type": "stream",
          "name": "stderr",
          "text": [
            "\r 52%|█████▏    | 520/1000 [09:53<09:03,  1.13s/it]"
          ]
        },
        {
          "output_type": "stream",
          "name": "stdout",
          "text": [
            "Validation acc: 0.9453\n",
            "\n",
            "Start of epoch 520\n",
            "Training loss: 0.0002\n",
            "Training metric: 0.9721\n",
            "perturbation loss: 0.0006\n"
          ]
        },
        {
          "output_type": "stream",
          "name": "stderr",
          "text": [
            "\r 52%|█████▏    | 521/1000 [09:54<08:46,  1.10s/it]"
          ]
        },
        {
          "output_type": "stream",
          "name": "stdout",
          "text": [
            "Validation acc: 0.9375\n",
            "\n",
            "Start of epoch 521\n",
            "Training loss: 0.0000\n",
            "Training metric: 0.9721\n",
            "perturbation loss: 0.0006\n"
          ]
        },
        {
          "output_type": "stream",
          "name": "stderr",
          "text": [
            "\r 52%|█████▏    | 522/1000 [09:55<08:32,  1.07s/it]"
          ]
        },
        {
          "output_type": "stream",
          "name": "stdout",
          "text": [
            "Validation acc: 0.9453\n",
            "\n",
            "Start of epoch 522\n",
            "Training loss: 0.0000\n",
            "Training metric: 0.9722\n",
            "perturbation loss: 0.0004\n"
          ]
        },
        {
          "output_type": "stream",
          "name": "stderr",
          "text": [
            "\r 52%|█████▏    | 523/1000 [09:56<08:19,  1.05s/it]"
          ]
        },
        {
          "output_type": "stream",
          "name": "stdout",
          "text": [
            "Validation acc: 0.9453\n",
            "\n",
            "Start of epoch 523\n",
            "Training loss: 0.0000\n",
            "Training metric: 0.9722\n",
            "perturbation loss: 0.0001\n"
          ]
        },
        {
          "output_type": "stream",
          "name": "stderr",
          "text": [
            "\r 52%|█████▏    | 524/1000 [09:57<08:11,  1.03s/it]"
          ]
        },
        {
          "output_type": "stream",
          "name": "stdout",
          "text": [
            "Validation acc: 0.9453\n",
            "\n",
            "Start of epoch 524\n",
            "Training loss: 0.0000\n",
            "Training metric: 0.9723\n",
            "perturbation loss: 0.0000\n"
          ]
        },
        {
          "output_type": "stream",
          "name": "stderr",
          "text": [
            "\r 52%|█████▎    | 525/1000 [09:58<08:05,  1.02s/it]"
          ]
        },
        {
          "output_type": "stream",
          "name": "stdout",
          "text": [
            "Validation acc: 0.9453\n",
            "\n",
            "Start of epoch 525\n",
            "Training loss: 0.0000\n",
            "Training metric: 0.9723\n",
            "perturbation loss: 0.0000\n"
          ]
        },
        {
          "output_type": "stream",
          "name": "stderr",
          "text": [
            "\r 53%|█████▎    | 526/1000 [09:59<08:02,  1.02s/it]"
          ]
        },
        {
          "output_type": "stream",
          "name": "stdout",
          "text": [
            "Validation acc: 0.9453\n",
            "\n",
            "Start of epoch 526\n",
            "Training loss: 0.0000\n",
            "Training metric: 0.9724\n",
            "perturbation loss: 0.0000\n"
          ]
        },
        {
          "output_type": "stream",
          "name": "stderr",
          "text": [
            "\r 53%|█████▎    | 527/1000 [10:00<07:59,  1.01s/it]"
          ]
        },
        {
          "output_type": "stream",
          "name": "stdout",
          "text": [
            "Validation acc: 0.9453\n",
            "\n",
            "Start of epoch 527\n",
            "Training loss: 0.0000\n",
            "Training metric: 0.9725\n",
            "perturbation loss: 0.0000\n"
          ]
        },
        {
          "output_type": "stream",
          "name": "stderr",
          "text": [
            "\r 53%|█████▎    | 528/1000 [10:02<08:11,  1.04s/it]"
          ]
        },
        {
          "output_type": "stream",
          "name": "stdout",
          "text": [
            "Validation acc: 0.9375\n",
            "\n",
            "Start of epoch 528\n",
            "Training loss: 0.0000\n",
            "Training metric: 0.9725\n",
            "perturbation loss: 0.0002\n"
          ]
        },
        {
          "output_type": "stream",
          "name": "stderr",
          "text": [
            "\r 53%|█████▎    | 529/1000 [10:03<08:51,  1.13s/it]"
          ]
        },
        {
          "output_type": "stream",
          "name": "stdout",
          "text": [
            "Validation acc: 0.9453\n",
            "\n",
            "Start of epoch 529\n",
            "Training loss: 0.0000\n",
            "Training metric: 0.9726\n",
            "perturbation loss: 0.0000\n"
          ]
        },
        {
          "output_type": "stream",
          "name": "stderr",
          "text": [
            "\r 53%|█████▎    | 530/1000 [10:04<09:19,  1.19s/it]"
          ]
        },
        {
          "output_type": "stream",
          "name": "stdout",
          "text": [
            "Validation acc: 0.9375\n",
            "\n",
            "Start of epoch 530\n",
            "Training loss: 0.0000\n",
            "Training metric: 0.9726\n",
            "perturbation loss: 0.0001\n"
          ]
        },
        {
          "output_type": "stream",
          "name": "stderr",
          "text": [
            "\r 53%|█████▎    | 531/1000 [10:06<09:32,  1.22s/it]"
          ]
        },
        {
          "output_type": "stream",
          "name": "stdout",
          "text": [
            "Validation acc: 0.9453\n",
            "\n",
            "Start of epoch 531\n",
            "Training loss: 0.0000\n",
            "Training metric: 0.9727\n",
            "perturbation loss: 0.0000\n"
          ]
        },
        {
          "output_type": "stream",
          "name": "stderr",
          "text": [
            "\r 53%|█████▎    | 532/1000 [10:07<09:02,  1.16s/it]"
          ]
        },
        {
          "output_type": "stream",
          "name": "stdout",
          "text": [
            "Validation acc: 0.9375\n",
            "\n",
            "Start of epoch 532\n",
            "Training loss: 0.0000\n",
            "Training metric: 0.9727\n",
            "perturbation loss: 0.0000\n"
          ]
        },
        {
          "output_type": "stream",
          "name": "stderr",
          "text": [
            "\r 53%|█████▎    | 533/1000 [10:08<08:44,  1.12s/it]"
          ]
        },
        {
          "output_type": "stream",
          "name": "stdout",
          "text": [
            "Validation acc: 0.9453\n",
            "\n",
            "Start of epoch 533\n",
            "Training loss: 0.1115\n",
            "Training metric: 0.9728\n",
            "perturbation loss: 0.0395\n"
          ]
        },
        {
          "output_type": "stream",
          "name": "stderr",
          "text": [
            "\r 53%|█████▎    | 534/1000 [10:09<08:25,  1.09s/it]"
          ]
        },
        {
          "output_type": "stream",
          "name": "stdout",
          "text": [
            "Validation acc: 0.8828\n",
            "\n",
            "Start of epoch 534\n",
            "Training loss: 0.0020\n",
            "Training metric: 0.9728\n",
            "perturbation loss: 0.0639\n"
          ]
        },
        {
          "output_type": "stream",
          "name": "stderr",
          "text": [
            "\r 54%|█████▎    | 535/1000 [10:10<08:24,  1.08s/it]"
          ]
        },
        {
          "output_type": "stream",
          "name": "stdout",
          "text": [
            "Validation acc: 0.9141\n",
            "\n",
            "Start of epoch 535\n",
            "Training loss: 0.0000\n",
            "Training metric: 0.9729\n",
            "perturbation loss: 0.0002\n"
          ]
        },
        {
          "output_type": "stream",
          "name": "stderr",
          "text": [
            "\r 54%|█████▎    | 536/1000 [10:11<08:22,  1.08s/it]"
          ]
        },
        {
          "output_type": "stream",
          "name": "stdout",
          "text": [
            "Validation acc: 0.9297\n",
            "\n",
            "Start of epoch 536\n",
            "Training loss: 0.0012\n",
            "Training metric: 0.9729\n",
            "perturbation loss: 0.0096\n"
          ]
        },
        {
          "output_type": "stream",
          "name": "stderr",
          "text": [
            "\r 54%|█████▎    | 537/1000 [10:12<08:24,  1.09s/it]"
          ]
        },
        {
          "output_type": "stream",
          "name": "stdout",
          "text": [
            "Validation acc: 0.9062\n",
            "\n",
            "Start of epoch 537\n",
            "Training loss: 0.0005\n",
            "Training metric: 0.9730\n",
            "perturbation loss: 0.0038\n"
          ]
        },
        {
          "output_type": "stream",
          "name": "stderr",
          "text": [
            "\r 54%|█████▍    | 538/1000 [10:13<08:24,  1.09s/it]"
          ]
        },
        {
          "output_type": "stream",
          "name": "stdout",
          "text": [
            "Validation acc: 0.9062\n",
            "\n",
            "Start of epoch 538\n",
            "Training loss: 0.0001\n",
            "Training metric: 0.9730\n",
            "perturbation loss: 0.0033\n"
          ]
        },
        {
          "output_type": "stream",
          "name": "stderr",
          "text": [
            "\r 54%|█████▍    | 539/1000 [10:14<08:23,  1.09s/it]"
          ]
        },
        {
          "output_type": "stream",
          "name": "stdout",
          "text": [
            "Validation acc: 0.9219\n",
            "\n",
            "Start of epoch 539\n",
            "Training loss: 0.0001\n",
            "Training metric: 0.9731\n",
            "perturbation loss: 0.0018\n"
          ]
        },
        {
          "output_type": "stream",
          "name": "stderr",
          "text": [
            "\r 54%|█████▍    | 540/1000 [10:15<08:08,  1.06s/it]"
          ]
        },
        {
          "output_type": "stream",
          "name": "stdout",
          "text": [
            "Validation acc: 0.9375\n",
            "\n",
            "Start of epoch 540\n",
            "Training loss: 0.0000\n",
            "Training metric: 0.9731\n",
            "perturbation loss: 0.0000\n"
          ]
        },
        {
          "output_type": "stream",
          "name": "stderr",
          "text": [
            "\r 54%|█████▍    | 541/1000 [10:16<08:42,  1.14s/it]"
          ]
        },
        {
          "output_type": "stream",
          "name": "stdout",
          "text": [
            "Validation acc: 0.9453\n",
            "\n",
            "Start of epoch 541\n",
            "Training loss: 0.0000\n",
            "Training metric: 0.9732\n",
            "perturbation loss: 0.0001\n"
          ]
        },
        {
          "output_type": "stream",
          "name": "stderr",
          "text": [
            "\r 54%|█████▍    | 542/1000 [10:18<09:11,  1.20s/it]"
          ]
        },
        {
          "output_type": "stream",
          "name": "stdout",
          "text": [
            "Validation acc: 0.9609\n",
            "\n",
            "Start of epoch 542\n",
            "Training loss: 0.0482\n",
            "Training metric: 0.9732\n",
            "perturbation loss: 0.0244\n"
          ]
        },
        {
          "output_type": "stream",
          "name": "stderr",
          "text": [
            "\r 54%|█████▍    | 543/1000 [10:19<09:36,  1.26s/it]"
          ]
        },
        {
          "output_type": "stream",
          "name": "stdout",
          "text": [
            "Validation acc: 0.9297\n",
            "\n",
            "Start of epoch 543\n",
            "Training loss: 0.1291\n",
            "Training metric: 0.9732\n",
            "perturbation loss: 0.0130\n"
          ]
        },
        {
          "output_type": "stream",
          "name": "stderr",
          "text": [
            "\r 54%|█████▍    | 544/1000 [10:20<09:11,  1.21s/it]"
          ]
        },
        {
          "output_type": "stream",
          "name": "stdout",
          "text": [
            "Validation acc: 0.9219\n",
            "\n",
            "Start of epoch 544\n",
            "Training loss: 0.0001\n",
            "Training metric: 0.9733\n",
            "perturbation loss: 0.0022\n"
          ]
        },
        {
          "output_type": "stream",
          "name": "stderr",
          "text": [
            "\r 55%|█████▍    | 545/1000 [10:21<08:55,  1.18s/it]"
          ]
        },
        {
          "output_type": "stream",
          "name": "stdout",
          "text": [
            "Validation acc: 0.9531\n",
            "\n",
            "Start of epoch 545\n",
            "Training loss: 0.0000\n",
            "Training metric: 0.9733\n",
            "perturbation loss: 0.0000\n"
          ]
        },
        {
          "output_type": "stream",
          "name": "stderr",
          "text": [
            "\r 55%|█████▍    | 546/1000 [10:22<08:48,  1.16s/it]"
          ]
        },
        {
          "output_type": "stream",
          "name": "stdout",
          "text": [
            "Validation acc: 0.9375\n",
            "\n",
            "Start of epoch 546\n",
            "Training loss: 0.0001\n",
            "Training metric: 0.9734\n",
            "perturbation loss: 0.0006\n"
          ]
        },
        {
          "output_type": "stream",
          "name": "stderr",
          "text": [
            "\r 55%|█████▍    | 547/1000 [10:24<08:39,  1.15s/it]"
          ]
        },
        {
          "output_type": "stream",
          "name": "stdout",
          "text": [
            "Validation acc: 0.9297\n",
            "\n",
            "Start of epoch 547\n",
            "Training loss: 0.0001\n",
            "Training metric: 0.9734\n",
            "perturbation loss: 0.0015\n"
          ]
        },
        {
          "output_type": "stream",
          "name": "stderr",
          "text": [
            "\r 55%|█████▍    | 548/1000 [10:25<08:35,  1.14s/it]"
          ]
        },
        {
          "output_type": "stream",
          "name": "stdout",
          "text": [
            "Validation acc: 0.9375\n",
            "\n",
            "Start of epoch 548\n",
            "Training loss: 0.0000\n",
            "Training metric: 0.9735\n",
            "perturbation loss: 0.0001\n"
          ]
        },
        {
          "output_type": "stream",
          "name": "stderr",
          "text": [
            "\r 55%|█████▍    | 549/1000 [10:26<08:29,  1.13s/it]"
          ]
        },
        {
          "output_type": "stream",
          "name": "stdout",
          "text": [
            "Validation acc: 0.9453\n",
            "\n",
            "Start of epoch 549\n",
            "Training loss: 0.0001\n",
            "Training metric: 0.9735\n",
            "perturbation loss: 0.0000\n"
          ]
        },
        {
          "output_type": "stream",
          "name": "stderr",
          "text": [
            "\r 55%|█████▌    | 550/1000 [10:27<08:11,  1.09s/it]"
          ]
        },
        {
          "output_type": "stream",
          "name": "stdout",
          "text": [
            "Validation acc: 0.9531\n",
            "\n",
            "Start of epoch 550\n",
            "Training loss: 0.0000\n",
            "Training metric: 0.9736\n",
            "perturbation loss: 0.0002\n"
          ]
        },
        {
          "output_type": "stream",
          "name": "stderr",
          "text": [
            "\r 55%|█████▌    | 551/1000 [10:28<08:08,  1.09s/it]"
          ]
        },
        {
          "output_type": "stream",
          "name": "stdout",
          "text": [
            "Validation acc: 0.9531\n",
            "\n",
            "Start of epoch 551\n",
            "Training loss: 0.0000\n",
            "Training metric: 0.9736\n",
            "perturbation loss: 0.0001\n"
          ]
        },
        {
          "output_type": "stream",
          "name": "stderr",
          "text": [
            "\r 55%|█████▌    | 552/1000 [10:29<07:57,  1.07s/it]"
          ]
        },
        {
          "output_type": "stream",
          "name": "stdout",
          "text": [
            "Validation acc: 0.9453\n",
            "\n",
            "Start of epoch 552\n",
            "Training loss: 0.0003\n",
            "Training metric: 0.9737\n",
            "perturbation loss: 0.0005\n"
          ]
        },
        {
          "output_type": "stream",
          "name": "stderr",
          "text": [
            "\r 55%|█████▌    | 553/1000 [10:30<08:25,  1.13s/it]"
          ]
        },
        {
          "output_type": "stream",
          "name": "stdout",
          "text": [
            "Validation acc: 0.9531\n",
            "\n",
            "Start of epoch 553\n",
            "Training loss: 0.0000\n",
            "Training metric: 0.9737\n",
            "perturbation loss: 0.0001\n"
          ]
        },
        {
          "output_type": "stream",
          "name": "stderr",
          "text": [
            "\r 55%|█████▌    | 554/1000 [10:31<08:53,  1.20s/it]"
          ]
        },
        {
          "output_type": "stream",
          "name": "stdout",
          "text": [
            "Validation acc: 0.9453\n",
            "\n",
            "Start of epoch 554\n",
            "Training loss: 0.0000\n",
            "Training metric: 0.9738\n",
            "perturbation loss: 0.0001\n"
          ]
        },
        {
          "output_type": "stream",
          "name": "stderr",
          "text": [
            "\r 56%|█████▌    | 555/1000 [10:33<09:32,  1.29s/it]"
          ]
        },
        {
          "output_type": "stream",
          "name": "stdout",
          "text": [
            "Validation acc: 0.9531\n",
            "\n",
            "Start of epoch 555\n",
            "Training loss: 0.0000\n",
            "Training metric: 0.9738\n",
            "perturbation loss: 0.0002\n"
          ]
        },
        {
          "output_type": "stream",
          "name": "stderr",
          "text": [
            "\r 56%|█████▌    | 556/1000 [10:34<08:56,  1.21s/it]"
          ]
        },
        {
          "output_type": "stream",
          "name": "stdout",
          "text": [
            "Validation acc: 0.9531\n",
            "\n",
            "Start of epoch 556\n",
            "Training loss: 0.0002\n",
            "Training metric: 0.9739\n",
            "perturbation loss: 0.0029\n"
          ]
        },
        {
          "output_type": "stream",
          "name": "stderr",
          "text": [
            "\r 56%|█████▌    | 557/1000 [10:35<08:30,  1.15s/it]"
          ]
        },
        {
          "output_type": "stream",
          "name": "stdout",
          "text": [
            "Validation acc: 0.9531\n",
            "\n",
            "Start of epoch 557\n",
            "Training loss: 0.0000\n",
            "Training metric: 0.9739\n",
            "perturbation loss: 0.0004\n"
          ]
        },
        {
          "output_type": "stream",
          "name": "stderr",
          "text": [
            "\r 56%|█████▌    | 558/1000 [10:36<08:12,  1.11s/it]"
          ]
        },
        {
          "output_type": "stream",
          "name": "stdout",
          "text": [
            "Validation acc: 0.9375\n",
            "\n",
            "Start of epoch 558\n",
            "Training loss: 0.0000\n",
            "Training metric: 0.9740\n",
            "perturbation loss: 0.0001\n"
          ]
        },
        {
          "output_type": "stream",
          "name": "stderr",
          "text": [
            "\r 56%|█████▌    | 559/1000 [10:37<07:59,  1.09s/it]"
          ]
        },
        {
          "output_type": "stream",
          "name": "stdout",
          "text": [
            "Validation acc: 0.9141\n",
            "\n",
            "Start of epoch 559\n",
            "Training loss: 0.0000\n",
            "Training metric: 0.9740\n",
            "perturbation loss: 0.0007\n"
          ]
        },
        {
          "output_type": "stream",
          "name": "stderr",
          "text": [
            "\r 56%|█████▌    | 560/1000 [10:38<07:51,  1.07s/it]"
          ]
        },
        {
          "output_type": "stream",
          "name": "stdout",
          "text": [
            "Validation acc: 0.9297\n",
            "\n",
            "Start of epoch 560\n",
            "Training loss: 0.0000\n",
            "Training metric: 0.9741\n",
            "perturbation loss: 0.0001\n"
          ]
        },
        {
          "output_type": "stream",
          "name": "stderr",
          "text": [
            "\r 56%|█████▌    | 561/1000 [10:39<07:46,  1.06s/it]"
          ]
        },
        {
          "output_type": "stream",
          "name": "stdout",
          "text": [
            "Validation acc: 0.9531\n",
            "\n",
            "Start of epoch 561\n",
            "Training loss: 0.0000\n",
            "Training metric: 0.9741\n",
            "perturbation loss: 0.0001\n"
          ]
        },
        {
          "output_type": "stream",
          "name": "stderr",
          "text": [
            "\r 56%|█████▌    | 562/1000 [10:40<07:39,  1.05s/it]"
          ]
        },
        {
          "output_type": "stream",
          "name": "stdout",
          "text": [
            "Validation acc: 0.9375\n",
            "\n",
            "Start of epoch 562\n",
            "Training loss: 0.0000\n",
            "Training metric: 0.9741\n",
            "perturbation loss: 0.0000\n"
          ]
        },
        {
          "output_type": "stream",
          "name": "stderr",
          "text": [
            "\r 56%|█████▋    | 563/1000 [10:41<07:34,  1.04s/it]"
          ]
        },
        {
          "output_type": "stream",
          "name": "stdout",
          "text": [
            "Validation acc: 0.9531\n",
            "\n",
            "Start of epoch 563\n",
            "Training loss: 0.0000\n",
            "Training metric: 0.9742\n",
            "perturbation loss: 0.0000\n"
          ]
        },
        {
          "output_type": "stream",
          "name": "stderr",
          "text": [
            "\r 56%|█████▋    | 564/1000 [10:42<07:28,  1.03s/it]"
          ]
        },
        {
          "output_type": "stream",
          "name": "stdout",
          "text": [
            "Validation acc: 0.9609\n",
            "\n",
            "Start of epoch 564\n",
            "Training loss: 0.0014\n",
            "Training metric: 0.9742\n",
            "perturbation loss: 0.0018\n"
          ]
        },
        {
          "output_type": "stream",
          "name": "stderr",
          "text": [
            "\r 56%|█████▋    | 565/1000 [10:44<08:31,  1.18s/it]"
          ]
        },
        {
          "output_type": "stream",
          "name": "stdout",
          "text": [
            "Validation acc: 0.9531\n",
            "\n",
            "Start of epoch 565\n",
            "Training loss: 0.0567\n",
            "Training metric: 0.9743\n",
            "perturbation loss: 0.0415\n"
          ]
        },
        {
          "output_type": "stream",
          "name": "stderr",
          "text": [
            "\r 57%|█████▋    | 566/1000 [10:45<08:52,  1.23s/it]"
          ]
        },
        {
          "output_type": "stream",
          "name": "stdout",
          "text": [
            "Validation acc: 0.9375\n",
            "\n",
            "Start of epoch 566\n",
            "Training loss: 0.0001\n",
            "Training metric: 0.9743\n",
            "perturbation loss: 0.0005\n"
          ]
        },
        {
          "output_type": "stream",
          "name": "stderr",
          "text": [
            "\r 57%|█████▋    | 567/1000 [10:46<09:05,  1.26s/it]"
          ]
        },
        {
          "output_type": "stream",
          "name": "stdout",
          "text": [
            "Validation acc: 0.9141\n",
            "\n",
            "Start of epoch 567\n",
            "Training loss: 0.0007\n",
            "Training metric: 0.9744\n",
            "perturbation loss: 0.0006\n"
          ]
        },
        {
          "output_type": "stream",
          "name": "stderr",
          "text": [
            "\r 57%|█████▋    | 568/1000 [10:47<08:41,  1.21s/it]"
          ]
        },
        {
          "output_type": "stream",
          "name": "stdout",
          "text": [
            "Validation acc: 0.9688\n",
            "\n",
            "Start of epoch 568\n",
            "Training loss: 0.0014\n",
            "Training metric: 0.9744\n",
            "perturbation loss: 0.0100\n"
          ]
        },
        {
          "output_type": "stream",
          "name": "stderr",
          "text": [
            "\r 57%|█████▋    | 569/1000 [10:49<08:25,  1.17s/it]"
          ]
        },
        {
          "output_type": "stream",
          "name": "stdout",
          "text": [
            "Validation acc: 0.9141\n",
            "\n",
            "Start of epoch 569\n",
            "Training loss: 0.0264\n",
            "Training metric: 0.9744\n",
            "perturbation loss: 0.0024\n"
          ]
        },
        {
          "output_type": "stream",
          "name": "stderr",
          "text": [
            "\r 57%|█████▋    | 570/1000 [10:50<08:15,  1.15s/it]"
          ]
        },
        {
          "output_type": "stream",
          "name": "stdout",
          "text": [
            "Validation acc: 0.9297\n",
            "\n",
            "Start of epoch 570\n",
            "Training loss: 0.0036\n",
            "Training metric: 0.9745\n",
            "perturbation loss: 0.0030\n"
          ]
        },
        {
          "output_type": "stream",
          "name": "stderr",
          "text": [
            "\r 57%|█████▋    | 571/1000 [10:51<08:07,  1.14s/it]"
          ]
        },
        {
          "output_type": "stream",
          "name": "stdout",
          "text": [
            "Validation acc: 0.9219\n",
            "\n",
            "Start of epoch 571\n",
            "Training loss: 0.0001\n",
            "Training metric: 0.9745\n",
            "perturbation loss: 0.0004\n"
          ]
        },
        {
          "output_type": "stream",
          "name": "stderr",
          "text": [
            "\r 57%|█████▋    | 572/1000 [10:52<07:49,  1.10s/it]"
          ]
        },
        {
          "output_type": "stream",
          "name": "stdout",
          "text": [
            "Validation acc: 0.9453\n",
            "\n",
            "Start of epoch 572\n",
            "Training loss: 0.0000\n",
            "Training metric: 0.9746\n",
            "perturbation loss: 0.0002\n"
          ]
        },
        {
          "output_type": "stream",
          "name": "stderr",
          "text": [
            "\r 57%|█████▋    | 573/1000 [10:53<07:48,  1.10s/it]"
          ]
        },
        {
          "output_type": "stream",
          "name": "stdout",
          "text": [
            "Validation acc: 0.9375\n",
            "\n",
            "Start of epoch 573\n",
            "Training loss: 0.0000\n",
            "Training metric: 0.9746\n",
            "perturbation loss: 0.0003\n"
          ]
        },
        {
          "output_type": "stream",
          "name": "stderr",
          "text": [
            "\r 57%|█████▋    | 574/1000 [10:54<07:36,  1.07s/it]"
          ]
        },
        {
          "output_type": "stream",
          "name": "stdout",
          "text": [
            "Validation acc: 0.9453\n",
            "\n",
            "Start of epoch 574\n",
            "Training loss: 0.0000\n",
            "Training metric: 0.9747\n",
            "perturbation loss: 0.0001\n"
          ]
        },
        {
          "output_type": "stream",
          "name": "stderr",
          "text": [
            "\r 57%|█████▊    | 575/1000 [10:55<07:26,  1.05s/it]"
          ]
        },
        {
          "output_type": "stream",
          "name": "stdout",
          "text": [
            "Validation acc: 0.9453\n",
            "\n",
            "Start of epoch 575\n",
            "Training loss: 0.0002\n",
            "Training metric: 0.9747\n",
            "perturbation loss: 0.0002\n"
          ]
        },
        {
          "output_type": "stream",
          "name": "stderr",
          "text": [
            "\r 58%|█████▊    | 576/1000 [10:56<07:20,  1.04s/it]"
          ]
        },
        {
          "output_type": "stream",
          "name": "stdout",
          "text": [
            "Validation acc: 0.9453\n",
            "\n",
            "Start of epoch 576\n",
            "Training loss: 0.0000\n",
            "Training metric: 0.9748\n",
            "perturbation loss: 0.0000\n"
          ]
        },
        {
          "output_type": "stream",
          "name": "stderr",
          "text": [
            "\r 58%|█████▊    | 577/1000 [10:57<07:34,  1.08s/it]"
          ]
        },
        {
          "output_type": "stream",
          "name": "stdout",
          "text": [
            "Validation acc: 0.9453\n",
            "\n",
            "Start of epoch 577\n",
            "Training loss: 0.0000\n",
            "Training metric: 0.9748\n",
            "perturbation loss: 0.0000\n"
          ]
        },
        {
          "output_type": "stream",
          "name": "stderr",
          "text": [
            "\r 58%|█████▊    | 578/1000 [10:58<08:07,  1.15s/it]"
          ]
        },
        {
          "output_type": "stream",
          "name": "stdout",
          "text": [
            "Validation acc: 0.9531\n",
            "\n",
            "Start of epoch 578\n",
            "Training loss: 0.0005\n",
            "Training metric: 0.9748\n",
            "perturbation loss: 0.0124\n"
          ]
        },
        {
          "output_type": "stream",
          "name": "stderr",
          "text": [
            "\r 58%|█████▊    | 579/1000 [11:00<08:28,  1.21s/it]"
          ]
        },
        {
          "output_type": "stream",
          "name": "stdout",
          "text": [
            "Validation acc: 0.9453\n",
            "\n",
            "Start of epoch 579\n",
            "Training loss: 0.0001\n",
            "Training metric: 0.9749\n",
            "perturbation loss: 0.0010\n"
          ]
        },
        {
          "output_type": "stream",
          "name": "stderr",
          "text": [
            "\r 58%|█████▊    | 580/1000 [11:01<08:16,  1.18s/it]"
          ]
        },
        {
          "output_type": "stream",
          "name": "stdout",
          "text": [
            "Validation acc: 0.9453\n",
            "\n",
            "Start of epoch 580\n",
            "Training loss: 0.0000\n",
            "Training metric: 0.9749\n",
            "perturbation loss: 0.0001\n"
          ]
        },
        {
          "output_type": "stream",
          "name": "stderr",
          "text": [
            "\r 58%|█████▊    | 581/1000 [11:02<07:55,  1.13s/it]"
          ]
        },
        {
          "output_type": "stream",
          "name": "stdout",
          "text": [
            "Validation acc: 0.9297\n",
            "\n",
            "Start of epoch 581\n",
            "Training loss: 0.0000\n",
            "Training metric: 0.9750\n",
            "perturbation loss: 0.0001\n"
          ]
        },
        {
          "output_type": "stream",
          "name": "stderr",
          "text": [
            "\r 58%|█████▊    | 582/1000 [11:03<07:40,  1.10s/it]"
          ]
        },
        {
          "output_type": "stream",
          "name": "stdout",
          "text": [
            "Validation acc: 0.9453\n",
            "\n",
            "Start of epoch 582\n",
            "Training loss: 0.0000\n",
            "Training metric: 0.9750\n",
            "perturbation loss: 0.0000\n"
          ]
        },
        {
          "output_type": "stream",
          "name": "stderr",
          "text": [
            "\r 58%|█████▊    | 583/1000 [11:04<07:30,  1.08s/it]"
          ]
        },
        {
          "output_type": "stream",
          "name": "stdout",
          "text": [
            "Validation acc: 0.9453\n",
            "\n",
            "Start of epoch 583\n",
            "Training loss: 0.0000\n",
            "Training metric: 0.9751\n",
            "perturbation loss: 0.0001\n"
          ]
        },
        {
          "output_type": "stream",
          "name": "stderr",
          "text": [
            "\r 58%|█████▊    | 584/1000 [11:05<07:24,  1.07s/it]"
          ]
        },
        {
          "output_type": "stream",
          "name": "stdout",
          "text": [
            "Validation acc: 0.9453\n",
            "\n",
            "Start of epoch 584\n",
            "Training loss: 0.0000\n",
            "Training metric: 0.9751\n",
            "perturbation loss: 0.0001\n"
          ]
        },
        {
          "output_type": "stream",
          "name": "stderr",
          "text": [
            "\r 58%|█████▊    | 585/1000 [11:06<07:16,  1.05s/it]"
          ]
        },
        {
          "output_type": "stream",
          "name": "stdout",
          "text": [
            "Validation acc: 0.9453\n",
            "\n",
            "Start of epoch 585\n",
            "Training loss: 0.0000\n",
            "Training metric: 0.9751\n",
            "perturbation loss: 0.0000\n"
          ]
        },
        {
          "output_type": "stream",
          "name": "stderr",
          "text": [
            "\r 59%|█████▊    | 586/1000 [11:07<07:09,  1.04s/it]"
          ]
        },
        {
          "output_type": "stream",
          "name": "stdout",
          "text": [
            "Validation acc: 0.9531\n",
            "\n",
            "Start of epoch 586\n",
            "Training loss: 0.0000\n",
            "Training metric: 0.9752\n",
            "perturbation loss: 0.0000\n"
          ]
        },
        {
          "output_type": "stream",
          "name": "stderr",
          "text": [
            "\r 59%|█████▊    | 587/1000 [11:08<07:07,  1.04s/it]"
          ]
        },
        {
          "output_type": "stream",
          "name": "stdout",
          "text": [
            "Validation acc: 0.9531\n",
            "\n",
            "Start of epoch 587\n",
            "Training loss: 0.0000\n",
            "Training metric: 0.9752\n",
            "perturbation loss: 0.0000\n"
          ]
        },
        {
          "output_type": "stream",
          "name": "stderr",
          "text": [
            "\r 59%|█████▉    | 588/1000 [11:09<07:02,  1.03s/it]"
          ]
        },
        {
          "output_type": "stream",
          "name": "stdout",
          "text": [
            "Validation acc: 0.9531\n",
            "\n",
            "Start of epoch 588\n",
            "Training loss: 0.0003\n",
            "Training metric: 0.9753\n",
            "perturbation loss: 0.0009\n"
          ]
        },
        {
          "output_type": "stream",
          "name": "stderr",
          "text": [
            "\r 59%|█████▉    | 589/1000 [11:10<06:59,  1.02s/it]"
          ]
        },
        {
          "output_type": "stream",
          "name": "stdout",
          "text": [
            "Validation acc: 0.9062\n",
            "\n",
            "Start of epoch 589\n",
            "Training loss: 0.0015\n",
            "Training metric: 0.9753\n",
            "perturbation loss: 0.0030\n"
          ]
        },
        {
          "output_type": "stream",
          "name": "stderr",
          "text": [
            "\r 59%|█████▉    | 590/1000 [11:11<07:26,  1.09s/it]"
          ]
        },
        {
          "output_type": "stream",
          "name": "stdout",
          "text": [
            "Validation acc: 0.9297\n",
            "\n",
            "Start of epoch 590\n",
            "Training loss: 0.0001\n",
            "Training metric: 0.9753\n",
            "perturbation loss: 0.0015\n"
          ]
        },
        {
          "output_type": "stream",
          "name": "stderr",
          "text": [
            "\r 59%|█████▉    | 591/1000 [11:13<07:52,  1.16s/it]"
          ]
        },
        {
          "output_type": "stream",
          "name": "stdout",
          "text": [
            "Validation acc: 0.9453\n",
            "\n",
            "Start of epoch 591\n",
            "Training loss: 0.0000\n",
            "Training metric: 0.9754\n",
            "perturbation loss: 0.0001\n"
          ]
        },
        {
          "output_type": "stream",
          "name": "stderr",
          "text": [
            "\r 59%|█████▉    | 592/1000 [11:14<08:51,  1.30s/it]"
          ]
        },
        {
          "output_type": "stream",
          "name": "stdout",
          "text": [
            "Validation acc: 0.9609\n",
            "\n",
            "Start of epoch 592\n",
            "Training loss: 0.0007\n",
            "Training metric: 0.9754\n",
            "perturbation loss: 0.0157\n",
            "Validation acc: 0.9453\n"
          ]
        },
        {
          "output_type": "stream",
          "name": "stderr",
          "text": [
            "\r 59%|█████▉    | 593/1000 [11:15<08:42,  1.28s/it]"
          ]
        },
        {
          "output_type": "stream",
          "name": "stdout",
          "text": [
            "\n",
            "Start of epoch 593\n",
            "Training loss: 0.0000\n",
            "Training metric: 0.9755\n",
            "perturbation loss: 0.0000\n"
          ]
        },
        {
          "output_type": "stream",
          "name": "stderr",
          "text": [
            "\r 59%|█████▉    | 594/1000 [11:16<08:07,  1.20s/it]"
          ]
        },
        {
          "output_type": "stream",
          "name": "stdout",
          "text": [
            "Validation acc: 0.9453\n",
            "\n",
            "Start of epoch 594\n",
            "Training loss: 0.0000\n",
            "Training metric: 0.9755\n",
            "perturbation loss: 0.0001\n"
          ]
        },
        {
          "output_type": "stream",
          "name": "stderr",
          "text": [
            "\r 60%|█████▉    | 595/1000 [11:18<07:50,  1.16s/it]"
          ]
        },
        {
          "output_type": "stream",
          "name": "stdout",
          "text": [
            "Validation acc: 0.9531\n",
            "\n",
            "Start of epoch 595\n",
            "Training loss: 0.0001\n",
            "Training metric: 0.9755\n",
            "perturbation loss: 0.0002\n"
          ]
        },
        {
          "output_type": "stream",
          "name": "stderr",
          "text": [
            "\r 60%|█████▉    | 596/1000 [11:19<07:39,  1.14s/it]"
          ]
        },
        {
          "output_type": "stream",
          "name": "stdout",
          "text": [
            "Validation acc: 0.9453\n",
            "\n",
            "Start of epoch 596\n",
            "Training loss: 0.0018\n",
            "Training metric: 0.9756\n",
            "perturbation loss: 0.0232\n"
          ]
        },
        {
          "output_type": "stream",
          "name": "stderr",
          "text": [
            "\r 60%|█████▉    | 597/1000 [11:20<07:32,  1.12s/it]"
          ]
        },
        {
          "output_type": "stream",
          "name": "stdout",
          "text": [
            "Validation acc: 0.9375\n",
            "\n",
            "Start of epoch 597\n",
            "Training loss: 0.0003\n",
            "Training metric: 0.9756\n",
            "perturbation loss: 0.0025\n"
          ]
        },
        {
          "output_type": "stream",
          "name": "stderr",
          "text": [
            "\r 60%|█████▉    | 598/1000 [11:21<07:29,  1.12s/it]"
          ]
        },
        {
          "output_type": "stream",
          "name": "stdout",
          "text": [
            "Validation acc: 0.9453\n",
            "\n",
            "Start of epoch 598\n",
            "Training loss: 0.0001\n",
            "Training metric: 0.9757\n",
            "perturbation loss: 0.0006\n"
          ]
        },
        {
          "output_type": "stream",
          "name": "stderr",
          "text": [
            "\r 60%|█████▉    | 599/1000 [11:22<07:26,  1.11s/it]"
          ]
        },
        {
          "output_type": "stream",
          "name": "stdout",
          "text": [
            "Validation acc: 0.9453\n",
            "\n",
            "Start of epoch 599\n",
            "Training loss: 0.0004\n",
            "Training metric: 0.9757\n",
            "perturbation loss: 0.0029\n"
          ]
        },
        {
          "output_type": "stream",
          "name": "stderr",
          "text": [
            "\r 60%|██████    | 600/1000 [11:23<07:29,  1.12s/it]"
          ]
        },
        {
          "output_type": "stream",
          "name": "stdout",
          "text": [
            "Validation acc: 0.9375\n",
            "\n",
            "Start of epoch 600\n",
            "Training loss: 0.0001\n",
            "Training metric: 0.9757\n",
            "perturbation loss: 0.0013\n"
          ]
        },
        {
          "output_type": "stream",
          "name": "stderr",
          "text": [
            "\r 60%|██████    | 601/1000 [11:25<08:06,  1.22s/it]"
          ]
        },
        {
          "output_type": "stream",
          "name": "stdout",
          "text": [
            "Validation acc: 0.9453\n",
            "\n",
            "Start of epoch 601\n",
            "Training loss: 0.0000\n",
            "Training metric: 0.9758\n",
            "perturbation loss: 0.0000\n"
          ]
        },
        {
          "output_type": "stream",
          "name": "stderr",
          "text": [
            "\r 60%|██████    | 602/1000 [11:26<08:17,  1.25s/it]"
          ]
        },
        {
          "output_type": "stream",
          "name": "stdout",
          "text": [
            "Validation acc: 0.9453\n",
            "\n",
            "Start of epoch 602\n",
            "Training loss: 0.0000\n",
            "Training metric: 0.9758\n",
            "perturbation loss: 0.0002\n"
          ]
        },
        {
          "output_type": "stream",
          "name": "stderr",
          "text": [
            "\r 60%|██████    | 603/1000 [11:27<09:02,  1.37s/it]"
          ]
        },
        {
          "output_type": "stream",
          "name": "stdout",
          "text": [
            "Validation acc: 0.9531\n",
            "\n",
            "Start of epoch 603\n",
            "Training loss: 0.0000\n",
            "Training metric: 0.9759\n",
            "perturbation loss: 0.0000\n"
          ]
        },
        {
          "output_type": "stream",
          "name": "stderr",
          "text": [
            "\r 60%|██████    | 604/1000 [11:28<08:19,  1.26s/it]"
          ]
        },
        {
          "output_type": "stream",
          "name": "stdout",
          "text": [
            "Validation acc: 0.9453\n",
            "\n",
            "Start of epoch 604\n",
            "Training loss: 0.0000\n",
            "Training metric: 0.9759\n",
            "perturbation loss: 0.0001\n"
          ]
        },
        {
          "output_type": "stream",
          "name": "stderr",
          "text": [
            "\r 60%|██████    | 605/1000 [11:29<07:46,  1.18s/it]"
          ]
        },
        {
          "output_type": "stream",
          "name": "stdout",
          "text": [
            "Validation acc: 0.9375\n",
            "\n",
            "Start of epoch 605\n",
            "Training loss: 0.0000\n",
            "Training metric: 0.9759\n",
            "perturbation loss: 0.0007\n"
          ]
        },
        {
          "output_type": "stream",
          "name": "stderr",
          "text": [
            "\r 61%|██████    | 606/1000 [11:31<07:35,  1.16s/it]"
          ]
        },
        {
          "output_type": "stream",
          "name": "stdout",
          "text": [
            "Validation acc: 0.9375\n",
            "\n",
            "Start of epoch 606\n",
            "Training loss: 0.0002\n",
            "Training metric: 0.9760\n",
            "perturbation loss: 0.0023\n"
          ]
        },
        {
          "output_type": "stream",
          "name": "stderr",
          "text": [
            "\r 61%|██████    | 607/1000 [11:32<07:24,  1.13s/it]"
          ]
        },
        {
          "output_type": "stream",
          "name": "stdout",
          "text": [
            "Validation acc: 0.9219\n",
            "\n",
            "Start of epoch 607\n",
            "Training loss: 0.0001\n",
            "Training metric: 0.9760\n",
            "perturbation loss: 0.0032\n"
          ]
        },
        {
          "output_type": "stream",
          "name": "stderr",
          "text": [
            "\r 61%|██████    | 608/1000 [11:33<07:06,  1.09s/it]"
          ]
        },
        {
          "output_type": "stream",
          "name": "stdout",
          "text": [
            "Validation acc: 0.9297\n",
            "\n",
            "Start of epoch 608\n",
            "Training loss: 0.0005\n",
            "Training metric: 0.9761\n",
            "perturbation loss: 0.0011\n"
          ]
        },
        {
          "output_type": "stream",
          "name": "stderr",
          "text": [
            "\r 61%|██████    | 609/1000 [11:34<06:58,  1.07s/it]"
          ]
        },
        {
          "output_type": "stream",
          "name": "stdout",
          "text": [
            "Validation acc: 0.8281\n",
            "\n",
            "Start of epoch 609\n",
            "Training loss: 0.0129\n",
            "Training metric: 0.9761\n",
            "perturbation loss: 0.0895\n"
          ]
        },
        {
          "output_type": "stream",
          "name": "stderr",
          "text": [
            "\r 61%|██████    | 610/1000 [11:35<06:50,  1.05s/it]"
          ]
        },
        {
          "output_type": "stream",
          "name": "stdout",
          "text": [
            "Validation acc: 0.8984\n",
            "\n",
            "Start of epoch 610\n",
            "Training loss: 0.0003\n",
            "Training metric: 0.9761\n",
            "perturbation loss: 0.0003\n"
          ]
        },
        {
          "output_type": "stream",
          "name": "stderr",
          "text": [
            "\r 61%|██████    | 611/1000 [11:36<06:47,  1.05s/it]"
          ]
        },
        {
          "output_type": "stream",
          "name": "stdout",
          "text": [
            "Validation acc: 0.9297\n",
            "\n",
            "Start of epoch 611\n",
            "Training loss: 0.0001\n",
            "Training metric: 0.9762\n",
            "perturbation loss: 0.0001\n"
          ]
        },
        {
          "output_type": "stream",
          "name": "stderr",
          "text": [
            "\r 61%|██████    | 612/1000 [11:37<06:41,  1.04s/it]"
          ]
        },
        {
          "output_type": "stream",
          "name": "stdout",
          "text": [
            "Validation acc: 0.9297\n",
            "\n",
            "Start of epoch 612\n",
            "Training loss: 0.0000\n",
            "Training metric: 0.9762\n",
            "perturbation loss: 0.0001\n"
          ]
        },
        {
          "output_type": "stream",
          "name": "stderr",
          "text": [
            "\r 61%|██████▏   | 613/1000 [11:38<06:53,  1.07s/it]"
          ]
        },
        {
          "output_type": "stream",
          "name": "stdout",
          "text": [
            "Validation acc: 0.9219\n",
            "\n",
            "Start of epoch 613\n",
            "Training loss: 0.0000\n",
            "Training metric: 0.9762\n",
            "perturbation loss: 0.0002\n"
          ]
        },
        {
          "output_type": "stream",
          "name": "stderr",
          "text": [
            "\r 61%|██████▏   | 614/1000 [11:39<07:57,  1.24s/it]"
          ]
        },
        {
          "output_type": "stream",
          "name": "stdout",
          "text": [
            "Validation acc: 0.9297\n",
            "\n",
            "Start of epoch 614\n",
            "Training loss: 0.0001\n",
            "Training metric: 0.9763\n",
            "perturbation loss: 0.0009\n"
          ]
        },
        {
          "output_type": "stream",
          "name": "stderr",
          "text": [
            "\r 62%|██████▏   | 615/1000 [11:41<08:30,  1.33s/it]"
          ]
        },
        {
          "output_type": "stream",
          "name": "stdout",
          "text": [
            "Validation acc: 0.9375\n",
            "\n",
            "Start of epoch 615\n",
            "Training loss: 0.0001\n",
            "Training metric: 0.9763\n",
            "perturbation loss: 0.0020\n"
          ]
        },
        {
          "output_type": "stream",
          "name": "stderr",
          "text": [
            "\r 62%|██████▏   | 616/1000 [11:42<07:56,  1.24s/it]"
          ]
        },
        {
          "output_type": "stream",
          "name": "stdout",
          "text": [
            "Validation acc: 0.9375\n",
            "\n",
            "Start of epoch 616\n",
            "Training loss: 0.0001\n",
            "Training metric: 0.9764\n",
            "perturbation loss: 0.0028\n"
          ]
        },
        {
          "output_type": "stream",
          "name": "stderr",
          "text": [
            "\r 62%|██████▏   | 617/1000 [11:43<07:26,  1.17s/it]"
          ]
        },
        {
          "output_type": "stream",
          "name": "stdout",
          "text": [
            "Validation acc: 0.9219\n",
            "\n",
            "Start of epoch 617\n",
            "Training loss: 0.0000\n",
            "Training metric: 0.9764\n",
            "perturbation loss: 0.0001\n"
          ]
        },
        {
          "output_type": "stream",
          "name": "stderr",
          "text": [
            "\r 62%|██████▏   | 618/1000 [11:44<07:06,  1.12s/it]"
          ]
        },
        {
          "output_type": "stream",
          "name": "stdout",
          "text": [
            "Validation acc: 0.9375\n",
            "\n",
            "Start of epoch 618\n",
            "Training loss: 0.0000\n",
            "Training metric: 0.9764\n",
            "perturbation loss: 0.0002\n"
          ]
        },
        {
          "output_type": "stream",
          "name": "stderr",
          "text": [
            "\r 62%|██████▏   | 619/1000 [11:45<06:49,  1.08s/it]"
          ]
        },
        {
          "output_type": "stream",
          "name": "stdout",
          "text": [
            "Validation acc: 0.9297\n",
            "\n",
            "Start of epoch 619\n",
            "Training loss: 0.0000\n",
            "Training metric: 0.9765\n",
            "perturbation loss: 0.0000\n"
          ]
        },
        {
          "output_type": "stream",
          "name": "stderr",
          "text": [
            "\r 62%|██████▏   | 620/1000 [11:46<06:49,  1.08s/it]"
          ]
        },
        {
          "output_type": "stream",
          "name": "stdout",
          "text": [
            "Validation acc: 0.9297\n",
            "\n",
            "Start of epoch 620\n",
            "Training loss: 0.0000\n",
            "Training metric: 0.9765\n",
            "perturbation loss: 0.0001\n"
          ]
        },
        {
          "output_type": "stream",
          "name": "stderr",
          "text": [
            "\r 62%|██████▏   | 621/1000 [11:47<06:48,  1.08s/it]"
          ]
        },
        {
          "output_type": "stream",
          "name": "stdout",
          "text": [
            "Validation acc: 0.9297\n",
            "\n",
            "Start of epoch 621\n",
            "Training loss: 0.0000\n",
            "Training metric: 0.9766\n",
            "perturbation loss: 0.0003\n"
          ]
        },
        {
          "output_type": "stream",
          "name": "stderr",
          "text": [
            "\r 62%|██████▏   | 622/1000 [11:48<06:40,  1.06s/it]"
          ]
        },
        {
          "output_type": "stream",
          "name": "stdout",
          "text": [
            "Validation acc: 0.9297\n",
            "\n",
            "Start of epoch 622\n",
            "Training loss: 0.0001\n",
            "Training metric: 0.9766\n",
            "perturbation loss: 0.0002\n"
          ]
        },
        {
          "output_type": "stream",
          "name": "stderr",
          "text": [
            "\r 62%|██████▏   | 623/1000 [11:49<06:31,  1.04s/it]"
          ]
        },
        {
          "output_type": "stream",
          "name": "stdout",
          "text": [
            "Validation acc: 0.9219\n",
            "\n",
            "Start of epoch 623\n",
            "Training loss: 0.0000\n",
            "Training metric: 0.9766\n",
            "perturbation loss: 0.0004\n"
          ]
        },
        {
          "output_type": "stream",
          "name": "stderr",
          "text": [
            "\r 62%|██████▏   | 624/1000 [11:50<06:25,  1.02s/it]"
          ]
        },
        {
          "output_type": "stream",
          "name": "stdout",
          "text": [
            "Validation acc: 0.9219\n",
            "\n",
            "Start of epoch 624\n",
            "Training loss: 0.0001\n",
            "Training metric: 0.9767\n",
            "perturbation loss: 0.0024\n"
          ]
        },
        {
          "output_type": "stream",
          "name": "stderr",
          "text": [
            "\r 62%|██████▎   | 625/1000 [11:51<06:41,  1.07s/it]"
          ]
        },
        {
          "output_type": "stream",
          "name": "stdout",
          "text": [
            "Validation acc: 0.9375\n",
            "\n",
            "Start of epoch 625\n",
            "Training loss: 0.0011\n",
            "Training metric: 0.9767\n",
            "perturbation loss: 0.0079\n"
          ]
        },
        {
          "output_type": "stream",
          "name": "stderr",
          "text": [
            "\r 63%|██████▎   | 626/1000 [11:53<07:13,  1.16s/it]"
          ]
        },
        {
          "output_type": "stream",
          "name": "stdout",
          "text": [
            "Validation acc: 0.8906\n",
            "\n",
            "Start of epoch 626\n",
            "Training loss: 0.0002\n",
            "Training metric: 0.9767\n",
            "perturbation loss: 0.0025\n"
          ]
        },
        {
          "output_type": "stream",
          "name": "stderr",
          "text": [
            "\r 63%|██████▎   | 627/1000 [11:54<07:36,  1.22s/it]"
          ]
        },
        {
          "output_type": "stream",
          "name": "stdout",
          "text": [
            "Validation acc: 0.8750\n",
            "\n",
            "Start of epoch 627\n",
            "Training loss: 0.0000\n",
            "Training metric: 0.9768\n",
            "perturbation loss: 0.0005\n"
          ]
        },
        {
          "output_type": "stream",
          "name": "stderr",
          "text": [
            "\r 63%|██████▎   | 628/1000 [11:55<07:26,  1.20s/it]"
          ]
        },
        {
          "output_type": "stream",
          "name": "stdout",
          "text": [
            "Validation acc: 0.9141\n",
            "\n",
            "Start of epoch 628\n",
            "Training loss: 0.0001\n",
            "Training metric: 0.9768\n",
            "perturbation loss: 0.0001\n"
          ]
        },
        {
          "output_type": "stream",
          "name": "stderr",
          "text": [
            "\r 63%|██████▎   | 629/1000 [11:56<07:03,  1.14s/it]"
          ]
        },
        {
          "output_type": "stream",
          "name": "stdout",
          "text": [
            "Validation acc: 0.9297\n",
            "\n",
            "Start of epoch 629\n",
            "Training loss: 0.0000\n",
            "Training metric: 0.9768\n",
            "perturbation loss: 0.0000\n"
          ]
        },
        {
          "output_type": "stream",
          "name": "stderr",
          "text": [
            "\r 63%|██████▎   | 630/1000 [11:57<06:45,  1.10s/it]"
          ]
        },
        {
          "output_type": "stream",
          "name": "stdout",
          "text": [
            "Validation acc: 0.9375\n",
            "\n",
            "Start of epoch 630\n",
            "Training loss: 0.0047\n",
            "Training metric: 0.9769\n",
            "perturbation loss: 0.0073\n"
          ]
        },
        {
          "output_type": "stream",
          "name": "stderr",
          "text": [
            "\r 63%|██████▎   | 631/1000 [11:58<06:33,  1.07s/it]"
          ]
        },
        {
          "output_type": "stream",
          "name": "stdout",
          "text": [
            "Validation acc: 0.9375\n",
            "\n",
            "Start of epoch 631\n",
            "Training loss: 0.0000\n",
            "Training metric: 0.9769\n",
            "perturbation loss: 0.0001\n"
          ]
        },
        {
          "output_type": "stream",
          "name": "stderr",
          "text": [
            "\r 63%|██████▎   | 632/1000 [11:59<06:33,  1.07s/it]"
          ]
        },
        {
          "output_type": "stream",
          "name": "stdout",
          "text": [
            "Validation acc: 0.9375\n",
            "\n",
            "Start of epoch 632\n",
            "Training loss: 0.0000\n",
            "Training metric: 0.9769\n",
            "perturbation loss: 0.0000\n"
          ]
        },
        {
          "output_type": "stream",
          "name": "stderr",
          "text": [
            "\r 63%|██████▎   | 633/1000 [12:00<06:35,  1.08s/it]"
          ]
        },
        {
          "output_type": "stream",
          "name": "stdout",
          "text": [
            "Validation acc: 0.9297\n",
            "\n",
            "Start of epoch 633\n",
            "Training loss: 0.0000\n",
            "Training metric: 0.9770\n",
            "perturbation loss: 0.0002\n"
          ]
        },
        {
          "output_type": "stream",
          "name": "stderr",
          "text": [
            "\r 63%|██████▎   | 634/1000 [12:01<06:30,  1.07s/it]"
          ]
        },
        {
          "output_type": "stream",
          "name": "stdout",
          "text": [
            "Validation acc: 0.9453\n",
            "\n",
            "Start of epoch 634\n",
            "Training loss: 0.0000\n",
            "Training metric: 0.9770\n",
            "perturbation loss: 0.0003\n"
          ]
        },
        {
          "output_type": "stream",
          "name": "stderr",
          "text": [
            "\r 64%|██████▎   | 635/1000 [12:02<06:22,  1.05s/it]"
          ]
        },
        {
          "output_type": "stream",
          "name": "stdout",
          "text": [
            "Validation acc: 0.9219\n",
            "\n",
            "Start of epoch 635\n",
            "Training loss: 0.0000\n",
            "Training metric: 0.9770\n",
            "perturbation loss: 0.0001\n"
          ]
        },
        {
          "output_type": "stream",
          "name": "stderr",
          "text": [
            "\r 64%|██████▎   | 636/1000 [12:03<06:14,  1.03s/it]"
          ]
        },
        {
          "output_type": "stream",
          "name": "stdout",
          "text": [
            "Validation acc: 0.9453\n",
            "\n",
            "Start of epoch 636\n",
            "Training loss: 0.0000\n",
            "Training metric: 0.9771\n",
            "perturbation loss: 0.0000\n"
          ]
        },
        {
          "output_type": "stream",
          "name": "stderr",
          "text": [
            "\r 64%|██████▎   | 637/1000 [12:04<06:08,  1.01s/it]"
          ]
        },
        {
          "output_type": "stream",
          "name": "stdout",
          "text": [
            "Validation acc: 0.9531\n",
            "\n",
            "Start of epoch 637\n",
            "Training loss: 0.0000\n",
            "Training metric: 0.9771\n",
            "perturbation loss: 0.0002\n"
          ]
        },
        {
          "output_type": "stream",
          "name": "stderr",
          "text": [
            "\r 64%|██████▍   | 638/1000 [12:06<06:35,  1.09s/it]"
          ]
        },
        {
          "output_type": "stream",
          "name": "stdout",
          "text": [
            "Validation acc: 0.9531\n",
            "\n",
            "Start of epoch 638\n",
            "Training loss: 0.0000\n",
            "Training metric: 0.9772\n",
            "perturbation loss: 0.0001\n"
          ]
        },
        {
          "output_type": "stream",
          "name": "stderr",
          "text": [
            "\r 64%|██████▍   | 639/1000 [12:07<06:58,  1.16s/it]"
          ]
        },
        {
          "output_type": "stream",
          "name": "stdout",
          "text": [
            "Validation acc: 0.9531\n",
            "\n",
            "Start of epoch 639\n",
            "Training loss: 0.0000\n",
            "Training metric: 0.9772\n",
            "perturbation loss: 0.0002\n"
          ]
        },
        {
          "output_type": "stream",
          "name": "stderr",
          "text": [
            "\r 64%|██████▍   | 640/1000 [12:09<07:53,  1.31s/it]"
          ]
        },
        {
          "output_type": "stream",
          "name": "stdout",
          "text": [
            "Validation acc: 0.9375\n",
            "\n",
            "Start of epoch 640\n",
            "Training loss: 0.0000\n",
            "Training metric: 0.9772\n",
            "perturbation loss: 0.0000\n"
          ]
        },
        {
          "output_type": "stream",
          "name": "stderr",
          "text": [
            "\r 64%|██████▍   | 641/1000 [12:10<07:16,  1.22s/it]"
          ]
        },
        {
          "output_type": "stream",
          "name": "stdout",
          "text": [
            "Validation acc: 0.9531\n",
            "\n",
            "Start of epoch 641\n",
            "Training loss: 0.0000\n",
            "Training metric: 0.9773\n",
            "perturbation loss: 0.0001\n"
          ]
        },
        {
          "output_type": "stream",
          "name": "stderr",
          "text": [
            "\r 64%|██████▍   | 642/1000 [12:11<07:00,  1.17s/it]"
          ]
        },
        {
          "output_type": "stream",
          "name": "stdout",
          "text": [
            "Validation acc: 0.9531\n",
            "\n",
            "Start of epoch 642\n",
            "Training loss: 0.0000\n",
            "Training metric: 0.9773\n",
            "perturbation loss: 0.0000\n"
          ]
        },
        {
          "output_type": "stream",
          "name": "stderr",
          "text": [
            "\r 64%|██████▍   | 643/1000 [12:12<06:43,  1.13s/it]"
          ]
        },
        {
          "output_type": "stream",
          "name": "stdout",
          "text": [
            "Validation acc: 0.9609\n",
            "\n",
            "Start of epoch 643\n",
            "Training loss: 0.0001\n",
            "Training metric: 0.9773\n",
            "perturbation loss: 0.0001\n"
          ]
        },
        {
          "output_type": "stream",
          "name": "stderr",
          "text": [
            "\r 64%|██████▍   | 644/1000 [12:13<06:31,  1.10s/it]"
          ]
        },
        {
          "output_type": "stream",
          "name": "stdout",
          "text": [
            "Validation acc: 0.9531\n",
            "\n",
            "Start of epoch 644\n",
            "Training loss: 0.0000\n",
            "Training metric: 0.9774\n",
            "perturbation loss: 0.0000\n"
          ]
        },
        {
          "output_type": "stream",
          "name": "stderr",
          "text": [
            "\r 64%|██████▍   | 645/1000 [12:14<06:20,  1.07s/it]"
          ]
        },
        {
          "output_type": "stream",
          "name": "stdout",
          "text": [
            "Validation acc: 0.9688\n",
            "\n",
            "Start of epoch 645\n",
            "Training loss: 0.0000\n",
            "Training metric: 0.9774\n",
            "perturbation loss: 0.0001\n"
          ]
        },
        {
          "output_type": "stream",
          "name": "stderr",
          "text": [
            "\r 65%|██████▍   | 646/1000 [12:15<06:13,  1.05s/it]"
          ]
        },
        {
          "output_type": "stream",
          "name": "stdout",
          "text": [
            "Validation acc: 0.9453\n",
            "\n",
            "Start of epoch 646\n",
            "Training loss: 0.0000\n",
            "Training metric: 0.9774\n",
            "perturbation loss: 0.0000\n"
          ]
        },
        {
          "output_type": "stream",
          "name": "stderr",
          "text": [
            "\r 65%|██████▍   | 647/1000 [12:16<06:05,  1.03s/it]"
          ]
        },
        {
          "output_type": "stream",
          "name": "stdout",
          "text": [
            "Validation acc: 0.9453\n",
            "\n",
            "Start of epoch 647\n",
            "Training loss: 0.0000\n",
            "Training metric: 0.9775\n",
            "perturbation loss: 0.0001\n"
          ]
        },
        {
          "output_type": "stream",
          "name": "stderr",
          "text": [
            "\r 65%|██████▍   | 648/1000 [12:17<06:04,  1.04s/it]"
          ]
        },
        {
          "output_type": "stream",
          "name": "stdout",
          "text": [
            "Validation acc: 0.9531\n",
            "\n",
            "Start of epoch 648\n",
            "Training loss: 0.0000\n",
            "Training metric: 0.9775\n",
            "perturbation loss: 0.0000\n"
          ]
        },
        {
          "output_type": "stream",
          "name": "stderr",
          "text": [
            "\r 65%|██████▍   | 649/1000 [12:18<06:08,  1.05s/it]"
          ]
        },
        {
          "output_type": "stream",
          "name": "stdout",
          "text": [
            "Validation acc: 0.9688\n",
            "\n",
            "Start of epoch 649\n",
            "Training loss: 0.0000\n",
            "Training metric: 0.9775\n",
            "perturbation loss: 0.0000\n"
          ]
        },
        {
          "output_type": "stream",
          "name": "stderr",
          "text": [
            "\r 65%|██████▌   | 650/1000 [12:20<07:04,  1.21s/it]"
          ]
        },
        {
          "output_type": "stream",
          "name": "stdout",
          "text": [
            "Validation acc: 0.9609\n",
            "\n",
            "Start of epoch 650\n",
            "Training loss: 0.0000\n",
            "Training metric: 0.9776\n",
            "perturbation loss: 0.0000\n"
          ]
        },
        {
          "output_type": "stream",
          "name": "stderr",
          "text": [
            "\r 65%|██████▌   | 651/1000 [12:21<07:59,  1.37s/it]"
          ]
        },
        {
          "output_type": "stream",
          "name": "stdout",
          "text": [
            "Validation acc: 0.9609\n",
            "\n",
            "Start of epoch 651\n",
            "Training loss: 0.0000\n",
            "Training metric: 0.9776\n",
            "perturbation loss: 0.0000\n"
          ]
        },
        {
          "output_type": "stream",
          "name": "stderr",
          "text": [
            "\r 65%|██████▌   | 652/1000 [12:23<07:52,  1.36s/it]"
          ]
        },
        {
          "output_type": "stream",
          "name": "stdout",
          "text": [
            "Validation acc: 0.9531\n",
            "\n",
            "Start of epoch 652\n",
            "Training loss: 0.0000\n",
            "Training metric: 0.9776\n",
            "perturbation loss: 0.0001\n"
          ]
        },
        {
          "output_type": "stream",
          "name": "stderr",
          "text": [
            "\r 65%|██████▌   | 653/1000 [12:24<07:20,  1.27s/it]"
          ]
        },
        {
          "output_type": "stream",
          "name": "stdout",
          "text": [
            "Validation acc: 0.9531\n",
            "\n",
            "Start of epoch 653\n",
            "Training loss: 0.0000\n",
            "Training metric: 0.9777\n",
            "perturbation loss: 0.0000\n"
          ]
        },
        {
          "output_type": "stream",
          "name": "stderr",
          "text": [
            "\r 65%|██████▌   | 654/1000 [12:25<06:52,  1.19s/it]"
          ]
        },
        {
          "output_type": "stream",
          "name": "stdout",
          "text": [
            "Validation acc: 0.9609\n",
            "\n",
            "Start of epoch 654\n",
            "Training loss: 0.0000\n",
            "Training metric: 0.9777\n",
            "perturbation loss: 0.0000\n"
          ]
        },
        {
          "output_type": "stream",
          "name": "stderr",
          "text": [
            "\r 66%|██████▌   | 655/1000 [12:26<06:31,  1.14s/it]"
          ]
        },
        {
          "output_type": "stream",
          "name": "stdout",
          "text": [
            "Validation acc: 0.9453\n",
            "\n",
            "Start of epoch 655\n",
            "Training loss: 0.0000\n",
            "Training metric: 0.9777\n",
            "perturbation loss: 0.0001\n"
          ]
        },
        {
          "output_type": "stream",
          "name": "stderr",
          "text": [
            "\r 66%|██████▌   | 656/1000 [12:27<06:18,  1.10s/it]"
          ]
        },
        {
          "output_type": "stream",
          "name": "stdout",
          "text": [
            "Validation acc: 0.9297\n",
            "\n",
            "Start of epoch 656\n",
            "Training loss: 0.0000\n",
            "Training metric: 0.9778\n",
            "perturbation loss: 0.0002\n"
          ]
        },
        {
          "output_type": "stream",
          "name": "stderr",
          "text": [
            "\r 66%|██████▌   | 657/1000 [12:28<06:07,  1.07s/it]"
          ]
        },
        {
          "output_type": "stream",
          "name": "stdout",
          "text": [
            "Validation acc: 0.9375\n",
            "\n",
            "Start of epoch 657\n",
            "Training loss: 0.0000\n",
            "Training metric: 0.9778\n",
            "perturbation loss: 0.0001\n"
          ]
        },
        {
          "output_type": "stream",
          "name": "stderr",
          "text": [
            "\r 66%|██████▌   | 658/1000 [12:29<06:00,  1.05s/it]"
          ]
        },
        {
          "output_type": "stream",
          "name": "stdout",
          "text": [
            "Validation acc: 0.9297\n",
            "\n",
            "Start of epoch 658\n",
            "Training loss: 0.0001\n",
            "Training metric: 0.9778\n",
            "perturbation loss: 0.0012\n"
          ]
        },
        {
          "output_type": "stream",
          "name": "stderr",
          "text": [
            "\r 66%|██████▌   | 659/1000 [12:30<06:05,  1.07s/it]"
          ]
        },
        {
          "output_type": "stream",
          "name": "stdout",
          "text": [
            "Validation acc: 0.9453\n",
            "\n",
            "Start of epoch 659\n",
            "Training loss: 0.0000\n",
            "Training metric: 0.9779\n",
            "perturbation loss: 0.0000\n"
          ]
        },
        {
          "output_type": "stream",
          "name": "stderr",
          "text": [
            "\r 66%|██████▌   | 660/1000 [12:31<05:58,  1.05s/it]"
          ]
        },
        {
          "output_type": "stream",
          "name": "stdout",
          "text": [
            "Validation acc: 0.9531\n",
            "\n",
            "Start of epoch 660\n",
            "Training loss: 0.0000\n",
            "Training metric: 0.9779\n",
            "perturbation loss: 0.0002\n"
          ]
        },
        {
          "output_type": "stream",
          "name": "stderr",
          "text": [
            "\r 66%|██████▌   | 661/1000 [12:32<05:56,  1.05s/it]"
          ]
        },
        {
          "output_type": "stream",
          "name": "stdout",
          "text": [
            "Validation acc: 0.9375\n",
            "\n",
            "Start of epoch 661\n",
            "Training loss: 0.0000\n",
            "Training metric: 0.9779\n",
            "perturbation loss: 0.0004\n"
          ]
        },
        {
          "output_type": "stream",
          "name": "stderr",
          "text": [
            "\r 66%|██████▌   | 662/1000 [12:33<06:17,  1.12s/it]"
          ]
        },
        {
          "output_type": "stream",
          "name": "stdout",
          "text": [
            "Validation acc: 0.9141\n",
            "\n",
            "Start of epoch 662\n",
            "Training loss: 0.0002\n",
            "Training metric: 0.9780\n",
            "perturbation loss: 0.0053\n"
          ]
        },
        {
          "output_type": "stream",
          "name": "stderr",
          "text": [
            "\r 66%|██████▋   | 663/1000 [12:35<06:40,  1.19s/it]"
          ]
        },
        {
          "output_type": "stream",
          "name": "stdout",
          "text": [
            "Validation acc: 0.8750\n",
            "\n",
            "Start of epoch 663\n",
            "Training loss: 0.0002\n",
            "Training metric: 0.9780\n",
            "perturbation loss: 0.0004\n"
          ]
        },
        {
          "output_type": "stream",
          "name": "stderr",
          "text": [
            "\r 66%|██████▋   | 664/1000 [12:36<06:53,  1.23s/it]"
          ]
        },
        {
          "output_type": "stream",
          "name": "stdout",
          "text": [
            "Validation acc: 0.9531\n",
            "\n",
            "Start of epoch 664\n",
            "Training loss: 0.0001\n",
            "Training metric: 0.9780\n",
            "perturbation loss: 0.0012\n"
          ]
        },
        {
          "output_type": "stream",
          "name": "stderr",
          "text": [
            "\r 66%|██████▋   | 665/1000 [12:37<06:29,  1.16s/it]"
          ]
        },
        {
          "output_type": "stream",
          "name": "stdout",
          "text": [
            "Validation acc: 0.9453\n",
            "\n",
            "Start of epoch 665\n",
            "Training loss: 0.0000\n",
            "Training metric: 0.9781\n",
            "perturbation loss: 0.0000\n"
          ]
        },
        {
          "output_type": "stream",
          "name": "stderr",
          "text": [
            "\r 67%|██████▋   | 666/1000 [12:38<06:13,  1.12s/it]"
          ]
        },
        {
          "output_type": "stream",
          "name": "stdout",
          "text": [
            "Validation acc: 0.9531\n",
            "\n",
            "Start of epoch 666\n",
            "Training loss: 0.0000\n",
            "Training metric: 0.9781\n",
            "perturbation loss: 0.0000\n"
          ]
        },
        {
          "output_type": "stream",
          "name": "stderr",
          "text": [
            "\r 67%|██████▋   | 667/1000 [12:39<06:10,  1.11s/it]"
          ]
        },
        {
          "output_type": "stream",
          "name": "stdout",
          "text": [
            "Validation acc: 0.9609\n",
            "\n",
            "Start of epoch 667\n",
            "Training loss: 0.0000\n",
            "Training metric: 0.9781\n",
            "perturbation loss: 0.0002\n"
          ]
        },
        {
          "output_type": "stream",
          "name": "stderr",
          "text": [
            "\r 67%|██████▋   | 668/1000 [12:40<06:00,  1.09s/it]"
          ]
        },
        {
          "output_type": "stream",
          "name": "stdout",
          "text": [
            "Validation acc: 0.9766\n",
            "\n",
            "Start of epoch 668\n",
            "Training loss: 0.0000\n",
            "Training metric: 0.9782\n",
            "perturbation loss: 0.0000\n"
          ]
        },
        {
          "output_type": "stream",
          "name": "stderr",
          "text": [
            "\r 67%|██████▋   | 669/1000 [12:41<05:50,  1.06s/it]"
          ]
        },
        {
          "output_type": "stream",
          "name": "stdout",
          "text": [
            "Validation acc: 0.9609\n",
            "\n",
            "Start of epoch 669\n",
            "Training loss: 0.0000\n",
            "Training metric: 0.9782\n",
            "perturbation loss: 0.0003\n"
          ]
        },
        {
          "output_type": "stream",
          "name": "stderr",
          "text": [
            "\r 67%|██████▋   | 670/1000 [12:42<05:46,  1.05s/it]"
          ]
        },
        {
          "output_type": "stream",
          "name": "stdout",
          "text": [
            "Validation acc: 0.9531\n",
            "\n",
            "Start of epoch 670\n",
            "Training loss: 0.0000\n",
            "Training metric: 0.9782\n",
            "perturbation loss: 0.0000\n"
          ]
        },
        {
          "output_type": "stream",
          "name": "stderr",
          "text": [
            "\r 67%|██████▋   | 671/1000 [12:43<05:42,  1.04s/it]"
          ]
        },
        {
          "output_type": "stream",
          "name": "stdout",
          "text": [
            "Validation acc: 0.9688\n",
            "\n",
            "Start of epoch 671\n",
            "Training loss: 0.0000\n",
            "Training metric: 0.9783\n",
            "perturbation loss: 0.0000\n"
          ]
        },
        {
          "output_type": "stream",
          "name": "stderr",
          "text": [
            "\r 67%|██████▋   | 672/1000 [12:44<05:37,  1.03s/it]"
          ]
        },
        {
          "output_type": "stream",
          "name": "stdout",
          "text": [
            "Validation acc: 0.9453\n",
            "\n",
            "Start of epoch 672\n",
            "Training loss: 0.0000\n",
            "Training metric: 0.9783\n",
            "perturbation loss: 0.0000\n"
          ]
        },
        {
          "output_type": "stream",
          "name": "stderr",
          "text": [
            "\r 67%|██████▋   | 673/1000 [12:45<05:44,  1.05s/it]"
          ]
        },
        {
          "output_type": "stream",
          "name": "stdout",
          "text": [
            "Validation acc: 0.9609\n",
            "\n",
            "Start of epoch 673\n",
            "Training loss: 0.0000\n",
            "Training metric: 0.9783\n",
            "perturbation loss: 0.0001\n"
          ]
        },
        {
          "output_type": "stream",
          "name": "stderr",
          "text": [
            "\r 67%|██████▋   | 674/1000 [12:46<05:52,  1.08s/it]"
          ]
        },
        {
          "output_type": "stream",
          "name": "stdout",
          "text": [
            "Validation acc: 0.9609\n",
            "\n",
            "Start of epoch 674\n",
            "Training loss: 0.0000\n",
            "Training metric: 0.9784\n",
            "perturbation loss: 0.0000\n"
          ]
        },
        {
          "output_type": "stream",
          "name": "stderr",
          "text": [
            "\r 68%|██████▊   | 675/1000 [12:48<06:15,  1.16s/it]"
          ]
        },
        {
          "output_type": "stream",
          "name": "stdout",
          "text": [
            "Validation acc: 0.9688\n",
            "\n",
            "Start of epoch 675\n",
            "Training loss: 0.0000\n",
            "Training metric: 0.9784\n",
            "perturbation loss: 0.0001\n"
          ]
        },
        {
          "output_type": "stream",
          "name": "stderr",
          "text": [
            "\r 68%|██████▊   | 676/1000 [12:49<06:30,  1.20s/it]"
          ]
        },
        {
          "output_type": "stream",
          "name": "stdout",
          "text": [
            "Validation acc: 0.9609\n",
            "\n",
            "Start of epoch 676\n",
            "Training loss: 0.0000\n",
            "Training metric: 0.9784\n",
            "perturbation loss: 0.0000\n"
          ]
        },
        {
          "output_type": "stream",
          "name": "stderr",
          "text": [
            "\r 68%|██████▊   | 677/1000 [12:50<06:31,  1.21s/it]"
          ]
        },
        {
          "output_type": "stream",
          "name": "stdout",
          "text": [
            "Validation acc: 0.9531\n",
            "\n",
            "Start of epoch 677\n",
            "Training loss: 0.0000\n",
            "Training metric: 0.9785\n",
            "perturbation loss: 0.0000\n"
          ]
        },
        {
          "output_type": "stream",
          "name": "stderr",
          "text": [
            "\r 68%|██████▊   | 678/1000 [12:51<06:10,  1.15s/it]"
          ]
        },
        {
          "output_type": "stream",
          "name": "stdout",
          "text": [
            "Validation acc: 0.9688\n",
            "\n",
            "Start of epoch 678\n",
            "Training loss: 0.0000\n",
            "Training metric: 0.9785\n",
            "perturbation loss: 0.0003\n"
          ]
        },
        {
          "output_type": "stream",
          "name": "stderr",
          "text": [
            "\r 68%|██████▊   | 679/1000 [12:52<05:54,  1.11s/it]"
          ]
        },
        {
          "output_type": "stream",
          "name": "stdout",
          "text": [
            "Validation acc: 0.9609\n",
            "\n",
            "Start of epoch 679\n",
            "Training loss: 0.0000\n",
            "Training metric: 0.9785\n",
            "perturbation loss: 0.0000\n"
          ]
        },
        {
          "output_type": "stream",
          "name": "stderr",
          "text": [
            "\r 68%|██████▊   | 680/1000 [12:53<05:45,  1.08s/it]"
          ]
        },
        {
          "output_type": "stream",
          "name": "stdout",
          "text": [
            "Validation acc: 0.9609\n",
            "\n",
            "Start of epoch 680\n",
            "Training loss: 0.0000\n",
            "Training metric: 0.9786\n",
            "perturbation loss: 0.0000\n"
          ]
        },
        {
          "output_type": "stream",
          "name": "stderr",
          "text": [
            "\r 68%|██████▊   | 681/1000 [12:54<05:36,  1.05s/it]"
          ]
        },
        {
          "output_type": "stream",
          "name": "stdout",
          "text": [
            "Validation acc: 0.9531\n",
            "\n",
            "Start of epoch 681\n",
            "Training loss: 0.0000\n",
            "Training metric: 0.9786\n",
            "perturbation loss: 0.0000\n"
          ]
        },
        {
          "output_type": "stream",
          "name": "stderr",
          "text": [
            "\r 68%|██████▊   | 682/1000 [12:55<05:38,  1.07s/it]"
          ]
        },
        {
          "output_type": "stream",
          "name": "stdout",
          "text": [
            "Validation acc: 0.9688\n",
            "\n",
            "Start of epoch 682\n",
            "Training loss: 0.0000\n",
            "Training metric: 0.9786\n",
            "perturbation loss: 0.0000\n"
          ]
        },
        {
          "output_type": "stream",
          "name": "stderr",
          "text": [
            "\r 68%|██████▊   | 683/1000 [12:56<05:30,  1.04s/it]"
          ]
        },
        {
          "output_type": "stream",
          "name": "stdout",
          "text": [
            "Validation acc: 0.9609\n",
            "\n",
            "Start of epoch 683\n",
            "Training loss: 0.0000\n",
            "Training metric: 0.9787\n",
            "perturbation loss: 0.0000\n"
          ]
        },
        {
          "output_type": "stream",
          "name": "stderr",
          "text": [
            "\r 68%|██████▊   | 684/1000 [12:57<05:25,  1.03s/it]"
          ]
        },
        {
          "output_type": "stream",
          "name": "stdout",
          "text": [
            "Validation acc: 0.9688\n",
            "\n",
            "Start of epoch 684\n",
            "Training loss: 0.0000\n",
            "Training metric: 0.9787\n",
            "perturbation loss: 0.0000\n"
          ]
        },
        {
          "output_type": "stream",
          "name": "stderr",
          "text": [
            "\r 68%|██████▊   | 685/1000 [12:58<05:22,  1.02s/it]"
          ]
        },
        {
          "output_type": "stream",
          "name": "stdout",
          "text": [
            "Validation acc: 0.9688\n",
            "\n",
            "Start of epoch 685\n",
            "Training loss: 0.0000\n",
            "Training metric: 0.9787\n",
            "perturbation loss: 0.0000\n"
          ]
        },
        {
          "output_type": "stream",
          "name": "stderr",
          "text": [
            "\r 69%|██████▊   | 686/1000 [12:59<05:18,  1.02s/it]"
          ]
        },
        {
          "output_type": "stream",
          "name": "stdout",
          "text": [
            "Validation acc: 0.9531\n",
            "\n",
            "Start of epoch 686\n",
            "Training loss: 0.0000\n",
            "Training metric: 0.9787\n",
            "perturbation loss: 0.0000\n"
          ]
        },
        {
          "output_type": "stream",
          "name": "stderr",
          "text": [
            "\r 69%|██████▊   | 687/1000 [13:01<05:39,  1.08s/it]"
          ]
        },
        {
          "output_type": "stream",
          "name": "stdout",
          "text": [
            "Validation acc: 0.9609\n",
            "\n",
            "Start of epoch 687\n",
            "Training loss: 0.0000\n",
            "Training metric: 0.9788\n",
            "perturbation loss: 0.0000\n"
          ]
        },
        {
          "output_type": "stream",
          "name": "stderr",
          "text": [
            "\r 69%|██████▉   | 688/1000 [13:02<05:58,  1.15s/it]"
          ]
        },
        {
          "output_type": "stream",
          "name": "stdout",
          "text": [
            "Validation acc: 0.9531\n",
            "\n",
            "Start of epoch 688\n",
            "Training loss: 0.0049\n",
            "Training metric: 0.9788\n",
            "perturbation loss: 0.0314\n"
          ]
        },
        {
          "output_type": "stream",
          "name": "stderr",
          "text": [
            "\r 69%|██████▉   | 689/1000 [13:03<06:18,  1.22s/it]"
          ]
        },
        {
          "output_type": "stream",
          "name": "stdout",
          "text": [
            "Validation acc: 0.9531\n",
            "\n",
            "Start of epoch 689\n",
            "Training loss: 0.0001\n",
            "Training metric: 0.9788\n",
            "perturbation loss: 0.0002\n"
          ]
        },
        {
          "output_type": "stream",
          "name": "stderr",
          "text": [
            "\r 69%|██████▉   | 690/1000 [13:04<06:02,  1.17s/it]"
          ]
        },
        {
          "output_type": "stream",
          "name": "stdout",
          "text": [
            "Validation acc: 0.9375\n",
            "\n",
            "Start of epoch 690\n",
            "Training loss: 0.0000\n",
            "Training metric: 0.9789\n",
            "perturbation loss: 0.0000\n"
          ]
        },
        {
          "output_type": "stream",
          "name": "stderr",
          "text": [
            "\r 69%|██████▉   | 691/1000 [13:05<05:46,  1.12s/it]"
          ]
        },
        {
          "output_type": "stream",
          "name": "stdout",
          "text": [
            "Validation acc: 0.9297\n",
            "\n",
            "Start of epoch 691\n",
            "Training loss: 0.0006\n",
            "Training metric: 0.9789\n",
            "perturbation loss: 0.0058\n"
          ]
        },
        {
          "output_type": "stream",
          "name": "stderr",
          "text": [
            "\r 69%|██████▉   | 692/1000 [13:06<05:33,  1.08s/it]"
          ]
        },
        {
          "output_type": "stream",
          "name": "stdout",
          "text": [
            "Validation acc: 0.9609\n",
            "\n",
            "Start of epoch 692\n",
            "Training loss: 0.0000\n",
            "Training metric: 0.9789\n",
            "perturbation loss: 0.0001\n"
          ]
        },
        {
          "output_type": "stream",
          "name": "stderr",
          "text": [
            "\r 69%|██████▉   | 693/1000 [13:07<05:25,  1.06s/it]"
          ]
        },
        {
          "output_type": "stream",
          "name": "stdout",
          "text": [
            "Validation acc: 0.9609\n",
            "\n",
            "Start of epoch 693\n",
            "Training loss: 0.0000\n",
            "Training metric: 0.9789\n",
            "perturbation loss: 0.0001\n"
          ]
        },
        {
          "output_type": "stream",
          "name": "stderr",
          "text": [
            "\r 69%|██████▉   | 694/1000 [13:08<05:19,  1.04s/it]"
          ]
        },
        {
          "output_type": "stream",
          "name": "stdout",
          "text": [
            "Validation acc: 0.9453\n",
            "\n",
            "Start of epoch 694\n",
            "Training loss: 0.0003\n",
            "Training metric: 0.9790\n",
            "perturbation loss: 0.0012\n"
          ]
        },
        {
          "output_type": "stream",
          "name": "stderr",
          "text": [
            "\r 70%|██████▉   | 695/1000 [13:09<05:17,  1.04s/it]"
          ]
        },
        {
          "output_type": "stream",
          "name": "stdout",
          "text": [
            "Validation acc: 0.9531\n",
            "\n",
            "Start of epoch 695\n",
            "Training loss: 0.0000\n",
            "Training metric: 0.9790\n",
            "perturbation loss: 0.0000\n"
          ]
        },
        {
          "output_type": "stream",
          "name": "stderr",
          "text": [
            "\r 70%|██████▉   | 696/1000 [13:10<05:14,  1.03s/it]"
          ]
        },
        {
          "output_type": "stream",
          "name": "stdout",
          "text": [
            "Validation acc: 0.9297\n",
            "\n",
            "Start of epoch 696\n",
            "Training loss: 0.0006\n",
            "Training metric: 0.9790\n",
            "perturbation loss: 0.0007\n"
          ]
        },
        {
          "output_type": "stream",
          "name": "stderr",
          "text": [
            "\r 70%|██████▉   | 697/1000 [13:11<05:11,  1.03s/it]"
          ]
        },
        {
          "output_type": "stream",
          "name": "stdout",
          "text": [
            "Validation acc: 0.9453\n",
            "\n",
            "Start of epoch 697\n",
            "Training loss: 0.0005\n",
            "Training metric: 0.9791\n",
            "perturbation loss: 0.0159\n"
          ]
        },
        {
          "output_type": "stream",
          "name": "stderr",
          "text": [
            "\r 70%|██████▉   | 698/1000 [13:12<05:09,  1.02s/it]"
          ]
        },
        {
          "output_type": "stream",
          "name": "stdout",
          "text": [
            "Validation acc: 0.9375\n",
            "\n",
            "Start of epoch 698\n",
            "Training loss: 0.0000\n",
            "Training metric: 0.9791\n",
            "perturbation loss: 0.0005\n"
          ]
        },
        {
          "output_type": "stream",
          "name": "stderr",
          "text": [
            "\r 70%|██████▉   | 699/1000 [13:13<05:18,  1.06s/it]"
          ]
        },
        {
          "output_type": "stream",
          "name": "stdout",
          "text": [
            "Validation acc: 0.9531\n",
            "\n",
            "Start of epoch 699\n",
            "Training loss: 0.0000\n",
            "Training metric: 0.9791\n",
            "perturbation loss: 0.0005\n"
          ]
        },
        {
          "output_type": "stream",
          "name": "stderr",
          "text": [
            "\r 70%|███████   | 700/1000 [13:15<05:42,  1.14s/it]"
          ]
        },
        {
          "output_type": "stream",
          "name": "stdout",
          "text": [
            "Validation acc: 0.9531\n",
            "\n",
            "Start of epoch 700\n",
            "Training loss: 0.0000\n",
            "Training metric: 0.9792\n",
            "perturbation loss: 0.0000\n"
          ]
        },
        {
          "output_type": "stream",
          "name": "stderr",
          "text": [
            "\r 70%|███████   | 701/1000 [13:16<06:00,  1.21s/it]"
          ]
        },
        {
          "output_type": "stream",
          "name": "stdout",
          "text": [
            "Validation acc: 0.9453\n",
            "\n",
            "Start of epoch 701\n",
            "Training loss: 0.0000\n",
            "Training metric: 0.9792\n",
            "perturbation loss: 0.0000\n"
          ]
        },
        {
          "output_type": "stream",
          "name": "stderr",
          "text": [
            "\r 70%|███████   | 702/1000 [13:17<06:06,  1.23s/it]"
          ]
        },
        {
          "output_type": "stream",
          "name": "stdout",
          "text": [
            "Validation acc: 0.9453\n",
            "\n",
            "Start of epoch 702\n",
            "Training loss: 0.0000\n",
            "Training metric: 0.9792\n",
            "perturbation loss: 0.0001\n"
          ]
        },
        {
          "output_type": "stream",
          "name": "stderr",
          "text": [
            "\r 70%|███████   | 703/1000 [13:19<05:53,  1.19s/it]"
          ]
        },
        {
          "output_type": "stream",
          "name": "stdout",
          "text": [
            "Validation acc: 0.9453\n",
            "\n",
            "Start of epoch 703\n",
            "Training loss: 0.0003\n",
            "Training metric: 0.9792\n",
            "perturbation loss: 0.0007\n"
          ]
        },
        {
          "output_type": "stream",
          "name": "stderr",
          "text": [
            "\r 70%|███████   | 704/1000 [13:20<06:21,  1.29s/it]"
          ]
        },
        {
          "output_type": "stream",
          "name": "stdout",
          "text": [
            "Validation acc: 0.9531\n",
            "\n",
            "Start of epoch 704\n",
            "Training loss: 0.0000\n",
            "Training metric: 0.9793\n",
            "perturbation loss: 0.0001\n"
          ]
        },
        {
          "output_type": "stream",
          "name": "stderr",
          "text": [
            "\r 70%|███████   | 705/1000 [13:21<06:04,  1.24s/it]"
          ]
        },
        {
          "output_type": "stream",
          "name": "stdout",
          "text": [
            "Validation acc: 0.9609\n",
            "\n",
            "Start of epoch 705\n",
            "Training loss: 0.0000\n",
            "Training metric: 0.9793\n",
            "perturbation loss: 0.0000\n"
          ]
        },
        {
          "output_type": "stream",
          "name": "stderr",
          "text": [
            "\r 71%|███████   | 706/1000 [13:22<05:52,  1.20s/it]"
          ]
        },
        {
          "output_type": "stream",
          "name": "stdout",
          "text": [
            "Validation acc: 0.9297\n",
            "\n",
            "Start of epoch 706\n",
            "Training loss: 0.0001\n",
            "Training metric: 0.9793\n",
            "perturbation loss: 0.0005\n"
          ]
        },
        {
          "output_type": "stream",
          "name": "stderr",
          "text": [
            "\r 71%|███████   | 707/1000 [13:23<05:42,  1.17s/it]"
          ]
        },
        {
          "output_type": "stream",
          "name": "stdout",
          "text": [
            "Validation acc: 0.9453\n",
            "\n",
            "Start of epoch 707\n",
            "Training loss: 0.0002\n",
            "Training metric: 0.9794\n",
            "perturbation loss: 0.0029\n"
          ]
        },
        {
          "output_type": "stream",
          "name": "stderr",
          "text": [
            "\r 71%|███████   | 708/1000 [13:24<05:33,  1.14s/it]"
          ]
        },
        {
          "output_type": "stream",
          "name": "stdout",
          "text": [
            "Validation acc: 0.9141\n",
            "\n",
            "Start of epoch 708\n",
            "Training loss: 0.0004\n",
            "Training metric: 0.9794\n",
            "perturbation loss: 0.0001\n"
          ]
        },
        {
          "output_type": "stream",
          "name": "stderr",
          "text": [
            "\r 71%|███████   | 709/1000 [13:26<05:21,  1.10s/it]"
          ]
        },
        {
          "output_type": "stream",
          "name": "stdout",
          "text": [
            "Validation acc: 0.9531\n",
            "\n",
            "Start of epoch 709\n",
            "Training loss: 0.0000\n",
            "Training metric: 0.9794\n",
            "perturbation loss: 0.0001\n",
            "Validation acc: 0.9453\n"
          ]
        },
        {
          "output_type": "stream",
          "name": "stderr",
          "text": [
            "\r 71%|███████   | 710/1000 [13:26<05:10,  1.07s/it]"
          ]
        },
        {
          "output_type": "stream",
          "name": "stdout",
          "text": [
            "\n",
            "Start of epoch 710\n",
            "Training loss: 0.0000\n",
            "Training metric: 0.9794\n",
            "perturbation loss: 0.0000\n"
          ]
        },
        {
          "output_type": "stream",
          "name": "stderr",
          "text": [
            "\r 71%|███████   | 711/1000 [13:28<05:19,  1.10s/it]"
          ]
        },
        {
          "output_type": "stream",
          "name": "stdout",
          "text": [
            "Validation acc: 0.9375\n",
            "\n",
            "Start of epoch 711\n",
            "Training loss: 0.0000\n",
            "Training metric: 0.9795\n",
            "perturbation loss: 0.0000\n"
          ]
        },
        {
          "output_type": "stream",
          "name": "stderr",
          "text": [
            "\r 71%|███████   | 712/1000 [13:29<06:08,  1.28s/it]"
          ]
        },
        {
          "output_type": "stream",
          "name": "stdout",
          "text": [
            "Validation acc: 0.9375\n",
            "\n",
            "Start of epoch 712\n",
            "Training loss: 0.0000\n",
            "Training metric: 0.9795\n",
            "perturbation loss: 0.0000\n"
          ]
        },
        {
          "output_type": "stream",
          "name": "stderr",
          "text": [
            "\r 71%|███████▏  | 713/1000 [13:31<06:11,  1.29s/it]"
          ]
        },
        {
          "output_type": "stream",
          "name": "stdout",
          "text": [
            "Validation acc: 0.9297\n",
            "\n",
            "Start of epoch 713\n",
            "Training loss: 0.0000\n",
            "Training metric: 0.9795\n",
            "perturbation loss: 0.0001\n"
          ]
        },
        {
          "output_type": "stream",
          "name": "stderr",
          "text": [
            "\r 71%|███████▏  | 714/1000 [13:32<05:44,  1.20s/it]"
          ]
        },
        {
          "output_type": "stream",
          "name": "stdout",
          "text": [
            "Validation acc: 0.9219\n",
            "\n",
            "Start of epoch 714\n",
            "Training loss: 0.0000\n",
            "Training metric: 0.9796\n",
            "perturbation loss: 0.0000\n",
            "Validation acc: 0.9297\n"
          ]
        },
        {
          "output_type": "stream",
          "name": "stderr",
          "text": [
            "\r 72%|███████▏  | 715/1000 [13:33<05:22,  1.13s/it]"
          ]
        },
        {
          "output_type": "stream",
          "name": "stdout",
          "text": [
            "\n",
            "Start of epoch 715\n",
            "Training loss: 0.0000\n",
            "Training metric: 0.9796\n",
            "perturbation loss: 0.0000\n"
          ]
        },
        {
          "output_type": "stream",
          "name": "stderr",
          "text": [
            "\r 72%|███████▏  | 716/1000 [13:34<05:11,  1.10s/it]"
          ]
        },
        {
          "output_type": "stream",
          "name": "stdout",
          "text": [
            "Validation acc: 0.9531\n",
            "\n",
            "Start of epoch 716\n",
            "Training loss: 0.0000\n",
            "Training metric: 0.9796\n",
            "perturbation loss: 0.0000\n"
          ]
        },
        {
          "output_type": "stream",
          "name": "stderr",
          "text": [
            "\r 72%|███████▏  | 717/1000 [13:35<05:02,  1.07s/it]"
          ]
        },
        {
          "output_type": "stream",
          "name": "stdout",
          "text": [
            "Validation acc: 0.9375\n",
            "\n",
            "Start of epoch 717\n",
            "Training loss: 0.0000\n",
            "Training metric: 0.9796\n",
            "perturbation loss: 0.0000\n",
            "Validation acc: 0.9531\n"
          ]
        },
        {
          "output_type": "stream",
          "name": "stderr",
          "text": [
            "\r 72%|███████▏  | 718/1000 [13:36<04:58,  1.06s/it]"
          ]
        },
        {
          "output_type": "stream",
          "name": "stdout",
          "text": [
            "\n",
            "Start of epoch 718\n",
            "Training loss: 0.0000\n",
            "Training metric: 0.9797\n",
            "perturbation loss: 0.0000\n"
          ]
        },
        {
          "output_type": "stream",
          "name": "stderr",
          "text": [
            "\r 72%|███████▏  | 719/1000 [13:37<04:59,  1.07s/it]"
          ]
        },
        {
          "output_type": "stream",
          "name": "stdout",
          "text": [
            "Validation acc: 0.9531\n",
            "\n",
            "Start of epoch 719\n",
            "Training loss: 0.0000\n",
            "Training metric: 0.9797\n",
            "perturbation loss: 0.0000\n"
          ]
        },
        {
          "output_type": "stream",
          "name": "stderr",
          "text": [
            "\r 72%|███████▏  | 720/1000 [13:38<04:54,  1.05s/it]"
          ]
        },
        {
          "output_type": "stream",
          "name": "stdout",
          "text": [
            "Validation acc: 0.9609\n",
            "\n",
            "Start of epoch 720\n",
            "Training loss: 0.0053\n",
            "Training metric: 0.9797\n",
            "perturbation loss: 0.0023\n"
          ]
        },
        {
          "output_type": "stream",
          "name": "stderr",
          "text": [
            "\r 72%|███████▏  | 721/1000 [13:39<04:49,  1.04s/it]"
          ]
        },
        {
          "output_type": "stream",
          "name": "stdout",
          "text": [
            "Validation acc: 0.9297\n",
            "\n",
            "Start of epoch 721\n",
            "Training loss: 0.0000\n",
            "Training metric: 0.9798\n",
            "perturbation loss: 0.0000\n"
          ]
        },
        {
          "output_type": "stream",
          "name": "stderr",
          "text": [
            "\r 72%|███████▏  | 722/1000 [13:40<04:47,  1.03s/it]"
          ]
        },
        {
          "output_type": "stream",
          "name": "stdout",
          "text": [
            "Validation acc: 0.9375\n",
            "\n",
            "Start of epoch 722\n",
            "Training loss: 0.0000\n",
            "Training metric: 0.9798\n",
            "perturbation loss: 0.0000\n"
          ]
        },
        {
          "output_type": "stream",
          "name": "stderr",
          "text": [
            "\r 72%|███████▏  | 723/1000 [13:41<04:51,  1.05s/it]"
          ]
        },
        {
          "output_type": "stream",
          "name": "stdout",
          "text": [
            "Validation acc: 0.9453\n",
            "\n",
            "Start of epoch 723\n",
            "Training loss: 0.0001\n",
            "Training metric: 0.9798\n",
            "perturbation loss: 0.0045\n"
          ]
        },
        {
          "output_type": "stream",
          "name": "stderr",
          "text": [
            "\r 72%|███████▏  | 724/1000 [13:42<05:15,  1.14s/it]"
          ]
        },
        {
          "output_type": "stream",
          "name": "stdout",
          "text": [
            "Validation acc: 0.9453\n",
            "\n",
            "Start of epoch 724\n",
            "Training loss: 0.0000\n",
            "Training metric: 0.9798\n",
            "perturbation loss: 0.0001\n"
          ]
        },
        {
          "output_type": "stream",
          "name": "stderr",
          "text": [
            "\r 72%|███████▎  | 725/1000 [13:44<05:31,  1.20s/it]"
          ]
        },
        {
          "output_type": "stream",
          "name": "stdout",
          "text": [
            "Validation acc: 0.9453\n",
            "\n",
            "Start of epoch 725\n",
            "Training loss: 0.0000\n",
            "Training metric: 0.9799\n",
            "perturbation loss: 0.0000\n"
          ]
        },
        {
          "output_type": "stream",
          "name": "stderr",
          "text": [
            "\r 73%|███████▎  | 726/1000 [13:45<05:33,  1.22s/it]"
          ]
        },
        {
          "output_type": "stream",
          "name": "stdout",
          "text": [
            "Validation acc: 0.9219\n",
            "\n",
            "Start of epoch 726\n",
            "Training loss: 0.0000\n",
            "Training metric: 0.9799\n",
            "perturbation loss: 0.0000\n"
          ]
        },
        {
          "output_type": "stream",
          "name": "stderr",
          "text": [
            "\r 73%|███████▎  | 727/1000 [13:46<05:22,  1.18s/it]"
          ]
        },
        {
          "output_type": "stream",
          "name": "stdout",
          "text": [
            "Validation acc: 0.9531\n",
            "\n",
            "Start of epoch 727\n",
            "Training loss: 0.0000\n",
            "Training metric: 0.9799\n",
            "perturbation loss: 0.0000\n"
          ]
        },
        {
          "output_type": "stream",
          "name": "stderr",
          "text": [
            "\r 73%|███████▎  | 728/1000 [13:47<05:13,  1.15s/it]"
          ]
        },
        {
          "output_type": "stream",
          "name": "stdout",
          "text": [
            "Validation acc: 0.9453\n",
            "\n",
            "Start of epoch 728\n",
            "Training loss: 0.0000\n",
            "Training metric: 0.9799\n",
            "perturbation loss: 0.0001\n"
          ]
        },
        {
          "output_type": "stream",
          "name": "stderr",
          "text": [
            "\r 73%|███████▎  | 729/1000 [13:48<05:07,  1.14s/it]"
          ]
        },
        {
          "output_type": "stream",
          "name": "stdout",
          "text": [
            "Validation acc: 0.9453\n",
            "\n",
            "Start of epoch 729\n",
            "Training loss: 0.0000\n",
            "Training metric: 0.9800\n",
            "perturbation loss: 0.0001\n"
          ]
        },
        {
          "output_type": "stream",
          "name": "stderr",
          "text": [
            "\r 73%|███████▎  | 730/1000 [13:49<05:03,  1.12s/it]"
          ]
        },
        {
          "output_type": "stream",
          "name": "stdout",
          "text": [
            "Validation acc: 0.9531\n",
            "\n",
            "Start of epoch 730\n",
            "Training loss: 0.0000\n",
            "Training metric: 0.9800\n",
            "perturbation loss: 0.0000\n"
          ]
        },
        {
          "output_type": "stream",
          "name": "stderr",
          "text": [
            "\r 73%|███████▎  | 731/1000 [13:50<04:52,  1.09s/it]"
          ]
        },
        {
          "output_type": "stream",
          "name": "stdout",
          "text": [
            "Validation acc: 0.9531\n",
            "\n",
            "Start of epoch 731\n",
            "Training loss: 0.0000\n",
            "Training metric: 0.9800\n",
            "perturbation loss: 0.0000\n"
          ]
        },
        {
          "output_type": "stream",
          "name": "stderr",
          "text": [
            "\r 73%|███████▎  | 732/1000 [13:51<04:43,  1.06s/it]"
          ]
        },
        {
          "output_type": "stream",
          "name": "stdout",
          "text": [
            "Validation acc: 0.9375\n",
            "\n",
            "Start of epoch 732\n",
            "Training loss: 0.0000\n",
            "Training metric: 0.9801\n",
            "perturbation loss: 0.0006\n"
          ]
        },
        {
          "output_type": "stream",
          "name": "stderr",
          "text": [
            "\r 73%|███████▎  | 733/1000 [13:52<04:44,  1.06s/it]"
          ]
        },
        {
          "output_type": "stream",
          "name": "stdout",
          "text": [
            "Validation acc: 0.9531\n",
            "\n",
            "Start of epoch 733\n",
            "Training loss: 0.0000\n",
            "Training metric: 0.9801\n",
            "perturbation loss: 0.0000\n"
          ]
        },
        {
          "output_type": "stream",
          "name": "stderr",
          "text": [
            "\r 73%|███████▎  | 734/1000 [13:53<04:39,  1.05s/it]"
          ]
        },
        {
          "output_type": "stream",
          "name": "stdout",
          "text": [
            "Validation acc: 0.9453\n",
            "\n",
            "Start of epoch 734\n",
            "Training loss: 0.0000\n",
            "Training metric: 0.9801\n",
            "perturbation loss: 0.0000\n"
          ]
        },
        {
          "output_type": "stream",
          "name": "stderr",
          "text": [
            "\r 74%|███████▎  | 735/1000 [13:54<04:38,  1.05s/it]"
          ]
        },
        {
          "output_type": "stream",
          "name": "stdout",
          "text": [
            "Validation acc: 0.9531\n",
            "\n",
            "Start of epoch 735\n",
            "Training loss: 0.0000\n",
            "Training metric: 0.9801\n",
            "perturbation loss: 0.0001\n"
          ]
        },
        {
          "output_type": "stream",
          "name": "stderr",
          "text": [
            "\r 74%|███████▎  | 736/1000 [13:56<04:56,  1.12s/it]"
          ]
        },
        {
          "output_type": "stream",
          "name": "stdout",
          "text": [
            "Validation acc: 0.9453\n",
            "\n",
            "Start of epoch 736\n",
            "Training loss: 0.0000\n",
            "Training metric: 0.9802\n",
            "perturbation loss: 0.0000\n"
          ]
        },
        {
          "output_type": "stream",
          "name": "stderr",
          "text": [
            "\r 74%|███████▎  | 737/1000 [13:57<05:16,  1.20s/it]"
          ]
        },
        {
          "output_type": "stream",
          "name": "stdout",
          "text": [
            "Validation acc: 0.9453\n",
            "\n",
            "Start of epoch 737\n",
            "Training loss: 0.0000\n",
            "Training metric: 0.9802\n",
            "perturbation loss: 0.0000\n"
          ]
        },
        {
          "output_type": "stream",
          "name": "stderr",
          "text": [
            "\r 74%|███████▍  | 738/1000 [13:58<05:23,  1.24s/it]"
          ]
        },
        {
          "output_type": "stream",
          "name": "stdout",
          "text": [
            "Validation acc: 0.9453\n",
            "\n",
            "Start of epoch 738\n",
            "Training loss: 0.0000\n",
            "Training metric: 0.9802\n",
            "perturbation loss: 0.0000\n"
          ]
        },
        {
          "output_type": "stream",
          "name": "stderr",
          "text": [
            "\r 74%|███████▍  | 739/1000 [13:59<05:04,  1.17s/it]"
          ]
        },
        {
          "output_type": "stream",
          "name": "stdout",
          "text": [
            "Validation acc: 0.9453\n",
            "\n",
            "Start of epoch 739\n",
            "Training loss: 0.0000\n",
            "Training metric: 0.9802\n",
            "perturbation loss: 0.0000\n"
          ]
        },
        {
          "output_type": "stream",
          "name": "stderr",
          "text": [
            "\r 74%|███████▍  | 740/1000 [14:00<04:53,  1.13s/it]"
          ]
        },
        {
          "output_type": "stream",
          "name": "stdout",
          "text": [
            "Validation acc: 0.9297\n",
            "\n",
            "Start of epoch 740\n",
            "Training loss: 0.0000\n",
            "Training metric: 0.9803\n",
            "perturbation loss: 0.0000\n"
          ]
        },
        {
          "output_type": "stream",
          "name": "stderr",
          "text": [
            "\r 74%|███████▍  | 741/1000 [14:01<04:43,  1.10s/it]"
          ]
        },
        {
          "output_type": "stream",
          "name": "stdout",
          "text": [
            "Validation acc: 0.9453\n",
            "\n",
            "Start of epoch 741\n",
            "Training loss: 0.0000\n",
            "Training metric: 0.9803\n",
            "perturbation loss: 0.0000\n"
          ]
        },
        {
          "output_type": "stream",
          "name": "stderr",
          "text": [
            "\r 74%|███████▍  | 742/1000 [14:02<04:35,  1.07s/it]"
          ]
        },
        {
          "output_type": "stream",
          "name": "stdout",
          "text": [
            "Validation acc: 0.9531\n",
            "\n",
            "Start of epoch 742\n",
            "Training loss: 0.0000\n",
            "Training metric: 0.9803\n",
            "perturbation loss: 0.0000\n"
          ]
        },
        {
          "output_type": "stream",
          "name": "stderr",
          "text": [
            "\r 74%|███████▍  | 743/1000 [14:04<04:34,  1.07s/it]"
          ]
        },
        {
          "output_type": "stream",
          "name": "stdout",
          "text": [
            "Validation acc: 0.9453\n",
            "\n",
            "Start of epoch 743\n",
            "Training loss: 0.0000\n",
            "Training metric: 0.9803\n",
            "perturbation loss: 0.0000\n"
          ]
        },
        {
          "output_type": "stream",
          "name": "stderr",
          "text": [
            "\r 74%|███████▍  | 744/1000 [14:05<04:28,  1.05s/it]"
          ]
        },
        {
          "output_type": "stream",
          "name": "stdout",
          "text": [
            "Validation acc: 0.9453\n",
            "\n",
            "Start of epoch 744\n",
            "Training loss: 0.0000\n",
            "Training metric: 0.9804\n",
            "perturbation loss: 0.0000\n",
            "Validation acc: 0.9453\n"
          ]
        },
        {
          "output_type": "stream",
          "name": "stderr",
          "text": [
            "\r 74%|███████▍  | 745/1000 [14:06<04:24,  1.04s/it]"
          ]
        },
        {
          "output_type": "stream",
          "name": "stdout",
          "text": [
            "\n",
            "Start of epoch 745\n",
            "Training loss: 0.0000\n",
            "Training metric: 0.9804\n",
            "perturbation loss: 0.0000\n"
          ]
        },
        {
          "output_type": "stream",
          "name": "stderr",
          "text": [
            "\r 75%|███████▍  | 746/1000 [14:07<04:27,  1.05s/it]"
          ]
        },
        {
          "output_type": "stream",
          "name": "stdout",
          "text": [
            "Validation acc: 0.9375\n",
            "\n",
            "Start of epoch 746\n",
            "Training loss: 0.0000\n",
            "Training metric: 0.9804\n",
            "perturbation loss: 0.0000\n"
          ]
        },
        {
          "output_type": "stream",
          "name": "stderr",
          "text": [
            "\r 75%|███████▍  | 747/1000 [14:08<04:30,  1.07s/it]"
          ]
        },
        {
          "output_type": "stream",
          "name": "stdout",
          "text": [
            "Validation acc: 0.9375\n",
            "\n",
            "Start of epoch 747\n",
            "Training loss: 0.0000\n",
            "Training metric: 0.9805\n",
            "perturbation loss: 0.0001\n"
          ]
        },
        {
          "output_type": "stream",
          "name": "stderr",
          "text": [
            "\r 75%|███████▍  | 748/1000 [14:09<04:39,  1.11s/it]"
          ]
        },
        {
          "output_type": "stream",
          "name": "stdout",
          "text": [
            "Validation acc: 0.9219\n",
            "\n",
            "Start of epoch 748\n",
            "Training loss: 0.0000\n",
            "Training metric: 0.9805\n",
            "perturbation loss: 0.0003\n"
          ]
        },
        {
          "output_type": "stream",
          "name": "stderr",
          "text": [
            "\r 75%|███████▍  | 749/1000 [14:10<04:54,  1.17s/it]"
          ]
        },
        {
          "output_type": "stream",
          "name": "stdout",
          "text": [
            "Validation acc: 0.9297\n",
            "\n",
            "Start of epoch 749\n",
            "Training loss: 0.0005\n",
            "Training metric: 0.9805\n",
            "perturbation loss: 0.0002\n"
          ]
        },
        {
          "output_type": "stream",
          "name": "stderr",
          "text": [
            "\r 75%|███████▌  | 750/1000 [14:12<05:03,  1.21s/it]"
          ]
        },
        {
          "output_type": "stream",
          "name": "stdout",
          "text": [
            "Validation acc: 0.9062\n",
            "\n",
            "Start of epoch 750\n",
            "Training loss: 0.0002\n",
            "Training metric: 0.9805\n",
            "perturbation loss: 0.0051\n"
          ]
        },
        {
          "output_type": "stream",
          "name": "stderr",
          "text": [
            "\r 75%|███████▌  | 751/1000 [14:13<04:56,  1.19s/it]"
          ]
        },
        {
          "output_type": "stream",
          "name": "stdout",
          "text": [
            "Validation acc: 0.8984\n",
            "\n",
            "Start of epoch 751\n",
            "Training loss: 0.0000\n",
            "Training metric: 0.9806\n",
            "perturbation loss: 0.0000\n"
          ]
        },
        {
          "output_type": "stream",
          "name": "stderr",
          "text": [
            "\r 75%|███████▌  | 752/1000 [14:14<04:47,  1.16s/it]"
          ]
        },
        {
          "output_type": "stream",
          "name": "stdout",
          "text": [
            "Validation acc: 0.9219\n",
            "\n",
            "Start of epoch 752\n",
            "Training loss: 0.0000\n",
            "Training metric: 0.9806\n",
            "perturbation loss: 0.0000\n"
          ]
        },
        {
          "output_type": "stream",
          "name": "stderr",
          "text": [
            "\r 75%|███████▌  | 753/1000 [14:15<04:40,  1.14s/it]"
          ]
        },
        {
          "output_type": "stream",
          "name": "stdout",
          "text": [
            "Validation acc: 0.9219\n",
            "\n",
            "Start of epoch 753\n",
            "Training loss: 0.0005\n",
            "Training metric: 0.9806\n",
            "perturbation loss: 0.0017\n"
          ]
        },
        {
          "output_type": "stream",
          "name": "stderr",
          "text": [
            "\r 75%|███████▌  | 754/1000 [14:16<04:28,  1.09s/it]"
          ]
        },
        {
          "output_type": "stream",
          "name": "stdout",
          "text": [
            "Validation acc: 0.9375\n",
            "\n",
            "Start of epoch 754\n",
            "Training loss: 0.0000\n",
            "Training metric: 0.9806\n",
            "perturbation loss: 0.0013\n"
          ]
        },
        {
          "output_type": "stream",
          "name": "stderr",
          "text": [
            "\r 76%|███████▌  | 755/1000 [14:17<04:23,  1.08s/it]"
          ]
        },
        {
          "output_type": "stream",
          "name": "stdout",
          "text": [
            "Validation acc: 0.9219\n",
            "\n",
            "Start of epoch 755\n",
            "Training loss: 0.0002\n",
            "Training metric: 0.9807\n",
            "perturbation loss: 0.0002\n"
          ]
        },
        {
          "output_type": "stream",
          "name": "stderr",
          "text": [
            "\r 76%|███████▌  | 756/1000 [14:18<04:23,  1.08s/it]"
          ]
        },
        {
          "output_type": "stream",
          "name": "stdout",
          "text": [
            "Validation acc: 0.9297\n",
            "\n",
            "Start of epoch 756\n",
            "Training loss: 0.0000\n",
            "Training metric: 0.9807\n",
            "perturbation loss: 0.0000\n"
          ]
        },
        {
          "output_type": "stream",
          "name": "stderr",
          "text": [
            "\r 76%|███████▌  | 757/1000 [14:19<04:24,  1.09s/it]"
          ]
        },
        {
          "output_type": "stream",
          "name": "stdout",
          "text": [
            "Validation acc: 0.9141\n",
            "\n",
            "Start of epoch 757\n",
            "Training loss: 0.0000\n",
            "Training metric: 0.9807\n",
            "perturbation loss: 0.0002\n"
          ]
        },
        {
          "output_type": "stream",
          "name": "stderr",
          "text": [
            "\r 76%|███████▌  | 758/1000 [14:20<04:29,  1.11s/it]"
          ]
        },
        {
          "output_type": "stream",
          "name": "stdout",
          "text": [
            "Validation acc: 0.9297\n",
            "\n",
            "Start of epoch 758\n",
            "Training loss: 0.0000\n",
            "Training metric: 0.9807\n",
            "perturbation loss: 0.0000\n"
          ]
        },
        {
          "output_type": "stream",
          "name": "stderr",
          "text": [
            "\r 76%|███████▌  | 759/1000 [14:21<04:30,  1.12s/it]"
          ]
        },
        {
          "output_type": "stream",
          "name": "stdout",
          "text": [
            "Validation acc: 0.9297\n",
            "\n",
            "Start of epoch 759\n",
            "Training loss: 0.0000\n",
            "Training metric: 0.9808\n",
            "perturbation loss: 0.0005\n"
          ]
        },
        {
          "output_type": "stream",
          "name": "stderr",
          "text": [
            "\r 76%|███████▌  | 760/1000 [14:23<05:26,  1.36s/it]"
          ]
        },
        {
          "output_type": "stream",
          "name": "stdout",
          "text": [
            "Validation acc: 0.9297\n",
            "\n",
            "Start of epoch 760\n",
            "Training loss: 0.0000\n",
            "Training metric: 0.9808\n",
            "perturbation loss: 0.0000\n"
          ]
        },
        {
          "output_type": "stream",
          "name": "stderr",
          "text": [
            "\r 76%|███████▌  | 761/1000 [14:25<05:24,  1.36s/it]"
          ]
        },
        {
          "output_type": "stream",
          "name": "stdout",
          "text": [
            "Validation acc: 0.9375\n",
            "\n",
            "Start of epoch 761\n",
            "Training loss: 0.0000\n",
            "Training metric: 0.9808\n",
            "perturbation loss: 0.0000\n"
          ]
        },
        {
          "output_type": "stream",
          "name": "stderr",
          "text": [
            "\r 76%|███████▌  | 762/1000 [14:26<05:20,  1.35s/it]"
          ]
        },
        {
          "output_type": "stream",
          "name": "stdout",
          "text": [
            "Validation acc: 0.9297\n",
            "\n",
            "Start of epoch 762\n",
            "Training loss: 0.0000\n",
            "Training metric: 0.9808\n",
            "perturbation loss: 0.0000\n"
          ]
        },
        {
          "output_type": "stream",
          "name": "stderr",
          "text": [
            "\r 76%|███████▋  | 763/1000 [14:27<04:56,  1.25s/it]"
          ]
        },
        {
          "output_type": "stream",
          "name": "stdout",
          "text": [
            "Validation acc: 0.9141\n",
            "\n",
            "Start of epoch 763\n",
            "Training loss: 0.0000\n",
            "Training metric: 0.9809\n",
            "perturbation loss: 0.0000\n"
          ]
        },
        {
          "output_type": "stream",
          "name": "stderr",
          "text": [
            "\r 76%|███████▋  | 764/1000 [14:28<04:46,  1.21s/it]"
          ]
        },
        {
          "output_type": "stream",
          "name": "stdout",
          "text": [
            "Validation acc: 0.9141\n",
            "\n",
            "Start of epoch 764\n",
            "Training loss: 0.0000\n",
            "Training metric: 0.9809\n",
            "perturbation loss: 0.0001\n"
          ]
        },
        {
          "output_type": "stream",
          "name": "stderr",
          "text": [
            "\r 76%|███████▋  | 765/1000 [14:29<04:38,  1.18s/it]"
          ]
        },
        {
          "output_type": "stream",
          "name": "stdout",
          "text": [
            "Validation acc: 0.9297\n",
            "\n",
            "Start of epoch 765\n",
            "Training loss: 0.0003\n",
            "Training metric: 0.9809\n",
            "perturbation loss: 0.0047\n"
          ]
        },
        {
          "output_type": "stream",
          "name": "stderr",
          "text": [
            "\r 77%|███████▋  | 766/1000 [14:30<04:30,  1.16s/it]"
          ]
        },
        {
          "output_type": "stream",
          "name": "stdout",
          "text": [
            "Validation acc: 0.9375\n",
            "\n",
            "Start of epoch 766\n",
            "Training loss: 0.0000\n",
            "Training metric: 0.9809\n",
            "perturbation loss: 0.0000\n"
          ]
        },
        {
          "output_type": "stream",
          "name": "stderr",
          "text": [
            "\r 77%|███████▋  | 767/1000 [14:31<04:18,  1.11s/it]"
          ]
        },
        {
          "output_type": "stream",
          "name": "stdout",
          "text": [
            "Validation acc: 0.9453\n",
            "\n",
            "Start of epoch 767\n",
            "Training loss: 0.0000\n",
            "Training metric: 0.9810\n",
            "perturbation loss: 0.0000\n"
          ]
        },
        {
          "output_type": "stream",
          "name": "stderr",
          "text": [
            "\r 77%|███████▋  | 768/1000 [14:32<04:11,  1.08s/it]"
          ]
        },
        {
          "output_type": "stream",
          "name": "stdout",
          "text": [
            "Validation acc: 0.9453\n",
            "\n",
            "Start of epoch 768\n",
            "Training loss: 0.0000\n",
            "Training metric: 0.9810\n",
            "perturbation loss: 0.0000\n"
          ]
        },
        {
          "output_type": "stream",
          "name": "stderr",
          "text": [
            "\r 77%|███████▋  | 769/1000 [14:33<04:11,  1.09s/it]"
          ]
        },
        {
          "output_type": "stream",
          "name": "stdout",
          "text": [
            "Validation acc: 0.9531\n",
            "\n",
            "Start of epoch 769\n",
            "Training loss: 0.0000\n",
            "Training metric: 0.9810\n",
            "perturbation loss: 0.0000\n"
          ]
        },
        {
          "output_type": "stream",
          "name": "stderr",
          "text": [
            "\r 77%|███████▋  | 770/1000 [14:34<04:05,  1.07s/it]"
          ]
        },
        {
          "output_type": "stream",
          "name": "stdout",
          "text": [
            "Validation acc: 0.9531\n",
            "\n",
            "Start of epoch 770\n",
            "Training loss: 0.0000\n",
            "Training metric: 0.9810\n",
            "perturbation loss: 0.0000\n"
          ]
        },
        {
          "output_type": "stream",
          "name": "stderr",
          "text": [
            "\r 77%|███████▋  | 771/1000 [14:36<04:02,  1.06s/it]"
          ]
        },
        {
          "output_type": "stream",
          "name": "stdout",
          "text": [
            "Validation acc: 0.9531\n",
            "\n",
            "Start of epoch 771\n",
            "Training loss: 0.0000\n",
            "Training metric: 0.9811\n",
            "perturbation loss: 0.0000\n"
          ]
        },
        {
          "output_type": "stream",
          "name": "stderr",
          "text": [
            "\r 77%|███████▋  | 772/1000 [14:37<04:16,  1.12s/it]"
          ]
        },
        {
          "output_type": "stream",
          "name": "stdout",
          "text": [
            "Validation acc: 0.9453\n",
            "\n",
            "Start of epoch 772\n",
            "Training loss: 0.0000\n",
            "Training metric: 0.9811\n",
            "perturbation loss: 0.0000\n"
          ]
        },
        {
          "output_type": "stream",
          "name": "stderr",
          "text": [
            "\r 77%|███████▋  | 773/1000 [14:38<04:29,  1.19s/it]"
          ]
        },
        {
          "output_type": "stream",
          "name": "stdout",
          "text": [
            "Validation acc: 0.9375\n",
            "\n",
            "Start of epoch 773\n",
            "Training loss: 0.0000\n",
            "Training metric: 0.9811\n",
            "perturbation loss: 0.0000\n"
          ]
        },
        {
          "output_type": "stream",
          "name": "stderr",
          "text": [
            "\r 77%|███████▋  | 774/1000 [14:40<04:41,  1.25s/it]"
          ]
        },
        {
          "output_type": "stream",
          "name": "stdout",
          "text": [
            "Validation acc: 0.9453\n",
            "\n",
            "Start of epoch 774\n",
            "Training loss: 0.0000\n",
            "Training metric: 0.9811\n",
            "perturbation loss: 0.0000\n"
          ]
        },
        {
          "output_type": "stream",
          "name": "stderr",
          "text": [
            "\r 78%|███████▊  | 775/1000 [14:41<04:24,  1.17s/it]"
          ]
        },
        {
          "output_type": "stream",
          "name": "stdout",
          "text": [
            "Validation acc: 0.9531\n",
            "\n",
            "Start of epoch 775\n",
            "Training loss: 0.0000\n",
            "Training metric: 0.9812\n",
            "perturbation loss: 0.0000\n",
            "Validation acc: 0.9453\n"
          ]
        },
        {
          "output_type": "stream",
          "name": "stderr",
          "text": [
            "\r 78%|███████▊  | 776/1000 [14:42<04:10,  1.12s/it]"
          ]
        },
        {
          "output_type": "stream",
          "name": "stdout",
          "text": [
            "\n",
            "Start of epoch 776\n",
            "Training loss: 0.0000\n",
            "Training metric: 0.9812\n",
            "perturbation loss: 0.0000\n"
          ]
        },
        {
          "output_type": "stream",
          "name": "stderr",
          "text": [
            "\r 78%|███████▊  | 777/1000 [14:43<04:01,  1.08s/it]"
          ]
        },
        {
          "output_type": "stream",
          "name": "stdout",
          "text": [
            "Validation acc: 0.9453\n",
            "\n",
            "Start of epoch 777\n",
            "Training loss: 0.0000\n",
            "Training metric: 0.9812\n",
            "perturbation loss: 0.0000\n"
          ]
        },
        {
          "output_type": "stream",
          "name": "stderr",
          "text": [
            "\r 78%|███████▊  | 778/1000 [14:44<03:55,  1.06s/it]"
          ]
        },
        {
          "output_type": "stream",
          "name": "stdout",
          "text": [
            "Validation acc: 0.9531\n",
            "\n",
            "Start of epoch 778\n",
            "Training loss: 0.0000\n",
            "Training metric: 0.9812\n",
            "perturbation loss: 0.0000\n"
          ]
        },
        {
          "output_type": "stream",
          "name": "stderr",
          "text": [
            "\r 78%|███████▊  | 779/1000 [14:45<03:50,  1.04s/it]"
          ]
        },
        {
          "output_type": "stream",
          "name": "stdout",
          "text": [
            "Validation acc: 0.9688\n",
            "\n",
            "Start of epoch 779\n",
            "Training loss: 0.0006\n",
            "Training metric: 0.9812\n",
            "perturbation loss: 0.0008\n"
          ]
        },
        {
          "output_type": "stream",
          "name": "stderr",
          "text": [
            "\r 78%|███████▊  | 780/1000 [14:46<03:52,  1.06s/it]"
          ]
        },
        {
          "output_type": "stream",
          "name": "stdout",
          "text": [
            "Validation acc: 0.9531\n",
            "\n",
            "Start of epoch 780\n",
            "Training loss: 0.0000\n",
            "Training metric: 0.9813\n",
            "perturbation loss: 0.0000\n"
          ]
        },
        {
          "output_type": "stream",
          "name": "stderr",
          "text": [
            "\r 78%|███████▊  | 781/1000 [14:47<03:48,  1.04s/it]"
          ]
        },
        {
          "output_type": "stream",
          "name": "stdout",
          "text": [
            "Validation acc: 0.9375\n",
            "\n",
            "Start of epoch 781\n",
            "Training loss: 0.0000\n",
            "Training metric: 0.9813\n",
            "perturbation loss: 0.0004\n"
          ]
        },
        {
          "output_type": "stream",
          "name": "stderr",
          "text": [
            "\r 78%|███████▊  | 782/1000 [14:48<03:44,  1.03s/it]"
          ]
        },
        {
          "output_type": "stream",
          "name": "stdout",
          "text": [
            "Validation acc: 0.9141\n",
            "\n",
            "Start of epoch 782\n",
            "Training loss: 0.0000\n",
            "Training metric: 0.9813\n",
            "perturbation loss: 0.0000\n"
          ]
        },
        {
          "output_type": "stream",
          "name": "stderr",
          "text": [
            "\r 78%|███████▊  | 783/1000 [14:49<03:47,  1.05s/it]"
          ]
        },
        {
          "output_type": "stream",
          "name": "stdout",
          "text": [
            "Validation acc: 0.9297\n",
            "\n",
            "Start of epoch 783\n",
            "Training loss: 0.0000\n",
            "Training metric: 0.9813\n",
            "perturbation loss: 0.0000\n"
          ]
        },
        {
          "output_type": "stream",
          "name": "stderr",
          "text": [
            "\r 78%|███████▊  | 784/1000 [14:50<04:10,  1.16s/it]"
          ]
        },
        {
          "output_type": "stream",
          "name": "stdout",
          "text": [
            "Validation acc: 0.9453\n",
            "\n",
            "Start of epoch 784\n",
            "Training loss: 0.0000\n",
            "Training metric: 0.9814\n",
            "perturbation loss: 0.0001\n"
          ]
        },
        {
          "output_type": "stream",
          "name": "stderr",
          "text": [
            "\r 78%|███████▊  | 785/1000 [14:52<04:22,  1.22s/it]"
          ]
        },
        {
          "output_type": "stream",
          "name": "stdout",
          "text": [
            "Validation acc: 0.9531\n",
            "\n",
            "Start of epoch 785\n",
            "Training loss: 0.0000\n",
            "Training metric: 0.9814\n",
            "perturbation loss: 0.0000\n"
          ]
        },
        {
          "output_type": "stream",
          "name": "stderr",
          "text": [
            "\r 79%|███████▊  | 786/1000 [14:53<04:30,  1.26s/it]"
          ]
        },
        {
          "output_type": "stream",
          "name": "stdout",
          "text": [
            "Validation acc: 0.9375\n",
            "\n",
            "Start of epoch 786\n",
            "Training loss: 0.0000\n",
            "Training metric: 0.9814\n",
            "perturbation loss: 0.0002\n"
          ]
        },
        {
          "output_type": "stream",
          "name": "stderr",
          "text": [
            "\r 79%|███████▊  | 787/1000 [14:54<04:15,  1.20s/it]"
          ]
        },
        {
          "output_type": "stream",
          "name": "stdout",
          "text": [
            "Validation acc: 0.9219\n",
            "\n",
            "Start of epoch 787\n",
            "Training loss: 0.0002\n",
            "Training metric: 0.9814\n",
            "perturbation loss: 0.0046\n"
          ]
        },
        {
          "output_type": "stream",
          "name": "stderr",
          "text": [
            "\r 79%|███████▉  | 788/1000 [14:55<04:02,  1.14s/it]"
          ]
        },
        {
          "output_type": "stream",
          "name": "stdout",
          "text": [
            "Validation acc: 0.8594\n",
            "\n",
            "Start of epoch 788\n",
            "Training loss: 0.0010\n",
            "Training metric: 0.9815\n",
            "perturbation loss: 0.0188\n"
          ]
        },
        {
          "output_type": "stream",
          "name": "stderr",
          "text": [
            "\r 79%|███████▉  | 789/1000 [14:56<03:52,  1.10s/it]"
          ]
        },
        {
          "output_type": "stream",
          "name": "stdout",
          "text": [
            "Validation acc: 0.9219\n",
            "\n",
            "Start of epoch 789\n",
            "Training loss: 0.0013\n",
            "Training metric: 0.9815\n",
            "perturbation loss: 0.0390\n"
          ]
        },
        {
          "output_type": "stream",
          "name": "stderr",
          "text": [
            "\r 79%|███████▉  | 790/1000 [14:57<03:47,  1.08s/it]"
          ]
        },
        {
          "output_type": "stream",
          "name": "stdout",
          "text": [
            "Validation acc: 0.9062\n",
            "\n",
            "Start of epoch 790\n",
            "Training loss: 0.0000\n",
            "Training metric: 0.9815\n",
            "perturbation loss: 0.0000\n"
          ]
        },
        {
          "output_type": "stream",
          "name": "stderr",
          "text": [
            "\r 79%|███████▉  | 791/1000 [14:58<03:42,  1.07s/it]"
          ]
        },
        {
          "output_type": "stream",
          "name": "stdout",
          "text": [
            "Validation acc: 0.9375\n",
            "\n",
            "Start of epoch 791\n",
            "Training loss: 0.0000\n",
            "Training metric: 0.9815\n",
            "perturbation loss: 0.0000\n"
          ]
        },
        {
          "output_type": "stream",
          "name": "stderr",
          "text": [
            "\r 79%|███████▉  | 792/1000 [14:59<03:40,  1.06s/it]"
          ]
        },
        {
          "output_type": "stream",
          "name": "stdout",
          "text": [
            "Validation acc: 0.9297\n",
            "\n",
            "Start of epoch 792\n",
            "Training loss: 0.0000\n",
            "Training metric: 0.9816\n",
            "perturbation loss: 0.0001\n"
          ]
        },
        {
          "output_type": "stream",
          "name": "stderr",
          "text": [
            "\r 79%|███████▉  | 793/1000 [15:00<03:38,  1.06s/it]"
          ]
        },
        {
          "output_type": "stream",
          "name": "stdout",
          "text": [
            "Validation acc: 0.9375\n",
            "\n",
            "Start of epoch 793\n",
            "Training loss: 0.0000\n",
            "Training metric: 0.9816\n",
            "perturbation loss: 0.0000\n"
          ]
        },
        {
          "output_type": "stream",
          "name": "stderr",
          "text": [
            "\r 79%|███████▉  | 794/1000 [15:01<03:34,  1.04s/it]"
          ]
        },
        {
          "output_type": "stream",
          "name": "stdout",
          "text": [
            "Validation acc: 0.9297\n",
            "\n",
            "Start of epoch 794\n",
            "Training loss: 0.0000\n",
            "Training metric: 0.9816\n",
            "perturbation loss: 0.0001\n"
          ]
        },
        {
          "output_type": "stream",
          "name": "stderr",
          "text": [
            "\r 80%|███████▉  | 795/1000 [15:02<03:31,  1.03s/it]"
          ]
        },
        {
          "output_type": "stream",
          "name": "stdout",
          "text": [
            "Validation acc: 0.9453\n",
            "\n",
            "Start of epoch 795\n",
            "Training loss: 0.0000\n",
            "Training metric: 0.9816\n",
            "perturbation loss: 0.0000\n"
          ]
        },
        {
          "output_type": "stream",
          "name": "stderr",
          "text": [
            "\r 80%|███████▉  | 796/1000 [15:03<03:33,  1.05s/it]"
          ]
        },
        {
          "output_type": "stream",
          "name": "stdout",
          "text": [
            "Validation acc: 0.9531\n",
            "\n",
            "Start of epoch 796\n",
            "Training loss: 0.0000\n",
            "Training metric: 0.9816\n",
            "perturbation loss: 0.0000\n"
          ]
        },
        {
          "output_type": "stream",
          "name": "stderr",
          "text": [
            "\r 80%|███████▉  | 797/1000 [15:05<03:51,  1.14s/it]"
          ]
        },
        {
          "output_type": "stream",
          "name": "stdout",
          "text": [
            "Validation acc: 0.9375\n",
            "\n",
            "Start of epoch 797\n",
            "Training loss: 0.0000\n",
            "Training metric: 0.9817\n",
            "perturbation loss: 0.0001\n",
            "Validation acc: 0.9453\n"
          ]
        },
        {
          "output_type": "stream",
          "name": "stderr",
          "text": [
            "\r 80%|███████▉  | 798/1000 [15:06<04:20,  1.29s/it]"
          ]
        },
        {
          "output_type": "stream",
          "name": "stdout",
          "text": [
            "\n",
            "Start of epoch 798\n",
            "Training loss: 0.0000\n",
            "Training metric: 0.9817\n",
            "perturbation loss: 0.0000\n"
          ]
        },
        {
          "output_type": "stream",
          "name": "stderr",
          "text": [
            "\r 80%|███████▉  | 799/1000 [15:07<04:11,  1.25s/it]"
          ]
        },
        {
          "output_type": "stream",
          "name": "stdout",
          "text": [
            "Validation acc: 0.9453\n",
            "\n",
            "Start of epoch 799\n",
            "Training loss: 0.0001\n",
            "Training metric: 0.9817\n",
            "perturbation loss: 0.0030\n"
          ]
        },
        {
          "output_type": "stream",
          "name": "stderr",
          "text": [
            "\r 80%|████████  | 800/1000 [15:08<03:57,  1.19s/it]"
          ]
        },
        {
          "output_type": "stream",
          "name": "stdout",
          "text": [
            "Validation acc: 0.9531\n",
            "\n",
            "Start of epoch 800\n",
            "Training loss: 0.0000\n",
            "Training metric: 0.9817\n",
            "perturbation loss: 0.0000\n"
          ]
        },
        {
          "output_type": "stream",
          "name": "stderr",
          "text": [
            "\r 80%|████████  | 801/1000 [15:09<03:48,  1.15s/it]"
          ]
        },
        {
          "output_type": "stream",
          "name": "stdout",
          "text": [
            "Validation acc: 0.9531\n",
            "\n",
            "Start of epoch 801\n",
            "Training loss: 0.0000\n",
            "Training metric: 0.9818\n",
            "perturbation loss: 0.0000\n"
          ]
        },
        {
          "output_type": "stream",
          "name": "stderr",
          "text": [
            "\r 80%|████████  | 802/1000 [15:10<03:40,  1.11s/it]"
          ]
        },
        {
          "output_type": "stream",
          "name": "stdout",
          "text": [
            "Validation acc: 0.9453\n",
            "\n",
            "Start of epoch 802\n",
            "Training loss: 0.0000\n",
            "Training metric: 0.9818\n",
            "perturbation loss: 0.0000\n"
          ]
        },
        {
          "output_type": "stream",
          "name": "stderr",
          "text": [
            "\r 80%|████████  | 803/1000 [15:12<03:36,  1.10s/it]"
          ]
        },
        {
          "output_type": "stream",
          "name": "stdout",
          "text": [
            "Validation acc: 0.9531\n",
            "\n",
            "Start of epoch 803\n",
            "Training loss: 0.0000\n",
            "Training metric: 0.9818\n",
            "perturbation loss: 0.0000\n"
          ]
        },
        {
          "output_type": "stream",
          "name": "stderr",
          "text": [
            "\r 80%|████████  | 804/1000 [15:13<03:30,  1.07s/it]"
          ]
        },
        {
          "output_type": "stream",
          "name": "stdout",
          "text": [
            "Validation acc: 0.9453\n",
            "\n",
            "Start of epoch 804\n",
            "Training loss: 0.0000\n",
            "Training metric: 0.9818\n",
            "perturbation loss: 0.0000\n"
          ]
        },
        {
          "output_type": "stream",
          "name": "stderr",
          "text": [
            "\r 80%|████████  | 805/1000 [15:14<03:24,  1.05s/it]"
          ]
        },
        {
          "output_type": "stream",
          "name": "stdout",
          "text": [
            "Validation acc: 0.9453\n",
            "\n",
            "Start of epoch 805\n",
            "Training loss: 0.0000\n",
            "Training metric: 0.9819\n",
            "perturbation loss: 0.0000\n"
          ]
        },
        {
          "output_type": "stream",
          "name": "stderr",
          "text": [
            "\r 81%|████████  | 806/1000 [15:15<03:25,  1.06s/it]"
          ]
        },
        {
          "output_type": "stream",
          "name": "stdout",
          "text": [
            "Validation acc: 0.9375\n",
            "\n",
            "Start of epoch 806\n",
            "Training loss: 0.0000\n",
            "Training metric: 0.9819\n",
            "perturbation loss: 0.0000\n"
          ]
        },
        {
          "output_type": "stream",
          "name": "stderr",
          "text": [
            "\r 81%|████████  | 807/1000 [15:16<03:20,  1.04s/it]"
          ]
        },
        {
          "output_type": "stream",
          "name": "stdout",
          "text": [
            "Validation acc: 0.9453\n",
            "\n",
            "Start of epoch 807\n",
            "Training loss: 0.0000\n",
            "Training metric: 0.9819\n",
            "perturbation loss: 0.0000\n"
          ]
        },
        {
          "output_type": "stream",
          "name": "stderr",
          "text": [
            "\r 81%|████████  | 808/1000 [15:17<03:18,  1.03s/it]"
          ]
        },
        {
          "output_type": "stream",
          "name": "stdout",
          "text": [
            "Validation acc: 0.9453\n",
            "\n",
            "Start of epoch 808\n",
            "Training loss: 0.0000\n",
            "Training metric: 0.9819\n",
            "perturbation loss: 0.0001\n"
          ]
        },
        {
          "output_type": "stream",
          "name": "stderr",
          "text": [
            "\r 81%|████████  | 809/1000 [15:18<03:56,  1.24s/it]"
          ]
        },
        {
          "output_type": "stream",
          "name": "stdout",
          "text": [
            "Validation acc: 0.9531\n",
            "\n",
            "Start of epoch 809\n",
            "Training loss: 0.0000\n",
            "Training metric: 0.9819\n",
            "perturbation loss: 0.0000\n"
          ]
        },
        {
          "output_type": "stream",
          "name": "stderr",
          "text": [
            "\r 81%|████████  | 810/1000 [15:20<04:06,  1.30s/it]"
          ]
        },
        {
          "output_type": "stream",
          "name": "stdout",
          "text": [
            "Validation acc: 0.9453\n",
            "\n",
            "Start of epoch 810\n",
            "Training loss: 0.0000\n",
            "Training metric: 0.9820\n",
            "perturbation loss: 0.0000\n"
          ]
        },
        {
          "output_type": "stream",
          "name": "stderr",
          "text": [
            "\r 81%|████████  | 811/1000 [15:21<04:06,  1.30s/it]"
          ]
        },
        {
          "output_type": "stream",
          "name": "stdout",
          "text": [
            "Validation acc: 0.9531\n",
            "\n",
            "Start of epoch 811\n",
            "Training loss: 0.0000\n",
            "Training metric: 0.9820\n",
            "perturbation loss: 0.0006\n"
          ]
        },
        {
          "output_type": "stream",
          "name": "stderr",
          "text": [
            "\r 81%|████████  | 812/1000 [15:22<03:55,  1.25s/it]"
          ]
        },
        {
          "output_type": "stream",
          "name": "stdout",
          "text": [
            "Validation acc: 0.8594\n",
            "\n",
            "Start of epoch 812\n",
            "Training loss: 0.0134\n",
            "Training metric: 0.9820\n",
            "perturbation loss: 0.0233\n"
          ]
        },
        {
          "output_type": "stream",
          "name": "stderr",
          "text": [
            "\r 81%|████████▏ | 813/1000 [15:23<03:49,  1.23s/it]"
          ]
        },
        {
          "output_type": "stream",
          "name": "stdout",
          "text": [
            "Validation acc: 0.9297\n",
            "\n",
            "Start of epoch 813\n",
            "Training loss: 0.0006\n",
            "Training metric: 0.9820\n",
            "perturbation loss: 0.0155\n"
          ]
        },
        {
          "output_type": "stream",
          "name": "stderr",
          "text": [
            "\r 81%|████████▏ | 814/1000 [15:24<03:34,  1.16s/it]"
          ]
        },
        {
          "output_type": "stream",
          "name": "stdout",
          "text": [
            "Validation acc: 0.9609\n",
            "\n",
            "Start of epoch 814\n",
            "Training loss: 0.0000\n",
            "Training metric: 0.9820\n",
            "perturbation loss: 0.0002\n"
          ]
        },
        {
          "output_type": "stream",
          "name": "stderr",
          "text": [
            "\r 82%|████████▏ | 815/1000 [15:25<03:24,  1.11s/it]"
          ]
        },
        {
          "output_type": "stream",
          "name": "stdout",
          "text": [
            "Validation acc: 0.9453\n",
            "\n",
            "Start of epoch 815\n",
            "Training loss: 0.0003\n",
            "Training metric: 0.9821\n",
            "perturbation loss: 0.0072\n"
          ]
        },
        {
          "output_type": "stream",
          "name": "stderr",
          "text": [
            "\r 82%|████████▏ | 816/1000 [15:26<03:23,  1.10s/it]"
          ]
        },
        {
          "output_type": "stream",
          "name": "stdout",
          "text": [
            "Validation acc: 0.9531\n",
            "\n",
            "Start of epoch 816\n",
            "Training loss: 0.0008\n",
            "Training metric: 0.9821\n",
            "perturbation loss: 0.0192\n"
          ]
        },
        {
          "output_type": "stream",
          "name": "stderr",
          "text": [
            "\r 82%|████████▏ | 817/1000 [15:28<03:18,  1.08s/it]"
          ]
        },
        {
          "output_type": "stream",
          "name": "stdout",
          "text": [
            "Validation acc: 0.9297\n",
            "\n",
            "Start of epoch 817\n",
            "Training loss: 0.0000\n",
            "Training metric: 0.9821\n",
            "perturbation loss: 0.0000\n",
            "Validation acc: 0.9453\n"
          ]
        },
        {
          "output_type": "stream",
          "name": "stderr",
          "text": [
            "\r 82%|████████▏ | 818/1000 [15:29<03:11,  1.05s/it]"
          ]
        },
        {
          "output_type": "stream",
          "name": "stdout",
          "text": [
            "\n",
            "Start of epoch 818\n",
            "Training loss: 0.0000\n",
            "Training metric: 0.9821\n",
            "perturbation loss: 0.0000\n"
          ]
        },
        {
          "output_type": "stream",
          "name": "stderr",
          "text": [
            "\r 82%|████████▏ | 819/1000 [15:30<03:12,  1.07s/it]"
          ]
        },
        {
          "output_type": "stream",
          "name": "stdout",
          "text": [
            "Validation acc: 0.9375\n",
            "\n",
            "Start of epoch 819\n",
            "Training loss: 0.0001\n",
            "Training metric: 0.9821\n",
            "perturbation loss: 0.0031\n"
          ]
        },
        {
          "output_type": "stream",
          "name": "stderr",
          "text": [
            "\r 82%|████████▏ | 820/1000 [15:31<03:14,  1.08s/it]"
          ]
        },
        {
          "output_type": "stream",
          "name": "stdout",
          "text": [
            "Validation acc: 0.9375\n",
            "\n",
            "Start of epoch 820\n",
            "Training loss: 0.0002\n",
            "Training metric: 0.9822\n",
            "perturbation loss: 0.0064\n"
          ]
        },
        {
          "output_type": "stream",
          "name": "stderr",
          "text": [
            "\r 82%|████████▏ | 821/1000 [15:32<03:42,  1.24s/it]"
          ]
        },
        {
          "output_type": "stream",
          "name": "stdout",
          "text": [
            "Validation acc: 0.9531\n",
            "\n",
            "Start of epoch 821\n",
            "Training loss: 0.0004\n",
            "Training metric: 0.9822\n",
            "perturbation loss: 0.0000\n"
          ]
        },
        {
          "output_type": "stream",
          "name": "stderr",
          "text": [
            "\r 82%|████████▏ | 822/1000 [15:34<03:45,  1.27s/it]"
          ]
        },
        {
          "output_type": "stream",
          "name": "stdout",
          "text": [
            "Validation acc: 0.9375\n",
            "\n",
            "Start of epoch 822\n",
            "Training loss: 0.0000\n",
            "Training metric: 0.9822\n",
            "perturbation loss: 0.0002\n"
          ]
        },
        {
          "output_type": "stream",
          "name": "stderr",
          "text": [
            "\r 82%|████████▏ | 823/1000 [15:35<03:36,  1.22s/it]"
          ]
        },
        {
          "output_type": "stream",
          "name": "stdout",
          "text": [
            "Validation acc: 0.9453\n",
            "\n",
            "Start of epoch 823\n",
            "Training loss: 0.0001\n",
            "Training metric: 0.9822\n",
            "perturbation loss: 0.0007\n"
          ]
        },
        {
          "output_type": "stream",
          "name": "stderr",
          "text": [
            "\r 82%|████████▏ | 824/1000 [15:36<03:25,  1.17s/it]"
          ]
        },
        {
          "output_type": "stream",
          "name": "stdout",
          "text": [
            "Validation acc: 0.9453\n",
            "\n",
            "Start of epoch 824\n",
            "Training loss: 0.0000\n",
            "Training metric: 0.9823\n",
            "perturbation loss: 0.0002\n"
          ]
        },
        {
          "output_type": "stream",
          "name": "stderr",
          "text": [
            "\r 82%|████████▎ | 825/1000 [15:37<03:20,  1.15s/it]"
          ]
        },
        {
          "output_type": "stream",
          "name": "stdout",
          "text": [
            "Validation acc: 0.9453\n",
            "\n",
            "Start of epoch 825\n",
            "Training loss: 0.0000\n",
            "Training metric: 0.9823\n",
            "perturbation loss: 0.0001\n"
          ]
        },
        {
          "output_type": "stream",
          "name": "stderr",
          "text": [
            "\r 83%|████████▎ | 826/1000 [15:38<03:13,  1.11s/it]"
          ]
        },
        {
          "output_type": "stream",
          "name": "stdout",
          "text": [
            "Validation acc: 0.9453\n",
            "\n",
            "Start of epoch 826\n",
            "Training loss: 0.0000\n",
            "Training metric: 0.9823\n",
            "perturbation loss: 0.0003\n",
            "Validation acc: 0.9531\n"
          ]
        },
        {
          "output_type": "stream",
          "name": "stderr",
          "text": [
            "\r 83%|████████▎ | 827/1000 [15:39<03:06,  1.08s/it]"
          ]
        },
        {
          "output_type": "stream",
          "name": "stdout",
          "text": [
            "\n",
            "Start of epoch 827\n",
            "Training loss: 0.0001\n",
            "Training metric: 0.9823\n",
            "perturbation loss: 0.0006\n"
          ]
        },
        {
          "output_type": "stream",
          "name": "stderr",
          "text": [
            "\r 83%|████████▎ | 828/1000 [15:40<03:06,  1.08s/it]"
          ]
        },
        {
          "output_type": "stream",
          "name": "stdout",
          "text": [
            "Validation acc: 0.9531\n",
            "\n",
            "Start of epoch 828\n",
            "Training loss: 0.0000\n",
            "Training metric: 0.9823\n",
            "perturbation loss: 0.0000\n"
          ]
        },
        {
          "output_type": "stream",
          "name": "stderr",
          "text": [
            "\r 83%|████████▎ | 829/1000 [15:41<03:05,  1.09s/it]"
          ]
        },
        {
          "output_type": "stream",
          "name": "stdout",
          "text": [
            "Validation acc: 0.9688\n",
            "\n",
            "Start of epoch 829\n",
            "Training loss: 0.0000\n",
            "Training metric: 0.9824\n",
            "perturbation loss: 0.0000\n"
          ]
        },
        {
          "output_type": "stream",
          "name": "stderr",
          "text": [
            "\r 83%|████████▎ | 830/1000 [15:42<03:01,  1.07s/it]"
          ]
        },
        {
          "output_type": "stream",
          "name": "stdout",
          "text": [
            "Validation acc: 0.9531\n",
            "\n",
            "Start of epoch 830\n",
            "Training loss: 0.0000\n",
            "Training metric: 0.9824\n",
            "perturbation loss: 0.0000\n"
          ]
        },
        {
          "output_type": "stream",
          "name": "stderr",
          "text": [
            "\r 83%|████████▎ | 831/1000 [15:43<03:01,  1.07s/it]"
          ]
        },
        {
          "output_type": "stream",
          "name": "stdout",
          "text": [
            "Validation acc: 0.9609\n",
            "\n",
            "Start of epoch 831\n",
            "Training loss: 0.0000\n",
            "Training metric: 0.9824\n",
            "perturbation loss: 0.0000\n"
          ]
        },
        {
          "output_type": "stream",
          "name": "stderr",
          "text": [
            "\r 83%|████████▎ | 832/1000 [15:44<03:02,  1.08s/it]"
          ]
        },
        {
          "output_type": "stream",
          "name": "stdout",
          "text": [
            "Validation acc: 0.9531\n",
            "\n",
            "Start of epoch 832\n",
            "Training loss: 0.0000\n",
            "Training metric: 0.9824\n",
            "perturbation loss: 0.0000\n"
          ]
        },
        {
          "output_type": "stream",
          "name": "stderr",
          "text": [
            "\r 83%|████████▎ | 833/1000 [15:46<03:12,  1.15s/it]"
          ]
        },
        {
          "output_type": "stream",
          "name": "stdout",
          "text": [
            "Validation acc: 0.9531\n",
            "\n",
            "Start of epoch 833\n",
            "Training loss: 0.0000\n",
            "Training metric: 0.9824\n",
            "perturbation loss: 0.0000\n"
          ]
        },
        {
          "output_type": "stream",
          "name": "stderr",
          "text": [
            "\r 83%|████████▎ | 834/1000 [15:47<03:19,  1.20s/it]"
          ]
        },
        {
          "output_type": "stream",
          "name": "stdout",
          "text": [
            "Validation acc: 0.9531\n",
            "\n",
            "Start of epoch 834\n",
            "Training loss: 0.0000\n",
            "Training metric: 0.9825\n",
            "perturbation loss: 0.0000\n"
          ]
        },
        {
          "output_type": "stream",
          "name": "stderr",
          "text": [
            "\r 84%|████████▎ | 835/1000 [15:48<03:23,  1.23s/it]"
          ]
        },
        {
          "output_type": "stream",
          "name": "stdout",
          "text": [
            "Validation acc: 0.9531\n",
            "\n",
            "Start of epoch 835\n",
            "Training loss: 0.0000\n",
            "Training metric: 0.9825\n",
            "perturbation loss: 0.0000\n"
          ]
        },
        {
          "output_type": "stream",
          "name": "stderr",
          "text": [
            "\r 84%|████████▎ | 836/1000 [15:49<03:11,  1.17s/it]"
          ]
        },
        {
          "output_type": "stream",
          "name": "stdout",
          "text": [
            "Validation acc: 0.9531\n",
            "\n",
            "Start of epoch 836\n",
            "Training loss: 0.0000\n",
            "Training metric: 0.9825\n",
            "perturbation loss: 0.0000\n"
          ]
        },
        {
          "output_type": "stream",
          "name": "stderr",
          "text": [
            "\r 84%|████████▎ | 837/1000 [15:50<03:03,  1.13s/it]"
          ]
        },
        {
          "output_type": "stream",
          "name": "stdout",
          "text": [
            "Validation acc: 0.9609\n",
            "\n",
            "Start of epoch 837\n",
            "Training loss: 0.0000\n",
            "Training metric: 0.9825\n",
            "perturbation loss: 0.0000\n"
          ]
        },
        {
          "output_type": "stream",
          "name": "stderr",
          "text": [
            "\r 84%|████████▍ | 838/1000 [15:51<02:56,  1.09s/it]"
          ]
        },
        {
          "output_type": "stream",
          "name": "stdout",
          "text": [
            "Validation acc: 0.9688\n",
            "\n",
            "Start of epoch 838\n",
            "Training loss: 0.0000\n",
            "Training metric: 0.9826\n",
            "perturbation loss: 0.0000\n"
          ]
        },
        {
          "output_type": "stream",
          "name": "stderr",
          "text": [
            "\r 84%|████████▍ | 839/1000 [15:52<02:52,  1.07s/it]"
          ]
        },
        {
          "output_type": "stream",
          "name": "stdout",
          "text": [
            "Validation acc: 0.9609\n",
            "\n",
            "Start of epoch 839\n",
            "Training loss: 0.0000\n",
            "Training metric: 0.9826\n",
            "perturbation loss: 0.0000\n"
          ]
        },
        {
          "output_type": "stream",
          "name": "stderr",
          "text": [
            "\r 84%|████████▍ | 840/1000 [15:53<02:52,  1.08s/it]"
          ]
        },
        {
          "output_type": "stream",
          "name": "stdout",
          "text": [
            "Validation acc: 0.9609\n",
            "\n",
            "Start of epoch 840\n",
            "Training loss: 0.0000\n",
            "Training metric: 0.9826\n",
            "perturbation loss: 0.0000\n"
          ]
        },
        {
          "output_type": "stream",
          "name": "stderr",
          "text": [
            "\r 84%|████████▍ | 841/1000 [15:54<02:47,  1.05s/it]"
          ]
        },
        {
          "output_type": "stream",
          "name": "stdout",
          "text": [
            "Validation acc: 0.9609\n",
            "\n",
            "Start of epoch 841\n",
            "Training loss: 0.0000\n",
            "Training metric: 0.9826\n",
            "perturbation loss: 0.0001\n"
          ]
        },
        {
          "output_type": "stream",
          "name": "stderr",
          "text": [
            "\r 84%|████████▍ | 842/1000 [15:55<02:44,  1.04s/it]"
          ]
        },
        {
          "output_type": "stream",
          "name": "stdout",
          "text": [
            "Validation acc: 0.9531\n",
            "\n",
            "Start of epoch 842\n",
            "Training loss: 0.0000\n",
            "Training metric: 0.9826\n",
            "perturbation loss: 0.0000\n"
          ]
        },
        {
          "output_type": "stream",
          "name": "stderr",
          "text": [
            "\r 84%|████████▍ | 843/1000 [15:56<02:41,  1.03s/it]"
          ]
        },
        {
          "output_type": "stream",
          "name": "stdout",
          "text": [
            "Validation acc: 0.9531\n",
            "\n",
            "Start of epoch 843\n",
            "Training loss: 0.0000\n",
            "Training metric: 0.9827\n",
            "perturbation loss: 0.0000\n"
          ]
        },
        {
          "output_type": "stream",
          "name": "stderr",
          "text": [
            "\r 84%|████████▍ | 844/1000 [15:58<02:42,  1.04s/it]"
          ]
        },
        {
          "output_type": "stream",
          "name": "stdout",
          "text": [
            "Validation acc: 0.9531\n",
            "\n",
            "Start of epoch 844\n",
            "Training loss: 0.0000\n",
            "Training metric: 0.9827\n",
            "perturbation loss: 0.0000\n"
          ]
        },
        {
          "output_type": "stream",
          "name": "stderr",
          "text": [
            "\r 84%|████████▍ | 845/1000 [15:59<02:52,  1.11s/it]"
          ]
        },
        {
          "output_type": "stream",
          "name": "stdout",
          "text": [
            "Validation acc: 0.9531\n",
            "\n",
            "Start of epoch 845\n",
            "Training loss: 0.0000\n",
            "Training metric: 0.9827\n",
            "perturbation loss: 0.0000\n"
          ]
        },
        {
          "output_type": "stream",
          "name": "stderr",
          "text": [
            "\r 85%|████████▍ | 846/1000 [16:00<03:01,  1.18s/it]"
          ]
        },
        {
          "output_type": "stream",
          "name": "stdout",
          "text": [
            "Validation acc: 0.9375\n",
            "\n",
            "Start of epoch 846\n",
            "Training loss: 0.0000\n",
            "Training metric: 0.9827\n",
            "perturbation loss: 0.0000\n"
          ]
        },
        {
          "output_type": "stream",
          "name": "stderr",
          "text": [
            "\r 85%|████████▍ | 847/1000 [16:02<03:08,  1.23s/it]"
          ]
        },
        {
          "output_type": "stream",
          "name": "stdout",
          "text": [
            "Validation acc: 0.9453\n",
            "\n",
            "Start of epoch 847\n",
            "Training loss: 0.0000\n",
            "Training metric: 0.9827\n",
            "perturbation loss: 0.0000\n"
          ]
        },
        {
          "output_type": "stream",
          "name": "stderr",
          "text": [
            "\r 85%|████████▍ | 848/1000 [16:03<03:02,  1.20s/it]"
          ]
        },
        {
          "output_type": "stream",
          "name": "stdout",
          "text": [
            "Validation acc: 0.9609\n",
            "\n",
            "Start of epoch 848\n",
            "Training loss: 0.0000\n",
            "Training metric: 0.9828\n",
            "perturbation loss: 0.0001\n"
          ]
        },
        {
          "output_type": "stream",
          "name": "stderr",
          "text": [
            "\r 85%|████████▍ | 849/1000 [16:04<02:56,  1.17s/it]"
          ]
        },
        {
          "output_type": "stream",
          "name": "stdout",
          "text": [
            "Validation acc: 0.9531\n",
            "\n",
            "Start of epoch 849\n",
            "Training loss: 0.0000\n",
            "Training metric: 0.9828\n",
            "perturbation loss: 0.0001\n"
          ]
        },
        {
          "output_type": "stream",
          "name": "stderr",
          "text": [
            "\r 85%|████████▌ | 850/1000 [16:05<02:47,  1.12s/it]"
          ]
        },
        {
          "output_type": "stream",
          "name": "stdout",
          "text": [
            "Validation acc: 0.9609\n",
            "\n",
            "Start of epoch 850\n",
            "Training loss: 0.0001\n",
            "Training metric: 0.9828\n",
            "perturbation loss: 0.0001\n"
          ]
        },
        {
          "output_type": "stream",
          "name": "stderr",
          "text": [
            "\r 85%|████████▌ | 851/1000 [16:06<02:42,  1.09s/it]"
          ]
        },
        {
          "output_type": "stream",
          "name": "stdout",
          "text": [
            "Validation acc: 0.9375\n",
            "\n",
            "Start of epoch 851\n",
            "Training loss: 0.0000\n",
            "Training metric: 0.9828\n",
            "perturbation loss: 0.0000\n"
          ]
        },
        {
          "output_type": "stream",
          "name": "stderr",
          "text": [
            "\r 85%|████████▌ | 852/1000 [16:07<02:38,  1.07s/it]"
          ]
        },
        {
          "output_type": "stream",
          "name": "stdout",
          "text": [
            "Validation acc: 0.9453\n",
            "\n",
            "Start of epoch 852\n",
            "Training loss: 0.0000\n",
            "Training metric: 0.9828\n",
            "perturbation loss: 0.0000\n"
          ]
        },
        {
          "output_type": "stream",
          "name": "stderr",
          "text": [
            "\r 85%|████████▌ | 853/1000 [16:08<02:35,  1.06s/it]"
          ]
        },
        {
          "output_type": "stream",
          "name": "stdout",
          "text": [
            "Validation acc: 0.9531\n",
            "\n",
            "Start of epoch 853\n",
            "Training loss: 0.0000\n",
            "Training metric: 0.9829\n",
            "perturbation loss: 0.0000\n"
          ]
        },
        {
          "output_type": "stream",
          "name": "stderr",
          "text": [
            "\r 85%|████████▌ | 854/1000 [16:09<02:33,  1.05s/it]"
          ]
        },
        {
          "output_type": "stream",
          "name": "stdout",
          "text": [
            "Validation acc: 0.9609\n",
            "\n",
            "Start of epoch 854\n",
            "Training loss: 0.0000\n",
            "Training metric: 0.9829\n",
            "perturbation loss: 0.0005\n"
          ]
        },
        {
          "output_type": "stream",
          "name": "stderr",
          "text": [
            "\r 86%|████████▌ | 855/1000 [16:10<02:33,  1.06s/it]"
          ]
        },
        {
          "output_type": "stream",
          "name": "stdout",
          "text": [
            "Validation acc: 0.9609\n",
            "\n",
            "Start of epoch 855\n",
            "Training loss: 0.0000\n",
            "Training metric: 0.9829\n",
            "perturbation loss: 0.0000\n"
          ]
        },
        {
          "output_type": "stream",
          "name": "stderr",
          "text": [
            "\r 86%|████████▌ | 856/1000 [16:11<02:34,  1.07s/it]"
          ]
        },
        {
          "output_type": "stream",
          "name": "stdout",
          "text": [
            "Validation acc: 0.9531\n",
            "\n",
            "Start of epoch 856\n",
            "Training loss: 0.0000\n",
            "Training metric: 0.9829\n",
            "perturbation loss: 0.0000\n"
          ]
        },
        {
          "output_type": "stream",
          "name": "stderr",
          "text": [
            "\r 86%|████████▌ | 857/1000 [16:13<02:54,  1.22s/it]"
          ]
        },
        {
          "output_type": "stream",
          "name": "stdout",
          "text": [
            "Validation acc: 0.9453\n",
            "\n",
            "Start of epoch 857\n",
            "Training loss: 0.0000\n",
            "Training metric: 0.9829\n",
            "perturbation loss: 0.0000\n"
          ]
        },
        {
          "output_type": "stream",
          "name": "stderr",
          "text": [
            "\r 86%|████████▌ | 858/1000 [16:14<02:57,  1.25s/it]"
          ]
        },
        {
          "output_type": "stream",
          "name": "stdout",
          "text": [
            "Validation acc: 0.9453\n",
            "\n",
            "Start of epoch 858\n",
            "Training loss: 0.0000\n",
            "Training metric: 0.9830\n",
            "perturbation loss: 0.0000\n"
          ]
        },
        {
          "output_type": "stream",
          "name": "stderr",
          "text": [
            "\r 86%|████████▌ | 859/1000 [16:15<03:00,  1.28s/it]"
          ]
        },
        {
          "output_type": "stream",
          "name": "stdout",
          "text": [
            "Validation acc: 0.9453\n",
            "\n",
            "Start of epoch 859\n",
            "Training loss: 0.0000\n",
            "Training metric: 0.9830\n",
            "perturbation loss: 0.0003\n"
          ]
        },
        {
          "output_type": "stream",
          "name": "stderr",
          "text": [
            "\r 86%|████████▌ | 860/1000 [16:16<02:47,  1.20s/it]"
          ]
        },
        {
          "output_type": "stream",
          "name": "stdout",
          "text": [
            "Validation acc: 0.9375\n",
            "\n",
            "Start of epoch 860\n",
            "Training loss: 0.0000\n",
            "Training metric: 0.9830\n",
            "perturbation loss: 0.0000\n"
          ]
        },
        {
          "output_type": "stream",
          "name": "stderr",
          "text": [
            "\r 86%|████████▌ | 861/1000 [16:17<02:44,  1.18s/it]"
          ]
        },
        {
          "output_type": "stream",
          "name": "stdout",
          "text": [
            "Validation acc: 0.9375\n",
            "\n",
            "Start of epoch 861\n",
            "Training loss: 0.0000\n",
            "Training metric: 0.9830\n",
            "perturbation loss: 0.0001\n"
          ]
        },
        {
          "output_type": "stream",
          "name": "stderr",
          "text": [
            "\r 86%|████████▌ | 862/1000 [16:18<02:38,  1.15s/it]"
          ]
        },
        {
          "output_type": "stream",
          "name": "stdout",
          "text": [
            "Validation acc: 0.9375\n",
            "\n",
            "Start of epoch 862\n",
            "Training loss: 0.0000\n",
            "Training metric: 0.9830\n",
            "perturbation loss: 0.0000\n"
          ]
        },
        {
          "output_type": "stream",
          "name": "stderr",
          "text": [
            "\r 86%|████████▋ | 863/1000 [16:20<02:35,  1.14s/it]"
          ]
        },
        {
          "output_type": "stream",
          "name": "stdout",
          "text": [
            "Validation acc: 0.9375\n",
            "\n",
            "Start of epoch 863\n",
            "Training loss: 0.0000\n",
            "Training metric: 0.9831\n",
            "perturbation loss: 0.0000\n"
          ]
        },
        {
          "output_type": "stream",
          "name": "stderr",
          "text": [
            "\r 86%|████████▋ | 864/1000 [16:21<02:33,  1.13s/it]"
          ]
        },
        {
          "output_type": "stream",
          "name": "stdout",
          "text": [
            "Validation acc: 0.9141\n",
            "\n",
            "Start of epoch 864\n",
            "Training loss: 0.0001\n",
            "Training metric: 0.9831\n",
            "perturbation loss: 0.0026\n"
          ]
        },
        {
          "output_type": "stream",
          "name": "stderr",
          "text": [
            "\r 86%|████████▋ | 865/1000 [16:22<02:31,  1.12s/it]"
          ]
        },
        {
          "output_type": "stream",
          "name": "stdout",
          "text": [
            "Validation acc: 0.9219\n",
            "\n",
            "Start of epoch 865\n",
            "Training loss: 0.0000\n",
            "Training metric: 0.9831\n",
            "perturbation loss: 0.0001\n"
          ]
        },
        {
          "output_type": "stream",
          "name": "stderr",
          "text": [
            "\r 87%|████████▋ | 866/1000 [16:23<02:29,  1.11s/it]"
          ]
        },
        {
          "output_type": "stream",
          "name": "stdout",
          "text": [
            "Validation acc: 0.9297\n",
            "\n",
            "Start of epoch 866\n",
            "Training loss: 0.0000\n",
            "Training metric: 0.9831\n",
            "perturbation loss: 0.0006\n"
          ]
        },
        {
          "output_type": "stream",
          "name": "stderr",
          "text": [
            "\r 87%|████████▋ | 867/1000 [16:24<02:28,  1.11s/it]"
          ]
        },
        {
          "output_type": "stream",
          "name": "stdout",
          "text": [
            "Validation acc: 0.9219\n",
            "\n",
            "Start of epoch 867\n",
            "Training loss: 0.0000\n",
            "Training metric: 0.9831\n",
            "perturbation loss: 0.0000\n"
          ]
        },
        {
          "output_type": "stream",
          "name": "stderr",
          "text": [
            "\r 87%|████████▋ | 868/1000 [16:25<02:26,  1.11s/it]"
          ]
        },
        {
          "output_type": "stream",
          "name": "stdout",
          "text": [
            "Validation acc: 0.9375\n",
            "\n",
            "Start of epoch 868\n",
            "Training loss: 0.0000\n",
            "Training metric: 0.9832\n",
            "perturbation loss: 0.0000\n"
          ]
        },
        {
          "output_type": "stream",
          "name": "stderr",
          "text": [
            "\r 87%|████████▋ | 869/1000 [16:26<02:34,  1.18s/it]"
          ]
        },
        {
          "output_type": "stream",
          "name": "stdout",
          "text": [
            "Validation acc: 0.9375\n",
            "\n",
            "Start of epoch 869\n",
            "Training loss: 0.0000\n",
            "Training metric: 0.9832\n",
            "perturbation loss: 0.0000\n"
          ]
        },
        {
          "output_type": "stream",
          "name": "stderr",
          "text": [
            "\r 87%|████████▋ | 870/1000 [16:28<02:39,  1.22s/it]"
          ]
        },
        {
          "output_type": "stream",
          "name": "stdout",
          "text": [
            "Validation acc: 0.9375\n",
            "\n",
            "Start of epoch 870\n",
            "Training loss: 0.0000\n",
            "Training metric: 0.9832\n",
            "perturbation loss: 0.0000\n"
          ]
        },
        {
          "output_type": "stream",
          "name": "stderr",
          "text": [
            "\r 87%|████████▋ | 871/1000 [16:29<02:39,  1.24s/it]"
          ]
        },
        {
          "output_type": "stream",
          "name": "stdout",
          "text": [
            "Validation acc: 0.9297\n",
            "\n",
            "Start of epoch 871\n",
            "Training loss: 0.0000\n",
            "Training metric: 0.9832\n",
            "perturbation loss: 0.0000\n"
          ]
        },
        {
          "output_type": "stream",
          "name": "stderr",
          "text": [
            "\r 87%|████████▋ | 872/1000 [16:30<02:34,  1.20s/it]"
          ]
        },
        {
          "output_type": "stream",
          "name": "stdout",
          "text": [
            "Validation acc: 0.9375\n",
            "\n",
            "Start of epoch 872\n",
            "Training loss: 0.0000\n",
            "Training metric: 0.9832\n",
            "perturbation loss: 0.0001\n"
          ]
        },
        {
          "output_type": "stream",
          "name": "stderr",
          "text": [
            "\r 87%|████████▋ | 873/1000 [16:31<02:26,  1.16s/it]"
          ]
        },
        {
          "output_type": "stream",
          "name": "stdout",
          "text": [
            "Validation acc: 0.9531\n",
            "\n",
            "Start of epoch 873\n",
            "Training loss: 0.0000\n",
            "Training metric: 0.9832\n",
            "perturbation loss: 0.0000\n"
          ]
        },
        {
          "output_type": "stream",
          "name": "stderr",
          "text": [
            "\r 87%|████████▋ | 874/1000 [16:32<02:19,  1.11s/it]"
          ]
        },
        {
          "output_type": "stream",
          "name": "stdout",
          "text": [
            "Validation acc: 0.9297\n",
            "\n",
            "Start of epoch 874\n",
            "Training loss: 0.0000\n",
            "Training metric: 0.9833\n",
            "perturbation loss: 0.0000\n"
          ]
        },
        {
          "output_type": "stream",
          "name": "stderr",
          "text": [
            "\r 88%|████████▊ | 875/1000 [16:33<02:14,  1.07s/it]"
          ]
        },
        {
          "output_type": "stream",
          "name": "stdout",
          "text": [
            "Validation acc: 0.9453\n",
            "\n",
            "Start of epoch 875\n",
            "Training loss: 0.0000\n",
            "Training metric: 0.9833\n",
            "perturbation loss: 0.0000\n"
          ]
        },
        {
          "output_type": "stream",
          "name": "stderr",
          "text": [
            "\r 88%|████████▊ | 876/1000 [16:34<02:10,  1.05s/it]"
          ]
        },
        {
          "output_type": "stream",
          "name": "stdout",
          "text": [
            "Validation acc: 0.9453\n",
            "\n",
            "Start of epoch 876\n",
            "Training loss: 0.0000\n",
            "Training metric: 0.9833\n",
            "perturbation loss: 0.0000\n",
            "Validation acc: 0.9375\n"
          ]
        },
        {
          "output_type": "stream",
          "name": "stderr",
          "text": [
            "\r 88%|████████▊ | 877/1000 [16:35<02:06,  1.03s/it]"
          ]
        },
        {
          "output_type": "stream",
          "name": "stdout",
          "text": [
            "\n",
            "Start of epoch 877\n",
            "Training loss: 0.0000\n",
            "Training metric: 0.9833\n",
            "perturbation loss: 0.0000\n"
          ]
        },
        {
          "output_type": "stream",
          "name": "stderr",
          "text": [
            "\r 88%|████████▊ | 878/1000 [16:36<02:05,  1.03s/it]"
          ]
        },
        {
          "output_type": "stream",
          "name": "stdout",
          "text": [
            "Validation acc: 0.9531\n",
            "\n",
            "Start of epoch 878\n",
            "Training loss: 0.0000\n",
            "Training metric: 0.9833\n",
            "perturbation loss: 0.0000\n"
          ]
        },
        {
          "output_type": "stream",
          "name": "stderr",
          "text": [
            "\r 88%|████████▊ | 879/1000 [16:37<02:02,  1.02s/it]"
          ]
        },
        {
          "output_type": "stream",
          "name": "stdout",
          "text": [
            "Validation acc: 0.9531\n",
            "\n",
            "Start of epoch 879\n",
            "Training loss: 0.0000\n",
            "Training metric: 0.9834\n",
            "perturbation loss: 0.0000\n"
          ]
        },
        {
          "output_type": "stream",
          "name": "stderr",
          "text": [
            "\r 88%|████████▊ | 880/1000 [16:38<02:05,  1.05s/it]"
          ]
        },
        {
          "output_type": "stream",
          "name": "stdout",
          "text": [
            "Validation acc: 0.9531\n",
            "\n",
            "Start of epoch 880\n",
            "Training loss: 0.0000\n",
            "Training metric: 0.9834\n",
            "perturbation loss: 0.0000\n"
          ]
        },
        {
          "output_type": "stream",
          "name": "stderr",
          "text": [
            "\r 88%|████████▊ | 881/1000 [16:39<02:09,  1.09s/it]"
          ]
        },
        {
          "output_type": "stream",
          "name": "stdout",
          "text": [
            "Validation acc: 0.9453\n",
            "\n",
            "Start of epoch 881\n",
            "Training loss: 0.0000\n",
            "Training metric: 0.9834\n",
            "perturbation loss: 0.0000\n"
          ]
        },
        {
          "output_type": "stream",
          "name": "stderr",
          "text": [
            "\r 88%|████████▊ | 882/1000 [16:41<02:17,  1.16s/it]"
          ]
        },
        {
          "output_type": "stream",
          "name": "stdout",
          "text": [
            "Validation acc: 0.9531\n",
            "\n",
            "Start of epoch 882\n",
            "Training loss: 0.0000\n",
            "Training metric: 0.9834\n",
            "perturbation loss: 0.0000\n"
          ]
        },
        {
          "output_type": "stream",
          "name": "stderr",
          "text": [
            "\r 88%|████████▊ | 883/1000 [16:42<02:21,  1.21s/it]"
          ]
        },
        {
          "output_type": "stream",
          "name": "stdout",
          "text": [
            "Validation acc: 0.9453\n",
            "\n",
            "Start of epoch 883\n",
            "Training loss: 0.0000\n",
            "Training metric: 0.9834\n",
            "perturbation loss: 0.0000\n"
          ]
        },
        {
          "output_type": "stream",
          "name": "stderr",
          "text": [
            "\r 88%|████████▊ | 884/1000 [16:43<02:20,  1.21s/it]"
          ]
        },
        {
          "output_type": "stream",
          "name": "stdout",
          "text": [
            "Validation acc: 0.9531\n",
            "\n",
            "Start of epoch 884\n",
            "Training loss: 0.0000\n",
            "Training metric: 0.9835\n",
            "perturbation loss: 0.0000\n"
          ]
        },
        {
          "output_type": "stream",
          "name": "stderr",
          "text": [
            "\r 88%|████████▊ | 885/1000 [16:44<02:14,  1.17s/it]"
          ]
        },
        {
          "output_type": "stream",
          "name": "stdout",
          "text": [
            "Validation acc: 0.9375\n",
            "\n",
            "Start of epoch 885\n",
            "Training loss: 0.0000\n",
            "Training metric: 0.9835\n",
            "perturbation loss: 0.0001\n"
          ]
        },
        {
          "output_type": "stream",
          "name": "stderr",
          "text": [
            "\r 89%|████████▊ | 886/1000 [16:46<02:10,  1.15s/it]"
          ]
        },
        {
          "output_type": "stream",
          "name": "stdout",
          "text": [
            "Validation acc: 0.9453\n",
            "\n",
            "Start of epoch 886\n",
            "Training loss: 0.0000\n",
            "Training metric: 0.9835\n",
            "perturbation loss: 0.0000\n"
          ]
        },
        {
          "output_type": "stream",
          "name": "stderr",
          "text": [
            "\r 89%|████████▊ | 887/1000 [16:47<02:07,  1.13s/it]"
          ]
        },
        {
          "output_type": "stream",
          "name": "stdout",
          "text": [
            "Validation acc: 0.9297\n",
            "\n",
            "Start of epoch 887\n",
            "Training loss: 0.0000\n",
            "Training metric: 0.9835\n",
            "perturbation loss: 0.0000\n"
          ]
        },
        {
          "output_type": "stream",
          "name": "stderr",
          "text": [
            "\r 89%|████████▉ | 888/1000 [16:48<02:02,  1.09s/it]"
          ]
        },
        {
          "output_type": "stream",
          "name": "stdout",
          "text": [
            "Validation acc: 0.9297\n",
            "\n",
            "Start of epoch 888\n",
            "Training loss: 0.0000\n",
            "Training metric: 0.9835\n",
            "perturbation loss: 0.0000\n"
          ]
        },
        {
          "output_type": "stream",
          "name": "stderr",
          "text": [
            "\r 89%|████████▉ | 889/1000 [16:49<01:58,  1.07s/it]"
          ]
        },
        {
          "output_type": "stream",
          "name": "stdout",
          "text": [
            "Validation acc: 0.9219\n",
            "\n",
            "Start of epoch 889\n",
            "Training loss: 0.0000\n",
            "Training metric: 0.9835\n",
            "perturbation loss: 0.0000\n",
            "Validation acc: 0.9297\n"
          ]
        },
        {
          "output_type": "stream",
          "name": "stderr",
          "text": [
            "\r 89%|████████▉ | 890/1000 [16:50<01:55,  1.05s/it]"
          ]
        },
        {
          "output_type": "stream",
          "name": "stdout",
          "text": [
            "\n",
            "Start of epoch 890\n",
            "Training loss: 0.0000\n",
            "Training metric: 0.9836\n",
            "perturbation loss: 0.0000\n"
          ]
        },
        {
          "output_type": "stream",
          "name": "stderr",
          "text": [
            "\r 89%|████████▉ | 891/1000 [16:51<01:53,  1.04s/it]"
          ]
        },
        {
          "output_type": "stream",
          "name": "stdout",
          "text": [
            "Validation acc: 0.9609\n",
            "\n",
            "Start of epoch 891\n",
            "Training loss: 0.0000\n",
            "Training metric: 0.9836\n",
            "perturbation loss: 0.0001\n"
          ]
        },
        {
          "output_type": "stream",
          "name": "stderr",
          "text": [
            "\r 89%|████████▉ | 892/1000 [16:52<01:54,  1.06s/it]"
          ]
        },
        {
          "output_type": "stream",
          "name": "stdout",
          "text": [
            "Validation acc: 0.9609\n",
            "\n",
            "Start of epoch 892\n",
            "Training loss: 0.0000\n",
            "Training metric: 0.9836\n",
            "perturbation loss: 0.0000\n"
          ]
        },
        {
          "output_type": "stream",
          "name": "stderr",
          "text": [
            "\r 89%|████████▉ | 893/1000 [16:53<01:54,  1.07s/it]"
          ]
        },
        {
          "output_type": "stream",
          "name": "stdout",
          "text": [
            "Validation acc: 0.9453\n",
            "\n",
            "Start of epoch 893\n",
            "Training loss: 0.0000\n",
            "Training metric: 0.9836\n",
            "perturbation loss: 0.0000\n"
          ]
        },
        {
          "output_type": "stream",
          "name": "stderr",
          "text": [
            "\r 89%|████████▉ | 894/1000 [16:54<02:11,  1.24s/it]"
          ]
        },
        {
          "output_type": "stream",
          "name": "stdout",
          "text": [
            "Validation acc: 0.9531\n",
            "\n",
            "Start of epoch 894\n",
            "Training loss: 0.0000\n",
            "Training metric: 0.9836\n",
            "perturbation loss: 0.0000\n"
          ]
        },
        {
          "output_type": "stream",
          "name": "stderr",
          "text": [
            "\r 90%|████████▉ | 895/1000 [16:56<02:12,  1.27s/it]"
          ]
        },
        {
          "output_type": "stream",
          "name": "stdout",
          "text": [
            "Validation acc: 0.9531\n",
            "\n",
            "Start of epoch 895\n",
            "Training loss: 0.0001\n",
            "Training metric: 0.9837\n",
            "perturbation loss: 0.0025\n",
            "Validation acc: 0.9609\n"
          ]
        },
        {
          "output_type": "stream",
          "name": "stderr",
          "text": [
            "\r 90%|████████▉ | 896/1000 [16:57<02:05,  1.21s/it]"
          ]
        },
        {
          "output_type": "stream",
          "name": "stdout",
          "text": [
            "\n",
            "Start of epoch 896\n",
            "Training loss: 0.0064\n",
            "Training metric: 0.9837\n",
            "perturbation loss: 0.0031\n"
          ]
        },
        {
          "output_type": "stream",
          "name": "stderr",
          "text": [
            "\r 90%|████████▉ | 897/1000 [16:58<02:00,  1.17s/it]"
          ]
        },
        {
          "output_type": "stream",
          "name": "stdout",
          "text": [
            "Validation acc: 0.9609\n",
            "\n",
            "Start of epoch 897\n",
            "Training loss: 0.0000\n",
            "Training metric: 0.9837\n",
            "perturbation loss: 0.0000\n"
          ]
        },
        {
          "output_type": "stream",
          "name": "stderr",
          "text": [
            "\r 90%|████████▉ | 898/1000 [16:59<01:54,  1.12s/it]"
          ]
        },
        {
          "output_type": "stream",
          "name": "stdout",
          "text": [
            "Validation acc: 0.9219\n",
            "\n",
            "Start of epoch 898\n",
            "Training loss: 0.0003\n",
            "Training metric: 0.9837\n",
            "perturbation loss: 0.0012\n",
            "Validation acc: 0.9219\n"
          ]
        },
        {
          "output_type": "stream",
          "name": "stderr",
          "text": [
            "\r 90%|████████▉ | 899/1000 [17:00<01:49,  1.08s/it]"
          ]
        },
        {
          "output_type": "stream",
          "name": "stdout",
          "text": [
            "\n",
            "Start of epoch 899\n",
            "Training loss: 0.0000\n",
            "Training metric: 0.9837\n",
            "perturbation loss: 0.0000\n"
          ]
        },
        {
          "output_type": "stream",
          "name": "stderr",
          "text": [
            "\r 90%|█████████ | 900/1000 [17:01<01:48,  1.09s/it]"
          ]
        },
        {
          "output_type": "stream",
          "name": "stdout",
          "text": [
            "Validation acc: 0.9297\n",
            "\n",
            "Start of epoch 900\n",
            "Training loss: 0.0000\n",
            "Training metric: 0.9837\n",
            "perturbation loss: 0.0000\n",
            "Validation acc: 0.9375\n"
          ]
        },
        {
          "output_type": "stream",
          "name": "stderr",
          "text": [
            "\r 90%|█████████ | 901/1000 [17:02<01:45,  1.06s/it]"
          ]
        },
        {
          "output_type": "stream",
          "name": "stdout",
          "text": [
            "\n",
            "Start of epoch 901\n",
            "Training loss: 0.0000\n",
            "Training metric: 0.9838\n",
            "perturbation loss: 0.0000\n",
            "Validation acc: 0.9453\n"
          ]
        },
        {
          "output_type": "stream",
          "name": "stderr",
          "text": [
            "\r 90%|█████████ | 902/1000 [17:03<01:42,  1.05s/it]"
          ]
        },
        {
          "output_type": "stream",
          "name": "stdout",
          "text": [
            "\n",
            "Start of epoch 902\n",
            "Training loss: 0.0000\n",
            "Training metric: 0.9838\n",
            "perturbation loss: 0.0000\n"
          ]
        },
        {
          "output_type": "stream",
          "name": "stderr",
          "text": [
            "\r 90%|█████████ | 903/1000 [17:04<01:42,  1.06s/it]"
          ]
        },
        {
          "output_type": "stream",
          "name": "stdout",
          "text": [
            "Validation acc: 0.9453\n",
            "\n",
            "Start of epoch 903\n",
            "Training loss: 0.0000\n",
            "Training metric: 0.9838\n",
            "perturbation loss: 0.0000\n"
          ]
        },
        {
          "output_type": "stream",
          "name": "stderr",
          "text": [
            "\r 90%|█████████ | 904/1000 [17:05<01:42,  1.07s/it]"
          ]
        },
        {
          "output_type": "stream",
          "name": "stdout",
          "text": [
            "Validation acc: 0.9375\n",
            "\n",
            "Start of epoch 904\n",
            "Training loss: 0.0000\n",
            "Training metric: 0.9838\n",
            "perturbation loss: 0.0000\n"
          ]
        },
        {
          "output_type": "stream",
          "name": "stderr",
          "text": [
            "\r 90%|█████████ | 905/1000 [17:06<01:43,  1.09s/it]"
          ]
        },
        {
          "output_type": "stream",
          "name": "stdout",
          "text": [
            "Validation acc: 0.9219\n",
            "\n",
            "Start of epoch 905\n",
            "Training loss: 0.0000\n",
            "Training metric: 0.9838\n",
            "perturbation loss: 0.0005\n"
          ]
        },
        {
          "output_type": "stream",
          "name": "stderr",
          "text": [
            "\r 91%|█████████ | 906/1000 [17:08<01:58,  1.26s/it]"
          ]
        },
        {
          "output_type": "stream",
          "name": "stdout",
          "text": [
            "Validation acc: 0.9453\n",
            "\n",
            "Start of epoch 906\n",
            "Training loss: 0.0000\n",
            "Training metric: 0.9839\n",
            "perturbation loss: 0.0000\n"
          ]
        },
        {
          "output_type": "stream",
          "name": "stderr",
          "text": [
            "\r 91%|█████████ | 907/1000 [17:09<02:00,  1.30s/it]"
          ]
        },
        {
          "output_type": "stream",
          "name": "stdout",
          "text": [
            "Validation acc: 0.9453\n",
            "\n",
            "Start of epoch 907\n",
            "Training loss: 0.0000\n",
            "Training metric: 0.9839\n",
            "perturbation loss: 0.0001\n"
          ]
        },
        {
          "output_type": "stream",
          "name": "stderr",
          "text": [
            "\r 91%|█████████ | 908/1000 [17:11<01:52,  1.23s/it]"
          ]
        },
        {
          "output_type": "stream",
          "name": "stdout",
          "text": [
            "Validation acc: 0.9531\n",
            "\n",
            "Start of epoch 908\n",
            "Training loss: 0.0000\n",
            "Training metric: 0.9839\n",
            "perturbation loss: 0.0000\n"
          ]
        },
        {
          "output_type": "stream",
          "name": "stderr",
          "text": [
            "\r 91%|█████████ | 909/1000 [17:12<01:48,  1.20s/it]"
          ]
        },
        {
          "output_type": "stream",
          "name": "stdout",
          "text": [
            "Validation acc: 0.9531\n",
            "\n",
            "Start of epoch 909\n",
            "Training loss: 0.0000\n",
            "Training metric: 0.9839\n",
            "perturbation loss: 0.0000\n"
          ]
        },
        {
          "output_type": "stream",
          "name": "stderr",
          "text": [
            "\r 91%|█████████ | 910/1000 [17:13<01:42,  1.14s/it]"
          ]
        },
        {
          "output_type": "stream",
          "name": "stdout",
          "text": [
            "Validation acc: 0.9453\n",
            "\n",
            "Start of epoch 910\n",
            "Training loss: 0.0003\n",
            "Training metric: 0.9839\n",
            "perturbation loss: 0.0095\n"
          ]
        },
        {
          "output_type": "stream",
          "name": "stderr",
          "text": [
            "\r 91%|█████████ | 911/1000 [17:14<01:37,  1.10s/it]"
          ]
        },
        {
          "output_type": "stream",
          "name": "stdout",
          "text": [
            "Validation acc: 0.9531\n",
            "\n",
            "Start of epoch 911\n",
            "Training loss: 0.0000\n",
            "Training metric: 0.9839\n",
            "perturbation loss: 0.0000\n",
            "Validation acc: 0.9609\n"
          ]
        },
        {
          "output_type": "stream",
          "name": "stderr",
          "text": [
            "\r 91%|█████████ | 912/1000 [17:15<01:33,  1.06s/it]"
          ]
        },
        {
          "output_type": "stream",
          "name": "stdout",
          "text": [
            "\n",
            "Start of epoch 912\n",
            "Training loss: 0.0000\n",
            "Training metric: 0.9840\n",
            "perturbation loss: 0.0002\n"
          ]
        },
        {
          "output_type": "stream",
          "name": "stderr",
          "text": [
            "\r 91%|█████████▏| 913/1000 [17:16<01:30,  1.04s/it]"
          ]
        },
        {
          "output_type": "stream",
          "name": "stdout",
          "text": [
            "Validation acc: 0.9453\n",
            "\n",
            "Start of epoch 913\n",
            "Training loss: 0.0000\n",
            "Training metric: 0.9840\n",
            "perturbation loss: 0.0000\n",
            "Validation acc: 0.9531\n"
          ]
        },
        {
          "output_type": "stream",
          "name": "stderr",
          "text": [
            "\r 91%|█████████▏| 914/1000 [17:17<01:28,  1.03s/it]"
          ]
        },
        {
          "output_type": "stream",
          "name": "stdout",
          "text": [
            "\n",
            "Start of epoch 914\n",
            "Training loss: 0.0000\n",
            "Training metric: 0.9840\n",
            "perturbation loss: 0.0000\n"
          ]
        },
        {
          "output_type": "stream",
          "name": "stderr",
          "text": [
            "\r 92%|█████████▏| 915/1000 [17:18<01:28,  1.04s/it]"
          ]
        },
        {
          "output_type": "stream",
          "name": "stdout",
          "text": [
            "Validation acc: 0.9609\n",
            "\n",
            "Start of epoch 915\n",
            "Training loss: 0.0000\n",
            "Training metric: 0.9840\n",
            "perturbation loss: 0.0000\n"
          ]
        },
        {
          "output_type": "stream",
          "name": "stderr",
          "text": [
            "\r 92%|█████████▏| 916/1000 [17:19<01:27,  1.05s/it]"
          ]
        },
        {
          "output_type": "stream",
          "name": "stdout",
          "text": [
            "Validation acc: 0.9531\n",
            "\n",
            "Start of epoch 916\n",
            "Training loss: 0.0000\n",
            "Training metric: 0.9840\n",
            "perturbation loss: 0.0000\n"
          ]
        },
        {
          "output_type": "stream",
          "name": "stderr",
          "text": [
            "\r 92%|█████████▏| 917/1000 [17:20<01:29,  1.08s/it]"
          ]
        },
        {
          "output_type": "stream",
          "name": "stdout",
          "text": [
            "Validation acc: 0.9453\n",
            "\n",
            "Start of epoch 917\n",
            "Training loss: 0.0000\n",
            "Training metric: 0.9840\n",
            "perturbation loss: 0.0001\n"
          ]
        },
        {
          "output_type": "stream",
          "name": "stderr",
          "text": [
            "\r 92%|█████████▏| 918/1000 [17:22<01:44,  1.28s/it]"
          ]
        },
        {
          "output_type": "stream",
          "name": "stdout",
          "text": [
            "Validation acc: 0.9531\n",
            "\n",
            "Start of epoch 918\n",
            "Training loss: 0.0000\n",
            "Training metric: 0.9841\n",
            "perturbation loss: 0.0001\n"
          ]
        },
        {
          "output_type": "stream",
          "name": "stderr",
          "text": [
            "\r 92%|█████████▏| 919/1000 [17:23<01:55,  1.43s/it]"
          ]
        },
        {
          "output_type": "stream",
          "name": "stdout",
          "text": [
            "Validation acc: 0.9453\n",
            "\n",
            "Start of epoch 919\n",
            "Training loss: 0.0000\n",
            "Training metric: 0.9841\n",
            "perturbation loss: 0.0000\n",
            "Validation acc: 0.9531\n"
          ]
        },
        {
          "output_type": "stream",
          "name": "stderr",
          "text": [
            "\r 92%|█████████▏| 920/1000 [17:24<01:45,  1.31s/it]"
          ]
        },
        {
          "output_type": "stream",
          "name": "stdout",
          "text": [
            "\n",
            "Start of epoch 920\n",
            "Training loss: 0.0000\n",
            "Training metric: 0.9841\n",
            "perturbation loss: 0.0000\n",
            "Validation acc: 0.9531\n"
          ]
        },
        {
          "output_type": "stream",
          "name": "stderr",
          "text": [
            "\r 92%|█████████▏| 921/1000 [17:25<01:35,  1.21s/it]"
          ]
        },
        {
          "output_type": "stream",
          "name": "stdout",
          "text": [
            "\n",
            "Start of epoch 921\n",
            "Training loss: 0.0000\n",
            "Training metric: 0.9841\n",
            "perturbation loss: 0.0000\n"
          ]
        },
        {
          "output_type": "stream",
          "name": "stderr",
          "text": [
            "\r 92%|█████████▏| 922/1000 [17:27<01:31,  1.17s/it]"
          ]
        },
        {
          "output_type": "stream",
          "name": "stdout",
          "text": [
            "Validation acc: 0.9453\n",
            "\n",
            "Start of epoch 922\n",
            "Training loss: 0.0000\n",
            "Training metric: 0.9841\n",
            "perturbation loss: 0.0000\n"
          ]
        },
        {
          "output_type": "stream",
          "name": "stderr",
          "text": [
            "\r 92%|█████████▏| 923/1000 [17:28<01:26,  1.12s/it]"
          ]
        },
        {
          "output_type": "stream",
          "name": "stdout",
          "text": [
            "Validation acc: 0.9375\n",
            "\n",
            "Start of epoch 923\n",
            "Training loss: 0.0000\n",
            "Training metric: 0.9841\n",
            "perturbation loss: 0.0000\n"
          ]
        },
        {
          "output_type": "stream",
          "name": "stderr",
          "text": [
            "\r 92%|█████████▏| 924/1000 [17:29<01:24,  1.11s/it]"
          ]
        },
        {
          "output_type": "stream",
          "name": "stdout",
          "text": [
            "Validation acc: 0.9375\n",
            "\n",
            "Start of epoch 924\n",
            "Training loss: 0.0000\n",
            "Training metric: 0.9842\n",
            "perturbation loss: 0.0000\n",
            "Validation acc: 0.9453\n"
          ]
        },
        {
          "output_type": "stream",
          "name": "stderr",
          "text": [
            "\r 92%|█████████▎| 925/1000 [17:30<01:21,  1.08s/it]"
          ]
        },
        {
          "output_type": "stream",
          "name": "stdout",
          "text": [
            "\n",
            "Start of epoch 925\n",
            "Training loss: 0.0000\n",
            "Training metric: 0.9842\n",
            "perturbation loss: 0.0000\n",
            "Validation acc: 0.9453\n"
          ]
        },
        {
          "output_type": "stream",
          "name": "stderr",
          "text": [
            "\r 93%|█████████▎| 926/1000 [17:31<01:17,  1.05s/it]"
          ]
        },
        {
          "output_type": "stream",
          "name": "stdout",
          "text": [
            "\n",
            "Start of epoch 926\n",
            "Training loss: 0.0000\n",
            "Training metric: 0.9842\n",
            "perturbation loss: 0.0000\n"
          ]
        },
        {
          "output_type": "stream",
          "name": "stderr",
          "text": [
            "\r 93%|█████████▎| 927/1000 [17:32<01:15,  1.04s/it]"
          ]
        },
        {
          "output_type": "stream",
          "name": "stdout",
          "text": [
            "Validation acc: 0.9375\n",
            "\n",
            "Start of epoch 927\n",
            "Training loss: 0.0000\n",
            "Training metric: 0.9842\n",
            "perturbation loss: 0.0000\n",
            "Validation acc: 0.9453\n"
          ]
        },
        {
          "output_type": "stream",
          "name": "stderr",
          "text": [
            "\r 93%|█████████▎| 928/1000 [17:33<01:19,  1.10s/it]"
          ]
        },
        {
          "output_type": "stream",
          "name": "stdout",
          "text": [
            "\n",
            "Start of epoch 928\n",
            "Training loss: 0.0000\n",
            "Training metric: 0.9842\n",
            "perturbation loss: 0.0000\n"
          ]
        },
        {
          "output_type": "stream",
          "name": "stderr",
          "text": [
            "\r 93%|█████████▎| 929/1000 [17:34<01:19,  1.12s/it]"
          ]
        },
        {
          "output_type": "stream",
          "name": "stdout",
          "text": [
            "Validation acc: 0.9375\n",
            "\n",
            "Start of epoch 929\n",
            "Training loss: 0.0000\n",
            "Training metric: 0.9843\n",
            "perturbation loss: 0.0000\n"
          ]
        },
        {
          "output_type": "stream",
          "name": "stderr",
          "text": [
            "\r 93%|█████████▎| 930/1000 [17:35<01:23,  1.19s/it]"
          ]
        },
        {
          "output_type": "stream",
          "name": "stdout",
          "text": [
            "Validation acc: 0.9453\n",
            "\n",
            "Start of epoch 930\n",
            "Training loss: 0.0000\n",
            "Training metric: 0.9843\n",
            "perturbation loss: 0.0000\n"
          ]
        },
        {
          "output_type": "stream",
          "name": "stderr",
          "text": [
            "\r 93%|█████████▎| 931/1000 [17:37<01:25,  1.23s/it]"
          ]
        },
        {
          "output_type": "stream",
          "name": "stdout",
          "text": [
            "Validation acc: 0.9453\n",
            "\n",
            "Start of epoch 931\n",
            "Training loss: 0.0000\n",
            "Training metric: 0.9843\n",
            "perturbation loss: 0.0001\n"
          ]
        },
        {
          "output_type": "stream",
          "name": "stderr",
          "text": [
            "\r 93%|█████████▎| 932/1000 [17:38<01:22,  1.22s/it]"
          ]
        },
        {
          "output_type": "stream",
          "name": "stdout",
          "text": [
            "Validation acc: 0.9453\n",
            "\n",
            "Start of epoch 932\n",
            "Training loss: 0.0000\n",
            "Training metric: 0.9843\n",
            "perturbation loss: 0.0000\n"
          ]
        },
        {
          "output_type": "stream",
          "name": "stderr",
          "text": [
            "\r 93%|█████████▎| 933/1000 [17:39<01:17,  1.15s/it]"
          ]
        },
        {
          "output_type": "stream",
          "name": "stdout",
          "text": [
            "Validation acc: 0.9375\n",
            "\n",
            "Start of epoch 933\n",
            "Training loss: 0.0000\n",
            "Training metric: 0.9843\n",
            "perturbation loss: 0.0000\n"
          ]
        },
        {
          "output_type": "stream",
          "name": "stderr",
          "text": [
            "\r 93%|█████████▎| 934/1000 [17:40<01:13,  1.11s/it]"
          ]
        },
        {
          "output_type": "stream",
          "name": "stdout",
          "text": [
            "Validation acc: 0.9453\n",
            "\n",
            "Start of epoch 934\n",
            "Training loss: 0.0000\n",
            "Training metric: 0.9843\n",
            "perturbation loss: 0.0000\n"
          ]
        },
        {
          "output_type": "stream",
          "name": "stderr",
          "text": [
            "\r 94%|█████████▎| 935/1000 [17:41<01:10,  1.08s/it]"
          ]
        },
        {
          "output_type": "stream",
          "name": "stdout",
          "text": [
            "Validation acc: 0.9453\n",
            "\n",
            "Start of epoch 935\n",
            "Training loss: 0.0000\n",
            "Training metric: 0.9844\n",
            "perturbation loss: 0.0000\n"
          ]
        },
        {
          "output_type": "stream",
          "name": "stderr",
          "text": [
            "\r 94%|█████████▎| 936/1000 [17:42<01:08,  1.07s/it]"
          ]
        },
        {
          "output_type": "stream",
          "name": "stdout",
          "text": [
            "Validation acc: 0.9375\n",
            "\n",
            "Start of epoch 936\n",
            "Training loss: 0.0000\n",
            "Training metric: 0.9844\n",
            "perturbation loss: 0.0000\n"
          ]
        },
        {
          "output_type": "stream",
          "name": "stderr",
          "text": [
            "\r 94%|█████████▎| 937/1000 [17:43<01:06,  1.05s/it]"
          ]
        },
        {
          "output_type": "stream",
          "name": "stdout",
          "text": [
            "Validation acc: 0.9375\n",
            "\n",
            "Start of epoch 937\n",
            "Training loss: 0.0000\n",
            "Training metric: 0.9844\n",
            "perturbation loss: 0.0000\n",
            "Validation acc: 0.9453\n"
          ]
        },
        {
          "output_type": "stream",
          "name": "stderr",
          "text": [
            "\r 94%|█████████▍| 938/1000 [17:44<01:04,  1.04s/it]"
          ]
        },
        {
          "output_type": "stream",
          "name": "stdout",
          "text": [
            "\n",
            "Start of epoch 938\n",
            "Training loss: 0.0000\n",
            "Training metric: 0.9844\n",
            "perturbation loss: 0.0000\n"
          ]
        },
        {
          "output_type": "stream",
          "name": "stderr",
          "text": [
            "\r 94%|█████████▍| 939/1000 [17:45<01:03,  1.04s/it]"
          ]
        },
        {
          "output_type": "stream",
          "name": "stdout",
          "text": [
            "Validation acc: 0.9453\n",
            "\n",
            "Start of epoch 939\n",
            "Training loss: 0.0000\n",
            "Training metric: 0.9844\n",
            "perturbation loss: 0.0000\n"
          ]
        },
        {
          "output_type": "stream",
          "name": "stderr",
          "text": [
            "\r 94%|█████████▍| 940/1000 [17:46<01:01,  1.03s/it]"
          ]
        },
        {
          "output_type": "stream",
          "name": "stdout",
          "text": [
            "Validation acc: 0.9453\n",
            "\n",
            "Start of epoch 940\n",
            "Training loss: 0.0000\n",
            "Training metric: 0.9844\n",
            "perturbation loss: 0.0000\n"
          ]
        },
        {
          "output_type": "stream",
          "name": "stderr",
          "text": [
            "\r 94%|█████████▍| 941/1000 [17:47<01:01,  1.05s/it]"
          ]
        },
        {
          "output_type": "stream",
          "name": "stdout",
          "text": [
            "Validation acc: 0.9453\n",
            "\n",
            "Start of epoch 941\n",
            "Training loss: 0.0000\n",
            "Training metric: 0.9845\n",
            "perturbation loss: 0.0000\n"
          ]
        },
        {
          "output_type": "stream",
          "name": "stderr",
          "text": [
            "\r 94%|█████████▍| 942/1000 [17:48<01:05,  1.13s/it]"
          ]
        },
        {
          "output_type": "stream",
          "name": "stdout",
          "text": [
            "Validation acc: 0.9453\n",
            "\n",
            "Start of epoch 942\n",
            "Training loss: 0.0000\n",
            "Training metric: 0.9845\n",
            "perturbation loss: 0.0010\n"
          ]
        },
        {
          "output_type": "stream",
          "name": "stderr",
          "text": [
            "\r 94%|█████████▍| 943/1000 [17:50<01:07,  1.19s/it]"
          ]
        },
        {
          "output_type": "stream",
          "name": "stdout",
          "text": [
            "Validation acc: 0.9297\n",
            "\n",
            "Start of epoch 943\n",
            "Training loss: 0.0028\n",
            "Training metric: 0.9845\n",
            "perturbation loss: 0.0750\n"
          ]
        },
        {
          "output_type": "stream",
          "name": "stderr",
          "text": [
            "\r 94%|█████████▍| 944/1000 [17:51<01:08,  1.23s/it]"
          ]
        },
        {
          "output_type": "stream",
          "name": "stdout",
          "text": [
            "Validation acc: 0.8672\n",
            "\n",
            "Start of epoch 944\n",
            "Training loss: 0.0000\n",
            "Training metric: 0.9845\n",
            "perturbation loss: 0.0007\n"
          ]
        },
        {
          "output_type": "stream",
          "name": "stderr",
          "text": [
            "\r 94%|█████████▍| 945/1000 [17:52<01:04,  1.17s/it]"
          ]
        },
        {
          "output_type": "stream",
          "name": "stdout",
          "text": [
            "Validation acc: 0.9141\n",
            "\n",
            "Start of epoch 945\n",
            "Training loss: 0.0002\n",
            "Training metric: 0.9845\n",
            "perturbation loss: 0.0077\n",
            "Validation acc: 0.8750\n"
          ]
        },
        {
          "output_type": "stream",
          "name": "stderr",
          "text": [
            "\r 95%|█████████▍| 946/1000 [17:53<01:00,  1.12s/it]"
          ]
        },
        {
          "output_type": "stream",
          "name": "stdout",
          "text": [
            "\n",
            "Start of epoch 946\n",
            "Training loss: 0.0000\n",
            "Training metric: 0.9845\n",
            "perturbation loss: 0.0000\n"
          ]
        },
        {
          "output_type": "stream",
          "name": "stderr",
          "text": [
            "\r 95%|█████████▍| 947/1000 [17:54<00:57,  1.09s/it]"
          ]
        },
        {
          "output_type": "stream",
          "name": "stdout",
          "text": [
            "Validation acc: 0.9375\n",
            "\n",
            "Start of epoch 947\n",
            "Training loss: 0.0091\n",
            "Training metric: 0.9845\n",
            "perturbation loss: 0.0010\n"
          ]
        },
        {
          "output_type": "stream",
          "name": "stderr",
          "text": [
            "\r 95%|█████████▍| 948/1000 [17:55<00:55,  1.07s/it]"
          ]
        },
        {
          "output_type": "stream",
          "name": "stdout",
          "text": [
            "Validation acc: 0.9297\n",
            "\n",
            "Start of epoch 948\n",
            "Training loss: 0.0000\n",
            "Training metric: 0.9846\n",
            "perturbation loss: 0.0000\n",
            "Validation acc: 0.9375\n"
          ]
        },
        {
          "output_type": "stream",
          "name": "stderr",
          "text": [
            "\r 95%|█████████▍| 949/1000 [17:56<00:53,  1.05s/it]"
          ]
        },
        {
          "output_type": "stream",
          "name": "stdout",
          "text": [
            "\n",
            "Start of epoch 949\n",
            "Training loss: 0.0000\n",
            "Training metric: 0.9846\n",
            "perturbation loss: 0.0000\n",
            "Validation acc: 0.9375\n"
          ]
        },
        {
          "output_type": "stream",
          "name": "stderr",
          "text": [
            "\r 95%|█████████▌| 950/1000 [17:57<00:51,  1.03s/it]"
          ]
        },
        {
          "output_type": "stream",
          "name": "stdout",
          "text": [
            "\n",
            "Start of epoch 950\n",
            "Training loss: 0.0000\n",
            "Training metric: 0.9846\n",
            "perturbation loss: 0.0000\n"
          ]
        },
        {
          "output_type": "stream",
          "name": "stderr",
          "text": [
            "\r 95%|█████████▌| 951/1000 [17:58<00:51,  1.04s/it]"
          ]
        },
        {
          "output_type": "stream",
          "name": "stdout",
          "text": [
            "Validation acc: 0.9297\n",
            "\n",
            "Start of epoch 951\n",
            "Training loss: 0.0000\n",
            "Training metric: 0.9846\n",
            "perturbation loss: 0.0000\n"
          ]
        },
        {
          "output_type": "stream",
          "name": "stderr",
          "text": [
            "\r 95%|█████████▌| 952/1000 [17:59<00:50,  1.04s/it]"
          ]
        },
        {
          "output_type": "stream",
          "name": "stdout",
          "text": [
            "Validation acc: 0.9297\n",
            "\n",
            "Start of epoch 952\n",
            "Training loss: 0.0000\n",
            "Training metric: 0.9846\n",
            "perturbation loss: 0.0001\n"
          ]
        },
        {
          "output_type": "stream",
          "name": "stderr",
          "text": [
            "\r 95%|█████████▌| 953/1000 [18:00<00:49,  1.06s/it]"
          ]
        },
        {
          "output_type": "stream",
          "name": "stdout",
          "text": [
            "Validation acc: 0.9375\n",
            "\n",
            "Start of epoch 953\n",
            "Training loss: 0.0000\n",
            "Training metric: 0.9846\n",
            "perturbation loss: 0.0001\n"
          ]
        },
        {
          "output_type": "stream",
          "name": "stderr",
          "text": [
            "\r 95%|█████████▌| 954/1000 [18:02<00:50,  1.10s/it]"
          ]
        },
        {
          "output_type": "stream",
          "name": "stdout",
          "text": [
            "Validation acc: 0.9297\n",
            "\n",
            "Start of epoch 954\n",
            "Training loss: 0.0000\n",
            "Training metric: 0.9847\n",
            "perturbation loss: 0.0000\n"
          ]
        },
        {
          "output_type": "stream",
          "name": "stderr",
          "text": [
            "\r 96%|█████████▌| 955/1000 [18:03<00:52,  1.16s/it]"
          ]
        },
        {
          "output_type": "stream",
          "name": "stdout",
          "text": [
            "Validation acc: 0.9375\n",
            "\n",
            "Start of epoch 955\n",
            "Training loss: 0.0000\n",
            "Training metric: 0.9847\n",
            "perturbation loss: 0.0000\n"
          ]
        },
        {
          "output_type": "stream",
          "name": "stderr",
          "text": [
            "\r 96%|█████████▌| 956/1000 [18:05<00:57,  1.30s/it]"
          ]
        },
        {
          "output_type": "stream",
          "name": "stdout",
          "text": [
            "Validation acc: 0.9297\n",
            "\n",
            "Start of epoch 956\n",
            "Training loss: 0.0000\n",
            "Training metric: 0.9847\n",
            "perturbation loss: 0.0000\n",
            "Validation acc: 0.9375\n"
          ]
        },
        {
          "output_type": "stream",
          "name": "stderr",
          "text": [
            "\r 96%|█████████▌| 957/1000 [18:05<00:51,  1.21s/it]"
          ]
        },
        {
          "output_type": "stream",
          "name": "stdout",
          "text": [
            "\n",
            "Start of epoch 957\n",
            "Training loss: 0.0000\n",
            "Training metric: 0.9847\n",
            "perturbation loss: 0.0000\n",
            "Validation acc: 0.9375\n"
          ]
        },
        {
          "output_type": "stream",
          "name": "stderr",
          "text": [
            "\r 96%|█████████▌| 958/1000 [18:07<00:48,  1.15s/it]"
          ]
        },
        {
          "output_type": "stream",
          "name": "stdout",
          "text": [
            "\n",
            "Start of epoch 958\n",
            "Training loss: 0.0002\n",
            "Training metric: 0.9847\n",
            "perturbation loss: 0.0000\n",
            "Validation acc: 0.9375\n"
          ]
        },
        {
          "output_type": "stream",
          "name": "stderr",
          "text": [
            "\r 96%|█████████▌| 959/1000 [18:07<00:45,  1.10s/it]"
          ]
        },
        {
          "output_type": "stream",
          "name": "stdout",
          "text": [
            "\n",
            "Start of epoch 959\n",
            "Training loss: 0.0000\n",
            "Training metric: 0.9847\n",
            "perturbation loss: 0.0000\n"
          ]
        },
        {
          "output_type": "stream",
          "name": "stderr",
          "text": [
            "\r 96%|█████████▌| 960/1000 [18:08<00:42,  1.07s/it]"
          ]
        },
        {
          "output_type": "stream",
          "name": "stdout",
          "text": [
            "Validation acc: 0.9297\n",
            "\n",
            "Start of epoch 960\n",
            "Training loss: 0.0000\n",
            "Training metric: 0.9848\n",
            "perturbation loss: 0.0000\n"
          ]
        },
        {
          "output_type": "stream",
          "name": "stderr",
          "text": [
            "\r 96%|█████████▌| 961/1000 [18:09<00:40,  1.05s/it]"
          ]
        },
        {
          "output_type": "stream",
          "name": "stdout",
          "text": [
            "Validation acc: 0.9453\n",
            "\n",
            "Start of epoch 961\n",
            "Training loss: 0.0000\n",
            "Training metric: 0.9848\n",
            "perturbation loss: 0.0000\n"
          ]
        },
        {
          "output_type": "stream",
          "name": "stderr",
          "text": [
            "\r 96%|█████████▌| 962/1000 [18:11<00:40,  1.06s/it]"
          ]
        },
        {
          "output_type": "stream",
          "name": "stdout",
          "text": [
            "Validation acc: 0.9453\n",
            "\n",
            "Start of epoch 962\n",
            "Training loss: 0.0000\n",
            "Training metric: 0.9848\n",
            "perturbation loss: 0.0000\n"
          ]
        },
        {
          "output_type": "stream",
          "name": "stderr",
          "text": [
            "\r 96%|█████████▋| 963/1000 [18:12<00:39,  1.07s/it]"
          ]
        },
        {
          "output_type": "stream",
          "name": "stdout",
          "text": [
            "Validation acc: 0.9375\n",
            "\n",
            "Start of epoch 963\n",
            "Training loss: 0.0000\n",
            "Training metric: 0.9848\n",
            "perturbation loss: 0.0000\n"
          ]
        },
        {
          "output_type": "stream",
          "name": "stderr",
          "text": [
            "\r 96%|█████████▋| 964/1000 [18:13<00:38,  1.08s/it]"
          ]
        },
        {
          "output_type": "stream",
          "name": "stdout",
          "text": [
            "Validation acc: 0.9531\n",
            "\n",
            "Start of epoch 964\n",
            "Training loss: 0.0000\n",
            "Training metric: 0.9848\n",
            "perturbation loss: 0.0000\n"
          ]
        },
        {
          "output_type": "stream",
          "name": "stderr",
          "text": [
            "\r 96%|█████████▋| 965/1000 [18:14<00:37,  1.06s/it]"
          ]
        },
        {
          "output_type": "stream",
          "name": "stdout",
          "text": [
            "Validation acc: 0.9531\n",
            "\n",
            "Start of epoch 965\n",
            "Training loss: 0.0000\n",
            "Training metric: 0.9848\n",
            "perturbation loss: 0.0000\n"
          ]
        },
        {
          "output_type": "stream",
          "name": "stderr",
          "text": [
            "\r 97%|█████████▋| 966/1000 [18:15<00:36,  1.08s/it]"
          ]
        },
        {
          "output_type": "stream",
          "name": "stdout",
          "text": [
            "Validation acc: 0.9531\n",
            "\n",
            "Start of epoch 966\n",
            "Training loss: 0.0000\n",
            "Training metric: 0.9848\n",
            "perturbation loss: 0.0000\n"
          ]
        },
        {
          "output_type": "stream",
          "name": "stderr",
          "text": [
            "\r 97%|█████████▋| 967/1000 [18:16<00:37,  1.15s/it]"
          ]
        },
        {
          "output_type": "stream",
          "name": "stdout",
          "text": [
            "Validation acc: 0.9375\n",
            "\n",
            "Start of epoch 967\n",
            "Training loss: 0.0000\n",
            "Training metric: 0.9849\n",
            "perturbation loss: 0.0000\n"
          ]
        },
        {
          "output_type": "stream",
          "name": "stderr",
          "text": [
            "\r 97%|█████████▋| 968/1000 [18:18<00:39,  1.22s/it]"
          ]
        },
        {
          "output_type": "stream",
          "name": "stdout",
          "text": [
            "Validation acc: 0.9375\n",
            "\n",
            "Start of epoch 968\n",
            "Training loss: 0.0000\n",
            "Training metric: 0.9849\n",
            "perturbation loss: 0.0000\n"
          ]
        },
        {
          "output_type": "stream",
          "name": "stderr",
          "text": [
            "\r 97%|█████████▋| 969/1000 [18:19<00:37,  1.22s/it]"
          ]
        },
        {
          "output_type": "stream",
          "name": "stdout",
          "text": [
            "Validation acc: 0.9297\n",
            "\n",
            "Start of epoch 969\n",
            "Training loss: 0.0000\n",
            "Training metric: 0.9849\n",
            "perturbation loss: 0.0000\n"
          ]
        },
        {
          "output_type": "stream",
          "name": "stderr",
          "text": [
            "\r 97%|█████████▋| 970/1000 [18:20<00:36,  1.21s/it]"
          ]
        },
        {
          "output_type": "stream",
          "name": "stdout",
          "text": [
            "Validation acc: 0.9609\n",
            "\n",
            "Start of epoch 970\n",
            "Training loss: 0.0000\n",
            "Training metric: 0.9849\n",
            "perturbation loss: 0.0004\n"
          ]
        },
        {
          "output_type": "stream",
          "name": "stderr",
          "text": [
            "\r 97%|█████████▋| 971/1000 [18:21<00:34,  1.18s/it]"
          ]
        },
        {
          "output_type": "stream",
          "name": "stdout",
          "text": [
            "Validation acc: 0.9609\n",
            "\n",
            "Start of epoch 971\n",
            "Training loss: 0.0000\n",
            "Training metric: 0.9849\n",
            "perturbation loss: 0.0000\n"
          ]
        },
        {
          "output_type": "stream",
          "name": "stderr",
          "text": [
            "\r 97%|█████████▋| 972/1000 [18:22<00:32,  1.16s/it]"
          ]
        },
        {
          "output_type": "stream",
          "name": "stdout",
          "text": [
            "Validation acc: 0.9453\n",
            "\n",
            "Start of epoch 972\n",
            "Training loss: 0.0000\n",
            "Training metric: 0.9849\n",
            "perturbation loss: 0.0000\n"
          ]
        },
        {
          "output_type": "stream",
          "name": "stderr",
          "text": [
            "\r 97%|█████████▋| 973/1000 [18:23<00:30,  1.15s/it]"
          ]
        },
        {
          "output_type": "stream",
          "name": "stdout",
          "text": [
            "Validation acc: 0.9297\n",
            "\n",
            "Start of epoch 973\n",
            "Training loss: 0.0000\n",
            "Training metric: 0.9850\n",
            "perturbation loss: 0.0000\n"
          ]
        },
        {
          "output_type": "stream",
          "name": "stderr",
          "text": [
            "\r 97%|█████████▋| 974/1000 [18:24<00:29,  1.12s/it]"
          ]
        },
        {
          "output_type": "stream",
          "name": "stdout",
          "text": [
            "Validation acc: 0.9453\n",
            "\n",
            "Start of epoch 974\n",
            "Training loss: 0.1779\n",
            "Training metric: 0.9850\n",
            "perturbation loss: 0.0006\n"
          ]
        },
        {
          "output_type": "stream",
          "name": "stderr",
          "text": [
            "\r 98%|█████████▊| 975/1000 [18:25<00:27,  1.11s/it]"
          ]
        },
        {
          "output_type": "stream",
          "name": "stdout",
          "text": [
            "Validation acc: 0.9297\n",
            "\n",
            "Start of epoch 975\n",
            "Training loss: 0.0000\n",
            "Training metric: 0.9850\n",
            "perturbation loss: 0.0009\n",
            "Validation acc: 0.9297\n"
          ]
        },
        {
          "output_type": "stream",
          "name": "stderr",
          "text": [
            "\r 98%|█████████▊| 976/1000 [18:26<00:25,  1.08s/it]"
          ]
        },
        {
          "output_type": "stream",
          "name": "stdout",
          "text": [
            "\n",
            "Start of epoch 976\n",
            "Training loss: 0.0360\n",
            "Training metric: 0.9850\n",
            "perturbation loss: 0.0185\n",
            "Validation acc: 0.9531\n"
          ]
        },
        {
          "output_type": "stream",
          "name": "stderr",
          "text": [
            "\r 98%|█████████▊| 977/1000 [18:27<00:24,  1.05s/it]"
          ]
        },
        {
          "output_type": "stream",
          "name": "stdout",
          "text": [
            "\n",
            "Start of epoch 977\n",
            "Training loss: 0.0000\n",
            "Training metric: 0.9850\n",
            "perturbation loss: 0.0001\n"
          ]
        },
        {
          "output_type": "stream",
          "name": "stderr",
          "text": [
            "\r 98%|█████████▊| 978/1000 [18:29<00:23,  1.08s/it]"
          ]
        },
        {
          "output_type": "stream",
          "name": "stdout",
          "text": [
            "Validation acc: 0.9375\n",
            "\n",
            "Start of epoch 978\n",
            "Training loss: 0.0000\n",
            "Training metric: 0.9850\n",
            "perturbation loss: 0.0001\n"
          ]
        },
        {
          "output_type": "stream",
          "name": "stderr",
          "text": [
            "\r 98%|█████████▊| 979/1000 [18:30<00:26,  1.25s/it]"
          ]
        },
        {
          "output_type": "stream",
          "name": "stdout",
          "text": [
            "Validation acc: 0.9219\n",
            "\n",
            "Start of epoch 979\n",
            "Training loss: 0.0002\n",
            "Training metric: 0.9850\n",
            "perturbation loss: 0.0061\n"
          ]
        },
        {
          "output_type": "stream",
          "name": "stderr",
          "text": [
            "\r 98%|█████████▊| 980/1000 [18:32<00:25,  1.28s/it]"
          ]
        },
        {
          "output_type": "stream",
          "name": "stdout",
          "text": [
            "Validation acc: 0.9219\n",
            "\n",
            "Start of epoch 980\n",
            "Training loss: 0.0000\n",
            "Training metric: 0.9851\n",
            "perturbation loss: 0.0000\n"
          ]
        },
        {
          "output_type": "stream",
          "name": "stderr",
          "text": [
            "\r 98%|█████████▊| 981/1000 [18:33<00:23,  1.24s/it]"
          ]
        },
        {
          "output_type": "stream",
          "name": "stdout",
          "text": [
            "Validation acc: 0.9453\n",
            "\n",
            "Start of epoch 981\n",
            "Training loss: 0.0000\n",
            "Training metric: 0.9851\n",
            "perturbation loss: 0.0000\n"
          ]
        },
        {
          "output_type": "stream",
          "name": "stderr",
          "text": [
            "\r 98%|█████████▊| 982/1000 [18:34<00:21,  1.20s/it]"
          ]
        },
        {
          "output_type": "stream",
          "name": "stdout",
          "text": [
            "Validation acc: 0.9297\n",
            "\n",
            "Start of epoch 982\n",
            "Training loss: 0.0000\n",
            "Training metric: 0.9851\n",
            "perturbation loss: 0.0000\n"
          ]
        },
        {
          "output_type": "stream",
          "name": "stderr",
          "text": [
            "\r 98%|█████████▊| 983/1000 [18:35<00:19,  1.14s/it]"
          ]
        },
        {
          "output_type": "stream",
          "name": "stdout",
          "text": [
            "Validation acc: 0.9453\n",
            "\n",
            "Start of epoch 983\n",
            "Training loss: 0.0001\n",
            "Training metric: 0.9851\n",
            "perturbation loss: 0.0011\n"
          ]
        },
        {
          "output_type": "stream",
          "name": "stderr",
          "text": [
            "\r 98%|█████████▊| 984/1000 [18:36<00:17,  1.11s/it]"
          ]
        },
        {
          "output_type": "stream",
          "name": "stdout",
          "text": [
            "Validation acc: 0.9297\n",
            "\n",
            "Start of epoch 984\n",
            "Training loss: 0.0000\n",
            "Training metric: 0.9851\n",
            "perturbation loss: 0.0000\n"
          ]
        },
        {
          "output_type": "stream",
          "name": "stderr",
          "text": [
            "\r 98%|█████████▊| 985/1000 [18:37<00:16,  1.10s/it]"
          ]
        },
        {
          "output_type": "stream",
          "name": "stdout",
          "text": [
            "Validation acc: 0.9375\n",
            "\n",
            "Start of epoch 985\n",
            "Training loss: 0.0000\n",
            "Training metric: 0.9851\n",
            "perturbation loss: 0.0000\n"
          ]
        },
        {
          "output_type": "stream",
          "name": "stderr",
          "text": [
            "\r 99%|█████████▊| 986/1000 [18:38<00:15,  1.08s/it]"
          ]
        },
        {
          "output_type": "stream",
          "name": "stdout",
          "text": [
            "Validation acc: 0.9297\n",
            "\n",
            "Start of epoch 986\n",
            "Training loss: 0.0000\n",
            "Training metric: 0.9851\n",
            "perturbation loss: 0.0002\n"
          ]
        },
        {
          "output_type": "stream",
          "name": "stderr",
          "text": [
            "\r 99%|█████████▊| 987/1000 [18:39<00:14,  1.09s/it]"
          ]
        },
        {
          "output_type": "stream",
          "name": "stdout",
          "text": [
            "Validation acc: 0.9375\n",
            "\n",
            "Start of epoch 987\n",
            "Training loss: 0.0000\n",
            "Training metric: 0.9852\n",
            "perturbation loss: 0.0000\n"
          ]
        },
        {
          "output_type": "stream",
          "name": "stderr",
          "text": [
            "\r 99%|█████████▉| 988/1000 [18:40<00:13,  1.09s/it]"
          ]
        },
        {
          "output_type": "stream",
          "name": "stdout",
          "text": [
            "Validation acc: 0.9375\n",
            "\n",
            "Start of epoch 988\n",
            "Training loss: 0.0000\n",
            "Training metric: 0.9852\n",
            "perturbation loss: 0.0000\n"
          ]
        },
        {
          "output_type": "stream",
          "name": "stderr",
          "text": [
            "\r 99%|█████████▉| 989/1000 [18:41<00:11,  1.09s/it]"
          ]
        },
        {
          "output_type": "stream",
          "name": "stdout",
          "text": [
            "Validation acc: 0.9297\n",
            "\n",
            "Start of epoch 989\n",
            "Training loss: 0.0003\n",
            "Training metric: 0.9852\n",
            "perturbation loss: 0.0006\n"
          ]
        },
        {
          "output_type": "stream",
          "name": "stderr",
          "text": [
            "\r 99%|█████████▉| 990/1000 [18:42<00:11,  1.12s/it]"
          ]
        },
        {
          "output_type": "stream",
          "name": "stdout",
          "text": [
            "Validation acc: 0.9375\n",
            "\n",
            "Start of epoch 990\n",
            "Training loss: 0.0000\n",
            "Training metric: 0.9852\n",
            "perturbation loss: 0.0000\n"
          ]
        },
        {
          "output_type": "stream",
          "name": "stderr",
          "text": [
            "\r 99%|█████████▉| 991/1000 [18:44<00:10,  1.18s/it]"
          ]
        },
        {
          "output_type": "stream",
          "name": "stdout",
          "text": [
            "Validation acc: 0.9219\n",
            "\n",
            "Start of epoch 991\n",
            "Training loss: 0.0000\n",
            "Training metric: 0.9852\n",
            "perturbation loss: 0.0000\n"
          ]
        },
        {
          "output_type": "stream",
          "name": "stderr",
          "text": [
            "\r 99%|█████████▉| 992/1000 [18:45<00:09,  1.22s/it]"
          ]
        },
        {
          "output_type": "stream",
          "name": "stdout",
          "text": [
            "Validation acc: 0.9297\n",
            "\n",
            "Start of epoch 992\n",
            "Training loss: 0.0000\n",
            "Training metric: 0.9852\n",
            "perturbation loss: 0.0000\n"
          ]
        },
        {
          "output_type": "stream",
          "name": "stderr",
          "text": [
            "\r 99%|█████████▉| 993/1000 [18:46<00:08,  1.21s/it]"
          ]
        },
        {
          "output_type": "stream",
          "name": "stdout",
          "text": [
            "Validation acc: 0.9375\n",
            "\n",
            "Start of epoch 993\n",
            "Training loss: 0.0000\n",
            "Training metric: 0.9853\n",
            "perturbation loss: 0.0000\n"
          ]
        },
        {
          "output_type": "stream",
          "name": "stderr",
          "text": [
            "\r 99%|█████████▉| 994/1000 [18:47<00:06,  1.14s/it]"
          ]
        },
        {
          "output_type": "stream",
          "name": "stdout",
          "text": [
            "Validation acc: 0.9297\n",
            "\n",
            "Start of epoch 994\n",
            "Training loss: 0.0001\n",
            "Training metric: 0.9853\n",
            "perturbation loss: 0.0003\n"
          ]
        },
        {
          "output_type": "stream",
          "name": "stderr",
          "text": [
            "\r100%|█████████▉| 995/1000 [18:48<00:05,  1.09s/it]"
          ]
        },
        {
          "output_type": "stream",
          "name": "stdout",
          "text": [
            "Validation acc: 0.9453\n",
            "\n",
            "Start of epoch 995\n",
            "Training loss: 0.0000\n",
            "Training metric: 0.9853\n",
            "perturbation loss: 0.0000\n"
          ]
        },
        {
          "output_type": "stream",
          "name": "stderr",
          "text": [
            "\r100%|█████████▉| 996/1000 [18:49<00:04,  1.08s/it]"
          ]
        },
        {
          "output_type": "stream",
          "name": "stdout",
          "text": [
            "Validation acc: 0.9453\n",
            "\n",
            "Start of epoch 996\n",
            "Training loss: 0.0000\n",
            "Training metric: 0.9853\n",
            "perturbation loss: 0.0000\n"
          ]
        },
        {
          "output_type": "stream",
          "name": "stderr",
          "text": [
            "\r100%|█████████▉| 997/1000 [18:50<00:03,  1.09s/it]"
          ]
        },
        {
          "output_type": "stream",
          "name": "stdout",
          "text": [
            "Validation acc: 0.9453\n",
            "\n",
            "Start of epoch 997\n",
            "Training loss: 0.0000\n",
            "Training metric: 0.9853\n",
            "perturbation loss: 0.0000\n"
          ]
        },
        {
          "output_type": "stream",
          "name": "stderr",
          "text": [
            "\r100%|█████████▉| 998/1000 [18:52<00:02,  1.09s/it]"
          ]
        },
        {
          "output_type": "stream",
          "name": "stdout",
          "text": [
            "Validation acc: 0.9531\n",
            "\n",
            "Start of epoch 998\n",
            "Training loss: 0.0000\n",
            "Training metric: 0.9853\n",
            "perturbation loss: 0.0000\n"
          ]
        },
        {
          "output_type": "stream",
          "name": "stderr",
          "text": [
            "\r100%|█████████▉| 999/1000 [18:53<00:01,  1.06s/it]"
          ]
        },
        {
          "output_type": "stream",
          "name": "stdout",
          "text": [
            "Validation acc: 0.9453\n",
            "\n",
            "Start of epoch 999\n",
            "Training loss: 0.0000\n",
            "Training metric: 0.9853\n",
            "perturbation loss: 0.0000\n"
          ]
        },
        {
          "output_type": "stream",
          "name": "stderr",
          "text": [
            "100%|██████████| 1000/1000 [18:54<00:00,  1.13s/it]"
          ]
        },
        {
          "output_type": "stream",
          "name": "stdout",
          "text": [
            "Validation acc: 0.9453\n"
          ]
        },
        {
          "output_type": "stream",
          "name": "stderr",
          "text": [
            "\n"
          ]
        }
      ],
      "source": [
        "train_loss = []\n",
        "train_metric = []\n",
        "val_metric = []\n",
        "p_loss = []\n",
        "for epoch in tqdm(range(1000)):\n",
        "    print(\"\\nStart of epoch %d\" % (epoch,))\n",
        "    for step, (x, label) in enumerate(train_dataset):\n",
        "        loss, train_acc, l, x_p, g = training_step(x, label)\n",
        "\n",
        "    print(\n",
        "        \"Training loss: %.4f\\nTraining metric: %.4f\"\n",
        "        % (float(loss), float(train_acc))\n",
        "    )\n",
        "    print(\"perturbation loss: %.4f\" % float(l))\n",
        "\n",
        "    for x_batch_val, y_batch_val in val_dataset:\n",
        "        val_logits = model(x_batch_val, training=False)\n",
        "        # Update val metrics\n",
        "        val_acc_metric.update_state(y_batch_val, val_logits)\n",
        "    val_acc = val_acc_metric.result()\n",
        "    val_acc_metric.reset_states()\n",
        "    print(\"Validation acc: %.4f\" % (float(val_acc)))\n",
        "\n",
        "    train_loss.append(loss)\n",
        "    train_metric.append(train_acc)\n",
        "    val_metric.append(val_acc)\n",
        "    p_loss.append(l)\n",
        "\n",
        "    tl = np.array(train_loss)\n",
        "    tm = np.array(train_metric)\n",
        "    vm = np.array(val_metric)\n",
        "    pl = np.array(p_loss)\n",
        "\n",
        "    np.savez(\"logs.npz\", train_loss=tl, train_acc=tm, val_acc=vm, p_loss=pl, x_p=x_p)"
      ],
      "id": "_cymWSORGwww"
    },
    {
      "cell_type": "code",
      "source": [],
      "metadata": {
        "id": "eKBOFTf1DH8x"
      },
      "id": "eKBOFTf1DH8x",
      "execution_count": null,
      "outputs": []
    }
  ],
  "metadata": {
    "accelerator": "GPU",
    "colab": {
      "gpuType": "V100",
      "provenance": []
    },
    "kernelspec": {
      "display_name": "Python 3",
      "name": "python3"
    },
    "language_info": {
      "name": "python"
    }
  },
  "nbformat": 4,
  "nbformat_minor": 5
}