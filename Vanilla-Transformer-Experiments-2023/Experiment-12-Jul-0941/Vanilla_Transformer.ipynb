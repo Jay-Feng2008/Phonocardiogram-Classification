{
  "cells": [
    {
      "cell_type": "code",
      "execution_count": 1,
      "id": "VZQZ17oFDbVI",
      "metadata": {
        "colab": {
          "base_uri": "https://localhost:8080/"
        },
        "id": "VZQZ17oFDbVI",
        "outputId": "86a40478-8614-4e30-d8cf-f1032809ae35"
      },
      "outputs": [
        {
          "name": "stdout",
          "output_type": "stream",
          "text": [
            "Mounted at /content/drive\n"
          ]
        }
      ],
      "source": [
        "from google.colab import drive\n",
        "drive.mount('/content/drive')"
      ]
    },
    {
      "attachments": {},
      "cell_type": "markdown",
      "id": "58befd64",
      "metadata": {
        "id": "58befd64"
      },
      "source": [
        "## Import packages"
      ]
    },
    {
      "cell_type": "code",
      "execution_count": 2,
      "id": "af5c7075",
      "metadata": {
        "id": "af5c7075"
      },
      "outputs": [],
      "source": [
        "import tensorflow as tf\n",
        "from tensorflow import keras\n",
        "import numpy as np\n",
        "from tqdm import tqdm\n",
        "import sys\n",
        "\n",
        "sys.path.insert(1, \"drive/MyDrive/vanilla-transformer\")"
      ]
    },
    {
      "cell_type": "code",
      "execution_count": 3,
      "id": "c251f846",
      "metadata": {
        "id": "c251f846"
      },
      "outputs": [],
      "source": [
        "from embd import PositionalEmbedding\n",
        "from encoder import EncoderLayer_postLN, EncoderLayer_preLN"
      ]
    },
    {
      "attachments": {},
      "cell_type": "markdown",
      "id": "96c1d6cd",
      "metadata": {
        "id": "96c1d6cd"
      },
      "source": [
        "## Build model"
      ]
    },
    {
      "cell_type": "code",
      "execution_count": 4,
      "id": "b7729518",
      "metadata": {
        "id": "b7729518"
      },
      "outputs": [],
      "source": [
        "from keras.backend import softmax\n",
        "BATCH_SIZE = 32\n",
        "def model():\n",
        "    inputs = keras.layers.Input((127, 15), batch_size=BATCH_SIZE)\n",
        "    x = PositionalEmbedding(32)(inputs)\n",
        "    x = EncoderLayer_postLN(d_model=32, num_heads=128, dff=64)(x)\n",
        "    x = EncoderLayer_postLN(d_model=32, num_heads=64, dff=32)(x)\n",
        "    x = keras.layers.GlobalAveragePooling1D(data_format='channels_first')(x)\n",
        "    x = keras.layers.Dense(5, activation='softmax')(x)\n",
        "    return keras.Model(inputs, x)"
      ]
    },
    {
      "cell_type": "code",
      "execution_count": 5,
      "id": "8a7834d3",
      "metadata": {
        "colab": {
          "base_uri": "https://localhost:8080/"
        },
        "id": "8a7834d3",
        "outputId": "380f6a7d-6507-4b3c-e621-0660350edbd4"
      },
      "outputs": [
        {
          "name": "stdout",
          "output_type": "stream",
          "text": [
            "Model: \"model\"\n",
            "_________________________________________________________________\n",
            " Layer (type)                Output Shape              Param #   \n",
            "=================================================================\n",
            " input_1 (InputLayer)        [(32, 127, 15)]           0         \n",
            "                                                                 \n",
            " positional_embedding (Posit  (32, 127, 32)            512       \n",
            " ionalEmbedding)                                                 \n",
            "                                                                 \n",
            " encoder_layer_post_ln (Enco  (32, 127, 32)            540928    \n",
            " derLayer_postLN)                                                \n",
            "                                                                 \n",
            " encoder_layer_post_ln_1 (En  (32, 127, 32)            270560    \n",
            " coderLayer_postLN)                                              \n",
            "                                                                 \n",
            " global_average_pooling1d (G  (32, 127)                0         \n",
            " lobalAveragePooling1D)                                          \n",
            "                                                                 \n",
            " dense_4 (Dense)             (32, 5)                   640       \n",
            "                                                                 \n",
            "=================================================================\n",
            "Total params: 812,640\n",
            "Trainable params: 812,640\n",
            "Non-trainable params: 0\n",
            "_________________________________________________________________\n"
          ]
        }
      ],
      "source": [
        "model = model()\n",
        "model.summary()"
      ]
    },
    {
      "cell_type": "code",
      "execution_count": 6,
      "id": "e35afbac",
      "metadata": {
        "colab": {
          "base_uri": "https://localhost:8080/"
        },
        "id": "e35afbac",
        "outputId": "08e81bce-32b2-45a6-ddc3-f6e6c9ab461f"
      },
      "outputs": [
        {
          "data": {
            "text/plain": [
              "<tf.Tensor: shape=(32, 5), dtype=float32, numpy=\n",
              "array([[0.2, 0.2, 0.2, 0.2, 0.2],\n",
              "       [0.2, 0.2, 0.2, 0.2, 0.2],\n",
              "       [0.2, 0.2, 0.2, 0.2, 0.2],\n",
              "       [0.2, 0.2, 0.2, 0.2, 0.2],\n",
              "       [0.2, 0.2, 0.2, 0.2, 0.2],\n",
              "       [0.2, 0.2, 0.2, 0.2, 0.2],\n",
              "       [0.2, 0.2, 0.2, 0.2, 0.2],\n",
              "       [0.2, 0.2, 0.2, 0.2, 0.2],\n",
              "       [0.2, 0.2, 0.2, 0.2, 0.2],\n",
              "       [0.2, 0.2, 0.2, 0.2, 0.2],\n",
              "       [0.2, 0.2, 0.2, 0.2, 0.2],\n",
              "       [0.2, 0.2, 0.2, 0.2, 0.2],\n",
              "       [0.2, 0.2, 0.2, 0.2, 0.2],\n",
              "       [0.2, 0.2, 0.2, 0.2, 0.2],\n",
              "       [0.2, 0.2, 0.2, 0.2, 0.2],\n",
              "       [0.2, 0.2, 0.2, 0.2, 0.2],\n",
              "       [0.2, 0.2, 0.2, 0.2, 0.2],\n",
              "       [0.2, 0.2, 0.2, 0.2, 0.2],\n",
              "       [0.2, 0.2, 0.2, 0.2, 0.2],\n",
              "       [0.2, 0.2, 0.2, 0.2, 0.2],\n",
              "       [0.2, 0.2, 0.2, 0.2, 0.2],\n",
              "       [0.2, 0.2, 0.2, 0.2, 0.2],\n",
              "       [0.2, 0.2, 0.2, 0.2, 0.2],\n",
              "       [0.2, 0.2, 0.2, 0.2, 0.2],\n",
              "       [0.2, 0.2, 0.2, 0.2, 0.2],\n",
              "       [0.2, 0.2, 0.2, 0.2, 0.2],\n",
              "       [0.2, 0.2, 0.2, 0.2, 0.2],\n",
              "       [0.2, 0.2, 0.2, 0.2, 0.2],\n",
              "       [0.2, 0.2, 0.2, 0.2, 0.2],\n",
              "       [0.2, 0.2, 0.2, 0.2, 0.2],\n",
              "       [0.2, 0.2, 0.2, 0.2, 0.2],\n",
              "       [0.2, 0.2, 0.2, 0.2, 0.2]], dtype=float32)>"
            ]
          },
          "execution_count": 6,
          "metadata": {},
          "output_type": "execute_result"
        }
      ],
      "source": [
        "x = tf.random.normal((BATCH_SIZE, 127, 15))\n",
        "model(x)"
      ]
    },
    {
      "attachments": {},
      "cell_type": "markdown",
      "id": "b2ab9046",
      "metadata": {
        "id": "b2ab9046"
      },
      "source": [
        "## Load data"
      ]
    },
    {
      "cell_type": "code",
      "execution_count": 7,
      "id": "67063714",
      "metadata": {
        "id": "67063714"
      },
      "outputs": [],
      "source": [
        "data = np.load(\"mfcc.npz\")\n",
        "X = data[\"X\"]\n",
        "X_mask = data[\"X_mask\"]\n",
        "Y = data[\"Y\"]\n",
        "\n",
        "x_train = X[0:832]\n",
        "x_mask_train = X_mask[0:832]\n",
        "y_train = Y[0:832]\n",
        "x_test = X[872:]\n",
        "y_test = Y[872:]\n",
        "\n",
        "train_dataset = tf.data.Dataset.from_tensor_slices((x_train, y_train, x_mask_train))\n",
        "train_dataset = train_dataset.shuffle(buffer_size=10000).batch(BATCH_SIZE)\n",
        "\n",
        "val_dataset = tf.data.Dataset.from_tensor_slices((x_test, y_test))\n",
        "val_dataset = val_dataset.shuffle(buffer_size=1000).batch(BATCH_SIZE)\n",
        "\n",
        "x = x_train[0:BATCH_SIZE]\n",
        "x_rank = tf.rank(x).numpy()\n",
        "x_norm_resize_shape = [BATCH_SIZE] + list(tf.ones(tf.rank(x), dtype=tf.int32).numpy())[1:]"
      ]
    },
    {
      "attachments": {},
      "cell_type": "markdown",
      "id": "45c45212",
      "metadata": {
        "id": "45c45212"
      },
      "source": [
        "## Training"
      ]
    },
    {
      "cell_type": "code",
      "execution_count": 8,
      "id": "8b52fb36",
      "metadata": {
        "id": "8b52fb36"
      },
      "outputs": [],
      "source": [
        "class CustomSchedule(tf.keras.optimizers.schedules.LearningRateSchedule):\n",
        "    def __init__(self, d_model, warmup_steps=4000):\n",
        "        super().__init__()\n",
        "\n",
        "        self.d_model = d_model\n",
        "        self.d_model = tf.cast(self.d_model, tf.float32)\n",
        "\n",
        "        self.warmup_steps = warmup_steps\n",
        "\n",
        "    def __call__(self, step):\n",
        "        step = tf.cast(step, dtype=tf.float32)\n",
        "        arg1 = tf.math.rsqrt(step)\n",
        "        arg2 = step * (self.warmup_steps ** -1.5)\n",
        "\n",
        "        return tf.math.rsqrt(self.d_model) * tf.math.minimum(arg1, arg2)"
      ]
    },
    {
      "cell_type": "code",
      "execution_count": 9,
      "id": "69462829",
      "metadata": {
        "id": "69462829"
      },
      "outputs": [],
      "source": [
        "def perturbation_loss(x, y, from_logits=False):\n",
        "    return keras.losses.CategoricalCrossentropy(from_logits=from_logits)(x, y)\n",
        "\n",
        "loss_fn = keras.losses.SparseCategoricalCrossentropy(from_logits=False)\n",
        "learning_rate = CustomSchedule(32)\n",
        "optimizer = keras.optimizers.experimental.AdamW(learning_rate=learning_rate, beta_1=0.9, beta_2=0.98,\n",
        "                                     epsilon=1e-9)\n",
        "\n",
        "train_acc_metric = keras.metrics.SparseCategoricalAccuracy()\n",
        "val_acc_metric = keras.metrics.SparseCategoricalAccuracy()\n",
        "val_loss_metric = keras.losses.SparseCategoricalCrossentropy(from_logits=False)"
      ]
    },
    {
      "cell_type": "code",
      "execution_count": 10,
      "id": "b5bc7bc0",
      "metadata": {
        "id": "b5bc7bc0"
      },
      "outputs": [],
      "source": [
        "eps = 8.     # the perturbation parameter\n",
        "sig = 1e-5   # initial perturbation StdDev\n",
        "zeta = 1e-6  # differentiation constant\n",
        "lamd = 1     # regularization parameter\n",
        "\n",
        "@tf.function\n",
        "def training_step(x, label, x_mask):\n",
        "    x_p = tf.random.normal(x.shape, stddev=sig)\n",
        "    x_norm = x_p\n",
        "    for i in range(x_rank-1, 0, -1):\n",
        "        x_norm = tf.norm(x_norm, ord=2, axis=int(i))\n",
        "    x_p /= tf.reshape(x_norm, (BATCH_SIZE, 1, 1)) + zeta\n",
        "    x_p *= zeta\n",
        "\n",
        "\n",
        "    with tf.GradientTape() as adversarial_tape:\n",
        "        adversarial_tape.watch(x_p)\n",
        "        y_p = model(x + x_p, training=True)\n",
        "        y = model(x, training=True)\n",
        "        l = perturbation_loss(y, y_p)\n",
        "    g = adversarial_tape.gradient(l, x_p)\n",
        "\n",
        "    g_norm = g\n",
        "    for i in range(x_rank-1, 0, -1):\n",
        "        g_norm = tf.norm(g_norm, ord=2, axis=int(i))\n",
        "\n",
        "    x_p = eps * g / tf.reshape(g_norm, x_norm_resize_shape)\n",
        "    x_p *= x_mask\n",
        "\n",
        "    with tf.GradientTape() as model_tape:\n",
        "        y_p = model(x + x_p, training=True)\n",
        "        y = model(x, training=True)\n",
        "        l = perturbation_loss(y, y_p)    # Recalculate regularization\n",
        "\n",
        "        logits = model(x, training=True)\n",
        "        loss = loss_fn(label, logits) + lamd * l / BATCH_SIZE\n",
        "    grads = model_tape.gradient(loss, model.trainable_weights)\n",
        "    optimizer.apply_gradients(zip(grads, model.trainable_weights))\n",
        "\n",
        "    train_acc_metric.update_state(label, logits)\n",
        "    return loss, train_acc_metric.result(), l, x_p, g\n",
        "\n",
        "@tf.function\n",
        "def pre_train(x, label):\n",
        "    with tf.GradientTape() as model_tape:\n",
        "        logits = model(x, training=True)\n",
        "        loss = loss_fn(label, logits)\n",
        "    grads = model_tape.gradient(loss, model.trainable_weights)\n",
        "    optimizer.apply_gradients(zip(grads, model.trainable_weights))"
      ]
    },
    {
      "cell_type": "code",
      "execution_count": 11,
      "id": "e43f6a45",
      "metadata": {
        "colab": {
          "base_uri": "https://localhost:8080/",
          "height": 1000
        },
        "id": "e43f6a45",
        "outputId": "1668b89d-bd5d-425b-9529-a400609a331e"
      },
      "outputs": [
        {
          "name": "stderr",
          "output_type": "stream",
          "text": [
            "\r  0%|          | 0/1000 [00:00<?, ?it/s]"
          ]
        },
        {
          "name": "stdout",
          "output_type": "stream",
          "text": [
            "\n",
            "Start of epoch 0\n"
          ]
        },
        {
          "name": "stderr",
          "output_type": "stream",
          "text": [
            "\r  0%|          | 1/1000 [00:07<2:03:42,  7.43s/it]"
          ]
        },
        {
          "name": "stdout",
          "output_type": "stream",
          "text": [
            "Training loss: 1.6597\n",
            "Training metric: 0.2067\n",
            "perturbation loss: 1.6094\n",
            "Validation acc: 0.1797\n",
            "\n",
            "Start of epoch 1\n"
          ]
        },
        {
          "name": "stderr",
          "output_type": "stream",
          "text": [
            "\r  0%|          | 2/1000 [00:10<1:25:22,  5.13s/it]"
          ]
        },
        {
          "name": "stdout",
          "output_type": "stream",
          "text": [
            "Training loss: 1.6597\n",
            "Training metric: 0.2212\n",
            "perturbation loss: 1.6094\n",
            "Validation acc: 0.2500\n",
            "\n",
            "Start of epoch 2\n"
          ]
        },
        {
          "name": "stderr",
          "output_type": "stream",
          "text": [
            "\r  0%|          | 3/1000 [00:14<1:12:47,  4.38s/it]"
          ]
        },
        {
          "name": "stdout",
          "output_type": "stream",
          "text": [
            "Training loss: 1.6596\n",
            "Training metric: 0.2428\n",
            "perturbation loss: 1.6094\n",
            "Validation acc: 0.1484\n",
            "\n",
            "Start of epoch 3\n"
          ]
        },
        {
          "name": "stderr",
          "output_type": "stream",
          "text": [
            "\r  0%|          | 4/1000 [00:17<1:06:46,  4.02s/it]"
          ]
        },
        {
          "name": "stdout",
          "output_type": "stream",
          "text": [
            "Training loss: 1.6593\n",
            "Training metric: 0.2416\n",
            "perturbation loss: 1.6094\n",
            "Validation acc: 0.3516\n",
            "\n",
            "Start of epoch 4\n"
          ]
        },
        {
          "name": "stderr",
          "output_type": "stream",
          "text": [
            "\r  0%|          | 5/1000 [00:21<1:03:27,  3.83s/it]"
          ]
        },
        {
          "name": "stdout",
          "output_type": "stream",
          "text": [
            "Training loss: 1.6582\n",
            "Training metric: 0.2505\n",
            "perturbation loss: 1.6094\n",
            "Validation acc: 0.3516\n",
            "\n",
            "Start of epoch 5\n"
          ]
        },
        {
          "name": "stderr",
          "output_type": "stream",
          "text": [
            "\r  1%|          | 6/1000 [00:24<1:01:25,  3.71s/it]"
          ]
        },
        {
          "name": "stdout",
          "output_type": "stream",
          "text": [
            "Training loss: 1.6549\n",
            "Training metric: 0.2582\n",
            "perturbation loss: 1.6094\n",
            "Validation acc: 0.3125\n",
            "\n",
            "Start of epoch 6\n"
          ]
        },
        {
          "name": "stderr",
          "output_type": "stream",
          "text": [
            "\r  1%|          | 7/1000 [00:28<1:00:06,  3.63s/it]"
          ]
        },
        {
          "name": "stdout",
          "output_type": "stream",
          "text": [
            "Training loss: 1.6515\n",
            "Training metric: 0.2656\n",
            "perturbation loss: 1.6092\n",
            "Validation acc: 0.3750\n",
            "\n",
            "Start of epoch 7\n"
          ]
        },
        {
          "name": "stderr",
          "output_type": "stream",
          "text": [
            "\r  1%|          | 8/1000 [00:31<59:16,  3.59s/it]  "
          ]
        },
        {
          "name": "stdout",
          "output_type": "stream",
          "text": [
            "Training loss: 1.6453\n",
            "Training metric: 0.2730\n",
            "perturbation loss: 1.6089\n",
            "Validation acc: 0.3750\n",
            "\n",
            "Start of epoch 8\n"
          ]
        },
        {
          "name": "stderr",
          "output_type": "stream",
          "text": [
            "\r  1%|          | 9/1000 [00:35<58:40,  3.55s/it]"
          ]
        },
        {
          "name": "stdout",
          "output_type": "stream",
          "text": [
            "Training loss: 1.6231\n",
            "Training metric: 0.2827\n",
            "perturbation loss: 1.6079\n",
            "Validation acc: 0.4141\n",
            "\n",
            "Start of epoch 9\n"
          ]
        },
        {
          "name": "stderr",
          "output_type": "stream",
          "text": [
            "\r  1%|          | 10/1000 [00:38<58:13,  3.53s/it]"
          ]
        },
        {
          "name": "stdout",
          "output_type": "stream",
          "text": [
            "Training loss: 1.6158\n",
            "Training metric: 0.2942\n",
            "perturbation loss: 1.6061\n",
            "Validation acc: 0.4375\n",
            "\n",
            "Start of epoch 10\n"
          ]
        },
        {
          "name": "stderr",
          "output_type": "stream",
          "text": [
            "\r  1%|          | 11/1000 [00:42<57:52,  3.51s/it]"
          ]
        },
        {
          "name": "stdout",
          "output_type": "stream",
          "text": [
            "Training loss: 1.5826\n",
            "Training metric: 0.3045\n",
            "perturbation loss: 1.6021\n",
            "Validation acc: 0.4062\n",
            "\n",
            "Start of epoch 11\n"
          ]
        },
        {
          "name": "stderr",
          "output_type": "stream",
          "text": [
            "\r  1%|          | 12/1000 [00:45<57:41,  3.50s/it]"
          ]
        },
        {
          "name": "stdout",
          "output_type": "stream",
          "text": [
            "Training loss: 1.5366\n",
            "Training metric: 0.3133\n",
            "perturbation loss: 1.5919\n",
            "Validation acc: 0.4062\n",
            "\n",
            "Start of epoch 12\n"
          ]
        },
        {
          "name": "stderr",
          "output_type": "stream",
          "text": [
            "\r  1%|▏         | 13/1000 [00:49<57:27,  3.49s/it]"
          ]
        },
        {
          "name": "stdout",
          "output_type": "stream",
          "text": [
            "Training loss: 1.5411\n",
            "Training metric: 0.3193\n",
            "perturbation loss: 1.5827\n",
            "Validation acc: 0.4219\n",
            "\n",
            "Start of epoch 13\n"
          ]
        },
        {
          "name": "stderr",
          "output_type": "stream",
          "text": [
            "\r  1%|▏         | 14/1000 [00:52<57:18,  3.49s/it]"
          ]
        },
        {
          "name": "stdout",
          "output_type": "stream",
          "text": [
            "Training loss: 1.4697\n",
            "Training metric: 0.3253\n",
            "perturbation loss: 1.5507\n",
            "Validation acc: 0.3828\n",
            "\n",
            "Start of epoch 14\n"
          ]
        },
        {
          "name": "stderr",
          "output_type": "stream",
          "text": [
            "\r  2%|▏         | 15/1000 [00:56<57:13,  3.49s/it]"
          ]
        },
        {
          "name": "stdout",
          "output_type": "stream",
          "text": [
            "Training loss: 1.4458\n",
            "Training metric: 0.3276\n",
            "perturbation loss: 1.5237\n",
            "Validation acc: 0.3984\n",
            "\n",
            "Start of epoch 15\n"
          ]
        },
        {
          "name": "stderr",
          "output_type": "stream",
          "text": [
            "\r  2%|▏         | 16/1000 [00:59<57:07,  3.48s/it]"
          ]
        },
        {
          "name": "stdout",
          "output_type": "stream",
          "text": [
            "Training loss: 1.3793\n",
            "Training metric: 0.3326\n",
            "perturbation loss: 1.4867\n",
            "Validation acc: 0.4062\n",
            "\n",
            "Start of epoch 16\n"
          ]
        },
        {
          "name": "stderr",
          "output_type": "stream",
          "text": [
            "\r  2%|▏         | 17/1000 [01:03<57:00,  3.48s/it]"
          ]
        },
        {
          "name": "stdout",
          "output_type": "stream",
          "text": [
            "Training loss: 1.3341\n",
            "Training metric: 0.3362\n",
            "perturbation loss: 1.4374\n",
            "Validation acc: 0.3906\n",
            "\n",
            "Start of epoch 17\n"
          ]
        },
        {
          "name": "stderr",
          "output_type": "stream",
          "text": [
            "\r  2%|▏         | 18/1000 [01:06<56:55,  3.48s/it]"
          ]
        },
        {
          "name": "stdout",
          "output_type": "stream",
          "text": [
            "Training loss: 1.2893\n",
            "Training metric: 0.3397\n",
            "perturbation loss: 1.3795\n",
            "Validation acc: 0.3906\n",
            "\n",
            "Start of epoch 18\n"
          ]
        },
        {
          "name": "stderr",
          "output_type": "stream",
          "text": [
            "\r  2%|▏         | 19/1000 [01:10<56:50,  3.48s/it]"
          ]
        },
        {
          "name": "stdout",
          "output_type": "stream",
          "text": [
            "Training loss: 1.2071\n",
            "Training metric: 0.3426\n",
            "perturbation loss: 1.3015\n",
            "Validation acc: 0.4062\n",
            "\n",
            "Start of epoch 19\n"
          ]
        },
        {
          "name": "stderr",
          "output_type": "stream",
          "text": [
            "\r  2%|▏         | 20/1000 [01:13<56:47,  3.48s/it]"
          ]
        },
        {
          "name": "stdout",
          "output_type": "stream",
          "text": [
            "Training loss: 1.1710\n",
            "Training metric: 0.3455\n",
            "perturbation loss: 1.3275\n",
            "Validation acc: 0.3906\n",
            "\n",
            "Start of epoch 20\n"
          ]
        },
        {
          "name": "stderr",
          "output_type": "stream",
          "text": [
            "\r  2%|▏         | 21/1000 [01:17<56:47,  3.48s/it]"
          ]
        },
        {
          "name": "stdout",
          "output_type": "stream",
          "text": [
            "Training loss: 1.2035\n",
            "Training metric: 0.3479\n",
            "perturbation loss: 1.2834\n",
            "Validation acc: 0.4062\n",
            "\n",
            "Start of epoch 21\n"
          ]
        },
        {
          "name": "stderr",
          "output_type": "stream",
          "text": [
            "\r  2%|▏         | 22/1000 [01:20<56:42,  3.48s/it]"
          ]
        },
        {
          "name": "stdout",
          "output_type": "stream",
          "text": [
            "Training loss: 1.2804\n",
            "Training metric: 0.3508\n",
            "perturbation loss: 1.3072\n",
            "Validation acc: 0.4141\n",
            "\n",
            "Start of epoch 22\n"
          ]
        },
        {
          "name": "stderr",
          "output_type": "stream",
          "text": [
            "\r  2%|▏         | 23/1000 [01:23<56:37,  3.48s/it]"
          ]
        },
        {
          "name": "stdout",
          "output_type": "stream",
          "text": [
            "Training loss: 1.2445\n",
            "Training metric: 0.3533\n",
            "perturbation loss: 1.1709\n",
            "Validation acc: 0.4297\n",
            "\n",
            "Start of epoch 23\n"
          ]
        },
        {
          "name": "stderr",
          "output_type": "stream",
          "text": [
            "\r  2%|▏         | 24/1000 [01:27<56:34,  3.48s/it]"
          ]
        },
        {
          "name": "stdout",
          "output_type": "stream",
          "text": [
            "Training loss: 1.0917\n",
            "Training metric: 0.3585\n",
            "perturbation loss: 1.2184\n",
            "Validation acc: 0.4688\n",
            "\n",
            "Start of epoch 24\n"
          ]
        },
        {
          "name": "stderr",
          "output_type": "stream",
          "text": [
            "\r  2%|▎         | 25/1000 [01:30<56:31,  3.48s/it]"
          ]
        },
        {
          "name": "stdout",
          "output_type": "stream",
          "text": [
            "Training loss: 1.0625\n",
            "Training metric: 0.3646\n",
            "perturbation loss: 1.1472\n",
            "Validation acc: 0.5859\n",
            "\n",
            "Start of epoch 25\n"
          ]
        },
        {
          "name": "stderr",
          "output_type": "stream",
          "text": [
            "\r  3%|▎         | 26/1000 [01:34<56:26,  3.48s/it]"
          ]
        },
        {
          "name": "stdout",
          "output_type": "stream",
          "text": [
            "Training loss: 0.9897\n",
            "Training metric: 0.3749\n",
            "perturbation loss: 1.1189\n",
            "Validation acc: 0.6094\n",
            "\n",
            "Start of epoch 26\n"
          ]
        },
        {
          "name": "stderr",
          "output_type": "stream",
          "text": [
            "\r  3%|▎         | 27/1000 [01:37<56:23,  3.48s/it]"
          ]
        },
        {
          "name": "stdout",
          "output_type": "stream",
          "text": [
            "Training loss: 0.9148\n",
            "Training metric: 0.3842\n",
            "perturbation loss: 1.0551\n",
            "Validation acc: 0.5703\n",
            "\n",
            "Start of epoch 27\n"
          ]
        },
        {
          "name": "stderr",
          "output_type": "stream",
          "text": [
            "\r  3%|▎         | 28/1000 [01:41<56:20,  3.48s/it]"
          ]
        },
        {
          "name": "stdout",
          "output_type": "stream",
          "text": [
            "Training loss: 0.8576\n",
            "Training metric: 0.3925\n",
            "perturbation loss: 1.0089\n",
            "Validation acc: 0.5625\n",
            "\n",
            "Start of epoch 28\n"
          ]
        },
        {
          "name": "stderr",
          "output_type": "stream",
          "text": [
            "\r  3%|▎         | 29/1000 [01:44<56:18,  3.48s/it]"
          ]
        },
        {
          "name": "stdout",
          "output_type": "stream",
          "text": [
            "Training loss: 0.8442\n",
            "Training metric: 0.4015\n",
            "perturbation loss: 1.0794\n",
            "Validation acc: 0.7031\n",
            "\n",
            "Start of epoch 29\n"
          ]
        },
        {
          "name": "stderr",
          "output_type": "stream",
          "text": [
            "\r  3%|▎         | 30/1000 [01:48<56:16,  3.48s/it]"
          ]
        },
        {
          "name": "stdout",
          "output_type": "stream",
          "text": [
            "Training loss: 0.7885\n",
            "Training metric: 0.4109\n",
            "perturbation loss: 0.9888\n",
            "Validation acc: 0.6562\n",
            "\n",
            "Start of epoch 30\n"
          ]
        },
        {
          "name": "stderr",
          "output_type": "stream",
          "text": [
            "\r  3%|▎         | 31/1000 [01:51<56:11,  3.48s/it]"
          ]
        },
        {
          "name": "stdout",
          "output_type": "stream",
          "text": [
            "Training loss: 1.1915\n",
            "Training metric: 0.4201\n",
            "perturbation loss: 1.1547\n",
            "Validation acc: 0.6641\n",
            "\n",
            "Start of epoch 31\n"
          ]
        },
        {
          "name": "stderr",
          "output_type": "stream",
          "text": [
            "\r  3%|▎         | 32/1000 [01:55<56:06,  3.48s/it]"
          ]
        },
        {
          "name": "stdout",
          "output_type": "stream",
          "text": [
            "Training loss: 0.7068\n",
            "Training metric: 0.4284\n",
            "perturbation loss: 0.9626\n",
            "Validation acc: 0.6875\n",
            "\n",
            "Start of epoch 32\n"
          ]
        },
        {
          "name": "stderr",
          "output_type": "stream",
          "text": [
            "\r  3%|▎         | 33/1000 [01:58<56:00,  3.48s/it]"
          ]
        },
        {
          "name": "stdout",
          "output_type": "stream",
          "text": [
            "Training loss: 0.6757\n",
            "Training metric: 0.4376\n",
            "perturbation loss: 0.9351\n",
            "Validation acc: 0.7500\n",
            "\n",
            "Start of epoch 33\n"
          ]
        },
        {
          "name": "stderr",
          "output_type": "stream",
          "text": [
            "\r  3%|▎         | 34/1000 [02:02<56:00,  3.48s/it]"
          ]
        },
        {
          "name": "stdout",
          "output_type": "stream",
          "text": [
            "Training loss: 0.7733\n",
            "Training metric: 0.4488\n",
            "perturbation loss: 0.9266\n",
            "Validation acc: 0.8203\n",
            "\n",
            "Start of epoch 34\n"
          ]
        },
        {
          "name": "stderr",
          "output_type": "stream",
          "text": [
            "\r  4%|▎         | 35/1000 [02:05<55:56,  3.48s/it]"
          ]
        },
        {
          "name": "stdout",
          "output_type": "stream",
          "text": [
            "Training loss: 0.5979\n",
            "Training metric: 0.4593\n",
            "perturbation loss: 0.8952\n",
            "Validation acc: 0.8359\n",
            "\n",
            "Start of epoch 35\n"
          ]
        },
        {
          "name": "stderr",
          "output_type": "stream",
          "text": [
            "\r  4%|▎         | 36/1000 [02:09<55:51,  3.48s/it]"
          ]
        },
        {
          "name": "stdout",
          "output_type": "stream",
          "text": [
            "Training loss: 0.6972\n",
            "Training metric: 0.4706\n",
            "perturbation loss: 0.7654\n",
            "Validation acc: 0.8359\n",
            "\n",
            "Start of epoch 36\n"
          ]
        },
        {
          "name": "stderr",
          "output_type": "stream",
          "text": [
            "\r  4%|▎         | 37/1000 [02:12<55:48,  3.48s/it]"
          ]
        },
        {
          "name": "stdout",
          "output_type": "stream",
          "text": [
            "Training loss: 0.8506\n",
            "Training metric: 0.4807\n",
            "perturbation loss: 0.7181\n",
            "Validation acc: 0.7656\n",
            "\n",
            "Start of epoch 37\n"
          ]
        },
        {
          "name": "stderr",
          "output_type": "stream",
          "text": [
            "\r  4%|▍         | 38/1000 [02:16<55:45,  3.48s/it]"
          ]
        },
        {
          "name": "stdout",
          "output_type": "stream",
          "text": [
            "Training loss: 0.4695\n",
            "Training metric: 0.4907\n",
            "perturbation loss: 0.6200\n",
            "Validation acc: 0.8516\n",
            "\n",
            "Start of epoch 38\n"
          ]
        },
        {
          "name": "stderr",
          "output_type": "stream",
          "text": [
            "\r  4%|▍         | 39/1000 [02:19<55:40,  3.48s/it]"
          ]
        },
        {
          "name": "stdout",
          "output_type": "stream",
          "text": [
            "Training loss: 0.2873\n",
            "Training metric: 0.5010\n",
            "perturbation loss: 0.5197\n",
            "Validation acc: 0.8047\n",
            "\n",
            "Start of epoch 39\n"
          ]
        },
        {
          "name": "stderr",
          "output_type": "stream",
          "text": [
            "\r  4%|▍         | 40/1000 [02:23<55:36,  3.48s/it]"
          ]
        },
        {
          "name": "stdout",
          "output_type": "stream",
          "text": [
            "Training loss: 0.3784\n",
            "Training metric: 0.5107\n",
            "perturbation loss: 0.5703\n",
            "Validation acc: 0.8125\n",
            "\n",
            "Start of epoch 40\n"
          ]
        },
        {
          "name": "stderr",
          "output_type": "stream",
          "text": [
            "\r  4%|▍         | 41/1000 [02:26<55:31,  3.47s/it]"
          ]
        },
        {
          "name": "stdout",
          "output_type": "stream",
          "text": [
            "Training loss: 0.3858\n",
            "Training metric: 0.5197\n",
            "perturbation loss: 0.4293\n",
            "Validation acc: 0.8438\n",
            "\n",
            "Start of epoch 41\n"
          ]
        },
        {
          "name": "stderr",
          "output_type": "stream",
          "text": [
            "\r  4%|▍         | 42/1000 [02:30<55:28,  3.47s/it]"
          ]
        },
        {
          "name": "stdout",
          "output_type": "stream",
          "text": [
            "Training loss: 0.3279\n",
            "Training metric: 0.5285\n",
            "perturbation loss: 0.4902\n",
            "Validation acc: 0.8125\n",
            "\n",
            "Start of epoch 42\n"
          ]
        },
        {
          "name": "stderr",
          "output_type": "stream",
          "text": [
            "\r  4%|▍         | 43/1000 [02:33<55:24,  3.47s/it]"
          ]
        },
        {
          "name": "stdout",
          "output_type": "stream",
          "text": [
            "Training loss: 0.2868\n",
            "Training metric: 0.5366\n",
            "perturbation loss: 0.5465\n",
            "Validation acc: 0.8438\n",
            "\n",
            "Start of epoch 43\n"
          ]
        },
        {
          "name": "stderr",
          "output_type": "stream",
          "text": [
            "\r  4%|▍         | 44/1000 [02:36<55:21,  3.47s/it]"
          ]
        },
        {
          "name": "stdout",
          "output_type": "stream",
          "text": [
            "Training loss: 0.3189\n",
            "Training metric: 0.5447\n",
            "perturbation loss: 0.3944\n",
            "Validation acc: 0.9141\n",
            "\n",
            "Start of epoch 44\n"
          ]
        },
        {
          "name": "stderr",
          "output_type": "stream",
          "text": [
            "\r  4%|▍         | 45/1000 [02:40<55:18,  3.47s/it]"
          ]
        },
        {
          "name": "stdout",
          "output_type": "stream",
          "text": [
            "Training loss: 0.1569\n",
            "Training metric: 0.5529\n",
            "perturbation loss: 0.2546\n",
            "Validation acc: 0.8281\n",
            "\n",
            "Start of epoch 45\n"
          ]
        },
        {
          "name": "stderr",
          "output_type": "stream",
          "text": [
            "\r  5%|▍         | 46/1000 [02:43<55:16,  3.48s/it]"
          ]
        },
        {
          "name": "stdout",
          "output_type": "stream",
          "text": [
            "Training loss: 0.2594\n",
            "Training metric: 0.5605\n",
            "perturbation loss: 0.3797\n",
            "Validation acc: 0.8203\n",
            "\n",
            "Start of epoch 46\n"
          ]
        },
        {
          "name": "stderr",
          "output_type": "stream",
          "text": [
            "\r  5%|▍         | 47/1000 [02:47<55:11,  3.47s/it]"
          ]
        },
        {
          "name": "stdout",
          "output_type": "stream",
          "text": [
            "Training loss: 0.1675\n",
            "Training metric: 0.5682\n",
            "perturbation loss: 0.2769\n",
            "Validation acc: 0.8828\n",
            "\n",
            "Start of epoch 47\n"
          ]
        },
        {
          "name": "stderr",
          "output_type": "stream",
          "text": [
            "\r  5%|▍         | 48/1000 [02:50<55:07,  3.47s/it]"
          ]
        },
        {
          "name": "stdout",
          "output_type": "stream",
          "text": [
            "Training loss: 0.1765\n",
            "Training metric: 0.5753\n",
            "perturbation loss: 0.4589\n",
            "Validation acc: 0.8438\n",
            "\n",
            "Start of epoch 48\n"
          ]
        },
        {
          "name": "stderr",
          "output_type": "stream",
          "text": [
            "\r  5%|▍         | 49/1000 [02:54<55:03,  3.47s/it]"
          ]
        },
        {
          "name": "stdout",
          "output_type": "stream",
          "text": [
            "Training loss: 0.2085\n",
            "Training metric: 0.5823\n",
            "perturbation loss: 0.4221\n",
            "Validation acc: 0.8672\n",
            "\n",
            "Start of epoch 49\n"
          ]
        },
        {
          "name": "stderr",
          "output_type": "stream",
          "text": [
            "\r  5%|▌         | 50/1000 [02:57<54:58,  3.47s/it]"
          ]
        },
        {
          "name": "stdout",
          "output_type": "stream",
          "text": [
            "Training loss: 0.1422\n",
            "Training metric: 0.5890\n",
            "perturbation loss: 0.2590\n",
            "Validation acc: 0.8516\n",
            "\n",
            "Start of epoch 50\n"
          ]
        },
        {
          "name": "stderr",
          "output_type": "stream",
          "text": [
            "\r  5%|▌         | 51/1000 [03:01<54:56,  3.47s/it]"
          ]
        },
        {
          "name": "stdout",
          "output_type": "stream",
          "text": [
            "Training loss: 0.2550\n",
            "Training metric: 0.5953\n",
            "perturbation loss: 0.3353\n",
            "Validation acc: 0.8750\n",
            "\n",
            "Start of epoch 51\n"
          ]
        },
        {
          "name": "stderr",
          "output_type": "stream",
          "text": [
            "\r  5%|▌         | 52/1000 [03:04<54:53,  3.47s/it]"
          ]
        },
        {
          "name": "stdout",
          "output_type": "stream",
          "text": [
            "Training loss: 0.1783\n",
            "Training metric: 0.6010\n",
            "perturbation loss: 0.2733\n",
            "Validation acc: 0.8672\n",
            "\n",
            "Start of epoch 52\n"
          ]
        },
        {
          "name": "stderr",
          "output_type": "stream",
          "text": [
            "\r  5%|▌         | 53/1000 [03:08<54:49,  3.47s/it]"
          ]
        },
        {
          "name": "stdout",
          "output_type": "stream",
          "text": [
            "Training loss: 0.0793\n",
            "Training metric: 0.6071\n",
            "perturbation loss: 0.1825\n",
            "Validation acc: 0.8516\n",
            "\n",
            "Start of epoch 53\n"
          ]
        },
        {
          "name": "stderr",
          "output_type": "stream",
          "text": [
            "\r  5%|▌         | 54/1000 [03:11<54:46,  3.47s/it]"
          ]
        },
        {
          "name": "stdout",
          "output_type": "stream",
          "text": [
            "Training loss: 0.2494\n",
            "Training metric: 0.6131\n",
            "perturbation loss: 0.4395\n",
            "Validation acc: 0.8438\n",
            "\n",
            "Start of epoch 54\n"
          ]
        },
        {
          "name": "stderr",
          "output_type": "stream",
          "text": [
            "\r  6%|▌         | 55/1000 [03:15<54:41,  3.47s/it]"
          ]
        },
        {
          "name": "stdout",
          "output_type": "stream",
          "text": [
            "Training loss: 0.1813\n",
            "Training metric: 0.6189\n",
            "perturbation loss: 0.2122\n",
            "Validation acc: 0.8828\n",
            "\n",
            "Start of epoch 55\n"
          ]
        },
        {
          "name": "stderr",
          "output_type": "stream",
          "text": [
            "\r  6%|▌         | 56/1000 [03:18<54:41,  3.48s/it]"
          ]
        },
        {
          "name": "stdout",
          "output_type": "stream",
          "text": [
            "Training loss: 0.1974\n",
            "Training metric: 0.6245\n",
            "perturbation loss: 0.2706\n",
            "Validation acc: 0.8828\n",
            "\n",
            "Start of epoch 56\n"
          ]
        },
        {
          "name": "stderr",
          "output_type": "stream",
          "text": [
            "\r  6%|▌         | 57/1000 [03:22<54:38,  3.48s/it]"
          ]
        },
        {
          "name": "stdout",
          "output_type": "stream",
          "text": [
            "Training loss: 0.0900\n",
            "Training metric: 0.6302\n",
            "perturbation loss: 0.2238\n",
            "Validation acc: 0.8594\n",
            "\n",
            "Start of epoch 57\n"
          ]
        },
        {
          "name": "stderr",
          "output_type": "stream",
          "text": [
            "\r  6%|▌         | 58/1000 [03:25<54:35,  3.48s/it]"
          ]
        },
        {
          "name": "stdout",
          "output_type": "stream",
          "text": [
            "Training loss: 0.2142\n",
            "Training metric: 0.6355\n",
            "perturbation loss: 0.3394\n",
            "Validation acc: 0.8594\n",
            "\n",
            "Start of epoch 58\n"
          ]
        },
        {
          "name": "stderr",
          "output_type": "stream",
          "text": [
            "\r  6%|▌         | 59/1000 [03:29<54:35,  3.48s/it]"
          ]
        },
        {
          "name": "stdout",
          "output_type": "stream",
          "text": [
            "Training loss: 0.2293\n",
            "Training metric: 0.6408\n",
            "perturbation loss: 0.3851\n",
            "Validation acc: 0.8906\n",
            "\n",
            "Start of epoch 59\n"
          ]
        },
        {
          "name": "stderr",
          "output_type": "stream",
          "text": [
            "\r  6%|▌         | 60/1000 [03:32<54:30,  3.48s/it]"
          ]
        },
        {
          "name": "stdout",
          "output_type": "stream",
          "text": [
            "Training loss: 0.0927\n",
            "Training metric: 0.6457\n",
            "perturbation loss: 0.1416\n",
            "Validation acc: 0.8984\n",
            "\n",
            "Start of epoch 60\n"
          ]
        },
        {
          "name": "stderr",
          "output_type": "stream",
          "text": [
            "\r  6%|▌         | 61/1000 [03:36<54:25,  3.48s/it]"
          ]
        },
        {
          "name": "stdout",
          "output_type": "stream",
          "text": [
            "Training loss: 0.1076\n",
            "Training metric: 0.6509\n",
            "perturbation loss: 0.1738\n",
            "Validation acc: 0.8828\n",
            "\n",
            "Start of epoch 61\n"
          ]
        },
        {
          "name": "stderr",
          "output_type": "stream",
          "text": [
            "\r  6%|▌         | 62/1000 [03:39<54:20,  3.48s/it]"
          ]
        },
        {
          "name": "stdout",
          "output_type": "stream",
          "text": [
            "Training loss: 0.4218\n",
            "Training metric: 0.6557\n",
            "perturbation loss: 0.3193\n",
            "Validation acc: 0.9062\n",
            "\n",
            "Start of epoch 62\n"
          ]
        },
        {
          "name": "stderr",
          "output_type": "stream",
          "text": [
            "\r  6%|▋         | 63/1000 [03:43<54:20,  3.48s/it]"
          ]
        },
        {
          "name": "stdout",
          "output_type": "stream",
          "text": [
            "Training loss: 0.1942\n",
            "Training metric: 0.6594\n",
            "perturbation loss: 0.2813\n",
            "Validation acc: 0.8438\n",
            "\n",
            "Start of epoch 63\n"
          ]
        },
        {
          "name": "stderr",
          "output_type": "stream",
          "text": [
            "\r  6%|▋         | 64/1000 [03:46<54:17,  3.48s/it]"
          ]
        },
        {
          "name": "stdout",
          "output_type": "stream",
          "text": [
            "Training loss: 0.2149\n",
            "Training metric: 0.6637\n",
            "perturbation loss: 0.2057\n",
            "Validation acc: 0.8672\n",
            "\n",
            "Start of epoch 64\n"
          ]
        },
        {
          "name": "stderr",
          "output_type": "stream",
          "text": [
            "\r  6%|▋         | 65/1000 [03:50<54:14,  3.48s/it]"
          ]
        },
        {
          "name": "stdout",
          "output_type": "stream",
          "text": [
            "Training loss: 0.1459\n",
            "Training metric: 0.6682\n",
            "perturbation loss: 0.2197\n",
            "Validation acc: 0.9062\n",
            "\n",
            "Start of epoch 65\n"
          ]
        },
        {
          "name": "stderr",
          "output_type": "stream",
          "text": [
            "\r  7%|▋         | 66/1000 [03:53<54:08,  3.48s/it]"
          ]
        },
        {
          "name": "stdout",
          "output_type": "stream",
          "text": [
            "Training loss: 0.0690\n",
            "Training metric: 0.6727\n",
            "perturbation loss: 0.1774\n",
            "Validation acc: 0.9062\n",
            "\n",
            "Start of epoch 66\n"
          ]
        },
        {
          "name": "stderr",
          "output_type": "stream",
          "text": [
            "\r  7%|▋         | 67/1000 [03:56<54:04,  3.48s/it]"
          ]
        },
        {
          "name": "stdout",
          "output_type": "stream",
          "text": [
            "Training loss: 0.3114\n",
            "Training metric: 0.6773\n",
            "perturbation loss: 0.2924\n",
            "Validation acc: 0.9141\n",
            "\n",
            "Start of epoch 67\n"
          ]
        },
        {
          "name": "stderr",
          "output_type": "stream",
          "text": [
            "\r  7%|▋         | 68/1000 [04:00<53:58,  3.48s/it]"
          ]
        },
        {
          "name": "stdout",
          "output_type": "stream",
          "text": [
            "Training loss: 0.1616\n",
            "Training metric: 0.6810\n",
            "perturbation loss: 0.2514\n",
            "Validation acc: 0.8750\n",
            "\n",
            "Start of epoch 68\n"
          ]
        },
        {
          "name": "stderr",
          "output_type": "stream",
          "text": [
            "\r  7%|▋         | 69/1000 [04:03<53:55,  3.48s/it]"
          ]
        },
        {
          "name": "stdout",
          "output_type": "stream",
          "text": [
            "Training loss: 0.2397\n",
            "Training metric: 0.6847\n",
            "perturbation loss: 0.3504\n",
            "Validation acc: 0.8828\n",
            "\n",
            "Start of epoch 69\n"
          ]
        },
        {
          "name": "stderr",
          "output_type": "stream",
          "text": [
            "\r  7%|▋         | 70/1000 [04:07<53:52,  3.48s/it]"
          ]
        },
        {
          "name": "stdout",
          "output_type": "stream",
          "text": [
            "Training loss: 0.1107\n",
            "Training metric: 0.6886\n",
            "perturbation loss: 0.1565\n",
            "Validation acc: 0.9375\n",
            "\n",
            "Start of epoch 70\n"
          ]
        },
        {
          "name": "stderr",
          "output_type": "stream",
          "text": [
            "\r  7%|▋         | 71/1000 [04:10<53:47,  3.47s/it]"
          ]
        },
        {
          "name": "stdout",
          "output_type": "stream",
          "text": [
            "Training loss: 0.2182\n",
            "Training metric: 0.6923\n",
            "perturbation loss: 0.1774\n",
            "Validation acc: 0.9297\n",
            "\n",
            "Start of epoch 71\n"
          ]
        },
        {
          "name": "stderr",
          "output_type": "stream",
          "text": [
            "\r  7%|▋         | 72/1000 [04:14<53:45,  3.48s/it]"
          ]
        },
        {
          "name": "stdout",
          "output_type": "stream",
          "text": [
            "Training loss: 0.0455\n",
            "Training metric: 0.6961\n",
            "perturbation loss: 0.1183\n",
            "Validation acc: 0.8984\n",
            "\n",
            "Start of epoch 72\n"
          ]
        },
        {
          "name": "stderr",
          "output_type": "stream",
          "text": [
            "\r  7%|▋         | 73/1000 [04:17<53:40,  3.47s/it]"
          ]
        },
        {
          "name": "stdout",
          "output_type": "stream",
          "text": [
            "Training loss: 0.1223\n",
            "Training metric: 0.6999\n",
            "perturbation loss: 0.1295\n",
            "Validation acc: 0.9062\n",
            "\n",
            "Start of epoch 73\n"
          ]
        },
        {
          "name": "stderr",
          "output_type": "stream",
          "text": [
            "\r  7%|▋         | 74/1000 [04:21<53:36,  3.47s/it]"
          ]
        },
        {
          "name": "stdout",
          "output_type": "stream",
          "text": [
            "Training loss: 0.1219\n",
            "Training metric: 0.7036\n",
            "perturbation loss: 0.2354\n",
            "Validation acc: 0.9141\n",
            "\n",
            "Start of epoch 74\n"
          ]
        },
        {
          "name": "stderr",
          "output_type": "stream",
          "text": [
            "\r  8%|▊         | 75/1000 [04:24<53:34,  3.48s/it]"
          ]
        },
        {
          "name": "stdout",
          "output_type": "stream",
          "text": [
            "Training loss: 0.0968\n",
            "Training metric: 0.7072\n",
            "perturbation loss: 0.2318\n",
            "Validation acc: 0.9375\n",
            "\n",
            "Start of epoch 75\n"
          ]
        },
        {
          "name": "stderr",
          "output_type": "stream",
          "text": [
            "\r  8%|▊         | 76/1000 [04:28<53:31,  3.48s/it]"
          ]
        },
        {
          "name": "stdout",
          "output_type": "stream",
          "text": [
            "Training loss: 0.1642\n",
            "Training metric: 0.7102\n",
            "perturbation loss: 0.3005\n",
            "Validation acc: 0.8828\n",
            "\n",
            "Start of epoch 76\n"
          ]
        },
        {
          "name": "stderr",
          "output_type": "stream",
          "text": [
            "\r  8%|▊         | 77/1000 [04:31<53:28,  3.48s/it]"
          ]
        },
        {
          "name": "stdout",
          "output_type": "stream",
          "text": [
            "Training loss: 0.0210\n",
            "Training metric: 0.7133\n",
            "perturbation loss: 0.0728\n",
            "Validation acc: 0.9062\n",
            "\n",
            "Start of epoch 77\n"
          ]
        },
        {
          "name": "stderr",
          "output_type": "stream",
          "text": [
            "\r  8%|▊         | 78/1000 [04:35<53:24,  3.48s/it]"
          ]
        },
        {
          "name": "stdout",
          "output_type": "stream",
          "text": [
            "Training loss: 0.0144\n",
            "Training metric: 0.7165\n",
            "perturbation loss: 0.0655\n",
            "Validation acc: 0.8672\n",
            "\n",
            "Start of epoch 78\n"
          ]
        },
        {
          "name": "stderr",
          "output_type": "stream",
          "text": [
            "\r  8%|▊         | 79/1000 [04:38<53:19,  3.47s/it]"
          ]
        },
        {
          "name": "stdout",
          "output_type": "stream",
          "text": [
            "Training loss: 0.1030\n",
            "Training metric: 0.7193\n",
            "perturbation loss: 0.2042\n",
            "Validation acc: 0.9062\n",
            "\n",
            "Start of epoch 79\n"
          ]
        },
        {
          "name": "stderr",
          "output_type": "stream",
          "text": [
            "\r  8%|▊         | 80/1000 [04:42<53:16,  3.47s/it]"
          ]
        },
        {
          "name": "stdout",
          "output_type": "stream",
          "text": [
            "Training loss: 0.1277\n",
            "Training metric: 0.7225\n",
            "perturbation loss: 0.1802\n",
            "Validation acc: 0.9219\n",
            "\n",
            "Start of epoch 80\n"
          ]
        },
        {
          "name": "stderr",
          "output_type": "stream",
          "text": [
            "\r  8%|▊         | 81/1000 [04:45<53:13,  3.47s/it]"
          ]
        },
        {
          "name": "stdout",
          "output_type": "stream",
          "text": [
            "Training loss: 0.0595\n",
            "Training metric: 0.7255\n",
            "perturbation loss: 0.1521\n",
            "Validation acc: 0.8750\n",
            "\n",
            "Start of epoch 81\n"
          ]
        },
        {
          "name": "stderr",
          "output_type": "stream",
          "text": [
            "\r  8%|▊         | 82/1000 [04:49<53:09,  3.47s/it]"
          ]
        },
        {
          "name": "stdout",
          "output_type": "stream",
          "text": [
            "Training loss: 0.0866\n",
            "Training metric: 0.7285\n",
            "perturbation loss: 0.1881\n",
            "Validation acc: 0.8984\n",
            "\n",
            "Start of epoch 82\n"
          ]
        },
        {
          "name": "stderr",
          "output_type": "stream",
          "text": [
            "\r  8%|▊         | 83/1000 [04:52<53:04,  3.47s/it]"
          ]
        },
        {
          "name": "stdout",
          "output_type": "stream",
          "text": [
            "Training loss: 0.4225\n",
            "Training metric: 0.7312\n",
            "perturbation loss: 0.2320\n",
            "Validation acc: 0.9297\n",
            "\n",
            "Start of epoch 83\n"
          ]
        },
        {
          "name": "stderr",
          "output_type": "stream",
          "text": [
            "\r  8%|▊         | 84/1000 [04:56<53:04,  3.48s/it]"
          ]
        },
        {
          "name": "stdout",
          "output_type": "stream",
          "text": [
            "Training loss: 0.0447\n",
            "Training metric: 0.7339\n",
            "perturbation loss: 0.1910\n",
            "Validation acc: 0.8672\n",
            "\n",
            "Start of epoch 84\n"
          ]
        },
        {
          "name": "stderr",
          "output_type": "stream",
          "text": [
            "\r  8%|▊         | 85/1000 [04:59<53:00,  3.48s/it]"
          ]
        },
        {
          "name": "stdout",
          "output_type": "stream",
          "text": [
            "Training loss: 0.0406\n",
            "Training metric: 0.7367\n",
            "perturbation loss: 0.0911\n",
            "Validation acc: 0.9062\n",
            "\n",
            "Start of epoch 85\n"
          ]
        },
        {
          "name": "stderr",
          "output_type": "stream",
          "text": [
            "\r  9%|▊         | 86/1000 [05:02<52:59,  3.48s/it]"
          ]
        },
        {
          "name": "stdout",
          "output_type": "stream",
          "text": [
            "Training loss: 0.0974\n",
            "Training metric: 0.7394\n",
            "perturbation loss: 0.1209\n",
            "Validation acc: 0.8984\n",
            "\n",
            "Start of epoch 86\n"
          ]
        },
        {
          "name": "stderr",
          "output_type": "stream",
          "text": [
            "\r  9%|▊         | 87/1000 [05:06<52:56,  3.48s/it]"
          ]
        },
        {
          "name": "stdout",
          "output_type": "stream",
          "text": [
            "Training loss: 0.0441\n",
            "Training metric: 0.7421\n",
            "perturbation loss: 0.1288\n",
            "Validation acc: 0.8984\n",
            "\n",
            "Start of epoch 87\n"
          ]
        },
        {
          "name": "stderr",
          "output_type": "stream",
          "text": [
            "\r  9%|▉         | 88/1000 [05:09<52:52,  3.48s/it]"
          ]
        },
        {
          "name": "stdout",
          "output_type": "stream",
          "text": [
            "Training loss: 0.1209\n",
            "Training metric: 0.7445\n",
            "perturbation loss: 0.1514\n",
            "Validation acc: 0.9219\n",
            "\n",
            "Start of epoch 88\n"
          ]
        },
        {
          "name": "stderr",
          "output_type": "stream",
          "text": [
            "\r  9%|▉         | 89/1000 [05:13<52:48,  3.48s/it]"
          ]
        },
        {
          "name": "stdout",
          "output_type": "stream",
          "text": [
            "Training loss: 0.0134\n",
            "Training metric: 0.7470\n",
            "perturbation loss: 0.0531\n",
            "Validation acc: 0.9141\n",
            "\n",
            "Start of epoch 89\n"
          ]
        },
        {
          "name": "stderr",
          "output_type": "stream",
          "text": [
            "\r  9%|▉         | 90/1000 [05:16<52:46,  3.48s/it]"
          ]
        },
        {
          "name": "stdout",
          "output_type": "stream",
          "text": [
            "Training loss: 0.1478\n",
            "Training metric: 0.7496\n",
            "perturbation loss: 0.2176\n",
            "Validation acc: 0.9297\n",
            "\n",
            "Start of epoch 90\n"
          ]
        },
        {
          "name": "stderr",
          "output_type": "stream",
          "text": [
            "\r  9%|▉         | 91/1000 [05:20<52:45,  3.48s/it]"
          ]
        },
        {
          "name": "stdout",
          "output_type": "stream",
          "text": [
            "Training loss: 0.3577\n",
            "Training metric: 0.7518\n",
            "perturbation loss: 0.3776\n",
            "Validation acc: 0.8438\n",
            "\n",
            "Start of epoch 91\n"
          ]
        },
        {
          "name": "stderr",
          "output_type": "stream",
          "text": [
            "\r  9%|▉         | 92/1000 [05:23<52:41,  3.48s/it]"
          ]
        },
        {
          "name": "stdout",
          "output_type": "stream",
          "text": [
            "Training loss: 0.0741\n",
            "Training metric: 0.7542\n",
            "perturbation loss: 0.1755\n",
            "Validation acc: 0.9453\n",
            "\n",
            "Start of epoch 92\n"
          ]
        },
        {
          "name": "stderr",
          "output_type": "stream",
          "text": [
            "\r  9%|▉         | 93/1000 [05:27<52:36,  3.48s/it]"
          ]
        },
        {
          "name": "stdout",
          "output_type": "stream",
          "text": [
            "Training loss: 0.1802\n",
            "Training metric: 0.7566\n",
            "perturbation loss: 0.1502\n",
            "Validation acc: 0.9375\n",
            "\n",
            "Start of epoch 93\n"
          ]
        },
        {
          "name": "stderr",
          "output_type": "stream",
          "text": [
            "\r  9%|▉         | 94/1000 [05:30<52:31,  3.48s/it]"
          ]
        },
        {
          "name": "stdout",
          "output_type": "stream",
          "text": [
            "Training loss: 0.0426\n",
            "Training metric: 0.7589\n",
            "perturbation loss: 0.0707\n",
            "Validation acc: 0.9219\n",
            "\n",
            "Start of epoch 94\n"
          ]
        },
        {
          "name": "stderr",
          "output_type": "stream",
          "text": [
            "\r 10%|▉         | 95/1000 [05:34<52:28,  3.48s/it]"
          ]
        },
        {
          "name": "stdout",
          "output_type": "stream",
          "text": [
            "Training loss: 0.0479\n",
            "Training metric: 0.7611\n",
            "perturbation loss: 0.1734\n",
            "Validation acc: 0.9453\n",
            "\n",
            "Start of epoch 95\n"
          ]
        },
        {
          "name": "stderr",
          "output_type": "stream",
          "text": [
            "\r 10%|▉         | 96/1000 [05:37<52:24,  3.48s/it]"
          ]
        },
        {
          "name": "stdout",
          "output_type": "stream",
          "text": [
            "Training loss: 0.1182\n",
            "Training metric: 0.7630\n",
            "perturbation loss: 0.2396\n",
            "Validation acc: 0.8516\n",
            "\n",
            "Start of epoch 96\n"
          ]
        },
        {
          "name": "stderr",
          "output_type": "stream",
          "text": [
            "\r 10%|▉         | 97/1000 [05:41<52:20,  3.48s/it]"
          ]
        },
        {
          "name": "stdout",
          "output_type": "stream",
          "text": [
            "Training loss: 0.2283\n",
            "Training metric: 0.7649\n",
            "perturbation loss: 0.2594\n",
            "Validation acc: 0.8906\n",
            "\n",
            "Start of epoch 97\n"
          ]
        },
        {
          "name": "stderr",
          "output_type": "stream",
          "text": [
            "\r 10%|▉         | 98/1000 [05:44<52:20,  3.48s/it]"
          ]
        },
        {
          "name": "stdout",
          "output_type": "stream",
          "text": [
            "Training loss: 0.0416\n",
            "Training metric: 0.7669\n",
            "perturbation loss: 0.1012\n",
            "Validation acc: 0.9297\n",
            "\n",
            "Start of epoch 98\n"
          ]
        },
        {
          "name": "stderr",
          "output_type": "stream",
          "text": [
            "\r 10%|▉         | 99/1000 [05:48<52:16,  3.48s/it]"
          ]
        },
        {
          "name": "stdout",
          "output_type": "stream",
          "text": [
            "Training loss: 0.1421\n",
            "Training metric: 0.7689\n",
            "perturbation loss: 0.1900\n",
            "Validation acc: 0.9062\n",
            "\n",
            "Start of epoch 99\n"
          ]
        },
        {
          "name": "stderr",
          "output_type": "stream",
          "text": [
            "\r 10%|█         | 100/1000 [05:51<52:11,  3.48s/it]"
          ]
        },
        {
          "name": "stdout",
          "output_type": "stream",
          "text": [
            "Training loss: 0.0311\n",
            "Training metric: 0.7712\n",
            "perturbation loss: 0.0927\n",
            "Validation acc: 0.9219\n",
            "\n",
            "Start of epoch 100\n"
          ]
        },
        {
          "name": "stderr",
          "output_type": "stream",
          "text": [
            "\r 10%|█         | 101/1000 [05:55<52:10,  3.48s/it]"
          ]
        },
        {
          "name": "stdout",
          "output_type": "stream",
          "text": [
            "Training loss: 0.1556\n",
            "Training metric: 0.7730\n",
            "perturbation loss: 0.1349\n",
            "Validation acc: 0.9141\n",
            "\n",
            "Start of epoch 101\n"
          ]
        },
        {
          "name": "stderr",
          "output_type": "stream",
          "text": [
            "\r 10%|█         | 102/1000 [05:58<52:03,  3.48s/it]"
          ]
        },
        {
          "name": "stdout",
          "output_type": "stream",
          "text": [
            "Training loss: 0.0367\n",
            "Training metric: 0.7750\n",
            "perturbation loss: 0.0811\n",
            "Validation acc: 0.9141\n",
            "\n",
            "Start of epoch 102\n"
          ]
        },
        {
          "name": "stderr",
          "output_type": "stream",
          "text": [
            "\r 10%|█         | 103/1000 [06:02<51:59,  3.48s/it]"
          ]
        },
        {
          "name": "stdout",
          "output_type": "stream",
          "text": [
            "Training loss: 0.2434\n",
            "Training metric: 0.7769\n",
            "perturbation loss: 0.0773\n",
            "Validation acc: 0.8750\n",
            "\n",
            "Start of epoch 103\n"
          ]
        },
        {
          "name": "stderr",
          "output_type": "stream",
          "text": [
            "\r 10%|█         | 104/1000 [06:05<51:59,  3.48s/it]"
          ]
        },
        {
          "name": "stdout",
          "output_type": "stream",
          "text": [
            "Training loss: 0.0983\n",
            "Training metric: 0.7787\n",
            "perturbation loss: 0.1786\n",
            "Validation acc: 0.8984\n",
            "\n",
            "Start of epoch 104\n"
          ]
        },
        {
          "name": "stderr",
          "output_type": "stream",
          "text": [
            "\r 10%|█         | 105/1000 [06:09<51:55,  3.48s/it]"
          ]
        },
        {
          "name": "stdout",
          "output_type": "stream",
          "text": [
            "Training loss: 0.0671\n",
            "Training metric: 0.7806\n",
            "perturbation loss: 0.1157\n",
            "Validation acc: 0.9375\n",
            "\n",
            "Start of epoch 105\n"
          ]
        },
        {
          "name": "stderr",
          "output_type": "stream",
          "text": [
            "\r 11%|█         | 106/1000 [06:12<51:49,  3.48s/it]"
          ]
        },
        {
          "name": "stdout",
          "output_type": "stream",
          "text": [
            "Training loss: 0.0593\n",
            "Training metric: 0.7826\n",
            "perturbation loss: 0.1383\n",
            "Validation acc: 0.9297\n",
            "\n",
            "Start of epoch 106\n"
          ]
        },
        {
          "name": "stderr",
          "output_type": "stream",
          "text": [
            "\r 11%|█         | 107/1000 [06:16<51:46,  3.48s/it]"
          ]
        },
        {
          "name": "stdout",
          "output_type": "stream",
          "text": [
            "Training loss: 0.0034\n",
            "Training metric: 0.7846\n",
            "perturbation loss: 0.0167\n",
            "Validation acc: 0.9219\n",
            "\n",
            "Start of epoch 107\n"
          ]
        },
        {
          "name": "stderr",
          "output_type": "stream",
          "text": [
            "\r 11%|█         | 108/1000 [06:19<51:42,  3.48s/it]"
          ]
        },
        {
          "name": "stdout",
          "output_type": "stream",
          "text": [
            "Training loss: 0.1626\n",
            "Training metric: 0.7864\n",
            "perturbation loss: 0.1914\n",
            "Validation acc: 0.8906\n",
            "\n",
            "Start of epoch 108\n"
          ]
        },
        {
          "name": "stderr",
          "output_type": "stream",
          "text": [
            "\r 11%|█         | 109/1000 [06:23<51:38,  3.48s/it]"
          ]
        },
        {
          "name": "stdout",
          "output_type": "stream",
          "text": [
            "Training loss: 0.2599\n",
            "Training metric: 0.7880\n",
            "perturbation loss: 0.3559\n",
            "Validation acc: 0.8594\n",
            "\n",
            "Start of epoch 109\n"
          ]
        },
        {
          "name": "stderr",
          "output_type": "stream",
          "text": [
            "\r 11%|█         | 110/1000 [06:26<51:35,  3.48s/it]"
          ]
        },
        {
          "name": "stdout",
          "output_type": "stream",
          "text": [
            "Training loss: 0.0672\n",
            "Training metric: 0.7896\n",
            "perturbation loss: 0.1441\n",
            "Validation acc: 0.9453\n",
            "\n",
            "Start of epoch 110\n"
          ]
        },
        {
          "name": "stderr",
          "output_type": "stream",
          "text": [
            "\r 11%|█         | 111/1000 [06:29<51:30,  3.48s/it]"
          ]
        },
        {
          "name": "stdout",
          "output_type": "stream",
          "text": [
            "Training loss: 0.2667\n",
            "Training metric: 0.7913\n",
            "perturbation loss: 0.1562\n",
            "Validation acc: 0.9297\n",
            "\n",
            "Start of epoch 111\n"
          ]
        },
        {
          "name": "stderr",
          "output_type": "stream",
          "text": [
            "\r 11%|█         | 112/1000 [06:33<51:26,  3.48s/it]"
          ]
        },
        {
          "name": "stdout",
          "output_type": "stream",
          "text": [
            "Training loss: 0.0241\n",
            "Training metric: 0.7929\n",
            "perturbation loss: 0.0546\n",
            "Validation acc: 0.9219\n",
            "\n",
            "Start of epoch 112\n"
          ]
        },
        {
          "name": "stderr",
          "output_type": "stream",
          "text": [
            "\r 11%|█▏        | 113/1000 [06:36<51:26,  3.48s/it]"
          ]
        },
        {
          "name": "stdout",
          "output_type": "stream",
          "text": [
            "Training loss: 0.0225\n",
            "Training metric: 0.7945\n",
            "perturbation loss: 0.0715\n",
            "Validation acc: 0.8984\n",
            "\n",
            "Start of epoch 113\n"
          ]
        },
        {
          "name": "stderr",
          "output_type": "stream",
          "text": [
            "\r 11%|█▏        | 114/1000 [06:40<51:23,  3.48s/it]"
          ]
        },
        {
          "name": "stdout",
          "output_type": "stream",
          "text": [
            "Training loss: 0.0892\n",
            "Training metric: 0.7961\n",
            "perturbation loss: 0.1587\n",
            "Validation acc: 0.9141\n",
            "\n",
            "Start of epoch 114\n"
          ]
        },
        {
          "name": "stderr",
          "output_type": "stream",
          "text": [
            "\r 12%|█▏        | 115/1000 [06:43<51:19,  3.48s/it]"
          ]
        },
        {
          "name": "stdout",
          "output_type": "stream",
          "text": [
            "Training loss: 0.0309\n",
            "Training metric: 0.7976\n",
            "perturbation loss: 0.0901\n",
            "Validation acc: 0.9141\n",
            "\n",
            "Start of epoch 115\n",
            "Training loss: 0.0755\n",
            "Training metric: 0.7992\n",
            "perturbation loss: 0.1111\n"
          ]
        },
        {
          "name": "stderr",
          "output_type": "stream",
          "text": [
            "\r 12%|█▏        | 116/1000 [06:47<52:01,  3.53s/it]"
          ]
        },
        {
          "name": "stdout",
          "output_type": "stream",
          "text": [
            "Validation acc: 0.9219\n",
            "\n",
            "Start of epoch 116\n"
          ]
        },
        {
          "name": "stderr",
          "output_type": "stream",
          "text": [
            "\r 12%|█▏        | 117/1000 [06:51<51:45,  3.52s/it]"
          ]
        },
        {
          "name": "stdout",
          "output_type": "stream",
          "text": [
            "Training loss: 0.0997\n",
            "Training metric: 0.8007\n",
            "perturbation loss: 0.1189\n",
            "Validation acc: 0.9375\n",
            "\n",
            "Start of epoch 117\n"
          ]
        },
        {
          "name": "stderr",
          "output_type": "stream",
          "text": [
            "\r 12%|█▏        | 118/1000 [06:54<51:31,  3.51s/it]"
          ]
        },
        {
          "name": "stdout",
          "output_type": "stream",
          "text": [
            "Training loss: 0.1183\n",
            "Training metric: 0.8022\n",
            "perturbation loss: 0.2469\n",
            "Validation acc: 0.9141\n",
            "\n",
            "Start of epoch 118\n"
          ]
        },
        {
          "name": "stderr",
          "output_type": "stream",
          "text": [
            "\r 12%|█▏        | 119/1000 [06:57<51:20,  3.50s/it]"
          ]
        },
        {
          "name": "stdout",
          "output_type": "stream",
          "text": [
            "Training loss: 0.1526\n",
            "Training metric: 0.8036\n",
            "perturbation loss: 0.0911\n",
            "Validation acc: 0.8984\n",
            "\n",
            "Start of epoch 119\n"
          ]
        },
        {
          "name": "stderr",
          "output_type": "stream",
          "text": [
            "\r 12%|█▏        | 120/1000 [07:01<51:13,  3.49s/it]"
          ]
        },
        {
          "name": "stdout",
          "output_type": "stream",
          "text": [
            "Training loss: 0.0669\n",
            "Training metric: 0.8050\n",
            "perturbation loss: 0.1698\n",
            "Validation acc: 0.9453\n",
            "\n",
            "Start of epoch 120\n"
          ]
        },
        {
          "name": "stderr",
          "output_type": "stream",
          "text": [
            "\r 12%|█▏        | 121/1000 [07:04<51:08,  3.49s/it]"
          ]
        },
        {
          "name": "stdout",
          "output_type": "stream",
          "text": [
            "Training loss: 0.0370\n",
            "Training metric: 0.8065\n",
            "perturbation loss: 0.0795\n",
            "Validation acc: 0.9375\n",
            "\n",
            "Start of epoch 121\n"
          ]
        },
        {
          "name": "stderr",
          "output_type": "stream",
          "text": [
            "\r 12%|█▏        | 122/1000 [07:08<51:01,  3.49s/it]"
          ]
        },
        {
          "name": "stdout",
          "output_type": "stream",
          "text": [
            "Training loss: 0.0051\n",
            "Training metric: 0.8081\n",
            "perturbation loss: 0.0263\n",
            "Validation acc: 0.9375\n",
            "\n",
            "Start of epoch 122\n"
          ]
        },
        {
          "name": "stderr",
          "output_type": "stream",
          "text": [
            "\r 12%|█▏        | 123/1000 [07:11<51:03,  3.49s/it]"
          ]
        },
        {
          "name": "stdout",
          "output_type": "stream",
          "text": [
            "Training loss: 0.0040\n",
            "Training metric: 0.8096\n",
            "perturbation loss: 0.0186\n",
            "Validation acc: 0.9375\n",
            "\n",
            "Start of epoch 123\n"
          ]
        },
        {
          "name": "stderr",
          "output_type": "stream",
          "text": [
            "\r 12%|█▏        | 124/1000 [07:15<50:57,  3.49s/it]"
          ]
        },
        {
          "name": "stdout",
          "output_type": "stream",
          "text": [
            "Training loss: 0.0353\n",
            "Training metric: 0.8112\n",
            "perturbation loss: 0.0795\n",
            "Validation acc: 0.9453\n",
            "\n",
            "Start of epoch 124\n"
          ]
        },
        {
          "name": "stderr",
          "output_type": "stream",
          "text": [
            "\r 12%|█▎        | 125/1000 [07:18<50:50,  3.49s/it]"
          ]
        },
        {
          "name": "stdout",
          "output_type": "stream",
          "text": [
            "Training loss: 0.0062\n",
            "Training metric: 0.8127\n",
            "perturbation loss: 0.0244\n",
            "Validation acc: 0.9375\n",
            "\n",
            "Start of epoch 125\n"
          ]
        },
        {
          "name": "stderr",
          "output_type": "stream",
          "text": [
            "\r 13%|█▎        | 126/1000 [07:22<50:45,  3.48s/it]"
          ]
        },
        {
          "name": "stdout",
          "output_type": "stream",
          "text": [
            "Training loss: 0.0107\n",
            "Training metric: 0.8141\n",
            "perturbation loss: 0.0317\n",
            "Validation acc: 0.9219\n",
            "\n",
            "Start of epoch 126\n"
          ]
        },
        {
          "name": "stderr",
          "output_type": "stream",
          "text": [
            "\r 13%|█▎        | 127/1000 [07:25<50:41,  3.48s/it]"
          ]
        },
        {
          "name": "stdout",
          "output_type": "stream",
          "text": [
            "Training loss: 0.0917\n",
            "Training metric: 0.8156\n",
            "perturbation loss: 0.0676\n",
            "Validation acc: 0.9297\n",
            "\n",
            "Start of epoch 127\n"
          ]
        },
        {
          "name": "stderr",
          "output_type": "stream",
          "text": [
            "\r 13%|█▎        | 128/1000 [07:29<50:36,  3.48s/it]"
          ]
        },
        {
          "name": "stdout",
          "output_type": "stream",
          "text": [
            "Training loss: 0.0075\n",
            "Training metric: 0.8170\n",
            "perturbation loss: 0.0302\n",
            "Validation acc: 0.9453\n",
            "\n",
            "Start of epoch 128\n"
          ]
        },
        {
          "name": "stderr",
          "output_type": "stream",
          "text": [
            "\r 13%|█▎        | 129/1000 [07:32<50:32,  3.48s/it]"
          ]
        },
        {
          "name": "stdout",
          "output_type": "stream",
          "text": [
            "Training loss: 0.0076\n",
            "Training metric: 0.8184\n",
            "perturbation loss: 0.0300\n",
            "Validation acc: 0.9609\n",
            "\n",
            "Start of epoch 129\n"
          ]
        },
        {
          "name": "stderr",
          "output_type": "stream",
          "text": [
            "\r 13%|█▎        | 130/1000 [07:36<50:28,  3.48s/it]"
          ]
        },
        {
          "name": "stdout",
          "output_type": "stream",
          "text": [
            "Training loss: 0.0470\n",
            "Training metric: 0.8198\n",
            "perturbation loss: 0.0965\n",
            "Validation acc: 0.9297\n",
            "\n",
            "Start of epoch 130\n"
          ]
        },
        {
          "name": "stderr",
          "output_type": "stream",
          "text": [
            "\r 13%|█▎        | 131/1000 [07:39<50:24,  3.48s/it]"
          ]
        },
        {
          "name": "stdout",
          "output_type": "stream",
          "text": [
            "Training loss: 0.1095\n",
            "Training metric: 0.8210\n",
            "perturbation loss: 0.1250\n",
            "Validation acc: 0.9375\n",
            "\n",
            "Start of epoch 131\n"
          ]
        },
        {
          "name": "stderr",
          "output_type": "stream",
          "text": [
            "\r 13%|█▎        | 132/1000 [07:43<50:21,  3.48s/it]"
          ]
        },
        {
          "name": "stdout",
          "output_type": "stream",
          "text": [
            "Training loss: 0.0592\n",
            "Training metric: 0.8212\n",
            "perturbation loss: 0.1164\n",
            "Validation acc: 0.8906\n",
            "\n",
            "Start of epoch 132\n"
          ]
        },
        {
          "name": "stderr",
          "output_type": "stream",
          "text": [
            "\r 13%|█▎        | 133/1000 [07:46<50:17,  3.48s/it]"
          ]
        },
        {
          "name": "stdout",
          "output_type": "stream",
          "text": [
            "Training loss: 0.3525\n",
            "Training metric: 0.8216\n",
            "perturbation loss: 0.2859\n",
            "Validation acc: 0.9062\n",
            "\n",
            "Start of epoch 133\n"
          ]
        },
        {
          "name": "stderr",
          "output_type": "stream",
          "text": [
            "\r 13%|█▎        | 134/1000 [07:50<50:15,  3.48s/it]"
          ]
        },
        {
          "name": "stdout",
          "output_type": "stream",
          "text": [
            "Training loss: 0.1006\n",
            "Training metric: 0.8226\n",
            "perturbation loss: 0.1584\n",
            "Validation acc: 0.9062\n",
            "\n",
            "Start of epoch 134\n"
          ]
        },
        {
          "name": "stderr",
          "output_type": "stream",
          "text": [
            "\r 14%|█▎        | 135/1000 [07:53<50:10,  3.48s/it]"
          ]
        },
        {
          "name": "stdout",
          "output_type": "stream",
          "text": [
            "Training loss: 0.0188\n",
            "Training metric: 0.8237\n",
            "perturbation loss: 0.0708\n",
            "Validation acc: 0.9062\n",
            "\n",
            "Start of epoch 135\n"
          ]
        },
        {
          "name": "stderr",
          "output_type": "stream",
          "text": [
            "\r 14%|█▎        | 136/1000 [07:57<50:07,  3.48s/it]"
          ]
        },
        {
          "name": "stdout",
          "output_type": "stream",
          "text": [
            "Training loss: 0.0168\n",
            "Training metric: 0.8249\n",
            "perturbation loss: 0.0571\n",
            "Validation acc: 0.9141\n",
            "\n",
            "Start of epoch 136\n"
          ]
        },
        {
          "name": "stderr",
          "output_type": "stream",
          "text": [
            "\r 14%|█▎        | 137/1000 [08:00<50:04,  3.48s/it]"
          ]
        },
        {
          "name": "stdout",
          "output_type": "stream",
          "text": [
            "Training loss: 0.0420\n",
            "Training metric: 0.8261\n",
            "perturbation loss: 0.0640\n",
            "Validation acc: 0.9297\n",
            "\n",
            "Start of epoch 137\n"
          ]
        },
        {
          "name": "stderr",
          "output_type": "stream",
          "text": [
            "\r 14%|█▍        | 138/1000 [08:04<50:01,  3.48s/it]"
          ]
        },
        {
          "name": "stdout",
          "output_type": "stream",
          "text": [
            "Training loss: 0.0996\n",
            "Training metric: 0.8274\n",
            "perturbation loss: 0.0703\n",
            "Validation acc: 0.9375\n",
            "\n",
            "Start of epoch 138\n"
          ]
        },
        {
          "name": "stderr",
          "output_type": "stream",
          "text": [
            "\r 14%|█▍        | 139/1000 [08:07<49:58,  3.48s/it]"
          ]
        },
        {
          "name": "stdout",
          "output_type": "stream",
          "text": [
            "Training loss: 0.0468\n",
            "Training metric: 0.8286\n",
            "perturbation loss: 0.1130\n",
            "Validation acc: 0.9297\n",
            "\n",
            "Start of epoch 139\n"
          ]
        },
        {
          "name": "stderr",
          "output_type": "stream",
          "text": [
            "\r 14%|█▍        | 140/1000 [08:11<49:55,  3.48s/it]"
          ]
        },
        {
          "name": "stdout",
          "output_type": "stream",
          "text": [
            "Training loss: 0.0042\n",
            "Training metric: 0.8298\n",
            "perturbation loss: 0.0202\n",
            "Validation acc: 0.9297\n",
            "\n",
            "Start of epoch 140\n"
          ]
        },
        {
          "name": "stderr",
          "output_type": "stream",
          "text": [
            "\r 14%|█▍        | 141/1000 [08:14<49:51,  3.48s/it]"
          ]
        },
        {
          "name": "stdout",
          "output_type": "stream",
          "text": [
            "Training loss: 0.0987\n",
            "Training metric: 0.8310\n",
            "perturbation loss: 0.1273\n",
            "Validation acc: 0.9219\n",
            "\n",
            "Start of epoch 141\n"
          ]
        },
        {
          "name": "stderr",
          "output_type": "stream",
          "text": [
            "\r 14%|█▍        | 142/1000 [08:18<49:48,  3.48s/it]"
          ]
        },
        {
          "name": "stdout",
          "output_type": "stream",
          "text": [
            "Training loss: 0.0451\n",
            "Training metric: 0.8321\n",
            "perturbation loss: 0.0758\n",
            "Validation acc: 0.8984\n",
            "\n",
            "Start of epoch 142\n"
          ]
        },
        {
          "name": "stderr",
          "output_type": "stream",
          "text": [
            "\r 14%|█▍        | 143/1000 [08:21<49:44,  3.48s/it]"
          ]
        },
        {
          "name": "stdout",
          "output_type": "stream",
          "text": [
            "Training loss: 0.2841\n",
            "Training metric: 0.8325\n",
            "perturbation loss: 0.2097\n",
            "Validation acc: 0.8828\n",
            "\n",
            "Start of epoch 143\n"
          ]
        },
        {
          "name": "stderr",
          "output_type": "stream",
          "text": [
            "\r 14%|█▍        | 144/1000 [08:25<49:41,  3.48s/it]"
          ]
        },
        {
          "name": "stdout",
          "output_type": "stream",
          "text": [
            "Training loss: 0.0637\n",
            "Training metric: 0.8335\n",
            "perturbation loss: 0.1529\n",
            "Validation acc: 0.9297\n",
            "\n",
            "Start of epoch 144\n"
          ]
        },
        {
          "name": "stderr",
          "output_type": "stream",
          "text": [
            "\r 14%|█▍        | 145/1000 [08:28<49:37,  3.48s/it]"
          ]
        },
        {
          "name": "stdout",
          "output_type": "stream",
          "text": [
            "Training loss: 0.0266\n",
            "Training metric: 0.8343\n",
            "perturbation loss: 0.0693\n",
            "Validation acc: 0.8828\n",
            "\n",
            "Start of epoch 145\n"
          ]
        },
        {
          "name": "stderr",
          "output_type": "stream",
          "text": [
            "\r 15%|█▍        | 146/1000 [08:32<49:39,  3.49s/it]"
          ]
        },
        {
          "name": "stdout",
          "output_type": "stream",
          "text": [
            "Training loss: 0.0192\n",
            "Training metric: 0.8354\n",
            "perturbation loss: 0.0521\n",
            "Validation acc: 0.8750\n",
            "\n",
            "Start of epoch 146\n"
          ]
        },
        {
          "name": "stderr",
          "output_type": "stream",
          "text": [
            "\r 15%|█▍        | 147/1000 [08:35<49:34,  3.49s/it]"
          ]
        },
        {
          "name": "stdout",
          "output_type": "stream",
          "text": [
            "Training loss: 0.1430\n",
            "Training metric: 0.8363\n",
            "perturbation loss: 0.3009\n",
            "Validation acc: 0.8281\n",
            "\n",
            "Start of epoch 147\n"
          ]
        },
        {
          "name": "stderr",
          "output_type": "stream",
          "text": [
            "\r 15%|█▍        | 148/1000 [08:39<49:32,  3.49s/it]"
          ]
        },
        {
          "name": "stdout",
          "output_type": "stream",
          "text": [
            "Training loss: 0.0427\n",
            "Training metric: 0.8372\n",
            "perturbation loss: 0.1125\n",
            "Validation acc: 0.8750\n",
            "\n",
            "Start of epoch 148\n"
          ]
        },
        {
          "name": "stderr",
          "output_type": "stream",
          "text": [
            "\r 15%|█▍        | 149/1000 [08:42<49:28,  3.49s/it]"
          ]
        },
        {
          "name": "stdout",
          "output_type": "stream",
          "text": [
            "Training loss: 0.1912\n",
            "Training metric: 0.8381\n",
            "perturbation loss: 0.1604\n",
            "Validation acc: 0.9375\n",
            "\n",
            "Start of epoch 149\n"
          ]
        },
        {
          "name": "stderr",
          "output_type": "stream",
          "text": [
            "\r 15%|█▌        | 150/1000 [08:45<49:23,  3.49s/it]"
          ]
        },
        {
          "name": "stdout",
          "output_type": "stream",
          "text": [
            "Training loss: 0.0601\n",
            "Training metric: 0.8390\n",
            "perturbation loss: 0.1120\n",
            "Validation acc: 0.9531\n",
            "\n",
            "Start of epoch 150\n"
          ]
        },
        {
          "name": "stderr",
          "output_type": "stream",
          "text": [
            "\r 15%|█▌        | 151/1000 [08:49<49:18,  3.48s/it]"
          ]
        },
        {
          "name": "stdout",
          "output_type": "stream",
          "text": [
            "Training loss: 0.0575\n",
            "Training metric: 0.8398\n",
            "perturbation loss: 0.1429\n",
            "Validation acc: 0.8984\n",
            "\n",
            "Start of epoch 151\n"
          ]
        },
        {
          "name": "stderr",
          "output_type": "stream",
          "text": [
            "\r 15%|█▌        | 152/1000 [08:52<49:17,  3.49s/it]"
          ]
        },
        {
          "name": "stdout",
          "output_type": "stream",
          "text": [
            "Training loss: 0.1760\n",
            "Training metric: 0.8406\n",
            "perturbation loss: 0.0953\n",
            "Validation acc: 0.9062\n",
            "\n",
            "Start of epoch 152\n"
          ]
        },
        {
          "name": "stderr",
          "output_type": "stream",
          "text": [
            "\r 15%|█▌        | 153/1000 [08:56<49:13,  3.49s/it]"
          ]
        },
        {
          "name": "stdout",
          "output_type": "stream",
          "text": [
            "Training loss: 0.0220\n",
            "Training metric: 0.8414\n",
            "perturbation loss: 0.0572\n",
            "Validation acc: 0.9453\n",
            "\n",
            "Start of epoch 153\n"
          ]
        },
        {
          "name": "stderr",
          "output_type": "stream",
          "text": [
            "\r 15%|█▌        | 154/1000 [08:59<49:08,  3.49s/it]"
          ]
        },
        {
          "name": "stdout",
          "output_type": "stream",
          "text": [
            "Training loss: 0.1417\n",
            "Training metric: 0.8424\n",
            "perturbation loss: 0.1468\n",
            "Validation acc: 0.9375\n",
            "\n",
            "Start of epoch 154\n"
          ]
        },
        {
          "name": "stderr",
          "output_type": "stream",
          "text": [
            "\r 16%|█▌        | 155/1000 [09:03<49:07,  3.49s/it]"
          ]
        },
        {
          "name": "stdout",
          "output_type": "stream",
          "text": [
            "Training loss: 0.0404\n",
            "Training metric: 0.8433\n",
            "perturbation loss: 0.1015\n",
            "Validation acc: 0.7891\n",
            "\n",
            "Start of epoch 155\n"
          ]
        },
        {
          "name": "stderr",
          "output_type": "stream",
          "text": [
            "\r 16%|█▌        | 156/1000 [09:06<49:02,  3.49s/it]"
          ]
        },
        {
          "name": "stdout",
          "output_type": "stream",
          "text": [
            "Training loss: 0.0674\n",
            "Training metric: 0.8441\n",
            "perturbation loss: 0.1414\n",
            "Validation acc: 0.8984\n",
            "\n",
            "Start of epoch 156\n"
          ]
        },
        {
          "name": "stderr",
          "output_type": "stream",
          "text": [
            "\r 16%|█▌        | 157/1000 [09:10<48:58,  3.49s/it]"
          ]
        },
        {
          "name": "stdout",
          "output_type": "stream",
          "text": [
            "Training loss: 0.0307\n",
            "Training metric: 0.8449\n",
            "perturbation loss: 0.0809\n",
            "Validation acc: 0.9297\n",
            "\n",
            "Start of epoch 157\n"
          ]
        },
        {
          "name": "stderr",
          "output_type": "stream",
          "text": [
            "\r 16%|█▌        | 158/1000 [09:13<48:53,  3.48s/it]"
          ]
        },
        {
          "name": "stdout",
          "output_type": "stream",
          "text": [
            "Training loss: 0.1738\n",
            "Training metric: 0.8454\n",
            "perturbation loss: 0.1180\n",
            "Validation acc: 0.8281\n",
            "\n",
            "Start of epoch 158\n"
          ]
        },
        {
          "name": "stderr",
          "output_type": "stream",
          "text": [
            "\r 16%|█▌        | 159/1000 [09:17<48:53,  3.49s/it]"
          ]
        },
        {
          "name": "stdout",
          "output_type": "stream",
          "text": [
            "Training loss: 0.0148\n",
            "Training metric: 0.8461\n",
            "perturbation loss: 0.0614\n",
            "Validation acc: 0.9062\n",
            "\n",
            "Start of epoch 159\n"
          ]
        },
        {
          "name": "stderr",
          "output_type": "stream",
          "text": [
            "\r 16%|█▌        | 160/1000 [09:20<48:48,  3.49s/it]"
          ]
        },
        {
          "name": "stdout",
          "output_type": "stream",
          "text": [
            "Training loss: 0.0379\n",
            "Training metric: 0.8470\n",
            "perturbation loss: 0.1054\n",
            "Validation acc: 0.8516\n",
            "\n",
            "Start of epoch 160\n"
          ]
        },
        {
          "name": "stderr",
          "output_type": "stream",
          "text": [
            "\r 16%|█▌        | 161/1000 [09:24<48:43,  3.48s/it]"
          ]
        },
        {
          "name": "stdout",
          "output_type": "stream",
          "text": [
            "Training loss: 0.0769\n",
            "Training metric: 0.8478\n",
            "perturbation loss: 0.1027\n",
            "Validation acc: 0.8750\n",
            "\n",
            "Start of epoch 161\n"
          ]
        },
        {
          "name": "stderr",
          "output_type": "stream",
          "text": [
            "\r 16%|█▌        | 162/1000 [09:27<48:40,  3.49s/it]"
          ]
        },
        {
          "name": "stdout",
          "output_type": "stream",
          "text": [
            "Training loss: 0.1547\n",
            "Training metric: 0.8487\n",
            "perturbation loss: 0.1453\n",
            "Validation acc: 0.8984\n",
            "\n",
            "Start of epoch 162\n"
          ]
        },
        {
          "name": "stderr",
          "output_type": "stream",
          "text": [
            "\r 16%|█▋        | 163/1000 [09:31<48:37,  3.49s/it]"
          ]
        },
        {
          "name": "stdout",
          "output_type": "stream",
          "text": [
            "Training loss: 0.0270\n",
            "Training metric: 0.8495\n",
            "perturbation loss: 0.0691\n",
            "Validation acc: 0.8984\n",
            "\n",
            "Start of epoch 163\n"
          ]
        },
        {
          "name": "stderr",
          "output_type": "stream",
          "text": [
            "\r 16%|█▋        | 164/1000 [09:34<48:33,  3.48s/it]"
          ]
        },
        {
          "name": "stdout",
          "output_type": "stream",
          "text": [
            "Training loss: 0.0312\n",
            "Training metric: 0.8503\n",
            "perturbation loss: 0.0668\n",
            "Validation acc: 0.9062\n",
            "\n",
            "Start of epoch 164\n"
          ]
        },
        {
          "name": "stderr",
          "output_type": "stream",
          "text": [
            "\r 16%|█▋        | 165/1000 [09:38<48:31,  3.49s/it]"
          ]
        },
        {
          "name": "stdout",
          "output_type": "stream",
          "text": [
            "Training loss: 0.0547\n",
            "Training metric: 0.8511\n",
            "perturbation loss: 0.0609\n",
            "Validation acc: 0.9141\n",
            "\n",
            "Start of epoch 165\n"
          ]
        },
        {
          "name": "stderr",
          "output_type": "stream",
          "text": [
            "\r 17%|█▋        | 166/1000 [09:41<48:28,  3.49s/it]"
          ]
        },
        {
          "name": "stdout",
          "output_type": "stream",
          "text": [
            "Training loss: 0.0472\n",
            "Training metric: 0.8519\n",
            "perturbation loss: 0.1162\n",
            "Validation acc: 0.9297\n",
            "\n",
            "Start of epoch 166\n"
          ]
        },
        {
          "name": "stderr",
          "output_type": "stream",
          "text": [
            "\r 17%|█▋        | 167/1000 [09:45<48:24,  3.49s/it]"
          ]
        },
        {
          "name": "stdout",
          "output_type": "stream",
          "text": [
            "Training loss: 0.0054\n",
            "Training metric: 0.8528\n",
            "perturbation loss: 0.0259\n",
            "Validation acc: 0.9141\n",
            "\n",
            "Start of epoch 167\n"
          ]
        },
        {
          "name": "stderr",
          "output_type": "stream",
          "text": [
            "\r 17%|█▋        | 168/1000 [09:48<48:20,  3.49s/it]"
          ]
        },
        {
          "name": "stdout",
          "output_type": "stream",
          "text": [
            "Training loss: 0.0488\n",
            "Training metric: 0.8536\n",
            "perturbation loss: 0.1116\n",
            "Validation acc: 0.9141\n",
            "\n",
            "Start of epoch 168\n"
          ]
        },
        {
          "name": "stderr",
          "output_type": "stream",
          "text": [
            "\r 17%|█▋        | 169/1000 [09:52<48:16,  3.49s/it]"
          ]
        },
        {
          "name": "stdout",
          "output_type": "stream",
          "text": [
            "Training loss: 0.1234\n",
            "Training metric: 0.8544\n",
            "perturbation loss: 0.0953\n",
            "Validation acc: 0.9062\n",
            "\n",
            "Start of epoch 169\n"
          ]
        },
        {
          "name": "stderr",
          "output_type": "stream",
          "text": [
            "\r 17%|█▋        | 170/1000 [09:55<48:12,  3.48s/it]"
          ]
        },
        {
          "name": "stdout",
          "output_type": "stream",
          "text": [
            "Training loss: 0.0545\n",
            "Training metric: 0.8552\n",
            "perturbation loss: 0.1687\n",
            "Validation acc: 0.8984\n",
            "\n",
            "Start of epoch 170\n"
          ]
        },
        {
          "name": "stderr",
          "output_type": "stream",
          "text": [
            "\r 17%|█▋        | 171/1000 [09:59<48:08,  3.48s/it]"
          ]
        },
        {
          "name": "stdout",
          "output_type": "stream",
          "text": [
            "Training loss: 0.1385\n",
            "Training metric: 0.8560\n",
            "perturbation loss: 0.0772\n",
            "Validation acc: 0.9531\n",
            "\n",
            "Start of epoch 171\n"
          ]
        },
        {
          "name": "stderr",
          "output_type": "stream",
          "text": [
            "\r 17%|█▋        | 172/1000 [10:02<48:05,  3.48s/it]"
          ]
        },
        {
          "name": "stdout",
          "output_type": "stream",
          "text": [
            "Training loss: 0.1770\n",
            "Training metric: 0.8566\n",
            "perturbation loss: 0.0897\n",
            "Validation acc: 0.9062\n",
            "\n",
            "Start of epoch 172\n"
          ]
        },
        {
          "name": "stderr",
          "output_type": "stream",
          "text": [
            "\r 17%|█▋        | 173/1000 [10:06<48:02,  3.49s/it]"
          ]
        },
        {
          "name": "stdout",
          "output_type": "stream",
          "text": [
            "Training loss: 0.0744\n",
            "Training metric: 0.8573\n",
            "perturbation loss: 0.0727\n",
            "Validation acc: 0.9453\n",
            "\n",
            "Start of epoch 173\n"
          ]
        },
        {
          "name": "stderr",
          "output_type": "stream",
          "text": [
            "\r 17%|█▋        | 174/1000 [10:09<47:58,  3.49s/it]"
          ]
        },
        {
          "name": "stdout",
          "output_type": "stream",
          "text": [
            "Training loss: 0.1700\n",
            "Training metric: 0.8580\n",
            "perturbation loss: 0.1194\n",
            "Validation acc: 0.9297\n",
            "\n",
            "Start of epoch 174\n"
          ]
        },
        {
          "name": "stderr",
          "output_type": "stream",
          "text": [
            "\r 18%|█▊        | 175/1000 [10:13<47:56,  3.49s/it]"
          ]
        },
        {
          "name": "stdout",
          "output_type": "stream",
          "text": [
            "Training loss: 0.0197\n",
            "Training metric: 0.8587\n",
            "perturbation loss: 0.0659\n",
            "Validation acc: 0.9375\n",
            "\n",
            "Start of epoch 175\n"
          ]
        },
        {
          "name": "stderr",
          "output_type": "stream",
          "text": [
            "\r 18%|█▊        | 176/1000 [10:16<47:54,  3.49s/it]"
          ]
        },
        {
          "name": "stdout",
          "output_type": "stream",
          "text": [
            "Training loss: 0.0095\n",
            "Training metric: 0.8594\n",
            "perturbation loss: 0.0356\n",
            "Validation acc: 0.9219\n",
            "\n",
            "Start of epoch 176\n"
          ]
        },
        {
          "name": "stderr",
          "output_type": "stream",
          "text": [
            "\r 18%|█▊        | 177/1000 [10:20<47:51,  3.49s/it]"
          ]
        },
        {
          "name": "stdout",
          "output_type": "stream",
          "text": [
            "Training loss: 0.0990\n",
            "Training metric: 0.8602\n",
            "perturbation loss: 0.0829\n",
            "Validation acc: 0.9141\n",
            "\n",
            "Start of epoch 177\n"
          ]
        },
        {
          "name": "stderr",
          "output_type": "stream",
          "text": [
            "\r 18%|█▊        | 178/1000 [10:23<47:47,  3.49s/it]"
          ]
        },
        {
          "name": "stdout",
          "output_type": "stream",
          "text": [
            "Training loss: 0.0051\n",
            "Training metric: 0.8609\n",
            "perturbation loss: 0.0251\n",
            "Validation acc: 0.9375\n",
            "\n",
            "Start of epoch 178\n"
          ]
        },
        {
          "name": "stderr",
          "output_type": "stream",
          "text": [
            "\r 18%|█▊        | 179/1000 [10:27<47:42,  3.49s/it]"
          ]
        },
        {
          "name": "stdout",
          "output_type": "stream",
          "text": [
            "Training loss: 0.0226\n",
            "Training metric: 0.8617\n",
            "perturbation loss: 0.0474\n",
            "Validation acc: 0.9453\n",
            "\n",
            "Start of epoch 179\n"
          ]
        },
        {
          "name": "stderr",
          "output_type": "stream",
          "text": [
            "\r 18%|█▊        | 180/1000 [10:30<47:38,  3.49s/it]"
          ]
        },
        {
          "name": "stdout",
          "output_type": "stream",
          "text": [
            "Training loss: 0.0145\n",
            "Training metric: 0.8624\n",
            "perturbation loss: 0.0431\n",
            "Validation acc: 0.9531\n",
            "\n",
            "Start of epoch 180\n"
          ]
        },
        {
          "name": "stderr",
          "output_type": "stream",
          "text": [
            "\r 18%|█▊        | 181/1000 [10:34<47:35,  3.49s/it]"
          ]
        },
        {
          "name": "stdout",
          "output_type": "stream",
          "text": [
            "Training loss: 0.0332\n",
            "Training metric: 0.8632\n",
            "perturbation loss: 0.0684\n",
            "Validation acc: 0.9531\n",
            "\n",
            "Start of epoch 181\n"
          ]
        },
        {
          "name": "stderr",
          "output_type": "stream",
          "text": [
            "\r 18%|█▊        | 182/1000 [10:37<47:31,  3.49s/it]"
          ]
        },
        {
          "name": "stdout",
          "output_type": "stream",
          "text": [
            "Training loss: 0.7934\n",
            "Training metric: 0.8637\n",
            "perturbation loss: 0.1494\n",
            "Validation acc: 0.8984\n",
            "\n",
            "Start of epoch 182\n"
          ]
        },
        {
          "name": "stderr",
          "output_type": "stream",
          "text": [
            "\r 18%|█▊        | 183/1000 [10:41<47:26,  3.48s/it]"
          ]
        },
        {
          "name": "stdout",
          "output_type": "stream",
          "text": [
            "Training loss: 0.4213\n",
            "Training metric: 0.8640\n",
            "perturbation loss: 0.2429\n",
            "Validation acc: 0.8906\n",
            "\n",
            "Start of epoch 183\n"
          ]
        },
        {
          "name": "stderr",
          "output_type": "stream",
          "text": [
            "\r 18%|█▊        | 184/1000 [10:44<47:27,  3.49s/it]"
          ]
        },
        {
          "name": "stdout",
          "output_type": "stream",
          "text": [
            "Training loss: 0.0187\n",
            "Training metric: 0.8646\n",
            "perturbation loss: 0.0765\n",
            "Validation acc: 0.9297\n",
            "\n",
            "Start of epoch 184\n"
          ]
        },
        {
          "name": "stderr",
          "output_type": "stream",
          "text": [
            "\r 18%|█▊        | 185/1000 [10:48<47:24,  3.49s/it]"
          ]
        },
        {
          "name": "stdout",
          "output_type": "stream",
          "text": [
            "Training loss: 0.0169\n",
            "Training metric: 0.8652\n",
            "perturbation loss: 0.0584\n",
            "Validation acc: 0.9297\n",
            "\n",
            "Start of epoch 185\n"
          ]
        },
        {
          "name": "stderr",
          "output_type": "stream",
          "text": [
            "\r 19%|█▊        | 186/1000 [10:51<47:18,  3.49s/it]"
          ]
        },
        {
          "name": "stdout",
          "output_type": "stream",
          "text": [
            "Training loss: 0.0406\n",
            "Training metric: 0.8659\n",
            "perturbation loss: 0.1168\n",
            "Validation acc: 0.9141\n",
            "\n",
            "Start of epoch 186\n"
          ]
        },
        {
          "name": "stderr",
          "output_type": "stream",
          "text": [
            "\r 19%|█▊        | 187/1000 [10:54<47:18,  3.49s/it]"
          ]
        },
        {
          "name": "stdout",
          "output_type": "stream",
          "text": [
            "Training loss: 0.0064\n",
            "Training metric: 0.8667\n",
            "perturbation loss: 0.0184\n",
            "Validation acc: 0.9219\n",
            "\n",
            "Start of epoch 187\n"
          ]
        },
        {
          "name": "stderr",
          "output_type": "stream",
          "text": [
            "\r 19%|█▉        | 188/1000 [10:58<47:13,  3.49s/it]"
          ]
        },
        {
          "name": "stdout",
          "output_type": "stream",
          "text": [
            "Training loss: 0.0046\n",
            "Training metric: 0.8674\n",
            "perturbation loss: 0.0206\n",
            "Validation acc: 0.9062\n",
            "\n",
            "Start of epoch 188\n"
          ]
        },
        {
          "name": "stderr",
          "output_type": "stream",
          "text": [
            "\r 19%|█▉        | 189/1000 [11:01<47:07,  3.49s/it]"
          ]
        },
        {
          "name": "stdout",
          "output_type": "stream",
          "text": [
            "Training loss: 0.0352\n",
            "Training metric: 0.8680\n",
            "perturbation loss: 0.1050\n",
            "Validation acc: 0.9062\n",
            "\n",
            "Start of epoch 189\n"
          ]
        },
        {
          "name": "stderr",
          "output_type": "stream",
          "text": [
            "\r 19%|█▉        | 190/1000 [11:05<47:04,  3.49s/it]"
          ]
        },
        {
          "name": "stdout",
          "output_type": "stream",
          "text": [
            "Training loss: 0.0370\n",
            "Training metric: 0.8687\n",
            "perturbation loss: 0.1112\n",
            "Validation acc: 0.9062\n",
            "\n",
            "Start of epoch 190\n"
          ]
        },
        {
          "name": "stderr",
          "output_type": "stream",
          "text": [
            "\r 19%|█▉        | 191/1000 [11:08<47:01,  3.49s/it]"
          ]
        },
        {
          "name": "stdout",
          "output_type": "stream",
          "text": [
            "Training loss: 0.2729\n",
            "Training metric: 0.8694\n",
            "perturbation loss: 0.1835\n",
            "Validation acc: 0.9219\n",
            "\n",
            "Start of epoch 191\n"
          ]
        },
        {
          "name": "stderr",
          "output_type": "stream",
          "text": [
            "\r 19%|█▉        | 192/1000 [11:12<46:56,  3.49s/it]"
          ]
        },
        {
          "name": "stdout",
          "output_type": "stream",
          "text": [
            "Training loss: 0.9029\n",
            "Training metric: 0.8699\n",
            "perturbation loss: 0.1111\n",
            "Validation acc: 0.8828\n",
            "\n",
            "Start of epoch 192\n"
          ]
        },
        {
          "name": "stderr",
          "output_type": "stream",
          "text": [
            "\r 19%|█▉        | 193/1000 [11:15<46:51,  3.48s/it]"
          ]
        },
        {
          "name": "stdout",
          "output_type": "stream",
          "text": [
            "Training loss: 0.2209\n",
            "Training metric: 0.8704\n",
            "perturbation loss: 0.0718\n",
            "Validation acc: 0.8906\n",
            "\n",
            "Start of epoch 193\n"
          ]
        },
        {
          "name": "stderr",
          "output_type": "stream",
          "text": [
            "\r 19%|█▉        | 194/1000 [11:19<46:47,  3.48s/it]"
          ]
        },
        {
          "name": "stdout",
          "output_type": "stream",
          "text": [
            "Training loss: 0.0268\n",
            "Training metric: 0.8709\n",
            "perturbation loss: 0.0522\n",
            "Validation acc: 0.9219\n",
            "\n",
            "Start of epoch 194\n"
          ]
        },
        {
          "name": "stderr",
          "output_type": "stream",
          "text": [
            "\r 20%|█▉        | 195/1000 [11:22<46:47,  3.49s/it]"
          ]
        },
        {
          "name": "stdout",
          "output_type": "stream",
          "text": [
            "Training loss: 0.3520\n",
            "Training metric: 0.8715\n",
            "perturbation loss: 0.0901\n",
            "Validation acc: 0.9062\n",
            "\n",
            "Start of epoch 195\n"
          ]
        },
        {
          "name": "stderr",
          "output_type": "stream",
          "text": [
            "\r 20%|█▉        | 196/1000 [11:26<46:42,  3.49s/it]"
          ]
        },
        {
          "name": "stdout",
          "output_type": "stream",
          "text": [
            "Training loss: 0.0572\n",
            "Training metric: 0.8721\n",
            "perturbation loss: 0.1077\n",
            "Validation acc: 0.9297\n",
            "\n",
            "Start of epoch 196\n"
          ]
        },
        {
          "name": "stderr",
          "output_type": "stream",
          "text": [
            "\r 20%|█▉        | 197/1000 [11:29<46:37,  3.48s/it]"
          ]
        },
        {
          "name": "stdout",
          "output_type": "stream",
          "text": [
            "Training loss: 0.0322\n",
            "Training metric: 0.8727\n",
            "perturbation loss: 0.0864\n",
            "Validation acc: 0.9141\n",
            "\n",
            "Start of epoch 197\n"
          ]
        },
        {
          "name": "stderr",
          "output_type": "stream",
          "text": [
            "\r 20%|█▉        | 198/1000 [11:33<46:34,  3.48s/it]"
          ]
        },
        {
          "name": "stdout",
          "output_type": "stream",
          "text": [
            "Training loss: 0.0140\n",
            "Training metric: 0.8733\n",
            "perturbation loss: 0.0755\n",
            "Validation acc: 0.9141\n",
            "\n",
            "Start of epoch 198\n"
          ]
        },
        {
          "name": "stderr",
          "output_type": "stream",
          "text": [
            "\r 20%|█▉        | 199/1000 [11:36<46:30,  3.48s/it]"
          ]
        },
        {
          "name": "stdout",
          "output_type": "stream",
          "text": [
            "Training loss: 0.0062\n",
            "Training metric: 0.8739\n",
            "perturbation loss: 0.0299\n",
            "Validation acc: 0.9219\n",
            "\n",
            "Start of epoch 199\n"
          ]
        },
        {
          "name": "stderr",
          "output_type": "stream",
          "text": [
            "\r 20%|██        | 200/1000 [11:40<46:26,  3.48s/it]"
          ]
        },
        {
          "name": "stdout",
          "output_type": "stream",
          "text": [
            "Training loss: 0.0018\n",
            "Training metric: 0.8746\n",
            "perturbation loss: 0.0105\n",
            "Validation acc: 0.9062\n",
            "\n",
            "Start of epoch 200\n"
          ]
        },
        {
          "name": "stderr",
          "output_type": "stream",
          "text": [
            "\r 20%|██        | 201/1000 [11:43<46:24,  3.49s/it]"
          ]
        },
        {
          "name": "stdout",
          "output_type": "stream",
          "text": [
            "Training loss: 0.0161\n",
            "Training metric: 0.8752\n",
            "perturbation loss: 0.0575\n",
            "Validation acc: 0.9062\n",
            "\n",
            "Start of epoch 201\n"
          ]
        },
        {
          "name": "stderr",
          "output_type": "stream",
          "text": [
            "\r 20%|██        | 202/1000 [11:47<46:20,  3.48s/it]"
          ]
        },
        {
          "name": "stdout",
          "output_type": "stream",
          "text": [
            "Training loss: 0.0013\n",
            "Training metric: 0.8758\n",
            "perturbation loss: 0.0063\n",
            "Validation acc: 0.9062\n",
            "\n",
            "Start of epoch 202\n"
          ]
        },
        {
          "name": "stderr",
          "output_type": "stream",
          "text": [
            "\r 20%|██        | 203/1000 [11:50<46:17,  3.48s/it]"
          ]
        },
        {
          "name": "stdout",
          "output_type": "stream",
          "text": [
            "Training loss: 0.0382\n",
            "Training metric: 0.8764\n",
            "perturbation loss: 0.0845\n",
            "Validation acc: 0.8828\n",
            "\n",
            "Start of epoch 203\n"
          ]
        },
        {
          "name": "stderr",
          "output_type": "stream",
          "text": [
            "\r 20%|██        | 204/1000 [11:54<46:14,  3.49s/it]"
          ]
        },
        {
          "name": "stdout",
          "output_type": "stream",
          "text": [
            "Training loss: 0.0950\n",
            "Training metric: 0.8768\n",
            "perturbation loss: 0.1543\n",
            "Validation acc: 0.9219\n",
            "\n",
            "Start of epoch 204\n"
          ]
        },
        {
          "name": "stderr",
          "output_type": "stream",
          "text": [
            "\r 20%|██        | 205/1000 [11:57<46:11,  3.49s/it]"
          ]
        },
        {
          "name": "stdout",
          "output_type": "stream",
          "text": [
            "Training loss: 0.0103\n",
            "Training metric: 0.8773\n",
            "perturbation loss: 0.0371\n",
            "Validation acc: 0.9141\n",
            "\n",
            "Start of epoch 205\n"
          ]
        },
        {
          "name": "stderr",
          "output_type": "stream",
          "text": [
            "\r 21%|██        | 206/1000 [12:01<46:07,  3.49s/it]"
          ]
        },
        {
          "name": "stdout",
          "output_type": "stream",
          "text": [
            "Training loss: 0.0092\n",
            "Training metric: 0.8779\n",
            "perturbation loss: 0.0477\n",
            "Validation acc: 0.9141\n",
            "\n",
            "Start of epoch 206\n"
          ]
        },
        {
          "name": "stderr",
          "output_type": "stream",
          "text": [
            "\r 21%|██        | 207/1000 [12:04<46:03,  3.48s/it]"
          ]
        },
        {
          "name": "stdout",
          "output_type": "stream",
          "text": [
            "Training loss: 0.0071\n",
            "Training metric: 0.8784\n",
            "perturbation loss: 0.0296\n",
            "Validation acc: 0.9219\n",
            "\n",
            "Start of epoch 207\n"
          ]
        },
        {
          "name": "stderr",
          "output_type": "stream",
          "text": [
            "\r 21%|██        | 208/1000 [12:08<46:00,  3.49s/it]"
          ]
        },
        {
          "name": "stdout",
          "output_type": "stream",
          "text": [
            "Training loss: 0.0059\n",
            "Training metric: 0.8790\n",
            "perturbation loss: 0.0142\n",
            "Validation acc: 0.9375\n",
            "\n",
            "Start of epoch 208\n"
          ]
        },
        {
          "name": "stderr",
          "output_type": "stream",
          "text": [
            "\r 21%|██        | 209/1000 [12:11<45:56,  3.49s/it]"
          ]
        },
        {
          "name": "stdout",
          "output_type": "stream",
          "text": [
            "Training loss: 0.0440\n",
            "Training metric: 0.8796\n",
            "perturbation loss: 0.1167\n",
            "Validation acc: 0.8828\n",
            "\n",
            "Start of epoch 209\n"
          ]
        },
        {
          "name": "stderr",
          "output_type": "stream",
          "text": [
            "\r 21%|██        | 210/1000 [12:15<45:53,  3.49s/it]"
          ]
        },
        {
          "name": "stdout",
          "output_type": "stream",
          "text": [
            "Training loss: 0.0672\n",
            "Training metric: 0.8801\n",
            "perturbation loss: 0.0695\n",
            "Validation acc: 0.9062\n",
            "\n",
            "Start of epoch 210\n"
          ]
        },
        {
          "name": "stderr",
          "output_type": "stream",
          "text": [
            "\r 21%|██        | 211/1000 [12:18<45:49,  3.48s/it]"
          ]
        },
        {
          "name": "stdout",
          "output_type": "stream",
          "text": [
            "Training loss: 0.0347\n",
            "Training metric: 0.8805\n",
            "perturbation loss: 0.0826\n",
            "Validation acc: 0.8594\n",
            "\n",
            "Start of epoch 211\n"
          ]
        },
        {
          "name": "stderr",
          "output_type": "stream",
          "text": [
            "\r 21%|██        | 212/1000 [12:22<45:56,  3.50s/it]"
          ]
        },
        {
          "name": "stdout",
          "output_type": "stream",
          "text": [
            "Training loss: 0.0315\n",
            "Training metric: 0.8809\n",
            "perturbation loss: 0.1160\n",
            "Validation acc: 0.8984\n",
            "\n",
            "Start of epoch 212\n"
          ]
        },
        {
          "name": "stderr",
          "output_type": "stream",
          "text": [
            "\r 21%|██▏       | 213/1000 [12:25<45:50,  3.50s/it]"
          ]
        },
        {
          "name": "stdout",
          "output_type": "stream",
          "text": [
            "Training loss: 0.0295\n",
            "Training metric: 0.8815\n",
            "perturbation loss: 0.0676\n",
            "Validation acc: 0.9297\n",
            "\n",
            "Start of epoch 213\n"
          ]
        },
        {
          "name": "stderr",
          "output_type": "stream",
          "text": [
            "\r 21%|██▏       | 214/1000 [12:29<45:45,  3.49s/it]"
          ]
        },
        {
          "name": "stdout",
          "output_type": "stream",
          "text": [
            "Training loss: 0.0065\n",
            "Training metric: 0.8820\n",
            "perturbation loss: 0.0254\n",
            "Validation acc: 0.9531\n",
            "\n",
            "Start of epoch 214\n"
          ]
        },
        {
          "name": "stderr",
          "output_type": "stream",
          "text": [
            "\r 22%|██▏       | 215/1000 [12:32<45:40,  3.49s/it]"
          ]
        },
        {
          "name": "stdout",
          "output_type": "stream",
          "text": [
            "Training loss: 0.0149\n",
            "Training metric: 0.8825\n",
            "perturbation loss: 0.0501\n",
            "Validation acc: 0.9375\n",
            "\n",
            "Start of epoch 215\n"
          ]
        },
        {
          "name": "stderr",
          "output_type": "stream",
          "text": [
            "\r 22%|██▏       | 216/1000 [12:36<45:35,  3.49s/it]"
          ]
        },
        {
          "name": "stdout",
          "output_type": "stream",
          "text": [
            "Training loss: 0.0196\n",
            "Training metric: 0.8831\n",
            "perturbation loss: 0.0644\n",
            "Validation acc: 0.8594\n",
            "\n",
            "Start of epoch 216\n"
          ]
        },
        {
          "name": "stderr",
          "output_type": "stream",
          "text": [
            "\r 22%|██▏       | 217/1000 [12:39<45:31,  3.49s/it]"
          ]
        },
        {
          "name": "stdout",
          "output_type": "stream",
          "text": [
            "Training loss: 0.0060\n",
            "Training metric: 0.8835\n",
            "perturbation loss: 0.0359\n",
            "Validation acc: 0.8984\n",
            "\n",
            "Start of epoch 217\n"
          ]
        },
        {
          "name": "stderr",
          "output_type": "stream",
          "text": [
            "\r 22%|██▏       | 218/1000 [12:43<45:26,  3.49s/it]"
          ]
        },
        {
          "name": "stdout",
          "output_type": "stream",
          "text": [
            "Training loss: 0.0727\n",
            "Training metric: 0.8839\n",
            "perturbation loss: 0.0984\n",
            "Validation acc: 0.9297\n",
            "\n",
            "Start of epoch 218\n"
          ]
        },
        {
          "name": "stderr",
          "output_type": "stream",
          "text": [
            "\r 22%|██▏       | 219/1000 [12:46<45:22,  3.49s/it]"
          ]
        },
        {
          "name": "stdout",
          "output_type": "stream",
          "text": [
            "Training loss: 0.0129\n",
            "Training metric: 0.8844\n",
            "perturbation loss: 0.0525\n",
            "Validation acc: 0.9531\n",
            "\n",
            "Start of epoch 219\n"
          ]
        },
        {
          "name": "stderr",
          "output_type": "stream",
          "text": [
            "\r 22%|██▏       | 220/1000 [12:50<45:18,  3.48s/it]"
          ]
        },
        {
          "name": "stdout",
          "output_type": "stream",
          "text": [
            "Training loss: 0.0110\n",
            "Training metric: 0.8849\n",
            "perturbation loss: 0.0392\n",
            "Validation acc: 0.9531\n",
            "\n",
            "Start of epoch 220\n"
          ]
        },
        {
          "name": "stderr",
          "output_type": "stream",
          "text": [
            "\r 22%|██▏       | 221/1000 [12:53<45:14,  3.48s/it]"
          ]
        },
        {
          "name": "stdout",
          "output_type": "stream",
          "text": [
            "Training loss: 0.0394\n",
            "Training metric: 0.8854\n",
            "perturbation loss: 0.0750\n",
            "Validation acc: 0.9375\n",
            "\n",
            "Start of epoch 221\n"
          ]
        },
        {
          "name": "stderr",
          "output_type": "stream",
          "text": [
            "\r 22%|██▏       | 222/1000 [12:56<45:10,  3.48s/it]"
          ]
        },
        {
          "name": "stdout",
          "output_type": "stream",
          "text": [
            "Training loss: 0.0599\n",
            "Training metric: 0.8859\n",
            "perturbation loss: 0.0493\n",
            "Validation acc: 0.8906\n",
            "\n",
            "Start of epoch 222\n"
          ]
        },
        {
          "name": "stderr",
          "output_type": "stream",
          "text": [
            "\r 22%|██▏       | 223/1000 [13:00<45:07,  3.48s/it]"
          ]
        },
        {
          "name": "stdout",
          "output_type": "stream",
          "text": [
            "Training loss: 0.4142\n",
            "Training metric: 0.8862\n",
            "perturbation loss: 0.0725\n",
            "Validation acc: 0.8828\n",
            "\n",
            "Start of epoch 223\n"
          ]
        },
        {
          "name": "stderr",
          "output_type": "stream",
          "text": [
            "\r 22%|██▏       | 224/1000 [13:03<45:05,  3.49s/it]"
          ]
        },
        {
          "name": "stdout",
          "output_type": "stream",
          "text": [
            "Training loss: 0.0346\n",
            "Training metric: 0.8867\n",
            "perturbation loss: 0.0666\n",
            "Validation acc: 0.9297\n",
            "\n",
            "Start of epoch 224\n"
          ]
        },
        {
          "name": "stderr",
          "output_type": "stream",
          "text": [
            "\r 22%|██▎       | 225/1000 [13:07<45:02,  3.49s/it]"
          ]
        },
        {
          "name": "stdout",
          "output_type": "stream",
          "text": [
            "Training loss: 0.0248\n",
            "Training metric: 0.8871\n",
            "perturbation loss: 0.0535\n",
            "Validation acc: 0.9219\n",
            "\n",
            "Start of epoch 225\n"
          ]
        },
        {
          "name": "stderr",
          "output_type": "stream",
          "text": [
            "\r 23%|██▎       | 226/1000 [13:10<44:57,  3.49s/it]"
          ]
        },
        {
          "name": "stdout",
          "output_type": "stream",
          "text": [
            "Training loss: 0.0505\n",
            "Training metric: 0.8876\n",
            "perturbation loss: 0.1372\n",
            "Validation acc: 0.9531\n",
            "\n",
            "Start of epoch 226\n"
          ]
        },
        {
          "name": "stderr",
          "output_type": "stream",
          "text": [
            "\r 23%|██▎       | 227/1000 [13:14<44:53,  3.48s/it]"
          ]
        },
        {
          "name": "stdout",
          "output_type": "stream",
          "text": [
            "Training loss: 0.0329\n",
            "Training metric: 0.8881\n",
            "perturbation loss: 0.0941\n",
            "Validation acc: 0.9062\n",
            "\n",
            "Start of epoch 227\n"
          ]
        },
        {
          "name": "stderr",
          "output_type": "stream",
          "text": [
            "\r 23%|██▎       | 228/1000 [13:17<44:49,  3.48s/it]"
          ]
        },
        {
          "name": "stdout",
          "output_type": "stream",
          "text": [
            "Training loss: 0.0089\n",
            "Training metric: 0.8886\n",
            "perturbation loss: 0.0340\n",
            "Validation acc: 0.9453\n",
            "\n",
            "Start of epoch 228\n"
          ]
        },
        {
          "name": "stderr",
          "output_type": "stream",
          "text": [
            "\r 23%|██▎       | 229/1000 [13:21<44:46,  3.48s/it]"
          ]
        },
        {
          "name": "stdout",
          "output_type": "stream",
          "text": [
            "Training loss: 0.0283\n",
            "Training metric: 0.8891\n",
            "perturbation loss: 0.0733\n",
            "Validation acc: 0.9375\n",
            "\n",
            "Start of epoch 229\n"
          ]
        },
        {
          "name": "stderr",
          "output_type": "stream",
          "text": [
            "\r 23%|██▎       | 230/1000 [13:24<44:42,  3.48s/it]"
          ]
        },
        {
          "name": "stdout",
          "output_type": "stream",
          "text": [
            "Training loss: 0.0292\n",
            "Training metric: 0.8895\n",
            "perturbation loss: 0.0336\n",
            "Validation acc: 0.9062\n",
            "\n",
            "Start of epoch 230\n"
          ]
        },
        {
          "name": "stderr",
          "output_type": "stream",
          "text": [
            "\r 23%|██▎       | 231/1000 [13:28<44:39,  3.48s/it]"
          ]
        },
        {
          "name": "stdout",
          "output_type": "stream",
          "text": [
            "Training loss: 0.0248\n",
            "Training metric: 0.8899\n",
            "perturbation loss: 0.0808\n",
            "Validation acc: 0.8438\n",
            "\n",
            "Start of epoch 231\n"
          ]
        },
        {
          "name": "stderr",
          "output_type": "stream",
          "text": [
            "\r 23%|██▎       | 232/1000 [13:31<44:37,  3.49s/it]"
          ]
        },
        {
          "name": "stdout",
          "output_type": "stream",
          "text": [
            "Training loss: 0.0925\n",
            "Training metric: 0.8903\n",
            "perturbation loss: 0.1064\n",
            "Validation acc: 0.8906\n",
            "\n",
            "Start of epoch 232\n"
          ]
        },
        {
          "name": "stderr",
          "output_type": "stream",
          "text": [
            "\r 23%|██▎       | 233/1000 [13:35<44:34,  3.49s/it]"
          ]
        },
        {
          "name": "stdout",
          "output_type": "stream",
          "text": [
            "Training loss: 0.0283\n",
            "Training metric: 0.8906\n",
            "perturbation loss: 0.0833\n",
            "Validation acc: 0.9531\n",
            "\n",
            "Start of epoch 233\n"
          ]
        },
        {
          "name": "stderr",
          "output_type": "stream",
          "text": [
            "\r 23%|██▎       | 234/1000 [13:38<44:30,  3.49s/it]"
          ]
        },
        {
          "name": "stdout",
          "output_type": "stream",
          "text": [
            "Training loss: 0.0231\n",
            "Training metric: 0.8911\n",
            "perturbation loss: 0.0703\n",
            "Validation acc: 0.9141\n",
            "\n",
            "Start of epoch 234\n"
          ]
        },
        {
          "name": "stderr",
          "output_type": "stream",
          "text": [
            "\r 24%|██▎       | 235/1000 [13:42<44:28,  3.49s/it]"
          ]
        },
        {
          "name": "stdout",
          "output_type": "stream",
          "text": [
            "Training loss: 0.0123\n",
            "Training metric: 0.8915\n",
            "perturbation loss: 0.0708\n",
            "Validation acc: 0.9219\n",
            "\n",
            "Start of epoch 235\n"
          ]
        },
        {
          "name": "stderr",
          "output_type": "stream",
          "text": [
            "\r 24%|██▎       | 236/1000 [13:45<44:24,  3.49s/it]"
          ]
        },
        {
          "name": "stdout",
          "output_type": "stream",
          "text": [
            "Training loss: 0.0593\n",
            "Training metric: 0.8919\n",
            "perturbation loss: 0.0902\n",
            "Validation acc: 0.9141\n",
            "\n",
            "Start of epoch 236\n"
          ]
        },
        {
          "name": "stderr",
          "output_type": "stream",
          "text": [
            "\r 24%|██▎       | 237/1000 [13:49<44:22,  3.49s/it]"
          ]
        },
        {
          "name": "stdout",
          "output_type": "stream",
          "text": [
            "Training loss: 0.1687\n",
            "Training metric: 0.8922\n",
            "perturbation loss: 0.1961\n",
            "Validation acc: 0.9062\n",
            "\n",
            "Start of epoch 237\n"
          ]
        },
        {
          "name": "stderr",
          "output_type": "stream",
          "text": [
            "\r 24%|██▍       | 238/1000 [13:52<44:18,  3.49s/it]"
          ]
        },
        {
          "name": "stdout",
          "output_type": "stream",
          "text": [
            "Training loss: 0.4742\n",
            "Training metric: 0.8925\n",
            "perturbation loss: 0.1001\n",
            "Validation acc: 0.8125\n",
            "\n",
            "Start of epoch 238\n"
          ]
        },
        {
          "name": "stderr",
          "output_type": "stream",
          "text": [
            "\r 24%|██▍       | 239/1000 [13:56<44:14,  3.49s/it]"
          ]
        },
        {
          "name": "stdout",
          "output_type": "stream",
          "text": [
            "Training loss: 0.0209\n",
            "Training metric: 0.8927\n",
            "perturbation loss: 0.0710\n",
            "Validation acc: 0.9297\n",
            "\n",
            "Start of epoch 239\n"
          ]
        },
        {
          "name": "stderr",
          "output_type": "stream",
          "text": [
            "\r 24%|██▍       | 240/1000 [13:59<44:09,  3.49s/it]"
          ]
        },
        {
          "name": "stdout",
          "output_type": "stream",
          "text": [
            "Training loss: 0.0477\n",
            "Training metric: 0.8931\n",
            "perturbation loss: 0.1187\n",
            "Validation acc: 0.8750\n",
            "\n",
            "Start of epoch 240\n"
          ]
        },
        {
          "name": "stderr",
          "output_type": "stream",
          "text": [
            "\r 24%|██▍       | 241/1000 [14:03<44:07,  3.49s/it]"
          ]
        },
        {
          "name": "stdout",
          "output_type": "stream",
          "text": [
            "Training loss: 0.0064\n",
            "Training metric: 0.8935\n",
            "perturbation loss: 0.0251\n",
            "Validation acc: 0.9453\n",
            "\n",
            "Start of epoch 241\n"
          ]
        },
        {
          "name": "stderr",
          "output_type": "stream",
          "text": [
            "\r 24%|██▍       | 242/1000 [14:06<44:04,  3.49s/it]"
          ]
        },
        {
          "name": "stdout",
          "output_type": "stream",
          "text": [
            "Training loss: 0.1275\n",
            "Training metric: 0.8939\n",
            "perturbation loss: 0.1000\n",
            "Validation acc: 0.9219\n",
            "\n",
            "Start of epoch 242\n"
          ]
        },
        {
          "name": "stderr",
          "output_type": "stream",
          "text": [
            "\r 24%|██▍       | 243/1000 [14:10<43:59,  3.49s/it]"
          ]
        },
        {
          "name": "stdout",
          "output_type": "stream",
          "text": [
            "Training loss: 0.0074\n",
            "Training metric: 0.8943\n",
            "perturbation loss: 0.0289\n",
            "Validation acc: 0.9297\n",
            "\n",
            "Start of epoch 243\n"
          ]
        },
        {
          "name": "stderr",
          "output_type": "stream",
          "text": [
            "\r 24%|██▍       | 244/1000 [14:13<43:57,  3.49s/it]"
          ]
        },
        {
          "name": "stdout",
          "output_type": "stream",
          "text": [
            "Training loss: 0.0053\n",
            "Training metric: 0.8948\n",
            "perturbation loss: 0.0209\n",
            "Validation acc: 0.9297\n",
            "\n",
            "Start of epoch 244\n"
          ]
        },
        {
          "name": "stderr",
          "output_type": "stream",
          "text": [
            "\r 24%|██▍       | 245/1000 [14:17<43:53,  3.49s/it]"
          ]
        },
        {
          "name": "stdout",
          "output_type": "stream",
          "text": [
            "Training loss: 0.0025\n",
            "Training metric: 0.8952\n",
            "perturbation loss: 0.0085\n",
            "Validation acc: 0.9297\n",
            "\n",
            "Start of epoch 245\n"
          ]
        },
        {
          "name": "stderr",
          "output_type": "stream",
          "text": [
            "\r 25%|██▍       | 246/1000 [14:20<43:48,  3.49s/it]"
          ]
        },
        {
          "name": "stdout",
          "output_type": "stream",
          "text": [
            "Training loss: 0.0064\n",
            "Training metric: 0.8956\n",
            "perturbation loss: 0.0226\n",
            "Validation acc: 0.9141\n",
            "\n",
            "Start of epoch 246\n"
          ]
        },
        {
          "name": "stderr",
          "output_type": "stream",
          "text": [
            "\r 25%|██▍       | 247/1000 [14:24<43:44,  3.49s/it]"
          ]
        },
        {
          "name": "stdout",
          "output_type": "stream",
          "text": [
            "Training loss: 0.0259\n",
            "Training metric: 0.8960\n",
            "perturbation loss: 0.0580\n",
            "Validation acc: 0.9062\n",
            "\n",
            "Start of epoch 247\n"
          ]
        },
        {
          "name": "stderr",
          "output_type": "stream",
          "text": [
            "\r 25%|██▍       | 248/1000 [14:27<43:41,  3.49s/it]"
          ]
        },
        {
          "name": "stdout",
          "output_type": "stream",
          "text": [
            "Training loss: 0.1373\n",
            "Training metric: 0.8963\n",
            "perturbation loss: 0.0962\n",
            "Validation acc: 0.8203\n",
            "\n",
            "Start of epoch 248\n"
          ]
        },
        {
          "name": "stderr",
          "output_type": "stream",
          "text": [
            "\r 25%|██▍       | 249/1000 [14:31<43:39,  3.49s/it]"
          ]
        },
        {
          "name": "stdout",
          "output_type": "stream",
          "text": [
            "Training loss: 0.0137\n",
            "Training metric: 0.8966\n",
            "perturbation loss: 0.0609\n",
            "Validation acc: 0.9141\n",
            "\n",
            "Start of epoch 249\n"
          ]
        },
        {
          "name": "stderr",
          "output_type": "stream",
          "text": [
            "\r 25%|██▌       | 250/1000 [14:34<43:34,  3.49s/it]"
          ]
        },
        {
          "name": "stdout",
          "output_type": "stream",
          "text": [
            "Training loss: 0.0184\n",
            "Training metric: 0.8969\n",
            "perturbation loss: 0.0628\n",
            "Validation acc: 0.9062\n",
            "\n",
            "Start of epoch 250\n"
          ]
        },
        {
          "name": "stderr",
          "output_type": "stream",
          "text": [
            "\r 25%|██▌       | 251/1000 [14:38<43:36,  3.49s/it]"
          ]
        },
        {
          "name": "stdout",
          "output_type": "stream",
          "text": [
            "Training loss: 0.0061\n",
            "Training metric: 0.8973\n",
            "perturbation loss: 0.0536\n",
            "Validation acc: 0.8672\n",
            "\n",
            "Start of epoch 251\n"
          ]
        },
        {
          "name": "stderr",
          "output_type": "stream",
          "text": [
            "\r 25%|██▌       | 252/1000 [14:41<43:31,  3.49s/it]"
          ]
        },
        {
          "name": "stdout",
          "output_type": "stream",
          "text": [
            "Training loss: 0.0034\n",
            "Training metric: 0.8977\n",
            "perturbation loss: 0.0171\n",
            "Validation acc: 0.9219\n",
            "\n",
            "Start of epoch 252\n"
          ]
        },
        {
          "name": "stderr",
          "output_type": "stream",
          "text": [
            "\r 25%|██▌       | 253/1000 [14:45<43:27,  3.49s/it]"
          ]
        },
        {
          "name": "stdout",
          "output_type": "stream",
          "text": [
            "Training loss: 0.0097\n",
            "Training metric: 0.8981\n",
            "perturbation loss: 0.0357\n",
            "Validation acc: 0.8516\n",
            "\n",
            "Start of epoch 253\n"
          ]
        },
        {
          "name": "stderr",
          "output_type": "stream",
          "text": [
            "\r 25%|██▌       | 254/1000 [14:48<43:22,  3.49s/it]"
          ]
        },
        {
          "name": "stdout",
          "output_type": "stream",
          "text": [
            "Training loss: 0.0044\n",
            "Training metric: 0.8984\n",
            "perturbation loss: 0.0230\n",
            "Validation acc: 0.9375\n",
            "\n",
            "Start of epoch 254\n"
          ]
        },
        {
          "name": "stderr",
          "output_type": "stream",
          "text": [
            "\r 26%|██▌       | 255/1000 [14:52<43:21,  3.49s/it]"
          ]
        },
        {
          "name": "stdout",
          "output_type": "stream",
          "text": [
            "Training loss: 0.0060\n",
            "Training metric: 0.8988\n",
            "perturbation loss: 0.0188\n",
            "Validation acc: 0.9453\n",
            "\n",
            "Start of epoch 255\n"
          ]
        },
        {
          "name": "stderr",
          "output_type": "stream",
          "text": [
            "\r 26%|██▌       | 256/1000 [14:55<43:16,  3.49s/it]"
          ]
        },
        {
          "name": "stdout",
          "output_type": "stream",
          "text": [
            "Training loss: 0.0024\n",
            "Training metric: 0.8992\n",
            "perturbation loss: 0.0112\n",
            "Validation acc: 0.9375\n",
            "\n",
            "Start of epoch 256\n"
          ]
        },
        {
          "name": "stderr",
          "output_type": "stream",
          "text": [
            "\r 26%|██▌       | 257/1000 [14:59<43:11,  3.49s/it]"
          ]
        },
        {
          "name": "stdout",
          "output_type": "stream",
          "text": [
            "Training loss: 0.0011\n",
            "Training metric: 0.8996\n",
            "perturbation loss: 0.0099\n",
            "Validation acc: 0.9453\n",
            "\n",
            "Start of epoch 257\n"
          ]
        },
        {
          "name": "stderr",
          "output_type": "stream",
          "text": [
            "\r 26%|██▌       | 258/1000 [15:02<43:07,  3.49s/it]"
          ]
        },
        {
          "name": "stdout",
          "output_type": "stream",
          "text": [
            "Training loss: 0.0031\n",
            "Training metric: 0.9000\n",
            "perturbation loss: 0.0099\n",
            "Validation acc: 0.9375\n",
            "\n",
            "Start of epoch 258\n"
          ]
        },
        {
          "name": "stderr",
          "output_type": "stream",
          "text": [
            "\r 26%|██▌       | 259/1000 [15:06<43:03,  3.49s/it]"
          ]
        },
        {
          "name": "stdout",
          "output_type": "stream",
          "text": [
            "Training loss: 0.0055\n",
            "Training metric: 0.9003\n",
            "perturbation loss: 0.0429\n",
            "Validation acc: 0.9297\n",
            "\n",
            "Start of epoch 259\n"
          ]
        },
        {
          "name": "stderr",
          "output_type": "stream",
          "text": [
            "\r 26%|██▌       | 260/1000 [15:09<43:00,  3.49s/it]"
          ]
        },
        {
          "name": "stdout",
          "output_type": "stream",
          "text": [
            "Training loss: 0.0127\n",
            "Training metric: 0.9006\n",
            "perturbation loss: 0.0534\n",
            "Validation acc: 0.9219\n",
            "\n",
            "Start of epoch 260\n"
          ]
        },
        {
          "name": "stderr",
          "output_type": "stream",
          "text": [
            "\r 26%|██▌       | 261/1000 [15:13<42:59,  3.49s/it]"
          ]
        },
        {
          "name": "stdout",
          "output_type": "stream",
          "text": [
            "Training loss: 0.1134\n",
            "Training metric: 0.9009\n",
            "perturbation loss: 0.1112\n",
            "Validation acc: 0.9297\n",
            "\n",
            "Start of epoch 261\n"
          ]
        },
        {
          "name": "stderr",
          "output_type": "stream",
          "text": [
            "\r 26%|██▌       | 262/1000 [15:16<42:58,  3.49s/it]"
          ]
        },
        {
          "name": "stdout",
          "output_type": "stream",
          "text": [
            "Training loss: 0.0030\n",
            "Training metric: 0.9013\n",
            "perturbation loss: 0.0137\n",
            "Validation acc: 0.9531\n",
            "\n",
            "Start of epoch 262\n"
          ]
        },
        {
          "name": "stderr",
          "output_type": "stream",
          "text": [
            "\r 26%|██▋       | 263/1000 [15:20<42:54,  3.49s/it]"
          ]
        },
        {
          "name": "stdout",
          "output_type": "stream",
          "text": [
            "Training loss: 0.0070\n",
            "Training metric: 0.9016\n",
            "perturbation loss: 0.0347\n",
            "Validation acc: 0.9453\n",
            "\n",
            "Start of epoch 263\n"
          ]
        },
        {
          "name": "stderr",
          "output_type": "stream",
          "text": [
            "\r 26%|██▋       | 264/1000 [15:23<42:49,  3.49s/it]"
          ]
        },
        {
          "name": "stdout",
          "output_type": "stream",
          "text": [
            "Training loss: 0.0008\n",
            "Training metric: 0.9020\n",
            "perturbation loss: 0.0052\n",
            "Validation acc: 0.9375\n",
            "\n",
            "Start of epoch 264\n"
          ]
        },
        {
          "name": "stderr",
          "output_type": "stream",
          "text": [
            "\r 26%|██▋       | 265/1000 [15:26<42:46,  3.49s/it]"
          ]
        },
        {
          "name": "stdout",
          "output_type": "stream",
          "text": [
            "Training loss: 0.0064\n",
            "Training metric: 0.9024\n",
            "perturbation loss: 0.0215\n",
            "Validation acc: 0.9531\n",
            "\n",
            "Start of epoch 265\n"
          ]
        },
        {
          "name": "stderr",
          "output_type": "stream",
          "text": [
            "\r 27%|██▋       | 266/1000 [15:30<42:41,  3.49s/it]"
          ]
        },
        {
          "name": "stdout",
          "output_type": "stream",
          "text": [
            "Training loss: 0.0051\n",
            "Training metric: 0.9027\n",
            "perturbation loss: 0.0211\n",
            "Validation acc: 0.9531\n",
            "\n",
            "Start of epoch 266\n"
          ]
        },
        {
          "name": "stderr",
          "output_type": "stream",
          "text": [
            "\r 27%|██▋       | 267/1000 [15:33<42:38,  3.49s/it]"
          ]
        },
        {
          "name": "stdout",
          "output_type": "stream",
          "text": [
            "Training loss: 0.0019\n",
            "Training metric: 0.9031\n",
            "perturbation loss: 0.0135\n",
            "Validation acc: 0.9531\n",
            "\n",
            "Start of epoch 267\n"
          ]
        },
        {
          "name": "stderr",
          "output_type": "stream",
          "text": [
            "\r 27%|██▋       | 268/1000 [15:37<42:33,  3.49s/it]"
          ]
        },
        {
          "name": "stdout",
          "output_type": "stream",
          "text": [
            "Training loss: 0.0033\n",
            "Training metric: 0.9035\n",
            "perturbation loss: 0.0132\n",
            "Validation acc: 0.9297\n",
            "\n",
            "Start of epoch 268\n"
          ]
        },
        {
          "name": "stderr",
          "output_type": "stream",
          "text": [
            "\r 27%|██▋       | 269/1000 [15:40<42:29,  3.49s/it]"
          ]
        },
        {
          "name": "stdout",
          "output_type": "stream",
          "text": [
            "Training loss: 0.1806\n",
            "Training metric: 0.9038\n",
            "perturbation loss: 0.0706\n",
            "Validation acc: 0.9453\n",
            "\n",
            "Start of epoch 269\n"
          ]
        },
        {
          "name": "stderr",
          "output_type": "stream",
          "text": [
            "\r 27%|██▋       | 270/1000 [15:44<42:26,  3.49s/it]"
          ]
        },
        {
          "name": "stdout",
          "output_type": "stream",
          "text": [
            "Training loss: 0.3787\n",
            "Training metric: 0.9041\n",
            "perturbation loss: 0.1124\n",
            "Validation acc: 0.8438\n",
            "\n",
            "Start of epoch 270\n"
          ]
        },
        {
          "name": "stderr",
          "output_type": "stream",
          "text": [
            "\r 27%|██▋       | 271/1000 [15:47<42:21,  3.49s/it]"
          ]
        },
        {
          "name": "stdout",
          "output_type": "stream",
          "text": [
            "Training loss: 0.0037\n",
            "Training metric: 0.9044\n",
            "perturbation loss: 0.0224\n",
            "Validation acc: 0.9062\n",
            "\n",
            "Start of epoch 271\n"
          ]
        },
        {
          "name": "stderr",
          "output_type": "stream",
          "text": [
            "\r 27%|██▋       | 272/1000 [15:51<42:17,  3.49s/it]"
          ]
        },
        {
          "name": "stdout",
          "output_type": "stream",
          "text": [
            "Training loss: 0.0076\n",
            "Training metric: 0.9047\n",
            "perturbation loss: 0.0309\n",
            "Validation acc: 0.9453\n",
            "\n",
            "Start of epoch 272\n"
          ]
        },
        {
          "name": "stderr",
          "output_type": "stream",
          "text": [
            "\r 27%|██▋       | 273/1000 [15:54<42:17,  3.49s/it]"
          ]
        },
        {
          "name": "stdout",
          "output_type": "stream",
          "text": [
            "Training loss: 0.0048\n",
            "Training metric: 0.9051\n",
            "perturbation loss: 0.0362\n",
            "Validation acc: 0.9141\n",
            "\n",
            "Start of epoch 273\n"
          ]
        },
        {
          "name": "stderr",
          "output_type": "stream",
          "text": [
            "\r 27%|██▋       | 274/1000 [15:58<42:13,  3.49s/it]"
          ]
        },
        {
          "name": "stdout",
          "output_type": "stream",
          "text": [
            "Training loss: 0.0013\n",
            "Training metric: 0.9054\n",
            "perturbation loss: 0.0068\n",
            "Validation acc: 0.9219\n",
            "\n",
            "Start of epoch 274\n"
          ]
        },
        {
          "name": "stderr",
          "output_type": "stream",
          "text": [
            "\r 28%|██▊       | 275/1000 [16:01<42:11,  3.49s/it]"
          ]
        },
        {
          "name": "stdout",
          "output_type": "stream",
          "text": [
            "Training loss: 0.0050\n",
            "Training metric: 0.9058\n",
            "perturbation loss: 0.0203\n",
            "Validation acc: 0.9219\n",
            "\n",
            "Start of epoch 275\n"
          ]
        },
        {
          "name": "stderr",
          "output_type": "stream",
          "text": [
            "\r 28%|██▊       | 276/1000 [16:05<42:08,  3.49s/it]"
          ]
        },
        {
          "name": "stdout",
          "output_type": "stream",
          "text": [
            "Training loss: 0.0014\n",
            "Training metric: 0.9061\n",
            "perturbation loss: 0.0060\n",
            "Validation acc: 0.9219\n",
            "\n",
            "Start of epoch 276\n"
          ]
        },
        {
          "name": "stderr",
          "output_type": "stream",
          "text": [
            "\r 28%|██▊       | 277/1000 [16:08<42:03,  3.49s/it]"
          ]
        },
        {
          "name": "stdout",
          "output_type": "stream",
          "text": [
            "Training loss: 0.0038\n",
            "Training metric: 0.9064\n",
            "perturbation loss: 0.0181\n",
            "Validation acc: 0.9219\n",
            "\n",
            "Start of epoch 277\n"
          ]
        },
        {
          "name": "stderr",
          "output_type": "stream",
          "text": [
            "\r 28%|██▊       | 278/1000 [16:12<41:59,  3.49s/it]"
          ]
        },
        {
          "name": "stdout",
          "output_type": "stream",
          "text": [
            "Training loss: 0.0040\n",
            "Training metric: 0.9068\n",
            "perturbation loss: 0.0223\n",
            "Validation acc: 0.9219\n",
            "\n",
            "Start of epoch 278\n"
          ]
        },
        {
          "name": "stderr",
          "output_type": "stream",
          "text": [
            "\r 28%|██▊       | 279/1000 [16:15<41:54,  3.49s/it]"
          ]
        },
        {
          "name": "stdout",
          "output_type": "stream",
          "text": [
            "Training loss: 0.0018\n",
            "Training metric: 0.9071\n",
            "perturbation loss: 0.0070\n",
            "Validation acc: 0.9219\n",
            "\n",
            "Start of epoch 279\n"
          ]
        },
        {
          "name": "stderr",
          "output_type": "stream",
          "text": [
            "\r 28%|██▊       | 280/1000 [16:19<41:51,  3.49s/it]"
          ]
        },
        {
          "name": "stdout",
          "output_type": "stream",
          "text": [
            "Training loss: 0.0031\n",
            "Training metric: 0.9074\n",
            "perturbation loss: 0.0150\n",
            "Validation acc: 0.9141\n",
            "\n",
            "Start of epoch 280\n"
          ]
        },
        {
          "name": "stderr",
          "output_type": "stream",
          "text": [
            "\r 28%|██▊       | 281/1000 [16:22<41:47,  3.49s/it]"
          ]
        },
        {
          "name": "stdout",
          "output_type": "stream",
          "text": [
            "Training loss: 0.0063\n",
            "Training metric: 0.9078\n",
            "perturbation loss: 0.0484\n",
            "Validation acc: 0.9219\n",
            "\n",
            "Start of epoch 281\n"
          ]
        },
        {
          "name": "stderr",
          "output_type": "stream",
          "text": [
            "\r 28%|██▊       | 282/1000 [16:26<41:44,  3.49s/it]"
          ]
        },
        {
          "name": "stdout",
          "output_type": "stream",
          "text": [
            "Training loss: 0.1697\n",
            "Training metric: 0.9080\n",
            "perturbation loss: 0.1910\n",
            "Validation acc: 0.8984\n",
            "\n",
            "Start of epoch 282\n"
          ]
        },
        {
          "name": "stderr",
          "output_type": "stream",
          "text": [
            "\r 28%|██▊       | 283/1000 [16:29<41:41,  3.49s/it]"
          ]
        },
        {
          "name": "stdout",
          "output_type": "stream",
          "text": [
            "Training loss: 0.0082\n",
            "Training metric: 0.9083\n",
            "perturbation loss: 0.0247\n",
            "Validation acc: 0.9219\n",
            "\n",
            "Start of epoch 283\n"
          ]
        },
        {
          "name": "stderr",
          "output_type": "stream",
          "text": [
            "\r 28%|██▊       | 284/1000 [16:33<41:36,  3.49s/it]"
          ]
        },
        {
          "name": "stdout",
          "output_type": "stream",
          "text": [
            "Training loss: 0.0979\n",
            "Training metric: 0.9086\n",
            "perturbation loss: 0.0403\n",
            "Validation acc: 0.9297\n",
            "\n",
            "Start of epoch 284\n"
          ]
        },
        {
          "name": "stderr",
          "output_type": "stream",
          "text": [
            "\r 28%|██▊       | 285/1000 [16:36<41:31,  3.49s/it]"
          ]
        },
        {
          "name": "stdout",
          "output_type": "stream",
          "text": [
            "Training loss: 0.0021\n",
            "Training metric: 0.9089\n",
            "perturbation loss: 0.0330\n",
            "Validation acc: 0.9219\n",
            "\n",
            "Start of epoch 285\n"
          ]
        },
        {
          "name": "stderr",
          "output_type": "stream",
          "text": [
            "\r 29%|██▊       | 286/1000 [16:40<41:28,  3.49s/it]"
          ]
        },
        {
          "name": "stdout",
          "output_type": "stream",
          "text": [
            "Training loss: 0.0034\n",
            "Training metric: 0.9093\n",
            "perturbation loss: 0.0207\n",
            "Validation acc: 0.9219\n",
            "\n",
            "Start of epoch 286\n"
          ]
        },
        {
          "name": "stderr",
          "output_type": "stream",
          "text": [
            "\r 29%|██▊       | 287/1000 [16:43<41:25,  3.49s/it]"
          ]
        },
        {
          "name": "stdout",
          "output_type": "stream",
          "text": [
            "Training loss: 0.0074\n",
            "Training metric: 0.9096\n",
            "perturbation loss: 0.0331\n",
            "Validation acc: 0.8906\n",
            "\n",
            "Start of epoch 287\n"
          ]
        },
        {
          "name": "stderr",
          "output_type": "stream",
          "text": [
            "\r 29%|██▉       | 288/1000 [16:47<41:22,  3.49s/it]"
          ]
        },
        {
          "name": "stdout",
          "output_type": "stream",
          "text": [
            "Training loss: 0.0009\n",
            "Training metric: 0.9098\n",
            "perturbation loss: 0.0036\n",
            "Validation acc: 0.9141\n",
            "\n",
            "Start of epoch 288\n"
          ]
        },
        {
          "name": "stderr",
          "output_type": "stream",
          "text": [
            "\r 29%|██▉       | 289/1000 [16:50<41:17,  3.48s/it]"
          ]
        },
        {
          "name": "stdout",
          "output_type": "stream",
          "text": [
            "Training loss: 0.0504\n",
            "Training metric: 0.9101\n",
            "perturbation loss: 0.0438\n",
            "Validation acc: 0.9297\n",
            "\n",
            "Start of epoch 289\n"
          ]
        },
        {
          "name": "stderr",
          "output_type": "stream",
          "text": [
            "\r 29%|██▉       | 290/1000 [16:54<41:13,  3.48s/it]"
          ]
        },
        {
          "name": "stdout",
          "output_type": "stream",
          "text": [
            "Training loss: 0.1147\n",
            "Training metric: 0.9104\n",
            "perturbation loss: 0.0740\n",
            "Validation acc: 0.9375\n",
            "\n",
            "Start of epoch 290\n"
          ]
        },
        {
          "name": "stderr",
          "output_type": "stream",
          "text": [
            "\r 29%|██▉       | 291/1000 [16:57<41:10,  3.48s/it]"
          ]
        },
        {
          "name": "stdout",
          "output_type": "stream",
          "text": [
            "Training loss: 0.0042\n",
            "Training metric: 0.9107\n",
            "perturbation loss: 0.0235\n",
            "Validation acc: 0.9219\n",
            "\n",
            "Start of epoch 291\n"
          ]
        },
        {
          "name": "stderr",
          "output_type": "stream",
          "text": [
            "\r 29%|██▉       | 292/1000 [17:01<41:06,  3.48s/it]"
          ]
        },
        {
          "name": "stdout",
          "output_type": "stream",
          "text": [
            "Training loss: 0.0304\n",
            "Training metric: 0.9109\n",
            "perturbation loss: 0.0358\n",
            "Validation acc: 0.9219\n",
            "\n",
            "Start of epoch 292\n"
          ]
        },
        {
          "name": "stderr",
          "output_type": "stream",
          "text": [
            "\r 29%|██▉       | 293/1000 [17:04<41:03,  3.48s/it]"
          ]
        },
        {
          "name": "stdout",
          "output_type": "stream",
          "text": [
            "Training loss: 0.0121\n",
            "Training metric: 0.9110\n",
            "perturbation loss: 0.0686\n",
            "Validation acc: 0.9453\n",
            "\n",
            "Start of epoch 293\n"
          ]
        },
        {
          "name": "stderr",
          "output_type": "stream",
          "text": [
            "\r 29%|██▉       | 294/1000 [17:08<41:02,  3.49s/it]"
          ]
        },
        {
          "name": "stdout",
          "output_type": "stream",
          "text": [
            "Training loss: 0.0113\n",
            "Training metric: 0.9113\n",
            "perturbation loss: 0.0451\n",
            "Validation acc: 0.9453\n",
            "\n",
            "Start of epoch 294\n"
          ]
        },
        {
          "name": "stderr",
          "output_type": "stream",
          "text": [
            "\r 30%|██▉       | 295/1000 [17:11<40:57,  3.49s/it]"
          ]
        },
        {
          "name": "stdout",
          "output_type": "stream",
          "text": [
            "Training loss: 0.0074\n",
            "Training metric: 0.9116\n",
            "perturbation loss: 0.0369\n",
            "Validation acc: 0.9297\n",
            "\n",
            "Start of epoch 295\n"
          ]
        },
        {
          "name": "stderr",
          "output_type": "stream",
          "text": [
            "\r 30%|██▉       | 296/1000 [17:15<40:53,  3.49s/it]"
          ]
        },
        {
          "name": "stdout",
          "output_type": "stream",
          "text": [
            "Training loss: 0.0202\n",
            "Training metric: 0.9119\n",
            "perturbation loss: 0.0204\n",
            "Validation acc: 0.9297\n",
            "\n",
            "Start of epoch 296\n"
          ]
        },
        {
          "name": "stderr",
          "output_type": "stream",
          "text": [
            "\r 30%|██▉       | 297/1000 [17:18<40:49,  3.48s/it]"
          ]
        },
        {
          "name": "stdout",
          "output_type": "stream",
          "text": [
            "Training loss: 0.0040\n",
            "Training metric: 0.9122\n",
            "perturbation loss: 0.0176\n",
            "Validation acc: 0.9375\n",
            "\n",
            "Start of epoch 297\n"
          ]
        },
        {
          "name": "stderr",
          "output_type": "stream",
          "text": [
            "\r 30%|██▉       | 298/1000 [17:22<40:49,  3.49s/it]"
          ]
        },
        {
          "name": "stdout",
          "output_type": "stream",
          "text": [
            "Training loss: 0.0353\n",
            "Training metric: 0.9125\n",
            "perturbation loss: 0.1403\n",
            "Validation acc: 0.9297\n",
            "\n",
            "Start of epoch 298\n"
          ]
        },
        {
          "name": "stderr",
          "output_type": "stream",
          "text": [
            "\r 30%|██▉       | 299/1000 [17:25<40:45,  3.49s/it]"
          ]
        },
        {
          "name": "stdout",
          "output_type": "stream",
          "text": [
            "Training loss: 0.0059\n",
            "Training metric: 0.9127\n",
            "perturbation loss: 0.0345\n",
            "Validation acc: 0.9297\n",
            "\n",
            "Start of epoch 299\n"
          ]
        },
        {
          "name": "stderr",
          "output_type": "stream",
          "text": [
            "\r 30%|███       | 300/1000 [17:29<40:40,  3.49s/it]"
          ]
        },
        {
          "name": "stdout",
          "output_type": "stream",
          "text": [
            "Training loss: 0.0005\n",
            "Training metric: 0.9130\n",
            "perturbation loss: 0.0043\n",
            "Validation acc: 0.9141\n",
            "\n",
            "Start of epoch 300\n"
          ]
        },
        {
          "name": "stderr",
          "output_type": "stream",
          "text": [
            "\r 30%|███       | 301/1000 [17:32<40:38,  3.49s/it]"
          ]
        },
        {
          "name": "stdout",
          "output_type": "stream",
          "text": [
            "Training loss: 0.0012\n",
            "Training metric: 0.9133\n",
            "perturbation loss: 0.0055\n",
            "Validation acc: 0.9141\n",
            "\n",
            "Start of epoch 301\n"
          ]
        },
        {
          "name": "stderr",
          "output_type": "stream",
          "text": [
            "\r 30%|███       | 302/1000 [17:36<40:34,  3.49s/it]"
          ]
        },
        {
          "name": "stdout",
          "output_type": "stream",
          "text": [
            "Training loss: 0.0276\n",
            "Training metric: 0.9135\n",
            "perturbation loss: 0.0182\n",
            "Validation acc: 0.9219\n",
            "\n",
            "Start of epoch 302\n"
          ]
        },
        {
          "name": "stderr",
          "output_type": "stream",
          "text": [
            "\r 30%|███       | 303/1000 [17:39<40:30,  3.49s/it]"
          ]
        },
        {
          "name": "stdout",
          "output_type": "stream",
          "text": [
            "Training loss: 0.0028\n",
            "Training metric: 0.9138\n",
            "perturbation loss: 0.0547\n",
            "Validation acc: 0.9219\n",
            "\n",
            "Start of epoch 303\n"
          ]
        },
        {
          "name": "stderr",
          "output_type": "stream",
          "text": [
            "\r 30%|███       | 304/1000 [17:43<40:27,  3.49s/it]"
          ]
        },
        {
          "name": "stdout",
          "output_type": "stream",
          "text": [
            "Training loss: 0.0267\n",
            "Training metric: 0.9141\n",
            "perturbation loss: 0.0242\n",
            "Validation acc: 0.9062\n",
            "\n",
            "Start of epoch 304\n"
          ]
        },
        {
          "name": "stderr",
          "output_type": "stream",
          "text": [
            "\r 30%|███       | 305/1000 [17:46<40:26,  3.49s/it]"
          ]
        },
        {
          "name": "stdout",
          "output_type": "stream",
          "text": [
            "Training loss: 0.0051\n",
            "Training metric: 0.9143\n",
            "perturbation loss: 0.0324\n",
            "Validation acc: 0.9375\n",
            "\n",
            "Start of epoch 305\n"
          ]
        },
        {
          "name": "stderr",
          "output_type": "stream",
          "text": [
            "\r 31%|███       | 306/1000 [17:50<40:24,  3.49s/it]"
          ]
        },
        {
          "name": "stdout",
          "output_type": "stream",
          "text": [
            "Training loss: 0.0086\n",
            "Training metric: 0.9146\n",
            "perturbation loss: 0.0284\n",
            "Validation acc: 0.9453\n",
            "\n",
            "Start of epoch 306\n"
          ]
        },
        {
          "name": "stderr",
          "output_type": "stream",
          "text": [
            "\r 31%|███       | 307/1000 [17:53<40:20,  3.49s/it]"
          ]
        },
        {
          "name": "stdout",
          "output_type": "stream",
          "text": [
            "Training loss: 0.0027\n",
            "Training metric: 0.9149\n",
            "perturbation loss: 0.0159\n",
            "Validation acc: 0.9453\n",
            "\n",
            "Start of epoch 307\n"
          ]
        },
        {
          "name": "stderr",
          "output_type": "stream",
          "text": [
            "\r 31%|███       | 308/1000 [17:56<40:16,  3.49s/it]"
          ]
        },
        {
          "name": "stdout",
          "output_type": "stream",
          "text": [
            "Training loss: 0.0369\n",
            "Training metric: 0.9151\n",
            "perturbation loss: 0.0198\n",
            "Validation acc: 0.9297\n",
            "\n",
            "Start of epoch 308\n"
          ]
        },
        {
          "name": "stderr",
          "output_type": "stream",
          "text": [
            "\r 31%|███       | 309/1000 [18:00<40:12,  3.49s/it]"
          ]
        },
        {
          "name": "stdout",
          "output_type": "stream",
          "text": [
            "Training loss: 0.0033\n",
            "Training metric: 0.9154\n",
            "perturbation loss: 0.0157\n",
            "Validation acc: 0.9453\n",
            "\n",
            "Start of epoch 309\n"
          ]
        },
        {
          "name": "stderr",
          "output_type": "stream",
          "text": [
            "\r 31%|███       | 310/1000 [18:03<40:12,  3.50s/it]"
          ]
        },
        {
          "name": "stdout",
          "output_type": "stream",
          "text": [
            "Training loss: 0.0284\n",
            "Training metric: 0.9156\n",
            "perturbation loss: 0.0445\n",
            "Validation acc: 0.8984\n",
            "\n",
            "Start of epoch 310\n"
          ]
        },
        {
          "name": "stderr",
          "output_type": "stream",
          "text": [
            "\r 31%|███       | 311/1000 [18:07<40:07,  3.49s/it]"
          ]
        },
        {
          "name": "stdout",
          "output_type": "stream",
          "text": [
            "Training loss: 0.0172\n",
            "Training metric: 0.9158\n",
            "perturbation loss: 0.0648\n",
            "Validation acc: 0.9375\n",
            "\n",
            "Start of epoch 311\n"
          ]
        },
        {
          "name": "stderr",
          "output_type": "stream",
          "text": [
            "\r 31%|███       | 312/1000 [18:10<40:04,  3.49s/it]"
          ]
        },
        {
          "name": "stdout",
          "output_type": "stream",
          "text": [
            "Training loss: 0.0113\n",
            "Training metric: 0.9161\n",
            "perturbation loss: 0.0754\n",
            "Validation acc: 0.9453\n",
            "\n",
            "Start of epoch 312\n"
          ]
        },
        {
          "name": "stderr",
          "output_type": "stream",
          "text": [
            "\r 31%|███▏      | 313/1000 [18:14<40:00,  3.49s/it]"
          ]
        },
        {
          "name": "stdout",
          "output_type": "stream",
          "text": [
            "Training loss: 0.0005\n",
            "Training metric: 0.9163\n",
            "perturbation loss: 0.0039\n",
            "Validation acc: 0.9297\n",
            "\n",
            "Start of epoch 313\n"
          ]
        },
        {
          "name": "stderr",
          "output_type": "stream",
          "text": [
            "\r 31%|███▏      | 314/1000 [18:17<39:55,  3.49s/it]"
          ]
        },
        {
          "name": "stdout",
          "output_type": "stream",
          "text": [
            "Training loss: 0.0048\n",
            "Training metric: 0.9166\n",
            "perturbation loss: 0.0229\n",
            "Validation acc: 0.9141\n",
            "\n",
            "Start of epoch 314\n"
          ]
        },
        {
          "name": "stderr",
          "output_type": "stream",
          "text": [
            "\r 32%|███▏      | 315/1000 [18:21<39:53,  3.49s/it]"
          ]
        },
        {
          "name": "stdout",
          "output_type": "stream",
          "text": [
            "Training loss: 0.0034\n",
            "Training metric: 0.9168\n",
            "perturbation loss: 0.0233\n",
            "Validation acc: 0.9453\n",
            "\n",
            "Start of epoch 315\n"
          ]
        },
        {
          "name": "stderr",
          "output_type": "stream",
          "text": [
            "\r 32%|███▏      | 316/1000 [18:24<39:48,  3.49s/it]"
          ]
        },
        {
          "name": "stdout",
          "output_type": "stream",
          "text": [
            "Training loss: 0.0056\n",
            "Training metric: 0.9171\n",
            "perturbation loss: 0.0215\n",
            "Validation acc: 0.9453\n",
            "\n",
            "Start of epoch 316\n"
          ]
        },
        {
          "name": "stderr",
          "output_type": "stream",
          "text": [
            "\r 32%|███▏      | 317/1000 [18:28<39:44,  3.49s/it]"
          ]
        },
        {
          "name": "stdout",
          "output_type": "stream",
          "text": [
            "Training loss: 0.0080\n",
            "Training metric: 0.9173\n",
            "perturbation loss: 0.0638\n",
            "Validation acc: 0.9297\n",
            "\n",
            "Start of epoch 317\n"
          ]
        },
        {
          "name": "stderr",
          "output_type": "stream",
          "text": [
            "\r 32%|███▏      | 318/1000 [18:31<39:39,  3.49s/it]"
          ]
        },
        {
          "name": "stdout",
          "output_type": "stream",
          "text": [
            "Training loss: 0.0021\n",
            "Training metric: 0.9176\n",
            "perturbation loss: 0.0106\n",
            "Validation acc: 0.9453\n",
            "\n",
            "Start of epoch 318\n"
          ]
        },
        {
          "name": "stderr",
          "output_type": "stream",
          "text": [
            "\r 32%|███▏      | 319/1000 [18:35<39:36,  3.49s/it]"
          ]
        },
        {
          "name": "stdout",
          "output_type": "stream",
          "text": [
            "Training loss: 0.0006\n",
            "Training metric: 0.9179\n",
            "perturbation loss: 0.0034\n",
            "Validation acc: 0.9453\n",
            "\n",
            "Start of epoch 319\n"
          ]
        },
        {
          "name": "stderr",
          "output_type": "stream",
          "text": [
            "\r 32%|███▏      | 320/1000 [18:38<39:33,  3.49s/it]"
          ]
        },
        {
          "name": "stdout",
          "output_type": "stream",
          "text": [
            "Training loss: 0.0035\n",
            "Training metric: 0.9181\n",
            "perturbation loss: 0.0190\n",
            "Validation acc: 0.9219\n",
            "\n",
            "Start of epoch 320\n"
          ]
        },
        {
          "name": "stderr",
          "output_type": "stream",
          "text": [
            "\r 32%|███▏      | 321/1000 [18:42<39:30,  3.49s/it]"
          ]
        },
        {
          "name": "stdout",
          "output_type": "stream",
          "text": [
            "Training loss: 0.1763\n",
            "Training metric: 0.9184\n",
            "perturbation loss: 0.0250\n",
            "Validation acc: 0.8828\n",
            "\n",
            "Start of epoch 321\n"
          ]
        },
        {
          "name": "stderr",
          "output_type": "stream",
          "text": [
            "\r 32%|███▏      | 322/1000 [18:45<39:26,  3.49s/it]"
          ]
        },
        {
          "name": "stdout",
          "output_type": "stream",
          "text": [
            "Training loss: 0.0077\n",
            "Training metric: 0.9186\n",
            "perturbation loss: 0.0316\n",
            "Validation acc: 0.9297\n",
            "\n",
            "Start of epoch 322\n"
          ]
        },
        {
          "name": "stderr",
          "output_type": "stream",
          "text": [
            "\r 32%|███▏      | 323/1000 [18:49<39:22,  3.49s/it]"
          ]
        },
        {
          "name": "stdout",
          "output_type": "stream",
          "text": [
            "Training loss: 0.0295\n",
            "Training metric: 0.9188\n",
            "perturbation loss: 0.0739\n",
            "Validation acc: 0.9375\n",
            "\n",
            "Start of epoch 323\n"
          ]
        },
        {
          "name": "stderr",
          "output_type": "stream",
          "text": [
            "\r 32%|███▏      | 324/1000 [18:52<39:21,  3.49s/it]"
          ]
        },
        {
          "name": "stdout",
          "output_type": "stream",
          "text": [
            "Training loss: 0.0557\n",
            "Training metric: 0.9190\n",
            "perturbation loss: 0.0578\n",
            "Validation acc: 0.9375\n",
            "\n",
            "Start of epoch 324\n"
          ]
        },
        {
          "name": "stderr",
          "output_type": "stream",
          "text": [
            "\r 32%|███▎      | 325/1000 [18:56<39:17,  3.49s/it]"
          ]
        },
        {
          "name": "stdout",
          "output_type": "stream",
          "text": [
            "Training loss: 0.0157\n",
            "Training metric: 0.9192\n",
            "perturbation loss: 0.0603\n",
            "Validation acc: 0.9219\n",
            "\n",
            "Start of epoch 325\n"
          ]
        },
        {
          "name": "stderr",
          "output_type": "stream",
          "text": [
            "\r 33%|███▎      | 326/1000 [18:59<39:12,  3.49s/it]"
          ]
        },
        {
          "name": "stdout",
          "output_type": "stream",
          "text": [
            "Training loss: 0.0046\n",
            "Training metric: 0.9195\n",
            "perturbation loss: 0.0311\n",
            "Validation acc: 0.9141\n",
            "\n",
            "Start of epoch 326\n"
          ]
        },
        {
          "name": "stderr",
          "output_type": "stream",
          "text": [
            "\r 33%|███▎      | 327/1000 [19:03<39:10,  3.49s/it]"
          ]
        },
        {
          "name": "stdout",
          "output_type": "stream",
          "text": [
            "Training loss: 0.0028\n",
            "Training metric: 0.9197\n",
            "perturbation loss: 0.0129\n",
            "Validation acc: 0.9453\n",
            "\n",
            "Start of epoch 327\n"
          ]
        },
        {
          "name": "stderr",
          "output_type": "stream",
          "text": [
            "\r 33%|███▎      | 328/1000 [19:06<39:05,  3.49s/it]"
          ]
        },
        {
          "name": "stdout",
          "output_type": "stream",
          "text": [
            "Training loss: 0.0703\n",
            "Training metric: 0.9200\n",
            "perturbation loss: 0.0457\n",
            "Validation acc: 0.9375\n",
            "\n",
            "Start of epoch 328\n"
          ]
        },
        {
          "name": "stderr",
          "output_type": "stream",
          "text": [
            "\r 33%|███▎      | 329/1000 [19:10<39:01,  3.49s/it]"
          ]
        },
        {
          "name": "stdout",
          "output_type": "stream",
          "text": [
            "Training loss: 0.0101\n",
            "Training metric: 0.9202\n",
            "perturbation loss: 0.0482\n",
            "Validation acc: 0.9609\n",
            "\n",
            "Start of epoch 329\n"
          ]
        },
        {
          "name": "stderr",
          "output_type": "stream",
          "text": [
            "\r 33%|███▎      | 330/1000 [19:13<38:57,  3.49s/it]"
          ]
        },
        {
          "name": "stdout",
          "output_type": "stream",
          "text": [
            "Training loss: 0.0026\n",
            "Training metric: 0.9204\n",
            "perturbation loss: 0.0227\n",
            "Validation acc: 0.9531\n",
            "\n",
            "Start of epoch 330\n"
          ]
        },
        {
          "name": "stderr",
          "output_type": "stream",
          "text": [
            "\r 33%|███▎      | 331/1000 [19:17<38:53,  3.49s/it]"
          ]
        },
        {
          "name": "stdout",
          "output_type": "stream",
          "text": [
            "Training loss: 0.0007\n",
            "Training metric: 0.9207\n",
            "perturbation loss: 0.0043\n",
            "Validation acc: 0.9219\n",
            "\n",
            "Start of epoch 331\n"
          ]
        },
        {
          "name": "stderr",
          "output_type": "stream",
          "text": [
            "\r 33%|███▎      | 332/1000 [19:20<38:49,  3.49s/it]"
          ]
        },
        {
          "name": "stdout",
          "output_type": "stream",
          "text": [
            "Training loss: 0.1350\n",
            "Training metric: 0.9209\n",
            "perturbation loss: 0.0330\n",
            "Validation acc: 0.9297\n",
            "\n",
            "Start of epoch 332\n"
          ]
        },
        {
          "name": "stderr",
          "output_type": "stream",
          "text": [
            "\r 33%|███▎      | 333/1000 [19:24<38:47,  3.49s/it]"
          ]
        },
        {
          "name": "stdout",
          "output_type": "stream",
          "text": [
            "Training loss: 0.0018\n",
            "Training metric: 0.9211\n",
            "perturbation loss: 0.0112\n",
            "Validation acc: 0.9297\n",
            "\n",
            "Start of epoch 333\n"
          ]
        },
        {
          "name": "stderr",
          "output_type": "stream",
          "text": [
            "\r 33%|███▎      | 334/1000 [19:27<38:43,  3.49s/it]"
          ]
        },
        {
          "name": "stdout",
          "output_type": "stream",
          "text": [
            "Training loss: 0.0016\n",
            "Training metric: 0.9213\n",
            "perturbation loss: 0.0103\n",
            "Validation acc: 0.9375\n",
            "\n",
            "Start of epoch 334\n"
          ]
        },
        {
          "name": "stderr",
          "output_type": "stream",
          "text": [
            "\r 34%|███▎      | 335/1000 [19:31<38:39,  3.49s/it]"
          ]
        },
        {
          "name": "stdout",
          "output_type": "stream",
          "text": [
            "Training loss: 0.0027\n",
            "Training metric: 0.9216\n",
            "perturbation loss: 0.0265\n",
            "Validation acc: 0.9453\n",
            "\n",
            "Start of epoch 335\n"
          ]
        },
        {
          "name": "stderr",
          "output_type": "stream",
          "text": [
            "\r 34%|███▎      | 336/1000 [19:34<38:35,  3.49s/it]"
          ]
        },
        {
          "name": "stdout",
          "output_type": "stream",
          "text": [
            "Training loss: 0.1079\n",
            "Training metric: 0.9218\n",
            "perturbation loss: 0.0911\n",
            "Validation acc: 0.9297\n",
            "\n",
            "Start of epoch 336\n"
          ]
        },
        {
          "name": "stderr",
          "output_type": "stream",
          "text": [
            "\r 34%|███▎      | 337/1000 [19:38<38:32,  3.49s/it]"
          ]
        },
        {
          "name": "stdout",
          "output_type": "stream",
          "text": [
            "Training loss: 0.0044\n",
            "Training metric: 0.9220\n",
            "perturbation loss: 0.0244\n",
            "Validation acc: 0.9531\n",
            "\n",
            "Start of epoch 337\n"
          ]
        },
        {
          "name": "stderr",
          "output_type": "stream",
          "text": [
            "\r 34%|███▍      | 338/1000 [19:41<38:28,  3.49s/it]"
          ]
        },
        {
          "name": "stdout",
          "output_type": "stream",
          "text": [
            "Training loss: 0.0006\n",
            "Training metric: 0.9222\n",
            "perturbation loss: 0.0129\n",
            "Validation acc: 0.9297\n",
            "\n",
            "Start of epoch 338\n"
          ]
        },
        {
          "name": "stderr",
          "output_type": "stream",
          "text": [
            "\r 34%|███▍      | 339/1000 [19:45<38:25,  3.49s/it]"
          ]
        },
        {
          "name": "stdout",
          "output_type": "stream",
          "text": [
            "Training loss: 0.0024\n",
            "Training metric: 0.9224\n",
            "perturbation loss: 0.0152\n",
            "Validation acc: 0.9375\n",
            "\n",
            "Start of epoch 339\n"
          ]
        },
        {
          "name": "stderr",
          "output_type": "stream",
          "text": [
            "\r 34%|███▍      | 340/1000 [19:48<38:21,  3.49s/it]"
          ]
        },
        {
          "name": "stdout",
          "output_type": "stream",
          "text": [
            "Training loss: 0.0011\n",
            "Training metric: 0.9227\n",
            "perturbation loss: 0.0051\n",
            "Validation acc: 0.8984\n",
            "\n",
            "Start of epoch 340\n"
          ]
        },
        {
          "name": "stderr",
          "output_type": "stream",
          "text": [
            "\r 34%|███▍      | 341/1000 [19:52<38:19,  3.49s/it]"
          ]
        },
        {
          "name": "stdout",
          "output_type": "stream",
          "text": [
            "Training loss: 0.0028\n",
            "Training metric: 0.9229\n",
            "perturbation loss: 0.0138\n",
            "Validation acc: 0.9375\n",
            "\n",
            "Start of epoch 341\n"
          ]
        },
        {
          "name": "stderr",
          "output_type": "stream",
          "text": [
            "\r 34%|███▍      | 342/1000 [19:55<38:15,  3.49s/it]"
          ]
        },
        {
          "name": "stdout",
          "output_type": "stream",
          "text": [
            "Training loss: 0.0019\n",
            "Training metric: 0.9231\n",
            "perturbation loss: 0.0088\n",
            "Validation acc: 0.9453\n",
            "\n",
            "Start of epoch 342\n"
          ]
        },
        {
          "name": "stderr",
          "output_type": "stream",
          "text": [
            "\r 34%|███▍      | 343/1000 [19:59<38:12,  3.49s/it]"
          ]
        },
        {
          "name": "stdout",
          "output_type": "stream",
          "text": [
            "Training loss: 0.0013\n",
            "Training metric: 0.9233\n",
            "perturbation loss: 0.0092\n",
            "Validation acc: 0.9453\n",
            "\n",
            "Start of epoch 343\n"
          ]
        },
        {
          "name": "stderr",
          "output_type": "stream",
          "text": [
            "\r 34%|███▍      | 344/1000 [20:02<38:09,  3.49s/it]"
          ]
        },
        {
          "name": "stdout",
          "output_type": "stream",
          "text": [
            "Training loss: 0.0012\n",
            "Training metric: 0.9235\n",
            "perturbation loss: 0.0061\n",
            "Validation acc: 0.9453\n",
            "\n",
            "Start of epoch 344\n"
          ]
        },
        {
          "name": "stderr",
          "output_type": "stream",
          "text": [
            "\r 34%|███▍      | 345/1000 [20:06<38:06,  3.49s/it]"
          ]
        },
        {
          "name": "stdout",
          "output_type": "stream",
          "text": [
            "Training loss: 0.0002\n",
            "Training metric: 0.9238\n",
            "perturbation loss: 0.0021\n",
            "Validation acc: 0.9453\n",
            "\n",
            "Start of epoch 345\n"
          ]
        },
        {
          "name": "stderr",
          "output_type": "stream",
          "text": [
            "\r 35%|███▍      | 346/1000 [20:09<38:02,  3.49s/it]"
          ]
        },
        {
          "name": "stdout",
          "output_type": "stream",
          "text": [
            "Training loss: 0.0004\n",
            "Training metric: 0.9240\n",
            "perturbation loss: 0.0032\n",
            "Validation acc: 0.9531\n",
            "\n",
            "Start of epoch 346\n"
          ]
        },
        {
          "name": "stderr",
          "output_type": "stream",
          "text": [
            "\r 35%|███▍      | 347/1000 [20:13<37:59,  3.49s/it]"
          ]
        },
        {
          "name": "stdout",
          "output_type": "stream",
          "text": [
            "Training loss: 0.0027\n",
            "Training metric: 0.9242\n",
            "perturbation loss: 0.0120\n",
            "Validation acc: 0.9531\n",
            "\n",
            "Start of epoch 347\n"
          ]
        },
        {
          "name": "stderr",
          "output_type": "stream",
          "text": [
            "\r 35%|███▍      | 348/1000 [20:16<37:55,  3.49s/it]"
          ]
        },
        {
          "name": "stdout",
          "output_type": "stream",
          "text": [
            "Training loss: 0.0011\n",
            "Training metric: 0.9244\n",
            "perturbation loss: 0.0062\n",
            "Validation acc: 0.9609\n",
            "\n",
            "Start of epoch 348\n"
          ]
        },
        {
          "name": "stderr",
          "output_type": "stream",
          "text": [
            "\r 35%|███▍      | 349/1000 [20:20<37:52,  3.49s/it]"
          ]
        },
        {
          "name": "stdout",
          "output_type": "stream",
          "text": [
            "Training loss: 0.0002\n",
            "Training metric: 0.9246\n",
            "perturbation loss: 0.0017\n",
            "Validation acc: 0.9609\n",
            "\n",
            "Start of epoch 349\n"
          ]
        },
        {
          "name": "stderr",
          "output_type": "stream",
          "text": [
            "\r 35%|███▌      | 350/1000 [20:23<37:47,  3.49s/it]"
          ]
        },
        {
          "name": "stdout",
          "output_type": "stream",
          "text": [
            "Training loss: 0.0003\n",
            "Training metric: 0.9248\n",
            "perturbation loss: 0.0014\n",
            "Validation acc: 0.9688\n",
            "\n",
            "Start of epoch 350\n"
          ]
        },
        {
          "name": "stderr",
          "output_type": "stream",
          "text": [
            "\r 35%|███▌      | 351/1000 [20:27<37:43,  3.49s/it]"
          ]
        },
        {
          "name": "stdout",
          "output_type": "stream",
          "text": [
            "Training loss: 0.0009\n",
            "Training metric: 0.9251\n",
            "perturbation loss: 0.0057\n",
            "Validation acc: 0.9688\n",
            "\n",
            "Start of epoch 351\n"
          ]
        },
        {
          "name": "stderr",
          "output_type": "stream",
          "text": [
            "\r 35%|███▌      | 352/1000 [20:30<37:40,  3.49s/it]"
          ]
        },
        {
          "name": "stdout",
          "output_type": "stream",
          "text": [
            "Training loss: 0.0010\n",
            "Training metric: 0.9253\n",
            "perturbation loss: 0.0058\n",
            "Validation acc: 0.9531\n",
            "\n",
            "Start of epoch 352\n"
          ]
        },
        {
          "name": "stderr",
          "output_type": "stream",
          "text": [
            "\r 35%|███▌      | 353/1000 [20:34<37:38,  3.49s/it]"
          ]
        },
        {
          "name": "stdout",
          "output_type": "stream",
          "text": [
            "Training loss: 0.0164\n",
            "Training metric: 0.9255\n",
            "perturbation loss: 0.0654\n",
            "Validation acc: 0.9453\n",
            "\n",
            "Start of epoch 353\n"
          ]
        },
        {
          "name": "stderr",
          "output_type": "stream",
          "text": [
            "\r 35%|███▌      | 354/1000 [20:37<37:36,  3.49s/it]"
          ]
        },
        {
          "name": "stdout",
          "output_type": "stream",
          "text": [
            "Training loss: 0.0028\n",
            "Training metric: 0.9257\n",
            "perturbation loss: 0.0112\n",
            "Validation acc: 0.9297\n",
            "\n",
            "Start of epoch 354\n"
          ]
        },
        {
          "name": "stderr",
          "output_type": "stream",
          "text": [
            "\r 36%|███▌      | 355/1000 [20:41<37:33,  3.49s/it]"
          ]
        },
        {
          "name": "stdout",
          "output_type": "stream",
          "text": [
            "Training loss: 0.2265\n",
            "Training metric: 0.9258\n",
            "perturbation loss: 0.6986\n",
            "Validation acc: 0.8594\n",
            "\n",
            "Start of epoch 355\n"
          ]
        },
        {
          "name": "stderr",
          "output_type": "stream",
          "text": [
            "\r 36%|███▌      | 356/1000 [20:44<37:29,  3.49s/it]"
          ]
        },
        {
          "name": "stdout",
          "output_type": "stream",
          "text": [
            "Training loss: 0.0030\n",
            "Training metric: 0.9260\n",
            "perturbation loss: 0.0189\n",
            "Validation acc: 0.9375\n",
            "\n",
            "Start of epoch 356\n"
          ]
        },
        {
          "name": "stderr",
          "output_type": "stream",
          "text": [
            "\r 36%|███▌      | 357/1000 [20:48<37:25,  3.49s/it]"
          ]
        },
        {
          "name": "stdout",
          "output_type": "stream",
          "text": [
            "Training loss: 0.0027\n",
            "Training metric: 0.9262\n",
            "perturbation loss: 0.0127\n",
            "Validation acc: 0.9609\n",
            "\n",
            "Start of epoch 357\n"
          ]
        },
        {
          "name": "stderr",
          "output_type": "stream",
          "text": [
            "\r 36%|███▌      | 358/1000 [20:51<37:22,  3.49s/it]"
          ]
        },
        {
          "name": "stdout",
          "output_type": "stream",
          "text": [
            "Training loss: 0.0002\n",
            "Training metric: 0.9265\n",
            "perturbation loss: 0.0018\n",
            "Validation acc: 0.9453\n",
            "\n",
            "Start of epoch 358\n"
          ]
        },
        {
          "name": "stderr",
          "output_type": "stream",
          "text": [
            "\r 36%|███▌      | 359/1000 [20:55<37:19,  3.49s/it]"
          ]
        },
        {
          "name": "stdout",
          "output_type": "stream",
          "text": [
            "Training loss: 0.0006\n",
            "Training metric: 0.9267\n",
            "perturbation loss: 0.0033\n",
            "Validation acc: 0.9531\n",
            "\n",
            "Start of epoch 359\n"
          ]
        },
        {
          "name": "stderr",
          "output_type": "stream",
          "text": [
            "\r 36%|███▌      | 360/1000 [20:58<37:14,  3.49s/it]"
          ]
        },
        {
          "name": "stdout",
          "output_type": "stream",
          "text": [
            "Training loss: 0.0009\n",
            "Training metric: 0.9269\n",
            "perturbation loss: 0.0036\n",
            "Validation acc: 0.9609\n",
            "\n",
            "Start of epoch 360\n"
          ]
        },
        {
          "name": "stderr",
          "output_type": "stream",
          "text": [
            "\r 36%|███▌      | 361/1000 [21:01<37:10,  3.49s/it]"
          ]
        },
        {
          "name": "stdout",
          "output_type": "stream",
          "text": [
            "Training loss: 0.0015\n",
            "Training metric: 0.9271\n",
            "perturbation loss: 0.0200\n",
            "Validation acc: 0.9609\n",
            "\n",
            "Start of epoch 361\n"
          ]
        },
        {
          "name": "stderr",
          "output_type": "stream",
          "text": [
            "\r 36%|███▌      | 362/1000 [21:05<37:06,  3.49s/it]"
          ]
        },
        {
          "name": "stdout",
          "output_type": "stream",
          "text": [
            "Training loss: 0.0002\n",
            "Training metric: 0.9273\n",
            "perturbation loss: 0.0012\n",
            "Validation acc: 0.9688\n",
            "\n",
            "Start of epoch 362\n"
          ]
        },
        {
          "name": "stderr",
          "output_type": "stream",
          "text": [
            "\r 36%|███▋      | 363/1000 [21:08<37:02,  3.49s/it]"
          ]
        },
        {
          "name": "stdout",
          "output_type": "stream",
          "text": [
            "Training loss: 0.0002\n",
            "Training metric: 0.9275\n",
            "perturbation loss: 0.0015\n",
            "Validation acc: 0.9219\n",
            "\n",
            "Start of epoch 363\n"
          ]
        },
        {
          "name": "stderr",
          "output_type": "stream",
          "text": [
            "\r 36%|███▋      | 364/1000 [21:12<36:58,  3.49s/it]"
          ]
        },
        {
          "name": "stdout",
          "output_type": "stream",
          "text": [
            "Training loss: 0.0011\n",
            "Training metric: 0.9277\n",
            "perturbation loss: 0.0048\n",
            "Validation acc: 0.9531\n",
            "\n",
            "Start of epoch 364\n"
          ]
        },
        {
          "name": "stderr",
          "output_type": "stream",
          "text": [
            "\r 36%|███▋      | 365/1000 [21:15<36:57,  3.49s/it]"
          ]
        },
        {
          "name": "stdout",
          "output_type": "stream",
          "text": [
            "Training loss: 0.0009\n",
            "Training metric: 0.9279\n",
            "perturbation loss: 0.0044\n",
            "Validation acc: 0.9531\n",
            "\n",
            "Start of epoch 365\n"
          ]
        },
        {
          "name": "stderr",
          "output_type": "stream",
          "text": [
            "\r 37%|███▋      | 366/1000 [21:19<36:53,  3.49s/it]"
          ]
        },
        {
          "name": "stdout",
          "output_type": "stream",
          "text": [
            "Training loss: 0.0012\n",
            "Training metric: 0.9281\n",
            "perturbation loss: 0.0076\n",
            "Validation acc: 0.9297\n",
            "\n",
            "Start of epoch 366\n"
          ]
        },
        {
          "name": "stderr",
          "output_type": "stream",
          "text": [
            "\r 37%|███▋      | 367/1000 [21:22<36:49,  3.49s/it]"
          ]
        },
        {
          "name": "stdout",
          "output_type": "stream",
          "text": [
            "Training loss: 0.0023\n",
            "Training metric: 0.9283\n",
            "perturbation loss: 0.0030\n",
            "Validation acc: 0.9609\n",
            "\n",
            "Start of epoch 367\n"
          ]
        },
        {
          "name": "stderr",
          "output_type": "stream",
          "text": [
            "\r 37%|███▋      | 368/1000 [21:26<36:45,  3.49s/it]"
          ]
        },
        {
          "name": "stdout",
          "output_type": "stream",
          "text": [
            "Training loss: 0.0020\n",
            "Training metric: 0.9284\n",
            "perturbation loss: 0.0022\n",
            "Validation acc: 0.9219\n",
            "\n",
            "Start of epoch 368\n"
          ]
        },
        {
          "name": "stderr",
          "output_type": "stream",
          "text": [
            "\r 37%|███▋      | 369/1000 [21:29<36:41,  3.49s/it]"
          ]
        },
        {
          "name": "stdout",
          "output_type": "stream",
          "text": [
            "Training loss: 0.0005\n",
            "Training metric: 0.9286\n",
            "perturbation loss: 0.0047\n",
            "Validation acc: 0.9609\n",
            "\n",
            "Start of epoch 369\n"
          ]
        },
        {
          "name": "stderr",
          "output_type": "stream",
          "text": [
            "\r 37%|███▋      | 370/1000 [21:33<36:36,  3.49s/it]"
          ]
        },
        {
          "name": "stdout",
          "output_type": "stream",
          "text": [
            "Training loss: 0.0016\n",
            "Training metric: 0.9288\n",
            "perturbation loss: 0.0079\n",
            "Validation acc: 0.9297\n",
            "\n",
            "Start of epoch 370\n"
          ]
        },
        {
          "name": "stderr",
          "output_type": "stream",
          "text": [
            "\r 37%|███▋      | 371/1000 [21:36<36:34,  3.49s/it]"
          ]
        },
        {
          "name": "stdout",
          "output_type": "stream",
          "text": [
            "Training loss: 0.0005\n",
            "Training metric: 0.9290\n",
            "perturbation loss: 0.0099\n",
            "Validation acc: 0.9375\n",
            "\n",
            "Start of epoch 371\n"
          ]
        },
        {
          "name": "stderr",
          "output_type": "stream",
          "text": [
            "\r 37%|███▋      | 372/1000 [21:40<36:31,  3.49s/it]"
          ]
        },
        {
          "name": "stdout",
          "output_type": "stream",
          "text": [
            "Training loss: 0.0013\n",
            "Training metric: 0.9292\n",
            "perturbation loss: 0.0081\n",
            "Validation acc: 0.9688\n",
            "\n",
            "Start of epoch 372\n"
          ]
        },
        {
          "name": "stderr",
          "output_type": "stream",
          "text": [
            "\r 37%|███▋      | 373/1000 [21:43<36:27,  3.49s/it]"
          ]
        },
        {
          "name": "stdout",
          "output_type": "stream",
          "text": [
            "Training loss: 0.0001\n",
            "Training metric: 0.9294\n",
            "perturbation loss: 0.0007\n",
            "Validation acc: 0.9609\n",
            "\n",
            "Start of epoch 373\n"
          ]
        },
        {
          "name": "stderr",
          "output_type": "stream",
          "text": [
            "\r 37%|███▋      | 374/1000 [21:47<36:24,  3.49s/it]"
          ]
        },
        {
          "name": "stdout",
          "output_type": "stream",
          "text": [
            "Training loss: 0.0009\n",
            "Training metric: 0.9295\n",
            "perturbation loss: 0.0054\n",
            "Validation acc: 0.9609\n",
            "\n",
            "Start of epoch 374\n"
          ]
        },
        {
          "name": "stderr",
          "output_type": "stream",
          "text": [
            "\r 38%|███▊      | 375/1000 [21:50<36:20,  3.49s/it]"
          ]
        },
        {
          "name": "stdout",
          "output_type": "stream",
          "text": [
            "Training loss: 0.0004\n",
            "Training metric: 0.9297\n",
            "perturbation loss: 0.0032\n",
            "Validation acc: 0.9609\n",
            "\n",
            "Start of epoch 375\n"
          ]
        },
        {
          "name": "stderr",
          "output_type": "stream",
          "text": [
            "\r 38%|███▊      | 376/1000 [21:54<36:18,  3.49s/it]"
          ]
        },
        {
          "name": "stdout",
          "output_type": "stream",
          "text": [
            "Training loss: 0.0005\n",
            "Training metric: 0.9299\n",
            "perturbation loss: 0.0027\n",
            "Validation acc: 0.9609\n",
            "\n",
            "Start of epoch 376\n"
          ]
        },
        {
          "name": "stderr",
          "output_type": "stream",
          "text": [
            "\r 38%|███▊      | 377/1000 [21:57<36:14,  3.49s/it]"
          ]
        },
        {
          "name": "stdout",
          "output_type": "stream",
          "text": [
            "Training loss: 0.0006\n",
            "Training metric: 0.9301\n",
            "perturbation loss: 0.0029\n",
            "Validation acc: 0.9609\n",
            "\n",
            "Start of epoch 377\n"
          ]
        },
        {
          "name": "stderr",
          "output_type": "stream",
          "text": [
            "\r 38%|███▊      | 378/1000 [22:01<36:10,  3.49s/it]"
          ]
        },
        {
          "name": "stdout",
          "output_type": "stream",
          "text": [
            "Training loss: 0.0001\n",
            "Training metric: 0.9303\n",
            "perturbation loss: 0.0015\n",
            "Validation acc: 0.9609\n",
            "\n",
            "Start of epoch 378\n"
          ]
        },
        {
          "name": "stderr",
          "output_type": "stream",
          "text": [
            "\r 38%|███▊      | 379/1000 [22:04<36:07,  3.49s/it]"
          ]
        },
        {
          "name": "stdout",
          "output_type": "stream",
          "text": [
            "Training loss: 0.0006\n",
            "Training metric: 0.9305\n",
            "perturbation loss: 0.0032\n",
            "Validation acc: 0.9609\n",
            "\n",
            "Start of epoch 379\n"
          ]
        },
        {
          "name": "stderr",
          "output_type": "stream",
          "text": [
            "\r 38%|███▊      | 380/1000 [22:08<36:04,  3.49s/it]"
          ]
        },
        {
          "name": "stdout",
          "output_type": "stream",
          "text": [
            "Training loss: 0.0013\n",
            "Training metric: 0.9307\n",
            "perturbation loss: 0.0075\n",
            "Validation acc: 0.9609\n",
            "\n",
            "Start of epoch 380\n"
          ]
        },
        {
          "name": "stderr",
          "output_type": "stream",
          "text": [
            "\r 38%|███▊      | 381/1000 [22:11<36:01,  3.49s/it]"
          ]
        },
        {
          "name": "stdout",
          "output_type": "stream",
          "text": [
            "Training loss: 0.0001\n",
            "Training metric: 0.9308\n",
            "perturbation loss: 0.0007\n",
            "Validation acc: 0.9609\n",
            "\n",
            "Start of epoch 381\n"
          ]
        },
        {
          "name": "stderr",
          "output_type": "stream",
          "text": [
            "\r 38%|███▊      | 382/1000 [22:15<35:56,  3.49s/it]"
          ]
        },
        {
          "name": "stdout",
          "output_type": "stream",
          "text": [
            "Training loss: 0.0006\n",
            "Training metric: 0.9310\n",
            "perturbation loss: 0.0040\n",
            "Validation acc: 0.9688\n",
            "\n",
            "Start of epoch 382\n"
          ]
        },
        {
          "name": "stderr",
          "output_type": "stream",
          "text": [
            "\r 38%|███▊      | 383/1000 [22:18<35:53,  3.49s/it]"
          ]
        },
        {
          "name": "stdout",
          "output_type": "stream",
          "text": [
            "Training loss: 0.0001\n",
            "Training metric: 0.9312\n",
            "perturbation loss: 0.0006\n",
            "Validation acc: 0.9688\n",
            "\n",
            "Start of epoch 383\n"
          ]
        },
        {
          "name": "stderr",
          "output_type": "stream",
          "text": [
            "\r 38%|███▊      | 384/1000 [22:22<35:49,  3.49s/it]"
          ]
        },
        {
          "name": "stdout",
          "output_type": "stream",
          "text": [
            "Training loss: 0.0003\n",
            "Training metric: 0.9314\n",
            "perturbation loss: 0.0021\n",
            "Validation acc: 0.9688\n",
            "\n",
            "Start of epoch 384\n"
          ]
        },
        {
          "name": "stderr",
          "output_type": "stream",
          "text": [
            "\r 38%|███▊      | 385/1000 [22:25<35:45,  3.49s/it]"
          ]
        },
        {
          "name": "stdout",
          "output_type": "stream",
          "text": [
            "Training loss: 0.0005\n",
            "Training metric: 0.9316\n",
            "perturbation loss: 0.0046\n",
            "Validation acc: 0.9688\n",
            "\n",
            "Start of epoch 385\n"
          ]
        },
        {
          "name": "stderr",
          "output_type": "stream",
          "text": [
            "\r 39%|███▊      | 386/1000 [22:29<35:44,  3.49s/it]"
          ]
        },
        {
          "name": "stdout",
          "output_type": "stream",
          "text": [
            "Training loss: 0.0000\n",
            "Training metric: 0.9317\n",
            "perturbation loss: 0.0002\n",
            "Validation acc: 0.9609\n",
            "\n",
            "Start of epoch 386\n"
          ]
        },
        {
          "name": "stderr",
          "output_type": "stream",
          "text": [
            "\r 39%|███▊      | 387/1000 [22:32<35:40,  3.49s/it]"
          ]
        },
        {
          "name": "stdout",
          "output_type": "stream",
          "text": [
            "Training loss: 0.0003\n",
            "Training metric: 0.9319\n",
            "perturbation loss: 0.0015\n",
            "Validation acc: 0.9531\n",
            "\n",
            "Start of epoch 387\n"
          ]
        },
        {
          "name": "stderr",
          "output_type": "stream",
          "text": [
            "\r 39%|███▉      | 388/1000 [22:36<35:36,  3.49s/it]"
          ]
        },
        {
          "name": "stdout",
          "output_type": "stream",
          "text": [
            "Training loss: 0.0050\n",
            "Training metric: 0.9321\n",
            "perturbation loss: 0.0216\n",
            "Validation acc: 0.9609\n",
            "\n",
            "Start of epoch 388\n"
          ]
        },
        {
          "name": "stderr",
          "output_type": "stream",
          "text": [
            "\r 39%|███▉      | 389/1000 [22:39<35:32,  3.49s/it]"
          ]
        },
        {
          "name": "stdout",
          "output_type": "stream",
          "text": [
            "Training loss: 0.0140\n",
            "Training metric: 0.9322\n",
            "perturbation loss: 0.0280\n",
            "Validation acc: 0.8984\n",
            "\n",
            "Start of epoch 389\n"
          ]
        },
        {
          "name": "stderr",
          "output_type": "stream",
          "text": [
            "\r 39%|███▉      | 390/1000 [22:43<35:29,  3.49s/it]"
          ]
        },
        {
          "name": "stdout",
          "output_type": "stream",
          "text": [
            "Training loss: 0.0006\n",
            "Training metric: 0.9324\n",
            "perturbation loss: 0.0046\n",
            "Validation acc: 0.9453\n",
            "\n",
            "Start of epoch 390\n"
          ]
        },
        {
          "name": "stderr",
          "output_type": "stream",
          "text": [
            "\r 39%|███▉      | 391/1000 [22:46<35:25,  3.49s/it]"
          ]
        },
        {
          "name": "stdout",
          "output_type": "stream",
          "text": [
            "Training loss: 0.0017\n",
            "Training metric: 0.9326\n",
            "perturbation loss: 0.0117\n",
            "Validation acc: 0.9219\n",
            "\n",
            "Start of epoch 391\n"
          ]
        },
        {
          "name": "stderr",
          "output_type": "stream",
          "text": [
            "\r 39%|███▉      | 392/1000 [22:50<35:21,  3.49s/it]"
          ]
        },
        {
          "name": "stdout",
          "output_type": "stream",
          "text": [
            "Training loss: 0.1047\n",
            "Training metric: 0.9327\n",
            "perturbation loss: 0.0823\n",
            "Validation acc: 0.8984\n",
            "\n",
            "Start of epoch 392\n"
          ]
        },
        {
          "name": "stderr",
          "output_type": "stream",
          "text": [
            "\r 39%|███▉      | 393/1000 [22:53<35:17,  3.49s/it]"
          ]
        },
        {
          "name": "stdout",
          "output_type": "stream",
          "text": [
            "Training loss: 0.0330\n",
            "Training metric: 0.9329\n",
            "perturbation loss: 0.0581\n",
            "Validation acc: 0.9062\n",
            "\n",
            "Start of epoch 393\n"
          ]
        },
        {
          "name": "stderr",
          "output_type": "stream",
          "text": [
            "\r 39%|███▉      | 394/1000 [22:57<35:14,  3.49s/it]"
          ]
        },
        {
          "name": "stdout",
          "output_type": "stream",
          "text": [
            "Training loss: 0.0001\n",
            "Training metric: 0.9330\n",
            "perturbation loss: 0.0014\n",
            "Validation acc: 0.9375\n",
            "\n",
            "Start of epoch 394\n"
          ]
        },
        {
          "name": "stderr",
          "output_type": "stream",
          "text": [
            "\r 40%|███▉      | 395/1000 [23:00<35:11,  3.49s/it]"
          ]
        },
        {
          "name": "stdout",
          "output_type": "stream",
          "text": [
            "Training loss: 0.0074\n",
            "Training metric: 0.9332\n",
            "perturbation loss: 0.0247\n",
            "Validation acc: 0.9453\n",
            "\n",
            "Start of epoch 395\n"
          ]
        },
        {
          "name": "stderr",
          "output_type": "stream",
          "text": [
            "\r 40%|███▉      | 396/1000 [23:04<35:08,  3.49s/it]"
          ]
        },
        {
          "name": "stdout",
          "output_type": "stream",
          "text": [
            "Training loss: 0.0015\n",
            "Training metric: 0.9334\n",
            "perturbation loss: 0.0070\n",
            "Validation acc: 0.9531\n",
            "\n",
            "Start of epoch 396\n"
          ]
        },
        {
          "name": "stderr",
          "output_type": "stream",
          "text": [
            "\r 40%|███▉      | 397/1000 [23:07<35:03,  3.49s/it]"
          ]
        },
        {
          "name": "stdout",
          "output_type": "stream",
          "text": [
            "Training loss: 0.0006\n",
            "Training metric: 0.9335\n",
            "perturbation loss: 0.0025\n",
            "Validation acc: 0.9375\n",
            "\n",
            "Start of epoch 397\n"
          ]
        },
        {
          "name": "stderr",
          "output_type": "stream",
          "text": [
            "\r 40%|███▉      | 398/1000 [23:11<35:01,  3.49s/it]"
          ]
        },
        {
          "name": "stdout",
          "output_type": "stream",
          "text": [
            "Training loss: 0.0003\n",
            "Training metric: 0.9337\n",
            "perturbation loss: 0.0013\n",
            "Validation acc: 0.9609\n",
            "\n",
            "Start of epoch 398\n"
          ]
        },
        {
          "name": "stderr",
          "output_type": "stream",
          "text": [
            "\r 40%|███▉      | 399/1000 [23:14<34:57,  3.49s/it]"
          ]
        },
        {
          "name": "stdout",
          "output_type": "stream",
          "text": [
            "Training loss: 0.0001\n",
            "Training metric: 0.9339\n",
            "perturbation loss: 0.0005\n",
            "Validation acc: 0.9531\n",
            "\n",
            "Start of epoch 399\n"
          ]
        },
        {
          "name": "stderr",
          "output_type": "stream",
          "text": [
            "\r 40%|████      | 400/1000 [23:18<34:54,  3.49s/it]"
          ]
        },
        {
          "name": "stdout",
          "output_type": "stream",
          "text": [
            "Training loss: 0.0075\n",
            "Training metric: 0.9340\n",
            "perturbation loss: 0.0187\n",
            "Validation acc: 0.9531\n",
            "\n",
            "Start of epoch 400\n"
          ]
        },
        {
          "name": "stderr",
          "output_type": "stream",
          "text": [
            "\r 40%|████      | 401/1000 [23:21<34:51,  3.49s/it]"
          ]
        },
        {
          "name": "stdout",
          "output_type": "stream",
          "text": [
            "Training loss: 0.0022\n",
            "Training metric: 0.9342\n",
            "perturbation loss: 0.0155\n",
            "Validation acc: 0.9531\n",
            "\n",
            "Start of epoch 401\n"
          ]
        },
        {
          "name": "stderr",
          "output_type": "stream",
          "text": [
            "\r 40%|████      | 402/1000 [23:25<34:47,  3.49s/it]"
          ]
        },
        {
          "name": "stdout",
          "output_type": "stream",
          "text": [
            "Training loss: 0.0006\n",
            "Training metric: 0.9343\n",
            "perturbation loss: 0.0080\n",
            "Validation acc: 0.9297\n",
            "\n",
            "Start of epoch 402\n"
          ]
        },
        {
          "name": "stderr",
          "output_type": "stream",
          "text": [
            "\r 40%|████      | 403/1000 [23:28<34:43,  3.49s/it]"
          ]
        },
        {
          "name": "stdout",
          "output_type": "stream",
          "text": [
            "Training loss: 0.0022\n",
            "Training metric: 0.9345\n",
            "perturbation loss: 0.0203\n",
            "Validation acc: 0.9453\n",
            "\n",
            "Start of epoch 403\n"
          ]
        },
        {
          "name": "stderr",
          "output_type": "stream",
          "text": [
            "\r 40%|████      | 404/1000 [23:32<34:41,  3.49s/it]"
          ]
        },
        {
          "name": "stdout",
          "output_type": "stream",
          "text": [
            "Training loss: 0.0007\n",
            "Training metric: 0.9347\n",
            "perturbation loss: 0.0072\n",
            "Validation acc: 0.9531\n",
            "\n",
            "Start of epoch 404\n"
          ]
        },
        {
          "name": "stderr",
          "output_type": "stream",
          "text": [
            "\r 40%|████      | 405/1000 [23:35<34:37,  3.49s/it]"
          ]
        },
        {
          "name": "stdout",
          "output_type": "stream",
          "text": [
            "Training loss: 0.0001\n",
            "Training metric: 0.9348\n",
            "perturbation loss: 0.0011\n",
            "Validation acc: 0.9531\n",
            "\n",
            "Start of epoch 405\n"
          ]
        },
        {
          "name": "stderr",
          "output_type": "stream",
          "text": [
            "\r 41%|████      | 406/1000 [23:39<34:33,  3.49s/it]"
          ]
        },
        {
          "name": "stdout",
          "output_type": "stream",
          "text": [
            "Training loss: 0.0001\n",
            "Training metric: 0.9350\n",
            "perturbation loss: 0.0005\n",
            "Validation acc: 0.9531\n",
            "\n",
            "Start of epoch 406\n"
          ]
        },
        {
          "name": "stderr",
          "output_type": "stream",
          "text": [
            "\r 41%|████      | 407/1000 [23:42<34:28,  3.49s/it]"
          ]
        },
        {
          "name": "stdout",
          "output_type": "stream",
          "text": [
            "Training loss: 0.0001\n",
            "Training metric: 0.9351\n",
            "perturbation loss: 0.0005\n",
            "Validation acc: 0.9531\n",
            "\n",
            "Start of epoch 407\n"
          ]
        },
        {
          "name": "stderr",
          "output_type": "stream",
          "text": [
            "\r 41%|████      | 408/1000 [23:46<34:33,  3.50s/it]"
          ]
        },
        {
          "name": "stdout",
          "output_type": "stream",
          "text": [
            "Training loss: 0.0008\n",
            "Training metric: 0.9353\n",
            "perturbation loss: 0.0033\n",
            "Validation acc: 0.9453\n",
            "\n",
            "Start of epoch 408\n"
          ]
        },
        {
          "name": "stderr",
          "output_type": "stream",
          "text": [
            "\r 41%|████      | 409/1000 [23:49<34:29,  3.50s/it]"
          ]
        },
        {
          "name": "stdout",
          "output_type": "stream",
          "text": [
            "Training loss: 0.0002\n",
            "Training metric: 0.9355\n",
            "perturbation loss: 0.0009\n",
            "Validation acc: 0.9453\n",
            "\n",
            "Start of epoch 409\n"
          ]
        },
        {
          "name": "stderr",
          "output_type": "stream",
          "text": [
            "\r 41%|████      | 410/1000 [23:53<34:24,  3.50s/it]"
          ]
        },
        {
          "name": "stdout",
          "output_type": "stream",
          "text": [
            "Training loss: 0.0007\n",
            "Training metric: 0.9356\n",
            "perturbation loss: 0.0029\n",
            "Validation acc: 0.9453\n",
            "\n",
            "Start of epoch 410\n"
          ]
        },
        {
          "name": "stderr",
          "output_type": "stream",
          "text": [
            "\r 41%|████      | 411/1000 [23:56<34:18,  3.50s/it]"
          ]
        },
        {
          "name": "stdout",
          "output_type": "stream",
          "text": [
            "Training loss: 0.0003\n",
            "Training metric: 0.9358\n",
            "perturbation loss: 0.0017\n",
            "Validation acc: 0.9453\n",
            "\n",
            "Start of epoch 411\n"
          ]
        },
        {
          "name": "stderr",
          "output_type": "stream",
          "text": [
            "\r 41%|████      | 412/1000 [24:00<34:14,  3.49s/it]"
          ]
        },
        {
          "name": "stdout",
          "output_type": "stream",
          "text": [
            "Training loss: 0.0002\n",
            "Training metric: 0.9359\n",
            "perturbation loss: 0.0013\n",
            "Validation acc: 0.9531\n",
            "\n",
            "Start of epoch 412\n"
          ]
        },
        {
          "name": "stderr",
          "output_type": "stream",
          "text": [
            "\r 41%|████▏     | 413/1000 [24:03<34:10,  3.49s/it]"
          ]
        },
        {
          "name": "stdout",
          "output_type": "stream",
          "text": [
            "Training loss: 0.0004\n",
            "Training metric: 0.9361\n",
            "perturbation loss: 0.0045\n",
            "Validation acc: 0.9609\n",
            "\n",
            "Start of epoch 413\n"
          ]
        },
        {
          "name": "stderr",
          "output_type": "stream",
          "text": [
            "\r 41%|████▏     | 414/1000 [24:07<34:07,  3.49s/it]"
          ]
        },
        {
          "name": "stdout",
          "output_type": "stream",
          "text": [
            "Training loss: 0.0002\n",
            "Training metric: 0.9362\n",
            "perturbation loss: 0.0011\n",
            "Validation acc: 0.9609\n",
            "\n",
            "Start of epoch 414\n"
          ]
        },
        {
          "name": "stderr",
          "output_type": "stream",
          "text": [
            "\r 42%|████▏     | 415/1000 [24:10<34:05,  3.50s/it]"
          ]
        },
        {
          "name": "stdout",
          "output_type": "stream",
          "text": [
            "Training loss: 0.0010\n",
            "Training metric: 0.9364\n",
            "perturbation loss: 0.0056\n",
            "Validation acc: 0.9688\n",
            "\n",
            "Start of epoch 415\n"
          ]
        },
        {
          "name": "stderr",
          "output_type": "stream",
          "text": [
            "\r 42%|████▏     | 416/1000 [24:13<34:00,  3.49s/it]"
          ]
        },
        {
          "name": "stdout",
          "output_type": "stream",
          "text": [
            "Training loss: 0.0015\n",
            "Training metric: 0.9365\n",
            "perturbation loss: 0.0183\n",
            "Validation acc: 0.9531\n",
            "\n",
            "Start of epoch 416\n"
          ]
        },
        {
          "name": "stderr",
          "output_type": "stream",
          "text": [
            "\r 42%|████▏     | 417/1000 [24:17<33:55,  3.49s/it]"
          ]
        },
        {
          "name": "stdout",
          "output_type": "stream",
          "text": [
            "Training loss: 0.0022\n",
            "Training metric: 0.9367\n",
            "perturbation loss: 0.0167\n",
            "Validation acc: 0.9375\n",
            "\n",
            "Start of epoch 417\n"
          ]
        },
        {
          "name": "stderr",
          "output_type": "stream",
          "text": [
            "\r 42%|████▏     | 418/1000 [24:20<33:51,  3.49s/it]"
          ]
        },
        {
          "name": "stdout",
          "output_type": "stream",
          "text": [
            "Training loss: 0.0004\n",
            "Training metric: 0.9368\n",
            "perturbation loss: 0.0023\n",
            "Validation acc: 0.9219\n",
            "\n",
            "Start of epoch 418\n"
          ]
        },
        {
          "name": "stderr",
          "output_type": "stream",
          "text": [
            "\r 42%|████▏     | 419/1000 [24:24<33:47,  3.49s/it]"
          ]
        },
        {
          "name": "stdout",
          "output_type": "stream",
          "text": [
            "Training loss: 0.0342\n",
            "Training metric: 0.9370\n",
            "perturbation loss: 0.0361\n",
            "Validation acc: 0.9375\n",
            "\n",
            "Start of epoch 419\n"
          ]
        },
        {
          "name": "stderr",
          "output_type": "stream",
          "text": [
            "\r 42%|████▏     | 420/1000 [24:27<33:43,  3.49s/it]"
          ]
        },
        {
          "name": "stdout",
          "output_type": "stream",
          "text": [
            "Training loss: 0.0006\n",
            "Training metric: 0.9371\n",
            "perturbation loss: 0.0034\n",
            "Validation acc: 0.9453\n",
            "\n",
            "Start of epoch 420\n"
          ]
        },
        {
          "name": "stderr",
          "output_type": "stream",
          "text": [
            "\r 42%|████▏     | 421/1000 [24:31<33:40,  3.49s/it]"
          ]
        },
        {
          "name": "stdout",
          "output_type": "stream",
          "text": [
            "Training loss: 0.0004\n",
            "Training metric: 0.9373\n",
            "perturbation loss: 0.0023\n",
            "Validation acc: 0.9609\n",
            "\n",
            "Start of epoch 421\n"
          ]
        },
        {
          "name": "stderr",
          "output_type": "stream",
          "text": [
            "\r 42%|████▏     | 422/1000 [24:34<33:37,  3.49s/it]"
          ]
        },
        {
          "name": "stdout",
          "output_type": "stream",
          "text": [
            "Training loss: 0.0006\n",
            "Training metric: 0.9374\n",
            "perturbation loss: 0.0040\n",
            "Validation acc: 0.9531\n",
            "\n",
            "Start of epoch 422\n"
          ]
        },
        {
          "name": "stderr",
          "output_type": "stream",
          "text": [
            "\r 42%|████▏     | 423/1000 [24:38<33:34,  3.49s/it]"
          ]
        },
        {
          "name": "stdout",
          "output_type": "stream",
          "text": [
            "Training loss: 0.0003\n",
            "Training metric: 0.9376\n",
            "perturbation loss: 0.0022\n",
            "Validation acc: 0.9453\n",
            "\n",
            "Start of epoch 423\n"
          ]
        },
        {
          "name": "stderr",
          "output_type": "stream",
          "text": [
            "\r 42%|████▏     | 424/1000 [24:41<33:31,  3.49s/it]"
          ]
        },
        {
          "name": "stdout",
          "output_type": "stream",
          "text": [
            "Training loss: 0.0005\n",
            "Training metric: 0.9377\n",
            "perturbation loss: 0.0031\n",
            "Validation acc: 0.9531\n",
            "\n",
            "Start of epoch 424\n"
          ]
        },
        {
          "name": "stderr",
          "output_type": "stream",
          "text": [
            "\r 42%|████▎     | 425/1000 [24:45<33:27,  3.49s/it]"
          ]
        },
        {
          "name": "stdout",
          "output_type": "stream",
          "text": [
            "Training loss: 0.0002\n",
            "Training metric: 0.9378\n",
            "perturbation loss: 0.0014\n",
            "Validation acc: 0.9688\n",
            "\n",
            "Start of epoch 425\n"
          ]
        },
        {
          "name": "stderr",
          "output_type": "stream",
          "text": [
            "\r 43%|████▎     | 426/1000 [24:48<33:26,  3.50s/it]"
          ]
        },
        {
          "name": "stdout",
          "output_type": "stream",
          "text": [
            "Training loss: 0.0007\n",
            "Training metric: 0.9380\n",
            "perturbation loss: 0.0031\n",
            "Validation acc: 0.9688\n",
            "\n",
            "Start of epoch 426\n"
          ]
        },
        {
          "name": "stderr",
          "output_type": "stream",
          "text": [
            "\r 43%|████▎     | 427/1000 [24:52<33:22,  3.50s/it]"
          ]
        },
        {
          "name": "stdout",
          "output_type": "stream",
          "text": [
            "Training loss: 0.0000\n",
            "Training metric: 0.9381\n",
            "perturbation loss: 0.0003\n",
            "Validation acc: 0.9688\n",
            "\n",
            "Start of epoch 427\n"
          ]
        },
        {
          "name": "stderr",
          "output_type": "stream",
          "text": [
            "\r 43%|████▎     | 428/1000 [24:55<33:18,  3.49s/it]"
          ]
        },
        {
          "name": "stdout",
          "output_type": "stream",
          "text": [
            "Training loss: 0.0001\n",
            "Training metric: 0.9383\n",
            "perturbation loss: 0.0002\n",
            "Validation acc: 0.9609\n",
            "\n",
            "Start of epoch 428\n"
          ]
        },
        {
          "name": "stderr",
          "output_type": "stream",
          "text": [
            "\r 43%|████▎     | 429/1000 [24:59<33:14,  3.49s/it]"
          ]
        },
        {
          "name": "stdout",
          "output_type": "stream",
          "text": [
            "Training loss: 0.0000\n",
            "Training metric: 0.9384\n",
            "perturbation loss: 0.0002\n",
            "Validation acc: 0.9609\n",
            "\n",
            "Start of epoch 429\n"
          ]
        },
        {
          "name": "stderr",
          "output_type": "stream",
          "text": [
            "\r 43%|████▎     | 430/1000 [25:02<33:10,  3.49s/it]"
          ]
        },
        {
          "name": "stdout",
          "output_type": "stream",
          "text": [
            "Training loss: 0.0002\n",
            "Training metric: 0.9386\n",
            "perturbation loss: 0.0012\n",
            "Validation acc: 0.9609\n",
            "\n",
            "Start of epoch 430\n"
          ]
        },
        {
          "name": "stderr",
          "output_type": "stream",
          "text": [
            "\r 43%|████▎     | 431/1000 [25:06<33:06,  3.49s/it]"
          ]
        },
        {
          "name": "stdout",
          "output_type": "stream",
          "text": [
            "Training loss: 0.0012\n",
            "Training metric: 0.9387\n",
            "perturbation loss: 0.0027\n",
            "Validation acc: 0.9375\n",
            "\n",
            "Start of epoch 431\n"
          ]
        },
        {
          "name": "stderr",
          "output_type": "stream",
          "text": [
            "\r 43%|████▎     | 432/1000 [25:09<33:01,  3.49s/it]"
          ]
        },
        {
          "name": "stdout",
          "output_type": "stream",
          "text": [
            "Training loss: 0.0068\n",
            "Training metric: 0.9388\n",
            "perturbation loss: 0.1307\n",
            "Validation acc: 0.9375\n",
            "\n",
            "Start of epoch 432\n"
          ]
        },
        {
          "name": "stderr",
          "output_type": "stream",
          "text": [
            "\r 43%|████▎     | 433/1000 [25:13<32:59,  3.49s/it]"
          ]
        },
        {
          "name": "stdout",
          "output_type": "stream",
          "text": [
            "Training loss: 0.0002\n",
            "Training metric: 0.9390\n",
            "perturbation loss: 0.0014\n",
            "Validation acc: 0.9453\n",
            "\n",
            "Start of epoch 433\n"
          ]
        },
        {
          "name": "stderr",
          "output_type": "stream",
          "text": [
            "\r 43%|████▎     | 434/1000 [25:16<32:54,  3.49s/it]"
          ]
        },
        {
          "name": "stdout",
          "output_type": "stream",
          "text": [
            "Training loss: 0.0011\n",
            "Training metric: 0.9391\n",
            "perturbation loss: 0.0076\n",
            "Validation acc: 0.9766\n",
            "\n",
            "Start of epoch 434\n"
          ]
        },
        {
          "name": "stderr",
          "output_type": "stream",
          "text": [
            "\r 44%|████▎     | 435/1000 [25:20<32:50,  3.49s/it]"
          ]
        },
        {
          "name": "stdout",
          "output_type": "stream",
          "text": [
            "Training loss: 0.0006\n",
            "Training metric: 0.9392\n",
            "perturbation loss: 0.0032\n",
            "Validation acc: 0.9688\n",
            "\n",
            "Start of epoch 435\n"
          ]
        },
        {
          "name": "stderr",
          "output_type": "stream",
          "text": [
            "\r 44%|████▎     | 436/1000 [25:23<32:47,  3.49s/it]"
          ]
        },
        {
          "name": "stdout",
          "output_type": "stream",
          "text": [
            "Training loss: 0.0004\n",
            "Training metric: 0.9394\n",
            "perturbation loss: 0.0022\n",
            "Validation acc: 0.9688\n",
            "\n",
            "Start of epoch 436\n"
          ]
        },
        {
          "name": "stderr",
          "output_type": "stream",
          "text": [
            "\r 44%|████▎     | 437/1000 [25:27<32:43,  3.49s/it]"
          ]
        },
        {
          "name": "stdout",
          "output_type": "stream",
          "text": [
            "Training loss: 0.0032\n",
            "Training metric: 0.9395\n",
            "perturbation loss: 0.0052\n",
            "Validation acc: 0.9688\n",
            "\n",
            "Start of epoch 437\n"
          ]
        },
        {
          "name": "stderr",
          "output_type": "stream",
          "text": [
            "\r 44%|████▍     | 438/1000 [25:30<32:39,  3.49s/it]"
          ]
        },
        {
          "name": "stdout",
          "output_type": "stream",
          "text": [
            "Training loss: 0.0003\n",
            "Training metric: 0.9396\n",
            "perturbation loss: 0.0026\n",
            "Validation acc: 0.9688\n",
            "\n",
            "Start of epoch 438\n"
          ]
        },
        {
          "name": "stderr",
          "output_type": "stream",
          "text": [
            "\r 44%|████▍     | 439/1000 [25:34<32:36,  3.49s/it]"
          ]
        },
        {
          "name": "stdout",
          "output_type": "stream",
          "text": [
            "Training loss: 0.0003\n",
            "Training metric: 0.9398\n",
            "perturbation loss: 0.0045\n",
            "Validation acc: 0.9688\n",
            "\n",
            "Start of epoch 439\n"
          ]
        },
        {
          "name": "stderr",
          "output_type": "stream",
          "text": [
            "\r 44%|████▍     | 440/1000 [25:37<32:33,  3.49s/it]"
          ]
        },
        {
          "name": "stdout",
          "output_type": "stream",
          "text": [
            "Training loss: 0.0002\n",
            "Training metric: 0.9399\n",
            "perturbation loss: 0.0033\n",
            "Validation acc: 0.9688\n",
            "\n",
            "Start of epoch 440\n"
          ]
        },
        {
          "name": "stderr",
          "output_type": "stream",
          "text": [
            "\r 44%|████▍     | 441/1000 [25:41<32:29,  3.49s/it]"
          ]
        },
        {
          "name": "stdout",
          "output_type": "stream",
          "text": [
            "Training loss: 0.0002\n",
            "Training metric: 0.9400\n",
            "perturbation loss: 0.0012\n",
            "Validation acc: 0.9688\n",
            "\n",
            "Start of epoch 441\n"
          ]
        },
        {
          "name": "stderr",
          "output_type": "stream",
          "text": [
            "\r 44%|████▍     | 442/1000 [25:44<32:26,  3.49s/it]"
          ]
        },
        {
          "name": "stdout",
          "output_type": "stream",
          "text": [
            "Training loss: 0.0001\n",
            "Training metric: 0.9402\n",
            "perturbation loss: 0.0008\n",
            "Validation acc: 0.9688\n",
            "\n",
            "Start of epoch 442\n"
          ]
        },
        {
          "name": "stderr",
          "output_type": "stream",
          "text": [
            "\r 44%|████▍     | 443/1000 [25:48<32:22,  3.49s/it]"
          ]
        },
        {
          "name": "stdout",
          "output_type": "stream",
          "text": [
            "Training loss: 0.0008\n",
            "Training metric: 0.9403\n",
            "perturbation loss: 0.0038\n",
            "Validation acc: 0.9766\n",
            "\n",
            "Start of epoch 443\n"
          ]
        },
        {
          "name": "stderr",
          "output_type": "stream",
          "text": [
            "\r 44%|████▍     | 444/1000 [25:51<32:19,  3.49s/it]"
          ]
        },
        {
          "name": "stdout",
          "output_type": "stream",
          "text": [
            "Training loss: 0.0000\n",
            "Training metric: 0.9404\n",
            "perturbation loss: 0.0001\n",
            "Validation acc: 0.9844\n",
            "\n",
            "Start of epoch 444\n"
          ]
        },
        {
          "name": "stderr",
          "output_type": "stream",
          "text": [
            "\r 44%|████▍     | 445/1000 [25:55<32:15,  3.49s/it]"
          ]
        },
        {
          "name": "stdout",
          "output_type": "stream",
          "text": [
            "Training loss: 0.0000\n",
            "Training metric: 0.9406\n",
            "perturbation loss: 0.0001\n",
            "Validation acc: 0.9766\n",
            "\n",
            "Start of epoch 445\n"
          ]
        },
        {
          "name": "stderr",
          "output_type": "stream",
          "text": [
            "\r 45%|████▍     | 446/1000 [25:58<32:12,  3.49s/it]"
          ]
        },
        {
          "name": "stdout",
          "output_type": "stream",
          "text": [
            "Training loss: 0.0004\n",
            "Training metric: 0.9407\n",
            "perturbation loss: 0.0025\n",
            "Validation acc: 0.9688\n",
            "\n",
            "Start of epoch 446\n"
          ]
        },
        {
          "name": "stderr",
          "output_type": "stream",
          "text": [
            "\r 45%|████▍     | 447/1000 [26:02<32:10,  3.49s/it]"
          ]
        },
        {
          "name": "stdout",
          "output_type": "stream",
          "text": [
            "Training loss: 0.0001\n",
            "Training metric: 0.9408\n",
            "perturbation loss: 0.0006\n",
            "Validation acc: 0.9766\n",
            "\n",
            "Start of epoch 447\n"
          ]
        },
        {
          "name": "stderr",
          "output_type": "stream",
          "text": [
            "\r 45%|████▍     | 448/1000 [26:05<32:06,  3.49s/it]"
          ]
        },
        {
          "name": "stdout",
          "output_type": "stream",
          "text": [
            "Training loss: 0.0000\n",
            "Training metric: 0.9410\n",
            "perturbation loss: 0.0002\n",
            "Validation acc: 0.9766\n",
            "\n",
            "Start of epoch 448\n"
          ]
        },
        {
          "name": "stderr",
          "output_type": "stream",
          "text": [
            "\r 45%|████▍     | 449/1000 [26:09<32:02,  3.49s/it]"
          ]
        },
        {
          "name": "stdout",
          "output_type": "stream",
          "text": [
            "Training loss: 0.0000\n",
            "Training metric: 0.9411\n",
            "perturbation loss: 0.0001\n",
            "Validation acc: 0.9766\n",
            "\n",
            "Start of epoch 449\n"
          ]
        },
        {
          "name": "stderr",
          "output_type": "stream",
          "text": [
            "\r 45%|████▌     | 450/1000 [26:12<31:59,  3.49s/it]"
          ]
        },
        {
          "name": "stdout",
          "output_type": "stream",
          "text": [
            "Training loss: 0.0002\n",
            "Training metric: 0.9412\n",
            "perturbation loss: 0.0006\n",
            "Validation acc: 0.9688\n",
            "\n",
            "Start of epoch 450\n"
          ]
        },
        {
          "name": "stderr",
          "output_type": "stream",
          "text": [
            "\r 45%|████▌     | 451/1000 [26:16<32:01,  3.50s/it]"
          ]
        },
        {
          "name": "stdout",
          "output_type": "stream",
          "text": [
            "Training loss: 0.0000\n",
            "Training metric: 0.9414\n",
            "perturbation loss: 0.0003\n",
            "Validation acc: 0.9844\n",
            "\n",
            "Start of epoch 451\n"
          ]
        },
        {
          "name": "stderr",
          "output_type": "stream",
          "text": [
            "\r 45%|████▌     | 452/1000 [26:19<31:55,  3.50s/it]"
          ]
        },
        {
          "name": "stdout",
          "output_type": "stream",
          "text": [
            "Training loss: 0.0001\n",
            "Training metric: 0.9415\n",
            "perturbation loss: 0.0007\n",
            "Validation acc: 0.9766\n",
            "\n",
            "Start of epoch 452\n"
          ]
        },
        {
          "name": "stderr",
          "output_type": "stream",
          "text": [
            "\r 45%|████▌     | 453/1000 [26:23<31:50,  3.49s/it]"
          ]
        },
        {
          "name": "stdout",
          "output_type": "stream",
          "text": [
            "Training loss: 0.0004\n",
            "Training metric: 0.9416\n",
            "perturbation loss: 0.0022\n",
            "Validation acc: 0.9844\n",
            "\n",
            "Start of epoch 453\n"
          ]
        },
        {
          "name": "stderr",
          "output_type": "stream",
          "text": [
            "\r 45%|████▌     | 454/1000 [26:26<31:46,  3.49s/it]"
          ]
        },
        {
          "name": "stdout",
          "output_type": "stream",
          "text": [
            "Training loss: 0.0001\n",
            "Training metric: 0.9418\n",
            "perturbation loss: 0.0007\n",
            "Validation acc: 0.9688\n",
            "\n",
            "Start of epoch 454\n"
          ]
        },
        {
          "name": "stderr",
          "output_type": "stream",
          "text": [
            "\r 46%|████▌     | 455/1000 [26:30<31:43,  3.49s/it]"
          ]
        },
        {
          "name": "stdout",
          "output_type": "stream",
          "text": [
            "Training loss: 0.0000\n",
            "Training metric: 0.9419\n",
            "perturbation loss: 0.0001\n",
            "Validation acc: 0.9531\n",
            "\n",
            "Start of epoch 455\n"
          ]
        },
        {
          "name": "stderr",
          "output_type": "stream",
          "text": [
            "\r 46%|████▌     | 456/1000 [26:33<31:39,  3.49s/it]"
          ]
        },
        {
          "name": "stdout",
          "output_type": "stream",
          "text": [
            "Training loss: 0.0000\n",
            "Training metric: 0.9420\n",
            "perturbation loss: 0.0002\n",
            "Validation acc: 0.9766\n",
            "\n",
            "Start of epoch 456\n"
          ]
        },
        {
          "name": "stderr",
          "output_type": "stream",
          "text": [
            "\r 46%|████▌     | 457/1000 [26:37<31:35,  3.49s/it]"
          ]
        },
        {
          "name": "stdout",
          "output_type": "stream",
          "text": [
            "Training loss: 0.0001\n",
            "Training metric: 0.9421\n",
            "perturbation loss: 0.0008\n",
            "Validation acc: 0.9453\n",
            "\n",
            "Start of epoch 457\n"
          ]
        },
        {
          "name": "stderr",
          "output_type": "stream",
          "text": [
            "\r 46%|████▌     | 458/1000 [26:40<31:33,  3.49s/it]"
          ]
        },
        {
          "name": "stdout",
          "output_type": "stream",
          "text": [
            "Training loss: 0.0001\n",
            "Training metric: 0.9423\n",
            "perturbation loss: 0.0002\n",
            "Validation acc: 0.9688\n",
            "\n",
            "Start of epoch 458\n"
          ]
        },
        {
          "name": "stderr",
          "output_type": "stream",
          "text": [
            "\r 46%|████▌     | 459/1000 [26:44<31:29,  3.49s/it]"
          ]
        },
        {
          "name": "stdout",
          "output_type": "stream",
          "text": [
            "Training loss: 0.0001\n",
            "Training metric: 0.9424\n",
            "perturbation loss: 0.0014\n",
            "Validation acc: 0.9297\n",
            "\n",
            "Start of epoch 459\n"
          ]
        },
        {
          "name": "stderr",
          "output_type": "stream",
          "text": [
            "\r 46%|████▌     | 460/1000 [26:47<31:24,  3.49s/it]"
          ]
        },
        {
          "name": "stdout",
          "output_type": "stream",
          "text": [
            "Training loss: 0.0581\n",
            "Training metric: 0.9425\n",
            "perturbation loss: 0.0438\n",
            "Validation acc: 0.9609\n",
            "\n",
            "Start of epoch 460\n"
          ]
        },
        {
          "name": "stderr",
          "output_type": "stream",
          "text": [
            "\r 46%|████▌     | 461/1000 [26:51<31:21,  3.49s/it]"
          ]
        },
        {
          "name": "stdout",
          "output_type": "stream",
          "text": [
            "Training loss: 0.0014\n",
            "Training metric: 0.9426\n",
            "perturbation loss: 0.0041\n",
            "Validation acc: 0.9531\n",
            "\n",
            "Start of epoch 461\n"
          ]
        },
        {
          "name": "stderr",
          "output_type": "stream",
          "text": [
            "\r 46%|████▌     | 462/1000 [26:54<31:17,  3.49s/it]"
          ]
        },
        {
          "name": "stdout",
          "output_type": "stream",
          "text": [
            "Training loss: 0.0057\n",
            "Training metric: 0.9427\n",
            "perturbation loss: 0.0139\n",
            "Validation acc: 0.9609\n",
            "\n",
            "Start of epoch 462\n"
          ]
        },
        {
          "name": "stderr",
          "output_type": "stream",
          "text": [
            "\r 46%|████▋     | 463/1000 [26:58<31:14,  3.49s/it]"
          ]
        },
        {
          "name": "stdout",
          "output_type": "stream",
          "text": [
            "Training loss: 0.0005\n",
            "Training metric: 0.9428\n",
            "perturbation loss: 0.0013\n",
            "Validation acc: 0.9609\n",
            "\n",
            "Start of epoch 463\n"
          ]
        },
        {
          "name": "stderr",
          "output_type": "stream",
          "text": [
            "\r 46%|████▋     | 464/1000 [27:01<31:11,  3.49s/it]"
          ]
        },
        {
          "name": "stdout",
          "output_type": "stream",
          "text": [
            "Training loss: nan\n",
            "Training metric: 0.9421\n",
            "perturbation loss: nan\n",
            "Validation acc: 0.1953\n",
            "\n",
            "Start of epoch 464\n"
          ]
        },
        {
          "name": "stderr",
          "output_type": "stream",
          "text": [
            "\r 46%|████▋     | 465/1000 [27:05<31:07,  3.49s/it]"
          ]
        },
        {
          "name": "stdout",
          "output_type": "stream",
          "text": [
            "Training loss: nan\n",
            "Training metric: 0.9405\n",
            "perturbation loss: nan\n",
            "Validation acc: 0.1953\n",
            "\n",
            "Start of epoch 465\n"
          ]
        },
        {
          "name": "stderr",
          "output_type": "stream",
          "text": [
            "\r 47%|████▋     | 466/1000 [27:08<31:02,  3.49s/it]"
          ]
        },
        {
          "name": "stdout",
          "output_type": "stream",
          "text": [
            "Training loss: nan\n",
            "Training metric: 0.9390\n",
            "perturbation loss: nan\n",
            "Validation acc: 0.1953\n",
            "\n",
            "Start of epoch 466\n"
          ]
        },
        {
          "name": "stderr",
          "output_type": "stream",
          "text": [
            "\r 47%|████▋     | 467/1000 [27:11<30:58,  3.49s/it]"
          ]
        },
        {
          "name": "stdout",
          "output_type": "stream",
          "text": [
            "Training loss: nan\n",
            "Training metric: 0.9374\n",
            "perturbation loss: nan\n",
            "Validation acc: 0.1953\n",
            "\n",
            "Start of epoch 467\n"
          ]
        },
        {
          "name": "stderr",
          "output_type": "stream",
          "text": [
            "\r 47%|████▋     | 468/1000 [27:15<30:53,  3.48s/it]"
          ]
        },
        {
          "name": "stdout",
          "output_type": "stream",
          "text": [
            "Training loss: nan\n",
            "Training metric: 0.9358\n",
            "perturbation loss: nan\n",
            "Validation acc: 0.1953\n",
            "\n",
            "Start of epoch 468\n"
          ]
        },
        {
          "name": "stderr",
          "output_type": "stream",
          "text": [
            "\r 47%|████▋     | 469/1000 [27:18<30:49,  3.48s/it]"
          ]
        },
        {
          "name": "stdout",
          "output_type": "stream",
          "text": [
            "Training loss: nan\n",
            "Training metric: 0.9342\n",
            "perturbation loss: nan\n",
            "Validation acc: 0.1953\n",
            "\n",
            "Start of epoch 469\n"
          ]
        },
        {
          "name": "stderr",
          "output_type": "stream",
          "text": [
            "\r 47%|████▋     | 470/1000 [27:22<30:45,  3.48s/it]"
          ]
        },
        {
          "name": "stdout",
          "output_type": "stream",
          "text": [
            "Training loss: nan\n",
            "Training metric: 0.9327\n",
            "perturbation loss: nan\n",
            "Validation acc: 0.1953\n",
            "\n",
            "Start of epoch 470\n"
          ]
        },
        {
          "name": "stderr",
          "output_type": "stream",
          "text": [
            "\r 47%|████▋     | 471/1000 [27:25<30:41,  3.48s/it]"
          ]
        },
        {
          "name": "stdout",
          "output_type": "stream",
          "text": [
            "Training loss: nan\n",
            "Training metric: 0.9311\n",
            "perturbation loss: nan\n",
            "Validation acc: 0.1953\n",
            "\n",
            "Start of epoch 471\n"
          ]
        },
        {
          "name": "stderr",
          "output_type": "stream",
          "text": [
            "\r 47%|████▋     | 472/1000 [27:29<30:39,  3.48s/it]"
          ]
        },
        {
          "name": "stdout",
          "output_type": "stream",
          "text": [
            "Training loss: nan\n",
            "Training metric: 0.9296\n",
            "perturbation loss: nan\n",
            "Validation acc: 0.1953\n",
            "\n",
            "Start of epoch 472\n"
          ]
        },
        {
          "name": "stderr",
          "output_type": "stream",
          "text": [
            "\r 47%|████▋     | 473/1000 [27:32<30:35,  3.48s/it]"
          ]
        },
        {
          "name": "stdout",
          "output_type": "stream",
          "text": [
            "Training loss: nan\n",
            "Training metric: 0.9280\n",
            "perturbation loss: nan\n",
            "Validation acc: 0.1953\n",
            "\n",
            "Start of epoch 473\n"
          ]
        },
        {
          "name": "stderr",
          "output_type": "stream",
          "text": [
            "\r 47%|████▋     | 474/1000 [27:36<30:32,  3.48s/it]"
          ]
        },
        {
          "name": "stdout",
          "output_type": "stream",
          "text": [
            "Training loss: nan\n",
            "Training metric: 0.9265\n",
            "perturbation loss: nan\n",
            "Validation acc: 0.1953\n",
            "\n",
            "Start of epoch 474\n"
          ]
        },
        {
          "name": "stderr",
          "output_type": "stream",
          "text": [
            "\r 48%|████▊     | 475/1000 [27:39<30:29,  3.48s/it]"
          ]
        },
        {
          "name": "stdout",
          "output_type": "stream",
          "text": [
            "Training loss: nan\n",
            "Training metric: 0.9250\n",
            "perturbation loss: nan\n",
            "Validation acc: 0.1953\n",
            "\n",
            "Start of epoch 475\n"
          ]
        },
        {
          "name": "stderr",
          "output_type": "stream",
          "text": [
            "\r 48%|████▊     | 476/1000 [27:43<30:27,  3.49s/it]"
          ]
        },
        {
          "name": "stdout",
          "output_type": "stream",
          "text": [
            "Training loss: nan\n",
            "Training metric: 0.9235\n",
            "perturbation loss: nan\n",
            "Validation acc: 0.1953\n",
            "\n",
            "Start of epoch 476\n"
          ]
        },
        {
          "name": "stderr",
          "output_type": "stream",
          "text": [
            "\r 48%|████▊     | 477/1000 [27:46<30:23,  3.49s/it]"
          ]
        },
        {
          "name": "stdout",
          "output_type": "stream",
          "text": [
            "Training loss: nan\n",
            "Training metric: 0.9219\n",
            "perturbation loss: nan\n",
            "Validation acc: 0.1953\n",
            "\n",
            "Start of epoch 477\n"
          ]
        },
        {
          "name": "stderr",
          "output_type": "stream",
          "text": [
            "\r 48%|████▊     | 478/1000 [27:50<30:19,  3.49s/it]"
          ]
        },
        {
          "name": "stdout",
          "output_type": "stream",
          "text": [
            "Training loss: nan\n",
            "Training metric: 0.9204\n",
            "perturbation loss: nan\n",
            "Validation acc: 0.1953\n",
            "\n",
            "Start of epoch 478\n"
          ]
        },
        {
          "name": "stderr",
          "output_type": "stream",
          "text": [
            "\r 48%|████▊     | 479/1000 [27:53<30:16,  3.49s/it]"
          ]
        },
        {
          "name": "stdout",
          "output_type": "stream",
          "text": [
            "Training loss: nan\n",
            "Training metric: 0.9189\n",
            "perturbation loss: nan\n",
            "Validation acc: 0.1953\n",
            "\n",
            "Start of epoch 479\n"
          ]
        },
        {
          "name": "stderr",
          "output_type": "stream",
          "text": [
            "\r 48%|████▊     | 480/1000 [27:57<30:12,  3.49s/it]"
          ]
        },
        {
          "name": "stdout",
          "output_type": "stream",
          "text": [
            "Training loss: nan\n",
            "Training metric: 0.9174\n",
            "perturbation loss: nan\n",
            "Validation acc: 0.1953\n",
            "\n",
            "Start of epoch 480\n"
          ]
        },
        {
          "name": "stderr",
          "output_type": "stream",
          "text": [
            "\r 48%|████▊     | 481/1000 [28:00<30:09,  3.49s/it]"
          ]
        },
        {
          "name": "stdout",
          "output_type": "stream",
          "text": [
            "Training loss: nan\n",
            "Training metric: 0.9159\n",
            "perturbation loss: nan\n",
            "Validation acc: 0.1953\n",
            "\n",
            "Start of epoch 481\n"
          ]
        },
        {
          "name": "stderr",
          "output_type": "stream",
          "text": [
            "\r 48%|████▊     | 482/1000 [28:04<30:05,  3.49s/it]"
          ]
        },
        {
          "name": "stdout",
          "output_type": "stream",
          "text": [
            "Training loss: nan\n",
            "Training metric: 0.9145\n",
            "perturbation loss: nan\n",
            "Validation acc: 0.1953\n",
            "\n",
            "Start of epoch 482\n"
          ]
        },
        {
          "name": "stderr",
          "output_type": "stream",
          "text": [
            "\r 48%|████▊     | 483/1000 [28:07<30:02,  3.49s/it]"
          ]
        },
        {
          "name": "stdout",
          "output_type": "stream",
          "text": [
            "Training loss: nan\n",
            "Training metric: 0.9130\n",
            "perturbation loss: nan\n",
            "Validation acc: 0.1953\n",
            "\n",
            "Start of epoch 483\n"
          ]
        },
        {
          "name": "stderr",
          "output_type": "stream",
          "text": [
            "\r 48%|████▊     | 484/1000 [28:11<29:58,  3.49s/it]"
          ]
        },
        {
          "name": "stdout",
          "output_type": "stream",
          "text": [
            "Training loss: nan\n",
            "Training metric: 0.9115\n",
            "perturbation loss: nan\n",
            "Validation acc: 0.1953\n",
            "\n",
            "Start of epoch 484\n"
          ]
        },
        {
          "name": "stderr",
          "output_type": "stream",
          "text": [
            "\r 48%|████▊     | 485/1000 [28:14<29:54,  3.48s/it]"
          ]
        },
        {
          "name": "stdout",
          "output_type": "stream",
          "text": [
            "Training loss: nan\n",
            "Training metric: 0.9100\n",
            "perturbation loss: nan\n",
            "Validation acc: 0.1953\n",
            "\n",
            "Start of epoch 485\n"
          ]
        },
        {
          "name": "stderr",
          "output_type": "stream",
          "text": [
            "\r 49%|████▊     | 486/1000 [28:18<29:51,  3.49s/it]"
          ]
        },
        {
          "name": "stdout",
          "output_type": "stream",
          "text": [
            "Training loss: nan\n",
            "Training metric: 0.9086\n",
            "perturbation loss: nan\n",
            "Validation acc: 0.1953\n",
            "\n",
            "Start of epoch 486\n"
          ]
        },
        {
          "name": "stderr",
          "output_type": "stream",
          "text": [
            "\r 49%|████▊     | 487/1000 [28:21<29:47,  3.49s/it]"
          ]
        },
        {
          "name": "stdout",
          "output_type": "stream",
          "text": [
            "Training loss: nan\n",
            "Training metric: 0.9071\n",
            "perturbation loss: nan\n",
            "Validation acc: 0.1953\n",
            "\n",
            "Start of epoch 487\n"
          ]
        },
        {
          "name": "stderr",
          "output_type": "stream",
          "text": [
            "\r 49%|████▉     | 488/1000 [28:25<29:43,  3.48s/it]"
          ]
        },
        {
          "name": "stdout",
          "output_type": "stream",
          "text": [
            "Training loss: nan\n",
            "Training metric: 0.9057\n",
            "perturbation loss: nan\n",
            "Validation acc: 0.1953\n",
            "\n",
            "Start of epoch 488\n"
          ]
        },
        {
          "name": "stderr",
          "output_type": "stream",
          "text": [
            "\r 49%|████▉     | 489/1000 [28:28<29:40,  3.48s/it]"
          ]
        },
        {
          "name": "stdout",
          "output_type": "stream",
          "text": [
            "Training loss: nan\n",
            "Training metric: 0.9042\n",
            "perturbation loss: nan\n",
            "Validation acc: 0.1953\n",
            "\n",
            "Start of epoch 489\n"
          ]
        },
        {
          "name": "stderr",
          "output_type": "stream",
          "text": [
            "\r 49%|████▉     | 490/1000 [28:32<29:37,  3.49s/it]"
          ]
        },
        {
          "name": "stdout",
          "output_type": "stream",
          "text": [
            "Training loss: nan\n",
            "Training metric: 0.9028\n",
            "perturbation loss: nan\n",
            "Validation acc: 0.1953\n",
            "\n",
            "Start of epoch 490\n"
          ]
        },
        {
          "name": "stderr",
          "output_type": "stream",
          "text": [
            "\r 49%|████▉     | 491/1000 [28:35<29:34,  3.49s/it]"
          ]
        },
        {
          "name": "stdout",
          "output_type": "stream",
          "text": [
            "Training loss: nan\n",
            "Training metric: 0.9014\n",
            "perturbation loss: nan\n",
            "Validation acc: 0.1953\n",
            "\n",
            "Start of epoch 491\n"
          ]
        },
        {
          "name": "stderr",
          "output_type": "stream",
          "text": [
            "\r 49%|████▉     | 492/1000 [28:39<29:31,  3.49s/it]"
          ]
        },
        {
          "name": "stdout",
          "output_type": "stream",
          "text": [
            "Training loss: nan\n",
            "Training metric: 0.8999\n",
            "perturbation loss: nan\n",
            "Validation acc: 0.1953\n",
            "\n",
            "Start of epoch 492\n"
          ]
        },
        {
          "name": "stderr",
          "output_type": "stream",
          "text": [
            "\r 49%|████▉     | 493/1000 [28:42<29:26,  3.48s/it]"
          ]
        },
        {
          "name": "stdout",
          "output_type": "stream",
          "text": [
            "Training loss: nan\n",
            "Training metric: 0.8985\n",
            "perturbation loss: nan\n",
            "Validation acc: 0.1953\n",
            "\n",
            "Start of epoch 493\n"
          ]
        },
        {
          "name": "stderr",
          "output_type": "stream",
          "text": [
            "\r 49%|████▉     | 494/1000 [28:46<29:22,  3.48s/it]"
          ]
        },
        {
          "name": "stdout",
          "output_type": "stream",
          "text": [
            "Training loss: nan\n",
            "Training metric: 0.8971\n",
            "perturbation loss: nan\n",
            "Validation acc: 0.1953\n",
            "\n",
            "Start of epoch 494\n"
          ]
        },
        {
          "name": "stderr",
          "output_type": "stream",
          "text": [
            "\r 50%|████▉     | 495/1000 [28:49<29:18,  3.48s/it]"
          ]
        },
        {
          "name": "stdout",
          "output_type": "stream",
          "text": [
            "Training loss: nan\n",
            "Training metric: 0.8957\n",
            "perturbation loss: nan\n",
            "Validation acc: 0.1953\n",
            "\n",
            "Start of epoch 495\n"
          ]
        },
        {
          "name": "stderr",
          "output_type": "stream",
          "text": [
            "\r 50%|████▉     | 496/1000 [28:53<29:15,  3.48s/it]"
          ]
        },
        {
          "name": "stdout",
          "output_type": "stream",
          "text": [
            "Training loss: nan\n",
            "Training metric: 0.8943\n",
            "perturbation loss: nan\n",
            "Validation acc: 0.1953\n",
            "\n",
            "Start of epoch 496\n"
          ]
        },
        {
          "name": "stderr",
          "output_type": "stream",
          "text": [
            "\r 50%|████▉     | 497/1000 [28:56<29:12,  3.48s/it]"
          ]
        },
        {
          "name": "stdout",
          "output_type": "stream",
          "text": [
            "Training loss: nan\n",
            "Training metric: 0.8929\n",
            "perturbation loss: nan\n",
            "Validation acc: 0.1953\n",
            "\n",
            "Start of epoch 497\n"
          ]
        },
        {
          "name": "stderr",
          "output_type": "stream",
          "text": [
            "\r 50%|████▉     | 498/1000 [29:00<29:09,  3.48s/it]"
          ]
        },
        {
          "name": "stdout",
          "output_type": "stream",
          "text": [
            "Training loss: nan\n",
            "Training metric: 0.8915\n",
            "perturbation loss: nan\n",
            "Validation acc: 0.1953\n",
            "\n",
            "Start of epoch 498\n"
          ]
        },
        {
          "name": "stderr",
          "output_type": "stream",
          "text": [
            "\r 50%|████▉     | 499/1000 [29:03<29:05,  3.48s/it]"
          ]
        },
        {
          "name": "stdout",
          "output_type": "stream",
          "text": [
            "Training loss: nan\n",
            "Training metric: 0.8901\n",
            "perturbation loss: nan\n",
            "Validation acc: 0.1953\n",
            "\n",
            "Start of epoch 499\n"
          ]
        },
        {
          "name": "stderr",
          "output_type": "stream",
          "text": [
            "\r 50%|█████     | 500/1000 [29:06<29:02,  3.48s/it]"
          ]
        },
        {
          "name": "stdout",
          "output_type": "stream",
          "text": [
            "Training loss: nan\n",
            "Training metric: 0.8888\n",
            "perturbation loss: nan\n",
            "Validation acc: 0.1953\n",
            "\n",
            "Start of epoch 500\n"
          ]
        },
        {
          "name": "stderr",
          "output_type": "stream",
          "text": [
            "\r 50%|█████     | 501/1000 [29:10<29:00,  3.49s/it]"
          ]
        },
        {
          "name": "stdout",
          "output_type": "stream",
          "text": [
            "Training loss: nan\n",
            "Training metric: 0.8874\n",
            "perturbation loss: nan\n",
            "Validation acc: 0.1953\n",
            "\n",
            "Start of epoch 501\n"
          ]
        },
        {
          "name": "stderr",
          "output_type": "stream",
          "text": [
            "\r 50%|█████     | 502/1000 [29:13<28:57,  3.49s/it]"
          ]
        },
        {
          "name": "stdout",
          "output_type": "stream",
          "text": [
            "Training loss: nan\n",
            "Training metric: 0.8860\n",
            "perturbation loss: nan\n",
            "Validation acc: 0.1953\n",
            "\n",
            "Start of epoch 502\n"
          ]
        },
        {
          "name": "stderr",
          "output_type": "stream",
          "text": [
            "\r 50%|█████     | 503/1000 [29:17<28:53,  3.49s/it]"
          ]
        },
        {
          "name": "stdout",
          "output_type": "stream",
          "text": [
            "Training loss: nan\n",
            "Training metric: 0.8847\n",
            "perturbation loss: nan\n",
            "Validation acc: 0.1953\n",
            "\n",
            "Start of epoch 503\n"
          ]
        },
        {
          "name": "stderr",
          "output_type": "stream",
          "text": [
            "\r 50%|█████     | 504/1000 [29:20<28:51,  3.49s/it]"
          ]
        },
        {
          "name": "stdout",
          "output_type": "stream",
          "text": [
            "Training loss: nan\n",
            "Training metric: 0.8833\n",
            "perturbation loss: nan\n",
            "Validation acc: 0.1953\n",
            "\n",
            "Start of epoch 504\n"
          ]
        },
        {
          "name": "stderr",
          "output_type": "stream",
          "text": [
            "\r 50%|█████     | 505/1000 [29:24<28:46,  3.49s/it]"
          ]
        },
        {
          "name": "stdout",
          "output_type": "stream",
          "text": [
            "Training loss: nan\n",
            "Training metric: 0.8819\n",
            "perturbation loss: nan\n",
            "Validation acc: 0.1953\n",
            "\n",
            "Start of epoch 505\n"
          ]
        },
        {
          "name": "stderr",
          "output_type": "stream",
          "text": [
            "\r 51%|█████     | 506/1000 [29:27<28:42,  3.49s/it]"
          ]
        },
        {
          "name": "stdout",
          "output_type": "stream",
          "text": [
            "Training loss: nan\n",
            "Training metric: 0.8806\n",
            "perturbation loss: nan\n",
            "Validation acc: 0.1953\n",
            "\n",
            "Start of epoch 506\n"
          ]
        },
        {
          "name": "stderr",
          "output_type": "stream",
          "text": [
            "\r 51%|█████     | 507/1000 [29:31<28:41,  3.49s/it]"
          ]
        },
        {
          "name": "stdout",
          "output_type": "stream",
          "text": [
            "Training loss: nan\n",
            "Training metric: 0.8793\n",
            "perturbation loss: nan\n",
            "Validation acc: 0.1953\n",
            "\n",
            "Start of epoch 507\n"
          ]
        },
        {
          "name": "stderr",
          "output_type": "stream",
          "text": [
            "\r 51%|█████     | 508/1000 [29:34<28:38,  3.49s/it]"
          ]
        },
        {
          "name": "stdout",
          "output_type": "stream",
          "text": [
            "Training loss: nan\n",
            "Training metric: 0.8779\n",
            "perturbation loss: nan\n",
            "Validation acc: 0.1953\n",
            "\n",
            "Start of epoch 508\n"
          ]
        },
        {
          "name": "stderr",
          "output_type": "stream",
          "text": [
            "\r 51%|█████     | 509/1000 [29:38<28:33,  3.49s/it]"
          ]
        },
        {
          "name": "stdout",
          "output_type": "stream",
          "text": [
            "Training loss: nan\n",
            "Training metric: 0.8766\n",
            "perturbation loss: nan\n",
            "Validation acc: 0.1953\n",
            "\n",
            "Start of epoch 509\n"
          ]
        },
        {
          "name": "stderr",
          "output_type": "stream",
          "text": [
            "\r 51%|█████     | 510/1000 [29:41<28:28,  3.49s/it]"
          ]
        },
        {
          "name": "stdout",
          "output_type": "stream",
          "text": [
            "Training loss: nan\n",
            "Training metric: 0.8753\n",
            "perturbation loss: nan\n",
            "Validation acc: 0.1953\n",
            "\n",
            "Start of epoch 510\n"
          ]
        },
        {
          "name": "stderr",
          "output_type": "stream",
          "text": [
            "\r 51%|█████     | 511/1000 [29:45<28:28,  3.49s/it]"
          ]
        },
        {
          "name": "stdout",
          "output_type": "stream",
          "text": [
            "Training loss: nan\n",
            "Training metric: 0.8739\n",
            "perturbation loss: nan\n",
            "Validation acc: 0.1953\n",
            "\n",
            "Start of epoch 511\n"
          ]
        },
        {
          "name": "stderr",
          "output_type": "stream",
          "text": [
            "\r 51%|█████     | 512/1000 [29:48<28:23,  3.49s/it]"
          ]
        },
        {
          "name": "stdout",
          "output_type": "stream",
          "text": [
            "Training loss: nan\n",
            "Training metric: 0.8726\n",
            "perturbation loss: nan\n",
            "Validation acc: 0.1953\n",
            "\n",
            "Start of epoch 512\n"
          ]
        },
        {
          "name": "stderr",
          "output_type": "stream",
          "text": [
            "\r 51%|█████     | 512/1000 [29:50<28:26,  3.50s/it]\n"
          ]
        },
        {
          "ename": "KeyboardInterrupt",
          "evalue": "ignored",
          "output_type": "error",
          "traceback": [
            "\u001b[0;31m---------------------------------------------------------------------------\u001b[0m",
            "\u001b[0;31mKeyboardInterrupt\u001b[0m                         Traceback (most recent call last)",
            "\u001b[0;32m<ipython-input-11-fe4e98887a76>\u001b[0m in \u001b[0;36m<cell line: 10>\u001b[0;34m()\u001b[0m\n\u001b[1;32m     11\u001b[0m     \u001b[0mprint\u001b[0m\u001b[0;34m(\u001b[0m\u001b[0;34m\"\\nStart of epoch %d\"\u001b[0m \u001b[0;34m%\u001b[0m \u001b[0;34m(\u001b[0m\u001b[0mepoch\u001b[0m\u001b[0;34m,\u001b[0m\u001b[0;34m)\u001b[0m\u001b[0;34m)\u001b[0m\u001b[0;34m\u001b[0m\u001b[0;34m\u001b[0m\u001b[0m\n\u001b[1;32m     12\u001b[0m     \u001b[0;32mfor\u001b[0m \u001b[0mstep\u001b[0m\u001b[0;34m,\u001b[0m \u001b[0;34m(\u001b[0m\u001b[0mx\u001b[0m\u001b[0;34m,\u001b[0m \u001b[0mlabel\u001b[0m\u001b[0;34m,\u001b[0m \u001b[0mx_mask\u001b[0m\u001b[0;34m)\u001b[0m \u001b[0;32min\u001b[0m \u001b[0menumerate\u001b[0m\u001b[0;34m(\u001b[0m\u001b[0mtrain_dataset\u001b[0m\u001b[0;34m)\u001b[0m\u001b[0;34m:\u001b[0m\u001b[0;34m\u001b[0m\u001b[0;34m\u001b[0m\u001b[0m\n\u001b[0;32m---> 13\u001b[0;31m         \u001b[0mloss\u001b[0m\u001b[0;34m,\u001b[0m \u001b[0mtrain_acc\u001b[0m\u001b[0;34m,\u001b[0m \u001b[0ml\u001b[0m\u001b[0;34m,\u001b[0m \u001b[0mx_p\u001b[0m\u001b[0;34m,\u001b[0m \u001b[0mg\u001b[0m \u001b[0;34m=\u001b[0m \u001b[0mtraining_step\u001b[0m\u001b[0;34m(\u001b[0m\u001b[0mx\u001b[0m\u001b[0;34m,\u001b[0m \u001b[0mlabel\u001b[0m\u001b[0;34m,\u001b[0m \u001b[0mx_mask\u001b[0m\u001b[0;34m)\u001b[0m\u001b[0;34m\u001b[0m\u001b[0;34m\u001b[0m\u001b[0m\n\u001b[0m\u001b[1;32m     14\u001b[0m \u001b[0;34m\u001b[0m\u001b[0m\n\u001b[1;32m     15\u001b[0m     print(\n",
            "\u001b[0;32m/usr/local/lib/python3.10/dist-packages/tensorflow/python/util/traceback_utils.py\u001b[0m in \u001b[0;36merror_handler\u001b[0;34m(*args, **kwargs)\u001b[0m\n\u001b[1;32m    148\u001b[0m     \u001b[0mfiltered_tb\u001b[0m \u001b[0;34m=\u001b[0m \u001b[0;32mNone\u001b[0m\u001b[0;34m\u001b[0m\u001b[0;34m\u001b[0m\u001b[0m\n\u001b[1;32m    149\u001b[0m     \u001b[0;32mtry\u001b[0m\u001b[0;34m:\u001b[0m\u001b[0;34m\u001b[0m\u001b[0;34m\u001b[0m\u001b[0m\n\u001b[0;32m--> 150\u001b[0;31m       \u001b[0;32mreturn\u001b[0m \u001b[0mfn\u001b[0m\u001b[0;34m(\u001b[0m\u001b[0;34m*\u001b[0m\u001b[0margs\u001b[0m\u001b[0;34m,\u001b[0m \u001b[0;34m**\u001b[0m\u001b[0mkwargs\u001b[0m\u001b[0;34m)\u001b[0m\u001b[0;34m\u001b[0m\u001b[0;34m\u001b[0m\u001b[0m\n\u001b[0m\u001b[1;32m    151\u001b[0m     \u001b[0;32mexcept\u001b[0m \u001b[0mException\u001b[0m \u001b[0;32mas\u001b[0m \u001b[0me\u001b[0m\u001b[0;34m:\u001b[0m\u001b[0;34m\u001b[0m\u001b[0;34m\u001b[0m\u001b[0m\n\u001b[1;32m    152\u001b[0m       \u001b[0mfiltered_tb\u001b[0m \u001b[0;34m=\u001b[0m \u001b[0m_process_traceback_frames\u001b[0m\u001b[0;34m(\u001b[0m\u001b[0me\u001b[0m\u001b[0;34m.\u001b[0m\u001b[0m__traceback__\u001b[0m\u001b[0;34m)\u001b[0m\u001b[0;34m\u001b[0m\u001b[0;34m\u001b[0m\u001b[0m\n",
            "\u001b[0;32m/usr/local/lib/python3.10/dist-packages/tensorflow/python/eager/polymorphic_function/polymorphic_function.py\u001b[0m in \u001b[0;36m__call__\u001b[0;34m(self, *args, **kwds)\u001b[0m\n\u001b[1;32m    892\u001b[0m \u001b[0;34m\u001b[0m\u001b[0m\n\u001b[1;32m    893\u001b[0m       \u001b[0;32mwith\u001b[0m \u001b[0mOptionalXlaContext\u001b[0m\u001b[0;34m(\u001b[0m\u001b[0mself\u001b[0m\u001b[0;34m.\u001b[0m\u001b[0m_jit_compile\u001b[0m\u001b[0;34m)\u001b[0m\u001b[0;34m:\u001b[0m\u001b[0;34m\u001b[0m\u001b[0;34m\u001b[0m\u001b[0m\n\u001b[0;32m--> 894\u001b[0;31m         \u001b[0mresult\u001b[0m \u001b[0;34m=\u001b[0m \u001b[0mself\u001b[0m\u001b[0;34m.\u001b[0m\u001b[0m_call\u001b[0m\u001b[0;34m(\u001b[0m\u001b[0;34m*\u001b[0m\u001b[0margs\u001b[0m\u001b[0;34m,\u001b[0m \u001b[0;34m**\u001b[0m\u001b[0mkwds\u001b[0m\u001b[0;34m)\u001b[0m\u001b[0;34m\u001b[0m\u001b[0;34m\u001b[0m\u001b[0m\n\u001b[0m\u001b[1;32m    895\u001b[0m \u001b[0;34m\u001b[0m\u001b[0m\n\u001b[1;32m    896\u001b[0m       \u001b[0mnew_tracing_count\u001b[0m \u001b[0;34m=\u001b[0m \u001b[0mself\u001b[0m\u001b[0;34m.\u001b[0m\u001b[0mexperimental_get_tracing_count\u001b[0m\u001b[0;34m(\u001b[0m\u001b[0;34m)\u001b[0m\u001b[0;34m\u001b[0m\u001b[0;34m\u001b[0m\u001b[0m\n",
            "\u001b[0;32m/usr/local/lib/python3.10/dist-packages/tensorflow/python/eager/polymorphic_function/polymorphic_function.py\u001b[0m in \u001b[0;36m_call\u001b[0;34m(self, *args, **kwds)\u001b[0m\n\u001b[1;32m    931\u001b[0m       \u001b[0;31m# In this case we have not created variables on the first call. So we can\u001b[0m\u001b[0;34m\u001b[0m\u001b[0;34m\u001b[0m\u001b[0m\n\u001b[1;32m    932\u001b[0m       \u001b[0;31m# run the first trace but we should fail if variables are created.\u001b[0m\u001b[0;34m\u001b[0m\u001b[0;34m\u001b[0m\u001b[0m\n\u001b[0;32m--> 933\u001b[0;31m       \u001b[0mresults\u001b[0m \u001b[0;34m=\u001b[0m \u001b[0mself\u001b[0m\u001b[0;34m.\u001b[0m\u001b[0m_variable_creation_fn\u001b[0m\u001b[0;34m(\u001b[0m\u001b[0;34m*\u001b[0m\u001b[0margs\u001b[0m\u001b[0;34m,\u001b[0m \u001b[0;34m**\u001b[0m\u001b[0mkwds\u001b[0m\u001b[0;34m)\u001b[0m\u001b[0;34m\u001b[0m\u001b[0;34m\u001b[0m\u001b[0m\n\u001b[0m\u001b[1;32m    934\u001b[0m       \u001b[0;32mif\u001b[0m \u001b[0mself\u001b[0m\u001b[0;34m.\u001b[0m\u001b[0m_created_variables\u001b[0m \u001b[0;32mand\u001b[0m \u001b[0;32mnot\u001b[0m \u001b[0mALLOW_DYNAMIC_VARIABLE_CREATION\u001b[0m\u001b[0;34m:\u001b[0m\u001b[0;34m\u001b[0m\u001b[0;34m\u001b[0m\u001b[0m\n\u001b[1;32m    935\u001b[0m         raise ValueError(\"Creating variables on a non-first call to a function\"\n",
            "\u001b[0;32m/usr/local/lib/python3.10/dist-packages/tensorflow/python/eager/polymorphic_function/tracing_compiler.py\u001b[0m in \u001b[0;36m__call__\u001b[0;34m(self, *args, **kwargs)\u001b[0m\n\u001b[1;32m    141\u001b[0m       (concrete_function,\n\u001b[1;32m    142\u001b[0m        filtered_flat_args) = self._maybe_define_function(args, kwargs)\n\u001b[0;32m--> 143\u001b[0;31m     return concrete_function._call_flat(\n\u001b[0m\u001b[1;32m    144\u001b[0m         filtered_flat_args, captured_inputs=concrete_function.captured_inputs)  # pylint: disable=protected-access\n\u001b[1;32m    145\u001b[0m \u001b[0;34m\u001b[0m\u001b[0m\n",
            "\u001b[0;32m/usr/local/lib/python3.10/dist-packages/tensorflow/python/eager/polymorphic_function/monomorphic_function.py\u001b[0m in \u001b[0;36m_call_flat\u001b[0;34m(self, args, captured_inputs, cancellation_manager)\u001b[0m\n\u001b[1;32m   1755\u001b[0m         and executing_eagerly):\n\u001b[1;32m   1756\u001b[0m       \u001b[0;31m# No tape is watching; skip to running the function.\u001b[0m\u001b[0;34m\u001b[0m\u001b[0;34m\u001b[0m\u001b[0m\n\u001b[0;32m-> 1757\u001b[0;31m       return self._build_call_outputs(self._inference_function.call(\n\u001b[0m\u001b[1;32m   1758\u001b[0m           ctx, args, cancellation_manager=cancellation_manager))\n\u001b[1;32m   1759\u001b[0m     forward_backward = self._select_forward_and_backward_functions(\n",
            "\u001b[0;32m/usr/local/lib/python3.10/dist-packages/tensorflow/python/eager/polymorphic_function/monomorphic_function.py\u001b[0m in \u001b[0;36mcall\u001b[0;34m(self, ctx, args, cancellation_manager)\u001b[0m\n\u001b[1;32m    379\u001b[0m       \u001b[0;32mwith\u001b[0m \u001b[0m_InterpolateFunctionError\u001b[0m\u001b[0;34m(\u001b[0m\u001b[0mself\u001b[0m\u001b[0;34m)\u001b[0m\u001b[0;34m:\u001b[0m\u001b[0;34m\u001b[0m\u001b[0;34m\u001b[0m\u001b[0m\n\u001b[1;32m    380\u001b[0m         \u001b[0;32mif\u001b[0m \u001b[0mcancellation_manager\u001b[0m \u001b[0;32mis\u001b[0m \u001b[0;32mNone\u001b[0m\u001b[0;34m:\u001b[0m\u001b[0;34m\u001b[0m\u001b[0;34m\u001b[0m\u001b[0m\n\u001b[0;32m--> 381\u001b[0;31m           outputs = execute.execute(\n\u001b[0m\u001b[1;32m    382\u001b[0m               \u001b[0mstr\u001b[0m\u001b[0;34m(\u001b[0m\u001b[0mself\u001b[0m\u001b[0;34m.\u001b[0m\u001b[0msignature\u001b[0m\u001b[0;34m.\u001b[0m\u001b[0mname\u001b[0m\u001b[0;34m)\u001b[0m\u001b[0;34m,\u001b[0m\u001b[0;34m\u001b[0m\u001b[0;34m\u001b[0m\u001b[0m\n\u001b[1;32m    383\u001b[0m               \u001b[0mnum_outputs\u001b[0m\u001b[0;34m=\u001b[0m\u001b[0mself\u001b[0m\u001b[0;34m.\u001b[0m\u001b[0m_num_outputs\u001b[0m\u001b[0;34m,\u001b[0m\u001b[0;34m\u001b[0m\u001b[0;34m\u001b[0m\u001b[0m\n",
            "\u001b[0;32m/usr/local/lib/python3.10/dist-packages/tensorflow/python/eager/execute.py\u001b[0m in \u001b[0;36mquick_execute\u001b[0;34m(op_name, num_outputs, inputs, attrs, ctx, name)\u001b[0m\n\u001b[1;32m     50\u001b[0m   \u001b[0;32mtry\u001b[0m\u001b[0;34m:\u001b[0m\u001b[0;34m\u001b[0m\u001b[0;34m\u001b[0m\u001b[0m\n\u001b[1;32m     51\u001b[0m     \u001b[0mctx\u001b[0m\u001b[0;34m.\u001b[0m\u001b[0mensure_initialized\u001b[0m\u001b[0;34m(\u001b[0m\u001b[0;34m)\u001b[0m\u001b[0;34m\u001b[0m\u001b[0;34m\u001b[0m\u001b[0m\n\u001b[0;32m---> 52\u001b[0;31m     tensors = pywrap_tfe.TFE_Py_Execute(ctx._handle, device_name, op_name,\n\u001b[0m\u001b[1;32m     53\u001b[0m                                         inputs, attrs, num_outputs)\n\u001b[1;32m     54\u001b[0m   \u001b[0;32mexcept\u001b[0m \u001b[0mcore\u001b[0m\u001b[0;34m.\u001b[0m\u001b[0m_NotOkStatusException\u001b[0m \u001b[0;32mas\u001b[0m \u001b[0me\u001b[0m\u001b[0;34m:\u001b[0m\u001b[0;34m\u001b[0m\u001b[0;34m\u001b[0m\u001b[0m\n",
            "\u001b[0;31mKeyboardInterrupt\u001b[0m: "
          ]
        }
      ],
      "source": [
        "train_loss = []\n",
        "train_metric = []\n",
        "val_metric = []\n",
        "val_loss = []\n",
        "p_loss = []\n",
        "\n",
        "for step, (x, label, x_mask) in enumerate(train_dataset):\n",
        "    pre_train(x, label)\n",
        "\n",
        "for epoch in tqdm(range(1000)):\n",
        "    print(\"\\nStart of epoch %d\" % (epoch,))\n",
        "    for step, (x, label, x_mask) in enumerate(train_dataset):\n",
        "        loss, train_acc, l, x_p, g = training_step(x, label, x_mask)\n",
        "\n",
        "    print(\n",
        "        \"Training loss: %.4f\\nTraining metric: %.4f\"\n",
        "        % (float(loss), float(train_acc))\n",
        "    )\n",
        "    print(\"perturbation loss: %.4f\" % float(l))\n",
        "\n",
        "    for x_batch_val, y_batch_val in val_dataset:\n",
        "        val_logits = model(x_batch_val, training=False)\n",
        "        # Update val metrics\n",
        "        val_acc_metric.update_state(y_batch_val, val_logits)\n",
        "        v_loss = val_loss_metric(y_batch_val, val_logits)\n",
        "    val_acc = val_acc_metric.result()\n",
        "    val_acc_metric.reset_states()\n",
        "    print(\"Validation acc: %.4f\" % (float(val_acc)))\n",
        "\n",
        "    train_loss.append(loss)\n",
        "    train_metric.append(train_acc)\n",
        "    val_metric.append(val_acc)\n",
        "    val_loss.append(v_loss)\n",
        "    p_loss.append(l)\n",
        "\n",
        "    tl = np.array(train_loss)\n",
        "    tm = np.array(train_metric)\n",
        "    vm = np.array(val_metric)\n",
        "    vl = np.array(val_loss)\n",
        "    pl = np.array(p_loss)\n",
        "\n",
        "    np.savez(\"logs.npz\", train_loss=tl, train_acc=tm, val_acc=vm, p_loss=pl, val_loss=vl, x_p=x_p)"
      ]
    },
    {
      "cell_type": "code",
      "execution_count": null,
      "id": "qFRSJQ82Fcbq",
      "metadata": {
        "id": "qFRSJQ82Fcbq"
      },
      "outputs": [],
      "source": []
    }
  ],
  "metadata": {
    "accelerator": "GPU",
    "colab": {
      "gpuType": "V100",
      "machine_shape": "hm",
      "provenance": []
    },
    "kernelspec": {
      "display_name": "Python 3.10 (tensorflow)",
      "language": "python",
      "name": "tensorflow"
    },
    "language_info": {
      "codemirror_mode": {
        "name": "ipython",
        "version": 3
      },
      "file_extension": ".py",
      "mimetype": "text/x-python",
      "name": "python",
      "nbconvert_exporter": "python",
      "pygments_lexer": "ipython3",
      "version": "3.10.10"
    }
  },
  "nbformat": 4,
  "nbformat_minor": 5
}
