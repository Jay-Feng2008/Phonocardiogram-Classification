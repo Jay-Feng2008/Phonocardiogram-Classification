{
  "cells": [
    {
      "cell_type": "code",
      "execution_count": 1,
      "id": "VZQZ17oFDbVI",
      "metadata": {
        "colab": {
          "base_uri": "https://localhost:8080/"
        },
        "id": "VZQZ17oFDbVI",
        "outputId": "3e03bdaf-608d-479c-9b63-d120af90ce96"
      },
      "outputs": [
        {
          "output_type": "stream",
          "name": "stdout",
          "text": [
            "Mounted at /content/drive\n"
          ]
        }
      ],
      "source": [
        "from google.colab import drive\n",
        "drive.mount('/content/drive')"
      ]
    },
    {
      "cell_type": "markdown",
      "id": "58befd64",
      "metadata": {
        "id": "58befd64"
      },
      "source": [
        "## Import packages"
      ]
    },
    {
      "cell_type": "code",
      "execution_count": 2,
      "id": "af5c7075",
      "metadata": {
        "id": "af5c7075"
      },
      "outputs": [],
      "source": [
        "import tensorflow as tf\n",
        "from tensorflow import keras\n",
        "import numpy as np\n",
        "from tqdm import tqdm\n",
        "import sys\n",
        "\n",
        "sys.path.insert(1, \"drive/MyDrive/vanilla-transformer\")"
      ]
    },
    {
      "cell_type": "code",
      "execution_count": 3,
      "id": "c251f846",
      "metadata": {
        "id": "c251f846"
      },
      "outputs": [],
      "source": [
        "from embd import PositionalEmbedding\n",
        "from encoder import EncoderLayer_postLN, EncoderLayer_preLN"
      ]
    },
    {
      "cell_type": "markdown",
      "id": "96c1d6cd",
      "metadata": {
        "id": "96c1d6cd"
      },
      "source": [
        "## Build model"
      ]
    },
    {
      "cell_type": "code",
      "execution_count": 15,
      "id": "b7729518",
      "metadata": {
        "id": "b7729518"
      },
      "outputs": [],
      "source": [
        "from keras.backend import softmax\n",
        "BATCH_SIZE = 75\n",
        "def model():\n",
        "    inputs = keras.layers.Input((137, 15), batch_size=BATCH_SIZE)\n",
        "    x = PositionalEmbedding(32)(inputs)\n",
        "    x = EncoderLayer_postLN(d_model=32, num_heads=128, dff=64)(x)\n",
        "    x = EncoderLayer_postLN(d_model=32, num_heads=64, dff=32)(x)\n",
        "    x = keras.layers.GlobalAveragePooling1D(data_format='channels_first')(x)\n",
        "    x = keras.layers.Dense(5, activation='softmax')(x)\n",
        "    return keras.Model(inputs, x)"
      ]
    },
    {
      "cell_type": "code",
      "execution_count": 16,
      "id": "8a7834d3",
      "metadata": {
        "colab": {
          "base_uri": "https://localhost:8080/"
        },
        "id": "8a7834d3",
        "outputId": "801c5490-cc98-4a7a-897c-ed901be6237b"
      },
      "outputs": [
        {
          "output_type": "stream",
          "name": "stdout",
          "text": [
            "Model: \"model_1\"\n",
            "_________________________________________________________________\n",
            " Layer (type)                Output Shape              Param #   \n",
            "=================================================================\n",
            " input_2 (InputLayer)        [(75, 137, 15)]           0         \n",
            "                                                                 \n",
            " positional_embedding_1 (Pos  (75, 137, 32)            512       \n",
            " itionalEmbedding)                                               \n",
            "                                                                 \n",
            " encoder_layer_post_ln_2 (En  (75, 137, 32)            540928    \n",
            " coderLayer_postLN)                                              \n",
            "                                                                 \n",
            " encoder_layer_post_ln_3 (En  (75, 137, 32)            270560    \n",
            " coderLayer_postLN)                                              \n",
            "                                                                 \n",
            " global_average_pooling1d_1   (75, 137)                0         \n",
            " (GlobalAveragePooling1D)                                        \n",
            "                                                                 \n",
            " dense_9 (Dense)             (75, 5)                   690       \n",
            "                                                                 \n",
            "=================================================================\n",
            "Total params: 812,690\n",
            "Trainable params: 812,690\n",
            "Non-trainable params: 0\n",
            "_________________________________________________________________\n"
          ]
        }
      ],
      "source": [
        "model = model()\n",
        "model.summary()"
      ]
    },
    {
      "cell_type": "code",
      "execution_count": 18,
      "id": "e35afbac",
      "metadata": {
        "colab": {
          "base_uri": "https://localhost:8080/"
        },
        "id": "e35afbac",
        "outputId": "59f5eb38-6a17-42d3-acb5-47db0bbbc6c9"
      },
      "outputs": [
        {
          "output_type": "execute_result",
          "data": {
            "text/plain": [
              "<tf.Tensor: shape=(75, 5), dtype=float32, numpy=\n",
              "array([[0.2       , 0.2       , 0.2       , 0.2       , 0.2       ],\n",
              "       [0.2       , 0.2       , 0.2       , 0.2       , 0.2       ],\n",
              "       [0.2       , 0.2       , 0.2       , 0.2       , 0.2       ],\n",
              "       [0.2       , 0.2       , 0.2       , 0.2       , 0.2       ],\n",
              "       [0.2       , 0.2       , 0.2       , 0.2       , 0.2       ],\n",
              "       [0.2       , 0.2       , 0.2       , 0.2       , 0.2       ],\n",
              "       [0.2       , 0.2       , 0.2       , 0.2       , 0.2       ],\n",
              "       [0.2       , 0.2       , 0.2       , 0.2       , 0.2       ],\n",
              "       [0.2       , 0.2       , 0.2       , 0.2       , 0.2       ],\n",
              "       [0.2       , 0.2       , 0.2       , 0.2       , 0.2       ],\n",
              "       [0.2       , 0.2       , 0.2       , 0.2       , 0.2       ],\n",
              "       [0.2       , 0.2       , 0.2       , 0.2       , 0.2       ],\n",
              "       [0.2       , 0.2       , 0.2       , 0.2       , 0.2       ],\n",
              "       [0.2       , 0.2       , 0.2       , 0.2       , 0.2       ],\n",
              "       [0.2       , 0.2       , 0.2       , 0.2       , 0.2       ],\n",
              "       [0.2       , 0.2       , 0.2       , 0.2       , 0.2       ],\n",
              "       [0.2       , 0.2       , 0.2       , 0.2       , 0.2       ],\n",
              "       [0.2       , 0.2       , 0.2       , 0.2       , 0.2       ],\n",
              "       [0.2       , 0.2       , 0.2       , 0.2       , 0.2       ],\n",
              "       [0.2       , 0.2       , 0.2       , 0.2       , 0.2       ],\n",
              "       [0.2       , 0.2       , 0.2       , 0.2       , 0.2       ],\n",
              "       [0.2       , 0.2       , 0.2       , 0.2       , 0.2       ],\n",
              "       [0.2       , 0.2       , 0.2       , 0.2       , 0.2       ],\n",
              "       [0.2       , 0.2       , 0.2       , 0.2       , 0.2       ],\n",
              "       [0.2       , 0.2       , 0.2       , 0.2       , 0.2       ],\n",
              "       [0.2       , 0.2       , 0.2       , 0.2       , 0.2       ],\n",
              "       [0.2       , 0.2       , 0.2       , 0.2       , 0.2       ],\n",
              "       [0.2       , 0.2       , 0.2       , 0.2       , 0.2       ],\n",
              "       [0.2       , 0.2       , 0.2       , 0.2       , 0.2       ],\n",
              "       [0.2       , 0.2       , 0.2       , 0.2       , 0.2       ],\n",
              "       [0.2       , 0.2       , 0.2       , 0.2       , 0.2       ],\n",
              "       [0.2       , 0.2       , 0.2       , 0.2       , 0.2       ],\n",
              "       [0.2       , 0.2       , 0.2       , 0.2       , 0.2       ],\n",
              "       [0.2       , 0.2       , 0.2       , 0.2       , 0.2       ],\n",
              "       [0.2       , 0.2       , 0.2       , 0.2       , 0.2       ],\n",
              "       [0.2       , 0.2       , 0.2       , 0.2       , 0.2       ],\n",
              "       [0.2       , 0.2       , 0.2       , 0.2       , 0.2       ],\n",
              "       [0.2       , 0.2       , 0.2       , 0.2       , 0.2       ],\n",
              "       [0.2       , 0.2       , 0.2       , 0.2       , 0.2       ],\n",
              "       [0.2       , 0.2       , 0.2       , 0.2       , 0.2       ],\n",
              "       [0.2       , 0.2       , 0.2       , 0.2       , 0.2       ],\n",
              "       [0.2       , 0.2       , 0.2       , 0.2       , 0.2       ],\n",
              "       [0.2       , 0.2       , 0.2       , 0.2       , 0.2       ],\n",
              "       [0.2       , 0.2       , 0.2       , 0.2       , 0.2       ],\n",
              "       [0.2       , 0.2       , 0.2       , 0.2       , 0.2       ],\n",
              "       [0.2       , 0.2       , 0.2       , 0.2       , 0.2       ],\n",
              "       [0.2       , 0.2       , 0.2       , 0.2       , 0.2       ],\n",
              "       [0.2       , 0.2       , 0.2       , 0.2       , 0.2       ],\n",
              "       [0.2       , 0.2       , 0.2       , 0.2       , 0.2       ],\n",
              "       [0.2       , 0.2       , 0.2       , 0.2       , 0.2       ],\n",
              "       [0.2       , 0.2       , 0.2       , 0.2       , 0.2       ],\n",
              "       [0.2       , 0.2       , 0.2       , 0.2       , 0.2       ],\n",
              "       [0.2       , 0.2       , 0.2       , 0.2       , 0.2       ],\n",
              "       [0.2       , 0.19999997, 0.2       , 0.2       , 0.2       ],\n",
              "       [0.2       , 0.2       , 0.2       , 0.2       , 0.2       ],\n",
              "       [0.2       , 0.2       , 0.2       , 0.2       , 0.2       ],\n",
              "       [0.2       , 0.2       , 0.2       , 0.2       , 0.2       ],\n",
              "       [0.19999997, 0.2       , 0.2       , 0.2       , 0.2       ],\n",
              "       [0.2       , 0.2       , 0.2       , 0.2       , 0.2       ],\n",
              "       [0.2       , 0.2       , 0.2       , 0.2       , 0.2       ],\n",
              "       [0.2       , 0.2       , 0.2       , 0.2       , 0.2       ],\n",
              "       [0.2       , 0.2       , 0.2       , 0.2       , 0.2       ],\n",
              "       [0.2       , 0.2       , 0.2       , 0.2       , 0.2       ],\n",
              "       [0.2       , 0.2       , 0.2       , 0.2       , 0.2       ],\n",
              "       [0.2       , 0.2       , 0.2       , 0.2       , 0.2       ],\n",
              "       [0.2       , 0.2       , 0.2       , 0.2       , 0.2       ],\n",
              "       [0.2       , 0.2       , 0.2       , 0.2       , 0.2       ],\n",
              "       [0.2       , 0.2       , 0.2       , 0.2       , 0.2       ],\n",
              "       [0.2       , 0.2       , 0.2       , 0.2       , 0.2       ],\n",
              "       [0.2       , 0.2       , 0.2       , 0.2       , 0.2       ],\n",
              "       [0.2       , 0.2       , 0.2       , 0.2       , 0.2       ],\n",
              "       [0.2       , 0.2       , 0.19999997, 0.2       , 0.2       ],\n",
              "       [0.2       , 0.2       , 0.2       , 0.2       , 0.2       ],\n",
              "       [0.2       , 0.2       , 0.2       , 0.2       , 0.2       ],\n",
              "       [0.2       , 0.2       , 0.2       , 0.2       , 0.2       ]],\n",
              "      dtype=float32)>"
            ]
          },
          "metadata": {},
          "execution_count": 18
        }
      ],
      "source": [
        "x = tf.random.normal((BATCH_SIZE, 137, 15))\n",
        "model(x)"
      ]
    },
    {
      "cell_type": "markdown",
      "id": "b2ab9046",
      "metadata": {
        "id": "b2ab9046"
      },
      "source": [
        "## Load data"
      ]
    },
    {
      "cell_type": "code",
      "execution_count": 19,
      "id": "67063714",
      "metadata": {
        "id": "67063714"
      },
      "outputs": [],
      "source": [
        "data = np.load(\"mfcc.npz\")\n",
        "X = data[\"X\"]\n",
        "Y = data[\"Y\"]\n",
        "\n",
        "x_train = X[0:825]\n",
        "y_train = Y[0:825]\n",
        "x_test = X[850:]\n",
        "y_test = Y[850:]\n",
        "\n",
        "train_dataset = tf.data.Dataset.from_tensor_slices((x_train, y_train))\n",
        "train_dataset = train_dataset.shuffle(buffer_size=10000).batch(BATCH_SIZE)\n",
        "\n",
        "val_dataset = tf.data.Dataset.from_tensor_slices((x_test, y_test))\n",
        "val_dataset = val_dataset.shuffle(buffer_size=1000).batch(BATCH_SIZE)\n",
        "\n",
        "x = x_train[0:BATCH_SIZE]\n",
        "x_rank = tf.rank(x).numpy()\n",
        "x_norm_resize_shape = [BATCH_SIZE] + list(tf.ones(tf.rank(x), dtype=tf.int32).numpy())[1:]"
      ]
    },
    {
      "cell_type": "markdown",
      "id": "45c45212",
      "metadata": {
        "id": "45c45212"
      },
      "source": [
        "## Training"
      ]
    },
    {
      "cell_type": "code",
      "execution_count": 20,
      "id": "8b52fb36",
      "metadata": {
        "id": "8b52fb36"
      },
      "outputs": [],
      "source": [
        "class CustomSchedule(tf.keras.optimizers.schedules.LearningRateSchedule):\n",
        "    def __init__(self, d_model, warmup_steps=4000):\n",
        "        super().__init__()\n",
        "\n",
        "        self.d_model = d_model\n",
        "        self.d_model = tf.cast(self.d_model, tf.float32)\n",
        "\n",
        "        self.warmup_steps = warmup_steps\n",
        "\n",
        "    def __call__(self, step):\n",
        "        step = tf.cast(step, dtype=tf.float32)\n",
        "        arg1 = tf.math.rsqrt(step)\n",
        "        arg2 = step * (self.warmup_steps ** -1.5)\n",
        "\n",
        "        return tf.math.rsqrt(self.d_model) * tf.math.minimum(arg1, arg2)"
      ]
    },
    {
      "cell_type": "code",
      "execution_count": 21,
      "id": "69462829",
      "metadata": {
        "id": "69462829"
      },
      "outputs": [],
      "source": [
        "def perturbation_loss(x, y, from_logits=False):\n",
        "    return keras.losses.CategoricalCrossentropy(from_logits=from_logits)(x, y)\n",
        "\n",
        "loss_fn = keras.losses.SparseCategoricalCrossentropy(from_logits=False)\n",
        "learning_rate = CustomSchedule(32)\n",
        "optimizer = keras.optimizers.experimental.AdamW(learning_rate=learning_rate, beta_1=0.9, beta_2=0.98,\n",
        "                                     epsilon=1e-9)\n",
        "\n",
        "train_acc_metric = keras.metrics.SparseCategoricalAccuracy()\n",
        "val_acc_metric = keras.metrics.SparseCategoricalAccuracy()\n",
        "val_loss_metric = keras.losses.SparseCategoricalCrossentropy(from_logits=False)"
      ]
    },
    {
      "cell_type": "code",
      "execution_count": 22,
      "id": "b5bc7bc0",
      "metadata": {
        "id": "b5bc7bc0"
      },
      "outputs": [],
      "source": [
        "eps = 8.     # the perturbation parameter\n",
        "sig = 1e-5   # initial perturbation StdDev\n",
        "zeta = 1e-6  # differentiation constant\n",
        "lamd = 1     # regularization parameter\n",
        "\n",
        "@tf.function\n",
        "def training_step(x, label):\n",
        "    x_p = tf.random.normal(x.shape)\n",
        "    x_norm = x_p\n",
        "    for i in range(x_rank-1, 0, -1):\n",
        "        x_norm = tf.norm(x_norm, ord=2, axis=int(i))\n",
        "    x_p /= tf.reshape(x_norm, (BATCH_SIZE, 1, 1))\n",
        "    x_p *= zeta\n",
        "\n",
        "\n",
        "    with tf.GradientTape() as adversarial_tape:\n",
        "        adversarial_tape.watch(x_p)\n",
        "        y_p = model(x + x_p, training=True)\n",
        "        y = model(x, training=True)\n",
        "        l = perturbation_loss(y, y_p)\n",
        "    g = adversarial_tape.gradient(l, x_p)\n",
        "\n",
        "    g_norm = g\n",
        "    for i in range(x_rank-1, 0, -1):\n",
        "        g_norm = tf.norm(g_norm, ord=2, axis=int(i))\n",
        "\n",
        "    x_p = eps * g / (tf.reshape(g_norm, x_norm_resize_shape) + zeta)\n",
        "\n",
        "    with tf.GradientTape() as model_tape:\n",
        "        y_p = model(x + x_p, training=True)\n",
        "        y = model(x, training=True)\n",
        "        l = perturbation_loss(y, y_p)    # Recalculate regularization\n",
        "\n",
        "        logits = model(x, training=True)\n",
        "        loss = loss_fn(label, logits) + lamd * l / BATCH_SIZE\n",
        "    grads = model_tape.gradient(loss, model.trainable_weights)\n",
        "    optimizer.apply_gradients(zip(grads, model.trainable_weights))\n",
        "\n",
        "    train_acc_metric.update_state(label, logits)\n",
        "    return loss, train_acc_metric.result(), l, x_p, g\n",
        "\n",
        "@tf.function\n",
        "def pre_train(x, label):\n",
        "    with tf.GradientTape() as model_tape:\n",
        "        logits = model(x, training=True)\n",
        "        loss = loss_fn(label, logits)\n",
        "    grads = model_tape.gradient(loss, model.trainable_weights)\n",
        "    optimizer.apply_gradients(zip(grads, model.trainable_weights))"
      ]
    },
    {
      "cell_type": "code",
      "execution_count": 23,
      "id": "e43f6a45",
      "metadata": {
        "colab": {
          "base_uri": "https://localhost:8080/"
        },
        "id": "e43f6a45",
        "outputId": "ad3d74ac-fea6-4d89-da0a-4053da208942"
      },
      "outputs": [
        {
          "output_type": "stream",
          "name": "stderr",
          "text": [
            "\r  0%|          | 0/1000 [00:00<?, ?it/s]"
          ]
        },
        {
          "output_type": "stream",
          "name": "stdout",
          "text": [
            "\n",
            "Start of epoch 0\n"
          ]
        },
        {
          "output_type": "stream",
          "name": "stderr",
          "text": [
            "\r  0%|          | 1/1000 [00:08<2:21:11,  8.48s/it]"
          ]
        },
        {
          "output_type": "stream",
          "name": "stdout",
          "text": [
            "Training loss: 1.6306\n",
            "Training metric: 0.3370\n",
            "perturbation loss: 1.6094\n",
            "Validation acc: 0.3800\n",
            "\n",
            "Start of epoch 1\n"
          ]
        },
        {
          "output_type": "stream",
          "name": "stderr",
          "text": [
            "\r  0%|          | 2/1000 [00:12<1:35:02,  5.71s/it]"
          ]
        },
        {
          "output_type": "stream",
          "name": "stdout",
          "text": [
            "Training loss: 1.6305\n",
            "Training metric: 0.3527\n",
            "perturbation loss: 1.6094\n",
            "Validation acc: 0.4133\n",
            "\n",
            "Start of epoch 2\n"
          ]
        },
        {
          "output_type": "stream",
          "name": "stderr",
          "text": [
            "\r  0%|          | 3/1000 [00:15<1:19:43,  4.80s/it]"
          ]
        },
        {
          "output_type": "stream",
          "name": "stdout",
          "text": [
            "Training loss: 1.6299\n",
            "Training metric: 0.3754\n",
            "perturbation loss: 1.6094\n",
            "Validation acc: 0.4333\n",
            "\n",
            "Start of epoch 3\n"
          ]
        },
        {
          "output_type": "stream",
          "name": "stderr",
          "text": [
            "\r  0%|          | 4/1000 [00:19<1:12:30,  4.37s/it]"
          ]
        },
        {
          "output_type": "stream",
          "name": "stdout",
          "text": [
            "Training loss: 1.6294\n",
            "Training metric: 0.3988\n",
            "perturbation loss: 1.6094\n",
            "Validation acc: 0.5133\n",
            "\n",
            "Start of epoch 4\n"
          ]
        },
        {
          "output_type": "stream",
          "name": "stderr",
          "text": [
            "\r  0%|          | 5/1000 [00:23<1:08:28,  4.13s/it]"
          ]
        },
        {
          "output_type": "stream",
          "name": "stdout",
          "text": [
            "Training loss: 1.6285\n",
            "Training metric: 0.4213\n",
            "perturbation loss: 1.6094\n",
            "Validation acc: 0.5267\n",
            "\n",
            "Start of epoch 5\n"
          ]
        },
        {
          "output_type": "stream",
          "name": "stderr",
          "text": [
            "\r  1%|          | 6/1000 [00:27<1:06:17,  4.00s/it]"
          ]
        },
        {
          "output_type": "stream",
          "name": "stdout",
          "text": [
            "Training loss: 1.6277\n",
            "Training metric: 0.4418\n",
            "perturbation loss: 1.6094\n",
            "Validation acc: 0.5733\n",
            "\n",
            "Start of epoch 6\n"
          ]
        },
        {
          "output_type": "stream",
          "name": "stderr",
          "text": [
            "\r  1%|          | 7/1000 [00:30<1:04:37,  3.90s/it]"
          ]
        },
        {
          "output_type": "stream",
          "name": "stdout",
          "text": [
            "Training loss: 1.6259\n",
            "Training metric: 0.4620\n",
            "perturbation loss: 1.6094\n",
            "Validation acc: 0.5733\n",
            "\n",
            "Start of epoch 7\n"
          ]
        },
        {
          "output_type": "stream",
          "name": "stderr",
          "text": [
            "\r  1%|          | 8/1000 [00:34<1:03:31,  3.84s/it]"
          ]
        },
        {
          "output_type": "stream",
          "name": "stdout",
          "text": [
            "Training loss: 1.6231\n",
            "Training metric: 0.4759\n",
            "perturbation loss: 1.6094\n",
            "Validation acc: 0.5533\n",
            "\n",
            "Start of epoch 8\n"
          ]
        },
        {
          "output_type": "stream",
          "name": "stderr",
          "text": [
            "\r  1%|          | 9/1000 [00:38<1:02:44,  3.80s/it]"
          ]
        },
        {
          "output_type": "stream",
          "name": "stdout",
          "text": [
            "Training loss: 1.6221\n",
            "Training metric: 0.4897\n",
            "perturbation loss: 1.6094\n",
            "Validation acc: 0.5667\n",
            "\n",
            "Start of epoch 9\n"
          ]
        },
        {
          "output_type": "stream",
          "name": "stderr",
          "text": [
            "\r  1%|          | 10/1000 [00:42<1:02:33,  3.79s/it]"
          ]
        },
        {
          "output_type": "stream",
          "name": "stdout",
          "text": [
            "Training loss: 1.6170\n",
            "Training metric: 0.5010\n",
            "perturbation loss: 1.6093\n",
            "Validation acc: 0.5200\n",
            "\n",
            "Start of epoch 10\n"
          ]
        },
        {
          "output_type": "stream",
          "name": "stderr",
          "text": [
            "\r  1%|          | 11/1000 [00:45<1:02:04,  3.77s/it]"
          ]
        },
        {
          "output_type": "stream",
          "name": "stdout",
          "text": [
            "Training loss: 1.6143\n",
            "Training metric: 0.5122\n",
            "perturbation loss: 1.6093\n",
            "Validation acc: 0.5533\n",
            "\n",
            "Start of epoch 11\n"
          ]
        },
        {
          "output_type": "stream",
          "name": "stderr",
          "text": [
            "\r  1%|          | 12/1000 [00:49<1:02:04,  3.77s/it]"
          ]
        },
        {
          "output_type": "stream",
          "name": "stdout",
          "text": [
            "Training loss: 1.6059\n",
            "Training metric: 0.5216\n",
            "perturbation loss: 1.6092\n",
            "Validation acc: 0.6067\n",
            "\n",
            "Start of epoch 12\n"
          ]
        },
        {
          "output_type": "stream",
          "name": "stderr",
          "text": [
            "\r  1%|▏         | 13/1000 [00:53<1:02:01,  3.77s/it]"
          ]
        },
        {
          "output_type": "stream",
          "name": "stdout",
          "text": [
            "Training loss: 1.6055\n",
            "Training metric: 0.5284\n",
            "perturbation loss: 1.6090\n",
            "Validation acc: 0.6067\n",
            "\n",
            "Start of epoch 13\n"
          ]
        },
        {
          "output_type": "stream",
          "name": "stderr",
          "text": [
            "\r  1%|▏         | 14/1000 [00:56<1:01:36,  3.75s/it]"
          ]
        },
        {
          "output_type": "stream",
          "name": "stdout",
          "text": [
            "Training loss: 1.5930\n",
            "Training metric: 0.5345\n",
            "perturbation loss: 1.6087\n",
            "Validation acc: 0.5400\n",
            "\n",
            "Start of epoch 14\n"
          ]
        },
        {
          "output_type": "stream",
          "name": "stderr",
          "text": [
            "\r  2%|▏         | 15/1000 [01:00<1:01:18,  3.73s/it]"
          ]
        },
        {
          "output_type": "stream",
          "name": "stdout",
          "text": [
            "Training loss: 1.5823\n",
            "Training metric: 0.5402\n",
            "perturbation loss: 1.6084\n",
            "Validation acc: 0.5200\n",
            "\n",
            "Start of epoch 15\n"
          ]
        },
        {
          "output_type": "stream",
          "name": "stderr",
          "text": [
            "\r  2%|▏         | 16/1000 [01:04<1:01:06,  3.73s/it]"
          ]
        },
        {
          "output_type": "stream",
          "name": "stdout",
          "text": [
            "Training loss: 1.5725\n",
            "Training metric: 0.5424\n",
            "perturbation loss: 1.6080\n",
            "Validation acc: 0.6200\n",
            "\n",
            "Start of epoch 16\n"
          ]
        },
        {
          "output_type": "stream",
          "name": "stderr",
          "text": [
            "\r  2%|▏         | 17/1000 [01:08<1:01:18,  3.74s/it]"
          ]
        },
        {
          "output_type": "stream",
          "name": "stdout",
          "text": [
            "Training loss: 1.5762\n",
            "Training metric: 0.5459\n",
            "perturbation loss: 1.6076\n",
            "Validation acc: 0.6133\n",
            "\n",
            "Start of epoch 17\n"
          ]
        },
        {
          "output_type": "stream",
          "name": "stderr",
          "text": [
            "\r  2%|▏         | 18/1000 [01:11<1:01:06,  3.73s/it]"
          ]
        },
        {
          "output_type": "stream",
          "name": "stdout",
          "text": [
            "Training loss: 1.5628\n",
            "Training metric: 0.5489\n",
            "perturbation loss: 1.6067\n",
            "Validation acc: 0.5467\n",
            "\n",
            "Start of epoch 18\n"
          ]
        },
        {
          "output_type": "stream",
          "name": "stderr",
          "text": [
            "\r  2%|▏         | 19/1000 [01:15<1:00:53,  3.72s/it]"
          ]
        },
        {
          "output_type": "stream",
          "name": "stdout",
          "text": [
            "Training loss: 1.5524\n",
            "Training metric: 0.5525\n",
            "perturbation loss: 1.6055\n",
            "Validation acc: 0.5400\n",
            "\n",
            "Start of epoch 19\n"
          ]
        },
        {
          "output_type": "stream",
          "name": "stderr",
          "text": [
            "\r  2%|▏         | 20/1000 [01:19<1:00:42,  3.72s/it]"
          ]
        },
        {
          "output_type": "stream",
          "name": "stdout",
          "text": [
            "Training loss: 1.5244\n",
            "Training metric: 0.5568\n",
            "perturbation loss: 1.6039\n",
            "Validation acc: 0.5200\n",
            "\n",
            "Start of epoch 20\n"
          ]
        },
        {
          "output_type": "stream",
          "name": "stderr",
          "text": [
            "\r  2%|▏         | 21/1000 [01:23<1:00:55,  3.73s/it]"
          ]
        },
        {
          "output_type": "stream",
          "name": "stdout",
          "text": [
            "Training loss: 1.5045\n",
            "Training metric: 0.5600\n",
            "perturbation loss: 1.6021\n",
            "Validation acc: 0.5400\n",
            "\n",
            "Start of epoch 21\n"
          ]
        },
        {
          "output_type": "stream",
          "name": "stderr",
          "text": [
            "\r  2%|▏         | 22/1000 [01:26<1:00:42,  3.72s/it]"
          ]
        },
        {
          "output_type": "stream",
          "name": "stdout",
          "text": [
            "Training loss: 1.4983\n",
            "Training metric: 0.5633\n",
            "perturbation loss: 1.5999\n",
            "Validation acc: 0.5333\n",
            "\n",
            "Start of epoch 22\n"
          ]
        },
        {
          "output_type": "stream",
          "name": "stderr",
          "text": [
            "\r  2%|▏         | 23/1000 [01:30<1:00:32,  3.72s/it]"
          ]
        },
        {
          "output_type": "stream",
          "name": "stdout",
          "text": [
            "Training loss: 1.4847\n",
            "Training metric: 0.5666\n",
            "perturbation loss: 1.5977\n",
            "Validation acc: 0.5133\n",
            "\n",
            "Start of epoch 23\n"
          ]
        },
        {
          "output_type": "stream",
          "name": "stderr",
          "text": [
            "\r  2%|▏         | 24/1000 [01:34<1:00:46,  3.74s/it]"
          ]
        },
        {
          "output_type": "stream",
          "name": "stdout",
          "text": [
            "Training loss: 1.4755\n",
            "Training metric: 0.5694\n",
            "perturbation loss: 1.5953\n",
            "Validation acc: 0.5200\n",
            "\n",
            "Start of epoch 24\n"
          ]
        },
        {
          "output_type": "stream",
          "name": "stderr",
          "text": [
            "\r  2%|▎         | 25/1000 [01:37<1:00:35,  3.73s/it]"
          ]
        },
        {
          "output_type": "stream",
          "name": "stdout",
          "text": [
            "Training loss: 1.4781\n",
            "Training metric: 0.5719\n",
            "perturbation loss: 1.5922\n",
            "Validation acc: 0.5333\n",
            "\n",
            "Start of epoch 25\n"
          ]
        },
        {
          "output_type": "stream",
          "name": "stderr",
          "text": [
            "\r  3%|▎         | 26/1000 [01:41<1:00:22,  3.72s/it]"
          ]
        },
        {
          "output_type": "stream",
          "name": "stdout",
          "text": [
            "Training loss: 1.4249\n",
            "Training metric: 0.5740\n",
            "perturbation loss: 1.5861\n",
            "Validation acc: 0.5400\n",
            "\n",
            "Start of epoch 26\n"
          ]
        },
        {
          "output_type": "stream",
          "name": "stderr",
          "text": [
            "\r  3%|▎         | 27/1000 [01:45<1:00:16,  3.72s/it]"
          ]
        },
        {
          "output_type": "stream",
          "name": "stdout",
          "text": [
            "Training loss: 1.4065\n",
            "Training metric: 0.5764\n",
            "perturbation loss: 1.5789\n",
            "Validation acc: 0.5467\n",
            "\n",
            "Start of epoch 27\n"
          ]
        },
        {
          "output_type": "stream",
          "name": "stderr",
          "text": [
            "\r  3%|▎         | 28/1000 [01:49<1:00:29,  3.73s/it]"
          ]
        },
        {
          "output_type": "stream",
          "name": "stdout",
          "text": [
            "Training loss: 1.3824\n",
            "Training metric: 0.5781\n",
            "perturbation loss: 1.5702\n",
            "Validation acc: 0.5067\n",
            "\n",
            "Start of epoch 28\n"
          ]
        },
        {
          "output_type": "stream",
          "name": "stderr",
          "text": [
            "\r  3%|▎         | 29/1000 [01:52<1:00:21,  3.73s/it]"
          ]
        },
        {
          "output_type": "stream",
          "name": "stdout",
          "text": [
            "Training loss: 1.3377\n",
            "Training metric: 0.5794\n",
            "perturbation loss: 1.5592\n",
            "Validation acc: 0.5400\n",
            "\n",
            "Start of epoch 29\n"
          ]
        },
        {
          "output_type": "stream",
          "name": "stderr",
          "text": [
            "\r  3%|▎         | 30/1000 [01:56<1:00:08,  3.72s/it]"
          ]
        },
        {
          "output_type": "stream",
          "name": "stdout",
          "text": [
            "Training loss: 1.3258\n",
            "Training metric: 0.5808\n",
            "perturbation loss: 1.5527\n",
            "Validation acc: 0.4933\n",
            "\n",
            "Start of epoch 30\n"
          ]
        },
        {
          "output_type": "stream",
          "name": "stderr",
          "text": [
            "\r  3%|▎         | 31/1000 [02:00<59:58,  3.71s/it]  "
          ]
        },
        {
          "output_type": "stream",
          "name": "stdout",
          "text": [
            "Training loss: 1.2888\n",
            "Training metric: 0.5819\n",
            "perturbation loss: 1.5413\n",
            "Validation acc: 0.5600\n",
            "\n",
            "Start of epoch 31\n"
          ]
        },
        {
          "output_type": "stream",
          "name": "stderr",
          "text": [
            "\r  3%|▎         | 32/1000 [02:04<1:00:11,  3.73s/it]"
          ]
        },
        {
          "output_type": "stream",
          "name": "stdout",
          "text": [
            "Training loss: 1.3431\n",
            "Training metric: 0.5830\n",
            "perturbation loss: 1.5405\n",
            "Validation acc: 0.5400\n",
            "\n",
            "Start of epoch 32\n"
          ]
        },
        {
          "output_type": "stream",
          "name": "stderr",
          "text": [
            "\r  3%|▎         | 33/1000 [02:07<59:58,  3.72s/it]  "
          ]
        },
        {
          "output_type": "stream",
          "name": "stdout",
          "text": [
            "Training loss: 1.2687\n",
            "Training metric: 0.5840\n",
            "perturbation loss: 1.5189\n",
            "Validation acc: 0.5267\n",
            "\n",
            "Start of epoch 33\n"
          ]
        },
        {
          "output_type": "stream",
          "name": "stderr",
          "text": [
            "\r  3%|▎         | 34/1000 [02:11<59:49,  3.72s/it]"
          ]
        },
        {
          "output_type": "stream",
          "name": "stdout",
          "text": [
            "Training loss: 1.2545\n",
            "Training metric: 0.5852\n",
            "perturbation loss: 1.4990\n",
            "Validation acc: 0.5333\n",
            "\n",
            "Start of epoch 34\n"
          ]
        },
        {
          "output_type": "stream",
          "name": "stderr",
          "text": [
            "\r  4%|▎         | 35/1000 [02:15<1:00:02,  3.73s/it]"
          ]
        },
        {
          "output_type": "stream",
          "name": "stdout",
          "text": [
            "Training loss: 1.2551\n",
            "Training metric: 0.5863\n",
            "perturbation loss: 1.4851\n",
            "Validation acc: 0.5400\n",
            "\n",
            "Start of epoch 35\n"
          ]
        },
        {
          "output_type": "stream",
          "name": "stderr",
          "text": [
            "\r  4%|▎         | 36/1000 [02:18<59:51,  3.73s/it]  "
          ]
        },
        {
          "output_type": "stream",
          "name": "stdout",
          "text": [
            "Training loss: 1.2083\n",
            "Training metric: 0.5875\n",
            "perturbation loss: 1.4591\n",
            "Validation acc: 0.5400\n",
            "\n",
            "Start of epoch 36\n"
          ]
        },
        {
          "output_type": "stream",
          "name": "stderr",
          "text": [
            "\r  4%|▎         | 37/1000 [02:22<59:40,  3.72s/it]"
          ]
        },
        {
          "output_type": "stream",
          "name": "stdout",
          "text": [
            "Training loss: 1.1864\n",
            "Training metric: 0.5889\n",
            "perturbation loss: 1.4554\n",
            "Validation acc: 0.5333\n",
            "\n",
            "Start of epoch 37\n"
          ]
        },
        {
          "output_type": "stream",
          "name": "stderr",
          "text": [
            "\r  4%|▍         | 38/1000 [02:26<59:31,  3.71s/it]"
          ]
        },
        {
          "output_type": "stream",
          "name": "stdout",
          "text": [
            "Training loss: 1.1665\n",
            "Training metric: 0.5903\n",
            "perturbation loss: 1.4274\n",
            "Validation acc: 0.5333\n",
            "\n",
            "Start of epoch 38\n"
          ]
        },
        {
          "output_type": "stream",
          "name": "stderr",
          "text": [
            "\r  4%|▍         | 39/1000 [02:30<59:45,  3.73s/it]"
          ]
        },
        {
          "output_type": "stream",
          "name": "stdout",
          "text": [
            "Training loss: 1.0563\n",
            "Training metric: 0.5916\n",
            "perturbation loss: 1.4065\n",
            "Validation acc: 0.5467\n",
            "\n",
            "Start of epoch 39\n"
          ]
        },
        {
          "output_type": "stream",
          "name": "stderr",
          "text": [
            "\r  4%|▍         | 40/1000 [02:33<59:34,  3.72s/it]"
          ]
        },
        {
          "output_type": "stream",
          "name": "stdout",
          "text": [
            "Training loss: 1.0830\n",
            "Training metric: 0.5928\n",
            "perturbation loss: 1.3648\n",
            "Validation acc: 0.5200\n",
            "\n",
            "Start of epoch 40\n"
          ]
        },
        {
          "output_type": "stream",
          "name": "stderr",
          "text": [
            "\r  4%|▍         | 41/1000 [02:37<59:25,  3.72s/it]"
          ]
        },
        {
          "output_type": "stream",
          "name": "stdout",
          "text": [
            "Training loss: 1.0432\n",
            "Training metric: 0.5936\n",
            "perturbation loss: 1.3695\n",
            "Validation acc: 0.5467\n",
            "\n",
            "Start of epoch 41\n"
          ]
        },
        {
          "output_type": "stream",
          "name": "stderr",
          "text": [
            "\r  4%|▍         | 42/1000 [02:41<59:17,  3.71s/it]"
          ]
        },
        {
          "output_type": "stream",
          "name": "stdout",
          "text": [
            "Training loss: 1.0217\n",
            "Training metric: 0.5950\n",
            "perturbation loss: 1.3107\n",
            "Validation acc: 0.5400\n",
            "\n",
            "Start of epoch 42\n"
          ]
        },
        {
          "output_type": "stream",
          "name": "stderr",
          "text": [
            "\r  4%|▍         | 43/1000 [02:44<59:32,  3.73s/it]"
          ]
        },
        {
          "output_type": "stream",
          "name": "stdout",
          "text": [
            "Training loss: 0.9804\n",
            "Training metric: 0.5964\n",
            "perturbation loss: 1.3025\n",
            "Validation acc: 0.5600\n",
            "\n",
            "Start of epoch 43\n"
          ]
        },
        {
          "output_type": "stream",
          "name": "stderr",
          "text": [
            "\r  4%|▍         | 44/1000 [02:48<59:22,  3.73s/it]"
          ]
        },
        {
          "output_type": "stream",
          "name": "stdout",
          "text": [
            "Training loss: 0.9615\n",
            "Training metric: 0.5977\n",
            "perturbation loss: 1.2638\n",
            "Validation acc: 0.5600\n",
            "\n",
            "Start of epoch 44\n"
          ]
        },
        {
          "output_type": "stream",
          "name": "stderr",
          "text": [
            "\r  4%|▍         | 45/1000 [02:52<59:12,  3.72s/it]"
          ]
        },
        {
          "output_type": "stream",
          "name": "stdout",
          "text": [
            "Training loss: 0.9354\n",
            "Training metric: 0.5990\n",
            "perturbation loss: 1.2548\n",
            "Validation acc: 0.5600\n",
            "\n",
            "Start of epoch 45\n"
          ]
        },
        {
          "output_type": "stream",
          "name": "stderr",
          "text": [
            "\r  5%|▍         | 46/1000 [02:56<59:25,  3.74s/it]"
          ]
        },
        {
          "output_type": "stream",
          "name": "stdout",
          "text": [
            "Training loss: 0.9312\n",
            "Training metric: 0.6002\n",
            "perturbation loss: 1.2412\n",
            "Validation acc: 0.5600\n",
            "\n",
            "Start of epoch 46\n"
          ]
        },
        {
          "output_type": "stream",
          "name": "stderr",
          "text": [
            "\r  5%|▍         | 47/1000 [02:59<59:12,  3.73s/it]"
          ]
        },
        {
          "output_type": "stream",
          "name": "stdout",
          "text": [
            "Training loss: 0.8391\n",
            "Training metric: 0.6012\n",
            "perturbation loss: 1.1815\n",
            "Validation acc: 0.5667\n",
            "\n",
            "Start of epoch 47\n"
          ]
        },
        {
          "output_type": "stream",
          "name": "stderr",
          "text": [
            "\r  5%|▍         | 48/1000 [03:03<59:02,  3.72s/it]"
          ]
        },
        {
          "output_type": "stream",
          "name": "stdout",
          "text": [
            "Training loss: 0.9266\n",
            "Training metric: 0.6024\n",
            "perturbation loss: 1.1819\n",
            "Validation acc: 0.5933\n",
            "\n",
            "Start of epoch 48\n"
          ]
        },
        {
          "output_type": "stream",
          "name": "stderr",
          "text": [
            "\r  5%|▍         | 49/1000 [03:07<58:55,  3.72s/it]"
          ]
        },
        {
          "output_type": "stream",
          "name": "stdout",
          "text": [
            "Training loss: 0.8331\n",
            "Training metric: 0.6036\n",
            "perturbation loss: 1.1848\n",
            "Validation acc: 0.5933\n",
            "\n",
            "Start of epoch 49\n"
          ]
        },
        {
          "output_type": "stream",
          "name": "stderr",
          "text": [
            "\r  5%|▌         | 50/1000 [03:11<59:09,  3.74s/it]"
          ]
        },
        {
          "output_type": "stream",
          "name": "stdout",
          "text": [
            "Training loss: 0.8582\n",
            "Training metric: 0.6040\n",
            "perturbation loss: 1.1002\n",
            "Validation acc: 0.5800\n",
            "\n",
            "Start of epoch 50\n"
          ]
        },
        {
          "output_type": "stream",
          "name": "stderr",
          "text": [
            "\r  5%|▌         | 51/1000 [03:14<58:58,  3.73s/it]"
          ]
        },
        {
          "output_type": "stream",
          "name": "stdout",
          "text": [
            "Training loss: 0.8684\n",
            "Training metric: 0.6053\n",
            "perturbation loss: 1.1197\n",
            "Validation acc: 0.5800\n",
            "\n",
            "Start of epoch 51\n"
          ]
        },
        {
          "output_type": "stream",
          "name": "stderr",
          "text": [
            "\r  5%|▌         | 52/1000 [03:18<58:49,  3.72s/it]"
          ]
        },
        {
          "output_type": "stream",
          "name": "stdout",
          "text": [
            "Training loss: 0.7925\n",
            "Training metric: 0.6067\n",
            "perturbation loss: 1.0930\n",
            "Validation acc: 0.6000\n",
            "\n",
            "Start of epoch 52\n"
          ]
        },
        {
          "output_type": "stream",
          "name": "stderr",
          "text": [
            "\r  5%|▌         | 53/1000 [03:22<58:39,  3.72s/it]"
          ]
        },
        {
          "output_type": "stream",
          "name": "stdout",
          "text": [
            "Training loss: 0.7944\n",
            "Training metric: 0.6085\n",
            "perturbation loss: 1.1014\n",
            "Validation acc: 0.6333\n",
            "\n",
            "Start of epoch 53\n"
          ]
        },
        {
          "output_type": "stream",
          "name": "stderr",
          "text": [
            "\r  5%|▌         | 54/1000 [03:25<58:53,  3.74s/it]"
          ]
        },
        {
          "output_type": "stream",
          "name": "stdout",
          "text": [
            "Training loss: 0.8651\n",
            "Training metric: 0.6099\n",
            "perturbation loss: 1.0596\n",
            "Validation acc: 0.6067\n",
            "\n",
            "Start of epoch 54\n"
          ]
        },
        {
          "output_type": "stream",
          "name": "stderr",
          "text": [
            "\r  6%|▌         | 55/1000 [03:29<58:40,  3.73s/it]"
          ]
        },
        {
          "output_type": "stream",
          "name": "stdout",
          "text": [
            "Training loss: 0.8618\n",
            "Training metric: 0.6116\n",
            "perturbation loss: 1.0031\n",
            "Validation acc: 0.6200\n",
            "\n",
            "Start of epoch 55\n"
          ]
        },
        {
          "output_type": "stream",
          "name": "stderr",
          "text": [
            "\r  6%|▌         | 56/1000 [03:33<58:31,  3.72s/it]"
          ]
        },
        {
          "output_type": "stream",
          "name": "stdout",
          "text": [
            "Training loss: 0.7712\n",
            "Training metric: 0.6136\n",
            "perturbation loss: 0.9500\n",
            "Validation acc: 0.6133\n",
            "\n",
            "Start of epoch 56\n"
          ]
        },
        {
          "output_type": "stream",
          "name": "stderr",
          "text": [
            "\r  6%|▌         | 57/1000 [03:37<58:44,  3.74s/it]"
          ]
        },
        {
          "output_type": "stream",
          "name": "stdout",
          "text": [
            "Training loss: 0.8107\n",
            "Training metric: 0.6152\n",
            "perturbation loss: 0.9922\n",
            "Validation acc: 0.5933\n",
            "\n",
            "Start of epoch 57\n"
          ]
        },
        {
          "output_type": "stream",
          "name": "stderr",
          "text": [
            "\r  6%|▌         | 58/1000 [03:40<58:31,  3.73s/it]"
          ]
        },
        {
          "output_type": "stream",
          "name": "stdout",
          "text": [
            "Training loss: 0.7166\n",
            "Training metric: 0.6171\n",
            "perturbation loss: 0.9849\n",
            "Validation acc: 0.5933\n",
            "\n",
            "Start of epoch 58\n"
          ]
        },
        {
          "output_type": "stream",
          "name": "stderr",
          "text": [
            "\r  6%|▌         | 59/1000 [03:44<58:20,  3.72s/it]"
          ]
        },
        {
          "output_type": "stream",
          "name": "stdout",
          "text": [
            "Training loss: 0.8028\n",
            "Training metric: 0.6188\n",
            "perturbation loss: 0.9166\n",
            "Validation acc: 0.6067\n",
            "\n",
            "Start of epoch 59\n"
          ]
        },
        {
          "output_type": "stream",
          "name": "stderr",
          "text": [
            "\r  6%|▌         | 60/1000 [03:48<58:11,  3.71s/it]"
          ]
        },
        {
          "output_type": "stream",
          "name": "stdout",
          "text": [
            "Training loss: 0.6014\n",
            "Training metric: 0.6203\n",
            "perturbation loss: 0.8461\n",
            "Validation acc: 0.6067\n",
            "\n",
            "Start of epoch 60\n"
          ]
        },
        {
          "output_type": "stream",
          "name": "stderr",
          "text": [
            "\r  6%|▌         | 61/1000 [03:52<58:14,  3.72s/it]"
          ]
        },
        {
          "output_type": "stream",
          "name": "stdout",
          "text": [
            "Training loss: 0.7487\n",
            "Training metric: 0.6217\n",
            "perturbation loss: 0.9366\n",
            "Validation acc: 0.6067\n",
            "\n",
            "Start of epoch 61\n"
          ]
        },
        {
          "output_type": "stream",
          "name": "stderr",
          "text": [
            "\r  6%|▌         | 62/1000 [03:55<58:05,  3.72s/it]"
          ]
        },
        {
          "output_type": "stream",
          "name": "stdout",
          "text": [
            "Training loss: 0.6770\n",
            "Training metric: 0.6233\n",
            "perturbation loss: 0.8651\n",
            "Validation acc: 0.5933\n",
            "\n",
            "Start of epoch 62\n"
          ]
        },
        {
          "output_type": "stream",
          "name": "stderr",
          "text": [
            "\r  6%|▋         | 63/1000 [03:59<57:57,  3.71s/it]"
          ]
        },
        {
          "output_type": "stream",
          "name": "stdout",
          "text": [
            "Training loss: 0.5739\n",
            "Training metric: 0.6250\n",
            "perturbation loss: 0.8011\n",
            "Validation acc: 0.5933\n",
            "\n",
            "Start of epoch 63\n"
          ]
        },
        {
          "output_type": "stream",
          "name": "stderr",
          "text": [
            "\r  6%|▋         | 64/1000 [04:03<57:51,  3.71s/it]"
          ]
        },
        {
          "output_type": "stream",
          "name": "stdout",
          "text": [
            "Training loss: 0.6140\n",
            "Training metric: 0.6266\n",
            "perturbation loss: 0.8536\n",
            "Validation acc: 0.5933\n",
            "\n",
            "Start of epoch 64\n"
          ]
        },
        {
          "output_type": "stream",
          "name": "stderr",
          "text": [
            "\r  6%|▋         | 65/1000 [04:06<58:09,  3.73s/it]"
          ]
        },
        {
          "output_type": "stream",
          "name": "stdout",
          "text": [
            "Training loss: 0.8235\n",
            "Training metric: 0.6283\n",
            "perturbation loss: 0.8268\n",
            "Validation acc: 0.6067\n",
            "\n",
            "Start of epoch 65\n"
          ]
        },
        {
          "output_type": "stream",
          "name": "stderr",
          "text": [
            "\r  7%|▋         | 66/1000 [04:10<57:56,  3.72s/it]"
          ]
        },
        {
          "output_type": "stream",
          "name": "stdout",
          "text": [
            "Training loss: 0.6390\n",
            "Training metric: 0.6300\n",
            "perturbation loss: 0.7767\n",
            "Validation acc: 0.6200\n",
            "\n",
            "Start of epoch 66\n"
          ]
        },
        {
          "output_type": "stream",
          "name": "stderr",
          "text": [
            "\r  7%|▋         | 67/1000 [04:14<57:47,  3.72s/it]"
          ]
        },
        {
          "output_type": "stream",
          "name": "stdout",
          "text": [
            "Training loss: 0.5018\n",
            "Training metric: 0.6316\n",
            "perturbation loss: 0.7074\n",
            "Validation acc: 0.6200\n",
            "\n",
            "Start of epoch 67\n"
          ]
        },
        {
          "output_type": "stream",
          "name": "stderr",
          "text": [
            "\r  7%|▋         | 68/1000 [04:18<57:49,  3.72s/it]"
          ]
        },
        {
          "output_type": "stream",
          "name": "stdout",
          "text": [
            "Training loss: 0.6965\n",
            "Training metric: 0.6331\n",
            "perturbation loss: 0.7438\n",
            "Validation acc: 0.6067\n",
            "\n",
            "Start of epoch 68\n"
          ]
        },
        {
          "output_type": "stream",
          "name": "stderr",
          "text": [
            "\r  7%|▋         | 69/1000 [04:21<57:40,  3.72s/it]"
          ]
        },
        {
          "output_type": "stream",
          "name": "stdout",
          "text": [
            "Training loss: 0.6904\n",
            "Training metric: 0.6346\n",
            "perturbation loss: 0.7925\n",
            "Validation acc: 0.6067\n",
            "\n",
            "Start of epoch 69\n"
          ]
        },
        {
          "output_type": "stream",
          "name": "stderr",
          "text": [
            "\r  7%|▋         | 70/1000 [04:25<57:34,  3.71s/it]"
          ]
        },
        {
          "output_type": "stream",
          "name": "stdout",
          "text": [
            "Training loss: 0.5750\n",
            "Training metric: 0.6361\n",
            "perturbation loss: 0.7360\n",
            "Validation acc: 0.6067\n",
            "\n",
            "Start of epoch 70\n"
          ]
        },
        {
          "output_type": "stream",
          "name": "stderr",
          "text": [
            "\r  7%|▋         | 71/1000 [04:29<57:28,  3.71s/it]"
          ]
        },
        {
          "output_type": "stream",
          "name": "stdout",
          "text": [
            "Training loss: 0.4641\n",
            "Training metric: 0.6378\n",
            "perturbation loss: 0.6129\n",
            "Validation acc: 0.5933\n",
            "\n",
            "Start of epoch 71\n"
          ]
        },
        {
          "output_type": "stream",
          "name": "stderr",
          "text": [
            "\r  7%|▋         | 72/1000 [04:32<57:43,  3.73s/it]"
          ]
        },
        {
          "output_type": "stream",
          "name": "stdout",
          "text": [
            "Training loss: 0.4901\n",
            "Training metric: 0.6395\n",
            "perturbation loss: 0.6383\n",
            "Validation acc: 0.6000\n",
            "\n",
            "Start of epoch 72\n"
          ]
        },
        {
          "output_type": "stream",
          "name": "stderr",
          "text": [
            "\r  7%|▋         | 73/1000 [04:36<57:32,  3.72s/it]"
          ]
        },
        {
          "output_type": "stream",
          "name": "stdout",
          "text": [
            "Training loss: 0.5229\n",
            "Training metric: 0.6410\n",
            "perturbation loss: 0.6589\n",
            "Validation acc: 0.6133\n",
            "\n",
            "Start of epoch 73\n"
          ]
        },
        {
          "output_type": "stream",
          "name": "stderr",
          "text": [
            "\r  7%|▋         | 74/1000 [04:40<57:23,  3.72s/it]"
          ]
        },
        {
          "output_type": "stream",
          "name": "stdout",
          "text": [
            "Training loss: 0.6869\n",
            "Training metric: 0.6424\n",
            "perturbation loss: 0.6669\n",
            "Validation acc: 0.6133\n",
            "\n",
            "Start of epoch 74\n"
          ]
        },
        {
          "output_type": "stream",
          "name": "stderr",
          "text": [
            "\r  8%|▊         | 75/1000 [04:44<57:34,  3.73s/it]"
          ]
        },
        {
          "output_type": "stream",
          "name": "stdout",
          "text": [
            "Training loss: 0.6569\n",
            "Training metric: 0.6437\n",
            "perturbation loss: 0.6117\n",
            "Validation acc: 0.6200\n",
            "\n",
            "Start of epoch 75\n"
          ]
        },
        {
          "output_type": "stream",
          "name": "stderr",
          "text": [
            "\r  8%|▊         | 76/1000 [04:47<57:41,  3.75s/it]"
          ]
        },
        {
          "output_type": "stream",
          "name": "stdout",
          "text": [
            "Training loss: 0.4356\n",
            "Training metric: 0.6451\n",
            "perturbation loss: 0.5095\n",
            "Validation acc: 0.6267\n",
            "\n",
            "Start of epoch 76\n"
          ]
        },
        {
          "output_type": "stream",
          "name": "stderr",
          "text": [
            "\r  8%|▊         | 77/1000 [04:51<57:26,  3.73s/it]"
          ]
        },
        {
          "output_type": "stream",
          "name": "stdout",
          "text": [
            "Training loss: 0.4379\n",
            "Training metric: 0.6463\n",
            "perturbation loss: 0.5994\n",
            "Validation acc: 0.6467\n",
            "\n",
            "Start of epoch 77\n"
          ]
        },
        {
          "output_type": "stream",
          "name": "stderr",
          "text": [
            "\r  8%|▊         | 78/1000 [04:55<57:14,  3.73s/it]"
          ]
        },
        {
          "output_type": "stream",
          "name": "stdout",
          "text": [
            "Training loss: 0.5725\n",
            "Training metric: 0.6476\n",
            "perturbation loss: 0.6381\n",
            "Validation acc: 0.6667\n",
            "\n",
            "Start of epoch 78\n"
          ]
        },
        {
          "output_type": "stream",
          "name": "stderr",
          "text": [
            "\r  8%|▊         | 79/1000 [04:59<57:25,  3.74s/it]"
          ]
        },
        {
          "output_type": "stream",
          "name": "stdout",
          "text": [
            "Training loss: 0.4784\n",
            "Training metric: 0.6489\n",
            "perturbation loss: 0.5104\n",
            "Validation acc: 0.6267\n",
            "\n",
            "Start of epoch 79\n"
          ]
        },
        {
          "output_type": "stream",
          "name": "stderr",
          "text": [
            "\r  8%|▊         | 80/1000 [05:02<57:12,  3.73s/it]"
          ]
        },
        {
          "output_type": "stream",
          "name": "stdout",
          "text": [
            "Training loss: 0.4396\n",
            "Training metric: 0.6501\n",
            "perturbation loss: 0.5608\n",
            "Validation acc: 0.6267\n",
            "\n",
            "Start of epoch 80\n"
          ]
        },
        {
          "output_type": "stream",
          "name": "stderr",
          "text": [
            "\r  8%|▊         | 81/1000 [05:06<57:01,  3.72s/it]"
          ]
        },
        {
          "output_type": "stream",
          "name": "stdout",
          "text": [
            "Training loss: 0.4393\n",
            "Training metric: 0.6517\n",
            "perturbation loss: 0.5358\n",
            "Validation acc: 0.6667\n",
            "\n",
            "Start of epoch 81\n"
          ]
        },
        {
          "output_type": "stream",
          "name": "stderr",
          "text": [
            "\r  8%|▊         | 82/1000 [05:10<56:52,  3.72s/it]"
          ]
        },
        {
          "output_type": "stream",
          "name": "stdout",
          "text": [
            "Training loss: 0.4903\n",
            "Training metric: 0.6534\n",
            "perturbation loss: 0.5570\n",
            "Validation acc: 0.6067\n",
            "\n",
            "Start of epoch 82\n"
          ]
        },
        {
          "output_type": "stream",
          "name": "stderr",
          "text": [
            "\r  8%|▊         | 83/1000 [05:13<56:59,  3.73s/it]"
          ]
        },
        {
          "output_type": "stream",
          "name": "stdout",
          "text": [
            "Training loss: 0.4702\n",
            "Training metric: 0.6549\n",
            "perturbation loss: 0.6028\n",
            "Validation acc: 0.6267\n",
            "\n",
            "Start of epoch 83\n"
          ]
        },
        {
          "output_type": "stream",
          "name": "stderr",
          "text": [
            "\r  8%|▊         | 84/1000 [05:17<56:51,  3.72s/it]"
          ]
        },
        {
          "output_type": "stream",
          "name": "stdout",
          "text": [
            "Training loss: 0.6048\n",
            "Training metric: 0.6565\n",
            "perturbation loss: 0.5430\n",
            "Validation acc: 0.6133\n",
            "\n",
            "Start of epoch 84\n"
          ]
        },
        {
          "output_type": "stream",
          "name": "stderr",
          "text": [
            "\r  8%|▊         | 85/1000 [05:21<56:43,  3.72s/it]"
          ]
        },
        {
          "output_type": "stream",
          "name": "stdout",
          "text": [
            "Training loss: 0.3539\n",
            "Training metric: 0.6578\n",
            "perturbation loss: 0.4640\n",
            "Validation acc: 0.6267\n",
            "\n",
            "Start of epoch 85\n"
          ]
        },
        {
          "output_type": "stream",
          "name": "stderr",
          "text": [
            "\r  9%|▊         | 86/1000 [05:25<56:36,  3.72s/it]"
          ]
        },
        {
          "output_type": "stream",
          "name": "stdout",
          "text": [
            "Training loss: 0.5242\n",
            "Training metric: 0.6594\n",
            "perturbation loss: 0.5820\n",
            "Validation acc: 0.6333\n",
            "\n",
            "Start of epoch 86\n"
          ]
        },
        {
          "output_type": "stream",
          "name": "stderr",
          "text": [
            "\r  9%|▊         | 87/1000 [05:28<56:37,  3.72s/it]"
          ]
        },
        {
          "output_type": "stream",
          "name": "stdout",
          "text": [
            "Training loss: 0.4936\n",
            "Training metric: 0.6607\n",
            "perturbation loss: 0.5281\n",
            "Validation acc: 0.6267\n",
            "\n",
            "Start of epoch 87\n"
          ]
        },
        {
          "output_type": "stream",
          "name": "stderr",
          "text": [
            "\r  9%|▉         | 88/1000 [05:32<56:28,  3.72s/it]"
          ]
        },
        {
          "output_type": "stream",
          "name": "stdout",
          "text": [
            "Training loss: 0.4161\n",
            "Training metric: 0.6621\n",
            "perturbation loss: 0.5031\n",
            "Validation acc: 0.6600\n",
            "\n",
            "Start of epoch 88\n"
          ]
        },
        {
          "output_type": "stream",
          "name": "stderr",
          "text": [
            "\r  9%|▉         | 89/1000 [05:36<56:20,  3.71s/it]"
          ]
        },
        {
          "output_type": "stream",
          "name": "stdout",
          "text": [
            "Training loss: 0.4247\n",
            "Training metric: 0.6639\n",
            "perturbation loss: 0.5440\n",
            "Validation acc: 0.6600\n",
            "\n",
            "Start of epoch 89\n"
          ]
        },
        {
          "output_type": "stream",
          "name": "stderr",
          "text": [
            "\r  9%|▉         | 90/1000 [05:40<56:35,  3.73s/it]"
          ]
        },
        {
          "output_type": "stream",
          "name": "stdout",
          "text": [
            "Training loss: 0.4526\n",
            "Training metric: 0.6655\n",
            "perturbation loss: 0.4984\n",
            "Validation acc: 0.6467\n",
            "\n",
            "Start of epoch 90\n"
          ]
        },
        {
          "output_type": "stream",
          "name": "stderr",
          "text": [
            "\r  9%|▉         | 91/1000 [05:43<56:25,  3.72s/it]"
          ]
        },
        {
          "output_type": "stream",
          "name": "stdout",
          "text": [
            "Training loss: 0.3305\n",
            "Training metric: 0.6675\n",
            "perturbation loss: 0.5019\n",
            "Validation acc: 0.6867\n",
            "\n",
            "Start of epoch 91\n"
          ]
        },
        {
          "output_type": "stream",
          "name": "stderr",
          "text": [
            "\r  9%|▉         | 92/1000 [05:47<56:16,  3.72s/it]"
          ]
        },
        {
          "output_type": "stream",
          "name": "stdout",
          "text": [
            "Training loss: 0.3170\n",
            "Training metric: 0.6695\n",
            "perturbation loss: 0.5001\n",
            "Validation acc: 0.7200\n",
            "\n",
            "Start of epoch 92\n"
          ]
        },
        {
          "output_type": "stream",
          "name": "stderr",
          "text": [
            "\r  9%|▉         | 93/1000 [05:51<56:10,  3.72s/it]"
          ]
        },
        {
          "output_type": "stream",
          "name": "stdout",
          "text": [
            "Training loss: 0.3225\n",
            "Training metric: 0.6719\n",
            "perturbation loss: 0.4734\n",
            "Validation acc: 0.7267\n",
            "\n",
            "Start of epoch 93\n"
          ]
        },
        {
          "output_type": "stream",
          "name": "stderr",
          "text": [
            "\r  9%|▉         | 94/1000 [05:54<56:25,  3.74s/it]"
          ]
        },
        {
          "output_type": "stream",
          "name": "stdout",
          "text": [
            "Training loss: 0.4256\n",
            "Training metric: 0.6746\n",
            "perturbation loss: 0.5413\n",
            "Validation acc: 0.7467\n",
            "\n",
            "Start of epoch 94\n"
          ]
        },
        {
          "output_type": "stream",
          "name": "stderr",
          "text": [
            "\r 10%|▉         | 95/1000 [05:58<56:15,  3.73s/it]"
          ]
        },
        {
          "output_type": "stream",
          "name": "stdout",
          "text": [
            "Training loss: 0.3260\n",
            "Training metric: 0.6772\n",
            "perturbation loss: 0.5664\n",
            "Validation acc: 0.7267\n",
            "\n",
            "Start of epoch 95\n"
          ]
        },
        {
          "output_type": "stream",
          "name": "stderr",
          "text": [
            "\r 10%|▉         | 96/1000 [06:02<56:05,  3.72s/it]"
          ]
        },
        {
          "output_type": "stream",
          "name": "stdout",
          "text": [
            "Training loss: 0.3633\n",
            "Training metric: 0.6799\n",
            "perturbation loss: 0.5324\n",
            "Validation acc: 0.7533\n",
            "\n",
            "Start of epoch 96\n"
          ]
        },
        {
          "output_type": "stream",
          "name": "stderr",
          "text": [
            "\r 10%|▉         | 97/1000 [06:06<55:58,  3.72s/it]"
          ]
        },
        {
          "output_type": "stream",
          "name": "stdout",
          "text": [
            "Training loss: 0.3255\n",
            "Training metric: 0.6824\n",
            "perturbation loss: 0.5254\n",
            "Validation acc: 0.7200\n",
            "\n",
            "Start of epoch 97\n"
          ]
        },
        {
          "output_type": "stream",
          "name": "stderr",
          "text": [
            "\r 10%|▉         | 98/1000 [06:09<55:51,  3.72s/it]"
          ]
        },
        {
          "output_type": "stream",
          "name": "stdout",
          "text": [
            "Training loss: 0.3467\n",
            "Training metric: 0.6847\n",
            "perturbation loss: 0.4244\n",
            "Validation acc: 0.8067\n",
            "\n",
            "Start of epoch 98\n"
          ]
        },
        {
          "output_type": "stream",
          "name": "stderr",
          "text": [
            "\r 10%|▉         | 99/1000 [06:13<55:44,  3.71s/it]"
          ]
        },
        {
          "output_type": "stream",
          "name": "stdout",
          "text": [
            "Training loss: 0.2659\n",
            "Training metric: 0.6874\n",
            "perturbation loss: 0.4627\n",
            "Validation acc: 0.7800\n",
            "\n",
            "Start of epoch 99\n"
          ]
        },
        {
          "output_type": "stream",
          "name": "stderr",
          "text": [
            "\r 10%|█         | 100/1000 [06:17<55:39,  3.71s/it]"
          ]
        },
        {
          "output_type": "stream",
          "name": "stdout",
          "text": [
            "Training loss: 0.2849\n",
            "Training metric: 0.6899\n",
            "perturbation loss: 0.4991\n",
            "Validation acc: 0.7867\n",
            "\n",
            "Start of epoch 100\n"
          ]
        },
        {
          "output_type": "stream",
          "name": "stderr",
          "text": [
            "\r 10%|█         | 101/1000 [06:20<55:53,  3.73s/it]"
          ]
        },
        {
          "output_type": "stream",
          "name": "stdout",
          "text": [
            "Training loss: 0.2421\n",
            "Training metric: 0.6925\n",
            "perturbation loss: 0.5498\n",
            "Validation acc: 0.8133\n",
            "\n",
            "Start of epoch 101\n"
          ]
        },
        {
          "output_type": "stream",
          "name": "stderr",
          "text": [
            "\r 10%|█         | 102/1000 [06:24<55:43,  3.72s/it]"
          ]
        },
        {
          "output_type": "stream",
          "name": "stdout",
          "text": [
            "Training loss: 0.2258\n",
            "Training metric: 0.6950\n",
            "perturbation loss: 0.4156\n",
            "Validation acc: 0.7933\n",
            "\n",
            "Start of epoch 102\n"
          ]
        },
        {
          "output_type": "stream",
          "name": "stderr",
          "text": [
            "\r 10%|█         | 103/1000 [06:28<55:35,  3.72s/it]"
          ]
        },
        {
          "output_type": "stream",
          "name": "stdout",
          "text": [
            "Training loss: 0.2357\n",
            "Training metric: 0.6974\n",
            "perturbation loss: 0.4381\n",
            "Validation acc: 0.8467\n",
            "\n",
            "Start of epoch 103\n"
          ]
        },
        {
          "output_type": "stream",
          "name": "stderr",
          "text": [
            "\r 10%|█         | 104/1000 [06:32<55:29,  3.72s/it]"
          ]
        },
        {
          "output_type": "stream",
          "name": "stdout",
          "text": [
            "Training loss: 0.3560\n",
            "Training metric: 0.6998\n",
            "perturbation loss: 0.3884\n",
            "Validation acc: 0.8867\n",
            "\n",
            "Start of epoch 104\n"
          ]
        },
        {
          "output_type": "stream",
          "name": "stderr",
          "text": [
            "\r 10%|█         | 105/1000 [06:35<55:42,  3.73s/it]"
          ]
        },
        {
          "output_type": "stream",
          "name": "stdout",
          "text": [
            "Training loss: 0.2394\n",
            "Training metric: 0.7024\n",
            "perturbation loss: 0.3651\n",
            "Validation acc: 0.8267\n",
            "\n",
            "Start of epoch 105\n"
          ]
        },
        {
          "output_type": "stream",
          "name": "stderr",
          "text": [
            "\r 11%|█         | 106/1000 [06:39<55:32,  3.73s/it]"
          ]
        },
        {
          "output_type": "stream",
          "name": "stdout",
          "text": [
            "Training loss: 0.1775\n",
            "Training metric: 0.7048\n",
            "perturbation loss: 0.3659\n",
            "Validation acc: 0.8133\n",
            "\n",
            "Start of epoch 106\n"
          ]
        },
        {
          "output_type": "stream",
          "name": "stderr",
          "text": [
            "\r 11%|█         | 107/1000 [06:43<55:23,  3.72s/it]"
          ]
        },
        {
          "output_type": "stream",
          "name": "stdout",
          "text": [
            "Training loss: 0.1575\n",
            "Training metric: 0.7070\n",
            "perturbation loss: 0.2979\n",
            "Validation acc: 0.8267\n",
            "\n",
            "Start of epoch 107\n"
          ]
        },
        {
          "output_type": "stream",
          "name": "stderr",
          "text": [
            "\r 11%|█         | 108/1000 [06:46<55:25,  3.73s/it]"
          ]
        },
        {
          "output_type": "stream",
          "name": "stdout",
          "text": [
            "Training loss: 0.2431\n",
            "Training metric: 0.7094\n",
            "perturbation loss: 0.3945\n",
            "Validation acc: 0.8400\n",
            "\n",
            "Start of epoch 108\n"
          ]
        },
        {
          "output_type": "stream",
          "name": "stderr",
          "text": [
            "\r 11%|█         | 109/1000 [06:50<55:16,  3.72s/it]"
          ]
        },
        {
          "output_type": "stream",
          "name": "stdout",
          "text": [
            "Training loss: 0.1135\n",
            "Training metric: 0.7116\n",
            "perturbation loss: 0.3179\n",
            "Validation acc: 0.8133\n",
            "\n",
            "Start of epoch 109\n"
          ]
        },
        {
          "output_type": "stream",
          "name": "stderr",
          "text": [
            "\r 11%|█         | 110/1000 [06:54<55:07,  3.72s/it]"
          ]
        },
        {
          "output_type": "stream",
          "name": "stdout",
          "text": [
            "Training loss: 0.1653\n",
            "Training metric: 0.7137\n",
            "perturbation loss: 0.3299\n",
            "Validation acc: 0.7933\n",
            "\n",
            "Start of epoch 110\n"
          ]
        },
        {
          "output_type": "stream",
          "name": "stderr",
          "text": [
            "\r 11%|█         | 111/1000 [06:58<55:00,  3.71s/it]"
          ]
        },
        {
          "output_type": "stream",
          "name": "stdout",
          "text": [
            "Training loss: 0.1065\n",
            "Training metric: 0.7159\n",
            "perturbation loss: 0.2548\n",
            "Validation acc: 0.8467\n",
            "\n",
            "Start of epoch 111\n"
          ]
        },
        {
          "output_type": "stream",
          "name": "stderr",
          "text": [
            "\r 11%|█         | 112/1000 [07:01<55:13,  3.73s/it]"
          ]
        },
        {
          "output_type": "stream",
          "name": "stdout",
          "text": [
            "Training loss: 0.2563\n",
            "Training metric: 0.7181\n",
            "perturbation loss: 0.2993\n",
            "Validation acc: 0.8467\n",
            "\n",
            "Start of epoch 112\n"
          ]
        },
        {
          "output_type": "stream",
          "name": "stderr",
          "text": [
            "\r 11%|█▏        | 113/1000 [07:05<55:04,  3.73s/it]"
          ]
        },
        {
          "output_type": "stream",
          "name": "stdout",
          "text": [
            "Training loss: 0.1275\n",
            "Training metric: 0.7203\n",
            "perturbation loss: 0.2823\n",
            "Validation acc: 0.8267\n",
            "\n",
            "Start of epoch 113\n"
          ]
        },
        {
          "output_type": "stream",
          "name": "stderr",
          "text": [
            "\r 11%|█▏        | 114/1000 [07:09<54:56,  3.72s/it]"
          ]
        },
        {
          "output_type": "stream",
          "name": "stdout",
          "text": [
            "Training loss: 0.0801\n",
            "Training metric: 0.7225\n",
            "perturbation loss: 0.2073\n",
            "Validation acc: 0.8267\n",
            "\n",
            "Start of epoch 114\n"
          ]
        },
        {
          "output_type": "stream",
          "name": "stderr",
          "text": [
            "\r 12%|█▏        | 115/1000 [07:13<54:50,  3.72s/it]"
          ]
        },
        {
          "output_type": "stream",
          "name": "stdout",
          "text": [
            "Training loss: 0.1059\n",
            "Training metric: 0.7247\n",
            "perturbation loss: 0.2130\n",
            "Validation acc: 0.8533\n",
            "\n",
            "Start of epoch 115\n"
          ]
        },
        {
          "output_type": "stream",
          "name": "stderr",
          "text": [
            "\r 12%|█▏        | 116/1000 [07:16<54:49,  3.72s/it]"
          ]
        },
        {
          "output_type": "stream",
          "name": "stdout",
          "text": [
            "Training loss: 0.1149\n",
            "Training metric: 0.7268\n",
            "perturbation loss: 0.2271\n",
            "Validation acc: 0.8400\n",
            "\n",
            "Start of epoch 116\n"
          ]
        },
        {
          "output_type": "stream",
          "name": "stderr",
          "text": [
            "\r 12%|█▏        | 117/1000 [07:20<54:42,  3.72s/it]"
          ]
        },
        {
          "output_type": "stream",
          "name": "stdout",
          "text": [
            "Training loss: 0.0472\n",
            "Training metric: 0.7289\n",
            "perturbation loss: 0.1617\n",
            "Validation acc: 0.8333\n",
            "\n",
            "Start of epoch 117\n"
          ]
        },
        {
          "output_type": "stream",
          "name": "stderr",
          "text": [
            "\r 12%|█▏        | 118/1000 [07:24<54:34,  3.71s/it]"
          ]
        },
        {
          "output_type": "stream",
          "name": "stdout",
          "text": [
            "Training loss: 0.0584\n",
            "Training metric: 0.7309\n",
            "perturbation loss: 0.2097\n",
            "Validation acc: 0.8733\n",
            "\n",
            "Start of epoch 118\n"
          ]
        },
        {
          "output_type": "stream",
          "name": "stderr",
          "text": [
            "\r 12%|█▏        | 119/1000 [07:27<54:48,  3.73s/it]"
          ]
        },
        {
          "output_type": "stream",
          "name": "stdout",
          "text": [
            "Training loss: 0.0907\n",
            "Training metric: 0.7330\n",
            "perturbation loss: 0.1868\n",
            "Validation acc: 0.8333\n",
            "\n",
            "Start of epoch 119\n"
          ]
        },
        {
          "output_type": "stream",
          "name": "stderr",
          "text": [
            "\r 12%|█▏        | 120/1000 [07:31<54:38,  3.73s/it]"
          ]
        },
        {
          "output_type": "stream",
          "name": "stdout",
          "text": [
            "Training loss: 0.1327\n",
            "Training metric: 0.7350\n",
            "perturbation loss: 0.2932\n",
            "Validation acc: 0.8400\n",
            "\n",
            "Start of epoch 120\n"
          ]
        },
        {
          "output_type": "stream",
          "name": "stderr",
          "text": [
            "\r 12%|█▏        | 121/1000 [07:35<54:29,  3.72s/it]"
          ]
        },
        {
          "output_type": "stream",
          "name": "stdout",
          "text": [
            "Training loss: 0.1847\n",
            "Training metric: 0.7367\n",
            "perturbation loss: 0.2240\n",
            "Validation acc: 0.8467\n",
            "\n",
            "Start of epoch 121\n"
          ]
        },
        {
          "output_type": "stream",
          "name": "stderr",
          "text": [
            "\r 12%|█▏        | 122/1000 [07:39<54:21,  3.71s/it]"
          ]
        },
        {
          "output_type": "stream",
          "name": "stdout",
          "text": [
            "Training loss: 0.1660\n",
            "Training metric: 0.7386\n",
            "perturbation loss: 0.2456\n",
            "Validation acc: 0.8200\n",
            "\n",
            "Start of epoch 122\n"
          ]
        },
        {
          "output_type": "stream",
          "name": "stderr",
          "text": [
            "\r 12%|█▏        | 123/1000 [07:42<54:35,  3.73s/it]"
          ]
        },
        {
          "output_type": "stream",
          "name": "stdout",
          "text": [
            "Training loss: 0.0400\n",
            "Training metric: 0.7404\n",
            "perturbation loss: 0.1583\n",
            "Validation acc: 0.8467\n",
            "\n",
            "Start of epoch 123\n"
          ]
        },
        {
          "output_type": "stream",
          "name": "stderr",
          "text": [
            "\r 12%|█▏        | 124/1000 [07:46<54:24,  3.73s/it]"
          ]
        },
        {
          "output_type": "stream",
          "name": "stdout",
          "text": [
            "Training loss: 0.0716\n",
            "Training metric: 0.7423\n",
            "perturbation loss: 0.2031\n",
            "Validation acc: 0.8333\n",
            "\n",
            "Start of epoch 124\n"
          ]
        },
        {
          "output_type": "stream",
          "name": "stderr",
          "text": [
            "\r 12%|█▎        | 125/1000 [07:50<54:14,  3.72s/it]"
          ]
        },
        {
          "output_type": "stream",
          "name": "stdout",
          "text": [
            "Training loss: 0.0572\n",
            "Training metric: 0.7440\n",
            "perturbation loss: 0.1378\n",
            "Validation acc: 0.8467\n",
            "\n",
            "Start of epoch 125\n"
          ]
        },
        {
          "output_type": "stream",
          "name": "stderr",
          "text": [
            "\r 13%|█▎        | 126/1000 [07:53<54:07,  3.72s/it]"
          ]
        },
        {
          "output_type": "stream",
          "name": "stdout",
          "text": [
            "Training loss: 0.2041\n",
            "Training metric: 0.7456\n",
            "perturbation loss: 0.2752\n",
            "Validation acc: 0.8333\n",
            "\n",
            "Start of epoch 126\n"
          ]
        },
        {
          "output_type": "stream",
          "name": "stderr",
          "text": [
            "\r 13%|█▎        | 127/1000 [07:57<54:07,  3.72s/it]"
          ]
        },
        {
          "output_type": "stream",
          "name": "stdout",
          "text": [
            "Training loss: 0.0994\n",
            "Training metric: 0.7473\n",
            "perturbation loss: 0.1742\n",
            "Validation acc: 0.8533\n",
            "\n",
            "Start of epoch 127\n"
          ]
        },
        {
          "output_type": "stream",
          "name": "stderr",
          "text": [
            "\r 13%|█▎        | 128/1000 [08:01<54:00,  3.72s/it]"
          ]
        },
        {
          "output_type": "stream",
          "name": "stdout",
          "text": [
            "Training loss: 0.1024\n",
            "Training metric: 0.7489\n",
            "perturbation loss: 0.1826\n",
            "Validation acc: 0.8467\n",
            "\n",
            "Start of epoch 128\n"
          ]
        },
        {
          "output_type": "stream",
          "name": "stderr",
          "text": [
            "\r 13%|█▎        | 129/1000 [08:05<53:54,  3.71s/it]"
          ]
        },
        {
          "output_type": "stream",
          "name": "stdout",
          "text": [
            "Training loss: 0.0798\n",
            "Training metric: 0.7507\n",
            "perturbation loss: 0.1452\n",
            "Validation acc: 0.8800\n",
            "\n",
            "Start of epoch 129\n"
          ]
        },
        {
          "output_type": "stream",
          "name": "stderr",
          "text": [
            "\r 13%|█▎        | 130/1000 [08:08<54:07,  3.73s/it]"
          ]
        },
        {
          "output_type": "stream",
          "name": "stdout",
          "text": [
            "Training loss: 0.0359\n",
            "Training metric: 0.7524\n",
            "perturbation loss: 0.0902\n",
            "Validation acc: 0.9000\n",
            "\n",
            "Start of epoch 130\n"
          ]
        },
        {
          "output_type": "stream",
          "name": "stderr",
          "text": [
            "\r 13%|█▎        | 131/1000 [08:12<53:57,  3.73s/it]"
          ]
        },
        {
          "output_type": "stream",
          "name": "stdout",
          "text": [
            "Training loss: 0.0299\n",
            "Training metric: 0.7542\n",
            "perturbation loss: 0.1050\n",
            "Validation acc: 0.9133\n",
            "\n",
            "Start of epoch 131\n"
          ]
        },
        {
          "output_type": "stream",
          "name": "stderr",
          "text": [
            "\r 13%|█▎        | 132/1000 [08:16<53:47,  3.72s/it]"
          ]
        },
        {
          "output_type": "stream",
          "name": "stdout",
          "text": [
            "Training loss: 0.0348\n",
            "Training metric: 0.7559\n",
            "perturbation loss: 0.0889\n",
            "Validation acc: 0.8933\n",
            "\n",
            "Start of epoch 132\n"
          ]
        },
        {
          "output_type": "stream",
          "name": "stderr",
          "text": [
            "\r 13%|█▎        | 133/1000 [08:20<53:58,  3.74s/it]"
          ]
        },
        {
          "output_type": "stream",
          "name": "stdout",
          "text": [
            "Training loss: 0.0692\n",
            "Training metric: 0.7576\n",
            "perturbation loss: 0.1560\n",
            "Validation acc: 0.8867\n",
            "\n",
            "Start of epoch 133\n"
          ]
        },
        {
          "output_type": "stream",
          "name": "stderr",
          "text": [
            "\r 13%|█▎        | 134/1000 [08:23<54:05,  3.75s/it]"
          ]
        },
        {
          "output_type": "stream",
          "name": "stdout",
          "text": [
            "Training loss: 0.0463\n",
            "Training metric: 0.7593\n",
            "perturbation loss: 0.0955\n",
            "Validation acc: 0.8933\n",
            "\n",
            "Start of epoch 134\n"
          ]
        },
        {
          "output_type": "stream",
          "name": "stderr",
          "text": [
            "\r 14%|█▎        | 135/1000 [08:27<53:52,  3.74s/it]"
          ]
        },
        {
          "output_type": "stream",
          "name": "stdout",
          "text": [
            "Training loss: 0.0300\n",
            "Training metric: 0.7610\n",
            "perturbation loss: 0.0805\n",
            "Validation acc: 0.9000\n",
            "\n",
            "Start of epoch 135\n"
          ]
        },
        {
          "output_type": "stream",
          "name": "stderr",
          "text": [
            "\r 14%|█▎        | 136/1000 [08:31<53:39,  3.73s/it]"
          ]
        },
        {
          "output_type": "stream",
          "name": "stdout",
          "text": [
            "Training loss: 0.0518\n",
            "Training metric: 0.7627\n",
            "perturbation loss: 0.1025\n",
            "Validation acc: 0.8800\n",
            "\n",
            "Start of epoch 136\n"
          ]
        },
        {
          "output_type": "stream",
          "name": "stderr",
          "text": [
            "\r 14%|█▎        | 137/1000 [08:34<53:30,  3.72s/it]"
          ]
        },
        {
          "output_type": "stream",
          "name": "stdout",
          "text": [
            "Training loss: 0.0426\n",
            "Training metric: 0.7643\n",
            "perturbation loss: 0.1005\n",
            "Validation acc: 0.9000\n",
            "\n",
            "Start of epoch 137\n"
          ]
        },
        {
          "output_type": "stream",
          "name": "stderr",
          "text": [
            "\r 14%|█▍        | 138/1000 [08:40<59:44,  4.16s/it]"
          ]
        },
        {
          "output_type": "stream",
          "name": "stdout",
          "text": [
            "Training loss: 0.0379\n",
            "Training metric: 0.7659\n",
            "perturbation loss: 0.0803\n",
            "Validation acc: 0.9000\n",
            "\n",
            "Start of epoch 138\n"
          ]
        },
        {
          "output_type": "stream",
          "name": "stderr",
          "text": [
            "\r 14%|█▍        | 139/1000 [08:43<58:02,  4.04s/it]"
          ]
        },
        {
          "output_type": "stream",
          "name": "stdout",
          "text": [
            "Training loss: 0.0246\n",
            "Training metric: 0.7675\n",
            "perturbation loss: 0.0756\n",
            "Validation acc: 0.8933\n",
            "\n",
            "Start of epoch 139\n"
          ]
        },
        {
          "output_type": "stream",
          "name": "stderr",
          "text": [
            "\r 14%|█▍        | 140/1000 [08:47<56:33,  3.95s/it]"
          ]
        },
        {
          "output_type": "stream",
          "name": "stdout",
          "text": [
            "Training loss: 0.0115\n",
            "Training metric: 0.7692\n",
            "perturbation loss: 0.0411\n",
            "Validation acc: 0.8667\n",
            "\n",
            "Start of epoch 140\n"
          ]
        },
        {
          "output_type": "stream",
          "name": "stderr",
          "text": [
            "\r 14%|█▍        | 141/1000 [08:51<55:50,  3.90s/it]"
          ]
        },
        {
          "output_type": "stream",
          "name": "stdout",
          "text": [
            "Training loss: 0.0297\n",
            "Training metric: 0.7707\n",
            "perturbation loss: 0.0589\n",
            "Validation acc: 0.8467\n",
            "\n",
            "Start of epoch 141\n"
          ]
        },
        {
          "output_type": "stream",
          "name": "stderr",
          "text": [
            "\r 14%|█▍        | 142/1000 [08:55<54:57,  3.84s/it]"
          ]
        },
        {
          "output_type": "stream",
          "name": "stdout",
          "text": [
            "Training loss: 0.0379\n",
            "Training metric: 0.7722\n",
            "perturbation loss: 0.1574\n",
            "Validation acc: 0.8200\n",
            "\n",
            "Start of epoch 142\n"
          ]
        },
        {
          "output_type": "stream",
          "name": "stderr",
          "text": [
            "\r 14%|█▍        | 143/1000 [08:58<54:17,  3.80s/it]"
          ]
        },
        {
          "output_type": "stream",
          "name": "stdout",
          "text": [
            "Training loss: 0.0656\n",
            "Training metric: 0.7736\n",
            "perturbation loss: 0.2558\n",
            "Validation acc: 0.8667\n",
            "\n",
            "Start of epoch 143\n"
          ]
        },
        {
          "output_type": "stream",
          "name": "stderr",
          "text": [
            "\r 14%|█▍        | 144/1000 [09:02<53:51,  3.77s/it]"
          ]
        },
        {
          "output_type": "stream",
          "name": "stdout",
          "text": [
            "Training loss: 0.1552\n",
            "Training metric: 0.7750\n",
            "perturbation loss: 0.1745\n",
            "Validation acc: 0.8600\n",
            "\n",
            "Start of epoch 144\n"
          ]
        },
        {
          "output_type": "stream",
          "name": "stderr",
          "text": [
            "\r 14%|█▍        | 145/1000 [09:06<53:32,  3.76s/it]"
          ]
        },
        {
          "output_type": "stream",
          "name": "stdout",
          "text": [
            "Training loss: 0.0925\n",
            "Training metric: 0.7763\n",
            "perturbation loss: 0.1700\n",
            "Validation acc: 0.8800\n",
            "\n",
            "Start of epoch 145\n"
          ]
        },
        {
          "output_type": "stream",
          "name": "stderr",
          "text": [
            "\r 15%|█▍        | 146/1000 [09:09<53:15,  3.74s/it]"
          ]
        },
        {
          "output_type": "stream",
          "name": "stdout",
          "text": [
            "Training loss: 0.1216\n",
            "Training metric: 0.7773\n",
            "perturbation loss: 0.2584\n",
            "Validation acc: 0.8533\n",
            "\n",
            "Start of epoch 146\n"
          ]
        },
        {
          "output_type": "stream",
          "name": "stderr",
          "text": [
            "\r 15%|█▍        | 147/1000 [09:13<53:03,  3.73s/it]"
          ]
        },
        {
          "output_type": "stream",
          "name": "stdout",
          "text": [
            "Training loss: 0.0678\n",
            "Training metric: 0.7784\n",
            "perturbation loss: 0.2122\n",
            "Validation acc: 0.8600\n",
            "\n",
            "Start of epoch 147\n"
          ]
        },
        {
          "output_type": "stream",
          "name": "stderr",
          "text": [
            "\r 15%|█▍        | 148/1000 [09:17<53:11,  3.75s/it]"
          ]
        },
        {
          "output_type": "stream",
          "name": "stdout",
          "text": [
            "Training loss: 0.0398\n",
            "Training metric: 0.7797\n",
            "perturbation loss: 0.1308\n",
            "Validation acc: 0.8800\n",
            "\n",
            "Start of epoch 148\n"
          ]
        },
        {
          "output_type": "stream",
          "name": "stderr",
          "text": [
            "\r 15%|█▍        | 149/1000 [09:21<52:59,  3.74s/it]"
          ]
        },
        {
          "output_type": "stream",
          "name": "stdout",
          "text": [
            "Training loss: 0.0518\n",
            "Training metric: 0.7811\n",
            "perturbation loss: 0.1946\n",
            "Validation acc: 0.8533\n",
            "\n",
            "Start of epoch 149\n"
          ]
        },
        {
          "output_type": "stream",
          "name": "stderr",
          "text": [
            "\r 15%|█▌        | 150/1000 [09:24<52:47,  3.73s/it]"
          ]
        },
        {
          "output_type": "stream",
          "name": "stdout",
          "text": [
            "Training loss: 0.0428\n",
            "Training metric: 0.7825\n",
            "perturbation loss: 0.0855\n",
            "Validation acc: 0.8733\n",
            "\n",
            "Start of epoch 150\n"
          ]
        },
        {
          "output_type": "stream",
          "name": "stderr",
          "text": [
            "\r 15%|█▌        | 151/1000 [09:28<52:37,  3.72s/it]"
          ]
        },
        {
          "output_type": "stream",
          "name": "stdout",
          "text": [
            "Training loss: 0.0138\n",
            "Training metric: 0.7839\n",
            "perturbation loss: 0.0730\n",
            "Validation acc: 0.8867\n",
            "\n",
            "Start of epoch 151\n"
          ]
        },
        {
          "output_type": "stream",
          "name": "stderr",
          "text": [
            "\r 15%|█▌        | 152/1000 [09:32<52:48,  3.74s/it]"
          ]
        },
        {
          "output_type": "stream",
          "name": "stdout",
          "text": [
            "Training loss: 0.0440\n",
            "Training metric: 0.7852\n",
            "perturbation loss: 0.0772\n",
            "Validation acc: 0.8867\n",
            "\n",
            "Start of epoch 152\n"
          ]
        },
        {
          "output_type": "stream",
          "name": "stderr",
          "text": [
            "\r 15%|█▌        | 153/1000 [09:36<52:38,  3.73s/it]"
          ]
        },
        {
          "output_type": "stream",
          "name": "stdout",
          "text": [
            "Training loss: 0.0139\n",
            "Training metric: 0.7866\n",
            "perturbation loss: 0.0643\n",
            "Validation acc: 0.8867\n",
            "\n",
            "Start of epoch 153\n"
          ]
        },
        {
          "output_type": "stream",
          "name": "stderr",
          "text": [
            "\r 15%|█▌        | 154/1000 [09:39<52:28,  3.72s/it]"
          ]
        },
        {
          "output_type": "stream",
          "name": "stdout",
          "text": [
            "Training loss: 0.0273\n",
            "Training metric: 0.7879\n",
            "perturbation loss: 0.0643\n",
            "Validation acc: 0.8933\n",
            "\n",
            "Start of epoch 154\n"
          ]
        },
        {
          "output_type": "stream",
          "name": "stderr",
          "text": [
            "\r 16%|█▌        | 155/1000 [09:43<52:39,  3.74s/it]"
          ]
        },
        {
          "output_type": "stream",
          "name": "stdout",
          "text": [
            "Training loss: 0.0155\n",
            "Training metric: 0.7893\n",
            "perturbation loss: 0.0469\n",
            "Validation acc: 0.8933\n",
            "\n",
            "Start of epoch 155\n"
          ]
        },
        {
          "output_type": "stream",
          "name": "stderr",
          "text": [
            "\r 16%|█▌        | 156/1000 [09:47<52:27,  3.73s/it]"
          ]
        },
        {
          "output_type": "stream",
          "name": "stdout",
          "text": [
            "Training loss: 0.0351\n",
            "Training metric: 0.7906\n",
            "perturbation loss: 0.0661\n",
            "Validation acc: 0.8933\n",
            "\n",
            "Start of epoch 156\n"
          ]
        },
        {
          "output_type": "stream",
          "name": "stderr",
          "text": [
            "\r 16%|█▌        | 157/1000 [09:50<52:18,  3.72s/it]"
          ]
        },
        {
          "output_type": "stream",
          "name": "stdout",
          "text": [
            "Training loss: 0.0078\n",
            "Training metric: 0.7919\n",
            "perturbation loss: 0.0321\n",
            "Validation acc: 0.8800\n",
            "\n",
            "Start of epoch 157\n"
          ]
        },
        {
          "output_type": "stream",
          "name": "stderr",
          "text": [
            "\r 16%|█▌        | 158/1000 [09:54<52:10,  3.72s/it]"
          ]
        },
        {
          "output_type": "stream",
          "name": "stdout",
          "text": [
            "Training loss: 0.0300\n",
            "Training metric: 0.7931\n",
            "perturbation loss: 0.0405\n",
            "Validation acc: 0.8600\n",
            "\n",
            "Start of epoch 158\n"
          ]
        },
        {
          "output_type": "stream",
          "name": "stderr",
          "text": [
            "\r 16%|█▌        | 159/1000 [09:58<52:22,  3.74s/it]"
          ]
        },
        {
          "output_type": "stream",
          "name": "stdout",
          "text": [
            "Training loss: 0.0109\n",
            "Training metric: 0.7944\n",
            "perturbation loss: 0.0432\n",
            "Validation acc: 0.8600\n",
            "\n",
            "Start of epoch 159\n"
          ]
        },
        {
          "output_type": "stream",
          "name": "stderr",
          "text": [
            "\r 16%|█▌        | 160/1000 [10:02<52:12,  3.73s/it]"
          ]
        },
        {
          "output_type": "stream",
          "name": "stdout",
          "text": [
            "Training loss: 0.0062\n",
            "Training metric: 0.7956\n",
            "perturbation loss: 0.0291\n",
            "Validation acc: 0.8933\n",
            "\n",
            "Start of epoch 160\n"
          ]
        },
        {
          "output_type": "stream",
          "name": "stderr",
          "text": [
            "\r 16%|█▌        | 161/1000 [10:05<52:01,  3.72s/it]"
          ]
        },
        {
          "output_type": "stream",
          "name": "stdout",
          "text": [
            "Training loss: 0.2609\n",
            "Training metric: 0.7967\n",
            "perturbation loss: 0.2569\n",
            "Validation acc: 0.8533\n",
            "\n",
            "Start of epoch 161\n"
          ]
        },
        {
          "output_type": "stream",
          "name": "stderr",
          "text": [
            "\r 16%|█▌        | 162/1000 [10:09<51:53,  3.72s/it]"
          ]
        },
        {
          "output_type": "stream",
          "name": "stdout",
          "text": [
            "Training loss: 0.0635\n",
            "Training metric: 0.7978\n",
            "perturbation loss: 0.1489\n",
            "Validation acc: 0.9000\n",
            "\n",
            "Start of epoch 162\n"
          ]
        },
        {
          "output_type": "stream",
          "name": "stderr",
          "text": [
            "\r 16%|█▋        | 163/1000 [10:13<52:05,  3.73s/it]"
          ]
        },
        {
          "output_type": "stream",
          "name": "stdout",
          "text": [
            "Training loss: 0.0682\n",
            "Training metric: 0.7989\n",
            "perturbation loss: 0.1177\n",
            "Validation acc: 0.8400\n",
            "\n",
            "Start of epoch 163\n"
          ]
        },
        {
          "output_type": "stream",
          "name": "stderr",
          "text": [
            "\r 16%|█▋        | 164/1000 [10:17<51:57,  3.73s/it]"
          ]
        },
        {
          "output_type": "stream",
          "name": "stdout",
          "text": [
            "Training loss: 0.1890\n",
            "Training metric: 0.7997\n",
            "perturbation loss: 0.3154\n",
            "Validation acc: 0.8733\n",
            "\n",
            "Start of epoch 164\n"
          ]
        },
        {
          "output_type": "stream",
          "name": "stderr",
          "text": [
            "\r 16%|█▋        | 165/1000 [10:20<51:47,  3.72s/it]"
          ]
        },
        {
          "output_type": "stream",
          "name": "stdout",
          "text": [
            "Training loss: 0.0501\n",
            "Training metric: 0.8008\n",
            "perturbation loss: 0.1287\n",
            "Validation acc: 0.8867\n",
            "\n",
            "Start of epoch 165\n"
          ]
        },
        {
          "output_type": "stream",
          "name": "stderr",
          "text": [
            "\r 17%|█▋        | 166/1000 [10:24<51:57,  3.74s/it]"
          ]
        },
        {
          "output_type": "stream",
          "name": "stdout",
          "text": [
            "Training loss: 0.0684\n",
            "Training metric: 0.8019\n",
            "perturbation loss: 0.1445\n",
            "Validation acc: 0.9333\n",
            "\n",
            "Start of epoch 166\n"
          ]
        },
        {
          "output_type": "stream",
          "name": "stderr",
          "text": [
            "\r 17%|█▋        | 167/1000 [10:28<51:46,  3.73s/it]"
          ]
        },
        {
          "output_type": "stream",
          "name": "stdout",
          "text": [
            "Training loss: 0.0376\n",
            "Training metric: 0.8030\n",
            "perturbation loss: 0.0858\n",
            "Validation acc: 0.9267\n",
            "\n",
            "Start of epoch 167\n"
          ]
        },
        {
          "output_type": "stream",
          "name": "stderr",
          "text": [
            "\r 17%|█▋        | 168/1000 [10:31<51:37,  3.72s/it]"
          ]
        },
        {
          "output_type": "stream",
          "name": "stdout",
          "text": [
            "Training loss: 0.0422\n",
            "Training metric: 0.8041\n",
            "perturbation loss: 0.0831\n",
            "Validation acc: 0.9267\n",
            "\n",
            "Start of epoch 168\n"
          ]
        },
        {
          "output_type": "stream",
          "name": "stderr",
          "text": [
            "\r 17%|█▋        | 169/1000 [10:35<51:29,  3.72s/it]"
          ]
        },
        {
          "output_type": "stream",
          "name": "stdout",
          "text": [
            "Training loss: 0.0266\n",
            "Training metric: 0.8052\n",
            "perturbation loss: 0.0615\n",
            "Validation acc: 0.9067\n",
            "\n",
            "Start of epoch 169\n"
          ]
        },
        {
          "output_type": "stream",
          "name": "stderr",
          "text": [
            "\r 17%|█▋        | 170/1000 [10:39<51:40,  3.74s/it]"
          ]
        },
        {
          "output_type": "stream",
          "name": "stdout",
          "text": [
            "Training loss: 0.0097\n",
            "Training metric: 0.8063\n",
            "perturbation loss: 0.0485\n",
            "Validation acc: 0.9267\n",
            "\n",
            "Start of epoch 170\n"
          ]
        },
        {
          "output_type": "stream",
          "name": "stderr",
          "text": [
            "\r 17%|█▋        | 171/1000 [10:43<51:30,  3.73s/it]"
          ]
        },
        {
          "output_type": "stream",
          "name": "stdout",
          "text": [
            "Training loss: 0.0128\n",
            "Training metric: 0.8074\n",
            "perturbation loss: 0.0444\n",
            "Validation acc: 0.9533\n",
            "\n",
            "Start of epoch 171\n"
          ]
        },
        {
          "output_type": "stream",
          "name": "stderr",
          "text": [
            "\r 17%|█▋        | 172/1000 [10:46<51:20,  3.72s/it]"
          ]
        },
        {
          "output_type": "stream",
          "name": "stdout",
          "text": [
            "Training loss: 0.0113\n",
            "Training metric: 0.8085\n",
            "perturbation loss: 0.0485\n",
            "Validation acc: 0.9533\n",
            "\n",
            "Start of epoch 172\n"
          ]
        },
        {
          "output_type": "stream",
          "name": "stderr",
          "text": [
            "\r 17%|█▋        | 173/1000 [10:50<51:12,  3.71s/it]"
          ]
        },
        {
          "output_type": "stream",
          "name": "stdout",
          "text": [
            "Training loss: 0.0255\n",
            "Training metric: 0.8096\n",
            "perturbation loss: 0.0496\n",
            "Validation acc: 0.9533\n",
            "\n",
            "Start of epoch 173\n"
          ]
        },
        {
          "output_type": "stream",
          "name": "stderr",
          "text": [
            "\r 17%|█▋        | 174/1000 [10:54<51:24,  3.73s/it]"
          ]
        },
        {
          "output_type": "stream",
          "name": "stdout",
          "text": [
            "Training loss: 0.0146\n",
            "Training metric: 0.8106\n",
            "perturbation loss: 0.0510\n",
            "Validation acc: 0.9467\n",
            "\n",
            "Start of epoch 174\n"
          ]
        },
        {
          "output_type": "stream",
          "name": "stderr",
          "text": [
            "\r 18%|█▊        | 175/1000 [10:58<51:16,  3.73s/it]"
          ]
        },
        {
          "output_type": "stream",
          "name": "stdout",
          "text": [
            "Training loss: 0.0210\n",
            "Training metric: 0.8117\n",
            "perturbation loss: 0.0517\n",
            "Validation acc: 0.9533\n",
            "\n",
            "Start of epoch 175\n"
          ]
        },
        {
          "output_type": "stream",
          "name": "stderr",
          "text": [
            "\r 18%|█▊        | 176/1000 [11:01<51:05,  3.72s/it]"
          ]
        },
        {
          "output_type": "stream",
          "name": "stdout",
          "text": [
            "Training loss: 0.0269\n",
            "Training metric: 0.8127\n",
            "perturbation loss: 0.0695\n",
            "Validation acc: 0.9467\n",
            "\n",
            "Start of epoch 176\n"
          ]
        },
        {
          "output_type": "stream",
          "name": "stderr",
          "text": [
            "\r 18%|█▊        | 177/1000 [11:05<51:15,  3.74s/it]"
          ]
        },
        {
          "output_type": "stream",
          "name": "stdout",
          "text": [
            "Training loss: 0.0035\n",
            "Training metric: 0.8138\n",
            "perturbation loss: 0.0176\n",
            "Validation acc: 0.9467\n",
            "\n",
            "Start of epoch 177\n"
          ]
        },
        {
          "output_type": "stream",
          "name": "stderr",
          "text": [
            "\r 18%|█▊        | 178/1000 [11:09<51:10,  3.74s/it]"
          ]
        },
        {
          "output_type": "stream",
          "name": "stdout",
          "text": [
            "Training loss: 0.0023\n",
            "Training metric: 0.8148\n",
            "perturbation loss: 0.0154\n",
            "Validation acc: 0.9467\n",
            "\n",
            "Start of epoch 178\n"
          ]
        },
        {
          "output_type": "stream",
          "name": "stderr",
          "text": [
            "\r 18%|█▊        | 179/1000 [11:12<50:58,  3.73s/it]"
          ]
        },
        {
          "output_type": "stream",
          "name": "stdout",
          "text": [
            "Training loss: 0.0351\n",
            "Training metric: 0.8158\n",
            "perturbation loss: 0.0611\n",
            "Validation acc: 0.9200\n",
            "\n",
            "Start of epoch 179\n"
          ]
        },
        {
          "output_type": "stream",
          "name": "stderr",
          "text": [
            "\r 18%|█▊        | 180/1000 [11:16<50:49,  3.72s/it]"
          ]
        },
        {
          "output_type": "stream",
          "name": "stdout",
          "text": [
            "Training loss: 0.0097\n",
            "Training metric: 0.8168\n",
            "perturbation loss: 0.0430\n",
            "Validation acc: 0.8533\n",
            "\n",
            "Start of epoch 180\n"
          ]
        },
        {
          "output_type": "stream",
          "name": "stderr",
          "text": [
            "\r 18%|█▊        | 181/1000 [11:20<51:01,  3.74s/it]"
          ]
        },
        {
          "output_type": "stream",
          "name": "stdout",
          "text": [
            "Training loss: 0.6647\n",
            "Training metric: 0.8175\n",
            "perturbation loss: 0.5785\n",
            "Validation acc: 0.8133\n",
            "\n",
            "Start of epoch 181\n"
          ]
        },
        {
          "output_type": "stream",
          "name": "stderr",
          "text": [
            "\r 18%|█▊        | 182/1000 [11:24<50:49,  3.73s/it]"
          ]
        },
        {
          "output_type": "stream",
          "name": "stdout",
          "text": [
            "Training loss: 0.5720\n",
            "Training metric: 0.8182\n",
            "perturbation loss: 0.4385\n",
            "Validation acc: 0.8600\n",
            "\n",
            "Start of epoch 182\n"
          ]
        },
        {
          "output_type": "stream",
          "name": "stderr",
          "text": [
            "\r 18%|█▊        | 183/1000 [11:27<50:40,  3.72s/it]"
          ]
        },
        {
          "output_type": "stream",
          "name": "stdout",
          "text": [
            "Training loss: 0.0449\n",
            "Training metric: 0.8187\n",
            "perturbation loss: 0.1195\n",
            "Validation acc: 0.8533\n",
            "\n",
            "Start of epoch 183\n"
          ]
        },
        {
          "output_type": "stream",
          "name": "stderr",
          "text": [
            "\r 18%|█▊        | 184/1000 [11:31<50:32,  3.72s/it]"
          ]
        },
        {
          "output_type": "stream",
          "name": "stdout",
          "text": [
            "Training loss: 0.0486\n",
            "Training metric: 0.8195\n",
            "perturbation loss: 0.1034\n",
            "Validation acc: 0.9133\n",
            "\n",
            "Start of epoch 184\n"
          ]
        },
        {
          "output_type": "stream",
          "name": "stderr",
          "text": [
            "\r 18%|█▊        | 185/1000 [11:35<50:45,  3.74s/it]"
          ]
        },
        {
          "output_type": "stream",
          "name": "stdout",
          "text": [
            "Training loss: 0.0724\n",
            "Training metric: 0.8203\n",
            "perturbation loss: 0.1658\n",
            "Validation acc: 0.9200\n",
            "\n",
            "Start of epoch 185\n"
          ]
        },
        {
          "output_type": "stream",
          "name": "stderr",
          "text": [
            "\r 19%|█▊        | 186/1000 [11:39<50:34,  3.73s/it]"
          ]
        },
        {
          "output_type": "stream",
          "name": "stdout",
          "text": [
            "Training loss: 0.0157\n",
            "Training metric: 0.8212\n",
            "perturbation loss: 0.0923\n",
            "Validation acc: 0.9133\n",
            "\n",
            "Start of epoch 186\n"
          ]
        },
        {
          "output_type": "stream",
          "name": "stderr",
          "text": [
            "\r 19%|█▊        | 187/1000 [11:42<50:25,  3.72s/it]"
          ]
        },
        {
          "output_type": "stream",
          "name": "stdout",
          "text": [
            "Training loss: 0.0452\n",
            "Training metric: 0.8222\n",
            "perturbation loss: 0.1159\n",
            "Validation acc: 0.9267\n",
            "\n",
            "Start of epoch 187\n"
          ]
        },
        {
          "output_type": "stream",
          "name": "stderr",
          "text": [
            "\r 19%|█▉        | 188/1000 [11:46<50:35,  3.74s/it]"
          ]
        },
        {
          "output_type": "stream",
          "name": "stdout",
          "text": [
            "Training loss: 0.0191\n",
            "Training metric: 0.8231\n",
            "perturbation loss: 0.0663\n",
            "Validation acc: 0.9333\n",
            "\n",
            "Start of epoch 188\n"
          ]
        },
        {
          "output_type": "stream",
          "name": "stderr",
          "text": [
            "\r 19%|█▉        | 189/1000 [11:50<50:24,  3.73s/it]"
          ]
        },
        {
          "output_type": "stream",
          "name": "stdout",
          "text": [
            "Training loss: 0.0194\n",
            "Training metric: 0.8240\n",
            "perturbation loss: 0.0522\n",
            "Validation acc: 0.9267\n",
            "\n",
            "Start of epoch 189\n"
          ]
        },
        {
          "output_type": "stream",
          "name": "stderr",
          "text": [
            "\r 19%|█▉        | 190/1000 [11:53<50:14,  3.72s/it]"
          ]
        },
        {
          "output_type": "stream",
          "name": "stdout",
          "text": [
            "Training loss: 0.0313\n",
            "Training metric: 0.8249\n",
            "perturbation loss: 0.0793\n",
            "Validation acc: 0.9400\n",
            "\n",
            "Start of epoch 190\n"
          ]
        },
        {
          "output_type": "stream",
          "name": "stderr",
          "text": [
            "\r 19%|█▉        | 191/1000 [11:57<50:06,  3.72s/it]"
          ]
        },
        {
          "output_type": "stream",
          "name": "stdout",
          "text": [
            "Training loss: 0.0062\n",
            "Training metric: 0.8258\n",
            "perturbation loss: 0.0373\n",
            "Validation acc: 0.9400\n",
            "\n",
            "Start of epoch 191\n"
          ]
        },
        {
          "output_type": "stream",
          "name": "stderr",
          "text": [
            "\r 19%|█▉        | 192/1000 [12:01<50:18,  3.74s/it]"
          ]
        },
        {
          "output_type": "stream",
          "name": "stdout",
          "text": [
            "Training loss: 0.0040\n",
            "Training metric: 0.8267\n",
            "perturbation loss: 0.0227\n",
            "Validation acc: 0.9267\n",
            "\n",
            "Start of epoch 192\n"
          ]
        },
        {
          "output_type": "stream",
          "name": "stderr",
          "text": [
            "\r 19%|█▉        | 193/1000 [12:05<50:08,  3.73s/it]"
          ]
        },
        {
          "output_type": "stream",
          "name": "stdout",
          "text": [
            "Training loss: 0.0289\n",
            "Training metric: 0.8276\n",
            "perturbation loss: 0.0676\n",
            "Validation acc: 0.9333\n",
            "\n",
            "Start of epoch 193\n"
          ]
        },
        {
          "output_type": "stream",
          "name": "stderr",
          "text": [
            "\r 19%|█▉        | 194/1000 [12:08<49:59,  3.72s/it]"
          ]
        },
        {
          "output_type": "stream",
          "name": "stdout",
          "text": [
            "Training loss: 0.0090\n",
            "Training metric: 0.8284\n",
            "perturbation loss: 0.0359\n",
            "Validation acc: 0.9200\n",
            "\n",
            "Start of epoch 194\n"
          ]
        },
        {
          "output_type": "stream",
          "name": "stderr",
          "text": [
            "\r 20%|█▉        | 195/1000 [12:12<49:50,  3.72s/it]"
          ]
        },
        {
          "output_type": "stream",
          "name": "stdout",
          "text": [
            "Training loss: 0.0135\n",
            "Training metric: 0.8293\n",
            "perturbation loss: 0.0508\n",
            "Validation acc: 0.9400\n",
            "\n",
            "Start of epoch 195\n"
          ]
        },
        {
          "output_type": "stream",
          "name": "stderr",
          "text": [
            "\r 20%|█▉        | 196/1000 [12:16<49:45,  3.71s/it]"
          ]
        },
        {
          "output_type": "stream",
          "name": "stdout",
          "text": [
            "Training loss: 0.0237\n",
            "Training metric: 0.8301\n",
            "perturbation loss: 0.0515\n",
            "Validation acc: 0.9467\n",
            "\n",
            "Start of epoch 196\n"
          ]
        },
        {
          "output_type": "stream",
          "name": "stderr",
          "text": [
            "\r 20%|█▉        | 197/1000 [12:19<49:40,  3.71s/it]"
          ]
        },
        {
          "output_type": "stream",
          "name": "stdout",
          "text": [
            "Training loss: 0.0201\n",
            "Training metric: 0.8310\n",
            "perturbation loss: 0.0416\n",
            "Validation acc: 0.9400\n",
            "\n",
            "Start of epoch 197\n"
          ]
        },
        {
          "output_type": "stream",
          "name": "stderr",
          "text": [
            "\r 20%|█▉        | 198/1000 [12:23<49:36,  3.71s/it]"
          ]
        },
        {
          "output_type": "stream",
          "name": "stdout",
          "text": [
            "Training loss: 0.0074\n",
            "Training metric: 0.8318\n",
            "perturbation loss: 0.0280\n",
            "Validation acc: 0.9400\n",
            "\n",
            "Start of epoch 198\n"
          ]
        },
        {
          "output_type": "stream",
          "name": "stderr",
          "text": [
            "\r 20%|█▉        | 199/1000 [12:27<49:38,  3.72s/it]"
          ]
        },
        {
          "output_type": "stream",
          "name": "stdout",
          "text": [
            "Training loss: 0.0299\n",
            "Training metric: 0.8327\n",
            "perturbation loss: 0.0999\n",
            "Validation acc: 0.9467\n",
            "\n",
            "Start of epoch 199\n"
          ]
        },
        {
          "output_type": "stream",
          "name": "stderr",
          "text": [
            "\r 20%|██        | 200/1000 [12:31<49:32,  3.72s/it]"
          ]
        },
        {
          "output_type": "stream",
          "name": "stdout",
          "text": [
            "Training loss: 0.1155\n",
            "Training metric: 0.8335\n",
            "perturbation loss: 0.1094\n",
            "Validation acc: 0.8800\n",
            "\n",
            "Start of epoch 200\n"
          ]
        },
        {
          "output_type": "stream",
          "name": "stderr",
          "text": [
            "\r 20%|██        | 201/1000 [12:34<49:25,  3.71s/it]"
          ]
        },
        {
          "output_type": "stream",
          "name": "stdout",
          "text": [
            "Training loss: 0.0865\n",
            "Training metric: 0.8340\n",
            "perturbation loss: 0.2626\n",
            "Validation acc: 0.8200\n",
            "\n",
            "Start of epoch 201\n"
          ]
        },
        {
          "output_type": "stream",
          "name": "stderr",
          "text": [
            "\r 20%|██        | 202/1000 [12:38<49:20,  3.71s/it]"
          ]
        },
        {
          "output_type": "stream",
          "name": "stdout",
          "text": [
            "Training loss: 0.0631\n",
            "Training metric: 0.8346\n",
            "perturbation loss: 0.1569\n",
            "Validation acc: 0.8933\n",
            "\n",
            "Start of epoch 202\n"
          ]
        },
        {
          "output_type": "stream",
          "name": "stderr",
          "text": [
            "\r 20%|██        | 203/1000 [12:42<49:36,  3.73s/it]"
          ]
        },
        {
          "output_type": "stream",
          "name": "stdout",
          "text": [
            "Training loss: 0.0580\n",
            "Training metric: 0.8353\n",
            "perturbation loss: 0.0844\n",
            "Validation acc: 0.9000\n",
            "\n",
            "Start of epoch 203\n"
          ]
        },
        {
          "output_type": "stream",
          "name": "stderr",
          "text": [
            "\r 20%|██        | 204/1000 [12:46<49:26,  3.73s/it]"
          ]
        },
        {
          "output_type": "stream",
          "name": "stdout",
          "text": [
            "Training loss: 0.0249\n",
            "Training metric: 0.8360\n",
            "perturbation loss: 0.1217\n",
            "Validation acc: 0.9267\n",
            "\n",
            "Start of epoch 204\n"
          ]
        },
        {
          "output_type": "stream",
          "name": "stderr",
          "text": [
            "\r 20%|██        | 205/1000 [12:49<49:18,  3.72s/it]"
          ]
        },
        {
          "output_type": "stream",
          "name": "stdout",
          "text": [
            "Training loss: 0.0375\n",
            "Training metric: 0.8368\n",
            "perturbation loss: 0.1383\n",
            "Validation acc: 0.9200\n",
            "\n",
            "Start of epoch 205\n"
          ]
        },
        {
          "output_type": "stream",
          "name": "stderr",
          "text": [
            "\r 21%|██        | 206/1000 [12:53<49:29,  3.74s/it]"
          ]
        },
        {
          "output_type": "stream",
          "name": "stdout",
          "text": [
            "Training loss: 0.0413\n",
            "Training metric: 0.8375\n",
            "perturbation loss: 0.1046\n",
            "Validation acc: 0.9200\n",
            "\n",
            "Start of epoch 206\n"
          ]
        },
        {
          "output_type": "stream",
          "name": "stderr",
          "text": [
            "\r 21%|██        | 207/1000 [12:57<49:18,  3.73s/it]"
          ]
        },
        {
          "output_type": "stream",
          "name": "stdout",
          "text": [
            "Training loss: 0.1126\n",
            "Training metric: 0.8383\n",
            "perturbation loss: 0.0685\n",
            "Validation acc: 0.9400\n",
            "\n",
            "Start of epoch 207\n"
          ]
        },
        {
          "output_type": "stream",
          "name": "stderr",
          "text": [
            "\r 21%|██        | 208/1000 [13:00<49:09,  3.72s/it]"
          ]
        },
        {
          "output_type": "stream",
          "name": "stdout",
          "text": [
            "Training loss: 0.0191\n",
            "Training metric: 0.8390\n",
            "perturbation loss: 0.0747\n",
            "Validation acc: 0.9400\n",
            "\n",
            "Start of epoch 208\n"
          ]
        },
        {
          "output_type": "stream",
          "name": "stderr",
          "text": [
            "\r 21%|██        | 209/1000 [13:04<49:01,  3.72s/it]"
          ]
        },
        {
          "output_type": "stream",
          "name": "stdout",
          "text": [
            "Training loss: 0.0389\n",
            "Training metric: 0.8397\n",
            "perturbation loss: 0.0675\n",
            "Validation acc: 0.9200\n",
            "\n",
            "Start of epoch 209\n"
          ]
        },
        {
          "output_type": "stream",
          "name": "stderr",
          "text": [
            "\r 21%|██        | 210/1000 [13:08<49:12,  3.74s/it]"
          ]
        },
        {
          "output_type": "stream",
          "name": "stdout",
          "text": [
            "Training loss: 0.0172\n",
            "Training metric: 0.8404\n",
            "perturbation loss: 0.0610\n",
            "Validation acc: 0.9333\n",
            "\n",
            "Start of epoch 210\n"
          ]
        },
        {
          "output_type": "stream",
          "name": "stderr",
          "text": [
            "\r 21%|██        | 211/1000 [13:12<49:01,  3.73s/it]"
          ]
        },
        {
          "output_type": "stream",
          "name": "stdout",
          "text": [
            "Training loss: 0.0142\n",
            "Training metric: 0.8411\n",
            "perturbation loss: 0.0562\n",
            "Validation acc: 0.9333\n",
            "\n",
            "Start of epoch 211\n"
          ]
        },
        {
          "output_type": "stream",
          "name": "stderr",
          "text": [
            "\r 21%|██        | 212/1000 [13:15<48:53,  3.72s/it]"
          ]
        },
        {
          "output_type": "stream",
          "name": "stdout",
          "text": [
            "Training loss: 0.0630\n",
            "Training metric: 0.8418\n",
            "perturbation loss: 0.0491\n",
            "Validation acc: 0.9333\n",
            "\n",
            "Start of epoch 212\n"
          ]
        },
        {
          "output_type": "stream",
          "name": "stderr",
          "text": [
            "\r 21%|██▏       | 213/1000 [13:19<48:45,  3.72s/it]"
          ]
        },
        {
          "output_type": "stream",
          "name": "stdout",
          "text": [
            "Training loss: 0.0102\n",
            "Training metric: 0.8425\n",
            "perturbation loss: 0.1763\n",
            "Validation acc: 0.9400\n",
            "\n",
            "Start of epoch 213\n"
          ]
        },
        {
          "output_type": "stream",
          "name": "stderr",
          "text": [
            "\r 21%|██▏       | 214/1000 [13:23<48:58,  3.74s/it]"
          ]
        },
        {
          "output_type": "stream",
          "name": "stdout",
          "text": [
            "Training loss: 0.0526\n",
            "Training metric: 0.8433\n",
            "perturbation loss: 0.1116\n",
            "Validation acc: 0.9000\n",
            "\n",
            "Start of epoch 214\n"
          ]
        },
        {
          "output_type": "stream",
          "name": "stderr",
          "text": [
            "\r 22%|██▏       | 215/1000 [13:27<48:47,  3.73s/it]"
          ]
        },
        {
          "output_type": "stream",
          "name": "stdout",
          "text": [
            "Training loss: 0.0335\n",
            "Training metric: 0.8439\n",
            "perturbation loss: 0.0820\n",
            "Validation acc: 0.9267\n",
            "\n",
            "Start of epoch 215\n"
          ]
        },
        {
          "output_type": "stream",
          "name": "stderr",
          "text": [
            "\r 22%|██▏       | 216/1000 [13:30<48:38,  3.72s/it]"
          ]
        },
        {
          "output_type": "stream",
          "name": "stdout",
          "text": [
            "Training loss: 0.1326\n",
            "Training metric: 0.8446\n",
            "perturbation loss: 0.1758\n",
            "Validation acc: 0.8867\n",
            "\n",
            "Start of epoch 216\n"
          ]
        },
        {
          "output_type": "stream",
          "name": "stderr",
          "text": [
            "\r 22%|██▏       | 217/1000 [13:34<48:48,  3.74s/it]"
          ]
        },
        {
          "output_type": "stream",
          "name": "stdout",
          "text": [
            "Training loss: 0.4824\n",
            "Training metric: 0.8450\n",
            "perturbation loss: 0.4930\n",
            "Validation acc: 0.9000\n",
            "\n",
            "Start of epoch 217\n"
          ]
        },
        {
          "output_type": "stream",
          "name": "stderr",
          "text": [
            "\r 22%|██▏       | 218/1000 [13:38<48:36,  3.73s/it]"
          ]
        },
        {
          "output_type": "stream",
          "name": "stdout",
          "text": [
            "Training loss: 0.0399\n",
            "Training metric: 0.8456\n",
            "perturbation loss: 0.0904\n",
            "Validation acc: 0.9267\n",
            "\n",
            "Start of epoch 218\n"
          ]
        },
        {
          "output_type": "stream",
          "name": "stderr",
          "text": [
            "\r 22%|██▏       | 219/1000 [13:41<48:27,  3.72s/it]"
          ]
        },
        {
          "output_type": "stream",
          "name": "stdout",
          "text": [
            "Training loss: 0.0438\n",
            "Training metric: 0.8462\n",
            "perturbation loss: 0.1464\n",
            "Validation acc: 0.9000\n",
            "\n",
            "Start of epoch 219\n"
          ]
        },
        {
          "output_type": "stream",
          "name": "stderr",
          "text": [
            "\r 22%|██▏       | 220/1000 [13:45<48:20,  3.72s/it]"
          ]
        },
        {
          "output_type": "stream",
          "name": "stdout",
          "text": [
            "Training loss: 0.0153\n",
            "Training metric: 0.8469\n",
            "perturbation loss: 0.0615\n",
            "Validation acc: 0.9200\n",
            "\n",
            "Start of epoch 220\n"
          ]
        },
        {
          "output_type": "stream",
          "name": "stderr",
          "text": [
            "\r 22%|██▏       | 221/1000 [13:49<48:32,  3.74s/it]"
          ]
        },
        {
          "output_type": "stream",
          "name": "stdout",
          "text": [
            "Training loss: 0.0166\n",
            "Training metric: 0.8476\n",
            "perturbation loss: 0.0407\n",
            "Validation acc: 0.9467\n",
            "\n",
            "Start of epoch 221\n"
          ]
        },
        {
          "output_type": "stream",
          "name": "stderr",
          "text": [
            "\r 22%|██▏       | 222/1000 [13:53<48:22,  3.73s/it]"
          ]
        },
        {
          "output_type": "stream",
          "name": "stdout",
          "text": [
            "Training loss: 0.0028\n",
            "Training metric: 0.8482\n",
            "perturbation loss: 0.0162\n",
            "Validation acc: 0.9400\n",
            "\n",
            "Start of epoch 222\n"
          ]
        },
        {
          "output_type": "stream",
          "name": "stderr",
          "text": [
            "\r 22%|██▏       | 223/1000 [13:56<48:12,  3.72s/it]"
          ]
        },
        {
          "output_type": "stream",
          "name": "stdout",
          "text": [
            "Training loss: 0.0269\n",
            "Training metric: 0.8489\n",
            "perturbation loss: 0.0858\n",
            "Validation acc: 0.9400\n",
            "\n",
            "Start of epoch 223\n"
          ]
        },
        {
          "output_type": "stream",
          "name": "stderr",
          "text": [
            "\r 22%|██▏       | 224/1000 [14:00<48:05,  3.72s/it]"
          ]
        },
        {
          "output_type": "stream",
          "name": "stdout",
          "text": [
            "Training loss: 0.0124\n",
            "Training metric: 0.8496\n",
            "perturbation loss: 0.0360\n",
            "Validation acc: 0.9400\n",
            "\n",
            "Start of epoch 224\n"
          ]
        },
        {
          "output_type": "stream",
          "name": "stderr",
          "text": [
            "\r 22%|██▎       | 225/1000 [14:04<48:16,  3.74s/it]"
          ]
        },
        {
          "output_type": "stream",
          "name": "stdout",
          "text": [
            "Training loss: 0.0060\n",
            "Training metric: 0.8502\n",
            "perturbation loss: 0.0328\n",
            "Validation acc: 0.9467\n",
            "\n",
            "Start of epoch 225\n"
          ]
        },
        {
          "output_type": "stream",
          "name": "stderr",
          "text": [
            "\r 23%|██▎       | 226/1000 [14:08<48:07,  3.73s/it]"
          ]
        },
        {
          "output_type": "stream",
          "name": "stdout",
          "text": [
            "Training loss: 0.0101\n",
            "Training metric: 0.8509\n",
            "perturbation loss: 0.0512\n",
            "Validation acc: 0.9533\n",
            "\n",
            "Start of epoch 226\n"
          ]
        },
        {
          "output_type": "stream",
          "name": "stderr",
          "text": [
            "\r 23%|██▎       | 227/1000 [14:11<47:57,  3.72s/it]"
          ]
        },
        {
          "output_type": "stream",
          "name": "stdout",
          "text": [
            "Training loss: 0.0105\n",
            "Training metric: 0.8515\n",
            "perturbation loss: 0.0407\n",
            "Validation acc: 0.9200\n",
            "\n",
            "Start of epoch 227\n"
          ]
        },
        {
          "output_type": "stream",
          "name": "stderr",
          "text": [
            "\r 23%|██▎       | 228/1000 [14:15<48:07,  3.74s/it]"
          ]
        },
        {
          "output_type": "stream",
          "name": "stdout",
          "text": [
            "Training loss: 0.0052\n",
            "Training metric: 0.8522\n",
            "perturbation loss: 0.0213\n",
            "Validation acc: 0.9467\n",
            "\n",
            "Start of epoch 228\n"
          ]
        },
        {
          "output_type": "stream",
          "name": "stderr",
          "text": [
            "\r 23%|██▎       | 229/1000 [14:19<47:58,  3.73s/it]"
          ]
        },
        {
          "output_type": "stream",
          "name": "stdout",
          "text": [
            "Training loss: 0.0024\n",
            "Training metric: 0.8528\n",
            "perturbation loss: 0.0167\n",
            "Validation acc: 0.9533\n",
            "\n",
            "Start of epoch 229\n"
          ]
        },
        {
          "output_type": "stream",
          "name": "stderr",
          "text": [
            "\r 23%|██▎       | 230/1000 [14:22<47:49,  3.73s/it]"
          ]
        },
        {
          "output_type": "stream",
          "name": "stdout",
          "text": [
            "Training loss: 0.0085\n",
            "Training metric: 0.8535\n",
            "perturbation loss: 0.0558\n",
            "Validation acc: 0.9467\n",
            "\n",
            "Start of epoch 230\n"
          ]
        },
        {
          "output_type": "stream",
          "name": "stderr",
          "text": [
            "\r 23%|██▎       | 231/1000 [14:26<47:41,  3.72s/it]"
          ]
        },
        {
          "output_type": "stream",
          "name": "stdout",
          "text": [
            "Training loss: 0.0038\n",
            "Training metric: 0.8541\n",
            "perturbation loss: 0.0282\n",
            "Validation acc: 0.9467\n",
            "\n",
            "Start of epoch 231\n"
          ]
        },
        {
          "output_type": "stream",
          "name": "stderr",
          "text": [
            "\r 23%|██▎       | 232/1000 [14:30<47:42,  3.73s/it]"
          ]
        },
        {
          "output_type": "stream",
          "name": "stdout",
          "text": [
            "Training loss: 0.0075\n",
            "Training metric: 0.8547\n",
            "perturbation loss: 0.0423\n",
            "Validation acc: 0.9467\n",
            "\n",
            "Start of epoch 232\n"
          ]
        },
        {
          "output_type": "stream",
          "name": "stderr",
          "text": [
            "\r 23%|██▎       | 233/1000 [14:34<47:33,  3.72s/it]"
          ]
        },
        {
          "output_type": "stream",
          "name": "stdout",
          "text": [
            "Training loss: 0.0117\n",
            "Training metric: 0.8554\n",
            "perturbation loss: 0.0299\n",
            "Validation acc: 0.9467\n",
            "\n",
            "Start of epoch 233\n"
          ]
        },
        {
          "output_type": "stream",
          "name": "stderr",
          "text": [
            "\r 23%|██▎       | 234/1000 [14:37<47:43,  3.74s/it]"
          ]
        },
        {
          "output_type": "stream",
          "name": "stdout",
          "text": [
            "Training loss: 0.0020\n",
            "Training metric: 0.8560\n",
            "perturbation loss: 0.0178\n",
            "Validation acc: 0.9467\n",
            "\n",
            "Start of epoch 234\n"
          ]
        },
        {
          "output_type": "stream",
          "name": "stderr",
          "text": [
            "\r 24%|██▎       | 235/1000 [14:41<47:32,  3.73s/it]"
          ]
        },
        {
          "output_type": "stream",
          "name": "stdout",
          "text": [
            "Training loss: 0.0015\n",
            "Training metric: 0.8566\n",
            "perturbation loss: 0.0108\n",
            "Validation acc: 0.9533\n",
            "\n",
            "Start of epoch 235\n"
          ]
        },
        {
          "output_type": "stream",
          "name": "stderr",
          "text": [
            "\r 24%|██▎       | 236/1000 [14:45<47:23,  3.72s/it]"
          ]
        },
        {
          "output_type": "stream",
          "name": "stdout",
          "text": [
            "Training loss: 0.0012\n",
            "Training metric: 0.8572\n",
            "perturbation loss: 0.0096\n",
            "Validation acc: 0.9467\n",
            "\n",
            "Start of epoch 236\n"
          ]
        },
        {
          "output_type": "stream",
          "name": "stderr",
          "text": [
            "\r 24%|██▎       | 237/1000 [14:49<47:17,  3.72s/it]"
          ]
        },
        {
          "output_type": "stream",
          "name": "stdout",
          "text": [
            "Training loss: 0.0007\n",
            "Training metric: 0.8578\n",
            "perturbation loss: 0.0057\n",
            "Validation acc: 0.9600\n",
            "\n",
            "Start of epoch 237\n"
          ]
        },
        {
          "output_type": "stream",
          "name": "stderr",
          "text": [
            "\r 24%|██▍       | 238/1000 [14:52<47:11,  3.72s/it]"
          ]
        },
        {
          "output_type": "stream",
          "name": "stdout",
          "text": [
            "Training loss: 0.0012\n",
            "Training metric: 0.8584\n",
            "perturbation loss: 0.0110\n",
            "Validation acc: 0.9533\n",
            "\n",
            "Start of epoch 238\n"
          ]
        },
        {
          "output_type": "stream",
          "name": "stderr",
          "text": [
            "\r 24%|██▍       | 239/1000 [14:56<47:23,  3.74s/it]"
          ]
        },
        {
          "output_type": "stream",
          "name": "stdout",
          "text": [
            "Training loss: 0.0009\n",
            "Training metric: 0.8590\n",
            "perturbation loss: 0.0080\n",
            "Validation acc: 0.9467\n",
            "\n",
            "Start of epoch 239\n"
          ]
        },
        {
          "output_type": "stream",
          "name": "stderr",
          "text": [
            "\r 24%|██▍       | 240/1000 [15:00<47:14,  3.73s/it]"
          ]
        },
        {
          "output_type": "stream",
          "name": "stdout",
          "text": [
            "Training loss: 0.0010\n",
            "Training metric: 0.8596\n",
            "perturbation loss: 0.0078\n",
            "Validation acc: 0.9600\n",
            "\n",
            "Start of epoch 240\n"
          ]
        },
        {
          "output_type": "stream",
          "name": "stderr",
          "text": [
            "\r 24%|██▍       | 241/1000 [15:03<47:05,  3.72s/it]"
          ]
        },
        {
          "output_type": "stream",
          "name": "stdout",
          "text": [
            "Training loss: 0.0009\n",
            "Training metric: 0.8602\n",
            "perturbation loss: 0.0086\n",
            "Validation acc: 0.9400\n",
            "\n",
            "Start of epoch 241\n"
          ]
        },
        {
          "output_type": "stream",
          "name": "stderr",
          "text": [
            "\r 24%|██▍       | 242/1000 [15:07<46:58,  3.72s/it]"
          ]
        },
        {
          "output_type": "stream",
          "name": "stdout",
          "text": [
            "Training loss: 0.0015\n",
            "Training metric: 0.8607\n",
            "perturbation loss: 0.0093\n",
            "Validation acc: 0.9600\n",
            "\n",
            "Start of epoch 242\n"
          ]
        },
        {
          "output_type": "stream",
          "name": "stderr",
          "text": [
            "\r 24%|██▍       | 243/1000 [15:11<47:08,  3.74s/it]"
          ]
        },
        {
          "output_type": "stream",
          "name": "stdout",
          "text": [
            "Training loss: 0.0006\n",
            "Training metric: 0.8613\n",
            "perturbation loss: 0.0033\n",
            "Validation acc: 0.9533\n",
            "\n",
            "Start of epoch 243\n"
          ]
        },
        {
          "output_type": "stream",
          "name": "stderr",
          "text": [
            "\r 24%|██▍       | 244/1000 [15:15<46:58,  3.73s/it]"
          ]
        },
        {
          "output_type": "stream",
          "name": "stdout",
          "text": [
            "Training loss: 0.0005\n",
            "Training metric: 0.8619\n",
            "perturbation loss: 0.0037\n",
            "Validation acc: 0.9467\n",
            "\n",
            "Start of epoch 244\n"
          ]
        },
        {
          "output_type": "stream",
          "name": "stderr",
          "text": [
            "\r 24%|██▍       | 245/1000 [15:18<46:50,  3.72s/it]"
          ]
        },
        {
          "output_type": "stream",
          "name": "stdout",
          "text": [
            "Training loss: 0.0005\n",
            "Training metric: 0.8624\n",
            "perturbation loss: 0.0051\n",
            "Validation acc: 0.9467\n",
            "\n",
            "Start of epoch 245\n"
          ]
        },
        {
          "output_type": "stream",
          "name": "stderr",
          "text": [
            "\r 25%|██▍       | 246/1000 [15:22<46:49,  3.73s/it]"
          ]
        },
        {
          "output_type": "stream",
          "name": "stdout",
          "text": [
            "Training loss: 0.0006\n",
            "Training metric: 0.8630\n",
            "perturbation loss: 0.0052\n",
            "Validation acc: 0.9533\n",
            "\n",
            "Start of epoch 246\n"
          ]
        },
        {
          "output_type": "stream",
          "name": "stderr",
          "text": [
            "\r 25%|██▍       | 247/1000 [15:26<46:42,  3.72s/it]"
          ]
        },
        {
          "output_type": "stream",
          "name": "stdout",
          "text": [
            "Training loss: 0.0004\n",
            "Training metric: 0.8636\n",
            "perturbation loss: 0.0022\n",
            "Validation acc: 0.9600\n",
            "\n",
            "Start of epoch 247\n"
          ]
        },
        {
          "output_type": "stream",
          "name": "stderr",
          "text": [
            "\r 25%|██▍       | 248/1000 [15:30<46:36,  3.72s/it]"
          ]
        },
        {
          "output_type": "stream",
          "name": "stdout",
          "text": [
            "Training loss: 0.0004\n",
            "Training metric: 0.8641\n",
            "perturbation loss: 0.0057\n",
            "Validation acc: 0.9667\n",
            "\n",
            "Start of epoch 248\n"
          ]
        },
        {
          "output_type": "stream",
          "name": "stderr",
          "text": [
            "\r 25%|██▍       | 249/1000 [15:33<46:29,  3.71s/it]"
          ]
        },
        {
          "output_type": "stream",
          "name": "stdout",
          "text": [
            "Training loss: 0.3404\n",
            "Training metric: 0.8645\n",
            "perturbation loss: 0.1272\n",
            "Validation acc: 0.8400\n",
            "\n",
            "Start of epoch 249\n"
          ]
        },
        {
          "output_type": "stream",
          "name": "stderr",
          "text": [
            "\r 25%|██▌       | 250/1000 [15:37<46:41,  3.74s/it]"
          ]
        },
        {
          "output_type": "stream",
          "name": "stdout",
          "text": [
            "Training loss: 0.1488\n",
            "Training metric: 0.8648\n",
            "perturbation loss: 0.1801\n",
            "Validation acc: 0.9200\n",
            "\n",
            "Start of epoch 250\n"
          ]
        },
        {
          "output_type": "stream",
          "name": "stderr",
          "text": [
            "\r 25%|██▌       | 251/1000 [15:41<46:31,  3.73s/it]"
          ]
        },
        {
          "output_type": "stream",
          "name": "stdout",
          "text": [
            "Training loss: 0.0653\n",
            "Training metric: 0.8652\n",
            "perturbation loss: 0.1043\n",
            "Validation acc: 0.9600\n",
            "\n",
            "Start of epoch 251\n"
          ]
        },
        {
          "output_type": "stream",
          "name": "stderr",
          "text": [
            "\r 25%|██▌       | 252/1000 [15:44<46:22,  3.72s/it]"
          ]
        },
        {
          "output_type": "stream",
          "name": "stdout",
          "text": [
            "Training loss: 0.1608\n",
            "Training metric: 0.8657\n",
            "perturbation loss: 0.0761\n",
            "Validation acc: 0.9200\n",
            "\n",
            "Start of epoch 252\n"
          ]
        },
        {
          "output_type": "stream",
          "name": "stderr",
          "text": [
            "\r 25%|██▌       | 253/1000 [15:48<46:15,  3.72s/it]"
          ]
        },
        {
          "output_type": "stream",
          "name": "stdout",
          "text": [
            "Training loss: 0.0585\n",
            "Training metric: 0.8661\n",
            "perturbation loss: 0.1531\n",
            "Validation acc: 0.9200\n",
            "\n",
            "Start of epoch 253\n"
          ]
        },
        {
          "output_type": "stream",
          "name": "stderr",
          "text": [
            "\r 25%|██▌       | 254/1000 [15:52<46:26,  3.73s/it]"
          ]
        },
        {
          "output_type": "stream",
          "name": "stdout",
          "text": [
            "Training loss: 0.0207\n",
            "Training metric: 0.8666\n",
            "perturbation loss: 0.0715\n",
            "Validation acc: 0.9267\n",
            "\n",
            "Start of epoch 254\n"
          ]
        },
        {
          "output_type": "stream",
          "name": "stderr",
          "text": [
            "\r 26%|██▌       | 255/1000 [15:56<46:17,  3.73s/it]"
          ]
        },
        {
          "output_type": "stream",
          "name": "stdout",
          "text": [
            "Training loss: 0.0185\n",
            "Training metric: 0.8671\n",
            "perturbation loss: 0.0892\n",
            "Validation acc: 0.9333\n",
            "\n",
            "Start of epoch 255\n"
          ]
        },
        {
          "output_type": "stream",
          "name": "stderr",
          "text": [
            "\r 26%|██▌       | 256/1000 [15:59<46:08,  3.72s/it]"
          ]
        },
        {
          "output_type": "stream",
          "name": "stdout",
          "text": [
            "Training loss: 0.0251\n",
            "Training metric: 0.8676\n",
            "perturbation loss: 0.0797\n",
            "Validation acc: 0.9400\n",
            "\n",
            "Start of epoch 256\n"
          ]
        },
        {
          "output_type": "stream",
          "name": "stderr",
          "text": [
            "\r 26%|██▌       | 257/1000 [16:03<46:19,  3.74s/it]"
          ]
        },
        {
          "output_type": "stream",
          "name": "stdout",
          "text": [
            "Training loss: 0.0094\n",
            "Training metric: 0.8681\n",
            "perturbation loss: 0.0397\n",
            "Validation acc: 0.9467\n",
            "\n",
            "Start of epoch 257\n"
          ]
        },
        {
          "output_type": "stream",
          "name": "stderr",
          "text": [
            "\r 26%|██▌       | 258/1000 [16:07<46:08,  3.73s/it]"
          ]
        },
        {
          "output_type": "stream",
          "name": "stdout",
          "text": [
            "Training loss: 0.0071\n",
            "Training metric: 0.8686\n",
            "perturbation loss: 0.0358\n",
            "Validation acc: 0.9267\n",
            "\n",
            "Start of epoch 258\n"
          ]
        },
        {
          "output_type": "stream",
          "name": "stderr",
          "text": [
            "\r 26%|██▌       | 259/1000 [16:11<46:01,  3.73s/it]"
          ]
        },
        {
          "output_type": "stream",
          "name": "stdout",
          "text": [
            "Training loss: 0.0052\n",
            "Training metric: 0.8691\n",
            "perturbation loss: 0.0283\n",
            "Validation acc: 0.9267\n",
            "\n",
            "Start of epoch 259\n"
          ]
        },
        {
          "output_type": "stream",
          "name": "stderr",
          "text": [
            "\r 26%|██▌       | 260/1000 [16:14<45:52,  3.72s/it]"
          ]
        },
        {
          "output_type": "stream",
          "name": "stdout",
          "text": [
            "Training loss: 0.0068\n",
            "Training metric: 0.8696\n",
            "perturbation loss: 0.0285\n",
            "Validation acc: 0.9400\n",
            "\n",
            "Start of epoch 260\n"
          ]
        },
        {
          "output_type": "stream",
          "name": "stderr",
          "text": [
            "\r 26%|██▌       | 261/1000 [16:18<46:03,  3.74s/it]"
          ]
        },
        {
          "output_type": "stream",
          "name": "stdout",
          "text": [
            "Training loss: 0.0039\n",
            "Training metric: 0.8701\n",
            "perturbation loss: 0.0184\n",
            "Validation acc: 0.9333\n",
            "\n",
            "Start of epoch 261\n"
          ]
        },
        {
          "output_type": "stream",
          "name": "stderr",
          "text": [
            "\r 26%|██▌       | 262/1000 [16:22<45:53,  3.73s/it]"
          ]
        },
        {
          "output_type": "stream",
          "name": "stdout",
          "text": [
            "Training loss: 0.0037\n",
            "Training metric: 0.8706\n",
            "perturbation loss: 0.0168\n",
            "Validation acc: 0.9333\n",
            "\n",
            "Start of epoch 262\n"
          ]
        },
        {
          "output_type": "stream",
          "name": "stderr",
          "text": [
            "\r 26%|██▋       | 263/1000 [16:25<45:45,  3.73s/it]"
          ]
        },
        {
          "output_type": "stream",
          "name": "stdout",
          "text": [
            "Training loss: 0.0032\n",
            "Training metric: 0.8711\n",
            "perturbation loss: 0.0184\n",
            "Validation acc: 0.9400\n",
            "\n",
            "Start of epoch 263\n"
          ]
        },
        {
          "output_type": "stream",
          "name": "stderr",
          "text": [
            "\r 26%|██▋       | 264/1000 [16:29<45:38,  3.72s/it]"
          ]
        },
        {
          "output_type": "stream",
          "name": "stdout",
          "text": [
            "Training loss: 0.0020\n",
            "Training metric: 0.8716\n",
            "perturbation loss: 0.0097\n",
            "Validation acc: 0.9400\n",
            "\n",
            "Start of epoch 264\n"
          ]
        },
        {
          "output_type": "stream",
          "name": "stderr",
          "text": [
            "\r 26%|██▋       | 265/1000 [16:33<45:48,  3.74s/it]"
          ]
        },
        {
          "output_type": "stream",
          "name": "stdout",
          "text": [
            "Training loss: 0.0015\n",
            "Training metric: 0.8720\n",
            "perturbation loss: 0.0094\n",
            "Validation acc: 0.9333\n",
            "\n",
            "Start of epoch 265\n"
          ]
        },
        {
          "output_type": "stream",
          "name": "stderr",
          "text": [
            "\r 27%|██▋       | 266/1000 [16:37<45:39,  3.73s/it]"
          ]
        },
        {
          "output_type": "stream",
          "name": "stdout",
          "text": [
            "Training loss: 0.0024\n",
            "Training metric: 0.8725\n",
            "perturbation loss: 0.0135\n",
            "Validation acc: 0.9333\n",
            "\n",
            "Start of epoch 266\n"
          ]
        },
        {
          "output_type": "stream",
          "name": "stderr",
          "text": [
            "\r 27%|██▋       | 267/1000 [16:40<45:31,  3.73s/it]"
          ]
        },
        {
          "output_type": "stream",
          "name": "stdout",
          "text": [
            "Training loss: 0.0013\n",
            "Training metric: 0.8730\n",
            "perturbation loss: 0.0083\n",
            "Validation acc: 0.9333\n",
            "\n",
            "Start of epoch 267\n"
          ]
        },
        {
          "output_type": "stream",
          "name": "stderr",
          "text": [
            "\r 27%|██▋       | 268/1000 [16:44<45:39,  3.74s/it]"
          ]
        },
        {
          "output_type": "stream",
          "name": "stdout",
          "text": [
            "Training loss: 0.0021\n",
            "Training metric: 0.8735\n",
            "perturbation loss: 0.0204\n",
            "Validation acc: 0.9333\n",
            "\n",
            "Start of epoch 268\n"
          ]
        },
        {
          "output_type": "stream",
          "name": "stderr",
          "text": [
            "\r 27%|██▋       | 269/1000 [16:48<45:30,  3.73s/it]"
          ]
        },
        {
          "output_type": "stream",
          "name": "stdout",
          "text": [
            "Training loss: 0.0015\n",
            "Training metric: 0.8739\n",
            "perturbation loss: 0.0094\n",
            "Validation acc: 0.9400\n",
            "\n",
            "Start of epoch 269\n"
          ]
        },
        {
          "output_type": "stream",
          "name": "stderr",
          "text": [
            "\r 27%|██▋       | 270/1000 [16:52<45:21,  3.73s/it]"
          ]
        },
        {
          "output_type": "stream",
          "name": "stdout",
          "text": [
            "Training loss: 0.0004\n",
            "Training metric: 0.8744\n",
            "perturbation loss: 0.0037\n",
            "Validation acc: 0.9400\n",
            "\n",
            "Start of epoch 270\n"
          ]
        },
        {
          "output_type": "stream",
          "name": "stderr",
          "text": [
            "\r 27%|██▋       | 271/1000 [16:55<45:13,  3.72s/it]"
          ]
        },
        {
          "output_type": "stream",
          "name": "stdout",
          "text": [
            "Training loss: 0.0004\n",
            "Training metric: 0.8749\n",
            "perturbation loss: 0.0035\n",
            "Validation acc: 0.9333\n",
            "\n",
            "Start of epoch 271\n"
          ]
        },
        {
          "output_type": "stream",
          "name": "stderr",
          "text": [
            "\r 27%|██▋       | 272/1000 [16:59<45:23,  3.74s/it]"
          ]
        },
        {
          "output_type": "stream",
          "name": "stdout",
          "text": [
            "Training loss: 0.0003\n",
            "Training metric: 0.8753\n",
            "perturbation loss: 0.0028\n",
            "Validation acc: 0.9200\n",
            "\n",
            "Start of epoch 272\n"
          ]
        },
        {
          "output_type": "stream",
          "name": "stderr",
          "text": [
            "\r 27%|██▋       | 273/1000 [17:03<45:14,  3.73s/it]"
          ]
        },
        {
          "output_type": "stream",
          "name": "stdout",
          "text": [
            "Training loss: 0.0008\n",
            "Training metric: 0.8758\n",
            "perturbation loss: 0.0072\n",
            "Validation acc: 0.9267\n",
            "\n",
            "Start of epoch 273\n"
          ]
        },
        {
          "output_type": "stream",
          "name": "stderr",
          "text": [
            "\r 27%|██▋       | 274/1000 [17:06<45:05,  3.73s/it]"
          ]
        },
        {
          "output_type": "stream",
          "name": "stdout",
          "text": [
            "Training loss: 0.0014\n",
            "Training metric: 0.8762\n",
            "perturbation loss: 0.0063\n",
            "Validation acc: 0.9333\n",
            "\n",
            "Start of epoch 274\n"
          ]
        },
        {
          "output_type": "stream",
          "name": "stderr",
          "text": [
            "\r 28%|██▊       | 275/1000 [17:10<44:57,  3.72s/it]"
          ]
        },
        {
          "output_type": "stream",
          "name": "stdout",
          "text": [
            "Training loss: 0.0004\n",
            "Training metric: 0.8767\n",
            "perturbation loss: 0.0034\n",
            "Validation acc: 0.9400\n",
            "\n",
            "Start of epoch 275\n"
          ]
        },
        {
          "output_type": "stream",
          "name": "stderr",
          "text": [
            "\r 28%|██▊       | 276/1000 [17:14<45:07,  3.74s/it]"
          ]
        },
        {
          "output_type": "stream",
          "name": "stdout",
          "text": [
            "Training loss: 0.0004\n",
            "Training metric: 0.8771\n",
            "perturbation loss: 0.0036\n",
            "Validation acc: 0.9333\n",
            "\n",
            "Start of epoch 276\n"
          ]
        },
        {
          "output_type": "stream",
          "name": "stderr",
          "text": [
            "\r 28%|██▊       | 277/1000 [17:18<45:01,  3.74s/it]"
          ]
        },
        {
          "output_type": "stream",
          "name": "stdout",
          "text": [
            "Training loss: 0.0005\n",
            "Training metric: 0.8776\n",
            "perturbation loss: 0.0027\n",
            "Validation acc: 0.9133\n",
            "\n",
            "Start of epoch 277\n"
          ]
        },
        {
          "output_type": "stream",
          "name": "stderr",
          "text": [
            "\r 28%|██▊       | 278/1000 [17:21<44:53,  3.73s/it]"
          ]
        },
        {
          "output_type": "stream",
          "name": "stdout",
          "text": [
            "Training loss: 0.0963\n",
            "Training metric: 0.8778\n",
            "perturbation loss: 0.2064\n",
            "Validation acc: 0.8733\n",
            "\n",
            "Start of epoch 278\n"
          ]
        },
        {
          "output_type": "stream",
          "name": "stderr",
          "text": [
            "\r 28%|██▊       | 279/1000 [17:25<44:54,  3.74s/it]"
          ]
        },
        {
          "output_type": "stream",
          "name": "stdout",
          "text": [
            "Training loss: 0.1530\n",
            "Training metric: 0.8780\n",
            "perturbation loss: 0.3419\n",
            "Validation acc: 0.8267\n",
            "\n",
            "Start of epoch 279\n"
          ]
        },
        {
          "output_type": "stream",
          "name": "stderr",
          "text": [
            "\r 28%|██▊       | 280/1000 [17:29<44:47,  3.73s/it]"
          ]
        },
        {
          "output_type": "stream",
          "name": "stdout",
          "text": [
            "Training loss: 0.0267\n",
            "Training metric: 0.8783\n",
            "perturbation loss: 0.0826\n",
            "Validation acc: 0.9133\n",
            "\n",
            "Start of epoch 280\n"
          ]
        },
        {
          "output_type": "stream",
          "name": "stderr",
          "text": [
            "\r 28%|██▊       | 281/1000 [17:33<44:40,  3.73s/it]"
          ]
        },
        {
          "output_type": "stream",
          "name": "stdout",
          "text": [
            "Training loss: 0.0618\n",
            "Training metric: 0.8785\n",
            "perturbation loss: 0.1011\n",
            "Validation acc: 0.8933\n",
            "\n",
            "Start of epoch 281\n"
          ]
        },
        {
          "output_type": "stream",
          "name": "stderr",
          "text": [
            "\r 28%|██▊       | 282/1000 [17:36<44:48,  3.74s/it]"
          ]
        },
        {
          "output_type": "stream",
          "name": "stdout",
          "text": [
            "Training loss: 0.1037\n",
            "Training metric: 0.8786\n",
            "perturbation loss: 0.1634\n",
            "Validation acc: 0.9133\n",
            "\n",
            "Start of epoch 282\n"
          ]
        },
        {
          "output_type": "stream",
          "name": "stderr",
          "text": [
            "\r 28%|██▊       | 283/1000 [17:40<44:54,  3.76s/it]"
          ]
        },
        {
          "output_type": "stream",
          "name": "stdout",
          "text": [
            "Training loss: 0.0563\n",
            "Training metric: 0.8789\n",
            "perturbation loss: 0.1329\n",
            "Validation acc: 0.7667\n",
            "\n",
            "Start of epoch 283\n"
          ]
        },
        {
          "output_type": "stream",
          "name": "stderr",
          "text": [
            "\r 28%|██▊       | 284/1000 [17:44<44:42,  3.75s/it]"
          ]
        },
        {
          "output_type": "stream",
          "name": "stdout",
          "text": [
            "Training loss: 0.1677\n",
            "Training metric: 0.8792\n",
            "perturbation loss: 0.1111\n",
            "Validation acc: 0.8800\n",
            "\n",
            "Start of epoch 284\n"
          ]
        },
        {
          "output_type": "stream",
          "name": "stderr",
          "text": [
            "\r 28%|██▊       | 285/1000 [17:48<44:33,  3.74s/it]"
          ]
        },
        {
          "output_type": "stream",
          "name": "stdout",
          "text": [
            "Training loss: 0.1060\n",
            "Training metric: 0.8795\n",
            "perturbation loss: 0.1718\n",
            "Validation acc: 0.9133\n",
            "\n",
            "Start of epoch 285\n"
          ]
        },
        {
          "output_type": "stream",
          "name": "stderr",
          "text": [
            "\r 29%|██▊       | 286/1000 [17:51<44:24,  3.73s/it]"
          ]
        },
        {
          "output_type": "stream",
          "name": "stdout",
          "text": [
            "Training loss: 0.0322\n",
            "Training metric: 0.8799\n",
            "perturbation loss: 0.1575\n",
            "Validation acc: 0.9267\n",
            "\n",
            "Start of epoch 286\n"
          ]
        },
        {
          "output_type": "stream",
          "name": "stderr",
          "text": [
            "\r 29%|██▊       | 287/1000 [17:55<44:26,  3.74s/it]"
          ]
        },
        {
          "output_type": "stream",
          "name": "stdout",
          "text": [
            "Training loss: 0.0514\n",
            "Training metric: 0.8803\n",
            "perturbation loss: 0.1056\n",
            "Validation acc: 0.9200\n",
            "\n",
            "Start of epoch 287\n"
          ]
        },
        {
          "output_type": "stream",
          "name": "stderr",
          "text": [
            "\r 29%|██▉       | 288/1000 [17:59<44:17,  3.73s/it]"
          ]
        },
        {
          "output_type": "stream",
          "name": "stdout",
          "text": [
            "Training loss: 0.0109\n",
            "Training metric: 0.8807\n",
            "perturbation loss: 0.0402\n",
            "Validation acc: 0.9467\n",
            "\n",
            "Start of epoch 288\n"
          ]
        },
        {
          "output_type": "stream",
          "name": "stderr",
          "text": [
            "\r 29%|██▉       | 289/1000 [18:03<44:10,  3.73s/it]"
          ]
        },
        {
          "output_type": "stream",
          "name": "stdout",
          "text": [
            "Training loss: 0.0122\n",
            "Training metric: 0.8811\n",
            "perturbation loss: 0.0525\n",
            "Validation acc: 0.9400\n",
            "\n",
            "Start of epoch 289\n"
          ]
        },
        {
          "output_type": "stream",
          "name": "stderr",
          "text": [
            "\r 29%|██▉       | 290/1000 [18:06<44:19,  3.75s/it]"
          ]
        },
        {
          "output_type": "stream",
          "name": "stdout",
          "text": [
            "Training loss: 0.0267\n",
            "Training metric: 0.8815\n",
            "perturbation loss: 0.0455\n",
            "Validation acc: 0.9467\n",
            "\n",
            "Start of epoch 290\n"
          ]
        },
        {
          "output_type": "stream",
          "name": "stderr",
          "text": [
            "\r 29%|██▉       | 291/1000 [18:10<44:10,  3.74s/it]"
          ]
        },
        {
          "output_type": "stream",
          "name": "stdout",
          "text": [
            "Training loss: 0.0312\n",
            "Training metric: 0.8819\n",
            "perturbation loss: 0.0727\n",
            "Validation acc: 0.9400\n",
            "\n",
            "Start of epoch 291\n"
          ]
        },
        {
          "output_type": "stream",
          "name": "stderr",
          "text": [
            "\r 29%|██▉       | 292/1000 [18:14<44:00,  3.73s/it]"
          ]
        },
        {
          "output_type": "stream",
          "name": "stdout",
          "text": [
            "Training loss: 0.0153\n",
            "Training metric: 0.8823\n",
            "perturbation loss: 0.0565\n",
            "Validation acc: 0.9467\n",
            "\n",
            "Start of epoch 292\n"
          ]
        },
        {
          "output_type": "stream",
          "name": "stderr",
          "text": [
            "\r 29%|██▉       | 293/1000 [18:17<43:53,  3.73s/it]"
          ]
        },
        {
          "output_type": "stream",
          "name": "stdout",
          "text": [
            "Training loss: 0.0083\n",
            "Training metric: 0.8827\n",
            "perturbation loss: 0.0334\n",
            "Validation acc: 0.9267\n",
            "\n",
            "Start of epoch 293\n"
          ]
        },
        {
          "output_type": "stream",
          "name": "stderr",
          "text": [
            "\r 29%|██▉       | 294/1000 [18:21<44:03,  3.74s/it]"
          ]
        },
        {
          "output_type": "stream",
          "name": "stdout",
          "text": [
            "Training loss: 0.0112\n",
            "Training metric: 0.8831\n",
            "perturbation loss: 0.0362\n",
            "Validation acc: 0.9400\n",
            "\n",
            "Start of epoch 294\n"
          ]
        },
        {
          "output_type": "stream",
          "name": "stderr",
          "text": [
            "\r 30%|██▉       | 295/1000 [18:25<43:55,  3.74s/it]"
          ]
        },
        {
          "output_type": "stream",
          "name": "stdout",
          "text": [
            "Training loss: 0.0089\n",
            "Training metric: 0.8835\n",
            "perturbation loss: 0.0370\n",
            "Validation acc: 0.9467\n",
            "\n",
            "Start of epoch 295\n"
          ]
        },
        {
          "output_type": "stream",
          "name": "stderr",
          "text": [
            "\r 30%|██▉       | 296/1000 [18:29<43:46,  3.73s/it]"
          ]
        },
        {
          "output_type": "stream",
          "name": "stdout",
          "text": [
            "Training loss: 0.0043\n",
            "Training metric: 0.8839\n",
            "perturbation loss: 0.0187\n",
            "Validation acc: 0.9333\n",
            "\n",
            "Start of epoch 296\n"
          ]
        },
        {
          "output_type": "stream",
          "name": "stderr",
          "text": [
            "\r 30%|██▉       | 297/1000 [18:32<43:55,  3.75s/it]"
          ]
        },
        {
          "output_type": "stream",
          "name": "stdout",
          "text": [
            "Training loss: 0.0037\n",
            "Training metric: 0.8843\n",
            "perturbation loss: 0.0215\n",
            "Validation acc: 0.9467\n",
            "\n",
            "Start of epoch 297\n"
          ]
        },
        {
          "output_type": "stream",
          "name": "stderr",
          "text": [
            "\r 30%|██▉       | 298/1000 [18:36<43:44,  3.74s/it]"
          ]
        },
        {
          "output_type": "stream",
          "name": "stdout",
          "text": [
            "Training loss: 0.0025\n",
            "Training metric: 0.8847\n",
            "perturbation loss: 0.0118\n",
            "Validation acc: 0.9200\n",
            "\n",
            "Start of epoch 298\n"
          ]
        },
        {
          "output_type": "stream",
          "name": "stderr",
          "text": [
            "\r 30%|██▉       | 299/1000 [18:40<43:36,  3.73s/it]"
          ]
        },
        {
          "output_type": "stream",
          "name": "stdout",
          "text": [
            "Training loss: 0.0036\n",
            "Training metric: 0.8851\n",
            "perturbation loss: 0.0173\n",
            "Validation acc: 0.9600\n",
            "\n",
            "Start of epoch 299\n"
          ]
        },
        {
          "output_type": "stream",
          "name": "stderr",
          "text": [
            "\r 30%|███       | 300/1000 [18:44<43:28,  3.73s/it]"
          ]
        },
        {
          "output_type": "stream",
          "name": "stdout",
          "text": [
            "Training loss: 0.0261\n",
            "Training metric: 0.8854\n",
            "perturbation loss: 0.0149\n",
            "Validation acc: 0.9400\n",
            "\n",
            "Start of epoch 300\n"
          ]
        },
        {
          "output_type": "stream",
          "name": "stderr",
          "text": [
            "\r 30%|███       | 301/1000 [18:47<43:37,  3.74s/it]"
          ]
        },
        {
          "output_type": "stream",
          "name": "stdout",
          "text": [
            "Training loss: 0.0583\n",
            "Training metric: 0.8858\n",
            "perturbation loss: 0.0536\n",
            "Validation acc: 0.8800\n",
            "\n",
            "Start of epoch 301\n"
          ]
        },
        {
          "output_type": "stream",
          "name": "stderr",
          "text": [
            "\r 30%|███       | 302/1000 [18:51<43:29,  3.74s/it]"
          ]
        },
        {
          "output_type": "stream",
          "name": "stdout",
          "text": [
            "Training loss: 0.0783\n",
            "Training metric: 0.8861\n",
            "perturbation loss: 0.2595\n",
            "Validation acc: 0.9133\n",
            "\n",
            "Start of epoch 302\n"
          ]
        },
        {
          "output_type": "stream",
          "name": "stderr",
          "text": [
            "\r 30%|███       | 303/1000 [18:55<43:21,  3.73s/it]"
          ]
        },
        {
          "output_type": "stream",
          "name": "stdout",
          "text": [
            "Training loss: 0.0945\n",
            "Training metric: 0.8864\n",
            "perturbation loss: 0.3191\n",
            "Validation acc: 0.9333\n",
            "\n",
            "Start of epoch 303\n"
          ]
        },
        {
          "output_type": "stream",
          "name": "stderr",
          "text": [
            "\r 30%|███       | 304/1000 [18:59<43:15,  3.73s/it]"
          ]
        },
        {
          "output_type": "stream",
          "name": "stdout",
          "text": [
            "Training loss: 0.0488\n",
            "Training metric: 0.8867\n",
            "perturbation loss: 0.1023\n",
            "Validation acc: 0.8467\n",
            "\n",
            "Start of epoch 304\n"
          ]
        },
        {
          "output_type": "stream",
          "name": "stderr",
          "text": [
            "\r 30%|███       | 305/1000 [19:02<43:23,  3.75s/it]"
          ]
        },
        {
          "output_type": "stream",
          "name": "stdout",
          "text": [
            "Training loss: 0.2750\n",
            "Training metric: 0.8870\n",
            "perturbation loss: 0.3201\n",
            "Validation acc: 0.8733\n",
            "\n",
            "Start of epoch 305\n"
          ]
        },
        {
          "output_type": "stream",
          "name": "stderr",
          "text": [
            "\r 31%|███       | 306/1000 [19:06<43:14,  3.74s/it]"
          ]
        },
        {
          "output_type": "stream",
          "name": "stdout",
          "text": [
            "Training loss: 0.0295\n",
            "Training metric: 0.8873\n",
            "perturbation loss: 0.1129\n",
            "Validation acc: 0.9133\n",
            "\n",
            "Start of epoch 306\n"
          ]
        },
        {
          "output_type": "stream",
          "name": "stderr",
          "text": [
            "\r 31%|███       | 307/1000 [19:10<43:05,  3.73s/it]"
          ]
        },
        {
          "output_type": "stream",
          "name": "stdout",
          "text": [
            "Training loss: 0.0518\n",
            "Training metric: 0.8876\n",
            "perturbation loss: 0.0881\n",
            "Validation acc: 0.9333\n",
            "\n",
            "Start of epoch 307\n"
          ]
        },
        {
          "output_type": "stream",
          "name": "stderr",
          "text": [
            "\r 31%|███       | 308/1000 [19:14<43:06,  3.74s/it]"
          ]
        },
        {
          "output_type": "stream",
          "name": "stdout",
          "text": [
            "Training loss: 0.0186\n",
            "Training metric: 0.8879\n",
            "perturbation loss: 0.0937\n",
            "Validation acc: 0.9067\n",
            "\n",
            "Start of epoch 308\n"
          ]
        },
        {
          "output_type": "stream",
          "name": "stderr",
          "text": [
            "\r 31%|███       | 309/1000 [19:17<42:59,  3.73s/it]"
          ]
        },
        {
          "output_type": "stream",
          "name": "stdout",
          "text": [
            "Training loss: 0.1157\n",
            "Training metric: 0.8882\n",
            "perturbation loss: 0.1189\n",
            "Validation acc: 0.9400\n",
            "\n",
            "Start of epoch 309\n"
          ]
        },
        {
          "output_type": "stream",
          "name": "stderr",
          "text": [
            "\r 31%|███       | 310/1000 [19:21<42:52,  3.73s/it]"
          ]
        },
        {
          "output_type": "stream",
          "name": "stdout",
          "text": [
            "Training loss: 0.0227\n",
            "Training metric: 0.8886\n",
            "perturbation loss: 0.0419\n",
            "Validation acc: 0.9333\n",
            "\n",
            "Start of epoch 310\n"
          ]
        },
        {
          "output_type": "stream",
          "name": "stderr",
          "text": [
            "\r 31%|███       | 311/1000 [19:25<42:45,  3.72s/it]"
          ]
        },
        {
          "output_type": "stream",
          "name": "stdout",
          "text": [
            "Training loss: 0.0270\n",
            "Training metric: 0.8889\n",
            "perturbation loss: 0.0917\n",
            "Validation acc: 0.9200\n",
            "\n",
            "Start of epoch 311\n"
          ]
        },
        {
          "output_type": "stream",
          "name": "stderr",
          "text": [
            "\r 31%|███       | 312/1000 [19:29<42:56,  3.75s/it]"
          ]
        },
        {
          "output_type": "stream",
          "name": "stdout",
          "text": [
            "Training loss: 0.0342\n",
            "Training metric: 0.8892\n",
            "perturbation loss: 0.1228\n",
            "Validation acc: 0.9200\n",
            "\n",
            "Start of epoch 312\n"
          ]
        },
        {
          "output_type": "stream",
          "name": "stderr",
          "text": [
            "\r 31%|███▏      | 313/1000 [19:32<42:48,  3.74s/it]"
          ]
        },
        {
          "output_type": "stream",
          "name": "stdout",
          "text": [
            "Training loss: 0.0285\n",
            "Training metric: 0.8895\n",
            "perturbation loss: 0.0562\n",
            "Validation acc: 0.9400\n",
            "\n",
            "Start of epoch 313\n"
          ]
        },
        {
          "output_type": "stream",
          "name": "stderr",
          "text": [
            "\r 31%|███▏      | 314/1000 [19:36<42:39,  3.73s/it]"
          ]
        },
        {
          "output_type": "stream",
          "name": "stdout",
          "text": [
            "Training loss: 0.0675\n",
            "Training metric: 0.8898\n",
            "perturbation loss: 0.1033\n",
            "Validation acc: 0.9267\n",
            "\n",
            "Start of epoch 314\n"
          ]
        },
        {
          "output_type": "stream",
          "name": "stderr",
          "text": [
            "\r 32%|███▏      | 315/1000 [19:40<42:32,  3.73s/it]"
          ]
        },
        {
          "output_type": "stream",
          "name": "stdout",
          "text": [
            "Training loss: 0.0291\n",
            "Training metric: 0.8901\n",
            "perturbation loss: 0.0871\n",
            "Validation acc: 0.9467\n",
            "\n",
            "Start of epoch 315\n"
          ]
        },
        {
          "output_type": "stream",
          "name": "stderr",
          "text": [
            "\r 32%|███▏      | 316/1000 [19:43<42:42,  3.75s/it]"
          ]
        },
        {
          "output_type": "stream",
          "name": "stdout",
          "text": [
            "Training loss: 0.0680\n",
            "Training metric: 0.8904\n",
            "perturbation loss: 0.1545\n",
            "Validation acc: 0.9533\n",
            "\n",
            "Start of epoch 316\n"
          ]
        },
        {
          "output_type": "stream",
          "name": "stderr",
          "text": [
            "\r 32%|███▏      | 317/1000 [19:47<42:33,  3.74s/it]"
          ]
        },
        {
          "output_type": "stream",
          "name": "stdout",
          "text": [
            "Training loss: 0.0036\n",
            "Training metric: 0.8907\n",
            "perturbation loss: 0.0205\n",
            "Validation acc: 0.9400\n",
            "\n",
            "Start of epoch 317\n"
          ]
        },
        {
          "output_type": "stream",
          "name": "stderr",
          "text": [
            "\r 32%|███▏      | 318/1000 [19:51<42:26,  3.73s/it]"
          ]
        },
        {
          "output_type": "stream",
          "name": "stdout",
          "text": [
            "Training loss: 0.0122\n",
            "Training metric: 0.8910\n",
            "perturbation loss: 0.0526\n",
            "Validation acc: 0.9333\n",
            "\n",
            "Start of epoch 318\n"
          ]
        },
        {
          "output_type": "stream",
          "name": "stderr",
          "text": [
            "\r 32%|███▏      | 319/1000 [19:55<42:34,  3.75s/it]"
          ]
        },
        {
          "output_type": "stream",
          "name": "stdout",
          "text": [
            "Training loss: 0.0462\n",
            "Training metric: 0.8913\n",
            "perturbation loss: 0.1569\n",
            "Validation acc: 0.9000\n",
            "\n",
            "Start of epoch 319\n"
          ]
        },
        {
          "output_type": "stream",
          "name": "stderr",
          "text": [
            "\r 32%|███▏      | 320/1000 [19:58<42:24,  3.74s/it]"
          ]
        },
        {
          "output_type": "stream",
          "name": "stdout",
          "text": [
            "Training loss: 0.0580\n",
            "Training metric: 0.8916\n",
            "perturbation loss: 0.0553\n",
            "Validation acc: 0.9467\n",
            "\n",
            "Start of epoch 320\n"
          ]
        },
        {
          "output_type": "stream",
          "name": "stderr",
          "text": [
            "\r 32%|███▏      | 321/1000 [20:02<42:15,  3.73s/it]"
          ]
        },
        {
          "output_type": "stream",
          "name": "stdout",
          "text": [
            "Training loss: 0.0353\n",
            "Training metric: 0.8919\n",
            "perturbation loss: 0.1046\n",
            "Validation acc: 0.9200\n",
            "\n",
            "Start of epoch 321\n"
          ]
        },
        {
          "output_type": "stream",
          "name": "stderr",
          "text": [
            "\r 32%|███▏      | 322/1000 [20:06<42:08,  3.73s/it]"
          ]
        },
        {
          "output_type": "stream",
          "name": "stdout",
          "text": [
            "Training loss: 0.0142\n",
            "Training metric: 0.8922\n",
            "perturbation loss: 0.0554\n",
            "Validation acc: 0.9400\n",
            "\n",
            "Start of epoch 322\n"
          ]
        },
        {
          "output_type": "stream",
          "name": "stderr",
          "text": [
            "\r 32%|███▏      | 323/1000 [20:10<42:19,  3.75s/it]"
          ]
        },
        {
          "output_type": "stream",
          "name": "stdout",
          "text": [
            "Training loss: 0.0248\n",
            "Training metric: 0.8925\n",
            "perturbation loss: 0.0365\n",
            "Validation acc: 0.9533\n",
            "\n",
            "Start of epoch 323\n"
          ]
        },
        {
          "output_type": "stream",
          "name": "stderr",
          "text": [
            "\r 32%|███▏      | 324/1000 [20:13<42:08,  3.74s/it]"
          ]
        },
        {
          "output_type": "stream",
          "name": "stdout",
          "text": [
            "Training loss: 0.0074\n",
            "Training metric: 0.8928\n",
            "perturbation loss: 0.0423\n",
            "Validation acc: 0.9333\n",
            "\n",
            "Start of epoch 324\n"
          ]
        },
        {
          "output_type": "stream",
          "name": "stderr",
          "text": [
            "\r 32%|███▎      | 325/1000 [20:17<42:01,  3.74s/it]"
          ]
        },
        {
          "output_type": "stream",
          "name": "stdout",
          "text": [
            "Training loss: 0.2691\n",
            "Training metric: 0.8930\n",
            "perturbation loss: 0.2092\n",
            "Validation acc: 0.9333\n",
            "\n",
            "Start of epoch 325\n"
          ]
        },
        {
          "output_type": "stream",
          "name": "stderr",
          "text": [
            "\r 33%|███▎      | 326/1000 [20:21<41:53,  3.73s/it]"
          ]
        },
        {
          "output_type": "stream",
          "name": "stdout",
          "text": [
            "Training loss: 0.1179\n",
            "Training metric: 0.8932\n",
            "perturbation loss: 0.1112\n",
            "Validation acc: 0.9267\n",
            "\n",
            "Start of epoch 326\n"
          ]
        },
        {
          "output_type": "stream",
          "name": "stderr",
          "text": [
            "\r 33%|███▎      | 327/1000 [20:25<42:03,  3.75s/it]"
          ]
        },
        {
          "output_type": "stream",
          "name": "stdout",
          "text": [
            "Training loss: 0.0997\n",
            "Training metric: 0.8935\n",
            "perturbation loss: 0.1959\n",
            "Validation acc: 0.9600\n",
            "\n",
            "Start of epoch 327\n"
          ]
        },
        {
          "output_type": "stream",
          "name": "stderr",
          "text": [
            "\r 33%|███▎      | 328/1000 [20:28<41:54,  3.74s/it]"
          ]
        },
        {
          "output_type": "stream",
          "name": "stdout",
          "text": [
            "Training loss: 0.0150\n",
            "Training metric: 0.8938\n",
            "perturbation loss: 0.0632\n",
            "Validation acc: 0.9867\n",
            "\n",
            "Start of epoch 328\n"
          ]
        },
        {
          "output_type": "stream",
          "name": "stderr",
          "text": [
            "\r 33%|███▎      | 329/1000 [20:32<41:46,  3.74s/it]"
          ]
        },
        {
          "output_type": "stream",
          "name": "stdout",
          "text": [
            "Training loss: 0.0549\n",
            "Training metric: 0.8941\n",
            "perturbation loss: 0.1109\n",
            "Validation acc: 0.9467\n",
            "\n",
            "Start of epoch 329\n"
          ]
        },
        {
          "output_type": "stream",
          "name": "stderr",
          "text": [
            "\r 33%|███▎      | 330/1000 [20:36<41:55,  3.75s/it]"
          ]
        },
        {
          "output_type": "stream",
          "name": "stdout",
          "text": [
            "Training loss: 0.0306\n",
            "Training metric: 0.8944\n",
            "perturbation loss: 0.1045\n",
            "Validation acc: 0.9667\n",
            "\n",
            "Start of epoch 330\n"
          ]
        },
        {
          "output_type": "stream",
          "name": "stderr",
          "text": [
            "\r 33%|███▎      | 331/1000 [20:40<41:48,  3.75s/it]"
          ]
        },
        {
          "output_type": "stream",
          "name": "stdout",
          "text": [
            "Training loss: 0.0314\n",
            "Training metric: 0.8947\n",
            "perturbation loss: 0.0473\n",
            "Validation acc: 0.9600\n",
            "\n",
            "Start of epoch 331\n"
          ]
        },
        {
          "output_type": "stream",
          "name": "stderr",
          "text": [
            "\r 33%|███▎      | 332/1000 [20:43<41:38,  3.74s/it]"
          ]
        },
        {
          "output_type": "stream",
          "name": "stdout",
          "text": [
            "Training loss: 0.0198\n",
            "Training metric: 0.8950\n",
            "perturbation loss: 0.0446\n",
            "Validation acc: 0.9667\n",
            "\n",
            "Start of epoch 332\n"
          ]
        },
        {
          "output_type": "stream",
          "name": "stderr",
          "text": [
            "\r 33%|███▎      | 333/1000 [20:47<41:30,  3.73s/it]"
          ]
        },
        {
          "output_type": "stream",
          "name": "stdout",
          "text": [
            "Training loss: 0.0114\n",
            "Training metric: 0.8953\n",
            "perturbation loss: 0.0416\n",
            "Validation acc: 0.9200\n",
            "\n",
            "Start of epoch 333\n"
          ]
        },
        {
          "output_type": "stream",
          "name": "stderr",
          "text": [
            "\r 33%|███▎      | 334/1000 [20:51<41:33,  3.74s/it]"
          ]
        },
        {
          "output_type": "stream",
          "name": "stdout",
          "text": [
            "Training loss: 0.0180\n",
            "Training metric: 0.8956\n",
            "perturbation loss: 0.0473\n",
            "Validation acc: 0.9533\n",
            "\n",
            "Start of epoch 334\n"
          ]
        },
        {
          "output_type": "stream",
          "name": "stderr",
          "text": [
            "\r 34%|███▎      | 335/1000 [20:55<41:25,  3.74s/it]"
          ]
        },
        {
          "output_type": "stream",
          "name": "stdout",
          "text": [
            "Training loss: 0.0056\n",
            "Training metric: 0.8959\n",
            "perturbation loss: 0.0295\n",
            "Validation acc: 0.9533\n",
            "\n",
            "Start of epoch 335\n"
          ]
        },
        {
          "output_type": "stream",
          "name": "stderr",
          "text": [
            "\r 34%|███▎      | 336/1000 [20:58<41:17,  3.73s/it]"
          ]
        },
        {
          "output_type": "stream",
          "name": "stdout",
          "text": [
            "Training loss: 0.0263\n",
            "Training metric: 0.8962\n",
            "perturbation loss: 0.0531\n",
            "Validation acc: 0.9733\n",
            "\n",
            "Start of epoch 336\n"
          ]
        },
        {
          "output_type": "stream",
          "name": "stderr",
          "text": [
            "\r 34%|███▎      | 337/1000 [21:02<41:12,  3.73s/it]"
          ]
        },
        {
          "output_type": "stream",
          "name": "stdout",
          "text": [
            "Training loss: 0.0039\n",
            "Training metric: 0.8965\n",
            "perturbation loss: 0.0361\n",
            "Validation acc: 0.9400\n",
            "\n",
            "Start of epoch 337\n"
          ]
        },
        {
          "output_type": "stream",
          "name": "stderr",
          "text": [
            "\r 34%|███▍      | 338/1000 [21:06<41:23,  3.75s/it]"
          ]
        },
        {
          "output_type": "stream",
          "name": "stdout",
          "text": [
            "Training loss: 0.0078\n",
            "Training metric: 0.8968\n",
            "perturbation loss: 0.0376\n",
            "Validation acc: 0.9400\n",
            "\n",
            "Start of epoch 338\n"
          ]
        },
        {
          "output_type": "stream",
          "name": "stderr",
          "text": [
            "\r 34%|███▍      | 339/1000 [21:09<41:13,  3.74s/it]"
          ]
        },
        {
          "output_type": "stream",
          "name": "stdout",
          "text": [
            "Training loss: 0.0292\n",
            "Training metric: 0.8970\n",
            "perturbation loss: 0.1007\n",
            "Validation acc: 0.9333\n",
            "\n",
            "Start of epoch 339\n"
          ]
        },
        {
          "output_type": "stream",
          "name": "stderr",
          "text": [
            "\r 34%|███▍      | 340/1000 [21:13<41:07,  3.74s/it]"
          ]
        },
        {
          "output_type": "stream",
          "name": "stdout",
          "text": [
            "Training loss: 0.0610\n",
            "Training metric: 0.8972\n",
            "perturbation loss: 0.1706\n",
            "Validation acc: 0.9333\n",
            "\n",
            "Start of epoch 340\n"
          ]
        },
        {
          "output_type": "stream",
          "name": "stderr",
          "text": [
            "\r 34%|███▍      | 341/1000 [21:17<41:14,  3.76s/it]"
          ]
        },
        {
          "output_type": "stream",
          "name": "stdout",
          "text": [
            "Training loss: 0.0054\n",
            "Training metric: 0.8975\n",
            "perturbation loss: 0.0298\n",
            "Validation acc: 0.9400\n",
            "\n",
            "Start of epoch 341\n"
          ]
        },
        {
          "output_type": "stream",
          "name": "stderr",
          "text": [
            "\r 34%|███▍      | 342/1000 [21:21<41:05,  3.75s/it]"
          ]
        },
        {
          "output_type": "stream",
          "name": "stdout",
          "text": [
            "Training loss: 0.0223\n",
            "Training metric: 0.8978\n",
            "perturbation loss: 0.0418\n",
            "Validation acc: 0.9600\n",
            "\n",
            "Start of epoch 342\n"
          ]
        },
        {
          "output_type": "stream",
          "name": "stderr",
          "text": [
            "\r 34%|███▍      | 343/1000 [21:24<40:57,  3.74s/it]"
          ]
        },
        {
          "output_type": "stream",
          "name": "stdout",
          "text": [
            "Training loss: 0.0144\n",
            "Training metric: 0.8981\n",
            "perturbation loss: 0.0647\n",
            "Validation acc: 0.9400\n",
            "\n",
            "Start of epoch 343\n"
          ]
        },
        {
          "output_type": "stream",
          "name": "stderr",
          "text": [
            "\r 34%|███▍      | 344/1000 [21:28<40:49,  3.73s/it]"
          ]
        },
        {
          "output_type": "stream",
          "name": "stdout",
          "text": [
            "Training loss: 0.0063\n",
            "Training metric: 0.8983\n",
            "perturbation loss: 0.0607\n",
            "Validation acc: 0.9467\n",
            "\n",
            "Start of epoch 344\n"
          ]
        },
        {
          "output_type": "stream",
          "name": "stderr",
          "text": [
            "\r 34%|███▍      | 345/1000 [21:32<40:49,  3.74s/it]"
          ]
        },
        {
          "output_type": "stream",
          "name": "stdout",
          "text": [
            "Training loss: 0.0157\n",
            "Training metric: 0.8986\n",
            "perturbation loss: 0.0446\n",
            "Validation acc: 0.9533\n",
            "\n",
            "Start of epoch 345\n"
          ]
        },
        {
          "output_type": "stream",
          "name": "stderr",
          "text": [
            "\r 35%|███▍      | 346/1000 [21:36<40:42,  3.73s/it]"
          ]
        },
        {
          "output_type": "stream",
          "name": "stdout",
          "text": [
            "Training loss: 0.0037\n",
            "Training metric: 0.8989\n",
            "perturbation loss: 0.0193\n",
            "Validation acc: 0.9867\n",
            "\n",
            "Start of epoch 346\n"
          ]
        },
        {
          "output_type": "stream",
          "name": "stderr",
          "text": [
            "\r 35%|███▍      | 347/1000 [21:39<40:35,  3.73s/it]"
          ]
        },
        {
          "output_type": "stream",
          "name": "stdout",
          "text": [
            "Training loss: 0.0056\n",
            "Training metric: 0.8992\n",
            "perturbation loss: 0.0209\n",
            "Validation acc: 0.9800\n",
            "\n",
            "Start of epoch 347\n"
          ]
        },
        {
          "output_type": "stream",
          "name": "stderr",
          "text": [
            "\r 35%|███▍      | 348/1000 [21:43<40:36,  3.74s/it]"
          ]
        },
        {
          "output_type": "stream",
          "name": "stdout",
          "text": [
            "Training loss: 0.0823\n",
            "Training metric: 0.8994\n",
            "perturbation loss: 0.1122\n",
            "Validation acc: 0.9467\n",
            "\n",
            "Start of epoch 348\n"
          ]
        },
        {
          "output_type": "stream",
          "name": "stderr",
          "text": [
            "\r 35%|███▍      | 349/1000 [21:47<40:30,  3.73s/it]"
          ]
        },
        {
          "output_type": "stream",
          "name": "stdout",
          "text": [
            "Training loss: 0.0072\n",
            "Training metric: 0.8997\n",
            "perturbation loss: 0.0383\n",
            "Validation acc: 0.9667\n",
            "\n",
            "Start of epoch 349\n"
          ]
        },
        {
          "output_type": "stream",
          "name": "stderr",
          "text": [
            "\r 35%|███▌      | 350/1000 [21:51<40:23,  3.73s/it]"
          ]
        },
        {
          "output_type": "stream",
          "name": "stdout",
          "text": [
            "Training loss: 0.0099\n",
            "Training metric: 0.9000\n",
            "perturbation loss: 0.0333\n",
            "Validation acc: 0.9800\n",
            "\n",
            "Start of epoch 350\n"
          ]
        },
        {
          "output_type": "stream",
          "name": "stderr",
          "text": [
            "\r 35%|███▌      | 351/1000 [21:54<40:19,  3.73s/it]"
          ]
        },
        {
          "output_type": "stream",
          "name": "stdout",
          "text": [
            "Training loss: 0.0048\n",
            "Training metric: 0.9002\n",
            "perturbation loss: 0.0284\n",
            "Validation acc: 0.9667\n",
            "\n",
            "Start of epoch 351\n"
          ]
        },
        {
          "output_type": "stream",
          "name": "stderr",
          "text": [
            "\r 35%|███▌      | 352/1000 [21:58<40:29,  3.75s/it]"
          ]
        },
        {
          "output_type": "stream",
          "name": "stdout",
          "text": [
            "Training loss: 0.1803\n",
            "Training metric: 0.9005\n",
            "perturbation loss: 0.0867\n",
            "Validation acc: 0.9400\n",
            "\n",
            "Start of epoch 352\n"
          ]
        },
        {
          "output_type": "stream",
          "name": "stderr",
          "text": [
            "\r 35%|███▌      | 353/1000 [22:02<40:21,  3.74s/it]"
          ]
        },
        {
          "output_type": "stream",
          "name": "stdout",
          "text": [
            "Training loss: 0.0401\n",
            "Training metric: 0.9007\n",
            "perturbation loss: 0.0940\n",
            "Validation acc: 0.9067\n",
            "\n",
            "Start of epoch 353\n"
          ]
        },
        {
          "output_type": "stream",
          "name": "stderr",
          "text": [
            "\r 35%|███▌      | 354/1000 [22:06<40:13,  3.74s/it]"
          ]
        },
        {
          "output_type": "stream",
          "name": "stdout",
          "text": [
            "Training loss: 0.0347\n",
            "Training metric: 0.9009\n",
            "perturbation loss: 0.0568\n",
            "Validation acc: 0.9533\n",
            "\n",
            "Start of epoch 354\n"
          ]
        },
        {
          "output_type": "stream",
          "name": "stderr",
          "text": [
            "\r 36%|███▌      | 355/1000 [22:09<40:06,  3.73s/it]"
          ]
        },
        {
          "output_type": "stream",
          "name": "stdout",
          "text": [
            "Training loss: 0.0991\n",
            "Training metric: 0.9011\n",
            "perturbation loss: 0.1244\n",
            "Validation acc: 0.9600\n",
            "\n",
            "Start of epoch 355\n"
          ]
        },
        {
          "output_type": "stream",
          "name": "stderr",
          "text": [
            "\r 36%|███▌      | 356/1000 [22:13<40:15,  3.75s/it]"
          ]
        },
        {
          "output_type": "stream",
          "name": "stdout",
          "text": [
            "Training loss: 0.0484\n",
            "Training metric: 0.9014\n",
            "perturbation loss: 0.1382\n",
            "Validation acc: 0.9200\n",
            "\n",
            "Start of epoch 356\n"
          ]
        },
        {
          "output_type": "stream",
          "name": "stderr",
          "text": [
            "\r 36%|███▌      | 357/1000 [22:17<40:08,  3.75s/it]"
          ]
        },
        {
          "output_type": "stream",
          "name": "stdout",
          "text": [
            "Training loss: 0.0857\n",
            "Training metric: 0.9016\n",
            "perturbation loss: 0.1216\n",
            "Validation acc: 0.9067\n",
            "\n",
            "Start of epoch 357\n"
          ]
        },
        {
          "output_type": "stream",
          "name": "stderr",
          "text": [
            "\r 36%|███▌      | 358/1000 [22:21<40:13,  3.76s/it]"
          ]
        },
        {
          "output_type": "stream",
          "name": "stdout",
          "text": [
            "Training loss: 0.0298\n",
            "Training metric: 0.9019\n",
            "perturbation loss: 0.1006\n",
            "Validation acc: 0.9067\n",
            "\n",
            "Start of epoch 358\n"
          ]
        },
        {
          "output_type": "stream",
          "name": "stderr",
          "text": [
            "\r 36%|███▌      | 359/1000 [22:24<40:17,  3.77s/it]"
          ]
        },
        {
          "output_type": "stream",
          "name": "stdout",
          "text": [
            "Training loss: 0.0031\n",
            "Training metric: 0.9021\n",
            "perturbation loss: 0.0223\n",
            "Validation acc: 0.9400\n",
            "\n",
            "Start of epoch 359\n"
          ]
        },
        {
          "output_type": "stream",
          "name": "stderr",
          "text": [
            "\r 36%|███▌      | 360/1000 [22:28<40:04,  3.76s/it]"
          ]
        },
        {
          "output_type": "stream",
          "name": "stdout",
          "text": [
            "Training loss: 0.0335\n",
            "Training metric: 0.9023\n",
            "perturbation loss: 0.0292\n",
            "Validation acc: 0.9533\n",
            "\n",
            "Start of epoch 360\n"
          ]
        },
        {
          "output_type": "stream",
          "name": "stderr",
          "text": [
            "\r 36%|███▌      | 361/1000 [22:32<39:54,  3.75s/it]"
          ]
        },
        {
          "output_type": "stream",
          "name": "stdout",
          "text": [
            "Training loss: 0.0248\n",
            "Training metric: 0.9026\n",
            "perturbation loss: 0.0545\n",
            "Validation acc: 0.9533\n",
            "\n",
            "Start of epoch 361\n"
          ]
        },
        {
          "output_type": "stream",
          "name": "stderr",
          "text": [
            "\r 36%|███▌      | 362/1000 [22:36<39:45,  3.74s/it]"
          ]
        },
        {
          "output_type": "stream",
          "name": "stdout",
          "text": [
            "Training loss: 0.0188\n",
            "Training metric: 0.9028\n",
            "perturbation loss: 0.0695\n",
            "Validation acc: 0.9267\n",
            "\n",
            "Start of epoch 362\n"
          ]
        },
        {
          "output_type": "stream",
          "name": "stderr",
          "text": [
            "\r 36%|███▋      | 363/1000 [22:39<39:44,  3.74s/it]"
          ]
        },
        {
          "output_type": "stream",
          "name": "stdout",
          "text": [
            "Training loss: 0.1548\n",
            "Training metric: 0.9031\n",
            "perturbation loss: 0.1005\n",
            "Validation acc: 0.9600\n",
            "\n",
            "Start of epoch 363\n"
          ]
        },
        {
          "output_type": "stream",
          "name": "stderr",
          "text": [
            "\r 36%|███▋      | 364/1000 [22:43<39:36,  3.74s/it]"
          ]
        },
        {
          "output_type": "stream",
          "name": "stdout",
          "text": [
            "Training loss: 0.0706\n",
            "Training metric: 0.9033\n",
            "perturbation loss: 0.1882\n",
            "Validation acc: 0.9600\n",
            "\n",
            "Start of epoch 364\n"
          ]
        },
        {
          "output_type": "stream",
          "name": "stderr",
          "text": [
            "\r 36%|███▋      | 365/1000 [22:47<39:30,  3.73s/it]"
          ]
        },
        {
          "output_type": "stream",
          "name": "stdout",
          "text": [
            "Training loss: 0.0557\n",
            "Training metric: 0.9035\n",
            "perturbation loss: 0.1706\n",
            "Validation acc: 0.9400\n",
            "\n",
            "Start of epoch 365\n"
          ]
        },
        {
          "output_type": "stream",
          "name": "stderr",
          "text": [
            "\r 37%|███▋      | 366/1000 [22:50<39:25,  3.73s/it]"
          ]
        },
        {
          "output_type": "stream",
          "name": "stdout",
          "text": [
            "Training loss: 0.0162\n",
            "Training metric: 0.9038\n",
            "perturbation loss: 0.0642\n",
            "Validation acc: 0.9733\n",
            "\n",
            "Start of epoch 366\n"
          ]
        },
        {
          "output_type": "stream",
          "name": "stderr",
          "text": [
            "\r 37%|███▋      | 367/1000 [22:54<39:25,  3.74s/it]"
          ]
        },
        {
          "output_type": "stream",
          "name": "stdout",
          "text": [
            "Training loss: 0.0129\n",
            "Training metric: 0.9040\n",
            "perturbation loss: 0.0582\n",
            "Validation acc: 0.9133\n",
            "\n",
            "Start of epoch 367\n"
          ]
        },
        {
          "output_type": "stream",
          "name": "stderr",
          "text": [
            "\r 37%|███▋      | 368/1000 [22:58<39:32,  3.75s/it]"
          ]
        },
        {
          "output_type": "stream",
          "name": "stdout",
          "text": [
            "Training loss: 0.0037\n",
            "Training metric: 0.9043\n",
            "perturbation loss: 0.0230\n",
            "Validation acc: 0.9600\n",
            "\n",
            "Start of epoch 368\n"
          ]
        },
        {
          "output_type": "stream",
          "name": "stderr",
          "text": [
            "\r 37%|███▋      | 369/1000 [23:02<39:22,  3.74s/it]"
          ]
        },
        {
          "output_type": "stream",
          "name": "stdout",
          "text": [
            "Training loss: 0.0072\n",
            "Training metric: 0.9046\n",
            "perturbation loss: 0.0325\n",
            "Validation acc: 0.9467\n",
            "\n",
            "Start of epoch 369\n"
          ]
        },
        {
          "output_type": "stream",
          "name": "stderr",
          "text": [
            "\r 37%|███▋      | 370/1000 [23:06<39:29,  3.76s/it]"
          ]
        },
        {
          "output_type": "stream",
          "name": "stdout",
          "text": [
            "Training loss: 0.0063\n",
            "Training metric: 0.9048\n",
            "perturbation loss: 0.0298\n",
            "Validation acc: 0.9600\n",
            "\n",
            "Start of epoch 370\n"
          ]
        },
        {
          "output_type": "stream",
          "name": "stderr",
          "text": [
            "\r 37%|███▋      | 371/1000 [23:09<39:19,  3.75s/it]"
          ]
        },
        {
          "output_type": "stream",
          "name": "stdout",
          "text": [
            "Training loss: 0.0021\n",
            "Training metric: 0.9051\n",
            "perturbation loss: 0.0154\n",
            "Validation acc: 0.9467\n",
            "\n",
            "Start of epoch 371\n"
          ]
        },
        {
          "output_type": "stream",
          "name": "stderr",
          "text": [
            "\r 37%|███▋      | 372/1000 [23:13<39:10,  3.74s/it]"
          ]
        },
        {
          "output_type": "stream",
          "name": "stdout",
          "text": [
            "Training loss: 0.0015\n",
            "Training metric: 0.9053\n",
            "perturbation loss: 0.0098\n",
            "Validation acc: 0.9533\n",
            "\n",
            "Start of epoch 372\n"
          ]
        },
        {
          "output_type": "stream",
          "name": "stderr",
          "text": [
            "\r 37%|███▋      | 373/1000 [23:17<39:03,  3.74s/it]"
          ]
        },
        {
          "output_type": "stream",
          "name": "stdout",
          "text": [
            "Training loss: 0.0162\n",
            "Training metric: 0.9055\n",
            "perturbation loss: 0.0803\n",
            "Validation acc: 0.9600\n",
            "\n",
            "Start of epoch 373\n"
          ]
        },
        {
          "output_type": "stream",
          "name": "stderr",
          "text": [
            "\r 37%|███▋      | 374/1000 [23:21<39:11,  3.76s/it]"
          ]
        },
        {
          "output_type": "stream",
          "name": "stdout",
          "text": [
            "Training loss: 0.0040\n",
            "Training metric: 0.9058\n",
            "perturbation loss: 0.0297\n",
            "Validation acc: 0.9533\n",
            "\n",
            "Start of epoch 374\n"
          ]
        },
        {
          "output_type": "stream",
          "name": "stderr",
          "text": [
            "\r 38%|███▊      | 375/1000 [23:24<39:02,  3.75s/it]"
          ]
        },
        {
          "output_type": "stream",
          "name": "stdout",
          "text": [
            "Training loss: 0.0079\n",
            "Training metric: 0.9060\n",
            "perturbation loss: 0.0325\n",
            "Validation acc: 0.9600\n",
            "\n",
            "Start of epoch 375\n"
          ]
        },
        {
          "output_type": "stream",
          "name": "stderr",
          "text": [
            "\r 38%|███▊      | 376/1000 [23:28<38:54,  3.74s/it]"
          ]
        },
        {
          "output_type": "stream",
          "name": "stdout",
          "text": [
            "Training loss: 0.0404\n",
            "Training metric: 0.9062\n",
            "perturbation loss: 0.0451\n",
            "Validation acc: 0.9467\n",
            "\n",
            "Start of epoch 376\n"
          ]
        },
        {
          "output_type": "stream",
          "name": "stderr",
          "text": [
            "\r 38%|███▊      | 377/1000 [23:32<39:01,  3.76s/it]"
          ]
        },
        {
          "output_type": "stream",
          "name": "stdout",
          "text": [
            "Training loss: 0.0083\n",
            "Training metric: 0.9064\n",
            "perturbation loss: 0.0316\n",
            "Validation acc: 0.9467\n",
            "\n",
            "Start of epoch 377\n"
          ]
        },
        {
          "output_type": "stream",
          "name": "stderr",
          "text": [
            "\r 38%|███▊      | 378/1000 [23:35<38:51,  3.75s/it]"
          ]
        },
        {
          "output_type": "stream",
          "name": "stdout",
          "text": [
            "Training loss: 0.0074\n",
            "Training metric: 0.9066\n",
            "perturbation loss: 0.0452\n",
            "Validation acc: 0.9067\n",
            "\n",
            "Start of epoch 378\n"
          ]
        },
        {
          "output_type": "stream",
          "name": "stderr",
          "text": [
            "\r 38%|███▊      | 379/1000 [23:39<38:42,  3.74s/it]"
          ]
        },
        {
          "output_type": "stream",
          "name": "stdout",
          "text": [
            "Training loss: 0.0360\n",
            "Training metric: 0.9069\n",
            "perturbation loss: 0.0985\n",
            "Validation acc: 0.9467\n",
            "\n",
            "Start of epoch 379\n"
          ]
        },
        {
          "output_type": "stream",
          "name": "stderr",
          "text": [
            "\r 38%|███▊      | 380/1000 [23:43<38:36,  3.74s/it]"
          ]
        },
        {
          "output_type": "stream",
          "name": "stdout",
          "text": [
            "Training loss: 0.0158\n",
            "Training metric: 0.9071\n",
            "perturbation loss: 0.0439\n",
            "Validation acc: 0.9400\n",
            "\n",
            "Start of epoch 380\n"
          ]
        },
        {
          "output_type": "stream",
          "name": "stderr",
          "text": [
            "\r 38%|███▊      | 381/1000 [23:47<38:44,  3.75s/it]"
          ]
        },
        {
          "output_type": "stream",
          "name": "stdout",
          "text": [
            "Training loss: 0.2348\n",
            "Training metric: 0.9073\n",
            "perturbation loss: 0.0540\n",
            "Validation acc: 0.9333\n",
            "\n",
            "Start of epoch 381\n"
          ]
        },
        {
          "output_type": "stream",
          "name": "stderr",
          "text": [
            "\r 38%|███▊      | 382/1000 [23:50<38:36,  3.75s/it]"
          ]
        },
        {
          "output_type": "stream",
          "name": "stdout",
          "text": [
            "Training loss: 0.0052\n",
            "Training metric: 0.9075\n",
            "perturbation loss: 0.0269\n",
            "Validation acc: 0.9333\n",
            "\n",
            "Start of epoch 382\n"
          ]
        },
        {
          "output_type": "stream",
          "name": "stderr",
          "text": [
            "\r 38%|███▊      | 383/1000 [23:54<38:28,  3.74s/it]"
          ]
        },
        {
          "output_type": "stream",
          "name": "stdout",
          "text": [
            "Training loss: 0.0122\n",
            "Training metric: 0.9078\n",
            "perturbation loss: 0.0726\n",
            "Validation acc: 0.9400\n",
            "\n",
            "Start of epoch 383\n"
          ]
        },
        {
          "output_type": "stream",
          "name": "stderr",
          "text": [
            "\r 38%|███▊      | 384/1000 [23:58<38:22,  3.74s/it]"
          ]
        },
        {
          "output_type": "stream",
          "name": "stdout",
          "text": [
            "Training loss: 0.0500\n",
            "Training metric: 0.9079\n",
            "perturbation loss: 0.0929\n",
            "Validation acc: 0.8800\n",
            "\n",
            "Start of epoch 384\n"
          ]
        },
        {
          "output_type": "stream",
          "name": "stderr",
          "text": [
            "\r 38%|███▊      | 385/1000 [24:02<38:19,  3.74s/it]"
          ]
        },
        {
          "output_type": "stream",
          "name": "stdout",
          "text": [
            "Training loss: 0.0134\n",
            "Training metric: 0.9082\n",
            "perturbation loss: 0.0630\n",
            "Validation acc: 0.9467\n",
            "\n",
            "Start of epoch 385\n"
          ]
        },
        {
          "output_type": "stream",
          "name": "stderr",
          "text": [
            "\r 39%|███▊      | 386/1000 [24:05<38:26,  3.76s/it]"
          ]
        },
        {
          "output_type": "stream",
          "name": "stdout",
          "text": [
            "Training loss: 0.1155\n",
            "Training metric: 0.9083\n",
            "perturbation loss: 0.0987\n",
            "Validation acc: 0.9133\n",
            "\n",
            "Start of epoch 386\n"
          ]
        },
        {
          "output_type": "stream",
          "name": "stderr",
          "text": [
            "\r 39%|███▊      | 387/1000 [24:09<38:16,  3.75s/it]"
          ]
        },
        {
          "output_type": "stream",
          "name": "stdout",
          "text": [
            "Training loss: 0.0154\n",
            "Training metric: 0.9085\n",
            "perturbation loss: 0.0495\n",
            "Validation acc: 0.9533\n",
            "\n",
            "Start of epoch 387\n"
          ]
        },
        {
          "output_type": "stream",
          "name": "stderr",
          "text": [
            "\r 39%|███▉      | 388/1000 [24:13<38:22,  3.76s/it]"
          ]
        },
        {
          "output_type": "stream",
          "name": "stdout",
          "text": [
            "Training loss: 0.0084\n",
            "Training metric: 0.9088\n",
            "perturbation loss: 0.0308\n",
            "Validation acc: 0.9467\n",
            "\n",
            "Start of epoch 388\n"
          ]
        },
        {
          "output_type": "stream",
          "name": "stderr",
          "text": [
            "\r 39%|███▉      | 389/1000 [24:17<38:12,  3.75s/it]"
          ]
        },
        {
          "output_type": "stream",
          "name": "stdout",
          "text": [
            "Training loss: 0.0011\n",
            "Training metric: 0.9090\n",
            "perturbation loss: 0.0088\n",
            "Validation acc: 0.9667\n",
            "\n",
            "Start of epoch 389\n"
          ]
        },
        {
          "output_type": "stream",
          "name": "stderr",
          "text": [
            "\r 39%|███▉      | 390/1000 [24:20<38:03,  3.74s/it]"
          ]
        },
        {
          "output_type": "stream",
          "name": "stdout",
          "text": [
            "Training loss: 0.0343\n",
            "Training metric: 0.9092\n",
            "perturbation loss: 0.1114\n",
            "Validation acc: 0.9667\n",
            "\n",
            "Start of epoch 390\n"
          ]
        },
        {
          "output_type": "stream",
          "name": "stderr",
          "text": [
            "\r 39%|███▉      | 391/1000 [24:24<37:56,  3.74s/it]"
          ]
        },
        {
          "output_type": "stream",
          "name": "stdout",
          "text": [
            "Training loss: 0.0164\n",
            "Training metric: 0.9095\n",
            "perturbation loss: 0.0384\n",
            "Validation acc: 0.9267\n",
            "\n",
            "Start of epoch 391\n"
          ]
        },
        {
          "output_type": "stream",
          "name": "stderr",
          "text": [
            "\r 39%|███▉      | 392/1000 [24:28<38:04,  3.76s/it]"
          ]
        },
        {
          "output_type": "stream",
          "name": "stdout",
          "text": [
            "Training loss: 0.0076\n",
            "Training metric: 0.9097\n",
            "perturbation loss: 0.0257\n",
            "Validation acc: 0.9467\n",
            "\n",
            "Start of epoch 392\n"
          ]
        },
        {
          "output_type": "stream",
          "name": "stderr",
          "text": [
            "\r 39%|███▉      | 393/1000 [24:32<37:55,  3.75s/it]"
          ]
        },
        {
          "output_type": "stream",
          "name": "stdout",
          "text": [
            "Training loss: 0.0088\n",
            "Training metric: 0.9099\n",
            "perturbation loss: 0.0415\n",
            "Validation acc: 0.9600\n",
            "\n",
            "Start of epoch 393\n"
          ]
        },
        {
          "output_type": "stream",
          "name": "stderr",
          "text": [
            "\r 39%|███▉      | 394/1000 [24:35<37:47,  3.74s/it]"
          ]
        },
        {
          "output_type": "stream",
          "name": "stdout",
          "text": [
            "Training loss: 0.0093\n",
            "Training metric: 0.9101\n",
            "perturbation loss: 0.0471\n",
            "Validation acc: 0.9067\n",
            "\n",
            "Start of epoch 394\n"
          ]
        },
        {
          "output_type": "stream",
          "name": "stderr",
          "text": [
            "\r 40%|███▉      | 395/1000 [24:39<37:41,  3.74s/it]"
          ]
        },
        {
          "output_type": "stream",
          "name": "stdout",
          "text": [
            "Training loss: 0.0296\n",
            "Training metric: 0.9103\n",
            "perturbation loss: 0.0712\n",
            "Validation acc: 0.9267\n",
            "\n",
            "Start of epoch 395\n"
          ]
        },
        {
          "output_type": "stream",
          "name": "stderr",
          "text": [
            "\r 40%|███▉      | 396/1000 [24:43<37:49,  3.76s/it]"
          ]
        },
        {
          "output_type": "stream",
          "name": "stdout",
          "text": [
            "Training loss: 0.0075\n",
            "Training metric: 0.9105\n",
            "perturbation loss: 0.0330\n",
            "Validation acc: 0.9333\n",
            "\n",
            "Start of epoch 396\n"
          ]
        },
        {
          "output_type": "stream",
          "name": "stderr",
          "text": [
            "\r 40%|███▉      | 397/1000 [24:47<37:40,  3.75s/it]"
          ]
        },
        {
          "output_type": "stream",
          "name": "stdout",
          "text": [
            "Training loss: 0.0036\n",
            "Training metric: 0.9108\n",
            "perturbation loss: 0.0227\n",
            "Validation acc: 0.9133\n",
            "\n",
            "Start of epoch 397\n"
          ]
        },
        {
          "output_type": "stream",
          "name": "stderr",
          "text": [
            "\r 40%|███▉      | 398/1000 [24:50<37:32,  3.74s/it]"
          ]
        },
        {
          "output_type": "stream",
          "name": "stdout",
          "text": [
            "Training loss: 0.0020\n",
            "Training metric: 0.9110\n",
            "perturbation loss: 0.0061\n",
            "Validation acc: 0.9667\n",
            "\n",
            "Start of epoch 398\n"
          ]
        },
        {
          "output_type": "stream",
          "name": "stderr",
          "text": [
            "\r 40%|███▉      | 399/1000 [24:54<37:39,  3.76s/it]"
          ]
        },
        {
          "output_type": "stream",
          "name": "stdout",
          "text": [
            "Training loss: 0.0088\n",
            "Training metric: 0.9112\n",
            "perturbation loss: 0.0244\n",
            "Validation acc: 0.9400\n",
            "\n",
            "Start of epoch 399\n"
          ]
        },
        {
          "output_type": "stream",
          "name": "stderr",
          "text": [
            "\r 40%|████      | 400/1000 [24:58<37:31,  3.75s/it]"
          ]
        },
        {
          "output_type": "stream",
          "name": "stdout",
          "text": [
            "Training loss: 0.0023\n",
            "Training metric: 0.9114\n",
            "perturbation loss: 0.0162\n",
            "Validation acc: 0.9400\n",
            "\n",
            "Start of epoch 400\n"
          ]
        },
        {
          "output_type": "stream",
          "name": "stderr",
          "text": [
            "\r 40%|████      | 401/1000 [25:02<37:23,  3.75s/it]"
          ]
        },
        {
          "output_type": "stream",
          "name": "stdout",
          "text": [
            "Training loss: 0.0068\n",
            "Training metric: 0.9116\n",
            "perturbation loss: 0.0281\n",
            "Validation acc: 0.9400\n",
            "\n",
            "Start of epoch 401\n"
          ]
        },
        {
          "output_type": "stream",
          "name": "stderr",
          "text": [
            "\r 40%|████      | 402/1000 [25:05<37:17,  3.74s/it]"
          ]
        },
        {
          "output_type": "stream",
          "name": "stdout",
          "text": [
            "Training loss: 0.0036\n",
            "Training metric: 0.9118\n",
            "perturbation loss: 0.0135\n",
            "Validation acc: 0.9600\n",
            "\n",
            "Start of epoch 402\n"
          ]
        },
        {
          "output_type": "stream",
          "name": "stderr",
          "text": [
            "\r 40%|████      | 403/1000 [25:09<37:25,  3.76s/it]"
          ]
        },
        {
          "output_type": "stream",
          "name": "stdout",
          "text": [
            "Training loss: 0.0015\n",
            "Training metric: 0.9121\n",
            "perturbation loss: 0.0117\n",
            "Validation acc: 0.9667\n",
            "\n",
            "Start of epoch 403\n"
          ]
        },
        {
          "output_type": "stream",
          "name": "stderr",
          "text": [
            "\r 40%|████      | 404/1000 [25:13<37:16,  3.75s/it]"
          ]
        },
        {
          "output_type": "stream",
          "name": "stdout",
          "text": [
            "Training loss: 0.0009\n",
            "Training metric: 0.9123\n",
            "perturbation loss: 0.0094\n",
            "Validation acc: 0.9600\n",
            "\n",
            "Start of epoch 404\n"
          ]
        },
        {
          "output_type": "stream",
          "name": "stderr",
          "text": [
            "\r 40%|████      | 405/1000 [25:17<37:08,  3.75s/it]"
          ]
        },
        {
          "output_type": "stream",
          "name": "stdout",
          "text": [
            "Training loss: 0.0019\n",
            "Training metric: 0.9125\n",
            "perturbation loss: 0.0126\n",
            "Validation acc: 0.9600\n",
            "\n",
            "Start of epoch 405\n"
          ]
        },
        {
          "output_type": "stream",
          "name": "stderr",
          "text": [
            "\r 41%|████      | 406/1000 [25:20<37:02,  3.74s/it]"
          ]
        },
        {
          "output_type": "stream",
          "name": "stdout",
          "text": [
            "Training loss: 0.0012\n",
            "Training metric: 0.9127\n",
            "perturbation loss: 0.0114\n",
            "Validation acc: 0.9667\n",
            "\n",
            "Start of epoch 406\n"
          ]
        },
        {
          "output_type": "stream",
          "name": "stderr",
          "text": [
            "\r 41%|████      | 407/1000 [25:24<37:11,  3.76s/it]"
          ]
        },
        {
          "output_type": "stream",
          "name": "stdout",
          "text": [
            "Training loss: 0.0019\n",
            "Training metric: 0.9129\n",
            "perturbation loss: 0.0082\n",
            "Validation acc: 0.9400\n",
            "\n",
            "Start of epoch 407\n"
          ]
        },
        {
          "output_type": "stream",
          "name": "stderr",
          "text": [
            "\r 41%|████      | 408/1000 [25:28<37:02,  3.75s/it]"
          ]
        },
        {
          "output_type": "stream",
          "name": "stdout",
          "text": [
            "Training loss: 0.0103\n",
            "Training metric: 0.9131\n",
            "perturbation loss: 0.0330\n",
            "Validation acc: 0.9533\n",
            "\n",
            "Start of epoch 408\n"
          ]
        },
        {
          "output_type": "stream",
          "name": "stderr",
          "text": [
            "\r 41%|████      | 409/1000 [25:32<36:54,  3.75s/it]"
          ]
        },
        {
          "output_type": "stream",
          "name": "stdout",
          "text": [
            "Training loss: 0.0044\n",
            "Training metric: 0.9133\n",
            "perturbation loss: 0.0242\n",
            "Validation acc: 0.9267\n",
            "\n",
            "Start of epoch 409\n"
          ]
        },
        {
          "output_type": "stream",
          "name": "stderr",
          "text": [
            "\r 41%|████      | 410/1000 [25:35<37:00,  3.76s/it]"
          ]
        },
        {
          "output_type": "stream",
          "name": "stdout",
          "text": [
            "Training loss: 0.0272\n",
            "Training metric: 0.9135\n",
            "perturbation loss: 0.0407\n",
            "Validation acc: 0.9000\n",
            "\n",
            "Start of epoch 410\n"
          ]
        },
        {
          "output_type": "stream",
          "name": "stderr",
          "text": [
            "\r 41%|████      | 411/1000 [25:39<36:51,  3.75s/it]"
          ]
        },
        {
          "output_type": "stream",
          "name": "stdout",
          "text": [
            "Training loss: 0.0067\n",
            "Training metric: 0.9137\n",
            "perturbation loss: 0.0371\n",
            "Validation acc: 0.9200\n",
            "\n",
            "Start of epoch 411\n"
          ]
        },
        {
          "output_type": "stream",
          "name": "stderr",
          "text": [
            "\r 41%|████      | 412/1000 [25:43<36:42,  3.75s/it]"
          ]
        },
        {
          "output_type": "stream",
          "name": "stdout",
          "text": [
            "Training loss: 0.0706\n",
            "Training metric: 0.9139\n",
            "perturbation loss: 0.0868\n",
            "Validation acc: 0.9333\n",
            "\n",
            "Start of epoch 412\n"
          ]
        },
        {
          "output_type": "stream",
          "name": "stderr",
          "text": [
            "\r 41%|████▏     | 413/1000 [25:47<36:38,  3.75s/it]"
          ]
        },
        {
          "output_type": "stream",
          "name": "stdout",
          "text": [
            "Training loss: 0.0169\n",
            "Training metric: 0.9140\n",
            "perturbation loss: 0.0752\n",
            "Validation acc: 0.8933\n",
            "\n",
            "Start of epoch 413\n"
          ]
        },
        {
          "output_type": "stream",
          "name": "stderr",
          "text": [
            "\r 41%|████▏     | 414/1000 [25:50<36:39,  3.75s/it]"
          ]
        },
        {
          "output_type": "stream",
          "name": "stdout",
          "text": [
            "Training loss: 0.0281\n",
            "Training metric: 0.9142\n",
            "perturbation loss: 0.0846\n",
            "Validation acc: 0.9133\n",
            "\n",
            "Start of epoch 414\n"
          ]
        },
        {
          "output_type": "stream",
          "name": "stderr",
          "text": [
            "\r 42%|████▏     | 415/1000 [25:54<36:32,  3.75s/it]"
          ]
        },
        {
          "output_type": "stream",
          "name": "stdout",
          "text": [
            "Training loss: 0.0287\n",
            "Training metric: 0.9144\n",
            "perturbation loss: 0.0673\n",
            "Validation acc: 0.9333\n",
            "\n",
            "Start of epoch 415\n"
          ]
        },
        {
          "output_type": "stream",
          "name": "stderr",
          "text": [
            "\r 42%|████▏     | 416/1000 [25:58<36:25,  3.74s/it]"
          ]
        },
        {
          "output_type": "stream",
          "name": "stdout",
          "text": [
            "Training loss: 0.0383\n",
            "Training metric: 0.9146\n",
            "perturbation loss: 0.0606\n",
            "Validation acc: 0.9200\n",
            "\n",
            "Start of epoch 416\n"
          ]
        },
        {
          "output_type": "stream",
          "name": "stderr",
          "text": [
            "\r 42%|████▏     | 417/1000 [26:02<36:20,  3.74s/it]"
          ]
        },
        {
          "output_type": "stream",
          "name": "stdout",
          "text": [
            "Training loss: 0.0154\n",
            "Training metric: 0.9148\n",
            "perturbation loss: 0.0408\n",
            "Validation acc: 0.9400\n",
            "\n",
            "Start of epoch 417\n"
          ]
        },
        {
          "output_type": "stream",
          "name": "stderr",
          "text": [
            "\r 42%|████▏     | 418/1000 [26:05<36:22,  3.75s/it]"
          ]
        },
        {
          "output_type": "stream",
          "name": "stdout",
          "text": [
            "Training loss: 0.0060\n",
            "Training metric: 0.9149\n",
            "perturbation loss: 0.0271\n",
            "Validation acc: 0.9333\n",
            "\n",
            "Start of epoch 418\n"
          ]
        },
        {
          "output_type": "stream",
          "name": "stderr",
          "text": [
            "\r 42%|████▏     | 419/1000 [26:09<36:17,  3.75s/it]"
          ]
        },
        {
          "output_type": "stream",
          "name": "stdout",
          "text": [
            "Training loss: 0.0049\n",
            "Training metric: 0.9151\n",
            "perturbation loss: 0.0164\n",
            "Validation acc: 0.9333\n",
            "\n",
            "Start of epoch 419\n"
          ]
        },
        {
          "output_type": "stream",
          "name": "stderr",
          "text": [
            "\r 42%|████▏     | 420/1000 [26:13<36:11,  3.74s/it]"
          ]
        },
        {
          "output_type": "stream",
          "name": "stdout",
          "text": [
            "Training loss: 0.0213\n",
            "Training metric: 0.9153\n",
            "perturbation loss: 0.0382\n",
            "Validation acc: 0.9267\n",
            "\n",
            "Start of epoch 420\n"
          ]
        },
        {
          "output_type": "stream",
          "name": "stderr",
          "text": [
            "\r 42%|████▏     | 421/1000 [26:17<36:09,  3.75s/it]"
          ]
        },
        {
          "output_type": "stream",
          "name": "stdout",
          "text": [
            "Training loss: 0.0943\n",
            "Training metric: 0.9155\n",
            "perturbation loss: 0.0591\n",
            "Validation acc: 0.9533\n",
            "\n",
            "Start of epoch 421\n"
          ]
        },
        {
          "output_type": "stream",
          "name": "stderr",
          "text": [
            "\r 42%|████▏     | 422/1000 [26:20<36:03,  3.74s/it]"
          ]
        },
        {
          "output_type": "stream",
          "name": "stdout",
          "text": [
            "Training loss: 0.0406\n",
            "Training metric: 0.9157\n",
            "perturbation loss: 0.0763\n",
            "Validation acc: 0.9333\n",
            "\n",
            "Start of epoch 422\n"
          ]
        },
        {
          "output_type": "stream",
          "name": "stderr",
          "text": [
            "\r 42%|████▏     | 423/1000 [26:24<35:57,  3.74s/it]"
          ]
        },
        {
          "output_type": "stream",
          "name": "stdout",
          "text": [
            "Training loss: 0.0610\n",
            "Training metric: 0.9158\n",
            "perturbation loss: 0.1292\n",
            "Validation acc: 0.9400\n",
            "\n",
            "Start of epoch 423\n"
          ]
        },
        {
          "output_type": "stream",
          "name": "stderr",
          "text": [
            "\r 42%|████▏     | 424/1000 [26:28<35:52,  3.74s/it]"
          ]
        },
        {
          "output_type": "stream",
          "name": "stdout",
          "text": [
            "Training loss: 0.0129\n",
            "Training metric: 0.9160\n",
            "perturbation loss: 0.0906\n",
            "Validation acc: 0.9333\n",
            "\n",
            "Start of epoch 424\n"
          ]
        },
        {
          "output_type": "stream",
          "name": "stderr",
          "text": [
            "\r 42%|████▎     | 425/1000 [26:32<36:01,  3.76s/it]"
          ]
        },
        {
          "output_type": "stream",
          "name": "stdout",
          "text": [
            "Training loss: 0.0440\n",
            "Training metric: 0.9162\n",
            "perturbation loss: 0.0528\n",
            "Validation acc: 0.9400\n",
            "\n",
            "Start of epoch 425\n"
          ]
        },
        {
          "output_type": "stream",
          "name": "stderr",
          "text": [
            "\r 43%|████▎     | 426/1000 [26:35<35:54,  3.75s/it]"
          ]
        },
        {
          "output_type": "stream",
          "name": "stdout",
          "text": [
            "Training loss: 0.0347\n",
            "Training metric: 0.9164\n",
            "perturbation loss: 0.0776\n",
            "Validation acc: 0.8667\n",
            "\n",
            "Start of epoch 426\n"
          ]
        },
        {
          "output_type": "stream",
          "name": "stderr",
          "text": [
            "\r 43%|████▎     | 427/1000 [26:39<35:46,  3.75s/it]"
          ]
        },
        {
          "output_type": "stream",
          "name": "stdout",
          "text": [
            "Training loss: 0.1848\n",
            "Training metric: 0.9165\n",
            "perturbation loss: 0.0661\n",
            "Validation acc: 0.8867\n",
            "\n",
            "Start of epoch 427\n"
          ]
        },
        {
          "output_type": "stream",
          "name": "stderr",
          "text": [
            "\r 43%|████▎     | 428/1000 [26:43<35:40,  3.74s/it]"
          ]
        },
        {
          "output_type": "stream",
          "name": "stdout",
          "text": [
            "Training loss: 0.0157\n",
            "Training metric: 0.9167\n",
            "perturbation loss: 0.0503\n",
            "Validation acc: 0.8667\n",
            "\n",
            "Start of epoch 428\n"
          ]
        },
        {
          "output_type": "stream",
          "name": "stderr",
          "text": [
            "\r 43%|████▎     | 429/1000 [26:47<35:47,  3.76s/it]"
          ]
        },
        {
          "output_type": "stream",
          "name": "stdout",
          "text": [
            "Training loss: 0.0078\n",
            "Training metric: 0.9168\n",
            "perturbation loss: 0.0710\n",
            "Validation acc: 0.8400\n",
            "\n",
            "Start of epoch 429\n"
          ]
        },
        {
          "output_type": "stream",
          "name": "stderr",
          "text": [
            "\r 43%|████▎     | 430/1000 [26:50<35:40,  3.76s/it]"
          ]
        },
        {
          "output_type": "stream",
          "name": "stdout",
          "text": [
            "Training loss: 0.0201\n",
            "Training metric: 0.9170\n",
            "perturbation loss: 0.0690\n",
            "Validation acc: 0.8733\n",
            "\n",
            "Start of epoch 430\n"
          ]
        },
        {
          "output_type": "stream",
          "name": "stderr",
          "text": [
            "\r 43%|████▎     | 431/1000 [26:54<35:32,  3.75s/it]"
          ]
        },
        {
          "output_type": "stream",
          "name": "stdout",
          "text": [
            "Training loss: 0.0250\n",
            "Training metric: 0.9172\n",
            "perturbation loss: 0.0536\n",
            "Validation acc: 0.8667\n",
            "\n",
            "Start of epoch 431\n"
          ]
        },
        {
          "output_type": "stream",
          "name": "stderr",
          "text": [
            "\r 43%|████▎     | 432/1000 [26:58<35:38,  3.77s/it]"
          ]
        },
        {
          "output_type": "stream",
          "name": "stdout",
          "text": [
            "Training loss: 0.0031\n",
            "Training metric: 0.9174\n",
            "perturbation loss: 0.0193\n",
            "Validation acc: 0.9000\n",
            "\n",
            "Start of epoch 432\n"
          ]
        },
        {
          "output_type": "stream",
          "name": "stderr",
          "text": [
            "\r 43%|████▎     | 433/1000 [27:02<35:30,  3.76s/it]"
          ]
        },
        {
          "output_type": "stream",
          "name": "stdout",
          "text": [
            "Training loss: 0.0089\n",
            "Training metric: 0.9176\n",
            "perturbation loss: 0.0331\n",
            "Validation acc: 0.9267\n",
            "\n",
            "Start of epoch 433\n"
          ]
        },
        {
          "output_type": "stream",
          "name": "stderr",
          "text": [
            "\r 43%|████▎     | 434/1000 [27:05<35:24,  3.75s/it]"
          ]
        },
        {
          "output_type": "stream",
          "name": "stdout",
          "text": [
            "Training loss: 0.0047\n",
            "Training metric: 0.9177\n",
            "perturbation loss: 0.0329\n",
            "Validation acc: 0.9267\n",
            "\n",
            "Start of epoch 434\n"
          ]
        },
        {
          "output_type": "stream",
          "name": "stderr",
          "text": [
            "\r 44%|████▎     | 435/1000 [27:09<35:17,  3.75s/it]"
          ]
        },
        {
          "output_type": "stream",
          "name": "stdout",
          "text": [
            "Training loss: 0.0043\n",
            "Training metric: 0.9179\n",
            "perturbation loss: 0.0312\n",
            "Validation acc: 0.9600\n",
            "\n",
            "Start of epoch 435\n"
          ]
        },
        {
          "output_type": "stream",
          "name": "stderr",
          "text": [
            "\r 44%|████▎     | 436/1000 [27:13<35:17,  3.75s/it]"
          ]
        },
        {
          "output_type": "stream",
          "name": "stdout",
          "text": [
            "Training loss: 0.0045\n",
            "Training metric: 0.9181\n",
            "perturbation loss: 0.0217\n",
            "Validation acc: 0.9533\n",
            "\n",
            "Start of epoch 436\n"
          ]
        },
        {
          "output_type": "stream",
          "name": "stderr",
          "text": [
            "\r 44%|████▎     | 437/1000 [27:17<35:13,  3.75s/it]"
          ]
        },
        {
          "output_type": "stream",
          "name": "stdout",
          "text": [
            "Training loss: 0.0030\n",
            "Training metric: 0.9183\n",
            "perturbation loss: 0.0143\n",
            "Validation acc: 0.9467\n",
            "\n",
            "Start of epoch 437\n"
          ]
        },
        {
          "output_type": "stream",
          "name": "stderr",
          "text": [
            "\r 44%|████▍     | 438/1000 [27:20<35:12,  3.76s/it]"
          ]
        },
        {
          "output_type": "stream",
          "name": "stdout",
          "text": [
            "Training loss: 0.0053\n",
            "Training metric: 0.9185\n",
            "perturbation loss: 0.0181\n",
            "Validation acc: 0.9600\n",
            "\n",
            "Start of epoch 438\n"
          ]
        },
        {
          "output_type": "stream",
          "name": "stderr",
          "text": [
            "\r 44%|████▍     | 439/1000 [27:24<35:04,  3.75s/it]"
          ]
        },
        {
          "output_type": "stream",
          "name": "stdout",
          "text": [
            "Training loss: 0.0016\n",
            "Training metric: 0.9187\n",
            "perturbation loss: 0.0113\n",
            "Validation acc: 0.9533\n",
            "\n",
            "Start of epoch 439\n"
          ]
        },
        {
          "output_type": "stream",
          "name": "stderr",
          "text": [
            "\r 44%|████▍     | 440/1000 [27:28<35:09,  3.77s/it]"
          ]
        },
        {
          "output_type": "stream",
          "name": "stdout",
          "text": [
            "Training loss: 0.0012\n",
            "Training metric: 0.9189\n",
            "perturbation loss: 0.0072\n",
            "Validation acc: 0.9467\n",
            "\n",
            "Start of epoch 440\n"
          ]
        },
        {
          "output_type": "stream",
          "name": "stderr",
          "text": [
            "\r 44%|████▍     | 441/1000 [27:32<34:59,  3.76s/it]"
          ]
        },
        {
          "output_type": "stream",
          "name": "stdout",
          "text": [
            "Training loss: 0.0026\n",
            "Training metric: 0.9190\n",
            "perturbation loss: 0.0159\n",
            "Validation acc: 0.9400\n",
            "\n",
            "Start of epoch 441\n"
          ]
        },
        {
          "output_type": "stream",
          "name": "stderr",
          "text": [
            "\r 44%|████▍     | 442/1000 [27:35<34:52,  3.75s/it]"
          ]
        },
        {
          "output_type": "stream",
          "name": "stdout",
          "text": [
            "Training loss: 0.0012\n",
            "Training metric: 0.9192\n",
            "perturbation loss: 0.0065\n",
            "Validation acc: 0.9533\n",
            "\n",
            "Start of epoch 442\n"
          ]
        },
        {
          "output_type": "stream",
          "name": "stderr",
          "text": [
            "\r 44%|████▍     | 443/1000 [27:39<34:57,  3.77s/it]"
          ]
        },
        {
          "output_type": "stream",
          "name": "stdout",
          "text": [
            "Training loss: 0.0014\n",
            "Training metric: 0.9194\n",
            "perturbation loss: 0.0108\n",
            "Validation acc: 0.9600\n",
            "\n",
            "Start of epoch 443\n"
          ]
        },
        {
          "output_type": "stream",
          "name": "stderr",
          "text": [
            "\r 44%|████▍     | 444/1000 [27:43<34:47,  3.75s/it]"
          ]
        },
        {
          "output_type": "stream",
          "name": "stdout",
          "text": [
            "Training loss: 0.0007\n",
            "Training metric: 0.9196\n",
            "perturbation loss: 0.0049\n",
            "Validation acc: 0.9533\n",
            "\n",
            "Start of epoch 444\n"
          ]
        },
        {
          "output_type": "stream",
          "name": "stderr",
          "text": [
            "\r 44%|████▍     | 445/1000 [27:47<34:39,  3.75s/it]"
          ]
        },
        {
          "output_type": "stream",
          "name": "stdout",
          "text": [
            "Training loss: 0.0010\n",
            "Training metric: 0.9198\n",
            "perturbation loss: 0.0099\n",
            "Validation acc: 0.9600\n",
            "\n",
            "Start of epoch 445\n"
          ]
        },
        {
          "output_type": "stream",
          "name": "stderr",
          "text": [
            "\r 45%|████▍     | 446/1000 [27:51<34:44,  3.76s/it]"
          ]
        },
        {
          "output_type": "stream",
          "name": "stdout",
          "text": [
            "Training loss: 0.0006\n",
            "Training metric: 0.9199\n",
            "perturbation loss: 0.0032\n",
            "Validation acc: 0.9600\n",
            "\n",
            "Start of epoch 446\n"
          ]
        },
        {
          "output_type": "stream",
          "name": "stderr",
          "text": [
            "\r 45%|████▍     | 447/1000 [27:54<34:47,  3.77s/it]"
          ]
        },
        {
          "output_type": "stream",
          "name": "stdout",
          "text": [
            "Training loss: 0.0014\n",
            "Training metric: 0.9201\n",
            "perturbation loss: 0.0052\n",
            "Validation acc: 0.9600\n",
            "\n",
            "Start of epoch 447\n"
          ]
        },
        {
          "output_type": "stream",
          "name": "stderr",
          "text": [
            "\r 45%|████▍     | 448/1000 [27:58<34:37,  3.76s/it]"
          ]
        },
        {
          "output_type": "stream",
          "name": "stdout",
          "text": [
            "Training loss: 0.0003\n",
            "Training metric: 0.9203\n",
            "perturbation loss: 0.0030\n",
            "Validation acc: 0.9600\n",
            "\n",
            "Start of epoch 448\n"
          ]
        },
        {
          "output_type": "stream",
          "name": "stderr",
          "text": [
            "\r 45%|████▍     | 449/1000 [28:02<34:27,  3.75s/it]"
          ]
        },
        {
          "output_type": "stream",
          "name": "stdout",
          "text": [
            "Training loss: 0.0007\n",
            "Training metric: 0.9205\n",
            "perturbation loss: 0.0059\n",
            "Validation acc: 0.9600\n",
            "\n",
            "Start of epoch 449\n"
          ]
        },
        {
          "output_type": "stream",
          "name": "stderr",
          "text": [
            "\r 45%|████▌     | 450/1000 [28:06<34:21,  3.75s/it]"
          ]
        },
        {
          "output_type": "stream",
          "name": "stdout",
          "text": [
            "Training loss: 0.0003\n",
            "Training metric: 0.9207\n",
            "perturbation loss: 0.0024\n",
            "Validation acc: 0.9600\n",
            "\n",
            "Start of epoch 450\n"
          ]
        },
        {
          "output_type": "stream",
          "name": "stderr",
          "text": [
            "\r 45%|████▌     | 451/1000 [28:09<34:27,  3.77s/it]"
          ]
        },
        {
          "output_type": "stream",
          "name": "stdout",
          "text": [
            "Training loss: 0.0009\n",
            "Training metric: 0.9208\n",
            "perturbation loss: 0.0034\n",
            "Validation acc: 0.9600\n",
            "\n",
            "Start of epoch 451\n"
          ]
        },
        {
          "output_type": "stream",
          "name": "stderr",
          "text": [
            "\r 45%|████▌     | 452/1000 [28:13<34:18,  3.76s/it]"
          ]
        },
        {
          "output_type": "stream",
          "name": "stdout",
          "text": [
            "Training loss: 0.0004\n",
            "Training metric: 0.9210\n",
            "perturbation loss: 0.0034\n",
            "Validation acc: 0.9600\n",
            "\n",
            "Start of epoch 452\n"
          ]
        },
        {
          "output_type": "stream",
          "name": "stderr",
          "text": [
            "\r 45%|████▌     | 453/1000 [28:17<34:11,  3.75s/it]"
          ]
        },
        {
          "output_type": "stream",
          "name": "stdout",
          "text": [
            "Training loss: 0.0002\n",
            "Training metric: 0.9212\n",
            "perturbation loss: 0.0029\n",
            "Validation acc: 0.9600\n",
            "\n",
            "Start of epoch 453\n"
          ]
        },
        {
          "output_type": "stream",
          "name": "stderr",
          "text": [
            "\r 45%|████▌     | 454/1000 [28:21<34:16,  3.77s/it]"
          ]
        },
        {
          "output_type": "stream",
          "name": "stdout",
          "text": [
            "Training loss: 0.0003\n",
            "Training metric: 0.9214\n",
            "perturbation loss: 0.0030\n",
            "Validation acc: 0.9533\n",
            "\n",
            "Start of epoch 454\n"
          ]
        },
        {
          "output_type": "stream",
          "name": "stderr",
          "text": [
            "\r 46%|████▌     | 455/1000 [28:24<34:09,  3.76s/it]"
          ]
        },
        {
          "output_type": "stream",
          "name": "stdout",
          "text": [
            "Training loss: 0.0004\n",
            "Training metric: 0.9215\n",
            "perturbation loss: 0.0020\n",
            "Validation acc: 0.9600\n",
            "\n",
            "Start of epoch 455\n"
          ]
        },
        {
          "output_type": "stream",
          "name": "stderr",
          "text": [
            "\r 46%|████▌     | 456/1000 [28:28<34:01,  3.75s/it]"
          ]
        },
        {
          "output_type": "stream",
          "name": "stdout",
          "text": [
            "Training loss: 0.0004\n",
            "Training metric: 0.9217\n",
            "perturbation loss: 0.0060\n",
            "Validation acc: 0.9533\n",
            "\n",
            "Start of epoch 456\n"
          ]
        },
        {
          "output_type": "stream",
          "name": "stderr",
          "text": [
            "\r 46%|████▌     | 457/1000 [28:32<33:53,  3.75s/it]"
          ]
        },
        {
          "output_type": "stream",
          "name": "stdout",
          "text": [
            "Training loss: 0.0002\n",
            "Training metric: 0.9219\n",
            "perturbation loss: 0.0019\n",
            "Validation acc: 0.9467\n",
            "\n",
            "Start of epoch 457\n"
          ]
        },
        {
          "output_type": "stream",
          "name": "stderr",
          "text": [
            "\r 46%|████▌     | 458/1000 [28:36<34:00,  3.76s/it]"
          ]
        },
        {
          "output_type": "stream",
          "name": "stdout",
          "text": [
            "Training loss: 0.0002\n",
            "Training metric: 0.9220\n",
            "perturbation loss: 0.0017\n",
            "Validation acc: 0.9467\n",
            "\n",
            "Start of epoch 458\n"
          ]
        },
        {
          "output_type": "stream",
          "name": "stderr",
          "text": [
            "\r 46%|████▌     | 459/1000 [28:39<33:51,  3.76s/it]"
          ]
        },
        {
          "output_type": "stream",
          "name": "stdout",
          "text": [
            "Training loss: 0.0001\n",
            "Training metric: 0.9222\n",
            "perturbation loss: 0.0009\n",
            "Validation acc: 0.9467\n",
            "\n",
            "Start of epoch 459\n"
          ]
        },
        {
          "output_type": "stream",
          "name": "stderr",
          "text": [
            "\r 46%|████▌     | 460/1000 [28:43<33:43,  3.75s/it]"
          ]
        },
        {
          "output_type": "stream",
          "name": "stdout",
          "text": [
            "Training loss: 0.0002\n",
            "Training metric: 0.9224\n",
            "perturbation loss: 0.0016\n",
            "Validation acc: 0.9467\n",
            "\n",
            "Start of epoch 460\n"
          ]
        },
        {
          "output_type": "stream",
          "name": "stderr",
          "text": [
            "\r 46%|████▌     | 461/1000 [28:47<33:36,  3.74s/it]"
          ]
        },
        {
          "output_type": "stream",
          "name": "stdout",
          "text": [
            "Training loss: 0.0001\n",
            "Training metric: 0.9226\n",
            "perturbation loss: 0.0008\n",
            "Validation acc: 0.9467\n",
            "\n",
            "Start of epoch 461\n"
          ]
        },
        {
          "output_type": "stream",
          "name": "stderr",
          "text": [
            "\r 46%|████▌     | 462/1000 [28:51<33:43,  3.76s/it]"
          ]
        },
        {
          "output_type": "stream",
          "name": "stdout",
          "text": [
            "Training loss: 0.0002\n",
            "Training metric: 0.9227\n",
            "perturbation loss: 0.0014\n",
            "Validation acc: 0.9467\n",
            "\n",
            "Start of epoch 462\n"
          ]
        },
        {
          "output_type": "stream",
          "name": "stderr",
          "text": [
            "\r 46%|████▋     | 463/1000 [28:54<33:34,  3.75s/it]"
          ]
        },
        {
          "output_type": "stream",
          "name": "stdout",
          "text": [
            "Training loss: 0.0001\n",
            "Training metric: 0.9229\n",
            "perturbation loss: 0.0005\n",
            "Validation acc: 0.9467\n",
            "\n",
            "Start of epoch 463\n"
          ]
        },
        {
          "output_type": "stream",
          "name": "stderr",
          "text": [
            "\r 46%|████▋     | 464/1000 [28:58<33:26,  3.74s/it]"
          ]
        },
        {
          "output_type": "stream",
          "name": "stdout",
          "text": [
            "Training loss: 0.0002\n",
            "Training metric: 0.9231\n",
            "perturbation loss: 0.0012\n",
            "Validation acc: 0.9467\n",
            "\n",
            "Start of epoch 464\n"
          ]
        },
        {
          "output_type": "stream",
          "name": "stderr",
          "text": [
            "\r 46%|████▋     | 465/1000 [29:02<33:32,  3.76s/it]"
          ]
        },
        {
          "output_type": "stream",
          "name": "stdout",
          "text": [
            "Training loss: 0.0001\n",
            "Training metric: 0.9232\n",
            "perturbation loss: 0.0011\n",
            "Validation acc: 0.9533\n",
            "\n",
            "Start of epoch 465\n"
          ]
        },
        {
          "output_type": "stream",
          "name": "stderr",
          "text": [
            "\r 47%|████▋     | 466/1000 [29:06<33:23,  3.75s/it]"
          ]
        },
        {
          "output_type": "stream",
          "name": "stdout",
          "text": [
            "Training loss: 0.0001\n",
            "Training metric: 0.9234\n",
            "perturbation loss: 0.0011\n",
            "Validation acc: 0.9533\n",
            "\n",
            "Start of epoch 466\n"
          ]
        },
        {
          "output_type": "stream",
          "name": "stderr",
          "text": [
            "\r 47%|████▋     | 467/1000 [29:09<33:16,  3.75s/it]"
          ]
        },
        {
          "output_type": "stream",
          "name": "stdout",
          "text": [
            "Training loss: 0.0001\n",
            "Training metric: 0.9235\n",
            "perturbation loss: 0.0006\n",
            "Validation acc: 0.9467\n",
            "\n",
            "Start of epoch 467\n"
          ]
        },
        {
          "output_type": "stream",
          "name": "stderr",
          "text": [
            "\r 47%|████▋     | 468/1000 [29:13<33:09,  3.74s/it]"
          ]
        },
        {
          "output_type": "stream",
          "name": "stdout",
          "text": [
            "Training loss: 0.0001\n",
            "Training metric: 0.9237\n",
            "perturbation loss: 0.0004\n",
            "Validation acc: 0.9533\n",
            "\n",
            "Start of epoch 468\n"
          ]
        },
        {
          "output_type": "stream",
          "name": "stderr",
          "text": [
            "\r 47%|████▋     | 469/1000 [29:17<33:16,  3.76s/it]"
          ]
        },
        {
          "output_type": "stream",
          "name": "stdout",
          "text": [
            "Training loss: 0.0001\n",
            "Training metric: 0.9239\n",
            "perturbation loss: 0.0006\n",
            "Validation acc: 0.9467\n",
            "\n",
            "Start of epoch 469\n"
          ]
        },
        {
          "output_type": "stream",
          "name": "stderr",
          "text": [
            "\r 47%|████▋     | 470/1000 [29:21<33:07,  3.75s/it]"
          ]
        },
        {
          "output_type": "stream",
          "name": "stdout",
          "text": [
            "Training loss: 0.0003\n",
            "Training metric: 0.9240\n",
            "perturbation loss: 0.0016\n",
            "Validation acc: 0.9467\n",
            "\n",
            "Start of epoch 470\n"
          ]
        },
        {
          "output_type": "stream",
          "name": "stderr",
          "text": [
            "\r 47%|████▋     | 471/1000 [29:24<32:59,  3.74s/it]"
          ]
        },
        {
          "output_type": "stream",
          "name": "stdout",
          "text": [
            "Training loss: 0.0027\n",
            "Training metric: 0.9242\n",
            "perturbation loss: 0.0150\n",
            "Validation acc: 0.9333\n",
            "\n",
            "Start of epoch 471\n"
          ]
        },
        {
          "output_type": "stream",
          "name": "stderr",
          "text": [
            "\r 47%|████▋     | 472/1000 [29:28<32:53,  3.74s/it]"
          ]
        },
        {
          "output_type": "stream",
          "name": "stdout",
          "text": [
            "Training loss: 0.2269\n",
            "Training metric: 0.9243\n",
            "perturbation loss: 0.1100\n",
            "Validation acc: 0.8667\n",
            "\n",
            "Start of epoch 472\n"
          ]
        },
        {
          "output_type": "stream",
          "name": "stderr",
          "text": [
            "\r 47%|████▋     | 473/1000 [29:32<33:00,  3.76s/it]"
          ]
        },
        {
          "output_type": "stream",
          "name": "stdout",
          "text": [
            "Training loss: 0.1122\n",
            "Training metric: 0.9244\n",
            "perturbation loss: 0.0713\n",
            "Validation acc: 0.8000\n",
            "\n",
            "Start of epoch 473\n"
          ]
        },
        {
          "output_type": "stream",
          "name": "stderr",
          "text": [
            "\r 47%|████▋     | 474/1000 [29:36<32:52,  3.75s/it]"
          ]
        },
        {
          "output_type": "stream",
          "name": "stdout",
          "text": [
            "Training loss: 0.0633\n",
            "Training metric: 0.9245\n",
            "perturbation loss: 0.0666\n",
            "Validation acc: 0.8733\n",
            "\n",
            "Start of epoch 474\n"
          ]
        },
        {
          "output_type": "stream",
          "name": "stderr",
          "text": [
            "\r 48%|████▊     | 475/1000 [29:39<32:45,  3.74s/it]"
          ]
        },
        {
          "output_type": "stream",
          "name": "stdout",
          "text": [
            "Training loss: 0.0386\n",
            "Training metric: 0.9246\n",
            "perturbation loss: 0.0576\n",
            "Validation acc: 0.8933\n",
            "\n",
            "Start of epoch 475\n"
          ]
        },
        {
          "output_type": "stream",
          "name": "stderr",
          "text": [
            "\r 48%|████▊     | 476/1000 [29:43<32:50,  3.76s/it]"
          ]
        },
        {
          "output_type": "stream",
          "name": "stdout",
          "text": [
            "Training loss: 0.0086\n",
            "Training metric: 0.9247\n",
            "perturbation loss: 0.0332\n",
            "Validation acc: 0.9000\n",
            "\n",
            "Start of epoch 476\n"
          ]
        },
        {
          "output_type": "stream",
          "name": "stderr",
          "text": [
            "\r 48%|████▊     | 477/1000 [29:47<32:42,  3.75s/it]"
          ]
        },
        {
          "output_type": "stream",
          "name": "stdout",
          "text": [
            "Training loss: 0.0033\n",
            "Training metric: 0.9249\n",
            "perturbation loss: 0.0200\n",
            "Validation acc: 0.9133\n",
            "\n",
            "Start of epoch 477\n"
          ]
        },
        {
          "output_type": "stream",
          "name": "stderr",
          "text": [
            "\r 48%|████▊     | 478/1000 [29:51<32:35,  3.75s/it]"
          ]
        },
        {
          "output_type": "stream",
          "name": "stdout",
          "text": [
            "Training loss: 0.0053\n",
            "Training metric: 0.9250\n",
            "perturbation loss: 0.0311\n",
            "Validation acc: 0.9200\n",
            "\n",
            "Start of epoch 478\n"
          ]
        },
        {
          "output_type": "stream",
          "name": "stderr",
          "text": [
            "\r 48%|████▊     | 479/1000 [29:54<32:28,  3.74s/it]"
          ]
        },
        {
          "output_type": "stream",
          "name": "stdout",
          "text": [
            "Training loss: 0.0033\n",
            "Training metric: 0.9252\n",
            "perturbation loss: 0.0138\n",
            "Validation acc: 0.9267\n",
            "\n",
            "Start of epoch 479\n"
          ]
        },
        {
          "output_type": "stream",
          "name": "stderr",
          "text": [
            "\r 48%|████▊     | 480/1000 [29:58<32:34,  3.76s/it]"
          ]
        },
        {
          "output_type": "stream",
          "name": "stdout",
          "text": [
            "Training loss: 0.0064\n",
            "Training metric: 0.9253\n",
            "perturbation loss: 0.0253\n",
            "Validation acc: 0.9267\n",
            "\n",
            "Start of epoch 480\n"
          ]
        },
        {
          "output_type": "stream",
          "name": "stderr",
          "text": [
            "\r 48%|████▊     | 481/1000 [30:02<32:27,  3.75s/it]"
          ]
        },
        {
          "output_type": "stream",
          "name": "stdout",
          "text": [
            "Training loss: 0.0079\n",
            "Training metric: 0.9255\n",
            "perturbation loss: 0.0219\n",
            "Validation acc: 0.9600\n",
            "\n",
            "Start of epoch 481\n"
          ]
        },
        {
          "output_type": "stream",
          "name": "stderr",
          "text": [
            "\r 48%|████▊     | 482/1000 [30:06<32:20,  3.75s/it]"
          ]
        },
        {
          "output_type": "stream",
          "name": "stdout",
          "text": [
            "Training loss: 0.0043\n",
            "Training metric: 0.9257\n",
            "perturbation loss: 0.0104\n",
            "Validation acc: 0.9600\n",
            "\n",
            "Start of epoch 482\n"
          ]
        },
        {
          "output_type": "stream",
          "name": "stderr",
          "text": [
            "\r 48%|████▊     | 483/1000 [30:09<32:13,  3.74s/it]"
          ]
        },
        {
          "output_type": "stream",
          "name": "stdout",
          "text": [
            "Training loss: 0.0007\n",
            "Training metric: 0.9258\n",
            "perturbation loss: 0.0097\n",
            "Validation acc: 0.9533\n",
            "\n",
            "Start of epoch 483\n"
          ]
        },
        {
          "output_type": "stream",
          "name": "stderr",
          "text": [
            "\r 48%|████▊     | 484/1000 [30:13<32:18,  3.76s/it]"
          ]
        },
        {
          "output_type": "stream",
          "name": "stdout",
          "text": [
            "Training loss: 0.0035\n",
            "Training metric: 0.9260\n",
            "perturbation loss: 0.0161\n",
            "Validation acc: 0.9667\n",
            "\n",
            "Start of epoch 484\n"
          ]
        },
        {
          "output_type": "stream",
          "name": "stderr",
          "text": [
            "\r 48%|████▊     | 485/1000 [30:17<32:10,  3.75s/it]"
          ]
        },
        {
          "output_type": "stream",
          "name": "stdout",
          "text": [
            "Training loss: 0.0011\n",
            "Training metric: 0.9261\n",
            "perturbation loss: 0.0048\n",
            "Validation acc: 0.9667\n",
            "\n",
            "Start of epoch 485\n"
          ]
        },
        {
          "output_type": "stream",
          "name": "stderr",
          "text": [
            "\r 49%|████▊     | 486/1000 [30:21<32:04,  3.74s/it]"
          ]
        },
        {
          "output_type": "stream",
          "name": "stdout",
          "text": [
            "Training loss: 0.0008\n",
            "Training metric: 0.9263\n",
            "perturbation loss: 0.0069\n",
            "Validation acc: 0.9467\n",
            "\n",
            "Start of epoch 486\n"
          ]
        },
        {
          "output_type": "stream",
          "name": "stderr",
          "text": [
            "\r 49%|████▊     | 487/1000 [30:24<32:10,  3.76s/it]"
          ]
        },
        {
          "output_type": "stream",
          "name": "stdout",
          "text": [
            "Training loss: 0.0003\n",
            "Training metric: 0.9264\n",
            "perturbation loss: 0.0028\n",
            "Validation acc: 0.9600\n",
            "\n",
            "Start of epoch 487\n"
          ]
        },
        {
          "output_type": "stream",
          "name": "stderr",
          "text": [
            "\r 49%|████▉     | 488/1000 [30:28<32:01,  3.75s/it]"
          ]
        },
        {
          "output_type": "stream",
          "name": "stdout",
          "text": [
            "Training loss: 0.0006\n",
            "Training metric: 0.9266\n",
            "perturbation loss: 0.0042\n",
            "Validation acc: 0.9600\n",
            "\n",
            "Start of epoch 488\n"
          ]
        },
        {
          "output_type": "stream",
          "name": "stderr",
          "text": [
            "\r 49%|████▉     | 489/1000 [30:32<31:54,  3.75s/it]"
          ]
        },
        {
          "output_type": "stream",
          "name": "stdout",
          "text": [
            "Training loss: 0.0008\n",
            "Training metric: 0.9267\n",
            "perturbation loss: 0.0101\n",
            "Validation acc: 0.9600\n",
            "\n",
            "Start of epoch 489\n"
          ]
        },
        {
          "output_type": "stream",
          "name": "stderr",
          "text": [
            "\r 49%|████▉     | 490/1000 [30:36<31:49,  3.74s/it]"
          ]
        },
        {
          "output_type": "stream",
          "name": "stdout",
          "text": [
            "Training loss: 0.0003\n",
            "Training metric: 0.9269\n",
            "perturbation loss: 0.0020\n",
            "Validation acc: 0.9600\n",
            "\n",
            "Start of epoch 490\n"
          ]
        },
        {
          "output_type": "stream",
          "name": "stderr",
          "text": [
            "\r 49%|████▉     | 491/1000 [30:39<31:56,  3.76s/it]"
          ]
        },
        {
          "output_type": "stream",
          "name": "stdout",
          "text": [
            "Training loss: 0.0008\n",
            "Training metric: 0.9270\n",
            "perturbation loss: 0.0041\n",
            "Validation acc: 0.9667\n",
            "\n",
            "Start of epoch 491\n"
          ]
        },
        {
          "output_type": "stream",
          "name": "stderr",
          "text": [
            "\r 49%|████▉     | 492/1000 [30:43<31:47,  3.75s/it]"
          ]
        },
        {
          "output_type": "stream",
          "name": "stdout",
          "text": [
            "Training loss: 0.0010\n",
            "Training metric: 0.9272\n",
            "perturbation loss: 0.0029\n",
            "Validation acc: 0.9667\n",
            "\n",
            "Start of epoch 492\n"
          ]
        },
        {
          "output_type": "stream",
          "name": "stderr",
          "text": [
            "\r 49%|████▉     | 493/1000 [30:47<31:39,  3.75s/it]"
          ]
        },
        {
          "output_type": "stream",
          "name": "stdout",
          "text": [
            "Training loss: 0.0004\n",
            "Training metric: 0.9273\n",
            "perturbation loss: 0.0071\n",
            "Validation acc: 0.9600\n",
            "\n",
            "Start of epoch 493\n"
          ]
        },
        {
          "output_type": "stream",
          "name": "stderr",
          "text": [
            "\r 49%|████▉     | 494/1000 [30:51<31:44,  3.76s/it]"
          ]
        },
        {
          "output_type": "stream",
          "name": "stdout",
          "text": [
            "Training loss: 0.0003\n",
            "Training metric: 0.9275\n",
            "perturbation loss: 0.0027\n",
            "Validation acc: 0.9600\n",
            "\n",
            "Start of epoch 494\n"
          ]
        },
        {
          "output_type": "stream",
          "name": "stderr",
          "text": [
            "\r 50%|████▉     | 495/1000 [30:54<31:35,  3.75s/it]"
          ]
        },
        {
          "output_type": "stream",
          "name": "stdout",
          "text": [
            "Training loss: 0.0007\n",
            "Training metric: 0.9276\n",
            "perturbation loss: 0.0042\n",
            "Validation acc: 0.9600\n",
            "\n",
            "Start of epoch 495\n"
          ]
        },
        {
          "output_type": "stream",
          "name": "stderr",
          "text": [
            "\r 50%|████▉     | 496/1000 [30:58<31:27,  3.75s/it]"
          ]
        },
        {
          "output_type": "stream",
          "name": "stdout",
          "text": [
            "Training loss: 0.0003\n",
            "Training metric: 0.9278\n",
            "perturbation loss: 0.0065\n",
            "Validation acc: 0.9533\n",
            "\n",
            "Start of epoch 496\n"
          ]
        },
        {
          "output_type": "stream",
          "name": "stderr",
          "text": [
            "\r 50%|████▉     | 497/1000 [31:02<31:21,  3.74s/it]"
          ]
        },
        {
          "output_type": "stream",
          "name": "stdout",
          "text": [
            "Training loss: 0.0002\n",
            "Training metric: 0.9279\n",
            "perturbation loss: 0.0020\n",
            "Validation acc: 0.9533\n",
            "\n",
            "Start of epoch 497\n"
          ]
        },
        {
          "output_type": "stream",
          "name": "stderr",
          "text": [
            "\r 50%|████▉     | 498/1000 [31:06<31:27,  3.76s/it]"
          ]
        },
        {
          "output_type": "stream",
          "name": "stdout",
          "text": [
            "Training loss: 0.0005\n",
            "Training metric: 0.9280\n",
            "perturbation loss: 0.0043\n",
            "Validation acc: 0.9600\n",
            "\n",
            "Start of epoch 498\n"
          ]
        },
        {
          "output_type": "stream",
          "name": "stderr",
          "text": [
            "\r 50%|████▉     | 499/1000 [31:09<31:19,  3.75s/it]"
          ]
        },
        {
          "output_type": "stream",
          "name": "stdout",
          "text": [
            "Training loss: 0.0001\n",
            "Training metric: 0.9282\n",
            "perturbation loss: 0.0010\n",
            "Validation acc: 0.9600\n",
            "\n",
            "Start of epoch 499\n"
          ]
        },
        {
          "output_type": "stream",
          "name": "stderr",
          "text": [
            "\r 50%|█████     | 500/1000 [31:13<31:12,  3.75s/it]"
          ]
        },
        {
          "output_type": "stream",
          "name": "stdout",
          "text": [
            "Training loss: 0.0003\n",
            "Training metric: 0.9283\n",
            "perturbation loss: 0.0029\n",
            "Validation acc: 0.9600\n",
            "\n",
            "Start of epoch 500\n"
          ]
        },
        {
          "output_type": "stream",
          "name": "stderr",
          "text": [
            "\r 50%|█████     | 501/1000 [31:17<31:06,  3.74s/it]"
          ]
        },
        {
          "output_type": "stream",
          "name": "stdout",
          "text": [
            "Training loss: 0.0003\n",
            "Training metric: 0.9285\n",
            "perturbation loss: 0.0023\n",
            "Validation acc: 0.9600\n",
            "\n",
            "Start of epoch 501\n"
          ]
        },
        {
          "output_type": "stream",
          "name": "stderr",
          "text": [
            "\r 50%|█████     | 502/1000 [31:21<31:12,  3.76s/it]"
          ]
        },
        {
          "output_type": "stream",
          "name": "stdout",
          "text": [
            "Training loss: 0.0001\n",
            "Training metric: 0.9286\n",
            "perturbation loss: 0.0010\n",
            "Validation acc: 0.9667\n",
            "\n",
            "Start of epoch 502\n"
          ]
        },
        {
          "output_type": "stream",
          "name": "stderr",
          "text": [
            "\r 50%|█████     | 503/1000 [31:24<31:06,  3.76s/it]"
          ]
        },
        {
          "output_type": "stream",
          "name": "stdout",
          "text": [
            "Training loss: 0.0005\n",
            "Training metric: 0.9288\n",
            "perturbation loss: 0.0017\n",
            "Validation acc: 0.9667\n",
            "\n",
            "Start of epoch 503\n"
          ]
        },
        {
          "output_type": "stream",
          "name": "stderr",
          "text": [
            "\r 50%|█████     | 504/1000 [31:28<30:58,  3.75s/it]"
          ]
        },
        {
          "output_type": "stream",
          "name": "stdout",
          "text": [
            "Training loss: 0.0001\n",
            "Training metric: 0.9289\n",
            "perturbation loss: 0.0010\n",
            "Validation acc: 0.9600\n",
            "\n",
            "Start of epoch 504\n"
          ]
        },
        {
          "output_type": "stream",
          "name": "stderr",
          "text": [
            "\r 50%|█████     | 505/1000 [31:32<30:59,  3.76s/it]"
          ]
        },
        {
          "output_type": "stream",
          "name": "stdout",
          "text": [
            "Training loss: 0.0002\n",
            "Training metric: 0.9290\n",
            "perturbation loss: 0.0015\n",
            "Validation acc: 0.9600\n",
            "\n",
            "Start of epoch 505\n"
          ]
        },
        {
          "output_type": "stream",
          "name": "stderr",
          "text": [
            "\r 51%|█████     | 506/1000 [31:36<30:51,  3.75s/it]"
          ]
        },
        {
          "output_type": "stream",
          "name": "stdout",
          "text": [
            "Training loss: 0.0001\n",
            "Training metric: 0.9292\n",
            "perturbation loss: 0.0011\n",
            "Validation acc: 0.9667\n",
            "\n",
            "Start of epoch 506\n"
          ]
        },
        {
          "output_type": "stream",
          "name": "stderr",
          "text": [
            "\r 51%|█████     | 507/1000 [31:39<30:45,  3.74s/it]"
          ]
        },
        {
          "output_type": "stream",
          "name": "stdout",
          "text": [
            "Training loss: 0.0003\n",
            "Training metric: 0.9293\n",
            "perturbation loss: 0.0035\n",
            "Validation acc: 0.9533\n",
            "\n",
            "Start of epoch 507\n"
          ]
        },
        {
          "output_type": "stream",
          "name": "stderr",
          "text": [
            "\r 51%|█████     | 508/1000 [31:43<30:39,  3.74s/it]"
          ]
        },
        {
          "output_type": "stream",
          "name": "stdout",
          "text": [
            "Training loss: 0.0001\n",
            "Training metric: 0.9295\n",
            "perturbation loss: 0.0008\n",
            "Validation acc: 0.9600\n",
            "\n",
            "Start of epoch 508\n"
          ]
        },
        {
          "output_type": "stream",
          "name": "stderr",
          "text": [
            "\r 51%|█████     | 509/1000 [31:47<30:45,  3.76s/it]"
          ]
        },
        {
          "output_type": "stream",
          "name": "stdout",
          "text": [
            "Training loss: 0.0085\n",
            "Training metric: 0.9296\n",
            "perturbation loss: 0.0626\n",
            "Validation acc: 0.9333\n",
            "\n",
            "Start of epoch 509\n"
          ]
        },
        {
          "output_type": "stream",
          "name": "stderr",
          "text": [
            "\r 51%|█████     | 510/1000 [31:51<30:37,  3.75s/it]"
          ]
        },
        {
          "output_type": "stream",
          "name": "stdout",
          "text": [
            "Training loss: 0.0039\n",
            "Training metric: 0.9297\n",
            "perturbation loss: 0.0117\n",
            "Validation acc: 0.8467\n",
            "\n",
            "Start of epoch 510\n"
          ]
        },
        {
          "output_type": "stream",
          "name": "stderr",
          "text": [
            "\r 51%|█████     | 511/1000 [31:54<30:31,  3.75s/it]"
          ]
        },
        {
          "output_type": "stream",
          "name": "stdout",
          "text": [
            "Training loss: 0.1643\n",
            "Training metric: 0.9298\n",
            "perturbation loss: 0.0510\n",
            "Validation acc: 0.9200\n",
            "\n",
            "Start of epoch 511\n"
          ]
        },
        {
          "output_type": "stream",
          "name": "stderr",
          "text": [
            "\r 51%|█████     | 512/1000 [31:58<30:25,  3.74s/it]"
          ]
        },
        {
          "output_type": "stream",
          "name": "stdout",
          "text": [
            "Training loss: 0.4255\n",
            "Training metric: 0.9299\n",
            "perturbation loss: 0.2508\n",
            "Validation acc: 0.9667\n",
            "\n",
            "Start of epoch 512\n"
          ]
        },
        {
          "output_type": "stream",
          "name": "stderr",
          "text": [
            "\r 51%|█████▏    | 513/1000 [32:02<30:24,  3.75s/it]"
          ]
        },
        {
          "output_type": "stream",
          "name": "stdout",
          "text": [
            "Training loss: 0.0039\n",
            "Training metric: 0.9300\n",
            "perturbation loss: 0.0274\n",
            "Validation acc: 0.9467\n",
            "\n",
            "Start of epoch 513\n"
          ]
        },
        {
          "output_type": "stream",
          "name": "stderr",
          "text": [
            "\r 51%|█████▏    | 514/1000 [32:06<30:19,  3.74s/it]"
          ]
        },
        {
          "output_type": "stream",
          "name": "stdout",
          "text": [
            "Training loss: 0.0201\n",
            "Training metric: 0.9301\n",
            "perturbation loss: 0.0616\n",
            "Validation acc: 0.9333\n",
            "\n",
            "Start of epoch 514\n"
          ]
        },
        {
          "output_type": "stream",
          "name": "stderr",
          "text": [
            "\r 52%|█████▏    | 515/1000 [32:09<30:15,  3.74s/it]"
          ]
        },
        {
          "output_type": "stream",
          "name": "stdout",
          "text": [
            "Training loss: 0.0066\n",
            "Training metric: 0.9302\n",
            "perturbation loss: 0.0251\n",
            "Validation acc: 0.9333\n",
            "\n",
            "Start of epoch 515\n"
          ]
        },
        {
          "output_type": "stream",
          "name": "stderr",
          "text": [
            "\r 52%|█████▏    | 516/1000 [32:13<30:14,  3.75s/it]"
          ]
        },
        {
          "output_type": "stream",
          "name": "stdout",
          "text": [
            "Training loss: 0.0111\n",
            "Training metric: 0.9303\n",
            "perturbation loss: 0.0623\n",
            "Validation acc: 0.9467\n",
            "\n",
            "Start of epoch 516\n"
          ]
        },
        {
          "output_type": "stream",
          "name": "stderr",
          "text": [
            "\r 52%|█████▏    | 517/1000 [32:17<30:08,  3.74s/it]"
          ]
        },
        {
          "output_type": "stream",
          "name": "stdout",
          "text": [
            "Training loss: 0.0649\n",
            "Training metric: 0.9305\n",
            "perturbation loss: 0.0649\n",
            "Validation acc: 0.9467\n",
            "\n",
            "Start of epoch 517\n"
          ]
        },
        {
          "output_type": "stream",
          "name": "stderr",
          "text": [
            "\r 52%|█████▏    | 518/1000 [32:21<30:03,  3.74s/it]"
          ]
        },
        {
          "output_type": "stream",
          "name": "stdout",
          "text": [
            "Training loss: 0.0100\n",
            "Training metric: 0.9306\n",
            "perturbation loss: 0.0531\n",
            "Validation acc: 0.9467\n",
            "\n",
            "Start of epoch 518\n"
          ]
        },
        {
          "output_type": "stream",
          "name": "stderr",
          "text": [
            "\r 52%|█████▏    | 519/1000 [32:24<29:58,  3.74s/it]"
          ]
        },
        {
          "output_type": "stream",
          "name": "stdout",
          "text": [
            "Training loss: 0.0026\n",
            "Training metric: 0.9307\n",
            "perturbation loss: 0.0134\n",
            "Validation acc: 0.9467\n",
            "\n",
            "Start of epoch 519\n"
          ]
        },
        {
          "output_type": "stream",
          "name": "stderr",
          "text": [
            "\r 52%|█████▏    | 520/1000 [32:28<29:58,  3.75s/it]"
          ]
        },
        {
          "output_type": "stream",
          "name": "stdout",
          "text": [
            "Training loss: 0.0042\n",
            "Training metric: 0.9309\n",
            "perturbation loss: 0.0181\n",
            "Validation acc: 0.9400\n",
            "\n",
            "Start of epoch 520\n"
          ]
        },
        {
          "output_type": "stream",
          "name": "stderr",
          "text": [
            "\r 52%|█████▏    | 521/1000 [32:32<29:51,  3.74s/it]"
          ]
        },
        {
          "output_type": "stream",
          "name": "stdout",
          "text": [
            "Training loss: 0.0041\n",
            "Training metric: 0.9310\n",
            "perturbation loss: 0.0261\n",
            "Validation acc: 0.9333\n",
            "\n",
            "Start of epoch 521\n"
          ]
        },
        {
          "output_type": "stream",
          "name": "stderr",
          "text": [
            "\r 52%|█████▏    | 522/1000 [32:36<29:46,  3.74s/it]"
          ]
        },
        {
          "output_type": "stream",
          "name": "stdout",
          "text": [
            "Training loss: 0.0520\n",
            "Training metric: 0.9311\n",
            "perturbation loss: 0.0440\n",
            "Validation acc: 0.9533\n",
            "\n",
            "Start of epoch 522\n"
          ]
        },
        {
          "output_type": "stream",
          "name": "stderr",
          "text": [
            "\r 52%|█████▏    | 523/1000 [32:39<29:47,  3.75s/it]"
          ]
        },
        {
          "output_type": "stream",
          "name": "stdout",
          "text": [
            "Training loss: 0.0042\n",
            "Training metric: 0.9313\n",
            "perturbation loss: 0.0217\n",
            "Validation acc: 0.9467\n",
            "\n",
            "Start of epoch 523\n"
          ]
        },
        {
          "output_type": "stream",
          "name": "stderr",
          "text": [
            "\r 52%|█████▏    | 524/1000 [32:43<29:42,  3.74s/it]"
          ]
        },
        {
          "output_type": "stream",
          "name": "stdout",
          "text": [
            "Training loss: 0.0014\n",
            "Training metric: 0.9314\n",
            "perturbation loss: 0.0078\n",
            "Validation acc: 0.9533\n",
            "\n",
            "Start of epoch 524\n"
          ]
        },
        {
          "output_type": "stream",
          "name": "stderr",
          "text": [
            "\r 52%|█████▎    | 525/1000 [32:47<29:35,  3.74s/it]"
          ]
        },
        {
          "output_type": "stream",
          "name": "stdout",
          "text": [
            "Training loss: 0.0161\n",
            "Training metric: 0.9315\n",
            "perturbation loss: 0.0756\n",
            "Validation acc: 0.9400\n",
            "\n",
            "Start of epoch 525\n"
          ]
        },
        {
          "output_type": "stream",
          "name": "stderr",
          "text": [
            "\r 53%|█████▎    | 526/1000 [32:50<29:31,  3.74s/it]"
          ]
        },
        {
          "output_type": "stream",
          "name": "stdout",
          "text": [
            "Training loss: 0.0177\n",
            "Training metric: 0.9316\n",
            "perturbation loss: 0.0297\n",
            "Validation acc: 0.9400\n",
            "\n",
            "Start of epoch 526\n"
          ]
        },
        {
          "output_type": "stream",
          "name": "stderr",
          "text": [
            "\r 53%|█████▎    | 527/1000 [32:54<29:38,  3.76s/it]"
          ]
        },
        {
          "output_type": "stream",
          "name": "stdout",
          "text": [
            "Training loss: 0.0036\n",
            "Training metric: 0.9318\n",
            "perturbation loss: 0.0155\n",
            "Validation acc: 0.9467\n",
            "\n",
            "Start of epoch 527\n"
          ]
        },
        {
          "output_type": "stream",
          "name": "stderr",
          "text": [
            "\r 53%|█████▎    | 528/1000 [32:58<29:31,  3.75s/it]"
          ]
        },
        {
          "output_type": "stream",
          "name": "stdout",
          "text": [
            "Training loss: 0.0323\n",
            "Training metric: 0.9319\n",
            "perturbation loss: 0.0217\n",
            "Validation acc: 0.9000\n",
            "\n",
            "Start of epoch 528\n"
          ]
        },
        {
          "output_type": "stream",
          "name": "stderr",
          "text": [
            "\r 53%|█████▎    | 529/1000 [33:02<29:24,  3.75s/it]"
          ]
        },
        {
          "output_type": "stream",
          "name": "stdout",
          "text": [
            "Training loss: 0.0013\n",
            "Training metric: 0.9320\n",
            "perturbation loss: 0.0145\n",
            "Validation acc: 0.9533\n",
            "\n",
            "Start of epoch 529\n"
          ]
        },
        {
          "output_type": "stream",
          "name": "stderr",
          "text": [
            "\r 53%|█████▎    | 530/1000 [33:05<29:19,  3.74s/it]"
          ]
        },
        {
          "output_type": "stream",
          "name": "stdout",
          "text": [
            "Training loss: 0.0793\n",
            "Training metric: 0.9321\n",
            "perturbation loss: 0.0230\n",
            "Validation acc: 0.9133\n",
            "\n",
            "Start of epoch 530\n"
          ]
        },
        {
          "output_type": "stream",
          "name": "stderr",
          "text": [
            "\r 53%|█████▎    | 531/1000 [33:09<29:24,  3.76s/it]"
          ]
        },
        {
          "output_type": "stream",
          "name": "stdout",
          "text": [
            "Training loss: 0.0063\n",
            "Training metric: 0.9322\n",
            "perturbation loss: 0.0234\n",
            "Validation acc: 0.9067\n",
            "\n",
            "Start of epoch 531\n"
          ]
        },
        {
          "output_type": "stream",
          "name": "stderr",
          "text": [
            "\r 53%|█████▎    | 532/1000 [33:13<29:16,  3.75s/it]"
          ]
        },
        {
          "output_type": "stream",
          "name": "stdout",
          "text": [
            "Training loss: 0.0039\n",
            "Training metric: 0.9324\n",
            "perturbation loss: 0.0344\n",
            "Validation acc: 0.9400\n",
            "\n",
            "Start of epoch 532\n"
          ]
        },
        {
          "output_type": "stream",
          "name": "stderr",
          "text": [
            "\r 53%|█████▎    | 533/1000 [33:17<29:10,  3.75s/it]"
          ]
        },
        {
          "output_type": "stream",
          "name": "stdout",
          "text": [
            "Training loss: 0.0034\n",
            "Training metric: 0.9325\n",
            "perturbation loss: 0.0077\n",
            "Validation acc: 0.9200\n",
            "\n",
            "Start of epoch 533\n"
          ]
        },
        {
          "output_type": "stream",
          "name": "stderr",
          "text": [
            "\r 53%|█████▎    | 534/1000 [33:21<29:14,  3.77s/it]"
          ]
        },
        {
          "output_type": "stream",
          "name": "stdout",
          "text": [
            "Training loss: 0.1292\n",
            "Training metric: 0.9326\n",
            "perturbation loss: 0.0149\n",
            "Validation acc: 0.9400\n",
            "\n",
            "Start of epoch 534\n"
          ]
        },
        {
          "output_type": "stream",
          "name": "stderr",
          "text": [
            "\r 54%|█████▎    | 535/1000 [33:24<29:08,  3.76s/it]"
          ]
        },
        {
          "output_type": "stream",
          "name": "stdout",
          "text": [
            "Training loss: 0.0073\n",
            "Training metric: 0.9327\n",
            "perturbation loss: 0.0287\n",
            "Validation acc: 0.9467\n",
            "\n",
            "Start of epoch 535\n"
          ]
        },
        {
          "output_type": "stream",
          "name": "stderr",
          "text": [
            "\r 54%|█████▎    | 536/1000 [33:28<29:01,  3.75s/it]"
          ]
        },
        {
          "output_type": "stream",
          "name": "stdout",
          "text": [
            "Training loss: 0.0283\n",
            "Training metric: 0.9328\n",
            "perturbation loss: 0.0688\n",
            "Validation acc: 0.9600\n",
            "\n",
            "Start of epoch 536\n"
          ]
        },
        {
          "output_type": "stream",
          "name": "stderr",
          "text": [
            "\r 54%|█████▎    | 537/1000 [33:32<28:54,  3.75s/it]"
          ]
        },
        {
          "output_type": "stream",
          "name": "stdout",
          "text": [
            "Training loss: 0.0170\n",
            "Training metric: 0.9329\n",
            "perturbation loss: 0.1152\n",
            "Validation acc: 0.9067\n",
            "\n",
            "Start of epoch 537\n"
          ]
        },
        {
          "output_type": "stream",
          "name": "stderr",
          "text": [
            "\r 54%|█████▍    | 538/1000 [33:36<28:59,  3.76s/it]"
          ]
        },
        {
          "output_type": "stream",
          "name": "stdout",
          "text": [
            "Training loss: 0.0193\n",
            "Training metric: 0.9331\n",
            "perturbation loss: 0.0500\n",
            "Validation acc: 0.9000\n",
            "\n",
            "Start of epoch 538\n"
          ]
        },
        {
          "output_type": "stream",
          "name": "stderr",
          "text": [
            "\r 54%|█████▍    | 539/1000 [33:39<28:51,  3.76s/it]"
          ]
        },
        {
          "output_type": "stream",
          "name": "stdout",
          "text": [
            "Training loss: 0.1652\n",
            "Training metric: 0.9332\n",
            "perturbation loss: 0.0830\n",
            "Validation acc: 0.9533\n",
            "\n",
            "Start of epoch 539\n"
          ]
        },
        {
          "output_type": "stream",
          "name": "stderr",
          "text": [
            "\r 54%|█████▍    | 540/1000 [33:43<28:44,  3.75s/it]"
          ]
        },
        {
          "output_type": "stream",
          "name": "stdout",
          "text": [
            "Training loss: 0.0038\n",
            "Training metric: 0.9333\n",
            "perturbation loss: 0.0119\n",
            "Validation acc: 0.9200\n",
            "\n",
            "Start of epoch 540\n"
          ]
        },
        {
          "output_type": "stream",
          "name": "stderr",
          "text": [
            "\r 54%|█████▍    | 541/1000 [33:47<28:47,  3.76s/it]"
          ]
        },
        {
          "output_type": "stream",
          "name": "stdout",
          "text": [
            "Training loss: 0.0398\n",
            "Training metric: 0.9334\n",
            "perturbation loss: 0.0697\n",
            "Validation acc: 0.9267\n",
            "\n",
            "Start of epoch 541\n"
          ]
        },
        {
          "output_type": "stream",
          "name": "stderr",
          "text": [
            "\r 54%|█████▍    | 542/1000 [33:51<28:49,  3.78s/it]"
          ]
        },
        {
          "output_type": "stream",
          "name": "stdout",
          "text": [
            "Training loss: 0.0034\n",
            "Training metric: 0.9335\n",
            "perturbation loss: 0.0393\n",
            "Validation acc: 0.9200\n",
            "\n",
            "Start of epoch 542\n"
          ]
        },
        {
          "output_type": "stream",
          "name": "stderr",
          "text": [
            "\r 54%|█████▍    | 543/1000 [33:54<28:39,  3.76s/it]"
          ]
        },
        {
          "output_type": "stream",
          "name": "stdout",
          "text": [
            "Training loss: 0.0363\n",
            "Training metric: 0.9336\n",
            "perturbation loss: 0.1155\n",
            "Validation acc: 0.9267\n",
            "\n",
            "Start of epoch 543\n"
          ]
        },
        {
          "output_type": "stream",
          "name": "stderr",
          "text": [
            "\r 54%|█████▍    | 544/1000 [33:58<28:30,  3.75s/it]"
          ]
        },
        {
          "output_type": "stream",
          "name": "stdout",
          "text": [
            "Training loss: 0.0129\n",
            "Training metric: 0.9337\n",
            "perturbation loss: 0.0239\n",
            "Validation acc: 0.9533\n",
            "\n",
            "Start of epoch 544\n"
          ]
        },
        {
          "output_type": "stream",
          "name": "stderr",
          "text": [
            "\r 55%|█████▍    | 545/1000 [34:02<28:34,  3.77s/it]"
          ]
        },
        {
          "output_type": "stream",
          "name": "stdout",
          "text": [
            "Training loss: 0.0148\n",
            "Training metric: 0.9338\n",
            "perturbation loss: 0.0509\n",
            "Validation acc: 0.9467\n",
            "\n",
            "Start of epoch 545\n"
          ]
        },
        {
          "output_type": "stream",
          "name": "stderr",
          "text": [
            "\r 55%|█████▍    | 546/1000 [34:06<28:28,  3.76s/it]"
          ]
        },
        {
          "output_type": "stream",
          "name": "stdout",
          "text": [
            "Training loss: 0.0014\n",
            "Training metric: 0.9340\n",
            "perturbation loss: 0.0074\n",
            "Validation acc: 0.9467\n",
            "\n",
            "Start of epoch 546\n"
          ]
        },
        {
          "output_type": "stream",
          "name": "stderr",
          "text": [
            "\r 55%|█████▍    | 547/1000 [34:09<28:19,  3.75s/it]"
          ]
        },
        {
          "output_type": "stream",
          "name": "stdout",
          "text": [
            "Training loss: 0.0037\n",
            "Training metric: 0.9341\n",
            "perturbation loss: 0.0155\n",
            "Validation acc: 0.9267\n",
            "\n",
            "Start of epoch 547\n"
          ]
        },
        {
          "output_type": "stream",
          "name": "stderr",
          "text": [
            "\r 55%|█████▍    | 548/1000 [34:13<28:11,  3.74s/it]"
          ]
        },
        {
          "output_type": "stream",
          "name": "stdout",
          "text": [
            "Training loss: 0.0022\n",
            "Training metric: 0.9342\n",
            "perturbation loss: 0.0123\n",
            "Validation acc: 0.9467\n",
            "\n",
            "Start of epoch 548\n"
          ]
        },
        {
          "output_type": "stream",
          "name": "stderr",
          "text": [
            "\r 55%|█████▍    | 549/1000 [34:17<28:18,  3.77s/it]"
          ]
        },
        {
          "output_type": "stream",
          "name": "stdout",
          "text": [
            "Training loss: 0.0015\n",
            "Training metric: 0.9343\n",
            "perturbation loss: 0.0114\n",
            "Validation acc: 0.9400\n",
            "\n",
            "Start of epoch 549\n"
          ]
        },
        {
          "output_type": "stream",
          "name": "stderr",
          "text": [
            "\r 55%|█████▌    | 550/1000 [34:21<28:09,  3.75s/it]"
          ]
        },
        {
          "output_type": "stream",
          "name": "stdout",
          "text": [
            "Training loss: 0.0016\n",
            "Training metric: 0.9344\n",
            "perturbation loss: 0.0092\n",
            "Validation acc: 0.9200\n",
            "\n",
            "Start of epoch 550\n"
          ]
        },
        {
          "output_type": "stream",
          "name": "stderr",
          "text": [
            "\r 55%|█████▌    | 551/1000 [34:24<28:01,  3.75s/it]"
          ]
        },
        {
          "output_type": "stream",
          "name": "stdout",
          "text": [
            "Training loss: 0.0005\n",
            "Training metric: 0.9346\n",
            "perturbation loss: 0.0044\n",
            "Validation acc: 0.9400\n",
            "\n",
            "Start of epoch 551\n"
          ]
        },
        {
          "output_type": "stream",
          "name": "stderr",
          "text": [
            "\r 55%|█████▌    | 552/1000 [34:28<27:55,  3.74s/it]"
          ]
        },
        {
          "output_type": "stream",
          "name": "stdout",
          "text": [
            "Training loss: 0.0015\n",
            "Training metric: 0.9347\n",
            "perturbation loss: 0.0074\n",
            "Validation acc: 0.9467\n",
            "\n",
            "Start of epoch 552\n"
          ]
        },
        {
          "output_type": "stream",
          "name": "stderr",
          "text": [
            "\r 55%|█████▌    | 553/1000 [34:32<28:00,  3.76s/it]"
          ]
        },
        {
          "output_type": "stream",
          "name": "stdout",
          "text": [
            "Training loss: 0.0006\n",
            "Training metric: 0.9348\n",
            "perturbation loss: 0.0047\n",
            "Validation acc: 0.9467\n",
            "\n",
            "Start of epoch 553\n"
          ]
        },
        {
          "output_type": "stream",
          "name": "stderr",
          "text": [
            "\r 55%|█████▌    | 554/1000 [34:36<27:53,  3.75s/it]"
          ]
        },
        {
          "output_type": "stream",
          "name": "stdout",
          "text": [
            "Training loss: 0.0008\n",
            "Training metric: 0.9349\n",
            "perturbation loss: 0.0040\n",
            "Validation acc: 0.9400\n",
            "\n",
            "Start of epoch 554\n"
          ]
        },
        {
          "output_type": "stream",
          "name": "stderr",
          "text": [
            "\r 56%|█████▌    | 555/1000 [34:39<27:47,  3.75s/it]"
          ]
        },
        {
          "output_type": "stream",
          "name": "stdout",
          "text": [
            "Training loss: 0.0004\n",
            "Training metric: 0.9350\n",
            "perturbation loss: 0.0018\n",
            "Validation acc: 0.9467\n",
            "\n",
            "Start of epoch 555\n"
          ]
        },
        {
          "output_type": "stream",
          "name": "stderr",
          "text": [
            "\r 56%|█████▌    | 556/1000 [34:43<27:44,  3.75s/it]"
          ]
        },
        {
          "output_type": "stream",
          "name": "stdout",
          "text": [
            "Training loss: 0.0004\n",
            "Training metric: 0.9352\n",
            "perturbation loss: 0.0043\n",
            "Validation acc: 0.9467\n",
            "\n",
            "Start of epoch 556\n"
          ]
        },
        {
          "output_type": "stream",
          "name": "stderr",
          "text": [
            "\r 56%|█████▌    | 557/1000 [34:47<27:38,  3.74s/it]"
          ]
        },
        {
          "output_type": "stream",
          "name": "stdout",
          "text": [
            "Training loss: 0.0006\n",
            "Training metric: 0.9353\n",
            "perturbation loss: 0.0051\n",
            "Validation acc: 0.9400\n",
            "\n",
            "Start of epoch 557\n"
          ]
        },
        {
          "output_type": "stream",
          "name": "stderr",
          "text": [
            "\r 56%|█████▌    | 558/1000 [34:51<27:34,  3.74s/it]"
          ]
        },
        {
          "output_type": "stream",
          "name": "stdout",
          "text": [
            "Training loss: 0.0004\n",
            "Training metric: 0.9354\n",
            "perturbation loss: 0.0025\n",
            "Validation acc: 0.9333\n",
            "\n",
            "Start of epoch 558\n"
          ]
        },
        {
          "output_type": "stream",
          "name": "stderr",
          "text": [
            "\r 56%|█████▌    | 559/1000 [34:54<27:31,  3.74s/it]"
          ]
        },
        {
          "output_type": "stream",
          "name": "stdout",
          "text": [
            "Training loss: 0.0003\n",
            "Training metric: 0.9355\n",
            "perturbation loss: 0.0017\n",
            "Validation acc: 0.9400\n",
            "\n",
            "Start of epoch 559\n"
          ]
        },
        {
          "output_type": "stream",
          "name": "stderr",
          "text": [
            "\r 56%|█████▌    | 560/1000 [34:58<27:36,  3.76s/it]"
          ]
        },
        {
          "output_type": "stream",
          "name": "stdout",
          "text": [
            "Training loss: 0.0004\n",
            "Training metric: 0.9356\n",
            "perturbation loss: 0.0022\n",
            "Validation acc: 0.9400\n",
            "\n",
            "Start of epoch 560\n"
          ]
        },
        {
          "output_type": "stream",
          "name": "stderr",
          "text": [
            "\r 56%|█████▌    | 561/1000 [35:02<27:28,  3.76s/it]"
          ]
        },
        {
          "output_type": "stream",
          "name": "stdout",
          "text": [
            "Training loss: 0.0002\n",
            "Training metric: 0.9357\n",
            "perturbation loss: 0.0016\n",
            "Validation acc: 0.9400\n",
            "\n",
            "Start of epoch 561\n"
          ]
        },
        {
          "output_type": "stream",
          "name": "stderr",
          "text": [
            "\r 56%|█████▌    | 562/1000 [35:06<27:30,  3.77s/it]"
          ]
        },
        {
          "output_type": "stream",
          "name": "stdout",
          "text": [
            "Training loss: 0.0003\n",
            "Training metric: 0.9358\n",
            "perturbation loss: 0.0024\n",
            "Validation acc: 0.9400\n",
            "\n",
            "Start of epoch 562\n"
          ]
        },
        {
          "output_type": "stream",
          "name": "stderr",
          "text": [
            "\r 56%|█████▋    | 563/1000 [35:10<27:28,  3.77s/it]"
          ]
        },
        {
          "output_type": "stream",
          "name": "stdout",
          "text": [
            "Training loss: 0.0002\n",
            "Training metric: 0.9360\n",
            "perturbation loss: 0.0014\n",
            "Validation acc: 0.9400\n",
            "\n",
            "Start of epoch 563\n"
          ]
        },
        {
          "output_type": "stream",
          "name": "stderr",
          "text": [
            "\r 56%|█████▋    | 564/1000 [35:13<27:18,  3.76s/it]"
          ]
        },
        {
          "output_type": "stream",
          "name": "stdout",
          "text": [
            "Training loss: 0.0001\n",
            "Training metric: 0.9361\n",
            "perturbation loss: 0.0008\n",
            "Validation acc: 0.9333\n",
            "\n",
            "Start of epoch 564\n"
          ]
        },
        {
          "output_type": "stream",
          "name": "stderr",
          "text": [
            "\r 56%|█████▋    | 565/1000 [35:17<27:11,  3.75s/it]"
          ]
        },
        {
          "output_type": "stream",
          "name": "stdout",
          "text": [
            "Training loss: 0.0005\n",
            "Training metric: 0.9362\n",
            "perturbation loss: 0.0013\n",
            "Validation acc: 0.9333\n",
            "\n",
            "Start of epoch 565\n"
          ]
        },
        {
          "output_type": "stream",
          "name": "stderr",
          "text": [
            "\r 57%|█████▋    | 566/1000 [35:21<27:05,  3.75s/it]"
          ]
        },
        {
          "output_type": "stream",
          "name": "stdout",
          "text": [
            "Training loss: 0.0001\n",
            "Training metric: 0.9363\n",
            "perturbation loss: 0.0012\n",
            "Validation acc: 0.9267\n",
            "\n",
            "Start of epoch 566\n"
          ]
        },
        {
          "output_type": "stream",
          "name": "stderr",
          "text": [
            "\r 57%|█████▋    | 567/1000 [35:25<27:09,  3.76s/it]"
          ]
        },
        {
          "output_type": "stream",
          "name": "stdout",
          "text": [
            "Training loss: 0.0004\n",
            "Training metric: 0.9364\n",
            "perturbation loss: 0.0019\n",
            "Validation acc: 0.9400\n",
            "\n",
            "Start of epoch 567\n"
          ]
        },
        {
          "output_type": "stream",
          "name": "stderr",
          "text": [
            "\r 57%|█████▋    | 568/1000 [35:28<27:02,  3.75s/it]"
          ]
        },
        {
          "output_type": "stream",
          "name": "stdout",
          "text": [
            "Training loss: 0.0004\n",
            "Training metric: 0.9365\n",
            "perturbation loss: 0.0019\n",
            "Validation acc: 0.9333\n",
            "\n",
            "Start of epoch 568\n"
          ]
        },
        {
          "output_type": "stream",
          "name": "stderr",
          "text": [
            "\r 57%|█████▋    | 569/1000 [35:32<26:55,  3.75s/it]"
          ]
        },
        {
          "output_type": "stream",
          "name": "stdout",
          "text": [
            "Training loss: 0.0001\n",
            "Training metric: 0.9366\n",
            "perturbation loss: 0.0013\n",
            "Validation acc: 0.9267\n",
            "\n",
            "Start of epoch 569\n"
          ]
        },
        {
          "output_type": "stream",
          "name": "stderr",
          "text": [
            "\r 57%|█████▋    | 570/1000 [35:36<26:49,  3.74s/it]"
          ]
        },
        {
          "output_type": "stream",
          "name": "stdout",
          "text": [
            "Training loss: 0.0001\n",
            "Training metric: 0.9367\n",
            "perturbation loss: 0.0008\n",
            "Validation acc: 0.9400\n",
            "\n",
            "Start of epoch 570\n"
          ]
        },
        {
          "output_type": "stream",
          "name": "stderr",
          "text": [
            "\r 57%|█████▋    | 571/1000 [35:40<26:53,  3.76s/it]"
          ]
        },
        {
          "output_type": "stream",
          "name": "stdout",
          "text": [
            "Training loss: 0.0002\n",
            "Training metric: 0.9369\n",
            "perturbation loss: 0.0015\n",
            "Validation acc: 0.9400\n",
            "\n",
            "Start of epoch 571\n"
          ]
        },
        {
          "output_type": "stream",
          "name": "stderr",
          "text": [
            "\r 57%|█████▋    | 572/1000 [35:43<26:46,  3.75s/it]"
          ]
        },
        {
          "output_type": "stream",
          "name": "stdout",
          "text": [
            "Training loss: 0.0000\n",
            "Training metric: 0.9370\n",
            "perturbation loss: 0.0002\n",
            "Validation acc: 0.9400\n",
            "\n",
            "Start of epoch 572\n"
          ]
        },
        {
          "output_type": "stream",
          "name": "stderr",
          "text": [
            "\r 57%|█████▋    | 573/1000 [35:47<26:39,  3.75s/it]"
          ]
        },
        {
          "output_type": "stream",
          "name": "stdout",
          "text": [
            "Training loss: 0.0001\n",
            "Training metric: 0.9371\n",
            "perturbation loss: 0.0012\n",
            "Validation acc: 0.9267\n",
            "\n",
            "Start of epoch 573\n"
          ]
        },
        {
          "output_type": "stream",
          "name": "stderr",
          "text": [
            "\r 57%|█████▋    | 574/1000 [35:51<26:43,  3.76s/it]"
          ]
        },
        {
          "output_type": "stream",
          "name": "stdout",
          "text": [
            "Training loss: 0.0000\n",
            "Training metric: 0.9372\n",
            "perturbation loss: 0.0004\n",
            "Validation acc: 0.9267\n",
            "\n",
            "Start of epoch 574\n"
          ]
        },
        {
          "output_type": "stream",
          "name": "stderr",
          "text": [
            "\r 57%|█████▊    | 575/1000 [35:55<26:36,  3.76s/it]"
          ]
        },
        {
          "output_type": "stream",
          "name": "stdout",
          "text": [
            "Training loss: 0.0001\n",
            "Training metric: 0.9373\n",
            "perturbation loss: 0.0009\n",
            "Validation acc: 0.9333\n",
            "\n",
            "Start of epoch 575\n"
          ]
        },
        {
          "output_type": "stream",
          "name": "stderr",
          "text": [
            "\r 58%|█████▊    | 576/1000 [35:58<26:29,  3.75s/it]"
          ]
        },
        {
          "output_type": "stream",
          "name": "stdout",
          "text": [
            "Training loss: 0.0000\n",
            "Training metric: 0.9374\n",
            "perturbation loss: 0.0008\n",
            "Validation acc: 0.9400\n",
            "\n",
            "Start of epoch 576\n"
          ]
        },
        {
          "output_type": "stream",
          "name": "stderr",
          "text": [
            "\r 58%|█████▊    | 577/1000 [36:02<26:22,  3.74s/it]"
          ]
        },
        {
          "output_type": "stream",
          "name": "stdout",
          "text": [
            "Training loss: 0.0000\n",
            "Training metric: 0.9375\n",
            "perturbation loss: 0.0003\n",
            "Validation acc: 0.9333\n",
            "\n",
            "Start of epoch 577\n"
          ]
        },
        {
          "output_type": "stream",
          "name": "stderr",
          "text": [
            "\r 58%|█████▊    | 578/1000 [36:06<26:27,  3.76s/it]"
          ]
        },
        {
          "output_type": "stream",
          "name": "stdout",
          "text": [
            "Training loss: 0.0001\n",
            "Training metric: 0.9376\n",
            "perturbation loss: 0.0008\n",
            "Validation acc: 0.9267\n",
            "\n",
            "Start of epoch 578\n"
          ]
        },
        {
          "output_type": "stream",
          "name": "stderr",
          "text": [
            "\r 58%|█████▊    | 579/1000 [36:10<26:20,  3.75s/it]"
          ]
        },
        {
          "output_type": "stream",
          "name": "stdout",
          "text": [
            "Training loss: 0.0001\n",
            "Training metric: 0.9377\n",
            "perturbation loss: 0.0004\n",
            "Validation acc: 0.9400\n",
            "\n",
            "Start of epoch 579\n"
          ]
        },
        {
          "output_type": "stream",
          "name": "stderr",
          "text": [
            "\r 58%|█████▊    | 580/1000 [36:13<26:13,  3.75s/it]"
          ]
        },
        {
          "output_type": "stream",
          "name": "stdout",
          "text": [
            "Training loss: 0.0000\n",
            "Training metric: 0.9378\n",
            "perturbation loss: 0.0005\n",
            "Validation acc: 0.9333\n",
            "\n",
            "Start of epoch 580\n"
          ]
        },
        {
          "output_type": "stream",
          "name": "stderr",
          "text": [
            "\r 58%|█████▊    | 581/1000 [36:17<26:08,  3.74s/it]"
          ]
        },
        {
          "output_type": "stream",
          "name": "stdout",
          "text": [
            "Training loss: 0.0001\n",
            "Training metric: 0.9379\n",
            "perturbation loss: 0.0010\n",
            "Validation acc: 0.9400\n",
            "\n",
            "Start of epoch 581\n"
          ]
        },
        {
          "output_type": "stream",
          "name": "stderr",
          "text": [
            "\r 58%|█████▊    | 582/1000 [36:21<26:06,  3.75s/it]"
          ]
        },
        {
          "output_type": "stream",
          "name": "stdout",
          "text": [
            "Training loss: 0.0001\n",
            "Training metric: 0.9381\n",
            "perturbation loss: 0.0012\n",
            "Validation acc: 0.9333\n",
            "\n",
            "Start of epoch 582\n"
          ]
        },
        {
          "output_type": "stream",
          "name": "stderr",
          "text": [
            "\r 58%|█████▊    | 583/1000 [36:24<26:01,  3.74s/it]"
          ]
        },
        {
          "output_type": "stream",
          "name": "stdout",
          "text": [
            "Training loss: 0.0440\n",
            "Training metric: 0.9382\n",
            "perturbation loss: 0.0643\n",
            "Validation acc: 0.9200\n",
            "\n",
            "Start of epoch 583\n"
          ]
        },
        {
          "output_type": "stream",
          "name": "stderr",
          "text": [
            "\r 58%|█████▊    | 584/1000 [36:28<25:56,  3.74s/it]"
          ]
        },
        {
          "output_type": "stream",
          "name": "stdout",
          "text": [
            "Training loss: 0.0495\n",
            "Training metric: 0.9382\n",
            "perturbation loss: 0.0919\n",
            "Validation acc: 0.9467\n",
            "\n",
            "Start of epoch 584\n"
          ]
        },
        {
          "output_type": "stream",
          "name": "stderr",
          "text": [
            "\r 58%|█████▊    | 585/1000 [36:32<26:00,  3.76s/it]"
          ]
        },
        {
          "output_type": "stream",
          "name": "stdout",
          "text": [
            "Training loss: 0.0837\n",
            "Training metric: 0.9383\n",
            "perturbation loss: 0.1013\n",
            "Validation acc: 0.9000\n",
            "\n",
            "Start of epoch 585\n"
          ]
        },
        {
          "output_type": "stream",
          "name": "stderr",
          "text": [
            "\r 59%|█████▊    | 586/1000 [36:36<25:53,  3.75s/it]"
          ]
        },
        {
          "output_type": "stream",
          "name": "stdout",
          "text": [
            "Training loss: 0.0284\n",
            "Training metric: 0.9384\n",
            "perturbation loss: 0.1489\n",
            "Validation acc: 0.9267\n",
            "\n",
            "Start of epoch 586\n"
          ]
        },
        {
          "output_type": "stream",
          "name": "stderr",
          "text": [
            "\r 59%|█████▊    | 587/1000 [36:39<25:48,  3.75s/it]"
          ]
        },
        {
          "output_type": "stream",
          "name": "stdout",
          "text": [
            "Training loss: 0.1008\n",
            "Training metric: 0.9385\n",
            "perturbation loss: 0.0241\n",
            "Validation acc: 0.9200\n",
            "\n",
            "Start of epoch 587\n"
          ]
        },
        {
          "output_type": "stream",
          "name": "stderr",
          "text": [
            "\r 59%|█████▉    | 588/1000 [36:43<25:42,  3.74s/it]"
          ]
        },
        {
          "output_type": "stream",
          "name": "stdout",
          "text": [
            "Training loss: 0.0111\n",
            "Training metric: 0.9386\n",
            "perturbation loss: 0.0468\n",
            "Validation acc: 0.9067\n",
            "\n",
            "Start of epoch 588\n"
          ]
        },
        {
          "output_type": "stream",
          "name": "stderr",
          "text": [
            "\r 59%|█████▉    | 589/1000 [36:47<25:47,  3.77s/it]"
          ]
        },
        {
          "output_type": "stream",
          "name": "stdout",
          "text": [
            "Training loss: 0.0471\n",
            "Training metric: 0.9387\n",
            "perturbation loss: 0.0518\n",
            "Validation acc: 0.9333\n",
            "\n",
            "Start of epoch 589\n"
          ]
        },
        {
          "output_type": "stream",
          "name": "stderr",
          "text": [
            "\r 59%|█████▉    | 590/1000 [36:51<25:40,  3.76s/it]"
          ]
        },
        {
          "output_type": "stream",
          "name": "stdout",
          "text": [
            "Training loss: 0.0395\n",
            "Training metric: 0.9388\n",
            "perturbation loss: 0.0383\n",
            "Validation acc: 0.9467\n",
            "\n",
            "Start of epoch 590\n"
          ]
        },
        {
          "output_type": "stream",
          "name": "stderr",
          "text": [
            "\r 59%|█████▉    | 591/1000 [36:55<25:34,  3.75s/it]"
          ]
        },
        {
          "output_type": "stream",
          "name": "stdout",
          "text": [
            "Training loss: 0.0019\n",
            "Training metric: 0.9389\n",
            "perturbation loss: 0.0135\n",
            "Validation acc: 0.9467\n",
            "\n",
            "Start of epoch 591\n"
          ]
        },
        {
          "output_type": "stream",
          "name": "stderr",
          "text": [
            "\r 59%|█████▉    | 592/1000 [36:58<25:28,  3.75s/it]"
          ]
        },
        {
          "output_type": "stream",
          "name": "stdout",
          "text": [
            "Training loss: 0.0024\n",
            "Training metric: 0.9390\n",
            "perturbation loss: 0.0144\n",
            "Validation acc: 0.9533\n",
            "\n",
            "Start of epoch 592\n"
          ]
        },
        {
          "output_type": "stream",
          "name": "stderr",
          "text": [
            "\r 59%|█████▉    | 593/1000 [37:02<25:26,  3.75s/it]"
          ]
        },
        {
          "output_type": "stream",
          "name": "stdout",
          "text": [
            "Training loss: 0.0009\n",
            "Training metric: 0.9391\n",
            "perturbation loss: 0.0037\n",
            "Validation acc: 0.9333\n",
            "\n",
            "Start of epoch 593\n"
          ]
        },
        {
          "output_type": "stream",
          "name": "stderr",
          "text": [
            "\r 59%|█████▉    | 594/1000 [37:06<25:19,  3.74s/it]"
          ]
        },
        {
          "output_type": "stream",
          "name": "stdout",
          "text": [
            "Training loss: 0.0114\n",
            "Training metric: 0.9392\n",
            "perturbation loss: 0.0329\n",
            "Validation acc: 0.9533\n",
            "\n",
            "Start of epoch 594\n"
          ]
        },
        {
          "output_type": "stream",
          "name": "stderr",
          "text": [
            "\r 60%|█████▉    | 595/1000 [37:10<25:23,  3.76s/it]"
          ]
        },
        {
          "output_type": "stream",
          "name": "stdout",
          "text": [
            "Training loss: 0.0040\n",
            "Training metric: 0.9393\n",
            "perturbation loss: 0.0236\n",
            "Validation acc: 0.9267\n",
            "\n",
            "Start of epoch 595\n"
          ]
        },
        {
          "output_type": "stream",
          "name": "stderr",
          "text": [
            "\r 60%|█████▉    | 596/1000 [37:13<25:27,  3.78s/it]"
          ]
        },
        {
          "output_type": "stream",
          "name": "stdout",
          "text": [
            "Training loss: 0.0048\n",
            "Training metric: 0.9394\n",
            "perturbation loss: 0.0115\n",
            "Validation acc: 0.9333\n",
            "\n",
            "Start of epoch 596\n"
          ]
        },
        {
          "output_type": "stream",
          "name": "stderr",
          "text": [
            "\r 60%|█████▉    | 597/1000 [37:17<25:18,  3.77s/it]"
          ]
        },
        {
          "output_type": "stream",
          "name": "stdout",
          "text": [
            "Training loss: 0.0164\n",
            "Training metric: 0.9395\n",
            "perturbation loss: 0.0183\n",
            "Validation acc: 0.9333\n",
            "\n",
            "Start of epoch 597\n"
          ]
        },
        {
          "output_type": "stream",
          "name": "stderr",
          "text": [
            "\r 60%|█████▉    | 598/1000 [37:21<25:10,  3.76s/it]"
          ]
        },
        {
          "output_type": "stream",
          "name": "stdout",
          "text": [
            "Training loss: 0.0040\n",
            "Training metric: 0.9396\n",
            "perturbation loss: 0.0315\n",
            "Validation acc: 0.9267\n",
            "\n",
            "Start of epoch 598\n"
          ]
        },
        {
          "output_type": "stream",
          "name": "stderr",
          "text": [
            "\r 60%|█████▉    | 599/1000 [37:25<25:02,  3.75s/it]"
          ]
        },
        {
          "output_type": "stream",
          "name": "stdout",
          "text": [
            "Training loss: 0.0679\n",
            "Training metric: 0.9396\n",
            "perturbation loss: 0.0407\n",
            "Validation acc: 0.9533\n",
            "\n",
            "Start of epoch 599\n"
          ]
        },
        {
          "output_type": "stream",
          "name": "stderr",
          "text": [
            "\r 60%|██████    | 600/1000 [37:28<25:07,  3.77s/it]"
          ]
        },
        {
          "output_type": "stream",
          "name": "stdout",
          "text": [
            "Training loss: 0.0185\n",
            "Training metric: 0.9397\n",
            "perturbation loss: 0.0335\n",
            "Validation acc: 0.9200\n",
            "\n",
            "Start of epoch 600\n"
          ]
        },
        {
          "output_type": "stream",
          "name": "stderr",
          "text": [
            "\r 60%|██████    | 601/1000 [37:32<24:58,  3.76s/it]"
          ]
        },
        {
          "output_type": "stream",
          "name": "stdout",
          "text": [
            "Training loss: 0.0006\n",
            "Training metric: 0.9398\n",
            "perturbation loss: 0.0048\n",
            "Validation acc: 0.9333\n",
            "\n",
            "Start of epoch 601\n"
          ]
        },
        {
          "output_type": "stream",
          "name": "stderr",
          "text": [
            "\r 60%|██████    | 602/1000 [37:36<24:51,  3.75s/it]"
          ]
        },
        {
          "output_type": "stream",
          "name": "stdout",
          "text": [
            "Training loss: 0.0086\n",
            "Training metric: 0.9399\n",
            "perturbation loss: 0.0583\n",
            "Validation acc: 0.9600\n",
            "\n",
            "Start of epoch 602\n"
          ]
        },
        {
          "output_type": "stream",
          "name": "stderr",
          "text": [
            "\r 60%|██████    | 603/1000 [37:40<24:55,  3.77s/it]"
          ]
        },
        {
          "output_type": "stream",
          "name": "stdout",
          "text": [
            "Training loss: 0.0015\n",
            "Training metric: 0.9400\n",
            "perturbation loss: 0.0140\n",
            "Validation acc: 0.9600\n",
            "\n",
            "Start of epoch 603\n"
          ]
        },
        {
          "output_type": "stream",
          "name": "stderr",
          "text": [
            "\r 60%|██████    | 604/1000 [37:43<24:49,  3.76s/it]"
          ]
        },
        {
          "output_type": "stream",
          "name": "stdout",
          "text": [
            "Training loss: 0.0371\n",
            "Training metric: 0.9401\n",
            "perturbation loss: 0.0140\n",
            "Validation acc: 0.9600\n",
            "\n",
            "Start of epoch 604\n"
          ]
        },
        {
          "output_type": "stream",
          "name": "stderr",
          "text": [
            "\r 60%|██████    | 605/1000 [37:47<24:42,  3.75s/it]"
          ]
        },
        {
          "output_type": "stream",
          "name": "stdout",
          "text": [
            "Training loss: 0.0122\n",
            "Training metric: 0.9402\n",
            "perturbation loss: 0.0393\n",
            "Validation acc: 0.9667\n",
            "\n",
            "Start of epoch 605\n"
          ]
        },
        {
          "output_type": "stream",
          "name": "stderr",
          "text": [
            "\r 61%|██████    | 606/1000 [37:51<24:35,  3.75s/it]"
          ]
        },
        {
          "output_type": "stream",
          "name": "stdout",
          "text": [
            "Training loss: 0.0030\n",
            "Training metric: 0.9403\n",
            "perturbation loss: 0.0337\n",
            "Validation acc: 0.9333\n",
            "\n",
            "Start of epoch 606\n"
          ]
        },
        {
          "output_type": "stream",
          "name": "stderr",
          "text": [
            "\r 61%|██████    | 607/1000 [37:55<24:34,  3.75s/it]"
          ]
        },
        {
          "output_type": "stream",
          "name": "stdout",
          "text": [
            "Training loss: 0.0087\n",
            "Training metric: 0.9404\n",
            "perturbation loss: 0.0573\n",
            "Validation acc: 0.9467\n",
            "\n",
            "Start of epoch 607\n"
          ]
        },
        {
          "output_type": "stream",
          "name": "stderr",
          "text": [
            "\r 61%|██████    | 608/1000 [37:58<24:30,  3.75s/it]"
          ]
        },
        {
          "output_type": "stream",
          "name": "stdout",
          "text": [
            "Training loss: 0.0205\n",
            "Training metric: 0.9405\n",
            "perturbation loss: 0.1071\n",
            "Validation acc: 0.9400\n",
            "\n",
            "Start of epoch 608\n"
          ]
        },
        {
          "output_type": "stream",
          "name": "stderr",
          "text": [
            "\r 61%|██████    | 609/1000 [38:02<24:23,  3.74s/it]"
          ]
        },
        {
          "output_type": "stream",
          "name": "stdout",
          "text": [
            "Training loss: 0.0608\n",
            "Training metric: 0.9406\n",
            "perturbation loss: 0.0853\n",
            "Validation acc: 0.9000\n",
            "\n",
            "Start of epoch 609\n"
          ]
        },
        {
          "output_type": "stream",
          "name": "stderr",
          "text": [
            "\r 61%|██████    | 610/1000 [38:06<24:18,  3.74s/it]"
          ]
        },
        {
          "output_type": "stream",
          "name": "stdout",
          "text": [
            "Training loss: 0.0139\n",
            "Training metric: 0.9406\n",
            "perturbation loss: 0.0323\n",
            "Validation acc: 0.9400\n",
            "\n",
            "Start of epoch 610\n"
          ]
        },
        {
          "output_type": "stream",
          "name": "stderr",
          "text": [
            "\r 61%|██████    | 611/1000 [38:10<24:22,  3.76s/it]"
          ]
        },
        {
          "output_type": "stream",
          "name": "stdout",
          "text": [
            "Training loss: 0.0033\n",
            "Training metric: 0.9407\n",
            "perturbation loss: 0.0166\n",
            "Validation acc: 0.9467\n",
            "\n",
            "Start of epoch 611\n"
          ]
        },
        {
          "output_type": "stream",
          "name": "stderr",
          "text": [
            "\r 61%|██████    | 612/1000 [38:13<24:15,  3.75s/it]"
          ]
        },
        {
          "output_type": "stream",
          "name": "stdout",
          "text": [
            "Training loss: 0.0019\n",
            "Training metric: 0.9408\n",
            "perturbation loss: 0.0156\n",
            "Validation acc: 0.9333\n",
            "\n",
            "Start of epoch 612\n"
          ]
        },
        {
          "output_type": "stream",
          "name": "stderr",
          "text": [
            "\r 61%|██████▏   | 613/1000 [38:17<24:09,  3.75s/it]"
          ]
        },
        {
          "output_type": "stream",
          "name": "stdout",
          "text": [
            "Training loss: 0.0011\n",
            "Training metric: 0.9409\n",
            "perturbation loss: 0.0103\n",
            "Validation acc: 0.9267\n",
            "\n",
            "Start of epoch 613\n"
          ]
        },
        {
          "output_type": "stream",
          "name": "stderr",
          "text": [
            "\r 61%|██████▏   | 614/1000 [38:21<24:13,  3.77s/it]"
          ]
        },
        {
          "output_type": "stream",
          "name": "stdout",
          "text": [
            "Training loss: 0.0002\n",
            "Training metric: 0.9410\n",
            "perturbation loss: 0.0029\n",
            "Validation acc: 0.9267\n",
            "\n",
            "Start of epoch 614\n"
          ]
        },
        {
          "output_type": "stream",
          "name": "stderr",
          "text": [
            "\r 62%|██████▏   | 615/1000 [38:25<24:06,  3.76s/it]"
          ]
        },
        {
          "output_type": "stream",
          "name": "stdout",
          "text": [
            "Training loss: 0.0003\n",
            "Training metric: 0.9411\n",
            "perturbation loss: 0.0027\n",
            "Validation acc: 0.9333\n",
            "\n",
            "Start of epoch 615\n"
          ]
        },
        {
          "output_type": "stream",
          "name": "stderr",
          "text": [
            "\r 62%|██████▏   | 616/1000 [38:28<24:00,  3.75s/it]"
          ]
        },
        {
          "output_type": "stream",
          "name": "stdout",
          "text": [
            "Training loss: 0.0002\n",
            "Training metric: 0.9412\n",
            "perturbation loss: 0.0011\n",
            "Validation acc: 0.9333\n",
            "\n",
            "Start of epoch 616\n"
          ]
        },
        {
          "output_type": "stream",
          "name": "stderr",
          "text": [
            "\r 62%|██████▏   | 617/1000 [38:32<23:53,  3.74s/it]"
          ]
        },
        {
          "output_type": "stream",
          "name": "stdout",
          "text": [
            "Training loss: 0.0002\n",
            "Training metric: 0.9413\n",
            "perturbation loss: 0.0012\n",
            "Validation acc: 0.9333\n",
            "\n",
            "Start of epoch 617\n"
          ]
        },
        {
          "output_type": "stream",
          "name": "stderr",
          "text": [
            "\r 62%|██████▏   | 618/1000 [38:36<23:57,  3.76s/it]"
          ]
        },
        {
          "output_type": "stream",
          "name": "stdout",
          "text": [
            "Training loss: 0.0003\n",
            "Training metric: 0.9414\n",
            "perturbation loss: 0.0022\n",
            "Validation acc: 0.9333\n",
            "\n",
            "Start of epoch 618\n"
          ]
        },
        {
          "output_type": "stream",
          "name": "stderr",
          "text": [
            "\r 62%|██████▏   | 619/1000 [38:40<23:50,  3.76s/it]"
          ]
        },
        {
          "output_type": "stream",
          "name": "stdout",
          "text": [
            "Training loss: 0.0002\n",
            "Training metric: 0.9415\n",
            "perturbation loss: 0.0022\n",
            "Validation acc: 0.9400\n",
            "\n",
            "Start of epoch 619\n"
          ]
        },
        {
          "output_type": "stream",
          "name": "stderr",
          "text": [
            "\r 62%|██████▏   | 620/1000 [38:43<23:44,  3.75s/it]"
          ]
        },
        {
          "output_type": "stream",
          "name": "stdout",
          "text": [
            "Training loss: 0.0005\n",
            "Training metric: 0.9416\n",
            "perturbation loss: 0.0031\n",
            "Validation acc: 0.9400\n",
            "\n",
            "Start of epoch 620\n"
          ]
        },
        {
          "output_type": "stream",
          "name": "stderr",
          "text": [
            "\r 62%|██████▏   | 621/1000 [38:47<23:48,  3.77s/it]"
          ]
        },
        {
          "output_type": "stream",
          "name": "stdout",
          "text": [
            "Training loss: 0.0003\n",
            "Training metric: 0.9417\n",
            "perturbation loss: 0.0018\n",
            "Validation acc: 0.9400\n",
            "\n",
            "Start of epoch 621\n"
          ]
        },
        {
          "output_type": "stream",
          "name": "stderr",
          "text": [
            "\r 62%|██████▏   | 622/1000 [38:51<23:42,  3.76s/it]"
          ]
        },
        {
          "output_type": "stream",
          "name": "stdout",
          "text": [
            "Training loss: 0.0002\n",
            "Training metric: 0.9418\n",
            "perturbation loss: 0.0015\n",
            "Validation acc: 0.9400\n",
            "\n",
            "Start of epoch 622\n"
          ]
        },
        {
          "output_type": "stream",
          "name": "stderr",
          "text": [
            "\r 62%|██████▏   | 623/1000 [38:55<23:34,  3.75s/it]"
          ]
        },
        {
          "output_type": "stream",
          "name": "stdout",
          "text": [
            "Training loss: 0.0003\n",
            "Training metric: 0.9419\n",
            "perturbation loss: 0.0050\n",
            "Validation acc: 0.9400\n",
            "\n",
            "Start of epoch 623\n"
          ]
        },
        {
          "output_type": "stream",
          "name": "stderr",
          "text": [
            "\r 62%|██████▏   | 624/1000 [38:58<23:28,  3.75s/it]"
          ]
        },
        {
          "output_type": "stream",
          "name": "stdout",
          "text": [
            "Training loss: 0.0003\n",
            "Training metric: 0.9420\n",
            "perturbation loss: 0.0017\n",
            "Validation acc: 0.9400\n",
            "\n",
            "Start of epoch 624\n"
          ]
        },
        {
          "output_type": "stream",
          "name": "stderr",
          "text": [
            "\r 62%|██████▎   | 625/1000 [39:02<23:31,  3.76s/it]"
          ]
        },
        {
          "output_type": "stream",
          "name": "stdout",
          "text": [
            "Training loss: 0.0001\n",
            "Training metric: 0.9421\n",
            "perturbation loss: 0.0007\n",
            "Validation acc: 0.9400\n",
            "\n",
            "Start of epoch 625\n"
          ]
        },
        {
          "output_type": "stream",
          "name": "stderr",
          "text": [
            "\r 63%|██████▎   | 626/1000 [39:06<23:24,  3.75s/it]"
          ]
        },
        {
          "output_type": "stream",
          "name": "stdout",
          "text": [
            "Training loss: 0.0003\n",
            "Training metric: 0.9422\n",
            "perturbation loss: 0.0022\n",
            "Validation acc: 0.9467\n",
            "\n",
            "Start of epoch 626\n"
          ]
        },
        {
          "output_type": "stream",
          "name": "stderr",
          "text": [
            "\r 63%|██████▎   | 627/1000 [39:10<23:17,  3.75s/it]"
          ]
        },
        {
          "output_type": "stream",
          "name": "stdout",
          "text": [
            "Training loss: 0.0001\n",
            "Training metric: 0.9423\n",
            "perturbation loss: 0.0024\n",
            "Validation acc: 0.9400\n",
            "\n",
            "Start of epoch 627\n"
          ]
        },
        {
          "output_type": "stream",
          "name": "stderr",
          "text": [
            "\r 63%|██████▎   | 628/1000 [39:13<23:13,  3.74s/it]"
          ]
        },
        {
          "output_type": "stream",
          "name": "stdout",
          "text": [
            "Training loss: 0.0001\n",
            "Training metric: 0.9423\n",
            "perturbation loss: 0.0007\n",
            "Validation acc: 0.9400\n",
            "\n",
            "Start of epoch 628\n"
          ]
        },
        {
          "output_type": "stream",
          "name": "stderr",
          "text": [
            "\r 63%|██████▎   | 629/1000 [39:17<23:17,  3.77s/it]"
          ]
        },
        {
          "output_type": "stream",
          "name": "stdout",
          "text": [
            "Training loss: 0.0001\n",
            "Training metric: 0.9424\n",
            "perturbation loss: 0.0004\n",
            "Validation acc: 0.9400\n",
            "\n",
            "Start of epoch 629\n"
          ]
        },
        {
          "output_type": "stream",
          "name": "stderr",
          "text": [
            "\r 63%|██████▎   | 630/1000 [39:21<23:11,  3.76s/it]"
          ]
        },
        {
          "output_type": "stream",
          "name": "stdout",
          "text": [
            "Training loss: 0.0001\n",
            "Training metric: 0.9425\n",
            "perturbation loss: 0.0008\n",
            "Validation acc: 0.9400\n",
            "\n",
            "Start of epoch 630\n"
          ]
        },
        {
          "output_type": "stream",
          "name": "stderr",
          "text": [
            "\r 63%|██████▎   | 631/1000 [39:25<23:04,  3.75s/it]"
          ]
        },
        {
          "output_type": "stream",
          "name": "stdout",
          "text": [
            "Training loss: 0.0002\n",
            "Training metric: 0.9426\n",
            "perturbation loss: 0.0013\n",
            "Validation acc: 0.9400\n",
            "\n",
            "Start of epoch 631\n"
          ]
        },
        {
          "output_type": "stream",
          "name": "stderr",
          "text": [
            "\r 63%|██████▎   | 632/1000 [39:29<23:07,  3.77s/it]"
          ]
        },
        {
          "output_type": "stream",
          "name": "stdout",
          "text": [
            "Training loss: 0.0001\n",
            "Training metric: 0.9427\n",
            "perturbation loss: 0.0003\n",
            "Validation acc: 0.9400\n",
            "\n",
            "Start of epoch 632\n"
          ]
        },
        {
          "output_type": "stream",
          "name": "stderr",
          "text": [
            "\r 63%|██████▎   | 633/1000 [39:32<22:59,  3.76s/it]"
          ]
        },
        {
          "output_type": "stream",
          "name": "stdout",
          "text": [
            "Training loss: 0.0001\n",
            "Training metric: 0.9428\n",
            "perturbation loss: 0.0012\n",
            "Validation acc: 0.9400\n",
            "\n",
            "Start of epoch 633\n"
          ]
        },
        {
          "output_type": "stream",
          "name": "stderr",
          "text": [
            "\r 63%|██████▎   | 634/1000 [39:36<22:53,  3.75s/it]"
          ]
        },
        {
          "output_type": "stream",
          "name": "stdout",
          "text": [
            "Training loss: 0.0001\n",
            "Training metric: 0.9429\n",
            "perturbation loss: 0.0006\n",
            "Validation acc: 0.9400\n",
            "\n",
            "Start of epoch 634\n"
          ]
        },
        {
          "output_type": "stream",
          "name": "stderr",
          "text": [
            "\r 64%|██████▎   | 635/1000 [39:40<22:47,  3.75s/it]"
          ]
        },
        {
          "output_type": "stream",
          "name": "stdout",
          "text": [
            "Training loss: 0.0001\n",
            "Training metric: 0.9430\n",
            "perturbation loss: 0.0007\n",
            "Validation acc: 0.9400\n",
            "\n",
            "Start of epoch 635\n"
          ]
        },
        {
          "output_type": "stream",
          "name": "stderr",
          "text": [
            "\r 64%|██████▎   | 636/1000 [39:44<22:51,  3.77s/it]"
          ]
        },
        {
          "output_type": "stream",
          "name": "stdout",
          "text": [
            "Training loss: 0.0001\n",
            "Training metric: 0.9431\n",
            "perturbation loss: 0.0007\n",
            "Validation acc: 0.9400\n",
            "\n",
            "Start of epoch 636\n"
          ]
        },
        {
          "output_type": "stream",
          "name": "stderr",
          "text": [
            "\r 64%|██████▎   | 637/1000 [39:47<22:43,  3.76s/it]"
          ]
        },
        {
          "output_type": "stream",
          "name": "stdout",
          "text": [
            "Training loss: 0.0001\n",
            "Training metric: 0.9432\n",
            "perturbation loss: 0.0005\n",
            "Validation acc: 0.9400\n",
            "\n",
            "Start of epoch 637\n"
          ]
        },
        {
          "output_type": "stream",
          "name": "stderr",
          "text": [
            "\r 64%|██████▍   | 638/1000 [39:51<22:37,  3.75s/it]"
          ]
        },
        {
          "output_type": "stream",
          "name": "stdout",
          "text": [
            "Training loss: 0.0001\n",
            "Training metric: 0.9432\n",
            "perturbation loss: 0.0013\n",
            "Validation acc: 0.9467\n",
            "\n",
            "Start of epoch 638\n"
          ]
        },
        {
          "output_type": "stream",
          "name": "stderr",
          "text": [
            "\r 64%|██████▍   | 639/1000 [39:55<22:32,  3.75s/it]"
          ]
        },
        {
          "output_type": "stream",
          "name": "stdout",
          "text": [
            "Training loss: 0.0001\n",
            "Training metric: 0.9433\n",
            "perturbation loss: 0.0008\n",
            "Validation acc: 0.9600\n",
            "\n",
            "Start of epoch 639\n"
          ]
        },
        {
          "output_type": "stream",
          "name": "stderr",
          "text": [
            "\r 64%|██████▍   | 640/1000 [39:59<22:35,  3.77s/it]"
          ]
        },
        {
          "output_type": "stream",
          "name": "stdout",
          "text": [
            "Training loss: 0.0000\n",
            "Training metric: 0.9434\n",
            "perturbation loss: 0.0003\n",
            "Validation acc: 0.9533\n",
            "\n",
            "Start of epoch 640\n"
          ]
        },
        {
          "output_type": "stream",
          "name": "stderr",
          "text": [
            "\r 64%|██████▍   | 641/1000 [40:02<22:29,  3.76s/it]"
          ]
        },
        {
          "output_type": "stream",
          "name": "stdout",
          "text": [
            "Training loss: 0.0001\n",
            "Training metric: 0.9435\n",
            "perturbation loss: 0.0009\n",
            "Validation acc: 0.9600\n",
            "\n",
            "Start of epoch 641\n"
          ]
        },
        {
          "output_type": "stream",
          "name": "stderr",
          "text": [
            "\r 64%|██████▍   | 642/1000 [40:06<22:23,  3.75s/it]"
          ]
        },
        {
          "output_type": "stream",
          "name": "stdout",
          "text": [
            "Training loss: 0.0000\n",
            "Training metric: 0.9436\n",
            "perturbation loss: 0.0004\n",
            "Validation acc: 0.9333\n",
            "\n",
            "Start of epoch 642\n"
          ]
        },
        {
          "output_type": "stream",
          "name": "stderr",
          "text": [
            "\r 64%|██████▍   | 643/1000 [40:10<22:26,  3.77s/it]"
          ]
        },
        {
          "output_type": "stream",
          "name": "stdout",
          "text": [
            "Training loss: 0.0002\n",
            "Training metric: 0.9437\n",
            "perturbation loss: 0.0014\n",
            "Validation acc: 0.9533\n",
            "\n",
            "Start of epoch 643\n"
          ]
        },
        {
          "output_type": "stream",
          "name": "stderr",
          "text": [
            "\r 64%|██████▍   | 644/1000 [40:14<22:19,  3.76s/it]"
          ]
        },
        {
          "output_type": "stream",
          "name": "stdout",
          "text": [
            "Training loss: 0.0002\n",
            "Training metric: 0.9438\n",
            "perturbation loss: 0.0022\n",
            "Validation acc: 0.9400\n",
            "\n",
            "Start of epoch 644\n"
          ]
        },
        {
          "output_type": "stream",
          "name": "stderr",
          "text": [
            "\r 64%|██████▍   | 645/1000 [40:17<22:13,  3.76s/it]"
          ]
        },
        {
          "output_type": "stream",
          "name": "stdout",
          "text": [
            "Training loss: 0.0037\n",
            "Training metric: 0.9438\n",
            "perturbation loss: 0.0132\n",
            "Validation acc: 0.9333\n",
            "\n",
            "Start of epoch 645\n"
          ]
        },
        {
          "output_type": "stream",
          "name": "stderr",
          "text": [
            "\r 65%|██████▍   | 646/1000 [40:21<22:07,  3.75s/it]"
          ]
        },
        {
          "output_type": "stream",
          "name": "stdout",
          "text": [
            "Training loss: 0.0012\n",
            "Training metric: 0.9439\n",
            "perturbation loss: 0.0046\n",
            "Validation acc: 0.9133\n",
            "\n",
            "Start of epoch 646\n"
          ]
        },
        {
          "output_type": "stream",
          "name": "stderr",
          "text": [
            "\r 65%|██████▍   | 647/1000 [40:25<22:11,  3.77s/it]"
          ]
        },
        {
          "output_type": "stream",
          "name": "stdout",
          "text": [
            "Training loss: 0.0042\n",
            "Training metric: 0.9440\n",
            "perturbation loss: 0.0196\n",
            "Validation acc: 0.9267\n",
            "\n",
            "Start of epoch 647\n"
          ]
        },
        {
          "output_type": "stream",
          "name": "stderr",
          "text": [
            "\r 65%|██████▍   | 648/1000 [40:29<22:03,  3.76s/it]"
          ]
        },
        {
          "output_type": "stream",
          "name": "stdout",
          "text": [
            "Training loss: 0.0167\n",
            "Training metric: 0.9440\n",
            "perturbation loss: 0.0224\n",
            "Validation acc: 0.9400\n",
            "\n",
            "Start of epoch 648\n"
          ]
        },
        {
          "output_type": "stream",
          "name": "stderr",
          "text": [
            "\r 65%|██████▍   | 649/1000 [40:32<21:56,  3.75s/it]"
          ]
        },
        {
          "output_type": "stream",
          "name": "stdout",
          "text": [
            "Training loss: 0.0073\n",
            "Training metric: 0.9441\n",
            "perturbation loss: 0.0141\n",
            "Validation acc: 0.9600\n",
            "\n",
            "Start of epoch 649\n",
            "Training loss: 0.0006\n",
            "Training metric: 0.9442\n",
            "perturbation loss: 0.0067\n",
            "Validation acc: 0.9467\n"
          ]
        },
        {
          "output_type": "stream",
          "name": "stderr",
          "text": [
            "\r 65%|██████▌   | 650/1000 [40:36<22:14,  3.81s/it]"
          ]
        },
        {
          "output_type": "stream",
          "name": "stdout",
          "text": [
            "\n",
            "Start of epoch 650\n"
          ]
        },
        {
          "output_type": "stream",
          "name": "stderr",
          "text": [
            "\r 65%|██████▌   | 651/1000 [40:40<22:07,  3.80s/it]"
          ]
        },
        {
          "output_type": "stream",
          "name": "stdout",
          "text": [
            "Training loss: 0.0010\n",
            "Training metric: 0.9443\n",
            "perturbation loss: 0.0077\n",
            "Validation acc: 0.9400\n",
            "\n",
            "Start of epoch 651\n"
          ]
        },
        {
          "output_type": "stream",
          "name": "stderr",
          "text": [
            "\r 65%|██████▌   | 652/1000 [40:44<21:57,  3.79s/it]"
          ]
        },
        {
          "output_type": "stream",
          "name": "stdout",
          "text": [
            "Training loss: 0.0009\n",
            "Training metric: 0.9444\n",
            "perturbation loss: 0.0027\n",
            "Validation acc: 0.9333\n",
            "\n",
            "Start of epoch 652\n"
          ]
        },
        {
          "output_type": "stream",
          "name": "stderr",
          "text": [
            "\r 65%|██████▌   | 653/1000 [40:48<21:49,  3.77s/it]"
          ]
        },
        {
          "output_type": "stream",
          "name": "stdout",
          "text": [
            "Training loss: 0.0003\n",
            "Training metric: 0.9445\n",
            "perturbation loss: 0.0021\n",
            "Validation acc: 0.9400\n",
            "\n",
            "Start of epoch 653\n"
          ]
        },
        {
          "output_type": "stream",
          "name": "stderr",
          "text": [
            "\r 65%|██████▌   | 654/1000 [40:51<21:50,  3.79s/it]"
          ]
        },
        {
          "output_type": "stream",
          "name": "stdout",
          "text": [
            "Training loss: 0.0011\n",
            "Training metric: 0.9446\n",
            "perturbation loss: 0.0025\n",
            "Validation acc: 0.9400\n",
            "\n",
            "Start of epoch 654\n"
          ]
        },
        {
          "output_type": "stream",
          "name": "stderr",
          "text": [
            "\r 66%|██████▌   | 655/1000 [40:55<21:42,  3.77s/it]"
          ]
        },
        {
          "output_type": "stream",
          "name": "stdout",
          "text": [
            "Training loss: 0.0002\n",
            "Training metric: 0.9446\n",
            "perturbation loss: 0.0018\n",
            "Validation acc: 0.9533\n",
            "\n",
            "Start of epoch 655\n"
          ]
        },
        {
          "output_type": "stream",
          "name": "stderr",
          "text": [
            "\r 66%|██████▌   | 656/1000 [40:59<21:34,  3.76s/it]"
          ]
        },
        {
          "output_type": "stream",
          "name": "stdout",
          "text": [
            "Training loss: 0.0005\n",
            "Training metric: 0.9447\n",
            "perturbation loss: 0.0025\n",
            "Validation acc: 0.9533\n",
            "\n",
            "Start of epoch 656\n"
          ]
        },
        {
          "output_type": "stream",
          "name": "stderr",
          "text": [
            "\r 66%|██████▌   | 657/1000 [41:03<21:28,  3.76s/it]"
          ]
        },
        {
          "output_type": "stream",
          "name": "stdout",
          "text": [
            "Training loss: 0.0004\n",
            "Training metric: 0.9448\n",
            "perturbation loss: 0.0016\n",
            "Validation acc: 0.9400\n",
            "\n",
            "Start of epoch 657\n"
          ]
        },
        {
          "output_type": "stream",
          "name": "stderr",
          "text": [
            "\r 66%|██████▌   | 658/1000 [41:06<21:27,  3.77s/it]"
          ]
        },
        {
          "output_type": "stream",
          "name": "stdout",
          "text": [
            "Training loss: 0.0003\n",
            "Training metric: 0.9449\n",
            "perturbation loss: 0.0026\n",
            "Validation acc: 0.9333\n",
            "\n",
            "Start of epoch 658\n"
          ]
        },
        {
          "output_type": "stream",
          "name": "stderr",
          "text": [
            "\r 66%|██████▌   | 659/1000 [41:10<21:22,  3.76s/it]"
          ]
        },
        {
          "output_type": "stream",
          "name": "stdout",
          "text": [
            "Training loss: 0.0002\n",
            "Training metric: 0.9450\n",
            "perturbation loss: 0.0020\n",
            "Validation acc: 0.9333\n",
            "\n",
            "Start of epoch 659\n"
          ]
        },
        {
          "output_type": "stream",
          "name": "stderr",
          "text": [
            "\r 66%|██████▌   | 660/1000 [41:14<21:16,  3.75s/it]"
          ]
        },
        {
          "output_type": "stream",
          "name": "stdout",
          "text": [
            "Training loss: 0.0001\n",
            "Training metric: 0.9451\n",
            "perturbation loss: 0.0009\n",
            "Validation acc: 0.9333\n",
            "\n",
            "Start of epoch 660\n"
          ]
        },
        {
          "output_type": "stream",
          "name": "stderr",
          "text": [
            "\r 66%|██████▌   | 661/1000 [41:18<21:10,  3.75s/it]"
          ]
        },
        {
          "output_type": "stream",
          "name": "stdout",
          "text": [
            "Training loss: 0.0002\n",
            "Training metric: 0.9451\n",
            "perturbation loss: 0.0020\n",
            "Validation acc: 0.9400\n",
            "\n",
            "Start of epoch 661\n"
          ]
        },
        {
          "output_type": "stream",
          "name": "stderr",
          "text": [
            "\r 66%|██████▌   | 662/1000 [41:21<21:13,  3.77s/it]"
          ]
        },
        {
          "output_type": "stream",
          "name": "stdout",
          "text": [
            "Training loss: 0.0002\n",
            "Training metric: 0.9452\n",
            "perturbation loss: 0.0021\n",
            "Validation acc: 0.9333\n",
            "\n",
            "Start of epoch 662\n"
          ]
        },
        {
          "output_type": "stream",
          "name": "stderr",
          "text": [
            "\r 66%|██████▋   | 663/1000 [41:25<21:06,  3.76s/it]"
          ]
        },
        {
          "output_type": "stream",
          "name": "stdout",
          "text": [
            "Training loss: 0.0003\n",
            "Training metric: 0.9453\n",
            "perturbation loss: 0.0021\n",
            "Validation acc: 0.9400\n",
            "\n",
            "Start of epoch 663\n"
          ]
        },
        {
          "output_type": "stream",
          "name": "stderr",
          "text": [
            "\r 66%|██████▋   | 664/1000 [41:29<20:59,  3.75s/it]"
          ]
        },
        {
          "output_type": "stream",
          "name": "stdout",
          "text": [
            "Training loss: 0.0001\n",
            "Training metric: 0.9454\n",
            "perturbation loss: 0.0007\n",
            "Validation acc: 0.9400\n",
            "\n",
            "Start of epoch 664\n"
          ]
        },
        {
          "output_type": "stream",
          "name": "stderr",
          "text": [
            "\r 66%|██████▋   | 665/1000 [41:33<21:02,  3.77s/it]"
          ]
        },
        {
          "output_type": "stream",
          "name": "stdout",
          "text": [
            "Training loss: 0.0001\n",
            "Training metric: 0.9455\n",
            "perturbation loss: 0.0010\n",
            "Validation acc: 0.9400\n",
            "\n",
            "Start of epoch 665\n"
          ]
        },
        {
          "output_type": "stream",
          "name": "stderr",
          "text": [
            "\r 67%|██████▋   | 666/1000 [41:36<20:55,  3.76s/it]"
          ]
        },
        {
          "output_type": "stream",
          "name": "stdout",
          "text": [
            "Training loss: 0.0002\n",
            "Training metric: 0.9456\n",
            "perturbation loss: 0.0019\n",
            "Validation acc: 0.9533\n",
            "\n",
            "Start of epoch 666\n"
          ]
        },
        {
          "output_type": "stream",
          "name": "stderr",
          "text": [
            "\r 67%|██████▋   | 667/1000 [41:40<20:49,  3.75s/it]"
          ]
        },
        {
          "output_type": "stream",
          "name": "stdout",
          "text": [
            "Training loss: 0.0001\n",
            "Training metric: 0.9456\n",
            "perturbation loss: 0.0005\n",
            "Validation acc: 0.9333\n",
            "\n",
            "Start of epoch 667\n"
          ]
        },
        {
          "output_type": "stream",
          "name": "stderr",
          "text": [
            "\r 67%|██████▋   | 668/1000 [41:44<20:43,  3.75s/it]"
          ]
        },
        {
          "output_type": "stream",
          "name": "stdout",
          "text": [
            "Training loss: 0.0000\n",
            "Training metric: 0.9457\n",
            "perturbation loss: 0.0009\n",
            "Validation acc: 0.9200\n",
            "\n",
            "Start of epoch 668\n"
          ]
        },
        {
          "output_type": "stream",
          "name": "stderr",
          "text": [
            "\r 67%|██████▋   | 669/1000 [41:48<20:46,  3.76s/it]"
          ]
        },
        {
          "output_type": "stream",
          "name": "stdout",
          "text": [
            "Training loss: 0.0001\n",
            "Training metric: 0.9458\n",
            "perturbation loss: 0.0006\n",
            "Validation acc: 0.9333\n",
            "\n",
            "Start of epoch 669\n"
          ]
        },
        {
          "output_type": "stream",
          "name": "stderr",
          "text": [
            "\r 67%|██████▋   | 670/1000 [41:51<20:39,  3.76s/it]"
          ]
        },
        {
          "output_type": "stream",
          "name": "stdout",
          "text": [
            "Training loss: 0.0001\n",
            "Training metric: 0.9459\n",
            "perturbation loss: 0.0015\n",
            "Validation acc: 0.9400\n",
            "\n",
            "Start of epoch 670\n"
          ]
        },
        {
          "output_type": "stream",
          "name": "stderr",
          "text": [
            "\r 67%|██████▋   | 671/1000 [41:55<20:34,  3.75s/it]"
          ]
        },
        {
          "output_type": "stream",
          "name": "stdout",
          "text": [
            "Training loss: 0.0002\n",
            "Training metric: 0.9460\n",
            "perturbation loss: 0.0008\n",
            "Validation acc: 0.9400\n",
            "\n",
            "Start of epoch 671\n"
          ]
        },
        {
          "output_type": "stream",
          "name": "stderr",
          "text": [
            "\r 67%|██████▋   | 672/1000 [41:59<20:28,  3.75s/it]"
          ]
        },
        {
          "output_type": "stream",
          "name": "stdout",
          "text": [
            "Training loss: 0.0002\n",
            "Training metric: 0.9460\n",
            "perturbation loss: 0.0014\n",
            "Validation acc: 0.9467\n",
            "\n",
            "Start of epoch 672\n"
          ]
        },
        {
          "output_type": "stream",
          "name": "stderr",
          "text": [
            "\r 67%|██████▋   | 673/1000 [42:03<20:30,  3.76s/it]"
          ]
        },
        {
          "output_type": "stream",
          "name": "stdout",
          "text": [
            "Training loss: 0.0001\n",
            "Training metric: 0.9461\n",
            "perturbation loss: 0.0009\n",
            "Validation acc: 0.9600\n",
            "\n",
            "Start of epoch 673\n"
          ]
        },
        {
          "output_type": "stream",
          "name": "stderr",
          "text": [
            "\r 67%|██████▋   | 674/1000 [42:06<20:23,  3.75s/it]"
          ]
        },
        {
          "output_type": "stream",
          "name": "stdout",
          "text": [
            "Training loss: 0.0002\n",
            "Training metric: 0.9462\n",
            "perturbation loss: 0.0016\n",
            "Validation acc: 0.9467\n",
            "\n",
            "Start of epoch 674\n"
          ]
        },
        {
          "output_type": "stream",
          "name": "stderr",
          "text": [
            "\r 68%|██████▊   | 675/1000 [42:10<20:18,  3.75s/it]"
          ]
        },
        {
          "output_type": "stream",
          "name": "stdout",
          "text": [
            "Training loss: 0.0003\n",
            "Training metric: 0.9463\n",
            "perturbation loss: 0.0032\n",
            "Validation acc: 0.9400\n",
            "\n",
            "Start of epoch 675\n"
          ]
        },
        {
          "output_type": "stream",
          "name": "stderr",
          "text": [
            "\r 68%|██████▊   | 676/1000 [42:14<20:16,  3.75s/it]"
          ]
        },
        {
          "output_type": "stream",
          "name": "stdout",
          "text": [
            "Training loss: 0.0001\n",
            "Training metric: 0.9464\n",
            "perturbation loss: 0.0010\n",
            "Validation acc: 0.9400\n",
            "\n",
            "Start of epoch 676\n"
          ]
        },
        {
          "output_type": "stream",
          "name": "stderr",
          "text": [
            "\r 68%|██████▊   | 677/1000 [42:18<20:11,  3.75s/it]"
          ]
        },
        {
          "output_type": "stream",
          "name": "stdout",
          "text": [
            "Training loss: 0.0001\n",
            "Training metric: 0.9464\n",
            "perturbation loss: 0.0022\n",
            "Validation acc: 0.9600\n",
            "\n",
            "Start of epoch 677\n"
          ]
        },
        {
          "output_type": "stream",
          "name": "stderr",
          "text": [
            "\r 68%|██████▊   | 678/1000 [42:21<20:06,  3.75s/it]"
          ]
        },
        {
          "output_type": "stream",
          "name": "stdout",
          "text": [
            "Training loss: 0.0031\n",
            "Training metric: 0.9465\n",
            "perturbation loss: 0.0118\n",
            "Validation acc: 0.9133\n",
            "\n",
            "Start of epoch 678\n"
          ]
        },
        {
          "output_type": "stream",
          "name": "stderr",
          "text": [
            "\r 68%|██████▊   | 679/1000 [42:25<20:01,  3.74s/it]"
          ]
        },
        {
          "output_type": "stream",
          "name": "stdout",
          "text": [
            "Training loss: 0.0185\n",
            "Training metric: 0.9466\n",
            "perturbation loss: 0.0631\n",
            "Validation acc: 0.8667\n",
            "\n",
            "Start of epoch 679\n"
          ]
        },
        {
          "output_type": "stream",
          "name": "stderr",
          "text": [
            "\r 68%|██████▊   | 680/1000 [42:29<20:04,  3.76s/it]"
          ]
        },
        {
          "output_type": "stream",
          "name": "stdout",
          "text": [
            "Training loss: 0.0024\n",
            "Training metric: 0.9467\n",
            "perturbation loss: 0.0181\n",
            "Validation acc: 0.8933\n",
            "\n",
            "Start of epoch 680\n"
          ]
        },
        {
          "output_type": "stream",
          "name": "stderr",
          "text": [
            "\r 68%|██████▊   | 681/1000 [42:33<19:58,  3.76s/it]"
          ]
        },
        {
          "output_type": "stream",
          "name": "stdout",
          "text": [
            "Training loss: 0.0035\n",
            "Training metric: 0.9467\n",
            "perturbation loss: 0.0302\n",
            "Validation acc: 0.9067\n",
            "\n",
            "Start of epoch 681\n"
          ]
        },
        {
          "output_type": "stream",
          "name": "stderr",
          "text": [
            "\r 68%|██████▊   | 682/1000 [42:36<19:52,  3.75s/it]"
          ]
        },
        {
          "output_type": "stream",
          "name": "stdout",
          "text": [
            "Training loss: 0.0033\n",
            "Training metric: 0.9468\n",
            "perturbation loss: 0.0114\n",
            "Validation acc: 0.9267\n",
            "\n",
            "Start of epoch 682\n"
          ]
        },
        {
          "output_type": "stream",
          "name": "stderr",
          "text": [
            "\r 68%|██████▊   | 683/1000 [42:40<19:55,  3.77s/it]"
          ]
        },
        {
          "output_type": "stream",
          "name": "stdout",
          "text": [
            "Training loss: 0.0166\n",
            "Training metric: 0.9469\n",
            "perturbation loss: 0.0442\n",
            "Validation acc: 0.9067\n",
            "\n",
            "Start of epoch 683\n"
          ]
        },
        {
          "output_type": "stream",
          "name": "stderr",
          "text": [
            "\r 68%|██████▊   | 684/1000 [42:44<19:48,  3.76s/it]"
          ]
        },
        {
          "output_type": "stream",
          "name": "stdout",
          "text": [
            "Training loss: 0.0006\n",
            "Training metric: 0.9469\n",
            "perturbation loss: 0.0038\n",
            "Validation acc: 0.9200\n",
            "\n",
            "Start of epoch 684\n"
          ]
        },
        {
          "output_type": "stream",
          "name": "stderr",
          "text": [
            "\r 68%|██████▊   | 685/1000 [42:48<19:42,  3.75s/it]"
          ]
        },
        {
          "output_type": "stream",
          "name": "stdout",
          "text": [
            "Training loss: 0.0039\n",
            "Training metric: 0.9470\n",
            "perturbation loss: 0.0107\n",
            "Validation acc: 0.9200\n",
            "\n",
            "Start of epoch 685\n"
          ]
        },
        {
          "output_type": "stream",
          "name": "stderr",
          "text": [
            "\r 69%|██████▊   | 686/1000 [42:52<19:36,  3.75s/it]"
          ]
        },
        {
          "output_type": "stream",
          "name": "stdout",
          "text": [
            "Training loss: 0.0005\n",
            "Training metric: 0.9471\n",
            "perturbation loss: 0.0112\n",
            "Validation acc: 0.9133\n",
            "\n",
            "Start of epoch 686\n"
          ]
        },
        {
          "output_type": "stream",
          "name": "stderr",
          "text": [
            "\r 69%|██████▊   | 687/1000 [42:55<19:39,  3.77s/it]"
          ]
        },
        {
          "output_type": "stream",
          "name": "stdout",
          "text": [
            "Training loss: 0.0013\n",
            "Training metric: 0.9472\n",
            "perturbation loss: 0.0042\n",
            "Validation acc: 0.9267\n",
            "\n",
            "Start of epoch 687\n"
          ]
        },
        {
          "output_type": "stream",
          "name": "stderr",
          "text": [
            "\r 69%|██████▉   | 688/1000 [42:59<19:33,  3.76s/it]"
          ]
        },
        {
          "output_type": "stream",
          "name": "stdout",
          "text": [
            "Training loss: 0.0004\n",
            "Training metric: 0.9472\n",
            "perturbation loss: 0.0023\n",
            "Validation acc: 0.9267\n",
            "\n",
            "Start of epoch 688\n"
          ]
        },
        {
          "output_type": "stream",
          "name": "stderr",
          "text": [
            "\r 69%|██████▉   | 689/1000 [43:03<19:27,  3.75s/it]"
          ]
        },
        {
          "output_type": "stream",
          "name": "stdout",
          "text": [
            "Training loss: 0.0002\n",
            "Training metric: 0.9473\n",
            "perturbation loss: 0.0019\n",
            "Validation acc: 0.9200\n",
            "\n",
            "Start of epoch 689\n"
          ]
        },
        {
          "output_type": "stream",
          "name": "stderr",
          "text": [
            "\r 69%|██████▉   | 690/1000 [43:07<19:22,  3.75s/it]"
          ]
        },
        {
          "output_type": "stream",
          "name": "stdout",
          "text": [
            "Training loss: 0.0002\n",
            "Training metric: 0.9474\n",
            "perturbation loss: 0.0023\n",
            "Validation acc: 0.9200\n",
            "\n",
            "Start of epoch 690\n"
          ]
        },
        {
          "output_type": "stream",
          "name": "stderr",
          "text": [
            "\r 69%|██████▉   | 691/1000 [43:10<19:24,  3.77s/it]"
          ]
        },
        {
          "output_type": "stream",
          "name": "stdout",
          "text": [
            "Training loss: 0.0005\n",
            "Training metric: 0.9475\n",
            "perturbation loss: 0.0046\n",
            "Validation acc: 0.9200\n",
            "\n",
            "Start of epoch 691\n"
          ]
        },
        {
          "output_type": "stream",
          "name": "stderr",
          "text": [
            "\r 69%|██████▉   | 692/1000 [43:14<19:18,  3.76s/it]"
          ]
        },
        {
          "output_type": "stream",
          "name": "stdout",
          "text": [
            "Training loss: 0.0002\n",
            "Training metric: 0.9476\n",
            "perturbation loss: 0.0014\n",
            "Validation acc: 0.9200\n",
            "\n",
            "Start of epoch 692\n"
          ]
        },
        {
          "output_type": "stream",
          "name": "stderr",
          "text": [
            "\r 69%|██████▉   | 693/1000 [43:18<19:12,  3.76s/it]"
          ]
        },
        {
          "output_type": "stream",
          "name": "stdout",
          "text": [
            "Training loss: 0.0001\n",
            "Training metric: 0.9476\n",
            "perturbation loss: 0.0009\n",
            "Validation acc: 0.9200\n",
            "\n",
            "Start of epoch 693\n"
          ]
        },
        {
          "output_type": "stream",
          "name": "stderr",
          "text": [
            "\r 69%|██████▉   | 694/1000 [43:22<19:15,  3.78s/it]"
          ]
        },
        {
          "output_type": "stream",
          "name": "stdout",
          "text": [
            "Training loss: 0.0003\n",
            "Training metric: 0.9477\n",
            "perturbation loss: 0.0017\n",
            "Validation acc: 0.9200\n",
            "\n",
            "Start of epoch 694\n"
          ]
        },
        {
          "output_type": "stream",
          "name": "stderr",
          "text": [
            "\r 70%|██████▉   | 695/1000 [43:25<19:08,  3.77s/it]"
          ]
        },
        {
          "output_type": "stream",
          "name": "stdout",
          "text": [
            "Training loss: 0.0001\n",
            "Training metric: 0.9478\n",
            "perturbation loss: 0.0011\n",
            "Validation acc: 0.9200\n",
            "\n",
            "Start of epoch 695\n"
          ]
        },
        {
          "output_type": "stream",
          "name": "stderr",
          "text": [
            "\r 70%|██████▉   | 696/1000 [43:29<19:01,  3.76s/it]"
          ]
        },
        {
          "output_type": "stream",
          "name": "stdout",
          "text": [
            "Training loss: 0.0001\n",
            "Training metric: 0.9479\n",
            "perturbation loss: 0.0006\n",
            "Validation acc: 0.9200\n",
            "\n",
            "Start of epoch 696\n"
          ]
        },
        {
          "output_type": "stream",
          "name": "stderr",
          "text": [
            "\r 70%|██████▉   | 697/1000 [43:33<18:56,  3.75s/it]"
          ]
        },
        {
          "output_type": "stream",
          "name": "stdout",
          "text": [
            "Training loss: 0.0002\n",
            "Training metric: 0.9479\n",
            "perturbation loss: 0.0013\n",
            "Validation acc: 0.9200\n",
            "\n",
            "Start of epoch 697\n"
          ]
        },
        {
          "output_type": "stream",
          "name": "stderr",
          "text": [
            "\r 70%|██████▉   | 698/1000 [43:37<18:59,  3.77s/it]"
          ]
        },
        {
          "output_type": "stream",
          "name": "stdout",
          "text": [
            "Training loss: 0.0002\n",
            "Training metric: 0.9480\n",
            "perturbation loss: 0.0014\n",
            "Validation acc: 0.9200\n",
            "\n",
            "Start of epoch 698\n"
          ]
        },
        {
          "output_type": "stream",
          "name": "stderr",
          "text": [
            "\r 70%|██████▉   | 699/1000 [43:40<18:52,  3.76s/it]"
          ]
        },
        {
          "output_type": "stream",
          "name": "stdout",
          "text": [
            "Training loss: 0.0002\n",
            "Training metric: 0.9481\n",
            "perturbation loss: 0.0009\n",
            "Validation acc: 0.9200\n",
            "\n",
            "Start of epoch 699\n"
          ]
        },
        {
          "output_type": "stream",
          "name": "stderr",
          "text": [
            "\r 70%|███████   | 700/1000 [43:44<18:46,  3.76s/it]"
          ]
        },
        {
          "output_type": "stream",
          "name": "stdout",
          "text": [
            "Training loss: 0.0001\n",
            "Training metric: 0.9482\n",
            "perturbation loss: 0.0012\n",
            "Validation acc: 0.9200\n",
            "\n",
            "Start of epoch 700\n"
          ]
        },
        {
          "output_type": "stream",
          "name": "stderr",
          "text": [
            "\r 70%|███████   | 701/1000 [43:48<18:47,  3.77s/it]"
          ]
        },
        {
          "output_type": "stream",
          "name": "stdout",
          "text": [
            "Training loss: 0.0001\n",
            "Training metric: 0.9482\n",
            "perturbation loss: 0.0009\n",
            "Validation acc: 0.9200\n",
            "\n",
            "Start of epoch 701\n"
          ]
        },
        {
          "output_type": "stream",
          "name": "stderr",
          "text": [
            "\r 70%|███████   | 702/1000 [43:52<18:47,  3.78s/it]"
          ]
        },
        {
          "output_type": "stream",
          "name": "stdout",
          "text": [
            "Training loss: 0.0001\n",
            "Training metric: 0.9483\n",
            "perturbation loss: 0.0008\n",
            "Validation acc: 0.9200\n",
            "\n",
            "Start of epoch 702\n"
          ]
        },
        {
          "output_type": "stream",
          "name": "stderr",
          "text": [
            "\r 70%|███████   | 703/1000 [43:56<18:40,  3.77s/it]"
          ]
        },
        {
          "output_type": "stream",
          "name": "stdout",
          "text": [
            "Training loss: 0.0001\n",
            "Training metric: 0.9484\n",
            "perturbation loss: 0.0007\n",
            "Validation acc: 0.9267\n",
            "\n",
            "Start of epoch 703\n"
          ]
        },
        {
          "output_type": "stream",
          "name": "stderr",
          "text": [
            "\r 70%|███████   | 704/1000 [43:59<18:33,  3.76s/it]"
          ]
        },
        {
          "output_type": "stream",
          "name": "stdout",
          "text": [
            "Training loss: 0.0002\n",
            "Training metric: 0.9484\n",
            "perturbation loss: 0.0013\n",
            "Validation acc: 0.9267\n",
            "\n",
            "Start of epoch 704\n"
          ]
        },
        {
          "output_type": "stream",
          "name": "stderr",
          "text": [
            "\r 70%|███████   | 705/1000 [44:03<18:34,  3.78s/it]"
          ]
        },
        {
          "output_type": "stream",
          "name": "stdout",
          "text": [
            "Training loss: 0.0002\n",
            "Training metric: 0.9485\n",
            "perturbation loss: 0.0010\n",
            "Validation acc: 0.9200\n",
            "\n",
            "Start of epoch 705\n"
          ]
        },
        {
          "output_type": "stream",
          "name": "stderr",
          "text": [
            "\r 71%|███████   | 706/1000 [44:07<18:27,  3.77s/it]"
          ]
        },
        {
          "output_type": "stream",
          "name": "stdout",
          "text": [
            "Training loss: 0.0001\n",
            "Training metric: 0.9486\n",
            "perturbation loss: 0.0006\n",
            "Validation acc: 0.9200\n",
            "\n",
            "Start of epoch 706\n"
          ]
        },
        {
          "output_type": "stream",
          "name": "stderr",
          "text": [
            "\r 71%|███████   | 707/1000 [44:11<18:20,  3.76s/it]"
          ]
        },
        {
          "output_type": "stream",
          "name": "stdout",
          "text": [
            "Training loss: 0.0001\n",
            "Training metric: 0.9487\n",
            "perturbation loss: 0.0007\n",
            "Validation acc: 0.9200\n",
            "\n",
            "Start of epoch 707\n"
          ]
        },
        {
          "output_type": "stream",
          "name": "stderr",
          "text": [
            "\r 71%|███████   | 708/1000 [44:14<18:15,  3.75s/it]"
          ]
        },
        {
          "output_type": "stream",
          "name": "stdout",
          "text": [
            "Training loss: 0.0000\n",
            "Training metric: 0.9487\n",
            "perturbation loss: 0.0004\n",
            "Validation acc: 0.9267\n",
            "\n",
            "Start of epoch 708\n"
          ]
        },
        {
          "output_type": "stream",
          "name": "stderr",
          "text": [
            "\r 71%|███████   | 709/1000 [44:18<18:17,  3.77s/it]"
          ]
        },
        {
          "output_type": "stream",
          "name": "stdout",
          "text": [
            "Training loss: 0.0000\n",
            "Training metric: 0.9488\n",
            "perturbation loss: 0.0004\n",
            "Validation acc: 0.9333\n",
            "\n",
            "Start of epoch 709\n"
          ]
        },
        {
          "output_type": "stream",
          "name": "stderr",
          "text": [
            "\r 71%|███████   | 710/1000 [44:22<18:11,  3.76s/it]"
          ]
        },
        {
          "output_type": "stream",
          "name": "stdout",
          "text": [
            "Training loss: 0.0001\n",
            "Training metric: 0.9489\n",
            "perturbation loss: 0.0012\n",
            "Validation acc: 0.9267\n",
            "\n",
            "Start of epoch 710\n"
          ]
        },
        {
          "output_type": "stream",
          "name": "stderr",
          "text": [
            "\r 71%|███████   | 711/1000 [44:26<18:05,  3.76s/it]"
          ]
        },
        {
          "output_type": "stream",
          "name": "stdout",
          "text": [
            "Training loss: 0.0000\n",
            "Training metric: 0.9490\n",
            "perturbation loss: 0.0005\n",
            "Validation acc: 0.9333\n",
            "\n",
            "Start of epoch 711\n"
          ]
        },
        {
          "output_type": "stream",
          "name": "stderr",
          "text": [
            "\r 71%|███████   | 712/1000 [44:29<18:00,  3.75s/it]"
          ]
        },
        {
          "output_type": "stream",
          "name": "stdout",
          "text": [
            "Training loss: 0.0000\n",
            "Training metric: 0.9490\n",
            "perturbation loss: 0.0002\n",
            "Validation acc: 0.9333\n",
            "\n",
            "Start of epoch 712\n"
          ]
        },
        {
          "output_type": "stream",
          "name": "stderr",
          "text": [
            "\r 71%|███████▏  | 713/1000 [44:33<17:58,  3.76s/it]"
          ]
        },
        {
          "output_type": "stream",
          "name": "stdout",
          "text": [
            "Training loss: 0.0001\n",
            "Training metric: 0.9491\n",
            "perturbation loss: 0.0008\n",
            "Validation acc: 0.9333\n",
            "\n",
            "Start of epoch 713\n"
          ]
        },
        {
          "output_type": "stream",
          "name": "stderr",
          "text": [
            "\r 71%|███████▏  | 714/1000 [44:37<17:52,  3.75s/it]"
          ]
        },
        {
          "output_type": "stream",
          "name": "stdout",
          "text": [
            "Training loss: 0.0001\n",
            "Training metric: 0.9492\n",
            "perturbation loss: 0.0012\n",
            "Validation acc: 0.8933\n",
            "\n",
            "Start of epoch 714\n"
          ]
        },
        {
          "output_type": "stream",
          "name": "stderr",
          "text": [
            "\r 72%|███████▏  | 715/1000 [44:41<17:47,  3.75s/it]"
          ]
        },
        {
          "output_type": "stream",
          "name": "stdout",
          "text": [
            "Training loss: 0.0013\n",
            "Training metric: 0.9492\n",
            "perturbation loss: 0.0066\n",
            "Validation acc: 0.9200\n",
            "\n",
            "Start of epoch 715\n"
          ]
        },
        {
          "output_type": "stream",
          "name": "stderr",
          "text": [
            "\r 72%|███████▏  | 716/1000 [44:44<17:49,  3.77s/it]"
          ]
        },
        {
          "output_type": "stream",
          "name": "stdout",
          "text": [
            "Training loss: 0.0035\n",
            "Training metric: 0.9493\n",
            "perturbation loss: 0.0210\n",
            "Validation acc: 0.9133\n",
            "\n",
            "Start of epoch 716\n"
          ]
        },
        {
          "output_type": "stream",
          "name": "stderr",
          "text": [
            "\r 72%|███████▏  | 717/1000 [44:48<17:43,  3.76s/it]"
          ]
        },
        {
          "output_type": "stream",
          "name": "stdout",
          "text": [
            "Training loss: 0.0019\n",
            "Training metric: 0.9494\n",
            "perturbation loss: 0.0130\n",
            "Validation acc: 0.9067\n",
            "\n",
            "Start of epoch 717\n"
          ]
        },
        {
          "output_type": "stream",
          "name": "stderr",
          "text": [
            "\r 72%|███████▏  | 718/1000 [44:52<17:37,  3.75s/it]"
          ]
        },
        {
          "output_type": "stream",
          "name": "stdout",
          "text": [
            "Training loss: 0.0055\n",
            "Training metric: 0.9494\n",
            "perturbation loss: 0.0479\n",
            "Validation acc: 0.9200\n",
            "\n",
            "Start of epoch 718\n"
          ]
        },
        {
          "output_type": "stream",
          "name": "stderr",
          "text": [
            "\r 72%|███████▏  | 719/1000 [44:56<17:32,  3.75s/it]"
          ]
        },
        {
          "output_type": "stream",
          "name": "stdout",
          "text": [
            "Training loss: 0.0271\n",
            "Training metric: 0.9495\n",
            "perturbation loss: 0.0431\n",
            "Validation acc: 0.9333\n",
            "\n",
            "Start of epoch 719\n"
          ]
        },
        {
          "output_type": "stream",
          "name": "stderr",
          "text": [
            "\r 72%|███████▏  | 720/1000 [44:59<17:34,  3.77s/it]"
          ]
        },
        {
          "output_type": "stream",
          "name": "stdout",
          "text": [
            "Training loss: 0.0012\n",
            "Training metric: 0.9495\n",
            "perturbation loss: 0.0069\n",
            "Validation acc: 0.9267\n",
            "\n",
            "Start of epoch 720\n"
          ]
        },
        {
          "output_type": "stream",
          "name": "stderr",
          "text": [
            "\r 72%|███████▏  | 721/1000 [45:03<17:28,  3.76s/it]"
          ]
        },
        {
          "output_type": "stream",
          "name": "stdout",
          "text": [
            "Training loss: 0.0043\n",
            "Training metric: 0.9496\n",
            "perturbation loss: 0.0167\n",
            "Validation acc: 0.9333\n",
            "\n",
            "Start of epoch 721\n"
          ]
        },
        {
          "output_type": "stream",
          "name": "stderr",
          "text": [
            "\r 72%|███████▏  | 722/1000 [45:07<17:22,  3.75s/it]"
          ]
        },
        {
          "output_type": "stream",
          "name": "stdout",
          "text": [
            "Training loss: 0.0109\n",
            "Training metric: 0.9497\n",
            "perturbation loss: 0.0390\n",
            "Validation acc: 0.9133\n",
            "\n",
            "Start of epoch 722\n"
          ]
        },
        {
          "output_type": "stream",
          "name": "stderr",
          "text": [
            "\r 72%|███████▏  | 723/1000 [45:11<17:16,  3.74s/it]"
          ]
        },
        {
          "output_type": "stream",
          "name": "stdout",
          "text": [
            "Training loss: 0.0359\n",
            "Training metric: 0.9497\n",
            "perturbation loss: 0.0413\n",
            "Validation acc: 0.9133\n",
            "\n",
            "Start of epoch 723\n"
          ]
        },
        {
          "output_type": "stream",
          "name": "stderr",
          "text": [
            "\r 72%|███████▏  | 724/1000 [45:14<17:15,  3.75s/it]"
          ]
        },
        {
          "output_type": "stream",
          "name": "stdout",
          "text": [
            "Training loss: 0.0080\n",
            "Training metric: 0.9498\n",
            "perturbation loss: 0.0331\n",
            "Validation acc: 0.9133\n",
            "\n",
            "Start of epoch 724\n"
          ]
        },
        {
          "output_type": "stream",
          "name": "stderr",
          "text": [
            "\r 72%|███████▎  | 725/1000 [45:18<17:10,  3.75s/it]"
          ]
        },
        {
          "output_type": "stream",
          "name": "stdout",
          "text": [
            "Training loss: 0.1361\n",
            "Training metric: 0.9498\n",
            "perturbation loss: 0.0364\n",
            "Validation acc: 0.9400\n",
            "\n",
            "Start of epoch 725\n"
          ]
        },
        {
          "output_type": "stream",
          "name": "stderr",
          "text": [
            "\r 73%|███████▎  | 726/1000 [45:22<17:05,  3.74s/it]"
          ]
        },
        {
          "output_type": "stream",
          "name": "stdout",
          "text": [
            "Training loss: 0.0025\n",
            "Training metric: 0.9499\n",
            "perturbation loss: 0.0141\n",
            "Validation acc: 0.9467\n",
            "\n",
            "Start of epoch 726\n"
          ]
        },
        {
          "output_type": "stream",
          "name": "stderr",
          "text": [
            "\r 73%|███████▎  | 727/1000 [45:26<17:07,  3.76s/it]"
          ]
        },
        {
          "output_type": "stream",
          "name": "stdout",
          "text": [
            "Training loss: 0.0030\n",
            "Training metric: 0.9499\n",
            "perturbation loss: 0.0124\n",
            "Validation acc: 0.9400\n",
            "\n",
            "Start of epoch 727\n"
          ]
        },
        {
          "output_type": "stream",
          "name": "stderr",
          "text": [
            "\r 73%|███████▎  | 728/1000 [45:29<17:01,  3.76s/it]"
          ]
        },
        {
          "output_type": "stream",
          "name": "stdout",
          "text": [
            "Training loss: 0.0012\n",
            "Training metric: 0.9500\n",
            "perturbation loss: 0.0090\n",
            "Validation acc: 0.9467\n",
            "\n",
            "Start of epoch 728\n"
          ]
        },
        {
          "output_type": "stream",
          "name": "stderr",
          "text": [
            "\r 73%|███████▎  | 729/1000 [45:33<16:55,  3.75s/it]"
          ]
        },
        {
          "output_type": "stream",
          "name": "stdout",
          "text": [
            "Training loss: 0.0004\n",
            "Training metric: 0.9501\n",
            "perturbation loss: 0.0032\n",
            "Validation acc: 0.9400\n",
            "\n",
            "Start of epoch 729\n"
          ]
        },
        {
          "output_type": "stream",
          "name": "stderr",
          "text": [
            "\r 73%|███████▎  | 730/1000 [45:37<16:51,  3.75s/it]"
          ]
        },
        {
          "output_type": "stream",
          "name": "stdout",
          "text": [
            "Training loss: 0.0011\n",
            "Training metric: 0.9502\n",
            "perturbation loss: 0.0089\n",
            "Validation acc: 0.9333\n",
            "\n",
            "Start of epoch 730\n"
          ]
        },
        {
          "output_type": "stream",
          "name": "stderr",
          "text": [
            "\r 73%|███████▎  | 731/1000 [45:41<16:53,  3.77s/it]"
          ]
        },
        {
          "output_type": "stream",
          "name": "stdout",
          "text": [
            "Training loss: 0.0004\n",
            "Training metric: 0.9502\n",
            "perturbation loss: 0.0031\n",
            "Validation acc: 0.9400\n",
            "\n",
            "Start of epoch 731\n"
          ]
        },
        {
          "output_type": "stream",
          "name": "stderr",
          "text": [
            "\r 73%|███████▎  | 732/1000 [45:44<16:46,  3.76s/it]"
          ]
        },
        {
          "output_type": "stream",
          "name": "stdout",
          "text": [
            "Training loss: 0.0010\n",
            "Training metric: 0.9503\n",
            "perturbation loss: 0.0050\n",
            "Validation acc: 0.9467\n",
            "\n",
            "Start of epoch 732\n"
          ]
        },
        {
          "output_type": "stream",
          "name": "stderr",
          "text": [
            "\r 73%|███████▎  | 733/1000 [45:48<16:41,  3.75s/it]"
          ]
        },
        {
          "output_type": "stream",
          "name": "stdout",
          "text": [
            "Training loss: 0.0008\n",
            "Training metric: 0.9504\n",
            "perturbation loss: 0.0037\n",
            "Validation acc: 0.9400\n",
            "\n",
            "Start of epoch 733\n"
          ]
        },
        {
          "output_type": "stream",
          "name": "stderr",
          "text": [
            "\r 73%|███████▎  | 734/1000 [45:52<16:42,  3.77s/it]"
          ]
        },
        {
          "output_type": "stream",
          "name": "stdout",
          "text": [
            "Training loss: 0.0007\n",
            "Training metric: 0.9504\n",
            "perturbation loss: 0.0075\n",
            "Validation acc: 0.9400\n",
            "\n",
            "Start of epoch 734\n"
          ]
        },
        {
          "output_type": "stream",
          "name": "stderr",
          "text": [
            "\r 74%|███████▎  | 735/1000 [45:56<16:36,  3.76s/it]"
          ]
        },
        {
          "output_type": "stream",
          "name": "stdout",
          "text": [
            "Training loss: 0.0008\n",
            "Training metric: 0.9505\n",
            "perturbation loss: 0.0088\n",
            "Validation acc: 0.9400\n",
            "\n",
            "Start of epoch 735\n"
          ]
        },
        {
          "output_type": "stream",
          "name": "stderr",
          "text": [
            "\r 74%|███████▎  | 736/1000 [45:59<16:31,  3.76s/it]"
          ]
        },
        {
          "output_type": "stream",
          "name": "stdout",
          "text": [
            "Training loss: 0.0008\n",
            "Training metric: 0.9506\n",
            "perturbation loss: 0.0034\n",
            "Validation acc: 0.9533\n",
            "\n",
            "Start of epoch 736\n"
          ]
        },
        {
          "output_type": "stream",
          "name": "stderr",
          "text": [
            "\r 74%|███████▎  | 737/1000 [46:03<16:27,  3.75s/it]"
          ]
        },
        {
          "output_type": "stream",
          "name": "stdout",
          "text": [
            "Training loss: 0.0009\n",
            "Training metric: 0.9506\n",
            "perturbation loss: 0.0095\n",
            "Validation acc: 0.9533\n",
            "\n",
            "Start of epoch 737\n"
          ]
        },
        {
          "output_type": "stream",
          "name": "stderr",
          "text": [
            "\r 74%|███████▍  | 738/1000 [46:07<16:27,  3.77s/it]"
          ]
        },
        {
          "output_type": "stream",
          "name": "stdout",
          "text": [
            "Training loss: 0.0006\n",
            "Training metric: 0.9507\n",
            "perturbation loss: 0.0041\n",
            "Validation acc: 0.9533\n",
            "\n",
            "Start of epoch 738\n"
          ]
        },
        {
          "output_type": "stream",
          "name": "stderr",
          "text": [
            "\r 74%|███████▍  | 739/1000 [46:11<16:21,  3.76s/it]"
          ]
        },
        {
          "output_type": "stream",
          "name": "stdout",
          "text": [
            "Training loss: 0.0007\n",
            "Training metric: 0.9508\n",
            "perturbation loss: 0.0057\n",
            "Validation acc: 0.9467\n",
            "\n",
            "Start of epoch 739\n"
          ]
        },
        {
          "output_type": "stream",
          "name": "stderr",
          "text": [
            "\r 74%|███████▍  | 740/1000 [46:15<16:16,  3.76s/it]"
          ]
        },
        {
          "output_type": "stream",
          "name": "stdout",
          "text": [
            "Training loss: 0.0005\n",
            "Training metric: 0.9508\n",
            "perturbation loss: 0.0053\n",
            "Validation acc: 0.9467\n",
            "\n",
            "Start of epoch 740\n"
          ]
        },
        {
          "output_type": "stream",
          "name": "stderr",
          "text": [
            "\r 74%|███████▍  | 741/1000 [46:18<16:11,  3.75s/it]"
          ]
        },
        {
          "output_type": "stream",
          "name": "stdout",
          "text": [
            "Training loss: 0.0003\n",
            "Training metric: 0.9509\n",
            "perturbation loss: 0.0022\n",
            "Validation acc: 0.9400\n",
            "\n",
            "Start of epoch 741\n"
          ]
        },
        {
          "output_type": "stream",
          "name": "stderr",
          "text": [
            "\r 74%|███████▍  | 742/1000 [46:22<16:12,  3.77s/it]"
          ]
        },
        {
          "output_type": "stream",
          "name": "stdout",
          "text": [
            "Training loss: 0.0006\n",
            "Training metric: 0.9510\n",
            "perturbation loss: 0.0089\n",
            "Validation acc: 0.9533\n",
            "\n",
            "Start of epoch 742\n"
          ]
        },
        {
          "output_type": "stream",
          "name": "stderr",
          "text": [
            "\r 74%|███████▍  | 743/1000 [46:26<16:05,  3.76s/it]"
          ]
        },
        {
          "output_type": "stream",
          "name": "stdout",
          "text": [
            "Training loss: 0.0002\n",
            "Training metric: 0.9510\n",
            "perturbation loss: 0.0015\n",
            "Validation acc: 0.9533\n",
            "\n",
            "Start of epoch 743\n"
          ]
        },
        {
          "output_type": "stream",
          "name": "stderr",
          "text": [
            "\r 74%|███████▍  | 744/1000 [46:30<16:05,  3.77s/it]"
          ]
        },
        {
          "output_type": "stream",
          "name": "stdout",
          "text": [
            "Training loss: 0.0003\n",
            "Training metric: 0.9511\n",
            "perturbation loss: 0.0043\n",
            "Validation acc: 0.9467\n",
            "\n",
            "Start of epoch 744\n"
          ]
        },
        {
          "output_type": "stream",
          "name": "stderr",
          "text": [
            "\r 74%|███████▍  | 745/1000 [46:33<16:05,  3.79s/it]"
          ]
        },
        {
          "output_type": "stream",
          "name": "stdout",
          "text": [
            "Training loss: 0.0002\n",
            "Training metric: 0.9512\n",
            "perturbation loss: 0.0017\n",
            "Validation acc: 0.9533\n",
            "\n",
            "Start of epoch 745\n"
          ]
        },
        {
          "output_type": "stream",
          "name": "stderr",
          "text": [
            "\r 75%|███████▍  | 746/1000 [46:37<15:58,  3.77s/it]"
          ]
        },
        {
          "output_type": "stream",
          "name": "stdout",
          "text": [
            "Training loss: 0.0048\n",
            "Training metric: 0.9512\n",
            "perturbation loss: 0.0039\n",
            "Validation acc: 0.9533\n",
            "\n",
            "Start of epoch 746\n"
          ]
        },
        {
          "output_type": "stream",
          "name": "stderr",
          "text": [
            "\r 75%|███████▍  | 747/1000 [46:41<15:56,  3.78s/it]"
          ]
        },
        {
          "output_type": "stream",
          "name": "stdout",
          "text": [
            "Training loss: 0.0006\n",
            "Training metric: 0.9513\n",
            "perturbation loss: 0.0054\n",
            "Validation acc: 0.9400\n",
            "\n",
            "Start of epoch 747\n"
          ]
        },
        {
          "output_type": "stream",
          "name": "stderr",
          "text": [
            "\r 75%|███████▍  | 748/1000 [46:45<15:50,  3.77s/it]"
          ]
        },
        {
          "output_type": "stream",
          "name": "stdout",
          "text": [
            "Training loss: 0.0009\n",
            "Training metric: 0.9513\n",
            "perturbation loss: 0.0071\n",
            "Validation acc: 0.9200\n",
            "\n",
            "Start of epoch 748\n"
          ]
        },
        {
          "output_type": "stream",
          "name": "stderr",
          "text": [
            "\r 75%|███████▍  | 749/1000 [46:49<15:47,  3.77s/it]"
          ]
        },
        {
          "output_type": "stream",
          "name": "stdout",
          "text": [
            "Training loss: 0.0045\n",
            "Training metric: 0.9514\n",
            "perturbation loss: 0.0503\n",
            "Validation acc: 0.9000\n",
            "\n",
            "Start of epoch 749\n"
          ]
        },
        {
          "output_type": "stream",
          "name": "stderr",
          "text": [
            "\r 75%|███████▌  | 750/1000 [46:52<15:40,  3.76s/it]"
          ]
        },
        {
          "output_type": "stream",
          "name": "stdout",
          "text": [
            "Training loss: 0.0009\n",
            "Training metric: 0.9515\n",
            "perturbation loss: 0.0068\n",
            "Validation acc: 0.9400\n",
            "\n",
            "Start of epoch 750\n"
          ]
        },
        {
          "output_type": "stream",
          "name": "stderr",
          "text": [
            "\r 75%|███████▌  | 751/1000 [46:56<15:35,  3.76s/it]"
          ]
        },
        {
          "output_type": "stream",
          "name": "stdout",
          "text": [
            "Training loss: 0.0872\n",
            "Training metric: 0.9515\n",
            "perturbation loss: 0.0718\n",
            "Validation acc: 0.9200\n",
            "\n",
            "Start of epoch 751\n"
          ]
        },
        {
          "output_type": "stream",
          "name": "stderr",
          "text": [
            "\r 75%|███████▌  | 752/1000 [47:00<15:30,  3.75s/it]"
          ]
        },
        {
          "output_type": "stream",
          "name": "stdout",
          "text": [
            "Training loss: 0.0057\n",
            "Training metric: 0.9516\n",
            "perturbation loss: 0.0375\n",
            "Validation acc: 0.9200\n",
            "\n",
            "Start of epoch 752\n"
          ]
        },
        {
          "output_type": "stream",
          "name": "stderr",
          "text": [
            "\r 75%|███████▌  | 753/1000 [47:03<15:25,  3.75s/it]"
          ]
        },
        {
          "output_type": "stream",
          "name": "stdout",
          "text": [
            "Training loss: 0.0011\n",
            "Training metric: 0.9516\n",
            "perturbation loss: 0.0070\n",
            "Validation acc: 0.9333\n",
            "\n",
            "Start of epoch 753\n"
          ]
        },
        {
          "output_type": "stream",
          "name": "stderr",
          "text": [
            "\r 75%|███████▌  | 754/1000 [47:07<15:20,  3.74s/it]"
          ]
        },
        {
          "output_type": "stream",
          "name": "stdout",
          "text": [
            "Training loss: 0.0162\n",
            "Training metric: 0.9517\n",
            "perturbation loss: 0.0698\n",
            "Validation acc: 0.9133\n",
            "\n",
            "Start of epoch 754\n"
          ]
        },
        {
          "output_type": "stream",
          "name": "stderr",
          "text": [
            "\r 76%|███████▌  | 755/1000 [47:11<15:16,  3.74s/it]"
          ]
        },
        {
          "output_type": "stream",
          "name": "stdout",
          "text": [
            "Training loss: 0.0154\n",
            "Training metric: 0.9517\n",
            "perturbation loss: 0.0235\n",
            "Validation acc: 0.9000\n",
            "\n",
            "Start of epoch 755\n"
          ]
        },
        {
          "output_type": "stream",
          "name": "stderr",
          "text": [
            "\r 76%|███████▌  | 756/1000 [47:15<15:18,  3.76s/it]"
          ]
        },
        {
          "output_type": "stream",
          "name": "stdout",
          "text": [
            "Training loss: 0.0032\n",
            "Training metric: 0.9518\n",
            "perturbation loss: 0.0279\n",
            "Validation acc: 0.9133\n",
            "\n",
            "Start of epoch 756\n"
          ]
        },
        {
          "output_type": "stream",
          "name": "stderr",
          "text": [
            "\r 76%|███████▌  | 757/1000 [47:18<15:12,  3.76s/it]"
          ]
        },
        {
          "output_type": "stream",
          "name": "stdout",
          "text": [
            "Training loss: 0.0618\n",
            "Training metric: 0.9518\n",
            "perturbation loss: 0.0102\n",
            "Validation acc: 0.9133\n",
            "\n",
            "Start of epoch 757\n"
          ]
        },
        {
          "output_type": "stream",
          "name": "stderr",
          "text": [
            "\r 76%|███████▌  | 758/1000 [47:22<15:07,  3.75s/it]"
          ]
        },
        {
          "output_type": "stream",
          "name": "stdout",
          "text": [
            "Training loss: 0.0110\n",
            "Training metric: 0.9519\n",
            "perturbation loss: 0.0416\n",
            "Validation acc: 0.9067\n",
            "\n",
            "Start of epoch 758\n"
          ]
        },
        {
          "output_type": "stream",
          "name": "stderr",
          "text": [
            "\r 76%|███████▌  | 759/1000 [47:26<15:02,  3.74s/it]"
          ]
        },
        {
          "output_type": "stream",
          "name": "stdout",
          "text": [
            "Training loss: 0.0024\n",
            "Training metric: 0.9520\n",
            "perturbation loss: 0.0515\n",
            "Validation acc: 0.9200\n",
            "\n",
            "Start of epoch 759\n"
          ]
        },
        {
          "output_type": "stream",
          "name": "stderr",
          "text": [
            "\r 76%|███████▌  | 760/1000 [47:30<15:03,  3.77s/it]"
          ]
        },
        {
          "output_type": "stream",
          "name": "stdout",
          "text": [
            "Training loss: 0.0013\n",
            "Training metric: 0.9520\n",
            "perturbation loss: 0.0089\n",
            "Validation acc: 0.9200\n",
            "\n",
            "Start of epoch 760\n"
          ]
        },
        {
          "output_type": "stream",
          "name": "stderr",
          "text": [
            "\r 76%|███████▌  | 761/1000 [47:34<14:57,  3.76s/it]"
          ]
        },
        {
          "output_type": "stream",
          "name": "stdout",
          "text": [
            "Training loss: 0.0015\n",
            "Training metric: 0.9521\n",
            "perturbation loss: 0.0090\n",
            "Validation acc: 0.9067\n",
            "\n",
            "Start of epoch 761\n"
          ]
        },
        {
          "output_type": "stream",
          "name": "stderr",
          "text": [
            "\r 76%|███████▌  | 762/1000 [47:37<14:52,  3.75s/it]"
          ]
        },
        {
          "output_type": "stream",
          "name": "stdout",
          "text": [
            "Training loss: 0.0002\n",
            "Training metric: 0.9522\n",
            "perturbation loss: 0.0026\n",
            "Validation acc: 0.9267\n",
            "\n",
            "Start of epoch 762\n"
          ]
        },
        {
          "output_type": "stream",
          "name": "stderr",
          "text": [
            "\r 76%|███████▋  | 763/1000 [47:41<14:53,  3.77s/it]"
          ]
        },
        {
          "output_type": "stream",
          "name": "stdout",
          "text": [
            "Training loss: 0.0003\n",
            "Training metric: 0.9522\n",
            "perturbation loss: 0.0034\n",
            "Validation acc: 0.9200\n",
            "\n",
            "Start of epoch 763\n"
          ]
        },
        {
          "output_type": "stream",
          "name": "stderr",
          "text": [
            "\r 76%|███████▋  | 764/1000 [47:45<14:47,  3.76s/it]"
          ]
        },
        {
          "output_type": "stream",
          "name": "stdout",
          "text": [
            "Training loss: 0.0008\n",
            "Training metric: 0.9523\n",
            "perturbation loss: 0.0037\n",
            "Validation acc: 0.9133\n",
            "\n",
            "Start of epoch 764\n"
          ]
        },
        {
          "output_type": "stream",
          "name": "stderr",
          "text": [
            "\r 76%|███████▋  | 765/1000 [47:49<14:41,  3.75s/it]"
          ]
        },
        {
          "output_type": "stream",
          "name": "stdout",
          "text": [
            "Training loss: 0.0011\n",
            "Training metric: 0.9523\n",
            "perturbation loss: 0.0215\n",
            "Validation acc: 0.9133\n",
            "\n",
            "Start of epoch 765\n"
          ]
        },
        {
          "output_type": "stream",
          "name": "stderr",
          "text": [
            "\r 77%|███████▋  | 766/1000 [47:52<14:36,  3.75s/it]"
          ]
        },
        {
          "output_type": "stream",
          "name": "stdout",
          "text": [
            "Training loss: 0.0008\n",
            "Training metric: 0.9524\n",
            "perturbation loss: 0.0151\n",
            "Validation acc: 0.9067\n",
            "\n",
            "Start of epoch 766\n"
          ]
        },
        {
          "output_type": "stream",
          "name": "stderr",
          "text": [
            "\r 77%|███████▋  | 767/1000 [47:56<14:38,  3.77s/it]"
          ]
        },
        {
          "output_type": "stream",
          "name": "stdout",
          "text": [
            "Training loss: 0.0004\n",
            "Training metric: 0.9525\n",
            "perturbation loss: 0.0046\n",
            "Validation acc: 0.9067\n",
            "\n",
            "Start of epoch 767\n"
          ]
        },
        {
          "output_type": "stream",
          "name": "stderr",
          "text": [
            "\r 77%|███████▋  | 768/1000 [48:00<14:32,  3.76s/it]"
          ]
        },
        {
          "output_type": "stream",
          "name": "stdout",
          "text": [
            "Training loss: 0.0003\n",
            "Training metric: 0.9525\n",
            "perturbation loss: 0.0021\n",
            "Validation acc: 0.9000\n",
            "\n",
            "Start of epoch 768\n"
          ]
        },
        {
          "output_type": "stream",
          "name": "stderr",
          "text": [
            "\r 77%|███████▋  | 769/1000 [48:04<14:27,  3.75s/it]"
          ]
        },
        {
          "output_type": "stream",
          "name": "stdout",
          "text": [
            "Training loss: 0.0002\n",
            "Training metric: 0.9526\n",
            "perturbation loss: 0.0010\n",
            "Validation acc: 0.9067\n",
            "\n",
            "Start of epoch 769\n"
          ]
        },
        {
          "output_type": "stream",
          "name": "stderr",
          "text": [
            "\r 77%|███████▋  | 770/1000 [48:07<14:22,  3.75s/it]"
          ]
        },
        {
          "output_type": "stream",
          "name": "stdout",
          "text": [
            "Training loss: 0.0008\n",
            "Training metric: 0.9526\n",
            "perturbation loss: 0.0044\n",
            "Validation acc: 0.9067\n",
            "\n",
            "Start of epoch 770\n"
          ]
        },
        {
          "output_type": "stream",
          "name": "stderr",
          "text": [
            "\r 77%|███████▋  | 771/1000 [48:11<14:23,  3.77s/it]"
          ]
        },
        {
          "output_type": "stream",
          "name": "stdout",
          "text": [
            "Training loss: 0.0231\n",
            "Training metric: 0.9527\n",
            "perturbation loss: 0.0538\n",
            "Validation acc: 0.9400\n",
            "\n",
            "Start of epoch 771\n"
          ]
        },
        {
          "output_type": "stream",
          "name": "stderr",
          "text": [
            "\r 77%|███████▋  | 772/1000 [48:15<14:17,  3.76s/it]"
          ]
        },
        {
          "output_type": "stream",
          "name": "stdout",
          "text": [
            "Training loss: 0.0648\n",
            "Training metric: 0.9528\n",
            "perturbation loss: 0.0750\n",
            "Validation acc: 0.9467\n",
            "\n",
            "Start of epoch 772\n"
          ]
        },
        {
          "output_type": "stream",
          "name": "stderr",
          "text": [
            "\r 77%|███████▋  | 773/1000 [48:19<14:12,  3.75s/it]"
          ]
        },
        {
          "output_type": "stream",
          "name": "stdout",
          "text": [
            "Training loss: 0.0030\n",
            "Training metric: 0.9528\n",
            "perturbation loss: 0.0109\n",
            "Validation acc: 0.9400\n",
            "\n",
            "Start of epoch 773\n"
          ]
        },
        {
          "output_type": "stream",
          "name": "stderr",
          "text": [
            "\r 77%|███████▋  | 774/1000 [48:22<14:12,  3.77s/it]"
          ]
        },
        {
          "output_type": "stream",
          "name": "stdout",
          "text": [
            "Training loss: 0.0865\n",
            "Training metric: 0.9528\n",
            "perturbation loss: 0.0547\n",
            "Validation acc: 0.9400\n",
            "\n",
            "Start of epoch 774\n"
          ]
        },
        {
          "output_type": "stream",
          "name": "stderr",
          "text": [
            "\r 78%|███████▊  | 775/1000 [48:26<14:06,  3.76s/it]"
          ]
        },
        {
          "output_type": "stream",
          "name": "stdout",
          "text": [
            "Training loss: 0.0053\n",
            "Training metric: 0.9529\n",
            "perturbation loss: 0.0214\n",
            "Validation acc: 0.9267\n",
            "\n",
            "Start of epoch 775\n"
          ]
        },
        {
          "output_type": "stream",
          "name": "stderr",
          "text": [
            "\r 78%|███████▊  | 776/1000 [48:30<14:01,  3.76s/it]"
          ]
        },
        {
          "output_type": "stream",
          "name": "stdout",
          "text": [
            "Training loss: 0.0064\n",
            "Training metric: 0.9529\n",
            "perturbation loss: 0.0174\n",
            "Validation acc: 0.9333\n",
            "\n",
            "Start of epoch 776\n"
          ]
        },
        {
          "output_type": "stream",
          "name": "stderr",
          "text": [
            "\r 78%|███████▊  | 777/1000 [48:34<13:55,  3.75s/it]"
          ]
        },
        {
          "output_type": "stream",
          "name": "stdout",
          "text": [
            "Training loss: 0.0020\n",
            "Training metric: 0.9530\n",
            "perturbation loss: 0.0122\n",
            "Validation acc: 0.9200\n",
            "\n",
            "Start of epoch 777\n"
          ]
        },
        {
          "output_type": "stream",
          "name": "stderr",
          "text": [
            "\r 78%|███████▊  | 778/1000 [48:37<13:56,  3.77s/it]"
          ]
        },
        {
          "output_type": "stream",
          "name": "stdout",
          "text": [
            "Training loss: 0.0331\n",
            "Training metric: 0.9531\n",
            "perturbation loss: 0.0084\n",
            "Validation acc: 0.9467\n",
            "\n",
            "Start of epoch 778\n"
          ]
        },
        {
          "output_type": "stream",
          "name": "stderr",
          "text": [
            "\r 78%|███████▊  | 779/1000 [48:41<13:51,  3.76s/it]"
          ]
        },
        {
          "output_type": "stream",
          "name": "stdout",
          "text": [
            "Training loss: 0.0025\n",
            "Training metric: 0.9531\n",
            "perturbation loss: 0.0109\n",
            "Validation acc: 0.9733\n",
            "\n",
            "Start of epoch 779\n"
          ]
        },
        {
          "output_type": "stream",
          "name": "stderr",
          "text": [
            "\r 78%|███████▊  | 780/1000 [48:45<13:46,  3.76s/it]"
          ]
        },
        {
          "output_type": "stream",
          "name": "stdout",
          "text": [
            "Training loss: 0.0021\n",
            "Training metric: 0.9532\n",
            "perturbation loss: 0.0080\n",
            "Validation acc: 0.9733\n",
            "\n",
            "Start of epoch 780\n"
          ]
        },
        {
          "output_type": "stream",
          "name": "stderr",
          "text": [
            "\r 78%|███████▊  | 781/1000 [48:49<13:40,  3.75s/it]"
          ]
        },
        {
          "output_type": "stream",
          "name": "stdout",
          "text": [
            "Training loss: 0.0006\n",
            "Training metric: 0.9532\n",
            "perturbation loss: 0.0075\n",
            "Validation acc: 0.9533\n",
            "\n",
            "Start of epoch 781\n"
          ]
        },
        {
          "output_type": "stream",
          "name": "stderr",
          "text": [
            "\r 78%|███████▊  | 782/1000 [48:52<13:41,  3.77s/it]"
          ]
        },
        {
          "output_type": "stream",
          "name": "stdout",
          "text": [
            "Training loss: 0.0011\n",
            "Training metric: 0.9533\n",
            "perturbation loss: 0.0079\n",
            "Validation acc: 0.9267\n",
            "\n",
            "Start of epoch 782\n"
          ]
        },
        {
          "output_type": "stream",
          "name": "stderr",
          "text": [
            "\r 78%|███████▊  | 783/1000 [48:56<13:35,  3.76s/it]"
          ]
        },
        {
          "output_type": "stream",
          "name": "stdout",
          "text": [
            "Training loss: 0.0065\n",
            "Training metric: 0.9534\n",
            "perturbation loss: 0.0148\n",
            "Validation acc: 0.9400\n",
            "\n",
            "Start of epoch 783\n"
          ]
        },
        {
          "output_type": "stream",
          "name": "stderr",
          "text": [
            "\r 78%|███████▊  | 784/1000 [49:00<13:30,  3.75s/it]"
          ]
        },
        {
          "output_type": "stream",
          "name": "stdout",
          "text": [
            "Training loss: 0.0007\n",
            "Training metric: 0.9534\n",
            "perturbation loss: 0.0046\n",
            "Validation acc: 0.9467\n",
            "\n",
            "Start of epoch 784\n"
          ]
        },
        {
          "output_type": "stream",
          "name": "stderr",
          "text": [
            "\r 78%|███████▊  | 785/1000 [49:04<13:31,  3.77s/it]"
          ]
        },
        {
          "output_type": "stream",
          "name": "stdout",
          "text": [
            "Training loss: 0.0019\n",
            "Training metric: 0.9535\n",
            "perturbation loss: 0.0057\n",
            "Validation acc: 0.9600\n",
            "\n",
            "Start of epoch 785\n"
          ]
        },
        {
          "output_type": "stream",
          "name": "stderr",
          "text": [
            "\r 79%|███████▊  | 786/1000 [49:08<13:25,  3.77s/it]"
          ]
        },
        {
          "output_type": "stream",
          "name": "stdout",
          "text": [
            "Training loss: 0.0005\n",
            "Training metric: 0.9535\n",
            "perturbation loss: 0.0024\n",
            "Validation acc: 0.9600\n",
            "\n",
            "Start of epoch 786\n"
          ]
        },
        {
          "output_type": "stream",
          "name": "stderr",
          "text": [
            "\r 79%|███████▊  | 787/1000 [49:11<13:19,  3.76s/it]"
          ]
        },
        {
          "output_type": "stream",
          "name": "stdout",
          "text": [
            "Training loss: 0.0003\n",
            "Training metric: 0.9536\n",
            "perturbation loss: 0.0019\n",
            "Validation acc: 0.9600\n",
            "\n",
            "Start of epoch 787\n"
          ]
        },
        {
          "output_type": "stream",
          "name": "stderr",
          "text": [
            "\r 79%|███████▉  | 788/1000 [49:15<13:15,  3.75s/it]"
          ]
        },
        {
          "output_type": "stream",
          "name": "stdout",
          "text": [
            "Training loss: 0.0001\n",
            "Training metric: 0.9536\n",
            "perturbation loss: 0.0009\n",
            "Validation acc: 0.9667\n",
            "\n",
            "Start of epoch 788\n"
          ]
        },
        {
          "output_type": "stream",
          "name": "stderr",
          "text": [
            "\r 79%|███████▉  | 789/1000 [49:19<13:15,  3.77s/it]"
          ]
        },
        {
          "output_type": "stream",
          "name": "stdout",
          "text": [
            "Training loss: 0.0005\n",
            "Training metric: 0.9537\n",
            "perturbation loss: 0.0019\n",
            "Validation acc: 0.9600\n",
            "\n",
            "Start of epoch 789\n"
          ]
        },
        {
          "output_type": "stream",
          "name": "stderr",
          "text": [
            "\r 79%|███████▉  | 790/1000 [49:23<13:10,  3.76s/it]"
          ]
        },
        {
          "output_type": "stream",
          "name": "stdout",
          "text": [
            "Training loss: 0.0002\n",
            "Training metric: 0.9538\n",
            "perturbation loss: 0.0018\n",
            "Validation acc: 0.9467\n",
            "\n",
            "Start of epoch 790\n"
          ]
        },
        {
          "output_type": "stream",
          "name": "stderr",
          "text": [
            "\r 79%|███████▉  | 791/1000 [49:26<13:04,  3.75s/it]"
          ]
        },
        {
          "output_type": "stream",
          "name": "stdout",
          "text": [
            "Training loss: 0.0006\n",
            "Training metric: 0.9538\n",
            "perturbation loss: 0.0029\n",
            "Validation acc: 0.9533\n",
            "\n",
            "Start of epoch 791\n"
          ]
        },
        {
          "output_type": "stream",
          "name": "stderr",
          "text": [
            "\r 79%|███████▉  | 792/1000 [49:30<13:01,  3.76s/it]"
          ]
        },
        {
          "output_type": "stream",
          "name": "stdout",
          "text": [
            "Training loss: 0.0001\n",
            "Training metric: 0.9539\n",
            "perturbation loss: 0.0007\n",
            "Validation acc: 0.9533\n",
            "\n",
            "Start of epoch 792\n"
          ]
        },
        {
          "output_type": "stream",
          "name": "stderr",
          "text": [
            "\r 79%|███████▉  | 793/1000 [49:34<12:56,  3.75s/it]"
          ]
        },
        {
          "output_type": "stream",
          "name": "stdout",
          "text": [
            "Training loss: 0.0002\n",
            "Training metric: 0.9539\n",
            "perturbation loss: 0.0014\n",
            "Validation acc: 0.9533\n",
            "\n",
            "Start of epoch 793\n"
          ]
        },
        {
          "output_type": "stream",
          "name": "stderr",
          "text": [
            "\r 79%|███████▉  | 794/1000 [49:38<12:51,  3.75s/it]"
          ]
        },
        {
          "output_type": "stream",
          "name": "stdout",
          "text": [
            "Training loss: 0.0002\n",
            "Training metric: 0.9540\n",
            "perturbation loss: 0.0015\n",
            "Validation acc: 0.9600\n",
            "\n",
            "Start of epoch 794\n"
          ]
        },
        {
          "output_type": "stream",
          "name": "stderr",
          "text": [
            "\r 80%|███████▉  | 795/1000 [49:41<12:47,  3.74s/it]"
          ]
        },
        {
          "output_type": "stream",
          "name": "stdout",
          "text": [
            "Training loss: 0.0001\n",
            "Training metric: 0.9541\n",
            "perturbation loss: 0.0007\n",
            "Validation acc: 0.9667\n",
            "\n",
            "Start of epoch 795\n"
          ]
        },
        {
          "output_type": "stream",
          "name": "stderr",
          "text": [
            "\r 80%|███████▉  | 796/1000 [49:45<12:48,  3.77s/it]"
          ]
        },
        {
          "output_type": "stream",
          "name": "stdout",
          "text": [
            "Training loss: 0.0001\n",
            "Training metric: 0.9541\n",
            "perturbation loss: 0.0013\n",
            "Validation acc: 0.9533\n",
            "\n",
            "Start of epoch 796\n"
          ]
        },
        {
          "output_type": "stream",
          "name": "stderr",
          "text": [
            "\r 80%|███████▉  | 797/1000 [49:49<12:43,  3.76s/it]"
          ]
        },
        {
          "output_type": "stream",
          "name": "stdout",
          "text": [
            "Training loss: 0.0003\n",
            "Training metric: 0.9542\n",
            "perturbation loss: 0.0020\n",
            "Validation acc: 0.9600\n",
            "\n",
            "Start of epoch 797\n"
          ]
        },
        {
          "output_type": "stream",
          "name": "stderr",
          "text": [
            "\r 80%|███████▉  | 798/1000 [49:53<12:38,  3.75s/it]"
          ]
        },
        {
          "output_type": "stream",
          "name": "stdout",
          "text": [
            "Training loss: 0.0003\n",
            "Training metric: 0.9542\n",
            "perturbation loss: 0.0023\n",
            "Validation acc: 0.9667\n",
            "\n",
            "Start of epoch 798\n"
          ]
        },
        {
          "output_type": "stream",
          "name": "stderr",
          "text": [
            "\r 80%|███████▉  | 799/1000 [49:56<12:33,  3.75s/it]"
          ]
        },
        {
          "output_type": "stream",
          "name": "stdout",
          "text": [
            "Training loss: 0.0001\n",
            "Training metric: 0.9543\n",
            "perturbation loss: 0.0005\n",
            "Validation acc: 0.9600\n",
            "\n",
            "Start of epoch 799\n"
          ]
        },
        {
          "output_type": "stream",
          "name": "stderr",
          "text": [
            "\r 80%|████████  | 800/1000 [50:00<12:31,  3.76s/it]"
          ]
        },
        {
          "output_type": "stream",
          "name": "stdout",
          "text": [
            "Training loss: 0.0001\n",
            "Training metric: 0.9543\n",
            "perturbation loss: 0.0006\n",
            "Validation acc: 0.9667\n",
            "\n",
            "Start of epoch 800\n"
          ]
        },
        {
          "output_type": "stream",
          "name": "stderr",
          "text": [
            "\r 80%|████████  | 801/1000 [50:04<12:27,  3.76s/it]"
          ]
        },
        {
          "output_type": "stream",
          "name": "stdout",
          "text": [
            "Training loss: 0.0002\n",
            "Training metric: 0.9544\n",
            "perturbation loss: 0.0019\n",
            "Validation acc: 0.9667\n",
            "\n",
            "Start of epoch 801\n"
          ]
        },
        {
          "output_type": "stream",
          "name": "stderr",
          "text": [
            "\r 80%|████████  | 802/1000 [50:08<12:22,  3.75s/it]"
          ]
        },
        {
          "output_type": "stream",
          "name": "stdout",
          "text": [
            "Training loss: 0.0001\n",
            "Training metric: 0.9545\n",
            "perturbation loss: 0.0007\n",
            "Validation acc: 0.9600\n",
            "\n",
            "Start of epoch 802\n"
          ]
        },
        {
          "output_type": "stream",
          "name": "stderr",
          "text": [
            "\r 80%|████████  | 803/1000 [50:11<12:23,  3.77s/it]"
          ]
        },
        {
          "output_type": "stream",
          "name": "stdout",
          "text": [
            "Training loss: 0.0001\n",
            "Training metric: 0.9545\n",
            "perturbation loss: 0.0008\n",
            "Validation acc: 0.9667\n",
            "\n",
            "Start of epoch 803\n"
          ]
        },
        {
          "output_type": "stream",
          "name": "stderr",
          "text": [
            "\r 80%|████████  | 804/1000 [50:15<12:17,  3.76s/it]"
          ]
        },
        {
          "output_type": "stream",
          "name": "stdout",
          "text": [
            "Training loss: 0.0001\n",
            "Training metric: 0.9546\n",
            "perturbation loss: 0.0015\n",
            "Validation acc: 0.9667\n",
            "\n",
            "Start of epoch 804\n"
          ]
        },
        {
          "output_type": "stream",
          "name": "stderr",
          "text": [
            "\r 80%|████████  | 805/1000 [50:19<12:12,  3.76s/it]"
          ]
        },
        {
          "output_type": "stream",
          "name": "stdout",
          "text": [
            "Training loss: 0.0001\n",
            "Training metric: 0.9546\n",
            "perturbation loss: 0.0006\n",
            "Validation acc: 0.9733\n",
            "\n",
            "Start of epoch 805\n"
          ]
        },
        {
          "output_type": "stream",
          "name": "stderr",
          "text": [
            "\r 81%|████████  | 806/1000 [50:23<12:08,  3.76s/it]"
          ]
        },
        {
          "output_type": "stream",
          "name": "stdout",
          "text": [
            "Training loss: 0.0001\n",
            "Training metric: 0.9547\n",
            "perturbation loss: 0.0007\n",
            "Validation acc: 0.9667\n",
            "\n",
            "Start of epoch 806\n"
          ]
        },
        {
          "output_type": "stream",
          "name": "stderr",
          "text": [
            "\r 81%|████████  | 807/1000 [50:26<12:08,  3.77s/it]"
          ]
        },
        {
          "output_type": "stream",
          "name": "stdout",
          "text": [
            "Training loss: 0.0000\n",
            "Training metric: 0.9547\n",
            "perturbation loss: 0.0005\n",
            "Validation acc: 0.9667\n",
            "\n",
            "Start of epoch 807\n"
          ]
        },
        {
          "output_type": "stream",
          "name": "stderr",
          "text": [
            "\r 81%|████████  | 808/1000 [50:30<12:03,  3.77s/it]"
          ]
        },
        {
          "output_type": "stream",
          "name": "stdout",
          "text": [
            "Training loss: 0.0001\n",
            "Training metric: 0.9548\n",
            "perturbation loss: 0.0007\n",
            "Validation acc: 0.9667\n",
            "\n",
            "Start of epoch 808\n"
          ]
        },
        {
          "output_type": "stream",
          "name": "stderr",
          "text": [
            "\r 81%|████████  | 809/1000 [50:34<11:58,  3.76s/it]"
          ]
        },
        {
          "output_type": "stream",
          "name": "stdout",
          "text": [
            "Training loss: 0.0002\n",
            "Training metric: 0.9549\n",
            "perturbation loss: 0.0011\n",
            "Validation acc: 0.9667\n",
            "\n",
            "Start of epoch 809\n"
          ]
        },
        {
          "output_type": "stream",
          "name": "stderr",
          "text": [
            "\r 81%|████████  | 810/1000 [50:38<11:52,  3.75s/it]"
          ]
        },
        {
          "output_type": "stream",
          "name": "stdout",
          "text": [
            "Training loss: 0.0001\n",
            "Training metric: 0.9549\n",
            "perturbation loss: 0.0007\n",
            "Validation acc: 0.9667\n",
            "\n",
            "Start of epoch 810\n"
          ]
        },
        {
          "output_type": "stream",
          "name": "stderr",
          "text": [
            "\r 81%|████████  | 811/1000 [50:41<11:52,  3.77s/it]"
          ]
        },
        {
          "output_type": "stream",
          "name": "stdout",
          "text": [
            "Training loss: 0.0001\n",
            "Training metric: 0.9550\n",
            "perturbation loss: 0.0014\n",
            "Validation acc: 0.9667\n",
            "\n",
            "Start of epoch 811\n"
          ]
        },
        {
          "output_type": "stream",
          "name": "stderr",
          "text": [
            "\r 81%|████████  | 812/1000 [50:45<11:46,  3.76s/it]"
          ]
        },
        {
          "output_type": "stream",
          "name": "stdout",
          "text": [
            "Training loss: 0.0000\n",
            "Training metric: 0.9550\n",
            "perturbation loss: 0.0005\n",
            "Validation acc: 0.9667\n",
            "\n",
            "Start of epoch 812\n"
          ]
        },
        {
          "output_type": "stream",
          "name": "stderr",
          "text": [
            "\r 81%|████████▏ | 813/1000 [50:49<11:42,  3.75s/it]"
          ]
        },
        {
          "output_type": "stream",
          "name": "stdout",
          "text": [
            "Training loss: 0.0000\n",
            "Training metric: 0.9551\n",
            "perturbation loss: 0.0004\n",
            "Validation acc: 0.9667\n",
            "\n",
            "Start of epoch 813\n"
          ]
        },
        {
          "output_type": "stream",
          "name": "stderr",
          "text": [
            "\r 81%|████████▏ | 814/1000 [50:53<11:41,  3.77s/it]"
          ]
        },
        {
          "output_type": "stream",
          "name": "stdout",
          "text": [
            "Training loss: 0.0000\n",
            "Training metric: 0.9551\n",
            "perturbation loss: 0.0003\n",
            "Validation acc: 0.9667\n",
            "\n",
            "Start of epoch 814\n"
          ]
        },
        {
          "output_type": "stream",
          "name": "stderr",
          "text": [
            "\r 82%|████████▏ | 815/1000 [50:57<11:36,  3.76s/it]"
          ]
        },
        {
          "output_type": "stream",
          "name": "stdout",
          "text": [
            "Training loss: 0.0000\n",
            "Training metric: 0.9552\n",
            "perturbation loss: 0.0003\n",
            "Validation acc: 0.9667\n",
            "\n",
            "Start of epoch 815\n"
          ]
        },
        {
          "output_type": "stream",
          "name": "stderr",
          "text": [
            "\r 82%|████████▏ | 816/1000 [51:00<11:30,  3.75s/it]"
          ]
        },
        {
          "output_type": "stream",
          "name": "stdout",
          "text": [
            "Training loss: 0.0000\n",
            "Training metric: 0.9552\n",
            "perturbation loss: 0.0004\n",
            "Validation acc: 0.9667\n",
            "\n",
            "Start of epoch 816\n"
          ]
        },
        {
          "output_type": "stream",
          "name": "stderr",
          "text": [
            "\r 82%|████████▏ | 817/1000 [51:04<11:26,  3.75s/it]"
          ]
        },
        {
          "output_type": "stream",
          "name": "stdout",
          "text": [
            "Training loss: 0.0000\n",
            "Training metric: 0.9553\n",
            "perturbation loss: 0.0002\n",
            "Validation acc: 0.9667\n",
            "\n",
            "Start of epoch 817\n"
          ]
        },
        {
          "output_type": "stream",
          "name": "stderr",
          "text": [
            "\r 82%|████████▏ | 818/1000 [51:08<11:26,  3.77s/it]"
          ]
        },
        {
          "output_type": "stream",
          "name": "stdout",
          "text": [
            "Training loss: 0.0000\n",
            "Training metric: 0.9553\n",
            "perturbation loss: 0.0004\n",
            "Validation acc: 0.9600\n",
            "\n",
            "Start of epoch 818\n"
          ]
        },
        {
          "output_type": "stream",
          "name": "stderr",
          "text": [
            "\r 82%|████████▏ | 819/1000 [51:12<11:20,  3.76s/it]"
          ]
        },
        {
          "output_type": "stream",
          "name": "stdout",
          "text": [
            "Training loss: 0.0000\n",
            "Training metric: 0.9554\n",
            "perturbation loss: 0.0002\n",
            "Validation acc: 0.9533\n",
            "\n",
            "Start of epoch 819\n"
          ]
        },
        {
          "output_type": "stream",
          "name": "stderr",
          "text": [
            "\r 82%|████████▏ | 820/1000 [51:15<11:15,  3.75s/it]"
          ]
        },
        {
          "output_type": "stream",
          "name": "stdout",
          "text": [
            "Training loss: 0.0004\n",
            "Training metric: 0.9555\n",
            "perturbation loss: 0.0049\n",
            "Validation acc: 0.9600\n",
            "\n",
            "Start of epoch 820\n"
          ]
        },
        {
          "output_type": "stream",
          "name": "stderr",
          "text": [
            "\r 82%|████████▏ | 821/1000 [51:19<11:10,  3.75s/it]"
          ]
        },
        {
          "output_type": "stream",
          "name": "stdout",
          "text": [
            "Training loss: 0.0009\n",
            "Training metric: 0.9555\n",
            "perturbation loss: 0.0098\n",
            "Validation acc: 0.9200\n",
            "\n",
            "Start of epoch 821\n"
          ]
        },
        {
          "output_type": "stream",
          "name": "stderr",
          "text": [
            "\r 82%|████████▏ | 822/1000 [51:24<12:24,  4.18s/it]"
          ]
        },
        {
          "output_type": "stream",
          "name": "stdout",
          "text": [
            "Training loss: 0.0167\n",
            "Training metric: 0.9555\n",
            "perturbation loss: 0.0590\n",
            "Validation acc: 0.9400\n",
            "\n",
            "Start of epoch 822\n"
          ]
        },
        {
          "output_type": "stream",
          "name": "stderr",
          "text": [
            "\r 82%|████████▏ | 823/1000 [51:28<11:56,  4.05s/it]"
          ]
        },
        {
          "output_type": "stream",
          "name": "stdout",
          "text": [
            "Training loss: 0.0002\n",
            "Training metric: 0.9556\n",
            "perturbation loss: 0.0023\n",
            "Validation acc: 0.9267\n",
            "\n",
            "Start of epoch 823\n"
          ]
        },
        {
          "output_type": "stream",
          "name": "stderr",
          "text": [
            "\r 82%|████████▏ | 824/1000 [51:32<11:36,  3.96s/it]"
          ]
        },
        {
          "output_type": "stream",
          "name": "stdout",
          "text": [
            "Training loss: 0.0034\n",
            "Training metric: 0.9556\n",
            "perturbation loss: 0.0037\n",
            "Validation acc: 0.9533\n",
            "\n",
            "Start of epoch 824\n"
          ]
        },
        {
          "output_type": "stream",
          "name": "stderr",
          "text": [
            "\r 82%|████████▎ | 825/1000 [51:36<11:25,  3.91s/it]"
          ]
        },
        {
          "output_type": "stream",
          "name": "stdout",
          "text": [
            "Training loss: 0.0060\n",
            "Training metric: 0.9557\n",
            "perturbation loss: 0.0711\n",
            "Validation acc: 0.9400\n",
            "\n",
            "Start of epoch 825\n"
          ]
        },
        {
          "output_type": "stream",
          "name": "stderr",
          "text": [
            "\r 83%|████████▎ | 826/1000 [51:39<11:11,  3.86s/it]"
          ]
        },
        {
          "output_type": "stream",
          "name": "stdout",
          "text": [
            "Training loss: 0.0411\n",
            "Training metric: 0.9557\n",
            "perturbation loss: 0.0197\n",
            "Validation acc: 0.9600\n",
            "\n",
            "Start of epoch 826\n"
          ]
        },
        {
          "output_type": "stream",
          "name": "stderr",
          "text": [
            "\r 83%|████████▎ | 827/1000 [51:43<11:01,  3.83s/it]"
          ]
        },
        {
          "output_type": "stream",
          "name": "stdout",
          "text": [
            "Training loss: 0.0003\n",
            "Training metric: 0.9558\n",
            "perturbation loss: 0.0038\n",
            "Validation acc: 0.9333\n",
            "\n",
            "Start of epoch 827\n"
          ]
        },
        {
          "output_type": "stream",
          "name": "stderr",
          "text": [
            "\r 83%|████████▎ | 828/1000 [51:47<10:57,  3.82s/it]"
          ]
        },
        {
          "output_type": "stream",
          "name": "stdout",
          "text": [
            "Training loss: 0.0373\n",
            "Training metric: 0.9558\n",
            "perturbation loss: 0.0252\n",
            "Validation acc: 0.9333\n",
            "\n",
            "Start of epoch 828\n"
          ]
        },
        {
          "output_type": "stream",
          "name": "stderr",
          "text": [
            "\r 83%|████████▎ | 829/1000 [51:51<10:49,  3.80s/it]"
          ]
        },
        {
          "output_type": "stream",
          "name": "stdout",
          "text": [
            "Training loss: 0.0009\n",
            "Training metric: 0.9559\n",
            "perturbation loss: 0.0243\n",
            "Validation acc: 0.9333\n",
            "\n",
            "Start of epoch 829\n"
          ]
        },
        {
          "output_type": "stream",
          "name": "stderr",
          "text": [
            "\r 83%|████████▎ | 830/1000 [51:54<10:43,  3.78s/it]"
          ]
        },
        {
          "output_type": "stream",
          "name": "stdout",
          "text": [
            "Training loss: 0.0047\n",
            "Training metric: 0.9559\n",
            "perturbation loss: 0.0488\n",
            "Validation acc: 0.9400\n",
            "\n",
            "Start of epoch 830\n"
          ]
        },
        {
          "output_type": "stream",
          "name": "stderr",
          "text": [
            "\r 83%|████████▎ | 831/1000 [51:58<10:37,  3.77s/it]"
          ]
        },
        {
          "output_type": "stream",
          "name": "stdout",
          "text": [
            "Training loss: 0.0004\n",
            "Training metric: 0.9560\n",
            "perturbation loss: 0.0024\n",
            "Validation acc: 0.9533\n",
            "\n",
            "Start of epoch 831\n"
          ]
        },
        {
          "output_type": "stream",
          "name": "stderr",
          "text": [
            "\r 83%|████████▎ | 832/1000 [52:02<10:35,  3.79s/it]"
          ]
        },
        {
          "output_type": "stream",
          "name": "stdout",
          "text": [
            "Training loss: 0.0001\n",
            "Training metric: 0.9560\n",
            "perturbation loss: 0.0011\n",
            "Validation acc: 0.9333\n",
            "\n",
            "Start of epoch 832\n"
          ]
        },
        {
          "output_type": "stream",
          "name": "stderr",
          "text": [
            "\r 83%|████████▎ | 833/1000 [52:06<10:30,  3.77s/it]"
          ]
        },
        {
          "output_type": "stream",
          "name": "stdout",
          "text": [
            "Training loss: 0.0001\n",
            "Training metric: 0.9561\n",
            "perturbation loss: 0.0005\n",
            "Validation acc: 0.9333\n",
            "\n",
            "Start of epoch 833\n"
          ]
        },
        {
          "output_type": "stream",
          "name": "stderr",
          "text": [
            "\r 83%|████████▎ | 834/1000 [52:09<10:24,  3.76s/it]"
          ]
        },
        {
          "output_type": "stream",
          "name": "stdout",
          "text": [
            "Training loss: 0.0002\n",
            "Training metric: 0.9562\n",
            "perturbation loss: 0.0027\n",
            "Validation acc: 0.9333\n",
            "\n",
            "Start of epoch 834\n"
          ]
        },
        {
          "output_type": "stream",
          "name": "stderr",
          "text": [
            "\r 84%|████████▎ | 835/1000 [52:13<10:20,  3.76s/it]"
          ]
        },
        {
          "output_type": "stream",
          "name": "stdout",
          "text": [
            "Training loss: 0.0001\n",
            "Training metric: 0.9562\n",
            "perturbation loss: 0.0008\n",
            "Validation acc: 0.9333\n",
            "\n",
            "Start of epoch 835\n"
          ]
        },
        {
          "output_type": "stream",
          "name": "stderr",
          "text": [
            "\r 84%|████████▎ | 836/1000 [52:17<10:19,  3.78s/it]"
          ]
        },
        {
          "output_type": "stream",
          "name": "stdout",
          "text": [
            "Training loss: 0.0002\n",
            "Training metric: 0.9563\n",
            "perturbation loss: 0.0012\n",
            "Validation acc: 0.9333\n",
            "\n",
            "Start of epoch 836\n"
          ]
        },
        {
          "output_type": "stream",
          "name": "stderr",
          "text": [
            "\r 84%|████████▎ | 837/1000 [52:21<10:14,  3.77s/it]"
          ]
        },
        {
          "output_type": "stream",
          "name": "stdout",
          "text": [
            "Training loss: 0.0000\n",
            "Training metric: 0.9563\n",
            "perturbation loss: 0.0003\n",
            "Validation acc: 0.9267\n",
            "\n",
            "Start of epoch 837\n"
          ]
        },
        {
          "output_type": "stream",
          "name": "stderr",
          "text": [
            "\r 84%|████████▍ | 838/1000 [52:24<10:09,  3.76s/it]"
          ]
        },
        {
          "output_type": "stream",
          "name": "stdout",
          "text": [
            "Training loss: 0.0001\n",
            "Training metric: 0.9564\n",
            "perturbation loss: 0.0008\n",
            "Validation acc: 0.9267\n",
            "\n",
            "Start of epoch 838\n"
          ]
        },
        {
          "output_type": "stream",
          "name": "stderr",
          "text": [
            "\r 84%|████████▍ | 839/1000 [52:28<10:08,  3.78s/it]"
          ]
        },
        {
          "output_type": "stream",
          "name": "stdout",
          "text": [
            "Training loss: 0.0004\n",
            "Training metric: 0.9564\n",
            "perturbation loss: 0.0009\n",
            "Validation acc: 0.9267\n",
            "\n",
            "Start of epoch 839\n"
          ]
        },
        {
          "output_type": "stream",
          "name": "stderr",
          "text": [
            "\r 84%|████████▍ | 840/1000 [52:32<10:02,  3.77s/it]"
          ]
        },
        {
          "output_type": "stream",
          "name": "stdout",
          "text": [
            "Training loss: 0.0002\n",
            "Training metric: 0.9565\n",
            "perturbation loss: 0.0008\n",
            "Validation acc: 0.9333\n",
            "\n",
            "Start of epoch 840\n"
          ]
        },
        {
          "output_type": "stream",
          "name": "stderr",
          "text": [
            "\r 84%|████████▍ | 841/1000 [52:36<09:57,  3.76s/it]"
          ]
        },
        {
          "output_type": "stream",
          "name": "stdout",
          "text": [
            "Training loss: 0.0004\n",
            "Training metric: 0.9565\n",
            "perturbation loss: 0.0011\n",
            "Validation acc: 0.9333\n",
            "\n",
            "Start of epoch 841\n"
          ]
        },
        {
          "output_type": "stream",
          "name": "stderr",
          "text": [
            "\r 84%|████████▍ | 842/1000 [52:39<09:52,  3.75s/it]"
          ]
        },
        {
          "output_type": "stream",
          "name": "stdout",
          "text": [
            "Training loss: 0.0001\n",
            "Training metric: 0.9566\n",
            "perturbation loss: 0.0008\n",
            "Validation acc: 0.9333\n",
            "\n",
            "Start of epoch 842\n"
          ]
        },
        {
          "output_type": "stream",
          "name": "stderr",
          "text": [
            "\r 84%|████████▍ | 843/1000 [52:43<09:51,  3.77s/it]"
          ]
        },
        {
          "output_type": "stream",
          "name": "stdout",
          "text": [
            "Training loss: 0.0001\n",
            "Training metric: 0.9566\n",
            "perturbation loss: 0.0009\n",
            "Validation acc: 0.9333\n",
            "\n",
            "Start of epoch 843\n"
          ]
        },
        {
          "output_type": "stream",
          "name": "stderr",
          "text": [
            "\r 84%|████████▍ | 844/1000 [52:47<09:46,  3.76s/it]"
          ]
        },
        {
          "output_type": "stream",
          "name": "stdout",
          "text": [
            "Training loss: 0.0001\n",
            "Training metric: 0.9567\n",
            "perturbation loss: 0.0007\n",
            "Validation acc: 0.9333\n",
            "\n",
            "Start of epoch 844\n"
          ]
        },
        {
          "output_type": "stream",
          "name": "stderr",
          "text": [
            "\r 84%|████████▍ | 845/1000 [52:51<09:41,  3.75s/it]"
          ]
        },
        {
          "output_type": "stream",
          "name": "stdout",
          "text": [
            "Training loss: 0.0000\n",
            "Training metric: 0.9567\n",
            "perturbation loss: 0.0005\n",
            "Validation acc: 0.9333\n",
            "\n",
            "Start of epoch 845\n"
          ]
        },
        {
          "output_type": "stream",
          "name": "stderr",
          "text": [
            "\r 85%|████████▍ | 846/1000 [52:54<09:37,  3.75s/it]"
          ]
        },
        {
          "output_type": "stream",
          "name": "stdout",
          "text": [
            "Training loss: 0.0001\n",
            "Training metric: 0.9568\n",
            "perturbation loss: 0.0004\n",
            "Validation acc: 0.9400\n",
            "\n",
            "Start of epoch 846\n"
          ]
        },
        {
          "output_type": "stream",
          "name": "stderr",
          "text": [
            "\r 85%|████████▍ | 847/1000 [52:58<09:33,  3.75s/it]"
          ]
        },
        {
          "output_type": "stream",
          "name": "stdout",
          "text": [
            "Training loss: 0.0000\n",
            "Training metric: 0.9568\n",
            "perturbation loss: 0.0004\n",
            "Validation acc: 0.9400\n",
            "\n",
            "Start of epoch 847\n"
          ]
        },
        {
          "output_type": "stream",
          "name": "stderr",
          "text": [
            "\r 85%|████████▍ | 848/1000 [53:02<09:29,  3.74s/it]"
          ]
        },
        {
          "output_type": "stream",
          "name": "stdout",
          "text": [
            "Training loss: 0.0004\n",
            "Training metric: 0.9569\n",
            "perturbation loss: 0.0012\n",
            "Validation acc: 0.9400\n",
            "\n",
            "Start of epoch 848\n"
          ]
        },
        {
          "output_type": "stream",
          "name": "stderr",
          "text": [
            "\r 85%|████████▍ | 849/1000 [53:06<09:25,  3.74s/it]"
          ]
        },
        {
          "output_type": "stream",
          "name": "stdout",
          "text": [
            "Training loss: 0.0001\n",
            "Training metric: 0.9569\n",
            "perturbation loss: 0.0006\n",
            "Validation acc: 0.9400\n",
            "\n",
            "Start of epoch 849\n"
          ]
        },
        {
          "output_type": "stream",
          "name": "stderr",
          "text": [
            "\r 85%|████████▌ | 850/1000 [53:09<09:24,  3.77s/it]"
          ]
        },
        {
          "output_type": "stream",
          "name": "stdout",
          "text": [
            "Training loss: 0.0001\n",
            "Training metric: 0.9570\n",
            "perturbation loss: 0.0005\n",
            "Validation acc: 0.9400\n",
            "\n",
            "Start of epoch 850\n"
          ]
        },
        {
          "output_type": "stream",
          "name": "stderr",
          "text": [
            "\r 85%|████████▌ | 851/1000 [53:13<09:23,  3.78s/it]"
          ]
        },
        {
          "output_type": "stream",
          "name": "stdout",
          "text": [
            "Training loss: 0.0000\n",
            "Training metric: 0.9570\n",
            "perturbation loss: 0.0004\n",
            "Validation acc: 0.9400\n",
            "\n",
            "Start of epoch 851\n"
          ]
        },
        {
          "output_type": "stream",
          "name": "stderr",
          "text": [
            "\r 85%|████████▌ | 852/1000 [53:17<09:17,  3.77s/it]"
          ]
        },
        {
          "output_type": "stream",
          "name": "stdout",
          "text": [
            "Training loss: 0.0001\n",
            "Training metric: 0.9571\n",
            "perturbation loss: 0.0010\n",
            "Validation acc: 0.9333\n",
            "\n",
            "Start of epoch 852\n"
          ]
        },
        {
          "output_type": "stream",
          "name": "stderr",
          "text": [
            "\r 85%|████████▌ | 853/1000 [53:21<09:12,  3.76s/it]"
          ]
        },
        {
          "output_type": "stream",
          "name": "stdout",
          "text": [
            "Training loss: 0.0000\n",
            "Training metric: 0.9571\n",
            "perturbation loss: 0.0005\n",
            "Validation acc: 0.9400\n",
            "\n",
            "Start of epoch 853\n"
          ]
        },
        {
          "output_type": "stream",
          "name": "stderr",
          "text": [
            "\r 85%|████████▌ | 854/1000 [53:25<09:09,  3.76s/it]"
          ]
        },
        {
          "output_type": "stream",
          "name": "stdout",
          "text": [
            "Training loss: 0.0000\n",
            "Training metric: 0.9572\n",
            "perturbation loss: 0.0005\n",
            "Validation acc: 0.9400\n",
            "\n",
            "Start of epoch 854\n"
          ]
        },
        {
          "output_type": "stream",
          "name": "stderr",
          "text": [
            "\r 86%|████████▌ | 855/1000 [53:28<09:04,  3.76s/it]"
          ]
        },
        {
          "output_type": "stream",
          "name": "stdout",
          "text": [
            "Training loss: 0.0002\n",
            "Training metric: 0.9572\n",
            "perturbation loss: 0.0102\n",
            "Validation acc: 0.9400\n",
            "\n",
            "Start of epoch 855\n"
          ]
        },
        {
          "output_type": "stream",
          "name": "stderr",
          "text": [
            "\r 86%|████████▌ | 856/1000 [53:32<09:00,  3.75s/it]"
          ]
        },
        {
          "output_type": "stream",
          "name": "stdout",
          "text": [
            "Training loss: 0.0001\n",
            "Training metric: 0.9573\n",
            "perturbation loss: 0.0005\n",
            "Validation acc: 0.9333\n",
            "\n",
            "Start of epoch 856\n"
          ]
        },
        {
          "output_type": "stream",
          "name": "stderr",
          "text": [
            "\r 86%|████████▌ | 857/1000 [53:36<08:59,  3.77s/it]"
          ]
        },
        {
          "output_type": "stream",
          "name": "stdout",
          "text": [
            "Training loss: 0.0002\n",
            "Training metric: 0.9573\n",
            "perturbation loss: 0.0014\n",
            "Validation acc: 0.9333\n",
            "\n",
            "Start of epoch 857\n"
          ]
        },
        {
          "output_type": "stream",
          "name": "stderr",
          "text": [
            "\r 86%|████████▌ | 858/1000 [53:40<08:55,  3.77s/it]"
          ]
        },
        {
          "output_type": "stream",
          "name": "stdout",
          "text": [
            "Training loss: 0.0000\n",
            "Training metric: 0.9574\n",
            "perturbation loss: 0.0002\n",
            "Validation acc: 0.9400\n",
            "\n",
            "Start of epoch 858\n"
          ]
        },
        {
          "output_type": "stream",
          "name": "stderr",
          "text": [
            "\r 86%|████████▌ | 859/1000 [53:43<08:50,  3.76s/it]"
          ]
        },
        {
          "output_type": "stream",
          "name": "stdout",
          "text": [
            "Training loss: 0.0000\n",
            "Training metric: 0.9574\n",
            "perturbation loss: 0.0004\n",
            "Validation acc: 0.9400\n",
            "\n",
            "Start of epoch 859\n"
          ]
        },
        {
          "output_type": "stream",
          "name": "stderr",
          "text": [
            "\r 86%|████████▌ | 860/1000 [53:47<08:45,  3.76s/it]"
          ]
        },
        {
          "output_type": "stream",
          "name": "stdout",
          "text": [
            "Training loss: 0.0001\n",
            "Training metric: 0.9575\n",
            "perturbation loss: 0.0009\n",
            "Validation acc: 0.9333\n",
            "\n",
            "Start of epoch 860\n"
          ]
        },
        {
          "output_type": "stream",
          "name": "stderr",
          "text": [
            "\r 86%|████████▌ | 861/1000 [53:51<08:44,  3.77s/it]"
          ]
        },
        {
          "output_type": "stream",
          "name": "stdout",
          "text": [
            "Training loss: 0.0000\n",
            "Training metric: 0.9575\n",
            "perturbation loss: 0.0003\n",
            "Validation acc: 0.9333\n",
            "\n",
            "Start of epoch 861\n"
          ]
        },
        {
          "output_type": "stream",
          "name": "stderr",
          "text": [
            "\r 86%|████████▌ | 862/1000 [53:55<08:39,  3.77s/it]"
          ]
        },
        {
          "output_type": "stream",
          "name": "stdout",
          "text": [
            "Training loss: 0.0000\n",
            "Training metric: 0.9576\n",
            "perturbation loss: 0.0003\n",
            "Validation acc: 0.9467\n",
            "\n",
            "Start of epoch 862\n"
          ]
        },
        {
          "output_type": "stream",
          "name": "stderr",
          "text": [
            "\r 86%|████████▋ | 863/1000 [53:58<08:34,  3.76s/it]"
          ]
        },
        {
          "output_type": "stream",
          "name": "stdout",
          "text": [
            "Training loss: 0.0000\n",
            "Training metric: 0.9576\n",
            "perturbation loss: 0.0002\n",
            "Validation acc: 0.9467\n",
            "\n",
            "Start of epoch 863\n"
          ]
        },
        {
          "output_type": "stream",
          "name": "stderr",
          "text": [
            "\r 86%|████████▋ | 864/1000 [54:02<08:30,  3.76s/it]"
          ]
        },
        {
          "output_type": "stream",
          "name": "stdout",
          "text": [
            "Training loss: 0.0000\n",
            "Training metric: 0.9577\n",
            "perturbation loss: 0.0004\n",
            "Validation acc: 0.9400\n",
            "\n",
            "Start of epoch 864\n"
          ]
        },
        {
          "output_type": "stream",
          "name": "stderr",
          "text": [
            "\r 86%|████████▋ | 865/1000 [54:06<08:29,  3.78s/it]"
          ]
        },
        {
          "output_type": "stream",
          "name": "stdout",
          "text": [
            "Training loss: 0.0001\n",
            "Training metric: 0.9577\n",
            "perturbation loss: 0.0007\n",
            "Validation acc: 0.9400\n",
            "\n",
            "Start of epoch 865\n",
            "Training loss: 0.0000\n",
            "Training metric: 0.9578\n",
            "perturbation loss: 0.0004\n",
            "Validation acc: 0.9400\n"
          ]
        },
        {
          "output_type": "stream",
          "name": "stderr",
          "text": [
            "\r 87%|████████▋ | 866/1000 [54:10<08:34,  3.84s/it]"
          ]
        },
        {
          "output_type": "stream",
          "name": "stdout",
          "text": [
            "\n",
            "Start of epoch 866\n"
          ]
        },
        {
          "output_type": "stream",
          "name": "stderr",
          "text": [
            "\r 87%|████████▋ | 867/1000 [54:14<08:26,  3.81s/it]"
          ]
        },
        {
          "output_type": "stream",
          "name": "stdout",
          "text": [
            "Training loss: 0.0001\n",
            "Training metric: 0.9578\n",
            "perturbation loss: 0.0009\n",
            "Validation acc: 0.9400\n",
            "\n",
            "Start of epoch 867\n"
          ]
        },
        {
          "output_type": "stream",
          "name": "stderr",
          "text": [
            "\r 87%|████████▋ | 868/1000 [54:18<08:23,  3.81s/it]"
          ]
        },
        {
          "output_type": "stream",
          "name": "stdout",
          "text": [
            "Training loss: 0.0010\n",
            "Training metric: 0.9579\n",
            "perturbation loss: 0.0093\n",
            "Validation acc: 0.9333\n",
            "\n",
            "Start of epoch 868\n"
          ]
        },
        {
          "output_type": "stream",
          "name": "stderr",
          "text": [
            "\r 87%|████████▋ | 869/1000 [54:21<08:16,  3.79s/it]"
          ]
        },
        {
          "output_type": "stream",
          "name": "stdout",
          "text": [
            "Training loss: 0.0666\n",
            "Training metric: 0.9579\n",
            "perturbation loss: 0.0284\n",
            "Validation acc: 0.9267\n",
            "\n",
            "Start of epoch 869\n"
          ]
        },
        {
          "output_type": "stream",
          "name": "stderr",
          "text": [
            "\r 87%|████████▋ | 870/1000 [54:25<08:10,  3.77s/it]"
          ]
        },
        {
          "output_type": "stream",
          "name": "stdout",
          "text": [
            "Training loss: 0.0003\n",
            "Training metric: 0.9580\n",
            "perturbation loss: 0.0012\n",
            "Validation acc: 0.9000\n",
            "\n",
            "Start of epoch 870\n"
          ]
        },
        {
          "output_type": "stream",
          "name": "stderr",
          "text": [
            "\r 87%|████████▋ | 871/1000 [54:29<08:05,  3.76s/it]"
          ]
        },
        {
          "output_type": "stream",
          "name": "stdout",
          "text": [
            "Training loss: 0.0002\n",
            "Training metric: 0.9580\n",
            "perturbation loss: 0.0095\n",
            "Validation acc: 0.9400\n",
            "\n",
            "Start of epoch 871\n"
          ]
        },
        {
          "output_type": "stream",
          "name": "stderr",
          "text": [
            "\r 87%|████████▋ | 872/1000 [54:32<08:02,  3.77s/it]"
          ]
        },
        {
          "output_type": "stream",
          "name": "stdout",
          "text": [
            "Training loss: 0.0059\n",
            "Training metric: 0.9580\n",
            "perturbation loss: 0.0183\n",
            "Validation acc: 0.9267\n",
            "\n",
            "Start of epoch 872\n"
          ]
        },
        {
          "output_type": "stream",
          "name": "stderr",
          "text": [
            "\r 87%|████████▋ | 873/1000 [54:36<07:57,  3.76s/it]"
          ]
        },
        {
          "output_type": "stream",
          "name": "stdout",
          "text": [
            "Training loss: 0.0027\n",
            "Training metric: 0.9581\n",
            "perturbation loss: 0.0108\n",
            "Validation acc: 0.9067\n",
            "\n",
            "Start of epoch 873\n"
          ]
        },
        {
          "output_type": "stream",
          "name": "stderr",
          "text": [
            "\r 87%|████████▋ | 874/1000 [54:40<07:52,  3.75s/it]"
          ]
        },
        {
          "output_type": "stream",
          "name": "stdout",
          "text": [
            "Training loss: 0.0024\n",
            "Training metric: 0.9581\n",
            "perturbation loss: 0.0170\n",
            "Validation acc: 0.9067\n",
            "\n",
            "Start of epoch 874\n"
          ]
        },
        {
          "output_type": "stream",
          "name": "stderr",
          "text": [
            "\r 88%|████████▊ | 875/1000 [54:44<07:51,  3.77s/it]"
          ]
        },
        {
          "output_type": "stream",
          "name": "stdout",
          "text": [
            "Training loss: 0.0476\n",
            "Training metric: 0.9582\n",
            "perturbation loss: 0.0074\n",
            "Validation acc: 0.9067\n",
            "\n",
            "Start of epoch 875\n"
          ]
        },
        {
          "output_type": "stream",
          "name": "stderr",
          "text": [
            "\r 88%|████████▊ | 876/1000 [54:48<07:47,  3.77s/it]"
          ]
        },
        {
          "output_type": "stream",
          "name": "stdout",
          "text": [
            "Training loss: 0.0123\n",
            "Training metric: 0.9582\n",
            "perturbation loss: 0.0694\n",
            "Validation acc: 0.9067\n",
            "\n",
            "Start of epoch 876\n"
          ]
        },
        {
          "output_type": "stream",
          "name": "stderr",
          "text": [
            "\r 88%|████████▊ | 877/1000 [54:51<07:42,  3.76s/it]"
          ]
        },
        {
          "output_type": "stream",
          "name": "stdout",
          "text": [
            "Training loss: 0.0210\n",
            "Training metric: 0.9582\n",
            "perturbation loss: 0.0178\n",
            "Validation acc: 0.9267\n",
            "\n",
            "Start of epoch 877\n"
          ]
        },
        {
          "output_type": "stream",
          "name": "stderr",
          "text": [
            "\r 88%|████████▊ | 878/1000 [54:55<07:37,  3.75s/it]"
          ]
        },
        {
          "output_type": "stream",
          "name": "stdout",
          "text": [
            "Training loss: 0.0154\n",
            "Training metric: 0.9583\n",
            "perturbation loss: 0.0470\n",
            "Validation acc: 0.9067\n",
            "\n",
            "Start of epoch 878\n"
          ]
        },
        {
          "output_type": "stream",
          "name": "stderr",
          "text": [
            "\r 88%|████████▊ | 879/1000 [54:59<07:36,  3.77s/it]"
          ]
        },
        {
          "output_type": "stream",
          "name": "stdout",
          "text": [
            "Training loss: 0.0047\n",
            "Training metric: 0.9583\n",
            "perturbation loss: 0.0236\n",
            "Validation acc: 0.9333\n",
            "\n",
            "Start of epoch 879\n"
          ]
        },
        {
          "output_type": "stream",
          "name": "stderr",
          "text": [
            "\r 88%|████████▊ | 880/1000 [55:03<07:31,  3.76s/it]"
          ]
        },
        {
          "output_type": "stream",
          "name": "stdout",
          "text": [
            "Training loss: 0.0133\n",
            "Training metric: 0.9584\n",
            "perturbation loss: 0.0536\n",
            "Validation acc: 0.9400\n",
            "\n",
            "Start of epoch 880\n"
          ]
        },
        {
          "output_type": "stream",
          "name": "stderr",
          "text": [
            "\r 88%|████████▊ | 881/1000 [55:06<07:26,  3.75s/it]"
          ]
        },
        {
          "output_type": "stream",
          "name": "stdout",
          "text": [
            "Training loss: 0.0019\n",
            "Training metric: 0.9584\n",
            "perturbation loss: 0.0149\n",
            "Validation acc: 0.9467\n",
            "\n",
            "Start of epoch 881\n"
          ]
        },
        {
          "output_type": "stream",
          "name": "stderr",
          "text": [
            "\r 88%|████████▊ | 882/1000 [55:10<07:22,  3.75s/it]"
          ]
        },
        {
          "output_type": "stream",
          "name": "stdout",
          "text": [
            "Training loss: 0.0005\n",
            "Training metric: 0.9584\n",
            "perturbation loss: 0.0054\n",
            "Validation acc: 0.9533\n",
            "\n",
            "Start of epoch 882\n"
          ]
        },
        {
          "output_type": "stream",
          "name": "stderr",
          "text": [
            "\r 88%|████████▊ | 883/1000 [55:14<07:21,  3.77s/it]"
          ]
        },
        {
          "output_type": "stream",
          "name": "stdout",
          "text": [
            "Training loss: 0.0005\n",
            "Training metric: 0.9585\n",
            "perturbation loss: 0.0022\n",
            "Validation acc: 0.9400\n",
            "\n",
            "Start of epoch 883\n"
          ]
        },
        {
          "output_type": "stream",
          "name": "stderr",
          "text": [
            "\r 88%|████████▊ | 884/1000 [55:18<07:16,  3.77s/it]"
          ]
        },
        {
          "output_type": "stream",
          "name": "stdout",
          "text": [
            "Training loss: 0.0024\n",
            "Training metric: 0.9585\n",
            "perturbation loss: 0.0051\n",
            "Validation acc: 0.9333\n",
            "\n",
            "Start of epoch 884\n"
          ]
        },
        {
          "output_type": "stream",
          "name": "stderr",
          "text": [
            "\r 88%|████████▊ | 885/1000 [55:21<07:12,  3.76s/it]"
          ]
        },
        {
          "output_type": "stream",
          "name": "stdout",
          "text": [
            "Training loss: 0.0001\n",
            "Training metric: 0.9586\n",
            "perturbation loss: 0.0022\n",
            "Validation acc: 0.9333\n",
            "\n",
            "Start of epoch 885\n"
          ]
        },
        {
          "output_type": "stream",
          "name": "stderr",
          "text": [
            "\r 89%|████████▊ | 886/1000 [55:25<07:10,  3.78s/it]"
          ]
        },
        {
          "output_type": "stream",
          "name": "stdout",
          "text": [
            "Training loss: 0.0002\n",
            "Training metric: 0.9586\n",
            "perturbation loss: 0.0016\n",
            "Validation acc: 0.9467\n",
            "\n",
            "Start of epoch 886\n"
          ]
        },
        {
          "output_type": "stream",
          "name": "stderr",
          "text": [
            "\r 89%|████████▊ | 887/1000 [55:29<07:05,  3.77s/it]"
          ]
        },
        {
          "output_type": "stream",
          "name": "stdout",
          "text": [
            "Training loss: 0.0002\n",
            "Training metric: 0.9587\n",
            "perturbation loss: 0.0012\n",
            "Validation acc: 0.9467\n",
            "\n",
            "Start of epoch 887\n"
          ]
        },
        {
          "output_type": "stream",
          "name": "stderr",
          "text": [
            "\r 89%|████████▉ | 888/1000 [55:33<07:00,  3.76s/it]"
          ]
        },
        {
          "output_type": "stream",
          "name": "stdout",
          "text": [
            "Training loss: 0.0002\n",
            "Training metric: 0.9587\n",
            "perturbation loss: 0.0010\n",
            "Validation acc: 0.9467\n",
            "\n",
            "Start of epoch 888\n"
          ]
        },
        {
          "output_type": "stream",
          "name": "stderr",
          "text": [
            "\r 89%|████████▉ | 889/1000 [55:36<06:56,  3.75s/it]"
          ]
        },
        {
          "output_type": "stream",
          "name": "stdout",
          "text": [
            "Training loss: 0.0002\n",
            "Training metric: 0.9588\n",
            "perturbation loss: 0.0034\n",
            "Validation acc: 0.9400\n",
            "\n",
            "Start of epoch 889\n"
          ]
        },
        {
          "output_type": "stream",
          "name": "stderr",
          "text": [
            "\r 89%|████████▉ | 890/1000 [55:40<06:53,  3.76s/it]"
          ]
        },
        {
          "output_type": "stream",
          "name": "stdout",
          "text": [
            "Training loss: 0.0001\n",
            "Training metric: 0.9588\n",
            "perturbation loss: 0.0005\n",
            "Validation acc: 0.9400\n",
            "\n",
            "Start of epoch 890\n"
          ]
        },
        {
          "output_type": "stream",
          "name": "stderr",
          "text": [
            "\r 89%|████████▉ | 891/1000 [55:44<06:49,  3.75s/it]"
          ]
        },
        {
          "output_type": "stream",
          "name": "stdout",
          "text": [
            "Training loss: 0.0001\n",
            "Training metric: 0.9589\n",
            "perturbation loss: 0.0009\n",
            "Validation acc: 0.9400\n",
            "\n",
            "Start of epoch 891\n"
          ]
        },
        {
          "output_type": "stream",
          "name": "stderr",
          "text": [
            "\r 89%|████████▉ | 892/1000 [55:48<06:44,  3.75s/it]"
          ]
        },
        {
          "output_type": "stream",
          "name": "stdout",
          "text": [
            "Training loss: 0.0003\n",
            "Training metric: 0.9589\n",
            "perturbation loss: 0.0011\n",
            "Validation acc: 0.9400\n",
            "\n",
            "Start of epoch 892\n"
          ]
        },
        {
          "output_type": "stream",
          "name": "stderr",
          "text": [
            "\r 89%|████████▉ | 893/1000 [55:51<06:40,  3.75s/it]"
          ]
        },
        {
          "output_type": "stream",
          "name": "stdout",
          "text": [
            "Training loss: 0.0002\n",
            "Training metric: 0.9590\n",
            "perturbation loss: 0.0012\n",
            "Validation acc: 0.9400\n",
            "\n",
            "Start of epoch 893\n"
          ]
        },
        {
          "output_type": "stream",
          "name": "stderr",
          "text": [
            "\r 89%|████████▉ | 894/1000 [55:55<06:39,  3.77s/it]"
          ]
        },
        {
          "output_type": "stream",
          "name": "stdout",
          "text": [
            "Training loss: 0.0000\n",
            "Training metric: 0.9590\n",
            "perturbation loss: 0.0005\n",
            "Validation acc: 0.9400\n",
            "\n",
            "Start of epoch 894\n"
          ]
        },
        {
          "output_type": "stream",
          "name": "stderr",
          "text": [
            "\r 90%|████████▉ | 895/1000 [55:59<06:35,  3.76s/it]"
          ]
        },
        {
          "output_type": "stream",
          "name": "stdout",
          "text": [
            "Training loss: 0.0001\n",
            "Training metric: 0.9591\n",
            "perturbation loss: 0.0005\n",
            "Validation acc: 0.9400\n",
            "\n",
            "Start of epoch 895\n"
          ]
        },
        {
          "output_type": "stream",
          "name": "stderr",
          "text": [
            "\r 90%|████████▉ | 896/1000 [56:03<06:30,  3.76s/it]"
          ]
        },
        {
          "output_type": "stream",
          "name": "stdout",
          "text": [
            "Training loss: 0.0004\n",
            "Training metric: 0.9591\n",
            "perturbation loss: 0.0009\n",
            "Validation acc: 0.9333\n",
            "\n",
            "Start of epoch 896\n"
          ]
        },
        {
          "output_type": "stream",
          "name": "stderr",
          "text": [
            "\r 90%|████████▉ | 897/1000 [56:07<06:29,  3.78s/it]"
          ]
        },
        {
          "output_type": "stream",
          "name": "stdout",
          "text": [
            "Training loss: 0.0001\n",
            "Training metric: 0.9591\n",
            "perturbation loss: 0.0005\n",
            "Validation acc: 0.9333\n",
            "\n",
            "Start of epoch 897\n"
          ]
        },
        {
          "output_type": "stream",
          "name": "stderr",
          "text": [
            "\r 90%|████████▉ | 898/1000 [56:10<06:24,  3.77s/it]"
          ]
        },
        {
          "output_type": "stream",
          "name": "stdout",
          "text": [
            "Training loss: 0.0000\n",
            "Training metric: 0.9592\n",
            "perturbation loss: 0.0002\n",
            "Validation acc: 0.9400\n",
            "\n",
            "Start of epoch 898\n"
          ]
        },
        {
          "output_type": "stream",
          "name": "stderr",
          "text": [
            "\r 90%|████████▉ | 899/1000 [56:14<06:19,  3.76s/it]"
          ]
        },
        {
          "output_type": "stream",
          "name": "stdout",
          "text": [
            "Training loss: 0.0001\n",
            "Training metric: 0.9592\n",
            "perturbation loss: 0.0012\n",
            "Validation acc: 0.9333\n",
            "\n",
            "Start of epoch 899\n"
          ]
        },
        {
          "output_type": "stream",
          "name": "stderr",
          "text": [
            "\r 90%|█████████ | 900/1000 [56:18<06:15,  3.75s/it]"
          ]
        },
        {
          "output_type": "stream",
          "name": "stdout",
          "text": [
            "Training loss: 0.0001\n",
            "Training metric: 0.9593\n",
            "perturbation loss: 0.0016\n",
            "Validation acc: 0.9333\n",
            "\n",
            "Start of epoch 900\n"
          ]
        },
        {
          "output_type": "stream",
          "name": "stderr",
          "text": [
            "\r 90%|█████████ | 901/1000 [56:22<06:14,  3.78s/it]"
          ]
        },
        {
          "output_type": "stream",
          "name": "stdout",
          "text": [
            "Training loss: 0.0006\n",
            "Training metric: 0.9593\n",
            "perturbation loss: 0.0012\n",
            "Validation acc: 0.9400\n",
            "\n",
            "Start of epoch 901\n"
          ]
        },
        {
          "output_type": "stream",
          "name": "stderr",
          "text": [
            "\r 90%|█████████ | 902/1000 [56:25<06:09,  3.77s/it]"
          ]
        },
        {
          "output_type": "stream",
          "name": "stdout",
          "text": [
            "Training loss: 0.0001\n",
            "Training metric: 0.9594\n",
            "perturbation loss: 0.0016\n",
            "Validation acc: 0.9400\n",
            "\n",
            "Start of epoch 902\n"
          ]
        },
        {
          "output_type": "stream",
          "name": "stderr",
          "text": [
            "\r 90%|█████████ | 903/1000 [56:29<06:05,  3.76s/it]"
          ]
        },
        {
          "output_type": "stream",
          "name": "stdout",
          "text": [
            "Training loss: 0.0001\n",
            "Training metric: 0.9594\n",
            "perturbation loss: 0.0009\n",
            "Validation acc: 0.9467\n",
            "\n",
            "Start of epoch 903\n"
          ]
        },
        {
          "output_type": "stream",
          "name": "stderr",
          "text": [
            "\r 90%|█████████ | 904/1000 [56:33<06:03,  3.78s/it]"
          ]
        },
        {
          "output_type": "stream",
          "name": "stdout",
          "text": [
            "Training loss: 0.0001\n",
            "Training metric: 0.9595\n",
            "perturbation loss: 0.0004\n",
            "Validation acc: 0.9400\n",
            "\n",
            "Start of epoch 904\n"
          ]
        },
        {
          "output_type": "stream",
          "name": "stderr",
          "text": [
            "\r 90%|█████████ | 905/1000 [56:37<05:58,  3.77s/it]"
          ]
        },
        {
          "output_type": "stream",
          "name": "stdout",
          "text": [
            "Training loss: 0.0000\n",
            "Training metric: 0.9595\n",
            "perturbation loss: 0.0003\n",
            "Validation acc: 0.9467\n",
            "\n",
            "Start of epoch 905\n"
          ]
        },
        {
          "output_type": "stream",
          "name": "stderr",
          "text": [
            "\r 91%|█████████ | 906/1000 [56:40<05:53,  3.76s/it]"
          ]
        },
        {
          "output_type": "stream",
          "name": "stdout",
          "text": [
            "Training loss: 0.0000\n",
            "Training metric: 0.9596\n",
            "perturbation loss: 0.0003\n",
            "Validation acc: 0.9333\n",
            "\n",
            "Start of epoch 906\n"
          ]
        },
        {
          "output_type": "stream",
          "name": "stderr",
          "text": [
            "\r 91%|█████████ | 907/1000 [56:44<05:49,  3.76s/it]"
          ]
        },
        {
          "output_type": "stream",
          "name": "stdout",
          "text": [
            "Training loss: 0.0000\n",
            "Training metric: 0.9596\n",
            "perturbation loss: 0.0005\n",
            "Validation acc: 0.9333\n",
            "\n",
            "Start of epoch 907\n"
          ]
        },
        {
          "output_type": "stream",
          "name": "stderr",
          "text": [
            "\r 91%|█████████ | 908/1000 [56:48<05:47,  3.78s/it]"
          ]
        },
        {
          "output_type": "stream",
          "name": "stdout",
          "text": [
            "Training loss: 0.0001\n",
            "Training metric: 0.9596\n",
            "perturbation loss: 0.0006\n",
            "Validation acc: 0.9400\n",
            "\n",
            "Start of epoch 908\n"
          ]
        },
        {
          "output_type": "stream",
          "name": "stderr",
          "text": [
            "\r 91%|█████████ | 909/1000 [56:52<05:42,  3.77s/it]"
          ]
        },
        {
          "output_type": "stream",
          "name": "stdout",
          "text": [
            "Training loss: 0.0001\n",
            "Training metric: 0.9597\n",
            "perturbation loss: 0.0007\n",
            "Validation acc: 0.9400\n",
            "\n",
            "Start of epoch 909\n"
          ]
        },
        {
          "output_type": "stream",
          "name": "stderr",
          "text": [
            "\r 91%|█████████ | 910/1000 [56:55<05:38,  3.76s/it]"
          ]
        },
        {
          "output_type": "stream",
          "name": "stdout",
          "text": [
            "Training loss: 0.0000\n",
            "Training metric: 0.9597\n",
            "perturbation loss: 0.0002\n",
            "Validation acc: 0.9467\n",
            "\n",
            "Start of epoch 910\n"
          ]
        },
        {
          "output_type": "stream",
          "name": "stderr",
          "text": [
            "\r 91%|█████████ | 911/1000 [56:59<05:34,  3.75s/it]"
          ]
        },
        {
          "output_type": "stream",
          "name": "stdout",
          "text": [
            "Training loss: 0.0000\n",
            "Training metric: 0.9598\n",
            "perturbation loss: 0.0004\n",
            "Validation acc: 0.9400\n",
            "\n",
            "Start of epoch 911\n"
          ]
        },
        {
          "output_type": "stream",
          "name": "stderr",
          "text": [
            "\r 91%|█████████ | 912/1000 [57:03<05:32,  3.77s/it]"
          ]
        },
        {
          "output_type": "stream",
          "name": "stdout",
          "text": [
            "Training loss: 0.0000\n",
            "Training metric: 0.9598\n",
            "perturbation loss: 0.0002\n",
            "Validation acc: 0.9400\n",
            "\n",
            "Start of epoch 912\n"
          ]
        },
        {
          "output_type": "stream",
          "name": "stderr",
          "text": [
            "\r 91%|█████████▏| 913/1000 [57:07<05:27,  3.77s/it]"
          ]
        },
        {
          "output_type": "stream",
          "name": "stdout",
          "text": [
            "Training loss: 0.0000\n",
            "Training metric: 0.9599\n",
            "perturbation loss: 0.0002\n",
            "Validation acc: 0.9400\n",
            "\n",
            "Start of epoch 913\n"
          ]
        },
        {
          "output_type": "stream",
          "name": "stderr",
          "text": [
            "\r 91%|█████████▏| 914/1000 [57:11<05:23,  3.76s/it]"
          ]
        },
        {
          "output_type": "stream",
          "name": "stdout",
          "text": [
            "Training loss: 0.0000\n",
            "Training metric: 0.9599\n",
            "perturbation loss: 0.0006\n",
            "Validation acc: 0.9400\n",
            "\n",
            "Start of epoch 914\n"
          ]
        },
        {
          "output_type": "stream",
          "name": "stderr",
          "text": [
            "\r 92%|█████████▏| 915/1000 [57:14<05:20,  3.78s/it]"
          ]
        },
        {
          "output_type": "stream",
          "name": "stdout",
          "text": [
            "Training loss: 0.0000\n",
            "Training metric: 0.9599\n",
            "perturbation loss: 0.0003\n",
            "Validation acc: 0.9400\n",
            "\n",
            "Start of epoch 915\n"
          ]
        },
        {
          "output_type": "stream",
          "name": "stderr",
          "text": [
            "\r 92%|█████████▏| 916/1000 [57:18<05:16,  3.77s/it]"
          ]
        },
        {
          "output_type": "stream",
          "name": "stdout",
          "text": [
            "Training loss: 0.0000\n",
            "Training metric: 0.9600\n",
            "perturbation loss: 0.0003\n",
            "Validation acc: 0.9400\n",
            "\n",
            "Start of epoch 916\n"
          ]
        },
        {
          "output_type": "stream",
          "name": "stderr",
          "text": [
            "\r 92%|█████████▏| 917/1000 [57:22<05:11,  3.76s/it]"
          ]
        },
        {
          "output_type": "stream",
          "name": "stdout",
          "text": [
            "Training loss: 0.0000\n",
            "Training metric: 0.9600\n",
            "perturbation loss: 0.0004\n",
            "Validation acc: 0.9400\n",
            "\n",
            "Start of epoch 917\n"
          ]
        },
        {
          "output_type": "stream",
          "name": "stderr",
          "text": [
            "\r 92%|█████████▏| 918/1000 [57:26<05:08,  3.76s/it]"
          ]
        },
        {
          "output_type": "stream",
          "name": "stdout",
          "text": [
            "Training loss: 0.0000\n",
            "Training metric: 0.9601\n",
            "perturbation loss: 0.0004\n",
            "Validation acc: 0.9400\n",
            "\n",
            "Start of epoch 918\n"
          ]
        },
        {
          "output_type": "stream",
          "name": "stderr",
          "text": [
            "\r 92%|█████████▏| 919/1000 [57:29<05:04,  3.76s/it]"
          ]
        },
        {
          "output_type": "stream",
          "name": "stdout",
          "text": [
            "Training loss: 0.0000\n",
            "Training metric: 0.9601\n",
            "perturbation loss: 0.0002\n",
            "Validation acc: 0.9400\n",
            "\n",
            "Start of epoch 919\n"
          ]
        },
        {
          "output_type": "stream",
          "name": "stderr",
          "text": [
            "\r 92%|█████████▏| 920/1000 [57:33<05:00,  3.76s/it]"
          ]
        },
        {
          "output_type": "stream",
          "name": "stdout",
          "text": [
            "Training loss: 0.0000\n",
            "Training metric: 0.9602\n",
            "perturbation loss: 0.0001\n",
            "Validation acc: 0.9400\n",
            "\n",
            "Start of epoch 920\n"
          ]
        },
        {
          "output_type": "stream",
          "name": "stderr",
          "text": [
            "\r 92%|█████████▏| 921/1000 [57:37<04:56,  3.75s/it]"
          ]
        },
        {
          "output_type": "stream",
          "name": "stdout",
          "text": [
            "Training loss: 0.0000\n",
            "Training metric: 0.9602\n",
            "perturbation loss: 0.0004\n",
            "Validation acc: 0.9267\n",
            "\n",
            "Start of epoch 921\n"
          ]
        },
        {
          "output_type": "stream",
          "name": "stderr",
          "text": [
            "\r 92%|█████████▏| 922/1000 [57:41<04:52,  3.75s/it]"
          ]
        },
        {
          "output_type": "stream",
          "name": "stdout",
          "text": [
            "Training loss: 0.0000\n",
            "Training metric: 0.9603\n",
            "perturbation loss: 0.0006\n",
            "Validation acc: 0.9333\n",
            "\n",
            "Start of epoch 922\n"
          ]
        },
        {
          "output_type": "stream",
          "name": "stderr",
          "text": [
            "\r 92%|█████████▏| 923/1000 [57:44<04:50,  3.77s/it]"
          ]
        },
        {
          "output_type": "stream",
          "name": "stdout",
          "text": [
            "Training loss: 0.0000\n",
            "Training metric: 0.9603\n",
            "perturbation loss: 0.0001\n",
            "Validation acc: 0.9333\n",
            "\n",
            "Start of epoch 923\n"
          ]
        },
        {
          "output_type": "stream",
          "name": "stderr",
          "text": [
            "\r 92%|█████████▏| 924/1000 [57:48<04:46,  3.76s/it]"
          ]
        },
        {
          "output_type": "stream",
          "name": "stdout",
          "text": [
            "Training loss: 0.0000\n",
            "Training metric: 0.9603\n",
            "perturbation loss: 0.0001\n",
            "Validation acc: 0.9400\n",
            "\n",
            "Start of epoch 924\n"
          ]
        },
        {
          "output_type": "stream",
          "name": "stderr",
          "text": [
            "\r 92%|█████████▎| 925/1000 [57:52<04:41,  3.76s/it]"
          ]
        },
        {
          "output_type": "stream",
          "name": "stdout",
          "text": [
            "Training loss: 0.0000\n",
            "Training metric: 0.9604\n",
            "perturbation loss: 0.0001\n",
            "Validation acc: 0.9333\n",
            "\n",
            "Start of epoch 925\n"
          ]
        },
        {
          "output_type": "stream",
          "name": "stderr",
          "text": [
            "\r 93%|█████████▎| 926/1000 [57:56<04:39,  3.78s/it]"
          ]
        },
        {
          "output_type": "stream",
          "name": "stdout",
          "text": [
            "Training loss: 0.0000\n",
            "Training metric: 0.9604\n",
            "perturbation loss: 0.0001\n",
            "Validation acc: 0.9267\n",
            "\n",
            "Start of epoch 926\n"
          ]
        },
        {
          "output_type": "stream",
          "name": "stderr",
          "text": [
            "\r 93%|█████████▎| 927/1000 [57:59<04:34,  3.77s/it]"
          ]
        },
        {
          "output_type": "stream",
          "name": "stdout",
          "text": [
            "Training loss: 0.0000\n",
            "Training metric: 0.9605\n",
            "perturbation loss: 0.0003\n",
            "Validation acc: 0.9467\n",
            "\n",
            "Start of epoch 927\n"
          ]
        },
        {
          "output_type": "stream",
          "name": "stderr",
          "text": [
            "\r 93%|█████████▎| 928/1000 [58:03<04:30,  3.76s/it]"
          ]
        },
        {
          "output_type": "stream",
          "name": "stdout",
          "text": [
            "Training loss: 0.0020\n",
            "Training metric: 0.9605\n",
            "perturbation loss: 0.0050\n",
            "Validation acc: 0.9200\n",
            "\n",
            "Start of epoch 928\n"
          ]
        },
        {
          "output_type": "stream",
          "name": "stderr",
          "text": [
            "\r 93%|█████████▎| 929/1000 [58:07<04:26,  3.75s/it]"
          ]
        },
        {
          "output_type": "stream",
          "name": "stdout",
          "text": [
            "Training loss: 0.0191\n",
            "Training metric: 0.9605\n",
            "perturbation loss: 0.0336\n",
            "Validation acc: 0.9400\n",
            "\n",
            "Start of epoch 929\n"
          ]
        },
        {
          "output_type": "stream",
          "name": "stderr",
          "text": [
            "\r 93%|█████████▎| 930/1000 [58:11<04:24,  3.77s/it]"
          ]
        },
        {
          "output_type": "stream",
          "name": "stdout",
          "text": [
            "Training loss: 0.1049\n",
            "Training metric: 0.9606\n",
            "perturbation loss: 0.0470\n",
            "Validation acc: 0.9400\n",
            "\n",
            "Start of epoch 930\n"
          ]
        },
        {
          "output_type": "stream",
          "name": "stderr",
          "text": [
            "\r 93%|█████████▎| 931/1000 [58:15<04:19,  3.77s/it]"
          ]
        },
        {
          "output_type": "stream",
          "name": "stdout",
          "text": [
            "Training loss: 0.0134\n",
            "Training metric: 0.9606\n",
            "perturbation loss: 0.0264\n",
            "Validation acc: 0.9267\n",
            "\n",
            "Start of epoch 931\n"
          ]
        },
        {
          "output_type": "stream",
          "name": "stderr",
          "text": [
            "\r 93%|█████████▎| 932/1000 [58:18<04:15,  3.76s/it]"
          ]
        },
        {
          "output_type": "stream",
          "name": "stdout",
          "text": [
            "Training loss: 0.0472\n",
            "Training metric: 0.9606\n",
            "perturbation loss: 0.0550\n",
            "Validation acc: 0.9467\n",
            "\n",
            "Start of epoch 932\n"
          ]
        },
        {
          "output_type": "stream",
          "name": "stderr",
          "text": [
            "\r 93%|█████████▎| 933/1000 [58:22<04:12,  3.76s/it]"
          ]
        },
        {
          "output_type": "stream",
          "name": "stdout",
          "text": [
            "Training loss: 0.0214\n",
            "Training metric: 0.9607\n",
            "perturbation loss: 0.1093\n",
            "Validation acc: 0.9400\n",
            "\n",
            "Start of epoch 933\n"
          ]
        },
        {
          "output_type": "stream",
          "name": "stderr",
          "text": [
            "\r 93%|█████████▎| 934/1000 [58:26<04:07,  3.76s/it]"
          ]
        },
        {
          "output_type": "stream",
          "name": "stdout",
          "text": [
            "Training loss: 0.0046\n",
            "Training metric: 0.9607\n",
            "perturbation loss: 0.0210\n",
            "Validation acc: 0.9400\n",
            "\n",
            "Start of epoch 934\n"
          ]
        },
        {
          "output_type": "stream",
          "name": "stderr",
          "text": [
            "\r 94%|█████████▎| 935/1000 [58:30<04:05,  3.77s/it]"
          ]
        },
        {
          "output_type": "stream",
          "name": "stdout",
          "text": [
            "Training loss: 0.0004\n",
            "Training metric: 0.9607\n",
            "perturbation loss: 0.0029\n",
            "Validation acc: 0.9400\n",
            "\n",
            "Start of epoch 935\n"
          ]
        },
        {
          "output_type": "stream",
          "name": "stderr",
          "text": [
            "\r 94%|█████████▎| 936/1000 [58:33<04:01,  3.77s/it]"
          ]
        },
        {
          "output_type": "stream",
          "name": "stdout",
          "text": [
            "Training loss: 0.0004\n",
            "Training metric: 0.9608\n",
            "perturbation loss: 0.0078\n",
            "Validation acc: 0.9400\n",
            "\n",
            "Start of epoch 936\n"
          ]
        },
        {
          "output_type": "stream",
          "name": "stderr",
          "text": [
            "\r 94%|█████████▎| 937/1000 [58:37<03:57,  3.77s/it]"
          ]
        },
        {
          "output_type": "stream",
          "name": "stdout",
          "text": [
            "Training loss: 0.0009\n",
            "Training metric: 0.9608\n",
            "perturbation loss: 0.0083\n",
            "Validation acc: 0.9467\n",
            "\n",
            "Start of epoch 937\n"
          ]
        },
        {
          "output_type": "stream",
          "name": "stderr",
          "text": [
            "\r 94%|█████████▍| 938/1000 [58:41<03:53,  3.76s/it]"
          ]
        },
        {
          "output_type": "stream",
          "name": "stdout",
          "text": [
            "Training loss: 0.0004\n",
            "Training metric: 0.9609\n",
            "perturbation loss: 0.0048\n",
            "Validation acc: 0.9467\n",
            "\n",
            "Start of epoch 938\n"
          ]
        },
        {
          "output_type": "stream",
          "name": "stderr",
          "text": [
            "\r 94%|█████████▍| 939/1000 [58:45<03:48,  3.75s/it]"
          ]
        },
        {
          "output_type": "stream",
          "name": "stdout",
          "text": [
            "Training loss: 0.0008\n",
            "Training metric: 0.9609\n",
            "perturbation loss: 0.0076\n",
            "Validation acc: 0.9467\n",
            "\n",
            "Start of epoch 939\n"
          ]
        },
        {
          "output_type": "stream",
          "name": "stderr",
          "text": [
            "\r 94%|█████████▍| 940/1000 [58:48<03:44,  3.75s/it]"
          ]
        },
        {
          "output_type": "stream",
          "name": "stdout",
          "text": [
            "Training loss: 0.0002\n",
            "Training metric: 0.9610\n",
            "perturbation loss: 0.0018\n",
            "Validation acc: 0.9467\n",
            "\n",
            "Start of epoch 940\n"
          ]
        },
        {
          "output_type": "stream",
          "name": "stderr",
          "text": [
            "\r 94%|█████████▍| 941/1000 [58:52<03:42,  3.77s/it]"
          ]
        },
        {
          "output_type": "stream",
          "name": "stdout",
          "text": [
            "Training loss: 0.0000\n",
            "Training metric: 0.9610\n",
            "perturbation loss: 0.0005\n",
            "Validation acc: 0.9467\n",
            "\n",
            "Start of epoch 941\n"
          ]
        },
        {
          "output_type": "stream",
          "name": "stderr",
          "text": [
            "\r 94%|█████████▍| 942/1000 [58:56<03:38,  3.76s/it]"
          ]
        },
        {
          "output_type": "stream",
          "name": "stdout",
          "text": [
            "Training loss: 0.0001\n",
            "Training metric: 0.9610\n",
            "perturbation loss: 0.0011\n",
            "Validation acc: 0.9467\n",
            "\n",
            "Start of epoch 942\n"
          ]
        },
        {
          "output_type": "stream",
          "name": "stderr",
          "text": [
            "\r 94%|█████████▍| 943/1000 [59:00<03:34,  3.76s/it]"
          ]
        },
        {
          "output_type": "stream",
          "name": "stdout",
          "text": [
            "Training loss: 0.0001\n",
            "Training metric: 0.9611\n",
            "perturbation loss: 0.0011\n",
            "Validation acc: 0.9467\n",
            "\n",
            "Start of epoch 943\n"
          ]
        },
        {
          "output_type": "stream",
          "name": "stderr",
          "text": [
            "\r 94%|█████████▍| 944/1000 [59:03<03:31,  3.78s/it]"
          ]
        },
        {
          "output_type": "stream",
          "name": "stdout",
          "text": [
            "Training loss: 0.0023\n",
            "Training metric: 0.9611\n",
            "perturbation loss: 0.0039\n",
            "Validation acc: 0.9467\n",
            "\n",
            "Start of epoch 944\n"
          ]
        },
        {
          "output_type": "stream",
          "name": "stderr",
          "text": [
            "\r 94%|█████████▍| 945/1000 [59:07<03:27,  3.77s/it]"
          ]
        },
        {
          "output_type": "stream",
          "name": "stdout",
          "text": [
            "Training loss: 0.0002\n",
            "Training metric: 0.9612\n",
            "perturbation loss: 0.0020\n",
            "Validation acc: 0.9467\n",
            "\n",
            "Start of epoch 945\n"
          ]
        },
        {
          "output_type": "stream",
          "name": "stderr",
          "text": [
            "\r 95%|█████████▍| 946/1000 [59:11<03:23,  3.76s/it]"
          ]
        },
        {
          "output_type": "stream",
          "name": "stdout",
          "text": [
            "Training loss: 0.0001\n",
            "Training metric: 0.9612\n",
            "perturbation loss: 0.0008\n",
            "Validation acc: 0.9467\n",
            "\n",
            "Start of epoch 946\n"
          ]
        },
        {
          "output_type": "stream",
          "name": "stderr",
          "text": [
            "\r 95%|█████████▍| 947/1000 [59:15<03:19,  3.76s/it]"
          ]
        },
        {
          "output_type": "stream",
          "name": "stdout",
          "text": [
            "Training loss: 0.0001\n",
            "Training metric: 0.9612\n",
            "perturbation loss: 0.0009\n",
            "Validation acc: 0.9467\n",
            "\n",
            "Start of epoch 947\n"
          ]
        },
        {
          "output_type": "stream",
          "name": "stderr",
          "text": [
            "\r 95%|█████████▍| 948/1000 [59:19<03:16,  3.77s/it]"
          ]
        },
        {
          "output_type": "stream",
          "name": "stdout",
          "text": [
            "Training loss: 0.0001\n",
            "Training metric: 0.9613\n",
            "perturbation loss: 0.0012\n",
            "Validation acc: 0.9467\n",
            "\n",
            "Start of epoch 948\n"
          ]
        },
        {
          "output_type": "stream",
          "name": "stderr",
          "text": [
            "\r 95%|█████████▍| 949/1000 [59:22<03:12,  3.77s/it]"
          ]
        },
        {
          "output_type": "stream",
          "name": "stdout",
          "text": [
            "Training loss: 0.0001\n",
            "Training metric: 0.9613\n",
            "perturbation loss: 0.0005\n",
            "Validation acc: 0.9467\n",
            "\n",
            "Start of epoch 949\n"
          ]
        },
        {
          "output_type": "stream",
          "name": "stderr",
          "text": [
            "\r 95%|█████████▌| 950/1000 [59:26<03:07,  3.76s/it]"
          ]
        },
        {
          "output_type": "stream",
          "name": "stdout",
          "text": [
            "Training loss: 0.0000\n",
            "Training metric: 0.9614\n",
            "perturbation loss: 0.0004\n",
            "Validation acc: 0.9400\n",
            "\n",
            "Start of epoch 950\n"
          ]
        },
        {
          "output_type": "stream",
          "name": "stderr",
          "text": [
            "\r 95%|█████████▌| 951/1000 [59:30<03:05,  3.78s/it]"
          ]
        },
        {
          "output_type": "stream",
          "name": "stdout",
          "text": [
            "Training loss: 0.0002\n",
            "Training metric: 0.9614\n",
            "perturbation loss: 0.0018\n",
            "Validation acc: 0.9400\n",
            "\n",
            "Start of epoch 951\n"
          ]
        },
        {
          "output_type": "stream",
          "name": "stderr",
          "text": [
            "\r 95%|█████████▌| 952/1000 [59:34<03:00,  3.77s/it]"
          ]
        },
        {
          "output_type": "stream",
          "name": "stdout",
          "text": [
            "Training loss: 0.0001\n",
            "Training metric: 0.9614\n",
            "perturbation loss: 0.0006\n",
            "Validation acc: 0.9400\n",
            "\n",
            "Start of epoch 952\n"
          ]
        },
        {
          "output_type": "stream",
          "name": "stderr",
          "text": [
            "\r 95%|█████████▌| 953/1000 [59:37<02:57,  3.78s/it]"
          ]
        },
        {
          "output_type": "stream",
          "name": "stdout",
          "text": [
            "Training loss: 0.0000\n",
            "Training metric: 0.9615\n",
            "perturbation loss: 0.0003\n",
            "Validation acc: 0.9400\n",
            "\n",
            "Start of epoch 953\n"
          ]
        },
        {
          "output_type": "stream",
          "name": "stderr",
          "text": [
            "\r 95%|█████████▌| 954/1000 [59:41<02:53,  3.77s/it]"
          ]
        },
        {
          "output_type": "stream",
          "name": "stdout",
          "text": [
            "Training loss: 0.0000\n",
            "Training metric: 0.9615\n",
            "perturbation loss: 0.0004\n",
            "Validation acc: 0.9400\n",
            "\n",
            "Start of epoch 954\n"
          ]
        },
        {
          "output_type": "stream",
          "name": "stderr",
          "text": [
            "\r 96%|█████████▌| 955/1000 [59:45<02:50,  3.78s/it]"
          ]
        },
        {
          "output_type": "stream",
          "name": "stdout",
          "text": [
            "Training loss: 0.0001\n",
            "Training metric: 0.9616\n",
            "perturbation loss: 0.0005\n",
            "Validation acc: 0.9400\n",
            "\n",
            "Start of epoch 955\n"
          ]
        },
        {
          "output_type": "stream",
          "name": "stderr",
          "text": [
            "\r 96%|█████████▌| 956/1000 [59:49<02:45,  3.77s/it]"
          ]
        },
        {
          "output_type": "stream",
          "name": "stdout",
          "text": [
            "Training loss: 0.0000\n",
            "Training metric: 0.9616\n",
            "perturbation loss: 0.0002\n",
            "Validation acc: 0.9400\n",
            "\n",
            "Start of epoch 956\n"
          ]
        },
        {
          "output_type": "stream",
          "name": "stderr",
          "text": [
            "\r 96%|█████████▌| 957/1000 [59:52<02:41,  3.76s/it]"
          ]
        },
        {
          "output_type": "stream",
          "name": "stdout",
          "text": [
            "Training loss: 0.0000\n",
            "Training metric: 0.9616\n",
            "perturbation loss: 0.0002\n",
            "Validation acc: 0.9400\n",
            "\n",
            "Start of epoch 957\n"
          ]
        },
        {
          "output_type": "stream",
          "name": "stderr",
          "text": [
            "\r 96%|█████████▌| 958/1000 [59:56<02:37,  3.75s/it]"
          ]
        },
        {
          "output_type": "stream",
          "name": "stdout",
          "text": [
            "Training loss: 0.0001\n",
            "Training metric: 0.9617\n",
            "perturbation loss: 0.0008\n",
            "Validation acc: 0.9400\n",
            "\n",
            "Start of epoch 958\n"
          ]
        },
        {
          "output_type": "stream",
          "name": "stderr",
          "text": [
            "\r 96%|█████████▌| 959/1000 [1:00:00<02:34,  3.77s/it]"
          ]
        },
        {
          "output_type": "stream",
          "name": "stdout",
          "text": [
            "Training loss: 0.0001\n",
            "Training metric: 0.9617\n",
            "perturbation loss: 0.0008\n",
            "Validation acc: 0.9400\n",
            "\n",
            "Start of epoch 959\n"
          ]
        },
        {
          "output_type": "stream",
          "name": "stderr",
          "text": [
            "\r 96%|█████████▌| 960/1000 [1:00:04<02:30,  3.77s/it]"
          ]
        },
        {
          "output_type": "stream",
          "name": "stdout",
          "text": [
            "Training loss: 0.0000\n",
            "Training metric: 0.9618\n",
            "perturbation loss: 0.0013\n",
            "Validation acc: 0.9400\n",
            "\n",
            "Start of epoch 960\n"
          ]
        },
        {
          "output_type": "stream",
          "name": "stderr",
          "text": [
            "\r 96%|█████████▌| 961/1000 [1:00:07<02:26,  3.76s/it]"
          ]
        },
        {
          "output_type": "stream",
          "name": "stdout",
          "text": [
            "Training loss: 0.0000\n",
            "Training metric: 0.9618\n",
            "perturbation loss: 0.0005\n",
            "Validation acc: 0.9400\n",
            "\n",
            "Start of epoch 961\n"
          ]
        },
        {
          "output_type": "stream",
          "name": "stderr",
          "text": [
            "\r 96%|█████████▌| 962/1000 [1:00:11<02:23,  3.77s/it]"
          ]
        },
        {
          "output_type": "stream",
          "name": "stdout",
          "text": [
            "Training loss: 0.0001\n",
            "Training metric: 0.9618\n",
            "perturbation loss: 0.0005\n",
            "Validation acc: 0.9467\n",
            "\n",
            "Start of epoch 962\n"
          ]
        },
        {
          "output_type": "stream",
          "name": "stderr",
          "text": [
            "\r 96%|█████████▋| 963/1000 [1:00:15<02:19,  3.77s/it]"
          ]
        },
        {
          "output_type": "stream",
          "name": "stdout",
          "text": [
            "Training loss: 0.0001\n",
            "Training metric: 0.9619\n",
            "perturbation loss: 0.0009\n",
            "Validation acc: 0.9533\n",
            "\n",
            "Start of epoch 963\n"
          ]
        },
        {
          "output_type": "stream",
          "name": "stderr",
          "text": [
            "\r 96%|█████████▋| 964/1000 [1:00:19<02:15,  3.76s/it]"
          ]
        },
        {
          "output_type": "stream",
          "name": "stdout",
          "text": [
            "Training loss: 0.0000\n",
            "Training metric: 0.9619\n",
            "perturbation loss: 0.0003\n",
            "Validation acc: 0.9533\n",
            "\n",
            "Start of epoch 964\n"
          ]
        },
        {
          "output_type": "stream",
          "name": "stderr",
          "text": [
            "\r 96%|█████████▋| 965/1000 [1:00:23<02:11,  3.75s/it]"
          ]
        },
        {
          "output_type": "stream",
          "name": "stdout",
          "text": [
            "Training loss: 0.0000\n",
            "Training metric: 0.9620\n",
            "perturbation loss: 0.0003\n",
            "Validation acc: 0.9467\n",
            "\n",
            "Start of epoch 965\n"
          ]
        },
        {
          "output_type": "stream",
          "name": "stderr",
          "text": [
            "\r 97%|█████████▋| 966/1000 [1:00:26<02:08,  3.77s/it]"
          ]
        },
        {
          "output_type": "stream",
          "name": "stdout",
          "text": [
            "Training loss: 0.0000\n",
            "Training metric: 0.9620\n",
            "perturbation loss: 0.0003\n",
            "Validation acc: 0.9400\n",
            "\n",
            "Start of epoch 966\n"
          ]
        },
        {
          "output_type": "stream",
          "name": "stderr",
          "text": [
            "\r 97%|█████████▋| 967/1000 [1:00:30<02:04,  3.77s/it]"
          ]
        },
        {
          "output_type": "stream",
          "name": "stdout",
          "text": [
            "Training loss: 0.0001\n",
            "Training metric: 0.9620\n",
            "perturbation loss: 0.0002\n",
            "Validation acc: 0.9400\n",
            "\n",
            "Start of epoch 967\n"
          ]
        },
        {
          "output_type": "stream",
          "name": "stderr",
          "text": [
            "\r 97%|█████████▋| 968/1000 [1:00:34<02:00,  3.76s/it]"
          ]
        },
        {
          "output_type": "stream",
          "name": "stdout",
          "text": [
            "Training loss: 0.0000\n",
            "Training metric: 0.9621\n",
            "perturbation loss: 0.0001\n",
            "Validation acc: 0.9400\n",
            "\n",
            "Start of epoch 968\n"
          ]
        },
        {
          "output_type": "stream",
          "name": "stderr",
          "text": [
            "\r 97%|█████████▋| 969/1000 [1:00:38<01:56,  3.76s/it]"
          ]
        },
        {
          "output_type": "stream",
          "name": "stdout",
          "text": [
            "Training loss: 0.0000\n",
            "Training metric: 0.9621\n",
            "perturbation loss: 0.0013\n",
            "Validation acc: 0.9533\n",
            "\n",
            "Start of epoch 969\n"
          ]
        },
        {
          "output_type": "stream",
          "name": "stderr",
          "text": [
            "\r 97%|█████████▋| 970/1000 [1:00:41<01:52,  3.75s/it]"
          ]
        },
        {
          "output_type": "stream",
          "name": "stdout",
          "text": [
            "Training loss: 0.0000\n",
            "Training metric: 0.9622\n",
            "perturbation loss: 0.0001\n",
            "Validation acc: 0.9467\n",
            "\n",
            "Start of epoch 970\n"
          ]
        },
        {
          "output_type": "stream",
          "name": "stderr",
          "text": [
            "\r 97%|█████████▋| 971/1000 [1:00:45<01:48,  3.75s/it]"
          ]
        },
        {
          "output_type": "stream",
          "name": "stdout",
          "text": [
            "Training loss: 0.0001\n",
            "Training metric: 0.9622\n",
            "perturbation loss: 0.0004\n",
            "Validation acc: 0.9467\n",
            "\n",
            "Start of epoch 971\n"
          ]
        },
        {
          "output_type": "stream",
          "name": "stderr",
          "text": [
            "\r 97%|█████████▋| 972/1000 [1:00:49<01:44,  3.75s/it]"
          ]
        },
        {
          "output_type": "stream",
          "name": "stdout",
          "text": [
            "Training loss: 0.0000\n",
            "Training metric: 0.9622\n",
            "perturbation loss: 0.0003\n",
            "Validation acc: 0.9467\n",
            "\n",
            "Start of epoch 972\n"
          ]
        },
        {
          "output_type": "stream",
          "name": "stderr",
          "text": [
            "\r 97%|█████████▋| 973/1000 [1:00:53<01:41,  3.77s/it]"
          ]
        },
        {
          "output_type": "stream",
          "name": "stdout",
          "text": [
            "Training loss: 0.0000\n",
            "Training metric: 0.9623\n",
            "perturbation loss: 0.0002\n",
            "Validation acc: 0.9467\n",
            "\n",
            "Start of epoch 973\n"
          ]
        },
        {
          "output_type": "stream",
          "name": "stderr",
          "text": [
            "\r 97%|█████████▋| 974/1000 [1:00:56<01:37,  3.76s/it]"
          ]
        },
        {
          "output_type": "stream",
          "name": "stdout",
          "text": [
            "Training loss: 0.0000\n",
            "Training metric: 0.9623\n",
            "perturbation loss: 0.0002\n",
            "Validation acc: 0.9467\n",
            "\n",
            "Start of epoch 974\n"
          ]
        },
        {
          "output_type": "stream",
          "name": "stderr",
          "text": [
            "\r 98%|█████████▊| 975/1000 [1:01:00<01:33,  3.76s/it]"
          ]
        },
        {
          "output_type": "stream",
          "name": "stdout",
          "text": [
            "Training loss: 0.0000\n",
            "Training metric: 0.9624\n",
            "perturbation loss: 0.0002\n",
            "Validation acc: 0.9467\n",
            "\n",
            "Start of epoch 975\n"
          ]
        },
        {
          "output_type": "stream",
          "name": "stderr",
          "text": [
            "\r 98%|█████████▊| 976/1000 [1:01:04<01:30,  3.75s/it]"
          ]
        },
        {
          "output_type": "stream",
          "name": "stdout",
          "text": [
            "Training loss: 0.0000\n",
            "Training metric: 0.9624\n",
            "perturbation loss: 0.0005\n",
            "Validation acc: 0.9467\n",
            "\n",
            "Start of epoch 976\n"
          ]
        },
        {
          "output_type": "stream",
          "name": "stderr",
          "text": [
            "\r 98%|█████████▊| 977/1000 [1:01:08<01:26,  3.77s/it]"
          ]
        },
        {
          "output_type": "stream",
          "name": "stdout",
          "text": [
            "Training loss: 0.0000\n",
            "Training metric: 0.9624\n",
            "perturbation loss: 0.0001\n",
            "Validation acc: 0.9533\n",
            "\n",
            "Start of epoch 977\n"
          ]
        },
        {
          "output_type": "stream",
          "name": "stderr",
          "text": [
            "\r 98%|█████████▊| 978/1000 [1:01:11<01:22,  3.77s/it]"
          ]
        },
        {
          "output_type": "stream",
          "name": "stdout",
          "text": [
            "Training loss: 0.0000\n",
            "Training metric: 0.9625\n",
            "perturbation loss: 0.0002\n",
            "Validation acc: 0.9400\n",
            "\n",
            "Start of epoch 978\n"
          ]
        },
        {
          "output_type": "stream",
          "name": "stderr",
          "text": [
            "\r 98%|█████████▊| 979/1000 [1:01:15<01:18,  3.76s/it]"
          ]
        },
        {
          "output_type": "stream",
          "name": "stdout",
          "text": [
            "Training loss: 0.0000\n",
            "Training metric: 0.9625\n",
            "perturbation loss: 0.0001\n",
            "Validation acc: 0.9467\n",
            "\n",
            "Start of epoch 979\n"
          ]
        },
        {
          "output_type": "stream",
          "name": "stderr",
          "text": [
            "\r 98%|█████████▊| 980/1000 [1:01:19<01:15,  3.78s/it]"
          ]
        },
        {
          "output_type": "stream",
          "name": "stdout",
          "text": [
            "Training loss: 0.0000\n",
            "Training metric: 0.9625\n",
            "perturbation loss: 0.0001\n",
            "Validation acc: 0.9533\n",
            "\n",
            "Start of epoch 980\n"
          ]
        },
        {
          "output_type": "stream",
          "name": "stderr",
          "text": [
            "\r 98%|█████████▊| 981/1000 [1:01:23<01:11,  3.77s/it]"
          ]
        },
        {
          "output_type": "stream",
          "name": "stdout",
          "text": [
            "Training loss: 0.0000\n",
            "Training metric: 0.9626\n",
            "perturbation loss: 0.0002\n",
            "Validation acc: 0.9600\n",
            "\n",
            "Start of epoch 981\n"
          ]
        },
        {
          "output_type": "stream",
          "name": "stderr",
          "text": [
            "\r 98%|█████████▊| 982/1000 [1:01:26<01:07,  3.76s/it]"
          ]
        },
        {
          "output_type": "stream",
          "name": "stdout",
          "text": [
            "Training loss: 0.0000\n",
            "Training metric: 0.9626\n",
            "perturbation loss: 0.0001\n",
            "Validation acc: 0.9600\n",
            "\n",
            "Start of epoch 982\n"
          ]
        },
        {
          "output_type": "stream",
          "name": "stderr",
          "text": [
            "\r 98%|█████████▊| 983/1000 [1:01:30<01:03,  3.76s/it]"
          ]
        },
        {
          "output_type": "stream",
          "name": "stdout",
          "text": [
            "Training loss: 0.0000\n",
            "Training metric: 0.9627\n",
            "perturbation loss: 0.0001\n",
            "Validation acc: 0.9467\n",
            "\n",
            "Start of epoch 983\n"
          ]
        },
        {
          "output_type": "stream",
          "name": "stderr",
          "text": [
            "\r 98%|█████████▊| 984/1000 [1:01:34<01:00,  3.78s/it]"
          ]
        },
        {
          "output_type": "stream",
          "name": "stdout",
          "text": [
            "Training loss: 0.0000\n",
            "Training metric: 0.9627\n",
            "perturbation loss: 0.0001\n",
            "Validation acc: 0.9533\n",
            "\n",
            "Start of epoch 984\n"
          ]
        },
        {
          "output_type": "stream",
          "name": "stderr",
          "text": [
            "\r 98%|█████████▊| 985/1000 [1:01:38<00:56,  3.77s/it]"
          ]
        },
        {
          "output_type": "stream",
          "name": "stdout",
          "text": [
            "Training loss: 0.0000\n",
            "Training metric: 0.9627\n",
            "perturbation loss: 0.0002\n",
            "Validation acc: 0.9533\n",
            "\n",
            "Start of epoch 985\n"
          ]
        },
        {
          "output_type": "stream",
          "name": "stderr",
          "text": [
            "\r 99%|█████████▊| 986/1000 [1:01:42<00:52,  3.76s/it]"
          ]
        },
        {
          "output_type": "stream",
          "name": "stdout",
          "text": [
            "Training loss: 0.0000\n",
            "Training metric: 0.9628\n",
            "perturbation loss: 0.0001\n",
            "Validation acc: 0.9467\n",
            "\n",
            "Start of epoch 986\n"
          ]
        },
        {
          "output_type": "stream",
          "name": "stderr",
          "text": [
            "\r 99%|█████████▊| 987/1000 [1:01:45<00:48,  3.75s/it]"
          ]
        },
        {
          "output_type": "stream",
          "name": "stdout",
          "text": [
            "Training loss: 0.0000\n",
            "Training metric: 0.9628\n",
            "perturbation loss: 0.0001\n",
            "Validation acc: 0.9600\n",
            "\n",
            "Start of epoch 987\n"
          ]
        },
        {
          "output_type": "stream",
          "name": "stderr",
          "text": [
            "\r 99%|█████████▉| 988/1000 [1:01:49<00:45,  3.75s/it]"
          ]
        },
        {
          "output_type": "stream",
          "name": "stdout",
          "text": [
            "Training loss: 0.0000\n",
            "Training metric: 0.9628\n",
            "perturbation loss: 0.0004\n",
            "Validation acc: 0.9600\n",
            "\n",
            "Start of epoch 988\n"
          ]
        },
        {
          "output_type": "stream",
          "name": "stderr",
          "text": [
            "\r 99%|█████████▉| 989/1000 [1:01:53<00:41,  3.75s/it]"
          ]
        },
        {
          "output_type": "stream",
          "name": "stdout",
          "text": [
            "Training loss: 0.0000\n",
            "Training metric: 0.9629\n",
            "perturbation loss: 0.0001\n",
            "Validation acc: 0.9600\n",
            "\n",
            "Start of epoch 989\n"
          ]
        },
        {
          "output_type": "stream",
          "name": "stderr",
          "text": [
            "\r 99%|█████████▉| 990/1000 [1:01:57<00:37,  3.74s/it]"
          ]
        },
        {
          "output_type": "stream",
          "name": "stdout",
          "text": [
            "Training loss: 0.0000\n",
            "Training metric: 0.9629\n",
            "perturbation loss: 0.0001\n",
            "Validation acc: 0.9600\n",
            "\n",
            "Start of epoch 990\n"
          ]
        },
        {
          "output_type": "stream",
          "name": "stderr",
          "text": [
            "\r 99%|█████████▉| 991/1000 [1:02:00<00:33,  3.77s/it]"
          ]
        },
        {
          "output_type": "stream",
          "name": "stdout",
          "text": [
            "Training loss: 0.0000\n",
            "Training metric: 0.9630\n",
            "perturbation loss: 0.0001\n",
            "Validation acc: 0.9600\n",
            "\n",
            "Start of epoch 991\n"
          ]
        },
        {
          "output_type": "stream",
          "name": "stderr",
          "text": [
            "\r 99%|█████████▉| 992/1000 [1:02:04<00:30,  3.76s/it]"
          ]
        },
        {
          "output_type": "stream",
          "name": "stdout",
          "text": [
            "Training loss: 0.0000\n",
            "Training metric: 0.9630\n",
            "perturbation loss: 0.0001\n",
            "Validation acc: 0.9600\n",
            "\n",
            "Start of epoch 992\n"
          ]
        },
        {
          "output_type": "stream",
          "name": "stderr",
          "text": [
            "\r 99%|█████████▉| 993/1000 [1:02:08<00:26,  3.75s/it]"
          ]
        },
        {
          "output_type": "stream",
          "name": "stdout",
          "text": [
            "Training loss: 0.0000\n",
            "Training metric: 0.9630\n",
            "perturbation loss: 0.0001\n",
            "Validation acc: 0.9467\n",
            "\n",
            "Start of epoch 993\n"
          ]
        },
        {
          "output_type": "stream",
          "name": "stderr",
          "text": [
            "\r 99%|█████████▉| 994/1000 [1:02:12<00:22,  3.76s/it]"
          ]
        },
        {
          "output_type": "stream",
          "name": "stdout",
          "text": [
            "Training loss: 0.0000\n",
            "Training metric: 0.9631\n",
            "perturbation loss: 0.0002\n",
            "Validation acc: 0.9400\n",
            "\n",
            "Start of epoch 994\n"
          ]
        },
        {
          "output_type": "stream",
          "name": "stderr",
          "text": [
            "\r100%|█████████▉| 995/1000 [1:02:15<00:18,  3.78s/it]"
          ]
        },
        {
          "output_type": "stream",
          "name": "stdout",
          "text": [
            "Training loss: 0.0000\n",
            "Training metric: 0.9631\n",
            "perturbation loss: 0.0003\n",
            "Validation acc: 0.9400\n",
            "\n",
            "Start of epoch 995\n"
          ]
        },
        {
          "output_type": "stream",
          "name": "stderr",
          "text": [
            "\r100%|█████████▉| 996/1000 [1:02:19<00:15,  3.77s/it]"
          ]
        },
        {
          "output_type": "stream",
          "name": "stdout",
          "text": [
            "Training loss: 0.0098\n",
            "Training metric: 0.9631\n",
            "perturbation loss: 0.0219\n",
            "Validation acc: 0.9467\n",
            "\n",
            "Start of epoch 996\n"
          ]
        },
        {
          "output_type": "stream",
          "name": "stderr",
          "text": [
            "\r100%|█████████▉| 997/1000 [1:02:23<00:11,  3.76s/it]"
          ]
        },
        {
          "output_type": "stream",
          "name": "stdout",
          "text": [
            "Training loss: 0.0003\n",
            "Training metric: 0.9632\n",
            "perturbation loss: 0.0015\n",
            "Validation acc: 0.9200\n",
            "\n",
            "Start of epoch 997\n"
          ]
        },
        {
          "output_type": "stream",
          "name": "stderr",
          "text": [
            "\r100%|█████████▉| 998/1000 [1:02:27<00:07,  3.78s/it]"
          ]
        },
        {
          "output_type": "stream",
          "name": "stdout",
          "text": [
            "Training loss: 0.0015\n",
            "Training metric: 0.9632\n",
            "perturbation loss: 0.0280\n",
            "Validation acc: 0.9400\n",
            "\n",
            "Start of epoch 998\n"
          ]
        },
        {
          "output_type": "stream",
          "name": "stderr",
          "text": [
            "\r100%|█████████▉| 999/1000 [1:02:30<00:03,  3.77s/it]"
          ]
        },
        {
          "output_type": "stream",
          "name": "stdout",
          "text": [
            "Training loss: 0.0001\n",
            "Training metric: 0.9633\n",
            "perturbation loss: 0.0006\n",
            "Validation acc: 0.9600\n",
            "\n",
            "Start of epoch 999\n"
          ]
        },
        {
          "output_type": "stream",
          "name": "stderr",
          "text": [
            "100%|██████████| 1000/1000 [1:02:34<00:00,  3.75s/it]"
          ]
        },
        {
          "output_type": "stream",
          "name": "stdout",
          "text": [
            "Training loss: 0.0034\n",
            "Training metric: 0.9633\n",
            "perturbation loss: 0.0104\n",
            "Validation acc: 0.9533\n"
          ]
        },
        {
          "output_type": "stream",
          "name": "stderr",
          "text": [
            "\n"
          ]
        }
      ],
      "source": [
        "train_loss = []\n",
        "train_metric = []\n",
        "val_metric = []\n",
        "val_loss = []\n",
        "p_loss = []\n",
        "\n",
        "for i in range(4):\n",
        "    for step, (x, label) in enumerate(train_dataset):\n",
        "        pre_train(x, label)\n",
        "\n",
        "for epoch in tqdm(range(1000)):\n",
        "    print(\"\\nStart of epoch %d\" % (epoch,))\n",
        "    for step, (x, label) in enumerate(train_dataset):\n",
        "        loss, train_acc, l, x_p, g = training_step(x, label)\n",
        "\n",
        "    print(\n",
        "        \"Training loss: %.4f\\nTraining metric: %.4f\"\n",
        "        % (float(loss), float(train_acc))\n",
        "    )\n",
        "    print(\"perturbation loss: %.4f\" % float(l))\n",
        "\n",
        "    for x_batch_val, y_batch_val in val_dataset:\n",
        "        val_logits = model(x_batch_val, training=False)\n",
        "        # Update val metrics\n",
        "        val_acc_metric.update_state(y_batch_val, val_logits)\n",
        "        v_loss = val_loss_metric(y_batch_val, val_logits)\n",
        "    val_acc = val_acc_metric.result()\n",
        "    val_acc_metric.reset_states()\n",
        "    print(\"Validation acc: %.4f\" % (float(val_acc)))\n",
        "\n",
        "    train_loss.append(loss)\n",
        "    train_metric.append(train_acc)\n",
        "    val_metric.append(val_acc)\n",
        "    val_loss.append(v_loss)\n",
        "    p_loss.append(l)\n",
        "\n",
        "    tl = np.array(train_loss)\n",
        "    tm = np.array(train_metric)\n",
        "    vm = np.array(val_metric)\n",
        "    vl = np.array(val_loss)\n",
        "    pl = np.array(p_loss)\n",
        "\n",
        "    np.savez(\"logs.npz\", train_loss=tl, train_acc=tm, val_acc=vm, p_loss=pl, val_loss=vl, x_p=x_p)"
      ]
    },
    {
      "cell_type": "code",
      "execution_count": null,
      "id": "qFRSJQ82Fcbq",
      "metadata": {
        "id": "qFRSJQ82Fcbq"
      },
      "outputs": [],
      "source": []
    }
  ],
  "metadata": {
    "accelerator": "GPU",
    "colab": {
      "gpuType": "V100",
      "provenance": []
    },
    "kernelspec": {
      "display_name": "Python 3.10 (tensorflow)",
      "language": "python",
      "name": "tensorflow"
    },
    "language_info": {
      "codemirror_mode": {
        "name": "ipython",
        "version": 3
      },
      "file_extension": ".py",
      "mimetype": "text/x-python",
      "name": "python",
      "nbconvert_exporter": "python",
      "pygments_lexer": "ipython3",
      "version": "3.10.10"
    }
  },
  "nbformat": 4,
  "nbformat_minor": 5
}