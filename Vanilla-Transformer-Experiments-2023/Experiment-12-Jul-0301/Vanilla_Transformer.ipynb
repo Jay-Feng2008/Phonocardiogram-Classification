{
  "cells": [
    {
      "cell_type": "code",
      "source": [
        "from google.colab import drive\n",
        "drive.mount('/content/drive')"
      ],
      "metadata": {
        "colab": {
          "base_uri": "https://localhost:8080/"
        },
        "id": "VZQZ17oFDbVI",
        "outputId": "bdc05b09-5df4-4322-db3f-e4a97e1d041d"
      },
      "id": "VZQZ17oFDbVI",
      "execution_count": 5,
      "outputs": [
        {
          "output_type": "stream",
          "name": "stdout",
          "text": [
            "Mounted at /content/drive\n"
          ]
        }
      ]
    },
    {
      "cell_type": "markdown",
      "id": "58befd64",
      "metadata": {
        "id": "58befd64"
      },
      "source": [
        "## Import packages"
      ]
    },
    {
      "cell_type": "code",
      "execution_count": 1,
      "id": "af5c7075",
      "metadata": {
        "id": "af5c7075"
      },
      "outputs": [],
      "source": [
        "import tensorflow as tf\n",
        "from tensorflow import keras\n",
        "import numpy as np\n",
        "from tqdm import tqdm\n",
        "import sys\n",
        "\n",
        "sys.path.insert(1, \"drive/MyDrive/vanilla-transformer\")"
      ]
    },
    {
      "cell_type": "code",
      "execution_count": 2,
      "id": "c251f846",
      "metadata": {
        "id": "c251f846"
      },
      "outputs": [],
      "source": [
        "from embd import PositionalEmbedding\n",
        "from encoder import EncoderLayer_postLN, EncoderLayer_preLN"
      ]
    },
    {
      "cell_type": "markdown",
      "id": "96c1d6cd",
      "metadata": {
        "id": "96c1d6cd"
      },
      "source": [
        "## Build model"
      ]
    },
    {
      "cell_type": "code",
      "execution_count": 32,
      "id": "b7729518",
      "metadata": {
        "id": "b7729518"
      },
      "outputs": [],
      "source": [
        "from keras.backend import softmax\n",
        "BATCH_SIZE = 32\n",
        "def model():\n",
        "    inputs = keras.layers.Input((127, 15), batch_size=BATCH_SIZE)\n",
        "    x = PositionalEmbedding(32)(inputs)\n",
        "    x = EncoderLayer_postLN(d_model=32, num_heads=128, dff=64)(x)\n",
        "    x = EncoderLayer_postLN(d_model=32, num_heads=64, dff=32)(x)\n",
        "    x = keras.layers.GlobalAveragePooling1D(data_format='channels_first')(x)\n",
        "    x = keras.layers.Dense(5, activation='softmax')(x)\n",
        "    return keras.Model(inputs, x)"
      ]
    },
    {
      "cell_type": "code",
      "execution_count": 33,
      "id": "8a7834d3",
      "metadata": {
        "colab": {
          "base_uri": "https://localhost:8080/"
        },
        "id": "8a7834d3",
        "outputId": "85648045-7184-4fe5-bba0-626283af4a14"
      },
      "outputs": [
        {
          "output_type": "stream",
          "name": "stdout",
          "text": [
            "Model: \"model_4\"\n",
            "_________________________________________________________________\n",
            " Layer (type)                Output Shape              Param #   \n",
            "=================================================================\n",
            " input_5 (InputLayer)        [(32, 127, 15)]           0         \n",
            "                                                                 \n",
            " positional_embedding_4 (Pos  (32, 127, 32)            512       \n",
            " itionalEmbedding)                                               \n",
            "                                                                 \n",
            " encoder_layer_post_ln_8 (En  (32, 127, 32)            540928    \n",
            " coderLayer_postLN)                                              \n",
            "                                                                 \n",
            " encoder_layer_post_ln_9 (En  (32, 127, 32)            270560    \n",
            " coderLayer_postLN)                                              \n",
            "                                                                 \n",
            " global_average_pooling1d_4   (32, 127)                0         \n",
            " (GlobalAveragePooling1D)                                        \n",
            "                                                                 \n",
            " dense_24 (Dense)            (32, 5)                   640       \n",
            "                                                                 \n",
            "=================================================================\n",
            "Total params: 812,640\n",
            "Trainable params: 812,640\n",
            "Non-trainable params: 0\n",
            "_________________________________________________________________\n"
          ]
        }
      ],
      "source": [
        "model = model()\n",
        "model.summary()"
      ]
    },
    {
      "cell_type": "code",
      "execution_count": 34,
      "id": "e35afbac",
      "metadata": {
        "colab": {
          "base_uri": "https://localhost:8080/"
        },
        "id": "e35afbac",
        "outputId": "949c1e2c-e663-405d-f835-717648ef1e19"
      },
      "outputs": [
        {
          "output_type": "execute_result",
          "data": {
            "text/plain": [
              "<tf.Tensor: shape=(32, 5), dtype=float32, numpy=\n",
              "array([[0.2       , 0.2       , 0.19999997, 0.2       , 0.2       ],\n",
              "       [0.2       , 0.2       , 0.2       , 0.2       , 0.2       ],\n",
              "       [0.2       , 0.2       , 0.2       , 0.2       , 0.2       ],\n",
              "       [0.2       , 0.19999997, 0.2       , 0.2       , 0.19999997],\n",
              "       [0.2       , 0.2       , 0.2       , 0.2       , 0.2       ],\n",
              "       [0.2       , 0.2       , 0.2       , 0.2       , 0.2       ],\n",
              "       [0.2       , 0.2       , 0.2       , 0.2       , 0.2       ],\n",
              "       [0.2       , 0.2       , 0.2       , 0.2       , 0.2       ],\n",
              "       [0.2       , 0.2       , 0.2       , 0.2       , 0.2       ],\n",
              "       [0.2       , 0.2       , 0.2       , 0.2       , 0.2       ],\n",
              "       [0.2       , 0.2       , 0.2       , 0.2       , 0.2       ],\n",
              "       [0.2       , 0.2       , 0.2       , 0.2       , 0.2       ],\n",
              "       [0.2       , 0.2       , 0.2       , 0.2       , 0.2       ],\n",
              "       [0.2       , 0.2       , 0.2       , 0.2       , 0.2       ],\n",
              "       [0.2       , 0.2       , 0.2       , 0.2       , 0.2       ],\n",
              "       [0.2       , 0.2       , 0.2       , 0.2       , 0.2       ],\n",
              "       [0.2       , 0.2       , 0.2       , 0.2       , 0.2       ],\n",
              "       [0.2       , 0.2       , 0.2       , 0.2       , 0.2       ],\n",
              "       [0.2       , 0.2       , 0.2       , 0.2       , 0.2       ],\n",
              "       [0.2       , 0.2       , 0.2       , 0.2       , 0.2       ],\n",
              "       [0.2       , 0.2       , 0.2       , 0.2       , 0.2       ],\n",
              "       [0.2       , 0.2       , 0.2       , 0.2       , 0.2       ],\n",
              "       [0.2       , 0.2       , 0.2       , 0.2       , 0.2       ],\n",
              "       [0.2       , 0.2       , 0.2       , 0.2       , 0.2       ],\n",
              "       [0.2       , 0.2       , 0.2       , 0.2       , 0.2       ],\n",
              "       [0.2       , 0.2       , 0.2       , 0.2       , 0.2       ],\n",
              "       [0.2       , 0.2       , 0.2       , 0.2       , 0.2       ],\n",
              "       [0.2       , 0.2       , 0.2       , 0.2       , 0.2       ],\n",
              "       [0.2       , 0.2       , 0.2       , 0.19999997, 0.2       ],\n",
              "       [0.2       , 0.2       , 0.2       , 0.2       , 0.2       ],\n",
              "       [0.2       , 0.2       , 0.2       , 0.2       , 0.2       ],\n",
              "       [0.2       , 0.2       , 0.2       , 0.2       , 0.2       ]],\n",
              "      dtype=float32)>"
            ]
          },
          "metadata": {},
          "execution_count": 34
        }
      ],
      "source": [
        "x = tf.random.normal((BATCH_SIZE, 127, 15))\n",
        "model(x)"
      ]
    },
    {
      "cell_type": "markdown",
      "id": "b2ab9046",
      "metadata": {
        "id": "b2ab9046"
      },
      "source": [
        "## Load data"
      ]
    },
    {
      "cell_type": "code",
      "execution_count": 6,
      "id": "67063714",
      "metadata": {
        "id": "67063714"
      },
      "outputs": [],
      "source": [
        "data = np.load(\"mfcc.npz\")\n",
        "X = data[\"X\"]\n",
        "X_mask = data[\"X_mask\"]\n",
        "Y = data[\"Y\"]\n",
        "\n",
        "x_train = X[0:832]\n",
        "x_mask_train = X_mask[0:832]\n",
        "y_train = Y[0:832]\n",
        "x_test = X[872:]\n",
        "y_test = Y[872:]\n",
        "\n",
        "train_dataset = tf.data.Dataset.from_tensor_slices((x_train, y_train, x_mask_train))\n",
        "train_dataset = train_dataset.shuffle(buffer_size=10000).batch(BATCH_SIZE)\n",
        "\n",
        "val_dataset = tf.data.Dataset.from_tensor_slices((x_test, y_test))\n",
        "val_dataset = val_dataset.shuffle(buffer_size=1000).batch(BATCH_SIZE)\n",
        "\n",
        "x = x_train[0:BATCH_SIZE]\n",
        "x_rank = tf.rank(x).numpy()\n",
        "x_norm_resize_shape = [BATCH_SIZE] + list(tf.ones(tf.rank(x), dtype=tf.int32).numpy())[1:]"
      ]
    },
    {
      "cell_type": "markdown",
      "id": "45c45212",
      "metadata": {
        "id": "45c45212"
      },
      "source": [
        "## Training"
      ]
    },
    {
      "cell_type": "code",
      "execution_count": 37,
      "id": "8b52fb36",
      "metadata": {
        "id": "8b52fb36"
      },
      "outputs": [],
      "source": [
        "class CustomSchedule(tf.keras.optimizers.schedules.LearningRateSchedule):\n",
        "    def __init__(self, d_model, warmup_steps=4000):\n",
        "        super().__init__()\n",
        "\n",
        "        self.d_model = d_model\n",
        "        self.d_model = tf.cast(self.d_model, tf.float32)\n",
        "\n",
        "        self.warmup_steps = warmup_steps\n",
        "\n",
        "    def __call__(self, step):\n",
        "        step = tf.cast(step, dtype=tf.float32)\n",
        "        arg1 = tf.math.rsqrt(step)\n",
        "        arg2 = step * (self.warmup_steps ** -1.5)\n",
        "\n",
        "        return tf.math.rsqrt(self.d_model) * tf.math.minimum(arg1, arg2)"
      ]
    },
    {
      "cell_type": "code",
      "execution_count": 38,
      "id": "69462829",
      "metadata": {
        "id": "69462829"
      },
      "outputs": [],
      "source": [
        "def perturbation_loss(x, y, from_logits=False):\n",
        "    return keras.losses.CategoricalCrossentropy(from_logits=from_logits)(x, y)\n",
        "\n",
        "loss_fn = keras.losses.SparseCategoricalCrossentropy(from_logits=False)\n",
        "learning_rate = CustomSchedule(32)\n",
        "optimizer = keras.optimizers.experimental.AdamW(learning_rate=learning_rate, beta_1=0.9, beta_2=0.98,\n",
        "                                     epsilon=1e-9)\n",
        "\n",
        "train_acc_metric = keras.metrics.SparseCategoricalAccuracy()\n",
        "val_acc_metric = keras.metrics.SparseCategoricalAccuracy()\n",
        "val_loss_metric = keras.losses.SparseCategoricalCrossentropy(from_logits=False)"
      ]
    },
    {
      "cell_type": "code",
      "execution_count": 39,
      "id": "b5bc7bc0",
      "metadata": {
        "id": "b5bc7bc0"
      },
      "outputs": [],
      "source": [
        "eps = 8.     # the perturbation parameter\n",
        "sig = 1e-5   # initial perturbation StdDev\n",
        "zeta = 1e-6  # differentiation constant\n",
        "lamd = 1     # regularization parameter\n",
        "\n",
        "@tf.function\n",
        "def training_step(x, label, x_mask):\n",
        "    x_p = tf.random.normal(x.shape, stddev=sig)\n",
        "    x_norm = x_p\n",
        "    for i in range(x_rank-1, 0, -1):\n",
        "        x_norm = tf.norm(x_norm, ord=2, axis=int(i))\n",
        "    x_p /= tf.reshape(x_norm, (BATCH_SIZE, 1, 1))\n",
        "    x_p *= zeta\n",
        "\n",
        "\n",
        "    with tf.GradientTape() as adversarial_tape:\n",
        "        adversarial_tape.watch(x_p)\n",
        "        y_p = model(x + x_p, training=True)\n",
        "        y = model(x, training=True)\n",
        "        l = perturbation_loss(y, y_p)\n",
        "    g = adversarial_tape.gradient(l, x_p)\n",
        "\n",
        "    g_norm = g\n",
        "    for i in range(x_rank-1, 0, -1):\n",
        "        g_norm = tf.norm(g_norm, ord=2, axis=int(i))\n",
        "\n",
        "    x_p = eps * g / tf.reshape(g_norm, x_norm_resize_shape)\n",
        "    x_p *= x_mask\n",
        "\n",
        "    with tf.GradientTape() as model_tape:\n",
        "        y_p = model(x + x_p, training=True)\n",
        "        y = model(x, training=True)\n",
        "        l = perturbation_loss(y, y_p)    # Recalculate regularization\n",
        "\n",
        "        logits = model(x, training=True)\n",
        "        loss = loss_fn(label, logits) + lamd * l / BATCH_SIZE\n",
        "    grads = model_tape.gradient(loss, model.trainable_weights)\n",
        "    optimizer.apply_gradients(zip(grads, model.trainable_weights))\n",
        "\n",
        "    train_acc_metric.update_state(label, logits)\n",
        "    return loss, train_acc_metric.result(), l, x_p, g\n",
        "\n",
        "@tf.function\n",
        "def pre_train(x, label):\n",
        "    with tf.GradientTape() as model_tape:\n",
        "        logits = model(x, training=True)\n",
        "        loss = loss_fn(label, logits)\n",
        "    grads = model_tape.gradient(loss, model.trainable_weights)\n",
        "    optimizer.apply_gradients(zip(grads, model.trainable_weights))"
      ]
    },
    {
      "cell_type": "code",
      "execution_count": 40,
      "id": "e43f6a45",
      "metadata": {
        "colab": {
          "base_uri": "https://localhost:8080/",
          "height": 1000
        },
        "id": "e43f6a45",
        "outputId": "59402622-8e0b-4367-87d7-62f9f7cd2003"
      },
      "outputs": [
        {
          "metadata": {
            "tags": null
          },
          "name": "stderr",
          "output_type": "stream",
          "text": [
            "\r  0%|          | 0/1000 [00:00<?, ?it/s]"
          ]
        },
        {
          "metadata": {
            "tags": null
          },
          "name": "stdout",
          "output_type": "stream",
          "text": [
            "\n",
            "Start of epoch 0\n"
          ]
        },
        {
          "metadata": {
            "tags": null
          },
          "name": "stderr",
          "output_type": "stream",
          "text": [
            "\r  0%|          | 1/1000 [00:06<1:53:42,  6.83s/it]"
          ]
        },
        {
          "metadata": {
            "tags": null
          },
          "name": "stdout",
          "output_type": "stream",
          "text": [
            "Training loss: 1.6595\n",
            "Training metric: 0.3425\n",
            "perturbation loss: 1.6094\n",
            "Validation acc: 0.3516\n",
            "\n",
            "Start of epoch 1\n"
          ]
        },
        {
          "metadata": {
            "tags": null
          },
          "name": "stderr",
          "output_type": "stream",
          "text": [
            "\r  0%|          | 2/1000 [00:10<1:20:53,  4.86s/it]"
          ]
        },
        {
          "metadata": {
            "tags": null
          },
          "name": "stdout",
          "output_type": "stream",
          "text": [
            "Training loss: 1.6591\n",
            "Training metric: 0.3431\n",
            "perturbation loss: 1.6094\n",
            "Validation acc: 0.3828\n",
            "\n",
            "Start of epoch 2\n"
          ]
        },
        {
          "metadata": {
            "tags": null
          },
          "name": "stderr",
          "output_type": "stream",
          "text": [
            "\r  0%|          | 3/1000 [00:13<1:10:14,  4.23s/it]"
          ]
        },
        {
          "metadata": {
            "tags": null
          },
          "name": "stdout",
          "output_type": "stream",
          "text": [
            "Training loss: 1.6571\n",
            "Training metric: 0.3706\n",
            "perturbation loss: 1.6094\n",
            "Validation acc: 0.3594\n",
            "\n",
            "Start of epoch 3\n"
          ]
        },
        {
          "metadata": {
            "tags": null
          },
          "name": "stderr",
          "output_type": "stream",
          "text": [
            "\r  0%|          | 4/1000 [00:17<1:05:16,  3.93s/it]"
          ]
        },
        {
          "metadata": {
            "tags": null
          },
          "name": "stdout",
          "output_type": "stream",
          "text": [
            "Training loss: 1.6543\n",
            "Training metric: 0.4096\n",
            "perturbation loss: 1.6094\n",
            "Validation acc: 0.5000\n",
            "\n",
            "Start of epoch 4\n"
          ]
        },
        {
          "metadata": {
            "tags": null
          },
          "name": "stderr",
          "output_type": "stream",
          "text": [
            "\r  0%|          | 5/1000 [00:20<1:02:31,  3.77s/it]"
          ]
        },
        {
          "metadata": {
            "tags": null
          },
          "name": "stdout",
          "output_type": "stream",
          "text": [
            "Training loss: 1.6495\n",
            "Training metric: 0.4526\n",
            "perturbation loss: 1.6094\n",
            "Validation acc: 0.4922\n",
            "\n",
            "Start of epoch 5\n"
          ]
        },
        {
          "metadata": {
            "tags": null
          },
          "name": "stderr",
          "output_type": "stream",
          "text": [
            "\r  1%|          | 6/1000 [00:24<1:00:49,  3.67s/it]"
          ]
        },
        {
          "metadata": {
            "tags": null
          },
          "name": "stdout",
          "output_type": "stream",
          "text": [
            "Training loss: 1.6370\n",
            "Training metric: 0.4806\n",
            "perturbation loss: 1.6092\n",
            "Validation acc: 0.6328\n",
            "\n",
            "Start of epoch 6\n"
          ]
        },
        {
          "metadata": {
            "tags": null
          },
          "name": "stderr",
          "output_type": "stream",
          "text": [
            "\r  1%|          | 7/1000 [00:27<59:43,  3.61s/it]  "
          ]
        },
        {
          "metadata": {
            "tags": null
          },
          "name": "stdout",
          "output_type": "stream",
          "text": [
            "Training loss: 1.6212\n",
            "Training metric: 0.5062\n",
            "perturbation loss: 1.6089\n",
            "Validation acc: 0.6484\n",
            "\n",
            "Start of epoch 7\n"
          ]
        },
        {
          "metadata": {
            "tags": null
          },
          "name": "stderr",
          "output_type": "stream",
          "text": [
            "\r  1%|          | 8/1000 [00:31<58:56,  3.57s/it]"
          ]
        },
        {
          "metadata": {
            "tags": null
          },
          "name": "stdout",
          "output_type": "stream",
          "text": [
            "Training loss: 1.6096\n",
            "Training metric: 0.5306\n",
            "perturbation loss: 1.6080\n",
            "Validation acc: 0.7266\n",
            "\n",
            "Start of epoch 8\n"
          ]
        },
        {
          "metadata": {
            "tags": null
          },
          "name": "stderr",
          "output_type": "stream",
          "text": [
            "\r  1%|          | 9/1000 [00:34<58:29,  3.54s/it]"
          ]
        },
        {
          "metadata": {
            "tags": null
          },
          "name": "stdout",
          "output_type": "stream",
          "text": [
            "Training loss: 1.5895\n",
            "Training metric: 0.5501\n",
            "perturbation loss: 1.6066\n",
            "Validation acc: 0.7188\n",
            "\n",
            "Start of epoch 9\n"
          ]
        },
        {
          "metadata": {
            "tags": null
          },
          "name": "stderr",
          "output_type": "stream",
          "text": [
            "\r  1%|          | 10/1000 [00:38<58:03,  3.52s/it]"
          ]
        },
        {
          "metadata": {
            "tags": null
          },
          "name": "stdout",
          "output_type": "stream",
          "text": [
            "Training loss: 1.5435\n",
            "Training metric: 0.5639\n",
            "perturbation loss: 1.6023\n",
            "Validation acc: 0.7031\n",
            "\n",
            "Start of epoch 10\n"
          ]
        },
        {
          "metadata": {
            "tags": null
          },
          "name": "stderr",
          "output_type": "stream",
          "text": [
            "\r  1%|          | 11/1000 [00:41<57:46,  3.50s/it]"
          ]
        },
        {
          "metadata": {
            "tags": null
          },
          "name": "stdout",
          "output_type": "stream",
          "text": [
            "Training loss: 1.4948\n",
            "Training metric: 0.5744\n",
            "perturbation loss: 1.5968\n",
            "Validation acc: 0.6797\n",
            "\n",
            "Start of epoch 11\n"
          ]
        },
        {
          "metadata": {
            "tags": null
          },
          "name": "stderr",
          "output_type": "stream",
          "text": [
            "\r  1%|          | 12/1000 [00:45<57:34,  3.50s/it]"
          ]
        },
        {
          "metadata": {
            "tags": null
          },
          "name": "stdout",
          "output_type": "stream",
          "text": [
            "Training loss: 1.4470\n",
            "Training metric: 0.5851\n",
            "perturbation loss: 1.5892\n",
            "Validation acc: 0.6875\n",
            "\n",
            "Start of epoch 12\n"
          ]
        },
        {
          "metadata": {
            "tags": null
          },
          "name": "stderr",
          "output_type": "stream",
          "text": [
            "\r  1%|▏         | 13/1000 [00:48<57:23,  3.49s/it]"
          ]
        },
        {
          "metadata": {
            "tags": null
          },
          "name": "stdout",
          "output_type": "stream",
          "text": [
            "Training loss: 1.4157\n",
            "Training metric: 0.5925\n",
            "perturbation loss: 1.5805\n",
            "Validation acc: 0.7266\n",
            "\n",
            "Start of epoch 13\n"
          ]
        },
        {
          "metadata": {
            "tags": null
          },
          "name": "stderr",
          "output_type": "stream",
          "text": [
            "\r  1%|▏         | 14/1000 [00:52<57:14,  3.48s/it]"
          ]
        },
        {
          "metadata": {
            "tags": null
          },
          "name": "stdout",
          "output_type": "stream",
          "text": [
            "Training loss: 1.3591\n",
            "Training metric: 0.5998\n",
            "perturbation loss: 1.5649\n",
            "Validation acc: 0.6641\n",
            "\n",
            "Start of epoch 14\n"
          ]
        },
        {
          "metadata": {
            "tags": null
          },
          "name": "stderr",
          "output_type": "stream",
          "text": [
            "\r  2%|▏         | 15/1000 [00:55<57:07,  3.48s/it]"
          ]
        },
        {
          "metadata": {
            "tags": null
          },
          "name": "stdout",
          "output_type": "stream",
          "text": [
            "Training loss: 1.2435\n",
            "Training metric: 0.6046\n",
            "perturbation loss: 1.5122\n",
            "Validation acc: 0.6953\n",
            "\n",
            "Start of epoch 15\n"
          ]
        },
        {
          "metadata": {
            "tags": null
          },
          "name": "stderr",
          "output_type": "stream",
          "text": [
            "\r  2%|▏         | 16/1000 [00:58<57:04,  3.48s/it]"
          ]
        },
        {
          "metadata": {
            "tags": null
          },
          "name": "stdout",
          "output_type": "stream",
          "text": [
            "Training loss: 1.2622\n",
            "Training metric: 0.6086\n",
            "perturbation loss: 1.4754\n",
            "Validation acc: 0.6328\n",
            "\n",
            "Start of epoch 16\n"
          ]
        },
        {
          "metadata": {
            "tags": null
          },
          "name": "stderr",
          "output_type": "stream",
          "text": [
            "\r  2%|▏         | 17/1000 [01:02<57:05,  3.48s/it]"
          ]
        },
        {
          "metadata": {
            "tags": null
          },
          "name": "stdout",
          "output_type": "stream",
          "text": [
            "Training loss: 1.1790\n",
            "Training metric: 0.6123\n",
            "perturbation loss: 1.4218\n",
            "Validation acc: 0.6797\n",
            "\n",
            "Start of epoch 17\n"
          ]
        },
        {
          "metadata": {
            "tags": null
          },
          "name": "stderr",
          "output_type": "stream",
          "text": [
            "\r  2%|▏         | 18/1000 [01:05<57:01,  3.48s/it]"
          ]
        },
        {
          "metadata": {
            "tags": null
          },
          "name": "stdout",
          "output_type": "stream",
          "text": [
            "Training loss: 1.1462\n",
            "Training metric: 0.6165\n",
            "perturbation loss: 1.4173\n",
            "Validation acc: 0.6641\n",
            "\n",
            "Start of epoch 18\n"
          ]
        },
        {
          "metadata": {
            "tags": null
          },
          "name": "stderr",
          "output_type": "stream",
          "text": [
            "\r  2%|▏         | 19/1000 [01:09<56:56,  3.48s/it]"
          ]
        },
        {
          "metadata": {
            "tags": null
          },
          "name": "stdout",
          "output_type": "stream",
          "text": [
            "Training loss: 1.1283\n",
            "Training metric: 0.6216\n",
            "perturbation loss: 1.3725\n",
            "Validation acc: 0.6953\n",
            "\n",
            "Start of epoch 19\n"
          ]
        },
        {
          "metadata": {
            "tags": null
          },
          "name": "stderr",
          "output_type": "stream",
          "text": [
            "\r  2%|▏         | 20/1000 [01:12<56:50,  3.48s/it]"
          ]
        },
        {
          "metadata": {
            "tags": null
          },
          "name": "stdout",
          "output_type": "stream",
          "text": [
            "Training loss: 1.0690\n",
            "Training metric: 0.6275\n",
            "perturbation loss: 1.2578\n",
            "Validation acc: 0.6094\n",
            "\n",
            "Start of epoch 20\n"
          ]
        },
        {
          "metadata": {
            "tags": null
          },
          "name": "stderr",
          "output_type": "stream",
          "text": [
            "\r  2%|▏         | 21/1000 [01:16<56:58,  3.49s/it]"
          ]
        },
        {
          "metadata": {
            "tags": null
          },
          "name": "stdout",
          "output_type": "stream",
          "text": [
            "Training loss: 0.9718\n",
            "Training metric: 0.6331\n",
            "perturbation loss: 1.2527\n",
            "Validation acc: 0.7109\n",
            "\n",
            "Start of epoch 21\n"
          ]
        },
        {
          "metadata": {
            "tags": null
          },
          "name": "stderr",
          "output_type": "stream",
          "text": [
            "\r  2%|▏         | 22/1000 [01:19<56:50,  3.49s/it]"
          ]
        },
        {
          "metadata": {
            "tags": null
          },
          "name": "stdout",
          "output_type": "stream",
          "text": [
            "Training loss: 0.9227\n",
            "Training metric: 0.6392\n",
            "perturbation loss: 1.2748\n",
            "Validation acc: 0.7109\n",
            "\n",
            "Start of epoch 22\n"
          ]
        },
        {
          "metadata": {
            "tags": null
          },
          "name": "stderr",
          "output_type": "stream",
          "text": [
            "\r  2%|▏         | 23/1000 [01:23<56:54,  3.49s/it]"
          ]
        },
        {
          "metadata": {
            "tags": null
          },
          "name": "stdout",
          "output_type": "stream",
          "text": [
            "Training loss: 0.7330\n",
            "Training metric: 0.6456\n",
            "perturbation loss: 1.1920\n",
            "Validation acc: 0.7266\n",
            "\n",
            "Start of epoch 23\n"
          ]
        },
        {
          "metadata": {
            "tags": null
          },
          "name": "stderr",
          "output_type": "stream",
          "text": [
            "\r  2%|▏         | 24/1000 [01:26<56:44,  3.49s/it]"
          ]
        },
        {
          "metadata": {
            "tags": null
          },
          "name": "stdout",
          "output_type": "stream",
          "text": [
            "Training loss: 0.7243\n",
            "Training metric: 0.6527\n",
            "perturbation loss: 1.0813\n",
            "Validation acc: 0.7500\n",
            "\n",
            "Start of epoch 24\n"
          ]
        },
        {
          "metadata": {
            "tags": null
          },
          "name": "stderr",
          "output_type": "stream",
          "text": [
            "\r  2%|▎         | 25/1000 [01:30<56:38,  3.49s/it]"
          ]
        },
        {
          "metadata": {
            "tags": null
          },
          "name": "stdout",
          "output_type": "stream",
          "text": [
            "Training loss: 0.9031\n",
            "Training metric: 0.6598\n",
            "perturbation loss: 0.9827\n",
            "Validation acc: 0.7812\n",
            "\n",
            "Start of epoch 25\n"
          ]
        },
        {
          "metadata": {
            "tags": null
          },
          "name": "stderr",
          "output_type": "stream",
          "text": [
            "\r  3%|▎         | 26/1000 [01:33<56:31,  3.48s/it]"
          ]
        },
        {
          "metadata": {
            "tags": null
          },
          "name": "stdout",
          "output_type": "stream",
          "text": [
            "Training loss: 0.7079\n",
            "Training metric: 0.6661\n",
            "perturbation loss: 0.9865\n",
            "Validation acc: 0.7734\n",
            "\n",
            "Start of epoch 26\n"
          ]
        },
        {
          "metadata": {
            "tags": null
          },
          "name": "stderr",
          "output_type": "stream",
          "text": [
            "\r  3%|▎         | 27/1000 [01:37<56:28,  3.48s/it]"
          ]
        },
        {
          "metadata": {
            "tags": null
          },
          "name": "stdout",
          "output_type": "stream",
          "text": [
            "Training loss: 0.7066\n",
            "Training metric: 0.6720\n",
            "perturbation loss: 0.8794\n",
            "Validation acc: 0.7891\n",
            "\n",
            "Start of epoch 27\n"
          ]
        },
        {
          "metadata": {
            "tags": null
          },
          "name": "stderr",
          "output_type": "stream",
          "text": [
            "\r  3%|▎         | 28/1000 [01:40<56:23,  3.48s/it]"
          ]
        },
        {
          "metadata": {
            "tags": null
          },
          "name": "stdout",
          "output_type": "stream",
          "text": [
            "Training loss: 0.5727\n",
            "Training metric: 0.6790\n",
            "perturbation loss: 0.9571\n",
            "Validation acc: 0.7500\n",
            "\n",
            "Start of epoch 28\n"
          ]
        },
        {
          "metadata": {
            "tags": null
          },
          "name": "stderr",
          "output_type": "stream",
          "text": [
            "\r  3%|▎         | 29/1000 [01:44<56:18,  3.48s/it]"
          ]
        },
        {
          "metadata": {
            "tags": null
          },
          "name": "stdout",
          "output_type": "stream",
          "text": [
            "Training loss: 0.4403\n",
            "Training metric: 0.6859\n",
            "perturbation loss: 0.7810\n",
            "Validation acc: 0.8281\n",
            "\n",
            "Start of epoch 29\n"
          ]
        },
        {
          "metadata": {
            "tags": null
          },
          "name": "stderr",
          "output_type": "stream",
          "text": [
            "\r  3%|▎         | 30/1000 [01:47<56:13,  3.48s/it]"
          ]
        },
        {
          "metadata": {
            "tags": null
          },
          "name": "stdout",
          "output_type": "stream",
          "text": [
            "Training loss: 0.5956\n",
            "Training metric: 0.6923\n",
            "perturbation loss: 0.7743\n",
            "Validation acc: 0.7812\n",
            "\n",
            "Start of epoch 30\n"
          ]
        },
        {
          "metadata": {
            "tags": null
          },
          "name": "stderr",
          "output_type": "stream",
          "text": [
            "\r  3%|▎         | 31/1000 [01:51<56:07,  3.48s/it]"
          ]
        },
        {
          "metadata": {
            "tags": null
          },
          "name": "stdout",
          "output_type": "stream",
          "text": [
            "Training loss: 0.4682\n",
            "Training metric: 0.6987\n",
            "perturbation loss: 0.7720\n",
            "Validation acc: 0.8125\n",
            "\n",
            "Start of epoch 31\n"
          ]
        },
        {
          "metadata": {
            "tags": null
          },
          "name": "stderr",
          "output_type": "stream",
          "text": [
            "\r  3%|▎         | 32/1000 [01:54<56:02,  3.47s/it]"
          ]
        },
        {
          "metadata": {
            "tags": null
          },
          "name": "stdout",
          "output_type": "stream",
          "text": [
            "Training loss: 0.3349\n",
            "Training metric: 0.7043\n",
            "perturbation loss: 0.6226\n",
            "Validation acc: 0.6719\n",
            "\n",
            "Start of epoch 32\n"
          ]
        },
        {
          "metadata": {
            "tags": null
          },
          "name": "stderr",
          "output_type": "stream",
          "text": [
            "\r  3%|▎         | 33/1000 [01:58<55:58,  3.47s/it]"
          ]
        },
        {
          "metadata": {
            "tags": null
          },
          "name": "stdout",
          "output_type": "stream",
          "text": [
            "Training loss: 0.2937\n",
            "Training metric: 0.7100\n",
            "perturbation loss: 0.5151\n",
            "Validation acc: 0.7266\n",
            "\n",
            "Start of epoch 33\n"
          ]
        },
        {
          "metadata": {
            "tags": null
          },
          "name": "stderr",
          "output_type": "stream",
          "text": [
            "\r  3%|▎         | 34/1000 [02:01<55:58,  3.48s/it]"
          ]
        },
        {
          "metadata": {
            "tags": null
          },
          "name": "stdout",
          "output_type": "stream",
          "text": [
            "Training loss: 0.2184\n",
            "Training metric: 0.7150\n",
            "perturbation loss: 0.5103\n",
            "Validation acc: 0.8359\n",
            "\n",
            "Start of epoch 34\n"
          ]
        },
        {
          "metadata": {
            "tags": null
          },
          "name": "stderr",
          "output_type": "stream",
          "text": [
            "\r  4%|▎         | 35/1000 [02:05<55:53,  3.48s/it]"
          ]
        },
        {
          "metadata": {
            "tags": null
          },
          "name": "stdout",
          "output_type": "stream",
          "text": [
            "Training loss: 0.1948\n",
            "Training metric: 0.7203\n",
            "perturbation loss: 0.3982\n",
            "Validation acc: 0.8281\n",
            "\n",
            "Start of epoch 35\n"
          ]
        },
        {
          "metadata": {
            "tags": null
          },
          "name": "stderr",
          "output_type": "stream",
          "text": [
            "\r  4%|▎         | 36/1000 [02:08<55:49,  3.47s/it]"
          ]
        },
        {
          "metadata": {
            "tags": null
          },
          "name": "stdout",
          "output_type": "stream",
          "text": [
            "Training loss: 0.2260\n",
            "Training metric: 0.7257\n",
            "perturbation loss: 0.5888\n",
            "Validation acc: 0.8281\n",
            "\n",
            "Start of epoch 36\n"
          ]
        },
        {
          "metadata": {
            "tags": null
          },
          "name": "stderr",
          "output_type": "stream",
          "text": [
            "\r  4%|▎         | 37/1000 [02:12<55:44,  3.47s/it]"
          ]
        },
        {
          "metadata": {
            "tags": null
          },
          "name": "stdout",
          "output_type": "stream",
          "text": [
            "Training loss: 0.1498\n",
            "Training metric: 0.7309\n",
            "perturbation loss: 0.3733\n",
            "Validation acc: 0.7891\n",
            "\n",
            "Start of epoch 37\n"
          ]
        },
        {
          "metadata": {
            "tags": null
          },
          "name": "stderr",
          "output_type": "stream",
          "text": [
            "\r  4%|▍         | 38/1000 [02:15<55:42,  3.47s/it]"
          ]
        },
        {
          "metadata": {
            "tags": null
          },
          "name": "stdout",
          "output_type": "stream",
          "text": [
            "Training loss: 0.3549\n",
            "Training metric: 0.7356\n",
            "perturbation loss: 0.4920\n",
            "Validation acc: 0.8438\n",
            "\n",
            "Start of epoch 38\n"
          ]
        },
        {
          "metadata": {
            "tags": null
          },
          "name": "stderr",
          "output_type": "stream",
          "text": [
            "\r  4%|▍         | 39/1000 [02:19<55:38,  3.47s/it]"
          ]
        },
        {
          "metadata": {
            "tags": null
          },
          "name": "stdout",
          "output_type": "stream",
          "text": [
            "Training loss: 0.1491\n",
            "Training metric: 0.7406\n",
            "perturbation loss: 0.3427\n",
            "Validation acc: 0.8594\n",
            "\n",
            "Start of epoch 39\n"
          ]
        },
        {
          "metadata": {
            "tags": null
          },
          "name": "stderr",
          "output_type": "stream",
          "text": [
            "\r  4%|▍         | 40/1000 [02:22<55:41,  3.48s/it]"
          ]
        },
        {
          "metadata": {
            "tags": null
          },
          "name": "stdout",
          "output_type": "stream",
          "text": [
            "Training loss: 0.1997\n",
            "Training metric: 0.7454\n",
            "perturbation loss: 0.3734\n",
            "Validation acc: 0.8125\n",
            "\n",
            "Start of epoch 40\n"
          ]
        },
        {
          "metadata": {
            "tags": null
          },
          "name": "stderr",
          "output_type": "stream",
          "text": [
            "\r  4%|▍         | 41/1000 [02:25<55:37,  3.48s/it]"
          ]
        },
        {
          "metadata": {
            "tags": null
          },
          "name": "stdout",
          "output_type": "stream",
          "text": [
            "Training loss: 0.1885\n",
            "Training metric: 0.7498\n",
            "perturbation loss: 0.3933\n",
            "Validation acc: 0.8750\n",
            "\n",
            "Start of epoch 41\n"
          ]
        },
        {
          "metadata": {
            "tags": null
          },
          "name": "stderr",
          "output_type": "stream",
          "text": [
            "\r  4%|▍         | 42/1000 [02:29<55:31,  3.48s/it]"
          ]
        },
        {
          "metadata": {
            "tags": null
          },
          "name": "stdout",
          "output_type": "stream",
          "text": [
            "Training loss: 0.1647\n",
            "Training metric: 0.7543\n",
            "perturbation loss: 0.3340\n",
            "Validation acc: 0.9297\n",
            "\n",
            "Start of epoch 42\n"
          ]
        },
        {
          "metadata": {
            "tags": null
          },
          "name": "stderr",
          "output_type": "stream",
          "text": [
            "\r  4%|▍         | 43/1000 [02:32<55:26,  3.48s/it]"
          ]
        },
        {
          "metadata": {
            "tags": null
          },
          "name": "stdout",
          "output_type": "stream",
          "text": [
            "Training loss: 0.4229\n",
            "Training metric: 0.7585\n",
            "perturbation loss: 0.3962\n",
            "Validation acc: 0.6250\n",
            "\n",
            "Start of epoch 43\n"
          ]
        },
        {
          "metadata": {
            "tags": null
          },
          "name": "stderr",
          "output_type": "stream",
          "text": [
            "\r  4%|▍         | 44/1000 [02:36<55:22,  3.48s/it]"
          ]
        },
        {
          "metadata": {
            "tags": null
          },
          "name": "stdout",
          "output_type": "stream",
          "text": [
            "Training loss: 0.1815\n",
            "Training metric: 0.7623\n",
            "perturbation loss: 0.2984\n",
            "Validation acc: 0.8984\n",
            "\n",
            "Start of epoch 44\n"
          ]
        },
        {
          "metadata": {
            "tags": null
          },
          "name": "stderr",
          "output_type": "stream",
          "text": [
            "\r  4%|▍         | 45/1000 [02:39<55:21,  3.48s/it]"
          ]
        },
        {
          "metadata": {
            "tags": null
          },
          "name": "stdout",
          "output_type": "stream",
          "text": [
            "Training loss: 0.1180\n",
            "Training metric: 0.7667\n",
            "perturbation loss: 0.2536\n",
            "Validation acc: 0.9453\n",
            "\n",
            "Start of epoch 45\n"
          ]
        },
        {
          "metadata": {
            "tags": null
          },
          "name": "stderr",
          "output_type": "stream",
          "text": [
            "\r  5%|▍         | 46/1000 [02:43<55:16,  3.48s/it]"
          ]
        },
        {
          "metadata": {
            "tags": null
          },
          "name": "stdout",
          "output_type": "stream",
          "text": [
            "Training loss: 0.1875\n",
            "Training metric: 0.7713\n",
            "perturbation loss: 0.2480\n",
            "Validation acc: 0.9219\n",
            "\n",
            "Start of epoch 46\n"
          ]
        },
        {
          "metadata": {
            "tags": null
          },
          "name": "stderr",
          "output_type": "stream",
          "text": [
            "\r  5%|▍         | 47/1000 [02:46<55:12,  3.48s/it]"
          ]
        },
        {
          "metadata": {
            "tags": null
          },
          "name": "stdout",
          "output_type": "stream",
          "text": [
            "Training loss: 0.1294\n",
            "Training metric: 0.7754\n",
            "perturbation loss: 0.2100\n",
            "Validation acc: 0.8516\n",
            "\n",
            "Start of epoch 47\n"
          ]
        },
        {
          "metadata": {
            "tags": null
          },
          "name": "stderr",
          "output_type": "stream",
          "text": [
            "\r  5%|▍         | 48/1000 [02:50<55:14,  3.48s/it]"
          ]
        },
        {
          "metadata": {
            "tags": null
          },
          "name": "stdout",
          "output_type": "stream",
          "text": [
            "Training loss: 0.1229\n",
            "Training metric: 0.7788\n",
            "perturbation loss: 0.2889\n",
            "Validation acc: 0.8516\n",
            "\n",
            "Start of epoch 48\n"
          ]
        },
        {
          "metadata": {
            "tags": null
          },
          "name": "stderr",
          "output_type": "stream",
          "text": [
            "\r  5%|▍         | 49/1000 [02:53<55:10,  3.48s/it]"
          ]
        },
        {
          "metadata": {
            "tags": null
          },
          "name": "stdout",
          "output_type": "stream",
          "text": [
            "Training loss: 0.1338\n",
            "Training metric: 0.7823\n",
            "perturbation loss: 0.1791\n",
            "Validation acc: 0.8047\n",
            "\n",
            "Start of epoch 49\n"
          ]
        },
        {
          "metadata": {
            "tags": null
          },
          "name": "stderr",
          "output_type": "stream",
          "text": [
            "\r  5%|▌         | 50/1000 [02:57<55:05,  3.48s/it]"
          ]
        },
        {
          "metadata": {
            "tags": null
          },
          "name": "stdout",
          "output_type": "stream",
          "text": [
            "Training loss: 0.0652\n",
            "Training metric: 0.7860\n",
            "perturbation loss: 0.1708\n",
            "Validation acc: 0.9297\n",
            "\n",
            "Start of epoch 50\n"
          ]
        },
        {
          "metadata": {
            "tags": null
          },
          "name": "stderr",
          "output_type": "stream",
          "text": [
            "\r  5%|▌         | 51/1000 [03:00<55:02,  3.48s/it]"
          ]
        },
        {
          "metadata": {
            "tags": null
          },
          "name": "stdout",
          "output_type": "stream",
          "text": [
            "Training loss: 0.0390\n",
            "Training metric: 0.7895\n",
            "perturbation loss: 0.1315\n",
            "Validation acc: 0.9453\n",
            "\n",
            "Start of epoch 51\n"
          ]
        },
        {
          "metadata": {
            "tags": null
          },
          "name": "stderr",
          "output_type": "stream",
          "text": [
            "\r  5%|▌         | 52/1000 [03:04<54:57,  3.48s/it]"
          ]
        },
        {
          "metadata": {
            "tags": null
          },
          "name": "stdout",
          "output_type": "stream",
          "text": [
            "Training loss: 0.0140\n",
            "Training metric: 0.7933\n",
            "perturbation loss: 0.0629\n",
            "Validation acc: 0.9453\n",
            "\n",
            "Start of epoch 52\n"
          ]
        },
        {
          "metadata": {
            "tags": null
          },
          "name": "stderr",
          "output_type": "stream",
          "text": [
            "\r  5%|▌         | 53/1000 [03:07<54:54,  3.48s/it]"
          ]
        },
        {
          "metadata": {
            "tags": null
          },
          "name": "stdout",
          "output_type": "stream",
          "text": [
            "Training loss: 0.0531\n",
            "Training metric: 0.7969\n",
            "perturbation loss: 0.1486\n",
            "Validation acc: 0.9453\n",
            "\n",
            "Start of epoch 53\n"
          ]
        },
        {
          "metadata": {
            "tags": null
          },
          "name": "stderr",
          "output_type": "stream",
          "text": [
            "\r  5%|▌         | 54/1000 [03:11<54:49,  3.48s/it]"
          ]
        },
        {
          "metadata": {
            "tags": null
          },
          "name": "stdout",
          "output_type": "stream",
          "text": [
            "Training loss: 0.0425\n",
            "Training metric: 0.8006\n",
            "perturbation loss: 0.1945\n",
            "Validation acc: 0.9375\n",
            "\n",
            "Start of epoch 54\n"
          ]
        },
        {
          "metadata": {
            "tags": null
          },
          "name": "stderr",
          "output_type": "stream",
          "text": [
            "\r  6%|▌         | 55/1000 [03:14<54:45,  3.48s/it]"
          ]
        },
        {
          "metadata": {
            "tags": null
          },
          "name": "stdout",
          "output_type": "stream",
          "text": [
            "Training loss: 0.3152\n",
            "Training metric: 0.8034\n",
            "perturbation loss: 0.2212\n",
            "Validation acc: 0.8359\n",
            "\n",
            "Start of epoch 55\n"
          ]
        },
        {
          "metadata": {
            "tags": null
          },
          "name": "stderr",
          "output_type": "stream",
          "text": [
            "\r  6%|▌         | 56/1000 [03:18<54:42,  3.48s/it]"
          ]
        },
        {
          "metadata": {
            "tags": null
          },
          "name": "stdout",
          "output_type": "stream",
          "text": [
            "Training loss: 0.2205\n",
            "Training metric: 0.8060\n",
            "perturbation loss: 0.2192\n",
            "Validation acc: 0.8750\n",
            "\n",
            "Start of epoch 56\n"
          ]
        },
        {
          "metadata": {
            "tags": null
          },
          "name": "stderr",
          "output_type": "stream",
          "text": [
            "\r  6%|▌         | 57/1000 [03:21<54:38,  3.48s/it]"
          ]
        },
        {
          "metadata": {
            "tags": null
          },
          "name": "stdout",
          "output_type": "stream",
          "text": [
            "Training loss: 0.2291\n",
            "Training metric: 0.8090\n",
            "perturbation loss: 0.3970\n",
            "Validation acc: 0.9219\n",
            "\n",
            "Start of epoch 57\n"
          ]
        },
        {
          "metadata": {
            "tags": null
          },
          "name": "stderr",
          "output_type": "stream",
          "text": [
            "\r  6%|▌         | 58/1000 [03:25<54:35,  3.48s/it]"
          ]
        },
        {
          "metadata": {
            "tags": null
          },
          "name": "stdout",
          "output_type": "stream",
          "text": [
            "Training loss: 0.0127\n",
            "Training metric: 0.8119\n",
            "perturbation loss: 0.0598\n",
            "Validation acc: 0.9219\n",
            "\n",
            "Start of epoch 58\n"
          ]
        },
        {
          "metadata": {
            "tags": null
          },
          "name": "stderr",
          "output_type": "stream",
          "text": [
            "\r  6%|▌         | 59/1000 [03:28<54:31,  3.48s/it]"
          ]
        },
        {
          "metadata": {
            "tags": null
          },
          "name": "stdout",
          "output_type": "stream",
          "text": [
            "Training loss: 0.0528\n",
            "Training metric: 0.8149\n",
            "perturbation loss: 0.1479\n",
            "Validation acc: 0.8828\n",
            "\n",
            "Start of epoch 59\n"
          ]
        },
        {
          "metadata": {
            "tags": null
          },
          "name": "stderr",
          "output_type": "stream",
          "text": [
            "\r  6%|▌         | 60/1000 [03:32<54:26,  3.48s/it]"
          ]
        },
        {
          "metadata": {
            "tags": null
          },
          "name": "stdout",
          "output_type": "stream",
          "text": [
            "Training loss: 0.2357\n",
            "Training metric: 0.8176\n",
            "perturbation loss: 0.2324\n",
            "Validation acc: 0.9141\n",
            "\n",
            "Start of epoch 60\n"
          ]
        },
        {
          "metadata": {
            "tags": null
          },
          "name": "stderr",
          "output_type": "stream",
          "text": [
            "\r  6%|▌         | 61/1000 [03:35<54:23,  3.48s/it]"
          ]
        },
        {
          "metadata": {
            "tags": null
          },
          "name": "stdout",
          "output_type": "stream",
          "text": [
            "Training loss: 0.2742\n",
            "Training metric: 0.8202\n",
            "perturbation loss: 0.3538\n",
            "Validation acc: 0.9297\n",
            "\n",
            "Start of epoch 61\n"
          ]
        },
        {
          "metadata": {
            "tags": null
          },
          "name": "stderr",
          "output_type": "stream",
          "text": [
            "\r  6%|▌         | 62/1000 [03:39<54:24,  3.48s/it]"
          ]
        },
        {
          "metadata": {
            "tags": null
          },
          "name": "stdout",
          "output_type": "stream",
          "text": [
            "Training loss: 0.8539\n",
            "Training metric: 0.8224\n",
            "perturbation loss: 0.1806\n",
            "Validation acc: 0.9375\n",
            "\n",
            "Start of epoch 62\n"
          ]
        },
        {
          "metadata": {
            "tags": null
          },
          "name": "stderr",
          "output_type": "stream",
          "text": [
            "\r  6%|▋         | 63/1000 [03:42<54:21,  3.48s/it]"
          ]
        },
        {
          "metadata": {
            "tags": null
          },
          "name": "stdout",
          "output_type": "stream",
          "text": [
            "Training loss: 0.0490\n",
            "Training metric: 0.8247\n",
            "perturbation loss: 0.1405\n",
            "Validation acc: 0.9219\n",
            "\n",
            "Start of epoch 63\n"
          ]
        },
        {
          "metadata": {
            "tags": null
          },
          "name": "stderr",
          "output_type": "stream",
          "text": [
            "\r  6%|▋         | 64/1000 [03:45<54:16,  3.48s/it]"
          ]
        },
        {
          "metadata": {
            "tags": null
          },
          "name": "stdout",
          "output_type": "stream",
          "text": [
            "Training loss: 0.0406\n",
            "Training metric: 0.8274\n",
            "perturbation loss: 0.1290\n",
            "Validation acc: 0.9531\n",
            "\n",
            "Start of epoch 64\n"
          ]
        },
        {
          "metadata": {
            "tags": null
          },
          "name": "stderr",
          "output_type": "stream",
          "text": [
            "\r  6%|▋         | 65/1000 [03:49<54:14,  3.48s/it]"
          ]
        },
        {
          "metadata": {
            "tags": null
          },
          "name": "stdout",
          "output_type": "stream",
          "text": [
            "Training loss: 0.0170\n",
            "Training metric: 0.8299\n",
            "perturbation loss: 0.0984\n",
            "Validation acc: 0.9375\n",
            "\n",
            "Start of epoch 65\n"
          ]
        },
        {
          "metadata": {
            "tags": null
          },
          "name": "stderr",
          "output_type": "stream",
          "text": [
            "\r  7%|▋         | 66/1000 [03:52<54:11,  3.48s/it]"
          ]
        },
        {
          "metadata": {
            "tags": null
          },
          "name": "stdout",
          "output_type": "stream",
          "text": [
            "Training loss: 0.0195\n",
            "Training metric: 0.8323\n",
            "perturbation loss: 0.0782\n",
            "Validation acc: 0.9375\n",
            "\n",
            "Start of epoch 66\n"
          ]
        },
        {
          "metadata": {
            "tags": null
          },
          "name": "stderr",
          "output_type": "stream",
          "text": [
            "\r  7%|▋         | 67/1000 [03:56<54:07,  3.48s/it]"
          ]
        },
        {
          "metadata": {
            "tags": null
          },
          "name": "stdout",
          "output_type": "stream",
          "text": [
            "Training loss: 0.1857\n",
            "Training metric: 0.8347\n",
            "perturbation loss: 0.3274\n",
            "Validation acc: 0.8984\n",
            "\n",
            "Start of epoch 67\n"
          ]
        },
        {
          "metadata": {
            "tags": null
          },
          "name": "stderr",
          "output_type": "stream",
          "text": [
            "\r  7%|▋         | 68/1000 [03:59<54:04,  3.48s/it]"
          ]
        },
        {
          "metadata": {
            "tags": null
          },
          "name": "stdout",
          "output_type": "stream",
          "text": [
            "Training loss: 0.0641\n",
            "Training metric: 0.8364\n",
            "perturbation loss: 0.1112\n",
            "Validation acc: 0.9297\n",
            "\n",
            "Start of epoch 68\n"
          ]
        },
        {
          "metadata": {
            "tags": null
          },
          "name": "stderr",
          "output_type": "stream",
          "text": [
            "\r  7%|▋         | 69/1000 [04:03<54:00,  3.48s/it]"
          ]
        },
        {
          "metadata": {
            "tags": null
          },
          "name": "stdout",
          "output_type": "stream",
          "text": [
            "Training loss: 0.0119\n",
            "Training metric: 0.8385\n",
            "perturbation loss: 0.0596\n",
            "Validation acc: 0.8906\n",
            "\n",
            "Start of epoch 69\n"
          ]
        },
        {
          "metadata": {
            "tags": null
          },
          "name": "stderr",
          "output_type": "stream",
          "text": [
            "\r  7%|▋         | 70/1000 [04:06<53:58,  3.48s/it]"
          ]
        },
        {
          "metadata": {
            "tags": null
          },
          "name": "stdout",
          "output_type": "stream",
          "text": [
            "Training loss: 0.0766\n",
            "Training metric: 0.8404\n",
            "perturbation loss: 0.1779\n",
            "Validation acc: 0.9297\n",
            "\n",
            "Start of epoch 70\n"
          ]
        },
        {
          "metadata": {
            "tags": null
          },
          "name": "stderr",
          "output_type": "stream",
          "text": [
            "\r  7%|▋         | 71/1000 [04:10<53:54,  3.48s/it]"
          ]
        },
        {
          "metadata": {
            "tags": null
          },
          "name": "stdout",
          "output_type": "stream",
          "text": [
            "Training loss: 0.1846\n",
            "Training metric: 0.8424\n",
            "perturbation loss: 0.2746\n",
            "Validation acc: 0.9453\n",
            "\n",
            "Start of epoch 71\n"
          ]
        },
        {
          "metadata": {
            "tags": null
          },
          "name": "stderr",
          "output_type": "stream",
          "text": [
            "\r  7%|▋         | 72/1000 [04:13<53:50,  3.48s/it]"
          ]
        },
        {
          "metadata": {
            "tags": null
          },
          "name": "stdout",
          "output_type": "stream",
          "text": [
            "Training loss: 0.1359\n",
            "Training metric: 0.8444\n",
            "perturbation loss: 0.1465\n",
            "Validation acc: 0.9141\n",
            "\n",
            "Start of epoch 72\n"
          ]
        },
        {
          "metadata": {
            "tags": null
          },
          "name": "stderr",
          "output_type": "stream",
          "text": [
            "\r  7%|▋         | 73/1000 [04:17<53:46,  3.48s/it]"
          ]
        },
        {
          "metadata": {
            "tags": null
          },
          "name": "stdout",
          "output_type": "stream",
          "text": [
            "Training loss: 0.0229\n",
            "Training metric: 0.8463\n",
            "perturbation loss: 0.0906\n",
            "Validation acc: 0.9531\n",
            "\n",
            "Start of epoch 73\n"
          ]
        },
        {
          "metadata": {
            "tags": null
          },
          "name": "stderr",
          "output_type": "stream",
          "text": [
            "\r  7%|▋         | 74/1000 [04:20<53:43,  3.48s/it]"
          ]
        },
        {
          "metadata": {
            "tags": null
          },
          "name": "stdout",
          "output_type": "stream",
          "text": [
            "Training loss: 0.0149\n",
            "Training metric: 0.8483\n",
            "perturbation loss: 0.0614\n",
            "Validation acc: 0.9453\n",
            "\n",
            "Start of epoch 74\n"
          ]
        },
        {
          "metadata": {
            "tags": null
          },
          "name": "stderr",
          "output_type": "stream",
          "text": [
            "\r  8%|▊         | 75/1000 [04:24<53:37,  3.48s/it]"
          ]
        },
        {
          "metadata": {
            "tags": null
          },
          "name": "stdout",
          "output_type": "stream",
          "text": [
            "Training loss: 0.0237\n",
            "Training metric: 0.8502\n",
            "perturbation loss: 0.0547\n",
            "Validation acc: 0.9062\n",
            "\n",
            "Start of epoch 75\n"
          ]
        },
        {
          "metadata": {
            "tags": null
          },
          "name": "stderr",
          "output_type": "stream",
          "text": [
            "\r  8%|▊         | 76/1000 [04:27<53:33,  3.48s/it]"
          ]
        },
        {
          "metadata": {
            "tags": null
          },
          "name": "stdout",
          "output_type": "stream",
          "text": [
            "Training loss: 0.0759\n",
            "Training metric: 0.8519\n",
            "perturbation loss: 0.1558\n",
            "Validation acc: 0.8516\n",
            "\n",
            "Start of epoch 76\n"
          ]
        },
        {
          "metadata": {
            "tags": null
          },
          "name": "stderr",
          "output_type": "stream",
          "text": [
            "\r  8%|▊         | 77/1000 [04:31<53:32,  3.48s/it]"
          ]
        },
        {
          "metadata": {
            "tags": null
          },
          "name": "stdout",
          "output_type": "stream",
          "text": [
            "Training loss: 0.0664\n",
            "Training metric: 0.8536\n",
            "perturbation loss: 0.0605\n",
            "Validation acc: 0.9375\n",
            "\n",
            "Start of epoch 77\n"
          ]
        },
        {
          "metadata": {
            "tags": null
          },
          "name": "stderr",
          "output_type": "stream",
          "text": [
            "\r  8%|▊         | 78/1000 [04:34<53:28,  3.48s/it]"
          ]
        },
        {
          "metadata": {
            "tags": null
          },
          "name": "stdout",
          "output_type": "stream",
          "text": [
            "Training loss: 0.0249\n",
            "Training metric: 0.8553\n",
            "perturbation loss: 0.1196\n",
            "Validation acc: 0.9062\n",
            "\n",
            "Start of epoch 78\n"
          ]
        },
        {
          "metadata": {
            "tags": null
          },
          "name": "stderr",
          "output_type": "stream",
          "text": [
            "\r  8%|▊         | 79/1000 [04:38<53:24,  3.48s/it]"
          ]
        },
        {
          "metadata": {
            "tags": null
          },
          "name": "stdout",
          "output_type": "stream",
          "text": [
            "Training loss: 0.0120\n",
            "Training metric: 0.8570\n",
            "perturbation loss: 0.0381\n",
            "Validation acc: 0.9297\n",
            "\n",
            "Start of epoch 79\n"
          ]
        },
        {
          "metadata": {
            "tags": null
          },
          "name": "stderr",
          "output_type": "stream",
          "text": [
            "\r  8%|▊         | 80/1000 [04:41<53:20,  3.48s/it]"
          ]
        },
        {
          "metadata": {
            "tags": null
          },
          "name": "stdout",
          "output_type": "stream",
          "text": [
            "Training loss: 0.0142\n",
            "Training metric: 0.8587\n",
            "perturbation loss: 0.1098\n",
            "Validation acc: 0.9375\n",
            "\n",
            "Start of epoch 80\n"
          ]
        },
        {
          "metadata": {
            "tags": null
          },
          "name": "stderr",
          "output_type": "stream",
          "text": [
            "\r  8%|▊         | 81/1000 [04:45<53:15,  3.48s/it]"
          ]
        },
        {
          "metadata": {
            "tags": null
          },
          "name": "stdout",
          "output_type": "stream",
          "text": [
            "Training loss: 0.0469\n",
            "Training metric: 0.8600\n",
            "perturbation loss: 0.0938\n",
            "Validation acc: 0.9141\n",
            "\n",
            "Start of epoch 81\n"
          ]
        },
        {
          "metadata": {
            "tags": null
          },
          "name": "stderr",
          "output_type": "stream",
          "text": [
            "\r  8%|▊         | 82/1000 [04:48<53:13,  3.48s/it]"
          ]
        },
        {
          "metadata": {
            "tags": null
          },
          "name": "stdout",
          "output_type": "stream",
          "text": [
            "Training loss: 0.0821\n",
            "Training metric: 0.8612\n",
            "perturbation loss: 0.1553\n",
            "Validation acc: 0.8906\n",
            "\n",
            "Start of epoch 82\n"
          ]
        },
        {
          "metadata": {
            "tags": null
          },
          "name": "stderr",
          "output_type": "stream",
          "text": [
            "\r  8%|▊         | 83/1000 [04:52<53:08,  3.48s/it]"
          ]
        },
        {
          "metadata": {
            "tags": null
          },
          "name": "stdout",
          "output_type": "stream",
          "text": [
            "Training loss: 0.0362\n",
            "Training metric: 0.8625\n",
            "perturbation loss: 0.1574\n",
            "Validation acc: 0.9453\n",
            "\n",
            "Start of epoch 83\n"
          ]
        },
        {
          "metadata": {
            "tags": null
          },
          "name": "stderr",
          "output_type": "stream",
          "text": [
            "\r  8%|▊         | 84/1000 [04:55<53:05,  3.48s/it]"
          ]
        },
        {
          "metadata": {
            "tags": null
          },
          "name": "stdout",
          "output_type": "stream",
          "text": [
            "Training loss: 0.0591\n",
            "Training metric: 0.8641\n",
            "perturbation loss: 0.1009\n",
            "Validation acc: 0.9219\n",
            "\n",
            "Start of epoch 84\n"
          ]
        },
        {
          "metadata": {
            "tags": null
          },
          "name": "stderr",
          "output_type": "stream",
          "text": [
            "\r  8%|▊         | 85/1000 [04:59<53:01,  3.48s/it]"
          ]
        },
        {
          "metadata": {
            "tags": null
          },
          "name": "stdout",
          "output_type": "stream",
          "text": [
            "Training loss: 0.0057\n",
            "Training metric: 0.8656\n",
            "perturbation loss: 0.0268\n",
            "Validation acc: 0.9609\n",
            "\n",
            "Start of epoch 85\n"
          ]
        },
        {
          "metadata": {
            "tags": null
          },
          "name": "stderr",
          "output_type": "stream",
          "text": [
            "\r  9%|▊         | 86/1000 [05:02<53:00,  3.48s/it]"
          ]
        },
        {
          "metadata": {
            "tags": null
          },
          "name": "stdout",
          "output_type": "stream",
          "text": [
            "Training loss: 0.0050\n",
            "Training metric: 0.8671\n",
            "perturbation loss: 0.0421\n",
            "Validation acc: 0.9453\n",
            "\n",
            "Start of epoch 86\n"
          ]
        },
        {
          "metadata": {
            "tags": null
          },
          "name": "stderr",
          "output_type": "stream",
          "text": [
            "\r  9%|▊         | 87/1000 [05:06<53:00,  3.48s/it]"
          ]
        },
        {
          "metadata": {
            "tags": null
          },
          "name": "stdout",
          "output_type": "stream",
          "text": [
            "Training loss: 0.0025\n",
            "Training metric: 0.8686\n",
            "perturbation loss: 0.0134\n",
            "Validation acc: 0.9688\n",
            "\n",
            "Start of epoch 87\n"
          ]
        },
        {
          "metadata": {
            "tags": null
          },
          "name": "stderr",
          "output_type": "stream",
          "text": [
            "\r  9%|▉         | 88/1000 [05:09<52:53,  3.48s/it]"
          ]
        },
        {
          "metadata": {
            "tags": null
          },
          "name": "stdout",
          "output_type": "stream",
          "text": [
            "Training loss: 0.0356\n",
            "Training metric: 0.8699\n",
            "perturbation loss: 0.0999\n",
            "Validation acc: 0.7969\n",
            "\n",
            "Start of epoch 88\n"
          ]
        },
        {
          "metadata": {
            "tags": null
          },
          "name": "stderr",
          "output_type": "stream",
          "text": [
            "\r  9%|▉         | 89/1000 [05:12<52:49,  3.48s/it]"
          ]
        },
        {
          "metadata": {
            "tags": null
          },
          "name": "stdout",
          "output_type": "stream",
          "text": [
            "Training loss: 0.0117\n",
            "Training metric: 0.8708\n",
            "perturbation loss: 0.0435\n",
            "Validation acc: 0.8906\n",
            "\n",
            "Start of epoch 89\n"
          ]
        },
        {
          "metadata": {
            "tags": null
          },
          "name": "stderr",
          "output_type": "stream",
          "text": [
            "\r  9%|▉         | 90/1000 [05:16<52:45,  3.48s/it]"
          ]
        },
        {
          "metadata": {
            "tags": null
          },
          "name": "stdout",
          "output_type": "stream",
          "text": [
            "Training loss: 0.0559\n",
            "Training metric: 0.8718\n",
            "perturbation loss: 0.1061\n",
            "Validation acc: 0.9141\n",
            "\n",
            "Start of epoch 90\n"
          ]
        },
        {
          "metadata": {
            "tags": null
          },
          "name": "stderr",
          "output_type": "stream",
          "text": [
            "\r  9%|▉         | 91/1000 [05:19<52:44,  3.48s/it]"
          ]
        },
        {
          "metadata": {
            "tags": null
          },
          "name": "stdout",
          "output_type": "stream",
          "text": [
            "Training loss: 0.5665\n",
            "Training metric: 0.8728\n",
            "perturbation loss: 0.2313\n",
            "Validation acc: 0.9297\n",
            "\n",
            "Start of epoch 91\n"
          ]
        },
        {
          "metadata": {
            "tags": null
          },
          "name": "stderr",
          "output_type": "stream",
          "text": [
            "\r  9%|▉         | 92/1000 [05:23<52:40,  3.48s/it]"
          ]
        },
        {
          "metadata": {
            "tags": null
          },
          "name": "stdout",
          "output_type": "stream",
          "text": [
            "Training loss: 0.0460\n",
            "Training metric: 0.8738\n",
            "perturbation loss: 0.0991\n",
            "Validation acc: 0.8906\n",
            "\n",
            "Start of epoch 92\n"
          ]
        },
        {
          "metadata": {
            "tags": null
          },
          "name": "stderr",
          "output_type": "stream",
          "text": [
            "\r  9%|▉         | 93/1000 [05:26<52:36,  3.48s/it]"
          ]
        },
        {
          "metadata": {
            "tags": null
          },
          "name": "stdout",
          "output_type": "stream",
          "text": [
            "Training loss: 0.0179\n",
            "Training metric: 0.8750\n",
            "perturbation loss: 0.3168\n",
            "Validation acc: 0.9453\n",
            "\n",
            "Start of epoch 93\n"
          ]
        },
        {
          "metadata": {
            "tags": null
          },
          "name": "stderr",
          "output_type": "stream",
          "text": [
            "\r  9%|▉         | 94/1000 [05:30<52:32,  3.48s/it]"
          ]
        },
        {
          "metadata": {
            "tags": null
          },
          "name": "stdout",
          "output_type": "stream",
          "text": [
            "Training loss: 0.0140\n",
            "Training metric: 0.8763\n",
            "perturbation loss: 0.0590\n",
            "Validation acc: 0.9141\n",
            "\n",
            "Start of epoch 94\n"
          ]
        },
        {
          "metadata": {
            "tags": null
          },
          "name": "stderr",
          "output_type": "stream",
          "text": [
            "\r 10%|▉         | 95/1000 [05:33<52:29,  3.48s/it]"
          ]
        },
        {
          "metadata": {
            "tags": null
          },
          "name": "stdout",
          "output_type": "stream",
          "text": [
            "Training loss: 0.0081\n",
            "Training metric: 0.8774\n",
            "perturbation loss: 0.0424\n",
            "Validation acc: 0.9219\n",
            "\n",
            "Start of epoch 95\n"
          ]
        },
        {
          "metadata": {
            "tags": null
          },
          "name": "stderr",
          "output_type": "stream",
          "text": [
            "\r 10%|▉         | 96/1000 [05:37<52:24,  3.48s/it]"
          ]
        },
        {
          "metadata": {
            "tags": null
          },
          "name": "stdout",
          "output_type": "stream",
          "text": [
            "Training loss: 0.0842\n",
            "Training metric: 0.8786\n",
            "perturbation loss: 0.0742\n",
            "Validation acc: 0.8984\n",
            "\n",
            "Start of epoch 96\n"
          ]
        },
        {
          "metadata": {
            "tags": null
          },
          "name": "stderr",
          "output_type": "stream",
          "text": [
            "\r 10%|▉         | 97/1000 [05:40<52:22,  3.48s/it]"
          ]
        },
        {
          "metadata": {
            "tags": null
          },
          "name": "stdout",
          "output_type": "stream",
          "text": [
            "Training loss: 0.0477\n",
            "Training metric: 0.8796\n",
            "perturbation loss: 0.1531\n",
            "Validation acc: 0.7344\n",
            "\n",
            "Start of epoch 97\n"
          ]
        },
        {
          "metadata": {
            "tags": null
          },
          "name": "stderr",
          "output_type": "stream",
          "text": [
            "\r 10%|▉         | 98/1000 [05:44<52:19,  3.48s/it]"
          ]
        },
        {
          "metadata": {
            "tags": null
          },
          "name": "stdout",
          "output_type": "stream",
          "text": [
            "Training loss: 0.3650\n",
            "Training metric: 0.8805\n",
            "perturbation loss: 0.2217\n",
            "Validation acc: 0.9219\n",
            "\n",
            "Start of epoch 98\n"
          ]
        },
        {
          "metadata": {
            "tags": null
          },
          "name": "stderr",
          "output_type": "stream",
          "text": [
            "\r 10%|▉         | 99/1000 [05:47<52:13,  3.48s/it]"
          ]
        },
        {
          "metadata": {
            "tags": null
          },
          "name": "stdout",
          "output_type": "stream",
          "text": [
            "Training loss: 0.0294\n",
            "Training metric: 0.8814\n",
            "perturbation loss: 0.0795\n",
            "Validation acc: 0.9141\n",
            "\n",
            "Start of epoch 99\n",
            "Training loss: 0.0178\n",
            "Training metric: 0.8824\n",
            "perturbation loss: 0.0862\n"
          ]
        },
        {
          "metadata": {
            "tags": null
          },
          "name": "stderr",
          "output_type": "stream",
          "text": [
            "\r 10%|█         | 100/1000 [05:51<52:54,  3.53s/it]"
          ]
        },
        {
          "metadata": {
            "tags": null
          },
          "name": "stdout",
          "output_type": "stream",
          "text": [
            "Validation acc: 0.9453\n",
            "\n",
            "Start of epoch 100\n"
          ]
        },
        {
          "metadata": {
            "tags": null
          },
          "name": "stderr",
          "output_type": "stream",
          "text": [
            "\r 10%|█         | 101/1000 [05:54<52:36,  3.51s/it]"
          ]
        },
        {
          "metadata": {
            "tags": null
          },
          "name": "stdout",
          "output_type": "stream",
          "text": [
            "Training loss: 0.1032\n",
            "Training metric: 0.8835\n",
            "perturbation loss: 0.0624\n",
            "Validation acc: 0.9688\n",
            "\n",
            "Start of epoch 101\n"
          ]
        },
        {
          "metadata": {
            "tags": null
          },
          "name": "stderr",
          "output_type": "stream",
          "text": [
            "\r 10%|█         | 102/1000 [05:58<52:26,  3.50s/it]"
          ]
        },
        {
          "metadata": {
            "tags": null
          },
          "name": "stdout",
          "output_type": "stream",
          "text": [
            "Training loss: 0.0075\n",
            "Training metric: 0.8845\n",
            "perturbation loss: 0.0344\n",
            "Validation acc: 0.9141\n",
            "\n",
            "Start of epoch 102\n"
          ]
        },
        {
          "metadata": {
            "tags": null
          },
          "name": "stderr",
          "output_type": "stream",
          "text": [
            "\r 10%|█         | 103/1000 [06:01<52:17,  3.50s/it]"
          ]
        },
        {
          "metadata": {
            "tags": null
          },
          "name": "stdout",
          "output_type": "stream",
          "text": [
            "Training loss: 0.0947\n",
            "Training metric: 0.8854\n",
            "perturbation loss: 0.1046\n",
            "Validation acc: 0.9297\n",
            "\n",
            "Start of epoch 103\n"
          ]
        },
        {
          "metadata": {
            "tags": null
          },
          "name": "stderr",
          "output_type": "stream",
          "text": [
            "\r 10%|█         | 104/1000 [06:05<52:08,  3.49s/it]"
          ]
        },
        {
          "metadata": {
            "tags": null
          },
          "name": "stdout",
          "output_type": "stream",
          "text": [
            "Training loss: 0.0720\n",
            "Training metric: 0.8864\n",
            "perturbation loss: 0.1711\n",
            "Validation acc: 0.9141\n",
            "\n",
            "Start of epoch 104\n"
          ]
        },
        {
          "metadata": {
            "tags": null
          },
          "name": "stderr",
          "output_type": "stream",
          "text": [
            "\r 10%|█         | 105/1000 [06:08<52:00,  3.49s/it]"
          ]
        },
        {
          "metadata": {
            "tags": null
          },
          "name": "stdout",
          "output_type": "stream",
          "text": [
            "Training loss: 0.3625\n",
            "Training metric: 0.8873\n",
            "perturbation loss: 0.0571\n",
            "Validation acc: 0.9297\n",
            "\n",
            "Start of epoch 105\n"
          ]
        },
        {
          "metadata": {
            "tags": null
          },
          "name": "stderr",
          "output_type": "stream",
          "text": [
            "\r 11%|█         | 106/1000 [06:12<51:54,  3.48s/it]"
          ]
        },
        {
          "metadata": {
            "tags": null
          },
          "name": "stdout",
          "output_type": "stream",
          "text": [
            "Training loss: 0.0865\n",
            "Training metric: 0.8880\n",
            "perturbation loss: 0.1205\n",
            "Validation acc: 0.8906\n",
            "\n",
            "Start of epoch 106\n"
          ]
        },
        {
          "metadata": {
            "tags": null
          },
          "name": "stderr",
          "output_type": "stream",
          "text": [
            "\r 11%|█         | 107/1000 [06:15<51:49,  3.48s/it]"
          ]
        },
        {
          "metadata": {
            "tags": null
          },
          "name": "stdout",
          "output_type": "stream",
          "text": [
            "Training loss: 0.2133\n",
            "Training metric: 0.8888\n",
            "perturbation loss: 0.0822\n",
            "Validation acc: 0.9219\n",
            "\n",
            "Start of epoch 107\n"
          ]
        },
        {
          "metadata": {
            "tags": null
          },
          "name": "stderr",
          "output_type": "stream",
          "text": [
            "\r 11%|█         | 108/1000 [06:19<51:44,  3.48s/it]"
          ]
        },
        {
          "metadata": {
            "tags": null
          },
          "name": "stdout",
          "output_type": "stream",
          "text": [
            "Training loss: 0.0261\n",
            "Training metric: 0.8896\n",
            "perturbation loss: 0.0981\n",
            "Validation acc: 0.9062\n",
            "\n",
            "Start of epoch 108\n"
          ]
        },
        {
          "metadata": {
            "tags": null
          },
          "name": "stderr",
          "output_type": "stream",
          "text": [
            "\r 11%|█         | 109/1000 [06:22<51:41,  3.48s/it]"
          ]
        },
        {
          "metadata": {
            "tags": null
          },
          "name": "stdout",
          "output_type": "stream",
          "text": [
            "Training loss: 0.0411\n",
            "Training metric: 0.8905\n",
            "perturbation loss: 0.0874\n",
            "Validation acc: 0.9531\n",
            "\n",
            "Start of epoch 109\n"
          ]
        },
        {
          "metadata": {
            "tags": null
          },
          "name": "stderr",
          "output_type": "stream",
          "text": [
            "\r 11%|█         | 110/1000 [06:26<51:37,  3.48s/it]"
          ]
        },
        {
          "metadata": {
            "tags": null
          },
          "name": "stdout",
          "output_type": "stream",
          "text": [
            "Training loss: 0.0144\n",
            "Training metric: 0.8913\n",
            "perturbation loss: 0.0706\n",
            "Validation acc: 0.9375\n",
            "\n",
            "Start of epoch 110\n"
          ]
        },
        {
          "metadata": {
            "tags": null
          },
          "name": "stderr",
          "output_type": "stream",
          "text": [
            "\r 11%|█         | 111/1000 [06:29<51:34,  3.48s/it]"
          ]
        },
        {
          "metadata": {
            "tags": null
          },
          "name": "stdout",
          "output_type": "stream",
          "text": [
            "Training loss: 0.0126\n",
            "Training metric: 0.8922\n",
            "perturbation loss: 0.0462\n",
            "Validation acc: 0.9531\n",
            "\n",
            "Start of epoch 111\n"
          ]
        },
        {
          "metadata": {
            "tags": null
          },
          "name": "stderr",
          "output_type": "stream",
          "text": [
            "\r 11%|█         | 112/1000 [06:33<51:31,  3.48s/it]"
          ]
        },
        {
          "metadata": {
            "tags": null
          },
          "name": "stdout",
          "output_type": "stream",
          "text": [
            "Training loss: 0.0341\n",
            "Training metric: 0.8930\n",
            "perturbation loss: 0.1208\n",
            "Validation acc: 0.9766\n",
            "\n",
            "Start of epoch 112\n"
          ]
        },
        {
          "metadata": {
            "tags": null
          },
          "name": "stderr",
          "output_type": "stream",
          "text": [
            "\r 11%|█▏        | 113/1000 [06:36<51:28,  3.48s/it]"
          ]
        },
        {
          "metadata": {
            "tags": null
          },
          "name": "stdout",
          "output_type": "stream",
          "text": [
            "Training loss: 0.0195\n",
            "Training metric: 0.8939\n",
            "perturbation loss: 0.0527\n",
            "Validation acc: 0.9453\n",
            "\n",
            "Start of epoch 113\n"
          ]
        },
        {
          "metadata": {
            "tags": null
          },
          "name": "stderr",
          "output_type": "stream",
          "text": [
            "\r 11%|█▏        | 114/1000 [06:40<51:24,  3.48s/it]"
          ]
        },
        {
          "metadata": {
            "tags": null
          },
          "name": "stdout",
          "output_type": "stream",
          "text": [
            "Training loss: 0.1863\n",
            "Training metric: 0.8947\n",
            "perturbation loss: 0.0608\n",
            "Validation acc: 0.9688\n",
            "\n",
            "Start of epoch 114\n"
          ]
        },
        {
          "metadata": {
            "tags": null
          },
          "name": "stderr",
          "output_type": "stream",
          "text": [
            "\r 12%|█▏        | 115/1000 [06:43<51:19,  3.48s/it]"
          ]
        },
        {
          "metadata": {
            "tags": null
          },
          "name": "stdout",
          "output_type": "stream",
          "text": [
            "Training loss: 0.0982\n",
            "Training metric: 0.8952\n",
            "perturbation loss: 0.0979\n",
            "Validation acc: 0.8906\n",
            "\n",
            "Start of epoch 115\n"
          ]
        },
        {
          "metadata": {
            "tags": null
          },
          "name": "stderr",
          "output_type": "stream",
          "text": [
            "\r 12%|█▏        | 116/1000 [06:47<51:18,  3.48s/it]"
          ]
        },
        {
          "metadata": {
            "tags": null
          },
          "name": "stdout",
          "output_type": "stream",
          "text": [
            "Training loss: 0.0367\n",
            "Training metric: 0.8959\n",
            "perturbation loss: 0.0883\n",
            "Validation acc: 0.9453\n",
            "\n",
            "Start of epoch 116\n"
          ]
        },
        {
          "metadata": {
            "tags": null
          },
          "name": "stderr",
          "output_type": "stream",
          "text": [
            "\r 12%|█▏        | 117/1000 [06:50<51:13,  3.48s/it]"
          ]
        },
        {
          "metadata": {
            "tags": null
          },
          "name": "stdout",
          "output_type": "stream",
          "text": [
            "Training loss: 0.0286\n",
            "Training metric: 0.8965\n",
            "perturbation loss: 0.0993\n",
            "Validation acc: 0.8984\n",
            "\n",
            "Start of epoch 117\n"
          ]
        },
        {
          "metadata": {
            "tags": null
          },
          "name": "stderr",
          "output_type": "stream",
          "text": [
            "\r 12%|█▏        | 118/1000 [06:54<51:09,  3.48s/it]"
          ]
        },
        {
          "metadata": {
            "tags": null
          },
          "name": "stdout",
          "output_type": "stream",
          "text": [
            "Training loss: 0.0024\n",
            "Training metric: 0.8973\n",
            "perturbation loss: 0.0125\n",
            "Validation acc: 0.9766\n",
            "\n",
            "Start of epoch 118\n"
          ]
        },
        {
          "metadata": {
            "tags": null
          },
          "name": "stderr",
          "output_type": "stream",
          "text": [
            "\r 12%|█▏        | 119/1000 [06:57<51:06,  3.48s/it]"
          ]
        },
        {
          "metadata": {
            "tags": null
          },
          "name": "stdout",
          "output_type": "stream",
          "text": [
            "Training loss: 0.0106\n",
            "Training metric: 0.8982\n",
            "perturbation loss: 0.0611\n",
            "Validation acc: 0.9297\n",
            "\n",
            "Start of epoch 119\n"
          ]
        },
        {
          "metadata": {
            "tags": null
          },
          "name": "stderr",
          "output_type": "stream",
          "text": [
            "\r 12%|█▏        | 120/1000 [07:01<51:01,  3.48s/it]"
          ]
        },
        {
          "metadata": {
            "tags": null
          },
          "name": "stdout",
          "output_type": "stream",
          "text": [
            "Training loss: 0.0026\n",
            "Training metric: 0.8990\n",
            "perturbation loss: 0.0124\n",
            "Validation acc: 0.9141\n",
            "\n",
            "Start of epoch 120\n"
          ]
        },
        {
          "metadata": {
            "tags": null
          },
          "name": "stderr",
          "output_type": "stream",
          "text": [
            "\r 12%|█▏        | 121/1000 [07:04<50:57,  3.48s/it]"
          ]
        },
        {
          "metadata": {
            "tags": null
          },
          "name": "stdout",
          "output_type": "stream",
          "text": [
            "Training loss: 0.0239\n",
            "Training metric: 0.8997\n",
            "perturbation loss: 0.1123\n",
            "Validation acc: 0.9219\n",
            "\n",
            "Start of epoch 121\n"
          ]
        },
        {
          "metadata": {
            "tags": null
          },
          "name": "stderr",
          "output_type": "stream",
          "text": [
            "\r 12%|█▏        | 122/1000 [07:07<50:54,  3.48s/it]"
          ]
        },
        {
          "metadata": {
            "tags": null
          },
          "name": "stdout",
          "output_type": "stream",
          "text": [
            "Training loss: 0.0650\n",
            "Training metric: 0.9003\n",
            "perturbation loss: 0.1839\n",
            "Validation acc: 0.8750\n",
            "\n",
            "Start of epoch 122\n"
          ]
        },
        {
          "metadata": {
            "tags": null
          },
          "name": "stderr",
          "output_type": "stream",
          "text": [
            "\r 12%|█▏        | 123/1000 [07:11<50:53,  3.48s/it]"
          ]
        },
        {
          "metadata": {
            "tags": null
          },
          "name": "stdout",
          "output_type": "stream",
          "text": [
            "Training loss: 0.0309\n",
            "Training metric: 0.9009\n",
            "perturbation loss: 0.1018\n",
            "Validation acc: 0.9141\n",
            "\n",
            "Start of epoch 123\n"
          ]
        },
        {
          "metadata": {
            "tags": null
          },
          "name": "stderr",
          "output_type": "stream",
          "text": [
            "\r 12%|█▏        | 124/1000 [07:14<50:52,  3.48s/it]"
          ]
        },
        {
          "metadata": {
            "tags": null
          },
          "name": "stdout",
          "output_type": "stream",
          "text": [
            "Training loss: 0.1864\n",
            "Training metric: 0.9015\n",
            "perturbation loss: 0.0450\n",
            "Validation acc: 0.9609\n",
            "\n",
            "Start of epoch 124\n"
          ]
        },
        {
          "metadata": {
            "tags": null
          },
          "name": "stderr",
          "output_type": "stream",
          "text": [
            "\r 12%|█▎        | 125/1000 [07:18<50:48,  3.48s/it]"
          ]
        },
        {
          "metadata": {
            "tags": null
          },
          "name": "stdout",
          "output_type": "stream",
          "text": [
            "Training loss: 0.0090\n",
            "Training metric: 0.9022\n",
            "perturbation loss: 0.0361\n",
            "Validation acc: 0.9609\n",
            "\n",
            "Start of epoch 125\n"
          ]
        },
        {
          "metadata": {
            "tags": null
          },
          "name": "stderr",
          "output_type": "stream",
          "text": [
            "\r 13%|█▎        | 126/1000 [07:21<50:43,  3.48s/it]"
          ]
        },
        {
          "metadata": {
            "tags": null
          },
          "name": "stdout",
          "output_type": "stream",
          "text": [
            "Training loss: 0.0038\n",
            "Training metric: 0.9029\n",
            "perturbation loss: 0.0213\n",
            "Validation acc: 0.9375\n",
            "\n",
            "Start of epoch 126\n"
          ]
        },
        {
          "metadata": {
            "tags": null
          },
          "name": "stderr",
          "output_type": "stream",
          "text": [
            "\r 13%|█▎        | 127/1000 [07:25<50:38,  3.48s/it]"
          ]
        },
        {
          "metadata": {
            "tags": null
          },
          "name": "stdout",
          "output_type": "stream",
          "text": [
            "Training loss: 0.1366\n",
            "Training metric: 0.9034\n",
            "perturbation loss: 0.1688\n",
            "Validation acc: 0.8750\n",
            "\n",
            "Start of epoch 127\n"
          ]
        },
        {
          "metadata": {
            "tags": null
          },
          "name": "stderr",
          "output_type": "stream",
          "text": [
            "\r 13%|█▎        | 128/1000 [07:28<50:35,  3.48s/it]"
          ]
        },
        {
          "metadata": {
            "tags": null
          },
          "name": "stdout",
          "output_type": "stream",
          "text": [
            "Training loss: 0.0280\n",
            "Training metric: 0.9039\n",
            "perturbation loss: 0.1261\n",
            "Validation acc: 0.9297\n",
            "\n",
            "Start of epoch 128\n"
          ]
        },
        {
          "metadata": {
            "tags": null
          },
          "name": "stderr",
          "output_type": "stream",
          "text": [
            "\r 13%|█▎        | 129/1000 [07:32<50:32,  3.48s/it]"
          ]
        },
        {
          "metadata": {
            "tags": null
          },
          "name": "stdout",
          "output_type": "stream",
          "text": [
            "Training loss: 0.0953\n",
            "Training metric: 0.9045\n",
            "perturbation loss: 0.1196\n",
            "Validation acc: 0.9219\n",
            "\n",
            "Start of epoch 129\n"
          ]
        },
        {
          "metadata": {
            "tags": null
          },
          "name": "stderr",
          "output_type": "stream",
          "text": [
            "\r 13%|█▎        | 130/1000 [07:35<50:30,  3.48s/it]"
          ]
        },
        {
          "metadata": {
            "tags": null
          },
          "name": "stdout",
          "output_type": "stream",
          "text": [
            "Training loss: 0.0175\n",
            "Training metric: 0.9050\n",
            "perturbation loss: 0.0576\n",
            "Validation acc: 0.8984\n",
            "\n",
            "Start of epoch 130\n"
          ]
        },
        {
          "metadata": {
            "tags": null
          },
          "name": "stderr",
          "output_type": "stream",
          "text": [
            "\r 13%|█▎        | 131/1000 [07:39<50:27,  3.48s/it]"
          ]
        },
        {
          "metadata": {
            "tags": null
          },
          "name": "stdout",
          "output_type": "stream",
          "text": [
            "Training loss: 0.0254\n",
            "Training metric: 0.9054\n",
            "perturbation loss: 0.0881\n",
            "Validation acc: 0.8750\n",
            "\n",
            "Start of epoch 131\n"
          ]
        },
        {
          "metadata": {
            "tags": null
          },
          "name": "stderr",
          "output_type": "stream",
          "text": [
            "\r 13%|█▎        | 132/1000 [07:42<50:22,  3.48s/it]"
          ]
        },
        {
          "metadata": {
            "tags": null
          },
          "name": "stdout",
          "output_type": "stream",
          "text": [
            "Training loss: 0.0560\n",
            "Training metric: 0.9059\n",
            "perturbation loss: 0.1098\n",
            "Validation acc: 0.9297\n",
            "\n",
            "Start of epoch 132\n"
          ]
        },
        {
          "metadata": {
            "tags": null
          },
          "name": "stderr",
          "output_type": "stream",
          "text": [
            "\r 13%|█▎        | 133/1000 [07:46<50:19,  3.48s/it]"
          ]
        },
        {
          "metadata": {
            "tags": null
          },
          "name": "stdout",
          "output_type": "stream",
          "text": [
            "Training loss: 0.0285\n",
            "Training metric: 0.9065\n",
            "perturbation loss: 0.1082\n",
            "Validation acc: 0.9062\n",
            "\n",
            "Start of epoch 133\n"
          ]
        },
        {
          "metadata": {
            "tags": null
          },
          "name": "stderr",
          "output_type": "stream",
          "text": [
            "\r 13%|█▎        | 134/1000 [07:49<50:19,  3.49s/it]"
          ]
        },
        {
          "metadata": {
            "tags": null
          },
          "name": "stdout",
          "output_type": "stream",
          "text": [
            "Training loss: 0.0409\n",
            "Training metric: 0.9071\n",
            "perturbation loss: 0.1112\n",
            "Validation acc: 0.9141\n",
            "\n",
            "Start of epoch 134\n"
          ]
        },
        {
          "metadata": {
            "tags": null
          },
          "name": "stderr",
          "output_type": "stream",
          "text": [
            "\r 14%|█▎        | 135/1000 [07:53<50:14,  3.49s/it]"
          ]
        },
        {
          "metadata": {
            "tags": null
          },
          "name": "stdout",
          "output_type": "stream",
          "text": [
            "Training loss: 0.1016\n",
            "Training metric: 0.9077\n",
            "perturbation loss: 0.0943\n",
            "Validation acc: 0.9453\n",
            "\n",
            "Start of epoch 135\n"
          ]
        },
        {
          "metadata": {
            "tags": null
          },
          "name": "stderr",
          "output_type": "stream",
          "text": [
            "\r 14%|█▎        | 136/1000 [07:56<50:09,  3.48s/it]"
          ]
        },
        {
          "metadata": {
            "tags": null
          },
          "name": "stdout",
          "output_type": "stream",
          "text": [
            "Training loss: 0.2095\n",
            "Training metric: 0.9083\n",
            "perturbation loss: 0.0735\n",
            "Validation acc: 0.9219\n",
            "\n",
            "Start of epoch 136\n"
          ]
        },
        {
          "metadata": {
            "tags": null
          },
          "name": "stderr",
          "output_type": "stream",
          "text": [
            "\r 14%|█▎        | 137/1000 [08:00<50:07,  3.49s/it]"
          ]
        },
        {
          "metadata": {
            "tags": null
          },
          "name": "stdout",
          "output_type": "stream",
          "text": [
            "Training loss: 0.0460\n",
            "Training metric: 0.9088\n",
            "perturbation loss: 0.0906\n",
            "Validation acc: 0.9141\n",
            "\n",
            "Start of epoch 137\n"
          ]
        },
        {
          "metadata": {
            "tags": null
          },
          "name": "stderr",
          "output_type": "stream",
          "text": [
            "\r 14%|█▍        | 138/1000 [08:03<50:05,  3.49s/it]"
          ]
        },
        {
          "metadata": {
            "tags": null
          },
          "name": "stdout",
          "output_type": "stream",
          "text": [
            "Training loss: 0.1472\n",
            "Training metric: 0.9093\n",
            "perturbation loss: 0.1163\n",
            "Validation acc: 0.9297\n",
            "\n",
            "Start of epoch 138\n"
          ]
        },
        {
          "metadata": {
            "tags": null
          },
          "name": "stderr",
          "output_type": "stream",
          "text": [
            "\r 14%|█▍        | 139/1000 [08:07<50:04,  3.49s/it]"
          ]
        },
        {
          "metadata": {
            "tags": null
          },
          "name": "stdout",
          "output_type": "stream",
          "text": [
            "Training loss: 0.1198\n",
            "Training metric: 0.9098\n",
            "perturbation loss: 0.0838\n",
            "Validation acc: 0.8906\n",
            "\n",
            "Start of epoch 139\n"
          ]
        },
        {
          "metadata": {
            "tags": null
          },
          "name": "stderr",
          "output_type": "stream",
          "text": [
            "\r 14%|█▍        | 140/1000 [08:10<50:00,  3.49s/it]"
          ]
        },
        {
          "metadata": {
            "tags": null
          },
          "name": "stdout",
          "output_type": "stream",
          "text": [
            "Training loss: 0.0604\n",
            "Training metric: 0.9103\n",
            "perturbation loss: 0.1316\n",
            "Validation acc: 0.9297\n",
            "\n",
            "Start of epoch 140\n"
          ]
        },
        {
          "metadata": {
            "tags": null
          },
          "name": "stderr",
          "output_type": "stream",
          "text": [
            "\r 14%|█▍        | 141/1000 [08:14<49:58,  3.49s/it]"
          ]
        },
        {
          "metadata": {
            "tags": null
          },
          "name": "stdout",
          "output_type": "stream",
          "text": [
            "Training loss: 0.0675\n",
            "Training metric: 0.9108\n",
            "perturbation loss: 0.0713\n",
            "Validation acc: 0.8906\n",
            "\n",
            "Start of epoch 141\n"
          ]
        },
        {
          "metadata": {
            "tags": null
          },
          "name": "stderr",
          "output_type": "stream",
          "text": [
            "\r 14%|█▍        | 142/1000 [08:17<49:53,  3.49s/it]"
          ]
        },
        {
          "metadata": {
            "tags": null
          },
          "name": "stdout",
          "output_type": "stream",
          "text": [
            "Training loss: 0.2485\n",
            "Training metric: 0.9112\n",
            "perturbation loss: 0.1676\n",
            "Validation acc: 0.8984\n",
            "\n",
            "Start of epoch 142\n"
          ]
        },
        {
          "metadata": {
            "tags": null
          },
          "name": "stderr",
          "output_type": "stream",
          "text": [
            "\r 14%|█▍        | 143/1000 [08:21<49:49,  3.49s/it]"
          ]
        },
        {
          "metadata": {
            "tags": null
          },
          "name": "stdout",
          "output_type": "stream",
          "text": [
            "Training loss: 0.0197\n",
            "Training metric: 0.9117\n",
            "perturbation loss: 0.0526\n",
            "Validation acc: 0.9453\n",
            "\n",
            "Start of epoch 143\n"
          ]
        },
        {
          "metadata": {
            "tags": null
          },
          "name": "stderr",
          "output_type": "stream",
          "text": [
            "\r 14%|█▍        | 144/1000 [08:24<49:46,  3.49s/it]"
          ]
        },
        {
          "metadata": {
            "tags": null
          },
          "name": "stdout",
          "output_type": "stream",
          "text": [
            "Training loss: 0.0115\n",
            "Training metric: 0.9121\n",
            "perturbation loss: 0.0499\n",
            "Validation acc: 0.9141\n",
            "\n",
            "Start of epoch 144\n"
          ]
        },
        {
          "metadata": {
            "tags": null
          },
          "name": "stderr",
          "output_type": "stream",
          "text": [
            "\r 14%|█▍        | 145/1000 [08:28<49:40,  3.49s/it]"
          ]
        },
        {
          "metadata": {
            "tags": null
          },
          "name": "stdout",
          "output_type": "stream",
          "text": [
            "Training loss: 0.0153\n",
            "Training metric: 0.9126\n",
            "perturbation loss: 0.0808\n",
            "Validation acc: 0.9531\n",
            "\n",
            "Start of epoch 145\n"
          ]
        },
        {
          "metadata": {
            "tags": null
          },
          "name": "stderr",
          "output_type": "stream",
          "text": [
            "\r 15%|█▍        | 146/1000 [08:31<49:36,  3.49s/it]"
          ]
        },
        {
          "metadata": {
            "tags": null
          },
          "name": "stdout",
          "output_type": "stream",
          "text": [
            "Training loss: 0.0246\n",
            "Training metric: 0.9131\n",
            "perturbation loss: 0.0843\n",
            "Validation acc: 0.9062\n",
            "\n",
            "Start of epoch 146\n"
          ]
        },
        {
          "metadata": {
            "tags": null
          },
          "name": "stderr",
          "output_type": "stream",
          "text": [
            "\r 15%|█▍        | 147/1000 [08:35<49:32,  3.48s/it]"
          ]
        },
        {
          "metadata": {
            "tags": null
          },
          "name": "stdout",
          "output_type": "stream",
          "text": [
            "Training loss: 0.0622\n",
            "Training metric: 0.9135\n",
            "perturbation loss: 0.0655\n",
            "Validation acc: 0.8984\n",
            "\n",
            "Start of epoch 147\n"
          ]
        },
        {
          "metadata": {
            "tags": null
          },
          "name": "stderr",
          "output_type": "stream",
          "text": [
            "\r 15%|█▍        | 148/1000 [08:38<49:30,  3.49s/it]"
          ]
        },
        {
          "metadata": {
            "tags": null
          },
          "name": "stdout",
          "output_type": "stream",
          "text": [
            "Training loss: 0.1115\n",
            "Training metric: 0.9140\n",
            "perturbation loss: 0.1594\n",
            "Validation acc: 0.8750\n",
            "\n",
            "Start of epoch 148\n"
          ]
        },
        {
          "metadata": {
            "tags": null
          },
          "name": "stderr",
          "output_type": "stream",
          "text": [
            "\r 15%|█▍        | 149/1000 [08:42<49:27,  3.49s/it]"
          ]
        },
        {
          "metadata": {
            "tags": null
          },
          "name": "stdout",
          "output_type": "stream",
          "text": [
            "Training loss: 0.0984\n",
            "Training metric: 0.9143\n",
            "perturbation loss: 0.0988\n",
            "Validation acc: 0.8828\n",
            "\n",
            "Start of epoch 149\n"
          ]
        },
        {
          "metadata": {
            "tags": null
          },
          "name": "stderr",
          "output_type": "stream",
          "text": [
            "\r 15%|█▌        | 150/1000 [08:45<49:24,  3.49s/it]"
          ]
        },
        {
          "metadata": {
            "tags": null
          },
          "name": "stdout",
          "output_type": "stream",
          "text": [
            "Training loss: 0.1795\n",
            "Training metric: 0.9147\n",
            "perturbation loss: 0.0997\n",
            "Validation acc: 0.8984\n",
            "\n",
            "Start of epoch 150\n"
          ]
        },
        {
          "metadata": {
            "tags": null
          },
          "name": "stderr",
          "output_type": "stream",
          "text": [
            "\r 15%|█▌        | 151/1000 [08:49<49:23,  3.49s/it]"
          ]
        },
        {
          "metadata": {
            "tags": null
          },
          "name": "stdout",
          "output_type": "stream",
          "text": [
            "Training loss: 0.1163\n",
            "Training metric: 0.9149\n",
            "perturbation loss: 0.1142\n",
            "Validation acc: 0.9141\n",
            "\n",
            "Start of epoch 151\n"
          ]
        },
        {
          "metadata": {
            "tags": null
          },
          "name": "stderr",
          "output_type": "stream",
          "text": [
            "\r 15%|█▌        | 152/1000 [08:52<49:19,  3.49s/it]"
          ]
        },
        {
          "metadata": {
            "tags": null
          },
          "name": "stdout",
          "output_type": "stream",
          "text": [
            "Training loss: 0.1076\n",
            "Training metric: 0.9153\n",
            "perturbation loss: 0.1178\n",
            "Validation acc: 0.9375\n",
            "\n",
            "Start of epoch 152\n"
          ]
        },
        {
          "metadata": {
            "tags": null
          },
          "name": "stderr",
          "output_type": "stream",
          "text": [
            "\r 15%|█▌        | 153/1000 [08:56<49:15,  3.49s/it]"
          ]
        },
        {
          "metadata": {
            "tags": null
          },
          "name": "stdout",
          "output_type": "stream",
          "text": [
            "Training loss: 0.1073\n",
            "Training metric: 0.9158\n",
            "perturbation loss: 0.0807\n",
            "Validation acc: 0.9219\n",
            "\n",
            "Start of epoch 153\n"
          ]
        },
        {
          "metadata": {
            "tags": null
          },
          "name": "stderr",
          "output_type": "stream",
          "text": [
            "\r 15%|█▌        | 154/1000 [08:59<49:10,  3.49s/it]"
          ]
        },
        {
          "metadata": {
            "tags": null
          },
          "name": "stdout",
          "output_type": "stream",
          "text": [
            "Training loss: 0.0408\n",
            "Training metric: 0.9162\n",
            "perturbation loss: 0.1126\n",
            "Validation acc: 0.8984\n",
            "\n",
            "Start of epoch 154\n"
          ]
        },
        {
          "metadata": {
            "tags": null
          },
          "name": "stderr",
          "output_type": "stream",
          "text": [
            "\r 16%|█▌        | 155/1000 [09:03<49:07,  3.49s/it]"
          ]
        },
        {
          "metadata": {
            "tags": null
          },
          "name": "stdout",
          "output_type": "stream",
          "text": [
            "Training loss: 0.0740\n",
            "Training metric: 0.9166\n",
            "perturbation loss: 0.0729\n",
            "Validation acc: 0.8594\n",
            "\n",
            "Start of epoch 155\n"
          ]
        },
        {
          "metadata": {
            "tags": null
          },
          "name": "stderr",
          "output_type": "stream",
          "text": [
            "\r 16%|█▌        | 156/1000 [09:06<49:02,  3.49s/it]"
          ]
        },
        {
          "metadata": {
            "tags": null
          },
          "name": "stdout",
          "output_type": "stream",
          "text": [
            "Training loss: 0.0221\n",
            "Training metric: 0.9169\n",
            "perturbation loss: 0.0676\n",
            "Validation acc: 0.8438\n",
            "\n",
            "Start of epoch 156\n"
          ]
        },
        {
          "metadata": {
            "tags": null
          },
          "name": "stderr",
          "output_type": "stream",
          "text": [
            "\r 16%|█▌        | 157/1000 [09:09<48:58,  3.49s/it]"
          ]
        },
        {
          "metadata": {
            "tags": null
          },
          "name": "stdout",
          "output_type": "stream",
          "text": [
            "Training loss: 0.0681\n",
            "Training metric: 0.9172\n",
            "perturbation loss: 0.1233\n",
            "Validation acc: 0.8906\n",
            "\n",
            "Start of epoch 157\n"
          ]
        },
        {
          "metadata": {
            "tags": null
          },
          "name": "stderr",
          "output_type": "stream",
          "text": [
            "\r 16%|█▌        | 158/1000 [09:13<48:54,  3.49s/it]"
          ]
        },
        {
          "metadata": {
            "tags": null
          },
          "name": "stdout",
          "output_type": "stream",
          "text": [
            "Training loss: 0.0459\n",
            "Training metric: 0.9176\n",
            "perturbation loss: 0.1216\n",
            "Validation acc: 0.9531\n",
            "\n",
            "Start of epoch 158\n"
          ]
        },
        {
          "metadata": {
            "tags": null
          },
          "name": "stderr",
          "output_type": "stream",
          "text": [
            "\r 16%|█▌        | 159/1000 [09:16<48:55,  3.49s/it]"
          ]
        },
        {
          "metadata": {
            "tags": null
          },
          "name": "stdout",
          "output_type": "stream",
          "text": [
            "Training loss: 0.0345\n",
            "Training metric: 0.9180\n",
            "perturbation loss: 0.1030\n",
            "Validation acc: 0.9219\n",
            "\n",
            "Start of epoch 159\n"
          ]
        },
        {
          "metadata": {
            "tags": null
          },
          "name": "stderr",
          "output_type": "stream",
          "text": [
            "\r 16%|█▌        | 160/1000 [09:20<48:51,  3.49s/it]"
          ]
        },
        {
          "metadata": {
            "tags": null
          },
          "name": "stdout",
          "output_type": "stream",
          "text": [
            "Training loss: 0.0215\n",
            "Training metric: 0.9184\n",
            "perturbation loss: 0.0397\n",
            "Validation acc: 0.9609\n",
            "\n",
            "Start of epoch 160\n"
          ]
        },
        {
          "metadata": {
            "tags": null
          },
          "name": "stderr",
          "output_type": "stream",
          "text": [
            "\r 16%|█▌        | 161/1000 [09:23<48:46,  3.49s/it]"
          ]
        },
        {
          "metadata": {
            "tags": null
          },
          "name": "stdout",
          "output_type": "stream",
          "text": [
            "Training loss: 0.0298\n",
            "Training metric: 0.9188\n",
            "perturbation loss: 0.0660\n",
            "Validation acc: 0.9609\n",
            "\n",
            "Start of epoch 161\n"
          ]
        },
        {
          "metadata": {
            "tags": null
          },
          "name": "stderr",
          "output_type": "stream",
          "text": [
            "\r 16%|█▌        | 162/1000 [09:27<48:44,  3.49s/it]"
          ]
        },
        {
          "metadata": {
            "tags": null
          },
          "name": "stdout",
          "output_type": "stream",
          "text": [
            "Training loss: 0.0443\n",
            "Training metric: 0.9192\n",
            "perturbation loss: 0.1322\n",
            "Validation acc: 0.9219\n",
            "\n",
            "Start of epoch 162\n"
          ]
        },
        {
          "metadata": {
            "tags": null
          },
          "name": "stderr",
          "output_type": "stream",
          "text": [
            "\r 16%|█▋        | 163/1000 [09:30<48:40,  3.49s/it]"
          ]
        },
        {
          "metadata": {
            "tags": null
          },
          "name": "stdout",
          "output_type": "stream",
          "text": [
            "Training loss: 0.0275\n",
            "Training metric: 0.9197\n",
            "perturbation loss: 0.0877\n",
            "Validation acc: 0.9453\n",
            "\n",
            "Start of epoch 163\n"
          ]
        },
        {
          "metadata": {
            "tags": null
          },
          "name": "stderr",
          "output_type": "stream",
          "text": [
            "\r 16%|█▋        | 164/1000 [09:34<48:36,  3.49s/it]"
          ]
        },
        {
          "metadata": {
            "tags": null
          },
          "name": "stdout",
          "output_type": "stream",
          "text": [
            "Training loss: 0.0138\n",
            "Training metric: 0.9201\n",
            "perturbation loss: 0.0707\n",
            "Validation acc: 0.9609\n",
            "\n",
            "Start of epoch 164\n"
          ]
        },
        {
          "metadata": {
            "tags": null
          },
          "name": "stderr",
          "output_type": "stream",
          "text": [
            "\r 16%|█▋        | 165/1000 [09:37<48:32,  3.49s/it]"
          ]
        },
        {
          "metadata": {
            "tags": null
          },
          "name": "stdout",
          "output_type": "stream",
          "text": [
            "Training loss: 0.0019\n",
            "Training metric: 0.9205\n",
            "perturbation loss: 0.0105\n",
            "Validation acc: 0.9453\n",
            "\n",
            "Start of epoch 165\n"
          ]
        },
        {
          "metadata": {
            "tags": null
          },
          "name": "stderr",
          "output_type": "stream",
          "text": [
            "\r 17%|█▋        | 166/1000 [09:41<48:28,  3.49s/it]"
          ]
        },
        {
          "metadata": {
            "tags": null
          },
          "name": "stdout",
          "output_type": "stream",
          "text": [
            "Training loss: 0.0164\n",
            "Training metric: 0.9210\n",
            "perturbation loss: 0.0559\n",
            "Validation acc: 0.9219\n",
            "\n",
            "Start of epoch 166\n"
          ]
        },
        {
          "metadata": {
            "tags": null
          },
          "name": "stderr",
          "output_type": "stream",
          "text": [
            "\r 17%|█▋        | 167/1000 [09:44<48:25,  3.49s/it]"
          ]
        },
        {
          "metadata": {
            "tags": null
          },
          "name": "stdout",
          "output_type": "stream",
          "text": [
            "Training loss: 0.0263\n",
            "Training metric: 0.9213\n",
            "perturbation loss: 0.1147\n",
            "Validation acc: 0.9062\n",
            "\n",
            "Start of epoch 167\n"
          ]
        },
        {
          "metadata": {
            "tags": null
          },
          "name": "stderr",
          "output_type": "stream",
          "text": [
            "\r 17%|█▋        | 168/1000 [09:48<48:23,  3.49s/it]"
          ]
        },
        {
          "metadata": {
            "tags": null
          },
          "name": "stdout",
          "output_type": "stream",
          "text": [
            "Training loss: 0.3779\n",
            "Training metric: 0.9216\n",
            "perturbation loss: 0.0935\n",
            "Validation acc: 0.8516\n",
            "\n",
            "Start of epoch 168\n"
          ]
        },
        {
          "metadata": {
            "tags": null
          },
          "name": "stderr",
          "output_type": "stream",
          "text": [
            "\r 17%|█▋        | 169/1000 [09:51<48:19,  3.49s/it]"
          ]
        },
        {
          "metadata": {
            "tags": null
          },
          "name": "stdout",
          "output_type": "stream",
          "text": [
            "Training loss: 0.0328\n",
            "Training metric: 0.9219\n",
            "perturbation loss: 0.1081\n",
            "Validation acc: 0.9141\n",
            "\n",
            "Start of epoch 169\n"
          ]
        },
        {
          "metadata": {
            "tags": null
          },
          "name": "stderr",
          "output_type": "stream",
          "text": [
            "\r 17%|█▋        | 170/1000 [09:55<48:14,  3.49s/it]"
          ]
        },
        {
          "metadata": {
            "tags": null
          },
          "name": "stdout",
          "output_type": "stream",
          "text": [
            "Training loss: 0.0726\n",
            "Training metric: 0.9223\n",
            "perturbation loss: 0.0812\n",
            "Validation acc: 0.9219\n",
            "\n",
            "Start of epoch 170\n"
          ]
        },
        {
          "metadata": {
            "tags": null
          },
          "name": "stderr",
          "output_type": "stream",
          "text": [
            "\r 17%|█▋        | 171/1000 [09:58<48:11,  3.49s/it]"
          ]
        },
        {
          "metadata": {
            "tags": null
          },
          "name": "stdout",
          "output_type": "stream",
          "text": [
            "Training loss: 0.0041\n",
            "Training metric: 0.9227\n",
            "perturbation loss: 0.0199\n",
            "Validation acc: 0.9297\n",
            "\n",
            "Start of epoch 171\n"
          ]
        },
        {
          "metadata": {
            "tags": null
          },
          "name": "stderr",
          "output_type": "stream",
          "text": [
            "\r 17%|█▋        | 172/1000 [10:02<48:07,  3.49s/it]"
          ]
        },
        {
          "metadata": {
            "tags": null
          },
          "name": "stdout",
          "output_type": "stream",
          "text": [
            "Training loss: 0.0084\n",
            "Training metric: 0.9231\n",
            "perturbation loss: 0.0275\n",
            "Validation acc: 0.9375\n",
            "\n",
            "Start of epoch 172\n"
          ]
        },
        {
          "metadata": {
            "tags": null
          },
          "name": "stderr",
          "output_type": "stream",
          "text": [
            "\r 17%|█▋        | 173/1000 [10:05<48:02,  3.49s/it]"
          ]
        },
        {
          "metadata": {
            "tags": null
          },
          "name": "stdout",
          "output_type": "stream",
          "text": [
            "Training loss: 0.0018\n",
            "Training metric: 0.9235\n",
            "perturbation loss: 0.0091\n",
            "Validation acc: 0.9141\n",
            "\n",
            "Start of epoch 173\n"
          ]
        },
        {
          "metadata": {
            "tags": null
          },
          "name": "stderr",
          "output_type": "stream",
          "text": [
            "\r 17%|█▋        | 174/1000 [10:09<47:59,  3.49s/it]"
          ]
        },
        {
          "metadata": {
            "tags": null
          },
          "name": "stdout",
          "output_type": "stream",
          "text": [
            "Training loss: 0.0016\n",
            "Training metric: 0.9239\n",
            "perturbation loss: 0.0067\n",
            "Validation acc: 0.9219\n",
            "\n",
            "Start of epoch 174\n"
          ]
        },
        {
          "metadata": {
            "tags": null
          },
          "name": "stderr",
          "output_type": "stream",
          "text": [
            "\r 18%|█▊        | 175/1000 [10:12<47:58,  3.49s/it]"
          ]
        },
        {
          "metadata": {
            "tags": null
          },
          "name": "stdout",
          "output_type": "stream",
          "text": [
            "Training loss: 0.0181\n",
            "Training metric: 0.9243\n",
            "perturbation loss: 0.0634\n",
            "Validation acc: 0.9141\n",
            "\n",
            "Start of epoch 175\n"
          ]
        },
        {
          "metadata": {
            "tags": null
          },
          "name": "stderr",
          "output_type": "stream",
          "text": [
            "\r 18%|█▊        | 176/1000 [10:16<47:52,  3.49s/it]"
          ]
        },
        {
          "metadata": {
            "tags": null
          },
          "name": "stdout",
          "output_type": "stream",
          "text": [
            "Training loss: 0.3262\n",
            "Training metric: 0.9246\n",
            "perturbation loss: 0.1594\n",
            "Validation acc: 0.8906\n",
            "\n",
            "Start of epoch 176\n"
          ]
        },
        {
          "metadata": {
            "tags": null
          },
          "name": "stderr",
          "output_type": "stream",
          "text": [
            "\r 18%|█▊        | 177/1000 [10:19<47:49,  3.49s/it]"
          ]
        },
        {
          "metadata": {
            "tags": null
          },
          "name": "stdout",
          "output_type": "stream",
          "text": [
            "Training loss: 0.0209\n",
            "Training metric: 0.9249\n",
            "perturbation loss: 0.0796\n",
            "Validation acc: 0.9375\n",
            "\n",
            "Start of epoch 177\n"
          ]
        },
        {
          "metadata": {
            "tags": null
          },
          "name": "stderr",
          "output_type": "stream",
          "text": [
            "\r 18%|█▊        | 178/1000 [10:23<47:46,  3.49s/it]"
          ]
        },
        {
          "metadata": {
            "tags": null
          },
          "name": "stdout",
          "output_type": "stream",
          "text": [
            "Training loss: 0.0238\n",
            "Training metric: 0.9252\n",
            "perturbation loss: 0.0593\n",
            "Validation acc: 0.9375\n",
            "\n",
            "Start of epoch 178\n"
          ]
        },
        {
          "metadata": {
            "tags": null
          },
          "name": "stderr",
          "output_type": "stream",
          "text": [
            "\r 18%|█▊        | 179/1000 [10:26<47:41,  3.49s/it]"
          ]
        },
        {
          "metadata": {
            "tags": null
          },
          "name": "stdout",
          "output_type": "stream",
          "text": [
            "Training loss: 0.0090\n",
            "Training metric: 0.9256\n",
            "perturbation loss: 0.0205\n",
            "Validation acc: 0.9141\n",
            "\n",
            "Start of epoch 179\n"
          ]
        },
        {
          "metadata": {
            "tags": null
          },
          "name": "stderr",
          "output_type": "stream",
          "text": [
            "\r 18%|█▊        | 180/1000 [10:30<47:39,  3.49s/it]"
          ]
        },
        {
          "metadata": {
            "tags": null
          },
          "name": "stdout",
          "output_type": "stream",
          "text": [
            "Training loss: 0.0455\n",
            "Training metric: 0.9259\n",
            "perturbation loss: 0.0593\n",
            "Validation acc: 0.9609\n",
            "\n",
            "Start of epoch 180\n"
          ]
        },
        {
          "metadata": {
            "tags": null
          },
          "name": "stderr",
          "output_type": "stream",
          "text": [
            "\r 18%|█▊        | 181/1000 [10:33<47:36,  3.49s/it]"
          ]
        },
        {
          "metadata": {
            "tags": null
          },
          "name": "stdout",
          "output_type": "stream",
          "text": [
            "Training loss: 0.0774\n",
            "Training metric: 0.9263\n",
            "perturbation loss: 0.1125\n",
            "Validation acc: 0.9141\n",
            "\n",
            "Start of epoch 181\n"
          ]
        },
        {
          "metadata": {
            "tags": null
          },
          "name": "stderr",
          "output_type": "stream",
          "text": [
            "\r 18%|█▊        | 182/1000 [10:37<47:32,  3.49s/it]"
          ]
        },
        {
          "metadata": {
            "tags": null
          },
          "name": "stdout",
          "output_type": "stream",
          "text": [
            "Training loss: 0.0056\n",
            "Training metric: 0.9266\n",
            "perturbation loss: 0.0252\n",
            "Validation acc: 0.9609\n",
            "\n",
            "Start of epoch 182\n"
          ]
        },
        {
          "metadata": {
            "tags": null
          },
          "name": "stderr",
          "output_type": "stream",
          "text": [
            "\r 18%|█▊        | 183/1000 [10:40<47:28,  3.49s/it]"
          ]
        },
        {
          "metadata": {
            "tags": null
          },
          "name": "stdout",
          "output_type": "stream",
          "text": [
            "Training loss: 0.0038\n",
            "Training metric: 0.9270\n",
            "perturbation loss: 0.0248\n",
            "Validation acc: 0.9297\n",
            "\n",
            "Start of epoch 183\n"
          ]
        },
        {
          "metadata": {
            "tags": null
          },
          "name": "stderr",
          "output_type": "stream",
          "text": [
            "\r 18%|█▊        | 184/1000 [10:44<47:26,  3.49s/it]"
          ]
        },
        {
          "metadata": {
            "tags": null
          },
          "name": "stdout",
          "output_type": "stream",
          "text": [
            "Training loss: 0.0035\n",
            "Training metric: 0.9274\n",
            "perturbation loss: 0.0152\n",
            "Validation acc: 0.9531\n",
            "\n",
            "Start of epoch 184\n"
          ]
        },
        {
          "metadata": {
            "tags": null
          },
          "name": "stderr",
          "output_type": "stream",
          "text": [
            "\r 18%|█▊        | 185/1000 [10:47<47:22,  3.49s/it]"
          ]
        },
        {
          "metadata": {
            "tags": null
          },
          "name": "stdout",
          "output_type": "stream",
          "text": [
            "Training loss: 0.0040\n",
            "Training metric: 0.9277\n",
            "perturbation loss: 0.0174\n",
            "Validation acc: 0.9688\n",
            "\n",
            "Start of epoch 185\n"
          ]
        },
        {
          "metadata": {
            "tags": null
          },
          "name": "stderr",
          "output_type": "stream",
          "text": [
            "\r 19%|█▊        | 186/1000 [10:51<47:18,  3.49s/it]"
          ]
        },
        {
          "metadata": {
            "tags": null
          },
          "name": "stdout",
          "output_type": "stream",
          "text": [
            "Training loss: 0.0362\n",
            "Training metric: 0.9281\n",
            "perturbation loss: 0.1019\n",
            "Validation acc: 0.9219\n",
            "\n",
            "Start of epoch 186\n"
          ]
        },
        {
          "metadata": {
            "tags": null
          },
          "name": "stderr",
          "output_type": "stream",
          "text": [
            "\r 19%|█▊        | 187/1000 [10:54<47:17,  3.49s/it]"
          ]
        },
        {
          "metadata": {
            "tags": null
          },
          "name": "stdout",
          "output_type": "stream",
          "text": [
            "Training loss: 0.0074\n",
            "Training metric: 0.9284\n",
            "perturbation loss: 0.0304\n",
            "Validation acc: 0.9375\n",
            "\n",
            "Start of epoch 187\n"
          ]
        },
        {
          "metadata": {
            "tags": null
          },
          "name": "stderr",
          "output_type": "stream",
          "text": [
            "\r 19%|█▉        | 188/1000 [10:58<47:12,  3.49s/it]"
          ]
        },
        {
          "metadata": {
            "tags": null
          },
          "name": "stdout",
          "output_type": "stream",
          "text": [
            "Training loss: 0.0044\n",
            "Training metric: 0.9288\n",
            "perturbation loss: 0.0189\n",
            "Validation acc: 0.9453\n",
            "\n",
            "Start of epoch 188\n"
          ]
        },
        {
          "metadata": {
            "tags": null
          },
          "name": "stderr",
          "output_type": "stream",
          "text": [
            "\r 19%|█▉        | 189/1000 [11:01<47:08,  3.49s/it]"
          ]
        },
        {
          "metadata": {
            "tags": null
          },
          "name": "stdout",
          "output_type": "stream",
          "text": [
            "Training loss: 0.1560\n",
            "Training metric: 0.9291\n",
            "perturbation loss: 0.0797\n",
            "Validation acc: 0.9531\n",
            "\n",
            "Start of epoch 189\n"
          ]
        },
        {
          "metadata": {
            "tags": null
          },
          "name": "stderr",
          "output_type": "stream",
          "text": [
            "\r 19%|█▉        | 190/1000 [11:05<47:04,  3.49s/it]"
          ]
        },
        {
          "metadata": {
            "tags": null
          },
          "name": "stdout",
          "output_type": "stream",
          "text": [
            "Training loss: 0.0902\n",
            "Training metric: 0.9294\n",
            "perturbation loss: 0.1006\n",
            "Validation acc: 0.9766\n",
            "\n",
            "Start of epoch 190\n"
          ]
        },
        {
          "metadata": {
            "tags": null
          },
          "name": "stderr",
          "output_type": "stream",
          "text": [
            "\r 19%|█▉        | 191/1000 [11:08<47:00,  3.49s/it]"
          ]
        },
        {
          "metadata": {
            "tags": null
          },
          "name": "stdout",
          "output_type": "stream",
          "text": [
            "Training loss: 0.0060\n",
            "Training metric: 0.9297\n",
            "perturbation loss: 0.0309\n",
            "Validation acc: 0.9766\n",
            "\n",
            "Start of epoch 191\n"
          ]
        },
        {
          "metadata": {
            "tags": null
          },
          "name": "stderr",
          "output_type": "stream",
          "text": [
            "\r 19%|█▉        | 192/1000 [11:12<46:57,  3.49s/it]"
          ]
        },
        {
          "metadata": {
            "tags": null
          },
          "name": "stdout",
          "output_type": "stream",
          "text": [
            "Training loss: 0.0521\n",
            "Training metric: 0.9301\n",
            "perturbation loss: 0.0997\n",
            "Validation acc: 0.9531\n",
            "\n",
            "Start of epoch 192\n"
          ]
        },
        {
          "metadata": {
            "tags": null
          },
          "name": "stderr",
          "output_type": "stream",
          "text": [
            "\r 19%|█▉        | 193/1000 [11:15<46:53,  3.49s/it]"
          ]
        },
        {
          "metadata": {
            "tags": null
          },
          "name": "stdout",
          "output_type": "stream",
          "text": [
            "Training loss: 0.0256\n",
            "Training metric: 0.9304\n",
            "perturbation loss: 0.0698\n",
            "Validation acc: 0.9375\n",
            "\n",
            "Start of epoch 193\n"
          ]
        },
        {
          "metadata": {
            "tags": null
          },
          "name": "stderr",
          "output_type": "stream",
          "text": [
            "\r 19%|█▉        | 194/1000 [11:19<46:54,  3.49s/it]"
          ]
        },
        {
          "metadata": {
            "tags": null
          },
          "name": "stdout",
          "output_type": "stream",
          "text": [
            "Training loss: 0.0750\n",
            "Training metric: 0.9307\n",
            "perturbation loss: 0.0874\n",
            "Validation acc: 0.9531\n",
            "\n",
            "Start of epoch 194\n"
          ]
        },
        {
          "metadata": {
            "tags": null
          },
          "name": "stderr",
          "output_type": "stream",
          "text": [
            "\r 20%|█▉        | 195/1000 [11:22<46:49,  3.49s/it]"
          ]
        },
        {
          "metadata": {
            "tags": null
          },
          "name": "stdout",
          "output_type": "stream",
          "text": [
            "Training loss: 0.0136\n",
            "Training metric: 0.9311\n",
            "perturbation loss: 0.0364\n",
            "Validation acc: 0.9609\n",
            "\n",
            "Start of epoch 195\n"
          ]
        },
        {
          "metadata": {
            "tags": null
          },
          "name": "stderr",
          "output_type": "stream",
          "text": [
            "\r 20%|█▉        | 196/1000 [11:26<46:45,  3.49s/it]"
          ]
        },
        {
          "metadata": {
            "tags": null
          },
          "name": "stdout",
          "output_type": "stream",
          "text": [
            "Training loss: 0.0194\n",
            "Training metric: 0.9314\n",
            "perturbation loss: 0.0245\n",
            "Validation acc: 0.9453\n",
            "\n",
            "Start of epoch 196\n"
          ]
        },
        {
          "metadata": {
            "tags": null
          },
          "name": "stderr",
          "output_type": "stream",
          "text": [
            "\r 20%|█▉        | 197/1000 [11:29<46:40,  3.49s/it]"
          ]
        },
        {
          "metadata": {
            "tags": null
          },
          "name": "stdout",
          "output_type": "stream",
          "text": [
            "Training loss: 0.3168\n",
            "Training metric: 0.9317\n",
            "perturbation loss: 0.0838\n",
            "Validation acc: 0.9297\n",
            "\n",
            "Start of epoch 197\n"
          ]
        },
        {
          "metadata": {
            "tags": null
          },
          "name": "stderr",
          "output_type": "stream",
          "text": [
            "\r 20%|█▉        | 198/1000 [11:33<46:39,  3.49s/it]"
          ]
        },
        {
          "metadata": {
            "tags": null
          },
          "name": "stdout",
          "output_type": "stream",
          "text": [
            "Training loss: 0.0133\n",
            "Training metric: 0.9320\n",
            "perturbation loss: 0.0434\n",
            "Validation acc: 0.9375\n",
            "\n",
            "Start of epoch 198\n"
          ]
        },
        {
          "metadata": {
            "tags": null
          },
          "name": "stderr",
          "output_type": "stream",
          "text": [
            "\r 20%|█▉        | 199/1000 [11:36<46:35,  3.49s/it]"
          ]
        },
        {
          "metadata": {
            "tags": null
          },
          "name": "stdout",
          "output_type": "stream",
          "text": [
            "Training loss: 0.1139\n",
            "Training metric: 0.9322\n",
            "perturbation loss: 0.1063\n",
            "Validation acc: 0.9297\n",
            "\n",
            "Start of epoch 199\n"
          ]
        },
        {
          "metadata": {
            "tags": null
          },
          "name": "stderr",
          "output_type": "stream",
          "text": [
            "\r 20%|██        | 200/1000 [11:39<46:31,  3.49s/it]"
          ]
        },
        {
          "metadata": {
            "tags": null
          },
          "name": "stdout",
          "output_type": "stream",
          "text": [
            "Training loss: 0.2110\n",
            "Training metric: 0.9325\n",
            "perturbation loss: 0.0914\n",
            "Validation acc: 0.9688\n",
            "\n",
            "Start of epoch 200\n"
          ]
        },
        {
          "metadata": {
            "tags": null
          },
          "name": "stderr",
          "output_type": "stream",
          "text": [
            "\r 20%|██        | 201/1000 [11:43<46:26,  3.49s/it]"
          ]
        },
        {
          "metadata": {
            "tags": null
          },
          "name": "stdout",
          "output_type": "stream",
          "text": [
            "Training loss: 0.0075\n",
            "Training metric: 0.9328\n",
            "perturbation loss: 0.0278\n",
            "Validation acc: 0.9453\n",
            "\n",
            "Start of epoch 201\n"
          ]
        },
        {
          "metadata": {
            "tags": null
          },
          "name": "stderr",
          "output_type": "stream",
          "text": [
            "\r 20%|██        | 202/1000 [11:46<46:21,  3.49s/it]"
          ]
        },
        {
          "metadata": {
            "tags": null
          },
          "name": "stdout",
          "output_type": "stream",
          "text": [
            "Training loss: 0.0010\n",
            "Training metric: 0.9331\n",
            "perturbation loss: 0.0090\n",
            "Validation acc: 0.9531\n",
            "\n",
            "Start of epoch 202\n"
          ]
        },
        {
          "metadata": {
            "tags": null
          },
          "name": "stderr",
          "output_type": "stream",
          "text": [
            "\r 20%|██        | 203/1000 [11:50<46:20,  3.49s/it]"
          ]
        },
        {
          "metadata": {
            "tags": null
          },
          "name": "stdout",
          "output_type": "stream",
          "text": [
            "Training loss: 0.0275\n",
            "Training metric: 0.9334\n",
            "perturbation loss: 0.0536\n",
            "Validation acc: 0.9688\n",
            "\n",
            "Start of epoch 203\n"
          ]
        },
        {
          "metadata": {
            "tags": null
          },
          "name": "stderr",
          "output_type": "stream",
          "text": [
            "\r 20%|██        | 204/1000 [11:53<46:16,  3.49s/it]"
          ]
        },
        {
          "metadata": {
            "tags": null
          },
          "name": "stdout",
          "output_type": "stream",
          "text": [
            "Training loss: 0.0090\n",
            "Training metric: 0.9337\n",
            "perturbation loss: 0.0379\n",
            "Validation acc: 0.9375\n",
            "\n",
            "Start of epoch 204\n"
          ]
        },
        {
          "metadata": {
            "tags": null
          },
          "name": "stderr",
          "output_type": "stream",
          "text": [
            "\r 20%|██        | 205/1000 [11:57<46:15,  3.49s/it]"
          ]
        },
        {
          "metadata": {
            "tags": null
          },
          "name": "stdout",
          "output_type": "stream",
          "text": [
            "Training loss: 0.0107\n",
            "Training metric: 0.9340\n",
            "perturbation loss: 0.0488\n",
            "Validation acc: 0.9453\n",
            "\n",
            "Start of epoch 205\n"
          ]
        },
        {
          "output_type": "stream",
          "name": "stderr",
          "text": [
            "\r 21%|██        | 206/1000 [12:00<46:11,  3.49s/it]"
          ]
        },
        {
          "output_type": "stream",
          "name": "stdout",
          "text": [
            "Training loss: 0.0082\n",
            "Training metric: 0.9342\n",
            "perturbation loss: 0.0306\n",
            "Validation acc: 0.9375\n",
            "\n",
            "Start of epoch 206\n"
          ]
        },
        {
          "output_type": "stream",
          "name": "stderr",
          "text": [
            "\r 21%|██        | 207/1000 [12:04<46:07,  3.49s/it]"
          ]
        },
        {
          "output_type": "stream",
          "name": "stdout",
          "text": [
            "Training loss: 0.0161\n",
            "Training metric: 0.9345\n",
            "perturbation loss: 0.0376\n",
            "Validation acc: 0.9141\n",
            "\n",
            "Start of epoch 207\n"
          ]
        },
        {
          "output_type": "stream",
          "name": "stderr",
          "text": [
            "\r 21%|██        | 208/1000 [12:07<46:03,  3.49s/it]"
          ]
        },
        {
          "output_type": "stream",
          "name": "stdout",
          "text": [
            "Training loss: 0.0069\n",
            "Training metric: 0.9347\n",
            "perturbation loss: 0.0225\n",
            "Validation acc: 0.9219\n",
            "\n",
            "Start of epoch 208\n"
          ]
        },
        {
          "output_type": "stream",
          "name": "stderr",
          "text": [
            "\r 21%|██        | 209/1000 [12:11<46:00,  3.49s/it]"
          ]
        },
        {
          "output_type": "stream",
          "name": "stdout",
          "text": [
            "Training loss: 0.0088\n",
            "Training metric: 0.9349\n",
            "perturbation loss: 0.0330\n",
            "Validation acc: 0.9453\n",
            "\n",
            "Start of epoch 209\n"
          ]
        },
        {
          "output_type": "stream",
          "name": "stderr",
          "text": [
            "\r 21%|██        | 210/1000 [12:14<45:57,  3.49s/it]"
          ]
        },
        {
          "output_type": "stream",
          "name": "stdout",
          "text": [
            "Training loss: 0.0031\n",
            "Training metric: 0.9352\n",
            "perturbation loss: 0.0141\n",
            "Validation acc: 0.9375\n",
            "\n",
            "Start of epoch 210\n"
          ]
        },
        {
          "output_type": "stream",
          "name": "stderr",
          "text": [
            "\r 21%|██        | 211/1000 [12:18<45:53,  3.49s/it]"
          ]
        },
        {
          "output_type": "stream",
          "name": "stdout",
          "text": [
            "Training loss: 0.0037\n",
            "Training metric: 0.9355\n",
            "perturbation loss: 0.0429\n",
            "Validation acc: 0.9375\n",
            "\n",
            "Start of epoch 211\n"
          ]
        },
        {
          "output_type": "stream",
          "name": "stderr",
          "text": [
            "\r 21%|██        | 212/1000 [12:21<45:50,  3.49s/it]"
          ]
        },
        {
          "output_type": "stream",
          "name": "stdout",
          "text": [
            "Training loss: 0.0086\n",
            "Training metric: 0.9358\n",
            "perturbation loss: 0.0380\n",
            "Validation acc: 0.9375\n",
            "\n",
            "Start of epoch 212\n"
          ]
        },
        {
          "output_type": "stream",
          "name": "stderr",
          "text": [
            "\r 21%|██▏       | 213/1000 [12:25<45:47,  3.49s/it]"
          ]
        },
        {
          "output_type": "stream",
          "name": "stdout",
          "text": [
            "Training loss: 0.0023\n",
            "Training metric: 0.9361\n",
            "perturbation loss: 0.0112\n",
            "Validation acc: 0.9375\n",
            "\n",
            "Start of epoch 213\n"
          ]
        },
        {
          "output_type": "stream",
          "name": "stderr",
          "text": [
            "\r 21%|██▏       | 214/1000 [12:28<45:43,  3.49s/it]"
          ]
        },
        {
          "output_type": "stream",
          "name": "stdout",
          "text": [
            "Training loss: 0.0058\n",
            "Training metric: 0.9364\n",
            "perturbation loss: 0.0206\n",
            "Validation acc: 0.9219\n",
            "\n",
            "Start of epoch 214\n"
          ]
        },
        {
          "output_type": "stream",
          "name": "stderr",
          "text": [
            "\r 22%|██▏       | 215/1000 [12:32<45:49,  3.50s/it]"
          ]
        },
        {
          "output_type": "stream",
          "name": "stdout",
          "text": [
            "Training loss: 0.0037\n",
            "Training metric: 0.9367\n",
            "perturbation loss: 0.0112\n",
            "Validation acc: 0.9297\n",
            "\n",
            "Start of epoch 215\n"
          ]
        },
        {
          "output_type": "stream",
          "name": "stderr",
          "text": [
            "\r 22%|██▏       | 216/1000 [12:35<45:42,  3.50s/it]"
          ]
        },
        {
          "output_type": "stream",
          "name": "stdout",
          "text": [
            "Training loss: 0.0399\n",
            "Training metric: 0.9369\n",
            "perturbation loss: 0.0253\n",
            "Validation acc: 0.9375\n",
            "\n",
            "Start of epoch 216\n"
          ]
        },
        {
          "output_type": "stream",
          "name": "stderr",
          "text": [
            "\r 22%|██▏       | 217/1000 [12:39<45:37,  3.50s/it]"
          ]
        },
        {
          "output_type": "stream",
          "name": "stdout",
          "text": [
            "Training loss: 0.0005\n",
            "Training metric: 0.9372\n",
            "perturbation loss: 0.0099\n",
            "Validation acc: 0.9453\n",
            "\n",
            "Start of epoch 217\n"
          ]
        },
        {
          "output_type": "stream",
          "name": "stderr",
          "text": [
            "\r 22%|██▏       | 218/1000 [12:42<45:32,  3.49s/it]"
          ]
        },
        {
          "output_type": "stream",
          "name": "stdout",
          "text": [
            "Training loss: 0.0072\n",
            "Training metric: 0.9375\n",
            "perturbation loss: 0.0232\n",
            "Validation acc: 0.9219\n",
            "\n",
            "Start of epoch 218\n"
          ]
        },
        {
          "output_type": "stream",
          "name": "stderr",
          "text": [
            "\r 22%|██▏       | 219/1000 [12:46<45:27,  3.49s/it]"
          ]
        },
        {
          "output_type": "stream",
          "name": "stdout",
          "text": [
            "Training loss: 0.0015\n",
            "Training metric: 0.9377\n",
            "perturbation loss: 0.0058\n",
            "Validation acc: 0.9297\n",
            "\n",
            "Start of epoch 219\n"
          ]
        },
        {
          "output_type": "stream",
          "name": "stderr",
          "text": [
            "\r 22%|██▏       | 220/1000 [12:49<45:22,  3.49s/it]"
          ]
        },
        {
          "output_type": "stream",
          "name": "stdout",
          "text": [
            "Training loss: 0.0068\n",
            "Training metric: 0.9379\n",
            "perturbation loss: 0.0227\n",
            "Validation acc: 0.9219\n",
            "\n",
            "Start of epoch 220\n"
          ]
        },
        {
          "output_type": "stream",
          "name": "stderr",
          "text": [
            "\r 22%|██▏       | 221/1000 [12:53<45:19,  3.49s/it]"
          ]
        },
        {
          "output_type": "stream",
          "name": "stdout",
          "text": [
            "Training loss: 0.0201\n",
            "Training metric: 0.9381\n",
            "perturbation loss: 0.0621\n",
            "Validation acc: 0.9141\n",
            "\n",
            "Start of epoch 221\n"
          ]
        },
        {
          "output_type": "stream",
          "name": "stderr",
          "text": [
            "\r 22%|██▏       | 222/1000 [12:56<45:13,  3.49s/it]"
          ]
        },
        {
          "output_type": "stream",
          "name": "stdout",
          "text": [
            "Training loss: 0.1494\n",
            "Training metric: 0.9384\n",
            "perturbation loss: 0.1537\n",
            "Validation acc: 0.9297\n",
            "\n",
            "Start of epoch 222\n"
          ]
        },
        {
          "output_type": "stream",
          "name": "stderr",
          "text": [
            "\r 22%|██▏       | 223/1000 [13:00<45:10,  3.49s/it]"
          ]
        },
        {
          "output_type": "stream",
          "name": "stdout",
          "text": [
            "Training loss: 0.0121\n",
            "Training metric: 0.9386\n",
            "perturbation loss: 0.0258\n",
            "Validation acc: 0.9531\n",
            "\n",
            "Start of epoch 223\n"
          ]
        },
        {
          "output_type": "stream",
          "name": "stderr",
          "text": [
            "\r 22%|██▏       | 224/1000 [13:03<45:06,  3.49s/it]"
          ]
        },
        {
          "output_type": "stream",
          "name": "stdout",
          "text": [
            "Training loss: 0.0069\n",
            "Training metric: 0.9389\n",
            "perturbation loss: 0.0264\n",
            "Validation acc: 0.9688\n",
            "\n",
            "Start of epoch 224\n"
          ]
        },
        {
          "output_type": "stream",
          "name": "stderr",
          "text": [
            "\r 22%|██▎       | 225/1000 [13:07<45:05,  3.49s/it]"
          ]
        },
        {
          "output_type": "stream",
          "name": "stdout",
          "text": [
            "Training loss: 0.0077\n",
            "Training metric: 0.9392\n",
            "perturbation loss: 0.0326\n",
            "Validation acc: 0.9688\n",
            "\n",
            "Start of epoch 225\n"
          ]
        },
        {
          "output_type": "stream",
          "name": "stderr",
          "text": [
            "\r 23%|██▎       | 226/1000 [13:10<45:03,  3.49s/it]"
          ]
        },
        {
          "output_type": "stream",
          "name": "stdout",
          "text": [
            "Training loss: 0.0024\n",
            "Training metric: 0.9394\n",
            "perturbation loss: 0.0056\n",
            "Validation acc: 0.9453\n",
            "\n",
            "Start of epoch 226\n"
          ]
        },
        {
          "output_type": "stream",
          "name": "stderr",
          "text": [
            "\r 23%|██▎       | 227/1000 [13:14<44:58,  3.49s/it]"
          ]
        },
        {
          "output_type": "stream",
          "name": "stdout",
          "text": [
            "Training loss: 0.0063\n",
            "Training metric: 0.9396\n",
            "perturbation loss: 0.0249\n",
            "Validation acc: 0.9375\n",
            "\n",
            "Start of epoch 227\n"
          ]
        },
        {
          "output_type": "stream",
          "name": "stderr",
          "text": [
            "\r 23%|██▎       | 228/1000 [13:17<44:53,  3.49s/it]"
          ]
        },
        {
          "output_type": "stream",
          "name": "stdout",
          "text": [
            "Training loss: 0.0004\n",
            "Training metric: 0.9399\n",
            "perturbation loss: 0.0026\n",
            "Validation acc: 0.9531\n",
            "\n",
            "Start of epoch 228\n"
          ]
        },
        {
          "output_type": "stream",
          "name": "stderr",
          "text": [
            "\r 23%|██▎       | 229/1000 [13:21<44:49,  3.49s/it]"
          ]
        },
        {
          "output_type": "stream",
          "name": "stdout",
          "text": [
            "Training loss: 0.0017\n",
            "Training metric: 0.9402\n",
            "perturbation loss: 0.0031\n",
            "Validation acc: 0.9297\n",
            "\n",
            "Start of epoch 229\n"
          ]
        },
        {
          "output_type": "stream",
          "name": "stderr",
          "text": [
            "\r 23%|██▎       | 230/1000 [13:24<44:47,  3.49s/it]"
          ]
        },
        {
          "output_type": "stream",
          "name": "stdout",
          "text": [
            "Training loss: 0.0197\n",
            "Training metric: 0.9404\n",
            "perturbation loss: 0.0481\n",
            "Validation acc: 0.9688\n",
            "\n",
            "Start of epoch 230\n"
          ]
        },
        {
          "output_type": "stream",
          "name": "stderr",
          "text": [
            "\r 23%|██▎       | 231/1000 [13:28<44:43,  3.49s/it]"
          ]
        },
        {
          "output_type": "stream",
          "name": "stdout",
          "text": [
            "Training loss: 0.0021\n",
            "Training metric: 0.9407\n",
            "perturbation loss: 0.0126\n",
            "Validation acc: 0.9609\n",
            "\n",
            "Start of epoch 231\n"
          ]
        },
        {
          "output_type": "stream",
          "name": "stderr",
          "text": [
            "\r 23%|██▎       | 232/1000 [13:31<44:40,  3.49s/it]"
          ]
        },
        {
          "output_type": "stream",
          "name": "stdout",
          "text": [
            "Training loss: 0.0002\n",
            "Training metric: 0.9409\n",
            "perturbation loss: 0.0018\n",
            "Validation acc: 0.9375\n",
            "\n",
            "Start of epoch 232\n"
          ]
        },
        {
          "output_type": "stream",
          "name": "stderr",
          "text": [
            "\r 23%|██▎       | 233/1000 [13:35<44:37,  3.49s/it]"
          ]
        },
        {
          "output_type": "stream",
          "name": "stdout",
          "text": [
            "Training loss: 0.0589\n",
            "Training metric: 0.9412\n",
            "perturbation loss: 0.0262\n",
            "Validation acc: 0.9453\n",
            "\n",
            "Start of epoch 233\n"
          ]
        },
        {
          "output_type": "stream",
          "name": "stderr",
          "text": [
            "\r 23%|██▎       | 234/1000 [13:38<44:33,  3.49s/it]"
          ]
        },
        {
          "output_type": "stream",
          "name": "stdout",
          "text": [
            "Training loss: 0.0194\n",
            "Training metric: 0.9414\n",
            "perturbation loss: 0.0397\n",
            "Validation acc: 0.9297\n",
            "\n",
            "Start of epoch 234\n"
          ]
        },
        {
          "output_type": "stream",
          "name": "stderr",
          "text": [
            "\r 24%|██▎       | 235/1000 [13:42<44:29,  3.49s/it]"
          ]
        },
        {
          "output_type": "stream",
          "name": "stdout",
          "text": [
            "Training loss: 0.0257\n",
            "Training metric: 0.9416\n",
            "perturbation loss: 0.0300\n",
            "Validation acc: 0.9375\n",
            "\n",
            "Start of epoch 235\n"
          ]
        },
        {
          "output_type": "stream",
          "name": "stderr",
          "text": [
            "\r 24%|██▎       | 236/1000 [13:45<44:25,  3.49s/it]"
          ]
        },
        {
          "output_type": "stream",
          "name": "stdout",
          "text": [
            "Training loss: 0.0003\n",
            "Training metric: 0.9418\n",
            "perturbation loss: 0.0034\n",
            "Validation acc: 0.9688\n",
            "\n",
            "Start of epoch 236\n"
          ]
        },
        {
          "output_type": "stream",
          "name": "stderr",
          "text": [
            "\r 24%|██▎       | 237/1000 [13:49<44:22,  3.49s/it]"
          ]
        },
        {
          "output_type": "stream",
          "name": "stdout",
          "text": [
            "Training loss: 0.0009\n",
            "Training metric: 0.9421\n",
            "perturbation loss: 0.0035\n",
            "Validation acc: 0.9609\n",
            "\n",
            "Start of epoch 237\n"
          ]
        },
        {
          "output_type": "stream",
          "name": "stderr",
          "text": [
            "\r 24%|██▍       | 238/1000 [13:52<44:20,  3.49s/it]"
          ]
        },
        {
          "output_type": "stream",
          "name": "stdout",
          "text": [
            "Training loss: 0.0011\n",
            "Training metric: 0.9423\n",
            "perturbation loss: 0.0061\n",
            "Validation acc: 0.9531\n",
            "\n",
            "Start of epoch 238\n"
          ]
        },
        {
          "output_type": "stream",
          "name": "stderr",
          "text": [
            "\r 24%|██▍       | 239/1000 [13:56<44:18,  3.49s/it]"
          ]
        },
        {
          "output_type": "stream",
          "name": "stdout",
          "text": [
            "Training loss: 0.0006\n",
            "Training metric: 0.9426\n",
            "perturbation loss: 0.0042\n",
            "Validation acc: 0.9453\n",
            "\n",
            "Start of epoch 239\n"
          ]
        },
        {
          "output_type": "stream",
          "name": "stderr",
          "text": [
            "\r 24%|██▍       | 240/1000 [13:59<44:14,  3.49s/it]"
          ]
        },
        {
          "output_type": "stream",
          "name": "stdout",
          "text": [
            "Training loss: 0.0280\n",
            "Training metric: 0.9428\n",
            "perturbation loss: 0.0281\n",
            "Validation acc: 0.9219\n",
            "\n",
            "Start of epoch 240\n"
          ]
        },
        {
          "output_type": "stream",
          "name": "stderr",
          "text": [
            "\r 24%|██▍       | 241/1000 [14:03<44:09,  3.49s/it]"
          ]
        },
        {
          "output_type": "stream",
          "name": "stdout",
          "text": [
            "Training loss: 0.0041\n",
            "Training metric: 0.9430\n",
            "perturbation loss: 0.0338\n",
            "Validation acc: 0.9609\n",
            "\n",
            "Start of epoch 241\n"
          ]
        },
        {
          "output_type": "stream",
          "name": "stderr",
          "text": [
            "\r 24%|██▍       | 242/1000 [14:06<44:09,  3.50s/it]"
          ]
        },
        {
          "output_type": "stream",
          "name": "stdout",
          "text": [
            "Training loss: 0.0143\n",
            "Training metric: 0.9432\n",
            "perturbation loss: 0.0633\n",
            "Validation acc: 0.9453\n",
            "\n",
            "Start of epoch 242\n"
          ]
        },
        {
          "output_type": "stream",
          "name": "stderr",
          "text": [
            "\r 24%|██▍       | 243/1000 [14:10<44:04,  3.49s/it]"
          ]
        },
        {
          "output_type": "stream",
          "name": "stdout",
          "text": [
            "Training loss: 0.0124\n",
            "Training metric: 0.9434\n",
            "perturbation loss: 0.0375\n",
            "Validation acc: 0.9453\n",
            "\n",
            "Start of epoch 243\n"
          ]
        },
        {
          "output_type": "stream",
          "name": "stderr",
          "text": [
            "\r 24%|██▍       | 244/1000 [14:13<44:02,  3.50s/it]"
          ]
        },
        {
          "output_type": "stream",
          "name": "stdout",
          "text": [
            "Training loss: 0.0078\n",
            "Training metric: 0.9436\n",
            "perturbation loss: 0.0446\n",
            "Validation acc: 0.8984\n",
            "\n",
            "Start of epoch 244\n"
          ]
        },
        {
          "output_type": "stream",
          "name": "stderr",
          "text": [
            "\r 24%|██▍       | 245/1000 [14:17<43:56,  3.49s/it]"
          ]
        },
        {
          "output_type": "stream",
          "name": "stdout",
          "text": [
            "Training loss: 0.0009\n",
            "Training metric: 0.9438\n",
            "perturbation loss: 0.0048\n",
            "Validation acc: 0.9609\n",
            "\n",
            "Start of epoch 245\n"
          ]
        },
        {
          "output_type": "stream",
          "name": "stderr",
          "text": [
            "\r 25%|██▍       | 246/1000 [14:20<43:51,  3.49s/it]"
          ]
        },
        {
          "output_type": "stream",
          "name": "stdout",
          "text": [
            "Training loss: 0.0039\n",
            "Training metric: 0.9440\n",
            "perturbation loss: 0.0123\n",
            "Validation acc: 0.9688\n",
            "\n",
            "Start of epoch 246\n"
          ]
        },
        {
          "output_type": "stream",
          "name": "stderr",
          "text": [
            "\r 25%|██▍       | 247/1000 [14:24<43:47,  3.49s/it]"
          ]
        },
        {
          "output_type": "stream",
          "name": "stdout",
          "text": [
            "Training loss: 0.0012\n",
            "Training metric: 0.9442\n",
            "perturbation loss: 0.0058\n",
            "Validation acc: 0.9766\n",
            "\n",
            "Start of epoch 247\n"
          ]
        },
        {
          "output_type": "stream",
          "name": "stderr",
          "text": [
            "\r 25%|██▍       | 248/1000 [14:27<43:43,  3.49s/it]"
          ]
        },
        {
          "output_type": "stream",
          "name": "stdout",
          "text": [
            "Training loss: 0.0015\n",
            "Training metric: 0.9444\n",
            "perturbation loss: 0.0034\n",
            "Validation acc: 0.9766\n",
            "\n",
            "Start of epoch 248\n"
          ]
        },
        {
          "output_type": "stream",
          "name": "stderr",
          "text": [
            "\r 25%|██▍       | 249/1000 [14:31<43:44,  3.49s/it]"
          ]
        },
        {
          "output_type": "stream",
          "name": "stdout",
          "text": [
            "Training loss: 0.0002\n",
            "Training metric: 0.9447\n",
            "perturbation loss: 0.0018\n",
            "Validation acc: 0.9688\n",
            "\n",
            "Start of epoch 249\n"
          ]
        },
        {
          "output_type": "stream",
          "name": "stderr",
          "text": [
            "\r 25%|██▌       | 250/1000 [14:34<43:39,  3.49s/it]"
          ]
        },
        {
          "output_type": "stream",
          "name": "stdout",
          "text": [
            "Training loss: 0.0007\n",
            "Training metric: 0.9449\n",
            "perturbation loss: 0.0047\n",
            "Validation acc: 0.9531\n",
            "\n",
            "Start of epoch 250\n"
          ]
        },
        {
          "output_type": "stream",
          "name": "stderr",
          "text": [
            "\r 25%|██▌       | 251/1000 [14:38<43:34,  3.49s/it]"
          ]
        },
        {
          "output_type": "stream",
          "name": "stdout",
          "text": [
            "Training loss: 0.0002\n",
            "Training metric: 0.9451\n",
            "perturbation loss: 0.0020\n",
            "Validation acc: 0.9531\n",
            "\n",
            "Start of epoch 251\n"
          ]
        },
        {
          "output_type": "stream",
          "name": "stderr",
          "text": [
            "\r 25%|██▌       | 252/1000 [14:41<43:30,  3.49s/it]"
          ]
        },
        {
          "output_type": "stream",
          "name": "stdout",
          "text": [
            "Training loss: 0.0006\n",
            "Training metric: 0.9453\n",
            "perturbation loss: 0.0061\n",
            "Validation acc: 0.9609\n",
            "\n",
            "Start of epoch 252\n"
          ]
        },
        {
          "output_type": "stream",
          "name": "stderr",
          "text": [
            "\r 25%|██▌       | 253/1000 [14:45<43:27,  3.49s/it]"
          ]
        },
        {
          "output_type": "stream",
          "name": "stdout",
          "text": [
            "Training loss: 0.0007\n",
            "Training metric: 0.9455\n",
            "perturbation loss: 0.0009\n",
            "Validation acc: 0.9531\n",
            "\n",
            "Start of epoch 253\n"
          ]
        },
        {
          "output_type": "stream",
          "name": "stderr",
          "text": [
            "\r 25%|██▌       | 254/1000 [14:48<43:23,  3.49s/it]"
          ]
        },
        {
          "output_type": "stream",
          "name": "stdout",
          "text": [
            "Training loss: 0.0003\n",
            "Training metric: 0.9458\n",
            "perturbation loss: 0.0009\n",
            "Validation acc: 0.9531\n",
            "\n",
            "Start of epoch 254\n"
          ]
        },
        {
          "output_type": "stream",
          "name": "stderr",
          "text": [
            "\r 26%|██▌       | 255/1000 [14:51<43:20,  3.49s/it]"
          ]
        },
        {
          "output_type": "stream",
          "name": "stdout",
          "text": [
            "Training loss: 0.0005\n",
            "Training metric: 0.9460\n",
            "perturbation loss: 0.0036\n",
            "Validation acc: 0.9531\n",
            "\n",
            "Start of epoch 255\n"
          ]
        },
        {
          "output_type": "stream",
          "name": "stderr",
          "text": [
            "\r 26%|██▌       | 256/1000 [14:55<43:18,  3.49s/it]"
          ]
        },
        {
          "output_type": "stream",
          "name": "stdout",
          "text": [
            "Training loss: 0.0003\n",
            "Training metric: 0.9462\n",
            "perturbation loss: 0.0028\n",
            "Validation acc: 0.9453\n",
            "\n",
            "Start of epoch 256\n"
          ]
        },
        {
          "output_type": "stream",
          "name": "stderr",
          "text": [
            "\r 26%|██▌       | 257/1000 [14:58<43:14,  3.49s/it]"
          ]
        },
        {
          "output_type": "stream",
          "name": "stdout",
          "text": [
            "Training loss: 0.0001\n",
            "Training metric: 0.9464\n",
            "perturbation loss: 0.0008\n",
            "Validation acc: 0.9453\n",
            "\n",
            "Start of epoch 257\n"
          ]
        },
        {
          "output_type": "stream",
          "name": "stderr",
          "text": [
            "\r 26%|██▌       | 258/1000 [15:04<49:42,  4.02s/it]"
          ]
        },
        {
          "output_type": "stream",
          "name": "stdout",
          "text": [
            "Training loss: 0.0003\n",
            "Training metric: 0.9466\n",
            "perturbation loss: 0.0017\n",
            "Validation acc: 0.9297\n",
            "\n",
            "Start of epoch 258\n"
          ]
        },
        {
          "output_type": "stream",
          "name": "stderr",
          "text": [
            "\r 26%|██▌       | 259/1000 [15:07<47:42,  3.86s/it]"
          ]
        },
        {
          "output_type": "stream",
          "name": "stdout",
          "text": [
            "Training loss: 0.0399\n",
            "Training metric: 0.9468\n",
            "perturbation loss: 0.0336\n",
            "Validation acc: 0.9297\n",
            "\n",
            "Start of epoch 259\n"
          ]
        },
        {
          "output_type": "stream",
          "name": "stderr",
          "text": [
            "\r 26%|██▌       | 260/1000 [15:11<46:15,  3.75s/it]"
          ]
        },
        {
          "output_type": "stream",
          "name": "stdout",
          "text": [
            "Training loss: 0.0156\n",
            "Training metric: 0.9470\n",
            "perturbation loss: 0.0446\n",
            "Validation acc: 0.9531\n",
            "\n",
            "Start of epoch 260\n"
          ]
        },
        {
          "output_type": "stream",
          "name": "stderr",
          "text": [
            "\r 26%|██▌       | 261/1000 [15:14<45:12,  3.67s/it]"
          ]
        },
        {
          "output_type": "stream",
          "name": "stdout",
          "text": [
            "Training loss: 0.1433\n",
            "Training metric: 0.9471\n",
            "perturbation loss: 0.0508\n",
            "Validation acc: 0.9297\n",
            "\n",
            "Start of epoch 261\n"
          ]
        },
        {
          "output_type": "stream",
          "name": "stderr",
          "text": [
            "\r 26%|██▌       | 262/1000 [15:18<44:29,  3.62s/it]"
          ]
        },
        {
          "output_type": "stream",
          "name": "stdout",
          "text": [
            "Training loss: 0.0079\n",
            "Training metric: 0.9473\n",
            "perturbation loss: 0.0127\n",
            "Validation acc: 0.9297\n",
            "\n",
            "Start of epoch 262\n"
          ]
        },
        {
          "output_type": "stream",
          "name": "stderr",
          "text": [
            "\r 26%|██▋       | 263/1000 [15:21<43:58,  3.58s/it]"
          ]
        },
        {
          "output_type": "stream",
          "name": "stdout",
          "text": [
            "Training loss: 0.0397\n",
            "Training metric: 0.9475\n",
            "perturbation loss: 0.0145\n",
            "Validation acc: 0.9297\n",
            "\n",
            "Start of epoch 263\n"
          ]
        },
        {
          "output_type": "stream",
          "name": "stderr",
          "text": [
            "\r 26%|██▋       | 264/1000 [15:25<43:34,  3.55s/it]"
          ]
        },
        {
          "output_type": "stream",
          "name": "stdout",
          "text": [
            "Training loss: 0.0010\n",
            "Training metric: 0.9477\n",
            "perturbation loss: 0.0062\n",
            "Validation acc: 0.9297\n",
            "\n",
            "Start of epoch 264\n"
          ]
        },
        {
          "output_type": "stream",
          "name": "stderr",
          "text": [
            "\r 26%|██▋       | 265/1000 [15:28<43:16,  3.53s/it]"
          ]
        },
        {
          "output_type": "stream",
          "name": "stdout",
          "text": [
            "Training loss: 0.0378\n",
            "Training metric: 0.9479\n",
            "perturbation loss: 0.0291\n",
            "Validation acc: 0.9375\n",
            "\n",
            "Start of epoch 265\n"
          ]
        },
        {
          "output_type": "stream",
          "name": "stderr",
          "text": [
            "\r 27%|██▋       | 266/1000 [15:32<43:02,  3.52s/it]"
          ]
        },
        {
          "output_type": "stream",
          "name": "stdout",
          "text": [
            "Training loss: 0.0024\n",
            "Training metric: 0.9481\n",
            "perturbation loss: 0.0100\n",
            "Validation acc: 0.9531\n",
            "\n",
            "Start of epoch 266\n"
          ]
        },
        {
          "output_type": "stream",
          "name": "stderr",
          "text": [
            "\r 27%|██▋       | 267/1000 [15:35<42:51,  3.51s/it]"
          ]
        },
        {
          "output_type": "stream",
          "name": "stdout",
          "text": [
            "Training loss: 0.0234\n",
            "Training metric: 0.9482\n",
            "perturbation loss: 0.0479\n",
            "Validation acc: 0.9141\n",
            "\n",
            "Start of epoch 267\n"
          ]
        },
        {
          "output_type": "stream",
          "name": "stderr",
          "text": [
            "\r 27%|██▋       | 268/1000 [15:39<42:45,  3.50s/it]"
          ]
        },
        {
          "output_type": "stream",
          "name": "stdout",
          "text": [
            "Training loss: 0.0017\n",
            "Training metric: 0.9484\n",
            "perturbation loss: 0.0372\n",
            "Validation acc: 0.9531\n",
            "\n",
            "Start of epoch 268\n"
          ]
        },
        {
          "output_type": "stream",
          "name": "stderr",
          "text": [
            "\r 27%|██▋       | 269/1000 [15:42<42:41,  3.50s/it]"
          ]
        },
        {
          "output_type": "stream",
          "name": "stdout",
          "text": [
            "Training loss: 0.0199\n",
            "Training metric: 0.9485\n",
            "perturbation loss: 0.0497\n",
            "Validation acc: 0.9453\n",
            "\n",
            "Start of epoch 269\n"
          ]
        },
        {
          "output_type": "stream",
          "name": "stderr",
          "text": [
            "\r 27%|██▋       | 270/1000 [15:46<42:34,  3.50s/it]"
          ]
        },
        {
          "output_type": "stream",
          "name": "stdout",
          "text": [
            "Training loss: 0.0008\n",
            "Training metric: 0.9487\n",
            "perturbation loss: 0.0128\n",
            "Validation acc: 0.9375\n",
            "\n",
            "Start of epoch 270\n"
          ]
        },
        {
          "output_type": "stream",
          "name": "stderr",
          "text": [
            "\r 27%|██▋       | 271/1000 [15:49<42:28,  3.50s/it]"
          ]
        },
        {
          "output_type": "stream",
          "name": "stdout",
          "text": [
            "Training loss: 0.0285\n",
            "Training metric: 0.9489\n",
            "perturbation loss: 0.0209\n",
            "Validation acc: 0.9219\n",
            "\n",
            "Start of epoch 271\n"
          ]
        },
        {
          "output_type": "stream",
          "name": "stderr",
          "text": [
            "\r 27%|██▋       | 272/1000 [15:53<42:22,  3.49s/it]"
          ]
        },
        {
          "output_type": "stream",
          "name": "stdout",
          "text": [
            "Training loss: 0.0042\n",
            "Training metric: 0.9490\n",
            "perturbation loss: 0.0229\n",
            "Validation acc: 0.9453\n",
            "\n",
            "Start of epoch 272\n"
          ]
        },
        {
          "output_type": "stream",
          "name": "stderr",
          "text": [
            "\r 27%|██▋       | 273/1000 [15:56<42:18,  3.49s/it]"
          ]
        },
        {
          "output_type": "stream",
          "name": "stdout",
          "text": [
            "Training loss: 0.0112\n",
            "Training metric: 0.9492\n",
            "perturbation loss: 0.0463\n",
            "Validation acc: 0.9141\n",
            "\n",
            "Start of epoch 273\n"
          ]
        },
        {
          "output_type": "stream",
          "name": "stderr",
          "text": [
            "\r 27%|██▋       | 274/1000 [16:00<42:13,  3.49s/it]"
          ]
        },
        {
          "output_type": "stream",
          "name": "stdout",
          "text": [
            "Training loss: 0.0024\n",
            "Training metric: 0.9494\n",
            "perturbation loss: 0.0177\n",
            "Validation acc: 0.9297\n",
            "\n",
            "Start of epoch 274\n"
          ]
        },
        {
          "output_type": "stream",
          "name": "stderr",
          "text": [
            "\r 28%|██▊       | 275/1000 [16:03<42:10,  3.49s/it]"
          ]
        },
        {
          "output_type": "stream",
          "name": "stdout",
          "text": [
            "Training loss: 0.0180\n",
            "Training metric: 0.9496\n",
            "perturbation loss: 0.0274\n",
            "Validation acc: 0.9141\n",
            "\n",
            "Start of epoch 275\n"
          ]
        },
        {
          "output_type": "stream",
          "name": "stderr",
          "text": [
            "\r 28%|██▊       | 276/1000 [16:07<42:09,  3.49s/it]"
          ]
        },
        {
          "output_type": "stream",
          "name": "stdout",
          "text": [
            "Training loss: 0.0013\n",
            "Training metric: 0.9497\n",
            "perturbation loss: 0.0031\n",
            "Validation acc: 0.9141\n",
            "\n",
            "Start of epoch 276\n"
          ]
        },
        {
          "output_type": "stream",
          "name": "stderr",
          "text": [
            "\r 28%|██▊       | 277/1000 [16:10<42:06,  3.49s/it]"
          ]
        },
        {
          "output_type": "stream",
          "name": "stdout",
          "text": [
            "Training loss: 0.0010\n",
            "Training metric: 0.9499\n",
            "perturbation loss: 0.0073\n",
            "Validation acc: 0.9375\n",
            "\n",
            "Start of epoch 277\n"
          ]
        },
        {
          "output_type": "stream",
          "name": "stderr",
          "text": [
            "\r 28%|██▊       | 278/1000 [16:14<42:03,  3.50s/it]"
          ]
        },
        {
          "output_type": "stream",
          "name": "stdout",
          "text": [
            "Training loss: 0.0007\n",
            "Training metric: 0.9501\n",
            "perturbation loss: 0.0028\n",
            "Validation acc: 0.9531\n",
            "\n",
            "Start of epoch 278\n"
          ]
        },
        {
          "output_type": "stream",
          "name": "stderr",
          "text": [
            "\r 28%|██▊       | 279/1000 [16:17<42:00,  3.50s/it]"
          ]
        },
        {
          "output_type": "stream",
          "name": "stdout",
          "text": [
            "Training loss: 0.0545\n",
            "Training metric: 0.9502\n",
            "perturbation loss: 0.0429\n",
            "Validation acc: 0.9297\n",
            "\n",
            "Start of epoch 279\n"
          ]
        },
        {
          "output_type": "stream",
          "name": "stderr",
          "text": [
            "\r 28%|██▊       | 280/1000 [16:21<41:55,  3.49s/it]"
          ]
        },
        {
          "output_type": "stream",
          "name": "stdout",
          "text": [
            "Training loss: 0.0197\n",
            "Training metric: 0.9504\n",
            "perturbation loss: 0.0349\n",
            "Validation acc: 0.9297\n",
            "\n",
            "Start of epoch 280\n"
          ]
        },
        {
          "output_type": "stream",
          "name": "stderr",
          "text": [
            "\r 28%|██▊       | 281/1000 [16:24<41:51,  3.49s/it]"
          ]
        },
        {
          "output_type": "stream",
          "name": "stdout",
          "text": [
            "Training loss: 0.0020\n",
            "Training metric: 0.9505\n",
            "perturbation loss: 0.0037\n",
            "Validation acc: 0.9062\n",
            "\n",
            "Start of epoch 281\n"
          ]
        },
        {
          "output_type": "stream",
          "name": "stderr",
          "text": [
            "\r 28%|██▊       | 282/1000 [16:28<41:46,  3.49s/it]"
          ]
        },
        {
          "output_type": "stream",
          "name": "stdout",
          "text": [
            "Training loss: 0.0047\n",
            "Training metric: 0.9507\n",
            "perturbation loss: 0.0199\n",
            "Validation acc: 0.9453\n",
            "\n",
            "Start of epoch 282\n"
          ]
        },
        {
          "output_type": "stream",
          "name": "stderr",
          "text": [
            "\r 28%|██▊       | 283/1000 [16:31<41:43,  3.49s/it]"
          ]
        },
        {
          "output_type": "stream",
          "name": "stdout",
          "text": [
            "Training loss: 0.0017\n",
            "Training metric: 0.9509\n",
            "perturbation loss: 0.0092\n",
            "Validation acc: 0.9375\n",
            "\n",
            "Start of epoch 283\n"
          ]
        },
        {
          "output_type": "stream",
          "name": "stderr",
          "text": [
            "\r 28%|██▊       | 284/1000 [16:34<41:39,  3.49s/it]"
          ]
        },
        {
          "output_type": "stream",
          "name": "stdout",
          "text": [
            "Training loss: 0.0014\n",
            "Training metric: 0.9510\n",
            "perturbation loss: 0.0066\n",
            "Validation acc: 0.9375\n",
            "\n",
            "Start of epoch 284\n"
          ]
        },
        {
          "output_type": "stream",
          "name": "stderr",
          "text": [
            "\r 28%|██▊       | 285/1000 [16:38<41:36,  3.49s/it]"
          ]
        },
        {
          "output_type": "stream",
          "name": "stdout",
          "text": [
            "Training loss: 0.0496\n",
            "Training metric: 0.9512\n",
            "perturbation loss: 0.0380\n",
            "Validation acc: 0.9375\n",
            "\n",
            "Start of epoch 285\n"
          ]
        },
        {
          "output_type": "stream",
          "name": "stderr",
          "text": [
            "\r 29%|██▊       | 286/1000 [16:43<47:49,  4.02s/it]"
          ]
        },
        {
          "output_type": "stream",
          "name": "stdout",
          "text": [
            "Training loss: 0.0050\n",
            "Training metric: 0.9513\n",
            "perturbation loss: 0.0652\n",
            "Validation acc: 0.9062\n",
            "\n",
            "Start of epoch 286\n"
          ]
        },
        {
          "output_type": "stream",
          "name": "stderr",
          "text": [
            "\r 29%|██▊       | 287/1000 [16:47<45:53,  3.86s/it]"
          ]
        },
        {
          "output_type": "stream",
          "name": "stdout",
          "text": [
            "Training loss: 0.0012\n",
            "Training metric: 0.9515\n",
            "perturbation loss: 0.0063\n",
            "Validation acc: 0.9375\n",
            "\n",
            "Start of epoch 287\n"
          ]
        },
        {
          "output_type": "stream",
          "name": "stderr",
          "text": [
            "\r 29%|██▉       | 288/1000 [16:50<44:30,  3.75s/it]"
          ]
        },
        {
          "output_type": "stream",
          "name": "stdout",
          "text": [
            "Training loss: 0.0011\n",
            "Training metric: 0.9517\n",
            "perturbation loss: 0.0069\n",
            "Validation acc: 0.9297\n",
            "\n",
            "Start of epoch 288\n"
          ]
        },
        {
          "output_type": "stream",
          "name": "stderr",
          "text": [
            "\r 29%|██▉       | 289/1000 [16:54<43:31,  3.67s/it]"
          ]
        },
        {
          "output_type": "stream",
          "name": "stdout",
          "text": [
            "Training loss: 0.0014\n",
            "Training metric: 0.9518\n",
            "perturbation loss: 0.0050\n",
            "Validation acc: 0.9141\n",
            "\n",
            "Start of epoch 289\n"
          ]
        },
        {
          "output_type": "stream",
          "name": "stderr",
          "text": [
            "\r 29%|██▉       | 290/1000 [16:57<42:48,  3.62s/it]"
          ]
        },
        {
          "output_type": "stream",
          "name": "stdout",
          "text": [
            "Training loss: 0.0005\n",
            "Training metric: 0.9520\n",
            "perturbation loss: 0.0048\n",
            "Validation acc: 0.9375\n",
            "\n",
            "Start of epoch 290\n"
          ]
        },
        {
          "output_type": "stream",
          "name": "stderr",
          "text": [
            "\r 29%|██▉       | 291/1000 [17:01<42:17,  3.58s/it]"
          ]
        },
        {
          "output_type": "stream",
          "name": "stdout",
          "text": [
            "Training loss: 0.0000\n",
            "Training metric: 0.9521\n",
            "perturbation loss: 0.0007\n",
            "Validation acc: 0.9297\n",
            "\n",
            "Start of epoch 291\n"
          ]
        },
        {
          "output_type": "stream",
          "name": "stderr",
          "text": [
            "\r 29%|██▉       | 292/1000 [17:04<41:56,  3.55s/it]"
          ]
        },
        {
          "output_type": "stream",
          "name": "stdout",
          "text": [
            "Training loss: 0.0008\n",
            "Training metric: 0.9523\n",
            "perturbation loss: 0.0033\n",
            "Validation acc: 0.9219\n",
            "\n",
            "Start of epoch 292\n"
          ]
        },
        {
          "output_type": "stream",
          "name": "stderr",
          "text": [
            "\r 29%|██▉       | 293/1000 [17:08<41:38,  3.53s/it]"
          ]
        },
        {
          "output_type": "stream",
          "name": "stdout",
          "text": [
            "Training loss: 0.0010\n",
            "Training metric: 0.9525\n",
            "perturbation loss: 0.0055\n",
            "Validation acc: 0.9297\n",
            "\n",
            "Start of epoch 293\n"
          ]
        },
        {
          "output_type": "stream",
          "name": "stderr",
          "text": [
            "\r 29%|██▉       | 294/1000 [17:11<41:25,  3.52s/it]"
          ]
        },
        {
          "output_type": "stream",
          "name": "stdout",
          "text": [
            "Training loss: 0.0009\n",
            "Training metric: 0.9526\n",
            "perturbation loss: 0.0138\n",
            "Validation acc: 0.9531\n",
            "\n",
            "Start of epoch 294\n"
          ]
        },
        {
          "output_type": "stream",
          "name": "stderr",
          "text": [
            "\r 30%|██▉       | 295/1000 [17:15<41:16,  3.51s/it]"
          ]
        },
        {
          "output_type": "stream",
          "name": "stdout",
          "text": [
            "Training loss: 0.0009\n",
            "Training metric: 0.9528\n",
            "perturbation loss: 0.0051\n",
            "Validation acc: 0.9141\n",
            "\n",
            "Start of epoch 295\n"
          ]
        },
        {
          "output_type": "stream",
          "name": "stderr",
          "text": [
            "\r 30%|██▉       | 296/1000 [17:18<41:07,  3.51s/it]"
          ]
        },
        {
          "output_type": "stream",
          "name": "stdout",
          "text": [
            "Training loss: 0.0013\n",
            "Training metric: 0.9529\n",
            "perturbation loss: 0.0222\n",
            "Validation acc: 0.9141\n",
            "\n",
            "Start of epoch 296\n"
          ]
        },
        {
          "output_type": "stream",
          "name": "stderr",
          "text": [
            "\r 30%|██▉       | 297/1000 [17:22<40:59,  3.50s/it]"
          ]
        },
        {
          "output_type": "stream",
          "name": "stdout",
          "text": [
            "Training loss: 0.0012\n",
            "Training metric: 0.9531\n",
            "perturbation loss: 0.0028\n",
            "Validation acc: 0.9453\n",
            "\n",
            "Start of epoch 297\n"
          ]
        },
        {
          "output_type": "stream",
          "name": "stderr",
          "text": [
            "\r 30%|██▉       | 298/1000 [17:25<40:55,  3.50s/it]"
          ]
        },
        {
          "output_type": "stream",
          "name": "stdout",
          "text": [
            "Training loss: 0.0040\n",
            "Training metric: 0.9532\n",
            "perturbation loss: 0.0170\n",
            "Validation acc: 0.9062\n",
            "\n",
            "Start of epoch 298\n"
          ]
        },
        {
          "output_type": "stream",
          "name": "stderr",
          "text": [
            "\r 30%|██▉       | 299/1000 [17:29<40:52,  3.50s/it]"
          ]
        },
        {
          "output_type": "stream",
          "name": "stdout",
          "text": [
            "Training loss: 0.0097\n",
            "Training metric: 0.9533\n",
            "perturbation loss: 0.0305\n",
            "Validation acc: 0.8828\n",
            "\n",
            "Start of epoch 299\n"
          ]
        },
        {
          "output_type": "stream",
          "name": "stderr",
          "text": [
            "\r 30%|███       | 300/1000 [17:32<40:46,  3.50s/it]"
          ]
        },
        {
          "output_type": "stream",
          "name": "stdout",
          "text": [
            "Training loss: 0.2358\n",
            "Training metric: 0.9535\n",
            "perturbation loss: 0.1206\n",
            "Validation acc: 0.9219\n",
            "\n",
            "Start of epoch 300\n"
          ]
        },
        {
          "output_type": "stream",
          "name": "stderr",
          "text": [
            "\r 30%|███       | 301/1000 [17:36<40:40,  3.49s/it]"
          ]
        },
        {
          "output_type": "stream",
          "name": "stdout",
          "text": [
            "Training loss: 0.0034\n",
            "Training metric: 0.9536\n",
            "perturbation loss: 0.0313\n",
            "Validation acc: 0.9375\n",
            "\n",
            "Start of epoch 301\n"
          ]
        },
        {
          "output_type": "stream",
          "name": "stderr",
          "text": [
            "\r 30%|███       | 302/1000 [17:39<40:36,  3.49s/it]"
          ]
        },
        {
          "output_type": "stream",
          "name": "stdout",
          "text": [
            "Training loss: 0.0011\n",
            "Training metric: 0.9538\n",
            "perturbation loss: 0.0087\n",
            "Validation acc: 0.9609\n",
            "\n",
            "Start of epoch 302\n"
          ]
        },
        {
          "output_type": "stream",
          "name": "stderr",
          "text": [
            "\r 30%|███       | 303/1000 [17:43<40:32,  3.49s/it]"
          ]
        },
        {
          "output_type": "stream",
          "name": "stdout",
          "text": [
            "Training loss: 0.0021\n",
            "Training metric: 0.9539\n",
            "perturbation loss: 0.0096\n",
            "Validation acc: 0.9297\n",
            "\n",
            "Start of epoch 303\n"
          ]
        },
        {
          "output_type": "stream",
          "name": "stderr",
          "text": [
            "\r 30%|███       | 304/1000 [17:46<40:28,  3.49s/it]"
          ]
        },
        {
          "output_type": "stream",
          "name": "stdout",
          "text": [
            "Training loss: 0.0013\n",
            "Training metric: 0.9541\n",
            "perturbation loss: 0.0061\n",
            "Validation acc: 0.9531\n",
            "\n",
            "Start of epoch 304\n"
          ]
        },
        {
          "output_type": "stream",
          "name": "stderr",
          "text": [
            "\r 30%|███       | 305/1000 [17:50<40:25,  3.49s/it]"
          ]
        },
        {
          "output_type": "stream",
          "name": "stdout",
          "text": [
            "Training loss: 0.0015\n",
            "Training metric: 0.9542\n",
            "perturbation loss: 0.0015\n",
            "Validation acc: 0.9453\n",
            "\n",
            "Start of epoch 305\n"
          ]
        },
        {
          "output_type": "stream",
          "name": "stderr",
          "text": [
            "\r 31%|███       | 306/1000 [17:53<40:22,  3.49s/it]"
          ]
        },
        {
          "output_type": "stream",
          "name": "stdout",
          "text": [
            "Training loss: 0.0470\n",
            "Training metric: 0.9543\n",
            "perturbation loss: 0.0831\n",
            "Validation acc: 0.9141\n",
            "\n",
            "Start of epoch 306\n"
          ]
        },
        {
          "output_type": "stream",
          "name": "stderr",
          "text": [
            "\r 31%|███       | 307/1000 [17:57<40:19,  3.49s/it]"
          ]
        },
        {
          "output_type": "stream",
          "name": "stdout",
          "text": [
            "Training loss: 0.0010\n",
            "Training metric: 0.9545\n",
            "perturbation loss: 0.0051\n",
            "Validation acc: 0.9609\n",
            "\n",
            "Start of epoch 307\n"
          ]
        },
        {
          "output_type": "stream",
          "name": "stderr",
          "text": [
            "\r 31%|███       | 308/1000 [18:00<40:16,  3.49s/it]"
          ]
        },
        {
          "output_type": "stream",
          "name": "stdout",
          "text": [
            "Training loss: 0.0018\n",
            "Training metric: 0.9546\n",
            "perturbation loss: 0.0179\n",
            "Validation acc: 0.9531\n",
            "\n",
            "Start of epoch 308\n"
          ]
        },
        {
          "output_type": "stream",
          "name": "stderr",
          "text": [
            "\r 31%|███       | 309/1000 [18:04<40:12,  3.49s/it]"
          ]
        },
        {
          "output_type": "stream",
          "name": "stdout",
          "text": [
            "Training loss: 0.0200\n",
            "Training metric: 0.9547\n",
            "perturbation loss: 0.0750\n",
            "Validation acc: 0.9297\n",
            "\n",
            "Start of epoch 309\n"
          ]
        },
        {
          "output_type": "stream",
          "name": "stderr",
          "text": [
            "\r 31%|███       | 310/1000 [18:07<40:09,  3.49s/it]"
          ]
        },
        {
          "output_type": "stream",
          "name": "stdout",
          "text": [
            "Training loss: 0.0219\n",
            "Training metric: 0.9548\n",
            "perturbation loss: 0.0607\n",
            "Validation acc: 0.9297\n",
            "\n",
            "Start of epoch 310\n"
          ]
        },
        {
          "output_type": "stream",
          "name": "stderr",
          "text": [
            "\r 31%|███       | 311/1000 [18:11<40:05,  3.49s/it]"
          ]
        },
        {
          "output_type": "stream",
          "name": "stdout",
          "text": [
            "Training loss: 0.0212\n",
            "Training metric: 0.9549\n",
            "perturbation loss: 0.0455\n",
            "Validation acc: 0.9297\n",
            "\n",
            "Start of epoch 311\n"
          ]
        },
        {
          "output_type": "stream",
          "name": "stderr",
          "text": [
            "\r 31%|███       | 312/1000 [18:14<40:02,  3.49s/it]"
          ]
        },
        {
          "output_type": "stream",
          "name": "stdout",
          "text": [
            "Training loss: 0.0005\n",
            "Training metric: 0.9551\n",
            "perturbation loss: 0.0024\n",
            "Validation acc: 0.9297\n",
            "\n",
            "Start of epoch 312\n"
          ]
        },
        {
          "output_type": "stream",
          "name": "stderr",
          "text": [
            "\r 31%|███▏      | 313/1000 [18:18<40:03,  3.50s/it]"
          ]
        },
        {
          "output_type": "stream",
          "name": "stdout",
          "text": [
            "Training loss: 0.0005\n",
            "Training metric: 0.9552\n",
            "perturbation loss: 0.0016\n",
            "Validation acc: 0.9297\n",
            "\n",
            "Start of epoch 313\n"
          ]
        },
        {
          "output_type": "stream",
          "name": "stderr",
          "text": [
            "\r 31%|███▏      | 314/1000 [18:21<39:58,  3.50s/it]"
          ]
        },
        {
          "output_type": "stream",
          "name": "stdout",
          "text": [
            "Training loss: 0.0002\n",
            "Training metric: 0.9553\n",
            "perturbation loss: 0.0011\n",
            "Validation acc: 0.9453\n",
            "\n",
            "Start of epoch 314\n"
          ]
        },
        {
          "output_type": "stream",
          "name": "stderr",
          "text": [
            "\r 32%|███▏      | 315/1000 [18:24<39:53,  3.49s/it]"
          ]
        },
        {
          "output_type": "stream",
          "name": "stdout",
          "text": [
            "Training loss: 0.0014\n",
            "Training metric: 0.9555\n",
            "perturbation loss: 0.0241\n",
            "Validation acc: 0.9531\n",
            "\n",
            "Start of epoch 315\n"
          ]
        },
        {
          "output_type": "stream",
          "name": "stderr",
          "text": [
            "\r 32%|███▏      | 316/1000 [18:28<39:50,  3.50s/it]"
          ]
        },
        {
          "output_type": "stream",
          "name": "stdout",
          "text": [
            "Training loss: 0.0012\n",
            "Training metric: 0.9556\n",
            "perturbation loss: 0.0039\n",
            "Validation acc: 0.9375\n",
            "\n",
            "Start of epoch 316\n"
          ]
        },
        {
          "output_type": "stream",
          "name": "stderr",
          "text": [
            "\r 32%|███▏      | 317/1000 [18:31<39:46,  3.49s/it]"
          ]
        },
        {
          "output_type": "stream",
          "name": "stdout",
          "text": [
            "Training loss: 0.0000\n",
            "Training metric: 0.9558\n",
            "perturbation loss: 0.0004\n",
            "Validation acc: 0.9453\n",
            "\n",
            "Start of epoch 317\n"
          ]
        },
        {
          "output_type": "stream",
          "name": "stderr",
          "text": [
            "\r 32%|███▏      | 318/1000 [18:35<39:42,  3.49s/it]"
          ]
        },
        {
          "output_type": "stream",
          "name": "stdout",
          "text": [
            "Training loss: 0.0019\n",
            "Training metric: 0.9559\n",
            "perturbation loss: 0.0056\n",
            "Validation acc: 0.9531\n",
            "\n",
            "Start of epoch 318\n"
          ]
        },
        {
          "output_type": "stream",
          "name": "stderr",
          "text": [
            "\r 32%|███▏      | 319/1000 [18:38<39:38,  3.49s/it]"
          ]
        },
        {
          "output_type": "stream",
          "name": "stdout",
          "text": [
            "Training loss: 0.0002\n",
            "Training metric: 0.9560\n",
            "perturbation loss: 0.0007\n",
            "Validation acc: 0.9531\n",
            "\n",
            "Start of epoch 319\n"
          ]
        },
        {
          "output_type": "stream",
          "name": "stderr",
          "text": [
            "\r 32%|███▏      | 320/1000 [18:42<39:34,  3.49s/it]"
          ]
        },
        {
          "output_type": "stream",
          "name": "stdout",
          "text": [
            "Training loss: 0.0003\n",
            "Training metric: 0.9562\n",
            "perturbation loss: 0.0013\n",
            "Validation acc: 0.9375\n",
            "\n",
            "Start of epoch 320\n"
          ]
        },
        {
          "output_type": "stream",
          "name": "stderr",
          "text": [
            "\r 32%|███▏      | 321/1000 [18:45<39:31,  3.49s/it]"
          ]
        },
        {
          "output_type": "stream",
          "name": "stdout",
          "text": [
            "Training loss: 0.0001\n",
            "Training metric: 0.9563\n",
            "perturbation loss: 0.0010\n",
            "Validation acc: 0.9375\n",
            "\n",
            "Start of epoch 321\n"
          ]
        },
        {
          "output_type": "stream",
          "name": "stderr",
          "text": [
            "\r 32%|███▏      | 322/1000 [18:49<39:27,  3.49s/it]"
          ]
        },
        {
          "output_type": "stream",
          "name": "stdout",
          "text": [
            "Training loss: 0.0004\n",
            "Training metric: 0.9565\n",
            "perturbation loss: 0.0044\n",
            "Validation acc: 0.9219\n",
            "\n",
            "Start of epoch 322\n"
          ]
        },
        {
          "output_type": "stream",
          "name": "stderr",
          "text": [
            "\r 32%|███▏      | 323/1000 [18:52<39:25,  3.49s/it]"
          ]
        },
        {
          "output_type": "stream",
          "name": "stdout",
          "text": [
            "Training loss: 0.0002\n",
            "Training metric: 0.9566\n",
            "perturbation loss: 0.0005\n",
            "Validation acc: 0.9297\n",
            "\n",
            "Start of epoch 323\n"
          ]
        },
        {
          "output_type": "stream",
          "name": "stderr",
          "text": [
            "\r 32%|███▏      | 324/1000 [18:56<39:21,  3.49s/it]"
          ]
        },
        {
          "output_type": "stream",
          "name": "stdout",
          "text": [
            "Training loss: 0.0001\n",
            "Training metric: 0.9567\n",
            "perturbation loss: 0.0004\n",
            "Validation acc: 0.9297\n",
            "\n",
            "Start of epoch 324\n"
          ]
        },
        {
          "output_type": "stream",
          "name": "stderr",
          "text": [
            "\r 32%|███▎      | 325/1000 [18:59<39:17,  3.49s/it]"
          ]
        },
        {
          "output_type": "stream",
          "name": "stdout",
          "text": [
            "Training loss: 0.0017\n",
            "Training metric: 0.9568\n",
            "perturbation loss: 0.0205\n",
            "Validation acc: 0.9375\n",
            "\n",
            "Start of epoch 325\n"
          ]
        },
        {
          "output_type": "stream",
          "name": "stderr",
          "text": [
            "\r 33%|███▎      | 326/1000 [19:03<39:14,  3.49s/it]"
          ]
        },
        {
          "output_type": "stream",
          "name": "stdout",
          "text": [
            "Training loss: 0.0086\n",
            "Training metric: 0.9569\n",
            "perturbation loss: 0.0729\n",
            "Validation acc: 0.9531\n",
            "\n",
            "Start of epoch 326\n"
          ]
        },
        {
          "output_type": "stream",
          "name": "stderr",
          "text": [
            "\r 33%|███▎      | 327/1000 [19:06<39:09,  3.49s/it]"
          ]
        },
        {
          "output_type": "stream",
          "name": "stdout",
          "text": [
            "Training loss: 0.1564\n",
            "Training metric: 0.9570\n",
            "perturbation loss: 0.0242\n",
            "Validation acc: 0.9219\n",
            "\n",
            "Start of epoch 327\n"
          ]
        },
        {
          "output_type": "stream",
          "name": "stderr",
          "text": [
            "\r 33%|███▎      | 328/1000 [19:10<39:05,  3.49s/it]"
          ]
        },
        {
          "output_type": "stream",
          "name": "stdout",
          "text": [
            "Training loss: 0.0013\n",
            "Training metric: 0.9571\n",
            "perturbation loss: 0.0080\n",
            "Validation acc: 0.9297\n",
            "\n",
            "Start of epoch 328\n"
          ]
        },
        {
          "output_type": "stream",
          "name": "stderr",
          "text": [
            "\r 33%|███▎      | 329/1000 [19:13<39:01,  3.49s/it]"
          ]
        },
        {
          "output_type": "stream",
          "name": "stdout",
          "text": [
            "Training loss: 0.0031\n",
            "Training metric: 0.9573\n",
            "perturbation loss: 0.0131\n",
            "Validation acc: 0.9609\n",
            "\n",
            "Start of epoch 329\n"
          ]
        },
        {
          "output_type": "stream",
          "name": "stderr",
          "text": [
            "\r 33%|███▎      | 330/1000 [19:17<38:59,  3.49s/it]"
          ]
        },
        {
          "output_type": "stream",
          "name": "stdout",
          "text": [
            "Training loss: 0.0109\n",
            "Training metric: 0.9574\n",
            "perturbation loss: 0.0252\n",
            "Validation acc: 0.9531\n",
            "\n",
            "Start of epoch 330\n"
          ]
        },
        {
          "output_type": "stream",
          "name": "stderr",
          "text": [
            "\r 33%|███▎      | 331/1000 [19:20<38:55,  3.49s/it]"
          ]
        },
        {
          "output_type": "stream",
          "name": "stdout",
          "text": [
            "Training loss: 0.0001\n",
            "Training metric: 0.9575\n",
            "perturbation loss: 0.0006\n",
            "Validation acc: 0.9375\n",
            "\n",
            "Start of epoch 331\n"
          ]
        },
        {
          "output_type": "stream",
          "name": "stderr",
          "text": [
            "\r 33%|███▎      | 332/1000 [19:24<38:51,  3.49s/it]"
          ]
        },
        {
          "output_type": "stream",
          "name": "stdout",
          "text": [
            "Training loss: 0.0003\n",
            "Training metric: 0.9576\n",
            "perturbation loss: 0.0021\n",
            "Validation acc: 0.9453\n",
            "\n",
            "Start of epoch 332\n"
          ]
        },
        {
          "output_type": "stream",
          "name": "stderr",
          "text": [
            "\r 33%|███▎      | 333/1000 [19:27<38:51,  3.50s/it]"
          ]
        },
        {
          "output_type": "stream",
          "name": "stdout",
          "text": [
            "Training loss: 0.0015\n",
            "Training metric: 0.9578\n",
            "perturbation loss: 0.0111\n",
            "Validation acc: 0.9453\n",
            "\n",
            "Start of epoch 333\n"
          ]
        },
        {
          "output_type": "stream",
          "name": "stderr",
          "text": [
            "\r 33%|███▎      | 334/1000 [19:31<38:47,  3.49s/it]"
          ]
        },
        {
          "output_type": "stream",
          "name": "stdout",
          "text": [
            "Training loss: 0.0055\n",
            "Training metric: 0.9579\n",
            "perturbation loss: 0.0149\n",
            "Validation acc: 0.9375\n",
            "\n",
            "Start of epoch 334\n"
          ]
        },
        {
          "output_type": "stream",
          "name": "stderr",
          "text": [
            "\r 34%|███▎      | 335/1000 [19:34<38:44,  3.50s/it]"
          ]
        },
        {
          "output_type": "stream",
          "name": "stdout",
          "text": [
            "Training loss: 0.0011\n",
            "Training metric: 0.9580\n",
            "perturbation loss: 0.0170\n",
            "Validation acc: 0.9375\n",
            "\n",
            "Start of epoch 335\n"
          ]
        },
        {
          "output_type": "stream",
          "name": "stderr",
          "text": [
            "\r 34%|███▎      | 336/1000 [19:38<38:40,  3.49s/it]"
          ]
        },
        {
          "output_type": "stream",
          "name": "stdout",
          "text": [
            "Training loss: 0.0003\n",
            "Training metric: 0.9581\n",
            "perturbation loss: 0.0031\n",
            "Validation acc: 0.9453\n",
            "\n",
            "Start of epoch 336\n"
          ]
        },
        {
          "output_type": "stream",
          "name": "stderr",
          "text": [
            "\r 34%|███▎      | 337/1000 [19:41<38:37,  3.50s/it]"
          ]
        },
        {
          "output_type": "stream",
          "name": "stdout",
          "text": [
            "Training loss: 0.0011\n",
            "Training metric: 0.9583\n",
            "perturbation loss: 0.0133\n",
            "Validation acc: 0.9219\n",
            "\n",
            "Start of epoch 337\n"
          ]
        },
        {
          "output_type": "stream",
          "name": "stderr",
          "text": [
            "\r 34%|███▍      | 338/1000 [19:45<38:32,  3.49s/it]"
          ]
        },
        {
          "output_type": "stream",
          "name": "stdout",
          "text": [
            "Training loss: 0.0012\n",
            "Training metric: 0.9584\n",
            "perturbation loss: 0.0046\n",
            "Validation acc: 0.9453\n",
            "\n",
            "Start of epoch 338\n"
          ]
        },
        {
          "output_type": "stream",
          "name": "stderr",
          "text": [
            "\r 34%|███▍      | 339/1000 [19:48<38:28,  3.49s/it]"
          ]
        },
        {
          "output_type": "stream",
          "name": "stdout",
          "text": [
            "Training loss: 0.0046\n",
            "Training metric: 0.9585\n",
            "perturbation loss: 0.0297\n",
            "Validation acc: 0.9219\n",
            "\n",
            "Start of epoch 339\n"
          ]
        },
        {
          "output_type": "stream",
          "name": "stderr",
          "text": [
            "\r 34%|███▍      | 340/1000 [19:52<38:26,  3.49s/it]"
          ]
        },
        {
          "output_type": "stream",
          "name": "stdout",
          "text": [
            "Training loss: 0.0017\n",
            "Training metric: 0.9586\n",
            "perturbation loss: 0.0097\n",
            "Validation acc: 0.9453\n",
            "\n",
            "Start of epoch 340\n"
          ]
        },
        {
          "output_type": "stream",
          "name": "stderr",
          "text": [
            "\r 34%|███▍      | 341/1000 [19:55<38:23,  3.50s/it]"
          ]
        },
        {
          "output_type": "stream",
          "name": "stdout",
          "text": [
            "Training loss: 0.0013\n",
            "Training metric: 0.9587\n",
            "perturbation loss: 0.0009\n",
            "Validation acc: 0.9453\n",
            "\n",
            "Start of epoch 341\n"
          ]
        },
        {
          "output_type": "stream",
          "name": "stderr",
          "text": [
            "\r 34%|███▍      | 342/1000 [19:59<38:19,  3.49s/it]"
          ]
        },
        {
          "output_type": "stream",
          "name": "stdout",
          "text": [
            "Training loss: 0.0001\n",
            "Training metric: 0.9588\n",
            "perturbation loss: 0.0006\n",
            "Validation acc: 0.9453\n",
            "\n",
            "Start of epoch 342\n"
          ]
        },
        {
          "output_type": "stream",
          "name": "stderr",
          "text": [
            "\r 34%|███▍      | 343/1000 [20:02<38:14,  3.49s/it]"
          ]
        },
        {
          "output_type": "stream",
          "name": "stdout",
          "text": [
            "Training loss: 0.0057\n",
            "Training metric: 0.9589\n",
            "perturbation loss: 0.0557\n",
            "Validation acc: 0.9375\n",
            "\n",
            "Start of epoch 343\n"
          ]
        },
        {
          "output_type": "stream",
          "name": "stderr",
          "text": [
            "\r 34%|███▍      | 344/1000 [20:06<38:10,  3.49s/it]"
          ]
        },
        {
          "output_type": "stream",
          "name": "stdout",
          "text": [
            "Training loss: 0.0001\n",
            "Training metric: 0.9591\n",
            "perturbation loss: 0.0010\n",
            "Validation acc: 0.9219\n",
            "\n",
            "Start of epoch 344\n"
          ]
        },
        {
          "output_type": "stream",
          "name": "stderr",
          "text": [
            "\r 34%|███▍      | 345/1000 [20:09<38:07,  3.49s/it]"
          ]
        },
        {
          "output_type": "stream",
          "name": "stdout",
          "text": [
            "Training loss: 0.0046\n",
            "Training metric: 0.9592\n",
            "perturbation loss: 0.0204\n",
            "Validation acc: 0.9453\n",
            "\n",
            "Start of epoch 345\n"
          ]
        },
        {
          "output_type": "stream",
          "name": "stderr",
          "text": [
            "\r 35%|███▍      | 346/1000 [20:13<38:03,  3.49s/it]"
          ]
        },
        {
          "output_type": "stream",
          "name": "stdout",
          "text": [
            "Training loss: 0.0002\n",
            "Training metric: 0.9593\n",
            "perturbation loss: 0.0014\n",
            "Validation acc: 0.9609\n",
            "\n",
            "Start of epoch 346\n"
          ]
        },
        {
          "output_type": "stream",
          "name": "stderr",
          "text": [
            "\r 35%|███▍      | 347/1000 [20:16<37:59,  3.49s/it]"
          ]
        },
        {
          "output_type": "stream",
          "name": "stdout",
          "text": [
            "Training loss: 0.0000\n",
            "Training metric: 0.9594\n",
            "perturbation loss: 0.0003\n",
            "Validation acc: 0.9609\n",
            "\n",
            "Start of epoch 347\n"
          ]
        },
        {
          "output_type": "stream",
          "name": "stderr",
          "text": [
            "\r 35%|███▍      | 348/1000 [20:20<37:55,  3.49s/it]"
          ]
        },
        {
          "output_type": "stream",
          "name": "stdout",
          "text": [
            "Training loss: 0.0000\n",
            "Training metric: 0.9595\n",
            "perturbation loss: 0.0004\n",
            "Validation acc: 0.9609\n",
            "\n",
            "Start of epoch 348\n"
          ]
        },
        {
          "output_type": "stream",
          "name": "stderr",
          "text": [
            "\r 35%|███▍      | 349/1000 [20:23<37:51,  3.49s/it]"
          ]
        },
        {
          "output_type": "stream",
          "name": "stdout",
          "text": [
            "Training loss: 0.0002\n",
            "Training metric: 0.9596\n",
            "perturbation loss: 0.0009\n",
            "Validation acc: 0.9609\n",
            "\n",
            "Start of epoch 349\n"
          ]
        },
        {
          "output_type": "stream",
          "name": "stderr",
          "text": [
            "\r 35%|███▌      | 350/1000 [20:27<37:48,  3.49s/it]"
          ]
        },
        {
          "output_type": "stream",
          "name": "stdout",
          "text": [
            "Training loss: 0.0045\n",
            "Training metric: 0.9598\n",
            "perturbation loss: 0.0006\n",
            "Validation acc: 0.9609\n",
            "\n",
            "Start of epoch 350\n"
          ]
        },
        {
          "output_type": "stream",
          "name": "stderr",
          "text": [
            "\r 35%|███▌      | 351/1000 [20:30<37:44,  3.49s/it]"
          ]
        },
        {
          "output_type": "stream",
          "name": "stdout",
          "text": [
            "Training loss: 0.0034\n",
            "Training metric: 0.9598\n",
            "perturbation loss: 0.0217\n",
            "Validation acc: 0.9219\n",
            "\n",
            "Start of epoch 351\n"
          ]
        },
        {
          "output_type": "stream",
          "name": "stderr",
          "text": [
            "\r 35%|███▌      | 352/1000 [20:34<37:41,  3.49s/it]"
          ]
        },
        {
          "output_type": "stream",
          "name": "stdout",
          "text": [
            "Training loss: 0.0247\n",
            "Training metric: 0.9599\n",
            "perturbation loss: 0.0271\n",
            "Validation acc: 0.8984\n",
            "\n",
            "Start of epoch 352\n"
          ]
        },
        {
          "output_type": "stream",
          "name": "stderr",
          "text": [
            "\r 35%|███▌      | 353/1000 [20:37<37:37,  3.49s/it]"
          ]
        },
        {
          "output_type": "stream",
          "name": "stdout",
          "text": [
            "Training loss: 0.0004\n",
            "Training metric: 0.9600\n",
            "perturbation loss: 0.0022\n",
            "Validation acc: 0.9062\n",
            "\n",
            "Start of epoch 353\n"
          ]
        },
        {
          "output_type": "stream",
          "name": "stderr",
          "text": [
            "\r 35%|███▌      | 354/1000 [20:41<37:34,  3.49s/it]"
          ]
        },
        {
          "output_type": "stream",
          "name": "stdout",
          "text": [
            "Training loss: 0.0013\n",
            "Training metric: 0.9602\n",
            "perturbation loss: 0.0058\n",
            "Validation acc: 0.9453\n",
            "\n",
            "Start of epoch 354\n"
          ]
        },
        {
          "output_type": "stream",
          "name": "stderr",
          "text": [
            "\r 36%|███▌      | 355/1000 [20:44<37:32,  3.49s/it]"
          ]
        },
        {
          "output_type": "stream",
          "name": "stdout",
          "text": [
            "Training loss: 0.0001\n",
            "Training metric: 0.9603\n",
            "perturbation loss: 0.0007\n",
            "Validation acc: 0.9453\n",
            "\n",
            "Start of epoch 355\n"
          ]
        },
        {
          "output_type": "stream",
          "name": "stderr",
          "text": [
            "\r 36%|███▌      | 356/1000 [20:48<37:28,  3.49s/it]"
          ]
        },
        {
          "output_type": "stream",
          "name": "stdout",
          "text": [
            "Training loss: 0.0006\n",
            "Training metric: 0.9604\n",
            "perturbation loss: 0.0051\n",
            "Validation acc: 0.9297\n",
            "\n",
            "Start of epoch 356\n"
          ]
        },
        {
          "output_type": "stream",
          "name": "stderr",
          "text": [
            "\r 36%|███▌      | 357/1000 [20:51<37:26,  3.49s/it]"
          ]
        },
        {
          "output_type": "stream",
          "name": "stdout",
          "text": [
            "Training loss: 0.0386\n",
            "Training metric: 0.9605\n",
            "perturbation loss: 0.0476\n",
            "Validation acc: 0.9766\n",
            "\n",
            "Start of epoch 357\n"
          ]
        },
        {
          "output_type": "stream",
          "name": "stderr",
          "text": [
            "\r 36%|███▌      | 358/1000 [20:55<37:23,  3.49s/it]"
          ]
        },
        {
          "output_type": "stream",
          "name": "stdout",
          "text": [
            "Training loss: 0.0001\n",
            "Training metric: 0.9606\n",
            "perturbation loss: 0.0013\n",
            "Validation acc: 0.9062\n",
            "\n",
            "Start of epoch 358\n"
          ]
        },
        {
          "output_type": "stream",
          "name": "stderr",
          "text": [
            "\r 36%|███▌      | 359/1000 [20:58<37:18,  3.49s/it]"
          ]
        },
        {
          "output_type": "stream",
          "name": "stdout",
          "text": [
            "Training loss: 0.0394\n",
            "Training metric: 0.9607\n",
            "perturbation loss: 0.0789\n",
            "Validation acc: 0.8984\n",
            "\n",
            "Start of epoch 359\n"
          ]
        },
        {
          "output_type": "stream",
          "name": "stderr",
          "text": [
            "\r 36%|███▌      | 360/1000 [21:02<37:15,  3.49s/it]"
          ]
        },
        {
          "output_type": "stream",
          "name": "stdout",
          "text": [
            "Training loss: 0.0185\n",
            "Training metric: 0.9608\n",
            "perturbation loss: 0.0313\n",
            "Validation acc: 0.9531\n",
            "\n",
            "Start of epoch 360\n"
          ]
        },
        {
          "output_type": "stream",
          "name": "stderr",
          "text": [
            "\r 36%|███▌      | 361/1000 [21:05<37:09,  3.49s/it]"
          ]
        },
        {
          "output_type": "stream",
          "name": "stdout",
          "text": [
            "Training loss: 0.0115\n",
            "Training metric: 0.9609\n",
            "perturbation loss: 0.0116\n",
            "Validation acc: 0.9531\n",
            "\n",
            "Start of epoch 361\n"
          ]
        },
        {
          "output_type": "stream",
          "name": "stderr",
          "text": [
            "\r 36%|███▌      | 362/1000 [21:09<37:06,  3.49s/it]"
          ]
        },
        {
          "output_type": "stream",
          "name": "stdout",
          "text": [
            "Training loss: 0.0001\n",
            "Training metric: 0.9610\n",
            "perturbation loss: 0.0010\n",
            "Validation acc: 0.9453\n",
            "\n",
            "Start of epoch 362\n"
          ]
        },
        {
          "output_type": "stream",
          "name": "stderr",
          "text": [
            "\r 36%|███▋      | 363/1000 [21:12<37:03,  3.49s/it]"
          ]
        },
        {
          "output_type": "stream",
          "name": "stdout",
          "text": [
            "Training loss: 0.0000\n",
            "Training metric: 0.9611\n",
            "perturbation loss: 0.0005\n",
            "Validation acc: 0.9531\n",
            "\n",
            "Start of epoch 363\n"
          ]
        },
        {
          "output_type": "stream",
          "name": "stderr",
          "text": [
            "\r 36%|███▋      | 364/1000 [21:16<37:00,  3.49s/it]"
          ]
        },
        {
          "output_type": "stream",
          "name": "stdout",
          "text": [
            "Training loss: 0.0003\n",
            "Training metric: 0.9612\n",
            "perturbation loss: 0.0020\n",
            "Validation acc: 0.9609\n",
            "\n",
            "Start of epoch 364\n"
          ]
        },
        {
          "output_type": "stream",
          "name": "stderr",
          "text": [
            "\r 36%|███▋      | 365/1000 [21:19<36:57,  3.49s/it]"
          ]
        },
        {
          "output_type": "stream",
          "name": "stdout",
          "text": [
            "Training loss: 0.0005\n",
            "Training metric: 0.9613\n",
            "perturbation loss: 0.0018\n",
            "Validation acc: 0.9531\n",
            "\n",
            "Start of epoch 365\n"
          ]
        },
        {
          "output_type": "stream",
          "name": "stderr",
          "text": [
            "\r 37%|███▋      | 366/1000 [21:23<36:53,  3.49s/it]"
          ]
        },
        {
          "output_type": "stream",
          "name": "stdout",
          "text": [
            "Training loss: 0.0002\n",
            "Training metric: 0.9614\n",
            "perturbation loss: 0.0035\n",
            "Validation acc: 0.9453\n",
            "\n",
            "Start of epoch 366\n"
          ]
        },
        {
          "output_type": "stream",
          "name": "stderr",
          "text": [
            "\r 37%|███▋      | 367/1000 [21:26<36:51,  3.49s/it]"
          ]
        },
        {
          "output_type": "stream",
          "name": "stdout",
          "text": [
            "Training loss: 0.0000\n",
            "Training metric: 0.9615\n",
            "perturbation loss: 0.0003\n",
            "Validation acc: 0.9375\n",
            "\n",
            "Start of epoch 367\n"
          ]
        },
        {
          "output_type": "stream",
          "name": "stderr",
          "text": [
            "\r 37%|███▋      | 368/1000 [21:30<36:47,  3.49s/it]"
          ]
        },
        {
          "output_type": "stream",
          "name": "stdout",
          "text": [
            "Training loss: 0.0004\n",
            "Training metric: 0.9616\n",
            "perturbation loss: 0.0047\n",
            "Validation acc: 0.9375\n",
            "\n",
            "Start of epoch 368\n"
          ]
        },
        {
          "output_type": "stream",
          "name": "stderr",
          "text": [
            "\r 37%|███▋      | 369/1000 [21:33<36:44,  3.49s/it]"
          ]
        },
        {
          "output_type": "stream",
          "name": "stdout",
          "text": [
            "Training loss: 0.0007\n",
            "Training metric: 0.9617\n",
            "perturbation loss: 0.0019\n",
            "Validation acc: 0.9453\n",
            "\n",
            "Start of epoch 369\n"
          ]
        },
        {
          "output_type": "stream",
          "name": "stderr",
          "text": [
            "\r 37%|███▋      | 370/1000 [21:37<36:40,  3.49s/it]"
          ]
        },
        {
          "output_type": "stream",
          "name": "stdout",
          "text": [
            "Training loss: 0.0001\n",
            "Training metric: 0.9618\n",
            "perturbation loss: 0.0002\n",
            "Validation acc: 0.9375\n",
            "\n",
            "Start of epoch 370\n"
          ]
        },
        {
          "output_type": "stream",
          "name": "stderr",
          "text": [
            "\r 37%|███▋      | 371/1000 [21:40<36:36,  3.49s/it]"
          ]
        },
        {
          "output_type": "stream",
          "name": "stdout",
          "text": [
            "Training loss: 0.0000\n",
            "Training metric: 0.9619\n",
            "perturbation loss: 0.0001\n",
            "Validation acc: 0.9453\n",
            "\n",
            "Start of epoch 371\n"
          ]
        },
        {
          "output_type": "stream",
          "name": "stderr",
          "text": [
            "\r 37%|███▋      | 372/1000 [21:44<36:32,  3.49s/it]"
          ]
        },
        {
          "output_type": "stream",
          "name": "stdout",
          "text": [
            "Training loss: 0.0000\n",
            "Training metric: 0.9620\n",
            "perturbation loss: 0.0003\n",
            "Validation acc: 0.9531\n",
            "\n",
            "Start of epoch 372\n"
          ]
        },
        {
          "output_type": "stream",
          "name": "stderr",
          "text": [
            "\r 37%|███▋      | 373/1000 [21:47<36:30,  3.49s/it]"
          ]
        },
        {
          "output_type": "stream",
          "name": "stdout",
          "text": [
            "Training loss: 0.0000\n",
            "Training metric: 0.9621\n",
            "perturbation loss: 0.0003\n",
            "Validation acc: 0.9531\n",
            "\n",
            "Start of epoch 373\n"
          ]
        },
        {
          "output_type": "stream",
          "name": "stderr",
          "text": [
            "\r 37%|███▋      | 374/1000 [21:51<36:26,  3.49s/it]"
          ]
        },
        {
          "output_type": "stream",
          "name": "stdout",
          "text": [
            "Training loss: 0.0001\n",
            "Training metric: 0.9622\n",
            "perturbation loss: 0.0008\n",
            "Validation acc: 0.9531\n",
            "\n",
            "Start of epoch 374\n"
          ]
        },
        {
          "output_type": "stream",
          "name": "stderr",
          "text": [
            "\r 38%|███▊      | 375/1000 [21:54<36:22,  3.49s/it]"
          ]
        },
        {
          "output_type": "stream",
          "name": "stdout",
          "text": [
            "Training loss: 0.0000\n",
            "Training metric: 0.9623\n",
            "perturbation loss: 0.0001\n",
            "Validation acc: 0.9531\n",
            "\n",
            "Start of epoch 375\n"
          ]
        },
        {
          "output_type": "stream",
          "name": "stderr",
          "text": [
            "\r 38%|███▊      | 376/1000 [21:58<36:18,  3.49s/it]"
          ]
        },
        {
          "output_type": "stream",
          "name": "stdout",
          "text": [
            "Training loss: 0.0000\n",
            "Training metric: 0.9624\n",
            "perturbation loss: 0.0001\n",
            "Validation acc: 0.9453\n",
            "\n",
            "Start of epoch 376\n"
          ]
        },
        {
          "output_type": "stream",
          "name": "stderr",
          "text": [
            "\r 38%|███▊      | 377/1000 [22:01<36:14,  3.49s/it]"
          ]
        },
        {
          "output_type": "stream",
          "name": "stdout",
          "text": [
            "Training loss: 0.0000\n",
            "Training metric: 0.9625\n",
            "perturbation loss: 0.0001\n",
            "Validation acc: 0.9453\n",
            "\n",
            "Start of epoch 377\n"
          ]
        },
        {
          "output_type": "stream",
          "name": "stderr",
          "text": [
            "\r 38%|███▊      | 378/1000 [22:04<36:11,  3.49s/it]"
          ]
        },
        {
          "output_type": "stream",
          "name": "stdout",
          "text": [
            "Training loss: 0.0000\n",
            "Training metric: 0.9626\n",
            "perturbation loss: 0.0002\n",
            "Validation acc: 0.9297\n",
            "\n",
            "Start of epoch 378\n"
          ]
        },
        {
          "output_type": "stream",
          "name": "stderr",
          "text": [
            "\r 38%|███▊      | 379/1000 [22:08<36:07,  3.49s/it]"
          ]
        },
        {
          "output_type": "stream",
          "name": "stdout",
          "text": [
            "Training loss: 0.0000\n",
            "Training metric: 0.9627\n",
            "perturbation loss: 0.0000\n",
            "Validation acc: 0.9609\n",
            "\n",
            "Start of epoch 379\n"
          ]
        },
        {
          "output_type": "stream",
          "name": "stderr",
          "text": [
            "\r 38%|███▊      | 380/1000 [22:11<36:03,  3.49s/it]"
          ]
        },
        {
          "output_type": "stream",
          "name": "stdout",
          "text": [
            "Training loss: 0.0278\n",
            "Training metric: 0.9628\n",
            "perturbation loss: 0.0285\n",
            "Validation acc: 0.9609\n",
            "\n",
            "Start of epoch 380\n"
          ]
        },
        {
          "output_type": "stream",
          "name": "stderr",
          "text": [
            "\r 38%|███▊      | 381/1000 [22:15<36:00,  3.49s/it]"
          ]
        },
        {
          "output_type": "stream",
          "name": "stdout",
          "text": [
            "Training loss: 0.0241\n",
            "Training metric: 0.9629\n",
            "perturbation loss: 0.0222\n",
            "Validation acc: 0.9531\n",
            "\n",
            "Start of epoch 381\n"
          ]
        },
        {
          "output_type": "stream",
          "name": "stderr",
          "text": [
            "\r 38%|███▊      | 382/1000 [22:18<35:57,  3.49s/it]"
          ]
        },
        {
          "output_type": "stream",
          "name": "stdout",
          "text": [
            "Training loss: 0.0001\n",
            "Training metric: 0.9630\n",
            "perturbation loss: 0.0008\n",
            "Validation acc: 0.9375\n",
            "\n",
            "Start of epoch 382\n"
          ]
        },
        {
          "output_type": "stream",
          "name": "stderr",
          "text": [
            "\r 38%|███▊      | 383/1000 [22:22<35:55,  3.49s/it]"
          ]
        },
        {
          "output_type": "stream",
          "name": "stdout",
          "text": [
            "Training loss: 0.0000\n",
            "Training metric: 0.9631\n",
            "perturbation loss: 0.0002\n",
            "Validation acc: 0.9453\n",
            "\n",
            "Start of epoch 383\n"
          ]
        },
        {
          "output_type": "stream",
          "name": "stderr",
          "text": [
            "\r 38%|███▊      | 384/1000 [22:25<35:50,  3.49s/it]"
          ]
        },
        {
          "output_type": "stream",
          "name": "stdout",
          "text": [
            "Training loss: 0.0000\n",
            "Training metric: 0.9632\n",
            "perturbation loss: 0.0001\n",
            "Validation acc: 0.9531\n",
            "\n",
            "Start of epoch 384\n"
          ]
        },
        {
          "output_type": "stream",
          "name": "stderr",
          "text": [
            "\r 38%|███▊      | 385/1000 [22:29<35:47,  3.49s/it]"
          ]
        },
        {
          "output_type": "stream",
          "name": "stdout",
          "text": [
            "Training loss: 0.0001\n",
            "Training metric: 0.9633\n",
            "perturbation loss: 0.0002\n",
            "Validation acc: 0.9453\n",
            "\n",
            "Start of epoch 385\n"
          ]
        },
        {
          "output_type": "stream",
          "name": "stderr",
          "text": [
            "\r 39%|███▊      | 386/1000 [22:32<35:43,  3.49s/it]"
          ]
        },
        {
          "output_type": "stream",
          "name": "stdout",
          "text": [
            "Training loss: 0.0001\n",
            "Training metric: 0.9634\n",
            "perturbation loss: 0.0010\n",
            "Validation acc: 0.9453\n",
            "\n",
            "Start of epoch 386\n"
          ]
        },
        {
          "output_type": "stream",
          "name": "stderr",
          "text": [
            "\r 39%|███▊      | 387/1000 [22:36<35:42,  3.50s/it]"
          ]
        },
        {
          "output_type": "stream",
          "name": "stdout",
          "text": [
            "Training loss: 0.0001\n",
            "Training metric: 0.9635\n",
            "perturbation loss: 0.0004\n",
            "Validation acc: 0.9453\n",
            "\n",
            "Start of epoch 387\n"
          ]
        },
        {
          "output_type": "stream",
          "name": "stderr",
          "text": [
            "\r 39%|███▉      | 388/1000 [22:39<35:40,  3.50s/it]"
          ]
        },
        {
          "output_type": "stream",
          "name": "stdout",
          "text": [
            "Training loss: 0.0001\n",
            "Training metric: 0.9636\n",
            "perturbation loss: 0.0003\n",
            "Validation acc: 0.9453\n",
            "\n",
            "Start of epoch 388\n"
          ]
        },
        {
          "output_type": "stream",
          "name": "stderr",
          "text": [
            "\r 39%|███▉      | 389/1000 [22:43<35:35,  3.49s/it]"
          ]
        },
        {
          "output_type": "stream",
          "name": "stdout",
          "text": [
            "Training loss: nan\n",
            "Training metric: 0.9636\n",
            "perturbation loss: nan\n",
            "Validation acc: 0.1953\n",
            "\n",
            "Start of epoch 389\n"
          ]
        },
        {
          "output_type": "stream",
          "name": "stderr",
          "text": [
            "\r 39%|███▉      | 390/1000 [22:46<35:29,  3.49s/it]"
          ]
        },
        {
          "output_type": "stream",
          "name": "stdout",
          "text": [
            "Training loss: nan\n",
            "Training metric: 0.9616\n",
            "perturbation loss: nan\n",
            "Validation acc: 0.1953\n",
            "\n",
            "Start of epoch 390\n"
          ]
        },
        {
          "output_type": "stream",
          "name": "stderr",
          "text": [
            "\r 39%|███▉      | 391/1000 [22:50<35:25,  3.49s/it]"
          ]
        },
        {
          "output_type": "stream",
          "name": "stdout",
          "text": [
            "Training loss: nan\n",
            "Training metric: 0.9597\n",
            "perturbation loss: nan\n",
            "Validation acc: 0.1953\n",
            "\n",
            "Start of epoch 391\n"
          ]
        },
        {
          "output_type": "stream",
          "name": "stderr",
          "text": [
            "\r 39%|███▉      | 392/1000 [22:53<35:21,  3.49s/it]"
          ]
        },
        {
          "output_type": "stream",
          "name": "stdout",
          "text": [
            "Training loss: nan\n",
            "Training metric: 0.9578\n",
            "perturbation loss: nan\n",
            "Validation acc: 0.1953\n",
            "\n",
            "Start of epoch 392\n"
          ]
        },
        {
          "output_type": "stream",
          "name": "stderr",
          "text": [
            "\r 39%|███▉      | 393/1000 [22:57<35:16,  3.49s/it]"
          ]
        },
        {
          "output_type": "stream",
          "name": "stdout",
          "text": [
            "Training loss: nan\n",
            "Training metric: 0.9558\n",
            "perturbation loss: nan\n",
            "Validation acc: 0.1953\n",
            "\n",
            "Start of epoch 393\n"
          ]
        },
        {
          "output_type": "stream",
          "name": "stderr",
          "text": [
            "\r 39%|███▉      | 394/1000 [23:00<35:12,  3.49s/it]"
          ]
        },
        {
          "output_type": "stream",
          "name": "stdout",
          "text": [
            "Training loss: nan\n",
            "Training metric: 0.9539\n",
            "perturbation loss: nan\n",
            "Validation acc: 0.1953\n",
            "\n",
            "Start of epoch 394\n"
          ]
        },
        {
          "output_type": "stream",
          "name": "stderr",
          "text": [
            "\r 40%|███▉      | 395/1000 [23:04<35:09,  3.49s/it]"
          ]
        },
        {
          "output_type": "stream",
          "name": "stdout",
          "text": [
            "Training loss: nan\n",
            "Training metric: 0.9520\n",
            "perturbation loss: nan\n",
            "Validation acc: 0.1953\n",
            "\n",
            "Start of epoch 395\n"
          ]
        },
        {
          "output_type": "stream",
          "name": "stderr",
          "text": [
            "\r 40%|███▉      | 396/1000 [23:07<35:05,  3.49s/it]"
          ]
        },
        {
          "output_type": "stream",
          "name": "stdout",
          "text": [
            "Training loss: nan\n",
            "Training metric: 0.9501\n",
            "perturbation loss: nan\n",
            "Validation acc: 0.1953\n",
            "\n",
            "Start of epoch 396\n"
          ]
        },
        {
          "output_type": "stream",
          "name": "stderr",
          "text": [
            "\r 40%|███▉      | 397/1000 [23:11<35:01,  3.49s/it]"
          ]
        },
        {
          "output_type": "stream",
          "name": "stdout",
          "text": [
            "Training loss: nan\n",
            "Training metric: 0.9482\n",
            "perturbation loss: nan\n",
            "Validation acc: 0.1953\n",
            "\n",
            "Start of epoch 397\n"
          ]
        },
        {
          "output_type": "stream",
          "name": "stderr",
          "text": [
            "\r 40%|███▉      | 398/1000 [23:14<34:58,  3.49s/it]"
          ]
        },
        {
          "output_type": "stream",
          "name": "stdout",
          "text": [
            "Training loss: nan\n",
            "Training metric: 0.9463\n",
            "perturbation loss: nan\n",
            "Validation acc: 0.1953\n",
            "\n",
            "Start of epoch 398\n"
          ]
        },
        {
          "output_type": "stream",
          "name": "stderr",
          "text": [
            "\r 40%|███▉      | 399/1000 [23:18<34:54,  3.49s/it]"
          ]
        },
        {
          "output_type": "stream",
          "name": "stdout",
          "text": [
            "Training loss: nan\n",
            "Training metric: 0.9445\n",
            "perturbation loss: nan\n",
            "Validation acc: 0.1953\n",
            "\n",
            "Start of epoch 399\n"
          ]
        },
        {
          "output_type": "stream",
          "name": "stderr",
          "text": [
            "\r 40%|███▉      | 399/1000 [23:18<35:06,  3.50s/it]\n"
          ]
        },
        {
          "output_type": "error",
          "ename": "KeyboardInterrupt",
          "evalue": "ignored",
          "traceback": [
            "\u001b[0;31m---------------------------------------------------------------------------\u001b[0m",
            "\u001b[0;31mKeyboardInterrupt\u001b[0m                         Traceback (most recent call last)",
            "\u001b[0;32m<ipython-input-40-fe4e98887a76>\u001b[0m in \u001b[0;36m<cell line: 10>\u001b[0;34m()\u001b[0m\n\u001b[1;32m     11\u001b[0m     \u001b[0mprint\u001b[0m\u001b[0;34m(\u001b[0m\u001b[0;34m\"\\nStart of epoch %d\"\u001b[0m \u001b[0;34m%\u001b[0m \u001b[0;34m(\u001b[0m\u001b[0mepoch\u001b[0m\u001b[0;34m,\u001b[0m\u001b[0;34m)\u001b[0m\u001b[0;34m)\u001b[0m\u001b[0;34m\u001b[0m\u001b[0;34m\u001b[0m\u001b[0m\n\u001b[1;32m     12\u001b[0m     \u001b[0;32mfor\u001b[0m \u001b[0mstep\u001b[0m\u001b[0;34m,\u001b[0m \u001b[0;34m(\u001b[0m\u001b[0mx\u001b[0m\u001b[0;34m,\u001b[0m \u001b[0mlabel\u001b[0m\u001b[0;34m,\u001b[0m \u001b[0mx_mask\u001b[0m\u001b[0;34m)\u001b[0m \u001b[0;32min\u001b[0m \u001b[0menumerate\u001b[0m\u001b[0;34m(\u001b[0m\u001b[0mtrain_dataset\u001b[0m\u001b[0;34m)\u001b[0m\u001b[0;34m:\u001b[0m\u001b[0;34m\u001b[0m\u001b[0;34m\u001b[0m\u001b[0m\n\u001b[0;32m---> 13\u001b[0;31m         \u001b[0mloss\u001b[0m\u001b[0;34m,\u001b[0m \u001b[0mtrain_acc\u001b[0m\u001b[0;34m,\u001b[0m \u001b[0ml\u001b[0m\u001b[0;34m,\u001b[0m \u001b[0mx_p\u001b[0m\u001b[0;34m,\u001b[0m \u001b[0mg\u001b[0m \u001b[0;34m=\u001b[0m \u001b[0mtraining_step\u001b[0m\u001b[0;34m(\u001b[0m\u001b[0mx\u001b[0m\u001b[0;34m,\u001b[0m \u001b[0mlabel\u001b[0m\u001b[0;34m,\u001b[0m \u001b[0mx_mask\u001b[0m\u001b[0;34m)\u001b[0m\u001b[0;34m\u001b[0m\u001b[0;34m\u001b[0m\u001b[0m\n\u001b[0m\u001b[1;32m     14\u001b[0m \u001b[0;34m\u001b[0m\u001b[0m\n\u001b[1;32m     15\u001b[0m     print(\n",
            "\u001b[0;32m/usr/local/lib/python3.10/dist-packages/tensorflow/python/util/traceback_utils.py\u001b[0m in \u001b[0;36merror_handler\u001b[0;34m(*args, **kwargs)\u001b[0m\n\u001b[1;32m    148\u001b[0m     \u001b[0mfiltered_tb\u001b[0m \u001b[0;34m=\u001b[0m \u001b[0;32mNone\u001b[0m\u001b[0;34m\u001b[0m\u001b[0;34m\u001b[0m\u001b[0m\n\u001b[1;32m    149\u001b[0m     \u001b[0;32mtry\u001b[0m\u001b[0;34m:\u001b[0m\u001b[0;34m\u001b[0m\u001b[0;34m\u001b[0m\u001b[0m\n\u001b[0;32m--> 150\u001b[0;31m       \u001b[0;32mreturn\u001b[0m \u001b[0mfn\u001b[0m\u001b[0;34m(\u001b[0m\u001b[0;34m*\u001b[0m\u001b[0margs\u001b[0m\u001b[0;34m,\u001b[0m \u001b[0;34m**\u001b[0m\u001b[0mkwargs\u001b[0m\u001b[0;34m)\u001b[0m\u001b[0;34m\u001b[0m\u001b[0;34m\u001b[0m\u001b[0m\n\u001b[0m\u001b[1;32m    151\u001b[0m     \u001b[0;32mexcept\u001b[0m \u001b[0mException\u001b[0m \u001b[0;32mas\u001b[0m \u001b[0me\u001b[0m\u001b[0;34m:\u001b[0m\u001b[0;34m\u001b[0m\u001b[0;34m\u001b[0m\u001b[0m\n\u001b[1;32m    152\u001b[0m       \u001b[0mfiltered_tb\u001b[0m \u001b[0;34m=\u001b[0m \u001b[0m_process_traceback_frames\u001b[0m\u001b[0;34m(\u001b[0m\u001b[0me\u001b[0m\u001b[0;34m.\u001b[0m\u001b[0m__traceback__\u001b[0m\u001b[0;34m)\u001b[0m\u001b[0;34m\u001b[0m\u001b[0;34m\u001b[0m\u001b[0m\n",
            "\u001b[0;32m/usr/local/lib/python3.10/dist-packages/tensorflow/python/eager/polymorphic_function/polymorphic_function.py\u001b[0m in \u001b[0;36m__call__\u001b[0;34m(self, *args, **kwds)\u001b[0m\n\u001b[1;32m    892\u001b[0m \u001b[0;34m\u001b[0m\u001b[0m\n\u001b[1;32m    893\u001b[0m       \u001b[0;32mwith\u001b[0m \u001b[0mOptionalXlaContext\u001b[0m\u001b[0;34m(\u001b[0m\u001b[0mself\u001b[0m\u001b[0;34m.\u001b[0m\u001b[0m_jit_compile\u001b[0m\u001b[0;34m)\u001b[0m\u001b[0;34m:\u001b[0m\u001b[0;34m\u001b[0m\u001b[0;34m\u001b[0m\u001b[0m\n\u001b[0;32m--> 894\u001b[0;31m         \u001b[0mresult\u001b[0m \u001b[0;34m=\u001b[0m \u001b[0mself\u001b[0m\u001b[0;34m.\u001b[0m\u001b[0m_call\u001b[0m\u001b[0;34m(\u001b[0m\u001b[0;34m*\u001b[0m\u001b[0margs\u001b[0m\u001b[0;34m,\u001b[0m \u001b[0;34m**\u001b[0m\u001b[0mkwds\u001b[0m\u001b[0;34m)\u001b[0m\u001b[0;34m\u001b[0m\u001b[0;34m\u001b[0m\u001b[0m\n\u001b[0m\u001b[1;32m    895\u001b[0m \u001b[0;34m\u001b[0m\u001b[0m\n\u001b[1;32m    896\u001b[0m       \u001b[0mnew_tracing_count\u001b[0m \u001b[0;34m=\u001b[0m \u001b[0mself\u001b[0m\u001b[0;34m.\u001b[0m\u001b[0mexperimental_get_tracing_count\u001b[0m\u001b[0;34m(\u001b[0m\u001b[0;34m)\u001b[0m\u001b[0;34m\u001b[0m\u001b[0;34m\u001b[0m\u001b[0m\n",
            "\u001b[0;32m/usr/local/lib/python3.10/dist-packages/tensorflow/python/eager/polymorphic_function/polymorphic_function.py\u001b[0m in \u001b[0;36m_call\u001b[0;34m(self, *args, **kwds)\u001b[0m\n\u001b[1;32m    931\u001b[0m       \u001b[0;31m# In this case we have not created variables on the first call. So we can\u001b[0m\u001b[0;34m\u001b[0m\u001b[0;34m\u001b[0m\u001b[0m\n\u001b[1;32m    932\u001b[0m       \u001b[0;31m# run the first trace but we should fail if variables are created.\u001b[0m\u001b[0;34m\u001b[0m\u001b[0;34m\u001b[0m\u001b[0m\n\u001b[0;32m--> 933\u001b[0;31m       \u001b[0mresults\u001b[0m \u001b[0;34m=\u001b[0m \u001b[0mself\u001b[0m\u001b[0;34m.\u001b[0m\u001b[0m_variable_creation_fn\u001b[0m\u001b[0;34m(\u001b[0m\u001b[0;34m*\u001b[0m\u001b[0margs\u001b[0m\u001b[0;34m,\u001b[0m \u001b[0;34m**\u001b[0m\u001b[0mkwds\u001b[0m\u001b[0;34m)\u001b[0m\u001b[0;34m\u001b[0m\u001b[0;34m\u001b[0m\u001b[0m\n\u001b[0m\u001b[1;32m    934\u001b[0m       \u001b[0;32mif\u001b[0m \u001b[0mself\u001b[0m\u001b[0;34m.\u001b[0m\u001b[0m_created_variables\u001b[0m \u001b[0;32mand\u001b[0m \u001b[0;32mnot\u001b[0m \u001b[0mALLOW_DYNAMIC_VARIABLE_CREATION\u001b[0m\u001b[0;34m:\u001b[0m\u001b[0;34m\u001b[0m\u001b[0;34m\u001b[0m\u001b[0m\n\u001b[1;32m    935\u001b[0m         raise ValueError(\"Creating variables on a non-first call to a function\"\n",
            "\u001b[0;32m/usr/local/lib/python3.10/dist-packages/tensorflow/python/eager/polymorphic_function/tracing_compiler.py\u001b[0m in \u001b[0;36m__call__\u001b[0;34m(self, *args, **kwargs)\u001b[0m\n\u001b[1;32m    141\u001b[0m       (concrete_function,\n\u001b[1;32m    142\u001b[0m        filtered_flat_args) = self._maybe_define_function(args, kwargs)\n\u001b[0;32m--> 143\u001b[0;31m     return concrete_function._call_flat(\n\u001b[0m\u001b[1;32m    144\u001b[0m         filtered_flat_args, captured_inputs=concrete_function.captured_inputs)  # pylint: disable=protected-access\n\u001b[1;32m    145\u001b[0m \u001b[0;34m\u001b[0m\u001b[0m\n",
            "\u001b[0;32m/usr/local/lib/python3.10/dist-packages/tensorflow/python/eager/polymorphic_function/monomorphic_function.py\u001b[0m in \u001b[0;36m_call_flat\u001b[0;34m(self, args, captured_inputs, cancellation_manager)\u001b[0m\n\u001b[1;32m   1755\u001b[0m         and executing_eagerly):\n\u001b[1;32m   1756\u001b[0m       \u001b[0;31m# No tape is watching; skip to running the function.\u001b[0m\u001b[0;34m\u001b[0m\u001b[0;34m\u001b[0m\u001b[0m\n\u001b[0;32m-> 1757\u001b[0;31m       return self._build_call_outputs(self._inference_function.call(\n\u001b[0m\u001b[1;32m   1758\u001b[0m           ctx, args, cancellation_manager=cancellation_manager))\n\u001b[1;32m   1759\u001b[0m     forward_backward = self._select_forward_and_backward_functions(\n",
            "\u001b[0;32m/usr/local/lib/python3.10/dist-packages/tensorflow/python/eager/polymorphic_function/monomorphic_function.py\u001b[0m in \u001b[0;36mcall\u001b[0;34m(self, ctx, args, cancellation_manager)\u001b[0m\n\u001b[1;32m    379\u001b[0m       \u001b[0;32mwith\u001b[0m \u001b[0m_InterpolateFunctionError\u001b[0m\u001b[0;34m(\u001b[0m\u001b[0mself\u001b[0m\u001b[0;34m)\u001b[0m\u001b[0;34m:\u001b[0m\u001b[0;34m\u001b[0m\u001b[0;34m\u001b[0m\u001b[0m\n\u001b[1;32m    380\u001b[0m         \u001b[0;32mif\u001b[0m \u001b[0mcancellation_manager\u001b[0m \u001b[0;32mis\u001b[0m \u001b[0;32mNone\u001b[0m\u001b[0;34m:\u001b[0m\u001b[0;34m\u001b[0m\u001b[0;34m\u001b[0m\u001b[0m\n\u001b[0;32m--> 381\u001b[0;31m           outputs = execute.execute(\n\u001b[0m\u001b[1;32m    382\u001b[0m               \u001b[0mstr\u001b[0m\u001b[0;34m(\u001b[0m\u001b[0mself\u001b[0m\u001b[0;34m.\u001b[0m\u001b[0msignature\u001b[0m\u001b[0;34m.\u001b[0m\u001b[0mname\u001b[0m\u001b[0;34m)\u001b[0m\u001b[0;34m,\u001b[0m\u001b[0;34m\u001b[0m\u001b[0;34m\u001b[0m\u001b[0m\n\u001b[1;32m    383\u001b[0m               \u001b[0mnum_outputs\u001b[0m\u001b[0;34m=\u001b[0m\u001b[0mself\u001b[0m\u001b[0;34m.\u001b[0m\u001b[0m_num_outputs\u001b[0m\u001b[0;34m,\u001b[0m\u001b[0;34m\u001b[0m\u001b[0;34m\u001b[0m\u001b[0m\n",
            "\u001b[0;32m/usr/local/lib/python3.10/dist-packages/tensorflow/python/eager/execute.py\u001b[0m in \u001b[0;36mquick_execute\u001b[0;34m(op_name, num_outputs, inputs, attrs, ctx, name)\u001b[0m\n\u001b[1;32m     50\u001b[0m   \u001b[0;32mtry\u001b[0m\u001b[0;34m:\u001b[0m\u001b[0;34m\u001b[0m\u001b[0;34m\u001b[0m\u001b[0m\n\u001b[1;32m     51\u001b[0m     \u001b[0mctx\u001b[0m\u001b[0;34m.\u001b[0m\u001b[0mensure_initialized\u001b[0m\u001b[0;34m(\u001b[0m\u001b[0;34m)\u001b[0m\u001b[0;34m\u001b[0m\u001b[0;34m\u001b[0m\u001b[0m\n\u001b[0;32m---> 52\u001b[0;31m     tensors = pywrap_tfe.TFE_Py_Execute(ctx._handle, device_name, op_name,\n\u001b[0m\u001b[1;32m     53\u001b[0m                                         inputs, attrs, num_outputs)\n\u001b[1;32m     54\u001b[0m   \u001b[0;32mexcept\u001b[0m \u001b[0mcore\u001b[0m\u001b[0;34m.\u001b[0m\u001b[0m_NotOkStatusException\u001b[0m \u001b[0;32mas\u001b[0m \u001b[0me\u001b[0m\u001b[0;34m:\u001b[0m\u001b[0;34m\u001b[0m\u001b[0;34m\u001b[0m\u001b[0m\n",
            "\u001b[0;31mKeyboardInterrupt\u001b[0m: "
          ]
        }
      ],
      "source": [
        "train_loss = []\n",
        "train_metric = []\n",
        "val_metric = []\n",
        "val_loss = []\n",
        "p_loss = []\n",
        "\n",
        "for step, (x, label, x_mask) in enumerate(train_dataset):\n",
        "    pre_train(x, label)\n",
        "\n",
        "for epoch in tqdm(range(1000)):\n",
        "    print(\"\\nStart of epoch %d\" % (epoch,))\n",
        "    for step, (x, label, x_mask) in enumerate(train_dataset):\n",
        "        loss, train_acc, l, x_p, g = training_step(x, label, x_mask)\n",
        "\n",
        "    print(\n",
        "        \"Training loss: %.4f\\nTraining metric: %.4f\"\n",
        "        % (float(loss), float(train_acc))\n",
        "    )\n",
        "    print(\"perturbation loss: %.4f\" % float(l))\n",
        "\n",
        "    for x_batch_val, y_batch_val in val_dataset:\n",
        "        val_logits = model(x_batch_val, training=False)\n",
        "        # Update val metrics\n",
        "        val_acc_metric.update_state(y_batch_val, val_logits)\n",
        "        v_loss = val_loss_metric(y_batch_val, val_logits)\n",
        "    val_acc = val_acc_metric.result()\n",
        "    val_acc_metric.reset_states()\n",
        "    print(\"Validation acc: %.4f\" % (float(val_acc)))\n",
        "\n",
        "    train_loss.append(loss)\n",
        "    train_metric.append(train_acc)\n",
        "    val_metric.append(val_acc)\n",
        "    val_loss.append(v_loss)\n",
        "    p_loss.append(l)\n",
        "\n",
        "    tl = np.array(train_loss)\n",
        "    tm = np.array(train_metric)\n",
        "    vm = np.array(val_metric)\n",
        "    vl = np.array(val_loss)\n",
        "    pl = np.array(p_loss)\n",
        "\n",
        "    np.savez(\"logs.npz\", train_loss=tl, train_acc=tm, val_acc=vm, p_loss=pl, val_loss=vl, x_p=x_p)"
      ]
    },
    {
      "cell_type": "code",
      "source": [],
      "metadata": {
        "id": "qFRSJQ82Fcbq"
      },
      "id": "qFRSJQ82Fcbq",
      "execution_count": null,
      "outputs": []
    }
  ],
  "metadata": {
    "kernelspec": {
      "display_name": "Python 3.10 (tensorflow)",
      "language": "python",
      "name": "tensorflow"
    },
    "language_info": {
      "codemirror_mode": {
        "name": "ipython",
        "version": 3
      },
      "file_extension": ".py",
      "mimetype": "text/x-python",
      "name": "python",
      "nbconvert_exporter": "python",
      "pygments_lexer": "ipython3",
      "version": "3.10.10"
    },
    "colab": {
      "provenance": [],
      "machine_shape": "hm",
      "gpuType": "V100"
    },
    "accelerator": "GPU"
  },
  "nbformat": 4,
  "nbformat_minor": 5
}